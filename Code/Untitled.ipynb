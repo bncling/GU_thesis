{
 "cells": [
  {
   "cell_type": "code",
   "execution_count": 7,
   "metadata": {},
   "outputs": [],
   "source": [
    "def mac_matrix(f,d,ring):\n",
    "    mons0 = monomials(list(ring.gens()), [d+1 for i in range(len(ring.gens()))])\n",
    "    mons = []\n",
    "    for mon in mons0:\n",
    "        if mon.degree() <= d:\n",
    "            mons.append(mon)\n",
    "    mons.sort()\n",
    "    mons.reverse() # for reasons I don't understand, the .sort() method respects the chosen order but reverses it\n",
    "    print(mons)\n",
    "    col_labs = []\n",
    "    for deg in range(d + 1):\n",
    "        segment = []\n",
    "        for poly in f:\n",
    "            for mon in mons:\n",
    "                label = ring(mon)*ring(poly)\n",
    "                if label.degree() == deg:\n",
    "                    segment.append(label)\n",
    "        col_labs += segment\n",
    "    return matrix([[label.monomial_coefficient(mon) for mon in mons] for label in col_labs])\n",
    "\n",
    "\n",
    "def recover_polys(M, d, ring):\n",
    "    mons0 = monomials(list(ring.gens()), [d+1 for i in range(len(ring.gens()))])\n",
    "    mons = []\n",
    "    for mon in mons0:\n",
    "        if mon.degree() <= d:\n",
    "            mons.append(mon)\n",
    "    mons.sort()\n",
    "    mons.reverse()\n",
    "    B = []\n",
    "    for row in M.rows():\n",
    "        g = 0\n",
    "        for (coeff,mon) in zip(row,mons):\n",
    "            g += coeff*mon\n",
    "        if g != 0:\n",
    "            B.append(g)\n",
    "    if B == []:\n",
    "        B = [ring(0)]\n",
    "    return Sequence(B) # Sage doesn't know how to work with the output list unless it is a \"Sequence\" of polynomials\n",
    "\n",
    "\n",
    "def mac_basis(f,d,ring):\n",
    "    mons0 = monomials(list(ring.gens()), [d+1 for i in range(len(ring.gens()))])\n",
    "    mons = []\n",
    "    for mon in mons0:\n",
    "        if mon.degree() <= d:\n",
    "            mons.append(mon)\n",
    "    mons.sort()\n",
    "    mons.reverse() # for reasons I don't understand, the .sort() method respects the chosen order but reverses it\n",
    "    col_labs = []\n",
    "    for deg in range(d + 1):\n",
    "        segment = []\n",
    "        for poly in f:\n",
    "            for mon in mons:\n",
    "                label = ring(mon)*ring(poly)\n",
    "                if label.degree() == deg:\n",
    "                    segment.append(label)\n",
    "        col_labs += segment\n",
    "    M = matrix([[label.monomial_coefficient(mon) for mon in mons] for label in col_labs]).rref()\n",
    "    B = []\n",
    "    for row in M.rows():\n",
    "        g = 0\n",
    "        for (coeff,mon) in zip(row,mons):\n",
    "            g += coeff*mon\n",
    "        if g != 0:\n",
    "            B.append(g)\n",
    "    if B == []:\n",
    "        B = [ring(0)]\n",
    "    return Sequence(B)\n",
    "\n",
    "\n",
    "def mac_grob(f,ring):\n",
    "    test_deg = 0\n",
    "    while True:\n",
    "        B = mac_basis(f, test_deg, ring)\n",
    "        print(test_deg, B, B.is_groebner(), ideal(B) == ideal(f))\n",
    "        if B.is_groebner() and ideal(B) == ideal(f):\n",
    "            return (test_deg,B)\n",
    "        test_deg += 1"
   ]
  },
  {
   "cell_type": "code",
   "execution_count": 8,
   "metadata": {},
   "outputs": [
    {
     "data": {
      "text/plain": [
       "[x, y]"
      ]
     },
     "execution_count": 8,
     "metadata": {},
     "output_type": "execute_result"
    }
   ],
   "source": [
    "R.<x,y> = PolynomialRing(QQ, order = \"degrevlex\")\n",
    "f1 = x\n",
    "f2 = x^2 - y\n",
    "I = ideal(f1,f2)\n",
    "G = I.groebner_basis()\n",
    "G"
   ]
  },
  {
   "cell_type": "code",
   "execution_count": 15,
   "metadata": {},
   "outputs": [
    {
     "name": "stdout",
     "output_type": "stream",
     "text": [
      "[x^2, x*y, y^2, x, y, 1]\n"
     ]
    },
    {
     "data": {
      "text/plain": [
       "[ 0  0  0  1  0  0]\n",
       "[ 1  0  0  0  0  0]\n",
       "[ 0  1  0  0  0  0]\n",
       "[ 1  0  0  0 -1  0]"
      ]
     },
     "execution_count": 15,
     "metadata": {},
     "output_type": "execute_result"
    }
   ],
   "source": [
    "mac_matrix([f1,f2],2,R)"
   ]
  },
  {
   "cell_type": "code",
   "execution_count": 16,
   "metadata": {},
   "outputs": [
    {
     "name": "stdout",
     "output_type": "stream",
     "text": [
      "0 [0] True False\n",
      "1 [x] True False\n",
      "2 [x^2, x*y, x, y] True True\n"
     ]
    },
    {
     "data": {
      "text/plain": [
       "(2, [x^2, x*y, x, y])"
      ]
     },
     "execution_count": 16,
     "metadata": {},
     "output_type": "execute_result"
    }
   ],
   "source": [
    "mac_grob([f1,f2],R)"
   ]
  },
  {
   "cell_type": "code",
   "execution_count": 18,
   "metadata": {},
   "outputs": [
    {
     "data": {
      "text/plain": [
       "[x^2, x*y]"
      ]
     },
     "execution_count": 18,
     "metadata": {},
     "output_type": "execute_result"
    }
   ],
   "source": [
    "ideal(x^2, x*y).groebner_basis()"
   ]
  },
  {
   "cell_type": "code",
   "execution_count": 47,
   "metadata": {},
   "outputs": [
    {
     "name": "stdout",
     "output_type": "stream",
     "text": [
      "[x^3, x^2*y, x*y^2, y^3, x^2, x*y, y^2, x, y, 1]\n"
     ]
    },
    {
     "data": {
      "text/plain": [
       "[ 0  0  0  0  1  0  0  0  0 -1]\n",
       "[ 0  0  0  0  0  1  0  1  0  0]\n",
       "[ 1  0  0  0  0  0  0 -1  0  0]\n",
       "[ 0  1  0  0  0  0  0  0 -1  0]\n",
       "[ 0  1  0  0  1  0  0  0  0  0]\n",
       "[ 0  0  1  0  0  1  0  0  0  0]"
      ]
     },
     "execution_count": 47,
     "metadata": {},
     "output_type": "execute_result"
    }
   ],
   "source": [
    "R.<x,y> = PolynomialRing(QQ, order = \"degrevlex\")\n",
    "f1 = x^2 - 1\n",
    "f2 = x*y + x\n",
    "mac_matrix([f1,f2], 3, R)"
   ]
  },
  {
   "cell_type": "code",
   "execution_count": 23,
   "metadata": {},
   "outputs": [
    {
     "name": "stdout",
     "output_type": "stream",
     "text": [
      "[x^3, x^2*y, x*y^2, y^3, x^2, x*y, y^2, x, y, 1]\n"
     ]
    },
    {
     "data": {
      "text/plain": [
       "[ 1  0  0  0  0  0  0 -1  0  0]\n",
       "[ 0  1  0  0  0  0  0  0  0  1]\n",
       "[ 0  0  1  0  0  0  0 -1  0  0]\n",
       "[ 0  0  0  0  1  0  0  0  0 -1]\n",
       "[ 0  0  0  0  0  1  0  1  0  0]\n",
       "[ 0  0  0  0  0  0  0  0  1  1]"
      ]
     },
     "execution_count": 23,
     "metadata": {},
     "output_type": "execute_result"
    }
   ],
   "source": [
    "mac_matrix([f1,f2], 3, R).rref()"
   ]
  },
  {
   "cell_type": "code",
   "execution_count": 24,
   "metadata": {},
   "outputs": [
    {
     "data": {
      "text/plain": [
       "[x^2 - 1, y + 1]"
      ]
     },
     "execution_count": 24,
     "metadata": {},
     "output_type": "execute_result"
    }
   ],
   "source": [
    "ideal(f1,f2).groebner_basis()"
   ]
  },
  {
   "cell_type": "code",
   "execution_count": 27,
   "metadata": {},
   "outputs": [
    {
     "data": {
      "text/plain": [
       "False"
      ]
     },
     "execution_count": 27,
     "metadata": {},
     "output_type": "execute_result"
    }
   ],
   "source": [
    "x in ideal(f1,f2)"
   ]
  },
  {
   "cell_type": "code",
   "execution_count": 33,
   "metadata": {},
   "outputs": [
    {
     "name": "stdout",
     "output_type": "stream",
     "text": [
      "0 [0] True False\n",
      "1 [0] True False\n",
      "2 [x^2 - 1, x*y + x] False True\n",
      "3 [x^3 - x, x^2*y + 1, x*y^2 - x, x^2 - 1, x*y + x, y + 1] True True\n"
     ]
    },
    {
     "data": {
      "text/plain": [
       "x^3"
      ]
     },
     "execution_count": 33,
     "metadata": {},
     "output_type": "execute_result"
    }
   ],
   "source": [
    "mac_grob([f1,f2], R)[1][0].lt()"
   ]
  },
  {
   "cell_type": "code",
   "execution_count": 29,
   "metadata": {},
   "outputs": [
    {
     "name": "stdout",
     "output_type": "stream",
     "text": [
      "0 [1] True True\n"
     ]
    },
    {
     "data": {
      "text/plain": [
       "(0, [1])"
      ]
     },
     "execution_count": 29,
     "metadata": {},
     "output_type": "execute_result"
    }
   ],
   "source": [
    "mac_grob([1],R)"
   ]
  },
  {
   "cell_type": "code",
   "execution_count": 48,
   "metadata": {},
   "outputs": [],
   "source": [
    "# used to test assertion that in(d) stabilizes\n",
    "\n",
    "def mac_grob_bad(f,ring):\n",
    "    for test_deg in range(20):\n",
    "        B = mac_basis(f, test_deg, ring)\n",
    "        lt_ideal = ideal([p.lt() for p in B])\n",
    "        grob_test = lt_ideal.groebner_basis()\n",
    "        print(test_deg, B, grob_test)"
   ]
  },
  {
   "cell_type": "code",
   "execution_count": 49,
   "metadata": {},
   "outputs": [
    {
     "name": "stdout",
     "output_type": "stream",
     "text": [
      "0 [0] [0]\n",
      "1 [0] [0]\n",
      "2 [x^2 - 1, x*y + x] [x^2, x*y]\n",
      "3 [x^3 - x, x^2*y + 1, x*y^2 - x, x^2 - 1, x*y + x, y + 1] [x^2, y]\n",
      "4 [x^4 - 1, x^3*y + x, x^2*y^2 - 1, x*y^3 + x, x^3 - x, x^2*y + 1, x*y^2 - x, x^2 - 1, x*y + x, y^2 - 1, y + 1] [x^2, y]\n",
      "5 [x^5 - x, x^4*y + 1, x^3*y^2 - x, x^2*y^3 + 1, x*y^4 - x, x^4 - 1, x^3*y + x, x^2*y^2 - 1, x*y^3 + x, x^3 - x, x^2*y + 1, x*y^2 - x, y^3 + 1, x^2 - 1, x*y + x, y^2 - 1, y + 1] [x^2, y]\n",
      "6 Polynomial Sequence with 24 Polynomials in 2 Variables [x^2, y]\n",
      "7 Polynomial Sequence with 32 Polynomials in 2 Variables [x^2, y]\n",
      "8 Polynomial Sequence with 41 Polynomials in 2 Variables [x^2, y]\n",
      "9 Polynomial Sequence with 51 Polynomials in 2 Variables [x^2, y]\n",
      "10 Polynomial Sequence with 62 Polynomials in 2 Variables [x^2, y]\n",
      "11 Polynomial Sequence with 74 Polynomials in 2 Variables [x^2, y]\n",
      "12 Polynomial Sequence with 87 Polynomials in 2 Variables [x^2, y]\n",
      "13 Polynomial Sequence with 101 Polynomials in 2 Variables [x^2, y]\n",
      "14 Polynomial Sequence with 116 Polynomials in 2 Variables [x^2, y]\n",
      "15 Polynomial Sequence with 132 Polynomials in 2 Variables [x^2, y]\n",
      "16 Polynomial Sequence with 149 Polynomials in 2 Variables [x^2, y]\n",
      "17 Polynomial Sequence with 167 Polynomials in 2 Variables [x^2, y]\n",
      "18 Polynomial Sequence with 186 Polynomials in 2 Variables [x^2, y]\n",
      "19 Polynomial Sequence with 206 Polynomials in 2 Variables [x^2, y]\n"
     ]
    }
   ],
   "source": [
    "mac_grob_bad([f1,f2],R)"
   ]
  },
  {
   "cell_type": "code",
   "execution_count": 50,
   "metadata": {},
   "outputs": [
    {
     "name": "stdout",
     "output_type": "stream",
     "text": [
      "0 [0] [0]\n",
      "1 [0] [0]\n",
      "2 [x2 - x3^2] [x2]\n",
      "3 [x1*x2 - x1*x3^2, x1 - x2^3, x2^2 - x2*x3^2, x2*x3 - x3^3, x2 - x3^2] [x1, x2]\n",
      "4 [x1^2*x2 - x1^2*x3^2, x1^2 - x1*x2^3, x1*x2^2 - x1*x2*x3^2, x1*x2*x3 - x1*x3^3, x1*x2 - x2^4, x1*x3^2 - x2^4, x1*x3 - x2^3*x3, x1 - x2^2*x3^2, x2^3 - x2^2*x3^2, x2^2*x3 - x2*x3^3, x2^2 - x3^4, x2*x3^2 - x3^4, x2*x3 - x3^3, x2 - x3^2] [x1, x2]\n",
      "5 Polynomial Sequence with 32 Polynomials in 3 Variables [x1, x2, x3^5]\n",
      "6 Polynomial Sequence with 62 Polynomials in 3 Variables [x1, x2, x3^5]\n",
      "7 Polynomial Sequence with 104 Polynomials in 3 Variables [x1, x2, x3^5]\n",
      "8 Polynomial Sequence with 155 Polynomials in 3 Variables [x1, x2, x3^5]\n",
      "9 Polynomial Sequence with 214 Polynomials in 3 Variables [x1, x2, x3^5]\n",
      "10 Polynomial Sequence with 281 Polynomials in 3 Variables [x1, x2, x3^5]\n",
      "11 Polynomial Sequence with 359 Polynomials in 3 Variables [x1, x2, x3^5]\n",
      "12 Polynomial Sequence with 450 Polynomials in 3 Variables [x1, x2, x3^5]\n",
      "13 Polynomial Sequence with 555 Polynomials in 3 Variables [x1, x2, x3^5]\n",
      "14 Polynomial Sequence with 675 Polynomials in 3 Variables [x1, x2, x3^5]\n",
      "15 Polynomial Sequence with 811 Polynomials in 3 Variables [x1, x2, x3^5]\n",
      "16 Polynomial Sequence with 964 Polynomials in 3 Variables [x1, x2, x3^5]\n",
      "17 Polynomial Sequence with 1135 Polynomials in 3 Variables [x1, x2, x3^5]\n",
      "18 Polynomial Sequence with 1325 Polynomials in 3 Variables [x1, x2, x3^5]\n",
      "19 Polynomial Sequence with 1535 Polynomials in 3 Variables [x1, x2, x3^5]\n"
     ]
    }
   ],
   "source": [
    "S.<x1,x2,x3> = PolynomialRing(GF(5), order = \"lex\")\n",
    "f1 = x3^2 - x2\n",
    "f2 = x2^3 - x1\n",
    "mac_grob_bad([f1, f2, x1^5 - x1, x2^5 - x2, x3^5 - x3], S) # further numerical evidence"
   ]
  },
  {
   "cell_type": "code",
   "execution_count": 94,
   "metadata": {},
   "outputs": [
    {
     "data": {
      "text/plain": [
       "     1     0     0     0\n",
       "     0     3     3     1\n",
       "     0     1     1     0"
      ]
     },
     "execution_count": 94,
     "metadata": {},
     "output_type": "execute_result"
    }
   ],
   "source": [
    "R.<x,y,z> = PolynomialRing(QQ, order = \"degrevlex\")\n",
    "f1 = x^2\n",
    "f2 = x*y\n",
    "f3 = x*z\n",
    "f4 = y^3\n",
    "I = ideal(f1,f2,f3,f4)\n",
    "res = I._singular_().mres(0)\n",
    "res.betti()"
   ]
  },
  {
   "cell_type": "code",
   "execution_count": 95,
   "metadata": {},
   "outputs": [
    {
     "data": {
      "text/plain": [
       "[1]:\n",
       "   _[1]=x*z\n",
       "   _[2]=x*y\n",
       "   _[3]=x^2\n",
       "   _[4]=y^3\n",
       "[2]:\n",
       "   _[1]=y*gen(1)-z*gen(2)\n",
       "   _[2]=x*gen(1)-z*gen(3)\n",
       "   _[3]=x*gen(2)-y*gen(3)\n",
       "   _[4]=y^2*gen(2)-x*gen(4)\n",
       "[3]:\n",
       "   _[1]=x*gen(1)-y*gen(2)+z*gen(3)"
      ]
     },
     "execution_count": 95,
     "metadata": {},
     "output_type": "execute_result"
    }
   ],
   "source": [
    "res"
   ]
  },
  {
   "cell_type": "code",
   "execution_count": 1,
   "metadata": {},
   "outputs": [
    {
     "data": {
      "text/plain": [
       "     1     0     0\n",
       "     0     2     1"
      ]
     },
     "execution_count": 1,
     "metadata": {},
     "output_type": "execute_result"
    }
   ],
   "source": [
    "R.<x,y> = PolynomialRing(GF(101), order = \"degrevlex\")\n",
    "f1 = x^2\n",
    "f2 = x*y\n",
    "I = ideal(f1,f2)\n",
    "res = I._singular_().mres(0)\n",
    "res.betti()"
   ]
  },
  {
   "cell_type": "code",
   "execution_count": 15,
   "metadata": {},
   "outputs": [
    {
     "data": {
      "text/plain": [
       "2*I*sqrt(1/2*sqrt(2) + 1/2)*sqrt(1/2*sqrt(2) - 1/2) + 1"
      ]
     },
     "execution_count": 15,
     "metadata": {},
     "output_type": "execute_result"
    }
   ],
   "source": [
    "x = sqrt((sqrt(2) + 1) / 2) + i*sqrt((sqrt(2) - 1) / 2)\n",
    "(x^2).expand().simplify()"
   ]
  },
  {
   "cell_type": "code",
   "execution_count": 15,
   "metadata": {},
   "outputs": [
    {
     "data": {
      "text/plain": [
       "     1     0     0     0\n",
       "     0     2     0     0\n",
       "     0     1     2     0\n",
       "     0     0     1     1"
      ]
     },
     "execution_count": 15,
     "metadata": {},
     "output_type": "execute_result"
    }
   ],
   "source": [
    "R.<x,y,z> = PolynomialRing(QQ, order = \"degrevlex\")\n",
    "f1 = x^2 + y^2 \n",
    "f2 = x*y^2\n",
    "f3 = y*z\n",
    "I = ideal(f1,f2,f3)\n",
    "I._singular_().mres(0).betti()"
   ]
  },
  {
   "cell_type": "code",
   "execution_count": null,
   "metadata": {},
   "outputs": [],
   "source": []
  }
 ],
 "metadata": {
  "kernelspec": {
   "display_name": "SageMath 9.6",
   "language": "sage",
   "name": "sagemath-9.6"
  },
  "language_info": {
   "codemirror_mode": {
    "name": "ipython",
    "version": 3
   },
   "file_extension": ".py",
   "mimetype": "text/x-python",
   "name": "python",
   "nbconvert_exporter": "python",
   "pygments_lexer": "ipython3",
   "version": "3.10.3"
  }
 },
 "nbformat": 4,
 "nbformat_minor": 4
}
