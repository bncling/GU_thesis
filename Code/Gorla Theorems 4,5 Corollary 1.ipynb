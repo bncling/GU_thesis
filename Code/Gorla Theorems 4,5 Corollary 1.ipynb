{
 "cells": [
  {
   "cell_type": "code",
   "execution_count": 1,
   "metadata": {},
   "outputs": [
    {
     "data": {
      "text/plain": [
       "[x1 + 1, x2 + 2*x4^2 + x5 + 1, x3^2 + x5, x3*x4^2*x5 + 1/2*x3*x5^2 + 1/2*x3*x5, x4^5 + x4^3*x5 + x4^3 + 1/4*x4*x5^2 + 1/2*x4*x5 + 1/4*x4, x4^2*x5^2 + 1/2*x5^2, x5^3]"
      ]
     },
     "execution_count": 1,
     "metadata": {},
     "output_type": "execute_result"
    }
   ],
   "source": [
    "R.<x1,x2,x3,x4,x5> = PolynomialRing(QQ, order = 'lex')\n",
    "f1 = x1*x3^10 + x2^2*x4\n",
    "f2 = x1^2 + x2 * x3^3 - 1\n",
    "f3 = x1 + x4^2*x5^3 + 1\n",
    "f4 = x2 - x3^2 + 2*x4^2 + 1\n",
    "f5 = x3^2 + x5\n",
    "f6 = x2*x3*x5\n",
    "I = Ideal(f1,f2,f3,f4,f5,f6)\n",
    "G = I.groebner_basis()\n",
    "G"
   ]
  },
  {
   "cell_type": "code",
   "execution_count": 2,
   "metadata": {},
   "outputs": [
    {
     "data": {
      "text/plain": [
       "[x1 + 1, x2 + 2*x4^2 + x4*x5 + 1, x3^2 + x4*x5, x3*x4^2 + 1/2*x3, x3*x5, x4^5 + x4^3 + 1/4*x4*x5 + 1/4*x4, x4^3*x5 + 1/2*x4*x5, x4*x5^2]"
      ]
     },
     "execution_count": 2,
     "metadata": {},
     "output_type": "execute_result"
    }
   ],
   "source": [
    "R.<x1,x2,x3,x4,x5> = PolynomialRing(QQ, order = 'lex')\n",
    "f1 = x1*x3^2 + x2^2*x4\n",
    "f2 = x1^2 + x2 * x3^3 - 1\n",
    "f3 = x1 + x4^2*x5^3 + 1\n",
    "f4 = x2 - x3^2 + 2*x4^2 + 1\n",
    "f5 = x3^2 + x4*x5\n",
    "f6 = x2*x3\n",
    "I = Ideal(f1,f2,f3,f4,f5,f6)\n",
    "G = I.groebner_basis()\n",
    "G # Doesn't satisfy Theorem 5 -- final term involves x4 and x5 -- infinite solution set?"
   ]
  },
  {
   "cell_type": "code",
   "execution_count": 3,
   "metadata": {},
   "outputs": [
    {
     "data": {
      "text/plain": [
       "[x1 + 1, x2 + 2*x4^2 + x4*x5 + 1, x3^2 + x4*x5, x3*x4^2 - 2*x3, x3*x5, x4^5 + x4^3 - x4*x5 - x4, x4^3*x5 - 2*x4*x5, x4*x5^2]"
      ]
     },
     "execution_count": 3,
     "metadata": {},
     "output_type": "execute_result"
    }
   ],
   "source": [
    "R.<x1,x2,x3,x4,x5> = PolynomialRing(GF(5), order = 'lex')\n",
    "f1 = x1*x3^2 + x2^2*x4\n",
    "f2 = x1^2 + x2 * x3^3 - 1\n",
    "f3 = x1 + x4^2*x5^3 + 1\n",
    "f4 = x2 - x3^2 + 2*x4^2 + 1\n",
    "f5 = x3^2 + x4*x5\n",
    "f6 = x2*x3\n",
    "I = Ideal(f1,f2,f3,f4,f5,f6)\n",
    "G = I.groebner_basis()\n",
    "G # Still doesn't satisfy Theorem 5 even though the solution set is certainly finite?"
   ]
  },
  {
   "cell_type": "code",
   "execution_count": 4,
   "metadata": {},
   "outputs": [
    {
     "data": {
      "text/plain": [
       "[y1*y2]"
      ]
     },
     "execution_count": 4,
     "metadata": {},
     "output_type": "execute_result"
    }
   ],
   "source": [
    "S.<y1,y2> = PolynomialRing(GF(11), order = 'lex')\n",
    "g1 = y1*y2\n",
    "I = Ideal(g1)\n",
    "G = I.groebner_basis()\n",
    "G"
   ]
  },
  {
   "cell_type": "code",
   "execution_count": null,
   "metadata": {},
   "outputs": [],
   "source": []
  }
 ],
 "metadata": {
  "kernelspec": {
   "display_name": "SageMath 9.6",
   "language": "sage",
   "name": "sagemath-9.6"
  },
  "language_info": {
   "codemirror_mode": {
    "name": "ipython",
    "version": 3
   },
   "file_extension": ".py",
   "mimetype": "text/x-python",
   "name": "python",
   "nbconvert_exporter": "python",
   "pygments_lexer": "ipython3",
   "version": "3.10.3"
  }
 },
 "nbformat": 4,
 "nbformat_minor": 4
}
