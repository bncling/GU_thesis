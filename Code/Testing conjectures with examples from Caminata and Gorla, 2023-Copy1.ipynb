{
 "cells": [
  {
   "cell_type": "code",
   "execution_count": 559,
   "id": "48be6bbe",
   "metadata": {},
   "outputs": [],
   "source": [
    "import time\n",
    "from sage.rings.polynomial.hilbert import hilbert_poincare_series\n",
    "\n",
    "# computes degree of regularity for a homogeneous ideal\n",
    "def hdegree_reg(I):\n",
    "    G = I.groebner_basis()\n",
    "    LT = Ideal([g.lt() for g in G])\n",
    "    HS = hilbert_poincare_series(LT)\n",
    "    delta = HS.numerator().degree()\n",
    "    l = HS.denominator().degree()\n",
    "    return(delta - l + 1)\n",
    "\n",
    "\n",
    "# computes F^top\n",
    "def f_top(I, R):\n",
    "    f_list = I.gens()\n",
    "    new_ring.<h> = PolynomialRing(R, order = 'degrevlex')\n",
    "    homogenized = [new_ring(poly.homogenize()) for poly in f_list]\n",
    "    final = [R(poly.subs(h=0)) for poly in homogenized] \n",
    "    return(final)\n",
    "\n",
    "\n",
    "# computes degree of regularity in the nonhomogeneous case\n",
    "def degree_reg(I, R):\n",
    "    J = ideal(f_top(I,R))\n",
    "    return hdegree_reg(J)\n",
    "\n",
    "  \n",
    "def test_rowsp(f, f_list, d, ring):\n",
    "    mons = get_mons(d, ring)\n",
    "    M = mac_matrix(f_list, d, ring)\n",
    "    done = False\n",
    "    while not done:\n",
    "        rowsp = M.row_space()\n",
    "        to_be_added = []\n",
    "        for row in M.rref().rows():\n",
    "            g = 0\n",
    "            for (coeff, mon) in zip(row, mons):\n",
    "                g += coeff * mon\n",
    "            max_test_deg = d - g.degree()\n",
    "            if (g != 0) and (max_test_deg > 0):\n",
    "                for mon in get_mons(max_test_deg, ring):\n",
    "                    test_p = mon*g\n",
    "                    test_vec = vector([test_p.monomial_coefficient(moon) for moon in mons])\n",
    "                    if test_vec not in rowsp:\n",
    "                        to_be_added.append(test_vec)\n",
    "        if to_be_added == []:\n",
    "            done = True\n",
    "        else:\n",
    "            new_rows = M.rows() + to_be_added\n",
    "            M = Matrix(new_rows)\n",
    "    f_vec = vector([ring(f).monomial_coefficient(mon) for mon in mons])\n",
    "    return f_vec in M.row_space()\n",
    "\n",
    "\n",
    "def get_mons(d, ring, leq = True):\n",
    "    if leq:\n",
    "        mons = []\n",
    "        for i in range(d+1):\n",
    "            mons += [ring({tuple(a):1}) for a in WeightedIntegerVectors(i,[1 for gen in ring.gens()])]\n",
    "    else:\n",
    "        mons = [ring({tuple(a):1}) for a in WeightedIntegerVectors(d,[1 for gen in ring.gens()])]\n",
    "    mons.sort()\n",
    "    mons.reverse()\n",
    "    return mons\n",
    "\n",
    "\n",
    "def deg_fall(f, f_list, ring):\n",
    "    test_deg = f.degree()\n",
    "    while True:\n",
    "        print(test_deg, time.strftime(\"%H:%M:%S\", time.localtime()))\n",
    "        if test_rowsp(f, f_list, test_deg, ring):\n",
    "            return test_deg\n",
    "        test_deg += 1\n",
    "        \n",
    "        \n",
    "def lfd(f_list, ring):\n",
    "    fall_degrees = []\n",
    "    I = ideal(f_list)\n",
    "    B = I.groebner_basis()\n",
    "    print(B)\n",
    "    for f in B:\n",
    "        print(f)\n",
    "        d = deg_fall(f, f_list, ring)\n",
    "        if d > f.degree():\n",
    "            fall_degrees.append(d)\n",
    "    if fall_degrees == []:\n",
    "        return 0\n",
    "    else:\n",
    "        return max(fall_degrees)\n",
    "    \n",
    "    \n",
    "# Compute the Macaulay matrix in degree d of a system f = [f1,...,fs]\n",
    "def mac_matrix(f,d,ring):\n",
    "    mons0 = monomials(list(ring.gens()), [d+1 for i in range(len(ring.gens()))])\n",
    "    mons = []\n",
    "    for mon in mons0:\n",
    "        if mon.degree() <= d:\n",
    "            mons.append(mon)\n",
    "    mons.sort()\n",
    "    mons.reverse() # for reasons I don't understand, the .sort() method respects the chosen order but reverses it\n",
    "    col_labs = []\n",
    "    for deg in range(d + 1):\n",
    "        segment = []\n",
    "        for poly in f:\n",
    "            for mon in mons:\n",
    "                label = ring(mon)*ring(poly)\n",
    "                if label.degree() == deg:\n",
    "                    segment.append(label)\n",
    "        col_labs += segment\n",
    "    return matrix([[label.monomial_coefficient(mon) for mon in mons] for label in col_labs])\n",
    "\n",
    "\n",
    "# Takes an RREF Macaulay matrix as input and returns a list of the corresponding polynomials\n",
    "def recover_polys(M, d, ring):\n",
    "    mons0 = monomials(list(ring.gens()), [d+1 for i in range(len(ring.gens()))])\n",
    "    mons = []\n",
    "    for mon in mons0:\n",
    "        if mon.degree() <= d:\n",
    "            mons.append(mon)\n",
    "    mons.sort()\n",
    "    mons.reverse()\n",
    "    B = []\n",
    "    for row in M.rows():\n",
    "        g = 0\n",
    "        for (coeff,mon) in zip(row,mons):\n",
    "            g += coeff*mon\n",
    "        if g != 0:\n",
    "            B.append(g)\n",
    "    if B == []:\n",
    "        B = [ring(0)]\n",
    "    return Sequence(B) # Sage doesn't know how to work with the output list unless it is a \"Sequence\" of polynomials\n",
    "\n",
    "\n",
    "# Now instead of using mac_matrix followed by recover_polys, we ask for the new polynomials directly:\n",
    "def mac_basis(f,d,ring):\n",
    "    mons0 = monomials(list(ring.gens()), [d+1 for i in range(len(ring.gens()))])\n",
    "    mons = []\n",
    "    for mon in mons0:\n",
    "        if mon.degree() <= d:\n",
    "            mons.append(mon)\n",
    "    mons.sort()\n",
    "    mons.reverse() # for reasons I don't understand, the .sort() method respects the chosen order but reverses it\n",
    "    col_labs = []\n",
    "    for deg in range(d + 1):\n",
    "        segment = []\n",
    "        for poly in f:\n",
    "            for mon in mons:\n",
    "                label = ring(mon)*ring(poly)\n",
    "                if label.degree() == deg:\n",
    "                    segment.append(label)\n",
    "        col_labs += segment\n",
    "    M = matrix([[label.monomial_coefficient(mon) for mon in mons] for label in col_labs]).rref()\n",
    "    B = []\n",
    "    for row in M.rows():\n",
    "        g = 0\n",
    "        for (coeff,mon) in zip(row,mons):\n",
    "            g += coeff*mon\n",
    "        if g != 0:\n",
    "            B.append(g)\n",
    "    if B == []:\n",
    "        B = [ring(0)]\n",
    "    return Sequence(B)\n",
    "\n",
    "\n",
    "# Now define a function that calculates a Gröbner basis and the solving degree (per Caminata and Gorla, 2021)\n",
    "def mac_grob(f,ring):\n",
    "    test_deg = 0\n",
    "    while True:\n",
    "        B = mac_basis(f, test_deg, ring)\n",
    "        print(test_deg, B, B.is_groebner(), ideal(B) == ideal(f))\n",
    "        if B.is_groebner() and ideal(B) == ideal(f):\n",
    "            return (test_deg,B)\n",
    "        test_deg += 1\n",
    "        \n",
    "\n",
    "# Modified version to compute the solving degree per Caminata and Gorla, 2023\n",
    "def sdeg(f, ring):\n",
    "    d = 0\n",
    "    while True:\n",
    "        d_level_base = []\n",
    "        mons = get_mons(d, ring)\n",
    "        M = mac_matrix(f, d, ring)\n",
    "        done = False\n",
    "        while not done:\n",
    "            rowsp = M.row_space()\n",
    "            to_be_added = []\n",
    "            for row in M.rref().rows():\n",
    "                g = 0\n",
    "                for (coeff, mon) in zip(row, mons):\n",
    "                    g += coeff * mon\n",
    "                max_test_deg = d - g.degree()\n",
    "                if (g != 0) and (max_test_deg > 0):\n",
    "                    for mon in get_mons(max_test_deg, ring):\n",
    "                        test_p = mon*g\n",
    "                        test_vec = vector([test_p.monomial_coefficient(moon) for moon in mons])\n",
    "                        if test_vec not in rowsp:\n",
    "                            to_be_added.append(test_vec)\n",
    "            if to_be_added == []:\n",
    "                done = True\n",
    "                for row in M.rref().rows():\n",
    "                    g = 0\n",
    "                    for (coeff, mon) in zip(row, mons):\n",
    "                        g += coeff * mon\n",
    "                    if g != 0:\n",
    "                        d_level_base.append(g)\n",
    "                if d_level_base == []:\n",
    "                    d_level_base = [ring(0)]\n",
    "                check_1 = Sequence(d_level_base).is_groebner()\n",
    "                check_2 = (ideal(d_level_base) == ideal(f))\n",
    "                print(d, Sequence(d_level_base), check_1, check_2)\n",
    "                if check_1 and check_2:\n",
    "                    return (d, Sequence(d_level_base))\n",
    "                d += 1\n",
    "            else:\n",
    "                new_rows = M.rows() + to_be_added\n",
    "                M = Matrix(new_rows)"
   ]
  },
  {
   "cell_type": "code",
   "execution_count": 560,
   "id": "e528f712",
   "metadata": {
    "scrolled": false
   },
   "outputs": [
    {
     "name": "stdout",
     "output_type": "stream",
     "text": [
      "[x + 1, y^2 - 1] \n",
      "\n",
      "0 [0] True False\n",
      "1 [0] True False\n",
      "2 [x*y + y, y^2 - 1] False True\n",
      "3 [x^2*y - y, x*y^2 + 1, x*y + y, x + 1, y^3 - y, y^2 - 1] True True\n",
      "(3, [x^2*y - y, x*y^2 + 1, x*y + y, x + 1, y^3 - y, y^2 - 1]) \n",
      "\n",
      "0 [0] True False\n",
      "1 [0] True False\n",
      "2 [x*y + y, y^2 - 1] False True\n",
      "3 [x^3 + 1, x^2*y - y, x^2 - 1, x*y^2 + 1, x*y + y, x + 1, y^3 - y, y^2 - 1] True True\n",
      "(3, [x^3 + 1, x^2*y - y, x^2 - 1, x*y^2 + 1, x*y + y, x + 1, y^3 - y, y^2 - 1]) \n",
      "\n"
     ]
    }
   ],
   "source": [
    "# Example 4.1\n",
    "R.<x,y> = PolynomialRing(GF(11), order = \"lex\")\n",
    "f1 = x*y + y\n",
    "f2 = y^2 - 1\n",
    "f3 = x^10 - 1\n",
    "I = Ideal(f1,f2,f3)\n",
    "print(I.groebner_basis(), '\\n')\n",
    "print(mac_grob([f1,f2,f3],R), '\\n')\n",
    "print(sdeg([f1,f2,f3],R), '\\n')"
   ]
  },
  {
   "cell_type": "code",
   "execution_count": 7,
   "id": "815d31b7",
   "metadata": {},
   "outputs": [
    {
     "name": "stdout",
     "output_type": "stream",
     "text": [
      "[x^10 - h^10, x*y + y*h, x*h^2 + h^3, y^2 - h^2]\n"
     ]
    },
    {
     "data": {
      "text/plain": [
       "11"
      ]
     },
     "execution_count": 7,
     "metadata": {},
     "output_type": "execute_result"
    }
   ],
   "source": [
    "# Continuing Example 4.1, checking regularity of F^h\n",
    "S.<x,y,h> = PolynomialRing(GF(11), order = \"lex\")\n",
    "h_list = [f.homogenize() for f in [f1,f2,f3]]\n",
    "print(ideal(h_list).groebner_basis())\n",
    "len(ideal(h_list)._singular_().mres(0).betti())/4"
   ]
  },
  {
   "cell_type": "code",
   "execution_count": 8,
   "id": "0d9d8d78",
   "metadata": {},
   "outputs": [
    {
     "data": {
      "text/plain": [
       "11"
      ]
     },
     "execution_count": 8,
     "metadata": {},
     "output_type": "execute_result"
    }
   ],
   "source": [
    "# Continuing Example 4.1, checking regularity of in(F^h)\n",
    "S.<x,y,h> = PolynomialRing(GF(11), order = \"lex\")\n",
    "h_list = [f.homogenize() for f in [f1,f2,f3]]\n",
    "Fh = ideal(h_list)\n",
    "in_list = [f.lt() for f in Fh.groebner_basis()]\n",
    "len(ideal(in_list)._singular_().mres(0).betti())/4"
   ]
  },
  {
   "cell_type": "code",
   "execution_count": 9,
   "id": "38c80835",
   "metadata": {
    "scrolled": true
   },
   "outputs": [
    {
     "name": "stdout",
     "output_type": "stream",
     "text": [
      "[x + 1, y^2 - 1, z^6 - 1] \n",
      "\n",
      "0 [0] True False\n",
      "1 [0] True False\n",
      "2 [x*y + y, y^2 - 1] False False\n",
      "3 [x^2*y - y, x*y^2 + 1, x*y*z + y*z, x*y + y, x + 1, y^3 - y, y^2*z - z, y^2 - 1] True False\n",
      "4 [x^3*y + y, x^2*y^2 - 1, x^2*y*z - y*z, x^2*y - y, x^2 - 1, x*y^3 + y, x*y^2*z + z, x*y^2 + 1, x*y*z^2 + y*z^2, x*y*z + y*z, x*y + y, x*z + z, x + 1, y^4 - 1, y^3*z - y*z, y^3 - y, y^2*z^2 - z^2, y^2*z - z, y^2 - 1] True False\n",
      "5 Polynomial Sequence with 36 Polynomials in 3 Variables True False\n",
      "6 Polynomial Sequence with 61 Polynomials in 3 Variables True True\n",
      "(6, Polynomial Sequence with 61 Polynomials in 3 Variables) \n",
      "\n",
      "0 [0] True False\n",
      "1 [0] True False\n",
      "2 [x*y + y, y^2 - 1] False False\n",
      "3 [x^3 + 1, x^2*y - y, x^2*z - z, x^2 - 1, x*y^2 + 1, x*y*z + y*z, x*y + y, x*z^2 + z^2, x*z + z, x + 1, y^3 - y, y^2*z - z, y^2 - 1] True False\n",
      "4 Polynomial Sequence with 26 Polynomials in 3 Variables True False\n",
      "5 Polynomial Sequence with 45 Polynomials in 3 Variables True False\n",
      "6 Polynomial Sequence with 72 Polynomials in 3 Variables True True\n",
      "(6, Polynomial Sequence with 72 Polynomials in 3 Variables) \n",
      "\n"
     ]
    }
   ],
   "source": [
    "# Example 4.2\n",
    "R.<x,y,z> = PolynomialRing(GF(7), order = \"lex\")\n",
    "f1 = x*y + y\n",
    "f2 = y^2 - 1\n",
    "f3 = z^6 - 1\n",
    "I = Ideal(f1,f2,f3)\n",
    "print(I.groebner_basis(), '\\n')\n",
    "print(mac_grob([f1,f2,f3],R), '\\n')\n",
    "print(sdeg([f1,f2,f3],R), '\\n')"
   ]
  },
  {
   "cell_type": "code",
   "execution_count": 10,
   "id": "f569f46c",
   "metadata": {},
   "outputs": [
    {
     "data": {
      "text/plain": [
       "8"
      ]
     },
     "execution_count": 10,
     "metadata": {},
     "output_type": "execute_result"
    }
   ],
   "source": [
    "# Continuing Example 4.2, checking regularity of F^h\n",
    "S.<x,y,z,h> = PolynomialRing(GF(7), order = \"lex\")\n",
    "h_list = [f.homogenize() for f in [f1,f2,f3]]\n",
    "len(ideal(h_list)._singular_().mres(0).betti())/4"
   ]
  },
  {
   "cell_type": "code",
   "execution_count": 11,
   "id": "51d6f0e4",
   "metadata": {},
   "outputs": [
    {
     "data": {
      "text/plain": [
       "8"
      ]
     },
     "execution_count": 11,
     "metadata": {},
     "output_type": "execute_result"
    }
   ],
   "source": [
    "# Continuing Example 4.2, checking regularity of in(F^h)\n",
    "S.<x,y,h> = PolynomialRing(GF(7), order = \"lex\")\n",
    "h_list = [f.homogenize() for f in [f1,f2,f3]]\n",
    "Fh = ideal(h_list)\n",
    "in_list = [f.lt() for f in Fh.groebner_basis()]\n",
    "len(ideal(in_list)._singular_().mres(0).betti())/4"
   ]
  },
  {
   "cell_type": "code",
   "execution_count": 12,
   "id": "a33d73e5",
   "metadata": {},
   "outputs": [
    {
     "name": "stdout",
     "output_type": "stream",
     "text": [
      "[x^2 - 1, y^2 - 1] \n",
      "\n",
      "0 [0] True False\n",
      "1 [0] True False\n",
      "2 [x^2 - 1, y^2 - 1] True True\n",
      "(2, [x^2 - 1, y^2 - 1]) \n",
      "\n",
      "0 [0] True False\n",
      "1 [0] True False\n",
      "2 [x^2 - 1, y^2 - 1] True True\n",
      "(2, [x^2 - 1, y^2 - 1]) \n",
      "\n"
     ]
    }
   ],
   "source": [
    "# Example 4.3\n",
    "R.<x,y> = PolynomialRing(GF(13), order = \"lex\")\n",
    "f1 = x^2 - 1\n",
    "f2 = y^2 - 1\n",
    "I = Ideal(f1,f2)\n",
    "print(I.groebner_basis(), '\\n')\n",
    "print(mac_grob([f1,f2],R), '\\n')\n",
    "print(sdeg([f1,f2],R), '\\n')"
   ]
  },
  {
   "cell_type": "code",
   "execution_count": 13,
   "id": "bfcada43",
   "metadata": {},
   "outputs": [
    {
     "data": {
      "text/plain": [
       "3"
      ]
     },
     "execution_count": 13,
     "metadata": {},
     "output_type": "execute_result"
    }
   ],
   "source": [
    "# Continuing Example 4.3, checking regularity of F^h\n",
    "S.<x,y,h> = PolynomialRing(GF(13), order = \"lex\")\n",
    "h_list = [f.homogenize() for f in [f1,f2]]\n",
    "len(ideal(h_list)._singular_().mres(0).betti())/3"
   ]
  },
  {
   "cell_type": "code",
   "execution_count": 14,
   "id": "44615b84",
   "metadata": {},
   "outputs": [
    {
     "data": {
      "text/plain": [
       "3"
      ]
     },
     "execution_count": 14,
     "metadata": {},
     "output_type": "execute_result"
    }
   ],
   "source": [
    "# Continuing Example 4.3, checking regularity of in(F^h)\n",
    "S.<x,y,h> = PolynomialRing(GF(13), order = \"lex\")\n",
    "h_list = [f.homogenize() for f in [f1,f2]]\n",
    "Fh = ideal(h_list)\n",
    "in_list = [f.lt() for f in Fh.groebner_basis()]\n",
    "len(ideal(in_list)._singular_().mres(0).betti())/3"
   ]
  },
  {
   "cell_type": "code",
   "execution_count": 15,
   "id": "357b966f",
   "metadata": {
    "scrolled": true
   },
   "outputs": [
    {
     "name": "stdout",
     "output_type": "stream",
     "text": [
      "[w^4 - 1, x - y, y^2 - 1, z^4 - 1] \n",
      "\n",
      "0 [0] True False\n",
      "1 [0] True False\n",
      "2 [x^2 - 1, x*y - 1] False False\n",
      "3 [w*x^2 - w, w*x*y - w, x^3 - y, x^2*y - y, x^2*z - z, x^2 - 1, x*y^2 - y, x*y*z - z, x*y - 1, x - y] False False\n",
      "4 Polynomial Sequence with 29 Polynomials in 4 Variables True False\n",
      "5 Polynomial Sequence with 66 Polynomials in 4 Variables True False\n",
      "6 Polynomial Sequence with 130 Polynomials in 4 Variables True False\n",
      "7 Polynomial Sequence with 230 Polynomials in 4 Variables True False\n",
      "8 Polynomial Sequence with 376 Polynomials in 4 Variables False True\n",
      "9 Polynomial Sequence with 580 Polynomials in 4 Variables False True\n",
      "10 Polynomial Sequence with 853 Polynomials in 4 Variables False True\n",
      "11 Polynomial Sequence with 1206 Polynomials in 4 Variables False True\n",
      "12 Polynomial Sequence with 1652 Polynomials in 4 Variables False True\n",
      "13 Polynomial Sequence with 2204 Polynomials in 4 Variables False True\n",
      "14 Polynomial Sequence with 2876 Polynomials in 4 Variables False True\n",
      "15 Polynomial Sequence with 3684 Polynomials in 4 Variables False True\n",
      "16 Polynomial Sequence with 4645 Polynomials in 4 Variables True True\n",
      "(16, Polynomial Sequence with 4645 Polynomials in 4 Variables) \n",
      "\n",
      "0 [0] True False\n",
      "1 [0] True False\n",
      "2 [x^2 - 1, x*y - 1] False False\n",
      "3 [w^2*x - w^2*y, w*x^2 - w, w*x*y - w, w*x*z - w*y*z, w*x - w*y, w*y^2 - w, x^3 - y, x^2*y - y, x^2*z - z, x^2 - 1, x*y^2 - y, x*y*z - z, x*y - 1, x*z^2 - y*z^2, x*z - y*z, x - y, y^3 - y, y^2*z - z, y^2 - 1] True False\n",
      "4 Polynomial Sequence with 45 Polynomials in 4 Variables True False\n",
      "5 Polynomial Sequence with 91 Polynomials in 4 Variables True False\n",
      "6 Polynomial Sequence with 165 Polynomials in 4 Variables True False\n",
      "7 Polynomial Sequence with 275 Polynomials in 4 Variables True False\n",
      "8 Polynomial Sequence with 431 Polynomials in 4 Variables False True\n",
      "9 Polynomial Sequence with 683 Polynomials in 4 Variables True True\n",
      "(9, Polynomial Sequence with 683 Polynomials in 4 Variables) \n",
      "\n"
     ]
    }
   ],
   "source": [
    "# Example 4.4\n",
    "R.<w,x,y,z> = PolynomialRing(GF(5), order = \"lex\")\n",
    "f1 = x^2 - 1\n",
    "f2 = x*y - 1\n",
    "f3 = w^5 - w\n",
    "f4 = w^4*z^4 - 1\n",
    "I = Ideal(f1,f2,f3,f4)\n",
    "print(I.groebner_basis(), '\\n')\n",
    "print(mac_grob([f1,f2,f3,f4],R), '\\n')\n",
    "print(sdeg([f1,f2,f3,f4],R), '\\n')"
   ]
  },
  {
   "cell_type": "code",
   "execution_count": 16,
   "id": "8d2158ee",
   "metadata": {},
   "outputs": [
    {
     "data": {
      "text/plain": [
       "13"
      ]
     },
     "execution_count": 16,
     "metadata": {},
     "output_type": "execute_result"
    }
   ],
   "source": [
    "# Continuing Example 4.4, checking regularity of F^h\n",
    "S.<w,x,y,z,h> = PolynomialRing(GF(5), order = \"lex\")\n",
    "h_list = [f.homogenize() for f in [f1,f2,f3,f4]]\n",
    "len(ideal(h_list)._singular_().mres(0).betti())/5"
   ]
  },
  {
   "cell_type": "code",
   "execution_count": 17,
   "id": "2ccbbb87",
   "metadata": {},
   "outputs": [
    {
     "data": {
      "text/plain": [
       "17"
      ]
     },
     "execution_count": 17,
     "metadata": {},
     "output_type": "execute_result"
    }
   ],
   "source": [
    "# Continuing Example 4.4, checking regularity of in(F^h)\n",
    "S.<w,x,y,z,h> = PolynomialRing(GF(5), order = \"lex\")\n",
    "h_list = [f.homogenize() for f in [f1,f2,f3,f4]]\n",
    "Fh = ideal(h_list)\n",
    "in_list = [f.lt() for f in Fh.groebner_basis()]\n",
    "len(ideal(in_list)._singular_().mres(0).betti())/6"
   ]
  },
  {
   "cell_type": "code",
   "execution_count": 18,
   "id": "32a42dd9",
   "metadata": {},
   "outputs": [
    {
     "name": "stdout",
     "output_type": "stream",
     "text": [
      "[w^5 - 1, x - 1, y - 1, z^5 - 1] \n",
      "\n",
      "0 [0] True False\n",
      "1 [0] True False\n",
      "2 [x^2 - x, x*y - 1] False False\n",
      "3 [w*x^2 - w*x, w*x*y - w, x^3 - 1, x^2*y - 1, x^2*z - x*z, x^2 - 1, x*y^2 - y, x*y*z - z, x*y - 1, x - 1] False False\n",
      "4 Polynomial Sequence with 29 Polynomials in 4 Variables True False\n",
      "5 Polynomial Sequence with 65 Polynomials in 4 Variables True False\n",
      "6 Polynomial Sequence with 126 Polynomials in 4 Variables True False\n",
      "7 Polynomial Sequence with 222 Polynomials in 4 Variables True False\n",
      "8 Polynomial Sequence with 363 Polynomials in 4 Variables True False\n",
      "9 Polynomial Sequence with 559 Polynomials in 4 Variables True False\n",
      "10 Polynomial Sequence with 822 Polynomials in 4 Variables False True\n",
      "11 Polynomial Sequence with 1166 Polynomials in 4 Variables False True\n",
      "12 Polynomial Sequence with 1603 Polynomials in 4 Variables False True\n",
      "13 Polynomial Sequence with 2146 Polynomials in 4 Variables False True\n"
     ]
    },
    {
     "ename": "KeyboardInterrupt",
     "evalue": "",
     "output_type": "error",
     "traceback": [
      "\u001b[0;31m---------------------------------------------------------------------------\u001b[0m",
      "\u001b[0;31mKeyboardInterrupt\u001b[0m                         Traceback (most recent call last)",
      "\u001b[0;32m/var/folders/zf/986s30f52c3fssnjtqpb80w00000gn/T/ipykernel_17502/2755926734.py\u001b[0m in \u001b[0;36m<module>\u001b[0;34m\u001b[0m\n\u001b[1;32m      8\u001b[0m \u001b[0mprint\u001b[0m\u001b[0;34m(\u001b[0m\u001b[0mI\u001b[0m\u001b[0;34m.\u001b[0m\u001b[0mgroebner_basis\u001b[0m\u001b[0;34m(\u001b[0m\u001b[0;34m)\u001b[0m\u001b[0;34m,\u001b[0m \u001b[0;34m'\\n'\u001b[0m\u001b[0;34m)\u001b[0m \u001b[0;31m# max.Grob.deg = 5\u001b[0m\u001b[0;34m\u001b[0m\u001b[0;34m\u001b[0m\u001b[0m\n\u001b[1;32m      9\u001b[0m \u001b[0;31m#print(degree_reg(I,R), '\\n') # d_reg = 11\u001b[0m\u001b[0;34m\u001b[0m\u001b[0;34m\u001b[0m\u001b[0m\n\u001b[0;32m---> 10\u001b[0;31m \u001b[0mprint\u001b[0m\u001b[0;34m(\u001b[0m\u001b[0mmac_grob\u001b[0m\u001b[0;34m(\u001b[0m\u001b[0;34m[\u001b[0m\u001b[0mf1\u001b[0m\u001b[0;34m,\u001b[0m\u001b[0mf2\u001b[0m\u001b[0;34m,\u001b[0m\u001b[0mf3\u001b[0m\u001b[0;34m,\u001b[0m\u001b[0mf4\u001b[0m\u001b[0;34m]\u001b[0m\u001b[0;34m,\u001b[0m\u001b[0mR\u001b[0m\u001b[0;34m)\u001b[0m\u001b[0;34m,\u001b[0m \u001b[0;34m'\\n'\u001b[0m\u001b[0;34m)\u001b[0m \u001b[0;31m# solve.deg > 19, this is as far as I've gotten before the kernel dies\u001b[0m\u001b[0;34m\u001b[0m\u001b[0;34m\u001b[0m\u001b[0m\n\u001b[0m\u001b[1;32m     11\u001b[0m \u001b[0mprint\u001b[0m\u001b[0;34m(\u001b[0m\u001b[0msdeg\u001b[0m\u001b[0;34m(\u001b[0m\u001b[0;34m[\u001b[0m\u001b[0mf1\u001b[0m\u001b[0;34m,\u001b[0m\u001b[0mf2\u001b[0m\u001b[0;34m,\u001b[0m\u001b[0mf3\u001b[0m\u001b[0;34m,\u001b[0m\u001b[0mf4\u001b[0m\u001b[0;34m]\u001b[0m\u001b[0;34m,\u001b[0m\u001b[0mR\u001b[0m\u001b[0;34m)\u001b[0m\u001b[0;34m,\u001b[0m \u001b[0;34m'\\n'\u001b[0m\u001b[0;34m)\u001b[0m \u001b[0;31m# sd = 11, computation took several hours on a previous attempt, won't repeat here\u001b[0m\u001b[0;34m\u001b[0m\u001b[0;34m\u001b[0m\u001b[0m\n\u001b[1;32m     12\u001b[0m \u001b[0;31m#print(lfd([f1,f2,f3,f4],R), '\\n') # d_F = 11, computation took several hours on a previous attempt, won't repeat here\u001b[0m\u001b[0;34m\u001b[0m\u001b[0;34m\u001b[0m\u001b[0m\n",
      "\u001b[0;32m/var/folders/zf/986s30f52c3fssnjtqpb80w00000gn/T/ipykernel_17502/196303293.py\u001b[0m in \u001b[0;36mmac_grob\u001b[0;34m(f, ring)\u001b[0m\n\u001b[1;32m    168\u001b[0m     \u001b[0mtest_deg\u001b[0m \u001b[0;34m=\u001b[0m \u001b[0mInteger\u001b[0m\u001b[0;34m(\u001b[0m\u001b[0;36m0\u001b[0m\u001b[0;34m)\u001b[0m\u001b[0;34m\u001b[0m\u001b[0;34m\u001b[0m\u001b[0m\n\u001b[1;32m    169\u001b[0m     \u001b[0;32mwhile\u001b[0m \u001b[0;32mTrue\u001b[0m\u001b[0;34m:\u001b[0m\u001b[0;34m\u001b[0m\u001b[0;34m\u001b[0m\u001b[0m\n\u001b[0;32m--> 170\u001b[0;31m         \u001b[0mB\u001b[0m \u001b[0;34m=\u001b[0m \u001b[0mmac_basis\u001b[0m\u001b[0;34m(\u001b[0m\u001b[0mf\u001b[0m\u001b[0;34m,\u001b[0m \u001b[0mtest_deg\u001b[0m\u001b[0;34m,\u001b[0m \u001b[0mring\u001b[0m\u001b[0;34m)\u001b[0m\u001b[0;34m\u001b[0m\u001b[0;34m\u001b[0m\u001b[0m\n\u001b[0m\u001b[1;32m    171\u001b[0m         \u001b[0mprint\u001b[0m\u001b[0;34m(\u001b[0m\u001b[0mtest_deg\u001b[0m\u001b[0;34m,\u001b[0m \u001b[0mB\u001b[0m\u001b[0;34m,\u001b[0m \u001b[0mB\u001b[0m\u001b[0;34m.\u001b[0m\u001b[0mis_groebner\u001b[0m\u001b[0;34m(\u001b[0m\u001b[0;34m)\u001b[0m\u001b[0;34m,\u001b[0m \u001b[0mideal\u001b[0m\u001b[0;34m(\u001b[0m\u001b[0mB\u001b[0m\u001b[0;34m)\u001b[0m \u001b[0;34m==\u001b[0m \u001b[0mideal\u001b[0m\u001b[0;34m(\u001b[0m\u001b[0mf\u001b[0m\u001b[0;34m)\u001b[0m\u001b[0;34m)\u001b[0m\u001b[0;34m\u001b[0m\u001b[0;34m\u001b[0m\u001b[0m\n\u001b[1;32m    172\u001b[0m         \u001b[0;32mif\u001b[0m \u001b[0mB\u001b[0m\u001b[0;34m.\u001b[0m\u001b[0mis_groebner\u001b[0m\u001b[0;34m(\u001b[0m\u001b[0;34m)\u001b[0m \u001b[0;32mand\u001b[0m \u001b[0mideal\u001b[0m\u001b[0;34m(\u001b[0m\u001b[0mB\u001b[0m\u001b[0;34m)\u001b[0m \u001b[0;34m==\u001b[0m \u001b[0mideal\u001b[0m\u001b[0;34m(\u001b[0m\u001b[0mf\u001b[0m\u001b[0;34m)\u001b[0m\u001b[0;34m:\u001b[0m\u001b[0;34m\u001b[0m\u001b[0;34m\u001b[0m\u001b[0m\n",
      "\u001b[0;32m/var/folders/zf/986s30f52c3fssnjtqpb80w00000gn/T/ipykernel_17502/196303293.py\u001b[0m in \u001b[0;36mmac_basis\u001b[0;34m(f, d, ring)\u001b[0m\n\u001b[1;32m    156\u001b[0m         \u001b[0mg\u001b[0m \u001b[0;34m=\u001b[0m \u001b[0mInteger\u001b[0m\u001b[0;34m(\u001b[0m\u001b[0;36m0\u001b[0m\u001b[0;34m)\u001b[0m\u001b[0;34m\u001b[0m\u001b[0;34m\u001b[0m\u001b[0m\n\u001b[1;32m    157\u001b[0m         \u001b[0;32mfor\u001b[0m \u001b[0;34m(\u001b[0m\u001b[0mcoeff\u001b[0m\u001b[0;34m,\u001b[0m\u001b[0mmon\u001b[0m\u001b[0;34m)\u001b[0m \u001b[0;32min\u001b[0m \u001b[0mzip\u001b[0m\u001b[0;34m(\u001b[0m\u001b[0mrow\u001b[0m\u001b[0;34m,\u001b[0m\u001b[0mmons\u001b[0m\u001b[0;34m)\u001b[0m\u001b[0;34m:\u001b[0m\u001b[0;34m\u001b[0m\u001b[0;34m\u001b[0m\u001b[0m\n\u001b[0;32m--> 158\u001b[0;31m             \u001b[0mg\u001b[0m \u001b[0;34m+=\u001b[0m \u001b[0mcoeff\u001b[0m\u001b[0;34m*\u001b[0m\u001b[0mmon\u001b[0m\u001b[0;34m\u001b[0m\u001b[0;34m\u001b[0m\u001b[0m\n\u001b[0m\u001b[1;32m    159\u001b[0m         \u001b[0;32mif\u001b[0m \u001b[0mg\u001b[0m \u001b[0;34m!=\u001b[0m \u001b[0mInteger\u001b[0m\u001b[0;34m(\u001b[0m\u001b[0;36m0\u001b[0m\u001b[0;34m)\u001b[0m\u001b[0;34m:\u001b[0m\u001b[0;34m\u001b[0m\u001b[0;34m\u001b[0m\u001b[0m\n\u001b[1;32m    160\u001b[0m             \u001b[0mB\u001b[0m\u001b[0;34m.\u001b[0m\u001b[0mappend\u001b[0m\u001b[0;34m(\u001b[0m\u001b[0mg\u001b[0m\u001b[0;34m)\u001b[0m\u001b[0;34m\u001b[0m\u001b[0;34m\u001b[0m\u001b[0m\n",
      "\u001b[0;32msrc/cysignals/signals.pyx\u001b[0m in \u001b[0;36mcysignals.signals.python_check_interrupt\u001b[0;34m()\u001b[0m\n",
      "\u001b[0;31mKeyboardInterrupt\u001b[0m: "
     ]
    }
   ],
   "source": [
    "# Example 2.4\n",
    "R.<w,x,y,z> = PolynomialRing(QQ, order = \"lex\")\n",
    "f1 = x^2 - x\n",
    "f2 = x*y - 1\n",
    "f3 = w^6 - w\n",
    "f4 = w^5*z^5 - 1\n",
    "I = Ideal(f1,f2,f3,f4)\n",
    "print(I.groebner_basis(), '\\n') # max.Grob.deg = 5\n",
    "#print(degree_reg(I,R), '\\n') # d_reg = 11\n",
    "print(mac_grob([f1,f2,f3,f4],R), '\\n') # solve.deg > 19, this is as far as I've gotten before the kernel dies\n",
    "print(sdeg([f1,f2,f3,f4],R), '\\n') # sd = 11, computation took several hours on a previous attempt, won't repeat here\n",
    "#print(lfd([f1,f2,f3,f4],R), '\\n') # d_F = 11, computation took several hours on a previous attempt, won't repeat here"
   ]
  },
  {
   "cell_type": "code",
   "execution_count": null,
   "id": "59dfc489",
   "metadata": {},
   "outputs": [],
   "source": [
    "# Continuing Example 2.4, checking regularity of F^h\n",
    "S.<w,x,y,z,h> = PolynomialRing(QQ, order = \"lex\")\n",
    "h_list = [f.homogenize() for f in [f1,f2,f3,f4]]\n",
    "print(ideal(h_list).groebner_basis())\n",
    "len(ideal(h_list)._singular_().mres(0).betti())/5"
   ]
  },
  {
   "cell_type": "code",
   "execution_count": null,
   "id": "b0238430",
   "metadata": {},
   "outputs": [],
   "source": [
    "# Continuing Example 2.4, checking regularity of in(F^h)\n",
    "S.<w,x,y,z,h> = PolynomialRing(QQ, order = \"lex\")\n",
    "h_list = [f.homogenize() for f in [f1,f2,f3,f4]]\n",
    "Fh = ideal(h_list)\n",
    "in_list = [f.lt() for f in Fh.groebner_basis()]\n",
    "len(ideal(in_list)._singular_().mres(0).betti())/6 # reg(in(F^h)) = 20"
   ]
  },
  {
   "cell_type": "code",
   "execution_count": 55,
   "id": "ef8cb6e2",
   "metadata": {},
   "outputs": [
    {
     "name": "stdout",
     "output_type": "stream",
     "text": [
      "Ideal (y - h, x + h) of Multivariate Polynomial Ring in x, y, h over Finite Field of size 11     False\n",
      "Ideal (y + h, x + h) of Multivariate Polynomial Ring in x, y, h over Finite Field of size 11     False\n"
     ]
    }
   ],
   "source": [
    "# Example 4.1 -- genericity check\n",
    "S.<x,y,h> = PolynomialRing(GF(11), order = \"degrevlex\")\n",
    "f1 = x*y + y\n",
    "f2 = y^2 - 1\n",
    "f3 = x^10 - 1\n",
    "Fh = ideal([f.homogenize() for f in [f1,f2,f3]])\n",
    "for prime in Fh.saturation(ideal(x,y,h))[0].associated_primes():\n",
    "    print(prime, '   ', h in prime)"
   ]
  },
  {
   "cell_type": "code",
   "execution_count": 57,
   "id": "22f5bdc6",
   "metadata": {},
   "outputs": [
    {
     "name": "stdout",
     "output_type": "stream",
     "text": [
      "Ideal (z + 2*h, y - h, x + h) of Multivariate Polynomial Ring in x, y, z, h over Finite Field of size 7     False\n",
      "Ideal (z + h, y - h, x + h) of Multivariate Polynomial Ring in x, y, z, h over Finite Field of size 7     False\n",
      "Ideal (z + 3*h, y - h, x + h) of Multivariate Polynomial Ring in x, y, z, h over Finite Field of size 7     False\n",
      "Ideal (z - 2*h, y - h, x + h) of Multivariate Polynomial Ring in x, y, z, h over Finite Field of size 7     False\n",
      "Ideal (z - h, y - h, x + h) of Multivariate Polynomial Ring in x, y, z, h over Finite Field of size 7     False\n",
      "Ideal (z - 3*h, y - h, x + h) of Multivariate Polynomial Ring in x, y, z, h over Finite Field of size 7     False\n",
      "Ideal (z + 2*h, y + h, x + h) of Multivariate Polynomial Ring in x, y, z, h over Finite Field of size 7     False\n",
      "Ideal (z + h, y + h, x + h) of Multivariate Polynomial Ring in x, y, z, h over Finite Field of size 7     False\n",
      "Ideal (z + 3*h, y + h, x + h) of Multivariate Polynomial Ring in x, y, z, h over Finite Field of size 7     False\n",
      "Ideal (z - 2*h, y + h, x + h) of Multivariate Polynomial Ring in x, y, z, h over Finite Field of size 7     False\n",
      "Ideal (z - h, y + h, x + h) of Multivariate Polynomial Ring in x, y, z, h over Finite Field of size 7     False\n",
      "Ideal (z - 3*h, y + h, x + h) of Multivariate Polynomial Ring in x, y, z, h over Finite Field of size 7     False\n",
      "Ideal (h, z, y) of Multivariate Polynomial Ring in x, y, z, h over Finite Field of size 7     True\n"
     ]
    }
   ],
   "source": [
    "# Example 4.2 -- genericity check\n",
    "R.<x,y,z,h> = PolynomialRing(GF(7), order = \"degrevlex\")\n",
    "f1 = x*y + y\n",
    "f2 = y^2 - 1\n",
    "f3 = z^6 - 1\n",
    "Fh = ideal([f.homogenize() for f in [f1,f2,f3]])\n",
    "for prime in Fh.saturation(ideal(x,y,z,h))[0].associated_primes():\n",
    "    print(prime, '   ', h in prime)"
   ]
  },
  {
   "cell_type": "code",
   "execution_count": 61,
   "id": "17904cc2",
   "metadata": {},
   "outputs": [
    {
     "name": "stdout",
     "output_type": "stream",
     "text": [
      "Ideal (y - h, x - h) of Multivariate Polynomial Ring in x, y, h over Finite Field of size 13     False\n",
      "Ideal (y + h, x - h) of Multivariate Polynomial Ring in x, y, h over Finite Field of size 13     False\n",
      "Ideal (y - h, x + h) of Multivariate Polynomial Ring in x, y, h over Finite Field of size 13     False\n",
      "Ideal (y + h, x + h) of Multivariate Polynomial Ring in x, y, h over Finite Field of size 13     False\n"
     ]
    }
   ],
   "source": [
    "# Example 4.3 -- genericity check\n",
    "R.<x,y,h> = PolynomialRing(GF(13), order = \"degrevlex\")\n",
    "f1 = x^2 - 1\n",
    "f2 = y^2 - 1\n",
    "Fh = ideal([f.homogenize() for f in [f1,f2]])\n",
    "for prime in Fh.saturation(ideal(x,y,h))[0].associated_primes():\n",
    "    print(prime, '   ', h in prime)"
   ]
  },
  {
   "cell_type": "code",
   "execution_count": 37,
   "id": "d033cddd",
   "metadata": {},
   "outputs": [
    {
     "name": "stdout",
     "output_type": "stream",
     "text": [
      "Ideal (z - 2*h, y - h, x - h, w - 2*h) of Multivariate Polynomial Ring in w, x, y, z, h over Finite Field of size 5     False\n",
      "Ideal (z - 2*h, y + h, x + h, w - 2*h) of Multivariate Polynomial Ring in w, x, y, z, h over Finite Field of size 5     False\n",
      "Ideal (z + h, y - h, x - h, w - 2*h) of Multivariate Polynomial Ring in w, x, y, z, h over Finite Field of size 5     False\n",
      "Ideal (z + h, y + h, x + h, w - 2*h) of Multivariate Polynomial Ring in w, x, y, z, h over Finite Field of size 5     False\n",
      "Ideal (z - h, y - h, x - h, w - 2*h) of Multivariate Polynomial Ring in w, x, y, z, h over Finite Field of size 5     False\n",
      "Ideal (z - h, y + h, x + h, w - 2*h) of Multivariate Polynomial Ring in w, x, y, z, h over Finite Field of size 5     False\n",
      "Ideal (z + 2*h, y - h, x - h, w - 2*h) of Multivariate Polynomial Ring in w, x, y, z, h over Finite Field of size 5     False\n",
      "Ideal (z + 2*h, y + h, x + h, w - 2*h) of Multivariate Polynomial Ring in w, x, y, z, h over Finite Field of size 5     False\n",
      "Ideal (z - 2*h, y - h, x - h, w + h) of Multivariate Polynomial Ring in w, x, y, z, h over Finite Field of size 5     False\n",
      "Ideal (z - 2*h, y + h, x + h, w + h) of Multivariate Polynomial Ring in w, x, y, z, h over Finite Field of size 5     False\n",
      "Ideal (z + h, y - h, x - h, w + h) of Multivariate Polynomial Ring in w, x, y, z, h over Finite Field of size 5     False\n",
      "Ideal (z + h, y + h, x + h, w + h) of Multivariate Polynomial Ring in w, x, y, z, h over Finite Field of size 5     False\n",
      "Ideal (z - h, y - h, x - h, w + h) of Multivariate Polynomial Ring in w, x, y, z, h over Finite Field of size 5     False\n",
      "Ideal (z - h, y + h, x + h, w + h) of Multivariate Polynomial Ring in w, x, y, z, h over Finite Field of size 5     False\n",
      "Ideal (z + 2*h, y - h, x - h, w + h) of Multivariate Polynomial Ring in w, x, y, z, h over Finite Field of size 5     False\n",
      "Ideal (z + 2*h, y + h, x + h, w + h) of Multivariate Polynomial Ring in w, x, y, z, h over Finite Field of size 5     False\n",
      "Ideal (z - 2*h, y - h, x - h, w - h) of Multivariate Polynomial Ring in w, x, y, z, h over Finite Field of size 5     False\n",
      "Ideal (z - 2*h, y + h, x + h, w - h) of Multivariate Polynomial Ring in w, x, y, z, h over Finite Field of size 5     False\n",
      "Ideal (z + h, y - h, x - h, w - h) of Multivariate Polynomial Ring in w, x, y, z, h over Finite Field of size 5     False\n",
      "Ideal (z + h, y + h, x + h, w - h) of Multivariate Polynomial Ring in w, x, y, z, h over Finite Field of size 5     False\n",
      "Ideal (z - h, y - h, x - h, w - h) of Multivariate Polynomial Ring in w, x, y, z, h over Finite Field of size 5     False\n",
      "Ideal (z - h, y + h, x + h, w - h) of Multivariate Polynomial Ring in w, x, y, z, h over Finite Field of size 5     False\n",
      "Ideal (z + 2*h, y - h, x - h, w - h) of Multivariate Polynomial Ring in w, x, y, z, h over Finite Field of size 5     False\n",
      "Ideal (z + 2*h, y + h, x + h, w - h) of Multivariate Polynomial Ring in w, x, y, z, h over Finite Field of size 5     False\n",
      "Ideal (z - 2*h, y - h, x - h, w + 2*h) of Multivariate Polynomial Ring in w, x, y, z, h over Finite Field of size 5     False\n",
      "Ideal (z - 2*h, y + h, x + h, w + 2*h) of Multivariate Polynomial Ring in w, x, y, z, h over Finite Field of size 5     False\n",
      "Ideal (z + h, y - h, x - h, w + 2*h) of Multivariate Polynomial Ring in w, x, y, z, h over Finite Field of size 5     False\n",
      "Ideal (z + h, y + h, x + h, w + 2*h) of Multivariate Polynomial Ring in w, x, y, z, h over Finite Field of size 5     False\n",
      "Ideal (z - h, y - h, x - h, w + 2*h) of Multivariate Polynomial Ring in w, x, y, z, h over Finite Field of size 5     False\n",
      "Ideal (z - h, y + h, x + h, w + 2*h) of Multivariate Polynomial Ring in w, x, y, z, h over Finite Field of size 5     False\n",
      "Ideal (z + 2*h, y - h, x - h, w + 2*h) of Multivariate Polynomial Ring in w, x, y, z, h over Finite Field of size 5     False\n",
      "Ideal (z + 2*h, y + h, x + h, w + 2*h) of Multivariate Polynomial Ring in w, x, y, z, h over Finite Field of size 5     False\n",
      "Ideal (h, x, w) of Multivariate Polynomial Ring in w, x, y, z, h over Finite Field of size 5     True\n",
      "Ideal (h, z, x, w) of Multivariate Polynomial Ring in w, x, y, z, h over Finite Field of size 5     True\n",
      "Ideal (h, y, x, w) of Multivariate Polynomial Ring in w, x, y, z, h over Finite Field of size 5     True\n"
     ]
    }
   ],
   "source": [
    "# Example 4.4 -- genericity check\n",
    "R.<w,x,y,z,h> = PolynomialRing(GF(5), order = \"degrevlex\")\n",
    "f1 = x^2 - 1\n",
    "f2 = x*y - 1\n",
    "f3 = w^5 - w\n",
    "f4 = w^4*z^4 - 1\n",
    "Fh = ideal([f.homogenize() for f in [f1,f2,f3,f4]])\n",
    "for prime in Fh.saturation(ideal(w,x,y,z,h))[0].associated_primes():\n",
    "    print(prime, '   ', h in prime)"
   ]
  },
  {
   "cell_type": "code",
   "execution_count": 63,
   "id": "479d0d53",
   "metadata": {},
   "outputs": [
    {
     "name": "stdout",
     "output_type": "stream",
     "text": [
      "Ideal (y - h, x - h, w*z + z^2 + w*h + z*h + h^2, w^2 - z*h, z^3 - w*h^2) of Multivariate Polynomial Ring in w, x, y, z, h over Rational Field     False\n",
      "Ideal (y - h, x - h, z^2 - w*h, w^2 + w*z + w*h + z*h + h^2) of Multivariate Polynomial Ring in w, x, y, z, h over Rational Field     False\n",
      "Ideal (y - h, x - h, w*z - h^2, w^2 + z^2 + w*h + z*h + h^2, z^3 + z^2*h + w*h^2 + z*h^2 + h^3) of Multivariate Polynomial Ring in w, x, y, z, h over Rational Field     False\n",
      "Ideal (y - h, x - h, w - z, z^4 + z^3*h + z^2*h^2 + z*h^3 + h^4) of Multivariate Polynomial Ring in w, x, y, z, h over Rational Field     False\n",
      "Ideal (z - h, y - h, x - h, w^4 + w^3*h + w^2*h^2 + w*h^3 + h^4) of Multivariate Polynomial Ring in w, x, y, z, h over Rational Field     False\n",
      "Ideal (y - h, x - h, w - h, z^4 + z^3*h + z^2*h^2 + z*h^3 + h^4) of Multivariate Polynomial Ring in w, x, y, z, h over Rational Field     False\n",
      "Ideal (z - h, y - h, x - h, w - h) of Multivariate Polynomial Ring in w, x, y, z, h over Rational Field     False\n",
      "Ideal (h, x, w) of Multivariate Polynomial Ring in w, x, y, z, h over Rational Field     True\n",
      "Ideal (h, z, x, w) of Multivariate Polynomial Ring in w, x, y, z, h over Rational Field     True\n",
      "Ideal (h, y, x, w) of Multivariate Polynomial Ring in w, x, y, z, h over Rational Field     True\n"
     ]
    }
   ],
   "source": [
    "# Example 2.4 -- genericity check\n",
    "R.<w,x,y,z,h> = PolynomialRing(QQ, order = \"degrevlex\")\n",
    "f1 = x^2 - x\n",
    "f2 = x*y - 1\n",
    "f3 = w^6 - w\n",
    "f4 = w^5*z^5 - 1\n",
    "Fh = ideal([f.homogenize() for f in [f1,f2,f3,f4]])\n",
    "for prime in Fh.saturation(ideal(w,x,y,z,h))[0].associated_primes():\n",
    "    print(prime, '   ', h in prime)"
   ]
  },
  {
   "cell_type": "code",
   "execution_count": 38,
   "id": "70ea3d4d",
   "metadata": {},
   "outputs": [
    {
     "name": "stdout",
     "output_type": "stream",
     "text": [
      "Ideal (z + h, y - 3*h, x - 2*h) of Multivariate Polynomial Ring in x, y, z, h over Finite Field of size 7     False\n",
      "Ideal (z - h, y - 3*h, x + 3*h) of Multivariate Polynomial Ring in x, y, z, h over Finite Field of size 7     False\n",
      "Ideal (z + 3*h, y + h, x) of Multivariate Polynomial Ring in x, y, z, h over Finite Field of size 7     False\n",
      "Ideal (z - h, y + h, x - h) of Multivariate Polynomial Ring in x, y, z, h over Finite Field of size 7     False\n",
      "Ideal (z - h, y - 2*h, x + 2*h) of Multivariate Polynomial Ring in x, y, z, h over Finite Field of size 7     False\n",
      "Ideal (z + h, y - 2*h, x - 3*h) of Multivariate Polynomial Ring in x, y, z, h over Finite Field of size 7     False\n",
      "Ideal (z - h, y + 3*h, x - 3*h) of Multivariate Polynomial Ring in x, y, z, h over Finite Field of size 7     False\n",
      "Ideal (z - h, y - h, x + h) of Multivariate Polynomial Ring in x, y, z, h over Finite Field of size 7     False\n",
      "Ideal (z - 3*h, y + 2*h, x) of Multivariate Polynomial Ring in x, y, z, h over Finite Field of size 7     False\n",
      "Ideal (z - h, y + 2*h, x - 2*h) of Multivariate Polynomial Ring in x, y, z, h over Finite Field of size 7     False\n"
     ]
    }
   ],
   "source": [
    "# Example from Minko's Thesis -- genericity check\n",
    "R.<x,y,z,h> = PolynomialRing(GF(7), order = 'degrevlex')\n",
    "f1 = x^5 + y^5 + z^5 - 1\n",
    "f2 = x^3 + y^3 + z^2 - 1\n",
    "f3 = y^6 - 1\n",
    "f4 = z^6 - 1\n",
    "f_list = [f1*f1*f1, f1*f1*f2, f1*f1*f3, f1*f1*f4, f1*f2*f2, f1*f2*f3, f1*f2*f4, f1*f3*f3, f1*f3*f4, f1*f4*f4, f2*f2*f2, f2*f2*f3, f2*f2*f4, f2*f3*f3, f2*f3*f4, f2*f4*f4, f3*f3*f3, f3*f3*f4, f3*f4*f4, f4*f4*f4, x^7 - x, y^7 - y, z^7 - z]\n",
    "Fh = ideal([f.homogenize() for f in f_list])\n",
    "for prime in Fh.saturation(ideal(x,y,z,h))[0].associated_primes():\n",
    "    print(prime, '   ', h in prime)"
   ]
  },
  {
   "cell_type": "code",
   "execution_count": 20,
   "id": "82e5f368",
   "metadata": {},
   "outputs": [
    {
     "name": "stdout",
     "output_type": "stream",
     "text": [
      "[x^15 + 3*x^10*y^5 + 3*x^5*y^10 + y^15 + 3*x^10*z^5 - x^5*y^5*z^5 + 3*y^10*z^5 + 3*x^5*z^10 + 3*y^5*z^10 + z^15 - 3*x^10*h^5 + x^5*y^5*h^5 - 3*y^10*h^5 + x^5*z^5*h^5 + y^5*z^5*h^5 - 3*z^10*h^5 + 3*x^5*h^10 + 3*y^5*h^10 + 3*z^5*h^10 - h^15, x^13 + x^10*y^3 + 2*x^8*y^5 + 2*x^5*y^8 + x^3*y^10 + y^13 + 2*x^8*z^5 + 2*x^5*y^3*z^5 + 2*x^3*y^5*z^5 + 2*y^8*z^5 + x^3*z^10 + y^3*z^10 + x^10*z^2*h + 2*x^5*y^5*z^2*h + y^10*z^2*h + 2*x^5*z^7*h + 2*y^5*z^7*h + z^12*h - x^10*h^3 - 2*x^5*y^5*h^3 - y^10*h^3 - 2*x^5*z^5*h^3 - 2*y^5*z^5*h^3 - z^10*h^3 - 2*x^8*h^5 - 2*x^5*y^3*h^5 - 2*x^3*y^5*h^5 - 2*y^8*h^5 - 2*x^3*z^5*h^5 - 2*y^3*z^5*h^5 - 2*x^5*z^2*h^6 - 2*y^5*z^2*h^6 - 2*z^7*h^6 + 2*x^5*h^8 + 2*y^5*h^8 + 2*z^5*h^8 + x^3*h^10 + y^3*h^10 + z^2*h^11 - h^13, x^10*y^6 + 2*x^5*y^11 + y^16 + 2*x^5*y^6*z^5 + 2*y^11*z^5 + y^6*z^10 - 2*x^5*y^6*h^5 - 2*y^11*h^5 - 2*y^6*z^5*h^5 - x^10*h^6 - 2*x^5*y^5*h^6 - y^10*h^6 - 2*x^5*z^5*h^6 - 2*y^5*z^5*h^6 - z^10*h^6 + y^6*h^10 + 2*x^5*h^11 + 2*y^5*h^11 + 2*z^5*h^11 - h^16, x^10*z^6 + 2*x^5*y^5*z^6 + y^10*z^6 + 2*x^5*z^11 + 2*y^5*z^11 + z^16 - 2*x^5*z^6*h^5 - 2*y^5*z^6*h^5 - 2*z^11*h^5 - x^10*h^6 - 2*x^5*y^5*h^6 - y^10*h^6 - 2*x^5*z^5*h^6 - 2*y^5*z^5*h^6 - z^10*h^6 + z^6*h^10 + 2*x^5*h^11 + 2*y^5*h^11 + 2*z^5*h^11 - h^16, x^11 + 2*x^8*y^3 + x^6*y^5 + x^5*y^6 + 2*x^3*y^8 + y^11 + x^6*z^5 + 2*x^3*y^3*z^5 + y^6*z^5 + 2*x^8*z^2*h + 2*x^5*y^3*z^2*h + 2*x^3*y^5*z^2*h + 2*y^8*z^2*h + 2*x^3*z^7*h + 2*y^3*z^7*h + x^5*z^4*h^2 + y^5*z^4*h^2 + z^9*h^2 - 2*x^8*h^3 - 2*x^5*y^3*h^3 - 2*x^3*y^5*h^3 - 2*y^8*h^3 - 2*x^3*z^5*h^3 - 2*y^3*z^5*h^3 - 2*x^5*z^2*h^4 - 2*y^5*z^2*h^4 - 2*z^7*h^4 - x^6*h^5 - 2*x^3*y^3*h^5 - y^6*h^5 + x^5*h^6 + y^5*h^6 - 2*x^3*z^2*h^6 - 2*y^3*z^2*h^6 + z^5*h^6 - z^4*h^7 + 2*x^3*h^8 + 2*y^3*h^8 + 2*z^2*h^9 - h^11, x^8*y^6 + x^5*y^9 + x^3*y^11 + y^14 + x^3*y^6*z^5 + y^9*z^5 + x^5*y^6*z^2*h + y^11*z^2*h + y^6*z^7*h - x^5*y^6*h^3 - y^11*h^3 - y^6*z^5*h^3 - x^3*y^6*h^5 - y^9*h^5 - x^8*h^6 - x^5*y^3*h^6 - x^3*y^5*h^6 - y^8*h^6 - y^6*z^2*h^6 - x^3*z^5*h^6 - y^3*z^5*h^6 - x^5*z^2*h^7 - y^5*z^2*h^7 - z^7*h^7 + y^6*h^8 + x^5*h^9 + y^5*h^9 + z^5*h^9 + x^3*h^11 + y^3*h^11 + z^2*h^12 - h^14, x^8*z^6 + x^5*y^3*z^6 + x^3*y^5*z^6 + y^8*z^6 + x^3*z^11 + y^3*z^11 + x^5*z^8*h + y^5*z^8*h + z^13*h - x^5*z^6*h^3 - y^5*z^6*h^3 - z^11*h^3 - x^3*z^6*h^5 - y^3*z^6*h^5 - x^8*h^6 - x^5*y^3*h^6 - x^3*y^5*h^6 - y^8*h^6 - x^3*z^5*h^6 - y^3*z^5*h^6 - z^8*h^6 - x^5*z^2*h^7 - y^5*z^2*h^7 - z^7*h^7 + z^6*h^8 + x^5*h^9 + y^5*h^9 + z^5*h^9 + x^3*h^11 + y^3*h^11 + z^2*h^12 - h^14, x^5*y^12 + y^17 + y^12*z^5 - y^12*h^5 - 2*x^5*y^6*h^6 - 2*y^11*h^6 - 2*y^6*z^5*h^6 + 2*y^6*h^11 + x^5*h^12 + y^5*h^12 + z^5*h^12 - h^17, x^5*y^6*z^6 + y^11*z^6 + y^6*z^11 - y^6*z^6*h^5 - x^5*y^6*h^6 - y^11*h^6 - y^6*z^5*h^6 - x^5*z^6*h^6 - y^5*z^6*h^6 - z^11*h^6 + y^6*h^11 + z^6*h^11 + x^5*h^12 + y^5*h^12 + z^5*h^12 - h^17, x^5*z^12 + y^5*z^12 + z^17 - z^12*h^5 - 2*x^5*z^6*h^6 - 2*y^5*z^6*h^6 - 2*z^11*h^6 + 2*z^6*h^11 + x^5*h^12 + y^5*h^12 + z^5*h^12 - h^17, x^9 + 3*x^6*y^3 + 3*x^3*y^6 + y^9 + 3*x^6*z^2*h - x^3*y^3*z^2*h + 3*y^6*z^2*h + 3*x^3*z^4*h^2 + 3*y^3*z^4*h^2 - 3*x^6*h^3 + x^3*y^3*h^3 - 3*y^6*h^3 + z^6*h^3 + x^3*z^2*h^4 + y^3*z^2*h^4 - 3*z^4*h^5 + 3*x^3*h^6 + 3*y^3*h^6 + 3*z^2*h^7 - h^9, x^6*y^6 + 2*x^3*y^9 + y^12 + 2*x^3*y^6*z^2*h + 2*y^9*z^2*h + y^6*z^4*h^2 - 2*x^3*y^6*h^3 - 2*y^9*h^3 - 2*y^6*z^2*h^4 - x^6*h^6 - 2*x^3*y^3*h^6 - 2*x^3*z^2*h^7 - 2*y^3*z^2*h^7 - z^4*h^8 + 2*x^3*h^9 + 2*y^3*h^9 + 2*z^2*h^10 - h^12, x^6*z^6 + 2*x^3*y^3*z^6 + y^6*z^6 + 2*x^3*z^8*h + 2*y^3*z^8*h + z^10*h^2 - 2*x^3*z^6*h^3 - 2*y^3*z^6*h^3 - 2*z^8*h^4 - x^6*h^6 - 2*x^3*y^3*h^6 - y^6*h^6 + z^6*h^6 - 2*x^3*z^2*h^7 - 2*y^3*z^2*h^7 - z^4*h^8 + 2*x^3*h^9 + 2*y^3*h^9 + 2*z^2*h^10 - h^12, x^3*y^12 + y^15 + y^12*z^2*h - y^12*h^3 - 2*x^3*y^6*h^6 - 2*y^9*h^6 - 2*y^6*z^2*h^7 + 2*y^6*h^9 + x^3*h^12 + y^3*h^12 + z^2*h^13 - h^15, x^3*y^6*z^6 + y^9*z^6 + y^6*z^8*h - y^6*z^6*h^3 - x^3*y^6*h^6 - y^9*h^6 - x^3*z^6*h^6 - y^3*z^6*h^6 - y^6*z^2*h^7 - z^8*h^7 + y^6*h^9 + z^6*h^9 + x^3*h^12 + y^3*h^12 + z^2*h^13 - h^15, x^3*z^12 + y^3*z^12 + z^14*h - z^12*h^3 - 2*x^3*z^6*h^6 - 2*y^3*z^6*h^6 - 2*z^8*h^7 + 2*z^6*h^9 + x^3*h^12 + y^3*h^12 + z^2*h^13 - h^15, y^18 - 3*y^12*h^6 + 3*y^6*h^12 - h^18, y^12*z^6 - y^12*h^6 - 2*y^6*z^6*h^6 + 2*y^6*h^12 + z^6*h^12 - h^18, y^6*z^12 - 2*y^6*z^6*h^6 - z^12*h^6 + y^6*h^12 + 2*z^6*h^12 - h^18, z^18 - 3*z^12*h^6 + 3*z^6*h^12 - h^18, x^7 - x*h^6, y^7 - y*h^6, z^7 - z*h^6]\n"
     ]
    }
   ],
   "source": [
    "print([f.homogenize() for f in f_list])"
   ]
  },
  {
   "cell_type": "code",
   "execution_count": 24,
   "id": "73be1731",
   "metadata": {},
   "outputs": [
    {
     "name": "stdout",
     "output_type": "stream",
     "text": [
      "[x*y*h^20, x*y^2*h^18, y^2*z*h^18, z^2*h^19, x*y^3*h^16, y^3*z*h^16, z^3*h^17, x^2*h^18, x*y^4*h^14, y^4*z*h^14, y*z^3*h^15, x^2*y*h^16, x*y*z*h^16, y*z^2*h^16, x*y^5*h^12, y^6*h^12, y^2*z^3*h^13, x^2*y^2*h^14, x*y^2*z*h^14, y^2*z^2*h^14, x*z^3*h^14, z^4*h^14, x^2*z*h^15, x*z^2*h^15, x*y^5*z*h^10, y^6*z*h^10, x^5*z^2*h^10, x^4*y*z^2*h^10, x^3*y^2*z^2*h^10, x^2*y^3*z^2*h^10, x*y^4*z^2*h^10, y^5*z^2*h^10, x^4*z^3*h^10, x^3*y*z^3*h^10, x^2*y^2*z^3*h^10, x*y^3*z^3*h^10, y^4*z^3*h^10, x^3*z^4*h^10, x^2*y*z^4*h^10, x*y^2*z^4*h^10, y^3*z^4*h^10, x^2*z^5*h^10, x*y*z^5*h^10, y^2*z^5*h^10, y*z^6*h^10, x^6*h^11, x^5*y*h^11, x^4*y^2*h^11, x^3*y^3*h^11, x^5*z*h^11, x^4*y*z*h^11, x^3*y^2*z*h^11, x^2*y^3*z*h^11, x^4*z^2*h^11, x^3*y*z^2*h^11, x^2*y^2*z^2*h^11, x*y^3*z^2*h^11, y^4*z^2*h^11, x^3*z^3*h^11, x^2*y*z^3*h^11, x*y^2*z^3*h^11, y^3*z^3*h^11, x^2*z^4*h^11, x*y*z^4*h^11, y^2*z^4*h^11, x*z^5*h^11, y*z^5*h^11, z^6*h^11, x^5*h^12, x^4*y*h^12, x^3*y^2*h^12, x^2*y^3*h^12, x^4*z*h^12, x^3*y*z*h^12, x^2*y^2*z*h^12, x*y^3*z*h^12, x^3*z^2*h^12, x^2*y*z^2*h^12, x*y^2*z^2*h^12, y^3*z^2*h^12, x^2*z^3*h^12, x*y*z^3*h^12, x*z^4*h^12, y*z^4*h^12, z^5*h^12, x^4*h^13, x^3*y*h^13, x^3*z*h^13, x^2*y*z*h^13, x^2*z^2*h^13, x*y*z^2*h^13, x^3*h^14, x^2*y^3*z^5*h^6, y^5*z^5*h^6, x^2*y^5*z^2*h^7, x^5*y*z^3*h^7, x^5*z^4*h^7, x^3*y^2*z^4*h^7, x^2*y^3*z^4*h^7, x*y^4*z^4*h^7, y^5*z^4*h^7, x^2*y^2*z^5*h^7, x*y^3*z^5*h^7, y^4*z^5*h^7, x^2*y*z^6*h^7, x*y^2*z^6*h^7, x^6*y^2*h^8, x^5*y^3*h^8, x^4*y^4*h^8, x^3*y^5*h^8, x^2*y^6*h^8, x^6*y*z*h^8, x^5*y^2*z*h^8, x^4*y^3*z*h^8, x^3*y^4*z*h^8, x*y^6*z*h^8, x^5*y*z^2*h^8, x^4*y^2*z^2*h^8, x^3*y^3*z^2*h^8, x^2*y^4*z^2*h^8, x*y^5*z^2*h^8, y^6*z^2*h^8, x^5*z^3*h^8, x^4*y*z^3*h^8, x^3*y^2*z^3*h^8, x^2*y^3*z^3*h^8, x*y^4*z^3*h^8, y^5*z^3*h^8, x^4*z^4*h^8, x^3*y*z^4*h^8, x^2*y^2*z^4*h^8, x*y^3*z^4*h^8, y^4*z^4*h^8, x^3*z^5*h^8, x^2*y*z^5*h^8, x*y^2*z^5*h^8, y^3*z^5*h^8, x^2*z^6*h^8, x*y*z^6*h^8, y^2*z^6*h^8, x^6*y*h^9, x^5*y^2*h^9, x^4*y^3*h^9, x^3*y^4*h^9, x*y^6*h^9, x^6*z*h^9, x^5*y*z*h^9, x^4*y^2*z*h^9, x^3*y^3*z*h^9, x^2*y^4*z*h^9, x*z^6*h^9, y^6*z^6*h^3, x^3*y^5*z^3*h^4, x*y^5*z^5*h^4, y^6*z^5*h^4, x^3*y^6*z*h^5, x*y^6*z^3*h^5, x^3*y^3*z^4*h^5, x*y^4*z^5*h^5, x^3*y*z^6*h^5, x^2*y^2*z^6*h^5, x*y^3*z^6*h^5, y^4*z^6*h^5, x^5*y^4*h^6, x^4*y^5*h^6, x^3*y^6*h^6, x^5*y^3*z*h^6, x^3*y^5*z*h^6, x^2*y^6*z*h^6, x^6*y*z^2*h^6, x^5*y^2*z^2*h^6, x^4*y^3*z^2*h^6, x^3*y^4*z^2*h^6, x*y^6*z^2*h^6, x^3*y^3*z^3*h^6, x*y^5*z^3*h^6, y^6*z^3*h^6, x^4*y*z^4*h^6, x^3*y*z^5*h^6, x^3*z^6*h^6, y^3*z^6*h^6, x^6*z^2*h^7, x^3*y^2*z^6*h^3, x*y^4*z^6*h^3, x^6*y*z^3*h^4, x^4*y^3*z^3*h^4, x^4*y*z^5*h^4, x^3*y^2*z^5*h^4, x^6*y^2*z*h^5, x^4*y^4*z*h^5, x^6*z^3*h^5, x^4*y^2*z^3*h^5, x^2*y^4*z^3*h^5, x^4*z^5*h^5, x^3*y^5*z^5, x^4*y^3*z^4*h^2, x^3*y^4*z^4*h^2, x*y^6*z^4*h^2, x^4*y^2*z^5*h^2, x^3*y^3*z^5*h^2, x^2*y^4*z^5*h^2, x^4*z^6*h^3, x^4*y^3*z^5, x^3*y^6*z^2*h, x^6*y^2*z^3*h, x^6*z^4*h^2, x^6*z^5, x^4*y^4*z^2*h, x^4*y^6, x^6*y^3, x^7, y^7, z^7]\n"
     ]
    }
   ],
   "source": [
    "print([f.lt() for f in Fh.groebner_basis()])"
   ]
  },
  {
   "cell_type": "code",
   "execution_count": 28,
   "id": "cf24aeaf",
   "metadata": {},
   "outputs": [],
   "source": [
    "# Example 4.4\n",
    "R.<w,x,y,z> = PolynomialRing(GF(5), order = \"degrevlex\")\n",
    "f1 = x^2 - 1\n",
    "f2 = x*y - 1\n",
    "f3 = w^5 - w\n",
    "f4 = w^4*z^4 - 1\n",
    "I = Ideal(f1,f2,f3,f4)\n",
    "S.<w,x,y,z,h> = PolynomialRing(GF(5), order = \"degrevlex\")\n",
    "h_list = [f.homogenize() for f in [f1,f2,f3,f4]]\n",
    "Fh = ideal(h_list)\n",
    "in_list = [f.lt() for f in Fh.groebner_basis()]"
   ]
  },
  {
   "cell_type": "code",
   "execution_count": 29,
   "id": "b24a3929",
   "metadata": {},
   "outputs": [
    {
     "data": {
      "text/plain": [
       "[x^2 - h^2, x*y - h^2, w^5 - w*h^4, w^4*z^4 - h^8]"
      ]
     },
     "execution_count": 29,
     "metadata": {},
     "output_type": "execute_result"
    }
   ],
   "source": [
    "h_list"
   ]
  },
  {
   "cell_type": "code",
   "execution_count": 30,
   "id": "22568afd",
   "metadata": {},
   "outputs": [
    {
     "data": {
      "text/plain": [
       "[z^4*h^12, w^4*h^8, w*z^4*h^4, w^4*z^4, w^5, y^2*h^2, x*h^2, x^2, x*y]"
      ]
     },
     "execution_count": 30,
     "metadata": {},
     "output_type": "execute_result"
    }
   ],
   "source": [
    "in_list"
   ]
  },
  {
   "cell_type": "code",
   "execution_count": 18,
   "id": "f069254e",
   "metadata": {},
   "outputs": [
    {
     "data": {
      "text/plain": [
       "15"
      ]
     },
     "execution_count": 18,
     "metadata": {},
     "output_type": "execute_result"
    }
   ],
   "source": [
    "# Example from Minko's Thesis -- degree of regularity\n",
    "R.<x,y,z> = PolynomialRing(GF(7), order = 'degrevlex')\n",
    "f1 = x^5 + y^5 + z^5 - 1\n",
    "f2 = x^3 + y^3 + z^2 - 1\n",
    "f3 = y^6 - 1\n",
    "f4 = z^6 - 1\n",
    "f_list = [f1*f1*f1, f1*f1*f2, f1*f1*f3, f1*f1*f4, f1*f2*f2, f1*f2*f3, f1*f2*f4, f1*f3*f3, f1*f3*f4, f1*f4*f4, f2*f2*f2, f2*f2*f3, f2*f2*f4, f2*f3*f3, f2*f3*f4, f2*f4*f4, f3*f3*f3, f3*f3*f4, f3*f4*f4, f4*f4*f4, x^7 - x, y^7 - y, z^7 - z]\n",
    "degree_reg(ideal(f_list), R)"
   ]
  },
  {
   "cell_type": "code",
   "execution_count": 28,
   "id": "99f09b98",
   "metadata": {},
   "outputs": [],
   "source": [
    "T = ideal(f_top(ideal(f_list),R))"
   ]
  },
  {
   "cell_type": "code",
   "execution_count": 30,
   "id": "ac4dc443",
   "metadata": {},
   "outputs": [
    {
     "data": {
      "text/plain": [
       "3*t^16 + 7*t^15 + 13*t^14 + 19*t^13 + 26*t^12 + 33*t^11 + 36*t^10 + 37*t^9 + 36*t^8 + 33*t^7 + 28*t^6 + 21*t^5 + 15*t^4 + 10*t^3 + 6*t^2 + 3*t + 1"
      ]
     },
     "execution_count": 30,
     "metadata": {},
     "output_type": "execute_result"
    }
   ],
   "source": [
    "hilbert_poincare_series(T)"
   ]
  },
  {
   "cell_type": "code",
   "execution_count": 32,
   "id": "fed08073",
   "metadata": {},
   "outputs": [
    {
     "data": {
      "text/plain": [
       "2*t^14 + 9*t^13 + 19*t^12 + 27*t^11 + 33*t^10 + 36*t^9 + 36*t^8 + 33*t^7 + 28*t^6 + 21*t^5 + 15*t^4 + 10*t^3 + 6*t^2 + 3*t + 1"
      ]
     },
     "execution_count": 32,
     "metadata": {},
     "output_type": "execute_result"
    }
   ],
   "source": [
    "T.hilbert_series()"
   ]
  },
  {
   "cell_type": "code",
   "execution_count": 34,
   "id": "275a2edd",
   "metadata": {},
   "outputs": [
    {
     "ename": "NameError",
     "evalue": "name 'hilbert_polynomial' is not defined",
     "output_type": "error",
     "traceback": [
      "\u001b[0;31m---------------------------------------------------------------------------\u001b[0m",
      "\u001b[0;31mNameError\u001b[0m                                 Traceback (most recent call last)",
      "\u001b[0;32m/var/folders/zf/986s30f52c3fssnjtqpb80w00000gn/T/ipykernel_39256/786726074.py\u001b[0m in \u001b[0;36m<module>\u001b[0;34m\u001b[0m\n\u001b[0;32m----> 1\u001b[0;31m \u001b[0mhilbert_polynomial\u001b[0m\u001b[0;34m(\u001b[0m\u001b[0mT\u001b[0m\u001b[0;34m)\u001b[0m\u001b[0;34m\u001b[0m\u001b[0;34m\u001b[0m\u001b[0m\n\u001b[0m",
      "\u001b[0;31mNameError\u001b[0m: name 'hilbert_polynomial' is not defined"
     ]
    }
   ],
   "source": []
  },
  {
   "cell_type": "code",
   "execution_count": 36,
   "id": "70719a12",
   "metadata": {},
   "outputs": [
    {
     "data": {
      "text/plain": [
       "[x^15 + 3*x^10*y^5 + 3*x^5*y^10 + y^15 + 3*x^10*z^5 - x^5*y^5*z^5 + 3*y^10*z^5 + 3*x^5*z^10 + 3*y^5*z^10 + z^15 - 3*x^10 + x^5*y^5 - 3*y^10 + x^5*z^5 + y^5*z^5 - 3*z^10 + 3*x^5 + 3*y^5 + 3*z^5 - 1,\n",
       " x^13 + x^10*y^3 + 2*x^8*y^5 + 2*x^5*y^8 + x^3*y^10 + y^13 + 2*x^8*z^5 + 2*x^5*y^3*z^5 + 2*x^3*y^5*z^5 + 2*y^8*z^5 + x^3*z^10 + y^3*z^10 + x^10*z^2 + 2*x^5*y^5*z^2 + y^10*z^2 + 2*x^5*z^7 + 2*y^5*z^7 + z^12 - x^10 - 2*x^5*y^5 - y^10 - 2*x^5*z^5 - 2*y^5*z^5 - z^10 - 2*x^8 - 2*x^5*y^3 - 2*x^3*y^5 - 2*y^8 - 2*x^3*z^5 - 2*y^3*z^5 - 2*x^5*z^2 - 2*y^5*z^2 - 2*z^7 + 2*x^5 + 2*y^5 + 2*z^5 + x^3 + y^3 + z^2 - 1,\n",
       " x^10*y^6 + 2*x^5*y^11 + y^16 + 2*x^5*y^6*z^5 + 2*y^11*z^5 + y^6*z^10 - 2*x^5*y^6 - 2*y^11 - 2*y^6*z^5 - x^10 - 2*x^5*y^5 - y^10 - 2*x^5*z^5 - 2*y^5*z^5 - z^10 + y^6 + 2*x^5 + 2*y^5 + 2*z^5 - 1,\n",
       " x^10*z^6 + 2*x^5*y^5*z^6 + y^10*z^6 + 2*x^5*z^11 + 2*y^5*z^11 + z^16 - 2*x^5*z^6 - 2*y^5*z^6 - 2*z^11 - x^10 - 2*x^5*y^5 - y^10 - 2*x^5*z^5 - 2*y^5*z^5 - z^10 + z^6 + 2*x^5 + 2*y^5 + 2*z^5 - 1,\n",
       " x^11 + 2*x^8*y^3 + x^6*y^5 + x^5*y^6 + 2*x^3*y^8 + y^11 + x^6*z^5 + 2*x^3*y^3*z^5 + y^6*z^5 + 2*x^8*z^2 + 2*x^5*y^3*z^2 + 2*x^3*y^5*z^2 + 2*y^8*z^2 + 2*x^3*z^7 + 2*y^3*z^7 + x^5*z^4 + y^5*z^4 + z^9 - 2*x^8 - 2*x^5*y^3 - 2*x^3*y^5 - 2*y^8 - 2*x^3*z^5 - 2*y^3*z^5 - 2*x^5*z^2 - 2*y^5*z^2 - 2*z^7 - x^6 - 2*x^3*y^3 - y^6 + x^5 + y^5 - 2*x^3*z^2 - 2*y^3*z^2 + z^5 - z^4 + 2*x^3 + 2*y^3 + 2*z^2 - 1,\n",
       " x^8*y^6 + x^5*y^9 + x^3*y^11 + y^14 + x^3*y^6*z^5 + y^9*z^5 + x^5*y^6*z^2 + y^11*z^2 + y^6*z^7 - x^5*y^6 - y^11 - y^6*z^5 - x^3*y^6 - y^9 - x^8 - x^5*y^3 - x^3*y^5 - y^8 - y^6*z^2 - x^3*z^5 - y^3*z^5 - x^5*z^2 - y^5*z^2 - z^7 + y^6 + x^5 + y^5 + z^5 + x^3 + y^3 + z^2 - 1,\n",
       " x^8*z^6 + x^5*y^3*z^6 + x^3*y^5*z^6 + y^8*z^6 + x^3*z^11 + y^3*z^11 + x^5*z^8 + y^5*z^8 + z^13 - x^5*z^6 - y^5*z^6 - z^11 - x^3*z^6 - y^3*z^6 - x^8 - x^5*y^3 - x^3*y^5 - y^8 - x^3*z^5 - y^3*z^5 - z^8 - x^5*z^2 - y^5*z^2 - z^7 + z^6 + x^5 + y^5 + z^5 + x^3 + y^3 + z^2 - 1,\n",
       " x^5*y^12 + y^17 + y^12*z^5 - y^12 - 2*x^5*y^6 - 2*y^11 - 2*y^6*z^5 + 2*y^6 + x^5 + y^5 + z^5 - 1,\n",
       " x^5*y^6*z^6 + y^11*z^6 + y^6*z^11 - y^6*z^6 - x^5*y^6 - y^11 - y^6*z^5 - x^5*z^6 - y^5*z^6 - z^11 + y^6 + z^6 + x^5 + y^5 + z^5 - 1,\n",
       " x^5*z^12 + y^5*z^12 + z^17 - z^12 - 2*x^5*z^6 - 2*y^5*z^6 - 2*z^11 + 2*z^6 + x^5 + y^5 + z^5 - 1,\n",
       " x^9 + 3*x^6*y^3 + 3*x^3*y^6 + y^9 + 3*x^6*z^2 - x^3*y^3*z^2 + 3*y^6*z^2 + 3*x^3*z^4 + 3*y^3*z^4 - 3*x^6 + x^3*y^3 - 3*y^6 + z^6 + x^3*z^2 + y^3*z^2 - 3*z^4 + 3*x^3 + 3*y^3 + 3*z^2 - 1,\n",
       " x^6*y^6 + 2*x^3*y^9 + y^12 + 2*x^3*y^6*z^2 + 2*y^9*z^2 + y^6*z^4 - 2*x^3*y^6 - 2*y^9 - 2*y^6*z^2 - x^6 - 2*x^3*y^3 - 2*x^3*z^2 - 2*y^3*z^2 - z^4 + 2*x^3 + 2*y^3 + 2*z^2 - 1,\n",
       " x^6*z^6 + 2*x^3*y^3*z^6 + y^6*z^6 + 2*x^3*z^8 + 2*y^3*z^8 + z^10 - 2*x^3*z^6 - 2*y^3*z^6 - 2*z^8 - x^6 - 2*x^3*y^3 - y^6 + z^6 - 2*x^3*z^2 - 2*y^3*z^2 - z^4 + 2*x^3 + 2*y^3 + 2*z^2 - 1,\n",
       " x^3*y^12 + y^15 + y^12*z^2 - y^12 - 2*x^3*y^6 - 2*y^9 - 2*y^6*z^2 + 2*y^6 + x^3 + y^3 + z^2 - 1,\n",
       " x^3*y^6*z^6 + y^9*z^6 + y^6*z^8 - y^6*z^6 - x^3*y^6 - y^9 - x^3*z^6 - y^3*z^6 - y^6*z^2 - z^8 + y^6 + z^6 + x^3 + y^3 + z^2 - 1,\n",
       " x^3*z^12 + y^3*z^12 + z^14 - z^12 - 2*x^3*z^6 - 2*y^3*z^6 - 2*z^8 + 2*z^6 + x^3 + y^3 + z^2 - 1,\n",
       " y^18 - 3*y^12 + 3*y^6 - 1,\n",
       " y^12*z^6 - y^12 - 2*y^6*z^6 + 2*y^6 + z^6 - 1,\n",
       " y^6*z^12 - 2*y^6*z^6 - z^12 + y^6 + 2*z^6 - 1,\n",
       " z^18 - 3*z^12 + 3*z^6 - 1,\n",
       " x^7 - x,\n",
       " y^7 - y,\n",
       " z^7 - z]"
      ]
     },
     "execution_count": 36,
     "metadata": {},
     "output_type": "execute_result"
    }
   ],
   "source": [
    "f_list"
   ]
  },
  {
   "cell_type": "code",
   "execution_count": 561,
   "id": "dc4a26b3",
   "metadata": {},
   "outputs": [],
   "source": [
    "def intl(I, ring):\n",
    "    G = I.groebner_basis()\n",
    "    in_gens = []\n",
    "    for gen in G:\n",
    "        in_gens.append(gen.lt())\n",
    "    return ideal(in_gens)"
   ]
  },
  {
   "cell_type": "code",
   "execution_count": 562,
   "id": "1612555f",
   "metadata": {},
   "outputs": [],
   "source": [
    "def GL_variable_action(g, variable, ring):\n",
    "    variables = ring.gens()\n",
    "    n = len(variables)\n",
    "    row_index = variables.index(variable)\n",
    "    return sum([variables[i]*g[row_index][i] for i in range(n)])\n",
    "\n",
    "def GL_function_action(g, f, ring):\n",
    "    variables = ring.gens()\n",
    "    sub_dict = {var:GL_variable_action(g, var, ring) for var in variables}\n",
    "    return f.subs(sub_dict)\n",
    "    \n",
    "def GL_action(g, I, ring):\n",
    "    functions = I.gens()\n",
    "    return ideal([GL_function_action(g, f, ring) for f in functions])\n",
    "\n",
    "def random_GL(field, size):\n",
    "    while True:\n",
    "        M = random_matrix(QQ, size, size, num_bound = 1000, den_bound = 1).change_ring(field)\n",
    "        if M.is_invertible():\n",
    "            break\n",
    "    return M\n",
    "\n",
    "def apply_random_GL(I, ring):\n",
    "    size = len(ring.gens())\n",
    "    g = random_GL(ring.base_ring(), size)\n",
    "    return GL_action(g, I, ring)\n",
    "\n",
    "def attempt_gins(I, ring, n):\n",
    "    candidates = [intl(apply_random_GL(I, ring), ring) for i in range(n)]\n",
    "    return candidates\n",
    "\n",
    "def attempt_gin(I, ring, n):\n",
    "    candidates = Counter()\n",
    "    for i in range(n):\n",
    "        print(i)\n",
    "        cand = intl(apply_random_GL(I, ring), ring)\n",
    "        candidates[cand] += 1\n",
    "        clear_output()\n",
    "    return max(dict(candidates), key=candidates.get)\n",
    "\n",
    "def attempt_borel_gins(I, ring, n):\n",
    "    candidates = []\n",
    "    for i in range(n):\n",
    "        cand = intl(apply_random_GL(I, ring), ring)\n",
    "        if is_fixed(cand, ring):\n",
    "            candidates.append(cand)\n",
    "    return candidates\n",
    "\n",
    "def is_fixed(I, ring, quiet = True):\n",
    "    n = len(ring.gens())\n",
    "    var_dict = dict(zip([i for i in range(n)], ring.gens()))\n",
    "    for mon in I.gens():\n",
    "        for i in range(n - 1):\n",
    "            test_var = var_dict[i + 1]\n",
    "            if test_var.divides(mon):\n",
    "                new_mon = (mon / test_var) * var_dict[i]\n",
    "                if new_mon not in I:\n",
    "                    if not quiet:\n",
    "                        print(mon, \"is in the ideal, but\", new_mon, \"is not\")\n",
    "                    return False\n",
    "    return True\n",
    "    \n",
    "\n",
    "def make_borel(I, ring):\n",
    "    new_gens = []\n",
    "    n = len(ring.gens())\n",
    "    var_dict = dict(zip([i for i in range(n)], ring.gens()))\n",
    "    for mon in I.gens():\n",
    "        d = mon.degree()\n",
    "        mons = [ring({tuple(a):1}) for a in WeightedIntegerVectors(d,[1 for gen in ring.gens()])]\n",
    "        new_gens += mons[mons.index(mon):]\n",
    "    return ideal(ideal(new_gens).groebner_basis())"
   ]
  },
  {
   "cell_type": "code",
   "execution_count": 76,
   "id": "85246eef",
   "metadata": {},
   "outputs": [
    {
     "name": "stdout",
     "output_type": "stream",
     "text": [
      "y*z is in the ideal, but x*z is not\n"
     ]
    },
    {
     "data": {
      "text/plain": [
       "[Ideal (x^2, x*y, x*z, y^3, y^2*z) of Multivariate Polynomial Ring in x, y, z over Rational Field,\n",
       " Ideal (x^2, x*y, x*z, y^3, y^2*z) of Multivariate Polynomial Ring in x, y, z over Rational Field,\n",
       " Ideal (x^2, x*y, x*z, y^3, y^2*z) of Multivariate Polynomial Ring in x, y, z over Rational Field,\n",
       " Ideal (x^2, x*y, x*z, y^3, y^2*z) of Multivariate Polynomial Ring in x, y, z over Rational Field,\n",
       " Ideal (x^2, x*y, x*z, y^3, y^2*z) of Multivariate Polynomial Ring in x, y, z over Rational Field,\n",
       " Ideal (x^2, x*y, x*z, y^3, y^2*z) of Multivariate Polynomial Ring in x, y, z over Rational Field,\n",
       " Ideal (x^2, x*y, x*z, y^3, y^2*z) of Multivariate Polynomial Ring in x, y, z over Rational Field,\n",
       " Ideal (x^2, x*y, x*z, y^3, y^2*z) of Multivariate Polynomial Ring in x, y, z over Rational Field,\n",
       " Ideal (x^2, x*y, x*z, y^3, y^2*z) of Multivariate Polynomial Ring in x, y, z over Rational Field,\n",
       " Ideal (x^2, x*y, x*z, y^3, y^2*z) of Multivariate Polynomial Ring in x, y, z over Rational Field]"
      ]
     },
     "execution_count": 76,
     "metadata": {},
     "output_type": "execute_result"
    }
   ],
   "source": [
    "R.<x,y,z> = PolynomialRing(QQ, order = 'lex')\n",
    "I = ideal(x^2, x*y, y^3, z*y)\n",
    "is_fixed(I,R,quiet = False)\n",
    "attempt_borel_gins(I,R,10)"
   ]
  },
  {
   "cell_type": "code",
   "execution_count": 96,
   "id": "82d7afd9",
   "metadata": {},
   "outputs": [
    {
     "data": {
      "text/plain": [
       "True"
      ]
     },
     "execution_count": 96,
     "metadata": {},
     "output_type": "execute_result"
    }
   ],
   "source": [
    "R.<x,y,z> = PolynomialRing(QQ)\n",
    "M = Matrix([[1,2,3],[4,5,6],[7,8,9]])\n",
    "nums = [x,y,z]\n",
    "sum([nums[i]*M[0][i] for i in range(3)]) in R"
   ]
  },
  {
   "cell_type": "code",
   "execution_count": 97,
   "id": "77931398",
   "metadata": {},
   "outputs": [
    {
     "data": {
      "text/plain": [
       "x + 2*y + 3*z"
      ]
     },
     "execution_count": 97,
     "metadata": {},
     "output_type": "execute_result"
    }
   ],
   "source": [
    "GL_variable_action(M, x, R)"
   ]
  },
  {
   "cell_type": "code",
   "execution_count": 102,
   "id": "8ef63c5c",
   "metadata": {},
   "outputs": [
    {
     "data": {
      "text/plain": [
       "17*x^2 + 44*x*y + 29*y^2 + 54*x*z + 72*y*z + 45*z^2"
      ]
     },
     "execution_count": 102,
     "metadata": {},
     "output_type": "execute_result"
    }
   ],
   "source": [
    "f = x^2 + y^2\n",
    "f.subs(x = GL_variable_action(M,x,R), y = GL_variable_action(M,y,R))"
   ]
  },
  {
   "cell_type": "code",
   "execution_count": 99,
   "id": "03ba2460",
   "metadata": {},
   "outputs": [
    {
     "data": {
      "text/plain": [
       "x^2 + 4*x*y + 4*y^2 + 6*x*z + 12*y*z + 9*z^2"
      ]
     },
     "execution_count": 99,
     "metadata": {},
     "output_type": "execute_result"
    }
   ],
   "source": [
    "(x + 2*y + 3*z)^2"
   ]
  },
  {
   "cell_type": "code",
   "execution_count": 103,
   "id": "53a81d68",
   "metadata": {},
   "outputs": [
    {
     "name": "stdout",
     "output_type": "stream",
     "text": [
      "{x: x + 2*y + 3*z, y: 4*x + 5*y + 6*z, z: 7*x + 8*y + 9*z}\n"
     ]
    },
    {
     "data": {
      "text/plain": [
       "17*x^2 + 44*x*y + 29*y^2 + 54*x*z + 72*y*z + 45*z^2"
      ]
     },
     "execution_count": 103,
     "metadata": {},
     "output_type": "execute_result"
    }
   ],
   "source": [
    "GL_function_action(M, f, R)"
   ]
  },
  {
   "cell_type": "code",
   "execution_count": 91,
   "id": "f3f95dde",
   "metadata": {},
   "outputs": [
    {
     "data": {
      "text/plain": [
       "y^2"
      ]
     },
     "execution_count": 91,
     "metadata": {},
     "output_type": "execute_result"
    }
   ],
   "source": [
    "var = x\n",
    "f.subs({var:y})"
   ]
  },
  {
   "cell_type": "code",
   "execution_count": 106,
   "id": "dd580221",
   "metadata": {},
   "outputs": [
    {
     "data": {
      "text/plain": [
       "Ideal (17*x^2 + 44*x*y + 29*y^2 + 54*x*z + 72*y*z + 45*z^2) of Multivariate Polynomial Ring in x, y, z over Rational Field"
      ]
     },
     "execution_count": 106,
     "metadata": {},
     "output_type": "execute_result"
    }
   ],
   "source": [
    "J = ideal(x^2 + y^2)\n",
    "GL_action(M, J, R)"
   ]
  },
  {
   "cell_type": "code",
   "execution_count": 31,
   "id": "8c74d8cc",
   "metadata": {},
   "outputs": [
    {
     "data": {
      "text/plain": [
       "Ideal (x^2, x*y, y^3) of Multivariate Polynomial Ring in x, y over Rational Field"
      ]
     },
     "execution_count": 31,
     "metadata": {},
     "output_type": "execute_result"
    }
   ],
   "source": [
    "R.<x,y> = PolynomialRing(QQ, order = \"lex\")\n",
    "I = ideal(x^2,y^2)\n",
    "g = Matrix(QQ, [[1,-1],[1,1]])\n",
    "intl(GL_action(g,I,R),R)"
   ]
  },
  {
   "cell_type": "code",
   "execution_count": 112,
   "id": "4b3f8d29",
   "metadata": {},
   "outputs": [],
   "source": [
    "M = random_matrix(QQ, 2, 2)"
   ]
  },
  {
   "cell_type": "code",
   "execution_count": 114,
   "id": "1d0ec8d3",
   "metadata": {},
   "outputs": [
    {
     "data": {
      "text/plain": [
       "True"
      ]
     },
     "execution_count": 114,
     "metadata": {},
     "output_type": "execute_result"
    }
   ],
   "source": [
    "M.is_invertible()"
   ]
  },
  {
   "cell_type": "code",
   "execution_count": 209,
   "id": "6672870a",
   "metadata": {},
   "outputs": [],
   "source": [
    "M = random_GL(GF(7),3)"
   ]
  },
  {
   "cell_type": "code",
   "execution_count": 211,
   "id": "1ff0196f",
   "metadata": {},
   "outputs": [
    {
     "data": {
      "text/plain": [
       "5"
      ]
     },
     "execution_count": 211,
     "metadata": {},
     "output_type": "execute_result"
    }
   ],
   "source": [
    "M.determinant()"
   ]
  },
  {
   "cell_type": "code",
   "execution_count": 45,
   "id": "70a1a4c9",
   "metadata": {},
   "outputs": [
    {
     "data": {
      "text/plain": [
       "Ideal (x^2, x*y, y^3) of Multivariate Polynomial Ring in x, y over Rational Field"
      ]
     },
     "execution_count": 45,
     "metadata": {},
     "output_type": "execute_result"
    }
   ],
   "source": [
    "attempt_gins(I, R, 10)[0]"
   ]
  },
  {
   "cell_type": "code",
   "execution_count": 90,
   "id": "090b0820",
   "metadata": {},
   "outputs": [
    {
     "data": {
      "text/plain": [
       "[]"
      ]
     },
     "execution_count": 90,
     "metadata": {},
     "output_type": "execute_result"
    }
   ],
   "source": [
    "S.<x,y,z,h> = PolynomialRing(GF(7), order = \"degrevlex\")\n",
    "f_list = [x*y*h^20, x*y^2*h^18, y^2*z*h^18, z^2*h^19, x*y^3*h^16, y^3*z*h^16, z^3*h^17, x^2*h^18, x*y^4*h^14, y^4*z*h^14, y*z^3*h^15, x^2*y*h^16, x*y*z*h^16, y*z^2*h^16, x*y^5*h^12, y^6*h^12, y^2*z^3*h^13, x^2*y^2*h^14, x*y^2*z*h^14, y^2*z^2*h^14, x*z^3*h^14, z^4*h^14, x^2*z*h^15, x*z^2*h^15, x*y^5*z*h^10, y^6*z*h^10, x^5*z^2*h^10, x^4*y*z^2*h^10, x^3*y^2*z^2*h^10, x^2*y^3*z^2*h^10, x*y^4*z^2*h^10, y^5*z^2*h^10, x^4*z^3*h^10, x^3*y*z^3*h^10, x^2*y^2*z^3*h^10, x*y^3*z^3*h^10, y^4*z^3*h^10, x^3*z^4*h^10, x^2*y*z^4*h^10, x*y^2*z^4*h^10, y^3*z^4*h^10, x^2*z^5*h^10, x*y*z^5*h^10, y^2*z^5*h^10, y*z^6*h^10, x^6*h^11, x^5*y*h^11, x^4*y^2*h^11, x^3*y^3*h^11, x^5*z*h^11, x^4*y*z*h^11, x^3*y^2*z*h^11, x^2*y^3*z*h^11, x^4*z^2*h^11, x^3*y*z^2*h^11, x^2*y^2*z^2*h^11, x*y^3*z^2*h^11, y^4*z^2*h^11, x^3*z^3*h^11, x^2*y*z^3*h^11, x*y^2*z^3*h^11, y^3*z^3*h^11, x^2*z^4*h^11, x*y*z^4*h^11, y^2*z^4*h^11, x*z^5*h^11, y*z^5*h^11, z^6*h^11, x^5*h^12, x^4*y*h^12, x^3*y^2*h^12, x^2*y^3*h^12, x^4*z*h^12, x^3*y*z*h^12, x^2*y^2*z*h^12, x*y^3*z*h^12, x^3*z^2*h^12, x^2*y*z^2*h^12, x*y^2*z^2*h^12, y^3*z^2*h^12, x^2*z^3*h^12, x*y*z^3*h^12, x*z^4*h^12, y*z^4*h^12, z^5*h^12, x^4*h^13, x^3*y*h^13, x^3*z*h^13, x^2*y*z*h^13, x^2*z^2*h^13, x*y*z^2*h^13, x^3*h^14, x^2*y^3*z^5*h^6, y^5*z^5*h^6, x^2*y^5*z^2*h^7, x^5*y*z^3*h^7, x^5*z^4*h^7, x^3*y^2*z^4*h^7, x^2*y^3*z^4*h^7, x*y^4*z^4*h^7, y^5*z^4*h^7, x^2*y^2*z^5*h^7, x*y^3*z^5*h^7, y^4*z^5*h^7, x^2*y*z^6*h^7, x*y^2*z^6*h^7, x^6*y^2*h^8, x^5*y^3*h^8, x^4*y^4*h^8, x^3*y^5*h^8, x^2*y^6*h^8, x^6*y*z*h^8, x^5*y^2*z*h^8, x^4*y^3*z*h^8, x^3*y^4*z*h^8, x*y^6*z*h^8, x^5*y*z^2*h^8, x^4*y^2*z^2*h^8, x^3*y^3*z^2*h^8, x^2*y^4*z^2*h^8, x*y^5*z^2*h^8, y^6*z^2*h^8, x^5*z^3*h^8, x^4*y*z^3*h^8, x^3*y^2*z^3*h^8, x^2*y^3*z^3*h^8, x*y^4*z^3*h^8, y^5*z^3*h^8, x^4*z^4*h^8, x^3*y*z^4*h^8, x^2*y^2*z^4*h^8, x*y^3*z^4*h^8, y^4*z^4*h^8, x^3*z^5*h^8, x^2*y*z^5*h^8, x*y^2*z^5*h^8, y^3*z^5*h^8, x^2*z^6*h^8, x*y*z^6*h^8, y^2*z^6*h^8, x^6*y*h^9, x^5*y^2*h^9, x^4*y^3*h^9, x^3*y^4*h^9, x*y^6*h^9, x^6*z*h^9, x^5*y*z*h^9, x^4*y^2*z*h^9, x^3*y^3*z*h^9, x^2*y^4*z*h^9, x*z^6*h^9, y^6*z^6*h^3, x^3*y^5*z^3*h^4, x*y^5*z^5*h^4, y^6*z^5*h^4, x^3*y^6*z*h^5, x*y^6*z^3*h^5, x^3*y^3*z^4*h^5, x*y^4*z^5*h^5, x^3*y*z^6*h^5, x^2*y^2*z^6*h^5, x*y^3*z^6*h^5, y^4*z^6*h^5, x^5*y^4*h^6, x^4*y^5*h^6, x^3*y^6*h^6, x^5*y^3*z*h^6, x^3*y^5*z*h^6, x^2*y^6*z*h^6, x^6*y*z^2*h^6, x^5*y^2*z^2*h^6, x^4*y^3*z^2*h^6, x^3*y^4*z^2*h^6, x*y^6*z^2*h^6, x^3*y^3*z^3*h^6, x*y^5*z^3*h^6, y^6*z^3*h^6, x^4*y*z^4*h^6, x^3*y*z^5*h^6, x^3*z^6*h^6, y^3*z^6*h^6, x^6*z^2*h^7, x^3*y^2*z^6*h^3, x*y^4*z^6*h^3, x^6*y*z^3*h^4, x^4*y^3*z^3*h^4, x^4*y*z^5*h^4, x^3*y^2*z^5*h^4, x^6*y^2*z*h^5, x^4*y^4*z*h^5, x^6*z^3*h^5, x^4*y^2*z^3*h^5, x^2*y^4*z^3*h^5, x^4*z^5*h^5, x^3*y^5*z^5, x^4*y^3*z^4*h^2, x^3*y^4*z^4*h^2, x*y^6*z^4*h^2, x^4*y^2*z^5*h^2, x^3*y^3*z^5*h^2, x^2*y^4*z^5*h^2, x^4*z^6*h^3, x^4*y^3*z^5, x^3*y^6*z^2*h, x^6*y^2*z^3*h, x^6*z^4*h^2, x^6*z^5, x^4*y^4*z^2*h, x^4*y^6, x^6*y^3, x^7, y^7, z^7]\n",
    "Fh = ideal(f_list)\n",
    "attempt_borel_gins(Fh, S, 100)"
   ]
  },
  {
   "cell_type": "code",
   "execution_count": 242,
   "id": "ee111bfd",
   "metadata": {},
   "outputs": [
    {
     "name": "stdout",
     "output_type": "stream",
     "text": [
      "0 0\n",
      "1 1\n",
      "1 14\n",
      "1 51\n",
      "1 87\n",
      "2 2\n",
      "2 21\n",
      "2 34\n",
      "2 59\n",
      "3 3\n",
      "4 4\n",
      "5 5\n",
      "5 98\n",
      "6 6\n",
      "6 25\n",
      "6 26\n",
      "6 37\n",
      "6 71\n",
      "6 74\n",
      "6 96\n",
      "7 7\n",
      "8 8\n",
      "9 9\n",
      "10 10\n",
      "11 11\n",
      "12 12\n",
      "13 13\n",
      "14 1\n",
      "14 14\n",
      "14 51\n",
      "14 87\n",
      "15 15\n",
      "16 16\n",
      "17 17\n",
      "17 35\n",
      "17 48\n",
      "17 70\n",
      "17 89\n",
      "17 99\n",
      "18 18\n",
      "19 19\n",
      "20 20\n",
      "21 2\n",
      "21 21\n",
      "21 34\n",
      "21 59\n",
      "22 22\n",
      "23 23\n",
      "24 24\n",
      "25 6\n",
      "25 25\n",
      "25 26\n",
      "25 37\n",
      "25 71\n",
      "25 74\n",
      "25 96\n",
      "26 6\n",
      "26 25\n",
      "26 26\n",
      "26 37\n",
      "26 71\n",
      "26 74\n",
      "26 96\n",
      "27 27\n",
      "28 28\n",
      "29 29\n",
      "30 30\n",
      "31 31\n",
      "32 32\n",
      "33 33\n",
      "34 2\n",
      "34 21\n",
      "34 34\n",
      "34 59\n",
      "35 17\n",
      "35 35\n",
      "35 48\n",
      "35 70\n",
      "35 89\n",
      "35 99\n",
      "36 36\n",
      "36 69\n",
      "37 6\n",
      "37 25\n",
      "37 26\n",
      "37 37\n",
      "37 71\n",
      "37 74\n",
      "37 96\n",
      "38 38\n",
      "39 39\n",
      "40 40\n",
      "41 41\n",
      "41 57\n",
      "42 42\n",
      "42 80\n",
      "43 43\n",
      "44 44\n",
      "45 45\n",
      "46 46\n",
      "47 47\n",
      "47 86\n",
      "48 17\n",
      "48 35\n",
      "48 48\n",
      "48 70\n",
      "48 89\n",
      "48 99\n",
      "49 49\n",
      "50 50\n",
      "51 1\n",
      "51 14\n",
      "51 51\n",
      "51 87\n",
      "52 52\n",
      "53 53\n",
      "54 54\n",
      "55 55\n",
      "56 56\n",
      "57 41\n",
      "57 57\n",
      "58 58\n",
      "59 2\n",
      "59 21\n",
      "59 34\n",
      "59 59\n",
      "60 60\n",
      "61 61\n",
      "62 62\n",
      "63 63\n",
      "64 64\n",
      "65 65\n",
      "66 66\n",
      "67 67\n",
      "68 68\n",
      "69 36\n",
      "69 69\n",
      "70 17\n",
      "70 35\n",
      "70 48\n",
      "70 70\n",
      "70 89\n",
      "70 99\n",
      "71 6\n",
      "71 25\n",
      "71 26\n",
      "71 37\n",
      "71 71\n",
      "71 74\n",
      "71 96\n",
      "72 72\n",
      "73 73\n",
      "74 6\n",
      "74 25\n",
      "74 26\n",
      "74 37\n",
      "74 71\n",
      "74 74\n",
      "74 96\n",
      "75 75\n",
      "75 81\n",
      "76 76\n",
      "77 77\n",
      "78 78\n",
      "79 79\n",
      "80 42\n",
      "80 80\n",
      "81 75\n",
      "81 81\n",
      "82 82\n",
      "83 83\n",
      "84 84\n",
      "85 85\n",
      "86 47\n",
      "86 86\n",
      "87 1\n",
      "87 14\n",
      "87 51\n",
      "87 87\n",
      "88 88\n",
      "89 17\n",
      "89 35\n",
      "89 48\n",
      "89 70\n",
      "89 89\n",
      "89 99\n",
      "90 90\n",
      "91 91\n",
      "92 92\n",
      "93 93\n",
      "94 94\n",
      "95 95\n",
      "96 6\n",
      "96 25\n",
      "96 26\n",
      "96 37\n",
      "96 71\n",
      "96 74\n",
      "96 96\n",
      "97 97\n",
      "98 5\n",
      "98 98\n",
      "99 17\n",
      "99 35\n",
      "99 48\n",
      "99 70\n",
      "99 89\n",
      "99 99\n"
     ]
    }
   ],
   "source": [
    "for i in range(100):\n",
    "    for j in range(100):\n",
    "        if gins[i] == gins[j]:\n",
    "            print(i,j)"
   ]
  },
  {
   "cell_type": "code",
   "execution_count": 243,
   "id": "6442b255",
   "metadata": {},
   "outputs": [
    {
     "data": {
      "text/plain": [
       "Ideal (y^2*h^20, x*z^2*h^18, y*z^2*h^18, x*y*h^19, z^6*h^14, x*z^3*h^16, y*z^3*h^16, y^2*z*h^17, x^2*h^18, y^2*z^3*h^14, x*z^4*h^14, y*z^4*h^14, y^2*z^2*h^15, y^3*h^16, x^2*z*h^16, x*y*z*h^16, y^2*z^4*h^12, x*z^5*h^12, y*z^5*h^12, x^2*z^3*h^13, x*y*z^3*h^13, y^4*h^14, x*y^2*z*h^14, y^3*z*h^14, x^2*z^2*h^14, x*y*z^2*h^14, x^2*y*h^15, x*y^2*h^15, x^2*y^4*z*h^10, x*y^5*z*h^10, y^6*z*h^10, x^5*z^2*h^10, x^4*y*z^2*h^10, x^3*y^2*z^2*h^10, x^2*y^3*z^2*h^10, x*y^4*z^2*h^10, y^5*z^2*h^10, x^4*z^3*h^10, x^3*y*z^3*h^10, x^2*y^2*z^3*h^10, x*y^3*z^3*h^10, y^4*z^3*h^10, x^3*z^4*h^10, x^2*y*z^4*h^10, x*y^2*z^4*h^10, y^3*z^4*h^10, x^2*z^5*h^10, x*y*z^5*h^10, y^2*z^5*h^10, x*z^6*h^10, y*z^6*h^10, x^6*h^11, x^5*y*h^11, x^4*y^2*h^11, x^3*y^3*h^11, x^2*y^4*h^11, x*y^5*h^11, y^6*h^11, x^5*z*h^11, x^4*y*z*h^11, x^3*y^2*z*h^11, x^2*y^3*z*h^11, x*y^4*z*h^11, y^5*z*h^11, x^4*z^2*h^11, x^3*y*z^2*h^11, x^2*y^2*z^2*h^11, x*y^3*z^2*h^11, y^4*z^2*h^11, x^3*z^3*h^11, x^2*y*z^3*h^11, x*y^2*z^3*h^11, y^3*z^3*h^11, x^2*z^4*h^11, x*y*z^4*h^11, x^5*h^12, x^4*y*h^12, x^3*y^2*h^12, x^2*y^3*h^12, x*y^4*h^12, y^5*h^12, x^4*z*h^12, x^3*y*z*h^12, x^2*y^2*z*h^12, x*y^3*z*h^12, y^4*z*h^12, x^3*z^2*h^12, x^2*y*z^2*h^12, x*y^2*z^2*h^12, y^3*z^2*h^12, x^4*h^13, x^3*y*h^13, x^2*y^2*h^13, x*y^3*h^13, x^3*z*h^13, x^2*y*z*h^13, x^3*h^14, y^5*z^5*h^6, x^2*y^2*z^6*h^6, x*y^3*z^6*h^6, y^4*z^6*h^6, x^2*y^6*z*h^7, x^2*y^5*z^2*h^7, x*y^6*z^2*h^7, x^5*y*z^3*h^7, x^4*y^2*z^3*h^7, x^3*y^3*z^3*h^7, x^2*y^4*z^3*h^7, x*y^5*z^3*h^7, y^6*z^3*h^7, x^5*z^4*h^7, x^4*y*z^4*h^7, x^3*y^2*z^4*h^7, x^2*y^3*z^4*h^7, x*y^4*z^4*h^7, y^5*z^4*h^7, x^4*z^5*h^7, x^3*y*z^5*h^7, x^2*y^2*z^5*h^7, x*y^3*z^5*h^7, y^4*z^5*h^7, x^3*z^6*h^7, x^2*y*z^6*h^7, x*y^2*z^6*h^7, y^3*z^6*h^7, x^5*y^3*h^8, x^4*y^4*h^8, x^3*y^5*h^8, x^2*y^6*h^8, x^6*y*z*h^8, x^5*y^2*z*h^8, x^4*y^3*z*h^8, x^3*y^4*z*h^8, x^2*y^5*z*h^8, x*y^6*z*h^8, x^6*z^2*h^8, x^5*y*z^2*h^8, x^4*y^2*z^2*h^8, x^3*y^3*z^2*h^8, x^2*y^4*z^2*h^8, x*y^5*z^2*h^8, y^6*z^2*h^8, x^5*z^3*h^8, x^4*y*z^3*h^8, x^3*y^2*z^3*h^8, x^2*y^3*z^3*h^8, x*y^4*z^3*h^8, y^5*z^3*h^8, x^4*z^4*h^8, x^3*y*z^4*h^8, x^2*y^2*z^4*h^8, x*y^3*z^4*h^8, y^4*z^4*h^8, x^3*z^5*h^8, x^2*y*z^5*h^8, x*y^2*z^5*h^8, y^3*z^5*h^8, x^2*z^6*h^8, x*y*z^6*h^8, y^2*z^6*h^8, x^6*y*h^9, x^5*y^2*h^9, x^4*y^3*h^9, x^3*y^4*h^9, x^2*y^5*h^9, x*y^6*h^9, x^6*z*h^9, x^5*y*z*h^9, x^4*y^2*z*h^9, x^3*y^3*z*h^9, x*y^5*z^6*h^3, y^6*z^6*h^3, x^2*y^6*z^3*h^4, x^2*y^5*z^4*h^4, x*y^6*z^4*h^4, x^2*y^4*z^5*h^4, x*y^5*z^5*h^4, y^6*z^5*h^4, x^4*y*z^6*h^4, x^3*y^2*z^6*h^4, x^2*y^3*z^6*h^4, x*y^4*z^6*h^4, y^5*z^6*h^4, x^5*y^4*z*h^5, x^4*y^5*z*h^5, x^3*y^6*z*h^5, x^5*y^3*z^2*h^5, x^4*y^4*z^2*h^5, x^3*y^5*z^2*h^5, x^2*y^6*z^2*h^5, x^5*y^2*z^3*h^5, x^4*y^3*z^3*h^5, x^3*y^4*z^3*h^5, x^2*y^5*z^3*h^5, x*y^6*z^3*h^5, x^5*y*z^4*h^5, x^4*y^2*z^4*h^5, x^3*y^3*z^4*h^5, x^2*y^4*z^4*h^5, x*y^5*z^4*h^5, y^6*z^4*h^5, x^5*z^5*h^5, x^4*y*z^5*h^5, x^3*y^2*z^5*h^5, x^2*y^3*z^5*h^5, x*y^4*z^5*h^5, x^4*z^6*h^5, x^3*y*z^6*h^5, x^5*y^4*h^6, x^4*y^5*h^6, x^3*y^6*h^6, x^5*y^3*z*h^6, x^4*y^4*z*h^6, x^3*y^5*z*h^6, x^6*y*z^2*h^6, x^5*y^2*z^2*h^6, x^4*y^3*z^2*h^6, x^3*y^4*z^2*h^6, x^6*z^3*h^6, x^6*y^2*h^7, x*y^6*z^6*h, x^2*y^6*z^4*h^2, x^3*y^4*z^5*h^2, x^2*y^5*z^5*h^2, x*y^6*z^5*h^2, x^5*y*z^6*h^2, x^4*y^2*z^6*h^2, x^3*y^3*z^6*h^2, x^2*y^4*z^6*h^2, x^5*y^4*z^2*h^3, x^4*y^5*z^2*h^3, x^3*y^6*z^2*h^3, x^5*y^3*z^3*h^3, x^4*y^4*z^3*h^3, x^3*y^5*z^3*h^3, x^5*y^2*z^4*h^3, x^4*y^3*z^4*h^3, x^3*y^4*z^4*h^3, x^5*y*z^5*h^3, x^4*y^2*z^5*h^3, x^3*y^3*z^5*h^3, x^5*z^6*h^3, x^4*y^6*h^4, x^6*y*z^3*h^4, x^6*z^4*h^4, x^6*y^2*z*h^5, x^4*y^4*z^5, x^3*y^5*z^5, x^2*y^6*z^5, x^5*y^2*z^6, x^4*y^3*z^6, x^3*y^4*z^6, x^2*y^5*z^6, x^4*y^4*z^4*h, x^3*y^5*z^4*h, x^5*y^2*z^5*h, x^4*y^3*z^5*h, x^6*z^5*h^2, x^6*y^2*z^2*h^3, x^5*y^4*z^3, x^4*y^5*z^3, x^3*y^6*z^3, x^5*y^3*z^4, x^6*y*z^5, x^6*z^6, x^6*y*z^4*h, x^4*y^6*z, x^6*y^2*z^3, x^5*y^5, x^6*y^3, x^7, y^7, z^7) of Multivariate Polynomial Ring in x, y, z, h over Finite Field of size 7"
      ]
     },
     "execution_count": 243,
     "metadata": {},
     "output_type": "execute_result"
    }
   ],
   "source": [
    "gins[6]"
   ]
  },
  {
   "cell_type": "code",
   "execution_count": 245,
   "id": "6dbc051e",
   "metadata": {},
   "outputs": [
    {
     "data": {
      "text/plain": [
       "Ideal (x*y*h^20, x*y^2*h^18, y^2*z*h^18, z^2*h^19, x*y^3*h^16, y^3*z*h^16, z^3*h^17, x^2*h^18, x*y^4*h^14, y^4*z*h^14, y*z^3*h^15, x^2*y*h^16, x*y*z*h^16, y*z^2*h^16, x*y^5*h^12, y^6*h^12, y^2*z^3*h^13, x^2*y^2*h^14, x*y^2*z*h^14, y^2*z^2*h^14, x*z^3*h^14, z^4*h^14, x^2*z*h^15, x*z^2*h^15, x*y^5*z*h^10, y^6*z*h^10, x^5*z^2*h^10, x^4*y*z^2*h^10, x^3*y^2*z^2*h^10, x^2*y^3*z^2*h^10, x*y^4*z^2*h^10, y^5*z^2*h^10, x^4*z^3*h^10, x^3*y*z^3*h^10, x^2*y^2*z^3*h^10, x*y^3*z^3*h^10, y^4*z^3*h^10, x^3*z^4*h^10, x^2*y*z^4*h^10, x*y^2*z^4*h^10, y^3*z^4*h^10, x^2*z^5*h^10, x*y*z^5*h^10, y^2*z^5*h^10, y*z^6*h^10, x^6*h^11, x^5*y*h^11, x^4*y^2*h^11, x^3*y^3*h^11, x^5*z*h^11, x^4*y*z*h^11, x^3*y^2*z*h^11, x^2*y^3*z*h^11, x^4*z^2*h^11, x^3*y*z^2*h^11, x^2*y^2*z^2*h^11, x*y^3*z^2*h^11, y^4*z^2*h^11, x^3*z^3*h^11, x^2*y*z^3*h^11, x*y^2*z^3*h^11, y^3*z^3*h^11, x^2*z^4*h^11, x*y*z^4*h^11, y^2*z^4*h^11, x*z^5*h^11, y*z^5*h^11, z^6*h^11, x^5*h^12, x^4*y*h^12, x^3*y^2*h^12, x^2*y^3*h^12, x^4*z*h^12, x^3*y*z*h^12, x^2*y^2*z*h^12, x*y^3*z*h^12, x^3*z^2*h^12, x^2*y*z^2*h^12, x*y^2*z^2*h^12, y^3*z^2*h^12, x^2*z^3*h^12, x*y*z^3*h^12, x*z^4*h^12, y*z^4*h^12, z^5*h^12, x^4*h^13, x^3*y*h^13, x^3*z*h^13, x^2*y*z*h^13, x^2*z^2*h^13, x*y*z^2*h^13, x^3*h^14, x^2*y^3*z^5*h^6, y^5*z^5*h^6, x^2*y^5*z^2*h^7, x^5*y*z^3*h^7, x^5*z^4*h^7, x^3*y^2*z^4*h^7, x^2*y^3*z^4*h^7, x*y^4*z^4*h^7, y^5*z^4*h^7, x^2*y^2*z^5*h^7, x*y^3*z^5*h^7, y^4*z^5*h^7, x^2*y*z^6*h^7, x*y^2*z^6*h^7, x^6*y^2*h^8, x^5*y^3*h^8, x^4*y^4*h^8, x^3*y^5*h^8, x^2*y^6*h^8, x^6*y*z*h^8, x^5*y^2*z*h^8, x^4*y^3*z*h^8, x^3*y^4*z*h^8, x*y^6*z*h^8, x^5*y*z^2*h^8, x^4*y^2*z^2*h^8, x^3*y^3*z^2*h^8, x^2*y^4*z^2*h^8, x*y^5*z^2*h^8, y^6*z^2*h^8, x^5*z^3*h^8, x^4*y*z^3*h^8, x^3*y^2*z^3*h^8, x^2*y^3*z^3*h^8, x*y^4*z^3*h^8, y^5*z^3*h^8, x^4*z^4*h^8, x^3*y*z^4*h^8, x^2*y^2*z^4*h^8, x*y^3*z^4*h^8, y^4*z^4*h^8, x^3*z^5*h^8, x^2*y*z^5*h^8, x*y^2*z^5*h^8, y^3*z^5*h^8, x^2*z^6*h^8, x*y*z^6*h^8, y^2*z^6*h^8, x^6*y*h^9, x^5*y^2*h^9, x^4*y^3*h^9, x^3*y^4*h^9, x*y^6*h^9, x^6*z*h^9, x^5*y*z*h^9, x^4*y^2*z*h^9, x^3*y^3*z*h^9, x^2*y^4*z*h^9, x*z^6*h^9, y^6*z^6*h^3, x^3*y^5*z^3*h^4, x*y^5*z^5*h^4, y^6*z^5*h^4, x^3*y^6*z*h^5, x*y^6*z^3*h^5, x^3*y^3*z^4*h^5, x*y^4*z^5*h^5, x^3*y*z^6*h^5, x^2*y^2*z^6*h^5, x*y^3*z^6*h^5, y^4*z^6*h^5, x^5*y^4*h^6, x^4*y^5*h^6, x^3*y^6*h^6, x^5*y^3*z*h^6, x^3*y^5*z*h^6, x^2*y^6*z*h^6, x^6*y*z^2*h^6, x^5*y^2*z^2*h^6, x^4*y^3*z^2*h^6, x^3*y^4*z^2*h^6, x*y^6*z^2*h^6, x^3*y^3*z^3*h^6, x*y^5*z^3*h^6, y^6*z^3*h^6, x^4*y*z^4*h^6, x^3*y*z^5*h^6, x^3*z^6*h^6, y^3*z^6*h^6, x^6*z^2*h^7, x^3*y^2*z^6*h^3, x*y^4*z^6*h^3, x^6*y*z^3*h^4, x^4*y^3*z^3*h^4, x^4*y*z^5*h^4, x^3*y^2*z^5*h^4, x^6*y^2*z*h^5, x^4*y^4*z*h^5, x^6*z^3*h^5, x^4*y^2*z^3*h^5, x^2*y^4*z^3*h^5, x^4*z^5*h^5, x^3*y^5*z^5, x^4*y^3*z^4*h^2, x^3*y^4*z^4*h^2, x*y^6*z^4*h^2, x^4*y^2*z^5*h^2, x^3*y^3*z^5*h^2, x^2*y^4*z^5*h^2, x^4*z^6*h^3, x^4*y^3*z^5, x^3*y^6*z^2*h, x^6*y^2*z^3*h, x^6*z^4*h^2, x^6*z^5, x^4*y^4*z^2*h, x^4*y^6, x^6*y^3, x^7, y^7, z^7) of Multivariate Polynomial Ring in x, y, z, h over Finite Field of size 7"
      ]
     },
     "execution_count": 245,
     "metadata": {},
     "output_type": "execute_result"
    }
   ],
   "source": [
    "intl(Fh,S)"
   ]
  },
  {
   "cell_type": "code",
   "execution_count": 246,
   "id": "54c0b8ce",
   "metadata": {},
   "outputs": [],
   "source": [
    "R.<x,y,z> = PolynomialRing(GF(7), order=\"degrevlex\")\n",
    "f_list = [x^5 + y^5 + z^5, x^3 + y^3 + z^2, x^7 - x, y^7 - y, z^7 - z]\n",
    "I = ideal(f_list)"
   ]
  },
  {
   "cell_type": "code",
   "execution_count": 12,
   "id": "6f81dd74",
   "metadata": {},
   "outputs": [],
   "source": [
    "S.<x,y,z,h> = PolynomialRing(GF(7), order=\"degrevlex\")\n",
    "f_list = [x^5 + y^5 + z^5, x^3 + y^3 + z^2*h, x^7 - x*h^6, y^7 - y*h^6, z^7 - z*h^6]\n",
    "Fh = ideal(f_list)"
   ]
  },
  {
   "cell_type": "code",
   "execution_count": 29,
   "id": "ba589c46",
   "metadata": {},
   "outputs": [
    {
     "data": {
      "text/plain": [
       "False"
      ]
     },
     "execution_count": 29,
     "metadata": {},
     "output_type": "execute_result"
    }
   ],
   "source": [
    "is_borel_fixed(intl(Fh,S),S)"
   ]
  },
  {
   "cell_type": "code",
   "execution_count": 27,
   "id": "597ad999",
   "metadata": {},
   "outputs": [
    {
     "data": {
      "text/plain": [
       "Ideal (z^6*h^7, x^2*h^11, x*y*h^11, x*z*h^11, x*y^2*z^2*h^7, y^3*z^2*h^7, x^2*z^3*h^7, x*y*z^3*h^7, y^2*z^3*h^7, x*z^4*h^7, y*z^4*h^7, x*y^2*z*h^8, y^3*z*h^8, x^2*z^2*h^8, x*y*z^2*h^8, y^2*z^2*h^8, x*z^3*h^8, y*z^3*h^8, x^2*y*h^9, x*y^2*h^9, y^3*h^9, x^2*z*h^9, x*y*z*h^9, y^2*z*h^9, x*z^2*h^9, y^2*z^5*h^4, x*z^6*h^4, y*z^6*h^4, x*y^4*z*h^5, y^5*z*h^5, x^2*y^2*z^2*h^5, x*y^3*z^2*h^5, y^4*z^2*h^5, x^2*y*z^3*h^5, x*y^2*z^3*h^5, y^3*z^3*h^5, x^2*z^4*h^5, x*y*z^4*h^5, y^2*z^4*h^5, x*z^5*h^5, x*y^4*h^6, y^5*h^6, x^2*y^2*h^7, x*y^3*h^7, y^4*h^7, x^2*y*z*h^7, x*z^9, y*z^9, x^2*z^6*h^2, x*y*z^6*h^2, y^2*z^6*h^2, x*y^3*z^3*h^3, y^4*z^3*h^3, x^2*y*z^4*h^3, x*y^2*z^4*h^3, y^3*z^4*h^3, x^2*z^5*h^3, x*y*z^5*h^3, x^2*y*z^6, x*y^2*z^6, y^3*z^6, x^2*z^7, x*y*z^7, y^2*z^7, x^2*y*z^5*h, x*y^2*z^5*h, y^3*z^5*h, y^5*z^3, x^2*y^2*z^4, x*y^3*z^4, y^4*z^4, y^5*z^2*h, x^2*y^2*z^3*h, z^7*h, y^7, y^6*z, x*y^4*z^2, y^6*h, x*y^5, x^2*y^3, x^3) of Multivariate Polynomial Ring in x, y, z, h over Finite Field of size 7"
      ]
     },
     "execution_count": 27,
     "metadata": {},
     "output_type": "execute_result"
    }
   ],
   "source": [
    "attempt_gin(Fh,S,500)"
   ]
  },
  {
   "cell_type": "code",
   "execution_count": 257,
   "id": "01bf3e9c",
   "metadata": {},
   "outputs": [
    {
     "data": {
      "text/plain": [
       "Ideal (y*z^6*h^6, x*z^2*h^10, x*y*h^11, x*z*h^11, y^2*z^4*h^6, x*z^5*h^6, y^3*z^2*h^7, x^2*z^3*h^7, x*y*z^3*h^7, y^2*z^3*h^7, x*z^4*h^7, y*z^4*h^7, y^3*z*h^8, x^2*z^2*h^8, x*y*z^2*h^8, y^2*z^2*h^8, x*z^3*h^8, y*z^3*h^8, x^2*y*h^9, x*y^2*h^9, y^3*h^9, x^2*z*h^9, x*y*z*h^9, y^2*z*h^9, x^2*h^10, y^2*z^6*h^3, x^2*z^5*h^4, x*y*z^5*h^4, y^2*z^5*h^4, x*z^6*h^4, x^2*y^2*z^2*h^5, x*y^3*z^2*h^5, y^4*z^2*h^5, x^2*y*z^3*h^5, x*y^2*z^3*h^5, y^3*z^3*h^5, x^2*z^4*h^5, x*y*z^4*h^5, x*y^4*h^6, y^5*h^6, x^2*y^2*z*h^6, x^2*y^2*h^7, x*y^3*h^7, y^4*h^7, x^2*y*z*h^7, x*y^2*z*h^7, x*z^9, y*z^9, z^10, x^2*z^6*h^2, x*y*z^6*h^2, x*y^3*z^3*h^3, y^4*z^3*h^3, x^2*y*z^4*h^3, x*y^2*z^4*h^3, y^3*z^4*h^3, x*y^4*z*h^4, y^5*z*h^4, x^2*y*z^6, x*y^2*z^6, y^3*z^6, x^2*z^7, x*y*z^7, y^2*z^7, x^2*y*z^5*h, x*y^2*z^5*h, y^3*z^5*h, y^5*z^3, x^2*y^2*z^4, x*y^3*z^4, y^4*z^4, y^5*z^2*h, x^2*y^2*z^3*h, z^7*h, y^7, y^6*z, x*y^4*z^2, y^6*h, x*y^5, x^2*y^3, x^3) of Multivariate Polynomial Ring in x, y, z, h over Finite Field of size 7"
      ]
     },
     "execution_count": 257,
     "metadata": {},
     "output_type": "execute_result"
    }
   ],
   "source": [
    "max(set(attempts), key=attempts.count)"
   ]
  },
  {
   "cell_type": "code",
   "execution_count": 259,
   "id": "02e24c78",
   "metadata": {},
   "outputs": [
    {
     "data": {
      "text/plain": [
       "Ideal (x*y^2*h^10, x*y*h^11, x*z*h^11, y^5*z^2*h^5, y^5*z*h^6, y*z^5*h^6, y^4*z*h^7, y*z^4*h^7, z^5*h^7, x*y^3*h^8, y^3*z*h^8, y*z^3*h^8, z^4*h^8, x^2*y*h^9, x*y*z*h^9, y^2*z*h^9, x*z^2*h^9, z^3*h^9, x^2*h^10, y^5*z^3*h^3, x*y^3*z^3*h^4, x^2*y^2*z^2*h^5, x*y^4*h^6, x*y^3*z*h^6, x*y^2*z^2*h^6, y^3*z^2*h^6, x*y*z^3*h^6, x*z^4*h^6, x*y^2*z*h^7, x*y*z^2*h^7, y^2*z^2*h^7, x*z^3*h^7, y^5*z^4*h, y^4*z^4*h^2, y^2*z^6*h^2, x^2*y^2*z^3*h^3, x*z^6*h^3, x^2*z^4*h^4, y^2*z^4*h^4, z^6*h^4, x^2*y^2*h^6, x^2*z^2*h^6, x^2*z*h^7, y^6*z^2*h, x^2*y^2*z^4*h, x*y^3*z^4*h, x^2*y*z^4*h^2, x*y^2*z^4*h^2, y^3*z^5, x*y^4*z^2*h, y^7, x^2*z^5, x*y*z^5, z^7, x*y^5, x^2*y^3, x^3) of Multivariate Polynomial Ring in x, y, z, h over Finite Field of size 7"
      ]
     },
     "execution_count": 259,
     "metadata": {},
     "output_type": "execute_result"
    }
   ],
   "source": [
    "intl(Fh,S)"
   ]
  },
  {
   "cell_type": "code",
   "execution_count": 15,
   "id": "8f96d968",
   "metadata": {},
   "outputs": [
    {
     "ename": "KeyboardInterrupt",
     "evalue": "",
     "output_type": "error",
     "traceback": [
      "\u001b[0;31m---------------------------------------------------------------------------\u001b[0m",
      "\u001b[0;31mKeyboardInterrupt\u001b[0m                         Traceback (most recent call last)",
      "\u001b[0;32m/var/folders/zf/986s30f52c3fssnjtqpb80w00000gn/T/ipykernel_70789/370176724.py\u001b[0m in \u001b[0;36m<module>\u001b[0;34m\u001b[0m\n\u001b[0;32m----> 1\u001b[0;31m \u001b[0mattempt_gin\u001b[0m\u001b[0;34m(\u001b[0m\u001b[0mFh\u001b[0m\u001b[0;34m,\u001b[0m\u001b[0mS\u001b[0m\u001b[0;34m,\u001b[0m\u001b[0mInteger\u001b[0m\u001b[0;34m(\u001b[0m\u001b[0;36m1000\u001b[0m\u001b[0;34m)\u001b[0m\u001b[0;34m)\u001b[0m\u001b[0;34m\u001b[0m\u001b[0;34m\u001b[0m\u001b[0m\n\u001b[0m",
      "\u001b[0;32m/var/folders/zf/986s30f52c3fssnjtqpb80w00000gn/T/ipykernel_70789/1306634272.py\u001b[0m in \u001b[0;36mattempt_gin\u001b[0;34m(I, ring, n)\u001b[0m\n\u001b[1;32m     36\u001b[0m         \u001b[0mcandidates\u001b[0m\u001b[0;34m.\u001b[0m\u001b[0mappend\u001b[0m\u001b[0;34m(\u001b[0m\u001b[0mintl\u001b[0m\u001b[0;34m(\u001b[0m\u001b[0mapply_random_GL\u001b[0m\u001b[0;34m(\u001b[0m\u001b[0mI\u001b[0m\u001b[0;34m,\u001b[0m \u001b[0mring\u001b[0m\u001b[0;34m)\u001b[0m\u001b[0;34m,\u001b[0m \u001b[0mring\u001b[0m\u001b[0;34m)\u001b[0m\u001b[0;34m)\u001b[0m\u001b[0;34m\u001b[0m\u001b[0;34m\u001b[0m\u001b[0m\n\u001b[1;32m     37\u001b[0m         \u001b[0mclear_output\u001b[0m\u001b[0;34m(\u001b[0m\u001b[0;34m)\u001b[0m\u001b[0;34m\u001b[0m\u001b[0;34m\u001b[0m\u001b[0m\n\u001b[0;32m---> 38\u001b[0;31m     \u001b[0;32mreturn\u001b[0m \u001b[0mmax\u001b[0m\u001b[0;34m(\u001b[0m\u001b[0mset\u001b[0m\u001b[0;34m(\u001b[0m\u001b[0mcandidates\u001b[0m\u001b[0;34m)\u001b[0m\u001b[0;34m,\u001b[0m \u001b[0mkey\u001b[0m\u001b[0;34m=\u001b[0m\u001b[0mcandidates\u001b[0m\u001b[0;34m.\u001b[0m\u001b[0mcount\u001b[0m\u001b[0;34m)\u001b[0m\u001b[0;34m\u001b[0m\u001b[0;34m\u001b[0m\u001b[0m\n\u001b[0m",
      "\u001b[0;32m/private/var/tmp/sage-9.6-current/local/var/lib/sage/venv-python3.10.3/lib/python3.10/site-packages/sage/structure/richcmp.pyx\u001b[0m in \u001b[0;36msage.structure.richcmp.slot_tp_richcompare (build/cythonized/sage/structure/richcmp.c:1961)\u001b[0;34m()\u001b[0m\n\u001b[1;32m    271\u001b[0m     \u001b[0mFunction\u001b[0m \u001b[0mto\u001b[0m \u001b[0mput\u001b[0m \u001b[0;32min\u001b[0m \u001b[0mthe\u001b[0m\u001b[0;31m \u001b[0m\u001b[0;31m`\u001b[0m\u001b[0;31m`\u001b[0m\u001b[0mtp_richcompare\u001b[0m\u001b[0;31m`\u001b[0m\u001b[0;31m`\u001b[0m \u001b[0mslot\u001b[0m\u001b[0;34m.\u001b[0m\u001b[0;34m\u001b[0m\u001b[0;34m\u001b[0m\u001b[0m\n\u001b[1;32m    272\u001b[0m     \"\"\"\n\u001b[0;32m--> 273\u001b[0;31m     \u001b[0;32mreturn\u001b[0m \u001b[0mself\u001b[0m\u001b[0;34m.\u001b[0m\u001b[0m__richcmp__\u001b[0m\u001b[0;34m(\u001b[0m\u001b[0mother\u001b[0m\u001b[0;34m,\u001b[0m \u001b[0mop\u001b[0m\u001b[0;34m)\u001b[0m\u001b[0;34m\u001b[0m\u001b[0;34m\u001b[0m\u001b[0m\n\u001b[0m\u001b[1;32m    274\u001b[0m \u001b[0;34m\u001b[0m\u001b[0m\n\u001b[1;32m    275\u001b[0m \u001b[0;34m\u001b[0m\u001b[0m\n",
      "\u001b[0;32m/private/var/tmp/sage-9.6-current/local/var/lib/sage/venv-python3.10.3/lib/python3.10/site-packages/sage/rings/polynomial/multi_polynomial_ideal.py\u001b[0m in \u001b[0;36m__richcmp__\u001b[0;34m(self, other, op)\u001b[0m\n\u001b[1;32m   3805\u001b[0m                 \u001b[0ml\u001b[0m \u001b[0;34m=\u001b[0m \u001b[0mself\u001b[0m\u001b[0;34m.\u001b[0m\u001b[0mgroebner_basis\u001b[0m\u001b[0;34m(\u001b[0m\u001b[0;34m)\u001b[0m\u001b[0;34m\u001b[0m\u001b[0;34m\u001b[0m\u001b[0m\n\u001b[1;32m   3806\u001b[0m                 \u001b[0mr\u001b[0m \u001b[0;34m=\u001b[0m \u001b[0mother_new\u001b[0m\u001b[0;34m.\u001b[0m\u001b[0mgroebner_basis\u001b[0m\u001b[0;34m(\u001b[0m\u001b[0;34m)\u001b[0m\u001b[0;34m\u001b[0m\u001b[0;34m\u001b[0m\u001b[0m\n\u001b[0;32m-> 3807\u001b[0;31m             \u001b[0mcontained\u001b[0m \u001b[0;34m=\u001b[0m \u001b[0mall\u001b[0m\u001b[0;34m(\u001b[0m\u001b[0mf\u001b[0m\u001b[0;34m.\u001b[0m\u001b[0mreduce\u001b[0m\u001b[0;34m(\u001b[0m\u001b[0mr\u001b[0m\u001b[0;34m)\u001b[0m \u001b[0;34m==\u001b[0m \u001b[0;36m0\u001b[0m \u001b[0;32mfor\u001b[0m \u001b[0mf\u001b[0m \u001b[0;32min\u001b[0m \u001b[0ml\u001b[0m\u001b[0;34m)\u001b[0m\u001b[0;34m\u001b[0m\u001b[0;34m\u001b[0m\u001b[0m\n\u001b[0m\u001b[1;32m   3808\u001b[0m             \u001b[0mcontains\u001b[0m \u001b[0;34m=\u001b[0m \u001b[0mall\u001b[0m\u001b[0;34m(\u001b[0m\u001b[0mf\u001b[0m\u001b[0;34m.\u001b[0m\u001b[0mreduce\u001b[0m\u001b[0;34m(\u001b[0m\u001b[0ml\u001b[0m\u001b[0;34m)\u001b[0m \u001b[0;34m==\u001b[0m \u001b[0;36m0\u001b[0m \u001b[0;32mfor\u001b[0m \u001b[0mf\u001b[0m \u001b[0;32min\u001b[0m \u001b[0mr\u001b[0m\u001b[0;34m)\u001b[0m\u001b[0;34m\u001b[0m\u001b[0;34m\u001b[0m\u001b[0m\n\u001b[1;32m   3809\u001b[0m             \u001b[0;32mif\u001b[0m \u001b[0mop\u001b[0m \u001b[0;34m==\u001b[0m \u001b[0mop_EQ\u001b[0m\u001b[0;34m:\u001b[0m\u001b[0;34m\u001b[0m\u001b[0;34m\u001b[0m\u001b[0m\n",
      "\u001b[0;32m/private/var/tmp/sage-9.6-current/local/var/lib/sage/venv-python3.10.3/lib/python3.10/site-packages/sage/rings/polynomial/multi_polynomial_ideal.py\u001b[0m in \u001b[0;36m<genexpr>\u001b[0;34m(.0)\u001b[0m\n\u001b[1;32m   3805\u001b[0m                 \u001b[0ml\u001b[0m \u001b[0;34m=\u001b[0m \u001b[0mself\u001b[0m\u001b[0;34m.\u001b[0m\u001b[0mgroebner_basis\u001b[0m\u001b[0;34m(\u001b[0m\u001b[0;34m)\u001b[0m\u001b[0;34m\u001b[0m\u001b[0;34m\u001b[0m\u001b[0m\n\u001b[1;32m   3806\u001b[0m                 \u001b[0mr\u001b[0m \u001b[0;34m=\u001b[0m \u001b[0mother_new\u001b[0m\u001b[0;34m.\u001b[0m\u001b[0mgroebner_basis\u001b[0m\u001b[0;34m(\u001b[0m\u001b[0;34m)\u001b[0m\u001b[0;34m\u001b[0m\u001b[0;34m\u001b[0m\u001b[0m\n\u001b[0;32m-> 3807\u001b[0;31m             \u001b[0mcontained\u001b[0m \u001b[0;34m=\u001b[0m \u001b[0mall\u001b[0m\u001b[0;34m(\u001b[0m\u001b[0mf\u001b[0m\u001b[0;34m.\u001b[0m\u001b[0mreduce\u001b[0m\u001b[0;34m(\u001b[0m\u001b[0mr\u001b[0m\u001b[0;34m)\u001b[0m \u001b[0;34m==\u001b[0m \u001b[0;36m0\u001b[0m \u001b[0;32mfor\u001b[0m \u001b[0mf\u001b[0m \u001b[0;32min\u001b[0m \u001b[0ml\u001b[0m\u001b[0;34m)\u001b[0m\u001b[0;34m\u001b[0m\u001b[0;34m\u001b[0m\u001b[0m\n\u001b[0m\u001b[1;32m   3808\u001b[0m             \u001b[0mcontains\u001b[0m \u001b[0;34m=\u001b[0m \u001b[0mall\u001b[0m\u001b[0;34m(\u001b[0m\u001b[0mf\u001b[0m\u001b[0;34m.\u001b[0m\u001b[0mreduce\u001b[0m\u001b[0;34m(\u001b[0m\u001b[0ml\u001b[0m\u001b[0;34m)\u001b[0m \u001b[0;34m==\u001b[0m \u001b[0;36m0\u001b[0m \u001b[0;32mfor\u001b[0m \u001b[0mf\u001b[0m \u001b[0;32min\u001b[0m \u001b[0mr\u001b[0m\u001b[0;34m)\u001b[0m\u001b[0;34m\u001b[0m\u001b[0;34m\u001b[0m\u001b[0m\n\u001b[1;32m   3809\u001b[0m             \u001b[0;32mif\u001b[0m \u001b[0mop\u001b[0m \u001b[0;34m==\u001b[0m \u001b[0mop_EQ\u001b[0m\u001b[0;34m:\u001b[0m\u001b[0;34m\u001b[0m\u001b[0;34m\u001b[0m\u001b[0m\n",
      "\u001b[0;32msrc/cysignals/signals.pyx\u001b[0m in \u001b[0;36mcysignals.signals.python_check_interrupt\u001b[0;34m()\u001b[0m\n",
      "\u001b[0;31mKeyboardInterrupt\u001b[0m: "
     ]
    }
   ],
   "source": [
    "attempt_gin(Fh,S,1000)"
   ]
  },
  {
   "cell_type": "code",
   "execution_count": 9,
   "id": "96c6f917",
   "metadata": {},
   "outputs": [
    {
     "name": "stdout",
     "output_type": "stream",
     "text": [
      "6\n"
     ]
    }
   ],
   "source": [
    "print(5)\n",
    "from IPython.display import clear_output\n",
    "clear_output()\n",
    "print(6)"
   ]
  },
  {
   "cell_type": "code",
   "execution_count": 16,
   "id": "e3f1a209",
   "metadata": {},
   "outputs": [],
   "source": [
    "from collections import Counter\n",
    "diction = Counter()"
   ]
  },
  {
   "cell_type": "code",
   "execution_count": 18,
   "id": "44c0b363",
   "metadata": {},
   "outputs": [],
   "source": [
    "diction['test'] += 1"
   ]
  },
  {
   "cell_type": "code",
   "execution_count": 41,
   "id": "98e8d019",
   "metadata": {},
   "outputs": [
    {
     "data": {
      "text/plain": [
       "{0: 5, 1: 3, 2: 7}"
      ]
     },
     "execution_count": 41,
     "metadata": {},
     "output_type": "execute_result"
    }
   ],
   "source": [
    "li = [5,3,7]\n",
    "f = dict(zip([i for i in range(len(li))],li))\n",
    "f"
   ]
  },
  {
   "cell_type": "code",
   "execution_count": 372,
   "id": "fee66dd2",
   "metadata": {},
   "outputs": [
    {
     "data": {
      "text/plain": [
       "[Ideal (y^3, x^2, x*y) of Multivariate Polynomial Ring in x, y, z over Rational Field,\n",
       " Ideal (y^3, x^2, x*y) of Multivariate Polynomial Ring in x, y, z over Rational Field,\n",
       " Ideal (y^3, x^2, x*y) of Multivariate Polynomial Ring in x, y, z over Rational Field,\n",
       " Ideal (y^3, x^2, x*y) of Multivariate Polynomial Ring in x, y, z over Rational Field,\n",
       " Ideal (y^3, x^2, x*y) of Multivariate Polynomial Ring in x, y, z over Rational Field,\n",
       " Ideal (y^3, x^2, x*y) of Multivariate Polynomial Ring in x, y, z over Rational Field,\n",
       " Ideal (y^3, x^2, x*y) of Multivariate Polynomial Ring in x, y, z over Rational Field,\n",
       " Ideal (y^3, x^2, x*y) of Multivariate Polynomial Ring in x, y, z over Rational Field,\n",
       " Ideal (y^3, x^2, x*y) of Multivariate Polynomial Ring in x, y, z over Rational Field,\n",
       " Ideal (y^3, x^2, x*y) of Multivariate Polynomial Ring in x, y, z over Rational Field]"
      ]
     },
     "execution_count": 372,
     "metadata": {},
     "output_type": "execute_result"
    }
   ],
   "source": [
    "R.<x,y,z> = PolynomialRing(QQ, order = \"degrevlex\")\n",
    "I = ideal(y^3, x^2, x*y)\n",
    "attempt_gins(I, R, 10)"
   ]
  },
  {
   "cell_type": "code",
   "execution_count": 375,
   "id": "16d3a4a4",
   "metadata": {},
   "outputs": [
    {
     "data": {
      "text/plain": [
       "True"
      ]
     },
     "execution_count": 375,
     "metadata": {},
     "output_type": "execute_result"
    }
   ],
   "source": [
    "is_generic(I,R)"
   ]
  },
  {
   "cell_type": "code",
   "execution_count": 373,
   "id": "976a8c46",
   "metadata": {},
   "outputs": [
    {
     "data": {
      "text/plain": [
       "(t^2 + 2*t + 1)/(-t + 1)"
      ]
     },
     "execution_count": 373,
     "metadata": {},
     "output_type": "execute_result"
    }
   ],
   "source": [
    "I.hilbert_series()"
   ]
  },
  {
   "cell_type": "code",
   "execution_count": 55,
   "id": "5403dbff",
   "metadata": {},
   "outputs": [
    {
     "data": {
      "text/plain": [
       "[Ideal (y^3, x^2, x*y) of Multivariate Polynomial Ring in x, y, z over Rational Field,\n",
       " Ideal (y^3, x^2, x*y) of Multivariate Polynomial Ring in x, y, z over Rational Field,\n",
       " Ideal (y^3, x^2, x*y) of Multivariate Polynomial Ring in x, y, z over Rational Field,\n",
       " Ideal (y^3, x^2, x*y) of Multivariate Polynomial Ring in x, y, z over Rational Field,\n",
       " Ideal (y^3, x^2, x*y) of Multivariate Polynomial Ring in x, y, z over Rational Field,\n",
       " Ideal (y^3, x^2, x*y) of Multivariate Polynomial Ring in x, y, z over Rational Field,\n",
       " Ideal (y^3, x^2, x*y) of Multivariate Polynomial Ring in x, y, z over Rational Field,\n",
       " Ideal (y^3, x^2, x*y) of Multivariate Polynomial Ring in x, y, z over Rational Field,\n",
       " Ideal (y^3, x^2, x*y) of Multivariate Polynomial Ring in x, y, z over Rational Field,\n",
       " Ideal (y^3, x^2, x*y) of Multivariate Polynomial Ring in x, y, z over Rational Field]"
      ]
     },
     "execution_count": 55,
     "metadata": {},
     "output_type": "execute_result"
    }
   ],
   "source": [
    "attempt_gins(ideal(y^2*z,x^2,x*z),R,10)"
   ]
  },
  {
   "cell_type": "code",
   "execution_count": 58,
   "id": "0f9d4133",
   "metadata": {},
   "outputs": [
    {
     "data": {
      "text/plain": [
       "x^5 + 3*x^4 + 4*x^3 + 4*x^2 + 3*x + 1"
      ]
     },
     "execution_count": 58,
     "metadata": {},
     "output_type": "execute_result"
    }
   ],
   "source": [
    "(1 + x + x^2 + x^3)*(x^2 + 2*x + 1)"
   ]
  },
  {
   "cell_type": "code",
   "execution_count": 68,
   "id": "442f0e8c",
   "metadata": {},
   "outputs": [
    {
     "name": "stdout",
     "output_type": "stream",
     "text": [
      "y^2*z is in the ideal, but y^3 is not\n"
     ]
    },
    {
     "data": {
      "text/plain": [
       "False"
      ]
     },
     "execution_count": 68,
     "metadata": {},
     "output_type": "execute_result"
    }
   ],
   "source": [
    "is_fixed(ideal(y^2*z,x^2,x*z),R)"
   ]
  },
  {
   "cell_type": "code",
   "execution_count": 104,
   "id": "6d363180",
   "metadata": {},
   "outputs": [
    {
     "data": {
      "text/plain": [
       "t^2 + 2*t + 1"
      ]
     },
     "execution_count": 104,
     "metadata": {},
     "output_type": "execute_result"
    }
   ],
   "source": [
    "R.<x,y> = PolynomialRing(QQ, order = \"degrevlex\")\n",
    "I = ideal(y^3,x^2,x*y)\n",
    "I.hilbert_series()"
   ]
  },
  {
   "cell_type": "code",
   "execution_count": 107,
   "id": "74edcda3",
   "metadata": {},
   "outputs": [
    {
     "data": {
      "text/plain": [
       "1/(t^2 - 2*t + 1)"
      ]
     },
     "execution_count": 107,
     "metadata": {},
     "output_type": "execute_result"
    }
   ],
   "source": [
    "ideal(R(0)).hilbert_series()"
   ]
  },
  {
   "cell_type": "code",
   "execution_count": 146,
   "id": "cd727e7c",
   "metadata": {},
   "outputs": [
    {
     "data": {
      "text/plain": [
       "[Ideal (x*z^2, y*z^2, x^2, x*y, y^2) of Multivariate Polynomial Ring in x, y, z over Rational Field,\n",
       " Ideal (x*z^2, y*z^2, x^2, x*y, y^2) of Multivariate Polynomial Ring in x, y, z over Rational Field,\n",
       " Ideal (x*z^2, y*z^2, x^2, x*y, y^2) of Multivariate Polynomial Ring in x, y, z over Rational Field,\n",
       " Ideal (x*z^2, y*z^2, x^2, x*y, y^2) of Multivariate Polynomial Ring in x, y, z over Rational Field,\n",
       " Ideal (x*z^2, y*z^2, x^2, x*y, y^2) of Multivariate Polynomial Ring in x, y, z over Rational Field,\n",
       " Ideal (x*z^2, y*z^2, x^2, x*y, y^2) of Multivariate Polynomial Ring in x, y, z over Rational Field,\n",
       " Ideal (x*z^2, y*z^2, x^2, x*y, y^2) of Multivariate Polynomial Ring in x, y, z over Rational Field,\n",
       " Ideal (x*z^2, y*z^2, x^2, x*y, y^2) of Multivariate Polynomial Ring in x, y, z over Rational Field,\n",
       " Ideal (x*z^2, y*z^2, x^2, x*y, y^2) of Multivariate Polynomial Ring in x, y, z over Rational Field,\n",
       " Ideal (x*z^2, y*z^2, x^2, x*y, y^2) of Multivariate Polynomial Ring in x, y, z over Rational Field]"
      ]
     },
     "execution_count": 146,
     "metadata": {},
     "output_type": "execute_result"
    }
   ],
   "source": [
    "R.<x,y,z> = PolynomialRing(QQ, order = \"degrevlex\")\n",
    "I = ideal(x^2,x*y,y^2*z,z^2)\n",
    "attempt_borel_gins(I,R,10)"
   ]
  },
  {
   "cell_type": "code",
   "execution_count": 140,
   "id": "95a5162c",
   "metadata": {},
   "outputs": [
    {
     "data": {
      "text/plain": [
       "20*x^2 + 34*x*y + 6*y^2"
      ]
     },
     "execution_count": 140,
     "metadata": {},
     "output_type": "execute_result"
    }
   ],
   "source": [
    "S.<x,y> = PolynomialRing(QQ, order = 'degrevlex')\n",
    "I = ideal(x^2,y^2)\n",
    "M = Matrix(QQ, [[2,3],[10,2]])\n",
    "GL_function_action(M, x*y, S)"
   ]
  },
  {
   "cell_type": "code",
   "execution_count": 133,
   "id": "6295b732",
   "metadata": {},
   "outputs": [
    {
     "data": {
      "text/plain": [
       "20*x^2 + 34*x*y + 6*y^2"
      ]
     },
     "execution_count": 133,
     "metadata": {},
     "output_type": "execute_result"
    }
   ],
   "source": [
    "(2*x + 3*y)*(10*x + 2*y)"
   ]
  },
  {
   "cell_type": "code",
   "execution_count": 134,
   "id": "d6d2f9b3",
   "metadata": {},
   "outputs": [
    {
     "data": {
      "text/plain": [
       "[x^2, y^2]"
      ]
     },
     "execution_count": 134,
     "metadata": {},
     "output_type": "execute_result"
    }
   ],
   "source": [
    "I.groebner_basis()"
   ]
  },
  {
   "cell_type": "code",
   "execution_count": 563,
   "id": "fb1b02a5",
   "metadata": {},
   "outputs": [],
   "source": [
    "# tests conjecture 3 for the degree reverse lex ordering (Sage default)\n",
    "\n",
    "def is_generic(I,R):\n",
    "    r = I.dimension()\n",
    "    if r == 0: \n",
    "        return True\n",
    "    r_gens = list(R.gens())\n",
    "    M = ideal(r_gens)\n",
    "    variables_to_check = r_gens[r-2:][::-1]\n",
    "    variables_checked = []\n",
    "    for variable in variables_to_check:\n",
    "        J = I\n",
    "        for var in variables_checked:\n",
    "            J = J + ideal(var)\n",
    "        if J.dimension() == 0:\n",
    "            return True\n",
    "        sat = J.saturation(M)[0]\n",
    "        for prime in sat.associated_primes():\n",
    "            if variable in prime:\n",
    "                return False\n",
    "        variables_checked.append(variable)\n",
    "    return True\n",
    "\n",
    "def test_conjecture(f_list, R):\n",
    "    F = ideal(f_list)\n",
    "    S = F.homogenize().ring()\n",
    "    h_list = [S(f.homogenize()) for f in f_list]\n",
    "    Fh = ideal(h_list)\n",
    "    reg = Fh._singular_().mres(0).betti().nrows()\n",
    "    print(reg)\n",
    "    sd = sdeg(f_list, R)[0]\n",
    "    return (sd, reg, is_generic(Fh,S))\n",
    "\n",
    "def test_conjecture_extra(f_list, R):\n",
    "    F = ideal(f_list)\n",
    "    S = F.homogenize().ring()\n",
    "    h_list = [S(f.homogenize()) for f in f_list]\n",
    "    Fh = ideal(h_list)\n",
    "    reg = Fh._singular_().mres(0).betti().nrows()\n",
    "    print(reg, '\\n')\n",
    "    sd = sdeg(f_list, R)[0]\n",
    "    print('')\n",
    "    solve_deg = mac_grob(f_list, R)[0]\n",
    "    return (Fh.dimension(), sd, reg, solve_deg, is_generic(Fh,S))"
   ]
  },
  {
   "cell_type": "code",
   "execution_count": 141,
   "id": "3d0972ee",
   "metadata": {},
   "outputs": [
    {
     "data": {
      "text/plain": [
       "True"
      ]
     },
     "execution_count": 141,
     "metadata": {},
     "output_type": "execute_result"
    }
   ],
   "source": [
    "is_generic(I,S)"
   ]
  },
  {
   "cell_type": "code",
   "execution_count": 142,
   "id": "cc56626f",
   "metadata": {},
   "outputs": [
    {
     "data": {
      "text/plain": [
       "[Ideal (y^3, x^2, x*y) of Multivariate Polynomial Ring in x, y over Rational Field,\n",
       " Ideal (y^3, x^2, x*y) of Multivariate Polynomial Ring in x, y over Rational Field,\n",
       " Ideal (y^3, x^2, x*y) of Multivariate Polynomial Ring in x, y over Rational Field,\n",
       " Ideal (y^3, x^2, x*y) of Multivariate Polynomial Ring in x, y over Rational Field,\n",
       " Ideal (y^3, x^2, x*y) of Multivariate Polynomial Ring in x, y over Rational Field,\n",
       " Ideal (y^3, x^2, x*y) of Multivariate Polynomial Ring in x, y over Rational Field,\n",
       " Ideal (y^3, x^2, x*y) of Multivariate Polynomial Ring in x, y over Rational Field,\n",
       " Ideal (y^3, x^2, x*y) of Multivariate Polynomial Ring in x, y over Rational Field,\n",
       " Ideal (y^3, x^2, x*y) of Multivariate Polynomial Ring in x, y over Rational Field,\n",
       " Ideal (y^3, x^2, x*y) of Multivariate Polynomial Ring in x, y over Rational Field]"
      ]
     },
     "execution_count": 142,
     "metadata": {},
     "output_type": "execute_result"
    }
   ],
   "source": [
    "attempt_gins(I,S,10)"
   ]
  },
  {
   "cell_type": "code",
   "execution_count": 144,
   "id": "6eebe576",
   "metadata": {},
   "outputs": [
    {
     "data": {
      "text/plain": [
       "x^2,\n",
       "y^2"
      ]
     },
     "execution_count": 144,
     "metadata": {},
     "output_type": "execute_result"
    }
   ],
   "source": [
    "I._singular_()."
   ]
  },
  {
   "cell_type": "code",
   "execution_count": 147,
   "id": "fc607388",
   "metadata": {},
   "outputs": [
    {
     "data": {
      "text/plain": [
       "True"
      ]
     },
     "execution_count": 147,
     "metadata": {},
     "output_type": "execute_result"
    }
   ],
   "source": [
    "I = ideal(x*z^2, y*z^2, x^2, x*y, y^2)\n",
    "is_fixed(I,R)"
   ]
  },
  {
   "cell_type": "code",
   "execution_count": 148,
   "id": "6ef066bb",
   "metadata": {},
   "outputs": [
    {
     "data": {
      "text/plain": [
       "(2*t^3 - 2*t - 1)/(t - 1)"
      ]
     },
     "execution_count": 148,
     "metadata": {},
     "output_type": "execute_result"
    }
   ],
   "source": [
    "I.hilbert_series()"
   ]
  },
  {
   "cell_type": "code",
   "execution_count": 151,
   "id": "dbd7f35e",
   "metadata": {},
   "outputs": [
    {
     "data": {
      "text/plain": [
       "x^9 + 3*x^8 + 3*x^7 - x^6 - 6*x^5 - 6*x^4 - x^3 + 3*x^2 + 3*x + 1"
      ]
     },
     "execution_count": 151,
     "metadata": {},
     "output_type": "execute_result"
    }
   ],
   "source": [
    "(1 - x^3)^2*(1 - x^2)^3 / (1 - x)^3"
   ]
  },
  {
   "cell_type": "code",
   "execution_count": 158,
   "id": "f9a41ded",
   "metadata": {},
   "outputs": [
    {
     "data": {
      "text/plain": [
       "x^9 + 3*x^8 + 3*x^7 - x^6 - 6*x^5 - 6*x^4 - x^3 + 3*x^2 + 3*x + 1"
      ]
     },
     "execution_count": 158,
     "metadata": {},
     "output_type": "execute_result"
    }
   ],
   "source": [
    "(1 - 2*x^3 + x^6)*(1 + 3*x + 3*x^2 + x^3)"
   ]
  },
  {
   "cell_type": "code",
   "execution_count": 152,
   "id": "1f4b8785",
   "metadata": {},
   "outputs": [
    {
     "data": {
      "text/plain": [
       "1"
      ]
     },
     "execution_count": 152,
     "metadata": {},
     "output_type": "execute_result"
    }
   ],
   "source": [
    "I.dimension()"
   ]
  },
  {
   "cell_type": "code",
   "execution_count": 156,
   "id": "7de15c57",
   "metadata": {},
   "outputs": [
    {
     "data": {
      "text/plain": [
       "1"
      ]
     },
     "execution_count": 156,
     "metadata": {},
     "output_type": "execute_result"
    }
   ],
   "source": [
    "ideal(x^2,x*y,y^2*z,z^2).dimension()"
   ]
  },
  {
   "cell_type": "code",
   "execution_count": 212,
   "id": "0b715a1e",
   "metadata": {},
   "outputs": [
    {
     "data": {
      "text/plain": [
       "1"
      ]
     },
     "execution_count": 212,
     "metadata": {},
     "output_type": "execute_result"
    }
   ],
   "source": [
    "J = ideal(y^3,x*y,x^2,x*z)\n",
    "J.dimension()"
   ]
  },
  {
   "cell_type": "code",
   "execution_count": 214,
   "id": "e71ddf25",
   "metadata": {},
   "outputs": [
    {
     "data": {
      "text/plain": [
       "[y^3, x^2, x*y, x*z]"
      ]
     },
     "execution_count": 214,
     "metadata": {},
     "output_type": "execute_result"
    }
   ],
   "source": [
    "J.groebner_basis()"
   ]
  },
  {
   "cell_type": "code",
   "execution_count": 201,
   "id": "5d460623",
   "metadata": {},
   "outputs": [
    {
     "data": {
      "text/plain": [
       "x^4 + 3*x^3 + 4*x^2 + 3*x + 1"
      ]
     },
     "execution_count": 201,
     "metadata": {},
     "output_type": "execute_result"
    }
   ],
   "source": [
    "(1-x^3)*(1-x^2)^2 / (1-x)^3"
   ]
  },
  {
   "cell_type": "code",
   "execution_count": 202,
   "id": "bf93ce91",
   "metadata": {},
   "outputs": [
    {
     "data": {
      "text/plain": [
       "True"
      ]
     },
     "execution_count": 202,
     "metadata": {},
     "output_type": "execute_result"
    }
   ],
   "source": [
    "is_generic(J,R)"
   ]
  },
  {
   "cell_type": "code",
   "execution_count": 203,
   "id": "aaad9fd8",
   "metadata": {},
   "outputs": [
    {
     "data": {
      "text/plain": [
       "True"
      ]
     },
     "execution_count": 203,
     "metadata": {},
     "output_type": "execute_result"
    }
   ],
   "source": [
    "is_fixed(J,R)"
   ]
  },
  {
   "cell_type": "code",
   "execution_count": 204,
   "id": "2eb75310",
   "metadata": {},
   "outputs": [
    {
     "data": {
      "text/plain": [
       "[Ideal (y^3, x^2, x*y, x*z) of Multivariate Polynomial Ring in x, y, z over Rational Field,\n",
       " Ideal (y^3, x^2, x*y, x*z) of Multivariate Polynomial Ring in x, y, z over Rational Field,\n",
       " Ideal (y^3, x^2, x*y, x*z) of Multivariate Polynomial Ring in x, y, z over Rational Field,\n",
       " Ideal (y^3, x^2, x*y, x*z) of Multivariate Polynomial Ring in x, y, z over Rational Field,\n",
       " Ideal (y^3, x^2, x*y, x*z) of Multivariate Polynomial Ring in x, y, z over Rational Field,\n",
       " Ideal (y^3, x^2, x*y, x*z) of Multivariate Polynomial Ring in x, y, z over Rational Field,\n",
       " Ideal (y^3, x^2, x*y, x*z) of Multivariate Polynomial Ring in x, y, z over Rational Field,\n",
       " Ideal (y^3, x^2, x*y, x*z) of Multivariate Polynomial Ring in x, y, z over Rational Field,\n",
       " Ideal (y^3, x^2, x*y, x*z) of Multivariate Polynomial Ring in x, y, z over Rational Field,\n",
       " Ideal (y^3, x^2, x*y, x*z) of Multivariate Polynomial Ring in x, y, z over Rational Field]"
      ]
     },
     "execution_count": 204,
     "metadata": {},
     "output_type": "execute_result"
    }
   ],
   "source": [
    "attempt_gins(J,R,10)"
   ]
  },
  {
   "cell_type": "code",
   "execution_count": 170,
   "id": "1db45720",
   "metadata": {},
   "outputs": [
    {
     "data": {
      "text/plain": [
       "Ideal (-216000*x^3 + 9514800*x^2*y - 139708980*x*y^2 + 683797841*y^3 - 8726400*x^2*z + 256265280*x*y*z - 1881414264*y^2*z - 117515520*x*z^2 + 1725519552*y*z^2 - 527514112*z^3, -43740*x^2 + 592569*x*y + 729468*y^2 - 639552*x*z + 72778*y*z - 680336*z^2, 531441*x^2 + 1207224*x*y + 685584*y^2 + 1227636*x*z + 1394352*y*z + 708964*z^2) of Multivariate Polynomial Ring in x, y, z over Rational Field"
      ]
     },
     "execution_count": 170,
     "metadata": {},
     "output_type": "execute_result"
    }
   ],
   "source": [
    "apply_random_GL(J,R)"
   ]
  },
  {
   "cell_type": "code",
   "execution_count": 171,
   "id": "7f26161a",
   "metadata": {},
   "outputs": [],
   "source": [
    "M = Matrix([[1,2,3],[4,5,6],[7,8,9]])"
   ]
  },
  {
   "cell_type": "code",
   "execution_count": 187,
   "id": "c4266143",
   "metadata": {},
   "outputs": [
    {
     "data": {
      "text/plain": [
       "[y^3 + 6*y^2*z + 12*y*z^2 + 8*z^3, x^2 - 4*y^2 - 2*x*z - 16*y*z - 15*z^2, x*y + 2*y^2 + 2*x*z + 7*y*z + 6*z^2]"
      ]
     },
     "execution_count": 187,
     "metadata": {},
     "output_type": "execute_result"
    }
   ],
   "source": [
    "GL_action(M,J,R).groebner_basis()"
   ]
  },
  {
   "cell_type": "code",
   "execution_count": 269,
   "id": "0a6a91fa",
   "metadata": {},
   "outputs": [
    {
     "data": {
      "text/plain": [
       "Ideal (x*z^2, y*z^2, z^3, x^2, x*y, y^2) of Multivariate Polynomial Ring in x, y, z over Rational Field"
      ]
     },
     "execution_count": 269,
     "metadata": {},
     "output_type": "execute_result"
    }
   ],
   "source": [
    "J"
   ]
  },
  {
   "cell_type": "code",
   "execution_count": 211,
   "id": "cceea090",
   "metadata": {},
   "outputs": [
    {
     "data": {
      "text/plain": [
       "True"
      ]
     },
     "execution_count": 211,
     "metadata": {},
     "output_type": "execute_result"
    }
   ],
   "source": [
    "is_fixed(ideal(x^2,x*y,y^2),R)"
   ]
  },
  {
   "cell_type": "code",
   "execution_count": 257,
   "id": "77894f83",
   "metadata": {},
   "outputs": [],
   "source": [
    "R.<x,y,z> = PolynomialRing(QQ, order = 'degrevlex')\n",
    "I = ideal(x^4, y^2, z^3, y*z)"
   ]
  },
  {
   "cell_type": "code",
   "execution_count": 258,
   "id": "031043f6",
   "metadata": {},
   "outputs": [
    {
     "data": {
      "text/plain": [
       "0"
      ]
     },
     "execution_count": 258,
     "metadata": {},
     "output_type": "execute_result"
    }
   ],
   "source": [
    "I.dimension()"
   ]
  },
  {
   "cell_type": "code",
   "execution_count": 259,
   "id": "1879f5fb",
   "metadata": {},
   "outputs": [
    {
     "name": "stdout",
     "output_type": "stream",
     "text": [
      "y^2 is in the ideal, but x*y is not\n"
     ]
    },
    {
     "data": {
      "text/plain": [
       "False"
      ]
     },
     "execution_count": 259,
     "metadata": {},
     "output_type": "execute_result"
    }
   ],
   "source": [
    "is_fixed(I,R,quiet = False)"
   ]
  },
  {
   "cell_type": "code",
   "execution_count": 260,
   "id": "8dcef4ef",
   "metadata": {},
   "outputs": [
    {
     "data": {
      "text/plain": [
       "True"
      ]
     },
     "execution_count": 260,
     "metadata": {},
     "output_type": "execute_result"
    }
   ],
   "source": [
    "is_generic(I,R)"
   ]
  },
  {
   "cell_type": "code",
   "execution_count": 261,
   "id": "d76d2df0",
   "metadata": {},
   "outputs": [
    {
     "data": {
      "text/plain": [
       "[z^6, x*z^4 - 1414064053/1933683780*z^5, y*z^4 - 2147491553/2417104725*z^5, y^2*z^2 + 8954461936573/100912188584970*x*z^3 - 30636771929123/16818698097495*y*z^3 + 51946543662650501119/67304393298631591200*z^4, y^3 - 26639/11910*y^2*z + 709636321/425544300*y*z^2 - 18904001955119/45614093517000*z^3, x^2 - 24025/22201*y^2 - 8327/7146*x*z + 128000395/79324173*y*z - 332619215/1269186768*z^2, x*y - 155/149*y^2 - 26639/35730*x*z + 2062513/2129508*y*z - 612697/4259016*z^2]"
      ]
     },
     "execution_count": 261,
     "metadata": {},
     "output_type": "execute_result"
    }
   ],
   "source": [
    "apply_random_GL(I,R).groebner_basis()"
   ]
  },
  {
   "cell_type": "code",
   "execution_count": 262,
   "id": "f6235cc9",
   "metadata": {},
   "outputs": [],
   "source": [
    "J = ideal(x*z^2, y*z^2, z^3, x^2, x*y, y^2)"
   ]
  },
  {
   "cell_type": "code",
   "execution_count": 271,
   "id": "b13d3d20",
   "metadata": {},
   "outputs": [
    {
     "data": {
      "text/plain": [
       "t^2 + 3*t + 1"
      ]
     },
     "execution_count": 271,
     "metadata": {},
     "output_type": "execute_result"
    }
   ],
   "source": [
    "make_borel(I,R).hilbert_series()"
   ]
  },
  {
   "cell_type": "code",
   "execution_count": 272,
   "id": "d1a9c135",
   "metadata": {},
   "outputs": [
    {
     "data": {
      "text/plain": [
       "3*t^2 + 3*t + 1"
      ]
     },
     "execution_count": 272,
     "metadata": {},
     "output_type": "execute_result"
    }
   ],
   "source": [
    "J.hilbert_series()"
   ]
  },
  {
   "cell_type": "code",
   "execution_count": 391,
   "id": "21a226fb",
   "metadata": {},
   "outputs": [
    {
     "data": {
      "text/plain": [
       "6*t^3 + 6*t^2 + 3*t + 1"
      ]
     },
     "execution_count": 391,
     "metadata": {},
     "output_type": "execute_result"
    }
   ],
   "source": [
    "R.<x,y,z> = PolynomialRing(QQ, order = 'degrevlex')\n",
    "I = ideal(x^4, y^3, z^4)\n",
    "make_borel(I,R).hilbert_series()"
   ]
  },
  {
   "cell_type": "code",
   "execution_count": 307,
   "id": "50c449c0",
   "metadata": {},
   "outputs": [
    {
     "data": {
      "text/plain": [
       "2*t^2 + 2*t + 1"
      ]
     },
     "execution_count": 307,
     "metadata": {},
     "output_type": "execute_result"
    }
   ],
   "source": [
    "S.<x,y> = PolynomialRing(QQ, order = 'degrevlex')\n",
    "I = ideal(x^2,y^3)\n",
    "make_borel(I,S).hilbert_series()"
   ]
  },
  {
   "cell_type": "code",
   "execution_count": 309,
   "id": "f7707f47",
   "metadata": {},
   "outputs": [
    {
     "data": {
      "text/plain": [
       "-x^6 - 2*x^5 - 2*x^4 + 2*x^2 + 2*x + 1"
      ]
     },
     "execution_count": 309,
     "metadata": {},
     "output_type": "execute_result"
    }
   ],
   "source": [
    "(1 - x^3)^2*(1 - x^2)/(1 - x)^2"
   ]
  },
  {
   "cell_type": "code",
   "execution_count": 308,
   "id": "8f414502",
   "metadata": {},
   "outputs": [
    {
     "data": {
      "text/plain": [
       "Ideal (x*y^2, y^3, x^2) of Multivariate Polynomial Ring in x, y over Rational Field"
      ]
     },
     "execution_count": 308,
     "metadata": {},
     "output_type": "execute_result"
    }
   ],
   "source": [
    "make_borel(I,S)"
   ]
  },
  {
   "cell_type": "code",
   "execution_count": 311,
   "id": "b002c47d",
   "metadata": {},
   "outputs": [
    {
     "data": {
      "text/plain": [
       "2*t^2 + 2*t + 1"
      ]
     },
     "execution_count": 311,
     "metadata": {},
     "output_type": "execute_result"
    }
   ],
   "source": [
    "ideal(x^3, x*y^2, x^2*y, y^3, x^2).hilbert_series()"
   ]
  },
  {
   "cell_type": "code",
   "execution_count": 314,
   "id": "e5e91737",
   "metadata": {},
   "outputs": [
    {
     "data": {
      "text/plain": [
       "-x^12 - 2*x^11 - 2*x^10 + 2*x^9 + 6*x^8 + 6*x^7 - 6*x^5 - 6*x^4 - 2*x^3 + 2*x^2 + 2*x + 1"
      ]
     },
     "execution_count": 314,
     "metadata": {},
     "output_type": "execute_result"
    }
   ],
   "source": [
    "(1 - x^3)^4*(1 - x^2)/(1 - x)^2"
   ]
  },
  {
   "cell_type": "code",
   "execution_count": 322,
   "id": "d438e19c",
   "metadata": {},
   "outputs": [
    {
     "data": {
      "text/plain": [
       "-x^27 - 3*x^26 - 6*x^25 + 15*x^23 + 39*x^22 + 27*x^21 - 21*x^20 - 105*x^19 - 105*x^18 - 21*x^17 + 147*x^16 + 189*x^15 + 105*x^14 - 105*x^13 - 189*x^12 - 147*x^11 + 21*x^10 + 105*x^9 + 105*x^8 + 21*x^7 - 27*x^6 - 39*x^5 - 15*x^4 + 6*x^2 + 3*x + 1"
      ]
     },
     "execution_count": 322,
     "metadata": {},
     "output_type": "execute_result"
    }
   ],
   "source": [
    "(1 - x^3)^10/(1 - x)^3"
   ]
  },
  {
   "cell_type": "code",
   "execution_count": 324,
   "id": "14f85958",
   "metadata": {},
   "outputs": [
    {
     "data": {
      "text/plain": [
       "Ideal (x^2*z^2, x*y*z^2, y^2*z^2, x*z^3, y*z^3, z^4, x^3, x^2*y, x*y^2, y^3) of Multivariate Polynomial Ring in x, y, z over Rational Field"
      ]
     },
     "execution_count": 324,
     "metadata": {},
     "output_type": "execute_result"
    }
   ],
   "source": [
    "make_borel(I,R)"
   ]
  },
  {
   "cell_type": "code",
   "execution_count": 326,
   "id": "3d6eda96",
   "metadata": {},
   "outputs": [
    {
     "data": {
      "text/plain": [
       "x^69 + 3*x^68 + 6*x^67 + 6*x^66 - 12*x^65 - 48*x^64 - 96*x^63 - 96*x^62 + 57*x^61 + 359*x^60 + 720*x^59 + 720*x^58 - 95*x^57 - 1665*x^56 - 3360*x^55 - 3360*x^54 - 315*x^53 + 5355*x^52 + 10920*x^51 + 10920*x^50 + 2457*x^49 - 12649*x^48 - 26208*x^47 - 26208*x^46 - 8099*x^45 + 22659*x^44 + 48048*x^43 + 48048*x^42 + 17589*x^41 - 31317*x^40 - 68640*x^39 - 68640*x^38 - 27885*x^37 + 33605*x^36 + 77220*x^35 + 77220*x^34 + 33605*x^33 - 27885*x^32 - 68640*x^31 - 68640*x^30 - 31317*x^29 + 17589*x^28 + 48048*x^27 + 48048*x^26 + 22659*x^25 - 8099*x^24 - 26208*x^23 - 26208*x^22 - 12649*x^21 + 2457*x^20 + 10920*x^19 + 10920*x^18 + 5355*x^17 - 315*x^16 - 3360*x^15 - 3360*x^14 - 1665*x^13 - 95*x^12 + 720*x^11 + 720*x^10 + 359*x^9 + 57*x^8 - 96*x^7 - 96*x^6 - 48*x^5 - 12*x^4 + 6*x^3 + 6*x^2 + 3*x + 1"
      ]
     },
     "execution_count": 326,
     "metadata": {},
     "output_type": "execute_result"
    }
   ],
   "source": [
    "(1 - x^4)^15*(1 - x^3)^4/(1 - x)^3"
   ]
  },
  {
   "cell_type": "code",
   "execution_count": 327,
   "id": "d544259a",
   "metadata": {},
   "outputs": [
    {
     "data": {
      "text/plain": [
       "-x^33 - 3*x^32 - 6*x^31 - 6*x^30 + 3*x^29 + 21*x^28 + 42*x^27 + 42*x^26 + 6*x^25 - 62*x^24 - 126*x^23 - 126*x^22 - 43*x^21 + 99*x^20 + 210*x^19 + 210*x^18 + 90*x^17 - 90*x^16 - 210*x^15 - 210*x^14 - 99*x^13 + 43*x^12 + 126*x^11 + 126*x^10 + 62*x^9 - 6*x^8 - 42*x^7 - 42*x^6 - 21*x^5 - 3*x^4 + 6*x^3 + 6*x^2 + 3*x + 1"
      ]
     },
     "execution_count": 327,
     "metadata": {},
     "output_type": "execute_result"
    }
   ],
   "source": [
    "(1 - x^4)^6*(1 - x^3)^4/(1 - x)^3"
   ]
  },
  {
   "cell_type": "code",
   "execution_count": 356,
   "id": "09d1612b",
   "metadata": {},
   "outputs": [
    {
     "data": {
      "text/plain": [
       "4*t^5 + 4*t^4 + 4*t^3 + 6*t^2 + 3*t + 1"
      ]
     },
     "execution_count": 356,
     "metadata": {},
     "output_type": "execute_result"
    }
   ],
   "source": [
    "make_borel(ideal(z^6,x*y*z),R).hilbert_series()"
   ]
  },
  {
   "cell_type": "code",
   "execution_count": 352,
   "id": "d801e6c5",
   "metadata": {},
   "outputs": [
    {
     "data": {
      "text/plain": [
       "-x^165 - 3*x^164 - 6*x^163 - 10*x^162 - 15*x^161 - 21*x^160 + 48*x^158 + 123*x^157 + 225*x^156 + 354*x^155 + 510*x^154 + 315*x^153 - 231*x^152 - 1128*x^151 - 2376*x^150 - 3975*x^149 - 5925*x^148 - 4950*x^147 - 1050*x^146 + 5775*x^145 + 15525*x^144 + 28200*x^143 + 43800*x^142 + 41850*x^141 + 22350*x^140 - 14700*x^139 - 69300*x^138 - 141450*x^137 - 231150*x^136 - 240120*x^135 - 168360*x^134 - 15870*x^133 + 217350*x^132 + 531300*x^131 + 925980*x^130 + 1024650*x^129 + 827310*x^128 + 333960*x^127 - 455400*x^126 - 1540770*x^125 - 2922150*x^124 - 3415500*x^123 - 3020820*x^122 - 1738110*x^121 + 432630*x^120 + 3491400*x^119 + 7438200*x^118 + 9164925*x^117 + 8671575*x^116 + 5958150*x^115 + 1024650*x^114 - 6128925*x^113 - 15502575*x^112 - 20189400*x^111 - 20189400*x^110 - 15502575*x^109 - 6128925*x^108 + 7931550*x^107 + 26678850*x^106 + 36989865*x^105 + 38864595*x^104 + 32303040*x^103 + 17305200*x^102 - 6128925*x^101 - 37999335*x^100 - 56831850*x^99 - 62626470*x^98 - 55383195*x^97 - 35102025*x^96 - 1782960*x^95 + 44574000*x^94 + 73547100*x^93 + 85136340*x^92 + 79341720*x^91 + 56163240*x^90 + 15600900*x^89 - 42345300*x^88 - 80233200*x^87 - 98062800*x^86 - 95834100*x^85 - 73547100*x^84 - 31201800*x^83 + 31201800*x^82 + 73547100*x^81 + 95834100*x^80 + 98062800*x^79 + 80233200*x^78 + 42345300*x^77 - 15600900*x^76 - 56163240*x^75 - 79341720*x^74 - 85136340*x^73 - 73547100*x^72 - 44574000*x^71 + 1782960*x^70 + 35102025*x^69 + 55383195*x^68 + 62626470*x^67 + 56831850*x^66 + 37999335*x^65 + 6128925*x^64 - 17305200*x^63 - 32303040*x^62 - 38864595*x^61 - 36989865*x^60 - 26678850*x^59 - 7931550*x^58 + 6128925*x^57 + 15502575*x^56 + 20189400*x^55 + 20189400*x^54 + 15502575*x^53 + 6128925*x^52 - 1024650*x^51 - 5958150*x^50 - 8671575*x^49 - 9164925*x^48 - 7438200*x^47 - 3491400*x^46 - 432630*x^45 + 1738110*x^44 + 3020820*x^43 + 3415500*x^42 + 2922150*x^41 + 1540770*x^40 + 455400*x^39 - 333960*x^38 - 827310*x^37 - 1024650*x^36 - 925980*x^35 - 531300*x^34 - 217350*x^33 + 15870*x^32 + 168360*x^31 + 240120*x^30 + 231150*x^29 + 141450*x^28 + 69300*x^27 + 14700*x^26 - 22350*x^25 - 41850*x^24 - 43800*x^23 - 28200*x^22 - 15525*x^21 - 5775*x^20 + 1050*x^19 + 4950*x^18 + 5925*x^17 + 3975*x^16 + 2376*x^15 + 1128*x^14 + 231*x^13 - 315*x^12 - 510*x^11 - 354*x^10 - 225*x^9 - 123*x^8 - 48*x^7 + 21*x^5 + 15*x^4 + 10*x^3 + 6*x^2 + 3*x + 1"
      ]
     },
     "execution_count": 352,
     "metadata": {},
     "output_type": "execute_result"
    }
   ],
   "source": [
    "(1 - x^6)^28/(1 - x)^3"
   ]
  },
  {
   "cell_type": "code",
   "execution_count": 358,
   "id": "3108059b",
   "metadata": {},
   "outputs": [
    {
     "data": {
      "text/plain": [
       "Ideal (y^2*z^4, x*z^5, y*z^5, z^6, x^3, x^2*y, x*y^2, y^3, x^2*z, x*y*z) of Multivariate Polynomial Ring in x, y, z over Rational Field"
      ]
     },
     "execution_count": 358,
     "metadata": {},
     "output_type": "execute_result"
    }
   ],
   "source": [
    "make_borel(ideal(z^6, x*y*z),R)"
   ]
  },
  {
   "cell_type": "code",
   "execution_count": 365,
   "id": "8e9e4780",
   "metadata": {},
   "outputs": [
    {
     "data": {
      "text/plain": [
       "74"
      ]
     },
     "execution_count": 365,
     "metadata": {},
     "output_type": "execute_result"
    }
   ],
   "source": [
    "get_mons(20,R,False).index(x^4*y^13*z^3)+1"
   ]
  },
  {
   "cell_type": "code",
   "execution_count": 366,
   "id": "7c7b2f45",
   "metadata": {},
   "outputs": [
    {
     "data": {
      "text/plain": [
       "74"
      ]
     },
     "execution_count": 366,
     "metadata": {},
     "output_type": "execute_result"
    }
   ],
   "source": [
    "4 + 13 + (21*20 - 18*17)/2"
   ]
  },
  {
   "cell_type": "code",
   "execution_count": 370,
   "id": "6c9282fc",
   "metadata": {},
   "outputs": [
    {
     "data": {
      "text/plain": [
       "1200"
      ]
     },
     "execution_count": 370,
     "metadata": {},
     "output_type": "execute_result"
    }
   ],
   "source": [
    "S.<x,y,z,w> = PolynomialRing(QQ, order='degrevlex')\n",
    "get_mons(20,S,False).index(x*y^3*z^10*w^6)+1"
   ]
  },
  {
   "cell_type": "code",
   "execution_count": 377,
   "id": "101c08c6",
   "metadata": {},
   "outputs": [],
   "source": [
    "R.<x,y> = PolynomialRing(QQ, order = \"degrevlex\")\n",
    "I = ideal((2*x - y)^2, x^2)"
   ]
  },
  {
   "cell_type": "code",
   "execution_count": 390,
   "id": "b0be96cd",
   "metadata": {},
   "outputs": [
    {
     "data": {
      "text/plain": [
       "True"
      ]
     },
     "execution_count": 390,
     "metadata": {},
     "output_type": "execute_result"
    }
   ],
   "source": [
    "I == ideal(x^2, 4*x*y - y^2)"
   ]
  },
  {
   "cell_type": "code",
   "execution_count": 388,
   "id": "2e518702",
   "metadata": {},
   "outputs": [
    {
     "data": {
      "text/plain": [
       "False"
      ]
     },
     "execution_count": 388,
     "metadata": {},
     "output_type": "execute_result"
    }
   ],
   "source": [
    "ideal(x^2, y^2 - 4*x*y).gens().is_groebner()"
   ]
  },
  {
   "cell_type": "code",
   "execution_count": 396,
   "id": "09d5037f",
   "metadata": {},
   "outputs": [
    {
     "data": {
      "text/plain": [
       "Ideal (x, y, z) of Multivariate Polynomial Ring in x, y, z over Rational Field"
      ]
     },
     "execution_count": 396,
     "metadata": {},
     "output_type": "execute_result"
    }
   ],
   "source": [
    "make_borel(ideal(x^3,y^2,z),R)"
   ]
  },
  {
   "cell_type": "code",
   "execution_count": 400,
   "id": "1c2996e3",
   "metadata": {},
   "outputs": [
    {
     "data": {
      "text/plain": [
       "[Ideal (z^5, x*z^3, y*z^3, y^3, y^2*z, x^2, x*y) of Multivariate Polynomial Ring in x, y, z over Rational Field,\n",
       " Ideal (z^5, x*z^3, y*z^3, y^3, y^2*z, x^2, x*y) of Multivariate Polynomial Ring in x, y, z over Rational Field,\n",
       " Ideal (z^5, x*z^3, y*z^3, y^3, y^2*z, x^2, x*y) of Multivariate Polynomial Ring in x, y, z over Rational Field,\n",
       " Ideal (z^5, x*z^3, y*z^3, y^3, y^2*z, x^2, x*y) of Multivariate Polynomial Ring in x, y, z over Rational Field,\n",
       " Ideal (z^5, x*z^3, y*z^3, y^3, y^2*z, x^2, x*y) of Multivariate Polynomial Ring in x, y, z over Rational Field,\n",
       " Ideal (z^5, x*z^3, y*z^3, y^3, y^2*z, x^2, x*y) of Multivariate Polynomial Ring in x, y, z over Rational Field,\n",
       " Ideal (z^5, x*z^3, y*z^3, y^3, y^2*z, x^2, x*y) of Multivariate Polynomial Ring in x, y, z over Rational Field,\n",
       " Ideal (z^5, x*z^3, y*z^3, y^3, y^2*z, x^2, x*y) of Multivariate Polynomial Ring in x, y, z over Rational Field,\n",
       " Ideal (z^5, x*z^3, y*z^3, y^3, y^2*z, x^2, x*y) of Multivariate Polynomial Ring in x, y, z over Rational Field,\n",
       " Ideal (z^5, x*z^3, y*z^3, y^3, y^2*z, x^2, x*y) of Multivariate Polynomial Ring in x, y, z over Rational Field]"
      ]
     },
     "execution_count": 400,
     "metadata": {},
     "output_type": "execute_result"
    }
   ],
   "source": [
    "attempt_gins(ideal(y^3, x^2, z^2), R, 10)"
   ]
  },
  {
   "cell_type": "code",
   "execution_count": 401,
   "id": "690b78f4",
   "metadata": {},
   "outputs": [],
   "source": [
    "T.<x,y,a,b,c,d,e,f> = PolynomialRing(QQ, order = \"degrevlex\")\n",
    "I = ideal(a*x^2 + b*x*y + c*y^2, d*x^2 + e*x*y + f*y^2)"
   ]
  },
  {
   "cell_type": "code",
   "execution_count": 402,
   "id": "b947c269",
   "metadata": {},
   "outputs": [
    {
     "data": {
      "text/plain": [
       "[y^3*c^2*d - x*y^2*a*c*e - y^3*b*c*e + x*y^2*a*b*f + y^3*b^2*f - y^3*a*c*f, x*y^2*c*d + y^3*c*e - x*y^2*a*f - y^3*b*f, x*y*b*d + y^2*c*d - x*y*a*e - y^2*a*f, x^2*a + x*y*b + y^2*c, x^2*d + x*y*e + y^2*f]"
      ]
     },
     "execution_count": 402,
     "metadata": {},
     "output_type": "execute_result"
    }
   ],
   "source": [
    "I.groebner_basis()"
   ]
  },
  {
   "cell_type": "code",
   "execution_count": 403,
   "id": "74b63d50",
   "metadata": {},
   "outputs": [
    {
     "data": {
      "text/plain": [
       "[y^3*b^3*c^2 - 2*x^3*y^2*b*c*d - 4*y^3*a*b^2*c*d + 2*x^3*y^2*a*d^2 - x^2*y^3*b*d^2 + 4*y^3*a^2*b*d^2, x*y^2*b^2*c^2 + 2*y^3*b^2*c*d - x^3*y^2*d^2 - 2*y^3*a*b*d^2, x*y*a*b*c^2 + 1/2*y^2*b^2*c^2 - x^3*y*c*d - 1/2*x^2*y^2*d^2, x^4 + 2*x*y*a*b + y^2*b^2, x^2*c^2 + 2*x*y*c*d + y^2*d^2]"
      ]
     },
     "execution_count": 403,
     "metadata": {},
     "output_type": "execute_result"
    }
   ],
   "source": [
    "Q.<x,y,a,b,c,d> = PolynomialRing(QQ, order = \"degrevlex\")\n",
    "J = ideal(x^2*x^2 + 2*a*b*x*y + b^2*y^2, c^2*x^2 + 2*c*d*x*y + d^2*y^2)\n",
    "J.groebner_basis()"
   ]
  },
  {
   "cell_type": "code",
   "execution_count": 776,
   "id": "811a21a9",
   "metadata": {},
   "outputs": [
    {
     "data": {
      "text/plain": [
       "[Ideal (z^4, x*z^2, y*z^2, x^2, x*y, y^2) of Multivariate Polynomial Ring in x, y, z over Rational Field,\n",
       " Ideal (z^4, x*z^2, y*z^2, x^2, x*y, y^2) of Multivariate Polynomial Ring in x, y, z over Rational Field,\n",
       " Ideal (z^4, x*z^2, y*z^2, x^2, x*y, y^2) of Multivariate Polynomial Ring in x, y, z over Rational Field,\n",
       " Ideal (z^4, x*z^2, y*z^2, x^2, x*y, y^2) of Multivariate Polynomial Ring in x, y, z over Rational Field,\n",
       " Ideal (z^4, x*z^2, y*z^2, x^2, x*y, y^2) of Multivariate Polynomial Ring in x, y, z over Rational Field,\n",
       " Ideal (z^4, x*z^2, y*z^2, x^2, x*y, y^2) of Multivariate Polynomial Ring in x, y, z over Rational Field,\n",
       " Ideal (z^4, x*z^2, y*z^2, x^2, x*y, y^2) of Multivariate Polynomial Ring in x, y, z over Rational Field,\n",
       " Ideal (z^4, x*z^2, y*z^2, x^2, x*y, y^2) of Multivariate Polynomial Ring in x, y, z over Rational Field,\n",
       " Ideal (z^4, x*z^2, y*z^2, x^2, x*y, y^2) of Multivariate Polynomial Ring in x, y, z over Rational Field,\n",
       " Ideal (z^4, x*z^2, y*z^2, x^2, x*y, y^2) of Multivariate Polynomial Ring in x, y, z over Rational Field]"
      ]
     },
     "execution_count": 776,
     "metadata": {},
     "output_type": "execute_result"
    }
   ],
   "source": [
    "R.<x,y,z> = PolynomialRing(QQ, order = \"degrevlex\")\n",
    "I = ideal(z^4, x*z^2, y*z^2, x^2, x*y, y^2)\n",
    "attempt_gins(I, R, 10)"
   ]
  },
  {
   "cell_type": "code",
   "execution_count": 777,
   "id": "1f9d8b67",
   "metadata": {},
   "outputs": [
    {
     "data": {
      "text/plain": [
       "[Ideal (z^4, x*z^2, y*z^2, x^2, x*y, y^2) of Multivariate Polynomial Ring in x, y, z over Rational Field,\n",
       " Ideal (z^4, x*z^2, y*z^2, x^2, x*y, y^2) of Multivariate Polynomial Ring in x, y, z over Rational Field,\n",
       " Ideal (z^4, x*z^2, y*z^2, x^2, x*y, y^2) of Multivariate Polynomial Ring in x, y, z over Rational Field,\n",
       " Ideal (z^4, x*z^2, y*z^2, x^2, x*y, y^2) of Multivariate Polynomial Ring in x, y, z over Rational Field,\n",
       " Ideal (z^4, x*z^2, y*z^2, x^2, x*y, y^2) of Multivariate Polynomial Ring in x, y, z over Rational Field,\n",
       " Ideal (z^4, x*z^2, y*z^2, x^2, x*y, y^2) of Multivariate Polynomial Ring in x, y, z over Rational Field,\n",
       " Ideal (z^4, x*z^2, y*z^2, x^2, x*y, y^2) of Multivariate Polynomial Ring in x, y, z over Rational Field,\n",
       " Ideal (z^4, x*z^2, y*z^2, x^2, x*y, y^2) of Multivariate Polynomial Ring in x, y, z over Rational Field,\n",
       " Ideal (z^4, x*z^2, y*z^2, x^2, x*y, y^2) of Multivariate Polynomial Ring in x, y, z over Rational Field,\n",
       " Ideal (z^4, x*z^2, y*z^2, x^2, x*y, y^2) of Multivariate Polynomial Ring in x, y, z over Rational Field]"
      ]
     },
     "execution_count": 777,
     "metadata": {},
     "output_type": "execute_result"
    }
   ],
   "source": [
    "J = ideal(x^2, y^2, z^2)\n",
    "attempt_gins(J, R, 10)"
   ]
  },
  {
   "cell_type": "code",
   "execution_count": 778,
   "id": "3deed0fc",
   "metadata": {},
   "outputs": [
    {
     "data": {
      "text/plain": [
       "t^3 + 3*t^2 + 3*t + 1"
      ]
     },
     "execution_count": 778,
     "metadata": {},
     "output_type": "execute_result"
    }
   ],
   "source": [
    "J.hilbert_series()"
   ]
  },
  {
   "cell_type": "code",
   "execution_count": 779,
   "id": "8d3cc3a1",
   "metadata": {},
   "outputs": [
    {
     "data": {
      "text/plain": [
       "t^3 + 3*t^2 + 3*t + 1"
      ]
     },
     "execution_count": 779,
     "metadata": {},
     "output_type": "execute_result"
    }
   ],
   "source": [
    "I.hilbert_series()"
   ]
  },
  {
   "cell_type": "code",
   "execution_count": 780,
   "id": "ac653ce4",
   "metadata": {},
   "outputs": [
    {
     "data": {
      "text/plain": [
       "0"
      ]
     },
     "execution_count": 780,
     "metadata": {},
     "output_type": "execute_result"
    }
   ],
   "source": [
    "I.dimension()"
   ]
  },
  {
   "cell_type": "code",
   "execution_count": 781,
   "id": "9ae561b8",
   "metadata": {},
   "outputs": [
    {
     "data": {
      "text/plain": [
       "0"
      ]
     },
     "execution_count": 781,
     "metadata": {},
     "output_type": "execute_result"
    }
   ],
   "source": [
    "J.dimension()"
   ]
  },
  {
   "cell_type": "code",
   "execution_count": 782,
   "id": "425d564d",
   "metadata": {},
   "outputs": [
    {
     "data": {
      "text/plain": [
       "-x^13 - 3*x^12 - 3*x^11 + x^10 + 7*x^9 + 9*x^8 + 4*x^7 - 4*x^6 - 9*x^5 - 7*x^4 - x^3 + 3*x^2 + 3*x + 1"
      ]
     },
     "execution_count": 782,
     "metadata": {},
     "output_type": "execute_result"
    }
   ],
   "source": [
    "(1 - x^4)*(1 - x^3)^2*(1 - x^2)^3 / (1 - x)^3"
   ]
  },
  {
   "cell_type": "code",
   "execution_count": 688,
   "id": "04eead3f",
   "metadata": {},
   "outputs": [
    {
     "data": {
      "text/plain": [
       "Ideal (x*y*z, x^2, y^2, z^2) of Multivariate Polynomial Ring in x, y, z over Rational Field"
      ]
     },
     "execution_count": 688,
     "metadata": {},
     "output_type": "execute_result"
    }
   ],
   "source": [
    "intl(J,R)"
   ]
  },
  {
   "cell_type": "code",
   "execution_count": 694,
   "id": "24029d3c",
   "metadata": {},
   "outputs": [
    {
     "name": "stdout",
     "output_type": "stream",
     "text": [
      "y^2 is in the ideal, but x*y is not\n"
     ]
    },
    {
     "data": {
      "text/plain": [
       "False"
      ]
     },
     "execution_count": 694,
     "metadata": {},
     "output_type": "execute_result"
    }
   ],
   "source": [
    "is_fixed(J,R,False)"
   ]
  },
  {
   "cell_type": "code",
   "execution_count": 695,
   "id": "1fa2c575",
   "metadata": {},
   "outputs": [
    {
     "data": {
      "text/plain": [
       "False"
      ]
     },
     "execution_count": 695,
     "metadata": {},
     "output_type": "execute_result"
    }
   ],
   "source": [
    "y*z in J"
   ]
  },
  {
   "cell_type": "code",
   "execution_count": 696,
   "id": "67bba601",
   "metadata": {},
   "outputs": [
    {
     "data": {
      "text/plain": [
       "(t^2 + t + 1)/(t^2 - 2*t + 1)"
      ]
     },
     "execution_count": 696,
     "metadata": {},
     "output_type": "execute_result"
    }
   ],
   "source": [
    "J1 = ideal(x*y*z)\n",
    "J1.hilbert_series()"
   ]
  },
  {
   "cell_type": "code",
   "execution_count": 697,
   "id": "cbdb13ac",
   "metadata": {},
   "outputs": [
    {
     "data": {
      "text/plain": [
       "(-x^2 - x - 1)/(-x^2 + 2*x - 1)"
      ]
     },
     "execution_count": 697,
     "metadata": {},
     "output_type": "execute_result"
    }
   ],
   "source": [
    "(1-x^3)/(1-x)^3"
   ]
  },
  {
   "cell_type": "code",
   "execution_count": 701,
   "id": "b3ab93da",
   "metadata": {},
   "outputs": [
    {
     "data": {
      "text/plain": [
       "(t^3 - t - 1)/(-t^2 + 2*t - 1)"
      ]
     },
     "execution_count": 701,
     "metadata": {},
     "output_type": "execute_result"
    }
   ],
   "source": [
    "J2 = ideal(x*y*z, x^2)\n",
    "J2.hilbert_series()"
   ]
  },
  {
   "cell_type": "code",
   "execution_count": 705,
   "id": "0699017d",
   "metadata": {},
   "outputs": [
    {
     "data": {
      "text/plain": [
       "(x^3 + 2*x^2 + 2*x + 1)/(-x + 1)"
      ]
     },
     "execution_count": 705,
     "metadata": {},
     "output_type": "execute_result"
    }
   ],
   "source": [
    "(1-x^3)*(1-x^2)/(1-x)^3"
   ]
  },
  {
   "cell_type": "code",
   "execution_count": 706,
   "id": "cfaeaec7",
   "metadata": {},
   "outputs": [
    {
     "data": {
      "text/plain": [
       "(t^3 - t^2 - 2*t - 1)/(t - 1)"
      ]
     },
     "execution_count": 706,
     "metadata": {},
     "output_type": "execute_result"
    }
   ],
   "source": [
    "J3 = ideal(x*y*z,x^2,y^2)\n",
    "J3.hilbert_series()"
   ]
  },
  {
   "cell_type": "code",
   "execution_count": 707,
   "id": "be2f5bd0",
   "metadata": {},
   "outputs": [
    {
     "data": {
      "text/plain": [
       "x^4 + 3*x^3 + 4*x^2 + 3*x + 1"
      ]
     },
     "execution_count": 707,
     "metadata": {},
     "output_type": "execute_result"
    }
   ],
   "source": [
    "(1-x^3)*(1-x^2)^2/(1-x)^3"
   ]
  },
  {
   "cell_type": "code",
   "execution_count": 708,
   "id": "afc4b702",
   "metadata": {},
   "outputs": [
    {
     "data": {
      "text/plain": [
       "3*t^2 + 3*t + 1"
      ]
     },
     "execution_count": 708,
     "metadata": {},
     "output_type": "execute_result"
    }
   ],
   "source": [
    "J.hilbert_series()"
   ]
  },
  {
   "cell_type": "code",
   "execution_count": 709,
   "id": "f52ba009",
   "metadata": {},
   "outputs": [
    {
     "data": {
      "text/plain": [
       "-x^6 - 3*x^5 - 3*x^4 + 3*x^2 + 3*x + 1"
      ]
     },
     "execution_count": 709,
     "metadata": {},
     "output_type": "execute_result"
    }
   ],
   "source": [
    "(1-x^3)*(1-x^2)^3/(1-x)^3"
   ]
  },
  {
   "cell_type": "code",
   "execution_count": 712,
   "id": "27eb398f",
   "metadata": {},
   "outputs": [
    {
     "data": {
      "text/plain": [
       "[Ideal (y^3, x^2, x*y) of Multivariate Polynomial Ring in x, y, z over Rational Field,\n",
       " Ideal (y^3, x^2, x*y) of Multivariate Polynomial Ring in x, y, z over Rational Field,\n",
       " Ideal (y^3, x^2, x*y) of Multivariate Polynomial Ring in x, y, z over Rational Field,\n",
       " Ideal (y^3, x^2, x*y) of Multivariate Polynomial Ring in x, y, z over Rational Field,\n",
       " Ideal (y^3, x^2, x*y) of Multivariate Polynomial Ring in x, y, z over Rational Field,\n",
       " Ideal (y^3, x^2, x*y) of Multivariate Polynomial Ring in x, y, z over Rational Field,\n",
       " Ideal (y^3, x^2, x*y) of Multivariate Polynomial Ring in x, y, z over Rational Field,\n",
       " Ideal (y^3, x^2, x*y) of Multivariate Polynomial Ring in x, y, z over Rational Field,\n",
       " Ideal (y^3, x^2, x*y) of Multivariate Polynomial Ring in x, y, z over Rational Field,\n",
       " Ideal (y^3, x^2, x*y) of Multivariate Polynomial Ring in x, y, z over Rational Field]"
      ]
     },
     "execution_count": 712,
     "metadata": {},
     "output_type": "execute_result"
    }
   ],
   "source": [
    "R.<x,y,z> = PolynomialRing(QQ, order = \"degrevlex\")\n",
    "I = ideal(y^3, x^2, x*y)\n",
    "attempt_gins(I, R, 10)"
   ]
  },
  {
   "cell_type": "code",
   "execution_count": 714,
   "id": "7a7a8a49",
   "metadata": {},
   "outputs": [
    {
     "data": {
      "text/plain": [
       "[Ideal (x*z^2, x^2, x*y) of Multivariate Polynomial Ring in x, y, z over Rational Field,\n",
       " Ideal (x*z^2, x^2, x*y) of Multivariate Polynomial Ring in x, y, z over Rational Field,\n",
       " Ideal (x*z^2, x^2, x*y) of Multivariate Polynomial Ring in x, y, z over Rational Field,\n",
       " Ideal (x*z^2, x^2, x*y) of Multivariate Polynomial Ring in x, y, z over Rational Field,\n",
       " Ideal (x*z^2, x^2, x*y) of Multivariate Polynomial Ring in x, y, z over Rational Field,\n",
       " Ideal (x*z^2, x^2, x*y) of Multivariate Polynomial Ring in x, y, z over Rational Field,\n",
       " Ideal (x*z^2, x^2, x*y) of Multivariate Polynomial Ring in x, y, z over Rational Field,\n",
       " Ideal (x*z^2, x^2, x*y) of Multivariate Polynomial Ring in x, y, z over Rational Field,\n",
       " Ideal (x*z^2, x^2, x*y) of Multivariate Polynomial Ring in x, y, z over Rational Field,\n",
       " Ideal (x*z^2, x^2, x*y) of Multivariate Polynomial Ring in x, y, z over Rational Field]"
      ]
     },
     "execution_count": 714,
     "metadata": {},
     "output_type": "execute_result"
    }
   ],
   "source": [
    "J = ideal(x*z^2, x^2, x*y)\n",
    "attempt_gins(J, R, 10)"
   ]
  },
  {
   "cell_type": "code",
   "execution_count": 715,
   "id": "ae0cd918",
   "metadata": {},
   "outputs": [
    {
     "data": {
      "text/plain": [
       "(t^2 + 2*t + 1)/(-t + 1)"
      ]
     },
     "execution_count": 715,
     "metadata": {},
     "output_type": "execute_result"
    }
   ],
   "source": [
    "I.hilbert_series()"
   ]
  },
  {
   "cell_type": "code",
   "execution_count": 716,
   "id": "8fb14f69",
   "metadata": {},
   "outputs": [
    {
     "data": {
      "text/plain": [
       "(t^4 - t^3 - t^2 + t + 1)/(t^2 - 2*t + 1)"
      ]
     },
     "execution_count": 716,
     "metadata": {},
     "output_type": "execute_result"
    }
   ],
   "source": [
    "J.hilbert_series()"
   ]
  },
  {
   "cell_type": "code",
   "execution_count": 718,
   "id": "98aa657a",
   "metadata": {},
   "outputs": [
    {
     "data": {
      "text/plain": [
       "x^4 + 3*x^3 + 4*x^2 + 3*x + 1"
      ]
     },
     "execution_count": 718,
     "metadata": {},
     "output_type": "execute_result"
    }
   ],
   "source": [
    "(1-x^3)*(1-x^2)^2/(1-x)^3"
   ]
  },
  {
   "cell_type": "code",
   "execution_count": 719,
   "id": "c4ce2ca3",
   "metadata": {},
   "outputs": [
    {
     "data": {
      "text/plain": [
       "x^4 + 3*x^3 + 4*x^2 + 3*x + 1"
      ]
     },
     "execution_count": 719,
     "metadata": {},
     "output_type": "execute_result"
    }
   ],
   "source": [
    "(1 + x + x^2)*(1 + 2*x + x^2)"
   ]
  },
  {
   "cell_type": "code",
   "execution_count": 720,
   "id": "6e444bb4",
   "metadata": {},
   "outputs": [
    {
     "data": {
      "text/plain": [
       "Ideal (-267089984*x^3 + 169212288*x^2*y - 35734272*x*y^2 + 2515456*y^3 + 959284368*x^2*z - 405163584*x*y*z + 42781248*y^2*z - 1148460012*x*z^2 + 242531928*y*z^2 + 458314011*z^3, 851929*x^2 + 84916*x*y + 2116*y^2 + 1454648*x*z + 72496*y*z + 620944*z^2, 594412*x^2 - 95904*x*y - 6256*y^2 - 204161*x*z - 142634*y*z - 607548*z^2) of Multivariate Polynomial Ring in x, y, z over Rational Field"
      ]
     },
     "execution_count": 720,
     "metadata": {},
     "output_type": "execute_result"
    }
   ],
   "source": [
    "apply_random_GL(I, R)"
   ]
  },
  {
   "cell_type": "code",
   "execution_count": 759,
   "id": "544465eb",
   "metadata": {},
   "outputs": [],
   "source": [
    "M = random_GL(QQ, 3)\n",
    "N = Matrix(QQ, [[1,0,0],[0,5,0],[2,1,1]])"
   ]
  },
  {
   "cell_type": "code",
   "execution_count": 760,
   "id": "7c2f6789",
   "metadata": {},
   "outputs": [
    {
     "data": {
      "text/plain": [
       "Ideal (125*y^3, x^2, 5*x*y) of Multivariate Polynomial Ring in x, y, z over Rational Field"
      ]
     },
     "execution_count": 760,
     "metadata": {},
     "output_type": "execute_result"
    }
   ],
   "source": [
    "GL_action(N, I, R)"
   ]
  },
  {
   "cell_type": "code",
   "execution_count": 761,
   "id": "67056ba1",
   "metadata": {},
   "outputs": [
    {
     "data": {
      "text/plain": [
       "1"
      ]
     },
     "execution_count": 761,
     "metadata": {},
     "output_type": "execute_result"
    }
   ],
   "source": [
    "I.dimension()"
   ]
  },
  {
   "cell_type": "code",
   "execution_count": 762,
   "id": "b45a566a",
   "metadata": {},
   "outputs": [
    {
     "data": {
      "text/plain": [
       "2"
      ]
     },
     "execution_count": 762,
     "metadata": {},
     "output_type": "execute_result"
    }
   ],
   "source": [
    "J.dimension()"
   ]
  },
  {
   "cell_type": "code",
   "execution_count": 766,
   "id": "04687ba7",
   "metadata": {},
   "outputs": [
    {
     "data": {
      "text/plain": [
       "x^8 + 3*x^7 + 4*x^6 + 4*x^5 + 4*x^4 + 4*x^3 + 4*x^2 + 3*x + 1"
      ]
     },
     "execution_count": 766,
     "metadata": {},
     "output_type": "execute_result"
    }
   ],
   "source": [
    "(x^2 + 2*x + 1)*(1 + x + x^2 + x^3 + x^4 + x^5 + x^6)"
   ]
  },
  {
   "cell_type": "code",
   "execution_count": 767,
   "id": "306433ee",
   "metadata": {},
   "outputs": [
    {
     "data": {
      "text/plain": [
       "x^16 + x^15 + x^12 + 2*x^11 + 3*x^10 + 2*x^9 + 3*x^8 + 6*x^7 + 7*x^6 + 6*x^5 + 5*x^4 + 4*x^3 + 4*x^2 + 3*x + 1"
      ]
     },
     "execution_count": 767,
     "metadata": {},
     "output_type": "execute_result"
    }
   ],
   "source": [
    "(x^4 - x^3 - x^2 + x + 1)*(1 + x + x^2 + x^3 + x^4 + x^5 + x^6)^2"
   ]
  },
  {
   "cell_type": "code",
   "execution_count": 770,
   "id": "ac78afa2",
   "metadata": {},
   "outputs": [
    {
     "data": {
      "text/plain": [
       "4"
      ]
     },
     "execution_count": 770,
     "metadata": {},
     "output_type": "execute_result"
    }
   ],
   "source": [
    "I.hilbert_polynomial()"
   ]
  },
  {
   "cell_type": "code",
   "execution_count": 785,
   "id": "9da6d255",
   "metadata": {},
   "outputs": [
    {
     "data": {
      "text/plain": [
       "[Ideal (z^3, x, y) of Multivariate Polynomial Ring in x, y, z over Rational Field,\n",
       " Ideal (z^3, x, y) of Multivariate Polynomial Ring in x, y, z over Rational Field,\n",
       " Ideal (z^3, x, y) of Multivariate Polynomial Ring in x, y, z over Rational Field,\n",
       " Ideal (z^3, x, y) of Multivariate Polynomial Ring in x, y, z over Rational Field,\n",
       " Ideal (z^3, x, y) of Multivariate Polynomial Ring in x, y, z over Rational Field,\n",
       " Ideal (z^3, x, y) of Multivariate Polynomial Ring in x, y, z over Rational Field,\n",
       " Ideal (z^3, x, y) of Multivariate Polynomial Ring in x, y, z over Rational Field,\n",
       " Ideal (z^3, x, y) of Multivariate Polynomial Ring in x, y, z over Rational Field,\n",
       " Ideal (z^3, x, y) of Multivariate Polynomial Ring in x, y, z over Rational Field,\n",
       " Ideal (z^3, x, y) of Multivariate Polynomial Ring in x, y, z over Rational Field]"
      ]
     },
     "execution_count": 785,
     "metadata": {},
     "output_type": "execute_result"
    }
   ],
   "source": [
    "T = ideal(x,y,z^3)\n",
    "attempt_gins(T, R, 10)"
   ]
  },
  {
   "cell_type": "code",
   "execution_count": 786,
   "id": "5c0d026e",
   "metadata": {},
   "outputs": [
    {
     "data": {
      "text/plain": [
       "[Ideal (y*z^2, y^2, x) of Multivariate Polynomial Ring in x, y, z over Rational Field,\n",
       " Ideal (y*z^2, y^2, x) of Multivariate Polynomial Ring in x, y, z over Rational Field,\n",
       " Ideal (y*z^2, y^2, x) of Multivariate Polynomial Ring in x, y, z over Rational Field,\n",
       " Ideal (y*z^2, y^2, x) of Multivariate Polynomial Ring in x, y, z over Rational Field,\n",
       " Ideal (y*z^2, y^2, x) of Multivariate Polynomial Ring in x, y, z over Rational Field,\n",
       " Ideal (y*z^2, y^2, x) of Multivariate Polynomial Ring in x, y, z over Rational Field,\n",
       " Ideal (y*z^2, y^2, x) of Multivariate Polynomial Ring in x, y, z over Rational Field,\n",
       " Ideal (y*z^2, y^2, x) of Multivariate Polynomial Ring in x, y, z over Rational Field,\n",
       " Ideal (y*z^2, y^2, x) of Multivariate Polynomial Ring in x, y, z over Rational Field,\n",
       " Ideal (y*z^2, y^2, x) of Multivariate Polynomial Ring in x, y, z over Rational Field]"
      ]
     },
     "execution_count": 786,
     "metadata": {},
     "output_type": "execute_result"
    }
   ],
   "source": [
    "N = ideal(x,y*z, z^3)\n",
    "attempt_gins(N, R, 10)"
   ]
  },
  {
   "cell_type": "code",
   "execution_count": 788,
   "id": "6f343b87",
   "metadata": {},
   "outputs": [
    {
     "data": {
      "text/plain": [
       "False"
      ]
     },
     "execution_count": 788,
     "metadata": {},
     "output_type": "execute_result"
    }
   ],
   "source": [
    "is_generic(N, R)"
   ]
  },
  {
   "cell_type": "code",
   "execution_count": 791,
   "id": "c1b01651",
   "metadata": {},
   "outputs": [],
   "source": [
    "S = N.saturation(ideal(x,y,z))"
   ]
  },
  {
   "cell_type": "code",
   "execution_count": null,
   "id": "238f0424",
   "metadata": {},
   "outputs": [],
   "source": []
  }
 ],
 "metadata": {
  "kernelspec": {
   "display_name": "SageMath 9.6",
   "language": "sage",
   "name": "sagemath-9.6"
  },
  "language_info": {
   "codemirror_mode": {
    "name": "ipython",
    "version": 3
   },
   "file_extension": ".py",
   "mimetype": "text/x-python",
   "name": "python",
   "nbconvert_exporter": "python",
   "pygments_lexer": "ipython3",
   "version": "3.10.3"
  }
 },
 "nbformat": 4,
 "nbformat_minor": 5
}
