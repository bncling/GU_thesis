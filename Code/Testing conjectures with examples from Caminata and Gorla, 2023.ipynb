{
 "cells": [
  {
   "cell_type": "code",
   "execution_count": 6,
   "id": "48be6bbe",
   "metadata": {},
   "outputs": [],
   "source": [
    "import time\n",
    "from sage.rings.polynomial.hilbert import hilbert_poincare_series\n",
    "\n",
    "# computes degree of regularity for a homogeneous ideal\n",
    "def hdegree_reg(I):\n",
    "    G = I.groebner_basis()\n",
    "    LT = Ideal([g.lt() for g in G])\n",
    "    HS = hilbert_poincare_series(LT)\n",
    "    delta = HS.numerator().degree()\n",
    "    l = HS.denominator().degree()\n",
    "    return(delta - l + 1)\n",
    "\n",
    "\n",
    "# computes F^top\n",
    "def f_top(I, R):\n",
    "    f_list = I.gens()\n",
    "    new_ring.<h> = PolynomialRing(R, order = 'degrevlex')\n",
    "    homogenized = [new_ring(poly.homogenize()) for poly in f_list]\n",
    "    final = [R(poly.subs(h=0)) for poly in homogenized] \n",
    "    return(final)\n",
    "\n",
    "\n",
    "# computes degree of regularity in the nonhomogeneous case\n",
    "def degree_reg(I, R):\n",
    "    J = ideal(f_top(I,R))\n",
    "    return hdegree_reg(J)\n",
    "\n",
    "  \n",
    "def test_rowsp(f, f_list, d, ring):\n",
    "    mons = get_mons(d, ring)\n",
    "    M = mac_matrix(f_list, d, ring)\n",
    "    done = False\n",
    "    while not done:\n",
    "        rowsp = M.row_space()\n",
    "        to_be_added = []\n",
    "        for row in M.rref().rows():\n",
    "            g = 0\n",
    "            for (coeff, mon) in zip(row, mons):\n",
    "                g += coeff * mon\n",
    "            max_test_deg = d - g.degree()\n",
    "            if (g != 0) and (max_test_deg > 0):\n",
    "                for mon in get_mons(max_test_deg, ring):\n",
    "                    test_p = mon*g\n",
    "                    test_vec = vector([test_p.monomial_coefficient(moon) for moon in mons])\n",
    "                    if test_vec not in rowsp:\n",
    "                        to_be_added.append(test_vec)\n",
    "        if to_be_added == []:\n",
    "            done = True\n",
    "        else:\n",
    "            new_rows = M.rows() + to_be_added\n",
    "            M = Matrix(new_rows)\n",
    "    f_vec = vector([ring(f).monomial_coefficient(mon) for mon in mons])\n",
    "    return f_vec in M.row_space()\n",
    "\n",
    "\n",
    "def get_mons(d, ring, leq = True):\n",
    "    if leq:\n",
    "        mons = []\n",
    "        for i in range(d+1):\n",
    "            mons += [ring({tuple(a):1}) for a in WeightedIntegerVectors(i,[1 for gen in ring.gens()])]\n",
    "    else:\n",
    "        mons = [ring({tuple(a):1}) for a in WeightedIntegerVectors(d,[1 for gen in ring.gens()])]\n",
    "    mons.sort()\n",
    "    mons.reverse()\n",
    "    return mons\n",
    "\n",
    "\n",
    "def deg_fall(f, f_list, ring):\n",
    "    test_deg = f.degree()\n",
    "    while True:\n",
    "        print(test_deg, time.strftime(\"%H:%M:%S\", time.localtime()))\n",
    "        if test_rowsp(f, f_list, test_deg, ring):\n",
    "            return test_deg\n",
    "        test_deg += 1\n",
    "        \n",
    "        \n",
    "def lfd(f_list, ring):\n",
    "    fall_degrees = []\n",
    "    I = ideal(f_list)\n",
    "    B = I.groebner_basis()\n",
    "    print(B)\n",
    "    for f in B:\n",
    "        print(f)\n",
    "        d = deg_fall(f, f_list, ring)\n",
    "        if d > f.degree():\n",
    "            fall_degrees.append(d)\n",
    "    if fall_degrees == []:\n",
    "        return 0\n",
    "    else:\n",
    "        return max(fall_degrees)\n",
    "    \n",
    "    \n",
    "# Compute the Macaulay matrix in degree d of a system f = [f1,...,fs]\n",
    "def mac_matrix(f,d,ring):\n",
    "    mons0 = monomials(list(ring.gens()), [d+1 for i in range(len(ring.gens()))])\n",
    "    mons = []\n",
    "    for mon in mons0:\n",
    "        if mon.degree() <= d:\n",
    "            mons.append(mon)\n",
    "    mons.sort()\n",
    "    mons.reverse() # for reasons I don't understand, the .sort() method respects the chosen order but reverses it\n",
    "    col_labs = []\n",
    "    for deg in range(d + 1):\n",
    "        segment = []\n",
    "        for poly in f:\n",
    "            for mon in mons:\n",
    "                label = ring(mon)*ring(poly)\n",
    "                if label.degree() == deg:\n",
    "                    segment.append(label)\n",
    "        col_labs += segment\n",
    "    return matrix([[label.monomial_coefficient(mon) for mon in mons] for label in col_labs])\n",
    "\n",
    "\n",
    "# Takes an RREF Macaulay matrix as input and returns a list of the corresponding polynomials\n",
    "def recover_polys(M, d, ring):\n",
    "    mons0 = monomials(list(ring.gens()), [d+1 for i in range(len(ring.gens()))])\n",
    "    mons = []\n",
    "    for mon in mons0:\n",
    "        if mon.degree() <= d:\n",
    "            mons.append(mon)\n",
    "    mons.sort()\n",
    "    mons.reverse()\n",
    "    B = []\n",
    "    for row in M.rows():\n",
    "        g = 0\n",
    "        for (coeff,mon) in zip(row,mons):\n",
    "            g += coeff*mon\n",
    "        if g != 0:\n",
    "            B.append(g)\n",
    "    if B == []:\n",
    "        B = [ring(0)]\n",
    "    return Sequence(B) # Sage doesn't know how to work with the output list unless it is a \"Sequence\" of polynomials\n",
    "\n",
    "\n",
    "# Now instead of using mac_matrix followed by recover_polys, we ask for the new polynomials directly:\n",
    "def mac_basis(f,d,ring):\n",
    "    mons0 = monomials(list(ring.gens()), [d+1 for i in range(len(ring.gens()))])\n",
    "    mons = []\n",
    "    for mon in mons0:\n",
    "        if mon.degree() <= d:\n",
    "            mons.append(mon)\n",
    "    mons.sort()\n",
    "    mons.reverse() # for reasons I don't understand, the .sort() method respects the chosen order but reverses it\n",
    "    col_labs = []\n",
    "    for deg in range(d + 1):\n",
    "        segment = []\n",
    "        for poly in f:\n",
    "            for mon in mons:\n",
    "                label = ring(mon)*ring(poly)\n",
    "                if label.degree() == deg:\n",
    "                    segment.append(label)\n",
    "        col_labs += segment\n",
    "    M = matrix([[label.monomial_coefficient(mon) for mon in mons] for label in col_labs]).rref()\n",
    "    B = []\n",
    "    for row in M.rows():\n",
    "        g = 0\n",
    "        for (coeff,mon) in zip(row,mons):\n",
    "            g += coeff*mon\n",
    "        if g != 0:\n",
    "            B.append(g)\n",
    "    if B == []:\n",
    "        B = [ring(0)]\n",
    "    return Sequence(B)\n",
    "\n",
    "\n",
    "# Now define a function that calculates a Gröbner basis and the solving degree (per Caminata and Gorla, 2021)\n",
    "def mac_grob(f,ring):\n",
    "    test_deg = 0\n",
    "    while True:\n",
    "        B = mac_basis(f, test_deg, ring)\n",
    "        print(test_deg, B, B.is_groebner(), ideal(B) == ideal(f))\n",
    "        if B.is_groebner() and ideal(B) == ideal(f):\n",
    "            return (test_deg,B)\n",
    "        test_deg += 1\n",
    "        \n",
    "\n",
    "# Modified version to compute the solving degree per Caminata and Gorla, 2023\n",
    "def sdeg(f, ring):\n",
    "    d = 0\n",
    "    while True:\n",
    "        d_level_base = []\n",
    "        mons = get_mons(d, ring)\n",
    "        M = mac_matrix(f, d, ring)\n",
    "        done = False\n",
    "        while not done:\n",
    "            rowsp = M.row_space()\n",
    "            to_be_added = []\n",
    "            for row in M.rref().rows():\n",
    "                g = 0\n",
    "                for (coeff, mon) in zip(row, mons):\n",
    "                    g += coeff * mon\n",
    "                max_test_deg = d - g.degree()\n",
    "                if (g != 0) and (max_test_deg > 0):\n",
    "                    for mon in get_mons(max_test_deg, ring):\n",
    "                        test_p = mon*g\n",
    "                        test_vec = vector([test_p.monomial_coefficient(moon) for moon in mons])\n",
    "                        if test_vec not in rowsp:\n",
    "                            to_be_added.append(test_vec)\n",
    "            if to_be_added == []:\n",
    "                done = True\n",
    "                for row in M.rref().rows():\n",
    "                    g = 0\n",
    "                    for (coeff, mon) in zip(row, mons):\n",
    "                        g += coeff * mon\n",
    "                    if g != 0:\n",
    "                        d_level_base.append(g)\n",
    "                if d_level_base == []:\n",
    "                    d_level_base = [ring(0)]\n",
    "                check_1 = Sequence(d_level_base).is_groebner()\n",
    "                check_2 = (ideal(d_level_base) == ideal(f))\n",
    "                print(d, Sequence(d_level_base), check_1, check_2)\n",
    "                if check_1 and check_2:\n",
    "                    return (d, Sequence(d_level_base))\n",
    "                d += 1\n",
    "            else:\n",
    "                new_rows = M.rows() + to_be_added\n",
    "                M = Matrix(new_rows)"
   ]
  },
  {
   "cell_type": "code",
   "execution_count": 32,
   "id": "e528f712",
   "metadata": {
    "scrolled": false
   },
   "outputs": [
    {
     "name": "stdout",
     "output_type": "stream",
     "text": [
      "[y^2 - 1, x + 1] \n",
      "\n",
      "10 \n",
      "\n",
      "0 [0] True False\n",
      "1 [0] True False\n",
      "2 [x*y + y, y^2 - 1] False True\n",
      "3 [x^2*y - y, x*y^2 + 1, y^3 - y, x*y + y, y^2 - 1, x + 1] True True\n",
      "(3, [x^2*y - y, x*y^2 + 1, y^3 - y, x*y + y, y^2 - 1, x + 1]) \n",
      "\n",
      "0 [0] True False\n",
      "1 [0] True False\n",
      "2 [x*y + y, y^2 - 1] False True\n",
      "3 [x^3 + 1, x^2*y - y, x*y^2 + 1, y^3 - y, x^2 - 1, x*y + y, y^2 - 1, x + 1] True True\n",
      "(3, [x^3 + 1, x^2*y - y, x*y^2 + 1, y^3 - y, x^2 - 1, x*y + y, y^2 - 1, x + 1]) \n",
      "\n",
      "[y^2 - 1, x + 1]\n",
      "y^2 - 1\n",
      "2 20:05:44\n",
      "x + 1\n",
      "1 20:05:44\n",
      "2 20:05:44\n",
      "3 20:05:44\n",
      "3 \n",
      "\n"
     ]
    }
   ],
   "source": [
    "# Example 4.1\n",
    "R.<x,y> = PolynomialRing(GF(11), order = \"degrevlex\")\n",
    "f1 = x*y + y\n",
    "f2 = y^2 - 1\n",
    "f3 = x^10 - 1\n",
    "I = Ideal(f1,f2,f3)\n",
    "print(I.groebner_basis(), '\\n')\n",
    "print(degree_reg(I,R), '\\n')\n",
    "print(mac_grob([f1,f2,f3],R), '\\n')\n",
    "print(sdeg([f1,f2,f3],R), '\\n')\n",
    "print(lfd([f1,f2,f3],R), '\\n')"
   ]
  },
  {
   "cell_type": "code",
   "execution_count": 33,
   "id": "815d31b7",
   "metadata": {},
   "outputs": [
    {
     "name": "stdout",
     "output_type": "stream",
     "text": [
      "[x^10 - h^10, x*h^2 + h^3, x*y + y*h, y^2 - h^2]\n"
     ]
    },
    {
     "data": {
      "text/plain": [
       "11"
      ]
     },
     "execution_count": 33,
     "metadata": {},
     "output_type": "execute_result"
    }
   ],
   "source": [
    "# Continuing Example 4.1, checking regularity of F^h\n",
    "S.<x,y,h> = PolynomialRing(GF(11), order = \"degrevlex\")\n",
    "h_list = [f.homogenize() for f in [f1,f2,f3]]\n",
    "print(ideal(h_list).groebner_basis())\n",
    "len(ideal(h_list)._singular_().mres(0).betti())/4"
   ]
  },
  {
   "cell_type": "code",
   "execution_count": 10,
   "id": "0d9d8d78",
   "metadata": {},
   "outputs": [
    {
     "data": {
      "text/plain": [
       "11"
      ]
     },
     "execution_count": 10,
     "metadata": {},
     "output_type": "execute_result"
    }
   ],
   "source": [
    "# Continuing Example 4.1, checking regularity of in(F^h)\n",
    "S.<x,y,h> = PolynomialRing(GF(11), order = \"degrevlex\")\n",
    "h_list = [f.homogenize() for f in [f1,f2,f3]]\n",
    "Fh = ideal(h_list)\n",
    "in_list = [f.lt() for f in Fh.groebner_basis()]\n",
    "len(ideal(in_list)._singular_().mres(0).betti())/4"
   ]
  },
  {
   "cell_type": "code",
   "execution_count": 11,
   "id": "38c80835",
   "metadata": {
    "scrolled": true
   },
   "outputs": [
    {
     "name": "stdout",
     "output_type": "stream",
     "text": [
      "[z^6 - 1, y^2 - 1, x + 1] \n",
      "\n",
      "7 \n",
      "\n",
      "0 [0] True False\n",
      "1 [0] True False\n",
      "2 [x*y + y, y^2 - 1] False False\n",
      "3 [x^2*y - y, x*y^2 + 1, y^3 - y, x*y*z + y*z, y^2*z - z, x*y + y, y^2 - 1, x + 1] True False\n",
      "4 [x^3*y + y, x^2*y^2 - 1, x*y^3 + y, y^4 - 1, x^2*y*z - y*z, x*y^2*z + z, y^3*z - y*z, x*y*z^2 + y*z^2, y^2*z^2 - z^2, x^2*y - y, x*y^2 + 1, y^3 - y, x*y*z + y*z, y^2*z - z, x^2 - 1, x*y + y, y^2 - 1, x*z + z, x + 1] True False\n",
      "5 Polynomial Sequence with 36 Polynomials in 3 Variables True False\n",
      "6 Polynomial Sequence with 61 Polynomials in 3 Variables True True\n",
      "(6, Polynomial Sequence with 61 Polynomials in 3 Variables) \n",
      "\n",
      "0 [0] True False\n",
      "1 [0] True False\n",
      "2 [x*y + y, y^2 - 1] False False\n",
      "3 [x^3 + 1, x^2*y - y, x*y^2 + 1, y^3 - y, x^2*z - z, x*y*z + y*z, y^2*z - z, x*z^2 + z^2, x^2 - 1, x*y + y, y^2 - 1, x*z + z, x + 1] True False\n",
      "4 Polynomial Sequence with 26 Polynomials in 3 Variables True False\n",
      "5 Polynomial Sequence with 45 Polynomials in 3 Variables True False\n",
      "6 Polynomial Sequence with 72 Polynomials in 3 Variables True True\n",
      "(6, Polynomial Sequence with 72 Polynomials in 3 Variables) \n",
      "\n",
      "[z^6 - 1, y^2 - 1, x + 1]\n",
      "z^6 - 1\n",
      "6 14:40:21\n",
      "y^2 - 1\n",
      "2 14:40:22\n",
      "x + 1\n",
      "1 14:40:22\n",
      "2 14:40:22\n",
      "3 14:40:22\n",
      "3 \n",
      "\n"
     ]
    }
   ],
   "source": [
    "# Example 4.2\n",
    "R.<x,y,z> = PolynomialRing(GF(7), order = \"degrevlex\")\n",
    "f1 = x*y + y\n",
    "f2 = y^2 - 1\n",
    "f3 = z^6 - 1\n",
    "I = Ideal(f1,f2,f3)\n",
    "print(I.groebner_basis(), '\\n')\n",
    "print(degree_reg(I,R), '\\n')\n",
    "print(mac_grob([f1,f2,f3],R), '\\n')\n",
    "print(sdeg([f1,f2,f3],R), '\\n')\n",
    "print(lfd([f1,f2,f3],R), '\\n')"
   ]
  },
  {
   "cell_type": "code",
   "execution_count": 12,
   "id": "f569f46c",
   "metadata": {},
   "outputs": [
    {
     "data": {
      "text/plain": [
       "8"
      ]
     },
     "execution_count": 12,
     "metadata": {},
     "output_type": "execute_result"
    }
   ],
   "source": [
    "# Continuing Example 4.2, checking regularity of F^h\n",
    "S.<x,y,z,h> = PolynomialRing(GF(7), order = \"degrevlex\")\n",
    "h_list = [f.homogenize() for f in [f1,f2,f3]]\n",
    "len(ideal(h_list)._singular_().mres(0).betti())/4"
   ]
  },
  {
   "cell_type": "code",
   "execution_count": 13,
   "id": "51d6f0e4",
   "metadata": {},
   "outputs": [
    {
     "data": {
      "text/plain": [
       "8"
      ]
     },
     "execution_count": 13,
     "metadata": {},
     "output_type": "execute_result"
    }
   ],
   "source": [
    "# Continuing Example 4.2, checking regularity of in(F^h)\n",
    "S.<x,y,h> = PolynomialRing(GF(7), order = \"degrevlex\")\n",
    "h_list = [f.homogenize() for f in [f1,f2,f3]]\n",
    "Fh = ideal(h_list)\n",
    "in_list = [f.lt() for f in Fh.groebner_basis()]\n",
    "len(ideal(in_list)._singular_().mres(0).betti())/4"
   ]
  },
  {
   "cell_type": "code",
   "execution_count": 14,
   "id": "a33d73e5",
   "metadata": {},
   "outputs": [
    {
     "name": "stdout",
     "output_type": "stream",
     "text": [
      "[x^2 - 1, y^2 - 1] \n",
      "\n",
      "3 \n",
      "\n",
      "0 [0] True False\n",
      "1 [0] True False\n",
      "2 [x^2 - 1, y^2 - 1] True True\n",
      "(2, [x^2 - 1, y^2 - 1]) \n",
      "\n",
      "0 [0] True False\n",
      "1 [0] True False\n",
      "2 [x^2 - 1, y^2 - 1] True True\n",
      "(2, [x^2 - 1, y^2 - 1]) \n",
      "\n",
      "[x^2 - 1, y^2 - 1]\n",
      "x^2 - 1\n",
      "2 14:42:36\n",
      "y^2 - 1\n",
      "2 14:42:36\n",
      "0 \n",
      "\n"
     ]
    }
   ],
   "source": [
    "# Example 4.3\n",
    "R.<x,y> = PolynomialRing(GF(13), order = \"degrevlex\")\n",
    "f1 = x^2 - 1\n",
    "f2 = y^2 - 1\n",
    "I = Ideal(f1,f2)\n",
    "print(I.groebner_basis(), '\\n')\n",
    "print(degree_reg(I,R), '\\n')\n",
    "print(mac_grob([f1,f2],R), '\\n')\n",
    "print(sdeg([f1,f2],R), '\\n')\n",
    "print(lfd([f1,f2],R), '\\n')"
   ]
  },
  {
   "cell_type": "code",
   "execution_count": 15,
   "id": "bfcada43",
   "metadata": {},
   "outputs": [
    {
     "data": {
      "text/plain": [
       "3"
      ]
     },
     "execution_count": 15,
     "metadata": {},
     "output_type": "execute_result"
    }
   ],
   "source": [
    "# Continuing Example 4.3, checking regularity of F^h\n",
    "S.<x,y,h> = PolynomialRing(GF(13), order = \"degrevlex\")\n",
    "h_list = [f.homogenize() for f in [f1,f2]]\n",
    "len(ideal(h_list)._singular_().mres(0).betti())/3"
   ]
  },
  {
   "cell_type": "code",
   "execution_count": 16,
   "id": "44615b84",
   "metadata": {},
   "outputs": [
    {
     "data": {
      "text/plain": [
       "3"
      ]
     },
     "execution_count": 16,
     "metadata": {},
     "output_type": "execute_result"
    }
   ],
   "source": [
    "# Continuing Example 4.3, checking regularity of in(F^h)\n",
    "S.<x,y,h> = PolynomialRing(GF(13), order = \"degrevlex\")\n",
    "h_list = [f.homogenize() for f in [f1,f2]]\n",
    "Fh = ideal(h_list)\n",
    "in_list = [f.lt() for f in Fh.groebner_basis()]\n",
    "len(ideal(in_list)._singular_().mres(0).betti())/3"
   ]
  },
  {
   "cell_type": "code",
   "execution_count": 45,
   "id": "357b966f",
   "metadata": {
    "scrolled": true
   },
   "outputs": [
    {
     "name": "stdout",
     "output_type": "stream",
     "text": [
      "[w^4 - 1, z^4 - 1, y^2 - 1, x - y] \n",
      "\n",
      "9 \n",
      "\n",
      "0 [0] True False\n",
      "1 [0] True False\n",
      "2 [x^2 - 1, x*y - 1] False False\n",
      "3 [w*x^2 - w, x^3 - y, w*x*y - w, x^2*y - y, x*y^2 - y, x^2*z - z, x*y*z - z, x^2 - 1, x*y - 1, x - y] False False\n",
      "4 Polynomial Sequence with 29 Polynomials in 4 Variables True False\n",
      "5 Polynomial Sequence with 66 Polynomials in 4 Variables True False\n",
      "6 Polynomial Sequence with 130 Polynomials in 4 Variables True False\n",
      "7 Polynomial Sequence with 230 Polynomials in 4 Variables True False\n",
      "8 Polynomial Sequence with 376 Polynomials in 4 Variables False True\n",
      "9 Polynomial Sequence with 580 Polynomials in 4 Variables False True\n",
      "10 Polynomial Sequence with 853 Polynomials in 4 Variables False True\n",
      "11 Polynomial Sequence with 1206 Polynomials in 4 Variables False True\n",
      "12 Polynomial Sequence with 1652 Polynomials in 4 Variables False True\n",
      "13 Polynomial Sequence with 2204 Polynomials in 4 Variables False True\n",
      "14 Polynomial Sequence with 2876 Polynomials in 4 Variables False True\n",
      "15 Polynomial Sequence with 3684 Polynomials in 4 Variables False True\n",
      "16 Polynomial Sequence with 4645 Polynomials in 4 Variables True True\n",
      "(16, Polynomial Sequence with 4645 Polynomials in 4 Variables) \n",
      "\n",
      "0 [0] True False\n",
      "1 [0] True False\n",
      "2 [x^2 - 1, x*y - 1] False False\n",
      "3 [w^2*x - w^2*y, w*x^2 - w, x^3 - y, w*x*y - w, x^2*y - y, w*y^2 - w, x*y^2 - y, y^3 - y, w*x*z - w*y*z, x^2*z - z, x*y*z - z, y^2*z - z, x*z^2 - y*z^2, w*x - w*y, x^2 - 1, x*y - 1, y^2 - 1, x*z - y*z, x - y] True False\n",
      "4 Polynomial Sequence with 45 Polynomials in 4 Variables True False\n",
      "5 Polynomial Sequence with 91 Polynomials in 4 Variables True False\n",
      "6 Polynomial Sequence with 165 Polynomials in 4 Variables True False\n",
      "7 Polynomial Sequence with 275 Polynomials in 4 Variables True False\n",
      "8 Polynomial Sequence with 431 Polynomials in 4 Variables False True\n",
      "9 Polynomial Sequence with 683 Polynomials in 4 Variables True True\n",
      "(9, Polynomial Sequence with 683 Polynomials in 4 Variables) \n",
      "\n",
      "[w^4 - 1, z^4 - 1, y^2 - 1, x - y]\n",
      "w^4 - 1\n",
      "4 23:36:30\n",
      "5 23:36:30\n",
      "6 23:36:31\n",
      "7 23:36:34\n",
      "8 23:36:45\n",
      "9 23:37:22\n",
      "z^4 - 1\n",
      "4 23:41:41\n",
      "5 23:41:41\n",
      "6 23:41:42\n",
      "7 23:41:45\n",
      "8 23:41:57\n",
      "9 23:42:37\n",
      "y^2 - 1\n",
      "2 23:47:01\n",
      "3 23:47:01\n",
      "x - y\n",
      "1 23:47:01\n",
      "2 23:47:01\n",
      "3 23:47:01\n",
      "9 \n",
      "\n"
     ]
    }
   ],
   "source": [
    "# Example 4.4\n",
    "R.<w,x,y,z> = PolynomialRing(GF(5), order = \"degrevlex\")\n",
    "f1 = x^2 - 1\n",
    "f2 = x*y - 1\n",
    "f3 = w^5 - w\n",
    "f4 = w^4*z^4 - 1\n",
    "I = Ideal(f1,f2,f3,f4)\n",
    "print(I.groebner_basis(), '\\n')\n",
    "print(degree_reg(I,R), '\\n')\n",
    "print(mac_grob([f1,f2,f3,f4],R), '\\n')\n",
    "print(sdeg([f1,f2,f3,f4],R), '\\n')\n",
    "print(lfd([f1,f2,f3,f4],R), '\\n')"
   ]
  },
  {
   "cell_type": "code",
   "execution_count": 46,
   "id": "8d2158ee",
   "metadata": {},
   "outputs": [
    {
     "data": {
      "text/plain": [
       "13"
      ]
     },
     "execution_count": 46,
     "metadata": {},
     "output_type": "execute_result"
    }
   ],
   "source": [
    "# Continuing Example 4.4, checking regularity of F^h\n",
    "S.<w,x,y,z,h> = PolynomialRing(GF(5), order = \"degrevlex\")\n",
    "h_list = [f.homogenize() for f in [f1,f2,f3,f4]]\n",
    "len(ideal(h_list)._singular_().mres(0).betti())/5"
   ]
  },
  {
   "cell_type": "code",
   "execution_count": 47,
   "id": "2ccbbb87",
   "metadata": {},
   "outputs": [
    {
     "data": {
      "text/plain": [
       "17"
      ]
     },
     "execution_count": 47,
     "metadata": {},
     "output_type": "execute_result"
    }
   ],
   "source": [
    "# Continuing Example 4.4, checking regularity of in(F^h)\n",
    "S.<w,x,y,z,h> = PolynomialRing(GF(5), order = \"degrevlex\")\n",
    "h_list = [f.homogenize() for f in [f1,f2,f3,f4]]\n",
    "Fh = ideal(h_list)\n",
    "in_list = [f.lt() for f in Fh.groebner_basis()]\n",
    "len(ideal(in_list)._singular_().mres(0).betti())/6"
   ]
  },
  {
   "cell_type": "code",
   "execution_count": 39,
   "id": "32a42dd9",
   "metadata": {},
   "outputs": [],
   "source": [
    "# Example 2.4\n",
    "R.<w,x,y,z> = PolynomialRing(QQ, order = \"degrevlex\")\n",
    "f1 = x^2 - x\n",
    "f2 = x*y - 1\n",
    "f3 = w^6 - w\n",
    "f4 = w^5*z^5 - 1\n",
    "I = Ideal(f1,f2,f3,f4)\n",
    "#print(I.groebner_basis(), '\\n') # max.Grob.deg = 5\n",
    "#print(degree_reg(I,R), '\\n') # d_reg = 11\n",
    "#print(mac_grob([f1,f2,f3,f4],R), '\\n') # solve.deg > 19, this is as far as I've gotten before the kernel dies\n",
    "#print(sdeg([f1,f2,f3,f4],R), '\\n') # sd = 11, computation took several hours on a previous attempt, won't repeat here\n",
    "#print(lfd([f1,f2,f3,f4],R), '\\n') # d_F = 11, computation took several hours on a previous attempt, won't repeat here"
   ]
  },
  {
   "cell_type": "code",
   "execution_count": 40,
   "id": "59dfc489",
   "metadata": {},
   "outputs": [
    {
     "name": "stdout",
     "output_type": "stream",
     "text": [
      "[z^5*h^15 - h^20, w^5*h^10 - h^15, w*z^5*h^5 - w*h^10, w^5*z^5 - h^10, w^6 - w*h^5, y*h^3 - h^4, x*h^2 - h^3, x^2 - x*h, x*y - h^2]\n"
     ]
    },
    {
     "data": {
      "text/plain": [
       "15"
      ]
     },
     "execution_count": 40,
     "metadata": {},
     "output_type": "execute_result"
    }
   ],
   "source": [
    "# Continuing Example 2.4, checking regularity of F^h\n",
    "S.<w,x,y,z,h> = PolynomialRing(QQ, order = \"degrevlex\")\n",
    "h_list = [f.homogenize() for f in [f1,f2,f3,f4]]\n",
    "print(ideal(h_list).groebner_basis())\n",
    "len(ideal(h_list)._singular_().mres(0).betti())/5"
   ]
  },
  {
   "cell_type": "code",
   "execution_count": 41,
   "id": "b0238430",
   "metadata": {},
   "outputs": [
    {
     "data": {
      "text/plain": [
       "20"
      ]
     },
     "execution_count": 41,
     "metadata": {},
     "output_type": "execute_result"
    }
   ],
   "source": [
    "# Continuing Example 2.4, checking regularity of in(F^h)\n",
    "S.<w,x,y,z,h> = PolynomialRing(QQ, order = \"degrevlex\")\n",
    "h_list = [f.homogenize() for f in [f1,f2,f3,f4]]\n",
    "Fh = ideal(h_list)\n",
    "in_list = [f.lt() for f in Fh.groebner_basis()]\n",
    "len(ideal(in_list)._singular_().mres(0).betti())/6 # reg(in(F^h)) = 20"
   ]
  },
  {
   "cell_type": "code",
   "execution_count": 55,
   "id": "ef8cb6e2",
   "metadata": {},
   "outputs": [
    {
     "name": "stdout",
     "output_type": "stream",
     "text": [
      "Ideal (y - h, x + h) of Multivariate Polynomial Ring in x, y, h over Finite Field of size 11     False\n",
      "Ideal (y + h, x + h) of Multivariate Polynomial Ring in x, y, h over Finite Field of size 11     False\n"
     ]
    }
   ],
   "source": [
    "# Example 4.1 -- genericity check\n",
    "S.<x,y,h> = PolynomialRing(GF(11), order = \"degrevlex\")\n",
    "f1 = x*y + y\n",
    "f2 = y^2 - 1\n",
    "f3 = x^10 - 1\n",
    "Fh = ideal([f.homogenize() for f in [f1,f2,f3]])\n",
    "for prime in Fh.saturation(ideal(x,y,h))[0].associated_primes():\n",
    "    print(prime, '   ', h in prime)"
   ]
  },
  {
   "cell_type": "code",
   "execution_count": 57,
   "id": "22f5bdc6",
   "metadata": {},
   "outputs": [
    {
     "name": "stdout",
     "output_type": "stream",
     "text": [
      "Ideal (z + 2*h, y - h, x + h) of Multivariate Polynomial Ring in x, y, z, h over Finite Field of size 7     False\n",
      "Ideal (z + h, y - h, x + h) of Multivariate Polynomial Ring in x, y, z, h over Finite Field of size 7     False\n",
      "Ideal (z + 3*h, y - h, x + h) of Multivariate Polynomial Ring in x, y, z, h over Finite Field of size 7     False\n",
      "Ideal (z - 2*h, y - h, x + h) of Multivariate Polynomial Ring in x, y, z, h over Finite Field of size 7     False\n",
      "Ideal (z - h, y - h, x + h) of Multivariate Polynomial Ring in x, y, z, h over Finite Field of size 7     False\n",
      "Ideal (z - 3*h, y - h, x + h) of Multivariate Polynomial Ring in x, y, z, h over Finite Field of size 7     False\n",
      "Ideal (z + 2*h, y + h, x + h) of Multivariate Polynomial Ring in x, y, z, h over Finite Field of size 7     False\n",
      "Ideal (z + h, y + h, x + h) of Multivariate Polynomial Ring in x, y, z, h over Finite Field of size 7     False\n",
      "Ideal (z + 3*h, y + h, x + h) of Multivariate Polynomial Ring in x, y, z, h over Finite Field of size 7     False\n",
      "Ideal (z - 2*h, y + h, x + h) of Multivariate Polynomial Ring in x, y, z, h over Finite Field of size 7     False\n",
      "Ideal (z - h, y + h, x + h) of Multivariate Polynomial Ring in x, y, z, h over Finite Field of size 7     False\n",
      "Ideal (z - 3*h, y + h, x + h) of Multivariate Polynomial Ring in x, y, z, h over Finite Field of size 7     False\n",
      "Ideal (h, z, y) of Multivariate Polynomial Ring in x, y, z, h over Finite Field of size 7     True\n"
     ]
    }
   ],
   "source": [
    "# Example 4.2 -- genericity check\n",
    "R.<x,y,z,h> = PolynomialRing(GF(7), order = \"degrevlex\")\n",
    "f1 = x*y + y\n",
    "f2 = y^2 - 1\n",
    "f3 = z^6 - 1\n",
    "Fh = ideal([f.homogenize() for f in [f1,f2,f3]])\n",
    "for prime in Fh.saturation(ideal(x,y,z,h))[0].associated_primes():\n",
    "    print(prime, '   ', h in prime)"
   ]
  },
  {
   "cell_type": "code",
   "execution_count": 61,
   "id": "17904cc2",
   "metadata": {},
   "outputs": [
    {
     "name": "stdout",
     "output_type": "stream",
     "text": [
      "Ideal (y - h, x - h) of Multivariate Polynomial Ring in x, y, h over Finite Field of size 13     False\n",
      "Ideal (y + h, x - h) of Multivariate Polynomial Ring in x, y, h over Finite Field of size 13     False\n",
      "Ideal (y - h, x + h) of Multivariate Polynomial Ring in x, y, h over Finite Field of size 13     False\n",
      "Ideal (y + h, x + h) of Multivariate Polynomial Ring in x, y, h over Finite Field of size 13     False\n"
     ]
    }
   ],
   "source": [
    "# Example 4.3 -- genericity check\n",
    "R.<x,y,h> = PolynomialRing(GF(13), order = \"degrevlex\")\n",
    "f1 = x^2 - 1\n",
    "f2 = y^2 - 1\n",
    "Fh = ideal([f.homogenize() for f in [f1,f2]])\n",
    "for prime in Fh.saturation(ideal(x,y,h))[0].associated_primes():\n",
    "    print(prime, '   ', h in prime)"
   ]
  },
  {
   "cell_type": "code",
   "execution_count": 62,
   "id": "d033cddd",
   "metadata": {},
   "outputs": [
    {
     "name": "stdout",
     "output_type": "stream",
     "text": [
      "Ideal (z - 2*h, y - h, x - h, w - 2*h) of Multivariate Polynomial Ring in w, x, y, z, h over Finite Field of size 5     False\n",
      "Ideal (z - 2*h, y + h, x + h, w - 2*h) of Multivariate Polynomial Ring in w, x, y, z, h over Finite Field of size 5     False\n",
      "Ideal (z + h, y - h, x - h, w - 2*h) of Multivariate Polynomial Ring in w, x, y, z, h over Finite Field of size 5     False\n",
      "Ideal (z + h, y + h, x + h, w - 2*h) of Multivariate Polynomial Ring in w, x, y, z, h over Finite Field of size 5     False\n",
      "Ideal (z - h, y - h, x - h, w - 2*h) of Multivariate Polynomial Ring in w, x, y, z, h over Finite Field of size 5     False\n",
      "Ideal (z - h, y + h, x + h, w - 2*h) of Multivariate Polynomial Ring in w, x, y, z, h over Finite Field of size 5     False\n",
      "Ideal (z + 2*h, y - h, x - h, w - 2*h) of Multivariate Polynomial Ring in w, x, y, z, h over Finite Field of size 5     False\n",
      "Ideal (z + 2*h, y + h, x + h, w - 2*h) of Multivariate Polynomial Ring in w, x, y, z, h over Finite Field of size 5     False\n",
      "Ideal (z - 2*h, y - h, x - h, w + h) of Multivariate Polynomial Ring in w, x, y, z, h over Finite Field of size 5     False\n",
      "Ideal (z - 2*h, y + h, x + h, w + h) of Multivariate Polynomial Ring in w, x, y, z, h over Finite Field of size 5     False\n",
      "Ideal (z + h, y - h, x - h, w + h) of Multivariate Polynomial Ring in w, x, y, z, h over Finite Field of size 5     False\n",
      "Ideal (z + h, y + h, x + h, w + h) of Multivariate Polynomial Ring in w, x, y, z, h over Finite Field of size 5     False\n",
      "Ideal (z - h, y - h, x - h, w + h) of Multivariate Polynomial Ring in w, x, y, z, h over Finite Field of size 5     False\n",
      "Ideal (z - h, y + h, x + h, w + h) of Multivariate Polynomial Ring in w, x, y, z, h over Finite Field of size 5     False\n",
      "Ideal (z + 2*h, y - h, x - h, w + h) of Multivariate Polynomial Ring in w, x, y, z, h over Finite Field of size 5     False\n",
      "Ideal (z + 2*h, y + h, x + h, w + h) of Multivariate Polynomial Ring in w, x, y, z, h over Finite Field of size 5     False\n",
      "Ideal (z - 2*h, y - h, x - h, w - h) of Multivariate Polynomial Ring in w, x, y, z, h over Finite Field of size 5     False\n",
      "Ideal (z - 2*h, y + h, x + h, w - h) of Multivariate Polynomial Ring in w, x, y, z, h over Finite Field of size 5     False\n",
      "Ideal (z + h, y - h, x - h, w - h) of Multivariate Polynomial Ring in w, x, y, z, h over Finite Field of size 5     False\n",
      "Ideal (z + h, y + h, x + h, w - h) of Multivariate Polynomial Ring in w, x, y, z, h over Finite Field of size 5     False\n",
      "Ideal (z - h, y - h, x - h, w - h) of Multivariate Polynomial Ring in w, x, y, z, h over Finite Field of size 5     False\n",
      "Ideal (z - h, y + h, x + h, w - h) of Multivariate Polynomial Ring in w, x, y, z, h over Finite Field of size 5     False\n",
      "Ideal (z + 2*h, y - h, x - h, w - h) of Multivariate Polynomial Ring in w, x, y, z, h over Finite Field of size 5     False\n",
      "Ideal (z + 2*h, y + h, x + h, w - h) of Multivariate Polynomial Ring in w, x, y, z, h over Finite Field of size 5     False\n",
      "Ideal (z - 2*h, y - h, x - h, w + 2*h) of Multivariate Polynomial Ring in w, x, y, z, h over Finite Field of size 5     False\n",
      "Ideal (z - 2*h, y + h, x + h, w + 2*h) of Multivariate Polynomial Ring in w, x, y, z, h over Finite Field of size 5     False\n",
      "Ideal (z + h, y - h, x - h, w + 2*h) of Multivariate Polynomial Ring in w, x, y, z, h over Finite Field of size 5     False\n",
      "Ideal (z + h, y + h, x + h, w + 2*h) of Multivariate Polynomial Ring in w, x, y, z, h over Finite Field of size 5     False\n",
      "Ideal (z - h, y - h, x - h, w + 2*h) of Multivariate Polynomial Ring in w, x, y, z, h over Finite Field of size 5     False\n",
      "Ideal (z - h, y + h, x + h, w + 2*h) of Multivariate Polynomial Ring in w, x, y, z, h over Finite Field of size 5     False\n",
      "Ideal (z + 2*h, y - h, x - h, w + 2*h) of Multivariate Polynomial Ring in w, x, y, z, h over Finite Field of size 5     False\n",
      "Ideal (z + 2*h, y + h, x + h, w + 2*h) of Multivariate Polynomial Ring in w, x, y, z, h over Finite Field of size 5     False\n",
      "Ideal (h, x, w) of Multivariate Polynomial Ring in w, x, y, z, h over Finite Field of size 5     True\n",
      "Ideal (h, z, x, w) of Multivariate Polynomial Ring in w, x, y, z, h over Finite Field of size 5     True\n",
      "Ideal (h, y, x, w) of Multivariate Polynomial Ring in w, x, y, z, h over Finite Field of size 5     True\n"
     ]
    }
   ],
   "source": [
    "# Example 4.4 -- genericity check\n",
    "R.<w,x,y,z,h> = PolynomialRing(GF(5), order = \"degrevlex\")\n",
    "f1 = x^2 - 1\n",
    "f2 = x*y - 1\n",
    "f3 = w^5 - w\n",
    "f4 = w^4*z^4 - 1\n",
    "Fh = ideal([f.homogenize() for f in [f1,f2,f3,f4]])\n",
    "for prime in Fh.saturation(ideal(w,x,y,z,h))[0].associated_primes():\n",
    "    print(prime, '   ', h in prime)"
   ]
  },
  {
   "cell_type": "code",
   "execution_count": 63,
   "id": "479d0d53",
   "metadata": {},
   "outputs": [
    {
     "name": "stdout",
     "output_type": "stream",
     "text": [
      "Ideal (y - h, x - h, w*z + z^2 + w*h + z*h + h^2, w^2 - z*h, z^3 - w*h^2) of Multivariate Polynomial Ring in w, x, y, z, h over Rational Field     False\n",
      "Ideal (y - h, x - h, z^2 - w*h, w^2 + w*z + w*h + z*h + h^2) of Multivariate Polynomial Ring in w, x, y, z, h over Rational Field     False\n",
      "Ideal (y - h, x - h, w*z - h^2, w^2 + z^2 + w*h + z*h + h^2, z^3 + z^2*h + w*h^2 + z*h^2 + h^3) of Multivariate Polynomial Ring in w, x, y, z, h over Rational Field     False\n",
      "Ideal (y - h, x - h, w - z, z^4 + z^3*h + z^2*h^2 + z*h^3 + h^4) of Multivariate Polynomial Ring in w, x, y, z, h over Rational Field     False\n",
      "Ideal (z - h, y - h, x - h, w^4 + w^3*h + w^2*h^2 + w*h^3 + h^4) of Multivariate Polynomial Ring in w, x, y, z, h over Rational Field     False\n",
      "Ideal (y - h, x - h, w - h, z^4 + z^3*h + z^2*h^2 + z*h^3 + h^4) of Multivariate Polynomial Ring in w, x, y, z, h over Rational Field     False\n",
      "Ideal (z - h, y - h, x - h, w - h) of Multivariate Polynomial Ring in w, x, y, z, h over Rational Field     False\n",
      "Ideal (h, x, w) of Multivariate Polynomial Ring in w, x, y, z, h over Rational Field     True\n",
      "Ideal (h, z, x, w) of Multivariate Polynomial Ring in w, x, y, z, h over Rational Field     True\n",
      "Ideal (h, y, x, w) of Multivariate Polynomial Ring in w, x, y, z, h over Rational Field     True\n"
     ]
    }
   ],
   "source": [
    "# Example 2.4 -- genericity check\n",
    "R.<w,x,y,z,h> = PolynomialRing(QQ, order = \"degrevlex\")\n",
    "f1 = x^2 - x\n",
    "f2 = x*y - 1\n",
    "f3 = w^6 - w\n",
    "f4 = w^5*z^5 - 1\n",
    "Fh = ideal([f.homogenize() for f in [f1,f2,f3,f4]])\n",
    "for prime in Fh.saturation(ideal(w,x,y,z,h))[0].associated_primes():\n",
    "    print(prime, '   ', h in prime)"
   ]
  },
  {
   "cell_type": "code",
   "execution_count": 65,
   "id": "70ea3d4d",
   "metadata": {},
   "outputs": [
    {
     "name": "stdout",
     "output_type": "stream",
     "text": [
      "Ideal (z + h, y - 3*h, x - 2*h) of Multivariate Polynomial Ring in x, y, z, h over Finite Field of size 7     False\n",
      "Ideal (z - h, y - 3*h, x + 3*h) of Multivariate Polynomial Ring in x, y, z, h over Finite Field of size 7     False\n",
      "Ideal (z + 3*h, y + h, x) of Multivariate Polynomial Ring in x, y, z, h over Finite Field of size 7     False\n",
      "Ideal (z - h, y + h, x - h) of Multivariate Polynomial Ring in x, y, z, h over Finite Field of size 7     False\n",
      "Ideal (z - h, y - 2*h, x + 2*h) of Multivariate Polynomial Ring in x, y, z, h over Finite Field of size 7     False\n",
      "Ideal (z + h, y - 2*h, x - 3*h) of Multivariate Polynomial Ring in x, y, z, h over Finite Field of size 7     False\n",
      "Ideal (z - h, y + 3*h, x - 3*h) of Multivariate Polynomial Ring in x, y, z, h over Finite Field of size 7     False\n",
      "Ideal (z - h, y - h, x + h) of Multivariate Polynomial Ring in x, y, z, h over Finite Field of size 7     False\n",
      "Ideal (z - 3*h, y + 2*h, x) of Multivariate Polynomial Ring in x, y, z, h over Finite Field of size 7     False\n",
      "Ideal (z - h, y + 2*h, x - 2*h) of Multivariate Polynomial Ring in x, y, z, h over Finite Field of size 7     False\n"
     ]
    }
   ],
   "source": [
    "# Example from Minko's Thesis -- genericity check\n",
    "R.<x,y,z,h> = PolynomialRing(GF(7), order = 'degrevlex')\n",
    "f1 = x^5 + y^5 + z^5 - 1\n",
    "f2 = x^3 + y^3 + z^2 - 1\n",
    "f3 = y^6 - 1\n",
    "f4 = z^6 - 1\n",
    "f_list = [f1*f1*f1, f1*f1*f2, f1*f1*f3, f1*f1*f4, f1*f2*f2, f1*f2*f3, f1*f2*f4, f1*f3*f3, f1*f3*f4, f1*f4*f4, f2*f2*f2, f2*f2*f3, f2*f2*f4, f2*f3*f3, f2*f3*f4, f2*f4*f4, f3*f3*f3, f3*f3*f4, f3*f4*f4, f4*f4*f4, x^7 - x, y^7 - y, z^7 - z]\n",
    "Fh = ideal([f.homogenize() for f in f_list])\n",
    "for prime in Fh.saturation(ideal(x,y,z,h))[0].associated_primes():\n",
    "    print(prime, '   ', h in prime)"
   ]
  },
  {
   "cell_type": "code",
   "execution_count": null,
   "id": "82e5f368",
   "metadata": {},
   "outputs": [],
   "source": []
  }
 ],
 "metadata": {
  "kernelspec": {
   "display_name": "SageMath 9.6",
   "language": "sage",
   "name": "sagemath-9.6"
  },
  "language_info": {
   "codemirror_mode": {
    "name": "ipython",
    "version": 3
   },
   "file_extension": ".py",
   "mimetype": "text/x-python",
   "name": "python",
   "nbconvert_exporter": "python",
   "pygments_lexer": "ipython3",
   "version": "3.10.3"
  }
 },
 "nbformat": 4,
 "nbformat_minor": 5
}
