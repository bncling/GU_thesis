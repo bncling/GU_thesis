{
 "cells": [
  {
   "cell_type": "code",
   "execution_count": 342,
   "metadata": {},
   "outputs": [],
   "source": [
    "import time\n",
    "R.<x,y,z> = PolynomialRing(QQ, order = 'lex')"
   ]
  },
  {
   "cell_type": "code",
   "execution_count": 2,
   "metadata": {},
   "outputs": [],
   "source": [
    "# Syzygy polynomial computation as in Cox, Little, and O'Shea\n",
    "\n",
    "def S_poly(f,g):\n",
    "    alpha = f.lt()\n",
    "    beta = g.lt()\n",
    "    gamma = lcm(alpha,beta)\n",
    "    return R((gamma / alpha)*f - (gamma / beta)*g) # fails to have lt() without R(.)"
   ]
  },
  {
   "cell_type": "code",
   "execution_count": 3,
   "metadata": {},
   "outputs": [],
   "source": [
    "# Multivariate division algorithm\n",
    "\n",
    "def mdiv(f,divisors):\n",
    "    s = len(divisors)\n",
    "    q = [0 for i in range(s)]\n",
    "    r = 0\n",
    "    p = f\n",
    "    while p != 0:\n",
    "        i = 0\n",
    "        div_occ = False\n",
    "        while (i < s) and (div_occ == False):\n",
    "            ltdi = divisors[i].lt()\n",
    "            ltp = p.lt()\n",
    "            if ltdi.divides(ltp):\n",
    "                update = ltp / ltdi\n",
    "                q[i] += update\n",
    "                p -= R(update*divisors[i]) # without R(.), p is in fraction field, where lt() command fails\n",
    "                div_occ = True\n",
    "            else:\n",
    "                i += 1\n",
    "        if div_occ == False:\n",
    "            r = r + p.lt()\n",
    "            p = p - p.lt()\n",
    "    return (q,r)\n",
    "\n",
    "\n",
    "# Compute the remainder of a multivariate polynomial \"f\" after division by a list of polynomials \"divisors\"\n",
    "\n",
    "def get_rem(f,divisors):\n",
    "    return mdiv(f,divisors)[1]"
   ]
  },
  {
   "cell_type": "code",
   "execution_count": 640,
   "metadata": {},
   "outputs": [
    {
     "name": "stdout",
     "output_type": "stream",
     "text": [
      "z^4 - 3*z^2*h^2 + 2*h^4\n"
     ]
    },
    {
     "ename": "TypeError",
     "evalue": "polynomial must involve at most one variable",
     "output_type": "error",
     "traceback": [
      "\u001b[0;31m---------------------------------------------------------------------------\u001b[0m",
      "\u001b[0;31mTypeError\u001b[0m                                 Traceback (most recent call last)",
      "\u001b[0;32m/var/folders/zf/986s30f52c3fssnjtqpb80w00000gn/T/ipykernel_5944/2312788127.py\u001b[0m in \u001b[0;36m<module>\u001b[0;34m\u001b[0m\n\u001b[1;32m     56\u001b[0m \u001b[0mh_list\u001b[0m \u001b[0;34m=\u001b[0m \u001b[0;34m[\u001b[0m\u001b[0mR\u001b[0m\u001b[0;34m(\u001b[0m\u001b[0mp\u001b[0m\u001b[0;34m.\u001b[0m\u001b[0mhomogenize\u001b[0m\u001b[0;34m(\u001b[0m\u001b[0;34m)\u001b[0m\u001b[0;34m)\u001b[0m \u001b[0;32mfor\u001b[0m \u001b[0mp\u001b[0m \u001b[0;32min\u001b[0m \u001b[0mf_list\u001b[0m\u001b[0;34m]\u001b[0m\u001b[0;34m\u001b[0m\u001b[0;34m\u001b[0m\u001b[0m\n\u001b[1;32m     57\u001b[0m \u001b[0;34m\u001b[0m\u001b[0m\n\u001b[0;32m---> 58\u001b[0;31m \u001b[0msystem_solve\u001b[0m\u001b[0;34m(\u001b[0m\u001b[0mh_list\u001b[0m\u001b[0;34m)\u001b[0m\u001b[0;34m\u001b[0m\u001b[0;34m\u001b[0m\u001b[0m\n\u001b[0m",
      "\u001b[0;32m/var/folders/zf/986s30f52c3fssnjtqpb80w00000gn/T/ipykernel_5944/2312788127.py\u001b[0m in \u001b[0;36msystem_solve\u001b[0;34m(f)\u001b[0m\n\u001b[1;32m     40\u001b[0m                 \u001b[0mp\u001b[0m \u001b[0;34m=\u001b[0m \u001b[0mgcd\u001b[0m\u001b[0;34m(\u001b[0m\u001b[0mspecializations\u001b[0m\u001b[0;34m)\u001b[0m\u001b[0;34m\u001b[0m\u001b[0;34m\u001b[0m\u001b[0m\n\u001b[1;32m     41\u001b[0m                 \u001b[0mprint\u001b[0m\u001b[0;34m(\u001b[0m\u001b[0mp\u001b[0m\u001b[0;34m)\u001b[0m\u001b[0;34m\u001b[0m\u001b[0;34m\u001b[0m\u001b[0m\n\u001b[0;32m---> 42\u001b[0;31m                 \u001b[0mroots\u001b[0m \u001b[0;34m=\u001b[0m \u001b[0mp\u001b[0m\u001b[0;34m.\u001b[0m\u001b[0munivariate_polynomial\u001b[0m\u001b[0;34m(\u001b[0m\u001b[0;34m)\u001b[0m\u001b[0;34m.\u001b[0m\u001b[0mroots\u001b[0m\u001b[0;34m(\u001b[0m\u001b[0;34m)\u001b[0m\u001b[0;34m\u001b[0m\u001b[0;34m\u001b[0m\u001b[0m\n\u001b[0m\u001b[1;32m     43\u001b[0m                 \u001b[0;32mfor\u001b[0m \u001b[0mroot\u001b[0m \u001b[0;32min\u001b[0m \u001b[0mroots\u001b[0m\u001b[0;34m:\u001b[0m\u001b[0;34m\u001b[0m\u001b[0;34m\u001b[0m\u001b[0m\n\u001b[1;32m     44\u001b[0m                     \u001b[0mnew_sol\u001b[0m \u001b[0;34m=\u001b[0m \u001b[0;34m[\u001b[0m\u001b[0mroot\u001b[0m\u001b[0;34m[\u001b[0m\u001b[0mInteger\u001b[0m\u001b[0;34m(\u001b[0m\u001b[0;36m0\u001b[0m\u001b[0;34m)\u001b[0m\u001b[0;34m]\u001b[0m\u001b[0;34m]\u001b[0m \u001b[0;34m+\u001b[0m \u001b[0mpartial\u001b[0m\u001b[0;34m\u001b[0m\u001b[0;34m\u001b[0m\u001b[0m\n",
      "\u001b[0;32m/private/var/tmp/sage-9.6-current/local/var/lib/sage/venv-python3.10.3/lib/python3.10/site-packages/sage/rings/polynomial/multi_polynomial_libsingular.pyx\u001b[0m in \u001b[0;36msage.rings.polynomial.multi_polynomial_libsingular.MPolynomial_libsingular.univariate_polynomial (build/cythonized/sage/rings/polynomial/multi_polynomial_libsingular.cpp:30172)\u001b[0;34m()\u001b[0m\n\u001b[1;32m   3776\u001b[0m \u001b[0;34m\u001b[0m\u001b[0m\n\u001b[1;32m   3777\u001b[0m         \u001b[0;32mif\u001b[0m \u001b[0;32mnot\u001b[0m \u001b[0mself\u001b[0m\u001b[0;34m.\u001b[0m\u001b[0mis_univariate\u001b[0m\u001b[0;34m(\u001b[0m\u001b[0;34m)\u001b[0m\u001b[0;34m:\u001b[0m\u001b[0;34m\u001b[0m\u001b[0;34m\u001b[0m\u001b[0m\n\u001b[0;32m-> 3778\u001b[0;31m             \u001b[0;32mraise\u001b[0m \u001b[0mTypeError\u001b[0m\u001b[0;34m(\u001b[0m\u001b[0;34m\"polynomial must involve at most one variable\"\u001b[0m\u001b[0;34m)\u001b[0m\u001b[0;34m\u001b[0m\u001b[0;34m\u001b[0m\u001b[0m\n\u001b[0m\u001b[1;32m   3779\u001b[0m \u001b[0;34m\u001b[0m\u001b[0m\n\u001b[1;32m   3780\u001b[0m         \u001b[0;31m#construct ring if none\u001b[0m\u001b[0;34m\u001b[0m\u001b[0;34m\u001b[0m\u001b[0m\n",
      "\u001b[0;31mTypeError\u001b[0m: polynomial must involve at most one variable"
     ]
    }
   ],
   "source": [
    "# find l where l is the row in the Gröbner basis at the beginning of Theorem 5\n",
    "\n",
    "def get_l_level(f):\n",
    "    degs = dict(zip([i+1 for i in range(len(R.gens()))], f.degrees()))\n",
    "    l = 0\n",
    "    for (key,val) in degs.items():\n",
    "        if val != 0:\n",
    "            l = key\n",
    "            break\n",
    "    return l  \n",
    "\n",
    "# Implementing Corollary 1 in Caminata and Gorla\n",
    "\n",
    "def system_solve(f): # takes a list f = [f_1, ..., f_s] of multivariate polynomials as input\n",
    "    ring_vars = dict(zip([i+1 for i in range(len(R.gens()))], R.gens()))\n",
    "    I = Ideal(f)\n",
    "    G = I.groebner_basis()\n",
    "    partial_sols = [[]]\n",
    "    completed_ls = []\n",
    "    for g in G[::-1]:\n",
    "        l = get_l_level(g)\n",
    "        if l not in completed_ls:\n",
    "            completed_ls.append(l)\n",
    "            working_polys = []\n",
    "            for h in G:\n",
    "                if get_l_level(h) == l:\n",
    "                    working_polys.append(h)\n",
    "            new_partials = []\n",
    "            for partial in partial_sols:\n",
    "                specializations = []\n",
    "                for poly in working_polys:\n",
    "                    degs = dict(zip([i+1 for i in range(len(R.gens()))], poly.degrees()))\n",
    "                    l = 0\n",
    "                    for (key,val) in degs.items():\n",
    "                        if val != 0:\n",
    "                            l = key\n",
    "                            break\n",
    "                    substitutions = dict(zip(R.gens()[l:], partial))\n",
    "                    specializations.append(poly.subs(substitutions))\n",
    "                p = gcd(specializations)\n",
    "                print(p)\n",
    "                roots = p.univariate_polynomial().roots()\n",
    "                for root in roots:\n",
    "                    new_sol = [root[0]] + partial\n",
    "                    new_partials.append(new_sol)\n",
    "            partial_sols = new_partials\n",
    "    return([tuple(sol) for sol in partial_sols])\n",
    "\n",
    "# Example from Minko's Thesis\n",
    "R.<x,y,z,h> = PolynomialRing(GF(7), order = 'lex')\n",
    "f1 = x^5 + y^5 + z^5 - 1\n",
    "f2 = x^3 + y^3 + z^2 - 1\n",
    "f3 = y^6 - 1\n",
    "f4 = z^6 - 1\n",
    "f_list = [f1*f1*f1, f1*f1*f2, f1*f1*f3, f1*f1*f4, f1*f2*f2, f1*f2*f3, f1*f2*f4, f1*f3*f3, f1*f3*f4, f1*f4*f4, f2*f2*f2, f2*f2*f3, f2*f2*f4, f2*f3*f3, f2*f3*f4, f2*f4*f4, f3*f3*f3, f3*f3*f4, f3*f4*f4, f4*f4*f4, x^7 - x, y^7 - y, z^7 - z]\n",
    "h_list = [R(p.homogenize()) for p in f_list]\n",
    "\n",
    "system_solve(h_list)"
   ]
  },
  {
   "cell_type": "code",
   "execution_count": 5,
   "metadata": {},
   "outputs": [
    {
     "data": {
      "text/plain": [
       "[x^2 + x*y - 1, x*z + z^2, y^3 - y + z + 1, y*z + z^6 - 3*z^4 + z^3 + 3*z^2, z^7 - 3*z^5 + z^4 + 4*z^3 - z]"
      ]
     },
     "execution_count": 5,
     "metadata": {},
     "output_type": "execute_result"
    }
   ],
   "source": [
    "f1 = x^2 + x*y - 1\n",
    "f2 = x*z + z^2\n",
    "f3 = y^3 - y + z + 1 # these three polynomials define a system satisfying the hypotheses of Theorem 5\n",
    "I = Ideal(f1,f2,f3)\n",
    "G = I.groebner_basis()\n",
    "G"
   ]
  },
  {
   "cell_type": "code",
   "execution_count": 6,
   "metadata": {},
   "outputs": [
    {
     "data": {
      "text/plain": [
       "[(1, 0, -1)]"
      ]
     },
     "execution_count": 6,
     "metadata": {},
     "output_type": "execute_result"
    }
   ],
   "source": [
    "system_solve([f1,f2,f3])"
   ]
  },
  {
   "cell_type": "code",
   "execution_count": 7,
   "metadata": {},
   "outputs": [],
   "source": [
    "R.<x1,x2,x3,x4,x5> = PolynomialRing(QQ, order = 'lex')\n",
    "f1 = x1*x3^10 + x2^2*x4\n",
    "f2 = x1^2 + x2 * x3^3 - 1\n",
    "f3 = x1 + x4^2*x5^3 + 1\n",
    "f4 = x2 - x3^2 + 2*x4^2 + 1\n",
    "f5 = x3^2 + x5\n",
    "f6 = x2*x3*x5"
   ]
  },
  {
   "cell_type": "code",
   "execution_count": 8,
   "metadata": {},
   "outputs": [
    {
     "data": {
      "text/plain": [
       "[(-1, -1, 0, 0, 0)]"
      ]
     },
     "execution_count": 8,
     "metadata": {},
     "output_type": "execute_result"
    }
   ],
   "source": [
    "system_solve([f1,f2,f3,f4,f5,f6])"
   ]
  },
  {
   "cell_type": "code",
   "execution_count": 58,
   "metadata": {},
   "outputs": [
    {
     "data": {
      "text/plain": [
       "[]"
      ]
     },
     "execution_count": 58,
     "metadata": {},
     "output_type": "execute_result"
    }
   ],
   "source": [
    "R.<x,y,z> = PolynomialRing(QQ, order = 'degrevlex')\n",
    "f1 = x^2 + x*y + z*y\n",
    "f2 = x^3 + y^3 + z^3\n",
    "I = Ideal(f1,f2)\n",
    "system_solve([f1,f3])"
   ]
  },
  {
   "cell_type": "code",
   "execution_count": 59,
   "metadata": {},
   "outputs": [
    {
     "data": {
      "text/plain": [
       "(t + 1)/(t^2 - 2*t + 1)"
      ]
     },
     "execution_count": 59,
     "metadata": {},
     "output_type": "execute_result"
    }
   ],
   "source": [
    "S.<t> = PolynomialRing(QQ)\n",
    "from sage.rings.polynomial.hilbert import hilbert_poincare_series\n",
    "hilbert_poincare_series(I)"
   ]
  },
  {
   "cell_type": "code",
   "execution_count": 60,
   "metadata": {},
   "outputs": [
    {
     "data": {
      "text/plain": [
       "(-t^3 - 2*t^2 - 2*t - 1)/(t - 1)"
      ]
     },
     "execution_count": 60,
     "metadata": {},
     "output_type": "execute_result"
    }
   ],
   "source": [
    "((1 - t^2)*(1-t^3))/(1 - t)^3"
   ]
  },
  {
   "cell_type": "code",
   "execution_count": 53,
   "metadata": {},
   "outputs": [
    {
     "data": {
      "text/plain": [
       "Ideal (x^2 + x*y + y*z) of Multivariate Polynomial Ring in x, y, z over Rational Field"
      ]
     },
     "execution_count": 53,
     "metadata": {},
     "output_type": "execute_result"
    }
   ],
   "source": [
    "Ideal(f1).quotient(ideal(f2))"
   ]
  },
  {
   "cell_type": "code",
   "execution_count": 51,
   "metadata": {},
   "outputs": [
    {
     "data": {
      "text/plain": [
       "1"
      ]
     },
     "execution_count": 51,
     "metadata": {},
     "output_type": "execute_result"
    }
   ],
   "source": [
    "I.dimension()"
   ]
  },
  {
   "cell_type": "code",
   "execution_count": 238,
   "metadata": {},
   "outputs": [
    {
     "data": {
      "text/plain": [
       "t^7 + 3*t^6 + 5*t^5 + 6*t^4 + 6*t^3 + 5*t^2 + 3*t + 1"
      ]
     },
     "execution_count": 238,
     "metadata": {},
     "output_type": "execute_result"
    }
   ],
   "source": [
    "R.<x,y,z> = PolynomialRing(QQ, order = 'degrevlex')\n",
    "f1 = x^5 + x*y\n",
    "f2 = y^3\n",
    "f3 = z^2\n",
    "I = Ideal(f1,f2,f3)\n",
    "hilbert_poincare_series(I)"
   ]
  },
  {
   "cell_type": "code",
   "execution_count": 216,
   "metadata": {},
   "outputs": [
    {
     "data": {
      "text/plain": [
       "Ideal (y^3, x^5) of Multivariate Polynomial Ring in x, y, z over Rational Field"
      ]
     },
     "execution_count": 216,
     "metadata": {},
     "output_type": "execute_result"
    }
   ],
   "source": [
    "ideal(f1,f2).quotient(ideal(f3))"
   ]
  },
  {
   "cell_type": "code",
   "execution_count": 214,
   "metadata": {},
   "outputs": [
    {
     "data": {
      "text/plain": [
       "t^7 + 3*t^6 + 5*t^5 + 6*t^4 + 6*t^3 + 5*t^2 + 3*t + 1"
      ]
     },
     "execution_count": 214,
     "metadata": {},
     "output_type": "execute_result"
    }
   ],
   "source": [
    "((1-t^5)*(1-t^3)*(1-t^2))/(1-t)^3"
   ]
  },
  {
   "cell_type": "code",
   "execution_count": 107,
   "metadata": {},
   "outputs": [
    {
     "data": {
      "text/plain": [
       "Ideal (x^2) of Multivariate Polynomial Ring in x, y, z over Rational Field"
      ]
     },
     "execution_count": 107,
     "metadata": {},
     "output_type": "execute_result"
    }
   ],
   "source": [
    "I1 = ideal(f1)\n",
    "I1.quotient(ideal(f2))"
   ]
  },
  {
   "cell_type": "code",
   "execution_count": 109,
   "metadata": {},
   "outputs": [
    {
     "data": {
      "text/plain": [
       "Ideal (y^2 + z^2, x^2) of Multivariate Polynomial Ring in x, y, z over Rational Field"
      ]
     },
     "execution_count": 109,
     "metadata": {},
     "output_type": "execute_result"
    }
   ],
   "source": [
    "I2 = ideal(f1,f2)\n",
    "I2.quotient(ideal(f3))"
   ]
  },
  {
   "cell_type": "code",
   "execution_count": 225,
   "metadata": {},
   "outputs": [
    {
     "data": {
      "text/plain": [
       "[w^5 - 1, z^5 - 1, x - 1, y - 1]"
      ]
     },
     "execution_count": 225,
     "metadata": {},
     "output_type": "execute_result"
    }
   ],
   "source": [
    "R.<w,x,y,z> = PolynomialRing(GF(13), order = 'degrevlex')\n",
    "f1 = x^2 - x\n",
    "f2 = x*y - 1\n",
    "f3 = w^6 - w\n",
    "f4 = w^5*z^5 - 1\n",
    "I = Ideal(f1,f2,f3,f4)\n",
    "I.groebner_basis()"
   ]
  },
  {
   "cell_type": "code",
   "execution_count": 228,
   "metadata": {},
   "outputs": [
    {
     "data": {
      "text/plain": [
       "11"
      ]
     },
     "execution_count": 228,
     "metadata": {},
     "output_type": "execute_result"
    }
   ],
   "source": [
    "degree_reg(I,R)"
   ]
  },
  {
   "cell_type": "code",
   "execution_count": 237,
   "metadata": {},
   "outputs": [
    {
     "data": {
      "text/plain": [
       "15"
      ]
     },
     "execution_count": 237,
     "metadata": {},
     "output_type": "execute_result"
    }
   ],
   "source": [
    "len(I.homogenize()._singular_().mres(0).betti())/5"
   ]
  },
  {
   "cell_type": "code",
   "execution_count": 227,
   "metadata": {},
   "outputs": [],
   "source": [
    "# computes degree of regularity for a homogeneous ideal\n",
    "def hdegree_reg(I):\n",
    "    G = I.groebner_basis()\n",
    "    LT = Ideal([g.lt() for g in G])\n",
    "    HS = hilbert_poincare_series(LT)\n",
    "    delta = HS.numerator().degree()\n",
    "    l = HS.denominator().degree()\n",
    "    return(delta - l + 1)\n",
    "\n",
    "\n",
    "# computes F^top\n",
    "def f_top(I, R):\n",
    "    f_list = I.gens()\n",
    "    new_ring.<h> = PolynomialRing(R, order = 'degrevlex')\n",
    "    homogenized = [new_ring(poly.homogenize()) for poly in f_list]\n",
    "    final = [R(poly.subs(h=0)) for poly in homogenized] \n",
    "    return(final)\n",
    "\n",
    "\n",
    "# computes degree of regularity in the nonhomogeneous case\n",
    "def degree_reg(I, R):\n",
    "    J = ideal(f_top(I,R))\n",
    "    return hdegree_reg(J)"
   ]
  },
  {
   "cell_type": "code",
   "execution_count": 235,
   "metadata": {},
   "outputs": [
    {
     "name": "stdout",
     "output_type": "stream",
     "text": [
      "0 [0] True False\n",
      "1 [0] True False\n",
      "2 [x^2 - x, x*y - 1] False False\n",
      "3 [w*x^2 - w*x, x^3 - 1, w*x*y - w, x^2*y - 1, x*y^2 - y, x^2*z - x*z, x*y*z - z, x^2 - 1, x*y - 1, x - 1] False False\n",
      "4 Polynomial Sequence with 29 Polynomials in 4 Variables True False\n",
      "5 Polynomial Sequence with 65 Polynomials in 4 Variables True False\n",
      "6 Polynomial Sequence with 126 Polynomials in 4 Variables True False\n",
      "7 Polynomial Sequence with 222 Polynomials in 4 Variables True False\n",
      "8 Polynomial Sequence with 363 Polynomials in 4 Variables True False\n",
      "9 Polynomial Sequence with 559 Polynomials in 4 Variables True False\n",
      "10 Polynomial Sequence with 822 Polynomials in 4 Variables False True\n",
      "11 Polynomial Sequence with 1166 Polynomials in 4 Variables False True\n",
      "12 Polynomial Sequence with 1603 Polynomials in 4 Variables False True\n",
      "13 Polynomial Sequence with 2146 Polynomials in 4 Variables False True\n",
      "14 Polynomial Sequence with 2810 Polynomials in 4 Variables False True\n",
      "15 Polynomial Sequence with 3611 Polynomials in 4 Variables False True\n",
      "16 Polynomial Sequence with 4565 Polynomials in 4 Variables False True\n",
      "17 Polynomial Sequence with 5690 Polynomials in 4 Variables False True\n"
     ]
    },
    {
     "ename": "KeyboardInterrupt",
     "evalue": "",
     "output_type": "error",
     "traceback": [
      "\u001b[0;31m---------------------------------------------------------------------------\u001b[0m",
      "\u001b[0;31mKeyError\u001b[0m                                  Traceback (most recent call last)",
      "\u001b[0;32m/private/var/tmp/sage-9.6-current/local/var/lib/sage/venv-python3.10.3/lib/python3.10/site-packages/sage/misc/cachefunc.pyx\u001b[0m in \u001b[0;36msage.misc.cachefunc.CachedMethodCaller.__call__ (build/cythonized/sage/misc/cachefunc.c:10414)\u001b[0;34m()\u001b[0m\n\u001b[1;32m   1942\u001b[0m             \u001b[0;32mtry\u001b[0m\u001b[0;34m:\u001b[0m\u001b[0;34m\u001b[0m\u001b[0;34m\u001b[0m\u001b[0m\n\u001b[0;32m-> 1943\u001b[0;31m                 \u001b[0;32mreturn\u001b[0m \u001b[0mcache\u001b[0m\u001b[0;34m[\u001b[0m\u001b[0mk\u001b[0m\u001b[0;34m]\u001b[0m\u001b[0;34m\u001b[0m\u001b[0;34m\u001b[0m\u001b[0m\n\u001b[0m\u001b[1;32m   1944\u001b[0m             \u001b[0;32mexcept\u001b[0m \u001b[0mTypeError\u001b[0m\u001b[0;34m:\u001b[0m  \u001b[0;31m# k is not hashable\u001b[0m\u001b[0;34m\u001b[0m\u001b[0;34m\u001b[0m\u001b[0m\n",
      "\u001b[0;31mKeyError\u001b[0m: ((Singular,), ())",
      "\nDuring handling of the above exception, another exception occurred:\n",
      "\u001b[0;31mKeyError\u001b[0m                                  Traceback (most recent call last)",
      "\u001b[0;32m/private/var/tmp/sage-9.6-current/local/var/lib/sage/venv-python3.10.3/lib/python3.10/site-packages/sage/misc/cachefunc.pyx\u001b[0m in \u001b[0;36msage.misc.cachefunc.CachedMethodCaller.__call__ (build/cythonized/sage/misc/cachefunc.c:10414)\u001b[0;34m()\u001b[0m\n\u001b[1;32m   1942\u001b[0m             \u001b[0;32mtry\u001b[0m\u001b[0;34m:\u001b[0m\u001b[0;34m\u001b[0m\u001b[0;34m\u001b[0m\u001b[0m\n\u001b[0;32m-> 1943\u001b[0;31m                 \u001b[0;32mreturn\u001b[0m \u001b[0mcache\u001b[0m\u001b[0;34m[\u001b[0m\u001b[0mk\u001b[0m\u001b[0;34m]\u001b[0m\u001b[0;34m\u001b[0m\u001b[0;34m\u001b[0m\u001b[0m\n\u001b[0m\u001b[1;32m   1944\u001b[0m             \u001b[0;32mexcept\u001b[0m \u001b[0mTypeError\u001b[0m\u001b[0;34m:\u001b[0m  \u001b[0;31m# k is not hashable\u001b[0m\u001b[0;34m\u001b[0m\u001b[0;34m\u001b[0m\u001b[0m\n",
      "\u001b[0;31mKeyError\u001b[0m: ((Singular,), ())",
      "\nDuring handling of the above exception, another exception occurred:\n",
      "\u001b[0;31mKeyboardInterrupt\u001b[0m                         Traceback (most recent call last)",
      "\u001b[0;32m/var/folders/zf/986s30f52c3fssnjtqpb80w00000gn/T/ipykernel_5944/3234332187.py\u001b[0m in \u001b[0;36m<module>\u001b[0;34m\u001b[0m\n\u001b[0;32m----> 1\u001b[0;31m \u001b[0mmac_grob\u001b[0m\u001b[0;34m(\u001b[0m\u001b[0;34m[\u001b[0m\u001b[0mf1\u001b[0m\u001b[0;34m,\u001b[0m\u001b[0mf2\u001b[0m\u001b[0;34m,\u001b[0m\u001b[0mf3\u001b[0m\u001b[0;34m,\u001b[0m\u001b[0mf4\u001b[0m\u001b[0;34m]\u001b[0m\u001b[0;34m,\u001b[0m\u001b[0mR\u001b[0m\u001b[0;34m)\u001b[0m\u001b[0;34m\u001b[0m\u001b[0;34m\u001b[0m\u001b[0m\n\u001b[0m",
      "\u001b[0;32m/var/folders/zf/986s30f52c3fssnjtqpb80w00000gn/T/ipykernel_5944/2100472761.py\u001b[0m in \u001b[0;36mmac_grob\u001b[0;34m(f, ring)\u001b[0m\n\u001b[1;32m     78\u001b[0m     \u001b[0;32mwhile\u001b[0m \u001b[0;32mTrue\u001b[0m\u001b[0;34m:\u001b[0m\u001b[0;34m\u001b[0m\u001b[0;34m\u001b[0m\u001b[0m\n\u001b[1;32m     79\u001b[0m         \u001b[0mB\u001b[0m \u001b[0;34m=\u001b[0m \u001b[0mmac_basis\u001b[0m\u001b[0;34m(\u001b[0m\u001b[0mf\u001b[0m\u001b[0;34m,\u001b[0m \u001b[0mtest_deg\u001b[0m\u001b[0;34m,\u001b[0m \u001b[0mring\u001b[0m\u001b[0;34m)\u001b[0m\u001b[0;34m\u001b[0m\u001b[0;34m\u001b[0m\u001b[0m\n\u001b[0;32m---> 80\u001b[0;31m         \u001b[0mprint\u001b[0m\u001b[0;34m(\u001b[0m\u001b[0mtest_deg\u001b[0m\u001b[0;34m,\u001b[0m \u001b[0mB\u001b[0m\u001b[0;34m,\u001b[0m \u001b[0mB\u001b[0m\u001b[0;34m.\u001b[0m\u001b[0mis_groebner\u001b[0m\u001b[0;34m(\u001b[0m\u001b[0;34m)\u001b[0m\u001b[0;34m,\u001b[0m \u001b[0mideal\u001b[0m\u001b[0;34m(\u001b[0m\u001b[0mB\u001b[0m\u001b[0;34m)\u001b[0m \u001b[0;34m==\u001b[0m \u001b[0mideal\u001b[0m\u001b[0;34m(\u001b[0m\u001b[0mf\u001b[0m\u001b[0;34m)\u001b[0m\u001b[0;34m)\u001b[0m\u001b[0;34m\u001b[0m\u001b[0;34m\u001b[0m\u001b[0m\n\u001b[0m\u001b[1;32m     81\u001b[0m         \u001b[0;32mif\u001b[0m \u001b[0mB\u001b[0m\u001b[0;34m.\u001b[0m\u001b[0mis_groebner\u001b[0m\u001b[0;34m(\u001b[0m\u001b[0;34m)\u001b[0m \u001b[0;32mand\u001b[0m \u001b[0mideal\u001b[0m\u001b[0;34m(\u001b[0m\u001b[0mB\u001b[0m\u001b[0;34m)\u001b[0m \u001b[0;34m==\u001b[0m \u001b[0mideal\u001b[0m\u001b[0;34m(\u001b[0m\u001b[0mf\u001b[0m\u001b[0;34m)\u001b[0m\u001b[0;34m:\u001b[0m\u001b[0;34m\u001b[0m\u001b[0;34m\u001b[0m\u001b[0m\n\u001b[1;32m     82\u001b[0m             \u001b[0;32mreturn\u001b[0m \u001b[0;34m(\u001b[0m\u001b[0mtest_deg\u001b[0m\u001b[0;34m,\u001b[0m\u001b[0mB\u001b[0m\u001b[0;34m)\u001b[0m\u001b[0;34m\u001b[0m\u001b[0;34m\u001b[0m\u001b[0m\n",
      "\u001b[0;32m/private/var/tmp/sage-9.6-current/local/var/lib/sage/venv-python3.10.3/lib/python3.10/site-packages/sage/misc/cachefunc.pyx\u001b[0m in \u001b[0;36msage.misc.cachefunc.CachedMethodCaller.__call__ (build/cythonized/sage/misc/cachefunc.c:10550)\u001b[0;34m()\u001b[0m\n\u001b[1;32m   1946\u001b[0m                 \u001b[0;32mreturn\u001b[0m \u001b[0mcache\u001b[0m\u001b[0;34m[\u001b[0m\u001b[0mk\u001b[0m\u001b[0;34m]\u001b[0m\u001b[0;34m\u001b[0m\u001b[0;34m\u001b[0m\u001b[0m\n\u001b[1;32m   1947\u001b[0m         \u001b[0;32mexcept\u001b[0m \u001b[0mKeyError\u001b[0m\u001b[0;34m:\u001b[0m\u001b[0;34m\u001b[0m\u001b[0;34m\u001b[0m\u001b[0m\n\u001b[0;32m-> 1948\u001b[0;31m             \u001b[0mw\u001b[0m \u001b[0;34m=\u001b[0m \u001b[0mself\u001b[0m\u001b[0;34m.\u001b[0m\u001b[0m_instance_call\u001b[0m\u001b[0;34m(\u001b[0m\u001b[0;34m*\u001b[0m\u001b[0margs\u001b[0m\u001b[0;34m,\u001b[0m \u001b[0;34m**\u001b[0m\u001b[0mkwds\u001b[0m\u001b[0;34m)\u001b[0m\u001b[0;34m\u001b[0m\u001b[0;34m\u001b[0m\u001b[0m\n\u001b[0m\u001b[1;32m   1949\u001b[0m             \u001b[0mcache\u001b[0m\u001b[0;34m[\u001b[0m\u001b[0mk\u001b[0m\u001b[0;34m]\u001b[0m \u001b[0;34m=\u001b[0m \u001b[0mw\u001b[0m\u001b[0;34m\u001b[0m\u001b[0;34m\u001b[0m\u001b[0m\n\u001b[1;32m   1950\u001b[0m             \u001b[0;32mreturn\u001b[0m \u001b[0mw\u001b[0m\u001b[0;34m\u001b[0m\u001b[0;34m\u001b[0m\u001b[0m\n",
      "\u001b[0;32m/private/var/tmp/sage-9.6-current/local/var/lib/sage/venv-python3.10.3/lib/python3.10/site-packages/sage/misc/cachefunc.pyx\u001b[0m in \u001b[0;36msage.misc.cachefunc.CachedMethodCaller._instance_call (build/cythonized/sage/misc/cachefunc.c:10016)\u001b[0;34m()\u001b[0m\n\u001b[1;32m   1822\u001b[0m             \u001b[0;32mTrue\u001b[0m\u001b[0;34m\u001b[0m\u001b[0;34m\u001b[0m\u001b[0m\n\u001b[1;32m   1823\u001b[0m         \"\"\"\n\u001b[0;32m-> 1824\u001b[0;31m         \u001b[0;32mreturn\u001b[0m \u001b[0mself\u001b[0m\u001b[0;34m.\u001b[0m\u001b[0mf\u001b[0m\u001b[0;34m(\u001b[0m\u001b[0mself\u001b[0m\u001b[0;34m.\u001b[0m\u001b[0m_instance\u001b[0m\u001b[0;34m,\u001b[0m \u001b[0;34m*\u001b[0m\u001b[0margs\u001b[0m\u001b[0;34m,\u001b[0m \u001b[0;34m**\u001b[0m\u001b[0mkwds\u001b[0m\u001b[0;34m)\u001b[0m\u001b[0;34m\u001b[0m\u001b[0;34m\u001b[0m\u001b[0m\n\u001b[0m\u001b[1;32m   1825\u001b[0m \u001b[0;34m\u001b[0m\u001b[0m\n\u001b[1;32m   1826\u001b[0m     \u001b[0mcdef\u001b[0m \u001b[0mfix_args_kwds\u001b[0m\u001b[0;34m(\u001b[0m\u001b[0mself\u001b[0m\u001b[0;34m,\u001b[0m \u001b[0mtuple\u001b[0m \u001b[0margs\u001b[0m\u001b[0;34m,\u001b[0m \u001b[0mdict\u001b[0m \u001b[0mkwds\u001b[0m\u001b[0;34m)\u001b[0m\u001b[0;34m:\u001b[0m\u001b[0;34m\u001b[0m\u001b[0;34m\u001b[0m\u001b[0m\n",
      "\u001b[0;32m/private/var/tmp/sage-9.6-current/local/var/lib/sage/venv-python3.10.3/lib/python3.10/site-packages/sage/interfaces/singular.py\u001b[0m in \u001b[0;36mwrapper\u001b[0;34m(*args, **kwds)\u001b[0m\n\u001b[1;32m   2758\u001b[0m     \u001b[0;32mdef\u001b[0m \u001b[0mwrapper\u001b[0m\u001b[0;34m(\u001b[0m\u001b[0;34m*\u001b[0m\u001b[0margs\u001b[0m\u001b[0;34m,\u001b[0m \u001b[0;34m**\u001b[0m\u001b[0mkwds\u001b[0m\u001b[0;34m)\u001b[0m\u001b[0;34m:\u001b[0m\u001b[0;34m\u001b[0m\u001b[0;34m\u001b[0m\u001b[0m\n\u001b[1;32m   2759\u001b[0m         \u001b[0;32mwith\u001b[0m \u001b[0mSingularGBDefaultContext\u001b[0m\u001b[0;34m(\u001b[0m\u001b[0;34m)\u001b[0m\u001b[0;34m:\u001b[0m\u001b[0;34m\u001b[0m\u001b[0;34m\u001b[0m\u001b[0m\n\u001b[0;32m-> 2760\u001b[0;31m             \u001b[0;32mreturn\u001b[0m \u001b[0mfunc\u001b[0m\u001b[0;34m(\u001b[0m\u001b[0;34m*\u001b[0m\u001b[0margs\u001b[0m\u001b[0;34m,\u001b[0m \u001b[0;34m**\u001b[0m\u001b[0mkwds\u001b[0m\u001b[0;34m)\u001b[0m\u001b[0;34m\u001b[0m\u001b[0;34m\u001b[0m\u001b[0m\n\u001b[0m\u001b[1;32m   2761\u001b[0m     \u001b[0;32mreturn\u001b[0m \u001b[0mwrapper\u001b[0m\u001b[0;34m\u001b[0m\u001b[0;34m\u001b[0m\u001b[0m\n",
      "\u001b[0;32m/private/var/tmp/sage-9.6-current/local/var/lib/sage/venv-python3.10.3/lib/python3.10/site-packages/sage/rings/polynomial/multi_polynomial_sequence.py\u001b[0m in \u001b[0;36mis_groebner\u001b[0;34m(self, singular)\u001b[0m\n\u001b[1;32m   1135\u001b[0m \u001b[0;34m\u001b[0m\u001b[0m\n\u001b[1;32m   1136\u001b[0m         \"\"\"\n\u001b[0;32m-> 1137\u001b[0;31m         \u001b[0;32mreturn\u001b[0m \u001b[0mself\u001b[0m\u001b[0;34m.\u001b[0m\u001b[0mideal\u001b[0m\u001b[0;34m(\u001b[0m\u001b[0;34m)\u001b[0m\u001b[0;34m.\u001b[0m\u001b[0mbasis_is_groebner\u001b[0m\u001b[0;34m(\u001b[0m\u001b[0;34m)\u001b[0m\u001b[0;34m\u001b[0m\u001b[0;34m\u001b[0m\u001b[0m\n\u001b[0m\u001b[1;32m   1138\u001b[0m \u001b[0;34m\u001b[0m\u001b[0m\n\u001b[1;32m   1139\u001b[0m \u001b[0;32mclass\u001b[0m \u001b[0mPolynomialSequence_gf2\u001b[0m\u001b[0;34m(\u001b[0m\u001b[0mPolynomialSequence_generic\u001b[0m\u001b[0;34m)\u001b[0m\u001b[0;34m:\u001b[0m\u001b[0;34m\u001b[0m\u001b[0;34m\u001b[0m\u001b[0m\n",
      "\u001b[0;32m/private/var/tmp/sage-9.6-current/local/var/lib/sage/venv-python3.10.3/lib/python3.10/site-packages/sage/misc/cachefunc.pyx\u001b[0m in \u001b[0;36msage.misc.cachefunc.CachedMethodCaller.__call__ (build/cythonized/sage/misc/cachefunc.c:10550)\u001b[0;34m()\u001b[0m\n\u001b[1;32m   1946\u001b[0m                 \u001b[0;32mreturn\u001b[0m \u001b[0mcache\u001b[0m\u001b[0;34m[\u001b[0m\u001b[0mk\u001b[0m\u001b[0;34m]\u001b[0m\u001b[0;34m\u001b[0m\u001b[0;34m\u001b[0m\u001b[0m\n\u001b[1;32m   1947\u001b[0m         \u001b[0;32mexcept\u001b[0m \u001b[0mKeyError\u001b[0m\u001b[0;34m:\u001b[0m\u001b[0;34m\u001b[0m\u001b[0;34m\u001b[0m\u001b[0m\n\u001b[0;32m-> 1948\u001b[0;31m             \u001b[0mw\u001b[0m \u001b[0;34m=\u001b[0m \u001b[0mself\u001b[0m\u001b[0;34m.\u001b[0m\u001b[0m_instance_call\u001b[0m\u001b[0;34m(\u001b[0m\u001b[0;34m*\u001b[0m\u001b[0margs\u001b[0m\u001b[0;34m,\u001b[0m \u001b[0;34m**\u001b[0m\u001b[0mkwds\u001b[0m\u001b[0;34m)\u001b[0m\u001b[0;34m\u001b[0m\u001b[0;34m\u001b[0m\u001b[0m\n\u001b[0m\u001b[1;32m   1949\u001b[0m             \u001b[0mcache\u001b[0m\u001b[0;34m[\u001b[0m\u001b[0mk\u001b[0m\u001b[0;34m]\u001b[0m \u001b[0;34m=\u001b[0m \u001b[0mw\u001b[0m\u001b[0;34m\u001b[0m\u001b[0;34m\u001b[0m\u001b[0m\n\u001b[1;32m   1950\u001b[0m             \u001b[0;32mreturn\u001b[0m \u001b[0mw\u001b[0m\u001b[0;34m\u001b[0m\u001b[0;34m\u001b[0m\u001b[0m\n",
      "\u001b[0;32m/private/var/tmp/sage-9.6-current/local/var/lib/sage/venv-python3.10.3/lib/python3.10/site-packages/sage/misc/cachefunc.pyx\u001b[0m in \u001b[0;36msage.misc.cachefunc.CachedMethodCaller._instance_call (build/cythonized/sage/misc/cachefunc.c:10016)\u001b[0;34m()\u001b[0m\n\u001b[1;32m   1822\u001b[0m             \u001b[0;32mTrue\u001b[0m\u001b[0;34m\u001b[0m\u001b[0;34m\u001b[0m\u001b[0m\n\u001b[1;32m   1823\u001b[0m         \"\"\"\n\u001b[0;32m-> 1824\u001b[0;31m         \u001b[0;32mreturn\u001b[0m \u001b[0mself\u001b[0m\u001b[0;34m.\u001b[0m\u001b[0mf\u001b[0m\u001b[0;34m(\u001b[0m\u001b[0mself\u001b[0m\u001b[0;34m.\u001b[0m\u001b[0m_instance\u001b[0m\u001b[0;34m,\u001b[0m \u001b[0;34m*\u001b[0m\u001b[0margs\u001b[0m\u001b[0;34m,\u001b[0m \u001b[0;34m**\u001b[0m\u001b[0mkwds\u001b[0m\u001b[0;34m)\u001b[0m\u001b[0;34m\u001b[0m\u001b[0;34m\u001b[0m\u001b[0m\n\u001b[0m\u001b[1;32m   1825\u001b[0m \u001b[0;34m\u001b[0m\u001b[0m\n\u001b[1;32m   1826\u001b[0m     \u001b[0mcdef\u001b[0m \u001b[0mfix_args_kwds\u001b[0m\u001b[0;34m(\u001b[0m\u001b[0mself\u001b[0m\u001b[0;34m,\u001b[0m \u001b[0mtuple\u001b[0m \u001b[0margs\u001b[0m\u001b[0;34m,\u001b[0m \u001b[0mdict\u001b[0m \u001b[0mkwds\u001b[0m\u001b[0;34m)\u001b[0m\u001b[0;34m:\u001b[0m\u001b[0;34m\u001b[0m\u001b[0;34m\u001b[0m\u001b[0m\n",
      "\u001b[0;32m/private/var/tmp/sage-9.6-current/local/var/lib/sage/venv-python3.10.3/lib/python3.10/site-packages/sage/rings/qqbar_decorators.py\u001b[0m in \u001b[0;36mwrapper\u001b[0;34m(*args, **kwds)\u001b[0m\n\u001b[1;32m     94\u001b[0m                    \u001b[0;32mor\u001b[0m \u001b[0mis_PolynomialSequence\u001b[0m\u001b[0;34m(\u001b[0m\u001b[0ma\u001b[0m\u001b[0;34m)\u001b[0m\u001b[0;34m\u001b[0m\u001b[0;34m\u001b[0m\u001b[0m\n\u001b[1;32m     95\u001b[0m                    and isinstance(a.ring().base_ring(), AlgebraicField_common) for a in args):\n\u001b[0;32m---> 96\u001b[0;31m             \u001b[0;32mreturn\u001b[0m \u001b[0mfunc\u001b[0m\u001b[0;34m(\u001b[0m\u001b[0;34m*\u001b[0m\u001b[0margs\u001b[0m\u001b[0;34m,\u001b[0m \u001b[0;34m**\u001b[0m\u001b[0mkwds\u001b[0m\u001b[0;34m)\u001b[0m\u001b[0;34m\u001b[0m\u001b[0;34m\u001b[0m\u001b[0m\n\u001b[0m\u001b[1;32m     97\u001b[0m \u001b[0;34m\u001b[0m\u001b[0m\n\u001b[1;32m     98\u001b[0m         \u001b[0mpolynomials\u001b[0m \u001b[0;34m=\u001b[0m \u001b[0;34m[\u001b[0m\u001b[0;34m]\u001b[0m\u001b[0;34m\u001b[0m\u001b[0;34m\u001b[0m\u001b[0m\n",
      "\u001b[0;32m/private/var/tmp/sage-9.6-current/local/var/lib/sage/venv-python3.10.3/lib/python3.10/site-packages/sage/interfaces/singular.py\u001b[0m in \u001b[0;36mwrapper\u001b[0;34m(*args, **kwds)\u001b[0m\n\u001b[1;32m   2758\u001b[0m     \u001b[0;32mdef\u001b[0m \u001b[0mwrapper\u001b[0m\u001b[0;34m(\u001b[0m\u001b[0;34m*\u001b[0m\u001b[0margs\u001b[0m\u001b[0;34m,\u001b[0m \u001b[0;34m**\u001b[0m\u001b[0mkwds\u001b[0m\u001b[0;34m)\u001b[0m\u001b[0;34m:\u001b[0m\u001b[0;34m\u001b[0m\u001b[0;34m\u001b[0m\u001b[0m\n\u001b[1;32m   2759\u001b[0m         \u001b[0;32mwith\u001b[0m \u001b[0mSingularGBDefaultContext\u001b[0m\u001b[0;34m(\u001b[0m\u001b[0;34m)\u001b[0m\u001b[0;34m:\u001b[0m\u001b[0;34m\u001b[0m\u001b[0;34m\u001b[0m\u001b[0m\n\u001b[0;32m-> 2760\u001b[0;31m             \u001b[0;32mreturn\u001b[0m \u001b[0mfunc\u001b[0m\u001b[0;34m(\u001b[0m\u001b[0;34m*\u001b[0m\u001b[0margs\u001b[0m\u001b[0;34m,\u001b[0m \u001b[0;34m**\u001b[0m\u001b[0mkwds\u001b[0m\u001b[0;34m)\u001b[0m\u001b[0;34m\u001b[0m\u001b[0;34m\u001b[0m\u001b[0m\n\u001b[0m\u001b[1;32m   2761\u001b[0m     \u001b[0;32mreturn\u001b[0m \u001b[0mwrapper\u001b[0m\u001b[0;34m\u001b[0m\u001b[0;34m\u001b[0m\u001b[0m\n",
      "\u001b[0;32m/private/var/tmp/sage-9.6-current/local/var/lib/sage/venv-python3.10.3/lib/python3.10/site-packages/sage/rings/polynomial/multi_polynomial_ideal.py\u001b[0m in \u001b[0;36mbasis_is_groebner\u001b[0;34m(self, singular)\u001b[0m\n\u001b[1;32m   1939\u001b[0m \u001b[0;34m\u001b[0m\u001b[0m\n\u001b[1;32m   1940\u001b[0m             \u001b[0;32mwith\u001b[0m \u001b[0mopt_verb_ctx\u001b[0m\u001b[0;34m(\u001b[0m\u001b[0mnotWarnSB\u001b[0m\u001b[0;34m=\u001b[0m\u001b[0;32mTrue\u001b[0m\u001b[0;34m)\u001b[0m\u001b[0;34m:\u001b[0m\u001b[0;34m\u001b[0m\u001b[0;34m\u001b[0m\u001b[0m\n\u001b[0;32m-> 1941\u001b[0;31m                 \u001b[0mM\u001b[0m \u001b[0;34m=\u001b[0m \u001b[0mF\u001b[0m \u001b[0;34m*\u001b[0m \u001b[0mmatrix\u001b[0m\u001b[0;34m(\u001b[0m\u001b[0mR\u001b[0m\u001b[0;34m,\u001b[0m \u001b[0msyz\u001b[0m\u001b[0;34m(\u001b[0m\u001b[0mLTF\u001b[0m\u001b[0;34m)\u001b[0m\u001b[0;34m)\u001b[0m\u001b[0;34m.\u001b[0m\u001b[0mtranspose\u001b[0m\u001b[0;34m(\u001b[0m\u001b[0;34m)\u001b[0m\u001b[0;34m\u001b[0m\u001b[0;34m\u001b[0m\u001b[0m\n\u001b[0m\u001b[1;32m   1942\u001b[0m                 \u001b[0mM\u001b[0m\u001b[0;34m.\u001b[0m\u001b[0mset_immutable\u001b[0m\u001b[0;34m(\u001b[0m\u001b[0;34m)\u001b[0m\u001b[0;34m\u001b[0m\u001b[0;34m\u001b[0m\u001b[0m\n\u001b[1;32m   1943\u001b[0m                 \u001b[0mM\u001b[0m \u001b[0;34m=\u001b[0m \u001b[0msing_reduce\u001b[0m\u001b[0;34m(\u001b[0m\u001b[0mM\u001b[0m\u001b[0;34m,\u001b[0m \u001b[0mself\u001b[0m\u001b[0;34m)\u001b[0m\u001b[0;34m\u001b[0m\u001b[0;34m\u001b[0m\u001b[0m\n",
      "\u001b[0;32m/private/var/tmp/sage-9.6-current/local/var/lib/sage/venv-python3.10.3/lib/python3.10/site-packages/sage/libs/singular/function.pyx\u001b[0m in \u001b[0;36msage.libs.singular.function.SingularFunction.__call__ (build/cythonized/sage/libs/singular/function.cpp:15319)\u001b[0;34m()\u001b[0m\n\u001b[1;32m   1332\u001b[0m         \u001b[0;32mif\u001b[0m \u001b[0;32mnot\u001b[0m \u001b[0;34m(\u001b[0m\u001b[0misinstance\u001b[0m\u001b[0;34m(\u001b[0m\u001b[0mring\u001b[0m\u001b[0;34m,\u001b[0m \u001b[0mMPolynomialRing_libsingular\u001b[0m\u001b[0;34m)\u001b[0m \u001b[0;32mor\u001b[0m \u001b[0misinstance\u001b[0m\u001b[0;34m(\u001b[0m\u001b[0mring\u001b[0m\u001b[0;34m,\u001b[0m \u001b[0mNCPolynomialRing_plural\u001b[0m\u001b[0;34m)\u001b[0m\u001b[0;34m)\u001b[0m\u001b[0;34m:\u001b[0m\u001b[0;34m\u001b[0m\u001b[0;34m\u001b[0m\u001b[0m\n\u001b[1;32m   1333\u001b[0m             \u001b[0;32mraise\u001b[0m \u001b[0mTypeError\u001b[0m\u001b[0;34m(\u001b[0m\u001b[0;34m\"Cannot call Singular function '%s' with ring parameter of type '%s'\"\u001b[0m\u001b[0;34m%\u001b[0m\u001b[0;34m(\u001b[0m\u001b[0mself\u001b[0m\u001b[0;34m.\u001b[0m\u001b[0m_name\u001b[0m\u001b[0;34m,\u001b[0m\u001b[0mtype\u001b[0m\u001b[0;34m(\u001b[0m\u001b[0mring\u001b[0m\u001b[0;34m)\u001b[0m\u001b[0;34m)\u001b[0m\u001b[0;34m)\u001b[0m\u001b[0;34m\u001b[0m\u001b[0;34m\u001b[0m\u001b[0m\n\u001b[0;32m-> 1334\u001b[0;31m         \u001b[0;32mreturn\u001b[0m \u001b[0mcall_function\u001b[0m\u001b[0;34m(\u001b[0m\u001b[0mself\u001b[0m\u001b[0;34m,\u001b[0m \u001b[0margs\u001b[0m\u001b[0;34m,\u001b[0m \u001b[0mring\u001b[0m\u001b[0;34m,\u001b[0m \u001b[0minterruptible\u001b[0m\u001b[0;34m,\u001b[0m \u001b[0mattributes\u001b[0m\u001b[0;34m)\u001b[0m\u001b[0;34m\u001b[0m\u001b[0;34m\u001b[0m\u001b[0m\n\u001b[0m\u001b[1;32m   1335\u001b[0m \u001b[0;34m\u001b[0m\u001b[0m\n\u001b[1;32m   1336\u001b[0m     \u001b[0;32mdef\u001b[0m \u001b[0m_instancedoc_\u001b[0m\u001b[0;34m(\u001b[0m\u001b[0mself\u001b[0m\u001b[0;34m)\u001b[0m\u001b[0;34m:\u001b[0m\u001b[0;34m\u001b[0m\u001b[0;34m\u001b[0m\u001b[0m\n",
      "\u001b[0;32m/private/var/tmp/sage-9.6-current/local/var/lib/sage/venv-python3.10.3/lib/python3.10/site-packages/sage/libs/singular/function.pyx\u001b[0m in \u001b[0;36msage.libs.singular.function.call_function (build/cythonized/sage/libs/singular/function.cpp:17339)\u001b[0;34m()\u001b[0m\n\u001b[1;32m   1533\u001b[0m             (self._name, \"\\n\".join(error_messages)))\n\u001b[1;32m   1534\u001b[0m \u001b[0;34m\u001b[0m\u001b[0m\n\u001b[0;32m-> 1535\u001b[0;31m     \u001b[0mres\u001b[0m \u001b[0;34m=\u001b[0m \u001b[0margument_list\u001b[0m\u001b[0;34m.\u001b[0m\u001b[0mto_python\u001b[0m\u001b[0;34m(\u001b[0m\u001b[0m_res\u001b[0m\u001b[0;34m)\u001b[0m\u001b[0;34m\u001b[0m\u001b[0;34m\u001b[0m\u001b[0m\n\u001b[0m\u001b[1;32m   1536\u001b[0m \u001b[0;34m\u001b[0m\u001b[0m\n\u001b[1;32m   1537\u001b[0m     \u001b[0;32mif\u001b[0m \u001b[0mself\u001b[0m\u001b[0;34m.\u001b[0m\u001b[0mcall_handler\u001b[0m\u001b[0;34m.\u001b[0m\u001b[0mfree_res\u001b[0m\u001b[0;34m(\u001b[0m\u001b[0;34m)\u001b[0m\u001b[0;34m:\u001b[0m\u001b[0;34m\u001b[0m\u001b[0;34m\u001b[0m\u001b[0m\n",
      "\u001b[0;32m/private/var/tmp/sage-9.6-current/local/var/lib/sage/venv-python3.10.3/lib/python3.10/site-packages/sage/libs/singular/function.pyx\u001b[0m in \u001b[0;36msage.libs.singular.function.Converter.to_python (build/cythonized/sage/libs/singular/function.cpp:13248)\u001b[0;34m()\u001b[0m\n\u001b[1;32m   1004\u001b[0m \u001b[0;34m\u001b[0m\u001b[0m\n\u001b[1;32m   1005\u001b[0m         \u001b[0;32melif\u001b[0m \u001b[0mrtyp\u001b[0m \u001b[0;34m==\u001b[0m \u001b[0mMODUL_CMD\u001b[0m\u001b[0;34m:\u001b[0m\u001b[0;34m\u001b[0m\u001b[0;34m\u001b[0m\u001b[0m\n\u001b[0;32m-> 1006\u001b[0;31m             return self.to_sage_module_element_sequence_destructive(\n\u001b[0m\u001b[1;32m   1007\u001b[0m                 \u001b[0;34m<\u001b[0m\u001b[0mideal\u001b[0m\u001b[0;34m*\u001b[0m\u001b[0;34m>\u001b[0m \u001b[0mto_convert\u001b[0m\u001b[0;34m.\u001b[0m\u001b[0mdata\u001b[0m\u001b[0;34m\u001b[0m\u001b[0;34m\u001b[0m\u001b[0m\n\u001b[1;32m   1008\u001b[0m             )\n",
      "\u001b[0;32m/private/var/tmp/sage-9.6-current/local/var/lib/sage/venv-python3.10.3/lib/python3.10/site-packages/sage/libs/singular/function.pyx\u001b[0m in \u001b[0;36msage.libs.singular.function.Converter.to_sage_module_element_sequence_destructive (build/cythonized/sage/libs/singular/function.cpp:10665)\u001b[0;34m()\u001b[0m\n\u001b[1;32m    758\u001b[0m \u001b[0;34m\u001b[0m\u001b[0m\n\u001b[1;32m    759\u001b[0m         \u001b[0;32mfor\u001b[0m \u001b[0mj\u001b[0m \u001b[0;32mfrom\u001b[0m \u001b[0;36m0\u001b[0m \u001b[0;34m<=\u001b[0m \u001b[0mj\u001b[0m \u001b[0;34m<\u001b[0m \u001b[0mIDELEMS\u001b[0m\u001b[0;34m(\u001b[0m\u001b[0mi\u001b[0m\u001b[0;34m)\u001b[0m\u001b[0;34m:\u001b[0m\u001b[0;34m\u001b[0m\u001b[0;34m\u001b[0m\u001b[0m\n\u001b[0;32m--> 760\u001b[0;31m             \u001b[0mp\u001b[0m \u001b[0;34m=\u001b[0m \u001b[0mself\u001b[0m\u001b[0;34m.\u001b[0m\u001b[0mto_sage_vector_destructive\u001b[0m\u001b[0;34m(\u001b[0m\u001b[0mi\u001b[0m\u001b[0;34m.\u001b[0m\u001b[0mm\u001b[0m\u001b[0;34m[\u001b[0m\u001b[0mj\u001b[0m\u001b[0;34m]\u001b[0m\u001b[0;34m,\u001b[0m \u001b[0mfree_module\u001b[0m\u001b[0;34m)\u001b[0m\u001b[0;34m\u001b[0m\u001b[0;34m\u001b[0m\u001b[0m\n\u001b[0m\u001b[1;32m    761\u001b[0m             \u001b[0mi\u001b[0m\u001b[0;34m.\u001b[0m\u001b[0mm\u001b[0m\u001b[0;34m[\u001b[0m\u001b[0mj\u001b[0m\u001b[0;34m]\u001b[0m\u001b[0;34m=\u001b[0m\u001b[0mNULL\u001b[0m\u001b[0;31m#save it from getting freed\u001b[0m\u001b[0;34m\u001b[0m\u001b[0;34m\u001b[0m\u001b[0m\n\u001b[1;32m    762\u001b[0m             \u001b[0ml\u001b[0m\u001b[0;34m.\u001b[0m\u001b[0mappend\u001b[0m\u001b[0;34m(\u001b[0m \u001b[0mp\u001b[0m \u001b[0;34m)\u001b[0m\u001b[0;34m\u001b[0m\u001b[0;34m\u001b[0m\u001b[0m\n",
      "\u001b[0;32m/private/var/tmp/sage-9.6-current/local/var/lib/sage/venv-python3.10.3/lib/python3.10/site-packages/sage/libs/singular/function.pyx\u001b[0m in \u001b[0;36msage.libs.singular.function.Converter.to_sage_vector_destructive (build/cythonized/sage/libs/singular/function.cpp:10550)\u001b[0;34m()\u001b[0m\n\u001b[1;32m    738\u001b[0m \u001b[0;34m\u001b[0m\u001b[0m\n\u001b[1;32m    739\u001b[0m             \u001b[0mresult\u001b[0m\u001b[0;34m.\u001b[0m\u001b[0mappend\u001b[0m\u001b[0;34m(\u001b[0m\u001b[0mnew_sage_polynomial\u001b[0m\u001b[0;34m(\u001b[0m\u001b[0mself\u001b[0m\u001b[0;34m.\u001b[0m\u001b[0m_sage_ring\u001b[0m\u001b[0;34m,\u001b[0m \u001b[0mfirst\u001b[0m\u001b[0;34m)\u001b[0m\u001b[0;34m)\u001b[0m\u001b[0;34m\u001b[0m\u001b[0;34m\u001b[0m\u001b[0m\n\u001b[0;32m--> 740\u001b[0;31m         \u001b[0;32mreturn\u001b[0m \u001b[0mfree_module\u001b[0m\u001b[0;34m(\u001b[0m\u001b[0mresult\u001b[0m\u001b[0;34m)\u001b[0m\u001b[0;34m\u001b[0m\u001b[0;34m\u001b[0m\u001b[0m\n\u001b[0m\u001b[1;32m    741\u001b[0m \u001b[0;34m\u001b[0m\u001b[0m\n\u001b[1;32m    742\u001b[0m     \u001b[0mcdef\u001b[0m \u001b[0mobject\u001b[0m \u001b[0mto_sage_module_element_sequence_destructive\u001b[0m\u001b[0;34m(\u001b[0m \u001b[0mself\u001b[0m\u001b[0;34m,\u001b[0m \u001b[0mideal\u001b[0m \u001b[0;34m*\u001b[0m\u001b[0mi\u001b[0m\u001b[0;34m)\u001b[0m\u001b[0;34m:\u001b[0m\u001b[0;34m\u001b[0m\u001b[0;34m\u001b[0m\u001b[0m\n",
      "\u001b[0;32m/private/var/tmp/sage-9.6-current/local/var/lib/sage/venv-python3.10.3/lib/python3.10/site-packages/sage/structure/parent.pyx\u001b[0m in \u001b[0;36msage.structure.parent.Parent.__call__ (build/cythonized/sage/structure/parent.c:9450)\u001b[0;34m()\u001b[0m\n\u001b[1;32m    895\u001b[0m         \u001b[0;32mif\u001b[0m \u001b[0mmor\u001b[0m \u001b[0;32mis\u001b[0m \u001b[0;32mnot\u001b[0m \u001b[0;32mNone\u001b[0m\u001b[0;34m:\u001b[0m\u001b[0;34m\u001b[0m\u001b[0;34m\u001b[0m\u001b[0m\n\u001b[1;32m    896\u001b[0m             \u001b[0;32mif\u001b[0m \u001b[0mno_extra_args\u001b[0m\u001b[0;34m:\u001b[0m\u001b[0;34m\u001b[0m\u001b[0;34m\u001b[0m\u001b[0m\n\u001b[0;32m--> 897\u001b[0;31m                 \u001b[0;32mreturn\u001b[0m \u001b[0mmor\u001b[0m\u001b[0;34m.\u001b[0m\u001b[0m_call_\u001b[0m\u001b[0;34m(\u001b[0m\u001b[0mx\u001b[0m\u001b[0;34m)\u001b[0m\u001b[0;34m\u001b[0m\u001b[0;34m\u001b[0m\u001b[0m\n\u001b[0m\u001b[1;32m    898\u001b[0m             \u001b[0;32melse\u001b[0m\u001b[0;34m:\u001b[0m\u001b[0;34m\u001b[0m\u001b[0;34m\u001b[0m\u001b[0m\n\u001b[1;32m    899\u001b[0m                 \u001b[0;32mreturn\u001b[0m \u001b[0mmor\u001b[0m\u001b[0;34m.\u001b[0m\u001b[0m_call_with_args\u001b[0m\u001b[0;34m(\u001b[0m\u001b[0mx\u001b[0m\u001b[0;34m,\u001b[0m \u001b[0margs\u001b[0m\u001b[0;34m,\u001b[0m \u001b[0mkwds\u001b[0m\u001b[0;34m)\u001b[0m\u001b[0;34m\u001b[0m\u001b[0;34m\u001b[0m\u001b[0m\n",
      "\u001b[0;32m/private/var/tmp/sage-9.6-current/local/var/lib/sage/venv-python3.10.3/lib/python3.10/site-packages/sage/structure/coerce_maps.pyx\u001b[0m in \u001b[0;36msage.structure.coerce_maps.DefaultConvertMap_unique._call_ (build/cythonized/sage/structure/coerce_maps.c:4626)\u001b[0;34m()\u001b[0m\n\u001b[1;32m    154\u001b[0m         \u001b[0mcdef\u001b[0m \u001b[0mParent\u001b[0m \u001b[0mC\u001b[0m \u001b[0;34m=\u001b[0m \u001b[0mself\u001b[0m\u001b[0;34m.\u001b[0m\u001b[0m_codomain\u001b[0m\u001b[0;34m\u001b[0m\u001b[0;34m\u001b[0m\u001b[0m\n\u001b[1;32m    155\u001b[0m         \u001b[0;32mtry\u001b[0m\u001b[0;34m:\u001b[0m\u001b[0;34m\u001b[0m\u001b[0;34m\u001b[0m\u001b[0m\n\u001b[0;32m--> 156\u001b[0;31m             \u001b[0;32mreturn\u001b[0m \u001b[0mC\u001b[0m\u001b[0;34m.\u001b[0m\u001b[0m_element_constructor\u001b[0m\u001b[0;34m(\u001b[0m\u001b[0mx\u001b[0m\u001b[0;34m)\u001b[0m\u001b[0;34m\u001b[0m\u001b[0;34m\u001b[0m\u001b[0m\n\u001b[0m\u001b[1;32m    157\u001b[0m         \u001b[0;32mexcept\u001b[0m \u001b[0mException\u001b[0m\u001b[0;34m:\u001b[0m\u001b[0;34m\u001b[0m\u001b[0;34m\u001b[0m\u001b[0m\n\u001b[1;32m    158\u001b[0m             \u001b[0;32mif\u001b[0m \u001b[0mprint_warnings\u001b[0m\u001b[0;34m:\u001b[0m\u001b[0;34m\u001b[0m\u001b[0;34m\u001b[0m\u001b[0m\n",
      "\u001b[0;32m/private/var/tmp/sage-9.6-current/local/var/lib/sage/venv-python3.10.3/lib/python3.10/site-packages/sage/modules/free_module.py\u001b[0m in \u001b[0;36m_element_constructor_\u001b[0;34m(self, x, coerce, copy, check)\u001b[0m\n\u001b[1;32m   1077\u001b[0m                 \u001b[0;32mpass\u001b[0m\u001b[0;34m\u001b[0m\u001b[0;34m\u001b[0m\u001b[0m\n\u001b[1;32m   1078\u001b[0m \u001b[0;34m\u001b[0m\u001b[0m\n\u001b[0;32m-> 1079\u001b[0;31m     \u001b[0;32mdef\u001b[0m \u001b[0m_element_constructor_\u001b[0m\u001b[0;34m(\u001b[0m\u001b[0mself\u001b[0m\u001b[0;34m,\u001b[0m \u001b[0mx\u001b[0m\u001b[0;34m,\u001b[0m \u001b[0mcoerce\u001b[0m\u001b[0;34m=\u001b[0m\u001b[0;32mTrue\u001b[0m\u001b[0;34m,\u001b[0m \u001b[0mcopy\u001b[0m\u001b[0;34m=\u001b[0m\u001b[0;32mTrue\u001b[0m\u001b[0;34m,\u001b[0m \u001b[0mcheck\u001b[0m\u001b[0;34m=\u001b[0m\u001b[0;32mTrue\u001b[0m\u001b[0;34m)\u001b[0m\u001b[0;34m:\u001b[0m\u001b[0;34m\u001b[0m\u001b[0;34m\u001b[0m\u001b[0m\n\u001b[0m\u001b[1;32m   1080\u001b[0m         r\"\"\"\n\u001b[1;32m   1081\u001b[0m         \u001b[0mCreate\u001b[0m \u001b[0man\u001b[0m \u001b[0melement\u001b[0m \u001b[0mof\u001b[0m \u001b[0mthis\u001b[0m \u001b[0mfree\u001b[0m \u001b[0mmodule\u001b[0m \u001b[0;32mfrom\u001b[0m\u001b[0;31m \u001b[0m\u001b[0;31m`\u001b[0m\u001b[0;31m`\u001b[0m\u001b[0mx\u001b[0m\u001b[0;31m`\u001b[0m\u001b[0;31m`\u001b[0m\u001b[0;34m.\u001b[0m\u001b[0;34m\u001b[0m\u001b[0;34m\u001b[0m\u001b[0m\n",
      "\u001b[0;32msrc/cysignals/signals.pyx\u001b[0m in \u001b[0;36mcysignals.signals.python_check_interrupt\u001b[0;34m()\u001b[0m\n",
      "\u001b[0;31mKeyboardInterrupt\u001b[0m: "
     ]
    }
   ],
   "source": [
    "mac_grob([f1,f2,f3,f4],R)"
   ]
  },
  {
   "cell_type": "code",
   "execution_count": 336,
   "metadata": {},
   "outputs": [],
   "source": [
    "def test_rowsp(f, f_list, d, ring):\n",
    "    mons = get_mons(d, ring)\n",
    "    M = mac_matrix(f_list, d, ring)\n",
    "    done = False\n",
    "    while not done:\n",
    "        rowsp = M.row_space()\n",
    "        to_be_added = []\n",
    "        for row in M.rref().rows():\n",
    "            g = 0\n",
    "            for (coeff, mon) in zip(row, mons):\n",
    "                g += coeff * mon\n",
    "            max_test_deg = d - g.degree()\n",
    "            if (g != 0) and (max_test_deg > 0):\n",
    "                for mon in get_mons(max_test_deg, ring):\n",
    "                    test_p = mon*g\n",
    "                    test_vec = vector([test_p.monomial_coefficient(moon) for moon in mons])\n",
    "                    if test_vec not in rowsp:\n",
    "                        to_be_added.append(test_vec)\n",
    "        if to_be_added == []:\n",
    "            done = True\n",
    "        else:\n",
    "            new_rows = M.rows() + to_be_added\n",
    "            M = Matrix(new_rows)\n",
    "    f_vec = vector([ring(f).monomial_coefficient(mon) for mon in mons])\n",
    "    return f_vec in M.row_space()\n",
    "\n",
    "def get_mons(d, ring, leq = True):\n",
    "    if leq:\n",
    "        mons = []\n",
    "        for i in range(d+1):\n",
    "            mons += [ring({tuple(a):1}) for a in WeightedIntegerVectors(i,[1 for gen in ring.gens()])]\n",
    "    else:\n",
    "        mons = [ring({tuple(a):1}) for a in WeightedIntegerVectors(d,[1 for gen in ring.gens()])]\n",
    "    mons.sort()\n",
    "    mons.reverse()\n",
    "    return mons\n",
    "\n",
    "def deg_fall(f, f_list, ring):\n",
    "    test_deg = f.degree()\n",
    "    while True:\n",
    "        print(test_deg, time.strftime(\"%H:%M:%S\", time.localtime()))\n",
    "        if test_rowsp(f, f_list, test_deg, ring):\n",
    "            return test_deg\n",
    "        test_deg += 1\n",
    "        \n",
    "def lfd(f_list, ring):\n",
    "    fall_degrees = []\n",
    "    I = ideal(f_list)\n",
    "    B = I.groebner_basis()\n",
    "    print(B)\n",
    "    for f in B:\n",
    "        print('\\n')\n",
    "        print(f)\n",
    "        d = deg_fall(f, f_list, ring)\n",
    "        if d > f.degree():\n",
    "            fall_degrees.append(d)\n",
    "    if fall_degrees == []:\n",
    "        return 0\n",
    "    else:\n",
    "        return max(fall_degrees)"
   ]
  },
  {
   "cell_type": "code",
   "execution_count": 223,
   "metadata": {},
   "outputs": [
    {
     "name": "stdout",
     "output_type": "stream",
     "text": [
      "[w, x, y, z, 1]\n",
      "[w^2, w*x, x^2, w*y, x*y, y^2, w*z, x*z, y*z, z^2, w, x, y, z, 1]\n",
      "[w^3, w^2*x, w*x^2, x^3, w^2*y, w*x*y, x^2*y, w*y^2, x*y^2, y^3, w^2*z, w*x*z, x^2*z, w*y*z, x*y*z, y^2*z, w*z^2, x*z^2, y*z^2, z^3, w^2, w*x, x^2, w*y, x*y, y^2, w*z, x*z, y*z, z^2, w, x, y, z, 1]\n"
     ]
    },
    {
     "data": {
      "text/plain": [
       "3"
      ]
     },
     "execution_count": 223,
     "metadata": {},
     "output_type": "execute_result"
    }
   ],
   "source": [
    "deg_fall(y - 1, [f1,f2,f3,f4], R)"
   ]
  },
  {
   "cell_type": "code",
   "execution_count": 581,
   "metadata": {},
   "outputs": [],
   "source": [
    "# Compute the Macaulay matrix in degree d of a system f = [f1,...,fs]\n",
    "def mac_matrix(f,d,ring):\n",
    "    mons0 = monomials(list(ring.gens()), [d+1 for i in range(len(ring.gens()))])\n",
    "    mons = []\n",
    "    for mon in mons0:\n",
    "        if mon.degree() <= d:\n",
    "            mons.append(mon)\n",
    "    mons.sort()\n",
    "    mons.reverse() # for reasons I don't understand, the .sort() method respects the chosen order but reverses it\n",
    "    col_labs = []\n",
    "    for deg in range(d + 1):\n",
    "        segment = []\n",
    "        for poly in f:\n",
    "            for mon in mons:\n",
    "                label = ring(mon)*ring(poly)\n",
    "                if label.degree() == deg:\n",
    "                    segment.append(label)\n",
    "        col_labs += segment\n",
    "    return matrix([[label.monomial_coefficient(mon) for mon in mons] for label in col_labs])\n",
    "\n",
    "\n",
    "# Takes an RREF Macaulay matrix as input and returns a list of the corresponding polynomials\n",
    "def recover_polys(M, d, ring):\n",
    "    mons0 = monomials(list(ring.gens()), [d+1 for i in range(len(ring.gens()))])\n",
    "    mons = []\n",
    "    for mon in mons0:\n",
    "        if mon.degree() <= d:\n",
    "            mons.append(mon)\n",
    "    mons.sort()\n",
    "    mons.reverse()\n",
    "    B = []\n",
    "    for row in M.rows():\n",
    "        g = 0\n",
    "        for (coeff,mon) in zip(row,mons):\n",
    "            g += coeff*mon\n",
    "        if g != 0:\n",
    "            B.append(g)\n",
    "    if B == []:\n",
    "        B = [ring(0)]\n",
    "    return Sequence(B) # Sage doesn't know how to work with the output list unless it is a \"Sequence\" of polynomials\n",
    "\n",
    "\n",
    "# Now instead of using mac_matrix followed by recover_polys, we ask for the new polynomials directly:\n",
    "def mac_basis(f,d,ring):\n",
    "    mons0 = monomials(list(ring.gens()), [d+1 for i in range(len(ring.gens()))])\n",
    "    mons = []\n",
    "    for mon in mons0:\n",
    "        if mon.degree() <= d:\n",
    "            mons.append(mon)\n",
    "    mons.sort()\n",
    "    mons.reverse() # for reasons I don't understand, the .sort() method respects the chosen order but reverses it\n",
    "    col_labs = []\n",
    "    for deg in range(d + 1):\n",
    "        segment = []\n",
    "        for poly in f:\n",
    "            for mon in mons:\n",
    "                label = ring(mon)*ring(poly)\n",
    "                if label.degree() == deg:\n",
    "                    segment.append(label)\n",
    "        col_labs += segment\n",
    "    M = matrix([[label.monomial_coefficient(mon) for mon in mons] for label in col_labs]).rref()\n",
    "    B = []\n",
    "    for row in M.rows():\n",
    "        g = 0\n",
    "        for (coeff,mon) in zip(row,mons):\n",
    "            g += coeff*mon\n",
    "        if g != 0:\n",
    "            B.append(g)\n",
    "    if B == []:\n",
    "        B = [ring(0)]\n",
    "    return Sequence(B)\n",
    "\n",
    "\n",
    "# Now define a function that calculates a Gröbner basis and the solving degree (per Caminata and Gorla, 2021)\n",
    "def mac_grob(f,ring):\n",
    "    test_deg = 0\n",
    "    while True:\n",
    "        B = mac_basis(f, test_deg, ring)\n",
    "        print(test_deg, B, B.is_groebner(), ideal(B) == ideal(f))\n",
    "        if B.is_groebner() and ideal(B) == ideal(f):\n",
    "            return (test_deg,B)\n",
    "        test_deg += 1\n",
    "        \n",
    "\n",
    "# Modified version to compute the solving degree per Caminata and Gorla, 2023\n",
    "def sdeg(f, ring):\n",
    "    d = 0\n",
    "    while True:\n",
    "        d_level_base = []\n",
    "        mons = get_mons(d, ring)\n",
    "        M = mac_matrix(f, d, ring)\n",
    "        done = False\n",
    "        while not done:\n",
    "            rowsp = M.row_space()\n",
    "            to_be_added = []\n",
    "            for row in M.rref().rows():\n",
    "                g = 0\n",
    "                for (coeff, mon) in zip(row, mons):\n",
    "                    g += coeff * mon\n",
    "                max_test_deg = d - g.degree()\n",
    "                if (g != 0) and (max_test_deg > 0):\n",
    "                    for mon in get_mons(max_test_deg, ring):\n",
    "                        test_p = mon*g\n",
    "                        test_vec = vector([test_p.monomial_coefficient(moon) for moon in mons])\n",
    "                        if test_vec not in rowsp:\n",
    "                            to_be_added.append(test_vec)\n",
    "            if to_be_added == []:\n",
    "                done = True\n",
    "                for row in M.rref().rows():\n",
    "                    g = 0\n",
    "                    for (coeff, mon) in zip(row, mons):\n",
    "                        g += coeff * mon\n",
    "                    if g != 0:\n",
    "                        d_level_base.append(g)\n",
    "                if d_level_base == []:\n",
    "                    d_level_base = [ring(0)]\n",
    "                check_1 = Sequence(d_level_base).is_groebner()\n",
    "                check_2 = (ideal(d_level_base) == ideal(f))\n",
    "                print(d, Sequence(d_level_base), check_1, check_2)\n",
    "                if check_1 and check_2:\n",
    "                    return (d, Sequence(d_level_base))\n",
    "                d += 1\n",
    "            else:\n",
    "                new_rows = M.rows() + to_be_added\n",
    "                M = Matrix(new_rows)"
   ]
  },
  {
   "cell_type": "code",
   "execution_count": 263,
   "metadata": {},
   "outputs": [
    {
     "data": {
      "text/plain": [
       "[y^3*z^2, x^4 + z^2, x*y^3, z^4 - y*z^2, x*z^2 - x*y]"
      ]
     },
     "execution_count": 263,
     "metadata": {},
     "output_type": "execute_result"
    }
   ],
   "source": [
    "R.<x,y,z> = PolynomialRing(QQ, order = 'degrevlex')\n",
    "f1 = x^5 + x*y\n",
    "f2 = y^3*x\n",
    "f3 = z^2 + x^4\n",
    "I = Ideal(f1,f2,f3)\n",
    "I.groebner_basis()"
   ]
  },
  {
   "cell_type": "code",
   "execution_count": 252,
   "metadata": {},
   "outputs": [
    {
     "name": "stdout",
     "output_type": "stream",
     "text": [
      "[x^3, x^2*y, x*y^2, y^3, x^2*z, x*y*z, y^2*z, x*z^2, y*z^2, z^3, x^2, x*y, y^2, x*z, y*z, z^2, x, y, z, 1]\n",
      "[x^4, x^3*y, x^2*y^2, x*y^3, y^4, x^3*z, x^2*y*z, x*y^2*z, y^3*z, x^2*z^2, x*y*z^2, y^2*z^2, x*z^3, y*z^3, z^4, x^3, x^2*y, x*y^2, y^3, x^2*z, x*y*z, y^2*z, x*z^2, y*z^2, z^3, x^2, x*y, y^2, x*z, y*z, z^2, x, y, z, 1]\n",
      "[x^5, x^4*y, x^3*y^2, x^2*y^3, x*y^4, y^5, x^4*z, x^3*y*z, x^2*y^2*z, x*y^3*z, y^4*z, x^3*z^2, x^2*y*z^2, x*y^2*z^2, y^3*z^2, x^2*z^3, x*y*z^3, y^2*z^3, x*z^4, y*z^4, z^5, x^4, x^3*y, x^2*y^2, x*y^3, y^4, x^3*z, x^2*y*z, x*y^2*z, y^3*z, x^2*z^2, x*y*z^2, y^2*z^2, x*z^3, y*z^3, z^4, x^3, x^2*y, x*y^2, y^3, x^2*z, x*y*z, y^2*z, x*z^2, y*z^2, z^3, x^2, x*y, y^2, x*z, y*z, z^2, x, y, z, 1]\n"
     ]
    },
    {
     "data": {
      "text/plain": [
       "5"
      ]
     },
     "execution_count": 252,
     "metadata": {},
     "output_type": "execute_result"
    }
   ],
   "source": [
    "deg_fall(x*z^2 - x*y, [f1,f2,f3], R)"
   ]
  },
  {
   "cell_type": "code",
   "execution_count": 264,
   "metadata": {},
   "outputs": [
    {
     "name": "stdout",
     "output_type": "stream",
     "text": [
      "[x^5, x^4*y, x^3*y^2, x^2*y^3, x*y^4, y^5, x^4*z, x^3*y*z, x^2*y^2*z, x*y^3*z, y^4*z, x^3*z^2, x^2*y*z^2, x*y^2*z^2, y^3*z^2, x^2*z^3, x*y*z^3, y^2*z^3, x*z^4, y*z^4, z^5, x^4, x^3*y, x^2*y^2, x*y^3, y^4, x^3*z, x^2*y*z, x*y^2*z, y^3*z, x^2*z^2, x*y*z^2, y^2*z^2, x*z^3, y*z^3, z^4, x^3, x^2*y, x*y^2, y^3, x^2*z, x*y*z, y^2*z, x*z^2, y*z^2, z^3, x^2, x*y, y^2, x*z, y*z, z^2, x, y, z, 1]\n",
      "[x^6, x^5*y, x^4*y^2, x^3*y^3, x^2*y^4, x*y^5, y^6, x^5*z, x^4*y*z, x^3*y^2*z, x^2*y^3*z, x*y^4*z, y^5*z, x^4*z^2, x^3*y*z^2, x^2*y^2*z^2, x*y^3*z^2, y^4*z^2, x^3*z^3, x^2*y*z^3, x*y^2*z^3, y^3*z^3, x^2*z^4, x*y*z^4, y^2*z^4, x*z^5, y*z^5, z^6, x^5, x^4*y, x^3*y^2, x^2*y^3, x*y^4, y^5, x^4*z, x^3*y*z, x^2*y^2*z, x*y^3*z, y^4*z, x^3*z^2, x^2*y*z^2, x*y^2*z^2, y^3*z^2, x^2*z^3, x*y*z^3, y^2*z^3, x*z^4, y*z^4, z^5, x^4, x^3*y, x^2*y^2, x*y^3, y^4, x^3*z, x^2*y*z, x*y^2*z, y^3*z, x^2*z^2, x*y*z^2, y^2*z^2, x*z^3, y*z^3, z^4, x^3, x^2*y, x*y^2, y^3, x^2*z, x*y*z, y^2*z, x*z^2, y*z^2, z^3, x^2, x*y, y^2, x*z, y*z, z^2, x, y, z, 1]\n",
      "[x^7, x^6*y, x^5*y^2, x^4*y^3, x^3*y^4, x^2*y^5, x*y^6, y^7, x^6*z, x^5*y*z, x^4*y^2*z, x^3*y^3*z, x^2*y^4*z, x*y^5*z, y^6*z, x^5*z^2, x^4*y*z^2, x^3*y^2*z^2, x^2*y^3*z^2, x*y^4*z^2, y^5*z^2, x^4*z^3, x^3*y*z^3, x^2*y^2*z^3, x*y^3*z^3, y^4*z^3, x^3*z^4, x^2*y*z^4, x*y^2*z^4, y^3*z^4, x^2*z^5, x*y*z^5, y^2*z^5, x*z^6, y*z^6, z^7, x^6, x^5*y, x^4*y^2, x^3*y^3, x^2*y^4, x*y^5, y^6, x^5*z, x^4*y*z, x^3*y^2*z, x^2*y^3*z, x*y^4*z, y^5*z, x^4*z^2, x^3*y*z^2, x^2*y^2*z^2, x*y^3*z^2, y^4*z^2, x^3*z^3, x^2*y*z^3, x*y^2*z^3, y^3*z^3, x^2*z^4, x*y*z^4, y^2*z^4, x*z^5, y*z^5, z^6, x^5, x^4*y, x^3*y^2, x^2*y^3, x*y^4, y^5, x^4*z, x^3*y*z, x^2*y^2*z, x*y^3*z, y^4*z, x^3*z^2, x^2*y*z^2, x*y^2*z^2, y^3*z^2, x^2*z^3, x*y*z^3, y^2*z^3, x*z^4, y*z^4, z^5, x^4, x^3*y, x^2*y^2, x*y^3, y^4, x^3*z, x^2*y*z, x*y^2*z, y^3*z, x^2*z^2, x*y*z^2, y^2*z^2, x*z^3, y*z^3, z^4, x^3, x^2*y, x*y^2, y^3, x^2*z, x*y*z, y^2*z, x*z^2, y*z^2, z^3, x^2, x*y, y^2, x*z, y*z, z^2, x, y, z, 1]\n",
      "[x^4, x^3*y, x^2*y^2, x*y^3, y^4, x^3*z, x^2*y*z, x*y^2*z, y^3*z, x^2*z^2, x*y*z^2, y^2*z^2, x*z^3, y*z^3, z^4, x^3, x^2*y, x*y^2, y^3, x^2*z, x*y*z, y^2*z, x*z^2, y*z^2, z^3, x^2, x*y, y^2, x*z, y*z, z^2, x, y, z, 1]\n",
      "[x^4, x^3*y, x^2*y^2, x*y^3, y^4, x^3*z, x^2*y*z, x*y^2*z, y^3*z, x^2*z^2, x*y*z^2, y^2*z^2, x*z^3, y*z^3, z^4, x^3, x^2*y, x*y^2, y^3, x^2*z, x*y*z, y^2*z, x*z^2, y*z^2, z^3, x^2, x*y, y^2, x*z, y*z, z^2, x, y, z, 1]\n",
      "[x^4, x^3*y, x^2*y^2, x*y^3, y^4, x^3*z, x^2*y*z, x*y^2*z, y^3*z, x^2*z^2, x*y*z^2, y^2*z^2, x*z^3, y*z^3, z^4, x^3, x^2*y, x*y^2, y^3, x^2*z, x*y*z, y^2*z, x*z^2, y*z^2, z^3, x^2, x*y, y^2, x*z, y*z, z^2, x, y, z, 1]\n",
      "[x^5, x^4*y, x^3*y^2, x^2*y^3, x*y^4, y^5, x^4*z, x^3*y*z, x^2*y^2*z, x*y^3*z, y^4*z, x^3*z^2, x^2*y*z^2, x*y^2*z^2, y^3*z^2, x^2*z^3, x*y*z^3, y^2*z^3, x*z^4, y*z^4, z^5, x^4, x^3*y, x^2*y^2, x*y^3, y^4, x^3*z, x^2*y*z, x*y^2*z, y^3*z, x^2*z^2, x*y*z^2, y^2*z^2, x*z^3, y*z^3, z^4, x^3, x^2*y, x*y^2, y^3, x^2*z, x*y*z, y^2*z, x*z^2, y*z^2, z^3, x^2, x*y, y^2, x*z, y*z, z^2, x, y, z, 1]\n",
      "[x^6, x^5*y, x^4*y^2, x^3*y^3, x^2*y^4, x*y^5, y^6, x^5*z, x^4*y*z, x^3*y^2*z, x^2*y^3*z, x*y^4*z, y^5*z, x^4*z^2, x^3*y*z^2, x^2*y^2*z^2, x*y^3*z^2, y^4*z^2, x^3*z^3, x^2*y*z^3, x*y^2*z^3, y^3*z^3, x^2*z^4, x*y*z^4, y^2*z^4, x*z^5, y*z^5, z^6, x^5, x^4*y, x^3*y^2, x^2*y^3, x*y^4, y^5, x^4*z, x^3*y*z, x^2*y^2*z, x*y^3*z, y^4*z, x^3*z^2, x^2*y*z^2, x*y^2*z^2, y^3*z^2, x^2*z^3, x*y*z^3, y^2*z^3, x*z^4, y*z^4, z^5, x^4, x^3*y, x^2*y^2, x*y^3, y^4, x^3*z, x^2*y*z, x*y^2*z, y^3*z, x^2*z^2, x*y*z^2, y^2*z^2, x*z^3, y*z^3, z^4, x^3, x^2*y, x*y^2, y^3, x^2*z, x*y*z, y^2*z, x*z^2, y*z^2, z^3, x^2, x*y, y^2, x*z, y*z, z^2, x, y, z, 1]\n",
      "[x^3, x^2*y, x*y^2, y^3, x^2*z, x*y*z, y^2*z, x*z^2, y*z^2, z^3, x^2, x*y, y^2, x*z, y*z, z^2, x, y, z, 1]\n",
      "[x^4, x^3*y, x^2*y^2, x*y^3, y^4, x^3*z, x^2*y*z, x*y^2*z, y^3*z, x^2*z^2, x*y*z^2, y^2*z^2, x*z^3, y*z^3, z^4, x^3, x^2*y, x*y^2, y^3, x^2*z, x*y*z, y^2*z, x*z^2, y*z^2, z^3, x^2, x*y, y^2, x*z, y*z, z^2, x, y, z, 1]\n",
      "[x^5, x^4*y, x^3*y^2, x^2*y^3, x*y^4, y^5, x^4*z, x^3*y*z, x^2*y^2*z, x*y^3*z, y^4*z, x^3*z^2, x^2*y*z^2, x*y^2*z^2, y^3*z^2, x^2*z^3, x*y*z^3, y^2*z^3, x*z^4, y*z^4, z^5, x^4, x^3*y, x^2*y^2, x*y^3, y^4, x^3*z, x^2*y*z, x*y^2*z, y^3*z, x^2*z^2, x*y*z^2, y^2*z^2, x*z^3, y*z^3, z^4, x^3, x^2*y, x*y^2, y^3, x^2*z, x*y*z, y^2*z, x*z^2, y*z^2, z^3, x^2, x*y, y^2, x*z, y*z, z^2, x, y, z, 1]\n"
     ]
    },
    {
     "data": {
      "text/plain": [
       "7"
      ]
     },
     "execution_count": 264,
     "metadata": {},
     "output_type": "execute_result"
    }
   ],
   "source": [
    "lfd([f1,f2,f3],R)"
   ]
  },
  {
   "cell_type": "code",
   "execution_count": 265,
   "metadata": {},
   "outputs": [
    {
     "name": "stdout",
     "output_type": "stream",
     "text": [
      "0 [0] True False\n",
      "1 [0] True False\n",
      "2 [0] True False\n",
      "3 [0] True False\n",
      "4 [x^4 + z^2, x*y^3] False False\n",
      "5 [x^5 + x*y, x^4*y + y*z^2, x^2*y^3, x*y^4, x^4*z + z^3, x*y^3*z, x^4 + z^2, x*y^3, x*z^2 - x*y] False True\n",
      "6 Polynomial Sequence with 24 Polynomials in 3 Variables False True\n",
      "7 Polynomial Sequence with 50 Polynomials in 3 Variables False True\n",
      "8 Polynomial Sequence with 88 Polynomials in 3 Variables True True\n"
     ]
    },
    {
     "data": {
      "text/plain": [
       "(8, Polynomial Sequence with 88 Polynomials in 3 Variables)"
      ]
     },
     "execution_count": 265,
     "metadata": {},
     "output_type": "execute_result"
    }
   ],
   "source": [
    "mac_grob([f1,f2,f3],R)"
   ]
  },
  {
   "cell_type": "code",
   "execution_count": 275,
   "metadata": {},
   "outputs": [
    {
     "name": "stdout",
     "output_type": "stream",
     "text": [
      "0 [0] True False\n",
      "1 [0] True False\n",
      "2 [0] True False\n",
      "3 [0] True False\n",
      "4 [x^4 + z^2, x*y^3] False False\n",
      "5 [x^5 + x*y, x^4*y + y*z^2, x^2*y^3, x*y^4, x^4*z + z^3, x*y^3*z, x^3*z^2 - x^3*y, x^2*y*z^2 - x^2*y^2, x*y^2*z^2, x^2*z^3 - x^2*y*z, x*y*z^3 - x*y^2*z, x*z^4 - x*y^2, x^4 + z^2, x*y^3, x^2*z^2 - x^2*y, x*y*z^2 - x*y^2, x*z^3 - x*y*z, x*z^2 - x*y] False True\n",
      "6 Polynomial Sequence with 44 Polynomials in 3 Variables False True\n",
      "7 Polynomial Sequence with 81 Polynomials in 3 Variables True True\n"
     ]
    },
    {
     "data": {
      "text/plain": [
       "(7, Polynomial Sequence with 81 Polynomials in 3 Variables)"
      ]
     },
     "execution_count": 275,
     "metadata": {},
     "output_type": "execute_result"
    }
   ],
   "source": [
    "sdeg([f1,f2,f3],R)"
   ]
  },
  {
   "cell_type": "code",
   "execution_count": 259,
   "metadata": {},
   "outputs": [
    {
     "name": "stdout",
     "output_type": "stream",
     "text": [
      "[x^4, x^3*y, x^2*y^2, x*y^3, y^4, x^3*z, x^2*y*z, x*y^2*z, y^3*z, x^2*z^2, x*y*z^2, y^2*z^2, x*z^3, y*z^3, z^4, x^3, x^2*y, x*y^2, y^3, x^2*z, x*y*z, y^2*z, x*z^2, y*z^2, z^3, x^2, x*y, y^2, x*z, y*z, z^2, x, y, z, 1]\n"
     ]
    },
    {
     "data": {
      "text/plain": [
       "[1 0 0 0 0 0 0 0 0 0 0 0 0 0 0 0 0 0 0 0 0 0 0 0 0 0 0 0 0 0 1 0 0 0 0]\n",
       "[0 0 0 1 0 0 0 0 0 0 0 0 0 0 0 0 0 0 0 0 0 0 0 0 0 0 0 0 0 0 0 0 0 0 0]"
      ]
     },
     "execution_count": 259,
     "metadata": {},
     "output_type": "execute_result"
    }
   ],
   "source": [
    "mac_matrix([f1,f2,f3],4,R).rref()"
   ]
  },
  {
   "cell_type": "code",
   "execution_count": 261,
   "metadata": {},
   "outputs": [
    {
     "name": "stdout",
     "output_type": "stream",
     "text": [
      "[x^4, x^3*y, x^2*y^2, x*y^3, y^4, x^3*z, x^2*y*z, x*y^2*z, y^3*z, x^2*z^2, x*y*z^2, y^2*z^2, x*z^3, y*z^3, z^4, x^3, x^2*y, x*y^2, y^3, x^2*z, x*y*z, y^2*z, x*z^2, y*z^2, z^3, x^2, x*y, y^2, x*z, y*z, z^2, x, y, z, 1]\n"
     ]
    },
    {
     "data": {
      "text/plain": [
       "False"
      ]
     },
     "execution_count": 261,
     "metadata": {},
     "output_type": "execute_result"
    }
   ],
   "source": [
    "(1, 0, 0, 0, 0, 0, 0, 0, 0, 0, 0, 0, 0, 0, 0, 0, 0, 0, 0, 0, 0, 0, 0, 0, 0, 0, 0, 0, 0, 0, 1, 0, 0, 0, 0) in span(mac_matrix([f1,f2,f3],4,R).rows())"
   ]
  },
  {
   "cell_type": "code",
   "execution_count": 288,
   "metadata": {},
   "outputs": [
    {
     "name": "stdout",
     "output_type": "stream",
     "text": [
      "[y^2 - 1, x + 1] \n",
      "\n",
      "102 \n",
      "\n",
      "0 [0] True False\n",
      "1 [0] True False\n",
      "2 [x*y + y, y^2 - 1] False True\n",
      "3 [x^2*y - y, x*y^2 + 1, y^3 - y, x*y + y, y^2 - 1, x + 1] True True\n",
      "(3, [x^2*y - y, x*y^2 + 1, y^3 - y, x*y + y, y^2 - 1, x + 1]) \n",
      "\n",
      "0 [0] True False\n",
      "1 [0] True False\n",
      "2 [x*y + y, y^2 - 1] False True\n",
      "3 [x^3 + 1, x^2*y - y, x*y^2 + 1, y^3 - y, x^2 - 1, x*y + y, y^2 - 1, x + 1] True True\n",
      "(3, [x^3 + 1, x^2*y - y, x*y^2 + 1, y^3 - y, x^2 - 1, x*y + y, y^2 - 1, x + 1]) \n",
      "\n",
      "3 \n",
      "\n"
     ]
    }
   ],
   "source": [
    "# Example 4.1\n",
    "R.<x,y> = PolynomialRing(GF(103), order = \"degrevlex\")\n",
    "f1 = x*y + y\n",
    "f2 = y^2 - 1\n",
    "f3 = x^102 - 1\n",
    "I = Ideal(f1,f2,f3)\n",
    "print(I.groebner_basis(), '\\n')\n",
    "print(degree_reg(I,R), '\\n')\n",
    "print(mac_grob([f1,f2,f3],R), '\\n')\n",
    "print(sdeg([f1,f2,f3],R), '\\n')\n",
    "print(lfd([f1,f2,f3],R), '\\n')"
   ]
  },
  {
   "cell_type": "code",
   "execution_count": 291,
   "metadata": {},
   "outputs": [
    {
     "name": "stdout",
     "output_type": "stream",
     "text": [
      "[z^10 - 1, y^2 - 1, x + 1] \n",
      "\n",
      "11 \n",
      "\n",
      "0 [0] True False\n",
      "1 [0] True False\n",
      "2 [x*y + y, y^2 - 1] False False\n",
      "3 [x^2*y - y, x*y^2 + 1, y^3 - y, x*y*z + y*z, y^2*z - z, x*y + y, y^2 - 1, x + 1] True False\n",
      "4 [x^3*y + y, x^2*y^2 - 1, x*y^3 + y, y^4 - 1, x^2*y*z - y*z, x*y^2*z + z, y^3*z - y*z, x*y*z^2 + y*z^2, y^2*z^2 - z^2, x^2*y - y, x*y^2 + 1, y^3 - y, x*y*z + y*z, y^2*z - z, x^2 - 1, x*y + y, y^2 - 1, x*z + z, x + 1] True False\n",
      "5 Polynomial Sequence with 36 Polynomials in 3 Variables True False\n",
      "6 Polynomial Sequence with 60 Polynomials in 3 Variables True False\n",
      "7 Polynomial Sequence with 92 Polynomials in 3 Variables True False\n",
      "8 Polynomial Sequence with 133 Polynomials in 3 Variables True False\n",
      "9 Polynomial Sequence with 184 Polynomials in 3 Variables True False\n",
      "10 Polynomial Sequence with 247 Polynomials in 3 Variables True True\n",
      "(10, Polynomial Sequence with 247 Polynomials in 3 Variables) \n",
      "\n",
      "0 [0] True False\n",
      "1 [0] True False\n",
      "2 [x*y + y, y^2 - 1] False False\n",
      "3 [x^3 + 1, x^2*y - y, x*y^2 + 1, y^3 - y, x^2*z - z, x*y*z + y*z, y^2*z - z, x*z^2 + z^2, x^2 - 1, x*y + y, y^2 - 1, x*z + z, x + 1] True False\n",
      "4 Polynomial Sequence with 26 Polynomials in 3 Variables True False\n",
      "5 Polynomial Sequence with 45 Polynomials in 3 Variables True False\n",
      "6 Polynomial Sequence with 71 Polynomials in 3 Variables True False\n",
      "7 Polynomial Sequence with 105 Polynomials in 3 Variables True False\n",
      "8 Polynomial Sequence with 148 Polynomials in 3 Variables True False\n",
      "9 Polynomial Sequence with 201 Polynomials in 3 Variables True False\n",
      "10 Polynomial Sequence with 266 Polynomials in 3 Variables True True\n",
      "(10, Polynomial Sequence with 266 Polynomials in 3 Variables) \n",
      "\n",
      "3 \n",
      "\n"
     ]
    }
   ],
   "source": [
    "# Example 4.2\n",
    "R.<x,y,z> = PolynomialRing(GF(11), order = \"degrevlex\")\n",
    "f1 = x*y + y\n",
    "f2 = y^2 - 1\n",
    "f3 = z^10 - 1\n",
    "I = Ideal(f1,f2,f3)\n",
    "print(I.groebner_basis(), '\\n')\n",
    "print(degree_reg(I,R), '\\n')\n",
    "print(mac_grob([f1,f2,f3],R), '\\n')\n",
    "print(sdeg([f1,f2,f3],R), '\\n')\n",
    "print(lfd([f1,f2,f3],R), '\\n')"
   ]
  },
  {
   "cell_type": "code",
   "execution_count": 295,
   "metadata": {},
   "outputs": [
    {
     "name": "stdout",
     "output_type": "stream",
     "text": [
      "[x^2 - 1, y^2 - 1] \n",
      "\n",
      "3 \n",
      "\n",
      "0 [0] True False\n",
      "1 [0] True False\n",
      "2 [x^2 - 1, y^2 - 1] True True\n",
      "(2, [x^2 - 1, y^2 - 1]) \n",
      "\n",
      "0 [0] True False\n",
      "1 [0] True False\n",
      "2 [x^2 - 1, y^2 - 1] True True\n",
      "(2, [x^2 - 1, y^2 - 1]) \n",
      "\n",
      "0 \n",
      "\n"
     ]
    },
    {
     "data": {
      "text/plain": [
       "     1     0     0\n",
       "     0     2     0\n",
       "     0     0     1"
      ]
     },
     "execution_count": 295,
     "metadata": {},
     "output_type": "execute_result"
    }
   ],
   "source": [
    "# Example 4.3\n",
    "R.<x,y> = PolynomialRing(GF(11), order = \"degrevlex\")\n",
    "f1 = x^2 - 1\n",
    "f2 = y^2 - 1\n",
    "I = Ideal(f1,f2)\n",
    "print(I.groebner_basis(), '\\n')\n",
    "print(degree_reg(I,R), '\\n')\n",
    "print(mac_grob([f1,f2],R), '\\n')\n",
    "print(sdeg([f1,f2],R), '\\n')\n",
    "print(lfd([f1,f2],R), '\\n')\n",
    "I.homogenize()._singular_().mres(0).betti()"
   ]
  },
  {
   "cell_type": "code",
   "execution_count": 296,
   "metadata": {},
   "outputs": [
    {
     "name": "stdout",
     "output_type": "stream",
     "text": [
      "[w^4 - 1, z^4 - 1, y^2 - 1, x - y] \n",
      "\n",
      "9 \n",
      "\n",
      "0 [0] True False\n",
      "1 [0] True False\n",
      "2 [x^2 - 1, x*y - 1] False False\n",
      "3 [w*x^2 - w, x^3 - y, w*x*y - w, x^2*y - y, x*y^2 - y, x^2*z - z, x*y*z - z, x^2 - 1, x*y - 1, x - y] False False\n",
      "4 Polynomial Sequence with 29 Polynomials in 4 Variables True False\n",
      "5 Polynomial Sequence with 66 Polynomials in 4 Variables True False\n",
      "6 Polynomial Sequence with 130 Polynomials in 4 Variables True False\n",
      "7 Polynomial Sequence with 230 Polynomials in 4 Variables True False\n",
      "8 Polynomial Sequence with 376 Polynomials in 4 Variables False True\n",
      "9 Polynomial Sequence with 580 Polynomials in 4 Variables False True\n",
      "10 Polynomial Sequence with 853 Polynomials in 4 Variables False True\n",
      "11 Polynomial Sequence with 1206 Polynomials in 4 Variables False True\n",
      "12 Polynomial Sequence with 1652 Polynomials in 4 Variables False True\n",
      "13 Polynomial Sequence with 2204 Polynomials in 4 Variables False True\n",
      "14 Polynomial Sequence with 2876 Polynomials in 4 Variables False True\n",
      "15 Polynomial Sequence with 3684 Polynomials in 4 Variables False True\n",
      "16 Polynomial Sequence with 4645 Polynomials in 4 Variables True True\n",
      "(16, Polynomial Sequence with 4645 Polynomials in 4 Variables) \n",
      "\n",
      "0 [0] True False\n",
      "1 [0] True False\n",
      "2 [x^2 - 1, x*y - 1] False False\n",
      "3 [w^2*x - w^2*y, w*x^2 - w, x^3 - y, w*x*y - w, x^2*y - y, w*y^2 - w, x*y^2 - y, y^3 - y, w*x*z - w*y*z, x^2*z - z, x*y*z - z, y^2*z - z, x*z^2 - y*z^2, w*x - w*y, x^2 - 1, x*y - 1, y^2 - 1, x*z - y*z, x - y] True False\n",
      "4 Polynomial Sequence with 45 Polynomials in 4 Variables True False\n",
      "5 Polynomial Sequence with 91 Polynomials in 4 Variables True False\n",
      "6 Polynomial Sequence with 165 Polynomials in 4 Variables True False\n",
      "7 Polynomial Sequence with 275 Polynomials in 4 Variables True False\n",
      "8 Polynomial Sequence with 431 Polynomials in 4 Variables False True\n",
      "9 Polynomial Sequence with 683 Polynomials in 4 Variables True True\n",
      "(9, Polynomial Sequence with 683 Polynomials in 4 Variables) \n",
      "\n",
      "9 \n",
      "\n"
     ]
    },
    {
     "data": {
      "text/plain": [
       "     1     0     0     0     0\n",
       "     0     2     0     0     0\n",
       "     0     0     1     0     0\n",
       "     0     0     0     0     0\n",
       "     0     1     0     0     0\n",
       "     0     0     2     0     0\n",
       "     0     0     0     1     0\n",
       "     0     1     0     0     0\n",
       "     0     0     3     1     0\n",
       "     0     0     0     2     1\n",
       "     0     0     0     0     0\n",
       "     0     0     1     1     0\n",
       "     0     0     0     1     1"
      ]
     },
     "execution_count": 296,
     "metadata": {},
     "output_type": "execute_result"
    }
   ],
   "source": [
    "# Example 4.4\n",
    "R.<w,x,y,z> = PolynomialRing(GF(5), order = \"degrevlex\")\n",
    "f1 = x^2 - 1\n",
    "f2 = x*y - 1\n",
    "f3 = w^5 - w\n",
    "f4 = w^4*z^4 - 1\n",
    "I = Ideal(f1,f2,f3,f4)\n",
    "print(I.groebner_basis(), '\\n')\n",
    "print(degree_reg(I,R), '\\n')\n",
    "print(mac_grob([f1,f2,f3,f4],R), '\\n')\n",
    "print(sdeg([f1,f2,f3,f4],R), '\\n')\n",
    "print(lfd([f1,f2,f3,f4],R), '\\n')\n",
    "I.homogenize()._singular_().mres(0).betti()"
   ]
  },
  {
   "cell_type": "code",
   "execution_count": 298,
   "metadata": {},
   "outputs": [
    {
     "name": "stdout",
     "output_type": "stream",
     "text": [
      "[y^6 - 1, y^2*z - y^2 - x*z + y*z - 3*x + 2*y + z - 1, x^2 - y^2 + 2*y*z - 2*x + 3*y - 3*z + 3, x*y + y^2 - x*z - 2*y*z + 3*x - 3*y + 3*z - 3, z^2 + 2*x + 2*y - 2*z + 1] \n",
      "\n",
      "15 \n",
      "\n",
      "0 [0] True False\n",
      "1 [0] True False\n",
      "2 [0] True False\n",
      "3 [0] True False\n",
      "4 [0] True False\n",
      "5 [0] True False\n",
      "6 [0] True False\n",
      "7 [x^7 - x, y^7 - y, z^7 - z] True False\n",
      "8 [x^8 - x^2, x^7*y - x*y, x*y^7 - x*y, y^8 - y^2, x^7*z - x*z, y^7*z - y*z, x*z^7 - x*z, y*z^7 - y*z, z^8 - z^2, x^7 - x, y^7 - y, z^7 - z] True False\n",
      "9 Polynomial Sequence with 31 Polynomials in 3 Variables False False\n",
      "10 Polynomial Sequence with 64 Polynomials in 3 Variables False False\n",
      "11 Polynomial Sequence with 116 Polynomials in 3 Variables False False\n",
      "12 Polynomial Sequence with 194 Polynomials in 3 Variables False False\n",
      "13 Polynomial Sequence with 304 Polynomials in 3 Variables False False\n"
     ]
    },
    {
     "name": "stderr",
     "output_type": "stream",
     "text": [
      "IOStream.flush timed out\n"
     ]
    },
    {
     "name": "stdout",
     "output_type": "stream",
     "text": [
      "14 Polynomial Sequence with 450 Polynomials in 3 Variables False False\n",
      "15 Polynomial Sequence with 636 Polynomials in 3 Variables False False\n",
      "16 Polynomial Sequence with 862 Polynomials in 3 Variables False False\n",
      "17 Polynomial Sequence with 1102 Polynomials in 3 Variables False False\n",
      "18 Polynomial Sequence with 1304 Polynomials in 3 Variables False True\n",
      "19 Polynomial Sequence with 1521 Polynomials in 3 Variables False True\n",
      "20 Polynomial Sequence with 1757 Polynomials in 3 Variables False True\n",
      "21 Polynomial Sequence with 2013 Polynomials in 3 Variables False True\n",
      "22 Polynomial Sequence with 2290 Polynomials in 3 Variables True True\n",
      "(22, Polynomial Sequence with 2290 Polynomials in 3 Variables) \n",
      "\n",
      "0 [0] True False\n",
      "1 [0] True False\n",
      "2 [0] True False\n",
      "3 [0] True False\n",
      "4 [0] True False\n",
      "5 [0] True False\n",
      "6 [0] True False\n",
      "7 [x^7 - x, y^7 - y, z^7 - z] True False\n",
      "8 [x^8 - x^2, x^7*y - x*y, x*y^7 - x*y, y^8 - y^2, x^7*z - x*z, y^7*z - y*z, x*z^7 - x*z, y*z^7 - y*z, z^8 - z^2, x^7 - x, y^7 - y, z^7 - z] True False\n",
      "9 Polynomial Sequence with 31 Polynomials in 3 Variables False False\n",
      "10 Polynomial Sequence with 64 Polynomials in 3 Variables False False\n",
      "11 Polynomial Sequence with 119 Polynomials in 3 Variables False False\n",
      "12 Polynomial Sequence with 399 Polynomials in 3 Variables True False\n",
      "13 Polynomial Sequence with 504 Polynomials in 3 Variables True False\n",
      "14 Polynomial Sequence with 624 Polynomials in 3 Variables True False\n",
      "15 Polynomial Sequence with 801 Polynomials in 3 Variables True False\n",
      "16 Polynomial Sequence with 954 Polynomials in 3 Variables True False\n",
      "17 Polynomial Sequence with 1125 Polynomials in 3 Variables True False\n",
      "18 Polynomial Sequence with 1320 Polynomials in 3 Variables True True\n",
      "(18, Polynomial Sequence with 1320 Polynomials in 3 Variables) \n",
      "\n",
      "18 \n",
      "\n"
     ]
    },
    {
     "data": {
      "text/plain": [
       "     1     0     0     0     0\n",
       "     0     0     0     0     0\n",
       "     0     0     0     0     0\n",
       "     0     0     0     0     0\n",
       "     0     0     0     0     0\n",
       "     0     0     0     0     0\n",
       "     0     3     0     0     0\n",
       "     0     0     0     0     0\n",
       "     0     1     0     0     0\n",
       "     0     0     0     0     0\n",
       "     0     1     0     0     0\n",
       "     0     2     2     0     0\n",
       "     0     1     4     0     0\n",
       "     0     2     4     0     0\n",
       "     0     4     6     1     0\n",
       "     0     2    29     4     0\n",
       "     0     2    33   116    61\n",
       "     0     3    11    15     6\n",
       "     0     0     3     5     2\n",
       "     0     0     2     2     0\n",
       "     0     0     0     1     0\n",
       "     0     0     0     0     1"
      ]
     },
     "execution_count": 298,
     "metadata": {},
     "output_type": "execute_result"
    }
   ],
   "source": [
    "# Example from Minko's Thesis\n",
    "R.<x,y,z> = PolynomialRing(GF(7), order = 'degrevlex')\n",
    "f1 = x^5 + y^5 + z^5 - 1\n",
    "f2 = x^3 + y^3 + z^2 - 1\n",
    "f3 = y^6 - 1\n",
    "f4 = z^6 - 1\n",
    "f_list = [f1*f1*f1, f1*f1*f2, f1*f1*f3, f1*f1*f4, f1*f2*f2, f1*f2*f3, f1*f2*f4, f1*f3*f3, f1*f3*f4, f1*f4*f4, f2*f2*f2, f2*f2*f3, f2*f2*f4, f2*f3*f3, f2*f3*f4, f2*f4*f4, f3*f3*f3, f3*f3*f4, f3*f4*f4, f4*f4*f4, x^7 - x, y^7 - y, z^7 - z]\n",
    "I = Ideal(f_list)\n",
    "print(I.groebner_basis(), '\\n')\n",
    "print(degree_reg(I,R), '\\n')\n",
    "print(mac_grob(f_list,R), '\\n')\n",
    "print(sdeg(f_list,R), '\\n')\n",
    "print(lfd(f_list,R), '\\n')\n",
    "I.homogenize()._singular_().mres(0).betti()"
   ]
  },
  {
   "cell_type": "code",
   "execution_count": 572,
   "metadata": {},
   "outputs": [
    {
     "data": {
      "text/plain": [
       "[x^2, x*y, y^2, y*z + x]"
      ]
     },
     "execution_count": 572,
     "metadata": {},
     "output_type": "execute_result"
    }
   ],
   "source": [
    "R.<x,y,z> = PolynomialRing(QQ, order = 'degrevlex')\n",
    "f1 = y^2\n",
    "f2 = y*z + x\n",
    "I = Ideal(f1,f2)\n",
    "I.groebner_basis()"
   ]
  },
  {
   "cell_type": "code",
   "execution_count": 543,
   "metadata": {},
   "outputs": [
    {
     "name": "stdout",
     "output_type": "stream",
     "text": [
      "0 [0] True False\n",
      "1 [0] True False\n",
      "2 [y^2, y*z + x] False True\n",
      "3 [x*y^2, y^3, x*y*z + x^2, y^2*z, y*z^2 + x*z, x*y, y^2, y*z + x] False True\n",
      "4 [x^2*y^2, x*y^3, y^4, x^2*y*z + x^3, x*y^2*z, y^3*z, x*y*z^2 + x^2*z, y^2*z^2, y*z^3 + x*z^2, x^2*y, x*y^2, y^3, x*y*z, y^2*z, y*z^2 + x*z, x^2, x*y, y^2, y*z + x] True True\n"
     ]
    },
    {
     "data": {
      "text/plain": [
       "(4,\n",
       " [x^2*y^2, x*y^3, y^4, x^2*y*z + x^3, x*y^2*z, y^3*z, x*y*z^2 + x^2*z, y^2*z^2, y*z^3 + x*z^2, x^2*y, x*y^2, y^3, x*y*z, y^2*z, y*z^2 + x*z, x^2, x*y, y^2, y*z + x])"
      ]
     },
     "execution_count": 543,
     "metadata": {},
     "output_type": "execute_result"
    }
   ],
   "source": [
    "mac_grob([f1,f2],R)"
   ]
  },
  {
   "cell_type": "code",
   "execution_count": 567,
   "metadata": {},
   "outputs": [
    {
     "data": {
      "text/plain": [
       "False"
      ]
     },
     "execution_count": 567,
     "metadata": {},
     "output_type": "execute_result"
    }
   ],
   "source": [
    "S.<x,y,z,h> = PolynomialRing(QQ, order = \"degrevlex\")\n",
    "f1 = y*z + x*h\n",
    "f2 = y^2\n",
    "K = ideal(f1,f2)\n",
    "M = ideal(x,y,z,h)\n",
    "J = K.saturation(M)\n",
    "h in J"
   ]
  },
  {
   "cell_type": "code",
   "execution_count": 544,
   "metadata": {},
   "outputs": [
    {
     "data": {
      "text/plain": [
       "     1     0     0\n",
       "     0     2     0\n",
       "     0     0     1"
      ]
     },
     "execution_count": 544,
     "metadata": {},
     "output_type": "execute_result"
    }
   ],
   "source": [
    "I.homogenize()._singular_().mres(0).betti()"
   ]
  },
  {
   "cell_type": "code",
   "execution_count": 545,
   "metadata": {},
   "outputs": [
    {
     "data": {
      "text/plain": [
       "1"
      ]
     },
     "execution_count": 545,
     "metadata": {},
     "output_type": "execute_result"
    }
   ],
   "source": [
    "degree_reg(I,R)"
   ]
  },
  {
   "cell_type": "code",
   "execution_count": 577,
   "metadata": {},
   "outputs": [
    {
     "name": "stdout",
     "output_type": "stream",
     "text": [
      "[]\n",
      "\n",
      "[]\n",
      "\n",
      "0 [0] True False\n",
      "[]\n",
      "\n",
      "[]\n",
      "\n",
      "1 [0] True False\n",
      "[0 0 1 0 0 0 0 0 0 0]\n",
      "[0 0 0 0 1 0 1 0 0 0]\n",
      "\n",
      "[0 0 1 0 0 0 0 0 0 0]\n",
      "[0 0 0 0 1 0 1 0 0 0]\n",
      "\n",
      "2 [y^2, y*z + x] False True\n",
      "[0 0 0 0 0 0 0 0 0 0 0 0 1 0 0 0 0 0 0 0]\n",
      "[0 0 0 0 0 0 0 0 0 0 0 0 0 0 1 0 1 0 0 0]\n",
      "[0 0 1 0 0 0 0 0 0 0 0 0 0 0 0 0 0 0 0 0]\n",
      "[0 0 0 1 0 0 0 0 0 0 0 0 0 0 0 0 0 0 0 0]\n",
      "[0 0 0 0 0 0 1 0 0 0 0 0 0 0 0 0 0 0 0 0]\n",
      "[0 0 0 0 0 1 0 0 0 0 1 0 0 0 0 0 0 0 0 0]\n",
      "[0 0 0 0 0 0 1 0 0 0 0 1 0 0 0 0 0 0 0 0]\n",
      "[0 0 0 0 0 0 0 0 1 0 0 0 0 1 0 0 0 0 0 0]\n",
      "\n",
      "[0 0 1 0 0 0 0 0 0 0 0 0 0 0 0 0 0 0 0 0]\n",
      "[0 0 0 1 0 0 0 0 0 0 0 0 0 0 0 0 0 0 0 0]\n",
      "[0 0 0 0 0 1 0 0 0 0 1 0 0 0 0 0 0 0 0 0]\n",
      "[0 0 0 0 0 0 1 0 0 0 0 0 0 0 0 0 0 0 0 0]\n",
      "[0 0 0 0 0 0 0 0 1 0 0 0 0 1 0 0 0 0 0 0]\n",
      "[0 0 0 0 0 0 0 0 0 0 0 1 0 0 0 0 0 0 0 0]\n",
      "[0 0 0 0 0 0 0 0 0 0 0 0 1 0 0 0 0 0 0 0]\n",
      "[0 0 0 0 0 0 0 0 0 0 0 0 0 0 1 0 1 0 0 0]\n",
      "\n",
      "[0 0 0 0 0 0 0 0 0 0 0 0 1 0 0 0 0 0 0 0]\n",
      "[0 0 0 0 0 0 0 0 0 0 0 0 0 0 1 0 1 0 0 0]\n",
      "[0 0 1 0 0 0 0 0 0 0 0 0 0 0 0 0 0 0 0 0]\n",
      "[0 0 0 1 0 0 0 0 0 0 0 0 0 0 0 0 0 0 0 0]\n",
      "[0 0 0 0 0 0 1 0 0 0 0 0 0 0 0 0 0 0 0 0]\n",
      "[0 0 0 0 0 1 0 0 0 0 1 0 0 0 0 0 0 0 0 0]\n",
      "[0 0 0 0 0 0 1 0 0 0 0 1 0 0 0 0 0 0 0 0]\n",
      "[0 0 0 0 0 0 0 0 1 0 0 0 0 1 0 0 0 0 0 0]\n",
      "[0 1 0 0 0 0 0 0 0 0 0 0 0 0 0 0 0 0 0 0]\n",
      "[0 0 0 0 0 1 0 0 0 0 0 0 0 0 0 0 0 0 0 0]\n",
      "\n",
      "[0 1 0 0 0 0 0 0 0 0 0 0 0 0 0 0 0 0 0 0]\n",
      "[0 0 1 0 0 0 0 0 0 0 0 0 0 0 0 0 0 0 0 0]\n",
      "[0 0 0 1 0 0 0 0 0 0 0 0 0 0 0 0 0 0 0 0]\n",
      "[0 0 0 0 0 1 0 0 0 0 0 0 0 0 0 0 0 0 0 0]\n",
      "[0 0 0 0 0 0 1 0 0 0 0 0 0 0 0 0 0 0 0 0]\n",
      "[0 0 0 0 0 0 0 0 1 0 0 0 0 1 0 0 0 0 0 0]\n",
      "[0 0 0 0 0 0 0 0 0 0 1 0 0 0 0 0 0 0 0 0]\n",
      "[0 0 0 0 0 0 0 0 0 0 0 1 0 0 0 0 0 0 0 0]\n",
      "[0 0 0 0 0 0 0 0 0 0 0 0 1 0 0 0 0 0 0 0]\n",
      "[0 0 0 0 0 0 0 0 0 0 0 0 0 0 1 0 1 0 0 0]\n",
      "\n",
      "[0 0 0 0 0 0 0 0 0 0 0 0 1 0 0 0 0 0 0 0]\n",
      "[0 0 0 0 0 0 0 0 0 0 0 0 0 0 1 0 1 0 0 0]\n",
      "[0 0 1 0 0 0 0 0 0 0 0 0 0 0 0 0 0 0 0 0]\n",
      "[0 0 0 1 0 0 0 0 0 0 0 0 0 0 0 0 0 0 0 0]\n",
      "[0 0 0 0 0 0 1 0 0 0 0 0 0 0 0 0 0 0 0 0]\n",
      "[0 0 0 0 0 1 0 0 0 0 1 0 0 0 0 0 0 0 0 0]\n",
      "[0 0 0 0 0 0 1 0 0 0 0 1 0 0 0 0 0 0 0 0]\n",
      "[0 0 0 0 0 0 0 0 1 0 0 0 0 1 0 0 0 0 0 0]\n",
      "[0 1 0 0 0 0 0 0 0 0 0 0 0 0 0 0 0 0 0 0]\n",
      "[0 0 0 0 0 1 0 0 0 0 0 0 0 0 0 0 0 0 0 0]\n",
      "[1 0 0 0 0 0 0 0 0 0 0 0 0 0 0 0 0 0 0 0]\n",
      "[0 0 0 0 1 0 0 0 0 0 0 0 0 0 0 0 0 0 0 0]\n",
      "\n",
      "[1 0 0 0 0 0 0 0 0 0 0 0 0 0 0 0 0 0 0 0]\n",
      "[0 1 0 0 0 0 0 0 0 0 0 0 0 0 0 0 0 0 0 0]\n",
      "[0 0 1 0 0 0 0 0 0 0 0 0 0 0 0 0 0 0 0 0]\n",
      "[0 0 0 1 0 0 0 0 0 0 0 0 0 0 0 0 0 0 0 0]\n",
      "[0 0 0 0 1 0 0 0 0 0 0 0 0 0 0 0 0 0 0 0]\n",
      "[0 0 0 0 0 1 0 0 0 0 0 0 0 0 0 0 0 0 0 0]\n",
      "[0 0 0 0 0 0 1 0 0 0 0 0 0 0 0 0 0 0 0 0]\n",
      "[0 0 0 0 0 0 0 0 1 0 0 0 0 1 0 0 0 0 0 0]\n",
      "[0 0 0 0 0 0 0 0 0 0 1 0 0 0 0 0 0 0 0 0]\n",
      "[0 0 0 0 0 0 0 0 0 0 0 1 0 0 0 0 0 0 0 0]\n",
      "[0 0 0 0 0 0 0 0 0 0 0 0 1 0 0 0 0 0 0 0]\n",
      "[0 0 0 0 0 0 0 0 0 0 0 0 0 0 1 0 1 0 0 0]\n",
      "\n",
      "3 [x^3, x^2*y, x*y^2, y^3, x^2*z, x*y*z, y^2*z, y*z^2 + x*z, x^2, x*y, y^2, y*z + x] True True\n"
     ]
    },
    {
     "data": {
      "text/plain": [
       "(3,\n",
       " [x^3, x^2*y, x*y^2, y^3, x^2*z, x*y*z, y^2*z, y*z^2 + x*z, x^2, x*y, y^2, y*z + x])"
      ]
     },
     "execution_count": 577,
     "metadata": {},
     "output_type": "execute_result"
    }
   ],
   "source": [
    "sdeg([f1,f2],R)"
   ]
  },
  {
   "cell_type": "code",
   "execution_count": 548,
   "metadata": {},
   "outputs": [
    {
     "name": "stdout",
     "output_type": "stream",
     "text": [
      "[x^2, x*y, y^2, y*z + x]\n",
      "\n",
      "\n",
      "x^2\n",
      "2 19:21:27\n",
      "3 19:21:27\n",
      "\n",
      "\n",
      "x*y\n",
      "2 19:21:27\n",
      "3 19:21:27\n",
      "\n",
      "\n",
      "y^2\n",
      "2 19:21:27\n",
      "\n",
      "\n",
      "y*z + x\n",
      "2 19:21:27\n"
     ]
    },
    {
     "data": {
      "text/plain": [
       "3"
      ]
     },
     "execution_count": 548,
     "metadata": {},
     "output_type": "execute_result"
    }
   ],
   "source": [
    "lfd([f1,f2],R)"
   ]
  },
  {
   "cell_type": "code",
   "execution_count": 554,
   "metadata": {},
   "outputs": [
    {
     "data": {
      "text/plain": [
       "[0 0 0 0 0 0 0 0 0 0 0 0 1 0 0 0 0 0 0 0]\n",
       "[0 0 0 0 0 0 0 0 0 0 0 0 0 0 1 0 1 0 0 0]\n",
       "[0 0 1 0 0 0 0 0 0 0 0 0 0 0 0 0 0 0 0 0]\n",
       "[0 0 0 1 0 0 0 0 0 0 0 0 0 0 0 0 0 0 0 0]\n",
       "[0 0 0 0 0 0 1 0 0 0 0 0 0 0 0 0 0 0 0 0]\n",
       "[0 0 0 0 0 1 0 0 0 0 1 0 0 0 0 0 0 0 0 0]\n",
       "[0 0 0 0 0 0 1 0 0 0 0 1 0 0 0 0 0 0 0 0]\n",
       "[0 0 0 0 0 0 0 0 1 0 0 0 0 1 0 0 0 0 0 0]"
      ]
     },
     "execution_count": 554,
     "metadata": {},
     "output_type": "execute_result"
    }
   ],
   "source": [
    "mac_matrix([f1,f2],3,R)"
   ]
  },
  {
   "cell_type": "code",
   "execution_count": 553,
   "metadata": {},
   "outputs": [
    {
     "data": {
      "text/plain": [
       "False"
      ]
     },
     "execution_count": 553,
     "metadata": {},
     "output_type": "execute_result"
    }
   ],
   "source": [
    "vector([0,0,0,0,0,0,0,0,0,0,1,0,0,0,0,0,0,0,0,0]) in M.row_space()"
   ]
  },
  {
   "cell_type": "code",
   "execution_count": 555,
   "metadata": {},
   "outputs": [
    {
     "data": {
      "text/plain": [
       "[0 0 1 0 0 0 0 0 0 0 0 0 0 0 0 0 0 0 0 0]\n",
       "[0 0 0 1 0 0 0 0 0 0 0 0 0 0 0 0 0 0 0 0]\n",
       "[0 0 0 0 0 1 0 0 0 0 1 0 0 0 0 0 0 0 0 0]\n",
       "[0 0 0 0 0 0 1 0 0 0 0 0 0 0 0 0 0 0 0 0]\n",
       "[0 0 0 0 0 0 0 0 1 0 0 0 0 1 0 0 0 0 0 0]\n",
       "[0 0 0 0 0 0 0 0 0 0 0 1 0 0 0 0 0 0 0 0]\n",
       "[0 0 0 0 0 0 0 0 0 0 0 0 1 0 0 0 0 0 0 0]\n",
       "[0 0 0 0 0 0 0 0 0 0 0 0 0 0 1 0 1 0 0 0]"
      ]
     },
     "execution_count": 555,
     "metadata": {},
     "output_type": "execute_result"
    }
   ],
   "source": [
    "mac_matrix([f1,f2],3,R).rref()"
   ]
  },
  {
   "cell_type": "code",
   "execution_count": 556,
   "metadata": {},
   "outputs": [
    {
     "data": {
      "text/plain": [
       "[x^3,\n",
       " x^2*y,\n",
       " x*y^2,\n",
       " y^3,\n",
       " x^2*z,\n",
       " x*y*z,\n",
       " y^2*z,\n",
       " x*z^2,\n",
       " y*z^2,\n",
       " z^3,\n",
       " x^2,\n",
       " x*y,\n",
       " y^2,\n",
       " x*z,\n",
       " y*z,\n",
       " z^2,\n",
       " x,\n",
       " y,\n",
       " z,\n",
       " 1]"
      ]
     },
     "execution_count": 556,
     "metadata": {},
     "output_type": "execute_result"
    }
   ],
   "source": [
    "get_mons(3,R)"
   ]
  },
  {
   "cell_type": "code",
   "execution_count": 562,
   "metadata": {},
   "outputs": [
    {
     "name": "stdout",
     "output_type": "stream",
     "text": [
      "[0 0 0 0 0 0 0 0 0 0 0 0 0 0 0 0 0 0 0 0 0 0 0 0 0 0 0 1 0 0 0 0 0 0 0]\n",
      "[0 0 0 0 0 0 0 0 0 0 0 0 0 0 0 0 0 0 0 0 0 0 0 0 0 0 0 0 0 1 0 1 0 0 0]\n",
      "[0 0 0 0 0 0 0 0 0 0 0 0 0 0 0 0 0 1 0 0 0 0 0 0 0 0 0 0 0 0 0 0 0 0 0]\n",
      "[0 0 0 0 0 0 0 0 0 0 0 0 0 0 0 0 0 0 1 0 0 0 0 0 0 0 0 0 0 0 0 0 0 0 0]\n",
      "[0 0 0 0 0 0 0 0 0 0 0 0 0 0 0 0 0 0 0 0 0 1 0 0 0 0 0 0 0 0 0 0 0 0 0]\n",
      "[0 0 0 0 0 0 0 0 0 0 0 0 0 0 0 0 0 0 0 0 1 0 0 0 0 1 0 0 0 0 0 0 0 0 0]\n",
      "[0 0 0 0 0 0 0 0 0 0 0 0 0 0 0 0 0 0 0 0 0 1 0 0 0 0 1 0 0 0 0 0 0 0 0]\n",
      "[0 0 0 0 0 0 0 0 0 0 0 0 0 0 0 0 0 0 0 0 0 0 0 1 0 0 0 0 1 0 0 0 0 0 0]\n",
      "[0 0 1 0 0 0 0 0 0 0 0 0 0 0 0 0 0 0 0 0 0 0 0 0 0 0 0 0 0 0 0 0 0 0 0]\n",
      "[0 0 0 1 0 0 0 0 0 0 0 0 0 0 0 0 0 0 0 0 0 0 0 0 0 0 0 0 0 0 0 0 0 0 0]\n",
      "[0 0 0 0 1 0 0 0 0 0 0 0 0 0 0 0 0 0 0 0 0 0 0 0 0 0 0 0 0 0 0 0 0 0 0]\n",
      "[0 0 0 0 0 0 0 1 0 0 0 0 0 0 0 0 0 0 0 0 0 0 0 0 0 0 0 0 0 0 0 0 0 0 0]\n",
      "[0 0 0 0 0 0 0 0 1 0 0 0 0 0 0 0 0 0 0 0 0 0 0 0 0 0 0 0 0 0 0 0 0 0 0]\n",
      "[0 0 0 0 0 0 0 0 0 0 0 1 0 0 0 0 0 0 0 0 0 0 0 0 0 0 0 0 0 0 0 0 0 0 0]\n",
      "[0 0 0 0 0 0 1 0 0 0 0 0 0 0 0 1 0 0 0 0 0 0 0 0 0 0 0 0 0 0 0 0 0 0 0]\n",
      "[0 0 0 0 0 0 0 1 0 0 0 0 0 0 0 0 1 0 0 0 0 0 0 0 0 0 0 0 0 0 0 0 0 0 0]\n",
      "[0 0 0 0 0 0 0 0 1 0 0 0 0 0 0 0 0 1 0 0 0 0 0 0 0 0 0 0 0 0 0 0 0 0 0]\n",
      "[0 0 0 0 0 0 0 0 0 0 1 0 0 0 0 0 0 0 0 1 0 0 0 0 0 0 0 0 0 0 0 0 0 0 0]\n",
      "[0 0 0 0 0 0 0 0 0 0 0 1 0 0 0 0 0 0 0 0 1 0 0 0 0 0 0 0 0 0 0 0 0 0 0]\n",
      "[0 0 0 0 0 0 0 0 0 0 0 0 0 1 0 0 0 0 0 0 0 0 1 0 0 0 0 0 0 0 0 0 0 0 0]\n"
     ]
    }
   ],
   "source": [
    "print(mac_matrix([f1,f2],4,R).str())"
   ]
  },
  {
   "cell_type": "code",
   "execution_count": 560,
   "metadata": {},
   "outputs": [
    {
     "data": {
      "text/plain": [
       "[x^4,\n",
       " x^3*y,\n",
       " x^2*y^2,\n",
       " x*y^3,\n",
       " y^4,\n",
       " x^3*z,\n",
       " x^2*y*z,\n",
       " x*y^2*z,\n",
       " y^3*z,\n",
       " x^2*z^2,\n",
       " x*y*z^2,\n",
       " y^2*z^2,\n",
       " x*z^3,\n",
       " y*z^3,\n",
       " z^4,\n",
       " x^3,\n",
       " x^2*y,\n",
       " x*y^2,\n",
       " y^3,\n",
       " x^2*z,\n",
       " x*y*z,\n",
       " y^2*z,\n",
       " x*z^2,\n",
       " y*z^2,\n",
       " z^3,\n",
       " x^2,\n",
       " x*y,\n",
       " y^2,\n",
       " x*z,\n",
       " y*z,\n",
       " z^2,\n",
       " x,\n",
       " y,\n",
       " z,\n",
       " 1]"
      ]
     },
     "execution_count": 560,
     "metadata": {},
     "output_type": "execute_result"
    }
   ],
   "source": [
    "get_mons(4,R)"
   ]
  },
  {
   "cell_type": "code",
   "execution_count": 585,
   "metadata": {},
   "outputs": [
    {
     "data": {
      "text/plain": [
       "[x2^3 - x2, x2^2*x3 - x3, x3^2 - x2, x1 - x2]"
      ]
     },
     "execution_count": 585,
     "metadata": {},
     "output_type": "execute_result"
    }
   ],
   "source": [
    "# This is Example 5 in Caminata and Gorla, with the field equations\n",
    "\n",
    "S.<x1,x2,x3> = PolynomialRing(GF(5), order = \"degrevlex\")\n",
    "f1 = x3^2 - x2\n",
    "f2 = x2^3 - x1\n",
    "f3 = x1^5 - x1\n",
    "f4 = x2^5 - x2\n",
    "f5 = x3^5 - x3\n",
    "I = ideal(f1,f2,f3,f4,f5)\n",
    "I.groebner_basis()"
   ]
  },
  {
   "cell_type": "code",
   "execution_count": 586,
   "metadata": {},
   "outputs": [
    {
     "name": "stdout",
     "output_type": "stream",
     "text": [
      "0 [0] True False\n",
      "1 [0] True False\n",
      "2 [x3^2 - x2] True False\n",
      "3 [x2^3 - x1, x1*x3^2 - x1*x2, x2*x3^2 - x2^2, x3^3 - x2*x3, x3^2 - x2] True False\n",
      "4 [x1*x2^3 - x1^2, x2^4 - x1*x2, x2^3*x3 - x1*x3, x1^2*x3^2 - x1^2*x2, x1*x2*x3^2 - x1*x2^2, x2^2*x3^2 - x1, x1*x3^3 - x1*x2*x3, x2*x3^3 - x2^2*x3, x3^4 - x2^2, x2^3 - x1, x1*x3^2 - x1*x2, x2*x3^2 - x2^2, x3^3 - x2*x3, x3^2 - x2] True False\n",
      "5 Polynomial Sequence with 32 Polynomials in 3 Variables False True\n",
      "6 Polynomial Sequence with 62 Polynomials in 3 Variables True True\n"
     ]
    },
    {
     "data": {
      "text/plain": [
       "(6, Polynomial Sequence with 62 Polynomials in 3 Variables)"
      ]
     },
     "execution_count": 586,
     "metadata": {},
     "output_type": "execute_result"
    }
   ],
   "source": [
    "mac_grob([f1,f2,f3,f4,f5],S)"
   ]
  },
  {
   "cell_type": "code",
   "execution_count": 587,
   "metadata": {},
   "outputs": [
    {
     "name": "stdout",
     "output_type": "stream",
     "text": [
      "0 [0] True False\n",
      "1 [0] True False\n",
      "2 [x3^2 - x2] True False\n",
      "3 [x2^3 - x1, x1*x3^2 - x1*x2, x2*x3^2 - x2^2, x3^3 - x2*x3, x3^2 - x2] True False\n",
      "4 [x1*x2^3 - x1^2, x2^4 - x1*x2, x2^3*x3 - x1*x3, x1^2*x3^2 - x1^2*x2, x1*x2*x3^2 - x1*x2^2, x2^2*x3^2 - x1, x1*x3^3 - x1*x2*x3, x2*x3^3 - x2^2*x3, x3^4 - x2^2, x2^3 - x1, x1*x3^2 - x1*x2, x2*x3^2 - x2^2, x3^3 - x2*x3, x3^2 - x2] True False\n",
      "5 Polynomial Sequence with 51 Polynomials in 3 Variables True True\n"
     ]
    },
    {
     "data": {
      "text/plain": [
       "(5, Polynomial Sequence with 51 Polynomials in 3 Variables)"
      ]
     },
     "execution_count": 587,
     "metadata": {},
     "output_type": "execute_result"
    }
   ],
   "source": [
    "sdeg([f1,f2,f3,f4,f5],S)"
   ]
  },
  {
   "cell_type": "code",
   "execution_count": 588,
   "metadata": {},
   "outputs": [
    {
     "data": {
      "text/plain": [
       "[x2^3 - x1, x3^2 - x2]"
      ]
     },
     "execution_count": 588,
     "metadata": {},
     "output_type": "execute_result"
    }
   ],
   "source": [
    "J = ideal(f1,f2)\n",
    "J.groebner_basis()"
   ]
  },
  {
   "cell_type": "code",
   "execution_count": 592,
   "metadata": {},
   "outputs": [
    {
     "name": "stdout",
     "output_type": "stream",
     "text": [
      "0 [0] True False\n",
      "1 [0] True False\n",
      "2 [x3^2 - x2] True False\n",
      "3 [x2^3 - x1, x1*x3^2 - x1*x2, x2*x3^2 - x2^2, x3^3 - x2*x3, x3^2 - x2] True True\n"
     ]
    },
    {
     "data": {
      "text/plain": [
       "(3, [x2^3 - x1, x1*x3^2 - x1*x2, x2*x3^2 - x2^2, x3^3 - x2*x3, x3^2 - x2])"
      ]
     },
     "execution_count": 592,
     "metadata": {},
     "output_type": "execute_result"
    }
   ],
   "source": [
    "mac_grob([f1,f2],S)"
   ]
  },
  {
   "cell_type": "code",
   "execution_count": 593,
   "metadata": {},
   "outputs": [
    {
     "name": "stdout",
     "output_type": "stream",
     "text": [
      "0 [0] True False\n",
      "1 [0] True False\n",
      "2 [x3^2 - x2] True False\n",
      "3 [x2^3 - x1, x1*x3^2 - x1*x2, x2*x3^2 - x2^2, x3^3 - x2*x3, x3^2 - x2] True True\n"
     ]
    },
    {
     "data": {
      "text/plain": [
       "(3, [x2^3 - x1, x1*x3^2 - x1*x2, x2*x3^2 - x2^2, x3^3 - x2*x3, x3^2 - x2])"
      ]
     },
     "execution_count": 593,
     "metadata": {},
     "output_type": "execute_result"
    }
   ],
   "source": [
    "sdeg([f1,f2],S)"
   ]
  },
  {
   "cell_type": "code",
   "execution_count": 615,
   "metadata": {},
   "outputs": [],
   "source": [
    "# Example from Minko's Thesis\n",
    "R.<x,y,z> = PolynomialRing(GF(7), order = 'degrevlex')\n",
    "f1 = x^5 + y^5 + z^5 - 1\n",
    "f2 = x^3 + y^3 + z^2 - 1\n",
    "f3 = y^6 - 1\n",
    "f4 = z^6 - 1\n",
    "f_list = [f1*f1*f1, f1*f1*f2, f1*f1*f3, f1*f1*f4, f1*f2*f2, f1*f2*f3, f1*f2*f4, f1*f3*f3, f1*f3*f4, f1*f4*f4, f2*f2*f2, f2*f2*f3, f2*f2*f4, f2*f3*f3, f2*f3*f4, f2*f4*f4, f3*f3*f3, f3*f3*f4, f3*f4*f4, f4*f4*f4, x^7 - x, y^7 - y, z^7 - z]\n",
    "h_list = [p.homogenize() for p in f_list]\n",
    "Fh = ideal(h_list)\n",
    "in_grob = [p.lt() for p in Fh.groebner_basis()]\n",
    "intl_Fh = ideal(in_grob)"
   ]
  },
  {
   "cell_type": "code",
   "execution_count": 619,
   "metadata": {},
   "outputs": [
    {
     "data": {
      "text/plain": [
       "22"
      ]
     },
     "execution_count": 619,
     "metadata": {},
     "output_type": "execute_result"
    },
    {
     "name": "stderr",
     "output_type": "stream",
     "text": [
      "IOStream.flush timed out\n"
     ]
    }
   ],
   "source": [
    "len(ideal(in_grob)._singular_().mres(0).betti())/5"
   ]
  },
  {
   "cell_type": "code",
   "execution_count": 621,
   "metadata": {},
   "outputs": [
    {
     "data": {
      "text/plain": [
       "Polynomial Sequence with 213 Polynomials in 4 Variables"
      ]
     },
     "execution_count": 621,
     "metadata": {},
     "output_type": "execute_result"
    }
   ],
   "source": []
  },
  {
   "cell_type": "code",
   "execution_count": 624,
   "metadata": {},
   "outputs": [
    {
     "data": {
      "text/plain": [
       "20"
      ]
     },
     "execution_count": 624,
     "metadata": {},
     "output_type": "execute_result"
    }
   ],
   "source": [
    "S.<w,x,y,z,h> = PolynomialRing(QQ, order = \"degrevlex\")\n",
    "f1 = x^2 - x\n",
    "f2 = x*y - 1\n",
    "f3 = w^6 - w\n",
    "f4 = w^5*z^5 - 1\n",
    "h_list = [f.homogenize() for f in [f1,f2,f3,f4]]\n",
    "Fh = ideal(h_list)\n",
    "in_list = [f.lt() for f in Fh.groebner_basis()]\n",
    "len(ideal(in_list)._singular_().mres(0).betti())/6"
   ]
  },
  {
   "cell_type": "code",
   "execution_count": 626,
   "metadata": {},
   "outputs": [
    {
     "data": {
      "text/plain": [
       "15"
      ]
     },
     "execution_count": 626,
     "metadata": {},
     "output_type": "execute_result"
    }
   ],
   "source": [
    "len(ideal(h_list)._singular_().mres(0).betti())/5"
   ]
  },
  {
   "cell_type": "code",
   "execution_count": 659,
   "metadata": {},
   "outputs": [
    {
     "data": {
      "text/plain": [
       "0"
      ]
     },
     "execution_count": 659,
     "metadata": {},
     "output_type": "execute_result"
    }
   ],
   "source": [
    "# Example from Minko's Thesis\n",
    "R.<x,y,z> = PolynomialRing(GF(7), order = 'lex')\n",
    "f1 = x^5 + y^5 + z^5 - 1\n",
    "f2 = x^3 + y^3 + z^2 - 1\n",
    "f3 = y^6 - 1\n",
    "f4 = z^6 - 1\n",
    "f_list = [f1*f1*f1, f1*f1*f2, f1*f1*f3, f1*f1*f4, f1*f2*f2, f1*f2*f3, f1*f2*f4, f1*f3*f3, f1*f3*f4, f1*f4*f4, f2*f2*f2, f2*f2*f3, f2*f2*f4, f2*f3*f3, f2*f3*f4, f2*f4*f4, f3*f3*f3, f3*f3*f4, f3*f4*f4, f4*f4*f4, x^7 - x, y^7 - y, z^7 - z]\n",
    "h_list = [p.homogenize() for p in f_list]\n",
    "Fh = ideal(h_list)\n",
    "ideal(f_list).dimension()"
   ]
  },
  {
   "cell_type": "code",
   "execution_count": 664,
   "metadata": {},
   "outputs": [
    {
     "name": "stdout",
     "output_type": "stream",
     "text": [
      "x^7 - x*h^6\n",
      "x^6*y^3 + x^6*z^2*h - x^6*h^3 + x^3*y^6 + 2*x^3*y^3*z^2*h - 2*x^3*y^3*h^3 + x^3*z^4*h^2 - 2*x^3*z^2*h^4 - x^3*h^6 + y^6*z^2*h - y^6*h^3 + y^3*z^4*h^2 - 2*y^3*z^2*h^4 - y^3*h^6 - 2*z^6*h^3 - z^4*h^5 + z^2*h^7 + 2*h^9\n",
      "x^6*y^2*z^2*h - x^6*y^2*h^3 - x^6*z^5 + x^6*h^5 - 3*x^5*h^6 - 2*x^3*y^3*z^5 + 2*x^3*y^3*h^5 + x^3*y^2*z^4*h^2 - 2*x^3*y^2*z^2*h^4 - 2*x^3*y^2*h^6 + 2*x^3*z^5*h^3 + 2*x^3*z^2*h^6 - 2*x^3*z*h^7 - 2*x^3*h^8 + x^2*y^6*z^2*h - x^2*y^6*h^3 + x^2*y^3*z^4*h^2 - 2*x^2*y^3*z^2*h^4 - 2*x^2*y^3*h^6 - 2*x^2*z^6*h^3 - x^2*z^4*h^5 + 3*x^2*h^9 - y^6*z^5 + y^6*h^5 - 3*y^5*h^6 + 2*y^3*z^5*h^3 + 2*y^3*z^2*h^6 - 2*y^3*z*h^7 - 2*y^3*h^8 - 2*y^2*z^6*h^3 - y^2*z^4*h^5 + 3*y^2*h^9 - z^5*h^6 + z^4*h^7 - z^3*h^8 - 2*z^2*h^9 + 2*z*h^10 + h^11\n",
      "x^6*y*z^5 - x^6*y*h^5 + 3*x^5*y*h^6 - x^3*y^6*z^2*h + x^3*y^6*h^3 + 2*x^3*y^4*z^5 - 2*x^3*y^4*h^5 - x^3*y^3*z^4*h^2 + 2*x^3*y^3*z^2*h^4 + x^3*y^3*h^6 - 2*x^3*y*z^5*h^3 - 2*x^3*y*z^2*h^6 + 2*x^3*y*z*h^7 + 2*x^3*y*h^8 + 2*x^3*z^6*h^3 + x^3*z^4*h^5 - x^3*z^2*h^7 - 2*x^3*h^9 - x^2*y^4*z^4*h^2 + 2*x^2*y^4*z^2*h^4 + 2*x^2*y^4*h^6 + 2*x^2*y*z^6*h^3 + x^2*y*z^4*h^5 - x^2*y*z^2*h^7 - 2*x^2*y*h^9 - y^6*z^4*h^2 + 2*y^6*z^2*h^4 + y^6*h^6 - 2*y^4*z^5*h^3 - 2*y^4*z^2*h^6 + 2*y^4*z*h^7 + 2*y^4*h^8 - 3*y^3*z^6*h^3 + 2*y^3*z^4*h^5 - 3*y^3*z^2*h^7 - 3*y^3*h^9 + 2*y*z^5*h^6 - y*z^4*h^7 + y*z^3*h^8 + 2*y*z^2*h^9 - 2*y*z*h^10 - 2*y*h^11 + 3*z^6*h^6 + 2*z^2*h^10 + 2*h^12\n",
      "x^6*y*z^3*h^4 - 2*x^5*y*h^8 + 3*x^3*y^6*z^2*h^3 - 3*x^3*y^6*h^5 - 3*x^3*y^4*z^5*h^2 - 3*x^3*y^4*z^4*h^3 + x^3*y^4*z^3*h^4 - x^3*y^4*z^2*h^5 - x^3*y^4*z*h^6 + 3*x^3*y^4*h^7 + 3*x^3*y^3*z^4*h^4 + x^3*y^3*z^2*h^6 - 3*x^3*y^3*h^8 - x^3*y*z^6*h^4 - 3*x^3*y*z^5*h^5 + 3*x^3*y*z^4*h^6 + x^3*y*z^2*h^8 + 3*x^3*y*z*h^9 - 3*x^3*y*h^10 + x^3*z^6*h^5 - 3*x^3*z^4*h^7 + 3*x^3*z^2*h^9 - x^3*h^11 + 3*x^2*y^4*z^4*h^4 + x^2*y^4*z^2*h^6 + x^2*y^4*h^8 + x^2*y*z^6*h^5 - 3*x^2*y*z^4*h^7 + 3*x^2*y*z^2*h^9 - x^2*y*h^11 + 3*y^6*z^4*h^4 + y^6*z^2*h^6 - 3*y^6*h^8 - 2*y^4*z^6*h^4 - y^4*z^4*h^6 - 3*y^4*z^3*h^7 - 2*y^4*z^2*h^8 + 3*y^4*z*h^9 - 2*y^4*h^10 + 2*y^3*z^6*h^5 + y^3*z^4*h^7 + 2*y^3*z^2*h^9 + 2*y^3*h^11 + 2*y*z^6*h^7 - 3*y*z^4*h^9 + y*z^3*h^10 - 2*y*z^2*h^11 + 2*y*z*h^12 + 2*y*h^13 - 2*z^6*h^8 + z^2*h^12 + h^14\n",
      "x^6*y*z*h^5 - 3*x^5*y*z*h^6 + x^3*y^6*z^3*h - x^3*y^6*z*h^3 + x^3*y^4*z^4*h^2 - 2*x^3*y^4*z^2*h^4 + 2*x^3*y^4*z*h^5 - x^3*y^4*h^6 + x^3*y^3*z^5*h^2 - 2*x^3*y^3*z^3*h^4 - x^3*y^3*z*h^6 - 2*x^3*y*z^6*h^3 - x^3*y*z^4*h^5 + 2*x^3*y*z^3*h^6 + 2*x^3*y*z^2*h^7 - 2*x^3*y*z*h^8 + x^3*y*h^9 - x^3*z^5*h^5 + x^3*z^3*h^7 + x^2*y^4*z^5*h^2 - 2*x^2*y^4*z^3*h^4 - 2*x^2*y^4*z*h^6 - x^2*y*z^5*h^5 + x^2*y*z^3*h^7 + y^6*z^5*h^2 - 2*y^6*z^3*h^4 - y^6*z*h^6 + 3*y^4*z^6*h^3 - 2*y^4*z^4*h^5 + 2*y^4*z^3*h^6 + 3*y^4*z^2*h^7 - 2*y^4*z*h^8 + 3*y^4*h^9 - 2*y^3*z^5*h^5 + 3*y^3*z^3*h^7 - y^3*z*h^9 - 3*y*z^6*h^6 + y*z^5*h^7 + y*z^4*h^8 - 2*y*z^3*h^9 + 3*y*z^2*h^10 + 2*y*z*h^11 - 3*y*h^12 - 2*z^3*h^10 + 2*z*h^12\n",
      "x^6*z^6 + x^3*y^6*z^2*h - x^3*y^6*h^3 + 2*x^3*y^3*z^6 + x^3*y^3*z^4*h^2 - 2*x^3*y^3*z^2*h^4 - x^3*y^3*h^6 + 3*x^3*z^6*h^3 - x^3*z^4*h^5 + 3*x^3*z^2*h^7 + 2*x^3*h^9 + y^6*z^6 + y^6*z^4*h^2 - 2*y^6*z^2*h^4 - y^6*h^6 + y^3*z^6*h^3 - 2*y^3*z^4*h^5 - 2*y^3*z^2*h^7 + 3*y^3*h^9 - 2*z^6*h^6 + z^4*h^8 + 3*z^2*h^10 - 2*h^12\n",
      "x^6*z^4*h^2 - 2*x^6*z^2*h^4 + x^3*y^6*z^2*h - x^3*y^6*h^3 + x^3*y^3*z^4*h^2 - 2*x^3*y^3*z^2*h^4 + 2*x^3*y^3*h^6 + x^3*z^6*h^3 - 3*x^3*z^4*h^5 - x^3*z^2*h^7 + 3*x^3*h^9 + y^6*z^4*h^2 - 2*y^6*z^2*h^4 + 3*y^6*h^6 + 3*y^3*z^6*h^3 - 2*y^3*z^4*h^5 - y^3*z^2*h^7 + z^6*h^6 + z^4*h^8 + z^2*h^10 - 3*h^12\n",
      "x^6*z^3*h^5 + 2*x^5*z^2*h^7 - 2*x^5*h^9 + 2*x^3*y^6*z^2*h^3 - 2*x^3*y^6*h^5 - 3*x^3*y^3*z^6*h^2 - x^3*y^3*z^5*h^3 + 2*x^3*y^3*z^4*h^4 - 3*x^3*y^3*z*h^7 + 2*x^3*y^3*h^8 + x^3*y^2*z^6*h^3 - 3*x^3*y^2*z^4*h^5 + 2*x^3*y^2*h^9 - 2*x^3*y*z^5*h^5 + x^3*y*z^4*h^6 + x^3*y*h^10 - 2*x^3*z^6*h^5 - x^3*z^5*h^6 + 2*x^3*z^3*h^8 + 3*x^3*z^2*h^9 - 3*x^3*z*h^10 + x^3*h^11 + 3*x^2*y^6*z^4*h^2 + x^2*y^6*z^2*h^4 + 2*x^2*y^4*z^5*h^3 + 2*x^2*y^4*z^2*h^6 - 2*x^2*y^4*z*h^7 - 2*x^2*y^4*h^8 + 3*x^2*y^3*z^6*h^3 - 2*x^2*y^3*z^4*h^5 + 2*x^2*y^3*z^2*h^7 - 3*x^2*y^3*h^9 - x^2*y*z^5*h^6 + x^2*y*z^4*h^7 - x^2*y*z^3*h^8 - 2*x^2*y*z^2*h^9 + 2*x^2*y*z*h^10 + x^2*y*h^11 - 2*x^2*z^6*h^6 - 2*x^2*z^4*h^8 - 2*x^2*z^2*h^10 + 2*x^2*h^12 + 3*x*y^4*z^6*h^3 - 2*x*y^4*z^4*h^5 + x*y^4*z^2*h^7 - 2*x*y^4*h^9 - 3*x*y*z^6*h^6 - 2*x*y*z^2*h^10 - 2*x*y*h^12 + 2*y^6*z^6*h^2 + 3*y^6*z^5*h^3 + 2*y^6*z^4*h^4 - y^6*z*h^7 - 3*y^6*h^8 - 2*y^5*z^2*h^7 + 2*y^5*h^9 - 2*y^4*z^5*h^5 + y^4*z^4*h^6 + y^4*h^10 + 2*y^3*z^6*h^5 - y^3*z^5*h^6 - 3*y^3*z^3*h^8 + 3*y^3*z^2*h^9 + 2*y^3*z*h^10 - 3*y^3*h^11 - 2*y^2*z^6*h^6 - 3*y^2*z^4*h^8 - 2*y^2*h^12 + y*z^6*h^7 + 2*y*z^5*h^8 - y*z^4*h^9 + y*z^2*h^11 - 2*y*z*h^12 - y*h^13 + 2*z^6*h^8 - 3*z^5*h^9 + 3*z^4*h^10 - 3*z^3*h^11 + 3*z^2*h^12 - z*h^13 - h^14\n",
      "x^6*h^6 + x^3*y^6*z^2*h - x^3*y^6*h^3 + x^3*y^3*z^4*h^2 - 2*x^3*y^3*z^2*h^4 + x^3*y^3*h^6 - 2*x^3*z^6*h^3 - x^3*z^4*h^5 + 3*x^3*z^2*h^7 + y^6*z^4*h^2 - 2*y^6*z^2*h^4 + 3*y^3*z^6*h^3 - 2*y^3*z^4*h^5 - 2*y^3*z^2*h^7 + y^3*h^9 - 3*z^6*h^6 + z^4*h^8 + 3*z^2*h^10 - h^12\n",
      "x^5*y^2*z*h^6 + x^5*y^2*h^7 + x^5*z^3*h^6 + 3*x^5*z^2*h^7 + x^5*z*h^8 - 3*x^5*h^9 - 2*x^3*y^6*z^3*h^2 - x^3*y^6*z^2*h^3 + 2*x^3*y^6*z*h^4 + x^3*y^6*h^5 + 2*x^3*y^4*z^5*h^2 + 2*x^3*y^4*z^4*h^3 + 3*x^3*y^4*z^3*h^4 + 3*x^3*y^4*z^2*h^5 - 3*x^3*y^3*z^6*h^2 - x^3*y^3*z^4*h^4 + x^3*y^3*z^3*h^5 - 2*x^3*y^3*z^2*h^6 + x^3*y^3*z*h^7 - x^3*y^3*h^8 - 2*x^3*y^2*z^6*h^3 + 2*x^3*y^2*z^5*h^4 - x^3*y^2*z^4*h^5 + 3*x^3*y^2*z^3*h^6 - 3*x^3*y^2*z*h^8 + 3*x^3*y^2*h^9 + 3*x^3*y*z^6*h^4 + 2*x^3*y*z^5*h^5 + 3*x^3*y*z^4*h^6 - 3*x^3*y*z^3*h^7 - 3*x^3*y*z^2*h^8 - 2*x^3*y*z*h^9 - 3*x^3*z^6*h^5 - x^3*z^5*h^6 + x^3*z^4*h^7 - 3*x^3*z^3*h^8 + x^3*z^2*h^9 + x^3*z*h^10 - 3*x^3*h^11 + x^2*y^6*z^4*h^2 - 2*x^2*y^6*z^2*h^4 + x^2*y^5*z*h^6 + x^2*y^5*h^7 + 3*x^2*y^4*z^5*h^3 + 3*x^2*y^4*z^2*h^6 - 3*x^2*y^4*z*h^7 - 3*x^2*y^4*h^8 + x^2*y^3*z^6*h^3 + 2*x^2*y^3*z^5*h^4 - 3*x^2*y^3*z^4*h^5 + 3*x^2*y^3*z^3*h^6 + 3*x^2*y^3*z^2*h^7 - 3*x^2*y^3*z*h^8 - x^2*y^3*h^9 + 3*x^2*y^2*z^6*h^4 - 2*x^2*y^2*z^5*h^5 - 2*x^2*y^2*z^4*h^6 - 2*x^2*y^2*z^3*h^7 - 2*x^2*y^2*z^2*h^8 - 3*x^2*y^2*z*h^9 + x^2*y^2*h^10 + 2*x^2*y*z^5*h^6 - 2*x^2*y*z^4*h^7 + 2*x^2*y*z^3*h^8 - 3*x^2*y*z^2*h^9 + 3*x^2*y*z*h^10 - 2*x^2*y*h^11 - 3*x^2*z^6*h^6 - 3*x^2*z^4*h^8 + 3*x^2*z^3*h^9 - 3*x^2*z^2*h^10 - 3*x^2*z*h^11 + 3*x^2*h^12 + 2*x*y^6*z^5*h^2 + 2*x*y^6*z^4*h^3 + 3*x*y^6*z^3*h^4 + 3*x*y^6*z^2*h^5 + 3*x*y^6*z*h^6 + 3*x*y^6*h^7 + x*y^4*z^6*h^3 - 3*x*y^4*z^4*h^5 - 2*x*y^4*z^2*h^7 - 3*x*y^4*h^9 - x*y^3*z^6*h^4 + 3*x*y^3*z^5*h^5 + 3*x*y^3*z^4*h^6 + 2*x*y^3*z^3*h^7 + 2*x*y^3*z^2*h^8 + 2*x*y^3*z*h^9 + 3*x*y^3*h^10 - x*y*z^6*h^6 - 3*x*y*z^2*h^10 - 3*x*y*h^12 + x*z^6*h^7 - 2*x*z^5*h^8 - 2*x*z^4*h^9 + x*z*h^12 + 2*y^6*z^6*h^2 - y^6*z^5*h^3 - y^6*z^4*h^4 - y^6*z^3*h^5 + 2*y^6*z^2*h^6 - 3*y^6*z*h^7 - 3*y^6*h^8 + y^5*z^3*h^6 - 3*y^5*z^2*h^7 + y^5*z*h^8 + 3*y^5*h^9 - y^4*z^6*h^4 + y^4*z^4*h^6 + y^4*z^3*h^7 + y^4*z^2*h^8 + 3*y^4*z*h^9 + 2*y^4*h^10 + y^3*z^5*h^6 + 3*y^3*z^3*h^8 + 3*y^3*z^2*h^9 - 3*y^2*z^6*h^6 - y^2*z^4*h^8 + 3*y^2*z^3*h^9 - 3*y^2*z*h^11 - 3*y^2*h^12 - y*z^6*h^7 - 2*y*z^5*h^8 - 3*y*z^4*h^9 - y*z^3*h^10 - 3*y*z^2*h^11 + y*z*h^12 - 2*y*h^13 + z^6*h^8 - 3*z^5*h^9 + 2*z^4*h^10 + z^2*h^12 + 3*z*h^13 + 3*h^14\n",
      "x^5*y^2*h^8 + 2*x^5*z*h^9 + 2*x^3*y^4*z^4*h^4 + 3*x^3*y^4*z^2*h^6 + x^3*y^3*z^5*h^4 + 2*x^3*y^3*z^3*h^6 + 2*x^3*y^3*z*h^8 - 3*x^3*y^3*h^9 - 3*x^3*y^2*z^6*h^4 + x^3*y^2*z^4*h^6 + 3*x^3*y^2*z^3*h^7 + x^3*y^2*z*h^9 - 2*x^3*y*z^5*h^6 - x^3*y*z^4*h^7 - 3*x^3*y*z^2*h^9 + 2*x^3*y*z*h^10 - 3*x^3*y*h^11 - 2*x^3*z^5*h^7 - 3*x^3*z^4*h^8 + 2*x^3*z^3*h^9 + x^3*z^2*h^10 - 3*x^3*z*h^11 - 2*x^2*y^6*z^5*h^2 - x^2*y^6*z^4*h^3 - 3*x^2*y^6*z^3*h^4 + 2*x^2*y^6*z^2*h^5 - 2*x^2*y^6*z*h^6 + 2*x^2*y^6*h^7 - 3*x^2*y^5*z^5*h^3 - 3*x^2*y^5*z^2*h^6 + 3*x^2*y^5*z*h^7 - 3*x^2*y^5*h^8 + 3*x^2*y^4*z^6*h^3 + 2*x^2*y^4*z^5*h^4 - 3*x^2*y^4*z^3*h^6 - 3*x^2*y^4*z^2*h^7 + x^2*y^4*z*h^8 - 2*x^2*y^3*z^6*h^4 + 3*x^2*y^3*z^5*h^5 + 3*x^2*y^3*z^4*h^6 - x^2*y^3*z^3*h^7 + 3*x^2*y^3*z^2*h^8 - x^2*y^3*z*h^9 - 3*x^2*y^3*h^10 + 3*x^2*y^2*z^6*h^5 + 2*x^2*y^2*z^5*h^6 - 3*x^2*y^2*z^4*h^7 + x^2*y^2*z^3*h^8 - 2*x^2*y^2*z*h^10 - x^2*y^2*h^11 + 2*x^2*y*z^6*h^6 + x^2*y*z^5*h^7 + 2*x^2*y*z^3*h^9 - 3*x^2*y*z*h^11 + 2*x^2*y*h^12 - x^2*z^6*h^7 + 3*x^2*z^5*h^8 + 3*x^2*z^3*h^10 + 2*x^2*z^2*h^11 + x^2*z*h^12 + 3*x^2*h^13 + x*y^6*z^5*h^3 + 2*x*y^6*z^4*h^4 - 3*x*y^6*z^2*h^6 - x*y^6*z*h^7 + 2*x*y^6*h^8 - x*y^5*z^6*h^3 + 3*x*y^5*z^4*h^5 - x*y^5*z^2*h^7 - x*y^5*h^9 + 3*x*y^4*z^6*h^4 + 3*x*y^4*z^5*h^5 - 2*x*y^4*z^4*h^6 + 2*x*y^4*z^3*h^7 + x*y^4*z^2*h^8 + 2*x*y^4*z*h^9 - 2*x*y^4*h^10 - x*y^3*z^6*h^5 + 3*x*y^3*z^5*h^6 - 3*x*y^3*z^4*h^7 - x*y^3*z^3*h^8 + 2*x*y^3*z*h^10 + 3*x*y^2*z^6*h^6 - x*y^2*z^4*h^8 - 3*x*y^2*z^2*h^10 - 2*x*y^2*h^12 - 3*x*y*z^6*h^7 + 3*x*y*z^3*h^10 - 2*x*y*z^2*h^11 - 3*x*y*z*h^12 - 2*x*y*h^13 - x*z^6*h^8 - 2*x*z^5*h^9 - 3*x*z^4*h^10 + x*z^3*h^11 - x*z^2*h^12 + x*z*h^13 - 3*x*h^14 + 2*y^6*z^6*h^3 - 2*y^6*z^5*h^4 + y^6*z^4*h^5 + y^6*z^3*h^6 + 3*y^6*z^2*h^7 - y^6*z*h^8 - 2*y^6*h^9 + 3*y^5*z^5*h^5 + 2*y^5*z^4*h^6 + 3*y^5*z^3*h^7 - y^5*z^2*h^8 - y^5*z*h^9 + 3*y^5*h^10 + 3*y^4*z^6*h^5 + y^4*z^5*h^6 - 3*y^4*z^4*h^7 + y^4*z^2*h^9 + 2*y^4*z*h^10 + 3*y^4*h^11 - y^3*z^6*h^6 - 3*y^3*z^5*h^7 - y^3*z^4*h^8 - 2*y^3*z^3*h^9 - 2*y^3*z^2*h^10 + 2*y^3*z*h^11 + 2*y^3*h^12 - 2*y^2*z^6*h^7 + y^2*z^5*h^8 + 3*y^2*z^4*h^9 + 3*y^2*z^3*h^10 - y^2*z^2*h^11 + 3*y^2*z*h^12 - 2*y*z^6*h^8 + 2*y*z^5*h^9 + y*z^4*h^10 + 2*y*z^3*h^11 - 2*y*z^2*h^12 + 3*y*z*h^13 + y*h^14 - z^6*h^9 + 3*z^5*h^10 + 2*z^4*h^11 + z^3*h^12 + 2*z^2*h^13\n",
      "x^5*y*z^3*h^6 - 3*x^5*y*h^9 + x^3*y^4*z^4*h^4 + 2*x^3*y^4*z^2*h^6 - 3*x^3*y^3*z^5*h^4 + 3*x^3*y^3*z^3*h^6 - 2*x^3*y^3*z*h^8 + x^3*y^3*h^9 - x^3*y*z^5*h^6 + x^3*y*z^4*h^7 + x^3*y*z^3*h^8 + 3*x^3*y*z*h^10 + 3*x^3*y*h^11 - 3*x^3*z^4*h^8 + x^3*z^3*h^9 + 2*x^3*z^2*h^10 + 2*x^3*z*h^11 - 2*x^2*y^6*z^5*h^2 - 2*x^2*y^6*z^4*h^3 - 3*x^2*y^6*z^3*h^4 - 3*x^2*y^6*z^2*h^5 - 3*x^2*y^6*z*h^6 + 3*x^2*y^6*h^7 - x^2*y^5*z^3*h^5 + 3*x^2*y^5*z^2*h^6 + x^2*y^5*z*h^7 - 3*x^2*y^5*h^8 + 3*x^2*y^4*z^6*h^3 - 2*x^2*y^4*z^5*h^4 + x^2*y^4*z^4*h^5 + x^2*y^4*z^3*h^6 - 3*x^2*y^4*z^2*h^7 + 2*x^2*y^4*z*h^8 + 3*x^2*y^4*h^9 + 3*x^2*y^3*z^5*h^5 + 2*x^2*y^3*z^4*h^6 + x^2*y^3*z^3*h^7 - x^2*y^3*z^2*h^8 - x^2*y^3*z*h^9 + 3*x^2*y^3*h^10 - 3*x^2*y^2*z^5*h^6 + x^2*y^2*z^3*h^8 - x^2*y^2*z*h^10 + 3*x^2*y^2*h^11 + x^2*y*z^4*h^8 + x^2*y*z^3*h^9 - 3*x^2*y*z^2*h^10 - x^2*y*z*h^11 - 3*x^2*y*h^12 + 2*x^2*z^6*h^7 + 3*x^2*z^5*h^8 + 3*x^2*z^4*h^9 + 2*x^2*z^3*h^10 - x^2*z^2*h^11 + 3*x^2*z*h^12 - 2*x^2*h^13 - 3*x*y^6*z^5*h^3 - 3*x*y^6*z^2*h^6 - 2*x*y^6*z*h^7 + 3*x*y^6*h^8 + x*y^5*z^6*h^3 - 3*x*y^5*z^4*h^5 + 2*x*y^5*h^9 + x*y^4*z^6*h^4 + 3*x*y^4*z^5*h^5 - 3*x*y^4*z^4*h^6 - 2*x*y^4*z^3*h^7 + 2*x*y^4*z^2*h^8 - x*y^4*z*h^9 - 2*x*y^3*z^5*h^6 - 3*x*y^3*z^4*h^7 - x*y^3*z^2*h^9 - 3*x*y^3*z*h^10 + 2*x*y^3*h^11 + 3*x*y^2*z^4*h^8 + x*y^2*z^2*h^10 - 2*x*y^2*h^12 - x*y*z^6*h^7 - 2*x*y*z^5*h^8 + 2*x*y*z^4*h^9 + 2*x*y*z*h^12 - x*y*h^13 - x*z^6*h^8 + x*z^5*h^9 + 3*x*z^4*h^10 + 3*x*z^2*h^12 - 3*x*z*h^13 + 2*x*h^14 + 2*y^6*z^6*h^3 + y^6*z^4*h^5 - 3*y^6*z^3*h^6 + y^6*z^2*h^7 + y^6*z*h^8 - 3*y^6*h^9 - 3*y^5*z^5*h^5 - 2*y^5*z^4*h^6 - 2*y^5*h^10 - 2*y^4*z^6*h^5 + y^4*z^5*h^6 + y^4*z^2*h^9 + 2*y^3*z^6*h^6 - y^3*z^5*h^7 + 2*y^3*z^4*h^8 - y^3*z^3*h^9 - y^3*z^2*h^10 - 2*y^3*z*h^11 + 3*y^3*h^12 - 2*y*z^6*h^8 - 3*y*z^5*h^9 + 3*y*z^4*h^10 + 3*y*z*h^13 + 2*y*h^14 + 2*z^6*h^9 - z^4*h^11 + 2*z^3*h^12 - 3*z^2*h^13\n",
      "x^5*y*z*h^7 + 2*x^3*y^6*z^3*h^2 - 2*x^3*y^6*z*h^4 - 2*x^3*y^4*z^5*h^2 + 2*x^3*y^4*z^4*h^3 - 3*x^3*y^4*z^3*h^4 + 3*x^3*y^4*z^2*h^5 + 2*x^3*y^4*z*h^6 - 2*x^3*y^4*h^7 + 2*x^3*y^3*z^5*h^3 + 3*x^3*y^3*z^3*h^5 - 2*x^3*y^3*z*h^7 + 3*x^3*y*z^6*h^4 + 2*x^3*y*z^5*h^5 - 2*x^3*y*z^4*h^6 + 3*x^3*y*z^3*h^7 - 3*x^3*y*z^2*h^8 + 2*x^3*y*z*h^9 + 2*x^3*y*h^10 - 2*x^3*z^5*h^6 + 2*x^3*z^3*h^8 + 2*x^2*y^4*z^5*h^3 + 3*x^2*y^4*z^3*h^5 + 3*x^2*y^4*z*h^7 - 2*x^2*y*z^5*h^6 + 2*x^2*y*z^3*h^8 + 2*y^6*z^5*h^3 + 3*y^6*z^3*h^5 - 2*y^6*z*h^7 - y^4*z^6*h^4 - 3*y^4*z^5*h^5 + 3*y^4*z^4*h^6 + y^4*z^3*h^7 - y^4*z^2*h^8 + 2*y^4*z*h^9 - y^4*h^10 + 3*y^3*z^5*h^6 - y^3*z^3*h^8 - 2*y^3*z*h^10 + y*z^6*h^7 - 2*y*z^5*h^8 + 2*y*z^4*h^9 + y*z^3*h^10 - y*z^2*h^11 - 2*y*z*h^12 + y*h^13 + 3*z^3*h^11 - 3*z*h^13\n",
      "x^5*z^4*h^6 + 2*x^5*h^10 + x^3*y^3*z^5*h^4 - x^3*y^3*z^3*h^6 - 2*x^3*y^3*z*h^8 + x^3*y^3*h^9 - 2*x^3*y^2*z^6*h^4 - x^3*y^2*z^4*h^6 + x^3*y^2*z^2*h^8 - 2*x^3*y^2*h^10 + x^3*y*z^5*h^6 + 3*x^3*y*z^4*h^7 + 3*x^3*y*h^11 + 2*x^3*z^5*h^7 - 2*x^3*z^4*h^8 - 2*x^3*z^2*h^10 - x^3*z*h^11 + 3*x^2*y^6*z^5*h^2 - 2*x^2*y^6*z^4*h^3 + x^2*y^6*z^3*h^4 - 3*x^2*y^6*z^2*h^5 - x^2*y^5*z^5*h^3 - x^2*y^5*z^2*h^6 + x^2*y^5*z*h^7 + x^2*y^5*h^8 - x^2*y^4*z^5*h^4 + 3*x^2*y^4*z^2*h^7 + x^2*y^4*z*h^8 - 3*x^2*y^4*h^9 - 3*x^2*y^3*z^6*h^4 - x^2*y^3*z^5*h^5 - x^2*y^3*z^4*h^6 + x^2*y^3*h^10 + x^2*y^2*z^5*h^6 - x^2*y^2*h^11 - 3*x^2*y*z^5*h^7 + 3*x^2*y*z^4*h^8 - 3*x^2*y*z^3*h^9 + x^2*y*z^2*h^10 - x^2*y*z*h^11 - x^2*z^6*h^7 - 2*x^2*z^5*h^8 + x^2*z^4*h^9 - x^2*z^3*h^10 - 3*x^2*z^2*h^11 - x^2*z*h^12 + x^2*h^13 + x*y^6*z^5*h^3 + x*y^6*z^2*h^6 - x*y^6*z*h^7 - x*y^6*h^8 + 2*x*y^5*z^6*h^3 + x*y^5*z^4*h^5 - 3*x*y^5*h^9 + 2*x*y^4*z^6*h^4 + x*y^4*z^4*h^6 + 3*x*y^4*z^2*h^8 + x*y^4*h^10 + 3*x*y^3*z^5*h^6 + x*y^3*z^4*h^7 - x*y^3*z^3*h^8 - 2*x*y^3*z^2*h^9 + 2*x*y^3*z*h^10 - 3*x*y^3*h^11 - x*y^2*z^4*h^8 + 2*x*y^2*z^2*h^10 + 3*x*y^2*h^12 - 2*x*y*z^6*h^7 + x*y*z^2*h^11 + x*y*h^13 - 2*x*z^6*h^8 - 2*x*z^5*h^9 - x*z^4*h^10 + x*z^3*h^11 - x*z^2*h^12 + x*z*h^13 - 3*x*h^14 + 3*y^6*z^6*h^3 - 2*y^6*z^4*h^5 - 2*y^6*z^3*h^6 + 3*y^6*z^2*h^7 - 3*y^6*h^9 + y^5*z^5*h^5 - 3*y^5*z^4*h^6 + 2*y^5*z^2*h^8 + 3*y^5*h^10 - 3*y^4*z^5*h^6 + 3*y^4*z^4*h^7 + 2*y^3*z^6*h^6 + 3*y^3*z^5*h^7 + 3*y^3*z^4*h^8 + 2*y^3*z^2*h^10 - 2*y^3*z*h^11 + 3*y^3*h^12 + 2*y^2*z^6*h^7 - 2*y^2*z^4*h^9 + 3*y*z^6*h^8 - y*z^5*h^9 - 3*y*z^4*h^10 + 3*y*z^2*h^12 + y*z*h^13 - 3*y*h^14 - z^6*h^9 + z^5*h^10 + z^4*h^11 + 3*z^2*h^13 + 3*z*h^14\n",
      "x^5*z^3*h^7 - x^5*z*h^9 - 3*x^3*y^3*z^5*h^4 + x^3*y^3*z^3*h^6 - 2*x^3*y^3*z*h^8 + x^3*y^2*z^4*h^6 - 2*x^3*y^2*z*h^9 + x^3*y^2*h^10 - x^3*y*z^5*h^6 - 3*x^3*y*z*h^10 - 3*x^3*y*h^11 + x^3*z^5*h^7 + 3*x^3*z^4*h^8 + x^3*z^3*h^9 - x^3*z^2*h^10 - x^3*z*h^11 + 3*x^2*y^6*z^5*h^2 - 2*x^2*y^6*z^4*h^3 + x^2*y^6*z^3*h^4 - 3*x^2*y^6*z^2*h^5 - 3*x^2*y^5*z^5*h^3 - 3*x^2*y^5*z^2*h^6 + 3*x^2*y^5*z*h^7 + 3*x^2*y^5*h^8 + x^2*y^4*z^3*h^6 + 3*x^2*y^4*z^2*h^7 - x^2*y^4*z*h^8 - 3*x^2*y^4*h^9 + x^2*y^3*z^5*h^5 - x^2*y^3*z^4*h^6 + x^2*y^3*z^3*h^7 - x^2*y^3*h^10 - 3*x^2*y^2*z^5*h^6 + x^2*y^2*z^4*h^7 - x^2*y^2*z^3*h^8 - 2*x^2*y^2*z^2*h^9 + 2*x^2*y^2*z*h^10 + 3*x^2*y^2*h^11 - 3*x^2*y*z^5*h^7 + 2*x^2*y*z^4*h^8 - x^2*y*z^3*h^9 + 3*x^2*y*z^2*h^10 - 3*x^2*y*z*h^11 + x^2*y*h^12 - x^2*z^6*h^7 - x^2*z^5*h^8 + 3*x^2*z^4*h^9 + 2*x^2*z^3*h^10 + 2*x^2*z^2*h^11 + 2*x^2*z*h^12 + x^2*h^13 - 2*x*y^6*z^5*h^3 - 2*x*y^6*z^2*h^6 + 2*x*y^6*z*h^7 + 2*x*y^6*h^8 - x*y^5*z^6*h^3 + 3*x*y^5*z^4*h^5 + x*y^5*z^2*h^7 - 3*x*y^5*h^9 - x*y^4*z^5*h^5 - 3*x*y^4*z^3*h^7 - 3*x*y^4*z*h^9 + x*y^3*z^5*h^6 - 2*x*y^3*z^4*h^7 + 2*x*y^3*z^3*h^8 - 3*x*y^3*z^2*h^9 + 3*x*y^3*z*h^10 - x*y^3*h^11 - 3*x*y^2*z^6*h^6 + 2*x*y^2*z^4*h^8 + x*y^2*z^2*h^10 - x*y^2*h^12 - x*y*z^3*h^10 + x*y*z*h^12 - 3*x*z^6*h^8 - 3*x*z^5*h^9 + 2*x*z^4*h^10 - 2*x*z^3*h^11 + 2*x*z^2*h^12 - 2*x*z*h^13 - x*h^14 - 3*y^6*z^6*h^3 + 2*y^6*z^4*h^5 - 2*y^6*z^3*h^6 + 3*y^6*z^2*h^7 - 2*y^6*z*h^8 - 2*y^6*h^9 + 3*y^5*z^5*h^5 + 2*y^5*z^4*h^6 - y^5*z^3*h^7 + y^5*z*h^9 + 2*y^5*h^10 - 3*y^4*z*h^10 + 3*y^4*h^11 + 2*y^3*z^6*h^6 - y^3*z^5*h^7 - y^3*z^4*h^8 + y^3*z^3*h^9 - y^3*z^2*h^10 + y^3*z*h^11 + 2*y^3*h^12 + y^2*z^6*h^7 - 3*y^2*z^5*h^8 - y^2*z^4*h^9 + y^2*z^2*h^11 + 3*y^2*z*h^12 - y^2*h^13 + y*z^5*h^9 - 3*y*z^3*h^11 - 3*y*z^2*h^12 + 2*y*z*h^13 + 3*y*h^14 - z^6*h^9 + 3*z^5*h^10 - 3*z^3*h^12 + 2*z^2*h^13 - z*h^14\n",
      "x^5*z^2*h^8 - x^5*h^10 + 2*x^3*y^3*z^5*h^4 - x^3*y^3*z*h^8 - 3*x^3*y^2*z^6*h^4 + 2*x^3*y^2*z^4*h^6 + x^3*y^2*h^10 - x^3*y*z^5*h^6 - 3*x^3*y*z^4*h^7 - 3*x^3*y*h^11 - 2*x^3*z^5*h^7 - 3*x^3*z^4*h^8 + x^3*z^2*h^10 + x^3*z*h^11 - 3*x^2*y^6*z^5*h^2 + 2*x^2*y^6*z^4*h^3 - x^2*y^6*z^3*h^4 + 3*x^2*y^6*z^2*h^5 + 3*x^2*y^5*z^5*h^3 + 3*x^2*y^5*z^2*h^6 - 3*x^2*y^5*z*h^7 - 3*x^2*y^5*h^8 + x^2*y^4*z^5*h^4 + 3*x^2*y^4*z^2*h^7 - x^2*y^4*z*h^8 - 3*x^2*y^4*h^9 - 2*x^2*y^3*z^6*h^4 + 3*x^2*y^3*z^5*h^5 + x^2*y^3*z^4*h^6 + x^2*y^3*z^2*h^8 - 3*x^2*y^3*h^10 - 3*x^2*y^2*z^5*h^6 + 3*x^2*y^2*h^11 + 3*x^2*y*z^5*h^7 - 3*x^2*y*z^4*h^8 + 3*x^2*y*z^3*h^9 - x^2*y*z^2*h^10 + x^2*y*z*h^11 - x^2*y*h^12 + x^2*z^6*h^7 + x^2*z^3*h^10 + 2*x^2*z^2*h^11 + 3*x^2*z*h^12 - x^2*h^13 - 3*x*y^6*z^5*h^3 - 3*x*y^6*z^2*h^6 + 3*x*y^6*z*h^7 + 3*x*y^6*h^8 + x*y^5*z^6*h^3 - 3*x*y^5*z^4*h^5 + 2*x*y^5*h^9 - 2*x*y^4*z^6*h^4 - x*y^4*z^4*h^6 - 3*x*y^4*z^2*h^8 - x*y^4*h^10 - 2*x*y^3*z^5*h^6 - 3*x*y^3*z^4*h^7 + 3*x*y^3*z^3*h^8 - x*y^3*z^2*h^9 + x*y^3*z*h^10 + 2*x*y^3*h^11 + 3*x*y^2*z^4*h^8 + x*y^2*z^2*h^10 - 2*x*y^2*h^12 + 2*x*y*z^6*h^7 - x*y*z^2*h^11 - x*y*h^13 - x*z^6*h^8 - x*z^5*h^9 + 3*x*z^4*h^10 - 3*x*z^3*h^11 + 3*x*z^2*h^12 - 3*x*z*h^13 + 2*x*h^14 - 3*y^6*z^6*h^3 - 2*y^6*z^5*h^4 + 2*y^6*z^4*h^5 + 2*y^6*z^3*h^6 + y^6*z^2*h^7 + y^6*z*h^8 - 3*y^5*z^5*h^5 - 2*y^5*z^4*h^6 - y^5*z^2*h^8 - y^5*h^10 - 3*y^4*z^5*h^6 - 3*y^4*z^4*h^7 - y^4*h^11 + 3*y^3*z^6*h^6 + 2*y^3*z^4*h^8 - 2*y^3*z^3*h^9 + y^3*z*h^11 - y^2*z^6*h^7 + 2*y^2*z^4*h^9 - y^2*h^13 - 3*y*z^6*h^8 + y*z^5*h^9 + 3*y*z^4*h^10 - 3*y*z^2*h^12 - y*z*h^13 + 3*y*h^14 + z^6*h^9 + z^5*h^10 + z^4*h^11 + 2*z^3*h^12 + 3*z^2*h^13 - z*h^14\n",
      "x^5*h^11 + x^3*y^2*h^11 + x^2*y^3*h^11 + x^2*y*z^5*h^8 - 2*x^2*y*z^3*h^10 + x^2*y*z^2*h^11 - 2*x^2*y*h^13 - 3*x^2*z^6*h^8 - 3*x^2*z^5*h^9 - x^2*z^3*h^11 + 3*x^2*z^2*h^12 - 3*x^2*z*h^13 - 2*x*y^5*z^5*h^5 + 3*x*y^5*z^4*h^6 - 3*x*y^5*z^3*h^7 - x*y^5*z^2*h^8 - 2*x*y^5*z*h^9 - 2*x*y^5*h^10 - 3*x*y^4*z^4*h^7 + 2*x*y^4*z^3*h^8 - 2*x*y^4*z^2*h^9 - 2*x*y^4*z*h^10 - 2*x*y^4*h^11 - x*y^3*z^5*h^7 + 2*x*y^3*z^4*h^8 - 2*x*y^3*z^3*h^9 + x*y^3*z^2*h^10 + 3*x*y^3*z*h^11 - 3*x*y^3*h^12 + 2*x*y^2*z^6*h^7 - 3*x*y^2*z^3*h^10 - x*y^2*z^2*h^11 + 2*x*y^2*z*h^12 - 2*x*y^2*h^13 - 2*x*y*z^6*h^8 - 3*x*y*z^5*h^9 + 3*x*y*z^4*h^10 + 2*x*y*z^3*h^11 - 3*x*y*z^2*h^12 + x*y*z*h^13 + 2*x*y*h^14 - x*z^6*h^9 + 3*x*z^4*h^11 - 3*x*z^3*h^12 - x*z^2*h^13 + 3*x*z*h^14 - x*h^15 - 3*y^6*z^6*h^4 + 3*y^6*z^5*h^5 + 3*y^6*z^3*h^7 + 3*y^6*z^2*h^8 - y^6*z*h^9 + 2*y^6*h^10 + 2*y^5*z^5*h^6 + 2*y^5*z^4*h^7 + y^5*z^2*h^9 - 2*y^5*z*h^10 - 2*y^5*h^11 - 3*y^4*z^6*h^6 + 3*y^4*z^5*h^7 - y^4*z^4*h^8 - y^4*z^2*h^10 - 3*y^4*z*h^11 - 2*y^4*h^12 - 2*y^3*z^6*h^7 - y^3*z^5*h^8 + 2*y^3*z^4*h^9 + y^3*z^2*h^11 + y^3*z*h^12 - y^3*h^13 + 2*y^2*z^6*h^8 + y^2*z^5*h^9 - 3*y^2*z^4*h^10 - y^2*z^3*h^11 + y^2*h^14 - 2*y*z^6*h^9 - y*z^5*h^10 - 2*y*z^4*h^11 + 2*y*z^3*h^12 + 2*y*z^2*h^13 - y*z*h^14 + 2*y*h^15 - z^6*h^10 + 2*z^5*h^11 - z^4*h^12\n",
      "x^4*y^6 + 2*x^4*y^3*z^2*h - 2*x^4*y^3*h^3 + x^4*z^4*h^2 - 2*x^4*z^2*h^4 - x^4*h^6 + x*y^6*z^2*h - x*y^6*h^3 + x*y^3*z^4*h^2 - 2*x*y^3*z^2*h^4 - 2*x*z^6*h^3 - x*z^4*h^5 + 2*x*z^2*h^7 + x*h^9\n",
      "x^4*y^4*z^2*h - x^4*y^4*h^3 - 3*x^4*y*z^4*h^2 - x^4*y*z^2*h^4 - 3*x*y^4*z^4*h^2 - x*y^4*z^2*h^4 - x*y*z^6*h^3 + 3*x*y*z^4*h^5 - 2*x*y*z^2*h^7\n",
      "x^4*y^3*z^5 - x^4*y^3*h^5 + 3*x^4*y^2*z^4*h^2 + x^4*y^2*z^2*h^4 + x^4*y^2*h^6 - x^4*z^5*h^3 - x^4*z^2*h^6 + x^4*z*h^7 + x^4*h^8 - 2*x^3*y^6*z^2*h + 2*x^3*y^6*h^3 - 2*x^3*y^3*z^4*h^2 - 3*x^3*y^3*z^2*h^4 + 3*x^3*y^3*h^6 - 3*x^3*z^6*h^3 + 2*x^3*z^4*h^5 - x^3*z^2*h^7 + 2*x^3*h^9 - 3*x*y^6*z^5 + 3*x*y^6*h^5 - 2*x*y^5*h^6 - x*y^3*z^5*h^3 - x*y^3*z^2*h^6 + x*y^3*z*h^7 + x*y^3*h^8 + x*y^2*z^6*h^3 - 3*x*y^2*z^4*h^5 + 3*x*y^2*z^2*h^7 - x*y^2*h^9 + x*z^5*h^6 + 3*x*z^4*h^7 - 3*x*z^3*h^8 + x*z^2*h^9 - x*z*h^10 - x*h^11 + 2*y^6*z^4*h^2 + 3*y^6*z^2*h^4 - y^3*z^6*h^3 + 3*y^3*z^4*h^5 + 3*y^3*z^2*h^7 + 2*y^3*h^9 + z^6*h^6 + 2*z^4*h^8 - z^2*h^10 - 2*h^12\n",
      "x^4*y^3*z^4*h^2 - 2*x^4*y^3*z^2*h^4 + 2*x^4*z^2*h^7 - 2*x^4*h^9 - 2*x*y^6*h^6 - 2*x*y^3*z^6*h^3 - x*y^3*z^4*h^5 + 3*x*y^3*z^2*h^7 + x*z^4*h^8 - 2*x*z^2*h^10 + 2*x*h^12\n",
      "x^4*y^3*z^3*h^4 - 2*x^4*y^2*z^4*h^4 - 3*x^4*y^2*z^2*h^6 - 3*x^4*y^2*h^8 + 2*x^4*z^3*h^7 - 2*x^4*z*h^9 - x^3*y^6*z^2*h^3 + x^3*y^6*h^5 - x^3*y^3*z^4*h^4 + 2*x^3*y^3*z^2*h^6 - 2*x^3*y^3*h^8 + 2*x^3*z^6*h^5 + x^3*z^4*h^7 + 3*x^3*z^2*h^9 + x^3*h^11 - 3*x*y^6*z^5*h^2 - 3*x*y^6*z^4*h^3 + 3*x*y^6*z^3*h^4 - x*y^6*z^2*h^5 + x*y^6*h^7 - x*y^5*h^8 - 2*x*y^3*z^6*h^4 + 3*x*y^3*z^5*h^5 - x*y^3*z^4*h^6 - x*y^3*z^3*h^7 + x*y^3*z^2*h^8 - 2*x*y^3*z*h^9 + 2*x*y^3*h^10 - 3*x*y^2*z^6*h^5 + 2*x*y^2*z^4*h^7 - 2*x*y^2*z^2*h^9 + 3*x*y^2*h^11 + 2*x*z^6*h^7 - 2*x*z^5*h^8 - 2*x*z^4*h^9 + 3*x*z^2*h^11 + 3*x*z*h^12 + y^6*z^4*h^4 - 2*y^6*z^2*h^6 + 3*y^3*z^6*h^5 - 2*y^3*z^4*h^7 - 2*y^3*z^2*h^9 + y^3*h^11 - 3*z^6*h^8 + z^4*h^10 + 3*z^2*h^12 - h^14\n",
      "x^4*y^3*z*h^5 - 3*x^4*y^2*z^5*h^2 - x^4*y^2*z^3*h^4 - x^4*y^2*z*h^6 + x^4*z^3*h^6 - x^4*z*h^8 + 2*x^3*y^6*z^3*h - 2*x^3*y^6*z*h^3 + 2*x^3*y^3*z^5*h^2 + 3*x^3*y^3*z^3*h^4 - 3*x^3*y^3*z*h^6 - 2*x^3*z^5*h^5 + x^3*z^3*h^7 + x^3*z*h^9 + x*y^6*z^4*h^2 - 2*x*y^6*z^2*h^4 - 3*x*y^6*z*h^5 + 2*x*y^6*h^6 + 2*x*y^5*z*h^6 + 3*x*y^3*z^6*h^3 - 2*x*y^3*z^4*h^5 + x*y^3*z^3*h^6 + 2*x*y^3*z^2*h^7 - x*y^3*z*h^8 - 3*x*y^3*h^9 + 3*x*y^2*z^5*h^5 - 3*x*y^2*z^3*h^7 - 3*x*z^6*h^6 - 3*x*z^5*h^7 + 3*x*z^4*h^8 - x*z^3*h^9 - x*z^2*h^10 + x*z*h^11 - 2*y^6*z^5*h^2 - 3*y^6*z^3*h^4 - 3*y^3*z^5*h^5 - 3*y^3*z^3*h^7 - y^3*z*h^9 - 2*z^5*h^8 + z^3*h^10 + z*h^12\n",
      "x^4*y^3*h^6 + x^4*z^2*h^7 - x^4*h^9 + x*y^6*z^4*h^2 - 2*x*y^6*z^2*h^4 - x*y^6*h^6 + 3*x*y^3*z^6*h^3 - 2*x*y^3*z^4*h^5 + 3*x*y^3*z^2*h^7 + 3*x*y^3*h^9 - 3*x*z^6*h^6 - 2*x*z^2*h^10 + x*h^12\n",
      "x^4*y^2*z^5*h^3 + x^4*y^2*z^2*h^6 - x^4*y^2*z*h^7 - x^4*y^2*h^8 + 3*x^4*y*z^2*h^7 - 3*x^4*y*h^9 - 3*x^4*z^4*h^6 - x^4*z^3*h^7 - 3*x^4*h^10 - 3*x^3*y^3*z^5*h^3 - 3*x^3*y^3*z^2*h^6 + 3*x^3*y^3*z*h^7 + 3*x^3*y^3*h^8 + 3*x^3*y^2*z^6*h^3 - 2*x^3*y^2*z^4*h^5 - x^3*y^2*z^2*h^7 + 2*x^3*y*z^5*h^5 - x^3*y*z^4*h^6 - x^3*y*h^10 + 2*x^3*z^5*h^6 + 2*x^3*z^4*h^7 - 2*x^3*z^3*h^8 + 3*x^3*z^2*h^9 - 3*x^3*z*h^10 - 2*x^3*h^11 + x^2*y^6*h^6 - 2*x^2*y^4*z^5*h^3 - 2*x^2*y^4*z^2*h^6 + 2*x^2*y^4*z*h^7 + 2*x^2*y^4*h^8 + 3*x^2*y^3*z^6*h^3 - 2*x^2*y^3*z^4*h^5 - x^2*y^3*h^9 + x^2*y*z^5*h^6 - x^2*y*z^4*h^7 + x^2*y*z^3*h^8 + 2*x^2*y*z^2*h^9 - 2*x^2*y*z*h^10 - x^2*y*h^11 - 3*x^2*z^6*h^6 + 3*x^2*z^4*h^8 - x^2*z^2*h^10 - 3*x*y^6*z^5*h^2 - x*y^6*z^3*h^4 - 2*x*y^6*z*h^6 + 2*x*y^4*z^6*h^3 + x*y^4*z^4*h^5 - 3*x*y^4*h^9 - 2*x*y^3*z^5*h^5 - 3*x*y^3*z^4*h^6 + x*y^3*z^3*h^7 - 3*x*y^3*h^10 + 3*x*y^2*z^5*h^6 - 3*x*y^2*z^4*h^7 + 3*x*y^2*z^3*h^8 - x*y^2*z^2*h^9 + x*y^2*z*h^10 - 3*x*y^2*h^11 - 2*x*y*z^6*h^6 + x*y*z^2*h^10 + x*y*h^12 - 3*x*z^6*h^7 - 3*x*z^5*h^8 + 3*x*z^4*h^9 + x*z^3*h^10 - 3*x*z^2*h^11 + x*z*h^12 + 3*x*h^13 + y^6*z^5*h^3 + y^6*z^2*h^6 - y^6*z*h^7 - y^6*h^8 - 3*y^5*z^2*h^7 + 3*y^5*h^9 + 2*y^4*z^5*h^5 - y^4*z^4*h^6 - y^4*h^10 + y^3*z^5*h^6 + 3*y^3*z^4*h^7 - 3*y^3*z^3*h^8 + y^3*z^2*h^9 - y^3*z*h^10 - y^3*h^11 - y^2*z^6*h^6 - 3*y^2*z^2*h^10 - 3*y^2*h^12 - y*z^6*h^7 - 2*y*z^5*h^8 + y*z^4*h^9 - y*z^2*h^11 + 2*y*z*h^12 + y*h^13 + z^6*h^8 - 3*z^5*h^9 - 3*z^4*h^10 + 3*z^3*h^11 + 2*h^14\n",
      "x^4*y^2*z^3*h^5 - 3*x^4*y^2*z^2*h^6 - 3*x^4*y^2*z*h^7 + 3*x^4*y^2*h^8 - 2*x^4*y*z^2*h^7 + 2*x^4*y*h^9 + 2*x^4*z^4*h^6 + 3*x^4*z^3*h^7 + 2*x^4*h^10 - 2*x^3*y^6*z^3*h^2 + 2*x^3*y^6*z*h^4 - 3*x^3*y^3*z^3*h^5 + 2*x^3*y^3*z^2*h^6 + x^3*y^3*z*h^7 - 2*x^3*y^3*h^8 - 2*x^3*y^2*z^6*h^3 - x^3*y^2*z^4*h^5 + 3*x^3*y^2*z^2*h^7 + x^3*y*z^5*h^5 + 3*x^3*y*z^4*h^6 + 3*x^3*y*h^10 + 3*x^3*z^5*h^6 + x^3*z^4*h^7 - 2*x^3*z^3*h^8 - 2*x^3*z^2*h^9 + x^3*z*h^10 - x^3*h^11 - 3*x^2*y^6*h^6 - x^2*y^4*z^5*h^3 - x^2*y^4*z^2*h^6 + x^2*y^4*z*h^7 + x^2*y^4*h^8 - 2*x^2*y^3*z^6*h^3 - x^2*y^3*z^4*h^5 + 3*x^2*y^3*h^9 - 3*x^2*y*z^5*h^6 + 3*x^2*y*z^4*h^7 - 3*x^2*y*z^3*h^8 + x^2*y*z^2*h^9 - x^2*y*z*h^10 + 3*x^2*y*h^11 + 2*x^2*z^6*h^6 - 2*x^2*z^4*h^8 + 3*x^2*z^2*h^10 + 3*x*y^6*z^5*h^2 - x*y^6*z^4*h^3 + x*y^6*z^3*h^4 + 2*x*y^6*z^2*h^5 + x*y^6*z*h^6 - 2*x*y^6*h^7 - 2*x*y^5*z*h^7 + x*y^4*z^6*h^3 - 3*x*y^4*z^4*h^5 + 2*x*y^4*h^9 - 3*x*y^3*z^6*h^4 - 3*x*y^3*z^5*h^5 - 3*x*y^3*z^4*h^6 - x*y^3*z^3*h^7 - 2*x*y^3*z^2*h^8 - 2*x*y^3*h^10 + 2*x*y^2*z^5*h^6 + 2*x*y^2*z^4*h^7 + x*y^2*z^3*h^8 + 3*x*y^2*z^2*h^9 - 3*x*y^2*z*h^10 + 2*x*y^2*h^11 - x*y*z^6*h^6 - 3*x*y*z^2*h^10 - 3*x*y*h^12 - 2*x*z^6*h^7 - 2*x*z^5*h^8 + 2*x*z^4*h^9 + 3*x*z^3*h^10 + 3*x*z^2*h^11 + x*z*h^12 - 2*x*h^13 - y^6*z^5*h^3 + 3*y^6*z^3*h^5 - 3*y^6*z^2*h^6 + 3*y^6*z*h^7 + 3*y^6*h^8 + 2*y^5*z^2*h^7 - 2*y^5*h^9 + y^4*z^5*h^5 + 3*y^4*z^4*h^6 + 3*y^4*h^10 - 2*y^3*z^4*h^7 - 2*y^3*z^3*h^8 - 3*y^3*z^2*h^9 - 3*y^3*z*h^10 + 3*y^3*h^11 + 3*y^2*z^6*h^6 + 2*y^2*z^2*h^10 + 2*y^2*h^12 + 3*y*z^6*h^7 - y*z^5*h^8 - 3*y*z^4*h^9 + 3*y*z^2*h^11 + y*z*h^12 - 3*y*h^13 - 3*z^6*h^8 - 3*z^5*h^9 + 2*z^4*h^10 - 3*z^3*h^11 - z*h^13 + h^14\n",
      "x^4*y^2*z^2*h^7 + x^3*y^4*z^4*h^4 - 2*x^3*y^4*z^2*h^6 + 2*x^3*y^4*h^8 - 2*x^3*y^3*z^5*h^4 + 2*x^3*y^3*z^3*h^6 + x^3*y^3*z*h^8 - 3*x^3*y^3*h^9 - x^3*y^2*z^6*h^4 + 2*x^3*y^2*z^4*h^6 - x^3*y^2*z^3*h^7 - 2*x^3*y^2*z^2*h^8 + 3*x^3*y^2*z*h^9 - x^3*y^2*h^10 + x^3*y*z^5*h^6 - 2*x^3*y*z^4*h^7 - 2*x^3*y*z^2*h^9 + 3*x^3*y*h^11 + 2*x^3*z^5*h^7 - 3*x^3*z^4*h^8 + 3*x^3*z^3*h^9 - 2*x^3*z^2*h^10 - x^3*z*h^11 - 3*x^2*y^6*z^5*h^2 - 3*x^2*y^6*z^4*h^3 - x^2*y^6*z^3*h^4 - x^2*y^6*z^2*h^5 - 3*x^2*y^6*z*h^6 - 2*x^2*y^6*h^7 + x^2*y^5*z^5*h^3 + x^2*y^5*z^2*h^6 - x^2*y^5*z*h^7 - x^2*y^5*h^8 + x^2*y^4*z^6*h^3 - 2*x^2*y^4*z^5*h^4 - 2*x^2*y^4*z^4*h^5 - x^2*y^4*z^2*h^7 + 2*x^2*y^4*z*h^8 + 2*x^2*y^4*h^9 + 3*x^2*y^3*z^6*h^4 + 3*x^2*y^3*z^5*h^5 + x^2*y^3*z^3*h^7 + x^2*y^3*z^2*h^8 - x^2*y^3*z*h^9 - 2*x^2*y^2*z^5*h^6 - x^2*y^2*z^4*h^7 + x^2*y^2*z^3*h^8 + 2*x^2*y^2*z^2*h^9 - 2*x^2*y^2*z*h^10 + 2*x^2*y^2*h^11 - 2*x^2*y*z^6*h^6 + x^2*y*z^5*h^7 - 2*x^2*y*z^4*h^8 + x^2*y*z^3*h^9 + 2*x^2*y*z^2*h^10 - 2*x^2*y*z*h^11 - 3*x^2*y*h^12 - x^2*z^6*h^7 - 3*x^2*z^5*h^8 + x^2*z^4*h^9 + x^2*z^2*h^11 + 3*x^2*z*h^12 - 2*x^2*h^13 + x*y^6*z^5*h^3 - 3*x*y^6*z^4*h^4 + 3*x*y^6*z^3*h^5 + x*y^6*z^2*h^6 + 3*x*y^6*z*h^7 + x*y^5*z^6*h^3 - 2*x*y^5*z^5*h^4 - 3*x*y^5*z^4*h^5 - 3*x*y^5*z^3*h^6 + x*y^5*z^2*h^7 - 2*x*y^5*z*h^8 + 2*x*y^5*h^9 - 2*x*y^4*z^6*h^4 - x*y^4*z^4*h^6 - x*y^4*z^3*h^7 - 2*x*y^4*z^2*h^8 + x*y^4*z*h^9 - 2*x*y^4*h^10 - 2*x*y^3*z^6*h^5 + x*y^3*z^5*h^6 + x*y^3*z^2*h^9 + x*y^3*z*h^10 - x*y^3*h^11 - 2*x*y^2*z^6*h^6 - x*y^2*z^5*h^7 + x*y^2*z^3*h^9 + 3*x*y^2*z^2*h^10 + x*y^2*h^12 - x*y*z^6*h^7 + 3*x*y*z^5*h^8 - 2*x*y*z^4*h^9 - 2*x*y*z^3*h^10 - 3*x*y*z^2*h^11 - x*y*z*h^12 - x*y*h^13 - 2*x*z^6*h^8 - 3*x*z^4*h^10 + x*z^3*h^11 - 2*x*z^2*h^12 - x*z*h^13 + 2*x*h^14 - y^6*z^6*h^3 + 2*y^6*z^5*h^4 + 3*y^6*z^4*h^5 + 2*y^6*z^3*h^6 - y^6*z^2*h^7 - 3*y^6*z*h^8 + 3*y^6*h^9 - y^5*z^6*h^4 + 2*y^5*z^5*h^5 - y^5*z^3*h^7 + 3*y^5*z^2*h^8 - 2*y^5*z*h^9 - y^5*h^10 - y^4*z^6*h^5 + 2*y^4*z^5*h^6 - 2*y^4*z^4*h^7 + 3*y^4*z^3*h^8 + y^4*z^2*h^9 + y^4*z*h^10 + 3*y^4*h^11 - y^3*z^6*h^6 + 3*y^3*z^5*h^7 + y^3*z^4*h^8 + 2*y^3*z^3*h^9 - 2*y^3*z^2*h^10 - y^3*z*h^11 - 3*y^3*h^12 - 3*y^2*z^6*h^7 + 2*y^2*z^5*h^8 - 2*y^2*z^4*h^9 + 3*y^2*z^3*h^10 - y^2*z^2*h^11 + 2*y^2*z*h^12 - y^2*h^13 - y*z^6*h^8 - 3*y*z^5*h^9 + 2*y*z^4*h^10 - 3*y*z^3*h^11 + y*z^2*h^12 - y*z*h^13 - y*h^14 + z^6*h^9 - 2*z^5*h^10 - 2*z^4*h^11 + 3*z^3*h^12 - z^2*h^13 + z*h^14\n",
      "x^4*y^2*z*h^8 - 3*x^3*y^4*z^4*h^4 - x^3*y^4*z^2*h^6 + x^3*y^4*h^8 + x^3*y^3*z^5*h^4 - 2*x^3*y^3*z^3*h^6 - x^3*y^3*z*h^8 - 3*x^3*y^2*z^4*h^6 - 3*x^3*y^2*z^3*h^7 + 2*x^3*y^2*z*h^9 - 3*x^3*y^2*h^10 + 3*x^3*y*z^5*h^6 + 2*x^3*y*z^4*h^7 - x^3*y*z^2*h^9 + 3*x^3*y*z*h^10 + x^3*z^5*h^7 + x^3*z^3*h^9 - 3*x^2*y^6*z^5*h^2 - 3*x^2*y^6*z^4*h^3 - x^2*y^6*z^3*h^4 - x^2*y^6*z^2*h^5 - 3*x^2*y^6*h^7 - 3*x^2*y^5*z^5*h^3 - 3*x^2*y^5*z^2*h^6 + 3*x^2*y^5*z*h^7 + 3*x^2*y^5*h^8 - 3*x^2*y^4*z^6*h^3 - 2*x^2*y^4*z^5*h^4 - x^2*y^4*z^4*h^5 - x^2*y^4*z^3*h^6 + 2*x^2*y^4*z^2*h^7 + 3*x^2*y^4*z*h^8 + 2*x^2*y^4*h^9 + 3*x^2*y^3*z^6*h^4 + 2*x^2*y^3*z^5*h^5 - x^2*y^3*z^3*h^7 - x^2*y^3*z^2*h^8 + 2*x^2*y^3*z*h^9 + 2*x^2*y^3*h^10 - 3*x^2*y^2*z^4*h^7 + 3*x^2*y^2*z^3*h^8 - x^2*y^2*z^2*h^9 + x^2*y^2*z*h^10 - x^2*y*z^6*h^6 - 3*x^2*y*z^5*h^7 - 2*x^2*y*z^4*h^8 + 2*x^2*y*z^3*h^9 + 3*x^2*y*z^2*h^10 + x^2*y*z*h^11 + 2*x^2*y*h^12 - x^2*z^6*h^7 + x^2*z^5*h^8 - 2*x^2*z^3*h^10 + 3*x^2*z^2*h^11 - 2*x^2*z*h^12 - 2*x^2*h^13 + x*y^6*z^6*h^2 - 3*x*y^6*z^5*h^3 - x*y^6*z^4*h^4 - x*y^6*z^3*h^5 + 2*x*y^6*z^2*h^6 + 3*x*y^6*h^8 + 2*x*y^5*z^6*h^3 + 2*x*y^5*z^5*h^4 + x*y^5*z^4*h^5 - x*y^5*z^3*h^6 + x*y^5*z^2*h^7 + 3*x*y^5*h^9 - 2*x*y^4*z^6*h^4 + 3*x*y^4*z^5*h^5 - x*y^4*z^4*h^6 - 3*x*y^4*z^3*h^7 + 3*x*y^4*h^10 - 2*x*y^3*z^6*h^5 + 3*x*y^3*z^5*h^6 - 3*x*y^3*z^4*h^7 - 3*x*y^3*z^3*h^8 + 2*x*y^3*z*h^10 + 3*x*y^3*h^11 - 2*x*y^2*z^5*h^7 - 3*x*y^2*z^4*h^8 - 3*x*y^2*z^3*h^9 - x*y^2*z^2*h^10 - 2*x*y^2*z*h^11 - x*y^2*h^12 - 3*x*y*z^6*h^7 + x*y*z^5*h^8 + 2*x*y*z^4*h^9 + 3*x*y*z^3*h^10 - x*y*z^2*h^11 + 3*x*y*z*h^12 + 2*x*y*h^13 - 3*x*z^6*h^8 + 2*x*z^5*h^9 - 2*x*z^3*h^11 + 3*x*z^2*h^12 - 3*x*z*h^13 + 2*x*h^14 + y^6*z^6*h^3 + 2*y^6*z^5*h^4 - 3*y^6*z^4*h^5 - 3*y^6*z^3*h^6 + y^6*z^2*h^7 - y^6*z*h^8 + y^6*h^9 + y^5*z^6*h^4 - y^5*z^4*h^6 + 3*y^5*z^3*h^7 - 2*y^5*z^2*h^8 - y^5*h^10 + 3*y^4*z^6*h^5 - y^4*z^5*h^6 + 2*y^4*z^4*h^7 - 2*y^4*z^3*h^8 - 3*y^4*z^2*h^9 + y^4*h^11 + y^3*z^6*h^6 - 3*y^3*z^5*h^7 + 3*y^3*z^4*h^8 - 3*y^3*z^2*h^10 - 2*y^3*z*h^11 - y^3*h^12 - 3*y^2*z^6*h^7 - 3*y^2*z^5*h^8 - y^2*z^4*h^9 - y^2*z^3*h^10 - 2*y^2*z^2*h^11 - 3*y^2*z*h^12 - y^2*h^13 - y*z^6*h^8 + 3*y*z^5*h^9 - 2*y*z^4*h^10 - 2*y*z^3*h^11 - y*z^2*h^12 - y*z*h^13 + y*h^14 + 2*z^6*h^9 - z^5*h^10 + 3*z^4*h^11 + 3*z*h^14\n",
      "x^4*y^2*h^9 - 3*x^3*y^4*z^4*h^4 - x^3*y^4*z^2*h^6 + x^3*y^4*h^8 - x^3*y^3*z^5*h^4 + x^3*y^3*z^3*h^6 - 3*x^3*y^3*z*h^8 - 3*x^3*y^3*h^9 + 3*x^3*y^2*z^6*h^4 + x^3*y^2*z^4*h^6 + 3*x^3*y^2*z^3*h^7 - x^3*y^2*z^2*h^8 - 2*x^3*y^2*z*h^9 + 3*x^3*y^2*h^10 - 3*x^3*y*z^5*h^6 - x^3*y*z^4*h^7 - x^3*y*z^2*h^9 - 2*x^3*y*h^11 + x^3*z^5*h^7 + 2*x^3*z^4*h^8 - 2*x^3*z^3*h^9 - 2*x^3*z^2*h^10 + 3*x^3*z*h^11 + 2*x^2*y^6*z^5*h^2 + 2*x^2*y^6*z^4*h^3 + 3*x^2*y^6*z^3*h^4 + 3*x^2*y^6*z^2*h^5 + 2*x^2*y^6*z*h^6 - x^2*y^6*h^7 + 2*x^2*y^5*z^5*h^3 + 2*x^2*y^5*z^2*h^6 - 2*x^2*y^5*z*h^7 - 2*x^2*y^5*h^8 - 3*x^2*y^4*z^6*h^3 - x^2*y^4*z^5*h^4 - x^2*y^4*z^4*h^5 - 3*x^2*y^4*z^2*h^7 + x^2*y^4*z*h^8 - 2*x^2*y^3*z^6*h^4 + 3*x^2*y^3*z^5*h^5 + x^2*y^3*z^4*h^6 - 3*x^2*y^3*z^3*h^7 - 3*x^2*y^3*z^2*h^8 + 3*x^2*y^3*z*h^9 + x^2*y^3*h^10 + x^2*y^2*z^5*h^6 + 3*x^2*y^2*z^4*h^7 - 3*x^2*y^2*z^3*h^8 + x^2*y^2*z^2*h^9 - x^2*y^2*z*h^10 - x^2*y^2*h^11 - x^2*y*z^6*h^6 - 3*x^2*y*z^5*h^7 - x^2*y*z^4*h^8 - 3*x^2*y*z^3*h^9 + x^2*y*z^2*h^10 - x^2*y*z*h^11 + 3*x^2*y*h^12 - 3*x^2*z^6*h^7 - 3*x^2*z^5*h^8 + 3*x^2*z^4*h^9 - 2*x^2*z^2*h^11 + 3*x^2*z*h^12 - 2*x^2*h^13 + x*y^6*z^5*h^3 + 2*x*y^6*z^4*h^4 + x*y^6*z^3*h^5 + 2*x*y^6*z^2*h^6 - 2*x*y^6*h^8 - 3*x*y^5*z^6*h^3 - x*y^5*z^5*h^4 + 2*x*y^5*z^4*h^5 + 2*x*y^5*z^3*h^6 + 3*x*y^5*z^2*h^7 - x*y^5*z*h^8 - x*y^5*h^9 - x*y^4*z^6*h^4 + 3*x*y^4*z^4*h^6 + 3*x*y^4*z^3*h^7 - x*y^4*z^2*h^8 - 3*x*y^4*z*h^9 - x*y^4*h^10 - x*y^3*z^6*h^5 - x*y^3*z^5*h^6 - 2*x*y^3*z^4*h^7 + 2*x*y^3*z^3*h^8 - x*y^3*z^2*h^9 + x*y^3*z*h^10 + 2*x*y^3*h^11 - 3*x*y^2*z^6*h^6 + 3*x*y^2*z^5*h^7 - x*y^2*z^4*h^8 - 3*x*y^2*z^3*h^9 + 2*x*y^2*z^2*h^10 - 3*x*y^2*h^12 + 3*x*y*z^6*h^7 - 2*x*y*z^5*h^8 - x*y*z^4*h^9 - x*y*z^3*h^10 + 2*x*y*z^2*h^11 + 3*x*y*z*h^12 + 3*x*y*h^13 + 2*x*z^5*h^9 + 2*x*z^4*h^10 - 3*x*z^3*h^11 + x*z^2*h^12 - x*z*h^13 + 2*x*h^14 + y^6*z^5*h^4 + y^6*z^3*h^6 + 2*y^6*z*h^8 - 3*y^6*h^9 + 3*y^5*z^6*h^4 + 3*y^5*z^5*h^5 - y^5*z^4*h^6 + 3*y^5*z^3*h^7 - 2*y^5*z^2*h^8 - y^5*z*h^9 + 2*y^5*h^10 + 3*y^4*z^6*h^5 - y^4*z^4*h^7 - 2*y^4*z^3*h^8 - 3*y^4*z^2*h^9 - 3*y^4*z*h^10 - y^4*h^11 + 2*y^3*z^6*h^6 - 2*y^3*z^5*h^7 + 3*y^3*z^4*h^8 + y^3*z^3*h^9 - y^3*z^2*h^10 + 3*y^3*z*h^11 + 3*y^3*h^12 + 2*y^2*z^6*h^7 + y^2*z^5*h^8 - y^2*z^4*h^9 - 2*y^2*z^3*h^10 + 3*y^2*z^2*h^11 + y^2*z*h^12 + 3*y^2*h^13 + 3*y*z^6*h^8 + 2*y*z^5*h^9 + y*z^4*h^10 + 2*y*z^3*h^11 - 3*y*z^2*h^12 + 3*y*z*h^13 + 3*y*h^14 + z^6*h^9 - 2*z^5*h^10 + z^4*h^11 + 3*z^2*h^13 - 3*z*h^14\n",
      "x^4*y*z^5*h^4 - 3*x^4*y*z*h^8 - 3*x^3*y^4*z^5*h^2 - 3*x^3*y^4*z^4*h^3 - x^3*y^4*z^3*h^4 - x^3*y^4*z^2*h^5 + x^3*y^4*z*h^6 + x^3*y^4*h^7 - x^3*y*z^6*h^4 + 3*x^3*y*z^5*h^5 + 3*x^3*y*z^4*h^6 - x^3*y*z^3*h^7 - x^3*y*z^2*h^8 - 2*x^3*y*z*h^9 - x^3*y*h^10 + 2*x*y^6*z^5*h^2 + 2*x*y^6*z^4*h^3 + 3*x*y^6*z^3*h^4 + 3*x*y^6*z^2*h^5 - 3*x*y^6*z*h^6 - 3*x*y^6*h^7 + x*y^4*z^5*h^4 - 3*x*y^4*z*h^8 - x*y^3*z^6*h^4 + 3*x*y^3*z^5*h^5 + 3*x*y^3*z^4*h^6 - 3*x*y^3*z^3*h^7 - 3*x*y^3*z^2*h^8 + x*y^3*h^10 - 2*x*y*z^3*h^9 + 2*x*y*z*h^11 + x*z^6*h^7 - x*z^5*h^8 - x*z^4*h^9 - 2*x*z^3*h^10 - 2*x*z^2*h^11 + x*z*h^12 + 2*y^4*z^6*h^4 + y^4*z^5*h^5 + y^4*z^4*h^6 + y^4*z^3*h^7 + y^4*z^2*h^8 - 2*y^4*z*h^9 + 3*y^4*h^10 - 2*y*z^6*h^7 - y*z^5*h^8 - y*z^4*h^9 + 3*y*z^3*h^10 + 3*y*z^2*h^11 + 2*y*z*h^12 - 3*y*h^13\n",
      "x^4*y*z^4*h^6 + x^3*y^4*z^4*h^4 - 3*x^3*y^4*z^2*h^6 - x^3*y^4*h^8 + 3*x^3*y^3*z^5*h^4 + 2*x^3*y^3*z^3*h^6 - 2*x^3*y^2*z^6*h^4 + 2*x^3*y^2*z^4*h^6 + 3*x^3*y^2*z^3*h^7 + 3*x^3*y^2*z^2*h^8 - 2*x^3*y^2*z*h^9 + 3*x^3*y^2*h^10 + 3*x^3*y*z^5*h^6 - x^3*y*z^4*h^7 - 2*x^3*y*z^2*h^9 + 2*x^3*z^5*h^7 + 3*x^3*z^3*h^9 + 2*x^3*z*h^11 - x^2*y^6*z^5*h^2 - x^2*y^6*z^4*h^3 + 2*x^2*y^6*z^3*h^4 + 2*x^2*y^6*z^2*h^5 + 2*x^2*y^6*z*h^6 + 2*x^2*y^6*h^7 - x^2*y^4*z^6*h^3 - x^2*y^4*z^4*h^5 - x^2*y^4*z^2*h^7 + 3*x^2*y^4*h^9 + x^2*y^3*z^5*h^5 + 3*x^2*y^3*z^4*h^6 - 3*x^2*y^3*z^3*h^7 - 3*x^2*y^3*z^2*h^8 + 3*x^2*y^3*z*h^9 - x^2*y^3*h^10 + 3*x^2*y^2*z^5*h^6 + 3*x^2*y^2*z^4*h^7 - 3*x^2*y^2*z^3*h^8 + x^2*y^2*z^2*h^9 - x^2*y^2*z*h^10 - 3*x^2*y^2*h^11 - 2*x^2*y*z^6*h^6 + 3*x^2*y*z^4*h^8 + 2*x^2*y*h^12 + 3*x^2*z^6*h^7 + 2*x^2*z^5*h^8 + x^2*z^3*h^10 - 3*x^2*z^2*h^11 + x^2*z*h^12 - 3*x^2*h^13 - 3*x*y^6*z^6*h^2 - x*y^6*z^3*h^5 - x*y^6*z^2*h^6 - 3*x*y^6*z*h^7 + 3*x*y^5*z^6*h^3 - x*y^5*z^5*h^4 - 2*x*y^5*z^4*h^5 - x*y^5*z^3*h^6 - 3*x*y^5*z^2*h^7 + 2*x*y^5*z*h^8 + 2*x*y^5*h^9 - x*y^4*z^6*h^4 + 3*x*y^4*z^5*h^5 - 3*x*y^4*z^4*h^6 - 3*x*y^4*z*h^9 - 2*x*y^4*h^10 + x*y^3*z^6*h^5 + x*y^3*z^5*h^6 + x*y^3*z^3*h^8 + x*y^3*z*h^10 + 3*x*y^3*h^11 - 2*x*y^2*z^6*h^6 + 3*x*y^2*z^4*h^8 - 2*x*y^2*z^3*h^9 + 2*x*y^2*z^2*h^10 + 2*x*y^2*z*h^11 - x*y*z^6*h^7 - x*y*z^5*h^8 + 3*x*y*z^4*h^9 - x*y*z^2*h^11 + x*y*z*h^12 - x*y*h^13 - 2*x*z^6*h^8 + 2*x*z^4*h^10 + x*z^3*h^11 + x*z^2*h^12 + 3*x*z*h^13 + 3*x*h^14 - 2*y^6*z^6*h^3 - y^6*z^4*h^5 - y^6*z^3*h^6 - 3*y^6*z^2*h^7 - y^6*z*h^8 - y^6*h^9 + 3*y^5*z^6*h^4 - 2*y^5*z^5*h^5 - 2*y^5*z^4*h^6 + 3*y^5*z^3*h^7 + 3*y^5*z^2*h^8 - y^5*z*h^9 + 3*y^5*h^10 - 3*y^4*z^6*h^5 - 2*y^4*z^5*h^6 - 2*y^4*z^3*h^8 - 3*y^4*z*h^10 + 3*y^4*h^11 + 2*y^3*z^5*h^7 + y^3*z^4*h^8 - 2*y^3*z^2*h^10 - 2*y^3*z*h^11 + y^3*h^12 - y^2*z^6*h^7 + y^2*z^5*h^8 - y^2*z^4*h^9 - 2*y^2*z^3*h^10 + y^2*z^2*h^11 + y^2*z*h^12 + y^2*h^13 + 3*y*z^5*h^9 - 2*y*z^4*h^10 + 2*y*z^3*h^11 - y*z^2*h^12 + 2*y*z*h^13 + 3*z^4*h^11 - z^3*h^12 + z^2*h^13 - 3*z*h^14\n",
      "x^4*y*z^3*h^7 - 3*x^3*y^4*z^4*h^4 - x^3*y^4*z^2*h^6 + x^3*y^4*h^8 + x^3*y^3*z^5*h^4 - 2*x^3*y^3*z^3*h^6 + 2*x^3*y^3*z*h^8 - 3*x^3*y^2*z^6*h^4 - 2*x^3*y^2*z^4*h^6 + 3*x^3*y^2*z^3*h^7 + x^3*y^2*z^2*h^8 - 2*x^3*y^2*z*h^9 + 3*x^3*y^2*h^10 + 2*x^3*y*z^5*h^6 + x^3*y*z^4*h^7 - x^3*y*z^2*h^9 - 2*x^3*y*h^11 - 2*x^3*z^5*h^7 + x^3*z^4*h^8 - 3*x^3*z^3*h^9 - x^3*z*h^11 - 3*x^2*y^6*z^5*h^2 - 3*x^2*y^6*z^4*h^3 - x^2*y^6*z^3*h^4 - x^2*y^6*z^2*h^5 + 2*x^2*y^6*z*h^6 - 3*x^2*y^6*h^7 + 3*x^2*y^4*z^6*h^3 + 3*x^2*y^4*z^5*h^4 + 2*x^2*y^4*z^4*h^5 + 3*x^2*y^4*z^2*h^7 - 3*x^2*y^4*z*h^8 - x^2*y^4*h^9 - x^2*y^3*z^6*h^4 + x^2*y^3*z^5*h^5 - x^2*y^3*z^4*h^6 - 3*x^2*y^3*z^3*h^7 - 3*x^2*y^3*z^2*h^8 + 3*x^2*y^3*z*h^9 - 3*x^2*y^3*h^10 + 3*x^2*y^2*z^5*h^6 + 3*x^2*y^2*z^4*h^7 - 3*x^2*y^2*z^3*h^8 + x^2*y^2*z^2*h^9 - x^2*y^2*z*h^10 - 3*x^2*y^2*h^11 + 2*x^2*y*z^5*h^7 - 3*x^2*y*z^4*h^8 + 2*x^2*y*z^3*h^9 + x^2*y*z^2*h^10 + 3*x^2*y*z*h^11 - 2*x^2*y*h^12 - 3*x^2*z^6*h^7 - 3*x^2*z^5*h^8 + x^2*z^4*h^9 - 3*x^2*z^3*h^10 - 2*x^2*z^2*h^11 + x^2*z*h^12 - 3*x^2*h^13 + x*y^6*z^6*h^2 + x*y^6*z^5*h^3 + 3*x*y^6*z^4*h^4 - 3*x*y^6*z^3*h^5 - 2*x*y^6*z^2*h^6 - x*y^6*z*h^7 - 3*x*y^5*z^6*h^3 - x*y^5*z^5*h^4 + 2*x*y^5*z^4*h^5 - 3*x*y^5*z^3*h^6 + x*y^5*z^2*h^7 - 3*x*y^5*z*h^8 - x*y^4*z^6*h^4 + 2*x*y^4*z^5*h^5 + 3*x*y^4*z^4*h^6 + 2*x*y^4*z^3*h^7 + 3*x*y^4*z^2*h^8 - 3*x*y^4*z*h^9 + 2*x*y^4*h^10 + 2*x*y^3*z^6*h^5 + 2*x*y^3*z^5*h^6 + 2*x*y^3*z^3*h^8 - x*y^3*z^2*h^9 - x*y^3*z*h^10 + 3*x*y^3*h^11 + x*y^2*z^6*h^6 - 2*x*y^2*z^5*h^7 - 3*x*y^2*z^4*h^8 + x*y^2*z^3*h^9 + 2*x*y^2*z^2*h^10 + x*y^2*z*h^11 + 3*x*y^2*h^12 - 3*x*y*z^6*h^7 - 3*x*y*z^5*h^8 + 3*x*y*z^4*h^9 - x*y*z^3*h^10 + 3*x*y*z^2*h^11 - 3*x*y*z*h^12 - 3*x*y*h^13 + 3*x*z^5*h^9 + 2*x*z^4*h^10 + 3*x*h^14 - 3*y^6*z^6*h^3 - 3*y^6*z^5*h^4 + 2*y^6*z^4*h^5 + y^6*z^2*h^7 - 3*y^6*z*h^8 + 3*y^5*z^6*h^4 - 2*y^5*z^5*h^5 - 2*y^5*z^4*h^6 + 3*y^5*z^3*h^7 - 3*y^5*z^2*h^8 - y^5*z*h^9 + 2*y^5*h^10 + 3*y^4*z^6*h^5 + 3*y^4*z^5*h^6 + 2*y^4*z^4*h^7 - 3*y^4*z^3*h^8 + 2*y^4*z^2*h^9 - y^4*z*h^10 + y^4*h^11 - 2*y^3*z^6*h^6 - 3*y^3*z^3*h^9 + 3*y^3*z^2*h^10 - 3*y^3*z*h^11 - 3*y^2*z^6*h^7 + y^2*z^5*h^8 - y^2*z^4*h^9 - 2*y^2*z^3*h^10 + 2*y^2*z^2*h^11 + y^2*z*h^12 + 2*y^2*h^13 + 3*y*z^6*h^8 - 2*y*z^4*h^10 + 3*y*z^3*h^11 + y*z^2*h^12 - 3*y*z*h^13 + 2*y*h^14 + 3*z^6*h^9 + 2*z^5*h^10 + 3*z^4*h^11 - 3*z^3*h^12 - 2*z^2*h^13 - 3*z*h^14\n",
      "x^4*y*z^2*h^8 - 2*x^3*y^4*z^4*h^4 - 2*x^3*y^4*z^2*h^6 - x^3*y^4*h^8 - 2*x^3*y^3*z^5*h^4 + x^3*y^3*z^3*h^6 - x^3*y^2*z^6*h^4 + x^3*y^2*z^4*h^6 - 2*x^3*y^2*z^3*h^7 - 2*x^3*y^2*z^2*h^8 - x^3*y^2*z*h^9 - 2*x^3*y^2*h^10 - 2*x^3*y*z^5*h^6 + 2*x^3*y*z^4*h^7 - 3*x^3*y*z^2*h^9 + 3*x^3*y*h^11 + x^3*z^5*h^7 - 2*x^3*z^3*h^9 + x^3*z*h^11 + 3*x^2*y^6*z^5*h^2 + 3*x^2*y^6*z^4*h^3 + x^2*y^6*z^3*h^4 + x^2*y^6*z^2*h^5 + x^2*y^6*z*h^6 + x^2*y^6*h^7 + 3*x^2*y^4*z^4*h^5 + 3*x^2*y^4*z^2*h^7 + x^2*y^4*h^9 - 3*x^2*y^3*z^5*h^5 - 2*x^2*y^3*z^4*h^6 + 2*x^2*y^3*z^3*h^7 + 2*x^2*y^3*z^2*h^8 - 2*x^2*y^3*z*h^9 + 3*x^2*y^3*h^10 - 2*x^2*y^2*z^5*h^6 - 2*x^2*y^2*z^4*h^7 + 2*x^2*y^2*z^3*h^8 - 3*x^2*y^2*z^2*h^9 + 3*x^2*y^2*z*h^10 + 2*x^2*y^2*h^11 - 3*x^2*y*z^6*h^6 - 2*x^2*y*z^4*h^8 + 3*x^2*y*h^12 - 2*x^2*z^6*h^7 + x^2*z^5*h^8 - 3*x^2*z^3*h^10 + 2*x^2*z^2*h^11 - 3*x^2*z*h^12 + 2*x^2*h^13 - x*y^6*z^6*h^2 - x*y^6*z^4*h^4 + 3*x*y^6*z^3*h^5 - 3*x*y^6*z^2*h^6 + 2*x*y^6*z*h^7 - 2*x*y^5*z^6*h^3 + 3*x*y^5*z^5*h^4 - x*y^5*z^4*h^5 + 3*x*y^5*z^3*h^6 + 2*x*y^5*z^2*h^7 + x*y^5*z*h^8 + x*y^5*h^9 - x*y^4*z^6*h^4 - 3*x*y^4*z^5*h^5 + 3*x*y^4*z^4*h^6 + x*y^4*z^3*h^7 + 3*x*y^4*z^2*h^8 + 2*x*y^4*z*h^9 + 3*x*y^4*h^10 + 3*x*y^3*z^6*h^5 - 3*x*y^3*z^5*h^6 + x*y^3*z^4*h^7 - 3*x*y^3*z^3*h^8 - 3*x*y^3*z*h^10 - 2*x*y^3*h^11 - x*y^2*z^6*h^6 - 2*x*y^2*z^4*h^8 - x*y^2*z^3*h^9 + x*y^2*z^2*h^10 + x*y^2*z*h^11 + 2*x*y*z^6*h^7 - 2*x*y*z^5*h^8 - x*y*z^4*h^9 + 2*x*y*z^3*h^10 - 2*x*y*z^2*h^11 + x*y*h^13 - 3*x*z^6*h^8 - 3*x*z^4*h^10 - 3*x*z^3*h^11 - x*z^2*h^12 - 2*x*z*h^13 - 2*x*h^14 - y^6*z^6*h^3 + 3*y^6*z^4*h^5 + 3*y^6*z^3*h^6 + 2*y^6*z^2*h^7 + 3*y^6*z*h^8 + 3*y^6*h^9 - 2*y^5*z^6*h^4 - y^5*z^5*h^5 - y^5*z^4*h^6 - 2*y^5*z^3*h^7 - 2*y^5*z^2*h^8 + 3*y^5*z*h^9 - 2*y^5*h^10 - 3*y^4*z^6*h^5 - y^4*z^5*h^6 + y^4*z^4*h^7 - y^4*z^3*h^8 - y^4*z^2*h^9 + 2*y^4*z*h^10 + 3*y^4*h^11 + y^3*z^5*h^7 - 3*y^3*z^4*h^8 - y^3*z^2*h^10 - y^3*z*h^11 - 3*y^3*h^12 + 3*y^2*z^6*h^7 - 3*y^2*z^5*h^8 + 3*y^2*z^4*h^9 - y^2*z^3*h^10 - 3*y^2*z^2*h^11 - 3*y^2*z*h^12 - 3*y^2*h^13 - 2*y*z^5*h^9 + y*z^4*h^10 + y*z^3*h^11 - y*z^2*h^12 + y*z*h^13 + 2*y*h^14 - 2*z^4*h^11 + 3*z^3*h^12 - 3*z^2*h^13 + 2*z*h^14\n",
      "x^4*y*z*h^9 - 2*x^3*y^3*z^5*h^4 - 3*x^3*y^3*z^3*h^6 + 3*x^3*y^3*z*h^8 - x^3*y^2*z^6*h^4 - 3*x^3*y^2*z^4*h^6 + x^3*y^2*z^3*h^7 - 2*x^3*y^2*z^2*h^8 - 3*x^3*y^2*z*h^9 + x^3*y^2*h^10 + 3*x^3*y*z^5*h^6 - 3*x^3*y*z^4*h^7 - 3*x^3*z^5*h^7 - 2*x^3*z^4*h^8 - x^3*z^3*h^9 + 2*x^3*z*h^11 - x^2*y^6*z^5*h^2 - x^2*y^6*z^4*h^3 + 2*x^2*y^6*z^3*h^4 + 2*x^2*y^6*z^2*h^5 + 3*x^2*y^6*z*h^6 - x^2*y^6*h^7 - x^2*y^4*z^6*h^3 + x^2*y^4*z^5*h^4 + 3*x^2*y^4*z^4*h^5 + x^2*y^4*z^2*h^7 - x^2*y^4*z*h^8 - 3*x^2*y^4*h^9 + 2*x^2*y^3*z^6*h^4 - 2*x^2*y^3*z^5*h^5 + 2*x^2*y^3*z^4*h^6 - x^2*y^3*z^3*h^7 - x^2*y^3*z^2*h^8 + x^2*y^3*z*h^9 - x^2*y^3*h^10 + x^2*y^2*z^5*h^6 + x^2*y^2*z^4*h^7 - x^2*y^2*z^3*h^8 - 2*x^2*y^2*z^2*h^9 + 2*x^2*y^2*z*h^10 - x^2*y^2*h^11 + x^2*y*z^6*h^6 + 3*x^2*y*z^5*h^7 - x^2*y*z^4*h^8 + 3*x^2*y*z^3*h^9 - 2*x^2*y*z^2*h^10 + x^2*y*z*h^11 + 3*x^2*y*h^12 - x^2*z^6*h^7 - x^2*z^5*h^8 - 2*x^2*z^4*h^9 - x^2*z^3*h^10 - 3*x^2*z^2*h^11 - 2*x^2*z*h^12 - x^2*h^13 - 2*x*y^6*z^6*h^2 - 2*x*y^6*z^5*h^3 - 2*x*y^6*z^4*h^4 - x*y^6*z^3*h^5 + 3*x*y^6*z^2*h^6 + 2*x*y^6*z*h^7 + x*y^6*h^8 - x*y^5*z^6*h^3 + 2*x*y^5*z^5*h^4 + 3*x*y^5*z^4*h^5 - x*y^5*z^3*h^6 - 2*x*y^5*z^2*h^7 - x*y^5*z*h^8 - 3*x*y^4*z^6*h^4 - x*y^4*z^5*h^5 + 2*x*y^4*z^4*h^6 + 2*x*y^4*z^3*h^7 + x*y^4*h^10 + x*y^3*z^6*h^5 + 3*x*y^3*z^5*h^6 - x*y^3*z^4*h^7 + 3*x*y^3*z^3*h^8 + 3*x*y^3*z^2*h^9 + 2*x*y^3*z*h^10 + 3*x*y^3*h^11 - 2*x*y^2*z^6*h^6 - 3*x*y^2*z^5*h^7 - x*y^2*z^4*h^8 - 2*x*y^2*z^3*h^9 + 3*x*y^2*z^2*h^10 - 2*x*y^2*z*h^11 + x*y^2*h^12 - 3*x*y*z^6*h^7 + x*y*z^5*h^8 - x*y*z^4*h^9 - x*y*z^2*h^11 - x*y*z*h^12 - 2*x*y*h^13 + 2*x*z^6*h^8 + x*z^5*h^9 + x*z^4*h^10 + 3*x*z^2*h^12 + x*h^14 - y^6*z^6*h^3 - y^6*z^5*h^4 + 3*y^6*z^4*h^5 - 2*y^6*z^2*h^7 - y^6*z*h^8 + y^5*z^6*h^4 - 3*y^5*z^5*h^5 - 3*y^5*z^4*h^6 + y^5*z^3*h^7 - y^5*z^2*h^8 + 2*y^5*z*h^9 + 3*y^5*h^10 + y^4*z^5*h^6 - 2*y^4*z^4*h^7 - y^4*z^3*h^8 - 2*y^4*z^2*h^9 + 2*y^4*z*h^10 + 2*y^4*h^11 - 3*y^3*z^6*h^6 - y^3*z^3*h^9 + y^3*z^2*h^10 - y^3*z*h^11 - y^2*z^6*h^7 - 2*y^2*z^5*h^8 + 2*y^2*z^4*h^9 - 3*y^2*z^3*h^10 + 3*y^2*z^2*h^11 - 2*y^2*z*h^12 + 3*y^2*h^13 + 2*y*z^6*h^8 + 2*y*z^4*h^10 + y*z^3*h^11 - 3*y*z^2*h^12 - y*z*h^13 - y*h^14 + z^6*h^9 + 3*z^5*h^10 + z^4*h^11 - z^3*h^12 - 3*z^2*h^13 - z*h^14\n",
      "x^4*y*h^10 + 3*x^3*y^4*z^4*h^4 + 2*x^3*y^4*z^2*h^6 + 2*x^3*y^4*h^8 - 3*x^3*y*z^4*h^7 + x^3*y*z^2*h^9 + 2*x^3*y*h^11 - 2*x^2*y^4*z^6*h^3 + 2*x^2*y^4*h^9 + x^2*y*z^6*h^6 - x^2*y*h^12 - 2*x*y^6*z^6*h^2 - 3*x*y^6*z^4*h^4 + 3*x*y^6*z^2*h^6 - 3*x*y^4*z^5*h^5 + 3*x*y^4*z^3*h^7 + x*y^4*h^10 - 3*x*y^3*z^6*h^5 + 3*x*y^3*z^4*h^7 - x*y*z^5*h^8 + 3*x*y*z^4*h^9 - x*y*z^3*h^10 - x*y*z^2*h^11 + 2*x*y*z*h^12 - 2*x*y*h^13 + x*z^6*h^8 + 2*x*z^4*h^10 - x*z^2*h^12 - y^4*z^6*h^5 + 3*y^4*z^4*h^7 - 3*y^4*z^2*h^9 + y^4*h^11 - y*z^4*h^10 + 2*y*z^2*h^12 - y*h^14\n",
      "x^4*z^6*h^3 - 3*x^4*z^4*h^5 + 3*x^4*z^2*h^7 - x^4*h^9 + 2*x*y^6*z^4*h^2 + 3*x*y^6*z^2*h^4 - x*y^6*h^6 - x*y^3*z^6*h^3 + 3*x*y^3*z^4*h^5 - 3*x*y^3*z^2*h^7 + x*y^3*h^9 - 2*x*z^4*h^8 - 3*x*z^2*h^10 + x*h^12\n",
      "x^4*z^5*h^5 - x^4*z^3*h^7 - 3*x*y^6*z^5*h^2 - x*y^6*z^3*h^4 - 2*x*y^6*z*h^6 - x*y^3*z^5*h^5 + x*y^3*z^3*h^7 + 3*x*z^5*h^8 + x*z^3*h^10 + 2*x*z*h^12\n",
      "x^4*z^4*h^7 - x^4*h^11 - 3*x*y^6*z^6*h^2 - x*y^6*z^4*h^4 + 2*x*y^6*z^2*h^6 - x*y^3*z^4*h^7 + 3*x*y^3*z^2*h^9 - 2*x*y^3*h^11 - 2*x*z^6*h^8 - x*z^4*h^10 - 3*x*z^2*h^12 + x*h^14\n",
      "x^4*z^3*h^8 - x^4*h^11 - 3*x^3*y^4*z^4*h^4 - x^3*y^4*z^2*h^6 + x^3*y^4*h^8 - x^3*y^3*z^5*h^4 + x^3*y^3*z^3*h^6 - 3*x^3*y^3*z*h^8 + 3*x^3*y^2*z^6*h^4 + x^3*y^2*z^4*h^6 + 3*x^3*y^2*z^3*h^7 - x^3*y^2*z^2*h^8 - 2*x^3*y^2*z*h^9 + 3*x^3*y^2*h^10 - 3*x^3*y*z^5*h^6 - x^3*y*z^4*h^7 - x^3*y*z^2*h^9 - 2*x^3*y*h^11 + x^3*z^5*h^7 + 2*x^3*z^4*h^8 - 2*x^3*z^3*h^9 + 3*x^3*z*h^11 + 2*x^2*y^6*z^5*h^2 + 2*x^2*y^6*z^4*h^3 + 3*x^2*y^6*z^3*h^4 + 3*x^2*y^6*z^2*h^5 + 2*x^2*y^6*z*h^6 - x^2*y^6*h^7 - 3*x^2*y^4*z^6*h^3 - x^2*y^4*z^5*h^4 - x^2*y^4*z^4*h^5 - 2*x^2*y^4*z^2*h^7 + x^2*y^4*z*h^8 - x^2*y^4*h^9 - 2*x^2*y^3*z^6*h^4 + x^2*y^3*z^5*h^5 + 2*x^2*y^3*z^4*h^6 - 3*x^2*y^3*z^3*h^7 - 3*x^2*y^3*z^2*h^8 + 3*x^2*y^3*z*h^9 + 2*x^2*y^3*h^10 + 3*x^2*y^2*z^5*h^6 + 3*x^2*y^2*z^4*h^7 - 3*x^2*y^2*z^3*h^8 + x^2*y^2*z^2*h^9 - x^2*y^2*z*h^10 - 3*x^2*y^2*h^11 - x^2*y*z^6*h^6 - 3*x^2*y*z^5*h^7 - x^2*y*z^4*h^8 - 3*x^2*y*z^3*h^9 + x^2*y*z^2*h^10 - x^2*y*z*h^11 - 3*x^2*y*h^12 - 2*x^2*z^6*h^7 - x^2*z^5*h^8 + 2*x^2*z^4*h^9 - x^2*z^2*h^11 + x^2*z*h^12 - 3*x^2*h^13 + 2*x*y^6*z^4*h^4 + 3*x*y^6*z^3*h^5 + 3*x*y^6*z^2*h^6 + x*y^6*z*h^7 - 2*x*y^6*h^8 + 2*x*y^5*z^6*h^3 - x*y^5*z^5*h^4 + x*y^5*z^4*h^5 + 2*x*y^5*z^3*h^6 - 3*x*y^5*z^2*h^7 - x*y^5*z*h^8 - x*y^4*z^6*h^4 + 3*x*y^4*z^4*h^6 + 3*x*y^4*z^3*h^7 - x*y^4*z^2*h^8 - 3*x*y^4*z*h^9 - x*y^4*h^10 - x*y^3*z^6*h^5 + 3*x*y^3*z^5*h^6 - x*y^3*z^4*h^7 + x*y^3*z^2*h^9 + x*y^3*z*h^10 - 3*x*y^3*h^11 - 3*x*y^2*z^6*h^6 + 3*x*y^2*z^5*h^7 + 3*x*y^2*z^4*h^8 - 3*x*y^2*z^3*h^9 - x*y^2*z^2*h^10 - 3*x*y^2*h^12 + 3*x*y*z^6*h^7 - 2*x*y*z^5*h^8 - x*y*z^4*h^9 - x*y*z^3*h^10 + 2*x*y*z^2*h^11 + 3*x*y*z*h^12 + 3*x*y*h^13 - 3*x*z^6*h^8 - x*z^5*h^9 - 2*x*z^4*h^10 - 2*x*z^2*h^12 - 3*x*z*h^13 - 3*x*h^14 - y^6*z^6*h^3 + y^6*z^5*h^4 + 3*y^6*z^4*h^5 + y^6*z^3*h^6 + 2*y^6*z^2*h^7 + 2*y^6*z*h^8 + 3*y^6*h^9 + 3*y^5*z^6*h^4 - 2*y^5*z^5*h^5 - 2*y^5*z^4*h^6 + 3*y^5*z^3*h^7 - 2*y^5*z^2*h^8 - y^5*z*h^9 + y^5*h^10 + 3*y^4*z^6*h^5 - y^4*z^5*h^6 - y^4*z^4*h^7 - 2*y^4*z^3*h^8 - 3*y^4*z^2*h^9 - 3*y^4*z*h^10 - 3*y^3*z^6*h^6 - 2*y^3*z^5*h^7 + y^3*z^4*h^8 + y^3*z^3*h^9 + 3*y^3*z*h^11 - 3*y^3*h^12 + 2*y^2*z^6*h^7 + y^2*z^5*h^8 - y^2*z^4*h^9 - 2*y^2*z^3*h^10 + 3*y^2*z^2*h^11 + y^2*z*h^12 + 3*y^2*h^13 + 3*y*z^6*h^8 + 2*y*z^5*h^9 + y*z^4*h^10 + 2*y*z^3*h^11 - 3*y*z^2*h^12 + 3*y*z*h^13 + 3*y*h^14 + z^6*h^9 - 3*z^5*h^10 - 3*z^4*h^11 + 2*z^3*h^12 - z^2*h^13 - 3*z*h^14\n",
      "x^4*z^2*h^9 - x^4*h^11 - x*y^6*z^6*h^2 - 2*x*y^6*z^4*h^4 + 3*x*y^6*z^2*h^6 + 2*x*y^6*h^8 + x*y^3*z^2*h^9 - x*y^3*h^11 + 3*x*z^4*h^10 + x*z^2*h^12 + x*h^14\n",
      "x^4*z*h^10 - x^4*h^11 - 2*x^3*y^4*z^4*h^4 - 3*x^3*y^4*z^2*h^6 + 3*x^3*y^4*h^8 - 3*x^3*y^3*z^5*h^4 + 3*x^3*y^3*z^3*h^6 - 2*x^3*y^3*z*h^8 + 2*x^3*y^2*z^6*h^4 + 3*x^3*y^2*z^4*h^6 + 2*x^3*y^2*z^3*h^7 - 3*x^3*y^2*z^2*h^8 + x^3*y^2*z*h^9 + 2*x^3*y^2*h^10 - 2*x^3*y*z^5*h^6 - 3*x^3*y*z^4*h^7 - 3*x^3*y*z^2*h^9 + x^3*y*h^11 + 3*x^3*z^5*h^7 - 2*x^3*z^4*h^8 + x^3*z^3*h^9 + 2*x^3*z*h^11 - x^2*y^6*z^5*h^2 - x^2*y^6*z^4*h^3 + 2*x^2*y^6*z^3*h^4 + 2*x^2*y^6*z^2*h^5 - x^2*y^6*z*h^6 - 3*x^2*y^6*h^7 + 2*x^2*y^5*z^5*h^3 + 2*x^2*y^5*z^2*h^6 - 2*x^2*y^5*z*h^7 - 2*x^2*y^5*h^8 - 2*x^2*y^4*z^6*h^3 - 3*x^2*y^4*z^5*h^4 - 3*x^2*y^4*z^4*h^5 + 3*x^2*y^4*z*h^8 - 2*x^2*y^4*h^9 + x^2*y^3*z^6*h^4 - 2*x^2*y^3*z^5*h^5 - 2*x^2*y^3*z^4*h^6 - 2*x^2*y^3*z^3*h^7 - 2*x^2*y^3*z^2*h^8 + 2*x^2*y^3*z*h^9 - 2*x^2*y^3*h^10 + 2*x^2*y^2*z^4*h^7 - 2*x^2*y^2*z^3*h^8 + 3*x^2*y^2*z^2*h^9 - 3*x^2*y^2*z*h^10 - 3*x^2*y*z^6*h^6 - 2*x^2*y*z^5*h^7 - 3*x^2*y*z^4*h^8 - 2*x^2*y*z^3*h^9 + 3*x^2*y*z^2*h^10 - 3*x^2*y*z*h^11 - 3*x^2*y*h^12 + 2*x^2*z^5*h^8 + 3*x^2*z^2*h^11 - 2*x^2*z*h^12 - x^2*h^13 - 3*x*y^6*z^6*h^2 + x*y^6*z^5*h^3 + x*y^6*z^4*h^4 + 3*x*y^6*z^3*h^5 + 2*x*y^6*z^2*h^6 - 2*x*y^6*h^8 - x*y^5*z^6*h^3 - 3*x*y^5*z^5*h^4 + 3*x*y^5*z^4*h^5 - x*y^5*z^3*h^6 + 3*x*y^5*z^2*h^7 - 3*x*y^5*z*h^8 + 2*x*y^5*h^9 - 3*x*y^4*z^6*h^4 + 2*x*y^4*z^4*h^6 + 2*x*y^4*z^3*h^7 - 3*x*y^4*z^2*h^8 - 2*x*y^4*z*h^9 - 3*x*y^4*h^10 - 3*x*y^3*z^6*h^5 + 2*x*y^3*z^5*h^6 - x*y^3*z^4*h^7 + x*y^3*z^3*h^8 + 3*x*y^3*z^2*h^9 - x*y^3*z*h^10 - x*y^3*h^11 + x*y^2*z^6*h^6 + 2*x*y^2*z^5*h^7 - 2*x*y^2*z^3*h^9 + 3*x*y^2*z^2*h^10 - 3*x*y^2*h^12 + 2*x*y*z^6*h^7 + x*y*z^5*h^8 - 3*x*y*z^4*h^9 - 3*x*y*z^3*h^10 - x*y*z^2*h^11 + 2*x*y*z*h^12 + 2*x*y*h^13 + 2*x*z^6*h^8 - 2*x*z^5*h^9 - x*z^4*h^10 + x*z^3*h^11 - x*z^2*h^12 - 3*x*z*h^13 + 2*x*h^14 - 3*y^6*z^6*h^3 + 3*y^6*z^5*h^4 + 2*y^6*z^4*h^5 + 3*y^6*z^3*h^6 - y^6*z^2*h^7 - y^6*z*h^8 + 2*y^6*h^9 + 2*y^5*z^6*h^4 - y^5*z^5*h^5 + 2*y^5*z^4*h^6 + 2*y^5*z^3*h^7 + y^5*z^2*h^8 - 3*y^5*z*h^9 - 3*y^5*h^10 + 2*y^4*z^6*h^5 - 2*y^4*z^5*h^6 - 3*y^4*z^4*h^7 + y^4*z^3*h^8 - 2*y^4*z^2*h^9 - 2*y^4*z*h^10 - y^4*h^11 + y^3*z^6*h^6 + y^3*z^5*h^7 + 3*y^3*z^3*h^9 - y^3*z^2*h^10 + 2*y^3*z*h^11 - 2*y^3*h^12 - y^2*z^6*h^7 + 3*y^2*z^5*h^8 - 3*y^2*z^4*h^9 + y^2*z^3*h^10 + 2*y^2*z^2*h^11 + 3*y^2*z*h^12 + 2*y^2*h^13 + 2*y*z^6*h^8 - y*z^5*h^9 + 3*y*z^4*h^10 - y*z^3*h^11 - 2*y*z^2*h^12 + 2*y*z*h^13 + 2*y*h^14 - 3*z^6*h^9 - z^5*h^10 - z^4*h^11 - 3*z^3*h^12 + 3*z^2*h^13 - 2*z*h^14\n",
      "x^3*y^6*z^4*h + 2*x^3*y^6*z^2*h^3 - 3*x^3*y^6*h^5 + 2*x^3*y^3*z^6*h^2 + x^3*y^3*z^4*h^4 - 2*x^3*y^3*z^2*h^6 + x^3*y^3*h^8 - 3*x^3*z^6*h^5 - 3*x^3*z^4*h^7 + x^3*z^2*h^9 - 2*x^3*h^11 - 2*y^6*z^6*h^2 + y^6*z^4*h^4 + 3*y^6*z^2*h^6 - y^3*z^6*h^5 + 2*y^3*z^4*h^7 + y^3*z^2*h^9 - 2*y^3*h^11 - z^6*h^8 - z^2*h^12 + 2*h^14\n",
      "x^3*y^6*z^3*h^3 - 3*x^3*y^3*z^5*h^4 - x^3*y^3*z^3*h^6 - 2*x^3*y^3*z*h^8 - x^3*z^5*h^7 - 3*x^3*z^3*h^9 + 3*x^3*z*h^11 - x^2*y^6*z^5*h^2 + 2*x^2*y^6*z^4*h^3 + 2*x^2*y^6*z^3*h^4 + 3*x^2*y^6*z^2*h^5 + x^2*z^5*h^8 - 2*x^2*z^4*h^9 - 2*x^2*z^3*h^10 - 3*x^2*z^2*h^11 + y^6*z^5*h^4 + 3*y^6*z^3*h^6 - 3*y^6*z*h^8 + y^3*z^5*h^7 - 3*y^3*z^3*h^9 + 2*y^3*z*h^11 + 3*z^5*h^10 - 2*z^3*h^12 - z*h^14\n",
      "x^3*y^6*z^2*h^4 - 3*x^3*y^3*h^9 + x^3*z^4*h^8 - x^2*y^5*z^5*h^3 - x^2*y^5*z^2*h^6 + x^2*y^5*z*h^7 + x^2*y^5*h^8 - 3*x^2*y^4*z^2*h^7 + 3*x^2*y^4*h^9 - x^2*y^3*z^5*h^5 - 3*x^2*y^3*z^4*h^6 - 3*x^2*y^3*h^10 + x^2*y^2*z^5*h^6 - x^2*y^2*h^11 - 3*x^2*y*h^12 - 3*x^2*z^6*h^7 + x^2*z^5*h^8 + 3*x^2*z^4*h^9 - 3*x^2*z^2*h^11 - x^2*z*h^12 + 3*x^2*h^13 + x*y^6*z^5*h^3 + x*y^6*z^2*h^6 - x*y^6*z*h^7 - x*y^6*h^8 + 2*x*y^5*z^6*h^3 + x*y^5*z^4*h^5 - 3*x*y^5*h^9 + 3*x*y^3*z^5*h^6 + x*y^3*z^4*h^7 - x*y^3*z^3*h^8 - 2*x*y^3*z^2*h^9 + 2*x*y^3*z*h^10 - 3*x*y^3*h^11 - x*y^2*z^4*h^8 + 2*x*y^2*z^2*h^10 + 3*x*y^2*h^12 - 2*x*z^6*h^8 - 2*x*z^5*h^9 - x*z^4*h^10 + x*z^3*h^11 - x*z^2*h^12 + x*z*h^13 - 3*x*h^14 + 2*y^6*z^6*h^3 - 2*y^6*z^4*h^5 - 3*y^6*h^9 + y^5*z^5*h^5 + 3*y^5*z^4*h^6 + 3*y^5*h^10 + 3*y^4*z^5*h^6 - 3*y^4*h^11 - 2*y^3*z^6*h^6 + 3*y^3*z^4*h^8 - 2*y^3*z^2*h^10 + 3*y^3*h^12 + 2*z^6*h^9 + 3*z^5*h^10 + z^3*h^12 + z^2*h^13\n",
      "x^3*y^5*z^5 - x^3*y^5*h^5 - 3*x^3*y^4*h^6 - x^3*z^5*h^5 - 3*x^3*z^4*h^6 - 3*x^3*h^10 + 3*x^2*y^6*z^5 - 3*x^2*y^6*h^5 + 3*x^2*y^5*z^4*h^2 + x^2*y^5*z^2*h^4 + 3*x^2*y^5*h^6 + x^2*y^3*z^5*h^3 + x^2*y^3*z^2*h^6 - x^2*y^3*z*h^7 - x^2*y^3*h^8 - x^2*y^2*z^2*h^7 + x^2*y^2*h^9 - 3*x^2*z^4*h^7 + 3*x^2*z^3*h^8 - x^2*z^2*h^9 + x^2*z*h^10 - 3*x*y^6*z^4*h^2 - x*y^6*z^2*h^4 - x*y^6*h^6 - 2*x*y^3*z^6*h^3 - x*y^3*z^4*h^5 - 3*x*y^3*z^2*h^7 - x*y^3*h^9 + 2*x*z^6*h^6 + 3*x*z^4*h^8 - y^5*z^5*h^3 - y^5*z^2*h^6 + y^5*z*h^7 + y^5*h^8 - 3*y^4*z^2*h^7 + 3*y^4*h^9 - y^3*z^5*h^5 - 3*y^3*z^4*h^6 - 3*y^3*h^10 + y^2*z^5*h^6 - y^2*h^11 - 3*y*h^12 - 3*z^6*h^7 + z^5*h^8 + 3*z^4*h^9 - 3*z^2*h^11 - z*h^12 + 3*h^13\n",
      "x^3*y^5*z^4*h^2 - 2*x^3*y^5*z^2*h^4 - 2*x^3*y^3*z^5*h^3 - 2*x^3*y^3*z^2*h^6 + 2*x^3*y^3*z*h^7 + 2*x^3*y^3*h^8 + 2*x^3*y^2*z^2*h^7 - 2*x^3*y^2*h^9 + x^3*y*z^5*h^5 + 3*x^3*y*z^4*h^6 + 3*x^3*y*h^10 + 3*x^3*z^5*h^6 - x^3*z^4*h^7 + x^3*z^3*h^8 + 2*x^3*z^2*h^9 - 2*x^3*z*h^10 - 3*x^3*h^11 - x^2*y^6*z^4*h^2 + 2*x^2*y^6*z^2*h^4 + x^2*y^6*h^6 - x^2*y^4*z^5*h^3 - x^2*y^4*z^2*h^6 + x^2*y^4*z*h^7 + x^2*y^4*h^8 - x^2*y^3*z^6*h^3 + 3*x^2*y^3*z^4*h^5 - 2*x^2*y^3*z^2*h^7 - 3*x^2*y*z^5*h^6 + 3*x^2*y*z^4*h^7 - 3*x^2*y*z^3*h^8 + x^2*y*z^2*h^9 - x^2*y*z*h^10 + 3*x^2*y*h^11 + x^2*z^6*h^6 - x^2*z^4*h^8 - 2*x^2*z^2*h^10 + 2*x*y^4*z^6*h^3 + x*y^4*z^4*h^5 + 3*x*y^4*z^2*h^7 + x*y^4*h^9 - 2*x*y*z^6*h^6 + x*y*z^2*h^10 + x*y*h^12 - y^6*z^5*h^3 - y^6*z^2*h^6 + y^6*z*h^7 + y^6*h^8 + 3*y^5*z^6*h^3 - 2*y^5*z^4*h^5 - y^5*h^9 + y^4*z^5*h^5 + 3*y^4*z^4*h^6 + 3*y^4*h^10 - 3*y^3*z^5*h^6 - 2*y^3*z^4*h^7 + 2*y^3*z^3*h^8 - 3*y^3*z^2*h^9 + 3*y^3*z*h^10 + 3*y^3*h^11 + 2*y^2*z^4*h^8 + 3*y^2*z^2*h^10 + y^2*h^12 + 3*y*z^6*h^7 - y*z^5*h^8 - 3*y*z^4*h^9 + 3*y*z^2*h^11 + y*z*h^12 - 3*y*h^13 - 3*z^6*h^8 + 2*z^4*h^10 - 2*z^3*h^11 - 2*z^2*h^12 + 2*z*h^13 + 3*h^14\n",
      "x^3*y^5*z^3*h^4 + 2*x^3*y^4*h^8 + x^3*y^3*z^3*h^6 - x^3*y^3*z*h^8 - x^3*y^2*z^3*h^7 + x^3*y^2*z*h^9 + x^3*y*z^5*h^6 - 3*x^3*y*z^4*h^7 + 2*x^3*y*z*h^10 + x^3*z^5*h^7 + 2*x^3*z^4*h^8 - x^3*z^3*h^9 - 2*x^3*z*h^11 + 2*x^2*y^6*z^5*h^2 - x^2*y^6*z^3*h^4 + 3*x^2*y^6*z*h^6 - 2*x^2*y^6*h^7 + 2*x^2*y^5*z^5*h^3 - 2*x^2*y^5*z^4*h^4 - x^2*y^5*z^2*h^6 - 2*x^2*y^5*z*h^7 + 3*x^2*y^5*h^8 + x^2*y^4*z^5*h^4 - 3*x^2*y^4*z^3*h^6 + 3*x^2*y^4*z^2*h^7 + 2*x^2*y^4*z*h^8 - 3*x^2*y^4*h^9 + x^2*y^3*z^5*h^5 - x^2*y^3*z^4*h^6 + x^2*y^3*z^3*h^7 + 3*x^2*y^3*z^2*h^8 + 3*x^2*y^3*h^10 - 2*x^2*y^2*z^5*h^6 + 3*x^2*y^2*z^2*h^9 - x^2*y^2*h^11 - 2*x^2*y*z^5*h^7 + 2*x^2*y*z^4*h^8 - x^2*y*z^3*h^9 + 3*x^2*y*z^2*h^10 + 3*x^2*y*z*h^11 + x^2*y*h^12 - x^2*z^6*h^7 + 2*x^2*z^5*h^8 - x^2*z^4*h^9 - x^2*z^3*h^10 + 3*x^2*z^2*h^11 + 2*x^2*z*h^12 + x^2*h^13 - 2*x*y^6*z^5*h^3 + 2*x*y^6*z^4*h^4 + x*y^6*z^2*h^6 + 2*x*y^6*z*h^7 - 2*x*y^6*h^8 + 3*x*y^5*z^6*h^3 - 2*x*y^5*z^4*h^5 - x*y^5*h^9 - 2*x*y^4*z^6*h^4 + 3*x*y^4*z^5*h^5 - x*y^4*z^4*h^6 + 2*x*y^4*z^3*h^7 - 3*x*y^4*z^2*h^8 + 2*x*y^4*z*h^9 - x*y^4*h^10 - x*y^3*z^6*h^5 + x*y^3*z^5*h^6 + x*y^3*z^4*h^7 + 2*x*y^3*z^3*h^8 - x*y^3*z^2*h^9 + 3*x*y^3*z*h^10 + 2*x*y^3*h^11 + 2*x*y^2*z^4*h^8 + 3*x*y^2*z^2*h^10 + x*y^2*h^12 + 2*x*y*z^6*h^7 + 3*x*y*z^3*h^10 - x*y*z^2*h^11 - 3*x*y*z*h^12 - x*y*h^13 - 2*x*z^6*h^8 - 3*x*z^5*h^9 - 2*x*z^3*h^11 + 2*x*z^2*h^12 - 2*x*z*h^13 - x*h^14 - 2*y^6*z^6*h^3 - y^6*z^4*h^5 - 3*y^6*z^3*h^6 + 3*y^6*z*h^8 + 3*y^6*h^9 + 2*y^5*z^5*h^5 + y^5*z^4*h^6 + 3*y^5*z*h^9 + y^5*h^10 + 2*y^4*z^5*h^6 - 3*y^4*z^4*h^7 + 2*y^4*z^2*h^9 + 2*y^4*z*h^10 - 3*y^4*h^11 - 3*y^3*z^6*h^6 - 2*y^3*z^5*h^7 + y^3*z^4*h^8 - 2*y^3*z^3*h^9 + 2*y^3*z*h^11 - 3*y^3*h^12 + 3*y^2*z^5*h^8 + 2*y^2*z^3*h^10 + 3*y^2*z*h^12 - 3*y*z^6*h^8 - y*z^5*h^9 + 3*y*z^4*h^10 + 2*y*z^3*h^11 - y*z*h^13 + 2*y*h^14 + 3*z^5*h^10 + 3*z^4*h^11 - z^3*h^12 - 2*z^2*h^13 - 3*z*h^14\n",
      "x^3*y^5*z*h^5 + 3*x^3*y^4*z*h^6 - 2*x^3*y*z^5*h^5 + x^3*y*z^4*h^6 + x^3*y*h^10 - 2*x^3*z^5*h^6 + 3*x^3*z*h^10 - x^3*h^11 + 3*x^2*y^6*z*h^5 + 3*x^2*y^6*h^6 - 3*x^2*y^5*z^5*h^2 - x^2*y^5*z^3*h^4 - 3*x^2*y^5*z*h^6 + 2*x^2*y^4*z^5*h^3 + 2*x^2*y^4*z^2*h^6 - 2*x^2*y^4*z*h^7 - 2*x^2*y^4*h^8 - x^2*y^3*z^3*h^6 - x^2*y^3*z^2*h^7 + x^2*y^3*z*h^8 + x^2*y^3*h^9 + x^2*y^2*z^3*h^7 - x^2*y^2*z*h^9 - x^2*y*z^5*h^6 + x^2*y*z^4*h^7 - x^2*y*z^3*h^8 - 2*x^2*y*z^2*h^9 + 2*x^2*y*z*h^10 + x^2*y*h^11 + 3*x^2*z^5*h^7 + 3*x^2*z^4*h^8 + x^2*z^3*h^9 + x^2*z^2*h^10 + 3*x*y^6*z^5*h^2 + x*y^6*z^3*h^4 + x*y^6*z*h^6 + 3*x*y^4*z^6*h^3 - 2*x*y^4*z^4*h^5 + x*y^4*z^2*h^7 - 2*x*y^4*h^9 + x*y^3*z^5*h^5 + 3*x*y^3*z^3*h^7 + 3*x*y^3*z*h^9 - 3*x*y*z^6*h^6 - 2*x*y*z^2*h^10 - 2*x*y*h^12 - 3*x*z^5*h^8 - 2*x*z*h^12 + y^5*z^3*h^6 - y^5*z*h^8 - 2*y^4*z^5*h^5 + y^4*z^4*h^6 + 3*y^4*z^3*h^7 - 3*y^4*z*h^9 + y^4*h^10 - 2*y^3*z^5*h^6 + 3*y^3*z*h^10 - y^3*h^11 + y^2*z*h^11 + y*z^6*h^7 + 2*y*z^5*h^8 - y*z^4*h^9 + y*z^2*h^11 + y*z*h^12 - y*h^13 + 2*z^5*h^9 + 3*z^3*h^11 - z^2*h^12 + 2*z*h^13 + h^14\n",
      "x^3*y^5*h^6 - 2*x^3*y*z^5*h^5 + x^3*y*z^4*h^6 + x^3*y*h^10 + 2*x^3*z^5*h^6 - 2*x^3*h^11 - x^2*y^6*h^6 + 2*x^2*y^4*z^5*h^3 + 2*x^2*y^4*z^2*h^6 - 2*x^2*y^4*z*h^7 - 2*x^2*y^4*h^8 - 2*x^2*y^3*z^2*h^7 + 2*x^2*y^3*h^9 - x^2*y*z^5*h^6 + x^2*y*z^4*h^7 - x^2*y*z^3*h^8 - 2*x^2*y*z^2*h^9 + 2*x^2*y*z*h^10 + x^2*y*h^11 - x^2*z^4*h^8 + 2*x^2*z^2*h^10 + 3*x*y^4*z^6*h^3 - 2*x*y^4*z^4*h^5 + x*y^4*z^2*h^7 - 2*x*y^4*h^9 - 3*x*y*z^6*h^6 - 2*x*y*z^2*h^10 - 2*x*y*h^12 + y^5*z^2*h^7 - y^5*h^9 - 2*y^4*z^5*h^5 + y^4*z^4*h^6 + y^4*h^10 + 2*y^3*z^5*h^6 - 2*y^3*h^11 + y^2*h^12 + y*z^6*h^7 + 2*y*z^5*h^8 - y*z^4*h^9 + y*z^2*h^11 - 2*y*z*h^12 - y*h^13 - 2*z^5*h^9 - 2*z^2*h^12 + 2*z*h^13 + 2*h^14\n",
      "x^3*y^4*z^6*h^2 - 3*x^3*y^4*z^4*h^4 - x^3*y^4*z^2*h^6 - 3*x^3*y^4*h^8 - x^3*y*z^4*h^7 - 2*x^3*y*z^2*h^9 + 3*x^3*y*h^11 + 2*x^2*y^4*z^6*h^3 - 2*x^2*y^4*h^9 - x^2*y*z^6*h^6 + x^2*y*h^12 + y^4*z^6*h^5 + y^4*z^4*h^7 - 3*y^4*z^2*h^9 + y^4*h^11 - 3*y*z^6*h^8 - 3*y*z^4*h^10 + y*z^2*h^12 - y*h^14\n",
      "x^3*y^4*z^5*h^3 + x^3*y^4*z^2*h^6 - x^3*y^4*h^8 - 3*x^3*y*z^5*h^6 + 2*x^3*y*z^4*h^7 + 3*x^3*y*z^3*h^8 - x^3*y*z^2*h^9 + 3*x^3*y*z*h^10 + 3*x^3*y*h^11 - 3*x^3*z^5*h^7 - 3*x^3*z*h^11 - x^2*y^6*z*h^6 + x^2*y^6*h^7 - x^2*y^5*z^5*h^3 + 2*x^2*y^5*z^3*h^5 - x^2*y^5*z*h^7 - 3*x^2*y^4*z^6*h^3 + 3*x^2*y^4*z^5*h^4 + 2*x^2*y^4*z^4*h^5 - 3*x^2*y^4*z^3*h^6 - 3*x^2*y^4*z^2*h^7 - 3*x^2*y^4*h^9 - 2*x^2*y^3*z^3*h^7 + 2*x^2*y^3*z^2*h^8 + 2*x^2*y^3*z*h^9 - 2*x^2*y^3*h^10 - 2*x^2*y^2*z^3*h^8 + 2*x^2*y^2*z*h^10 + 3*x^2*y*z^6*h^6 - 3*x^2*y*z^5*h^7 - x^2*y*z^4*h^8 - 2*x^2*y*z^3*h^9 - 3*x^2*y*z^2*h^10 - 2*x^2*y*z*h^11 + x^2*y*h^12 - x^2*z^5*h^8 + x^2*z^4*h^9 + 2*x^2*z^3*h^10 - 2*x^2*z^2*h^11 + x*y^6*z^5*h^3 - 2*x*y^6*z^3*h^5 - 2*x*y^6*z*h^7 + x*y^4*z^6*h^4 + 3*x*y^4*z^5*h^5 - 3*x*y^4*z^4*h^6 + 2*x*y^4*z^3*h^7 - 2*x*y^4*z^2*h^8 + 2*x*y^4*z*h^9 - 3*x*y^4*h^10 - 2*x*y^3*z^5*h^6 + x*y^3*z^3*h^8 + x*y^3*z*h^10 - x*y*z^6*h^7 + 3*x*y*z^3*h^10 - 3*x*y*z^2*h^11 - 3*x*y*z*h^12 - 3*x*y*h^13 - x*z^5*h^9 - 3*x*z*h^13 - y^6*z^6*h^3 + 3*y^6*z^4*h^5 - 3*y^6*z^2*h^7 + y^6*h^9 - y^4*z^4*h^7 - 2*y^4*z^2*h^9 + 3*y^4*z*h^10 + 2*y^3*z^6*h^6 - 3*y^3*z^5*h^7 - y^3*z^2*h^10 - 3*y^3*z*h^11 - y^3*h^12 + 3*y*z^6*h^8 + 2*y*z^5*h^9 + y*z^4*h^10 + 3*y*z^3*h^11 + 3*y*z^2*h^12 + 3*y*z*h^13 - 2*z^6*h^9 + 3*z^5*h^10 - z^4*h^11 - 3*z^3*h^12 + 3*z^2*h^13\n",
      "x^3*y^4*z^3*h^5 - 3*x^3*y^4*z^2*h^6 + 3*x^3*y^4*h^8 - 2*x^3*y*z^5*h^6 - x^3*y*z^4*h^7 - x^3*y*z^3*h^8 + 3*x^3*y*z^2*h^9 + 2*x^3*y*z*h^10 - x^3*y*h^11 - x^3*z^5*h^7 - x^3*z*h^11 + 2*x^2*y^6*z*h^6 - 2*x^2*y^6*h^7 - 3*x^2*y^5*z^5*h^3 + 3*x^2*y^5*z^3*h^5 + 2*x^2*y^5*z^2*h^6 - 2*x^2*y^5*h^8 + 2*x^2*y^4*z^6*h^3 + x^2*y^4*z^5*h^4 + x^2*y^4*z^4*h^5 - x^2*y^4*z^3*h^6 - 3*x^2*y^4*h^9 + 2*x^2*y^3*z^5*h^5 - x^2*y^3*z^4*h^6 - 3*x^2*y^3*z^3*h^7 + 3*x^2*y^3*z^2*h^8 + 3*x^2*y^3*z*h^9 + 3*x^2*y^3*h^10 - 2*x^2*y^2*z^5*h^6 - 3*x^2*y^2*z^3*h^8 + 3*x^2*y^2*z*h^10 + 2*x^2*y^2*h^11 - 2*x^2*y*z^6*h^6 - x^2*y*z^5*h^7 - x^2*y*z^4*h^8 - 3*x^2*y*z^3*h^9 + 3*x^2*y*z^2*h^10 - 3*x^2*y*z*h^11 - x^2*y*h^12 - x^2*z^6*h^7 - x^2*z^4*h^9 + 3*x^2*z^3*h^10 + 3*x^2*z^2*h^11 + 2*x^2*z*h^12 + x^2*h^13 + x*y^6*z^5*h^3 + x*y^6*z^3*h^5 - 2*x*y^6*z^2*h^6 + 2*x*y^6*z*h^7 + 2*x*y^6*h^8 + 3*x*y^5*z^6*h^3 - 2*x*y^5*z^4*h^5 - x*y^5*h^9 - x*y^4*z^6*h^4 - 3*x*y^4*z^5*h^5 + 3*x*y^4*z^4*h^6 + 3*x*y^4*z*h^9 - 2*x*y^4*h^10 + 2*x*y^3*z^5*h^6 - 2*x*y^3*z^4*h^7 + 3*x*y^3*z^3*h^8 - 3*x*y^3*z^2*h^9 + x*y^3*z*h^10 - x*y^3*h^11 + 2*x*y^2*z^4*h^8 + 3*x*y^2*z^2*h^10 + x*y^2*h^12 + x*y*z^6*h^7 + x*y*z^5*h^8 - x*y*z^4*h^9 + 2*x*y*z^3*h^10 - 2*x*y*z^2*h^11 - 3*x*y*z*h^12 + 2*x*y*h^13 - 3*x*z^6*h^8 + 2*x*z^4*h^10 + 2*x*z^2*h^12 + 3*x*z*h^13 - x*h^14 + 2*y^6*z^6*h^3 + y^6*z^4*h^5 - 2*y^6*z^2*h^7 - y^6*h^9 - 2*y^5*z^5*h^5 + y^5*z^4*h^6 + y^5*h^10 - y^4*z^5*h^6 + y^4*z^4*h^7 - y^4*z^2*h^9 + y^4*z*h^10 + 3*y^3*z^6*h^6 - y^3*z^5*h^7 - y^3*z^4*h^8 - 3*y^3*z^2*h^10 - y^3*z*h^11 + y^3*h^12 + 3*y*z^6*h^8 + 3*y*z^5*h^9 - y*z^4*h^10 - 3*y*z^3*h^11 - y*z^2*h^12 + y*z*h^13 - y*h^14 - z^6*h^9 + 2*z^5*h^10 + 2*z^4*h^11 - 3*z^3*h^12\n",
      "x^3*y^4*z*h^7 - x^3*y*z^5*h^6 - 2*x^3*y*z^4*h^7 + 2*x^3*y*z*h^10 + x^3*y*h^11 - 3*x^3*z^5*h^7 - 3*x^3*z*h^11 - x^2*y^6*z*h^6 + x^2*y^6*h^7 + x^2*y^5*z^5*h^3 + 2*x^2*y^5*z^3*h^5 + 2*x^2*y^5*z^2*h^6 - 3*x^2*y^5*z*h^7 - 2*x^2*y^5*h^8 + 3*x^2*y^4*z^5*h^4 - 3*x^2*y^4*z^3*h^6 - 2*x^2*y^4*z^2*h^7 + 2*x^2*y^4*h^9 + 2*x^2*y^3*z^5*h^5 - x^2*y^3*z^4*h^6 - 2*x^2*y^3*z^3*h^7 + 2*x^2*y^3*z^2*h^8 + 2*x^2*y^3*z*h^9 - 3*x^2*y^3*h^10 - 2*x^2*y^2*z^5*h^6 - 2*x^2*y^2*z^3*h^8 + 2*x^2*y^2*z*h^10 + 2*x^2*y^2*h^11 - 3*x^2*y*z^5*h^7 + 3*x^2*y*z^4*h^8 - 2*x^2*y*z^3*h^9 + x^2*y*z^2*h^10 - 2*x^2*y*z*h^11 + 2*x^2*y*h^12 - x^2*z^6*h^7 - 3*x^2*z^5*h^8 + 2*x^2*z^4*h^9 + 2*x^2*z^3*h^10 - 3*x^2*z^2*h^11 + 2*x^2*z*h^12 + x^2*h^13 - x*y^6*z^5*h^3 - 2*x*y^6*z^3*h^5 - 2*x*y^6*z^2*h^6 + 2*x*y^6*h^8 + 3*x*y^5*z^6*h^3 - 2*x*y^5*z^4*h^5 - x*y^5*h^9 + x*y^4*z^6*h^4 + 3*x*y^4*z^5*h^5 - 3*x*y^4*z^4*h^6 + 2*x*y^4*z^3*h^7 - 2*x*y^4*z^2*h^8 + 2*x*y^4*z*h^9 - 3*x*y^4*h^10 - x*y^3*z^5*h^6 - 2*x*y^3*z^4*h^7 + 3*x*y^3*z^3*h^8 - 3*x*y^3*z^2*h^9 - 3*x*y^3*z*h^10 - x*y^3*h^11 + 2*x*y^2*z^4*h^8 + 3*x*y^2*z^2*h^10 + x*y^2*h^12 - x*y*z^6*h^7 + 3*x*y*z^3*h^10 - 3*x*y*z^2*h^11 - 3*x*y*z*h^12 - 3*x*y*h^13 - 3*x*z^6*h^8 + 3*x*z^5*h^9 + 2*x*z^4*h^10 - 2*x*z^3*h^11 + 2*x*z^2*h^12 + 2*x*z*h^13 - x*h^14 - y^6*z^6*h^3 + 3*y^6*z^4*h^5 + 3*y^6*z^2*h^7 + 2*y^6*h^9 - 2*y^5*z^5*h^5 + y^5*z^4*h^6 + y^5*h^10 - 2*y^4*z^4*h^7 + y^4*z^3*h^8 + y^4*z*h^10 + 2*y^3*z^6*h^6 - 3*y^3*z^5*h^7 - y^3*z^4*h^8 + y^3*z^2*h^10 - 3*y^3*z*h^11 - 2*y^3*h^12 - 2*y*z^6*h^8 + y*z^5*h^9 + 2*y*z^4*h^10 + 2*y*z^3*h^11 + y*z^2*h^12 - 2*y*z*h^13 - y*h^14 - 3*z^5*h^10 - z^4*h^11 + 2*z^3*h^12 + 2*z^2*h^13\n",
      "x^3*y^4*h^9 + x^2*y*z^3*h^10 + 2*x^2*y*z^2*h^11 - x^2*y*z*h^12 - 2*x^2*y*h^13 - x^2*z^5*h^9 + 3*x^2*z^3*h^11 - 2*x^2*z*h^13 + 2*x*y^6*z*h^8 + x*y^5*z^5*h^5 + 2*x*y^5*z^4*h^6 - 3*x*y^5*z^3*h^7 - x*y^5*z^2*h^8 + 2*x*y^5*z*h^9 - x*y^5*h^10 - 2*x*y^4*z^5*h^6 + x*y^4*z^4*h^7 - x*y^4*z^3*h^8 - 2*x*y^4*z^2*h^9 + 3*x*y^4*z*h^10 + x*y^4*h^11 + 3*x*y^3*z^5*h^7 - x*y^3*z^4*h^8 - 2*x*y^3*z^3*h^9 - x*y^3*z*h^11 + x*y^3*h^12 + x*y^2*z^6*h^7 - 2*x*y^2*z^5*h^8 + 2*x*y^2*z^4*h^9 - 2*x*y^2*z^3*h^10 - 2*x*y^2*z^2*h^11 - 3*x*y^2*z*h^12 - x*y^2*h^13 - 2*x*y*z^6*h^8 + 2*x*y*z^5*h^9 + 2*x*y*z^3*h^11 - 2*x*y*z^2*h^12 + 3*x*y*z*h^13 - 3*x*y*h^14 - 3*x*z^5*h^10 - 3*x*z^3*h^12 - 3*x*z*h^14 - 2*y^6*z^6*h^4 - 3*y^6*z^5*h^5 + y^6*z^4*h^6 + 2*y^6*z^3*h^7 - 3*y^6*z^2*h^8 + y^6*z*h^9 - 3*y^6*h^10 + 3*y^5*z^6*h^5 + 2*y^5*z^5*h^6 - y^5*z^3*h^8 + 3*y^5*z^2*h^9 - y^5*z*h^10 + y^5*h^11 + y^4*z^5*h^7 - 2*y^4*z^4*h^8 - 2*y^4*z^3*h^9 - 3*y^4*z^2*h^10 + y^4*z*h^11 - 2*y^4*h^12 + 3*y^3*z^6*h^7 + 3*y^3*z^5*h^8 + 3*y^3*z^4*h^9 - 2*y^3*z^3*h^10 - 2*y^3*z^2*h^11 - y^3*z*h^12 + 3*y^3*h^13 + 3*y^2*z^6*h^8 - 3*y^2*z^5*h^9 - y^2*z^4*h^10 - y^2*z^2*h^12 + 3*y^2*z*h^13 - y^2*h^14 - 2*y*z^6*h^9 + 3*y*z^5*h^10 - 2*y*z^4*h^11 - y*z^3*h^12 + 3*y*z^2*h^13 - 2*y*z*h^14 + 2*y*h^15 + 3*z^6*h^10 - 2*z^4*h^12 - z^2*h^14\n",
      "x^3*y^3*z^6*h^3 - x^3*y^3*h^9 - 3*y^6*z^6*h^3 + 3*y^6*h^9 + 3*y^3*z^6*h^6 - 3*y^3*h^12\n",
      "x^3*y^3*z^4*h^5 - x^3*y^3*h^9 + 2*x^3*z^4*h^8 - 3*x^3*z^2*h^10 + x^2*y^5*z^5*h^3 + x^2*y^5*z^2*h^6 - x^2*y^5*z*h^7 - x^2*y^5*h^8 + 3*x^2*y^4*z^2*h^7 - 3*x^2*y^4*h^9 + x^2*y^3*z^5*h^5 + 3*x^2*y^3*z^4*h^6 + 3*x^2*y^3*h^10 - x^2*y^2*z^5*h^6 + x^2*y^2*h^11 + 3*x^2*y*h^12 + 3*x^2*z^6*h^7 - x^2*z^5*h^8 - 3*x^2*z^4*h^9 + 3*x^2*z^2*h^11 + x^2*z*h^12 - 3*x^2*h^13 - x*y^6*z^5*h^3 - x*y^6*z^2*h^6 + x*y^6*z*h^7 + x*y^6*h^8 - 2*x*y^5*z^6*h^3 - x*y^5*z^4*h^5 + 3*x*y^5*h^9 - 3*x*y^3*z^5*h^6 - x*y^3*z^4*h^7 + x*y^3*z^3*h^8 + 2*x*y^3*z^2*h^9 - 2*x*y^3*z*h^10 + 3*x*y^3*h^11 + x*y^2*z^4*h^8 - 2*x*y^2*z^2*h^10 - 3*x*y^2*h^12 + 2*x*z^6*h^8 + 2*x*z^5*h^9 + x*z^4*h^10 - x*z^3*h^11 + x*z^2*h^12 - x*z*h^13 + 3*x*h^14 + 3*y^6*z^6*h^3 + 2*y^6*z^4*h^5 + y^6*z^2*h^7 + y^6*h^9 - y^5*z^5*h^5 - 3*y^5*z^4*h^6 - 3*y^5*h^10 - 3*y^4*z^5*h^6 + 3*y^4*h^11 - 2*y^3*z^6*h^6 - 3*y^3*z^4*h^8 - 2*y^3*z^2*h^10 - y^3*h^12 - 3*z^6*h^9 - 3*z^5*h^10 - z^4*h^11 - z^3*h^12 + z^2*h^13\n",
      "x^3*y^3*z^2*h^7 - x^3*y^3*h^9 - 3*x^3*z^4*h^8 - x^3*z^2*h^10 + x^2*y^5*z^5*h^3 + x^2*y^5*z^2*h^6 - x^2*y^5*z*h^7 - x^2*y^5*h^8 + 3*x^2*y^4*z^2*h^7 - 3*x^2*y^4*h^9 + x^2*y^3*z^5*h^5 + 3*x^2*y^3*z^4*h^6 + 3*x^2*y^3*h^10 - x^2*y^2*z^5*h^6 + x^2*y^2*h^11 + 3*x^2*y*h^12 + 3*x^2*z^6*h^7 - x^2*z^5*h^8 - 3*x^2*z^4*h^9 + 3*x^2*z^2*h^11 + x^2*z*h^12 - 3*x^2*h^13 - x*y^6*z^5*h^3 - x*y^6*z^2*h^6 + x*y^6*z*h^7 + x*y^6*h^8 - 2*x*y^5*z^6*h^3 - x*y^5*z^4*h^5 + 3*x*y^5*h^9 - 3*x*y^3*z^5*h^6 - x*y^3*z^4*h^7 + x*y^3*z^3*h^8 + 2*x*y^3*z^2*h^9 - 2*x*y^3*z*h^10 + 3*x*y^3*h^11 + x*y^2*z^4*h^8 - 2*x*y^2*z^2*h^10 - 3*x*y^2*h^12 + 2*x*z^6*h^8 + 2*x*z^5*h^9 + x*z^4*h^10 - x*z^3*h^11 + x*z^2*h^12 - x*z*h^13 + 3*x*h^14 + 2*y^6*z^6*h^3 + y^6*z^4*h^5 - y^6*z^2*h^7 - 2*y^6*h^9 - y^5*z^5*h^5 - 3*y^5*z^4*h^6 - 3*y^5*h^10 - 3*y^4*z^5*h^6 + 3*y^4*h^11 + 3*y^3*z^6*h^6 - 3*y^3*z^4*h^8 + y^3*z^2*h^10 + 2*y^3*h^12 + 3*z^6*h^9 - 3*z^5*h^10 + z^4*h^11 - z^3*h^12\n",
      "x^3*y^3*z*h^9 - 3*x^2*y*z^5*h^8 - 3*x^2*y*z^2*h^11 + 2*x^2*y*z*h^12 + 2*x^2*y*h^13 + 3*x^2*z^5*h^9 - 2*x^2*z^4*h^10 + x^2*z^3*h^11 + 3*x^2*z^2*h^12 + 3*x^2*z*h^13 - x^2*h^14 + 3*x*y^5*z^5*h^5 + x*y^5*z^4*h^6 + 2*x*y^5*z^3*h^7 + x*y^5*z^2*h^8 + 2*x*y^5*z*h^9 - 2*x*y^5*h^10 + x*y^4*z^5*h^6 - x*y^4*z^4*h^7 + x*y^4*z^3*h^8 + 2*x*y^4*z^2*h^9 - 2*x*y^4*z*h^10 - x*y^4*h^11 - 3*x*y^3*z^5*h^7 + 3*x*y^3*z^4*h^8 - 2*x*y^3*z^3*h^9 + x*y^3*z^2*h^10 - 2*x*y^3*z*h^11 + 3*x*y^3*h^12 + 3*x*y^2*z^6*h^7 + x*y^2*z^5*h^8 - 2*x*y^2*z^4*h^9 - 2*x*y^2*z^3*h^10 + x*y^2*z^2*h^11 - 3*x*y^2*h^13 - 3*x*y*z^6*h^8 - 3*x*y*z^5*h^9 + x*y*z^4*h^10 - 3*x*y*z^3*h^11 - x*y*z^2*h^12 - x*y*z*h^13 + 3*x*y*h^14 - x*z^6*h^9 - 3*x*z^5*h^10 + 3*x*z^4*h^11 - x*z^3*h^12 - 2*x*z^2*h^13 - 3*x*z*h^14 + 3*y^6*z^6*h^4 + 2*y^6*z^4*h^6 - 2*y^6*z^2*h^8 + y^6*z*h^9 - 3*y^6*h^10 + y^5*z^6*h^5 + 2*y^5*z^5*h^6 - 2*y^5*z^4*h^7 - 3*y^5*z^3*h^8 + 3*y^5*z^2*h^9 + y^5*z*h^10 - 2*y^5*h^11 + 2*y^4*z^6*h^6 - 3*y^4*z^5*h^7 + 3*y^4*z^4*h^8 + 3*y^4*z*h^11 + 2*y^4*h^12 + y^3*z^6*h^7 - 3*y^3*z^5*h^8 - 3*y^3*z^4*h^9 + 3*y^3*z^3*h^10 - y^3*z^2*h^11 + 3*y^3*h^13 - 3*y^2*z^5*h^9 + y^2*z^4*h^10 + y^2*z^3*h^11 - 2*y^2*z^2*h^12 + 2*y^2*z*h^13 + y^2*h^14 + 2*y*z^3*h^12 + 2*y*z^2*h^13 - 2*y*z*h^14 - 2*y*h^15 + 2*z^5*h^11 - 3*z^4*h^12 + z^3*h^13 + 2*z^2*h^14 - 3*z*h^15 + h^16\n",
      "x^3*y^3*h^10 + x*y^6*z*h^8 + x*y^5*z^2*h^8 - x*y^5*h^10 - 3*x*y^3*z^5*h^7 + x*y^3*z^4*h^8 + x*y^3*z^3*h^9 + 3*x*y^3*z^2*h^10 + 2*x*y^3*z*h^11 + 3*x*y^3*h^12 - x*y^2*z^6*h^7 - x*y^2*z^4*h^9 + 2*x*y^2*h^13 - x*z^6*h^9 - x*z^5*h^10 + 3*x*z^4*h^11 - 3*x*z^3*h^12 - 2*x*z^2*h^13 + 3*x*z*h^14 + 3*y^6*z^6*h^4 + 2*y^6*z^5*h^5 + y^6*z^3*h^7 - 3*y^6*z^2*h^8 - 3*y^6*z*h^9 + y^6*h^10 + 3*y^3*z^6*h^7 - 2*y^3*z^2*h^11 - y^3*h^13 + 2*z^6*h^10 - 2*z^5*h^11 + z^4*h^12 - z^3*h^13 - 3*z^2*h^14 + 3*z*h^15\n",
      "x^3*y^2*z^5*h^5 + 3*x^3*y^2*z^4*h^6 + 3*x^3*y^2*h^10 - x^3*y*z^5*h^6 + x^3*y*h^11 - 3*x^2*y^4*z^2*h^7 + 3*x^2*y^4*h^9 + x^2*y^3*z^5*h^5 + 3*x^2*y^3*z^4*h^6 + 3*x^2*y^3*h^10 + 3*x^2*y^2*z^5*h^6 + 3*x^2*y^2*z^4*h^7 - 3*x^2*y^2*z^3*h^8 + x^2*y^2*z^2*h^9 - x^2*y^2*z*h^10 - 3*x^2*y^2*h^11 - 3*x^2*y*z^4*h^8 - x^2*y*z^2*h^10 + 3*x^2*z^6*h^7 - x^2*z^5*h^8 - 3*x^2*z^4*h^9 + 3*x^2*z^2*h^11 + x^2*z*h^12 - 3*x^2*h^13 - x*y^6*z^5*h^3 - x*y^6*z^2*h^6 + x*y^6*z*h^7 + x*y^6*h^8 + 3*x*y^5*z^2*h^7 - 3*x*y^5*h^9 - 3*x*y^3*z^5*h^6 - x*y^3*z^4*h^7 + x*y^3*z^3*h^8 + 2*x*y^3*z^2*h^9 - 2*x*y^3*z*h^10 + 3*x*y^3*h^11 - 2*x*y^2*z^6*h^6 + x*y^2*z^4*h^8 - x*y^2*z^2*h^10 - 2*x*y^2*h^12 + 2*x*z^6*h^8 + 2*x*z^5*h^9 + x*z^4*h^10 - x*z^3*h^11 + x*z^2*h^12 - x*z*h^13 + 3*x*h^14 + 3*y^6*z^6*h^3 - 2*y^6*z^4*h^5 - 2*y^6*z^2*h^7 + y^6*h^9 + 3*y^4*z^5*h^6 - 3*y^4*h^11 + y^3*z^6*h^6 + 3*y^3*z^4*h^8 - 3*y^3*z^2*h^10 - y^3*h^12 + 3*y^2*z^6*h^7 - y^2*z^5*h^8 - 3*y^2*z^4*h^9 + 3*y^2*z^2*h^11 + y^2*z*h^12 - 3*y^2*h^13 + y*z^5*h^9 + y*z^2*h^12 - y*z*h^13 - y*h^14 - 3*z^5*h^10 + 3*z^4*h^11 - z^3*h^12 + z^2*h^13\n",
      "x^3*y^2*z^4*h^7 - x^3*y^2*h^11 - 2*x^2*y*z^5*h^8 + 2*x^2*y*z^3*h^10 - 3*x^2*z^6*h^8 - 2*x^2*z^5*h^9 + 2*x^2*z^4*h^10 - x^2*z^3*h^11 + x^2*z^2*h^12 + 3*x^2*z*h^13 + 3*x*y^6*z*h^8 + 3*x*y^5*z^5*h^5 + x*y^5*z^3*h^7 - 2*x*y^5*z^2*h^8 + 3*x*y^5*z*h^9 + 2*x*y^5*h^10 - x*y^4*z^5*h^6 - 2*x*y^4*z^4*h^7 + 2*x*y^4*z^3*h^8 + x*y^4*z^2*h^9 - x*y^4*z*h^10 + x*y^4*h^11 - 2*x*y^3*z^5*h^7 + x*y^3*z^4*h^8 + 3*x*y^3*z^3*h^9 - 2*x*y^3*z^2*h^10 - x*y^3*z*h^11 + x*y^3*h^12 + x*y^2*z^6*h^7 + 2*x*y^2*z^5*h^8 + x*y^2*z^4*h^9 + 2*x*y^2*z^2*h^11 - 2*x*y^2*z*h^12 + 3*x*y^2*h^13 - x*y*z^6*h^8 + 3*x*y*z^5*h^9 + 3*x*y*z^4*h^10 - 3*x*y*z^3*h^11 - 2*x*y*z^2*h^12 + 2*x*z^6*h^9 + x*z^4*h^11 + 3*x*z^3*h^12 - 3*x*z^2*h^13 + x*z*h^14 - 2*y^6*z^6*h^4 + y^6*z^5*h^5 + 2*y^6*z^4*h^6 - 2*y^6*z^3*h^7 - 3*y^6*z^2*h^8 + y^6*z*h^9 + 3*y^6*h^10 - 3*y^5*z^6*h^5 - y^5*z^5*h^6 + 3*y^5*z^4*h^7 - y^5*z^3*h^8 - 3*y^5*z^2*h^9 + 2*y^5*z*h^10 + 3*y^5*h^11 + 3*y^4*z^6*h^6 + 2*y^4*z^5*h^7 - 2*y^4*z^4*h^8 + y^4*z^3*h^9 + y^4*z^2*h^10 - 3*y^4*z*h^11 - 2*y^4*h^12 - 2*y^3*z^6*h^7 + 2*y^3*z^5*h^8 - y^3*z^4*h^9 + 2*y^3*z^3*h^10 - y^3*z^2*h^11 + 3*y^3*z*h^12 - 3*y^3*h^13 + y^2*z^6*h^8 + y^2*z^5*h^9 + 2*y^2*z^4*h^10 - y^2*z*h^13 - 3*y^2*h^14 + y*z^6*h^9 - 2*y*z^5*h^10 - y*z^4*h^11 - y*z^3*h^12 - 2*y*z^2*h^13 + 3*y*z*h^14 + 2*y*h^15 - 2*z^6*h^10 - 3*z^5*h^11 - z^4*h^12 + 2*z^3*h^13 + 3*z^2*h^14 + z*h^15\n",
      "x^3*y^2*z^3*h^8 - x^3*y^2*h^11 - 2*x^2*y*z^3*h^10 - 2*x^2*y*z^2*h^11 - x^2*y*z*h^12 - x^2*y*h^13 - 3*x^2*z^6*h^8 - 3*x^2*z^5*h^9 + 3*x^2*z^4*h^10 + 2*x^2*z^3*h^11 + x^2*z*h^13 + 3*x*y^6*z*h^8 + 2*x*y^5*z^5*h^5 - 3*x*y^5*z^4*h^6 - 2*x*y^5*z^3*h^7 + x*y^5*z^2*h^8 + 2*x*y^5*h^10 - 3*x*y^4*z^5*h^6 + x*y^4*z^4*h^7 + x*y^4*z^3*h^8 + x*y^4*z^2*h^9 + 2*x*y^4*z*h^10 - 2*x*y^4*h^11 + 2*x*y^3*z^5*h^7 - 2*x*y^3*z^4*h^8 - x*y^3*z^3*h^9 - 2*x*y^3*z^2*h^10 - x*y^3*z*h^11 - 3*x*y^3*h^12 - x*y^2*z^6*h^7 - 3*x*y^2*z^5*h^8 - 2*x*y^2*z^4*h^9 - 2*x*y^2*z^3*h^10 - 2*x*y^2*z^2*h^11 + 2*x*y^2*z*h^12 + 2*x*y^2*h^13 + 3*x*y*z^6*h^8 + 2*x*y*z^5*h^9 - 2*x*y*z^4*h^10 + x*y*z^3*h^11 - x*y*z^2*h^12 - 3*x*y*z*h^13 - 3*x*z^6*h^9 - 3*x*z^5*h^10 + 2*x*z^4*h^11 + 3*x*z^3*h^12 - x*z^2*h^13 - 3*x*z*h^14 + 2*x*h^15 - y^6*z^6*h^4 + 2*y^6*z^5*h^5 + y^6*z^4*h^6 - y^6*z^2*h^8 + 2*y^6*z*h^9 - 3*y^6*h^10 + 2*y^5*z^6*h^5 + 3*y^5*z^5*h^6 - y^5*z^4*h^7 + 2*y^5*z^3*h^8 - y^5*z^2*h^9 + 3*y^5*z*h^10 - y^5*h^11 - 2*y^4*z^6*h^6 - 2*y^4*z^5*h^7 + 3*y^4*z^4*h^8 - 2*y^4*z^3*h^9 - 2*y^4*z^2*h^10 - 3*y^4*z*h^11 + y^4*h^12 - 3*y^3*z^6*h^7 + 2*y^3*z^5*h^8 + 3*y^3*z^4*h^9 + 2*y^3*z^3*h^10 - y^3*z^2*h^11 + 3*y^3*z*h^12 + y^3*h^13 - 3*y^2*z^6*h^8 - y^2*z^5*h^9 + y^2*z^4*h^10 + 3*y^2*z^3*h^11 - 3*y^2*z^2*h^12 - 2*y^2*z*h^13 - 2*y^2*h^14 + y*z^6*h^9 - 3*y*z^5*h^10 - y*z^3*h^12 - 3*y*z*h^14 - y*h^15 - 2*z^5*h^11 + z^3*h^13 - z^2*h^14 - 3*z*h^15 - 2*h^16\n",
      "x^3*y^2*z^2*h^9 - x^3*y^2*h^11 - x^2*y*z^5*h^8 + x^2*y*z^3*h^10 - 3*x^2*y*z^2*h^11 + x^2*y*z*h^12 - 3*x^2*y*h^13 - 2*x^2*z^6*h^8 + x^2*z^4*h^10 - x^2*z^3*h^11 + 3*x^2*z^2*h^12 + x^2*z*h^13 - 2*x^2*h^14 + x*y^6*z*h^8 + 2*x*y^5*z^5*h^5 - x*y^5*z^4*h^6 - 2*x*y^5*z^3*h^7 + 3*x*y^5*z^2*h^8 - 2*x*y^5*h^10 + x*y^4*z^5*h^6 - 3*x*y^4*z^4*h^7 + x*y^4*z^3*h^8 - 2*x*y^4*z^2*h^9 - 2*x*y^4*z*h^10 - 2*x*y^4*h^11 + x*y^3*z^5*h^7 + x*y^3*z^4*h^8 + x*y^3*z^3*h^9 - 3*x*y^3*z^2*h^10 - 2*x*y^3*z*h^11 + 2*x*y^3*h^12 + x*y^2*z^6*h^7 + 3*x*y^2*z^5*h^8 + 3*x*y^2*z^4*h^9 + 2*x*y^2*z^3*h^10 + 2*x*y^2*z^2*h^11 + 3*x*y^2*z*h^12 + 2*x*y^2*h^13 - 2*x*y*z^6*h^8 + 3*x*y*z^4*h^10 + 3*x*y*z^2*h^12 + 3*x*y*h^14 - 2*x*z^6*h^9 - x*z^5*h^10 - x*z^4*h^11 - 2*x*z^2*h^13 - 2*x*h^15 + 3*y^6*z^6*h^4 - y^6*z^5*h^5 + y^6*z^4*h^6 + y^6*z^3*h^7 + 2*y^6*z^2*h^8 + 3*y^6*z*h^9 - 2*y^6*h^10 + 2*y^5*z^6*h^5 - 3*y^5*z^5*h^6 - 2*y^5*z^4*h^7 + 2*y^5*z^3*h^8 - y^5*z^2*h^9 + y^5*z*h^10 + y^5*h^11 + y^4*z^6*h^6 - 3*y^4*z^5*h^7 - 3*y^4*z^4*h^8 + y^4*z^3*h^9 + 2*y^4*z^2*h^10 + 2*y^4*z*h^11 - 3*y^3*z^6*h^7 + 2*y^3*z^5*h^8 - 3*y^3*z^3*h^10 - y^3*z^2*h^11 + y^3*z*h^12 - 3*y^3*h^13 + 3*y^2*z^6*h^8 + 3*y^2*z^5*h^9 + 3*y^2*z^4*h^10 + 2*y^2*z^3*h^11 + y^2*z^2*h^12 + 2*y^2*z*h^13 - y*z^6*h^9 - y*z^5*h^10 + 3*y*z^4*h^11 - 2*y*z^3*h^12 - 2*y*z^2*h^13 + 3*y*z*h^14 + 2*z^5*h^11 + z^4*h^12 - z^3*h^13 - 2*z^2*h^14 + 3*z*h^15 - 3*h^16\n",
      "x^3*y^2*z*h^10 - x^3*y^2*h^11 + 2*x^2*y*z^5*h^8 + 2*x^2*y*z^3*h^10 + 3*x^2*y*z^2*h^11 + x^2*y*h^13 - x^2*z^6*h^8 - 3*x^2*z^4*h^10 + 2*x^2*z^3*h^11 - 2*x^2*z*h^13 - 3*x^2*h^14 - 3*x*y^6*z*h^8 - 3*x*y^5*z^5*h^5 - 2*x*y^5*z^4*h^6 - x*y^5*z^3*h^7 - x*y^5*z^2*h^8 - 3*x*y^5*z*h^9 + 3*x*y^5*h^10 - 3*x*y^4*z^4*h^7 + x*y^4*z^3*h^8 + 3*x*y^4*z^2*h^9 - x*y^4*z*h^10 - 2*x*y^3*z^5*h^7 - 3*x*y^3*z^4*h^8 + x*y^3*z^3*h^9 + x*y^3*z^2*h^10 + x*y^3*z*h^11 + 2*x*y^3*h^12 - 2*x*y^2*z^6*h^7 + 2*x*y^2*z^5*h^8 - x*y^2*z^3*h^10 + x*y^2*z^2*h^11 + 3*x*y^2*z*h^12 - 2*x*y^2*h^13 - 3*x*y*z^6*h^8 - x*y*z^4*h^10 - 3*x*y*z^3*h^11 + x*y*z^2*h^12 + 3*x*y*z*h^13 + 3*x*y*h^14 - 2*x*z^6*h^9 + 2*x*z^5*h^10 - x*z^4*h^11 + 3*x*z^3*h^12 + 3*x*z^2*h^13 - 2*x*z*h^14 + 2*y^6*z^6*h^4 - 3*y^6*z^5*h^5 - 3*y^6*z^4*h^6 - 3*y^6*z^3*h^7 - y^6*z*h^9 + y^6*h^10 - 2*y^5*z^6*h^5 + 2*y^5*z^5*h^6 + y^5*z^4*h^7 + 3*y^5*z^3*h^8 + y^5*z^2*h^9 + 3*y^5*z*h^10 - y^5*h^11 + 2*y^4*z^6*h^6 - y^4*z^4*h^8 + 2*y^4*z^3*h^9 - 2*y^4*z*h^11 - y^4*h^12 + 3*y^3*z^6*h^7 - 3*y^3*z^5*h^8 - 3*y^3*z^3*h^10 - 2*y^3*z^2*h^11 - y^3*z*h^12 - y^3*h^13 + 2*y^2*z^6*h^8 + 3*y^2*z^5*h^9 - 3*y^2*z^4*h^10 + 3*y^2*z^3*h^11 + 3*y^2*z^2*h^12 + y^2*z*h^13 - 2*y^2*h^14 + 2*y*z^5*h^10 - y*z^4*h^11 + y*z^3*h^12 - 3*y*z*h^14 + y*h^15 + 3*z^6*h^10 + 3*z^4*h^12 - 2*z^2*h^14 + 3*h^16\n",
      "x^3*y*z^6*h^5 - x^3*y*h^11 - x^2*y^4*z^6*h^3 + x^2*y^4*h^9 - 3*x^2*y*z^6*h^6 + 3*x^2*y*h^12 + y^4*z^6*h^5 - y^4*h^11 - y*z^6*h^8 + y*h^14\n",
      "x^3*y*z^5*h^7 - 2*x^2*y*z^5*h^8 + 2*x^2*y*z^3*h^10 - 2*x^2*y*z^2*h^11 + 3*x^2*y*z*h^12 - 2*x^2*y*h^13 - x^2*z^5*h^9 - x^2*z^4*h^10 - 3*x^2*z^3*h^11 - x^2*z^2*h^12 - 3*x^2*z*h^13 + 2*x^2*h^14 - 2*x*y^5*z^5*h^5 - 3*x*y^5*z^4*h^6 - 2*x*y^5*z^3*h^7 - 3*x*y^5*z*h^9 + 3*x*y^5*h^10 + x*y^4*z^5*h^6 - 2*x*y^4*z^4*h^7 - x*y^4*z^3*h^8 + 2*x*y^4*z^2*h^9 + x*y^3*z^5*h^7 + 3*x*y^3*z^3*h^9 - x*y^3*z^2*h^10 + 3*x*y^3*z*h^11 + x*y^3*h^12 - 2*x*y^2*z^6*h^7 - 2*x*y^2*z^5*h^8 - 3*x*y^2*z^4*h^9 + 3*x*y^2*z^3*h^10 + x*y^2*z^2*h^11 + 2*x*y^2*z*h^12 - x*y*z^6*h^8 + 3*x*y*z^5*h^9 + 2*x*y*z^4*h^10 + 3*x*y*z^3*h^11 + 3*x*y*z^2*h^12 + x*y*z*h^13 + 3*x*y*h^14 + 2*x*z^6*h^9 - 3*x*z^5*h^10 + x*z^4*h^11 - 3*x*z^3*h^12 - x*z*h^14 - 3*x*h^15 - 3*y^6*z^6*h^4 - y^6*z^5*h^5 - 2*y^6*z^3*h^7 - 3*y^6*z^2*h^8 - 3*y^6*z*h^9 - 2*y^6*h^10 + 3*y^5*z^5*h^6 - 3*y^5*z^4*h^7 + 3*y^5*z^3*h^8 - 2*y^5*z^2*h^9 + y^5*z*h^10 - 2*y^5*h^11 - 2*y^4*z^6*h^6 + 3*y^4*z^5*h^7 + 2*y^4*z^4*h^8 - y^4*z^3*h^9 - y^4*z^2*h^10 - y^4*z*h^11 + y^4*h^12 + 2*y^3*z^6*h^7 + y^3*z^4*h^9 - y^3*z^3*h^10 - y^3*z^2*h^11 + y^3*z*h^12 - 2*y^3*h^13 - 2*y^2*z^6*h^8 - y^2*z^5*h^9 - 3*y^2*z^4*h^10 - y^2*z^3*h^11 + 2*y^2*z*h^13 - 2*y^2*h^14 + 3*y*z^6*h^9 - 3*y*z^5*h^10 - y*z^3*h^12 - 2*y*z^2*h^13 - 3*y*z*h^14 - y*h^15 - z^6*h^10 + z^5*h^11 + 2*z^4*h^12 + z^3*h^13 - z^2*h^14 - 3*z*h^15 + h^16\n",
      "x^3*y*z^4*h^8 - 3*x*y^4*z^5*h^6 - 3*x*y^4*z^4*h^7 + 3*x*y^4*z^3*h^8 + x*y^4*z^2*h^9 + 2*x*y^4*h^11 - x*y^3*z^4*h^8 + 2*x*y^3*z^2*h^10 - x*y^3*h^12 + 3*x*y*z^6*h^8 - 2*x*y*z^4*h^10 - x*y*z^3*h^11 + x*y*z^2*h^12 + x*y*z*h^13 - 2*x*y*h^14 - 2*y^4*z^6*h^6 + 2*y^4*z^4*h^8 + 3*y^4*z^2*h^10 - 2*y^4*h^12 - y*z^4*h^11 - y*z^2*h^13 + 2*y*h^15\n",
      "x^3*y*z^3*h^9 - 2*x^2*y*z^5*h^8 + 3*x^2*y*z^3*h^10 - 2*x^2*y*z^2*h^11 - 2*x^2*y*z*h^12 + x^2*y*h^13 + x^2*z^6*h^8 + 3*x^2*z^5*h^9 + 2*x^2*z^4*h^10 - 3*x^2*z^3*h^11 - x^2*z^2*h^12 - 2*x^2*h^14 - x*y^5*z^5*h^5 + x*y^5*z^4*h^6 - 3*x*y^5*z^3*h^7 - 2*x*y^5*z^2*h^8 - 3*x*y^5*z*h^9 + x*y^5*h^10 + 2*x*y^4*z^5*h^6 + 2*x*y^4*z^4*h^7 + x*y^4*z^3*h^8 - 2*x*y^4*z^2*h^9 - 3*x*y^4*z*h^10 - 2*x*y^3*z^5*h^7 + 3*x*y^3*z^3*h^9 + x*y^3*z^2*h^10 - x*y^3*z*h^11 - x*y^3*h^12 + x*y^2*z^6*h^7 - 3*x*y^2*z^5*h^8 - 3*x*y^2*z^4*h^9 + 3*x*y^2*z^2*h^11 + 2*x*y^2*z*h^12 - 2*x*y^2*h^13 + x*y*z^6*h^8 - x*y*z^5*h^9 - 3*x*y*z^4*h^10 - 3*x*y*z^3*h^11 - 2*x*y*z^2*h^12 - 3*x*y*z*h^13 - 3*x*y*h^14 + 2*x*z^6*h^9 + x*z^4*h^11 - 3*x*z^3*h^12 + 3*x*z*h^14 - 3*x*h^15 - 3*y^6*z^6*h^4 - y^6*z^5*h^5 - y^6*z^4*h^6 - 3*y^6*z^2*h^8 + 2*y^6*z*h^9 - y^6*h^10 - 3*y^5*z^6*h^5 - 3*y^5*z^4*h^7 - 3*y^5*z^2*h^9 + 2*y^5*h^11 + 3*y^4*z^5*h^7 - 3*y^4*z^4*h^8 + y^4*z^3*h^9 + 3*y^4*z^2*h^10 - 3*y^4*z*h^11 - 2*y^3*z^6*h^7 - y^3*z^5*h^8 - 3*y^3*z^4*h^9 - 3*y^3*z^3*h^10 + y^3*z^2*h^11 - 3*y^3*z*h^12 - 3*y^3*h^13 - y^2*z^6*h^8 + y^2*z^5*h^9 + y^2*z^4*h^10 + 3*y^2*z^2*h^12 - y^2*z*h^13 - 3*y^2*h^14 + y*z^6*h^9 - 3*y*z^5*h^10 + y*z^4*h^11 + 3*y*z^3*h^12 - 2*y*z^2*h^13 - 3*z^6*h^10 + 3*z^4*h^12 - 3*z^3*h^13 + 3*z^2*h^14 + 2*z*h^15 - 2*h^16\n",
      "x^3*y*z^2*h^10 - 2*x^2*y*z^3*h^10 + 3*x^2*y*z^2*h^11 + 2*x^2*y*z*h^12 - 3*x^2*y*h^13 + 2*x^2*z^5*h^9 + x^2*z^3*h^11 - 3*x^2*z*h^13 + 3*x*y^6*z*h^8 - 2*x*y^5*z^5*h^5 + 3*x*y^5*z^4*h^6 - x*y^5*z^3*h^7 + 2*x*y^5*z^2*h^8 + 3*x*y^5*z*h^9 + 2*x*y^5*h^10 - 2*x*y^4*z^5*h^6 - x*y^4*z^4*h^7 + x*y^4*z^3*h^8 - x*y^4*z^2*h^9 + x*y^4*z*h^10 + 2*x*y^4*h^11 + x*y^3*z^5*h^7 + 3*x*y^3*z^4*h^8 - 3*x*y^3*z^3*h^9 - x*y^3*z^2*h^10 + 2*x*y^3*z*h^11 - 2*x*y^3*h^12 - 2*x*y^2*z^6*h^7 - 3*x*y^2*z^5*h^8 + 3*x*y^2*z^4*h^9 - 3*x*y^2*z^3*h^10 - 3*x*y^2*z^2*h^11 - x*y^2*z*h^12 + 2*x*y^2*h^13 - 2*x*y*z^6*h^8 - 2*x*y*z^5*h^9 + 3*x*y*z^4*h^10 + x*y*z^3*h^11 + x*y*z^2*h^12 + x*y*z*h^13 - 2*x*y*h^14 + 2*x*z^6*h^9 - x*z^5*h^10 + x*z^4*h^11 - x*z^3*h^12 - 3*x*z^2*h^13 - x*z*h^14 - 3*y^6*z^6*h^4 - y^6*z^5*h^5 - 2*y^6*z^4*h^6 + 3*y^6*z^3*h^7 - y^6*z^2*h^8 - 2*y^6*z*h^9 - y^6*h^10 + y^5*z^6*h^5 + 3*y^5*z^5*h^6 + 2*y^5*z^3*h^8 + y^5*z^2*h^9 + 2*y^5*z*h^10 - 2*y^5*h^11 - 2*y^4*z^6*h^6 - 2*y^4*z^5*h^7 - 2*y^4*z^4*h^8 - 3*y^4*z^3*h^9 - 2*y^4*z^2*h^10 - 2*y^4*z*h^11 + y^3*z^6*h^7 + y^3*z^5*h^8 + y^3*z^4*h^9 - 3*y^3*z^3*h^10 - 3*y^3*z^2*h^11 + 2*y^3*z*h^12 + y^3*h^13 + y^2*z^6*h^8 - y^2*z^5*h^9 + 2*y^2*z^4*h^10 + 2*y^2*z^2*h^12 + y^2*z*h^13 + 2*y^2*h^14 - 3*y*z^6*h^9 + y*z^5*h^10 + 2*y*z^4*h^11 + 2*y*z^3*h^12 + y*z^2*h^13 - 3*y*z*h^14 + z^6*h^10 - 3*z^4*h^12 + 2*z^2*h^14\n",
      "x^3*y*z*h^11 - 2*x^2*y*z^5*h^8 + 2*x^2*y*z^3*h^10 - 2*x^2*y*z^2*h^11 + 3*x^2*y*z*h^12 - 2*x^2*y*h^13 + 3*x^2*z^6*h^8 + 2*x^2*z^5*h^9 - 3*x^2*z^4*h^10 - 2*x^2*z^3*h^11 - x^2*z^2*h^12 + x^2*h^14 - 2*x*y^6*z*h^8 + 3*x*y^5*z^5*h^5 - 2*x*y^5*z^4*h^6 + 3*x*y^5*z^3*h^7 - x*y^5*z^2*h^8 + x*y^5*z*h^9 + 3*x*y^5*h^10 + x*y^4*z^5*h^6 + 2*x*y^4*z^4*h^7 - 3*x*y^4*z^3*h^8 - x*y^4*z^2*h^9 + 2*x*y^4*z*h^10 - x*y^4*h^11 + 2*x*y^3*z^5*h^7 + 2*x*y^3*z^4*h^8 + 2*x*y^3*z^2*h^10 - 2*x*y^3*z*h^11 + 3*x*y^3*h^12 + 3*x*y^2*z^6*h^7 - x*y^2*z^5*h^8 - 3*x*y^2*z^4*h^9 + x*y^2*z^3*h^10 - x*y^2*z^2*h^11 + 3*x*y^2*z*h^12 - 3*x*y^2*h^13 - x*y*z^6*h^8 - x*y*z^5*h^9 + x*y*z^4*h^10 + 2*x*y*z^3*h^11 + 2*x*y*z^2*h^12 - x*y*z*h^13 - 2*x*y*h^14 + 2*x*z^6*h^9 - x*z^5*h^10 + x*z^4*h^11 + 3*x*z^3*h^12 + 3*x*z^2*h^13 + x*h^15 - 3*y^6*z^6*h^4 + y^6*z^5*h^5 + y^6*z^4*h^6 - y^6*z^3*h^7 - y^6*z^2*h^8 + 2*y^6*z*h^9 + y^6*h^10 + 2*y^5*z^6*h^5 + 2*y^5*z^5*h^6 - y^5*z^4*h^7 + y^5*z^3*h^8 - 3*y^5*z*h^10 - y^5*h^11 + 3*y^4*z^6*h^6 + 3*y^4*z^5*h^7 + 2*y^4*z^3*h^9 - 2*y^4*z^2*h^10 + 3*y^4*z*h^11 - y^4*h^12 - 3*y^3*z^6*h^7 - 3*y^3*z^5*h^8 - 2*y^3*z^3*h^10 - 2*y^3*z^2*h^11 - 2*y^3*z*h^12 - 2*y^3*h^13 - 2*y^2*z^4*h^10 - 2*y^2*z^3*h^11 - 2*y^2*z^2*h^12 + 2*y^2*z*h^13 - 3*y^2*h^14 - 2*y*z^6*h^9 + y*z^5*h^10 + 2*y*z^4*h^11 - 3*y*z^3*h^12 - y*z^2*h^13 + 2*y*z*h^14 + y*h^15 - 3*z^6*h^10 - 3*z^5*h^11 - 2*z^4*h^12 + 3*z^3*h^13 + 2*z^2*h^14 - 2*z*h^15 - 2*h^16\n",
      "x^3*z^6*h^6 + 2*x^2*y^5*z^5*h^3 + 2*x^2*y^5*z^2*h^6 - 2*x^2*y^5*z*h^7 - 2*x^2*y^5*h^8 - x^2*y^4*z^2*h^7 + x^2*y^4*h^9 + 2*x^2*y^3*z^5*h^5 - x^2*y^3*z^4*h^6 - x^2*y^3*h^10 - 2*x^2*y^2*z^5*h^6 + 2*x^2*y^2*h^11 - x^2*y*h^12 - x^2*z^6*h^7 - 2*x^2*z^5*h^8 + x^2*z^4*h^9 - x^2*z^2*h^11 + 2*x^2*z*h^12 + x^2*h^13 - 2*x*y^6*z^5*h^3 - 2*x*y^6*z^2*h^6 + 2*x*y^6*z*h^7 + 2*x*y^6*h^8 + 3*x*y^5*z^6*h^3 - 2*x*y^5*z^4*h^5 - x*y^5*h^9 + x*y^3*z^5*h^6 - 2*x*y^3*z^4*h^7 + 2*x*y^3*z^3*h^8 - 3*x*y^3*z^2*h^9 + 3*x*y^3*z*h^10 - x*y^3*h^11 + 2*x*y^2*z^4*h^8 + 3*x*y^2*z^2*h^10 + x*y^2*h^12 - 3*x*z^6*h^8 - 3*x*z^5*h^9 + 2*x*z^4*h^10 - 2*x*z^3*h^11 + 2*x*z^2*h^12 - 2*x*z*h^13 - x*h^14 - y^6*z^6*h^3 + 3*y^6*z^4*h^5 + 3*y^6*z^2*h^7 + 2*y^6*h^9 - 2*y^5*z^5*h^5 + y^5*z^4*h^6 + y^5*h^10 + y^4*z^5*h^6 - y^4*h^11 + 3*y^3*z^6*h^6 - y^3*z^4*h^8 + y^3*z^2*h^10 - 2*y^3*h^12 - z^6*h^9 + z^5*h^10 - z^4*h^11 - 2*z^3*h^12 + 3*z^2*h^13\n",
      "x^3*z^5*h^8 + 2*x^2*y*z^5*h^8 + 2*x^2*y*z^3*h^10 + x^2*y*z^2*h^11 + 3*x^2*y*z*h^12 - x^2*y*h^13 - x^2*z^6*h^8 + x^2*z^5*h^9 + 3*x^2*z^4*h^10 - 3*x^2*z^3*h^11 - 2*x^2*z^2*h^12 + 2*x^2*z*h^13 + 2*x*y^6*z*h^8 + x*y^5*z^5*h^5 - x*y^5*z^4*h^6 + x*y^5*z^3*h^7 + 3*x*y^5*z^2*h^8 - 2*x*y^5*z*h^9 - 2*x*y^5*h^10 + x*y^4*z^5*h^6 - x*y^4*z^4*h^7 - 2*x*y^4*z^3*h^8 - 2*x*y^4*z^2*h^9 + x*y^4*z*h^10 + 3*x*y^4*h^11 + 3*x*y^3*z^5*h^7 + 3*x*y^3*z^4*h^8 - 2*x*y^3*z^3*h^9 - x*y^3*z*h^11 - 3*x*y^3*h^12 + 2*x*y^2*z^6*h^7 - 3*x*y^2*z^5*h^8 - 2*x*y^2*z^3*h^10 - 2*x*y^2*z^2*h^11 - 2*x*y^2*z*h^12 - 3*x*y*z^6*h^8 - x*y*z^4*h^10 - 2*x*y*z^3*h^11 + 3*x*y*z^2*h^12 + 2*x*y*z*h^13 + x*y*h^14 - 2*x*z^6*h^9 + x*z^5*h^10 - x*z^4*h^11 - x*z^3*h^12 + 3*x*z^2*h^13 - 2*x*z*h^14 - 3*y^6*z^5*h^5 - y^6*z^3*h^7 - 3*y^6*z^2*h^8 - 3*y^6*z*h^9 + 3*y^6*h^10 + y^5*z^6*h^5 + y^5*z^5*h^6 - 2*y^5*z^4*h^7 + 2*y^5*z^2*h^9 - y^5*z*h^10 - y^5*h^11 - y^4*z^6*h^6 + 3*y^4*z^5*h^7 + y^4*z^4*h^8 - 3*y^4*z^2*h^10 - 3*y^4*z*h^11 + 3*y^4*h^12 + 2*y^3*z^6*h^7 - 2*y^3*z^5*h^8 - 2*y^3*z^4*h^9 - y^3*z^3*h^10 + 3*y^3*z^2*h^11 - 3*y^3*z*h^12 - 3*y^3*h^13 - 2*y^2*z^5*h^9 + 2*y^2*z^4*h^10 + 2*y^2*z^3*h^11 - 3*y^2*z^2*h^12 + y^2*h^14 + y*z^6*h^9 - y*z^4*h^11 + 2*y*z^3*h^12 + 3*y*z^2*h^13 - 2*y*z*h^14 - 3*y*h^15 + z^6*h^10 - 3*z^5*h^11 - 3*z^4*h^12 - z^3*h^13 + 2*z^2*h^14 - 3*z*h^15\n",
      "x^3*z^4*h^9 - x*y^6*z*h^8 + 3*x*y^5*z^4*h^6 - 3*x*y^5*z^2*h^8 - 2*x*y^3*z^5*h^7 - 2*x*y^3*z^2*h^10 + 2*x*y^3*z*h^11 + 2*x*y^3*h^12 - 3*x*y^2*z^6*h^7 + x*y^2*z^4*h^9 + x*y^2*z^2*h^11 + x*y^2*h^13 + 2*x*z^6*h^9 + x*z^5*h^10 + x*z^4*h^11 + 3*x*z^3*h^12 - 3*x*z^2*h^13 - 3*x*z*h^14 + y^6*z^6*h^4 + 2*y^6*z^5*h^5 + y^6*z^3*h^7 - 2*y^6*z^2*h^8 - 3*y^6*z*h^9 + y^6*h^10 + y^3*z^6*h^7 + y^3*z^2*h^11 - y^3*h^13 - 2*z^5*h^11 + 2*z^4*h^12 - z^3*h^13 - 2*z^2*h^14 + 3*z*h^15\n",
      "x^3*z^3*h^10 + 2*x^2*y*z^5*h^8 - 2*x^2*y*z^3*h^10 + 3*x^2*y*z^2*h^11 - x^2*y*z*h^12 + 3*x^2*y*h^13 + 2*x^2*z^6*h^8 + 3*x^2*z^5*h^9 - x^2*z^4*h^10 + 3*x^2*z^3*h^11 + 3*x^2*z^2*h^12 + x^2*z*h^13 + 3*x^2*h^14 + 3*x*y^5*z^5*h^5 - 3*x*y^5*z^4*h^6 + 3*x*y^5*z^3*h^7 + x*y^5*z*h^9 + 3*x*y^5*h^10 - 3*x*y^4*z^5*h^6 - 2*x*y^4*z^4*h^7 + x*y^4*z^3*h^8 + 2*x*y^4*z*h^10 + 2*x*y^4*h^11 - 2*x*y^3*z^5*h^7 - 3*x*y^3*z^4*h^8 + 3*x*y^3*z^3*h^9 - x*y^3*z*h^11 + 3*x*y^3*h^12 - 2*x*y^2*z^6*h^7 - 2*x*y^2*z^5*h^8 - 3*x*y^2*z^4*h^9 + x*y^2*z^2*h^11 + x*y^2*z*h^12 + 3*x*y^2*h^13 + x*y*z^6*h^8 - x*y*z^5*h^9 - 2*x*y*z^4*h^10 + x*y*z^2*h^12 + x*y*z*h^13 + 3*x*z^6*h^9 + x*z^5*h^10 - 2*x*z^4*h^11 + x*z^3*h^12 + x*z^2*h^13 - 2*x*z*h^14 - 2*x*h^15 - y^6*z^5*h^5 + y^6*z^3*h^7 - 3*y^6*z^2*h^8 + 3*y^6*z*h^9 - 3*y^5*z^6*h^5 + 2*y^5*z^5*h^6 + 2*y^5*z^4*h^7 - y^5*z^3*h^8 + y^5*z^2*h^9 - y^5*z*h^10 - 2*y^4*z^6*h^6 - 2*y^4*z^3*h^9 - 2*y^4*z^2*h^10 + 2*y^4*z*h^11 - 3*y^4*h^12 + 3*y^3*z^6*h^7 - 3*y^3*z^5*h^8 - 2*y^3*z^4*h^9 - y^3*z^3*h^10 - 3*y^3*z^2*h^11 - 2*y^3*z*h^12 + 2*y^3*h^13 - y^2*z^6*h^8 - 2*y^2*z^5*h^9 + y^2*z^4*h^10 + y^2*z^2*h^12 + 2*y^2*z*h^13 - y^2*h^14 + y*z^6*h^9 - 2*y*z^5*h^10 + y*z^4*h^11 + y*z^3*h^12 + 2*y*z^2*h^13 + y*z*h^14 + 3*y*h^15 + z^6*h^10 - 3*z^5*h^11 - z^4*h^12 + 2*z^3*h^13 - 3*z^2*h^14 - 2*z*h^15 - h^16\n",
      "x^3*z^2*h^11 + 2*x*y^6*z*h^8 - 3*x*y^5*z^4*h^6 - 3*x*y^5*z^2*h^8 - x*y^5*h^10 - x*y^3*z^5*h^7 + x*y^3*z^4*h^8 + x*y^3*z^3*h^9 - 2*x*y^3*z^2*h^10 + x*y^3*h^12 + 2*x*y^2*z^6*h^7 - 2*x*y^2*z^4*h^9 - x*y^2*z^2*h^11 + x*y^2*h^13 - 3*x*z^6*h^9 - 2*x*z^5*h^10 + 2*x*z^4*h^11 + x*z^3*h^12 + x*z^2*h^13 - x*z*h^14 - 3*y^6*z^4*h^6 + 3*y^6*z^2*h^8 - 3*y^3*z^6*h^7 - y^3*z^4*h^9 - 2*y^3*z^2*h^11 + 2*z^6*h^10 + 2*z^4*h^12 + 3*z^2*h^14\n",
      "x^3*h^12 + 2*x^2*y^5*z^5*h^3 + 2*x^2*y^5*z^2*h^6 - 2*x^2*y^5*z*h^7 - 2*x^2*y^5*h^8 - x^2*y^4*z^2*h^7 + x^2*y^4*h^9 + 2*x^2*y^3*z^5*h^5 - x^2*y^3*z^4*h^6 - x^2*y^3*h^10 - 2*x^2*y^2*z^5*h^6 + 2*x^2*y^2*h^11 - x^2*y*h^12 - x^2*z^6*h^7 - 2*x^2*z^5*h^8 + x^2*z^4*h^9 - x^2*z^2*h^11 + 2*x^2*z*h^12 + x^2*h^13 - 2*x*y^6*z^5*h^3 - 2*x*y^6*z^2*h^6 + 2*x*y^6*z*h^7 + 2*x*y^6*h^8 + 3*x*y^5*z^6*h^3 - 2*x*y^5*z^4*h^5 - x*y^5*h^9 + x*y^3*z^5*h^6 - 2*x*y^3*z^4*h^7 + 2*x*y^3*z^3*h^8 - 3*x*y^3*z^2*h^9 + 3*x*y^3*z*h^10 - x*y^3*h^11 + 2*x*y^2*z^4*h^8 + 3*x*y^2*z^2*h^10 + x*y^2*h^12 - 3*x*z^6*h^8 - 3*x*z^5*h^9 + 2*x*z^4*h^10 - 2*x*z^3*h^11 + 2*x*z^2*h^12 - 2*x*z*h^13 - x*h^14 - y^6*z^6*h^3 + 3*y^6*z^4*h^5 + 3*y^6*z^2*h^7 + 2*y^6*h^9 - 2*y^5*z^5*h^5 + y^5*z^4*h^6 + y^5*h^10 + y^4*z^5*h^6 - y^4*h^11 + 2*y^3*z^6*h^6 - y^3*z^4*h^8 + y^3*z^2*h^10 - y^3*h^12 + z^5*h^10 - z^4*h^11 - 2*z^3*h^12 + 3*z^2*h^13 - h^15\n",
      "x^2*y^6*z^6*h^2 + 2*x^2*y*z^5*h^8 + 2*x^2*y*z^3*h^10 + 3*x^2*y*z^2*h^11 + x^2*y*h^13 - 3*x^2*z^6*h^8 - 3*x^2*z^5*h^9 - 3*x^2*z^4*h^10 + 3*x^2*z^3*h^11 + 3*x^2*z^2*h^12 + 2*x^2*h^14 - 3*x*y^6*z*h^8 - 3*x*y^5*z^5*h^5 - 2*x*y^5*z^4*h^6 + 2*x*y^5*z^3*h^7 + x*y^5*z*h^9 + 2*x*y^5*h^10 + 3*x*y^4*z^5*h^6 - 2*x*y^4*z^4*h^7 - 2*x*y^4*z^2*h^9 - 3*x*y^4*z*h^10 - 3*x*y^4*h^11 + 3*x*y^3*z^5*h^7 - 2*x*y^3*z^4*h^8 - 2*x*y^3*z^3*h^9 + 2*x*y^3*z^2*h^10 - x*y^3*z*h^11 + 3*x*y^2*z^5*h^8 - 3*x*y^2*z^4*h^9 + 2*x*y^2*z^3*h^10 - x*y^2*z^2*h^11 - x*y^2*z*h^12 + x*y^2*h^13 + 3*x*y*z^6*h^8 - x*y*z^5*h^9 - 2*x*y*z^4*h^10 + 3*x*y*z^3*h^11 + x*y*z^2*h^12 - 2*x*y*z*h^13 - 2*x*y*h^14 + 2*x*z^6*h^9 - x*z^5*h^10 + x*z^4*h^11 - 2*x*z^3*h^12 + 3*x*z^2*h^13 - x*z*h^14 + x*h^15 + y^6*z^6*h^4 - 2*y^6*z^5*h^5 + y^6*z^4*h^6 + 2*y^6*z^2*h^8 - 3*y^6*z*h^9 + y^6*h^10 - y^5*z^6*h^5 - 3*y^5*z^5*h^6 + 2*y^5*z^4*h^7 + y^5*z^3*h^8 + y^5*z^2*h^9 + 2*y^5*z*h^10 - 2*y^5*h^11 + 2*y^4*z^5*h^7 + 2*y^4*z^4*h^8 - 3*y^4*z^3*h^9 + y^4*z^2*h^10 + y^4*z*h^11 - 3*y^4*h^12 - y^3*z^6*h^7 - 2*y^3*z^5*h^8 - y^3*z^4*h^9 + y^3*z^3*h^10 - 3*y^3*z^2*h^11 + y^3*z*h^12 - 2*y^3*h^13 - y^2*z^6*h^8 + 2*y^2*z^5*h^9 - 2*y^2*z^4*h^10 + 2*y^2*z^3*h^11 - 3*y^2*z^2*h^12 + 3*y^2*z*h^13 - y^2*h^14 + 2*y*z^6*h^9 + 2*y*z^5*h^10 - y*z^4*h^11 + 2*y*z^3*h^12 + 3*y*z^2*h^13 + 3*y*z*h^14 + 3*y*h^15 + z^6*h^10 + 2*z^5*h^11 + 3*z^4*h^12 + 2*z^3*h^13 + z^2*h^14 + z*h^15 - 3*h^16\n",
      "x^2*y^6*z^5*h^3 + 2*x^2*y*z^5*h^8 + 2*x^2*y*z^2*h^11 + x^2*y*z*h^12 + x^2*y*h^13 + x^2*z^6*h^8 + x^2*z^5*h^9 + 3*x^2*z^4*h^10 - 2*x^2*z^3*h^11 + 3*x^2*z^2*h^12 + 3*x*y^6*z*h^8 + 2*x*y^5*z^5*h^5 + 2*x*y^5*z^4*h^6 - 3*x*y^5*z^3*h^7 + x*y^5*z^2*h^8 + x*y^5*z*h^9 - 3*x*y^5*h^10 - x*y^4*z^5*h^6 - 3*x*y^4*z^3*h^8 - 3*x*y^4*z^2*h^9 - 3*x*y^4*z*h^10 + 3*x*y^4*h^11 - 2*x*y^3*z^5*h^7 - x*y^3*z^4*h^8 + x*y^3*z^3*h^9 + x*y^3*z^2*h^10 + x*y^3*z*h^11 - 3*x*y^2*z^6*h^7 + 3*x*y^2*z^5*h^8 + 3*x*y^2*z^4*h^9 - 3*x*y^2*z^3*h^10 + 3*x*y^2*z*h^12 + 3*x*y^2*h^13 + 2*x*y*z^6*h^8 - 2*x*y*z^5*h^9 - 2*x*y*z^3*h^11 + 3*x*y*z^2*h^12 - 3*x*y*z*h^13 + 2*x*y*h^14 + 3*x*z^5*h^10 + 3*x*z^3*h^12 + 2*x*z^2*h^13 - 2*x*z*h^14 - 2*x*h^15 + 2*y^6*z^6*h^4 - 3*y^6*z^5*h^5 - 2*y^6*z^4*h^6 - y^6*z^3*h^7 - 3*y^6*h^10 - y^5*z^6*h^5 - y^5*z^4*h^7 + y^5*z^3*h^8 + 3*y^5*z^2*h^9 - y^5*z*h^10 - y^5*h^11 + 3*y^4*z^6*h^6 + y^4*z^5*h^7 - 3*y^4*z^4*h^8 - 3*y^4*z^3*h^9 - y^4*z^2*h^10 + 2*y^4*z*h^11 + y^4*h^12 - y^3*z^6*h^7 - 2*y^3*z^5*h^8 + 3*y^3*z^4*h^9 + y^3*z^3*h^10 + y^3*z*h^12 - 2*y^3*h^13 - 3*y^2*z^6*h^8 + 2*y^2*z^5*h^9 - 2*y^2*z^4*h^10 + y^2*z^2*h^12 - 2*y^2*z*h^13 - 3*y^2*h^14 + 3*y*z^6*h^9 - y*z^5*h^10 + 3*y*z^4*h^11 - 2*y*z^3*h^12 + 2*y*z^2*h^13 + 3*y*z*h^14 - y*h^15 + 2*z^6*h^10 + 3*z^5*h^11 + z^4*h^12 + 3*z^3*h^13 - 2*z^2*h^14 - 2*z*h^15 + 2*h^16\n",
      "x^2*y^6*z^4*h^4 + x^2*y*z^5*h^8 + x^2*y*z^3*h^10 - 2*x^2*y*z^2*h^11 - 3*x^2*y*h^13 - x^2*z^6*h^8 + 2*x^2*z^5*h^9 + x^2*z^4*h^10 - 2*x^2*z^3*h^11 - 2*x^2*z^2*h^12 + x^2*h^14 + 2*x*y^6*z*h^8 + 2*x*y^5*z^5*h^5 - 2*x*y^5*z^4*h^6 + x*y^5*z^3*h^7 + 3*x*y^5*z^2*h^8 - 3*x*y^5*z*h^9 - x*y^5*h^10 - 2*x*y^4*z^5*h^6 - x*y^4*z^4*h^7 - x*y^4*z^2*h^9 + 2*x*y^4*z*h^10 + 2*x*y^4*h^11 + 2*x*y^3*z^5*h^7 + x*y^3*z^4*h^8 + x*y^3*z^3*h^9 + 3*x*y^3*z^2*h^10 - 3*x*y^3*z*h^11 + 3*x*y^3*h^12 - x*y^2*z^6*h^7 - 2*x*y^2*z^5*h^8 + 2*x*y^2*z^4*h^9 + x*y^2*z^3*h^10 - 2*x*y^2*z^2*h^11 + 3*x*y^2*z*h^12 + 3*x*y^2*h^13 - 2*x*y*z^6*h^8 + 3*x*y*z^5*h^9 - x*y*z^4*h^10 - 2*x*y*z^3*h^11 - 3*x*y*z^2*h^12 - x*y*z*h^13 - x*y*h^14 + 3*x*z^6*h^9 + 3*x*z^5*h^10 - 2*x*z^4*h^11 - x*z^3*h^12 + 2*x*z^2*h^13 + 3*x*z*h^14 - 3*x*h^15 - y^6*z^4*h^6 - 3*y^6*z^3*h^7 - y^6*z^2*h^8 - 3*y^6*z*h^9 + y^6*h^10 + 3*y^5*z^6*h^5 + 2*y^5*z^5*h^6 + y^5*z^4*h^7 - 3*y^5*z^3*h^8 - 3*y^5*z^2*h^9 + y^5*z*h^10 - y^5*h^11 + y^4*z^5*h^7 + y^4*z^4*h^8 + 2*y^4*z^3*h^9 - 3*y^4*z^2*h^10 - 3*y^4*z*h^11 + 2*y^4*h^12 + y^3*z^6*h^7 - y^3*z^5*h^8 + 2*y^3*z^4*h^9 - 3*y^3*z^3*h^10 + 2*y^3*z^2*h^11 - 3*y^3*z*h^12 + 2*y^3*h^13 + 3*y^2*z^6*h^8 + y^2*z^5*h^9 - y^2*z^4*h^10 + y^2*z^3*h^11 + 2*y^2*z^2*h^12 - 2*y^2*z*h^13 + 3*y^2*h^14 + y*z^6*h^9 + y*z^5*h^10 + 3*y*z^4*h^11 + y*z^3*h^12 - 2*y*z^2*h^13 - 2*y*z*h^14 - 2*y*h^15 + 3*z^6*h^10 + z^4*h^12 - 3*z^3*h^13 + 2*z^2*h^14 + 2*z*h^15 + 2*h^16\n",
      "x^2*y^6*z^3*h^5 + x^2*y*z^5*h^8 + x^2*y*z^2*h^11 - 3*x^2*y*z*h^12 - 3*x^2*y*h^13 - 3*x^2*z^6*h^8 + x^2*z^5*h^9 - 2*x^2*z^4*h^10 - 2*x^2*z^3*h^11 - 2*x^2*z^2*h^12 - 2*x*y^6*z*h^8 + x*y^5*z^5*h^5 + x*y^5*z^4*h^6 + 2*x*y^5*z^3*h^7 - 3*x*y^5*z^2*h^8 - 3*x*y^5*z*h^9 + 2*x*y^5*h^10 + 3*x*y^4*z^5*h^6 + 2*x*y^4*z^3*h^8 + 2*x*y^4*z^2*h^9 + 2*x*y^4*z*h^10 - 2*x*y^4*h^11 - x*y^3*z^5*h^7 + 3*x*y^3*z^4*h^8 - 3*x*y^3*z^3*h^9 - 3*x*y^3*z^2*h^10 - 3*x*y^3*z*h^11 + 2*x*y^2*z^6*h^7 - 2*x*y^2*z^5*h^8 - 2*x*y^2*z^4*h^9 + 2*x*y^2*z^3*h^10 - 2*x*y^2*z*h^12 - 2*x*y^2*h^13 + x*y*z^6*h^8 - x*y*z^5*h^9 - x*y*z^3*h^11 - 2*x*y*z^2*h^12 + 2*x*y*z*h^13 + x*y*h^14 - 2*x*z^5*h^10 - 2*x*z^3*h^12 + x*z^2*h^13 - x*z*h^14 - x*h^15 + y^6*z^6*h^4 + 2*y^6*z^5*h^5 - y^6*z^4*h^6 + 3*y^6*z^3*h^7 + 2*y^6*h^10 + 3*y^5*z^6*h^5 + 3*y^5*z^4*h^7 - 3*y^5*z^3*h^8 - 2*y^5*z^2*h^9 + 3*y^5*z*h^10 + 3*y^5*h^11 - 2*y^4*z^6*h^6 - 3*y^4*z^5*h^7 + 2*y^4*z^4*h^8 + 2*y^4*z^3*h^9 + 3*y^4*z^2*h^10 + y^4*z*h^11 - 3*y^4*h^12 + 3*y^3*z^6*h^7 - y^3*z^5*h^8 - 2*y^3*z^4*h^9 - 3*y^3*z^3*h^10 - 3*y^3*z*h^12 - y^3*h^13 + 2*y^2*z^6*h^8 + y^2*z^5*h^9 - y^2*z^4*h^10 - 3*y^2*z^2*h^12 - y^2*z*h^13 + 2*y^2*h^14 - 2*y*z^6*h^9 + 3*y*z^5*h^10 - 2*y*z^4*h^11 - y*z^3*h^12 + y*z^2*h^13 - 2*y*z*h^14 + 3*y*h^15 + z^6*h^10 - 2*z^5*h^11 - 3*z^4*h^12 - 2*z^3*h^13 - z^2*h^14 - z*h^15 + h^16\n",
      "x^2*y^6*z^2*h^6 + 2*x^2*y*z^3*h^10 + 3*x^2*y*z^2*h^11 + 3*x^2*y*z*h^12 + 2*x^2*y*h^13 - x^2*z^6*h^8 - 3*x^2*z^5*h^9 + 3*x^2*z^3*h^11 - 2*x^2*z^2*h^12 + 2*x^2*h^14 - 3*x*y^6*z*h^8 + 2*x*y^5*z^5*h^5 + x*y^5*z^3*h^7 + 2*x*y^5*z^2*h^8 - 3*x*y^5*z*h^9 - 2*x*y^5*h^10 + 2*x*y^4*z^5*h^6 - 3*x*y^4*z^4*h^7 + x*y^4*z^3*h^8 + 3*x*y^4*z^2*h^9 - 3*x*y^4*z*h^10 - x*y^3*z^5*h^7 - 3*x*y^3*z^3*h^9 + 3*x*y^3*z^2*h^10 - 3*x*y^3*z*h^11 - 3*x*y^3*h^12 - 3*x*y^2*z^6*h^7 - 3*x*y^2*z^5*h^8 - 3*x*y^2*z^3*h^10 - 3*x*y^2*z*h^12 + x*y^2*h^13 + 2*x*y*z^6*h^8 - x*y*z^4*h^10 + x*y*z^3*h^11 - x*y*z^2*h^12 - x*y*z*h^13 - 3*x*z^6*h^9 + x*z^5*h^10 + 2*x*z^4*h^11 + 2*x*z^3*h^12 + 3*x*z^2*h^13 - 2*x*h^15 - 3*y^6*z^6*h^4 - y^6*z^5*h^5 + 2*y^6*z^4*h^6 + y^6*z^2*h^8 - 3*y^6*z*h^9 - 3*y^6*h^10 + y^5*z^6*h^5 + y^5*z^5*h^6 - 3*y^5*z^4*h^7 - 3*y^5*z^3*h^8 + 2*y^5*z^2*h^9 + 2*y^5*z*h^10 - 3*y^4*z^6*h^6 - 3*y^4*z^5*h^7 + y^4*z^4*h^8 - 3*y^4*z^3*h^9 + 2*y^4*z^2*h^10 - y^4*z*h^11 - y^3*z^6*h^7 + 3*y^3*z^5*h^8 - y^3*z^4*h^9 - 3*y^3*z^2*h^11 - 3*y^3*z*h^12 - 2*y^3*h^13 + 3*y^2*z^6*h^8 + 2*y^2*z^5*h^9 + y^2*z^4*h^10 - 2*y^2*z^2*h^12 - 2*y^2*z*h^13 - 2*y^2*h^14 - y*z^4*h^11 + 3*y*z^3*h^12 + y*z^2*h^13 - 3*y*z*h^14 - z^5*h^11 - z^4*h^12 + z^3*h^13 - 3*z^2*h^14 - 3*z*h^15\n",
      "x^2*y^6*z*h^7 + x^2*y*z^5*h^8 - x^2*y*z^3*h^10 - x^2*y*z^2*h^11 - 2*x^2*y*z*h^12 - x^2*y*h^13 + 2*x^2*z^6*h^8 + 3*x^2*z^5*h^9 - 3*x^2*z^4*h^10 - 3*x^2*z^3*h^11 - 2*x^2*z^2*h^12 - x^2*z*h^13 + 3*x^2*h^14 - x*y^5*z^4*h^6 - 2*x*y^5*z^3*h^7 - x*y^5*z^2*h^8 + 2*x*y^5*z*h^9 + 2*x*y^5*h^10 + 3*x*y^4*z^5*h^6 - 2*x*y^4*z^4*h^7 - x*y^4*z^3*h^8 + 2*x*y^4*z^2*h^9 - 2*x*y^4*z*h^10 - 2*x*y^3*z^4*h^8 + x*y^3*z^3*h^9 - 2*x*y^3*z^2*h^10 - x*y^3*z*h^11 - 3*x*y^3*h^12 + x*y^2*z^5*h^8 - 3*x*y^2*z^3*h^10 + 2*x*y^2*z^2*h^11 + 3*x*y^2*h^13 - 3*x*y*z^6*h^8 - x*y*z^5*h^9 - 2*x*y*z^4*h^10 - x*y*z^3*h^11 + 2*x*y*z*h^13 - 2*x*y*h^14 - 2*x*z^6*h^9 + 3*x*z^5*h^10 - x*z^4*h^11 - x*z^3*h^12 + 2*x*z^2*h^13 - 2*x*z*h^14 + x*h^15 - y^6*z^6*h^4 - 2*y^6*z^5*h^5 + 2*y^6*z^4*h^6 - y^6*z^3*h^7 - 2*y^6*z^2*h^8 - 2*y^6*z*h^9 - y^6*h^10 - y^5*z^6*h^5 + 2*y^5*z^5*h^6 - y^5*z^4*h^7 - 3*y^5*z^3*h^8 + 3*y^5*z^2*h^9 + y^5*z*h^10 - y^5*h^11 - 2*y^4*z^6*h^6 + 2*y^4*z^5*h^7 - y^4*z^3*h^9 - y^4*z^2*h^10 - y^4*z*h^11 + 3*y^4*h^12 + 2*y^3*z^6*h^7 - 2*y^3*z^5*h^8 + y^3*z^4*h^9 - 3*y^3*z^2*h^11 + 2*y^3*z*h^12 - y^2*z^6*h^8 - y^2*z^5*h^9 + 3*y^2*z^4*h^10 - 2*y^2*z^3*h^11 - y^2*z^2*h^12 + 3*y^2*z*h^13 - y^2*h^14 - y*z^6*h^9 + 3*y*z^5*h^10 + y*z^4*h^11 - 3*y*z^3*h^12 + 3*y*z^2*h^13 - 3*y*h^15 + 2*z^6*h^10 - 2*z^5*h^11 + 3*z^4*h^12 + z^2*h^14 + 3*h^16\n",
      "x^2*y^6*h^8 + x^2*y*z^5*h^8 + 3*x^2*y*z^3*h^10 - x^2*y*z^2*h^11 - x^2*y*z*h^12 - 3*x^2*y*h^13 - 2*x^2*z^6*h^8 + 3*x^2*z^5*h^9 - x^2*z^4*h^10 - 3*x^2*z^3*h^11 - 3*x^2*z^2*h^12 - 2*x^2*h^14 - 3*x*y^5*z^5*h^5 + 3*x*y^5*z^4*h^6 - 3*x*y^5*z^2*h^8 + 3*x*y^5*z*h^9 - 2*x*y^4*z^5*h^6 - x*y^4*z^4*h^7 - x*y^4*z^3*h^8 - 2*x*y^4*z^2*h^9 + 3*x*y^4*z*h^10 + 3*x*y^4*h^11 - 3*x*y^3*z^5*h^7 + 2*x*y^3*z^4*h^8 - 3*x*y^3*z^3*h^9 - x*y^3*z^2*h^10 - x*y^3*z*h^11 - x*y^3*h^12 + x*y^2*z^6*h^7 - x*y^2*z^5*h^8 + 3*x*y^2*z^4*h^9 - 3*x*y^2*z^3*h^10 - 2*x*y^2*z^2*h^11 + x*y^2*h^13 - x*y*z^5*h^9 + x*y*z^4*h^10 + 2*x*y*z^2*h^12 + x*y*z*h^13 - 3*x*y*h^14 - x*z^6*h^9 + x*z^5*h^10 + 3*x*z^4*h^11 - x*z^3*h^12 - x*z^2*h^13 - x*h^15 - y^6*z^5*h^5 + y^6*z^4*h^6 + 3*y^6*z^2*h^8 - y^6*z*h^9 - 2*y^6*h^10 + y^5*z^6*h^5 - y^5*z^5*h^6 - 3*y^5*z^4*h^7 + y^5*z^3*h^8 + 2*y^5*z^2*h^9 + 2*y^4*z^6*h^6 + 3*y^4*z^5*h^7 - 2*y^4*z^4*h^8 + 2*y^4*z^3*h^9 + 2*y^4*z^2*h^10 + 2*y^4*z*h^11 - 2*y^4*h^12 + 3*y^3*z^6*h^7 + 3*y^3*z^5*h^8 + y^3*z^4*h^9 + y^3*z^3*h^10 + 3*y^3*z*h^12 + 3*y^3*h^13 + y^2*z^6*h^8 - 2*y^2*z^5*h^9 + 3*y^2*z^4*h^10 + 2*y^2*z^3*h^11 + 3*y^2*h^14 - 3*y*z^6*h^9 + 3*y*z^5*h^10 + y*z^4*h^11 - 3*y*z^3*h^12 + 2*y*h^15 + 3*z^5*h^11 + z^4*h^12 - 3*z^3*h^13 + z^2*h^14 + 2*z*h^15 + 3*h^16\n",
      "x^2*y^5*z^6*h^3 - x^2*y^5*h^9 - 2*x^2*y*z^5*h^8 + 2*x^2*y*z^3*h^10 + 2*x^2*y*z^2*h^11 - 3*x^2*y*z*h^12 + 2*x^2*y*h^13 - 3*x^2*z^6*h^8 - x^2*z^5*h^9 - x^2*z^4*h^10 + 2*x^2*z^3*h^11 - x^2*z*h^13 - 3*x^2*h^14 + 3*x*y^6*z*h^8 + 2*x*y^5*z^4*h^6 + 2*x*y^5*z^3*h^7 - 3*x*y^5*z^2*h^8 - 2*x*y^5*z*h^9 + x*y^5*h^10 - 2*x*y^4*z^4*h^7 + x*y^4*z^3*h^8 + x*y^4*z^2*h^9 - x*y^4*z*h^10 + x*y^4*h^11 - 2*x*y^3*z^5*h^7 - 3*x*y^3*z^4*h^8 - 3*x*y^3*z^3*h^9 + 2*x*y^3*z^2*h^10 - 2*x*y^3*z*h^11 + x*y^3*h^12 + x*y^2*z^6*h^7 - x*y^2*z^5*h^8 - 3*x*y^2*z^3*h^10 - 3*x*y^2*z^2*h^11 + x*y^2*z*h^12 - x*y^2*h^13 - x*y*z^3*h^11 + 2*x*y*z^2*h^12 + x*y*z*h^13 - 2*x*y*h^14 - 3*x*z^5*h^10 + 2*x*z^4*h^11 + 3*x*z^3*h^12 - 2*x*z^2*h^13 - 3*x*z*h^14 + y^6*z^6*h^4 - 3*y^6*z^4*h^6 + y^6*z^3*h^7 - 2*y^6*z^2*h^8 - 2*y^6*z*h^9 - 2*y^6*h^10 - y^5*z^5*h^6 - 3*y^5*z^4*h^7 - 3*y^5*z^3*h^8 + 3*y^5*z^2*h^9 - 3*y^5*z*h^10 + 3*y^4*z^6*h^6 + 2*y^4*z^3*h^9 + y^4*z^2*h^10 - 2*y^4*z*h^11 + 3*y^4*h^12 - 3*y^3*z^6*h^7 + 2*y^3*z^5*h^8 - 3*y^3*z^4*h^9 - 2*y^3*z^3*h^10 - y^3*h^13 + 2*y^2*z^6*h^8 - y^2*z^5*h^9 + 2*y^2*z^4*h^10 - y^2*z^3*h^11 + 2*y^2*z*h^13 + 3*y^2*h^14 + y*z^6*h^9 + y*z^5*h^10 - 2*y*z^4*h^11 - 3*y*z^3*h^12 + 2*y*z*h^14 + y*h^15 - 3*z^5*h^11 + 3*z^4*h^12 - 2*z^3*h^13 - z*h^15 + 3*h^16\n",
      "x^2*y^5*z^5*h^4 - x^2*y^5*z*h^8 + 2*x^2*y*z^5*h^8 - 2*x^2*y*z^3*h^10 - 2*x^2*z^6*h^8 - x^2*z^4*h^10 - x^2*z^3*h^11 - 2*x^2*z^2*h^12 + x^2*z*h^13 - 2*x^2*h^14 + 2*x*y^6*z*h^8 + x*y^5*z^5*h^5 - 3*x*y^5*z^4*h^6 - 2*x*y^5*z^3*h^7 - x*y^5*z^2*h^8 + x*y^5*z*h^9 - 3*x*y^5*h^10 + 3*x*y^4*z^5*h^6 - 3*x*y^4*z^4*h^7 - 3*x*y^4*z^3*h^8 - 2*x*y^4*z^2*h^9 - 2*x*y^4*h^11 - 2*x*y^3*z^5*h^7 - 3*x*y^3*z^4*h^8 - x*y^3*z^3*h^9 - 2*x*y^3*z^2*h^10 + 3*x*y^3*z*h^11 - 2*x*y^3*h^12 + x*y^2*z^6*h^7 + 3*x*y^2*z^5*h^8 - 3*x*y^2*z^4*h^9 - 3*x*y^2*z*h^12 + 2*x*y^2*h^13 - 3*x*y*z^6*h^8 - 3*x*y*z^5*h^9 - 3*x*y*z^3*h^11 + 3*x*y*z^2*h^12 - x*y*z*h^13 + 3*x*z^6*h^9 - 3*x*z^5*h^10 - 2*x*z^4*h^11 - 3*x*z^3*h^12 - 2*x*z^2*h^13 - 3*x*z*h^14 + x*h^15 + 2*y^6*z^6*h^4 - 3*y^6*z^5*h^5 - y^6*z^4*h^6 - 3*y^6*z^3*h^7 + 3*y^6*z^2*h^8 + y^6*z*h^9 + y^6*h^10 + y^5*z^6*h^5 + 3*y^5*z^5*h^6 - y^5*z^4*h^7 - 3*y^5*z^3*h^8 - 3*y^5*z^2*h^9 + 3*y^5*h^11 - 2*y^4*z^6*h^6 - y^4*z^5*h^7 - 3*y^4*z^3*h^9 - 3*y^4*z*h^11 + 2*y^4*h^12 + y^3*z^6*h^7 - y^3*z^5*h^8 + y^3*z^4*h^9 - y^3*z^3*h^10 + 2*y^3*z*h^12 - 2*y^3*h^13 - 2*y^2*z^6*h^8 + 3*y^2*z^5*h^9 - 2*y^2*z^4*h^10 - 3*y^2*z^3*h^11 - 3*y^2*h^14 - 2*y*z^6*h^9 - 2*y*z^5*h^10 - 2*y*z^4*h^11 - y*z^2*h^13 + 2*y*z*h^14 - 2*y*h^15 + 2*z^6*h^10 + 3*z^5*h^11 + 2*z^4*h^12 - z^3*h^13 - 3*z^2*h^14 + 3*z*h^15 + h^16\n",
      "x^2*y^5*z^4*h^5 - x^2*y^5*h^9 - 3*x^2*y*z^5*h^8 + 3*x^2*y*z^3*h^10 + 2*x^2*y*z^2*h^11 - 3*x^2*y*z*h^12 + 2*x^2*y*h^13 + 3*x^2*z^6*h^8 - 3*x^2*z^5*h^9 - 2*x^2*z^4*h^10 - 3*x^2*z^3*h^11 - 3*x^2*z^2*h^12 - x^2*z*h^13 + 2*x^2*h^14 - x*y^5*z^5*h^5 + 2*x*y^5*z^3*h^7 - 2*x*y^5*z^2*h^8 - x*y^5*z*h^9 + 2*x*y^5*h^10 - x*y^4*z^5*h^6 - 2*x*y^4*z^4*h^7 - 3*x*y^4*z^3*h^8 + x*y^4*z^2*h^9 - 3*x*y^4*z*h^10 + x*y^4*h^11 - 2*x*y^3*z^5*h^7 + x*y^3*z^4*h^8 - x*y^3*z^3*h^9 - x*y^3*z^2*h^10 + 3*x*y^3*z*h^11 + 2*x*y^2*z^6*h^7 + 3*x*y^2*z^4*h^9 + 3*x*y^2*z^3*h^10 + 2*x*y^2*z^2*h^11 + x*y^2*z*h^12 - 3*x*y^2*h^13 - x*y*z^4*h^10 + x*y*z^3*h^11 - x*y*z*h^13 + x*y*h^14 - 2*x*z^6*h^9 - 3*x*z^5*h^10 + 3*x*z^4*h^11 - 2*x*z^2*h^13 + 3*x*z*h^14 + x*h^15 + 3*y^6*z^6*h^4 - 2*y^6*z^5*h^5 + 2*y^6*z^4*h^6 + 2*y^6*z^3*h^7 - 3*y^6*z^2*h^8 - 2*y^6*h^10 - y^5*z^6*h^5 - y^5*z^5*h^6 + 3*y^5*z^4*h^7 + 2*y^5*z^3*h^8 - 2*y^5*z^2*h^9 - y^5*z*h^10 + 3*y^4*z^6*h^6 + 2*y^4*z^5*h^7 + 2*y^4*z^4*h^8 - 3*y^4*z^3*h^9 - 2*y^4*z^2*h^10 + y^4*z*h^11 - 3*y^4*h^12 + y^3*z^6*h^7 - 3*y^3*z^5*h^8 + 3*y^3*z^4*h^9 - 2*y^3*z^3*h^10 + y^3*z^2*h^11 - 2*y^3*z*h^12 + 2*y^3*h^13 - 2*y^2*z^6*h^8 - y^2*z^4*h^10 + y^2*z^3*h^11 + y^2*z^2*h^12 - y^2*z*h^13 + 2*y^2*h^14 - 3*y*z^6*h^9 - 3*y*z^5*h^10 - y*z^4*h^11 + 3*y*z^3*h^12 - 3*y*h^15 - 3*z^6*h^10 + z^5*h^11 - 3*z^4*h^12 - 3*z^3*h^13 + 2*z^2*h^14 + 2*z*h^15 - 3*h^16\n",
      "x^2*y^5*z^3*h^6 - x^2*y^5*z*h^8 + x^2*y*z^5*h^8 - 3*x^2*y*z^3*h^10 + 3*x^2*y*z*h^12 + x^2*y*h^13 - 2*x^2*z^6*h^8 + 2*x^2*z^5*h^9 + x^2*z^4*h^10 + 3*x^2*z^3*h^11 - 3*x^2*z^2*h^12 + 2*x^2*z*h^13 - 3*x^2*h^14 - 2*x*y^6*z*h^8 - x*y^5*z^4*h^6 - 2*x*y^5*z^3*h^7 - x*y^5*z^2*h^8 + 2*x*y^5*z*h^9 + 2*x*y^5*h^10 - 3*x*y^4*z^5*h^6 + x*y^4*z^3*h^8 - 2*x*y^4*z^2*h^9 + 2*x*y^4*z*h^10 + 2*x*y^4*h^11 + x*y^3*z^5*h^7 + 3*x*y^3*z^4*h^8 - x*y^3*z^3*h^9 - 2*x*y^3*z^2*h^10 - x*y^3*h^12 - 2*x*y^2*z^6*h^7 - 3*x*y^2*z^5*h^8 + x*y^2*z^4*h^9 - x*y^2*z^3*h^10 + 2*x*y^2*z^2*h^11 - 2*x*y^2*z*h^12 - 2*x*y*z^6*h^8 - 3*x*y*z^5*h^9 - 3*x*y*z^4*h^10 - 3*x*y*z^3*h^11 - 2*x*y*z^2*h^12 - x*y*z*h^13 + x*z^3*h^12 - 2*x*z^2*h^13 + x*z*h^14 + 2*x*h^15 + 2*y^6*z^6*h^4 + y^6*z^4*h^6 - 3*y^6*z^3*h^7 - 2*y^5*z^6*h^5 - y^5*z^5*h^6 - 2*y^5*z^4*h^7 - 3*y^5*z^3*h^8 - 3*y^5*z*h^10 - 3*y^5*h^11 - 2*y^4*z^5*h^7 - y^4*z^2*h^10 + 2*y^4*z*h^11 + y^4*h^12 + 3*y^3*z^5*h^8 - 3*y^3*z^3*h^10 + 2*y^3*z^2*h^11 - 2*y^3*h^13 + 2*y^2*z^6*h^8 + 3*y^2*z^5*h^9 - 2*y^2*z^4*h^10 + 3*y^2*z^3*h^11 + 3*y^2*z^2*h^12 + y^2*z*h^13 - 3*y^2*h^14 + y*z^6*h^9 - 3*y*z^5*h^10 + 3*y*z^4*h^11 - y*z^3*h^12 - 3*y*z^2*h^13 - 3*y*z*h^14 - y*h^15 + z^5*h^11 - 2*z^4*h^12 - z^3*h^13 - 2*z^2*h^14 + 3*z*h^15 + h^16\n",
      "x^2*y^5*z^2*h^7 - x^2*y^5*h^9 - 3*x^2*y*z^5*h^8 - x^2*y*z^3*h^10 + 3*x^2*y*z^2*h^11 - 2*x^2*y*z*h^12 - 2*x^2*y*h^13 - 3*x^2*z^6*h^8 + 2*x^2*z^5*h^9 + 3*x^2*z^4*h^10 - 2*x^2*z^3*h^11 + x^2*z^2*h^12 - x^2*h^14 + x*y^6*z*h^8 - 3*x*y^5*z^5*h^5 - x*y^5*z^4*h^6 + 3*x*y^5*z^3*h^7 - 3*x*y^5*z^2*h^8 - 3*x*y^5*h^10 + 2*x*y^4*z^5*h^6 - 3*x*y^4*z^4*h^7 + x*y^4*z^3*h^8 - 3*x*y^4*z*h^10 + 3*x*y^4*h^11 + x*y^3*z^5*h^7 - 2*x*y^3*z^4*h^8 - x*y^3*z^3*h^9 + 2*x*y^3*h^12 + 3*x*y^2*z^5*h^8 - 2*x*y^2*z^4*h^9 + 3*x*y^2*z^3*h^10 + 2*x*y^2*z^2*h^11 + 2*x*y^2*z*h^12 + x*y^2*h^13 - 3*x*y*z^6*h^8 - 3*x*y*z^5*h^9 - x*y*z^4*h^10 + 2*x*y*z^3*h^11 + x*y*z*h^13 - 3*x*y*h^14 - 2*x*z^6*h^9 + 2*x*z^5*h^10 + 3*x*z^4*h^11 - 2*x*z^3*h^12 - 2*x*z^2*h^13 - x*z*h^14 + x*h^15 - 3*y^6*z^6*h^4 - y^6*z^5*h^5 - y^6*z^4*h^6 - 3*y^6*z^3*h^7 - 3*y^6*z*h^9 - 3*y^6*h^10 + 3*y^5*z^6*h^5 - 2*y^5*z^5*h^6 - 3*y^5*z^4*h^7 - y^5*z^3*h^8 + y^5*z^2*h^9 + 3*y^5*z*h^10 - y^5*h^11 + 3*y^4*z^6*h^6 - 2*y^4*z^5*h^7 - 2*y^4*z^4*h^8 + y^4*z^3*h^9 + 2*y^4*z^2*h^10 + y^4*z*h^11 - 3*y^4*h^12 + y^3*z^3*h^10 - 3*y^3*z^2*h^11 - y^3*z*h^12 + 3*y^3*h^13 + y^2*z^6*h^8 - 3*y^2*z^5*h^9 - 2*y^2*z^4*h^10 - y^2*z^3*h^11 + y^2*z^2*h^12 - 3*y^2*z*h^13 + 3*y*z^6*h^9 - 3*y*z^5*h^10 - 2*y*z^4*h^11 + 2*y*z^2*h^13 + 3*y*z*h^14 - 3*y*h^15 - 2*z^6*h^10 + z^5*h^11 - z^4*h^12 - 3*z^3*h^13 + 3*z^2*h^14 + 2*z*h^15\n",
      "x^2*y^4*z^6*h^4 - x^2*y^4*h^10 + 2*x^2*y*z^5*h^8 + 2*x^2*y*z^3*h^10 - 3*x^2*y*h^13 - 3*x^2*z^5*h^9 + x^2*z^4*h^10 - 2*x^2*z^3*h^11 - 2*x^2*z*h^13 - x^2*h^14 + 3*x*y^6*z*h^8 - 3*x*y^5*z^4*h^6 + 2*x*y^5*z^3*h^7 - 2*x*y^5*z^2*h^8 - 2*x*y^5*z*h^9 - 2*x*y^5*h^10 + 3*x*y^4*z^5*h^6 - x*y^4*z^4*h^7 - 2*x*y^4*z^3*h^8 - 3*x*y^4*z^2*h^9 - x*y^4*z*h^10 - 3*x*y^4*h^11 + 3*x*y^3*z^5*h^7 + x*y^3*z^4*h^8 + x*y^3*z^3*h^9 + x*y^3*z^2*h^10 + 3*x*y^3*z*h^11 - 2*x*y^3*h^12 + 2*x*y^2*z^6*h^7 + 2*x*y^2*z^5*h^8 - 2*x*y^2*z^4*h^9 + 2*x*y^2*z^2*h^11 + 2*x*y^2*z*h^12 + 2*x*y^2*h^13 - 3*x*y*z^6*h^8 + x*y*z^5*h^9 + 2*x*y*z^4*h^10 + 2*x*y*z^3*h^11 - 3*x*y*z^2*h^12 - 3*x*y*z*h^13 - 3*x*y*h^14 + x*z^6*h^9 - x*z^5*h^10 - 3*x*z^4*h^11 - 3*x*z^3*h^12 + 3*x*z^2*h^13 + x*z*h^14 - x*h^15 + 2*y^6*z^6*h^4 - 3*y^6*z^4*h^6 + y^6*z^3*h^7 + 3*y^6*z^2*h^8 - 3*y^6*z*h^9 + y^5*z^6*h^5 + 2*y^5*z^5*h^6 + y^5*z^4*h^7 - 3*y^5*z^3*h^8 - y^5*z^2*h^9 + y^5*z*h^10 - y^5*h^11 - 3*y^4*z^6*h^6 + 3*y^4*z^5*h^7 + y^4*z^4*h^8 - 3*y^4*z^3*h^9 + y^4*z^2*h^10 + y^4*h^12 - 2*y^3*z^6*h^7 + y^3*z^5*h^8 + 2*y^3*z^4*h^9 - 3*y^3*z^3*h^10 - y^3*z^2*h^11 + 2*y^3*z*h^12 + y^3*h^13 - y^2*z^6*h^8 - 2*y^2*z^5*h^9 + 2*y^2*z^4*h^10 - 3*y^2*z^3*h^11 + y^2*z^2*h^12 - 2*y^2*z*h^13 - 2*y^2*h^14 + 3*y*z^6*h^9 - 3*y*z^5*h^10 + 3*y*z^4*h^11 - y*z^3*h^12 + 2*y*z^2*h^13 - 3*y*z*h^14 - y*h^15 + 2*z^6*h^10 - z^5*h^11 - 2*z^4*h^12 + 2*z^3*h^13 + 3*z^2*h^14 + z*h^15 + 2*h^16\n",
      "x^2*y^4*z^5*h^5 - x^2*y^4*h^10 - 3*x^2*y^2*h^12 + 3*x^2*y*z^5*h^8 + 3*x^2*y*z^3*h^10 - x^2*y*z^2*h^11 - 3*x^2*y*z*h^12 - 3*x^2*y*h^13 - x^2*z^5*h^9 + 3*x^2*z^4*h^10 + 2*x^2*z^2*h^12 + x^2*z*h^13 + 2*x^2*h^14 - 3*x*y^5*z^5*h^5 + 2*x*y^5*z^4*h^6 - x*y^5*z^3*h^7 - 3*x*y^5*z^2*h^8 - x*y^5*z*h^9 - x*y^5*h^10 - 3*x*y^4*z^5*h^6 - 2*x*y^4*z^4*h^7 + 2*x*y^4*z^3*h^8 - 3*x*y^4*z^2*h^9 + 3*x*y^4*z*h^10 + 3*x*y^4*h^11 + 2*x*y^3*z^5*h^7 - x*y^3*z^4*h^8 - x*y^3*z^3*h^9 + 3*x*y^3*z^2*h^10 - x*y^3*z*h^11 + x*y^3*h^12 - 3*x*y^2*z^6*h^7 + 2*x*y^2*z^5*h^8 + x*y^2*z^4*h^9 - 2*x*y^2*z^3*h^10 + 2*x*y^2*z^2*h^11 + 3*x*y^2*z*h^12 + 3*x*y^2*h^13 - 2*x*y*z^6*h^8 - 2*x*y*z^5*h^9 + x*y*z^2*h^12 + 2*x*y*z*h^13 + x*y*h^14 - x*z^6*h^9 + 3*x*z^5*h^10 + 2*x*z^4*h^11 - x*z^3*h^12 - 3*x*z^2*h^13 - x*z*h^14 + x*h^15 + y^6*z^6*h^4 - y^6*z^4*h^6 + 2*y^6*z^3*h^7 - 3*y^6*z^2*h^8 + 2*y^6*z*h^9 - y^6*h^10 + 2*y^5*z^6*h^5 - 3*y^5*z^5*h^6 - 3*y^5*z^4*h^7 - 3*y^5*z^3*h^8 + 3*y^5*z^2*h^9 + y^5*z*h^10 + 3*y^5*h^11 - 2*y^4*z^5*h^7 - 3*y^4*z^4*h^8 - 3*y^4*z^3*h^9 - y^4*z^2*h^10 - 2*y^4*z*h^11 + 3*y^4*h^12 - y^3*z^4*h^9 - y^3*z^3*h^10 + y^3*z*h^12 + y^3*h^13 - 3*y^2*z^6*h^8 + 2*y^2*z^5*h^9 + 3*y^2*z^4*h^10 + y^2*z^3*h^11 + 3*y^2*z^2*h^12 - 3*y^2*z*h^13 - 3*y^2*h^14 - y*z^6*h^9 + y*z^5*h^10 - 3*y*z^4*h^11 + y*z^3*h^12 + y*z^2*h^13 + y*z*h^14 + z^6*h^10 + z^5*h^11 - z^4*h^12 + 3*z^3*h^13 - z^2*h^14 - 3*h^16\n",
      "x^2*y^4*z^4*h^6 - x^2*y^4*h^10 + 2*x^2*y*z^5*h^8 + 3*x^2*y*z^3*h^10 - x^2*y*z^2*h^11 + 2*x^2*y*z*h^12 + x^2*y*h^13 - 2*x^2*z^6*h^8 - 2*x^2*z^5*h^9 - x^2*z^4*h^10 + 2*x^2*z^3*h^11 - 3*x^2*z^2*h^12 - x^2*h^14 - x*y^5*z^5*h^5 - 3*x*y^5*z^4*h^6 - 3*x*y^5*z^3*h^7 + x*y^5*z^2*h^8 - 3*x*y^5*z*h^9 + 2*x*y^5*h^10 + 3*x*y^4*z^5*h^6 + x*y^4*z^4*h^7 + x*y^4*z^3*h^8 + 2*x*y^4*z^2*h^9 + 3*x*y^4*z*h^10 - 3*x*y^4*h^11 + 2*x*y^3*z^5*h^7 + 3*x*y^3*z^4*h^8 + 2*x*y^3*z^3*h^9 - 3*x*y^3*z^2*h^10 + 3*x*y^3*z*h^11 - 3*x*y^2*z^6*h^7 + 3*x*y^2*z^5*h^8 - 3*x*y^2*z^3*h^10 - x*y^2*z^2*h^11 - 3*x*y^2*h^13 + 3*x*y*z^6*h^8 + 3*x*y*z^5*h^9 - 2*x*y*z^4*h^10 - 3*x*y*z^3*h^11 + 3*x*y*z^2*h^12 + 3*x*y*h^14 + 3*x*z^6*h^9 - 3*x*z^5*h^10 - 2*x*z^4*h^11 + 2*x*z^3*h^12 + 2*x*z^2*h^13 + x*z*h^14 - 3*x*h^15 + y^6*z^6*h^4 - y^6*z^5*h^5 + 2*y^6*z^4*h^6 + y^6*z^3*h^7 - 3*y^6*z^2*h^8 + y^6*z*h^9 - y^6*h^10 - 2*y^5*z^6*h^5 - 2*y^5*z^5*h^6 + y^5*z^3*h^8 + y^5*z*h^10 + 2*y^5*h^11 + 2*y^4*z^6*h^6 - 2*y^4*z^4*h^8 - y^4*z^3*h^9 + y^4*z*h^11 + 3*y^3*z^6*h^7 - 2*y^3*z^5*h^8 - 3*y^3*z^4*h^9 + y^3*z^3*h^10 + 3*y^3*z^2*h^11 + y^3*z*h^12 - 3*y^3*h^13 + 2*y^2*z^6*h^8 - 2*y^2*z^5*h^9 + y^2*z^3*h^11 + y^2*z*h^13 - 2*y^2*h^14 - 2*y*z^5*h^10 - 3*y*z^4*h^11 - 2*y*z^3*h^12 + 3*y*z^2*h^13 - 3*y*z*h^14 + 2*z^6*h^10 - z^5*h^11 - 2*z^4*h^12 - 3*z^2*h^14 - 3*h^16\n",
      "x^2*y^4*z^3*h^7 - x^2*y^4*h^10 - 3*x^2*y^2*h^12 - x^2*y*z^5*h^8 - 3*x^2*y*z^3*h^10 + 3*x^2*y*z^2*h^11 + x^2*y*z*h^12 + x^2*y*h^13 + 3*x^2*z^6*h^8 + 3*x^2*z^5*h^9 + 3*x^2*z^4*h^10 + 3*x^2*z^3*h^11 - 3*x^2*z^2*h^12 + x^2*z*h^13 - 3*x^2*h^14 + 2*x*y^6*z*h^8 + 3*x*y^5*z^5*h^5 - 3*x*y^5*z^4*h^6 - 3*x*y^5*z^3*h^7 - 2*x*y^5*z^2*h^8 + 2*x*y^5*z*h^9 + 3*x*y^5*h^10 + 3*x*y^4*z^5*h^6 + 2*x*y^4*z^4*h^7 - x*y^4*z^3*h^8 + 3*x*y^4*h^11 + 3*x*y^3*z^5*h^7 + x*y^3*z^4*h^8 + x*y^3*z^3*h^9 + x*y^3*z^2*h^10 + 3*x*y^3*z*h^11 + x*y^3*h^12 - 2*x*y^2*z^6*h^7 - x*y^2*z^5*h^8 + 3*x*y^2*z^4*h^9 + 2*x*y^2*z^3*h^10 + x*y^2*z^2*h^11 + 3*x*y^2*z*h^12 + 2*x*y^2*h^13 - x*y*z^6*h^8 - 2*x*y*z^5*h^9 + x*y*z^4*h^10 + 2*x*y*z^3*h^11 - 2*x*y*z^2*h^12 + 2*x*y*h^14 + x*z^6*h^9 - x*z^5*h^10 + 3*x*z^4*h^11 + 2*x*z^3*h^12 - 2*x*z^2*h^13 - 2*x*z*h^14 - 3*x*h^15 - y^6*z^5*h^5 - 3*y^6*z^4*h^6 + 2*y^6*z^3*h^7 + 2*y^6*z*h^9 + 3*y^5*z^6*h^5 - y^5*z^5*h^6 + y^5*z^4*h^7 + y^5*z^3*h^8 + 2*y^5*z*h^10 + y^5*h^11 - 2*y^4*z^5*h^7 + 3*y^4*z^4*h^8 - y^4*z^3*h^9 + 3*y^4*z*h^11 + 3*y^4*h^12 + 3*y^3*z^6*h^7 - 2*y^3*z^5*h^8 - 2*y^3*z^4*h^9 - 2*y^3*z^3*h^10 + 2*y^3*z^2*h^11 - 3*y^3*z*h^12 - 3*y^3*h^13 - 2*y^2*z^4*h^10 + 2*y^2*z^2*h^12 - y*z^6*h^9 + 3*y*z^5*h^10 + 3*y*z^4*h^11 + 2*y*z^2*h^13 + z^4*h^12 + 2*z^3*h^13 + 2*z^2*h^14 + 3*z*h^15 - h^16\n",
      "x^2*y^4*z^2*h^8 - x^2*y^4*h^10 + 3*x^2*y*z^5*h^8 + 2*x^2*y*z^3*h^10 + x^2*y*z^2*h^11 + x^2*y*z*h^12 - 2*x^2*y*h^13 - 2*x^2*z^6*h^8 - 2*x^2*z^5*h^9 - 3*x^2*z^4*h^10 + x^2*z^3*h^11 + x^2*z^2*h^12 + x^2*z*h^13 - 3*x^2*h^14 - 3*x*y^5*z^5*h^5 - 2*x*y^5*z^2*h^8 + 3*x*y^5*z*h^9 + 2*x*y^5*h^10 + 2*x*y^4*z^5*h^6 + x*y^4*z^4*h^7 - 2*x*y^4*z^3*h^8 - 3*x*y^4*z^2*h^9 + 2*x*y^4*h^11 + 2*x*y^3*z^5*h^7 + 3*x*y^3*z^4*h^8 + x*y^3*z^2*h^10 - 2*x*y^3*z*h^11 + 3*x*y^3*h^12 + x*y^2*z^6*h^7 + x*y^2*z^5*h^8 - 2*x*y^2*z^4*h^9 - 3*x*y^2*z^3*h^10 + 2*x*y^2*z^2*h^11 + x*y^2*z*h^12 - 2*x*y^2*h^13 + 3*x*y*z^5*h^9 + 2*x*y*z^4*h^10 - x*y*z^3*h^11 + 2*x*y*z^2*h^12 - 2*x*y*z*h^13 + 3*x*y*h^14 - 2*x*z^6*h^9 + 2*x*z^5*h^10 - x*z^4*h^11 - 2*x*z^3*h^12 + 2*x*z^2*h^13 + x*h^15 + 3*y^6*z^6*h^4 + 3*y^6*z^5*h^5 - 3*y^6*z^4*h^6 + y^6*z^2*h^8 - y^6*z*h^9 - 3*y^6*h^10 + y^5*z^4*h^7 + 2*y^5*z^3*h^8 + y^5*z^2*h^9 - 2*y^5*z*h^10 - 2*y^5*h^11 - 2*y^4*z^6*h^6 + 2*y^4*z^5*h^7 + 2*y^4*z^4*h^8 - 2*y^4*z^3*h^9 + 2*y^4*z^2*h^10 - 2*y^4*h^12 - 3*y^3*z^6*h^7 + y^3*z^5*h^8 - 3*y^3*z^4*h^9 - 3*y^3*z^2*h^11 - y^3*z*h^12 + 2*y^3*h^13 + y^2*z^6*h^8 + 2*y^2*z^5*h^9 - 2*y^2*z^4*h^10 - y^2*z^3*h^11 - y^2*z*h^13 + y^2*h^14 + 2*y*z^6*h^9 - 3*y*z^5*h^10 - y*z^4*h^11 + 3*y*z^3*h^12 - 3*y*z^2*h^13 + 2*y*h^15 - 2*z^6*h^10 - 3*z^5*h^11 - 3*z^4*h^12 + 3*z^3*h^13 - 2*z^2*h^14 - 2*z*h^15 + 2*h^16\n",
      "x^2*y^4*z*h^9 - x^2*y^4*h^10 - 3*x^2*y^2*h^12 - 3*x^2*y*z^5*h^8 - x^2*y*z^3*h^10 - 3*x^2*y*z*h^12 + x^2*z^6*h^8 + 3*x^2*z^5*h^9 + x^2*z^4*h^10 + 2*x^2*z^3*h^11 + 3*x^2*z^2*h^12 + 2*x^2*z*h^13 + 2*x^2*h^14 - 2*x*y^6*z*h^8 + 2*x*y^5*z^5*h^5 - x*y^5*z^4*h^6 + x*y^5*z^3*h^7 - x*y^5*z*h^9 - x*y^5*h^10 - 2*x*y^4*z^4*h^7 + x*y^4*z^3*h^8 + 3*x*y^4*z^2*h^9 + x*y^4*z*h^10 - 3*x*y^4*h^11 + 3*x*y^3*z^5*h^7 - 3*x*y^3*z^4*h^8 - 2*x*y^3*z^3*h^9 + 2*x*y^3*z^2*h^10 - x*y^3*z*h^11 - 3*x*y^3*h^12 - 3*x*y^2*z^6*h^7 - x*y^2*z^5*h^8 + 2*x*y^2*z^4*h^9 - 2*x*y^2*z^2*h^11 + x*y^2*z*h^12 + 3*x*y^2*h^13 + 2*x*y*z^6*h^8 + 3*x*y*z^5*h^9 - x*y*z^4*h^10 - x*y*z^2*h^12 - 3*x*y*z*h^13 + 3*x*z^6*h^9 + 3*x*z^5*h^10 - 3*x*z^4*h^11 + 2*x*z^3*h^12 + 3*x*z^2*h^13 - 2*x*z*h^14 + 3*x*h^15 + 3*y^6*z^6*h^4 - 3*y^6*z^5*h^5 + 2*y^6*z^3*h^7 + y^6*z^2*h^8 + 2*y^6*z*h^9 + 2*y^6*h^10 - 2*y^5*z^6*h^5 - y^5*z^5*h^6 + 2*y^5*z^4*h^7 - 2*y^5*z^3*h^8 - y^5*z^2*h^9 - 2*y^5*z*h^10 - y^5*h^11 - y^4*z^6*h^6 + y^4*z^5*h^7 - 3*y^4*z^4*h^8 - 2*y^4*z^3*h^9 + y^4*z*h^11 + 3*y^4*h^12 - y^3*z^6*h^7 - 2*y^3*z^5*h^8 - y^3*z^4*h^9 - 2*y^3*z^3*h^10 - y^3*z^2*h^11 - 3*y^3*z*h^12 + 3*y^3*h^13 - 2*y^2*z^6*h^8 + 3*y^2*z^5*h^9 - 2*y^2*z^4*h^10 - y^2*z^2*h^12 - 3*y^2*z*h^13 - 2*y^2*h^14 + 3*y*z^6*h^9 - 2*y*z^5*h^10 + 3*y*z^4*h^11 - 3*y*z^3*h^12 - 2*y*z^2*h^13 + y*z*h^14 + z^6*h^10 - 2*z^5*h^11 - z^4*h^12 - 2*z^2*h^14 + 2*z*h^15 + 2*h^16\n",
      "x^2*y^3*z^6*h^5 - x^2*y^3*h^11 - 3*x^2*y*z^5*h^8 + x^2*y*z^3*h^10 + 3*x^2*y*z*h^12 + x^2*y*h^13 - 3*x^2*z^6*h^8 + 2*x^2*z^5*h^9 - 3*x^2*z^4*h^10 - 3*x^2*z^3*h^11 + x^2*z*h^13 - x^2*h^14 + 2*x*y^6*z*h^8 + 2*x*y^5*z^5*h^5 - 2*x*y^5*z^4*h^6 - 3*x*y^5*z^3*h^7 + x*y^5*z^2*h^8 + x*y^5*z*h^9 + x*y^5*h^10 + 3*x*y^4*z^4*h^7 + 3*x*y^4*z^3*h^8 - 2*x*y^4*z^2*h^9 - 3*x*y^4*z*h^10 - x*y^4*h^11 - 3*x*y^3*z^4*h^8 + 3*x*y^3*h^12 - x*y^2*z^6*h^7 + x*y^2*z^5*h^8 - x*y^2*z^4*h^9 - 2*x*y^2*z^3*h^10 - 3*x*y^2*z^2*h^11 + 2*x*y^2*z*h^12 - x*y^2*h^13 + 3*x*y*z^6*h^8 + 2*x*y*z^5*h^9 + x*y*z^4*h^10 + x*y*z^3*h^11 - x*y*z^2*h^12 - 3*x*y*z*h^13 - 3*x*y*h^14 + 2*x*z^6*h^9 + x*z^4*h^11 - 2*x*z^3*h^12 + 3*x*z^2*h^13 + x*h^15 + 2*y^6*z^5*h^5 - 2*y^6*z^4*h^6 - 3*y^6*z^3*h^7 + 2*y^6*z^2*h^8 + 3*y^6*z*h^9 - 2*y^6*h^10 + 3*y^5*z^6*h^5 + y^5*z^5*h^6 + 3*y^5*z^2*h^9 - y^5*z*h^10 + y^5*h^11 - y^4*z^6*h^6 + y^4*z^5*h^7 - 2*y^4*z^3*h^9 - 3*y^4*z^2*h^10 + y^4*z*h^11 - 3*y^4*h^12 - 2*y^3*z^6*h^7 - 3*y^3*z^5*h^8 - y^3*z^4*h^9 - y^3*z^3*h^10 + 2*y^3*z^2*h^11 - 3*y^3*z*h^12 + y^3*h^13 + 2*y^2*z^6*h^8 - y^2*z^5*h^9 - 3*y^2*z^4*h^10 + 3*y^2*z^3*h^11 + y^2*z^2*h^12 - 2*y^2*z*h^13 + 2*y*z^6*h^9 - y*z^5*h^10 + y*z^4*h^11 + y*z^2*h^13 + y*z*h^14 + 3*y*h^15 - z^5*h^11 - 3*z^4*h^12 - 3*z^3*h^13 - 2*z^2*h^14 + 2*z*h^15\n",
      "x^2*y^3*z^5*h^6 - x^2*y^3*h^11 + x^2*y^2*h^12 - x^2*y*z^5*h^8 - 2*x^2*y*z*h^12 - 3*x^2*y*h^13 - 2*x^2*z^6*h^8 - 2*x^2*z^5*h^9 + x^2*z^4*h^10 - x^2*z^3*h^11 - x^2*z^2*h^12 + 3*x^2*z*h^13 + 2*x^2*h^14 + 2*x*y^6*z*h^8 - 2*x*y^5*z^4*h^6 + 2*x*y^5*z^3*h^7 - 2*x*y^5*z^2*h^8 + 2*x*y^5*h^10 - 3*x*y^4*z^5*h^6 - x*y^4*z^4*h^7 + x*y^4*z^3*h^8 - 2*x*y^4*z^2*h^9 + x*y^4*z*h^10 - 3*x*y^4*h^11 - 2*x*y^3*z^5*h^7 + 3*x*y^3*z^2*h^10 + 2*x*y^3*z*h^11 - 3*x*y^3*h^12 + 2*x*y^2*z^6*h^7 - 3*x*y^2*z^5*h^8 + x*y^2*z^4*h^9 - 2*x*y^2*z^3*h^10 + 2*x*y^2*z*h^12 + x*y^2*h^13 + 3*x*y*z^6*h^8 - 2*x*y*z^4*h^10 + x*y*z^3*h^11 - x*y*z*h^13 - x*y*h^14 - 3*x*z^5*h^10 - 3*x*z^4*h^11 + x*z^3*h^12 - 3*x*z^2*h^13 + x*z*h^14 - 2*x*h^15 - 3*y^6*z^6*h^4 - 3*y^6*z^4*h^6 - y^6*z^3*h^7 - 3*y^6*z^2*h^8 + y^6*z*h^9 + 2*y^6*h^10 - 3*y^5*z^6*h^5 + 3*y^5*z^5*h^6 - 3*y^5*z^4*h^7 - 3*y^5*z^3*h^8 + y^5*z^2*h^9 - 2*y^5*z*h^10 + 3*y^4*z^5*h^7 + 2*y^4*z^4*h^8 - 3*y^4*z^3*h^9 + 2*y^4*z^2*h^10 + 2*y^4*h^12 + y^3*z^6*h^7 + y^3*z^5*h^8 - 2*y^3*z^3*h^10 - y^3*z^2*h^11 + y^3*z*h^12 - 3*y^2*z^5*h^9 - y^2*z^4*h^10 + y^2*z^3*h^11 + 2*y^2*z^2*h^12 + 2*y^2*z*h^13 - y^2*h^14 - 2*y*z^6*h^9 - y*z^5*h^10 + y*z^4*h^11 - 3*y*z^2*h^13 + y*z*h^14 - 3*y*h^15 + 3*z^6*h^10 - z^5*h^11 + 2*z^4*h^12 + 3*z^3*h^13\n",
      "x^2*y^3*z^4*h^7 - x^2*y^3*h^11 + 2*x^2*y*z^5*h^8 - 2*x^2*y*z^3*h^10 + 2*x^2*y*z^2*h^11 - 3*x^2*y*z*h^12 + 2*x^2*y*h^13 - 2*x^2*z^6*h^8 - 3*x^2*z^5*h^9 + x^2*z^3*h^11 - 3*x^2*z^2*h^12 + 2*x^2*z*h^13 - 2*x^2*h^14 - 2*x*y^6*z*h^8 - x*y^5*z^5*h^5 - 3*x*y^5*z^4*h^6 + 3*x*y^5*z^3*h^7 - 3*x*y^5*z^2*h^8 - 2*x*y^5*z*h^9 - x*y^5*h^10 - x*y^4*z^5*h^6 + 3*x*y^4*z^4*h^7 + 2*x*y^4*z^3*h^8 - x*y^4*z*h^10 - 3*x*y^4*h^11 - x*y^3*z^5*h^7 - 2*x*y^3*z^4*h^8 - x*y^3*z^3*h^9 + x*y^3*z^2*h^10 + 2*x*y^3*z*h^11 + x*y^3*h^12 + 3*x*y^2*z^6*h^7 + x*y^2*z^5*h^8 - 3*x*y^2*z^4*h^9 - 3*x*y^2*z^2*h^11 + 3*x*y^2*z*h^12 + x*y*z^6*h^8 + x*y*z^5*h^9 - x*y*z^4*h^10 - 3*x*y*z^2*h^12 - x*y*z*h^13 + 3*x*y*h^14 + 2*x*z^6*h^9 - x*z^5*h^10 + x*z^4*h^11 - x*z^3*h^12 + x*z^2*h^13 - 3*x*z*h^14 + 3*x*h^15 - 2*y^6*z^6*h^4 + 3*y^6*z^5*h^5 + 2*y^6*z^3*h^7 + 2*y^6*z^2*h^8 + y^6*z*h^9 + y^6*h^10 + 3*y^5*z^5*h^6 - 2*y^5*z^4*h^7 + 3*y^5*z^2*h^9 - 3*y^5*z*h^10 - y^5*h^11 + 2*y^4*z^6*h^6 - 2*y^4*z^5*h^7 - 2*y^4*z^4*h^8 - 2*y^4*z^3*h^9 + y^4*z^2*h^10 - 3*y^4*z*h^11 - y^4*h^12 - 2*y^3*z^6*h^7 - y^3*z^5*h^8 - y^3*z^4*h^9 + 3*y^3*z^3*h^10 - 2*y^3*z*h^12 + 3*y^3*h^13 - 3*y^2*z^5*h^9 - y^2*z^3*h^11 + 2*y^2*z^2*h^12 - 3*y^2*z*h^13 - 2*y^2*h^14 - y*z^6*h^9 - y*z^5*h^10 + y*z^4*h^11 - y*z^2*h^13 + y*z*h^14 + y*h^15 + 3*z^6*h^10 - z^4*h^12 + 3*z^3*h^13 - 2*z^2*h^14 - 2*z*h^15 - h^16\n",
      "x^2*y^3*z^3*h^8 - x^2*y^3*h^11 + x^2*y^2*h^12 + x^2*y*z^5*h^8 + 3*x^2*y*z^3*h^10 - 3*x^2*y*z^2*h^11 + 2*x^2*y*z*h^12 + 2*x^2*y*h^13 + 3*x^2*z^6*h^8 - x^2*z^5*h^9 - 3*x^2*z^4*h^10 - 3*x^2*z^2*h^12 + x^2*z*h^13 + 3*x^2*h^14 + 2*x*y^6*z*h^8 + 3*x*y^5*z^5*h^5 + 3*x*y^5*z^4*h^6 - x*y^5*z^3*h^7 + 2*x*y^5*z^2*h^8 + x*y^4*z^5*h^6 + x*y^4*z^4*h^7 - 3*x*y^4*z^3*h^8 + 3*x*y^4*z^2*h^9 + x*y^4*z*h^10 - 3*x*y^4*h^11 + 2*x*y^3*z^5*h^7 + 2*x*y^3*z^4*h^8 + 3*x*y^3*z^2*h^10 - 2*x*y^3*z*h^11 + 2*x*y^3*h^12 - 2*x*y^2*z^4*h^9 - 3*x*y^2*z^2*h^11 - x*y^2*z*h^12 - 3*x*y^2*h^13 + 3*x*y*z^5*h^9 - 2*x*y*z^4*h^10 - 3*x*y*z^3*h^11 + 3*x*y*z^2*h^12 - x*y*h^14 - 3*x*z^6*h^9 - x*z^5*h^10 - x*z^4*h^11 + x*z^3*h^12 + x*z^2*h^13 - x*z*h^14 + 2*x*h^15 - 2*y^6*z^6*h^4 - 3*y^6*z^5*h^5 + 2*y^6*z^3*h^7 + 3*y^6*z^2*h^8 + 2*y^6*z*h^9 - 2*y^6*h^10 - y^5*z^6*h^5 - 3*y^5*z^5*h^6 + y^5*z^4*h^7 + y^5*z^3*h^8 + 3*y^5*z^2*h^9 - y^5*h^11 + y^4*z^6*h^6 - y^4*z^5*h^7 + 2*y^4*z^4*h^8 + 2*y^4*z^2*h^10 + y^4*z*h^11 + y^4*h^12 + 3*y^3*z^5*h^8 - y^3*z^4*h^9 - 3*y^3*z^3*h^10 + y^3*z^2*h^11 - 3*y^2*z^6*h^8 + 2*y^2*z^5*h^9 + 2*y^2*z^4*h^10 + y^2*z^3*h^11 - y^2*z^2*h^12 - 3*y^2*z*h^13 + 2*y^2*h^14 + 2*y*z^6*h^9 + 2*y*z^5*h^10 + 2*y*z^3*h^12 + 3*y*z*h^14 - 2*y*h^15 + 2*z^6*h^10 - z^5*h^11 + z^4*h^12 + z^2*h^14 + 2*z*h^15 + 2*h^16\n",
      "x^2*y^3*z^2*h^9 - x^2*y^3*h^11 - x^2*y*z^3*h^10 + 3*x^2*y*z^2*h^11 - 3*x^2*y*z*h^12 + 2*x^2*z^6*h^8 - 3*x^2*z^5*h^9 - x^2*z^3*h^11 - 3*x^2*z^2*h^12 - 3*x^2*z*h^13 + x^2*h^14 + 3*x*y^6*z*h^8 - 3*x*y^5*z^5*h^5 + 3*x*y^5*z^4*h^6 - 2*x*y^5*z^3*h^7 + 2*x*y^5*z^2*h^8 - 2*x*y^5*z*h^9 + 2*x*y^5*h^10 - 3*x*y^4*z^5*h^6 - 2*x*y^4*z^4*h^7 + 2*x*y^4*z^3*h^8 + 3*x*y^4*z^2*h^9 + x*y^4*z*h^10 - x*y^4*h^11 - 2*x*y^3*z^5*h^7 - 3*x*y^3*z^4*h^8 - x*y^3*z^3*h^9 + 3*x*y^3*z^2*h^10 + 3*x*y^3*z*h^11 + 2*x*y^2*z^6*h^7 - 3*x*y^2*z^5*h^8 - 3*x*y^2*z^4*h^9 - x*y^2*z^3*h^10 + x*y^2*z^2*h^11 + 3*x*y^2*h^13 - 3*x*y*z^6*h^8 + 2*x*y*z^4*h^10 + 2*x*y*z^3*h^11 - x*y*z^2*h^12 - 2*x*y*z*h^13 + 2*x*y*h^14 - 3*x*z^6*h^9 + x*z^5*h^10 + 2*x*z^4*h^11 + 2*x*z^3*h^12 + x*z*h^14 + x*h^15 - y^6*z^6*h^4 + 3*y^6*z^5*h^5 + y^6*z^4*h^6 - 3*y^6*z^3*h^7 + 3*y^6*z^2*h^8 + 2*y^6*z*h^9 + 2*y^6*h^10 - 2*y^5*z^6*h^5 + y^5*z^5*h^6 + 2*y^5*z^4*h^7 - 2*y^5*z^3*h^8 - y^5*z^2*h^9 + y^5*z*h^10 + y^5*h^11 - 2*y^4*z^6*h^6 - 3*y^4*z^5*h^7 + 2*y^4*z^4*h^8 - 2*y^4*z^3*h^9 + 3*y^4*z^2*h^10 - 2*y^4*z*h^11 - 3*y^4*h^12 - y^3*z^6*h^7 - 2*y^3*z^5*h^8 - y^3*z^4*h^9 - y^3*z^3*h^10 - 2*y^3*z^2*h^11 + 3*y^3*z*h^12 - 3*y^3*h^13 - 3*y^2*z^6*h^8 - y^2*z^5*h^9 + 3*y^2*z^4*h^10 + 2*y^2*z^3*h^11 - 2*y^2*z^2*h^12 - y^2*z*h^13 + 2*y^2*h^14 + y*z^6*h^9 + 3*y*z^5*h^10 + 3*y*z^4*h^11 + 3*y*z^3*h^12 + y*z*h^14 + 3*y*h^15 - 2*z^6*h^10 + 2*z^4*h^12 + z^3*h^13 - 3*z^2*h^14 - 3*z*h^15 - 2*h^16\n",
      "x^2*y^3*z*h^10 - x^2*y^3*h^11 + x^2*y^2*h^12 - 2*x^2*y*z^5*h^8 + 2*x^2*y*z^3*h^10 + x^2*y*z^2*h^11 + 2*x^2*y*z*h^12 + x^2*y*h^13 - 2*x^2*z^6*h^8 - 2*x^2*z^5*h^9 - 3*x^2*z^4*h^10 - 2*x^2*z^3*h^11 - 2*x^2*z^2*h^12 - 3*x^2*z*h^13 - 2*x*y^5*z^5*h^5 - x*y^5*z^4*h^6 + 3*x*y^5*z^3*h^7 + x*y^5*z^2*h^8 + x*y^5*z*h^9 - 2*x*y^5*h^10 + 2*x*y^4*z^5*h^6 - 2*x*y^4*z^4*h^7 + 2*x*y^4*z^3*h^8 + 2*x*y^4*z*h^10 + 3*x*y^4*h^11 - x*y^3*z^5*h^7 + 3*x*y^3*z^4*h^8 - 3*x*y^3*z^3*h^9 - 3*x*y^3*z*h^11 - 3*x*y^3*h^12 + 3*x*y^2*z^6*h^7 - 2*x*y^2*z^5*h^8 + 2*x*y^2*z^4*h^9 + 3*x*y^2*z^3*h^10 - 2*x*y^2*z^2*h^11 + x*y^2*z*h^12 - x*y^2*h^13 + 3*x*y*z^6*h^8 - x*y*z^4*h^10 - 3*x*y*z^3*h^11 + 3*x*y*z*h^13 - 2*x*y*h^14 - x*z^6*h^9 - 2*x*z^5*h^10 - 3*x*z^3*h^12 + 2*x*z^2*h^13 - x*z*h^14 - 2*x*h^15 - 3*y^6*z^6*h^4 - y^6*z^5*h^5 - 3*y^6*z^4*h^6 + 3*y^6*z^3*h^7 - 3*y^6*z^2*h^8 - 2*y^6*z*h^9 + 2*y^6*h^10 - y^5*z^6*h^5 - 3*y^5*z^5*h^6 - 2*y^5*z^3*h^8 - 2*y^5*z^2*h^9 + 3*y^5*z*h^10 - 2*y^5*h^11 + y^4*z^6*h^6 + y^4*z^5*h^7 - 3*y^4*z^4*h^8 + 3*y^4*z^2*h^10 - y^4*z*h^11 - 2*y^4*h^12 - 2*y^3*z^6*h^7 - y^3*z^5*h^8 + 2*y^3*z^4*h^9 - 2*y^3*z^3*h^10 + 3*y^3*z*h^12 + 2*y^2*z^5*h^9 - y^2*z^4*h^10 + 3*y^2*z^3*h^11 + 2*y^2*z^2*h^12 + 2*y^2*z*h^13 - y^2*h^14 - 2*y*z^6*h^9 + 3*y*z^5*h^10 + 3*y*z^4*h^11 - 2*y*z^2*h^13 - 3*y*z*h^14 + y*h^15 + 3*z^5*h^11 - 2*z^4*h^12 - 2*z^3*h^13 - 2*z^2*h^14 + z*h^15 + 2*h^16\n",
      "x^2*y^3*h^12 - 2*x^2*y*h^14 + 3*x*y^5*z*h^10 - 3*x*y^5*h^11 + 2*x*y^4*z*h^11 - 2*x*y^4*h^12 + x*y^3*h^13 - 2*x*y^2*h^14 + x*y*z*h^14 - x*y*h^15 - 3*x*z*h^15 + 3*x*h^16 + 2*y^5*z*h^11 - 3*y^5*h^12 + y^4*h^13 - 2*y^3*z^2*h^12 + 2*y^3*h^14 - 2*y^2*z^3*h^12 - 3*y^2*z^2*h^13 + 2*y^2*z*h^14 + 3*y^2*h^15 - 3*y*z^4*h^12 - 3*y*z^2*h^14 - y*z*h^15 + 3*z^4*h^13 + 2*z^3*h^14 - z^2*h^15 - z*h^16 - 3*h^17\n",
      "x^2*y^2*z^6*h^6 - x^2*y^2*h^12 + 2*x^2*y*z^5*h^8 + 3*x^2*y*z^3*h^10 + 2*x^2*y*z^2*h^11 + 3*x^2*y*h^13 + 2*x^2*z^6*h^8 + x^2*z^5*h^9 + 3*x^2*z^4*h^10 - x^2*z^3*h^11 + 2*x^2*h^14 - 2*x*y^6*z*h^8 + 2*x*y^5*z^5*h^5 - x*y^5*z^3*h^7 - 2*x*y^5*z^2*h^8 - x*y^5*z*h^9 + 2*x*y^5*h^10 + x*y^4*z^4*h^7 - 3*x*y^4*z^3*h^8 - x*y^4*z^2*h^9 + 3*x*y^4*z*h^10 - 2*x*y^3*z^5*h^7 + x*y^3*z^4*h^8 - 3*x*y^3*z^3*h^9 + 2*x*y^3*z^2*h^10 - 2*x*y^3*z*h^11 - 3*x*y^3*h^12 - x*y^2*z^4*h^9 + 2*x*y^2*z^3*h^10 + x*y^2*z^2*h^11 + 3*x*y^2*z*h^12 - 2*x*y^2*h^13 + 3*x*y*z^6*h^8 + 2*x*y*z^5*h^9 + x*y*z^4*h^10 + x*y*z^2*h^12 - 2*x*y*z*h^13 + 2*x*y*h^14 - 2*x*z^6*h^9 - 3*x*z^5*h^10 + 3*x*z^4*h^11 + x*z^3*h^12 + x*z^2*h^13 - 3*x*z*h^14 - 2*x*h^15 + y^6*z^6*h^4 + 2*y^6*z^5*h^5 + 2*y^6*z^4*h^6 - 2*y^6*z^3*h^7 + y^6*z*h^9 + 3*y^6*h^10 - 3*y^5*z^6*h^5 - 3*y^5*z^4*h^7 - 3*y^5*z^3*h^8 - y^5*z^2*h^9 + 3*y^5*z*h^10 - 2*y^4*z^6*h^6 + y^4*z^5*h^7 - 2*y^4*z^2*h^10 - y^4*z*h^11 - 3*y^4*h^12 + 2*y^3*z^6*h^7 - y^3*z^5*h^8 + 3*y^3*z^4*h^9 - 3*y^3*z^3*h^10 + 2*y^3*z^2*h^11 - 3*y^3*z*h^12 - 3*y^2*z^6*h^8 - 2*y^2*z^5*h^9 - y^2*z^4*h^10 + 2*y^2*z^3*h^11 + y^2*z^2*h^12 + 3*y^2*h^14 + 3*y*z^6*h^9 - y*z^4*h^11 - 3*y*z^3*h^12 + y*z^2*h^13 + 3*y*z*h^14 - 3*y*h^15 + 3*z^6*h^10 + 3*z^5*h^11 + 2*z^3*h^13 - 2*z^2*h^14 + z*h^15\n",
      "x^2*y^2*z^5*h^7 - x^2*y*z^5*h^8 - 3*x^2*y*z^3*h^10 - 2*x^2*y*z^2*h^11 - 3*x^2*y*z*h^12 - x^2*y*h^13 - x^2*z^6*h^8 - 3*x^2*z^4*h^10 + 2*x^2*z^3*h^11 + 3*x^2*z^2*h^12 - 2*x^2*z*h^13 + x^2*h^14 - 3*x*y^6*z*h^8 + x*y^5*z^4*h^6 - 2*x*y^5*z^3*h^7 - x*y^5*z^2*h^8 - 3*x*y^5*z*h^9 - 2*x*y^5*h^10 - 2*x*y^4*z^5*h^6 - 2*x*y^4*z^4*h^7 - x*y^4*z^3*h^8 + x*y^4*z^2*h^9 + 2*x*y^4*z*h^10 + 2*x*y^4*h^11 - 2*x*y^3*z^5*h^7 + 3*x*y^3*z^4*h^8 + x*y^3*z^3*h^9 - 3*x*y^3*z^2*h^10 - 2*x*y^3*z*h^11 + 3*x*y^3*h^12 + x*y^2*z^6*h^7 + 2*x*y^2*z^5*h^8 - x*y^2*z^4*h^9 - x*y^2*z^3*h^10 - x*y^2*z^2*h^11 - x*y^2*z*h^12 - 2*x*y^2*h^13 - x*y*z^5*h^9 - 3*x*y*z^3*h^11 - 3*x*y*z*h^13 - 2*x*z^5*h^10 + x*z^4*h^11 - 3*x*z^3*h^12 + 3*x*z^2*h^13 + 2*x*z*h^14 + 2*x*h^15 + 3*y^6*z^6*h^4 + 2*y^6*z^5*h^5 - 3*y^6*z^4*h^6 - 2*y^6*z^2*h^8 + 3*y^6*z*h^9 - 3*y^6*h^10 + y^5*z^6*h^5 - y^5*z^3*h^8 - 3*y^5*z^2*h^9 + 3*y^5*h^11 + y^4*z^6*h^6 + 3*y^4*z^5*h^7 - 3*y^4*z^3*h^9 - y^4*z^2*h^10 + 3*y^4*z*h^11 + 3*y^4*h^12 - y^3*z^6*h^7 + y^3*z^4*h^9 + y^3*z^2*h^11 - y^3*h^13 + 2*y^2*z^6*h^8 + y^2*z^5*h^9 + 3*y^2*z^4*h^10 - 2*y^2*z^3*h^11 + 2*y^2*z^2*h^12 + y^2*z*h^13 + 2*y*z^6*h^9 + 3*y*z^5*h^10 - 3*y*z^4*h^11 + 2*y*z^3*h^12 + 2*y*z*h^14 + y*h^15 + z^6*h^10 + 2*z^5*h^11 + 3*z^4*h^12 + 3*z^3*h^13 - 2*z^2*h^14 + 3*z*h^15 - 3*h^16\n",
      "x^2*y^2*z^4*h^8 - x^2*y^2*h^12 + 3*x^2*y*z^5*h^8 + 3*x^2*y*z^3*h^10 + 2*x^2*y*z^2*h^11 + 2*x^2*y*z*h^12 - x^2*y*h^13 - 3*x^2*z^6*h^8 + 2*x^2*z^5*h^9 - 2*x^2*z^4*h^10 - 2*x^2*z^2*h^12 - 2*x^2*z*h^13 - x*y^6*z*h^8 + 2*x*y^5*z^5*h^5 - 3*x*y^5*z^4*h^6 + 3*x*y^5*z^3*h^7 - x*y^5*z^2*h^8 + 2*x*y^5*z*h^9 - 3*x*y^5*h^10 - 3*x*y^4*z^5*h^6 + 2*x*y^4*z^4*h^7 + 2*x*y^4*z^3*h^8 + x*y^4*z*h^10 - 2*x*y^4*h^11 + 3*x*y^3*z^5*h^7 + 3*x*y^3*z^3*h^9 + x*y^3*z*h^11 - x*y^2*z^6*h^7 + 2*x*y^2*z^5*h^8 + 3*x*y^2*z^4*h^9 + x*y^2*z^3*h^10 + x*y^2*z^2*h^11 - 2*x*y^2*z*h^12 - 2*x*y^2*h^13 + 3*x*y*z^6*h^8 - 3*x*y*z^5*h^9 + 2*x*y*z^4*h^10 + 3*x*y*z*h^13 + 2*x*y*h^14 - x*z^6*h^9 - 3*x*z^5*h^10 - x*z^4*h^11 - 3*x*z^3*h^12 - 2*x*z^2*h^13 - 3*x*h^15 - 3*y^6*z^6*h^4 + y^6*z^5*h^5 + y^6*z^4*h^6 + y^6*z^3*h^7 + 3*y^6*z^2*h^8 + y^6*z*h^9 + 3*y^6*h^10 - y^5*z^6*h^5 + y^5*z^5*h^6 - y^5*z^3*h^8 + 3*y^5*z^2*h^9 - 2*y^5*h^11 - y^4*z^6*h^6 - 2*y^4*z^5*h^7 + y^4*z^4*h^8 + 3*y^4*z^3*h^9 - 2*y^4*z^2*h^10 - y^4*z*h^11 + 2*y^4*h^12 + y^3*z^6*h^7 + y^3*z^5*h^8 - y^3*z^3*h^10 - y^3*h^13 - 3*y^2*z^5*h^9 + 2*y^2*z^4*h^10 + y^2*z^3*h^11 + 2*y^2*z*h^13 - 2*y^2*h^14 - y*z^6*h^9 + 2*y*z^5*h^10 + 2*y*z^4*h^11 + y*z^3*h^12 + 2*y*z^2*h^13 - 3*y*z*h^14 - 3*y*h^15 + 3*z^6*h^10 + 3*z^5*h^11 + 2*z^4*h^12 + 3*z^3*h^13 + 2*z^2*h^14 - 2*z*h^15 + 3*h^16\n",
      "x^2*y^2*z^3*h^9 + 2*x^2*y*z^5*h^8 + 2*x^2*y*z^3*h^10 + 3*x^2*y*z^2*h^11 + 2*x^2*y*z*h^12 + 2*x^2*z^6*h^8 - x^2*z^5*h^9 - 2*x^2*z^3*h^11 - 3*x^2*z^2*h^12 + 3*x^2*z*h^13 + x^2*h^14 + 2*x*y^6*z*h^8 + x*y^5*z^5*h^5 + 2*x*y^5*z^4*h^6 + 2*x*y^5*z^3*h^7 - 3*x*y^5*z^2*h^8 - x*y^5*z*h^9 - x*y^5*h^10 + 3*x*y^4*z^5*h^6 - 2*x*y^4*z^4*h^7 + x*y^4*z^2*h^9 + 3*x*y^4*z*h^10 + 2*x*y^4*h^11 + 3*x*y^3*z^5*h^7 - x*y^3*z^4*h^8 - x*y^3*z^3*h^9 + x*y^3*z^2*h^10 + 2*x*y^3*z*h^11 + 3*x*y^3*h^12 - x*y^2*z^5*h^8 - 2*x*y^2*z^4*h^9 + x*y^2*z^2*h^11 - 3*x*y^2*h^13 - 3*x*y*z^6*h^8 + 2*x*y*z^5*h^9 + x*y*z^4*h^10 + 2*x*y*z^3*h^11 + 3*x*y*z^2*h^12 + 3*x*y*z*h^13 - x*y*h^14 + x*z^6*h^9 - 2*x*z^5*h^10 - 2*x*z^4*h^11 - x*z^3*h^12 + 2*x*z^2*h^13 + 2*x*z*h^14 - 2*x*h^15 - 3*y^6*z^6*h^4 - y^6*z^4*h^6 - 3*y^6*z^3*h^7 + 2*y^6*z^2*h^8 - 2*y^6*h^10 + 2*y^5*z^6*h^5 + 3*y^5*z^5*h^6 - 2*y^5*z^4*h^7 - 3*y^5*z^3*h^8 - y^5*z^2*h^9 - y^5*z*h^10 + 2*y^5*h^11 - 2*y^4*z^5*h^7 - 3*y^4*z^4*h^8 + 2*y^4*z^3*h^9 + y^4*z^2*h^10 + 3*y^4*z*h^11 - 2*y^4*h^12 + y^3*z^6*h^7 - 3*y^3*z^5*h^8 - y^3*z^4*h^9 + 3*y^3*z^3*h^10 - 2*y^3*z^2*h^11 + 2*y^3*h^13 + 3*y^2*z^6*h^8 - y^2*z^5*h^9 - 3*y^2*z^2*h^12 + y^2*z*h^13 + y*z^6*h^9 + 3*y*z^5*h^10 - y*z^4*h^11 + 3*y*z^3*h^12 + y*z^2*h^13 + y*z*h^14 - y*h^15 - 3*z^6*h^10 - z^5*h^11 + z^4*h^12 + z^3*h^13 - z^2*h^14 + 2*z*h^15 + h^16\n",
      "x^2*y^2*z^2*h^10 - x^2*y^2*h^12 - 2*x^2*y*z^5*h^8 + 2*x^2*y*z^3*h^10 - 2*x^2*y*z^2*h^11 + 3*x^2*y*z*h^12 - 2*x^2*y*h^13 + 3*x^2*z^6*h^8 - 2*x^2*z^5*h^9 - 2*x^2*z^3*h^11 - 3*x^2*z*h^13 - 3*x^2*h^14 - x*y^6*z*h^8 + x*y^5*z^5*h^5 + 3*x*y^5*z^4*h^6 + x*y^5*z^3*h^7 + x*y^5*z^2*h^8 - 2*x*y^5*z*h^9 + 3*x*y^5*h^10 + x*y^4*z^5*h^6 - 2*x*y^4*z^4*h^7 - x*y^4*z^3*h^8 + x*y^4*z^2*h^9 + x*y^4*h^11 + 2*x*y^3*z^5*h^7 + 3*x*y^3*z^4*h^8 - 2*x*y^3*z^3*h^9 + 3*x*y^3*z^2*h^10 + x*y^3*h^12 - 3*x*y^2*z^6*h^7 - 2*x*y^2*z^5*h^8 + 2*x*y^2*z^4*h^9 - 2*x*y^2*z*h^12 - 3*x*y^2*h^13 + x*y*z^6*h^8 - x*y*z^5*h^9 + 3*x*y*z^4*h^10 + 3*x*y*z^3*h^11 - 2*x*y*z*h^13 + 3*x*y*h^14 - 2*x*z^5*h^10 + 2*x*z^4*h^11 + 2*x*z^2*h^13 + 3*x*z*h^14 + 3*x*h^15 - 2*y^6*z^6*h^4 + 3*y^6*z^5*h^5 + 3*y^6*z^4*h^6 - 2*y^6*z^3*h^7 - 2*y^6*z^2*h^8 - 3*y^6*z*h^9 + 3*y^6*h^10 + 3*y^5*z^6*h^5 + 3*y^5*z^5*h^6 - 3*y^5*z^4*h^7 + y^5*z^3*h^8 - y^5*z^2*h^9 + 3*y^5*z*h^10 + y^5*h^11 - y^4*z^6*h^6 + 3*y^4*z^5*h^7 - 3*y^4*z^4*h^8 + 3*y^4*z^3*h^9 + 2*y^4*z^2*h^10 + y^4*z*h^11 + 2*y^4*h^12 - 3*y^3*z^5*h^8 + y^3*z^4*h^9 + y^3*z^3*h^10 + y^3*z^2*h^11 + 2*y^3*z*h^12 - 2*y^3*h^13 - 3*y^2*z^6*h^8 - 3*y^2*z^5*h^9 + 2*y^2*z^4*h^10 + 3*y^2*z^3*h^11 + y^2*h^14 + 3*y*z^6*h^9 - 2*y*z^5*h^10 - y*z^4*h^11 - y*z^3*h^12 + 3*y*z^2*h^13 + 3*y*z*h^14 + 2*y*h^15 + z^6*h^10 - 3*z^5*h^11 + z^3*h^13 - 3*z^2*h^14 - 3*z*h^15\n",
      "x^2*y^2*z*h^11 + 3*x^2*y*z^3*h^10 + 2*x^2*y*z^2*h^11 - 2*x^2*y*z*h^12 + 3*x^2*y*h^13 + x^2*z^6*h^8 - x^2*z^5*h^9 - x^2*z^3*h^11 + 3*x^2*z^2*h^12 + 2*x^2*z*h^13 + 3*x^2*h^14 + 2*x*y^6*z*h^8 - 3*x*y^5*z^5*h^5 - 3*x*y^5*z^4*h^6 - 2*x*y^5*z^3*h^7 - 2*x*y^5*z^2*h^8 + 3*x*y^5*h^10 + 3*x*y^4*z^5*h^6 - 3*x*y^4*z^4*h^7 + 3*x*y^4*z^3*h^8 + 2*x*y^4*z^2*h^9 + 2*x*y^4*h^11 - 2*x*y^3*z^5*h^7 - 2*x*y^3*z^4*h^8 + x*y^3*z^3*h^9 - x*y^3*z^2*h^10 - 2*x*y^3*z*h^11 - x*y^3*h^12 - x*y^2*z^6*h^7 + x*y^2*z^5*h^8 - x*y^2*z^4*h^9 - 3*x*y^2*z^3*h^10 + 3*x*y^2*z^2*h^11 + 3*x*y^2*z*h^12 - 3*x*y^2*h^13 - x*y*z^6*h^8 + x*y*z^5*h^9 + x*y*z^4*h^10 - 3*x*y*z^3*h^11 + 3*x*y*z^2*h^12 + 2*x*y*z*h^13 - 3*x*y*h^14 - x*z^6*h^9 - 3*x*z^5*h^10 - 3*x*z^4*h^11 + x*z^3*h^12 - 2*x*z^2*h^13 + x*z*h^14 - 2*x*h^15 - y^6*z^6*h^4 + 3*y^6*z^5*h^5 + 3*y^6*z^4*h^6 + 3*y^6*z^3*h^7 - 2*y^6*z^2*h^8 - 2*y^6*z*h^9 + 3*y^6*h^10 - y^5*z^6*h^5 + 3*y^5*z^4*h^7 + y^5*z^3*h^8 + 2*y^5*z^2*h^9 - 2*y^5*z*h^10 - 3*y^5*h^11 + 2*y^4*z^5*h^7 + y^4*z^4*h^8 - 3*y^4*z^2*h^10 + y^4*z*h^11 - 2*y^4*h^12 - y^3*z^6*h^7 - 2*y^3*z^5*h^8 + 3*y^3*z^4*h^9 + y^3*z^3*h^10 + y^3*z^2*h^11 + y^3*z*h^12 - 3*y^3*h^13 - 2*y^2*z^5*h^9 - y^2*z^3*h^11 + 3*y^2*z*h^13 + 2*y*z^6*h^9 - y*z^2*h^13 - y*h^15 - 2*z^6*h^10 + 3*z^5*h^11 - 3*z^4*h^12 + 3*z^3*h^13 - 3*z^2*h^14 + 3*z*h^15 - h^16\n",
      "x^2*y^2*h^13 + 3*x^2*y*h^14 - 2*x*y^5*z*h^10 + 2*x*y^5*h^11 + x*y^4*z*h^11 - x*y^4*h^12 + x*y^3*h^13 + 3*x*y^2*h^14 - x*z*h^15 + x*h^16 + y^5*z*h^11 - y^5*h^12 + 3*y^3*z^3*h^11 - 2*y^3*z^2*h^12 - 3*y^3*z*h^13 + 2*y^3*h^14 + 3*y^2*z^3*h^12 - 3*y^2*z*h^14 + 2*y*z^4*h^12 - 2*y*z^3*h^13 - 2*y*z^2*h^14 + 2*y*z*h^15 - 3*z^4*h^13 + 3*z^2*h^15 + z*h^16 - h^17\n",
      "x^2*y*z^6*h^7 - 3*x^2*y*z^5*h^8 - 3*x^2*y*z^3*h^10 + x^2*z^5*h^9 + 2*x^2*z^4*h^10 + 3*x^2*z^3*h^11 + 3*x^2*z*h^13 - 2*x^2*h^14 - x*y^6*z*h^8 + x*y^5*z^4*h^6 - 3*x*y^5*z^3*h^7 + 3*x*y^5*z^2*h^8 + 3*x*y^5*z*h^9 + 3*x*y^5*h^10 - x*y^4*z^5*h^6 - 2*x*y^4*z^4*h^7 + 3*x*y^4*z^3*h^8 + x*y^4*z^2*h^9 - 2*x*y^4*z*h^10 + x*y^4*h^11 - x*y^3*z^5*h^7 + 2*x*y^3*z^4*h^8 + 2*x*y^3*z^3*h^9 + 2*x*y^3*z^2*h^10 - x*y^3*z*h^11 + 3*x*y^3*h^12 - 3*x*y^2*z^6*h^7 - 3*x*y^2*z^5*h^8 + 3*x*y^2*z^4*h^9 - 3*x*y^2*z^2*h^11 - 3*x*y^2*z*h^12 - 3*x*y^2*h^13 + x*y*z^6*h^8 + 2*x*y*z^5*h^9 - 3*x*y*z^4*h^10 - 3*x*y*z^3*h^11 + x*y*z^2*h^12 + x*y*z*h^13 + x*y*h^14 + 2*x*z^6*h^9 - 2*x*z^5*h^10 + x*z^4*h^11 + x*z^3*h^12 - x*z^2*h^13 + 2*x*z*h^14 - 2*x*h^15 - 3*y^6*z^6*h^4 + y^6*z^4*h^6 + 2*y^6*z^3*h^7 - y^6*z^2*h^8 + y^6*z*h^9 + 2*y^5*z^6*h^5 - 3*y^5*z^5*h^6 + 2*y^5*z^4*h^7 + y^5*z^3*h^8 - 2*y^5*z^2*h^9 + 2*y^5*z*h^10 - 2*y^5*h^11 + y^4*z^6*h^6 - y^4*z^5*h^7 + 2*y^4*z^4*h^8 + y^4*z^3*h^9 + 2*y^4*z^2*h^10 + 2*y^4*h^12 + 3*y^3*z^6*h^7 + 2*y^3*z^5*h^8 - 3*y^3*z^4*h^9 + y^3*z^3*h^10 - 2*y^3*z^2*h^11 - 3*y^3*z*h^12 + 2*y^3*h^13 - 2*y^2*z^6*h^8 + 3*y^2*z^5*h^9 - 3*y^2*z^4*h^10 + y^2*z^3*h^11 + 2*y^2*z^2*h^12 + 3*y^2*z*h^13 + 3*y^2*h^14 - y*z^6*h^9 + y*z^5*h^10 - y*z^4*h^11 - 2*y*z^3*h^12 - 3*y*z^2*h^13 + y*z*h^14 - 2*y*h^15 - 3*z^6*h^10 - 2*z^5*h^11 + 3*z^4*h^12 - 3*z^3*h^13 - z^2*h^14 + 2*z*h^15 - 3*h^16\n",
      "x^2*y*z^4*h^9 - 3*x^2*y*z^3*h^10 - 3*x^2*y*z^2*h^11 - x^2*y*h^13 - 2*x^2*z^6*h^8 - 3*x^2*z^5*h^9 - x^2*z^3*h^11 + x^2*z^2*h^12 - 3*x^2*z*h^13 + x^2*h^14 - 2*x*y^6*z*h^8 - x*y^5*z^5*h^5 - 3*x*y^5*z^4*h^6 - 2*x*y^5*z^3*h^7 - x*y^5*z^2*h^8 + 3*x*y^5*z*h^9 - 3*x*y^5*h^10 + 3*x*y^4*z^4*h^7 - 2*x*y^4*z^3*h^8 + 2*x*y^4*z*h^10 - 3*x*y^4*h^11 - x*y^3*z^5*h^7 - 3*x*y^3*z^3*h^9 - 3*x*y^3*z^2*h^10 - 3*x*y^3*z*h^11 + 3*x*y^3*h^12 + x*y^2*z^6*h^7 - x*y^2*z^5*h^8 + 2*x*y^2*z^4*h^9 - x*y^2*z^3*h^10 - x*y^2*z*h^12 + x*y^2*h^13 + x*y*z^6*h^8 - x*y*z^5*h^9 + x*y*z^4*h^10 - 2*x*y*z^3*h^11 - 3*x*y*z^2*h^12 + 3*x*y*z*h^13 + x*y*h^14 - 2*x*z^6*h^9 + x*z^5*h^10 - x*z^4*h^11 - 2*x*z^2*h^13 + x*z*h^14 - 2*x*h^15 + 2*y^6*z^4*h^6 + 2*y^6*z^3*h^7 - 2*y^6*z^2*h^8 + y^6*z*h^9 - 3*y^6*h^10 - 2*y^5*z^6*h^5 - y^5*z^4*h^7 - 3*y^5*z^3*h^8 + 3*y^5*z*h^10 + 3*y^5*h^11 + 2*y^4*z^6*h^6 - 3*y^4*z^5*h^7 - y^4*z^2*h^10 + 3*y^4*z*h^11 - y^4*h^12 - y^3*z^6*h^7 + y^3*z^4*h^9 + 2*y^3*z^2*h^11 - 2*y^3*h^13 - 2*y^2*z^6*h^8 - 3*y^2*z^5*h^9 - 3*y^2*z^4*h^10 + y^2*z^3*h^11 - 3*y^2*z^2*h^12 + 2*y^2*z*h^13 + y^2*h^14 - 2*y*z^6*h^9 - 2*y*z^5*h^10 - y*z^4*h^11 + 2*y*z^3*h^12 + 2*y*z^2*h^13 + y*h^15 - z^6*h^10 - z^5*h^11 - z^4*h^12 + z^3*h^13 - 3*z^2*h^14 - 3*z*h^15 + h^16\n",
      "x^2*y*z^3*h^11 + x^2*y*h^14 + x*y^2*z*h^13 + x*y^2*h^14 + 2*y^2*z^2*h^13 - 2*y^2*h^15 - y*z^4*h^12 - 2*y*z^3*h^13 - y*z^2*h^14 + 2*y*z*h^15 + 2*y*h^16\n",
      "x^2*y*z^2*h^12 - x^2*y*h^14\n",
      "x^2*y*z*h^13 + x^2*y*h^14 + x*y^2*z*h^13 + x*y^2*h^14 + 2*y^2*z^2*h^13 - 2*y^2*h^15 - y*z^4*h^12 - 2*y*z^3*h^13 - y*z^2*h^14 + 2*y*z*h^15 + 2*y*h^16\n",
      "x^2*y*h^15 + x*y^2*z*h^14 + 3*y^3*z*h^14 - 3*y^3*h^15 + y*z^3*h^14 + y*z^2*h^15 - y*z*h^16 - y*h^17\n",
      "x^2*z^6*h^9 - x^2*h^15 + 3*y*z^4*h^12 - 2*y*z^2*h^14 - y*h^16 - 3*z^4*h^13 + 2*z^2*h^15 + h^17\n",
      "x^2*z^5*h^10 - x^2*h^15 - x*y*z*h^14 + x*y*h^15 - 2*y^3*z^3*h^11 + y^3*z^2*h^12 + 2*y^3*z*h^13 - y^3*h^14 + 2*y^2*z^3*h^12 - y^2*z*h^14 - y^2*h^15 + 3*y*z^4*h^12 + 3*y*z^3*h^13 + 3*y*z^2*h^14 - 3*y*z*h^15 + y*h^16 - 2*z^4*h^13 + z^3*h^14 + z^2*h^15 - z*h^16 + h^17\n",
      "x^2*z^4*h^11 - x^2*h^15 + 2*y^3*z^3*h^11 + 3*y^3*z^2*h^12 - 2*y^3*z*h^13 - 3*y^3*h^14 + y*z^4*h^12 - 3*y*z^2*h^14 + 2*y*h^16 + 2*z^4*h^13 + 2*z^3*h^14 - 3*z^2*h^15 - 2*z*h^16 + h^17\n",
      "x^2*z^3*h^12 - x^2*h^15 - x*y*z*h^14 + x*y*h^15 + 3*y^3*z^3*h^11 + 3*y^3*z^2*h^12 - 3*y^3*z*h^13 - 3*y^3*h^14 - 3*y^2*z^3*h^12 - 3*y^2*z^2*h^13 - 3*y^2*z*h^14 + 2*y^2*h^15 + 2*y*z^3*h^13 - 2*y*z*h^15 - z^4*h^13 - z^3*h^14 + z*h^16 + h^17\n",
      "x^2*z^2*h^13 - x^2*h^15 + 3*y^3*z^3*h^11 + y^3*z^2*h^12 - 3*y^3*z*h^13 - y^3*h^14 + z^4*h^13 + 3*z^3*h^14 - 2*z^2*h^15 - 3*z*h^16 + h^17\n",
      "x^2*z*h^14 - x^2*h^15 - x*y*z*h^14 + x*y*h^15 + 2*y^3*z^3*h^11 - 3*y^3*z^2*h^12 - 2*y^3*z*h^13 + 3*y^3*h^14 - 2*y^2*z^3*h^12 - y^2*z^2*h^13 + 3*y^2*z*h^14 + 2*y*z^4*h^12 - 2*y*z^3*h^13 + 2*y*z^2*h^14 + 2*y*z*h^15 + 3*y*h^16 + 3*z^4*h^13 - 2*z^3*h^14 + 3*z^2*h^15 + 2*z*h^16 + h^17\n",
      "x^2*h^18 - 3*y^4*z*h^15 + 3*y^4*h^16 - 2*y^3*z*h^16 + 2*y^3*h^17 - y^2*z*h^17 + 2*y*z*h^18 - 2*y*h^19 - z^3*h^17 + 3*z^2*h^18 + z*h^19 - 3*h^20\n",
      "x*y^6*z^6*h^3 - 2*x*y^3*z^4*h^8 - 3*x*y^3*z^2*h^10 - 2*x*y^3*h^12 + 2*x*z^6*h^9 + 2*x*z^4*h^11 + 2*x*z^2*h^13\n",
      "x*y^6*z^5*h^4 + 3*x*y^6*z*h^8 + 2*x*y^3*z^3*h^9 - 2*x*y^3*z*h^11 - 3*x*z^3*h^12 - x*z*h^14\n",
      "x*y^6*z^4*h^5 - x*y^3*z^4*h^8 - 3*x*y^3*z^2*h^10 - 3*x*y^3*h^12 + x*z^4*h^11 - 2*x*z^2*h^13\n",
      "x*y^6*z^3*h^6 - 2*x*y^6*z*h^8 - x*y^3*z^3*h^9 + x*y^3*z*h^11 + 3*x*z^5*h^10 - 3*x*z^3*h^12 + x*z*h^14 + 2*y^6*z^6*h^4 + y^6*z^5*h^5 + y^6*z^4*h^6 - 3*y^6*z^3*h^7 - 3*y^6*z^2*h^8 + 2*y^6*z*h^9 - 2*z^6*h^10 - z^5*h^11 - z^4*h^12 + 3*z^3*h^13 + 3*z^2*h^14 - 2*z*h^15\n",
      "x*y^6*z^2*h^7 + 3*x*y^3*z^4*h^8 - 3*x*y^3*z^2*h^10 + 2*x*z^6*h^9 + 2*x*z^4*h^11 + 2*x*z^2*h^13\n",
      "x*y^6*h^9 - 2*x*y^3*z^4*h^8 - 3*x*y^3*z^2*h^10 - 2*x*y^3*h^12 + 2*x*z^6*h^9 + 2*x*z^4*h^11 + 2*x*z^2*h^13\n",
      "x*y^5*z^6*h^4 - x*y^5*h^10 + x*y^3*z^5*h^7 - x*y^3*z^4*h^8 - x*y^3*z^3*h^9 - x*y^3*z^2*h^10 + 2*x*y^3*h^12 + 3*x*y^2*z^6*h^7 - 3*x*y^2*h^13 + x*z^6*h^9 + 2*x*z^5*h^10 - 3*x*z^4*h^11 + x*z^3*h^12 + 2*x*z^2*h^13 - 3*x*z*h^14 - 2*y^6*z^6*h^4 - 3*y^6*z^5*h^5 - 3*y^6*z^4*h^6 + 2*y^6*z^3*h^7 + 2*y^6*z^2*h^8 + y^6*z*h^9 + 3*y^6*h^10 + 3*y^3*z^6*h^7 - 3*y^3*h^13 - z^6*h^10 + 3*z^5*h^11 + 3*z^4*h^12 - 2*z^3*h^13 - 2*z^2*h^14 - z*h^15\n",
      "x*y^5*z^5*h^6 - x*y^5*z*h^10\n",
      "x*y^5*z^4*h^7 - x*y^5*h^11\n",
      "x*y^5*z^3*h^8 - x*y^5*z*h^10\n",
      "x*y^5*z^2*h^9 - x*y^5*h^11\n",
      "x*y^5*z*h^11 + x*y^3*h^14 + y^4*h^14 - 3*y^3*z*h^14 + 3*y^3*h^15 - y^2*z*h^15 + y^2*h^16 + 2*y*z^3*h^14 + y*z^2*h^15 - 3*y*h^17 + h^18\n",
      "x*y^5*h^12 - x*y^4*h^13 + 3*x*y^3*h^14 - 3*x*y*z*h^15 + 3*x*y*h^16 - x*z*h^16 + x*h^17 - y^5*h^13 + 3*y^4*h^14 - 3*y^3*z*h^14 + 3*y^3*h^15 - y^2*z*h^15 + y^2*h^16 - 3*y*z^3*h^14 - 2*y*z^2*h^15 + y*z*h^16 - 3*y*h^17 + 2*z^3*h^15 - z^2*h^16 - 3*z*h^17 + 3*h^18\n",
      "x*y^4*z^6*h^5 + 2*x*y^4*z^2*h^9 - 3*x*y^4*h^11 + 2*x*y*z^6*h^8 + x*y*z^4*h^10 - 3*x*y*z^2*h^12 + 3*y^4*z^6*h^6 - 3*y^4*h^12 - 3*y*z^6*h^9 + 3*y*h^15\n",
      "x*y^4*z^5*h^7 - x*y^4*z*h^11\n",
      "x*y^4*z^4*h^8 - x*y^4*h^12\n",
      "x*y^4*z^3*h^9 - x*y^4*z*h^11\n",
      "x*y^4*z^2*h^10 - x*y^4*h^12\n",
      "x*y^4*h^14 + x*z*h^17 + y^5*h^14 - 3*y^4*z*h^14 + 3*y^4*h^15 - y^3*z*h^15 + y^3*h^16 + 2*y^2*z*h^16 - 2*y^2*h^17 + y*h^18 + 2*z^3*h^16 + z^2*h^17 - 2*z*h^18 - h^19\n",
      "x*y^3*z^6*h^6 - x*y^3*h^12\n",
      "x*y^3*z^5*h^8 + x*y^3*h^13 + y^4*z*h^12 + y^4*h^13 - 3*y^3*z^3*h^11 + 3*y^3*z^2*h^12 + 3*y^3*z*h^13 - 3*y^3*h^14 + y^2*z^2*h^13 - y^2*h^15 - 3*y*z^4*h^12 - y*z^3*h^13 + y*z*h^15 + 3*y*h^16\n",
      "x*y^3*z^4*h^9 - x*y^3*h^13\n",
      "x*y^3*z^3*h^10 + x*y^3*h^13 + y^4*z*h^12 + y^4*h^13 - 3*y^3*z^3*h^11 + 3*y^3*z^2*h^12 + 3*y^3*z*h^13 - 3*y^3*h^14 + y^2*z^2*h^13 - y^2*h^15 - 3*y*z^4*h^12 - y*z^3*h^13 + y*z*h^15 + 3*y*h^16\n",
      "x*y^3*z^2*h^11 - x*y^3*h^13\n",
      "x*y^3*z*h^12 + x*y^3*h^13 + y^4*z*h^12 + y^4*h^13 - 3*y^3*z^3*h^11 + 3*y^3*z^2*h^12 + 3*y^3*z*h^13 - 3*y^3*h^14 + y^2*z^2*h^13 - y^2*h^15 - 3*y*z^4*h^12 - y*z^3*h^13 + y*z*h^15 + 3*y*h^16\n",
      "x*y^3*h^15 + 3*x*z*h^17 + 2*x*h^18 + y^4*z*h^14 + 3*y*z*h^17 + 2*y*h^18 + 3*z^3*h^16 - 3*z^2*h^17 + 2*z*h^18 - 2*h^19\n",
      "x*y^2*z^6*h^8 - x*y^2*h^14\n",
      "x*y^2*z^5*h^9 - x*y^2*z*h^13\n",
      "x*y^2*z^4*h^10 - x*y^2*h^14\n",
      "x*y^2*z^3*h^11 - x*y^2*z*h^13\n",
      "x*y^2*z^2*h^12 - x*y^2*h^14\n",
      "x*y^2*z*h^15 - x*y^2*h^16 + x*z*h^17 - x*h^18 + 3*y^3*z*h^15 - 3*y^3*h^16 + y*z*h^17 - y*h^18 + z^3*h^16 - 2*z^2*h^17 + h^19\n",
      "x*y*z^6*h^9 - x*y*h^15\n",
      "x*y*z^5*h^10 - x*y*z*h^14\n",
      "x*y*z^4*h^11 - x*y*h^15\n",
      "x*y*z^3*h^12 - x*y*z*h^14\n",
      "x*y*z^2*h^13 - x*y*h^15\n",
      "x*y*z*h^16 - x*y*h^17 - 3*x*z*h^17 - 3*y*z*h^17 + z^3*h^16 - 3*z^2*h^17 - 3*z*h^18 - 2*h^19\n",
      "x*y*h^18 - 2*y^4*z*h^15 + 2*y^4*h^16 + y^3*z*h^16 - y^3*h^17 - 3*y^2*z*h^17 - 3*y^2*h^18 - y*z*h^18 + y*h^19 + z^3*h^17 - h^20\n",
      "x*z^6*h^10 - x*h^16 + 3*y*z^4*h^12 - 2*y*z^2*h^14 - y*h^16 - 3*z^4*h^13 + 2*z^2*h^15 + h^17\n",
      "x*z^5*h^11 - x*z*h^15 + y^3*z^3*h^11 + y^3*z^2*h^12 - y^3*z*h^13 - y^3*h^14 + y^2*z^3*h^12 + 2*y^2*z^2*h^13 - y^2*z*h^14 - 2*y^2*h^15 + 2*y*z^4*h^12 + 3*y*z^3*h^13 + 2*y*z^2*h^14 - 3*y*z*h^15 + 3*y*h^16 - 3*z^4*h^13 + z^3*h^14 + 3*z^2*h^15 - z*h^16\n",
      "x*z^4*h^12 - x*h^16 - 3*y^3*z^3*h^11 + y^3*z^2*h^12 + 3*y^3*z*h^13 - y^3*h^14 + 3*y^2*z^3*h^12 - y^2*z^2*h^13 - 3*y^2*z*h^14 + y^2*h^15 + y*z^4*h^12 + 2*y*z^3*h^13 - 2*y*z*h^15 - y*h^16 + z^4*h^13 - 3*z^3*h^14 - 2*z^2*h^15 + 3*z*h^16 + h^17\n",
      "x*z^3*h^13 - x*z*h^15 - 2*y^3*z^3*h^11 - 2*y^3*z^2*h^12 + 2*y^3*z*h^13 + 2*y^3*h^14 - 2*y^2*z^3*h^12 + 3*y^2*z^2*h^13 + 2*y^2*z*h^14 - 3*y^2*h^15 + 3*y*z^4*h^12 + y*z^3*h^13 + 3*y*z^2*h^14 - y*z*h^15 + y*h^16 - z^4*h^13 - 2*z^3*h^14 + z^2*h^15 + 2*z*h^16\n",
      "x*z^2*h^14 - x*h^16 - y^3*z^3*h^11 - 2*y^3*z^2*h^12 + y^3*z*h^13 + 2*y^3*h^14 + y^2*z^3*h^12 + 2*y^2*z^2*h^13 - y^2*z*h^14 - 2*y^2*h^15 + 3*y*z^3*h^13 + y*z^2*h^14 - 3*y*z*h^15 - y*h^16 + 3*z^4*h^13 - z^3*h^14 + 3*z^2*h^15 + z*h^16 + h^17\n",
      "x*z*h^18 - 2*y^4*z*h^15 + 2*y^4*h^16 + 3*y^2*z*h^17 - 3*y^2*h^18 - 3*y*z*h^18 - 3*y*h^19 + z*h^19 - h^20\n",
      "x*h^19 + 2*y^4*z*h^15 - 2*y^4*h^16 - 3*y^2*z*h^17 + 3*y^2*h^18 - 3*y*z*h^18 - 3*y*h^19 - 3*z^3*h^17 + 3*z^2*h^18 + 2*z*h^19 - 2*h^20\n",
      "y^7 - y*h^6\n",
      "y^6*z^6*h^5 - y^6*h^11 - 3*y*z^4*h^12 + 2*y*z^2*h^14 + y*h^16\n",
      "y^6*z^5*h^6 - y^6*h^11 - 3*y^3*z^3*h^11 - y^3*z^2*h^12 + 3*y^3*z*h^13 + y^3*h^14 - z^4*h^13 + z^3*h^14 + 2*z^2*h^15 - 2*z*h^16\n",
      "y^6*z^4*h^7 - y^6*h^11 + 3*y^3*z^2*h^12 - 3*y^3*h^14 + 2*y*z^4*h^12 + y*z^2*h^14 - 3*y*h^16\n",
      "y^6*z^3*h^8 - y^6*h^11 + 2*y^3*z^3*h^11 - y^3*z^2*h^12 - 2*y^3*z*h^13 + y^3*h^14 - z^4*h^13 + z^3*h^14 + 2*z^2*h^15 - 2*z*h^16\n",
      "y^6*z^2*h^9 - y^6*h^11 + y^3*z^2*h^12 - y^3*h^14 + y*z^4*h^12 - 3*y*z^2*h^14 + 2*y*h^16\n",
      "y^6*z*h^10 - y^6*h^11 + y^3*z^3*h^11 - y^3*z^2*h^12 - y^3*z*h^13 + y^3*h^14 - z^4*h^13 + z^3*h^14 + 2*z^2*h^15 - 2*z*h^16\n",
      "y^6*h^12 - h^18\n",
      "y^5*z^6*h^6 - y^5*h^12 - 3*y*z^4*h^12 + 2*y*z^2*h^14 + y*h^16\n",
      "y^5*z^5*h^7 - y^5*z*h^11 + 3*y^2*z^3*h^12 - 3*y^2*z*h^14\n",
      "y^5*z^4*h^8 - y^5*h^12 + 3*y^2*z^2*h^13 - 3*y^2*h^15 + 2*y*z^4*h^12 + y*z^2*h^14 - 3*y*h^16\n",
      "y^5*z^3*h^9 - y^5*z*h^11 + y^2*z^3*h^12 - y^2*z*h^14\n",
      "y^5*z^2*h^10 - y^5*h^12 + y^2*z^2*h^13 - y^2*h^15 + y*z^4*h^12 - 3*y*z^2*h^14 + 2*y*h^16\n",
      "y^5*z*h^14 - y^5*h^15 + y^4*z*h^15 - y^4*h^16 + 3*y^3*z*h^16 - 3*y^3*h^17 - y^2*z*h^17 + y^2*h^18 + y*z*h^18 - y*h^19 + z^2*h^18 - h^20\n",
      "y^4*z^6*h^7 - y^4*h^13 - 3*y*z^4*h^12 + 2*y*z^2*h^14 + y*h^16\n",
      "y^4*z^5*h^8 - y^4*z*h^12 + 3*y*z^3*h^13 - 3*y*z*h^15\n",
      "y^4*z^4*h^9 - y^4*h^13 + 2*y*z^4*h^12 - 3*y*z^2*h^14 + y*h^16\n",
      "y^4*z^3*h^10 - y^4*z*h^12 + y*z^3*h^13 - y*z*h^15\n",
      "y^4*z^2*h^11 - y^4*h^13 + y*z^4*h^12 - 2*y*z^2*h^14 + y*h^16\n",
      "y^4*z*h^16 - y^4*h^17 + 2*y^2*z*h^18 - 2*y^2*h^19 + 2*y*z*h^19 - 2*y*h^20 + 2*z^3*h^18 + 3*z^2*h^19 - 2*z*h^20 - 3*h^21\n",
      "y^3*z^6*h^8 - y^3*h^14 - 3*y*z^4*h^12 + 2*y*z^2*h^14 + y*h^16\n",
      "y^3*z^5*h^9 - 3*y^3*z^3*h^11 + 2*y^3*z*h^13\n",
      "y^3*z^4*h^10 - 3*y^3*z^2*h^12 + 2*y^3*h^14 - y*z^4*h^12 + 3*y*z^2*h^14 - 2*y*h^16\n",
      "y^3*z^3*h^12 - y^3*z*h^14 + y*z^3*h^14 - y*z^2*h^15 - y*z*h^16 + y*h^17\n",
      "y^3*z^2*h^13 - y^3*h^15 + 3*y*z^3*h^14 + y*z^2*h^15 - 3*y*z*h^16 - y*h^17\n",
      "y^3*z*h^17 - y^3*h^18 - 3*y^2*z*h^18 + 3*y^2*h^19 + 3*y*z*h^19 - 3*y*h^20 - z^3*h^18 + 3*z^2*h^19 - z*h^20 - h^21\n",
      "y^2*z^6*h^9 - y^2*h^15 - 3*y*z^4*h^12 + 2*y*z^2*h^14 + y*h^16\n",
      "y^2*z^5*h^10 - 3*y^2*z^3*h^12 + 2*y^2*z*h^14\n",
      "y^2*z^4*h^11 - 3*y^2*z^2*h^13 + 2*y^2*h^15 - y*z^4*h^12 + 3*y*z^2*h^14 - 2*y*h^16\n",
      "y^2*z^3*h^13 - y^2*z*h^15 - 2*y*z^3*h^14 - 2*y*z^2*h^15 + 2*y*z*h^16 + 2*y*h^17\n",
      "y^2*z^2*h^14 - y^2*h^16 - y*z^3*h^14 - 2*y*z^2*h^15 + y*z*h^16 + 2*y*h^17\n",
      "y^2*z*h^19 - y^2*h^20 + 2*y*z*h^20 - 2*y*h^21 - 3*z^3*h^19 - 3*z^2*h^20 + 2*z*h^21 - 3*h^22\n",
      "y*z^6*h^10 - 3*y*z^4*h^12 + 2*y*z^2*h^14\n",
      "y*z^5*h^11 - 3*y*z^3*h^13 + 2*y*z*h^15\n",
      "y*z^4*h^13 - 3*y*z^2*h^15 + 2*y*h^17\n",
      "y*z^3*h^15 - y*z*h^17 - 2*z^3*h^16 - 2*z^2*h^17 + 2*z*h^18 + 2*h^19\n",
      "y*z^2*h^16 - y*h^18 - z^3*h^16 - 2*z^2*h^17 + z*h^18 + 2*h^19\n",
      "z^7 - z*h^6\n",
      "z^6*h^11 - 3*z^4*h^13 + 2*z^2*h^15\n",
      "z^5*h^12 - 3*z^3*h^14 + 2*z*h^16\n",
      "z^4*h^14 - 3*z^2*h^16 + 2*h^18\n"
     ]
    }
   ],
   "source": [
    "for p in ideal(h_list).groebner_basis():\n",
    "    print(p)"
   ]
  },
  {
   "cell_type": "code",
   "execution_count": 665,
   "metadata": {},
   "outputs": [
    {
     "name": "stdout",
     "output_type": "stream",
     "text": [
      "z^4 - 3*z^2*h^2 + 2*h^4\n"
     ]
    },
    {
     "ename": "TypeError",
     "evalue": "polynomial must involve at most one variable",
     "output_type": "error",
     "traceback": [
      "\u001b[0;31m---------------------------------------------------------------------------\u001b[0m",
      "\u001b[0;31mTypeError\u001b[0m                                 Traceback (most recent call last)",
      "\u001b[0;32m/var/folders/zf/986s30f52c3fssnjtqpb80w00000gn/T/ipykernel_5944/2950908308.py\u001b[0m in \u001b[0;36m<module>\u001b[0;34m\u001b[0m\n\u001b[0;32m----> 1\u001b[0;31m \u001b[0msystem_solve\u001b[0m\u001b[0;34m(\u001b[0m\u001b[0mh_list\u001b[0m\u001b[0;34m)\u001b[0m\u001b[0;34m\u001b[0m\u001b[0;34m\u001b[0m\u001b[0m\n\u001b[0m",
      "\u001b[0;32m/var/folders/zf/986s30f52c3fssnjtqpb80w00000gn/T/ipykernel_5944/2312788127.py\u001b[0m in \u001b[0;36msystem_solve\u001b[0;34m(f)\u001b[0m\n\u001b[1;32m     40\u001b[0m                 \u001b[0mp\u001b[0m \u001b[0;34m=\u001b[0m \u001b[0mgcd\u001b[0m\u001b[0;34m(\u001b[0m\u001b[0mspecializations\u001b[0m\u001b[0;34m)\u001b[0m\u001b[0;34m\u001b[0m\u001b[0;34m\u001b[0m\u001b[0m\n\u001b[1;32m     41\u001b[0m                 \u001b[0mprint\u001b[0m\u001b[0;34m(\u001b[0m\u001b[0mp\u001b[0m\u001b[0;34m)\u001b[0m\u001b[0;34m\u001b[0m\u001b[0;34m\u001b[0m\u001b[0m\n\u001b[0;32m---> 42\u001b[0;31m                 \u001b[0mroots\u001b[0m \u001b[0;34m=\u001b[0m \u001b[0mp\u001b[0m\u001b[0;34m.\u001b[0m\u001b[0munivariate_polynomial\u001b[0m\u001b[0;34m(\u001b[0m\u001b[0;34m)\u001b[0m\u001b[0;34m.\u001b[0m\u001b[0mroots\u001b[0m\u001b[0;34m(\u001b[0m\u001b[0;34m)\u001b[0m\u001b[0;34m\u001b[0m\u001b[0;34m\u001b[0m\u001b[0m\n\u001b[0m\u001b[1;32m     43\u001b[0m                 \u001b[0;32mfor\u001b[0m \u001b[0mroot\u001b[0m \u001b[0;32min\u001b[0m \u001b[0mroots\u001b[0m\u001b[0;34m:\u001b[0m\u001b[0;34m\u001b[0m\u001b[0;34m\u001b[0m\u001b[0m\n\u001b[1;32m     44\u001b[0m                     \u001b[0mnew_sol\u001b[0m \u001b[0;34m=\u001b[0m \u001b[0;34m[\u001b[0m\u001b[0mroot\u001b[0m\u001b[0;34m[\u001b[0m\u001b[0mInteger\u001b[0m\u001b[0;34m(\u001b[0m\u001b[0;36m0\u001b[0m\u001b[0;34m)\u001b[0m\u001b[0;34m]\u001b[0m\u001b[0;34m]\u001b[0m \u001b[0;34m+\u001b[0m \u001b[0mpartial\u001b[0m\u001b[0;34m\u001b[0m\u001b[0;34m\u001b[0m\u001b[0m\n",
      "\u001b[0;32m/private/var/tmp/sage-9.6-current/local/var/lib/sage/venv-python3.10.3/lib/python3.10/site-packages/sage/rings/polynomial/multi_polynomial_libsingular.pyx\u001b[0m in \u001b[0;36msage.rings.polynomial.multi_polynomial_libsingular.MPolynomial_libsingular.univariate_polynomial (build/cythonized/sage/rings/polynomial/multi_polynomial_libsingular.cpp:30172)\u001b[0;34m()\u001b[0m\n\u001b[1;32m   3776\u001b[0m \u001b[0;34m\u001b[0m\u001b[0m\n\u001b[1;32m   3777\u001b[0m         \u001b[0;32mif\u001b[0m \u001b[0;32mnot\u001b[0m \u001b[0mself\u001b[0m\u001b[0;34m.\u001b[0m\u001b[0mis_univariate\u001b[0m\u001b[0;34m(\u001b[0m\u001b[0;34m)\u001b[0m\u001b[0;34m:\u001b[0m\u001b[0;34m\u001b[0m\u001b[0;34m\u001b[0m\u001b[0m\n\u001b[0;32m-> 3778\u001b[0;31m             \u001b[0;32mraise\u001b[0m \u001b[0mTypeError\u001b[0m\u001b[0;34m(\u001b[0m\u001b[0;34m\"polynomial must involve at most one variable\"\u001b[0m\u001b[0;34m)\u001b[0m\u001b[0;34m\u001b[0m\u001b[0;34m\u001b[0m\u001b[0m\n\u001b[0m\u001b[1;32m   3779\u001b[0m \u001b[0;34m\u001b[0m\u001b[0m\n\u001b[1;32m   3780\u001b[0m         \u001b[0;31m#construct ring if none\u001b[0m\u001b[0;34m\u001b[0m\u001b[0;34m\u001b[0m\u001b[0m\n",
      "\u001b[0;31mTypeError\u001b[0m: polynomial must involve at most one variable"
     ]
    }
   ],
   "source": [
    "system_solve(h_list)"
   ]
  },
  {
   "cell_type": "code",
   "execution_count": null,
   "metadata": {},
   "outputs": [],
   "source": []
  }
 ],
 "metadata": {
  "kernelspec": {
   "display_name": "SageMath 9.6",
   "language": "sage",
   "name": "sagemath-9.6"
  },
  "language_info": {
   "codemirror_mode": {
    "name": "ipython",
    "version": 3
   },
   "file_extension": ".py",
   "mimetype": "text/x-python",
   "name": "python",
   "nbconvert_exporter": "python",
   "pygments_lexer": "ipython3",
   "version": "3.10.3"
  }
 },
 "nbformat": 4,
 "nbformat_minor": 4
}
