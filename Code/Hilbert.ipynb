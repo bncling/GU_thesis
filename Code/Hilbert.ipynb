{
 "cells": [
  {
   "cell_type": "code",
   "execution_count": 126,
   "id": "d76f1ca5",
   "metadata": {},
   "outputs": [],
   "source": [
    "from sage.rings.polynomial.hilbert import hilbert_poincare_series"
   ]
  },
  {
   "cell_type": "code",
   "execution_count": 145,
   "id": "74d077bd",
   "metadata": {},
   "outputs": [
    {
     "data": {
      "text/plain": [
       "(t^4 + t^3 + t^2 + t + 1)/(-t + 1)"
      ]
     },
     "execution_count": 145,
     "metadata": {},
     "output_type": "execute_result"
    }
   ],
   "source": [
    "R.<x,y> = PolynomialRing(QQ, order = 'degrevlex')\n",
    "I = Ideal(x^3*y^2 + 3*x^2*y^2 + y^3 + 1)\n",
    "hilbert_poincare_series(I)"
   ]
  },
  {
   "cell_type": "code",
   "execution_count": 143,
   "id": "d35c7f40",
   "metadata": {},
   "outputs": [
    {
     "data": {
      "text/plain": [
       "5*t - 5"
      ]
     },
     "execution_count": 143,
     "metadata": {},
     "output_type": "execute_result"
    }
   ],
   "source": [
    "I.hilbert_polynomial()"
   ]
  },
  {
   "cell_type": "code",
   "execution_count": 146,
   "id": "ec4b611b",
   "metadata": {},
   "outputs": [
    {
     "data": {
      "text/plain": [
       "1"
      ]
     },
     "execution_count": 146,
     "metadata": {},
     "output_type": "execute_result"
    }
   ],
   "source": [
    "I.dimension()"
   ]
  },
  {
   "cell_type": "code",
   "execution_count": 28,
   "id": "31485235",
   "metadata": {},
   "outputs": [
    {
     "data": {
      "text/plain": [
       "5"
      ]
     },
     "execution_count": 28,
     "metadata": {},
     "output_type": "execute_result"
    }
   ],
   "source": [
    "hilbert_poincare_series(I).numerator().degree()"
   ]
  },
  {
   "cell_type": "code",
   "execution_count": 29,
   "id": "9e33073b",
   "metadata": {},
   "outputs": [
    {
     "data": {
      "text/plain": [
       "2"
      ]
     },
     "execution_count": 29,
     "metadata": {},
     "output_type": "execute_result"
    }
   ],
   "source": [
    "hilbert_poincare_series(I).denominator().degree()"
   ]
  },
  {
   "cell_type": "code",
   "execution_count": 40,
   "id": "aa39a025",
   "metadata": {},
   "outputs": [
    {
     "data": {
      "text/plain": [
       "(t^11 - t^9 - t^8 - 4*t^6 + t^5 + 2*t^4 + 3*t^3 + 3*t^2 + 2*t + 1)/(t^2 - 2*t + 1)"
      ]
     },
     "execution_count": 40,
     "metadata": {},
     "output_type": "execute_result"
    }
   ],
   "source": [
    "S.<x,y,z,t> = PolynomialRing(QQ, order = 'degrevlex')\n",
    "I = Ideal(x^4, x^3*y^3, x^3*y^2*z, x^3*y*z^2, y^2*t, y*t^5)\n",
    "hilbert_poincare_series(I)"
   ]
  },
  {
   "cell_type": "code",
   "execution_count": 91,
   "id": "5bdd19c1",
   "metadata": {},
   "outputs": [],
   "source": [
    "# computes degree of regularity for a homogeneous ideal\n",
    "def hdegree_reg(I):\n",
    "    G = I.groebner_basis()\n",
    "    LT = Ideal([g.lt() for g in G])\n",
    "    HS = hilbert_poincare_series(LT)\n",
    "    delta = HS.numerator().degree()\n",
    "    l = HS.denominator().degree()\n",
    "    return(delta - l + 1)\n",
    "\n",
    "\n",
    "# computes F^top\n",
    "def f_top(I, R):\n",
    "    f_list = I.gens()\n",
    "    new_ring.<h> = PolynomialRing(R, order = 'degrevlex')\n",
    "    homogenized = [new_ring(poly.homogenize()) for poly in f_list]\n",
    "    final = [R(poly.subs(h=0)) for poly in homogenized] \n",
    "    return(final)\n",
    "\n",
    "\n",
    "# computes degree of regularity in the nonhomogeneous case\n",
    "def degree_reg(I, R):\n",
    "    J = ideal(f_top(I,R))\n",
    "    return hdegree_reg(J)"
   ]
  },
  {
   "cell_type": "code",
   "execution_count": 92,
   "id": "713986d3",
   "metadata": {},
   "outputs": [
    {
     "data": {
      "text/plain": [
       "10"
      ]
     },
     "execution_count": 92,
     "metadata": {},
     "output_type": "execute_result"
    }
   ],
   "source": [
    "degree_reg(I,S)"
   ]
  },
  {
   "cell_type": "code",
   "execution_count": 94,
   "id": "21f59041",
   "metadata": {},
   "outputs": [
    {
     "data": {
      "text/plain": [
       "-2"
      ]
     },
     "execution_count": 94,
     "metadata": {},
     "output_type": "execute_result"
    }
   ],
   "source": [
    "degree_reg(ideal(x^2 + y, x), S)"
   ]
  },
  {
   "cell_type": "code",
   "execution_count": 108,
   "id": "390edc8b",
   "metadata": {},
   "outputs": [
    {
     "data": {
      "text/plain": [
       "t^8 + 4*t^7 + 10*t^6 + 16*t^5 + 19*t^4 + 16*t^3 + 10*t^2 + 4*t + 1"
      ]
     },
     "execution_count": 108,
     "metadata": {},
     "output_type": "execute_result"
    }
   ],
   "source": [
    "hilbert_poincare_series(ideal(x^3,y^3,z^3,t^3))"
   ]
  },
  {
   "cell_type": "code",
   "execution_count": 110,
   "id": "1e9b1431",
   "metadata": {},
   "outputs": [
    {
     "data": {
      "text/plain": [
       "19"
      ]
     },
     "execution_count": 110,
     "metadata": {},
     "output_type": "execute_result"
    }
   ],
   "source": [
    "degree_reg(ideal(x^7, y^7, z^7), R)"
   ]
  },
  {
   "cell_type": "code",
   "execution_count": 125,
   "id": "33f07840",
   "metadata": {},
   "outputs": [
    {
     "data": {
      "text/plain": [
       "11"
      ]
     },
     "execution_count": 125,
     "metadata": {},
     "output_type": "execute_result"
    }
   ],
   "source": [
    "S.<x,y,z,u,v,w> = PolynomialRing(QQ, order = 'degrevlex')\n",
    "I = Ideal(u^2*v*w + u^2, u*v^2*w + v^2 + 1, u*v*w^2 + w^2, x^2*y*z + x^2, x*y^2*z + y^2 + 1, x*y*z^2 + z^2)\n",
    "len(I.homogenize()._singular_().mres(0).betti()) / 7"
   ]
  },
  {
   "cell_type": "code",
   "execution_count": 114,
   "id": "a04be677",
   "metadata": {},
   "outputs": [
    {
     "data": {
      "text/plain": [
       "7"
      ]
     },
     "execution_count": 114,
     "metadata": {},
     "output_type": "execute_result"
    }
   ],
   "source": [
    "degree_reg(I,S)"
   ]
  },
  {
   "cell_type": "code",
   "execution_count": 117,
   "id": "f18b67c6",
   "metadata": {},
   "outputs": [
    {
     "data": {
      "text/plain": [
       "9"
      ]
     },
     "execution_count": 117,
     "metadata": {},
     "output_type": "execute_result"
    }
   ],
   "source": [
    "S.<x,y,z,u,v,w> = PolynomialRing(QQ, order = 'degrevlex')\n",
    "I = Ideal(u^2*v*w + u^2, u*v^2*w + v^2 + 1, u*v*w^2 + w^2, x^2*y*z + x^2, x*y^2*z + y^2 + 1, u^4 + z^4)\n",
    "degree_reg(I,S)"
   ]
  },
  {
   "cell_type": "code",
   "execution_count": 121,
   "id": "2b21beb5",
   "metadata": {},
   "outputs": [
    {
     "name": "stderr",
     "output_type": "stream",
     "text": [
      "IOStream.flush timed out\n",
      "IOStream.flush timed out\n"
     ]
    },
    {
     "name": "stdout",
     "output_type": "stream",
     "text": [
      "Interrupting Singular...\n"
     ]
    },
    {
     "ename": "KeyboardInterrupt",
     "evalue": "Restarting Singular (WARNING: all variables defined in previous session are now invalid)",
     "output_type": "error",
     "traceback": [
      "\u001b[0;31m---------------------------------------------------------------------------\u001b[0m",
      "\u001b[0;31mKeyboardInterrupt\u001b[0m                         Traceback (most recent call last)",
      "\u001b[0;32m/private/var/tmp/sage-9.6-current/local/var/lib/sage/venv-python3.10.3/lib/python3.10/site-packages/sage/interfaces/expect.py\u001b[0m in \u001b[0;36m_eval_line\u001b[0;34m(self, line, allow_use_file, wait_for_prompt, restart_if_needed)\u001b[0m\n\u001b[1;32m    988\u001b[0m                     \u001b[0;32melse\u001b[0m\u001b[0;34m:\u001b[0m\u001b[0;34m\u001b[0m\u001b[0;34m\u001b[0m\u001b[0m\n\u001b[0;32m--> 989\u001b[0;31m                         \u001b[0mE\u001b[0m\u001b[0;34m.\u001b[0m\u001b[0mexpect\u001b[0m\u001b[0;34m(\u001b[0m\u001b[0mself\u001b[0m\u001b[0;34m.\u001b[0m\u001b[0m_prompt\u001b[0m\u001b[0;34m)\u001b[0m\u001b[0;34m\u001b[0m\u001b[0;34m\u001b[0m\u001b[0m\n\u001b[0m\u001b[1;32m    990\u001b[0m                 \u001b[0;32mexcept\u001b[0m \u001b[0mpexpect\u001b[0m\u001b[0;34m.\u001b[0m\u001b[0mEOF\u001b[0m \u001b[0;32mas\u001b[0m \u001b[0mmsg\u001b[0m\u001b[0;34m:\u001b[0m\u001b[0;34m\u001b[0m\u001b[0;34m\u001b[0m\u001b[0m\n",
      "\u001b[0;32m/private/var/tmp/sage-9.6-current/local/var/lib/sage/venv-python3.10.3/lib/python3.10/site-packages/pexpect/spawnbase.py\u001b[0m in \u001b[0;36mexpect\u001b[0;34m(self, pattern, timeout, searchwindowsize, async_, **kw)\u001b[0m\n\u001b[1;32m    342\u001b[0m         \u001b[0mcompiled_pattern_list\u001b[0m \u001b[0;34m=\u001b[0m \u001b[0mself\u001b[0m\u001b[0;34m.\u001b[0m\u001b[0mcompile_pattern_list\u001b[0m\u001b[0;34m(\u001b[0m\u001b[0mpattern\u001b[0m\u001b[0;34m)\u001b[0m\u001b[0;34m\u001b[0m\u001b[0;34m\u001b[0m\u001b[0m\n\u001b[0;32m--> 343\u001b[0;31m         return self.expect_list(compiled_pattern_list,\n\u001b[0m\u001b[1;32m    344\u001b[0m                 timeout, searchwindowsize, async_)\n",
      "\u001b[0;32m/private/var/tmp/sage-9.6-current/local/var/lib/sage/venv-python3.10.3/lib/python3.10/site-packages/pexpect/spawnbase.py\u001b[0m in \u001b[0;36mexpect_list\u001b[0;34m(self, pattern_list, timeout, searchwindowsize, async_, **kw)\u001b[0m\n\u001b[1;32m    371\u001b[0m         \u001b[0;32melse\u001b[0m\u001b[0;34m:\u001b[0m\u001b[0;34m\u001b[0m\u001b[0;34m\u001b[0m\u001b[0m\n\u001b[0;32m--> 372\u001b[0;31m             \u001b[0;32mreturn\u001b[0m \u001b[0mexp\u001b[0m\u001b[0;34m.\u001b[0m\u001b[0mexpect_loop\u001b[0m\u001b[0;34m(\u001b[0m\u001b[0mtimeout\u001b[0m\u001b[0;34m)\u001b[0m\u001b[0;34m\u001b[0m\u001b[0;34m\u001b[0m\u001b[0m\n\u001b[0m\u001b[1;32m    373\u001b[0m \u001b[0;34m\u001b[0m\u001b[0m\n",
      "\u001b[0;32m/private/var/tmp/sage-9.6-current/local/var/lib/sage/venv-python3.10.3/lib/python3.10/site-packages/pexpect/expect.py\u001b[0m in \u001b[0;36mexpect_loop\u001b[0;34m(self, timeout)\u001b[0m\n\u001b[1;32m    168\u001b[0m                 \u001b[0;31m# Still have time left, so read more data\u001b[0m\u001b[0;34m\u001b[0m\u001b[0;34m\u001b[0m\u001b[0m\n\u001b[0;32m--> 169\u001b[0;31m                 \u001b[0mincoming\u001b[0m \u001b[0;34m=\u001b[0m \u001b[0mspawn\u001b[0m\u001b[0;34m.\u001b[0m\u001b[0mread_nonblocking\u001b[0m\u001b[0;34m(\u001b[0m\u001b[0mspawn\u001b[0m\u001b[0;34m.\u001b[0m\u001b[0mmaxread\u001b[0m\u001b[0;34m,\u001b[0m \u001b[0mtimeout\u001b[0m\u001b[0;34m)\u001b[0m\u001b[0;34m\u001b[0m\u001b[0;34m\u001b[0m\u001b[0m\n\u001b[0m\u001b[1;32m    170\u001b[0m                 \u001b[0;32mif\u001b[0m \u001b[0mself\u001b[0m\u001b[0;34m.\u001b[0m\u001b[0mspawn\u001b[0m\u001b[0;34m.\u001b[0m\u001b[0mdelayafterread\u001b[0m \u001b[0;32mis\u001b[0m \u001b[0;32mnot\u001b[0m \u001b[0;32mNone\u001b[0m\u001b[0;34m:\u001b[0m\u001b[0;34m\u001b[0m\u001b[0;34m\u001b[0m\u001b[0m\n",
      "\u001b[0;32m/private/var/tmp/sage-9.6-current/local/var/lib/sage/venv-python3.10.3/lib/python3.10/site-packages/pexpect/pty_spawn.py\u001b[0m in \u001b[0;36mread_nonblocking\u001b[0;34m(self, size, timeout)\u001b[0m\n\u001b[1;32m    499\u001b[0m         \u001b[0;31m# (possibly timeout=None), we call select() with a timeout.\u001b[0m\u001b[0;34m\u001b[0m\u001b[0;34m\u001b[0m\u001b[0m\n\u001b[0;32m--> 500\u001b[0;31m         \u001b[0;32mif\u001b[0m \u001b[0;34m(\u001b[0m\u001b[0mtimeout\u001b[0m \u001b[0;34m!=\u001b[0m \u001b[0;36m0\u001b[0m\u001b[0;34m)\u001b[0m \u001b[0;32mand\u001b[0m \u001b[0mselect\u001b[0m\u001b[0;34m(\u001b[0m\u001b[0mtimeout\u001b[0m\u001b[0;34m)\u001b[0m\u001b[0;34m:\u001b[0m\u001b[0;34m\u001b[0m\u001b[0;34m\u001b[0m\u001b[0m\n\u001b[0m\u001b[1;32m    501\u001b[0m             \u001b[0;32mreturn\u001b[0m \u001b[0msuper\u001b[0m\u001b[0;34m(\u001b[0m\u001b[0mspawn\u001b[0m\u001b[0;34m,\u001b[0m \u001b[0mself\u001b[0m\u001b[0;34m)\u001b[0m\u001b[0;34m.\u001b[0m\u001b[0mread_nonblocking\u001b[0m\u001b[0;34m(\u001b[0m\u001b[0msize\u001b[0m\u001b[0;34m)\u001b[0m\u001b[0;34m\u001b[0m\u001b[0;34m\u001b[0m\u001b[0m\n",
      "\u001b[0;32m/private/var/tmp/sage-9.6-current/local/var/lib/sage/venv-python3.10.3/lib/python3.10/site-packages/pexpect/pty_spawn.py\u001b[0m in \u001b[0;36mselect\u001b[0;34m(timeout)\u001b[0m\n\u001b[1;32m    449\u001b[0m             \u001b[0;32mdef\u001b[0m \u001b[0mselect\u001b[0m\u001b[0;34m(\u001b[0m\u001b[0mtimeout\u001b[0m\u001b[0;34m)\u001b[0m\u001b[0;34m:\u001b[0m\u001b[0;34m\u001b[0m\u001b[0;34m\u001b[0m\u001b[0m\n\u001b[0;32m--> 450\u001b[0;31m                 \u001b[0;32mreturn\u001b[0m \u001b[0mselect_ignore_interrupts\u001b[0m\u001b[0;34m(\u001b[0m\u001b[0;34m[\u001b[0m\u001b[0mself\u001b[0m\u001b[0;34m.\u001b[0m\u001b[0mchild_fd\u001b[0m\u001b[0;34m]\u001b[0m\u001b[0;34m,\u001b[0m \u001b[0;34m[\u001b[0m\u001b[0;34m]\u001b[0m\u001b[0;34m,\u001b[0m \u001b[0;34m[\u001b[0m\u001b[0;34m]\u001b[0m\u001b[0;34m,\u001b[0m \u001b[0mtimeout\u001b[0m\u001b[0;34m)\u001b[0m\u001b[0;34m[\u001b[0m\u001b[0;36m0\u001b[0m\u001b[0;34m]\u001b[0m\u001b[0;34m\u001b[0m\u001b[0;34m\u001b[0m\u001b[0m\n\u001b[0m\u001b[1;32m    451\u001b[0m \u001b[0;34m\u001b[0m\u001b[0m\n",
      "\u001b[0;32m/private/var/tmp/sage-9.6-current/local/var/lib/sage/venv-python3.10.3/lib/python3.10/site-packages/pexpect/utils.py\u001b[0m in \u001b[0;36mselect_ignore_interrupts\u001b[0;34m(iwtd, owtd, ewtd, timeout)\u001b[0m\n\u001b[1;32m    142\u001b[0m         \u001b[0;32mtry\u001b[0m\u001b[0;34m:\u001b[0m\u001b[0;34m\u001b[0m\u001b[0;34m\u001b[0m\u001b[0m\n\u001b[0;32m--> 143\u001b[0;31m             \u001b[0;32mreturn\u001b[0m \u001b[0mselect\u001b[0m\u001b[0;34m.\u001b[0m\u001b[0mselect\u001b[0m\u001b[0;34m(\u001b[0m\u001b[0miwtd\u001b[0m\u001b[0;34m,\u001b[0m \u001b[0mowtd\u001b[0m\u001b[0;34m,\u001b[0m \u001b[0mewtd\u001b[0m\u001b[0;34m,\u001b[0m \u001b[0mtimeout\u001b[0m\u001b[0;34m)\u001b[0m\u001b[0;34m\u001b[0m\u001b[0;34m\u001b[0m\u001b[0m\n\u001b[0m\u001b[1;32m    144\u001b[0m         \u001b[0;32mexcept\u001b[0m \u001b[0mInterruptedError\u001b[0m\u001b[0;34m:\u001b[0m\u001b[0;34m\u001b[0m\u001b[0;34m\u001b[0m\u001b[0m\n",
      "\u001b[0;32msrc/cysignals/signals.pyx\u001b[0m in \u001b[0;36mcysignals.signals.python_check_interrupt\u001b[0;34m()\u001b[0m\n",
      "\u001b[0;31mKeyboardInterrupt\u001b[0m: ",
      "\nDuring handling of the above exception, another exception occurred:\n",
      "\u001b[0;31mKeyboardInterrupt\u001b[0m                         Traceback (most recent call last)",
      "\u001b[0;32m/var/folders/zf/986s30f52c3fssnjtqpb80w00000gn/T/ipykernel_56606/932434339.py\u001b[0m in \u001b[0;36m<module>\u001b[0;34m\u001b[0m\n\u001b[0;32m----> 1\u001b[0;31m \u001b[0mI\u001b[0m\u001b[0;34m.\u001b[0m\u001b[0mhomogenize\u001b[0m\u001b[0;34m(\u001b[0m\u001b[0;34m)\u001b[0m\u001b[0;34m.\u001b[0m\u001b[0m_singular_\u001b[0m\u001b[0;34m(\u001b[0m\u001b[0;34m)\u001b[0m\u001b[0;34m.\u001b[0m\u001b[0mmres\u001b[0m\u001b[0;34m(\u001b[0m\u001b[0mInteger\u001b[0m\u001b[0;34m(\u001b[0m\u001b[0;36m0\u001b[0m\u001b[0;34m)\u001b[0m\u001b[0;34m)\u001b[0m\u001b[0;34m.\u001b[0m\u001b[0mbetti\u001b[0m\u001b[0;34m(\u001b[0m\u001b[0;34m)\u001b[0m\u001b[0;34m\u001b[0m\u001b[0;34m\u001b[0m\u001b[0m\n\u001b[0m",
      "\u001b[0;32m/private/var/tmp/sage-9.6-current/local/var/lib/sage/venv-python3.10.3/lib/python3.10/site-packages/sage/interfaces/interface.py\u001b[0m in \u001b[0;36m__call__\u001b[0;34m(self, *args, **kwds)\u001b[0m\n\u001b[1;32m    691\u001b[0m \u001b[0;34m\u001b[0m\u001b[0m\n\u001b[1;32m    692\u001b[0m     \u001b[0;32mdef\u001b[0m \u001b[0m__call__\u001b[0m\u001b[0;34m(\u001b[0m\u001b[0mself\u001b[0m\u001b[0;34m,\u001b[0m \u001b[0;34m*\u001b[0m\u001b[0margs\u001b[0m\u001b[0;34m,\u001b[0m \u001b[0;34m**\u001b[0m\u001b[0mkwds\u001b[0m\u001b[0;34m)\u001b[0m\u001b[0;34m:\u001b[0m\u001b[0;34m\u001b[0m\u001b[0;34m\u001b[0m\u001b[0m\n\u001b[0;32m--> 693\u001b[0;31m         \u001b[0;32mreturn\u001b[0m \u001b[0mself\u001b[0m\u001b[0;34m.\u001b[0m\u001b[0m_obj\u001b[0m\u001b[0;34m.\u001b[0m\u001b[0mparent\u001b[0m\u001b[0;34m(\u001b[0m\u001b[0;34m)\u001b[0m\u001b[0;34m.\u001b[0m\u001b[0mfunction_call\u001b[0m\u001b[0;34m(\u001b[0m\u001b[0mself\u001b[0m\u001b[0;34m.\u001b[0m\u001b[0m_name\u001b[0m\u001b[0;34m,\u001b[0m \u001b[0;34m[\u001b[0m\u001b[0mself\u001b[0m\u001b[0;34m.\u001b[0m\u001b[0m_obj\u001b[0m\u001b[0;34m]\u001b[0m \u001b[0;34m+\u001b[0m \u001b[0mlist\u001b[0m\u001b[0;34m(\u001b[0m\u001b[0margs\u001b[0m\u001b[0;34m)\u001b[0m\u001b[0;34m,\u001b[0m \u001b[0mkwds\u001b[0m\u001b[0;34m)\u001b[0m\u001b[0;34m\u001b[0m\u001b[0;34m\u001b[0m\u001b[0m\n\u001b[0m\u001b[1;32m    694\u001b[0m \u001b[0;34m\u001b[0m\u001b[0m\n\u001b[1;32m    695\u001b[0m     \u001b[0;32mdef\u001b[0m \u001b[0mhelp\u001b[0m\u001b[0;34m(\u001b[0m\u001b[0mself\u001b[0m\u001b[0;34m)\u001b[0m\u001b[0;34m:\u001b[0m\u001b[0;34m\u001b[0m\u001b[0;34m\u001b[0m\u001b[0m\n",
      "\u001b[0;32m/private/var/tmp/sage-9.6-current/local/var/lib/sage/venv-python3.10.3/lib/python3.10/site-packages/sage/interfaces/interface.py\u001b[0m in \u001b[0;36mfunction_call\u001b[0;34m(self, function, args, kwds)\u001b[0m\n\u001b[1;32m    611\u001b[0m                                        \u001b[0;34m[\u001b[0m\u001b[0ms\u001b[0m\u001b[0;34m.\u001b[0m\u001b[0mname\u001b[0m\u001b[0;34m(\u001b[0m\u001b[0;34m)\u001b[0m \u001b[0;32mfor\u001b[0m \u001b[0ms\u001b[0m \u001b[0;32min\u001b[0m \u001b[0margs\u001b[0m\u001b[0;34m]\u001b[0m\u001b[0;34m,\u001b[0m\u001b[0;34m\u001b[0m\u001b[0;34m\u001b[0m\u001b[0m\n\u001b[1;32m    612\u001b[0m                                        ['%s=%s'%(key,value.name()) for key, value in kwds.items()])\n\u001b[0;32m--> 613\u001b[0;31m         \u001b[0;32mreturn\u001b[0m \u001b[0mself\u001b[0m\u001b[0;34m.\u001b[0m\u001b[0mnew\u001b[0m\u001b[0;34m(\u001b[0m\u001b[0ms\u001b[0m\u001b[0;34m)\u001b[0m\u001b[0;34m\u001b[0m\u001b[0;34m\u001b[0m\u001b[0m\n\u001b[0m\u001b[1;32m    614\u001b[0m \u001b[0;34m\u001b[0m\u001b[0m\n\u001b[1;32m    615\u001b[0m     \u001b[0;32mdef\u001b[0m \u001b[0m_function_call_string\u001b[0m\u001b[0;34m(\u001b[0m\u001b[0mself\u001b[0m\u001b[0;34m,\u001b[0m \u001b[0mfunction\u001b[0m\u001b[0;34m,\u001b[0m \u001b[0margs\u001b[0m\u001b[0;34m,\u001b[0m \u001b[0mkwds\u001b[0m\u001b[0;34m)\u001b[0m\u001b[0;34m:\u001b[0m\u001b[0;34m\u001b[0m\u001b[0;34m\u001b[0m\u001b[0m\n",
      "\u001b[0;32m/private/var/tmp/sage-9.6-current/local/var/lib/sage/venv-python3.10.3/lib/python3.10/site-packages/sage/interfaces/interface.py\u001b[0m in \u001b[0;36mnew\u001b[0;34m(self, code)\u001b[0m\n\u001b[1;32m    380\u001b[0m \u001b[0;34m\u001b[0m\u001b[0m\n\u001b[1;32m    381\u001b[0m     \u001b[0;32mdef\u001b[0m \u001b[0mnew\u001b[0m\u001b[0;34m(\u001b[0m\u001b[0mself\u001b[0m\u001b[0;34m,\u001b[0m \u001b[0mcode\u001b[0m\u001b[0;34m)\u001b[0m\u001b[0;34m:\u001b[0m\u001b[0;34m\u001b[0m\u001b[0;34m\u001b[0m\u001b[0m\n\u001b[0;32m--> 382\u001b[0;31m         \u001b[0;32mreturn\u001b[0m \u001b[0mself\u001b[0m\u001b[0;34m(\u001b[0m\u001b[0mcode\u001b[0m\u001b[0;34m)\u001b[0m\u001b[0;34m\u001b[0m\u001b[0;34m\u001b[0m\u001b[0m\n\u001b[0m\u001b[1;32m    383\u001b[0m \u001b[0;34m\u001b[0m\u001b[0m\n\u001b[1;32m    384\u001b[0m     \u001b[0;31m###################################################################\u001b[0m\u001b[0;34m\u001b[0m\u001b[0;34m\u001b[0m\u001b[0m\n",
      "\u001b[0;32m/private/var/tmp/sage-9.6-current/local/var/lib/sage/venv-python3.10.3/lib/python3.10/site-packages/sage/interfaces/singular.py\u001b[0m in \u001b[0;36m__call__\u001b[0;34m(self, x, type)\u001b[0m\n\u001b[1;32m    773\u001b[0m             \u001b[0mx\u001b[0m \u001b[0;34m=\u001b[0m \u001b[0mstr\u001b[0m\u001b[0;34m(\u001b[0m\u001b[0mx\u001b[0m\u001b[0;34m)\u001b[0m\u001b[0;34m[\u001b[0m\u001b[0;36m1\u001b[0m\u001b[0;34m:\u001b[0m\u001b[0;34m-\u001b[0m\u001b[0;36m1\u001b[0m\u001b[0;34m]\u001b[0m\u001b[0;34m\u001b[0m\u001b[0;34m\u001b[0m\u001b[0m\n\u001b[1;32m    774\u001b[0m \u001b[0;34m\u001b[0m\u001b[0m\n\u001b[0;32m--> 775\u001b[0;31m         \u001b[0;32mreturn\u001b[0m \u001b[0mSingularElement\u001b[0m\u001b[0;34m(\u001b[0m\u001b[0mself\u001b[0m\u001b[0;34m,\u001b[0m \u001b[0mtype\u001b[0m\u001b[0;34m,\u001b[0m \u001b[0mx\u001b[0m\u001b[0;34m,\u001b[0m \u001b[0;32mFalse\u001b[0m\u001b[0;34m)\u001b[0m\u001b[0;34m\u001b[0m\u001b[0;34m\u001b[0m\u001b[0m\n\u001b[0m\u001b[1;32m    776\u001b[0m \u001b[0;34m\u001b[0m\u001b[0m\n\u001b[1;32m    777\u001b[0m     \u001b[0;32mdef\u001b[0m \u001b[0m_coerce_map_from_\u001b[0m\u001b[0;34m(\u001b[0m\u001b[0mself\u001b[0m\u001b[0;34m,\u001b[0m \u001b[0mS\u001b[0m\u001b[0;34m)\u001b[0m\u001b[0;34m:\u001b[0m\u001b[0;34m\u001b[0m\u001b[0;34m\u001b[0m\u001b[0m\n",
      "\u001b[0;32m/private/var/tmp/sage-9.6-current/local/var/lib/sage/venv-python3.10.3/lib/python3.10/site-packages/sage/interfaces/singular.py\u001b[0m in \u001b[0;36m__init__\u001b[0;34m(self, parent, type, value, is_name)\u001b[0m\n\u001b[1;32m   1326\u001b[0m         \u001b[0;32mif\u001b[0m \u001b[0;32mnot\u001b[0m \u001b[0mis_name\u001b[0m\u001b[0;34m:\u001b[0m\u001b[0;34m\u001b[0m\u001b[0;34m\u001b[0m\u001b[0m\n\u001b[1;32m   1327\u001b[0m             \u001b[0;32mtry\u001b[0m\u001b[0;34m:\u001b[0m\u001b[0;34m\u001b[0m\u001b[0;34m\u001b[0m\u001b[0m\n\u001b[0;32m-> 1328\u001b[0;31m                 \u001b[0mself\u001b[0m\u001b[0;34m.\u001b[0m\u001b[0m_name\u001b[0m \u001b[0;34m=\u001b[0m \u001b[0mparent\u001b[0m\u001b[0;34m.\u001b[0m\u001b[0m_create\u001b[0m\u001b[0;34m(\u001b[0m\u001b[0mvalue\u001b[0m\u001b[0;34m,\u001b[0m \u001b[0mtype\u001b[0m\u001b[0;34m)\u001b[0m\u001b[0;34m\u001b[0m\u001b[0;34m\u001b[0m\u001b[0m\n\u001b[0m\u001b[1;32m   1329\u001b[0m             \u001b[0;31m# Convert SingularError to TypeError for\u001b[0m\u001b[0;34m\u001b[0m\u001b[0;34m\u001b[0m\u001b[0m\n\u001b[1;32m   1330\u001b[0m             \u001b[0;31m# coercion to work properly.\u001b[0m\u001b[0;34m\u001b[0m\u001b[0;34m\u001b[0m\u001b[0m\n",
      "\u001b[0;32m/private/var/tmp/sage-9.6-current/local/var/lib/sage/venv-python3.10.3/lib/python3.10/site-packages/sage/interfaces/singular.py\u001b[0m in \u001b[0;36m_create\u001b[0;34m(self, value, type)\u001b[0m\n\u001b[1;32m    734\u001b[0m         \"\"\"\n\u001b[1;32m    735\u001b[0m         \u001b[0mname\u001b[0m \u001b[0;34m=\u001b[0m \u001b[0mself\u001b[0m\u001b[0;34m.\u001b[0m\u001b[0m_next_var_name\u001b[0m\u001b[0;34m(\u001b[0m\u001b[0;34m)\u001b[0m\u001b[0;34m\u001b[0m\u001b[0;34m\u001b[0m\u001b[0m\n\u001b[0;32m--> 736\u001b[0;31m         \u001b[0mself\u001b[0m\u001b[0;34m.\u001b[0m\u001b[0mset\u001b[0m\u001b[0;34m(\u001b[0m\u001b[0mtype\u001b[0m\u001b[0;34m,\u001b[0m \u001b[0mname\u001b[0m\u001b[0;34m,\u001b[0m \u001b[0mvalue\u001b[0m\u001b[0;34m)\u001b[0m\u001b[0;34m\u001b[0m\u001b[0;34m\u001b[0m\u001b[0m\n\u001b[0m\u001b[1;32m    737\u001b[0m         \u001b[0;32mreturn\u001b[0m \u001b[0mname\u001b[0m\u001b[0;34m\u001b[0m\u001b[0;34m\u001b[0m\u001b[0m\n\u001b[1;32m    738\u001b[0m \u001b[0;34m\u001b[0m\u001b[0m\n",
      "\u001b[0;32m/private/var/tmp/sage-9.6-current/local/var/lib/sage/venv-python3.10.3/lib/python3.10/site-packages/sage/interfaces/singular.py\u001b[0m in \u001b[0;36mset\u001b[0;34m(self, type, name, value)\u001b[0m\n\u001b[1;32m    677\u001b[0m         \u001b[0mcmd\u001b[0m \u001b[0;34m+=\u001b[0m \u001b[0;34m'%s %s=%s;'\u001b[0m\u001b[0;34m%\u001b[0m\u001b[0;34m(\u001b[0m\u001b[0mtype\u001b[0m\u001b[0;34m,\u001b[0m \u001b[0mname\u001b[0m\u001b[0;34m,\u001b[0m \u001b[0mvalue\u001b[0m\u001b[0;34m)\u001b[0m\u001b[0;34m\u001b[0m\u001b[0;34m\u001b[0m\u001b[0m\n\u001b[1;32m    678\u001b[0m         \u001b[0mself\u001b[0m\u001b[0;34m.\u001b[0m\u001b[0m__to_clear\u001b[0m \u001b[0;34m=\u001b[0m \u001b[0;34m[\u001b[0m\u001b[0;34m]\u001b[0m\u001b[0;34m\u001b[0m\u001b[0;34m\u001b[0m\u001b[0m\n\u001b[0;32m--> 679\u001b[0;31m         \u001b[0mself\u001b[0m\u001b[0;34m.\u001b[0m\u001b[0meval\u001b[0m\u001b[0;34m(\u001b[0m\u001b[0mcmd\u001b[0m\u001b[0;34m)\u001b[0m\u001b[0;34m\u001b[0m\u001b[0;34m\u001b[0m\u001b[0m\n\u001b[0m\u001b[1;32m    680\u001b[0m \u001b[0;34m\u001b[0m\u001b[0m\n\u001b[1;32m    681\u001b[0m     \u001b[0;32mdef\u001b[0m \u001b[0mget\u001b[0m\u001b[0;34m(\u001b[0m\u001b[0mself\u001b[0m\u001b[0;34m,\u001b[0m \u001b[0mvar\u001b[0m\u001b[0;34m)\u001b[0m\u001b[0;34m:\u001b[0m\u001b[0;34m\u001b[0m\u001b[0;34m\u001b[0m\u001b[0m\n",
      "\u001b[0;32m/private/var/tmp/sage-9.6-current/local/var/lib/sage/venv-python3.10.3/lib/python3.10/site-packages/sage/interfaces/singular.py\u001b[0m in \u001b[0;36meval\u001b[0;34m(self, x, allow_semicolon, strip, **kwds)\u001b[0m\n\u001b[1;32m    630\u001b[0m             \u001b[0mx\u001b[0m \u001b[0;34m+=\u001b[0m \u001b[0;34m';'\u001b[0m\u001b[0;34m\u001b[0m\u001b[0;34m\u001b[0m\u001b[0m\n\u001b[1;32m    631\u001b[0m \u001b[0;34m\u001b[0m\u001b[0m\n\u001b[0;32m--> 632\u001b[0;31m         \u001b[0ms\u001b[0m \u001b[0;34m=\u001b[0m \u001b[0mExpect\u001b[0m\u001b[0;34m.\u001b[0m\u001b[0meval\u001b[0m\u001b[0;34m(\u001b[0m\u001b[0mself\u001b[0m\u001b[0;34m,\u001b[0m \u001b[0mx\u001b[0m\u001b[0;34m,\u001b[0m \u001b[0;34m**\u001b[0m\u001b[0mkwds\u001b[0m\u001b[0;34m)\u001b[0m\u001b[0;34m\u001b[0m\u001b[0;34m\u001b[0m\u001b[0m\n\u001b[0m\u001b[1;32m    633\u001b[0m \u001b[0;34m\u001b[0m\u001b[0m\n\u001b[1;32m    634\u001b[0m         \u001b[0;31m# \"Segment fault\" is not a typo:\u001b[0m\u001b[0;34m\u001b[0m\u001b[0;34m\u001b[0m\u001b[0m\n",
      "\u001b[0;32m/private/var/tmp/sage-9.6-current/local/var/lib/sage/venv-python3.10.3/lib/python3.10/site-packages/sage/interfaces/expect.py\u001b[0m in \u001b[0;36meval\u001b[0;34m(self, code, strip, synchronize, locals, allow_use_file, split_lines, **kwds)\u001b[0m\n\u001b[1;32m   1385\u001b[0m                     \u001b[0;32mreturn\u001b[0m \u001b[0mself\u001b[0m\u001b[0;34m.\u001b[0m\u001b[0m_eval_line_using_file\u001b[0m\u001b[0;34m(\u001b[0m\u001b[0mcode\u001b[0m\u001b[0;34m)\u001b[0m\u001b[0;34m\u001b[0m\u001b[0;34m\u001b[0m\u001b[0m\n\u001b[1;32m   1386\u001b[0m                 \u001b[0;32melif\u001b[0m \u001b[0msplit_lines\u001b[0m\u001b[0;34m:\u001b[0m\u001b[0;34m\u001b[0m\u001b[0;34m\u001b[0m\u001b[0m\n\u001b[0;32m-> 1387\u001b[0;31m                     return '\\n'.join([self._eval_line(L, allow_use_file=allow_use_file, **kwds)\n\u001b[0m\u001b[1;32m   1388\u001b[0m                                         for L in code.split('\\n') if L != ''])\n\u001b[1;32m   1389\u001b[0m                 \u001b[0;32melse\u001b[0m\u001b[0;34m:\u001b[0m\u001b[0;34m\u001b[0m\u001b[0;34m\u001b[0m\u001b[0m\n",
      "\u001b[0;32m/private/var/tmp/sage-9.6-current/local/var/lib/sage/venv-python3.10.3/lib/python3.10/site-packages/sage/interfaces/expect.py\u001b[0m in \u001b[0;36m<listcomp>\u001b[0;34m(.0)\u001b[0m\n\u001b[1;32m   1385\u001b[0m                     \u001b[0;32mreturn\u001b[0m \u001b[0mself\u001b[0m\u001b[0;34m.\u001b[0m\u001b[0m_eval_line_using_file\u001b[0m\u001b[0;34m(\u001b[0m\u001b[0mcode\u001b[0m\u001b[0;34m)\u001b[0m\u001b[0;34m\u001b[0m\u001b[0;34m\u001b[0m\u001b[0m\n\u001b[1;32m   1386\u001b[0m                 \u001b[0;32melif\u001b[0m \u001b[0msplit_lines\u001b[0m\u001b[0;34m:\u001b[0m\u001b[0;34m\u001b[0m\u001b[0;34m\u001b[0m\u001b[0m\n\u001b[0;32m-> 1387\u001b[0;31m                     return '\\n'.join([self._eval_line(L, allow_use_file=allow_use_file, **kwds)\n\u001b[0m\u001b[1;32m   1388\u001b[0m                                         for L in code.split('\\n') if L != ''])\n\u001b[1;32m   1389\u001b[0m                 \u001b[0;32melse\u001b[0m\u001b[0;34m:\u001b[0m\u001b[0;34m\u001b[0m\u001b[0;34m\u001b[0m\u001b[0m\n",
      "\u001b[0;32m/private/var/tmp/sage-9.6-current/local/var/lib/sage/venv-python3.10.3/lib/python3.10/site-packages/sage/interfaces/expect.py\u001b[0m in \u001b[0;36m_eval_line\u001b[0;34m(self, line, allow_use_file, wait_for_prompt, restart_if_needed)\u001b[0m\n\u001b[1;32m   1018\u001b[0m                     \u001b[0mout\u001b[0m \u001b[0;34m=\u001b[0m \u001b[0;34m''\u001b[0m\u001b[0;34m\u001b[0m\u001b[0;34m\u001b[0m\u001b[0m\n\u001b[1;32m   1019\u001b[0m         \u001b[0;32mexcept\u001b[0m \u001b[0mKeyboardInterrupt\u001b[0m\u001b[0;34m:\u001b[0m\u001b[0;34m\u001b[0m\u001b[0;34m\u001b[0m\u001b[0m\n\u001b[0;32m-> 1020\u001b[0;31m             \u001b[0mself\u001b[0m\u001b[0;34m.\u001b[0m\u001b[0m_keyboard_interrupt\u001b[0m\u001b[0;34m(\u001b[0m\u001b[0;34m)\u001b[0m\u001b[0;34m\u001b[0m\u001b[0;34m\u001b[0m\u001b[0m\n\u001b[0m\u001b[1;32m   1021\u001b[0m             \u001b[0;32mraise\u001b[0m \u001b[0mKeyboardInterrupt\u001b[0m\u001b[0;34m(\u001b[0m\u001b[0;34m\"Ctrl-c pressed while running %s\"\u001b[0m \u001b[0;34m%\u001b[0m \u001b[0mself\u001b[0m\u001b[0;34m)\u001b[0m\u001b[0;34m\u001b[0m\u001b[0;34m\u001b[0m\u001b[0m\n\u001b[1;32m   1022\u001b[0m         \u001b[0;32mif\u001b[0m \u001b[0mself\u001b[0m\u001b[0;34m.\u001b[0m\u001b[0m_terminal_echo\u001b[0m\u001b[0;34m:\u001b[0m\u001b[0;34m\u001b[0m\u001b[0;34m\u001b[0m\u001b[0m\n",
      "\u001b[0;32m/private/var/tmp/sage-9.6-current/local/var/lib/sage/venv-python3.10.3/lib/python3.10/site-packages/sage/interfaces/singular.py\u001b[0m in \u001b[0;36m_keyboard_interrupt\u001b[0;34m(self)\u001b[0m\n\u001b[1;32m   1307\u001b[0m             \u001b[0;32mraise\u001b[0m \u001b[0mpexpect\u001b[0m\u001b[0;34m.\u001b[0m\u001b[0mExceptionPexpect\u001b[0m\u001b[0;34m(\u001b[0m\u001b[0;34m\"THIS IS A BUG -- PLEASE REPORT. This should never happen.\\n\"\u001b[0m \u001b[0;34m+\u001b[0m \u001b[0mmsg\u001b[0m\u001b[0;34m)\u001b[0m\u001b[0;34m\u001b[0m\u001b[0;34m\u001b[0m\u001b[0m\n\u001b[1;32m   1308\u001b[0m         \u001b[0mself\u001b[0m\u001b[0;34m.\u001b[0m\u001b[0m_start\u001b[0m\u001b[0;34m(\u001b[0m\u001b[0;34m)\u001b[0m\u001b[0;34m\u001b[0m\u001b[0;34m\u001b[0m\u001b[0m\n\u001b[0;32m-> 1309\u001b[0;31m         \u001b[0;32mraise\u001b[0m \u001b[0mKeyboardInterrupt\u001b[0m\u001b[0;34m(\u001b[0m\u001b[0;34m\"Restarting %s (WARNING: all variables defined in previous session are now invalid)\"\u001b[0m \u001b[0;34m%\u001b[0m \u001b[0mself\u001b[0m\u001b[0;34m)\u001b[0m\u001b[0;34m\u001b[0m\u001b[0;34m\u001b[0m\u001b[0m\n\u001b[0m\u001b[1;32m   1310\u001b[0m \u001b[0;34m\u001b[0m\u001b[0m\n\u001b[1;32m   1311\u001b[0m \u001b[0;34m\u001b[0m\u001b[0m\n",
      "\u001b[0;31mKeyboardInterrupt\u001b[0m: Restarting Singular (WARNING: all variables defined in previous session are now invalid)"
     ]
    }
   ],
   "source": [
    "I.homogenize()._singular_().mres(0).betti()"
   ]
  },
  {
   "cell_type": "code",
   "execution_count": 252,
   "id": "4ae23760",
   "metadata": {},
   "outputs": [
    {
     "data": {
      "text/plain": [
       "[Ideal (x - y) of Multivariate Polynomial Ring in x, y over Rational Field,\n",
       " Ideal (x) of Multivariate Polynomial Ring in x, y over Rational Field]"
      ]
     },
     "execution_count": 252,
     "metadata": {},
     "output_type": "execute_result"
    }
   ],
   "source": [
    "R.<x,y> = PolynomialRing(QQ, order = 'degrevlex')\n",
    "I = Ideal(x^2 - x*y)\n",
    "I.associated_primes()"
   ]
  },
  {
   "cell_type": "code",
   "execution_count": 253,
   "id": "88ed4226",
   "metadata": {},
   "outputs": [
    {
     "data": {
      "text/plain": [
       "1"
      ]
     },
     "execution_count": 253,
     "metadata": {},
     "output_type": "execute_result"
    }
   ],
   "source": [
    "I.dimension()"
   ]
  },
  {
   "cell_type": "code",
   "execution_count": 254,
   "id": "c32d4db6",
   "metadata": {},
   "outputs": [
    {
     "data": {
      "text/plain": [
       "2"
      ]
     },
     "execution_count": 254,
     "metadata": {},
     "output_type": "execute_result"
    }
   ],
   "source": [
    "I.hilbert_polynomial()"
   ]
  },
  {
   "cell_type": "code",
   "execution_count": 160,
   "id": "b12a9a2c",
   "metadata": {},
   "outputs": [],
   "source": [
    "J = ideal(x - y)"
   ]
  },
  {
   "cell_type": "code",
   "execution_count": 189,
   "id": "b1e98c3d",
   "metadata": {},
   "outputs": [
    {
     "data": {
      "text/plain": [
       "True"
      ]
     },
     "execution_count": 189,
     "metadata": {},
     "output_type": "execute_result"
    }
   ],
   "source": [
    "x^2 - y^2 in J"
   ]
  },
  {
   "cell_type": "code",
   "execution_count": 169,
   "id": "a64d1ead",
   "metadata": {},
   "outputs": [
    {
     "data": {
      "text/plain": [
       "1"
      ]
     },
     "execution_count": 169,
     "metadata": {},
     "output_type": "execute_result"
    }
   ],
   "source": [
    "I.dimension()"
   ]
  },
  {
   "cell_type": "code",
   "execution_count": 170,
   "id": "83207c16",
   "metadata": {},
   "outputs": [
    {
     "data": {
      "text/plain": [
       "1"
      ]
     },
     "execution_count": 170,
     "metadata": {},
     "output_type": "execute_result"
    }
   ],
   "source": [
    "J.dimension()"
   ]
  },
  {
   "cell_type": "code",
   "execution_count": 171,
   "id": "8e68f0d6",
   "metadata": {},
   "outputs": [],
   "source": [
    "Q = QuotientRing(R,I)"
   ]
  },
  {
   "cell_type": "code",
   "execution_count": 173,
   "id": "f39ee6e6",
   "metadata": {},
   "outputs": [
    {
     "data": {
      "text/plain": [
       "True"
      ]
     },
     "execution_count": 173,
     "metadata": {},
     "output_type": "execute_result"
    }
   ],
   "source": [
    "0 in Q"
   ]
  },
  {
   "cell_type": "code",
   "execution_count": 174,
   "id": "a8345ba4",
   "metadata": {},
   "outputs": [],
   "source": [
    "T = ideal(0)"
   ]
  },
  {
   "cell_type": "code",
   "execution_count": 180,
   "id": "eb746e45",
   "metadata": {},
   "outputs": [],
   "source": [
    "Jbar = ideal(Q(x - y))"
   ]
  },
  {
   "cell_type": "code",
   "execution_count": 182,
   "id": "ce611b27",
   "metadata": {},
   "outputs": [
    {
     "data": {
      "text/plain": [
       "Ideal (xbar - ybar) of Quotient of Multivariate Polynomial Ring in x, y over Rational Field by the ideal (x^2 - x*y)"
      ]
     },
     "execution_count": 182,
     "metadata": {},
     "output_type": "execute_result"
    }
   ],
   "source": [
    "Jbar"
   ]
  },
  {
   "cell_type": "code",
   "execution_count": 225,
   "id": "fc668ab9",
   "metadata": {},
   "outputs": [],
   "source": [
    "A = Matrix(QQ, [[3,5],[-1,1]])\n",
    "B = Matrix(QQ, [[-1,9],[5,-1]])\n",
    "C = Matrix(QQ, [[7,-17],[2,-6]])"
   ]
  },
  {
   "cell_type": "code",
   "execution_count": 226,
   "id": "7b393563",
   "metadata": {},
   "outputs": [],
   "source": [
    "def frob(A,B):\n",
    "    return (B.transpose()*A).trace()"
   ]
  },
  {
   "cell_type": "code",
   "execution_count": 230,
   "id": "ee63f214",
   "metadata": {},
   "outputs": [],
   "source": [
    "V2 = B - (frob(A,B)/frob(A,A))*A"
   ]
  },
  {
   "cell_type": "code",
   "execution_count": 234,
   "id": "fd06360e",
   "metadata": {},
   "outputs": [
    {
     "data": {
      "text/plain": [
       "72"
      ]
     },
     "execution_count": 234,
     "metadata": {},
     "output_type": "execute_result"
    }
   ],
   "source": [
    "frob(V2,V2)"
   ]
  },
  {
   "cell_type": "code",
   "execution_count": 235,
   "id": "2fdc5ab0",
   "metadata": {},
   "outputs": [],
   "source": [
    "V3 = C - (frob(A,C)/frob(A,A))*A - (frob(V2,C)/frob(V2,V2))*V2"
   ]
  },
  {
   "cell_type": "code",
   "execution_count": 239,
   "id": "97d49bf0",
   "metadata": {},
   "outputs": [
    {
     "data": {
      "text/plain": [
       "162"
      ]
     },
     "execution_count": 239,
     "metadata": {},
     "output_type": "execute_result"
    }
   ],
   "source": [
    "frob(V3,V3)"
   ]
  },
  {
   "cell_type": "code",
   "execution_count": 240,
   "id": "846c6552",
   "metadata": {},
   "outputs": [],
   "source": [
    "D = Matrix(QQ, [[-1,27],[-4,8]])"
   ]
  },
  {
   "cell_type": "code",
   "execution_count": 244,
   "id": "d166f292",
   "metadata": {},
   "outputs": [
    {
     "data": {
      "text/plain": [
       "24"
      ]
     },
     "execution_count": 244,
     "metadata": {},
     "output_type": "execute_result"
    }
   ],
   "source": [
    "frob(A,D)/6"
   ]
  },
  {
   "cell_type": "code",
   "execution_count": 246,
   "id": "480000c3",
   "metadata": {},
   "outputs": [
    {
     "data": {
      "text/plain": [
       "6*sqrt(2)"
      ]
     },
     "execution_count": 246,
     "metadata": {},
     "output_type": "execute_result"
    }
   ],
   "source": [
    "frob(V2,D)/(6*sqrt(2))"
   ]
  },
  {
   "cell_type": "code",
   "execution_count": 247,
   "id": "2b072055",
   "metadata": {},
   "outputs": [
    {
     "data": {
      "text/plain": [
       "-9*sqrt(2)"
      ]
     },
     "execution_count": 247,
     "metadata": {},
     "output_type": "execute_result"
    }
   ],
   "source": [
    "frob(V3,D)/(9*sqrt(2))"
   ]
  },
  {
   "cell_type": "code",
   "execution_count": 15,
   "id": "2c5a485a",
   "metadata": {},
   "outputs": [],
   "source": [
    "import time\n",
    "from sage.rings.polynomial.hilbert import hilbert_poincare_series\n",
    "\n",
    "# computes degree of regularity for a homogeneous ideal\n",
    "def hdegree_reg(I):\n",
    "    G = I.groebner_basis()\n",
    "    LT = Ideal([g.lt() for g in G])\n",
    "    HS = hilbert_poincare_series(LT)\n",
    "    delta = HS.numerator().degree()\n",
    "    l = HS.denominator().degree()\n",
    "    return(delta - l + 1)\n",
    "\n",
    "\n",
    "# computes F^top\n",
    "def f_top(I, R):\n",
    "    f_list = I.gens()\n",
    "    new_ring.<h> = PolynomialRing(R, order = 'degrevlex')\n",
    "    homogenized = [new_ring(poly.homogenize()) for poly in f_list]\n",
    "    final = [R(poly.subs(h=0)) for poly in homogenized] \n",
    "    return(final)\n",
    "\n",
    "\n",
    "# computes degree of regularity in the nonhomogeneous case\n",
    "def degree_reg(I, R):\n",
    "    J = ideal(f_top(I,R))\n",
    "    return hdegree_reg(J)\n",
    "\n",
    "  \n",
    "def test_rowsp(f, f_list, d, ring):\n",
    "    mons = get_mons(d, ring)\n",
    "    M = mac_matrix(f_list, d, ring)\n",
    "    done = False\n",
    "    while not done:\n",
    "        rowsp = M.row_space()\n",
    "        to_be_added = []\n",
    "        for row in M.rref().rows():\n",
    "            g = 0\n",
    "            for (coeff, mon) in zip(row, mons):\n",
    "                g += coeff * mon\n",
    "            max_test_deg = d - g.degree()\n",
    "            if (g != 0) and (max_test_deg > 0):\n",
    "                for mon in get_mons(max_test_deg, ring):\n",
    "                    test_p = mon*g\n",
    "                    test_vec = vector([test_p.monomial_coefficient(moon) for moon in mons])\n",
    "                    if test_vec not in rowsp:\n",
    "                        to_be_added.append(test_vec)\n",
    "        if to_be_added == []:\n",
    "            done = True\n",
    "        else:\n",
    "            new_rows = M.rows() + to_be_added\n",
    "            M = Matrix(new_rows)\n",
    "    f_vec = vector([ring(f).monomial_coefficient(mon) for mon in mons])\n",
    "    return f_vec in M.row_space()\n",
    "\n",
    "\n",
    "def get_mons(d, ring, leq = True):\n",
    "    if leq:\n",
    "        mons = []\n",
    "        for i in range(d+1):\n",
    "            mons += [ring({tuple(a):1}) for a in WeightedIntegerVectors(i,[1 for gen in ring.gens()])]\n",
    "    else:\n",
    "        mons = [ring({tuple(a):1}) for a in WeightedIntegerVectors(d,[1 for gen in ring.gens()])]\n",
    "    mons.sort()\n",
    "    mons.reverse()\n",
    "    return mons\n",
    "\n",
    "\n",
    "def deg_fall(f, f_list, ring):\n",
    "    test_deg = f.degree()\n",
    "    while True:\n",
    "        print(test_deg, time.strftime(\"%H:%M:%S\", time.localtime()))\n",
    "        if test_rowsp(f, f_list, test_deg, ring):\n",
    "            return test_deg\n",
    "        test_deg += 1\n",
    "        \n",
    "        \n",
    "def lfd(f_list, ring):\n",
    "    fall_degrees = []\n",
    "    I = ideal(f_list)\n",
    "    B = I.groebner_basis()\n",
    "    print(B)\n",
    "    for f in B:\n",
    "        print(f)\n",
    "        d = deg_fall(f, f_list, ring)\n",
    "        if d > f.degree():\n",
    "            fall_degrees.append(d)\n",
    "    if fall_degrees == []:\n",
    "        return 0\n",
    "    else:\n",
    "        return max(fall_degrees)\n",
    "    \n",
    "    \n",
    "# Compute the Macaulay matrix in degree d of a system f = [f1,...,fs]\n",
    "def mac_matrix(f,d,ring):\n",
    "    mons0 = monomials(list(ring.gens()), [d+1 for i in range(len(ring.gens()))])\n",
    "    mons = []\n",
    "    for mon in mons0:\n",
    "        if mon.degree() <= d:\n",
    "            mons.append(mon)\n",
    "    mons.sort()\n",
    "    mons.reverse() # for reasons I don't understand, the .sort() method respects the chosen order but reverses it\n",
    "    col_labs = []\n",
    "    for deg in range(d + 1):\n",
    "        segment = []\n",
    "        for poly in f:\n",
    "            for mon in mons:\n",
    "                label = ring(mon)*ring(poly)\n",
    "                if label.degree() == deg:\n",
    "                    segment.append(label)\n",
    "        col_labs += segment\n",
    "    return matrix([[label.monomial_coefficient(mon) for mon in mons] for label in col_labs])\n",
    "\n",
    "\n",
    "# Takes an RREF Macaulay matrix as input and returns a list of the corresponding polynomials\n",
    "def recover_polys(M, d, ring):\n",
    "    mons0 = monomials(list(ring.gens()), [d+1 for i in range(len(ring.gens()))])\n",
    "    mons = []\n",
    "    for mon in mons0:\n",
    "        if mon.degree() <= d:\n",
    "            mons.append(mon)\n",
    "    mons.sort()\n",
    "    mons.reverse()\n",
    "    B = []\n",
    "    for row in M.rows():\n",
    "        g = 0\n",
    "        for (coeff,mon) in zip(row,mons):\n",
    "            g += coeff*mon\n",
    "        if g != 0:\n",
    "            B.append(g)\n",
    "    if B == []:\n",
    "        B = [ring(0)]\n",
    "    return Sequence(B) # Sage doesn't know how to work with the output list unless it is a \"Sequence\" of polynomials\n",
    "\n",
    "\n",
    "# Now instead of using mac_matrix followed by recover_polys, we ask for the new polynomials directly:\n",
    "def mac_basis(f,d,ring):\n",
    "    mons0 = monomials(list(ring.gens()), [d+1 for i in range(len(ring.gens()))])\n",
    "    mons = []\n",
    "    for mon in mons0:\n",
    "        if mon.degree() <= d:\n",
    "            mons.append(mon)\n",
    "    mons.sort()\n",
    "    mons.reverse() # for reasons I don't understand, the .sort() method respects the chosen order but reverses it\n",
    "    col_labs = []\n",
    "    for deg in range(d + 1):\n",
    "        segment = []\n",
    "        for poly in f:\n",
    "            for mon in mons:\n",
    "                label = ring(mon)*ring(poly)\n",
    "                if label.degree() == deg:\n",
    "                    segment.append(label)\n",
    "        col_labs += segment\n",
    "    M = matrix([[label.monomial_coefficient(mon) for mon in mons] for label in col_labs]).rref()\n",
    "    B = []\n",
    "    for row in M.rows():\n",
    "        g = 0\n",
    "        for (coeff,mon) in zip(row,mons):\n",
    "            g += coeff*mon\n",
    "        if g != 0:\n",
    "            B.append(g)\n",
    "    if B == []:\n",
    "        B = [ring(0)]\n",
    "    return Sequence(B)\n",
    "\n",
    "\n",
    "# Now define a function that calculates a Gröbner basis and the solving degree (per Caminata and Gorla, 2021)\n",
    "def mac_grob(f,ring):\n",
    "    test_deg = 0\n",
    "    while True:\n",
    "        B = mac_basis(f, test_deg, ring)\n",
    "        print(test_deg, B, B.is_groebner(), ideal(B) == ideal(f))\n",
    "        if B.is_groebner() and ideal(B) == ideal(f):\n",
    "            return (test_deg,B)\n",
    "        test_deg += 1\n",
    "        \n",
    "\n",
    "# Modified version to compute the solving degree per Caminata and Gorla, 2023\n",
    "def sdeg(f, ring):\n",
    "    d = 0\n",
    "    while True:\n",
    "        d_level_base = []\n",
    "        mons = get_mons(d, ring)\n",
    "        M = mac_matrix(f, d, ring)\n",
    "        done = False\n",
    "        while not done:\n",
    "            rowsp = M.row_space()\n",
    "            to_be_added = []\n",
    "            for row in M.rref().rows():\n",
    "                g = 0\n",
    "                for (coeff, mon) in zip(row, mons):\n",
    "                    g += coeff * mon\n",
    "                max_test_deg = d - g.degree()\n",
    "                if (g != 0) and (max_test_deg > 0):\n",
    "                    for mon in get_mons(max_test_deg, ring):\n",
    "                        test_p = mon*g\n",
    "                        test_vec = vector([test_p.monomial_coefficient(moon) for moon in mons])\n",
    "                        if test_vec not in rowsp:\n",
    "                            to_be_added.append(test_vec)\n",
    "            if to_be_added == []:\n",
    "                done = True\n",
    "                for row in M.rref().rows():\n",
    "                    g = 0\n",
    "                    for (coeff, mon) in zip(row, mons):\n",
    "                        g += coeff * mon\n",
    "                    if g != 0:\n",
    "                        d_level_base.append(g)\n",
    "                if d_level_base == []:\n",
    "                    d_level_base = [ring(0)]\n",
    "                check_1 = Sequence(d_level_base).is_groebner()\n",
    "                check_2 = (ideal(d_level_base) == ideal(f))\n",
    "                print(d, Sequence(d_level_base), check_1, check_2)\n",
    "                if check_1 and check_2:\n",
    "                    return (d, Sequence(d_level_base))\n",
    "                d += 1\n",
    "            else:\n",
    "                new_rows = M.rows() + to_be_added\n",
    "                M = Matrix(new_rows)\n",
    "                \n",
    "def intl(I, ring):\n",
    "    G = I.groebner_basis()\n",
    "    in_gens = []\n",
    "    for gen in G:\n",
    "        in_gens.append(gen.lt())\n",
    "    return ideal(in_gens)"
   ]
  },
  {
   "cell_type": "code",
   "execution_count": 16,
   "id": "8e218d36",
   "metadata": {},
   "outputs": [],
   "source": [
    "# tests conjecture 3 for the degree reverse lex ordering (Sage default)\n",
    "\n",
    "def is_generic(I,R):\n",
    "    r = I.dimension()\n",
    "    if r == 0: \n",
    "        return True\n",
    "    r_gens = list(R.gens())\n",
    "    M = ideal(r_gens)\n",
    "    variables_to_check = r_gens[r-2:][::-1]\n",
    "    variables_checked = []\n",
    "    for variable in variables_to_check:\n",
    "        J = I\n",
    "        for var in variables_checked:\n",
    "            J = J + ideal(var)\n",
    "        if J.dimension() == 0:\n",
    "            return True\n",
    "        sat = J.saturation(M)[0]\n",
    "        for prime in sat.associated_primes():\n",
    "            if variable in prime:\n",
    "                return False\n",
    "        variables_checked.append(variable)\n",
    "    return True\n",
    "\n",
    "def test_conjecture(f_list, R):\n",
    "    F = ideal(f_list)\n",
    "    S = F.homogenize().ring()\n",
    "    h_list = [S(f.homogenize()) for f in f_list]\n",
    "    Fh = ideal(h_list)\n",
    "    reg = Fh._singular_().mres(0).betti().nrows()\n",
    "    print(reg)\n",
    "    sd = sdeg(f_list, R)[0]\n",
    "    return (sd, reg, is_generic(Fh,S))\n",
    "\n",
    "def test_conjecture_extra(f_list, R):\n",
    "    F = ideal(f_list)\n",
    "    S = F.homogenize().ring()\n",
    "    h_list = [S(f.homogenize()) for f in f_list]\n",
    "    Fh = ideal(h_list)\n",
    "    reg = Fh._singular_().mres(0).betti().nrows()\n",
    "    print(reg, '\\n')\n",
    "    sd = sdeg(f_list, R)[0]\n",
    "    print('')\n",
    "    solve_deg = mac_grob(f_list, R)[0]\n",
    "    return (Fh.dimension(), sd, reg, solve_deg, is_generic(Fh,S))"
   ]
  },
  {
   "cell_type": "code",
   "execution_count": 264,
   "id": "fa20e0e8",
   "metadata": {},
   "outputs": [
    {
     "name": "stdout",
     "output_type": "stream",
     "text": [
      "7 \n",
      "\n",
      "0 [0] True False\n",
      "1 [0] True False\n",
      "2 [0] True False\n",
      "3 [x*y^2 - z] True False\n",
      "4 [w*x*y^2 - w*z, x^2*y^2 - x*z, x*y^3 - y*z, x*y^2*z - z^2, x*y^2 - z] True False\n",
      "5 [w^2*x*y^2 - w^2*z, w*x^2*y^2 - w*x*z, x^3*y^2 - x^2*z, w*x*y^3 - w*y*z, x^2*y^3 - x*y*z, x*y^4 - y^2*z, w*x*y^2*z - w*z^2, x^2*y^2*z - x*z^2, x*y^3*z - y*z^2, x*y^2*z^2 - z^3, w*z^4 + 1, w*x*y^2 - w*z, x^2*y^2 - x*z, x*y^3 - y*z, x*y^2*z - z^2, x*y^2 - z] True True\n",
      "\n",
      "0 [0] True False\n",
      "1 [0] True False\n",
      "2 [0] True False\n",
      "3 [x*y^2 - z] True False\n",
      "4 [w*x*y^2 - w*z, x^2*y^2 - x*z, x*y^3 - y*z, x*y^2*z - z^2, x*y^2 - z] True False\n",
      "5 [w^2*x*y^2 - w^2*z, w*x^2*y^2 - w*x*z, x^3*y^2 - x^2*z, w*x*y^3 - w*y*z, x^2*y^3 - x*y*z, x*y^4 - y^2*z, w*x*y^2*z - w*z^2, x^2*y^2*z - x*z^2, x*y^3*z - y*z^2, x*y^2*z^2 - z^3, w*z^4 + 1, w*x*y^2 - w*z, x^2*y^2 - x*z, x*y^3 - y*z, x*y^2*z - z^2, x*y^2 - z] True True\n"
     ]
    },
    {
     "data": {
      "text/plain": [
       "(3, 5, 7, 5, False)"
      ]
     },
     "execution_count": 264,
     "metadata": {},
     "output_type": "execute_result"
    }
   ],
   "source": [
    "R.<w,x,y,z> = PolynomialRing(QQ, order = \"degrevlex\")\n",
    "f1 = x*y^2 - z \n",
    "f2 = z^4*w + 1\n",
    "test_conjecture_extra([f1,f2],R)"
   ]
  },
  {
   "cell_type": "code",
   "execution_count": 265,
   "id": "e82c0fec",
   "metadata": {},
   "outputs": [
    {
     "name": "stdout",
     "output_type": "stream",
     "text": [
      "7 \n",
      "\n",
      "0 [0] True False\n",
      "1 [0] True False\n",
      "2 [0] True False\n",
      "3 [x*y^2 - z] True False\n",
      "4 [w*x*y^2 - w*z, x^2*y^2 - x*z, x*y^3 - y*z, x*y^2*z - z^2, x*y^2 - z] True False\n",
      "5 [w^2*x*y^2 - w^2*z, w*x^2*y^2 - w*x*z, x^3*y^2 - x^2*z, w*x*y^3 - w*y*z, x^2*y^3 - x*y*z, x*y^4 - y^2*z, w*x*y^2*z - w*z^2, x^2*y^2*z - x*z^2, x*y^3*z - y*z^2, x*y^2*z^2 - z^3, w*z^4, w*x*y^2 - w*z, x^2*y^2 - x*z, x*y^3 - y*z, x*y^2*z - z^2, x*y^2 - z] True True\n",
      "\n",
      "0 [0] True False\n",
      "1 [0] True False\n",
      "2 [0] True False\n",
      "3 [x*y^2 - z] True False\n",
      "4 [w*x*y^2 - w*z, x^2*y^2 - x*z, x*y^3 - y*z, x*y^2*z - z^2, x*y^2 - z] True False\n",
      "5 [w^2*x*y^2 - w^2*z, w*x^2*y^2 - w*x*z, x^3*y^2 - x^2*z, w*x*y^3 - w*y*z, x^2*y^3 - x*y*z, x*y^4 - y^2*z, w*x*y^2*z - w*z^2, x^2*y^2*z - x*z^2, x*y^3*z - y*z^2, x*y^2*z^2 - z^3, w*z^4, w*x*y^2 - w*z, x^2*y^2 - x*z, x*y^3 - y*z, x*y^2*z - z^2, x*y^2 - z] True True\n"
     ]
    },
    {
     "data": {
      "text/plain": [
       "(3, 5, 7, 5, False)"
      ]
     },
     "execution_count": 265,
     "metadata": {},
     "output_type": "execute_result"
    }
   ],
   "source": [
    "R.<w,x,y,z> = PolynomialRing(QQ, order = \"degrevlex\")\n",
    "f1 = x*y^2 - z \n",
    "f2 = z^4*w\n",
    "test_conjecture_extra([f1,f2],R)"
   ]
  },
  {
   "cell_type": "code",
   "execution_count": 266,
   "id": "d4068a34",
   "metadata": {},
   "outputs": [
    {
     "name": "stdout",
     "output_type": "stream",
     "text": [
      "7 \n",
      "\n",
      "0 [0] True False\n",
      "1 [0] True False\n",
      "2 [0] True False\n",
      "3 [x*y^2] True False\n",
      "4 [w*x*y^2, x^2*y^2, x*y^3, x*y^2*z, x*y^2] True False\n",
      "5 [w^2*x*y^2, w*x^2*y^2, x^3*y^2, w*x*y^3, x^2*y^3, x*y^4, w*x*y^2*z, x^2*y^2*z, x*y^3*z, x*y^2*z^2, w*z^4, w*x*y^2, x^2*y^2, x*y^3, x*y^2*z, x*y^2] True True\n",
      "\n",
      "0 [0] True False\n",
      "1 [0] True False\n",
      "2 [0] True False\n",
      "3 [x*y^2] True False\n",
      "4 [w*x*y^2, x^2*y^2, x*y^3, x*y^2*z, x*y^2] True False\n",
      "5 [w^2*x*y^2, w*x^2*y^2, x^3*y^2, w*x*y^3, x^2*y^3, x*y^4, w*x*y^2*z, x^2*y^2*z, x*y^3*z, x*y^2*z^2, w*z^4, w*x*y^2, x^2*y^2, x*y^3, x*y^2*z, x*y^2] True True\n"
     ]
    },
    {
     "data": {
      "text/plain": [
       "(2, 5, 7, 5, False)"
      ]
     },
     "execution_count": 266,
     "metadata": {},
     "output_type": "execute_result"
    }
   ],
   "source": [
    "R.<w,x,y,z> = PolynomialRing(QQ, order = \"degrevlex\")\n",
    "f1 = x*y^2\n",
    "f2 = z^4*w\n",
    "test_conjecture_extra([f1,f2],R)"
   ]
  },
  {
   "cell_type": "code",
   "execution_count": 286,
   "id": "c28d2e32",
   "metadata": {},
   "outputs": [
    {
     "data": {
      "text/plain": [
       "[y^5 - y*h^4, x*h^4, x^2]"
      ]
     },
     "execution_count": 286,
     "metadata": {},
     "output_type": "execute_result"
    }
   ],
   "source": [
    "R.<x,y,h> = PolynomialRing(GF(5), order = \"degrevlex\")\n",
    "f1 = x^2\n",
    "f2 = x^5 - x*h^4\n",
    "f3 = y^5 - y*h^4\n",
    "J = ideal(f1,f2,f3)\n",
    "J.groebner_basis()"
   ]
  },
  {
   "cell_type": "code",
   "execution_count": 296,
   "id": "bee68199",
   "metadata": {},
   "outputs": [
    {
     "data": {
      "text/plain": [
       "(Ideal (x, y^5 - y*h^4) of Multivariate Polynomial Ring in x, y, h over Finite Field of size 5,\n",
       " 8)"
      ]
     },
     "execution_count": 296,
     "metadata": {},
     "output_type": "execute_result"
    }
   ],
   "source": [
    "J.saturation(ideal(x,y,h))"
   ]
  },
  {
   "cell_type": "code",
   "execution_count": 292,
   "id": "4f537572",
   "metadata": {},
   "outputs": [
    {
     "data": {
      "text/plain": [
       "0"
      ]
     },
     "execution_count": 292,
     "metadata": {},
     "output_type": "execute_result"
    }
   ],
   "source": [
    "(J + ideal(h)).dimension()"
   ]
  },
  {
   "cell_type": "code",
   "execution_count": 295,
   "id": "a9e435b0",
   "metadata": {},
   "outputs": [
    {
     "data": {
      "text/plain": [
       "(Ideal (x, y^5) of Multivariate Polynomial Ring in x, y, h over Finite Field of size 5,\n",
       " 8)"
      ]
     },
     "execution_count": 295,
     "metadata": {},
     "output_type": "execute_result"
    }
   ],
   "source": [
    "ideal(y^5, x*h^4, x^2).saturation(ideal(x,y,h))"
   ]
  },
  {
   "cell_type": "code",
   "execution_count": 297,
   "id": "c0eaf4ce",
   "metadata": {},
   "outputs": [
    {
     "data": {
      "text/plain": [
       "(Ideal (1) of Multivariate Polynomial Ring in x, y, h over Finite Field of size 5,\n",
       " 2)"
      ]
     },
     "execution_count": 297,
     "metadata": {},
     "output_type": "execute_result"
    }
   ],
   "source": [
    "ideal(y^5, x*h^4, x^2).saturation(x)"
   ]
  },
  {
   "cell_type": "code",
   "execution_count": 298,
   "id": "e9fe74d5",
   "metadata": {},
   "outputs": [
    {
     "data": {
      "text/plain": [
       "(Ideal (1) of Multivariate Polynomial Ring in x, y, h over Finite Field of size 5,\n",
       " 5)"
      ]
     },
     "execution_count": 298,
     "metadata": {},
     "output_type": "execute_result"
    }
   ],
   "source": [
    "ideal(y^5, x*h^4, x^2).saturation(y)"
   ]
  },
  {
   "cell_type": "code",
   "execution_count": 299,
   "id": "2d152c2a",
   "metadata": {},
   "outputs": [
    {
     "data": {
      "text/plain": [
       "(Ideal (x, y^5) of Multivariate Polynomial Ring in x, y, h over Finite Field of size 5,\n",
       " 4)"
      ]
     },
     "execution_count": 299,
     "metadata": {},
     "output_type": "execute_result"
    }
   ],
   "source": [
    "ideal(y^5, x*h^4, x^2).saturation(h)"
   ]
  },
  {
   "cell_type": "code",
   "execution_count": 331,
   "id": "4b4e4915",
   "metadata": {},
   "outputs": [
    {
     "data": {
      "text/plain": [
       "[x*y*w^4*h^8 - x*y*h^12, x*y^2*h^8 - x*w^2*h^8, x^2*w*h^8 - y*w^2*h^8, y^2*w*h^8 - w^3*h^8, x^3*w^3*h^4 - x*y*h^8, x*y^2*w^3*h^4 - x*w*h^8, y^3*w^3*h^4 - y*w*h^8, x^4*w*h^4 - w*h^8, y^4*w*h^4 - w*h^8, x*y^3*h^4 - x^3*w*h^4, x^2*y*h^4 - y^2*w*h^4, x^5 - x*h^4, x^2*y^3 - w*h^4, y^5 - y*h^4, w^5 - w*h^4, z + w]"
      ]
     },
     "execution_count": 331,
     "metadata": {},
     "output_type": "execute_result"
    }
   ],
   "source": [
    "R.<x,y,z,w,h> = PolynomialRing(GF(5), order = \"degrevlex\")\n",
    "f1 = x^2*y^3 + z*h^4\n",
    "f2 = x^5 - x*h^4\n",
    "f3 = y^5 - y*h^4\n",
    "f4 = z^5 - z*h^4\n",
    "f5 = w^5 - w*h^4\n",
    "f6 = z + w\n",
    "J = ideal(f1,f2,f3,f4,f5,f6)\n",
    "J.groebner_basis()"
   ]
  },
  {
   "cell_type": "code",
   "execution_count": 332,
   "id": "584e508d",
   "metadata": {},
   "outputs": [
    {
     "data": {
      "text/plain": [
       "1"
      ]
     },
     "execution_count": 332,
     "metadata": {},
     "output_type": "execute_result"
    }
   ],
   "source": [
    "J.dimension()"
   ]
  },
  {
   "cell_type": "code",
   "execution_count": 333,
   "id": "0ff51eca",
   "metadata": {},
   "outputs": [
    {
     "data": {
      "text/plain": [
       "Ideal (x*y*w^4*h^8, x*y^2*h^8, x^2*w*h^8, y^2*w*h^8, x^3*w^3*h^4, x*y^2*w^3*h^4, y^3*w^3*h^4, x^4*w*h^4, y^4*w*h^4, x*y^3*h^4, x^2*y*h^4, x^5, x^2*y^3, y^5, w^5, z) of Multivariate Polynomial Ring in x, y, z, w, h over Finite Field of size 5"
      ]
     },
     "execution_count": 333,
     "metadata": {},
     "output_type": "execute_result"
    }
   ],
   "source": [
    "I = intl(J,R)\n",
    "I"
   ]
  },
  {
   "cell_type": "code",
   "execution_count": 334,
   "id": "3ba75251",
   "metadata": {},
   "outputs": [
    {
     "data": {
      "text/plain": [
       "(Ideal (1) of Multivariate Polynomial Ring in x, y, z, w, h over Finite Field of size 5,\n",
       " 5)"
      ]
     },
     "execution_count": 334,
     "metadata": {},
     "output_type": "execute_result"
    }
   ],
   "source": [
    "I.saturation(x)"
   ]
  },
  {
   "cell_type": "code",
   "execution_count": 335,
   "id": "d013fc6e",
   "metadata": {},
   "outputs": [
    {
     "data": {
      "text/plain": [
       "[x^2*y^3 - w*h^4, z + w]"
      ]
     },
     "execution_count": 335,
     "metadata": {},
     "output_type": "execute_result"
    }
   ],
   "source": [
    "Q.<x,y,z,w,h> = PolynomialRing(GF(5), order = \"degrevlex\")\n",
    "f1 = x^2*y^3 + z*h^4\n",
    "f6 = z + w\n",
    "T = ideal(f1,f6)\n",
    "T.groebner_basis()"
   ]
  },
  {
   "cell_type": "code",
   "execution_count": 337,
   "id": "6845b789",
   "metadata": {},
   "outputs": [
    {
     "data": {
      "text/plain": [
       "Ideal (x^2*y^3, z) of Multivariate Polynomial Ring in x, y, z, w, h over Finite Field of size 5"
      ]
     },
     "execution_count": 337,
     "metadata": {},
     "output_type": "execute_result"
    }
   ],
   "source": [
    "intl(T,Q)"
   ]
  },
  {
   "cell_type": "code",
   "execution_count": 338,
   "id": "f9eab478",
   "metadata": {},
   "outputs": [
    {
     "data": {
      "text/plain": [
       "(Ideal (z, y^3) of Multivariate Polynomial Ring in x, y, z, w, h over Finite Field of size 5,\n",
       " 2)"
      ]
     },
     "execution_count": 338,
     "metadata": {},
     "output_type": "execute_result"
    }
   ],
   "source": [
    "intl(T,Q).saturation(x)"
   ]
  },
  {
   "cell_type": "code",
   "execution_count": 339,
   "id": "a7bdbb79",
   "metadata": {},
   "outputs": [
    {
     "name": "stdout",
     "output_type": "stream",
     "text": [
      "3 \n",
      "\n",
      "0 [0] True False\n",
      "1 [0] True False\n",
      "2 [y^2, y*z + x] False True\n",
      "3 [x^3, x^2*y, x*y^2, y^3, x^2*z, x*y*z, y^2*z, y*z^2 + x*z, x^2, x*y, y^2, y*z + x] True True\n",
      "\n",
      "0 [0] True False\n",
      "1 [0] True False\n",
      "2 [y^2, y*z + x] False True\n",
      "3 [x*y^2, y^3, x*y*z + x^2, y^2*z, y*z^2 + x*z, x*y, y^2, y*z + x] False True\n",
      "4 [x^2*y^2, x*y^3, y^4, x^2*y*z + x^3, x*y^2*z, y^3*z, x*y*z^2 + x^2*z, y^2*z^2, y*z^3 + x*z^2, x^2*y, x*y^2, y^3, x*y*z, y^2*z, y*z^2 + x*z, x^2, x*y, y^2, y*z + x] True True\n"
     ]
    },
    {
     "data": {
      "text/plain": [
       "(2, 3, 3, 4, False)"
      ]
     },
     "execution_count": 339,
     "metadata": {},
     "output_type": "execute_result"
    }
   ],
   "source": [
    "R.<x,y,z> = PolynomialRing(QQ, order = \"degrevlex\")\n",
    "f1 = y^2\n",
    "f2 = y*z + x\n",
    "test_conjecture_extra([f1,f2],R)"
   ]
  },
  {
   "cell_type": "code",
   "execution_count": 341,
   "id": "5622e8c9",
   "metadata": {},
   "outputs": [
    {
     "data": {
      "text/plain": [
       "[x^2*h^2, x*y*h, y^2, y*z + x*h]"
      ]
     },
     "execution_count": 341,
     "metadata": {},
     "output_type": "execute_result"
    }
   ],
   "source": [
    "S.<x,y,z,h> = PolynomialRing(QQ, order = \"degrevlex\")\n",
    "f1 = y^2\n",
    "f2 = y*z + x*h \n",
    "J = ideal(f1,f2)\n",
    "J.groebner_basis()"
   ]
  },
  {
   "cell_type": "code",
   "execution_count": 349,
   "id": "a1e86f5d",
   "metadata": {},
   "outputs": [
    {
     "name": "stdout",
     "output_type": "stream",
     "text": [
      "0 [0] True False\n",
      "1 [0] True False\n",
      "2 [y^2, y*z + x*h] False True\n",
      "3 [x*y^2, y^3, x*y*z + x^2*h, y^2*z, y*z^2 + x*z*h, x*y*h, y^2*h, y*z*h + x*h^2, y^2, y*z + x*h] False True\n",
      "4 Polynomial Sequence with 29 Polynomials in 4 Variables True True\n"
     ]
    },
    {
     "data": {
      "text/plain": [
       "(4, Polynomial Sequence with 29 Polynomials in 4 Variables)"
      ]
     },
     "execution_count": 349,
     "metadata": {},
     "output_type": "execute_result"
    }
   ],
   "source": [
    "mac_grob([f1,f2],S)"
   ]
  },
  {
   "cell_type": "code",
   "execution_count": 350,
   "id": "fa19889b",
   "metadata": {},
   "outputs": [
    {
     "name": "stdout",
     "output_type": "stream",
     "text": [
      "0 [0] True False\n",
      "1 [0] True False\n",
      "2 [y^2, y*z + x*h] False True\n",
      "3 [x*y^2, y^3, x*y*z + x^2*h, y^2*z, y*z^2 + x*z*h, x*y*h, y^2*h, y*z*h + x*h^2, y^2, y*z + x*h] False True\n",
      "4 Polynomial Sequence with 29 Polynomials in 4 Variables True True\n"
     ]
    },
    {
     "data": {
      "text/plain": [
       "(4, Polynomial Sequence with 29 Polynomials in 4 Variables)"
      ]
     },
     "execution_count": 350,
     "metadata": {},
     "output_type": "execute_result"
    }
   ],
   "source": [
    "sdeg([f1,f2],S)"
   ]
  },
  {
   "cell_type": "code",
   "execution_count": 358,
   "id": "1bf0195c",
   "metadata": {},
   "outputs": [
    {
     "name": "stdout",
     "output_type": "stream",
     "text": [
      "3 \n",
      "\n",
      "0 [0] True False\n",
      "1 [0] True False\n",
      "2 [y^2, y*z + x] False True\n",
      "3 [x^3, x^2*y, x*y^2, y^3, x^2*z, x*y*z, y^2*z, y*z^2 + x*z, x^2, x*y, y^2, y*z + x] True True\n",
      "\n",
      "0 [0] True False\n",
      "1 [0] True False\n",
      "2 [y^2, y*z + x] False True\n",
      "3 [x*y^2, y^3, x*y*z + x^2, y^2*z, y*z^2 + x*z, x*y, y^2, y*z + x] False True\n",
      "4 [x^2*y^2, x*y^3, y^4, x^2*y*z + x^3, x*y^2*z, y^3*z, x*y*z^2 + x^2*z, y^2*z^2, y*z^3 + x*z^2, x^2*y, x*y^2, y^3, x*y*z, y^2*z, y*z^2 + x*z, x^2, x*y, y^2, y*z + x] True True\n"
     ]
    },
    {
     "data": {
      "text/plain": [
       "(2, 3, 3, 4, False)"
      ]
     },
     "execution_count": 358,
     "metadata": {},
     "output_type": "execute_result"
    }
   ],
   "source": [
    "R.<x,y,z> = PolynomialRing(QQ, order = \"degrevlex\")\n",
    "f1 = y^2\n",
    "f2 = y*z + x\n",
    "test_conjecture_extra([f1,f2],R)"
   ]
  },
  {
   "cell_type": "code",
   "execution_count": 357,
   "id": "f3b93fc4",
   "metadata": {},
   "outputs": [
    {
     "name": "stdout",
     "output_type": "stream",
     "text": [
      "[x^2, x*y, y^2, y*z + x]\n",
      "x^2\n",
      "2 17:59:41\n",
      "3 17:59:41\n",
      "x*y\n",
      "2 17:59:41\n",
      "3 17:59:41\n",
      "y^2\n",
      "2 17:59:41\n",
      "y*z + x\n",
      "2 17:59:41\n"
     ]
    },
    {
     "data": {
      "text/plain": [
       "3"
      ]
     },
     "execution_count": 357,
     "metadata": {},
     "output_type": "execute_result"
    }
   ],
   "source": [
    "lfd([f1,f2],R)"
   ]
  },
  {
   "cell_type": "code",
   "execution_count": 352,
   "id": "0a340997",
   "metadata": {},
   "outputs": [
    {
     "name": "stdout",
     "output_type": "stream",
     "text": [
      "3 \n",
      "\n",
      "0 [0] True False\n",
      "1 [0] True False\n",
      "2 [y^2, y*z + x*h] False True\n",
      "3 [x*y^2, y^3, x*y*z + x^2*h, y^2*z, y*z^2 + x*z*h, x*y*h, y^2*h, y*z*h + x*h^2, y^2, y*z + x*h] False True\n",
      "4 Polynomial Sequence with 29 Polynomials in 4 Variables True True\n",
      "\n",
      "0 [0] True False\n",
      "1 [0] True False\n",
      "2 [y^2, y*z + x*h] False True\n",
      "3 [x*y^2, y^3, x*y*z + x^2*h, y^2*z, y*z^2 + x*z*h, x*y*h, y^2*h, y*z*h + x*h^2, y^2, y*z + x*h] False True\n",
      "4 Polynomial Sequence with 29 Polynomials in 4 Variables True True\n"
     ]
    },
    {
     "data": {
      "text/plain": [
       "(2, 4, 3, 4, False)"
      ]
     },
     "execution_count": 352,
     "metadata": {},
     "output_type": "execute_result"
    }
   ],
   "source": [
    "R.<x,y,z,h> = PolynomialRing(QQ, order = \"degrevlex\")\n",
    "f1 = y^2\n",
    "f2 = y*z + x*h\n",
    "test_conjecture_extra([f1,f2],R)"
   ]
  },
  {
   "cell_type": "code",
   "execution_count": 354,
   "id": "03b24c8f",
   "metadata": {},
   "outputs": [
    {
     "data": {
      "text/plain": [
       "[1]:\n",
       "   _[1]=y*z+x*h\n",
       "   _[2]=y^2\n",
       "[2]:\n",
       "   _[1]=y^2*gen(1)-y*z*gen(2)-x*h*gen(2)\n",
       "[3]:\n",
       "   _[1]=0\n",
       "[4]:\n",
       "   _[1]=gen(1)"
      ]
     },
     "execution_count": 354,
     "metadata": {},
     "output_type": "execute_result"
    }
   ],
   "source": [
    "I = ideal(f1,f2)\n",
    "I._singular_().mres(0)"
   ]
  },
  {
   "cell_type": "code",
   "execution_count": 355,
   "id": "a9f8a46e",
   "metadata": {},
   "outputs": [
    {
     "data": {
      "text/plain": [
       "[x^2*h^2, x*y*h, y^2, y*z + x*h]"
      ]
     },
     "execution_count": 355,
     "metadata": {},
     "output_type": "execute_result"
    }
   ],
   "source": [
    "I.groebner_basis()"
   ]
  },
  {
   "cell_type": "code",
   "execution_count": 359,
   "id": "4fcabd96",
   "metadata": {},
   "outputs": [
    {
     "name": "stdout",
     "output_type": "stream",
     "text": [
      "3 \n",
      "\n",
      "0 [0] True False\n",
      "1 [0] True False\n",
      "2 [y^2, y*z + x] False True\n",
      "3 [x^3, x^2*y, x*y^2, y^3, x^2*z, x*y*z, y^2*z, y*z^2 + x*z, x^2, x*y, y^2, y*z + x] True True\n",
      "\n",
      "0 [0] True False\n",
      "1 [0] True False\n",
      "2 [y^2, y*z + x] False True\n",
      "3 [x*y^2, y^3, x*y*z + x^2, y^2*z, y*z^2 + x*z, x*y, y^2, y*z + x] False True\n",
      "4 [x^2*y^2, x*y^3, y^4, x^2*y*z + x^3, x*y^2*z, y^3*z, x*y*z^2 + x^2*z, y^2*z^2, y*z^3 + x*z^2, x^2*y, x*y^2, y^3, x*y*z, y^2*z, y*z^2 + x*z, x^2, x*y, y^2, y*z + x] True True\n"
     ]
    }
   ],
   "source": [
    "R.<x,y,z> = PolynomialRing(QQ, order = \"degrevlex\")\n",
    "f1 = y^2\n",
    "f2 = y*z + x\n",
    "test_conjecture_extra([f1,f2],R)\n",
    "J = ideal(f1,f2)"
   ]
  },
  {
   "cell_type": "code",
   "execution_count": 360,
   "id": "75ce2515",
   "metadata": {},
   "outputs": [
    {
     "data": {
      "text/plain": [
       "[x^2, x*y, y^2, y*z + x]"
      ]
     },
     "execution_count": 360,
     "metadata": {},
     "output_type": "execute_result"
    }
   ],
   "source": [
    "J.groebner_basis()"
   ]
  },
  {
   "cell_type": "code",
   "execution_count": 378,
   "id": "703db85f",
   "metadata": {},
   "outputs": [
    {
     "name": "stdout",
     "output_type": "stream",
     "text": [
      "3 \n",
      "\n",
      "0 [0] True False\n",
      "1 [0] True False\n",
      "2 [y^2 + 1, y*z + x*w] False True\n",
      "3 [x*y^2 + x, y^3 + y, x*y*z + x^2*w, y^2*z + z, y*z^2 + x*z*w, x*y*w - z, y^2*w + w, y*z*w + x*w^2, y^2 + 1, y*z + x*w] False True\n",
      "4 Polynomial Sequence with 29 Polynomials in 4 Variables True True\n",
      "\n",
      "0 [0] True False\n",
      "1 [0] True False\n",
      "2 [y^2 + 1, y*z + x*w] False True\n",
      "3 [x*y^2 + x, y^3 + y, x*y*z + x^2*w, y^2*z + z, y*z^2 + x*z*w, x*y*w - z, y^2*w + w, y*z*w + x*w^2, y^2 + 1, y*z + x*w] False True\n",
      "4 Polynomial Sequence with 29 Polynomials in 4 Variables True True\n"
     ]
    },
    {
     "data": {
      "text/plain": [
       "(3, 4, 3, 4, False)"
      ]
     },
     "execution_count": 378,
     "metadata": {},
     "output_type": "execute_result"
    }
   ],
   "source": [
    "R.<x,y,z,w> = PolynomialRing(QQ, order = \"degrevlex\")\n",
    "f1 = y^2 + 1\n",
    "f2 = y*z + x*w\n",
    "test_conjecture_extra([f1,f2],R)"
   ]
  },
  {
   "cell_type": "code",
   "execution_count": 1,
   "id": "aeaf8afb",
   "metadata": {},
   "outputs": [],
   "source": [
    "R.<x,y,z> = PolynomialRing(QQ, order = \"degrevlex\")\n",
    "I = ideal(x^2 + y^2, x*y^2, y*z)"
   ]
  },
  {
   "cell_type": "code",
   "execution_count": 4,
   "id": "09277347",
   "metadata": {},
   "outputs": [
    {
     "data": {
      "text/plain": [
       "     1     0     0     0\n",
       "     0     2     0     0\n",
       "     0     1     2     0\n",
       "     0     0     1     1"
      ]
     },
     "execution_count": 4,
     "metadata": {},
     "output_type": "execute_result"
    }
   ],
   "source": [
    "I._singular_().mres(0).betti()"
   ]
  },
  {
   "cell_type": "code",
   "execution_count": 6,
   "id": "b1413d43",
   "metadata": {},
   "outputs": [
    {
     "data": {
      "text/plain": [
       "     1     0     0     0\n",
       "     0     2     0     0\n",
       "     0     1     3     1"
      ]
     },
     "execution_count": 6,
     "metadata": {},
     "output_type": "execute_result"
    }
   ],
   "source": [
    "J = ideal(x^2, x*y^2, y*z)\n",
    "J._singular_().mres(0).betti()"
   ]
  },
  {
   "cell_type": "code",
   "execution_count": 7,
   "id": "9c955f32",
   "metadata": {},
   "outputs": [
    {
     "data": {
      "text/plain": [
       "[y^4, x*y^2, x^2 + y^2, y*z]"
      ]
     },
     "execution_count": 7,
     "metadata": {},
     "output_type": "execute_result"
    }
   ],
   "source": [
    "I.groebner_basis()"
   ]
  },
  {
   "cell_type": "code",
   "execution_count": 13,
   "id": "b48b61c9",
   "metadata": {},
   "outputs": [
    {
     "name": "stdout",
     "output_type": "stream",
     "text": [
      "3 \n",
      "\n",
      "0 [0] True False\n",
      "1 [0] True False\n",
      "2 [y^2, y*z + x] False True\n",
      "3 [x^3, x^2*y, x*y^2, y^3, x^2*z, x*y*z, y^2*z, y*z^2 + x*z, x^2, x*y, y^2, y*z + x] True True\n",
      "\n",
      "0 [0] True False\n",
      "1 [0] True False\n",
      "2 [y^2, y*z + x] False True\n",
      "3 [x*y^2, y^3, x*y*z + x^2, y^2*z, y*z^2 + x*z, x*y, y^2, y*z + x] False True\n",
      "4 [x^2*y^2, x*y^3, y^4, x^2*y*z + x^3, x*y^2*z, y^3*z, x*y*z^2 + x^2*z, y^2*z^2, y*z^3 + x*z^2, x^2*y, x*y^2, y^3, x*y*z, y^2*z, y*z^2 + x*z, x^2, x*y, y^2, y*z + x] True True\n"
     ]
    },
    {
     "data": {
      "text/plain": [
       "(2, 3, 3, 4, False)"
      ]
     },
     "execution_count": 13,
     "metadata": {},
     "output_type": "execute_result"
    }
   ],
   "source": [
    "R.<x,y,z> = PolynomialRing(QQ, order = \"degrevlex\")\n",
    "f1 = y^2\n",
    "f2 = y*z + x\n",
    "test_conjecture_extra([f1,f2],R)"
   ]
  },
  {
   "cell_type": "code",
   "execution_count": 46,
   "id": "6d3e30fe",
   "metadata": {},
   "outputs": [],
   "source": [
    "S.<x,y,z,h> = PolynomialRing(QQ, order = \"degrevlex\")\n",
    "f1 = y^2\n",
    "f2 = y*z + x*h\n",
    "Fh = ideal(f1,f2)\n",
    "M = ideal(x,y,z,h)\n",
    "T = Fh.saturation(M)[0]"
   ]
  },
  {
   "cell_type": "code",
   "execution_count": 19,
   "id": "1b2682ef",
   "metadata": {},
   "outputs": [
    {
     "data": {
      "text/plain": [
       "[x^2*h^2, x*y*h, y^2, y*z + x*h]"
      ]
     },
     "execution_count": 19,
     "metadata": {},
     "output_type": "execute_result"
    }
   ],
   "source": [
    "Fh.groebner_basis()"
   ]
  },
  {
   "cell_type": "code",
   "execution_count": 22,
   "id": "4c57a9f6",
   "metadata": {},
   "outputs": [
    {
     "data": {
      "text/plain": [
       "     1     0     0\n",
       "     0     2     0\n",
       "     0     0     1"
      ]
     },
     "execution_count": 22,
     "metadata": {},
     "output_type": "execute_result"
    }
   ],
   "source": [
    "Fh._singular_().mres(0).betti()"
   ]
  },
  {
   "cell_type": "code",
   "execution_count": 41,
   "id": "4bf21a45",
   "metadata": {},
   "outputs": [
    {
     "name": "stdout",
     "output_type": "stream",
     "text": [
      "Ideal (y, x) of Multivariate Polynomial Ring in x, y, z, h over Rational Field False\n",
      "Ideal (h, y) of Multivariate Polynomial Ring in x, y, z, h over Rational Field True\n"
     ]
    }
   ],
   "source": [
    "for P in T.associated_primes():\n",
    "    print(P, h in P)"
   ]
  },
  {
   "cell_type": "code",
   "execution_count": 42,
   "id": "b3c1e5ed",
   "metadata": {},
   "outputs": [],
   "source": [
    "T1 = T + ideal(h)"
   ]
  },
  {
   "cell_type": "code",
   "execution_count": 44,
   "id": "fd00000b",
   "metadata": {},
   "outputs": [
    {
     "data": {
      "text/plain": [
       "[Ideal (h, y) of Multivariate Polynomial Ring in x, y, z, h over Rational Field,\n",
       " Ideal (h, z, y) of Multivariate Polynomial Ring in x, y, z, h over Rational Field]"
      ]
     },
     "execution_count": 44,
     "metadata": {},
     "output_type": "execute_result"
    }
   ],
   "source": [
    "T1.associated_primes()"
   ]
  },
  {
   "cell_type": "code",
   "execution_count": 51,
   "id": "7aa05506",
   "metadata": {},
   "outputs": [
    {
     "data": {
      "text/plain": [
       "True"
      ]
     },
     "execution_count": 51,
     "metadata": {},
     "output_type": "execute_result"
    }
   ],
   "source": [
    "Fh.saturation(M)[0] == Fh"
   ]
  },
  {
   "cell_type": "code",
   "execution_count": 52,
   "id": "8cfc26a5",
   "metadata": {},
   "outputs": [
    {
     "name": "stdout",
     "output_type": "stream",
     "text": [
      "Ideal (h, y) of Multivariate Polynomial Ring in x, y, z, h over Rational Field True\n",
      "Ideal (y, x) of Multivariate Polynomial Ring in x, y, z, h over Rational Field False\n"
     ]
    }
   ],
   "source": [
    "for P in Fh.associated_primes():\n",
    "    print(P, h in P)"
   ]
  },
  {
   "cell_type": "code",
   "execution_count": 54,
   "id": "af2141a7",
   "metadata": {},
   "outputs": [
    {
     "data": {
      "text/plain": [
       "[Ideal (h^2, y*h, y*z + x*h, y^2) of Multivariate Polynomial Ring in x, y, z, h over Rational Field,\n",
       " Ideal (y*z + x*h, y^2, x*y, x^2) of Multivariate Polynomial Ring in x, y, z, h over Rational Field]"
      ]
     },
     "execution_count": 54,
     "metadata": {},
     "output_type": "execute_result"
    }
   ],
   "source": [
    "Fh.primary_decomposition()"
   ]
  },
  {
   "cell_type": "code",
   "execution_count": 59,
   "id": "7ec50166",
   "metadata": {},
   "outputs": [
    {
     "data": {
      "text/plain": [
       "False"
      ]
     },
     "execution_count": 59,
     "metadata": {},
     "output_type": "execute_result"
    }
   ],
   "source": [
    "x*y in Fh"
   ]
  },
  {
   "cell_type": "code",
   "execution_count": 61,
   "id": "43928a78",
   "metadata": {},
   "outputs": [
    {
     "data": {
      "text/plain": [
       "     1     0     0\n",
       "     0     2     0\n",
       "     0     0     1"
      ]
     },
     "execution_count": 61,
     "metadata": {},
     "output_type": "execute_result"
    }
   ],
   "source": [
    "R.<x,y,z,w,h> = PolynomialRing(QQ, order = \"degrevlex\")\n",
    "f1 = y^2 + h^2\n",
    "f2 = y*z + x*w\n",
    "Fh = ideal(f1,f2)\n",
    "Fh._singular_().mres(0).betti()"
   ]
  },
  {
   "cell_type": "code",
   "execution_count": 67,
   "id": "c61d7783",
   "metadata": {},
   "outputs": [
    {
     "name": "stdout",
     "output_type": "stream",
     "text": [
      "Ideal (y*z + x*w, y^2 + h^2, x*y*w - z*h^2, x^2*w^2 + z^2*h^2) of Multivariate Polynomial Ring in x, y, z, w, h over Rational Field False\n"
     ]
    }
   ],
   "source": [
    "T = Fh.saturation(ideal(x,y,z,w,h))[0]\n",
    "for P in T.associated_primes():\n",
    "    print(P, h in P)"
   ]
  },
  {
   "cell_type": "code",
   "execution_count": 64,
   "id": "d9fdde1a",
   "metadata": {},
   "outputs": [
    {
     "data": {
      "text/plain": [
       "3"
      ]
     },
     "execution_count": 64,
     "metadata": {},
     "output_type": "execute_result"
    }
   ],
   "source": [
    "Fh.dimension()"
   ]
  },
  {
   "cell_type": "code",
   "execution_count": 75,
   "id": "de32132e",
   "metadata": {},
   "outputs": [
    {
     "name": "stdout",
     "output_type": "stream",
     "text": [
      "Ideal (h, y, x) of Multivariate Polynomial Ring in x, y, z, w, h over Rational Field False\n",
      "Ideal (h, w, y) of Multivariate Polynomial Ring in x, y, z, w, h over Rational Field True\n"
     ]
    }
   ],
   "source": [
    "Fhw = Fh + ideal(h)\n",
    "Tw = Fhz.saturation(ideal(x,y,z,w,h))[0]\n",
    "for P in Tz.associated_primes():\n",
    "    print(P, w in P)"
   ]
  },
  {
   "cell_type": "code",
   "execution_count": 77,
   "id": "43e866e3",
   "metadata": {},
   "outputs": [
    {
     "data": {
      "text/plain": [
       "[x^2*w^2, x*y*w, y^2, y*z + x*w, h]"
      ]
     },
     "execution_count": 77,
     "metadata": {},
     "output_type": "execute_result"
    }
   ],
   "source": [
    "Fhw.groebner_basis()"
   ]
  },
  {
   "cell_type": "code",
   "execution_count": 78,
   "id": "63c2a409",
   "metadata": {},
   "outputs": [
    {
     "data": {
      "text/plain": [
       "False"
      ]
     },
     "execution_count": 78,
     "metadata": {},
     "output_type": "execute_result"
    }
   ],
   "source": [
    "w in Fhw"
   ]
  },
  {
   "cell_type": "code",
   "execution_count": 80,
   "id": "ef2891a7",
   "metadata": {},
   "outputs": [
    {
     "data": {
      "text/plain": [
       "False"
      ]
     },
     "execution_count": 80,
     "metadata": {},
     "output_type": "execute_result"
    }
   ],
   "source": [
    "x*y in Fhw"
   ]
  },
  {
   "cell_type": "code",
   "execution_count": 10,
   "id": "8c52d792",
   "metadata": {},
   "outputs": [],
   "source": [
    "R.<x,y> = PolynomialRing(QQ, order = \"degrevlex\")\n",
    "I = ideal(x^2, x*y, y^3)"
   ]
  },
  {
   "cell_type": "code",
   "execution_count": 13,
   "id": "cfc579c0",
   "metadata": {},
   "outputs": [
    {
     "data": {
      "text/plain": [
       "t^2 + 2*t + 1"
      ]
     },
     "execution_count": 13,
     "metadata": {},
     "output_type": "execute_result"
    }
   ],
   "source": [
    "I.hilbert_series()"
   ]
  },
  {
   "cell_type": "code",
   "execution_count": 19,
   "id": "879bf5c1",
   "metadata": {},
   "outputs": [
    {
     "name": "stdout",
     "output_type": "stream",
     "text": [
      "0 [0] True False\n",
      "1 [0] True False\n",
      "2 [0] True False\n",
      "3 [x^3 + y^3 + z^2] True False\n",
      "4 [x^4 + x*y^3 + x*z^2, x^3*y + y^4 + y*z^2, x^3*z + y^3*z + z^3, x^3 + y^3 + z^2] True False\n",
      "5 [x^5 + y^5 + z^5, x^4*y + x*y^4 + x*y*z^2, x^3*y^2 + y^5 + y^2*z^2, x^2*y^3 - y^5 - z^5 + x^2*z^2, x^4*z + x*y^3*z + x*z^3, x^3*y*z + y^4*z + y*z^3, x^3*z^2 + y^3*z^2 + z^4, x^4 + x*y^3 + x*z^2, x^3*y + y^4 + y*z^2, x^3*z + y^3*z + z^3, x^3 + y^3 + z^2] False False\n",
      "6 Polynomial Sequence with 24 Polynomials in 3 Variables False False\n",
      "7 Polynomial Sequence with 48 Polynomials in 3 Variables False True\n",
      "8 Polynomial Sequence with 153 Polynomials in 3 Variables True True\n"
     ]
    },
    {
     "data": {
      "text/plain": [
       "(8, Polynomial Sequence with 153 Polynomials in 3 Variables)"
      ]
     },
     "execution_count": 19,
     "metadata": {},
     "output_type": "execute_result"
    }
   ],
   "source": [
    "R.<x,y,z> = PolynomialRing(GF(7), order=\"degrevlex\")\n",
    "f_list = [x^5 + y^5 + z^5, x^3 + y^3 + z^2, x^7 - x, y^7 - y, z^7 - z]\n",
    "I = ideal(f_list)\n",
    "sdeg(f_list,R)"
   ]
  },
  {
   "cell_type": "code",
   "execution_count": 21,
   "id": "bf50ab04",
   "metadata": {},
   "outputs": [
    {
     "name": "stdout",
     "output_type": "stream",
     "text": [
      "13\n",
      "0 [0] True False\n",
      "1 [0] True False\n",
      "2 [0] True False\n",
      "3 [x^3 + y^3 + z^2] True False\n",
      "4 [x^4 + x*y^3 + x*z^2, x^3*y + y^4 + y*z^2, x^3*z + y^3*z + z^3, x^3 + y^3 + z^2] True False\n",
      "5 [x^5 + y^5 + z^5, x^4*y + x*y^4 + x*y*z^2, x^3*y^2 + y^5 + y^2*z^2, x^2*y^3 - y^5 - z^5 + x^2*z^2, x^4*z + x*y^3*z + x*z^3, x^3*y*z + y^4*z + y*z^3, x^3*z^2 + y^3*z^2 + z^4, x^4 + x*y^3 + x*z^2, x^3*y + y^4 + y*z^2, x^3*z + y^3*z + z^3, x^3 + y^3 + z^2] False False\n",
      "6 Polynomial Sequence with 24 Polynomials in 3 Variables False False\n",
      "7 Polynomial Sequence with 48 Polynomials in 3 Variables False True\n",
      "8 Polynomial Sequence with 153 Polynomials in 3 Variables True True\n"
     ]
    },
    {
     "data": {
      "text/plain": [
       "(8, 13, True)"
      ]
     },
     "execution_count": 21,
     "metadata": {},
     "output_type": "execute_result"
    }
   ],
   "source": [
    "test_conjecture(f_list, R)"
   ]
  },
  {
   "cell_type": "code",
   "execution_count": 22,
   "id": "8966a5f6",
   "metadata": {},
   "outputs": [
    {
     "name": "stdout",
     "output_type": "stream",
     "text": [
      "13 \n",
      "\n",
      "0 [0] True False\n",
      "1 [0] True False\n",
      "2 [0] True False\n",
      "3 [x^3 + y^3 + z^2] True False\n",
      "4 [x^4 + x*y^3 + x*z^2, x^3*y + y^4 + y*z^2, x^3*z + y^3*z + z^3, x^3 + y^3 + z^2] True False\n",
      "5 [x^5 + y^5 + z^5, x^4*y + x*y^4 + x*y*z^2, x^3*y^2 + y^5 + y^2*z^2, x^2*y^3 - y^5 - z^5 + x^2*z^2, x^4*z + x*y^3*z + x*z^3, x^3*y*z + y^4*z + y*z^3, x^3*z^2 + y^3*z^2 + z^4, x^4 + x*y^3 + x*z^2, x^3*y + y^4 + y*z^2, x^3*z + y^3*z + z^3, x^3 + y^3 + z^2] False False\n",
      "6 Polynomial Sequence with 24 Polynomials in 3 Variables False False\n",
      "7 Polynomial Sequence with 48 Polynomials in 3 Variables False True\n",
      "8 Polynomial Sequence with 153 Polynomials in 3 Variables True True\n",
      "\n",
      "0 [0] True False\n",
      "1 [0] True False\n",
      "2 [0] True False\n",
      "3 [x^3 + y^3 + z^2] True False\n",
      "4 [x^4 + x*y^3 + x*z^2, x^3*y + y^4 + y*z^2, x^3*z + y^3*z + z^3, x^3 + y^3 + z^2] True False\n",
      "5 [x^5 + y^5 + z^5, x^4*y + x*y^4 + x*y*z^2, x^3*y^2 + y^5 + y^2*z^2, x^2*y^3 - y^5 - z^5 + x^2*z^2, x^4*z + x*y^3*z + x*z^3, x^3*y*z + y^4*z + y*z^3, x^3*z^2 + y^3*z^2 + z^4, x^4 + x*y^3 + x*z^2, x^3*y + y^4 + y*z^2, x^3*z + y^3*z + z^3, x^3 + y^3 + z^2] False False\n",
      "6 Polynomial Sequence with 24 Polynomials in 3 Variables False False\n",
      "7 Polynomial Sequence with 48 Polynomials in 3 Variables False True\n",
      "8 Polynomial Sequence with 87 Polynomials in 3 Variables False True\n",
      "9 Polynomial Sequence with 145 Polynomials in 3 Variables False True\n",
      "10 Polynomial Sequence with 223 Polynomials in 3 Variables False True\n",
      "11 Polynomial Sequence with 322 Polynomials in 3 Variables False True\n",
      "12 Polynomial Sequence with 438 Polynomials in 3 Variables False True\n",
      "13 Polynomial Sequence with 548 Polynomials in 3 Variables True True\n"
     ]
    },
    {
     "data": {
      "text/plain": [
       "(1, 8, 13, 13, True)"
      ]
     },
     "execution_count": 22,
     "metadata": {},
     "output_type": "execute_result"
    }
   ],
   "source": [
    "test_conjecture_extra(f_list, R)"
   ]
  },
  {
   "cell_type": "code",
   "execution_count": 26,
   "id": "89531c01",
   "metadata": {},
   "outputs": [
    {
     "data": {
      "text/plain": [
       "Ideal (y^7, y^2*z, z^3, x^2, x*y, x*z) of Multivariate Polynomial Ring in x, y, z over Finite Field of size 7"
      ]
     },
     "execution_count": 26,
     "metadata": {},
     "output_type": "execute_result"
    }
   ],
   "source": [
    "intl(I,R)"
   ]
  },
  {
   "cell_type": "code",
   "execution_count": 29,
   "id": "80913f3d",
   "metadata": {},
   "outputs": [],
   "source": [
    "J = ideal(x^2, x*y, y^3, x*z, y^2*z, y*z^3, z^7)"
   ]
  },
  {
   "cell_type": "code",
   "execution_count": 28,
   "id": "e06c5357",
   "metadata": {},
   "outputs": [
    {
     "data": {
      "text/plain": [
       "False"
      ]
     },
     "execution_count": 28,
     "metadata": {},
     "output_type": "execute_result"
    }
   ],
   "source": []
  },
  {
   "cell_type": "code",
   "execution_count": 30,
   "id": "ecaf745d",
   "metadata": {},
   "outputs": [],
   "source": [
    "# From Minko's thesis\n",
    "R.<x,y,z> = PolynomialRing(GF(7), order = 'degrevlex')\n",
    "f1 = x^5 + y^5 + z^5 - 1\n",
    "f2 = x^3 + y^3 + z^2 - 1\n",
    "f3 = y^6 - 1\n",
    "f4 = z^6 - 1\n",
    "f_list = [f1*f1*f1, f1*f1*f2, f1*f1*f3, f1*f1*f4, f1*f2*f2, f1*f2*f3, f1*f2*f4, f1*f3*f3, f1*f3*f4, f1*f4*f4, f2*f2*f2, f2*f2*f3, f2*f2*f4, f2*f3*f3, f2*f3*f4, f2*f4*f4, f3*f3*f3, f3*f3*f4, f3*f4*f4, f4*f4*f4, x^7 - x, y^7 - y, z^7 - z]\n",
    "I = ideal(f_list)"
   ]
  },
  {
   "cell_type": "code",
   "execution_count": 31,
   "id": "557669f1",
   "metadata": {},
   "outputs": [
    {
     "data": {
      "text/plain": [
       "Ideal (y^6, y^2*z, x^2, x*y, z^2) of Multivariate Polynomial Ring in x, y, z over Finite Field of size 7"
      ]
     },
     "execution_count": 31,
     "metadata": {},
     "output_type": "execute_result"
    }
   ],
   "source": [
    "intl(I,R)"
   ]
  },
  {
   "cell_type": "code",
   "execution_count": 32,
   "id": "3d19fba9",
   "metadata": {},
   "outputs": [
    {
     "data": {
      "text/plain": [
       "[x^15 + 3*x^10*y^5 + 3*x^5*y^10 + y^15 + 3*x^10*z^5 - x^5*y^5*z^5 + 3*y^10*z^5 + 3*x^5*z^10 + 3*y^5*z^10 + z^15 - 3*x^10 + x^5*y^5 - 3*y^10 + x^5*z^5 + y^5*z^5 - 3*z^10 + 3*x^5 + 3*y^5 + 3*z^5 - 1,\n",
       " x^13 + x^10*y^3 + 2*x^8*y^5 + 2*x^5*y^8 + x^3*y^10 + y^13 + 2*x^8*z^5 + 2*x^5*y^3*z^5 + 2*x^3*y^5*z^5 + 2*y^8*z^5 + x^3*z^10 + y^3*z^10 + x^10*z^2 + 2*x^5*y^5*z^2 + y^10*z^2 + 2*x^5*z^7 + 2*y^5*z^7 + z^12 - x^10 - 2*x^5*y^5 - y^10 - 2*x^5*z^5 - 2*y^5*z^5 - z^10 - 2*x^8 - 2*x^5*y^3 - 2*x^3*y^5 - 2*y^8 - 2*x^3*z^5 - 2*y^3*z^5 - 2*x^5*z^2 - 2*y^5*z^2 - 2*z^7 + 2*x^5 + 2*y^5 + 2*z^5 + x^3 + y^3 + z^2 - 1,\n",
       " x^10*y^6 + 2*x^5*y^11 + y^16 + 2*x^5*y^6*z^5 + 2*y^11*z^5 + y^6*z^10 - 2*x^5*y^6 - 2*y^11 - 2*y^6*z^5 - x^10 - 2*x^5*y^5 - y^10 - 2*x^5*z^5 - 2*y^5*z^5 - z^10 + y^6 + 2*x^5 + 2*y^5 + 2*z^5 - 1,\n",
       " x^10*z^6 + 2*x^5*y^5*z^6 + y^10*z^6 + 2*x^5*z^11 + 2*y^5*z^11 + z^16 - 2*x^5*z^6 - 2*y^5*z^6 - 2*z^11 - x^10 - 2*x^5*y^5 - y^10 - 2*x^5*z^5 - 2*y^5*z^5 - z^10 + z^6 + 2*x^5 + 2*y^5 + 2*z^5 - 1,\n",
       " x^11 + 2*x^8*y^3 + x^6*y^5 + x^5*y^6 + 2*x^3*y^8 + y^11 + x^6*z^5 + 2*x^3*y^3*z^5 + y^6*z^5 + 2*x^8*z^2 + 2*x^5*y^3*z^2 + 2*x^3*y^5*z^2 + 2*y^8*z^2 + 2*x^3*z^7 + 2*y^3*z^7 + x^5*z^4 + y^5*z^4 + z^9 - 2*x^8 - 2*x^5*y^3 - 2*x^3*y^5 - 2*y^8 - 2*x^3*z^5 - 2*y^3*z^5 - 2*x^5*z^2 - 2*y^5*z^2 - 2*z^7 - x^6 - 2*x^3*y^3 - y^6 + x^5 + y^5 - 2*x^3*z^2 - 2*y^3*z^2 + z^5 - z^4 + 2*x^3 + 2*y^3 + 2*z^2 - 1,\n",
       " x^8*y^6 + x^5*y^9 + x^3*y^11 + y^14 + x^3*y^6*z^5 + y^9*z^5 + x^5*y^6*z^2 + y^11*z^2 + y^6*z^7 - x^5*y^6 - y^11 - y^6*z^5 - x^3*y^6 - y^9 - x^8 - x^5*y^3 - x^3*y^5 - y^8 - y^6*z^2 - x^3*z^5 - y^3*z^5 - x^5*z^2 - y^5*z^2 - z^7 + y^6 + x^5 + y^5 + z^5 + x^3 + y^3 + z^2 - 1,\n",
       " x^8*z^6 + x^5*y^3*z^6 + x^3*y^5*z^6 + y^8*z^6 + x^3*z^11 + y^3*z^11 + x^5*z^8 + y^5*z^8 + z^13 - x^5*z^6 - y^5*z^6 - z^11 - x^3*z^6 - y^3*z^6 - x^8 - x^5*y^3 - x^3*y^5 - y^8 - x^3*z^5 - y^3*z^5 - z^8 - x^5*z^2 - y^5*z^2 - z^7 + z^6 + x^5 + y^5 + z^5 + x^3 + y^3 + z^2 - 1,\n",
       " x^5*y^12 + y^17 + y^12*z^5 - y^12 - 2*x^5*y^6 - 2*y^11 - 2*y^6*z^5 + 2*y^6 + x^5 + y^5 + z^5 - 1,\n",
       " x^5*y^6*z^6 + y^11*z^6 + y^6*z^11 - y^6*z^6 - x^5*y^6 - y^11 - y^6*z^5 - x^5*z^6 - y^5*z^6 - z^11 + y^6 + z^6 + x^5 + y^5 + z^5 - 1,\n",
       " x^5*z^12 + y^5*z^12 + z^17 - z^12 - 2*x^5*z^6 - 2*y^5*z^6 - 2*z^11 + 2*z^6 + x^5 + y^5 + z^5 - 1,\n",
       " x^9 + 3*x^6*y^3 + 3*x^3*y^6 + y^9 + 3*x^6*z^2 - x^3*y^3*z^2 + 3*y^6*z^2 + 3*x^3*z^4 + 3*y^3*z^4 - 3*x^6 + x^3*y^3 - 3*y^6 + z^6 + x^3*z^2 + y^3*z^2 - 3*z^4 + 3*x^3 + 3*y^3 + 3*z^2 - 1,\n",
       " x^6*y^6 + 2*x^3*y^9 + y^12 + 2*x^3*y^6*z^2 + 2*y^9*z^2 + y^6*z^4 - 2*x^3*y^6 - 2*y^9 - 2*y^6*z^2 - x^6 - 2*x^3*y^3 - 2*x^3*z^2 - 2*y^3*z^2 - z^4 + 2*x^3 + 2*y^3 + 2*z^2 - 1,\n",
       " x^6*z^6 + 2*x^3*y^3*z^6 + y^6*z^6 + 2*x^3*z^8 + 2*y^3*z^8 + z^10 - 2*x^3*z^6 - 2*y^3*z^6 - 2*z^8 - x^6 - 2*x^3*y^3 - y^6 + z^6 - 2*x^3*z^2 - 2*y^3*z^2 - z^4 + 2*x^3 + 2*y^3 + 2*z^2 - 1,\n",
       " x^3*y^12 + y^15 + y^12*z^2 - y^12 - 2*x^3*y^6 - 2*y^9 - 2*y^6*z^2 + 2*y^6 + x^3 + y^3 + z^2 - 1,\n",
       " x^3*y^6*z^6 + y^9*z^6 + y^6*z^8 - y^6*z^6 - x^3*y^6 - y^9 - x^3*z^6 - y^3*z^6 - y^6*z^2 - z^8 + y^6 + z^6 + x^3 + y^3 + z^2 - 1,\n",
       " x^3*z^12 + y^3*z^12 + z^14 - z^12 - 2*x^3*z^6 - 2*y^3*z^6 - 2*z^8 + 2*z^6 + x^3 + y^3 + z^2 - 1,\n",
       " y^18 - 3*y^12 + 3*y^6 - 1,\n",
       " y^12*z^6 - y^12 - 2*y^6*z^6 + 2*y^6 + z^6 - 1,\n",
       " y^6*z^12 - 2*y^6*z^6 - z^12 + y^6 + 2*z^6 - 1,\n",
       " z^18 - 3*z^12 + 3*z^6 - 1,\n",
       " x^7 - x,\n",
       " y^7 - y,\n",
       " z^7 - z]"
      ]
     },
     "execution_count": 32,
     "metadata": {},
     "output_type": "execute_result"
    }
   ],
   "source": [
    "f_list"
   ]
  },
  {
   "cell_type": "code",
   "execution_count": 50,
   "id": "427aadc6",
   "metadata": {},
   "outputs": [
    {
     "data": {
      "text/plain": [
       "False"
      ]
     },
     "execution_count": 50,
     "metadata": {},
     "output_type": "execute_result"
    }
   ],
   "source": [
    "R.<x,y> = PolynomialRing(QQ, order = \"degrevlex\")\n",
    "I = ideal(x^5, y^3)\n",
    "is_generic(I, R)\n",
    "x*y^2 in I"
   ]
  },
  {
   "cell_type": "code",
   "execution_count": 48,
   "id": "1c94d629",
   "metadata": {},
   "outputs": [
    {
     "data": {
      "text/plain": [
       "0"
      ]
     },
     "execution_count": 48,
     "metadata": {},
     "output_type": "execute_result"
    }
   ],
   "source": [
    "I.dimension()"
   ]
  },
  {
   "cell_type": "code",
   "execution_count": 49,
   "id": "78f28463",
   "metadata": {},
   "outputs": [
    {
     "ename": "ValueError",
     "evalue": "Rings do not match up.",
     "output_type": "error",
     "traceback": [
      "\u001b[0;31m---------------------------------------------------------------------------\u001b[0m",
      "\u001b[0;31mValueError\u001b[0m                                Traceback (most recent call last)",
      "\u001b[0;32m/var/folders/zf/986s30f52c3fssnjtqpb80w00000gn/T/ipykernel_39060/1614007048.py\u001b[0m in \u001b[0;36m<module>\u001b[0;34m\u001b[0m\n\u001b[0;32m----> 1\u001b[0;31m \u001b[0mI\u001b[0m\u001b[0;34m.\u001b[0m\u001b[0msaturation\u001b[0m\u001b[0;34m(\u001b[0m\u001b[0mideal\u001b[0m\u001b[0;34m(\u001b[0m\u001b[0mx\u001b[0m\u001b[0;34m,\u001b[0m\u001b[0my\u001b[0m\u001b[0;34m,\u001b[0m\u001b[0mz\u001b[0m\u001b[0;34m)\u001b[0m\u001b[0;34m)\u001b[0m\u001b[0;34m\u001b[0m\u001b[0;34m\u001b[0m\u001b[0m\n\u001b[0m",
      "\u001b[0;32m/private/var/tmp/sage-9.6-current/local/var/lib/sage/venv-python3.10.3/lib/python3.10/site-packages/sage/rings/qqbar_decorators.py\u001b[0m in \u001b[0;36mwrapper\u001b[0;34m(*args, **kwds)\u001b[0m\n\u001b[1;32m     94\u001b[0m                    \u001b[0;32mor\u001b[0m \u001b[0mis_PolynomialSequence\u001b[0m\u001b[0;34m(\u001b[0m\u001b[0ma\u001b[0m\u001b[0;34m)\u001b[0m\u001b[0;34m\u001b[0m\u001b[0;34m\u001b[0m\u001b[0m\n\u001b[1;32m     95\u001b[0m                    and isinstance(a.ring().base_ring(), AlgebraicField_common) for a in args):\n\u001b[0;32m---> 96\u001b[0;31m             \u001b[0;32mreturn\u001b[0m \u001b[0mfunc\u001b[0m\u001b[0;34m(\u001b[0m\u001b[0;34m*\u001b[0m\u001b[0margs\u001b[0m\u001b[0;34m,\u001b[0m \u001b[0;34m**\u001b[0m\u001b[0mkwds\u001b[0m\u001b[0;34m)\u001b[0m\u001b[0;34m\u001b[0m\u001b[0;34m\u001b[0m\u001b[0m\n\u001b[0m\u001b[1;32m     97\u001b[0m \u001b[0;34m\u001b[0m\u001b[0m\n\u001b[1;32m     98\u001b[0m         \u001b[0mpolynomials\u001b[0m \u001b[0;34m=\u001b[0m \u001b[0;34m[\u001b[0m\u001b[0;34m]\u001b[0m\u001b[0;34m\u001b[0m\u001b[0;34m\u001b[0m\u001b[0m\n",
      "\u001b[0;32m/private/var/tmp/sage-9.6-current/local/var/lib/sage/venv-python3.10.3/lib/python3.10/site-packages/sage/rings/polynomial/multi_polynomial_ideal.py\u001b[0m in \u001b[0;36msaturation\u001b[0;34m(self, other)\u001b[0m\n\u001b[1;32m   2280\u001b[0m         \u001b[0msat\u001b[0m \u001b[0;34m=\u001b[0m \u001b[0mff\u001b[0m\u001b[0;34m.\u001b[0m\u001b[0melim__lib\u001b[0m\u001b[0;34m.\u001b[0m\u001b[0msat\u001b[0m\u001b[0;34m\u001b[0m\u001b[0;34m\u001b[0m\u001b[0m\n\u001b[1;32m   2281\u001b[0m         \u001b[0mR\u001b[0m \u001b[0;34m=\u001b[0m \u001b[0mself\u001b[0m\u001b[0;34m.\u001b[0m\u001b[0mring\u001b[0m\u001b[0;34m(\u001b[0m\u001b[0;34m)\u001b[0m\u001b[0;34m\u001b[0m\u001b[0;34m\u001b[0m\u001b[0m\n\u001b[0;32m-> 2282\u001b[0;31m         \u001b[0mideal\u001b[0m\u001b[0;34m,\u001b[0m \u001b[0mexpo\u001b[0m \u001b[0;34m=\u001b[0m \u001b[0msat\u001b[0m\u001b[0;34m(\u001b[0m\u001b[0mself\u001b[0m\u001b[0;34m,\u001b[0m \u001b[0mother\u001b[0m\u001b[0;34m)\u001b[0m\u001b[0;34m\u001b[0m\u001b[0;34m\u001b[0m\u001b[0m\n\u001b[0m\u001b[1;32m   2283\u001b[0m         \u001b[0;32mreturn\u001b[0m \u001b[0;34m(\u001b[0m\u001b[0mR\u001b[0m\u001b[0;34m.\u001b[0m\u001b[0mideal\u001b[0m\u001b[0;34m(\u001b[0m\u001b[0mideal\u001b[0m\u001b[0;34m)\u001b[0m\u001b[0;34m,\u001b[0m \u001b[0mZZ\u001b[0m\u001b[0;34m(\u001b[0m\u001b[0mexpo\u001b[0m\u001b[0;34m)\u001b[0m\u001b[0;34m)\u001b[0m\u001b[0;34m\u001b[0m\u001b[0;34m\u001b[0m\u001b[0m\n\u001b[1;32m   2284\u001b[0m \u001b[0;34m\u001b[0m\u001b[0m\n",
      "\u001b[0;32m/private/var/tmp/sage-9.6-current/local/var/lib/sage/venv-python3.10.3/lib/python3.10/site-packages/sage/libs/singular/function.pyx\u001b[0m in \u001b[0;36msage.libs.singular.function.SingularFunction.__call__ (build/cythonized/sage/libs/singular/function.cpp:15118)\u001b[0;34m()\u001b[0m\n\u001b[1;32m   1323\u001b[0m \u001b[0;34m\u001b[0m\u001b[0m\n\u001b[1;32m   1324\u001b[0m         \u001b[0;32mif\u001b[0m \u001b[0mring\u001b[0m \u001b[0;32mis\u001b[0m \u001b[0;32mNone\u001b[0m\u001b[0;34m:\u001b[0m\u001b[0;34m\u001b[0m\u001b[0;34m\u001b[0m\u001b[0m\n\u001b[0;32m-> 1325\u001b[0;31m             \u001b[0mring\u001b[0m \u001b[0;34m=\u001b[0m \u001b[0mself\u001b[0m\u001b[0;34m.\u001b[0m\u001b[0mcommon_ring\u001b[0m\u001b[0;34m(\u001b[0m\u001b[0margs\u001b[0m\u001b[0;34m,\u001b[0m \u001b[0mring\u001b[0m\u001b[0;34m)\u001b[0m\u001b[0;34m\u001b[0m\u001b[0;34m\u001b[0m\u001b[0m\n\u001b[0m\u001b[1;32m   1326\u001b[0m             \u001b[0;32mif\u001b[0m \u001b[0mring\u001b[0m \u001b[0;32mis\u001b[0m \u001b[0;32mNone\u001b[0m\u001b[0;34m:\u001b[0m\u001b[0;34m\u001b[0m\u001b[0;34m\u001b[0m\u001b[0m\n\u001b[1;32m   1327\u001b[0m                 \u001b[0;32mif\u001b[0m \u001b[0mdummy_ring\u001b[0m \u001b[0;32mis\u001b[0m \u001b[0;32mNone\u001b[0m\u001b[0;34m:\u001b[0m\u001b[0;34m\u001b[0m\u001b[0;34m\u001b[0m\u001b[0m\n",
      "\u001b[0;32m/private/var/tmp/sage-9.6-current/local/var/lib/sage/venv-python3.10.3/lib/python3.10/site-packages/sage/libs/singular/function.pyx\u001b[0m in \u001b[0;36msage.libs.singular.function.SingularFunction.common_ring (build/cythonized/sage/libs/singular/function.cpp:16443)\u001b[0;34m()\u001b[0m\n\u001b[1;32m   1445\u001b[0m                 \u001b[0mring\u001b[0m \u001b[0;34m=\u001b[0m \u001b[0mring2\u001b[0m\u001b[0;34m\u001b[0m\u001b[0;34m\u001b[0m\u001b[0m\n\u001b[1;32m   1446\u001b[0m             \u001b[0;32melif\u001b[0m \u001b[0mring\u001b[0m \u001b[0;32mis\u001b[0m \u001b[0;32mnot\u001b[0m \u001b[0mring2\u001b[0m\u001b[0;34m:\u001b[0m\u001b[0;34m\u001b[0m\u001b[0;34m\u001b[0m\u001b[0m\n\u001b[0;32m-> 1447\u001b[0;31m                 \u001b[0;32mraise\u001b[0m \u001b[0mValueError\u001b[0m\u001b[0;34m(\u001b[0m\u001b[0;34m\"Rings do not match up.\"\u001b[0m\u001b[0;34m)\u001b[0m\u001b[0;34m\u001b[0m\u001b[0;34m\u001b[0m\u001b[0m\n\u001b[0m\u001b[1;32m   1448\u001b[0m         \u001b[0;32mreturn\u001b[0m \u001b[0mring\u001b[0m\u001b[0;34m\u001b[0m\u001b[0;34m\u001b[0m\u001b[0m\n\u001b[1;32m   1449\u001b[0m \u001b[0;34m\u001b[0m\u001b[0m\n",
      "\u001b[0;31mValueError\u001b[0m: Rings do not match up."
     ]
    }
   ],
   "source": [
    "I.saturation(ideal(x,y,z))"
   ]
  },
  {
   "cell_type": "code",
   "execution_count": null,
   "id": "c8aa5b2f",
   "metadata": {},
   "outputs": [],
   "source": []
  }
 ],
 "metadata": {
  "kernelspec": {
   "display_name": "SageMath 9.6",
   "language": "sage",
   "name": "sagemath-9.6"
  },
  "language_info": {
   "codemirror_mode": {
    "name": "ipython",
    "version": 3
   },
   "file_extension": ".py",
   "mimetype": "text/x-python",
   "name": "python",
   "nbconvert_exporter": "python",
   "pygments_lexer": "ipython3",
   "version": "3.10.3"
  }
 },
 "nbformat": 4,
 "nbformat_minor": 5
}
