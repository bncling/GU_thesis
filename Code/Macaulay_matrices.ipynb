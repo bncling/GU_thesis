{
 "cells": [
  {
   "cell_type": "code",
   "execution_count": 1,
   "metadata": {},
   "outputs": [
    {
     "data": {
      "text/plain": [
       "[x^2 + 1, y + 1]"
      ]
     },
     "execution_count": 1,
     "metadata": {},
     "output_type": "execute_result"
    }
   ],
   "source": [
    "R.<x,y> = PolynomialRing(QQ, order = 'degrevlex')\n",
    "f1 = y + 1\n",
    "f2 = x^2 - y\n",
    "f3 = x*y^2 - x\n",
    "I = Ideal(f1,f2,f3)\n",
    "G = I.groebner_basis()\n",
    "G"
   ]
  },
  {
   "cell_type": "code",
   "execution_count": 2,
   "metadata": {
    "scrolled": true
   },
   "outputs": [
    {
     "data": {
      "text/plain": [
       "[ 0  0  0  0  0  0  0  0  1  1]\n",
       "[ 0  0  0  0  0  1  0  1  0  0]\n",
       "[ 0  0  0  0  0  0  1  0  1  0]\n",
       "[ 0  0  0  0  1  0  0  0 -1  0]\n",
       "[ 0  1  0  0  1  0  0  0  0  0]\n",
       "[ 0  0  1  0  0  1  0  0  0  0]\n",
       "[ 0  0  0  1  0  0  1  0  0  0]\n",
       "[ 1  0  0  0  0 -1  0  0  0  0]\n",
       "[ 0  1  0  0  0  0 -1  0  0  0]\n",
       "[ 0  0  1  0  0  0  0 -1  0  0]"
      ]
     },
     "execution_count": 2,
     "metadata": {},
     "output_type": "execute_result"
    }
   ],
   "source": [
    "Ml3 = matrix([\n",
    "    [0,0,0,0,0,0,0,0,1,1],\n",
    "    [0,0,0,0,0,1,0,1,0,0],\n",
    "    [0,0,0,0,0,0,1,0,1,0],\n",
    "    [0,0,0,0,1,0,0,0,-1,0],\n",
    "    [0,1,0,0,1,0,0,0,0,0],\n",
    "    [0,0,1,0,0,1,0,0,0,0],\n",
    "    [0,0,0,1,0,0,1,0,0,0],\n",
    "    [1,0,0,0,0,-1,0,0,0,0],\n",
    "    [0,1,0,0,0,0,-1,0,0,0],\n",
    "    [0,0,1,0,0,0,0,-1,0,0]\n",
    "])\n",
    "Ml3"
   ]
  },
  {
   "cell_type": "code",
   "execution_count": 3,
   "metadata": {},
   "outputs": [
    {
     "data": {
      "text/plain": [
       "[ 1  0  0  0  0  1]\n",
       "[ 0  1  0  1  0  0]\n",
       "[ 0  0  1  0  0 -1]\n",
       "[ 0  0  0  0  1  1]"
      ]
     },
     "execution_count": 3,
     "metadata": {},
     "output_type": "execute_result"
    }
   ],
   "source": [
    "Ml2 = matrix([\n",
    "    [0,0,0,0,1,1],\n",
    "    [0,1,0,1,0,0],\n",
    "    [0,0,1,0,1,0],\n",
    "    [1,0,0,0,-1,0]\n",
    "])\n",
    "Ml2.rref()"
   ]
  },
  {
   "cell_type": "code",
   "execution_count": 4,
   "metadata": {},
   "outputs": [],
   "source": [
    "# Compute the Macaulay matrix M_{\\leq d} given a system f = [f1,...,fs] and a degree d\n",
    "\n",
    "def mac_matrix(f,d,ring):\n",
    "    mons0 = monomials(list(ring.gens()), [d+1 for i in range(len(ring.gens()))])\n",
    "    mons = []\n",
    "    for mon in mons0:\n",
    "        if mon.degree() <= d:\n",
    "            mons.append(mon)\n",
    "    mons.sort()\n",
    "    mons.reverse() # for reasons I don't understand, the .sort() method respects the chosen order but reverses it\n",
    "    col_labs = []\n",
    "    for deg in range(d + 1):\n",
    "        segment = []\n",
    "        for poly in f:\n",
    "            for mon in mons:\n",
    "                label = ring(mon)*ring(poly)\n",
    "                if label.degree() == deg:\n",
    "                    segment.append(label)\n",
    "        col_labs += segment\n",
    "    return matrix([[label.monomial_coefficient(mon) for mon in mons] for label in col_labs])\n",
    "    \n",
    "    "
   ]
  },
  {
   "cell_type": "code",
   "execution_count": 5,
   "metadata": {},
   "outputs": [
    {
     "name": "stdout",
     "output_type": "stream",
     "text": [
      "[]\n",
      "[0 1 1]\n",
      "[ 1  0  0  0  0  1]\n",
      "[ 0  1  0  1  0  0]\n",
      "[ 0  0  1  0  0 -1]\n",
      "[ 0  0  0  0  1  1]\n",
      "[ 1  0  0  0  0  0  0  1  0  0]\n",
      "[ 0  1  0  0  0  0  0  0  0 -1]\n",
      "[ 0  0  1  0  0  0  0 -1  0  0]\n",
      "[ 0  0  0  1  0  0  0  0  0  1]\n",
      "[ 0  0  0  0  1  0  0  0  0  1]\n",
      "[ 0  0  0  0  0  1  0  1  0  0]\n",
      "[ 0  0  0  0  0  0  1  0  0 -1]\n",
      "[ 0  0  0  0  0  0  0  0  1  1]\n",
      "[ 0  0  0  0  0  0  0  0  0  0]\n",
      "[ 0  0  0  0  0  0  0  0  0  0]\n",
      "[ 1  0  0  0  0  0  0  0  0  0  0  0  0  0 -1]\n",
      "[ 0  1  0  0  0  0  0  0  0  0  0  0 -1  0  0]\n",
      "[ 0  0  1  0  0  0  0  0  0  0  0  0  0  0  1]\n",
      "[ 0  0  0  1  0  0  0  0  0  0  0  0  1  0  0]\n",
      "[ 0  0  0  0  1  0  0  0  0  0  0  0  0  0 -1]\n",
      "[ 0  0  0  0  0  1  0  0  0  0  0  0  1  0  0]\n",
      "[ 0  0  0  0  0  0  1  0  0  0  0  0  0  0 -1]\n",
      "[ 0  0  0  0  0  0  0  1  0  0  0  0 -1  0  0]\n",
      "[ 0  0  0  0  0  0  0  0  1  0  0  0  0  0  1]\n",
      "[ 0  0  0  0  0  0  0  0  0  1  0  0  0  0  1]\n",
      "[ 0  0  0  0  0  0  0  0  0  0  1  0  1  0  0]\n",
      "[ 0  0  0  0  0  0  0  0  0  0  0  1  0  0 -1]\n",
      "[ 0  0  0  0  0  0  0  0  0  0  0  0  0  1  1]\n",
      "[ 0  0  0  0  0  0  0  0  0  0  0  0  0  0  0]\n",
      "[ 0  0  0  0  0  0  0  0  0  0  0  0  0  0  0]\n",
      "[ 0  0  0  0  0  0  0  0  0  0  0  0  0  0  0]\n",
      "[ 0  0  0  0  0  0  0  0  0  0  0  0  0  0  0]\n",
      "[ 0  0  0  0  0  0  0  0  0  0  0  0  0  0  0]\n",
      "[ 0  0  0  0  0  0  0  0  0  0  0  0  0  0  0]\n",
      "[ 1  0  0  0  0  0  0  0  0  0  0  0  0  0  0  0  0  0 -1  0  0]\n",
      "[ 0  1  0  0  0  0  0  0  0  0  0  0  0  0  0  0  0  0  0  0  1]\n",
      "[ 0  0  1  0  0  0  0  0  0  0  0  0  0  0  0  0  0  0  1  0  0]\n",
      "[ 0  0  0  1  0  0  0  0  0  0  0  0  0  0  0  0  0  0  0  0 -1]\n",
      "[ 0  0  0  0  1  0  0  0  0  0  0  0  0  0  0  0  0  0 -1  0  0]\n",
      "[ 0  0  0  0  0  1  0  0  0  0  0  0  0  0  0  0  0  0  0  0  1]\n",
      "[ 0  0  0  0  0  0  1  0  0  0  0  0  0  0  0  0  0  0  0  0 -1]\n",
      "[ 0  0  0  0  0  0  0  1  0  0  0  0  0  0  0  0  0  0 -1  0  0]\n",
      "[ 0  0  0  0  0  0  0  0  1  0  0  0  0  0  0  0  0  0  0  0  1]\n",
      "[ 0  0  0  0  0  0  0  0  0  1  0  0  0  0  0  0  0  0  1  0  0]\n",
      "[ 0  0  0  0  0  0  0  0  0  0  1  0  0  0  0  0  0  0  0  0 -1]\n",
      "[ 0  0  0  0  0  0  0  0  0  0  0  1  0  0  0  0  0  0  1  0  0]\n",
      "[ 0  0  0  0  0  0  0  0  0  0  0  0  1  0  0  0  0  0  0  0 -1]\n",
      "[ 0  0  0  0  0  0  0  0  0  0  0  0  0  1  0  0  0  0 -1  0  0]\n",
      "[ 0  0  0  0  0  0  0  0  0  0  0  0  0  0  1  0  0  0  0  0  1]\n",
      "[ 0  0  0  0  0  0  0  0  0  0  0  0  0  0  0  1  0  0  0  0  1]\n",
      "[ 0  0  0  0  0  0  0  0  0  0  0  0  0  0  0  0  1  0  1  0  0]\n",
      "[ 0  0  0  0  0  0  0  0  0  0  0  0  0  0  0  0  0  1  0  0 -1]\n",
      "[ 0  0  0  0  0  0  0  0  0  0  0  0  0  0  0  0  0  0  0  1  1]\n",
      "[ 0  0  0  0  0  0  0  0  0  0  0  0  0  0  0  0  0  0  0  0  0]\n",
      "[ 0  0  0  0  0  0  0  0  0  0  0  0  0  0  0  0  0  0  0  0  0]\n",
      "[ 0  0  0  0  0  0  0  0  0  0  0  0  0  0  0  0  0  0  0  0  0]\n",
      "[ 0  0  0  0  0  0  0  0  0  0  0  0  0  0  0  0  0  0  0  0  0]\n",
      "[ 0  0  0  0  0  0  0  0  0  0  0  0  0  0  0  0  0  0  0  0  0]\n",
      "[ 0  0  0  0  0  0  0  0  0  0  0  0  0  0  0  0  0  0  0  0  0]\n",
      "[ 0  0  0  0  0  0  0  0  0  0  0  0  0  0  0  0  0  0  0  0  0]\n",
      "[ 0  0  0  0  0  0  0  0  0  0  0  0  0  0  0  0  0  0  0  0  0]\n",
      "[ 0  0  0  0  0  0  0  0  0  0  0  0  0  0  0  0  0  0  0  0  0]\n",
      "[ 0  0  0  0  0  0  0  0  0  0  0  0  0  0  0  0  0  0  0  0  0]\n",
      "[ 0  0  0  0  0  0  0  0  0  0  0  0  0  0  0  0  0  0  0  0  0]\n",
      "[ 0  0  0  0  0  0  0  0  0  0  0  0  0  0  0  0  0  0  0  0  0]\n"
     ]
    }
   ],
   "source": [
    "for deg in range(6):\n",
    "    print(mac_matrix([f1,f2,f3],deg,R).rref())"
   ]
  },
  {
   "cell_type": "code",
   "execution_count": 6,
   "metadata": {},
   "outputs": [
    {
     "data": {
      "text/plain": [
       "[x1 - x3^6, x2 - x3^2]"
      ]
     },
     "execution_count": 6,
     "metadata": {},
     "output_type": "execute_result"
    }
   ],
   "source": [
    "# This is Example 5 in Caminata and Gorla\n",
    "\n",
    "S.<x1,x2,x3> = PolynomialRing(GF(5), order = \"lex\")\n",
    "f1 = x3^2 - x2\n",
    "f2 = x2^3 - x1\n",
    "I = ideal(f1,f2)\n",
    "G = I.groebner_basis()\n",
    "G"
   ]
  },
  {
   "cell_type": "code",
   "execution_count": 7,
   "metadata": {},
   "outputs": [
    {
     "data": {
      "text/plain": [
       "[0 0 0 0 0 0 0 0 0 0 0 0 0 0 0 4 0 1 0 0]\n",
       "[0 0 0 0 0 0 4 1 0 0 0 0 0 0 0 0 0 0 0 0]\n",
       "[0 0 0 0 0 0 0 0 0 0 0 0 4 1 0 0 0 0 0 0]\n",
       "[0 0 0 0 0 0 0 0 0 0 0 0 0 0 4 0 1 0 0 0]\n",
       "[0 0 0 0 0 0 0 0 0 4 1 0 0 0 0 0 0 0 0 0]"
      ]
     },
     "execution_count": 7,
     "metadata": {},
     "output_type": "execute_result"
    }
   ],
   "source": [
    "# Continuing the above\n",
    "\n",
    "mac_matrix([f1,f2],3,S) # they say that the solving degree of the system is 3 "
   ]
  },
  {
   "cell_type": "code",
   "execution_count": 8,
   "metadata": {},
   "outputs": [
    {
     "data": {
      "text/plain": [
       "[0 0 0 0 0 0 1 4 0 0 0 0 0 0 0 0 0 0 0 0]\n",
       "[0 0 0 0 0 0 0 0 0 1 4 0 0 0 0 0 0 0 0 0]\n",
       "[0 0 0 0 0 0 0 0 0 0 0 0 1 4 0 0 0 0 0 0]\n",
       "[0 0 0 0 0 0 0 0 0 0 0 0 0 0 1 0 4 0 0 0]\n",
       "[0 0 0 0 0 0 0 0 0 0 0 0 0 0 0 1 0 4 0 0]"
      ]
     },
     "execution_count": 8,
     "metadata": {},
     "output_type": "execute_result"
    }
   ],
   "source": [
    "mac_matrix([f1,f2],3,S).rref()"
   ]
  },
  {
   "cell_type": "code",
   "execution_count": 9,
   "metadata": {},
   "outputs": [],
   "source": [
    "g1 = x3^3 + 4*x3*x2\n",
    "g2 = x3^2*x2 + 4*x2^2\n",
    "g3 = x3^2*x1 + 4*x2*x1\n",
    "g4 = x3^2 + 4*x2\n",
    "g5 = x2^3 + 4*x1\n",
    "A = mac_matrix([g1,g2,g3,g4,g5],3,S).rref()"
   ]
  },
  {
   "cell_type": "code",
   "execution_count": 10,
   "metadata": {},
   "outputs": [
    {
     "data": {
      "text/plain": [
       "True"
      ]
     },
     "execution_count": 10,
     "metadata": {},
     "output_type": "execute_result"
    }
   ],
   "source": [
    "J = ideal(g1,g2,g3,g4,g5)\n",
    "J == I"
   ]
  },
  {
   "cell_type": "code",
   "execution_count": 17,
   "metadata": {},
   "outputs": [
    {
     "data": {
      "text/plain": [
       "True"
      ]
     },
     "execution_count": 17,
     "metadata": {},
     "output_type": "execute_result"
    }
   ],
   "source": [
    "J.gens().is_groebner() # The polynomials that correspond to the rows of the Macaulay matrix are a Gröbner basis"
   ]
  },
  {
   "cell_type": "code",
   "execution_count": 30,
   "metadata": {},
   "outputs": [
    {
     "ename": "NameError",
     "evalue": "name 'A' is not defined",
     "output_type": "error",
     "traceback": [
      "\u001b[0;31m---------------------------------------------------------------------------\u001b[0m",
      "\u001b[0;31mNameError\u001b[0m                                 Traceback (most recent call last)",
      "\u001b[0;32m/var/folders/zf/986s30f52c3fssnjtqpb80w00000gn/T/ipykernel_34306/3527713480.py\u001b[0m in \u001b[0;36m<module>\u001b[0;34m\u001b[0m\n\u001b[1;32m     20\u001b[0m     \u001b[0;32mreturn\u001b[0m \u001b[0mSequence\u001b[0m\u001b[0;34m(\u001b[0m\u001b[0mB\u001b[0m\u001b[0;34m)\u001b[0m \u001b[0;31m# Sage doesn't know how to work with the output list unless it is a \"Sequence\" of polynomials\u001b[0m\u001b[0;34m\u001b[0m\u001b[0;34m\u001b[0m\u001b[0m\n\u001b[1;32m     21\u001b[0m \u001b[0;34m\u001b[0m\u001b[0m\n\u001b[0;32m---> 22\u001b[0;31m \u001b[0mrecover_polys\u001b[0m\u001b[0;34m(\u001b[0m\u001b[0mA\u001b[0m\u001b[0;34m,\u001b[0m \u001b[0mInteger\u001b[0m\u001b[0;34m(\u001b[0m\u001b[0;36m3\u001b[0m\u001b[0;34m)\u001b[0m\u001b[0;34m,\u001b[0m \u001b[0mS\u001b[0m\u001b[0;34m)\u001b[0m\u001b[0;34m\u001b[0m\u001b[0;34m\u001b[0m\u001b[0m\n\u001b[0m",
      "\u001b[0;31mNameError\u001b[0m: name 'A' is not defined"
     ]
    }
   ],
   "source": [
    "# Takes an RREF Macaulay matrix as input and returns a list of the corresponding polynomials\n",
    "\n",
    "def recover_polys(M, d, ring):\n",
    "    mons0 = monomials(list(ring.gens()), [d+1 for i in range(len(ring.gens()))])\n",
    "    mons = []\n",
    "    for mon in mons0:\n",
    "        if mon.degree() <= d:\n",
    "            mons.append(mon)\n",
    "    mons.sort()\n",
    "    mons.reverse()\n",
    "    B = []\n",
    "    for row in M.rows():\n",
    "        g = 0\n",
    "        for (coeff,mon) in zip(row,mons):\n",
    "            g += coeff*mon\n",
    "        if g != 0:\n",
    "            B.append(g)\n",
    "    if B == []:\n",
    "        B = [ring(0)]\n",
    "    return Sequence(B) # Sage doesn't know how to work with the output list unless it is a \"Sequence\" of polynomials\n",
    "            \n",
    "recover_polys(A, 3, S)"
   ]
  },
  {
   "cell_type": "code",
   "execution_count": 19,
   "metadata": {},
   "outputs": [
    {
     "data": {
      "text/plain": [
       "True"
      ]
     },
     "execution_count": 19,
     "metadata": {},
     "output_type": "execute_result"
    }
   ],
   "source": [
    "recover_polys(A,3,S).is_groebner()"
   ]
  },
  {
   "cell_type": "code",
   "execution_count": 20,
   "metadata": {},
   "outputs": [
    {
     "name": "stdout",
     "output_type": "stream",
     "text": [
      "[x1, x2, x3, 1]\n"
     ]
    },
    {
     "data": {
      "text/plain": [
       "[]"
      ]
     },
     "execution_count": 20,
     "metadata": {},
     "output_type": "execute_result"
    }
   ],
   "source": [
    "A = mac_matrix([f1,f2],1,S); A"
   ]
  },
  {
   "cell_type": "code",
   "execution_count": 21,
   "metadata": {},
   "outputs": [
    {
     "data": {
      "text/plain": [
       "[0]"
      ]
     },
     "execution_count": 21,
     "metadata": {},
     "output_type": "execute_result"
    }
   ],
   "source": [
    "B = recover_polys(A,1,S); B"
   ]
  },
  {
   "cell_type": "code",
   "execution_count": 22,
   "metadata": {},
   "outputs": [
    {
     "data": {
      "text/plain": [
       "False"
      ]
     },
     "execution_count": 22,
     "metadata": {},
     "output_type": "execute_result"
    }
   ],
   "source": [
    "B.is_groebner() and ideal(B) == I"
   ]
  },
  {
   "cell_type": "code",
   "execution_count": 23,
   "metadata": {},
   "outputs": [
    {
     "name": "stdout",
     "output_type": "stream",
     "text": [
      "[x1^2, x1*x2, x1*x3, x1, x2^2, x2*x3, x2, x3^2, x3, 1]\n"
     ]
    },
    {
     "data": {
      "text/plain": [
       "[0 0 0 0 0 0 4 1 0 0]"
      ]
     },
     "execution_count": 23,
     "metadata": {},
     "output_type": "execute_result"
    }
   ],
   "source": [
    "A = mac_matrix([f1,f2],2,S); A"
   ]
  },
  {
   "cell_type": "code",
   "execution_count": 24,
   "metadata": {},
   "outputs": [
    {
     "data": {
      "text/plain": [
       "[-x2 + x3^2]"
      ]
     },
     "execution_count": 24,
     "metadata": {},
     "output_type": "execute_result"
    }
   ],
   "source": [
    "B = recover_polys(A,2,S); B"
   ]
  },
  {
   "cell_type": "code",
   "execution_count": 25,
   "metadata": {},
   "outputs": [
    {
     "data": {
      "text/plain": [
       "False"
      ]
     },
     "execution_count": 25,
     "metadata": {},
     "output_type": "execute_result"
    }
   ],
   "source": [
    "B.is_groebner() and ideal(B) == I"
   ]
  },
  {
   "cell_type": "code",
   "execution_count": 26,
   "metadata": {},
   "outputs": [
    {
     "name": "stdout",
     "output_type": "stream",
     "text": [
      "[x1^3, x1^2*x2, x1^2*x3, x1^2, x1*x2^2, x1*x2*x3, x1*x2, x1*x3^2, x1*x3, x1, x2^3, x2^2*x3, x2^2, x2*x3^2, x2*x3, x2, x3^3, x3^2, x3, 1]\n"
     ]
    },
    {
     "data": {
      "text/plain": [
       "[0 0 0 0 0 0 0 0 0 0 0 0 0 0 0 4 0 1 0 0]\n",
       "[0 0 0 0 0 0 4 1 0 0 0 0 0 0 0 0 0 0 0 0]\n",
       "[0 0 0 0 0 0 0 0 0 0 0 0 4 1 0 0 0 0 0 0]\n",
       "[0 0 0 0 0 0 0 0 0 0 0 0 0 0 4 0 1 0 0 0]\n",
       "[0 0 0 0 0 0 0 0 0 4 1 0 0 0 0 0 0 0 0 0]"
      ]
     },
     "execution_count": 26,
     "metadata": {},
     "output_type": "execute_result"
    }
   ],
   "source": [
    "A = mac_matrix([f1,f2],3,S); A"
   ]
  },
  {
   "cell_type": "code",
   "execution_count": 27,
   "metadata": {},
   "outputs": [
    {
     "data": {
      "text/plain": [
       "[-x2 + x3^2, -x1*x2 + x1*x3^2, -x2^2 + x2*x3^2, -x2*x3 + x3^3, -x1 + x2^3]"
      ]
     },
     "execution_count": 27,
     "metadata": {},
     "output_type": "execute_result"
    }
   ],
   "source": [
    "B = recover_polys(A,3,S); B"
   ]
  },
  {
   "cell_type": "code",
   "execution_count": 28,
   "metadata": {},
   "outputs": [
    {
     "data": {
      "text/plain": [
       "True"
      ]
     },
     "execution_count": 28,
     "metadata": {},
     "output_type": "execute_result"
    }
   ],
   "source": [
    "B.is_groebner() and ideal(B) == I"
   ]
  },
  {
   "cell_type": "code",
   "execution_count": 20,
   "metadata": {},
   "outputs": [
    {
     "data": {
      "text/plain": [
       "[x1^3 + x2^3 + x3^3]"
      ]
     },
     "execution_count": 20,
     "metadata": {},
     "output_type": "execute_result"
    }
   ],
   "source": [
    "# Now instead of using mac_matrix followed by recover_polys, we ask for the new polynomials directly:\n",
    "\n",
    "def mac_basis(f,d,ring):\n",
    "    mons0 = monomials(list(ring.gens()), [d+1 for i in range(len(ring.gens()))])\n",
    "    mons = []\n",
    "    for mon in mons0:\n",
    "        if mon.degree() <= d:\n",
    "            mons.append(mon)\n",
    "    mons.sort()\n",
    "    mons.reverse() # for reasons I don't understand, the .sort() method respects the chosen order but reverses it\n",
    "    col_labs = []\n",
    "    for deg in range(d + 1):\n",
    "        segment = []\n",
    "        for poly in f:\n",
    "            for mon in mons:\n",
    "                label = ring(mon)*ring(poly)\n",
    "                if label.degree() == deg:\n",
    "                    segment.append(label)\n",
    "        col_labs += segment\n",
    "    M = matrix([[label.monomial_coefficient(mon) for mon in mons] for label in col_labs]).rref()\n",
    "    B = []\n",
    "    for row in M.rows():\n",
    "        g = 0\n",
    "        for (coeff,mon) in zip(row,mons):\n",
    "            g += coeff*mon\n",
    "        if g != 0:\n",
    "            B.append(g)\n",
    "    if B == []:\n",
    "        B = [ring(0)]\n",
    "    return Sequence(B)\n",
    "\n",
    "mac_basis([f1,f2],3,S)"
   ]
  },
  {
   "cell_type": "code",
   "execution_count": 11,
   "metadata": {},
   "outputs": [],
   "source": [
    "# Now define a function that calculates a Gröbner basis and the solving degree (guessing and checking)\n",
    "\n",
    "def mac_grob(f,ring):\n",
    "    test_deg = 0\n",
    "    while True:\n",
    "        B = mac_basis(f, test_deg, ring)\n",
    "        print(test_deg, B, B.is_groebner(), ideal(B) == ideal(f))\n",
    "        if B.is_groebner() and ideal(B) == ideal(f):\n",
    "            return (test_deg,B)\n",
    "        test_deg += 1"
   ]
  },
  {
   "cell_type": "code",
   "execution_count": 31,
   "metadata": {
    "scrolled": true
   },
   "outputs": [
    {
     "name": "stdout",
     "output_type": "stream",
     "text": [
      "0 [0] True False\n",
      "1 [0] True False\n",
      "2 [x2 - x3^2] True False\n",
      "3 [x1*x2 - x1*x3^2, x1 - x2^3, x2^2 - x2*x3^2, x2*x3 - x3^3, x2 - x3^2] True True\n"
     ]
    },
    {
     "data": {
      "text/plain": [
       "(3, [x1*x2 - x1*x3^2, x1 - x2^3, x2^2 - x2*x3^2, x2*x3 - x3^3, x2 - x3^2])"
      ]
     },
     "execution_count": 31,
     "metadata": {},
     "output_type": "execute_result"
    }
   ],
   "source": [
    "mac_grob([f1,f2],S)"
   ]
  },
  {
   "cell_type": "code",
   "execution_count": 32,
   "metadata": {},
   "outputs": [
    {
     "data": {
      "text/plain": [
       "[x1 - x3^6, x2 - x3^2]"
      ]
     },
     "execution_count": 32,
     "metadata": {},
     "output_type": "execute_result"
    }
   ],
   "source": [
    "I = ideal(f1,f2)\n",
    "I.groebner_basis()"
   ]
  },
  {
   "cell_type": "code",
   "execution_count": 33,
   "metadata": {},
   "outputs": [
    {
     "data": {
      "text/plain": [
       "True"
      ]
     },
     "execution_count": 33,
     "metadata": {},
     "output_type": "execute_result"
    }
   ],
   "source": [
    "J = ideal(x1 - x2^3,x2 - x3^2)\n",
    "J.gens().is_groebner()\n",
    "J == ideal(f1,f2)"
   ]
  },
  {
   "cell_type": "code",
   "execution_count": 34,
   "metadata": {},
   "outputs": [
    {
     "name": "stdout",
     "output_type": "stream",
     "text": [
      "0 [0] True False\n",
      "1 [0] True False\n",
      "2 [x2 - x3^2] True False\n",
      "3 [x1*x2 - x1*x3^2, x1 - x2^3, x2^2 - x2*x3^2, x2*x3 - x3^3, x2 - x3^2] True False\n",
      "4 [x1^2*x2 - x1^2*x3^2, x1^2 - x1*x2^3, x1*x2^2 - x1*x2*x3^2, x1*x2*x3 - x1*x3^3, x1*x2 - x2^4, x1*x3^2 - x2^4, x1*x3 - x2^3*x3, x1 - x2^2*x3^2, x2^3 - x2^2*x3^2, x2^2*x3 - x2*x3^3, x2^2 - x3^4, x2*x3^2 - x3^4, x2*x3 - x3^3, x2 - x3^2] True False\n",
      "5 Polynomial Sequence with 32 Polynomials in 3 Variables True True\n"
     ]
    },
    {
     "data": {
      "text/plain": [
       "(5, Polynomial Sequence with 32 Polynomials in 3 Variables)"
      ]
     },
     "execution_count": 34,
     "metadata": {},
     "output_type": "execute_result"
    }
   ],
   "source": [
    "mac_grob([f1, f2, x1^5 - x1, x2^5 - x2, x3^5 - x3], S) "
   ]
  },
  {
   "cell_type": "code",
   "execution_count": 35,
   "metadata": {},
   "outputs": [
    {
     "data": {
      "text/plain": [
       "True"
      ]
     },
     "execution_count": 35,
     "metadata": {},
     "output_type": "execute_result"
    }
   ],
   "source": [
    "mac_basis([f1, f2, x1^5 - x1, x2^5 - x2, x3^5 - x3], 5, S).is_groebner()"
   ]
  },
  {
   "cell_type": "code",
   "execution_count": 12,
   "metadata": {},
   "outputs": [],
   "source": [
    "def S_poly(f,g,ring):\n",
    "    alpha = f.lt()\n",
    "    beta = g.lt()\n",
    "    gamma = lcm(alpha,beta)\n",
    "    return ring((gamma / alpha)*f - (gamma / beta)*g) # fails to have lt() without R(.)"
   ]
  },
  {
   "cell_type": "code",
   "execution_count": 37,
   "metadata": {},
   "outputs": [
    {
     "name": "stdout",
     "output_type": "stream",
     "text": [
      "0 [0] True False\n",
      "1 [y + 1] True False\n",
      "2 [x^2 + 1, x*y + x, y^2 - 1, y + 1] True True\n"
     ]
    },
    {
     "data": {
      "text/plain": [
       "True"
      ]
     },
     "execution_count": 37,
     "metadata": {},
     "output_type": "execute_result"
    }
   ],
   "source": [
    "R.<x,y> = PolynomialRing(QQ, order = 'degrevlex')\n",
    "f1 = y + 1\n",
    "f2 = x^2 - y\n",
    "f3 = x*y^2 - x\n",
    "mac_grob([f1,f2,f3],R)[1].is_groebner()"
   ]
  },
  {
   "cell_type": "code",
   "execution_count": 38,
   "metadata": {},
   "outputs": [
    {
     "name": "stdout",
     "output_type": "stream",
     "text": [
      "[x1^5, x1^4*x2, x1^4*x3, x1^4, x1^3*x2^2, x1^3*x2*x3, x1^3*x2, x1^3*x3^2, x1^3*x3, x1^3, x1^2*x2^3, x1^2*x2^2*x3, x1^2*x2^2, x1^2*x2*x3^2, x1^2*x2*x3, x1^2*x2, x1^2*x3^3, x1^2*x3^2, x1^2*x3, x1^2, x1*x2^4, x1*x2^3*x3, x1*x2^3, x1*x2^2*x3^2, x1*x2^2*x3, x1*x2^2, x1*x2*x3^3, x1*x2*x3^2, x1*x2*x3, x1*x2, x1*x3^4, x1*x3^3, x1*x3^2, x1*x3, x1, x2^5, x2^4*x3, x2^4, x2^3*x3^2, x2^3*x3, x2^3, x2^2*x3^3, x2^2*x3^2, x2^2*x3, x2^2, x2*x3^4, x2*x3^3, x2*x3^2, x2*x3, x2, x3^5, x3^4, x3^3, x3^2, x3, 1]\n"
     ]
    },
    {
     "data": {
      "text/plain": [
       "True"
      ]
     },
     "execution_count": 38,
     "metadata": {},
     "output_type": "execute_result"
    }
   ],
   "source": [
    "recover_polys(mac_matrix([f1, f2, x1^5 - x1, x2^5 - x2, x3^5 - x3], 5, S), 5, S).is_groebner()"
   ]
  },
  {
   "cell_type": "code",
   "execution_count": 39,
   "metadata": {},
   "outputs": [
    {
     "name": "stdout",
     "output_type": "stream",
     "text": [
      "0 [0] True False\n",
      "1 [y + 1] True False\n",
      "2 [x*y - 1, y^2 - 1, x + 1, y + 1] True True\n"
     ]
    },
    {
     "data": {
      "text/plain": [
       "(2, [x*y - 1, y^2 - 1, x + 1, y + 1])"
      ]
     },
     "execution_count": 39,
     "metadata": {},
     "output_type": "execute_result"
    }
   ],
   "source": [
    "R.<x,y> = PolynomialRing(QQ, order = 'degrevlex')\n",
    "h1 = y^2 + x\n",
    "h2 = y + 1\n",
    "mac_grob([h1,h2],R)"
   ]
  },
  {
   "cell_type": "code",
   "execution_count": 40,
   "metadata": {},
   "outputs": [
    {
     "name": "stdout",
     "output_type": "stream",
     "text": [
      "[x^2, x*y, y^2, x, y, 1]\n"
     ]
    },
    {
     "data": {
      "text/plain": [
       "[x*y - 1, y^2 - 1, x + 1, y + 1]"
      ]
     },
     "execution_count": 40,
     "metadata": {},
     "output_type": "execute_result"
    }
   ],
   "source": [
    "M = mac_matrix([h1,h2],2,R).rref()\n",
    "recover_polys(M,2,R)"
   ]
  },
  {
   "cell_type": "code",
   "execution_count": 41,
   "metadata": {},
   "outputs": [
    {
     "data": {
      "text/plain": [
       "[x*y - 1, y^2 - 1, x + 1, y + 1]"
      ]
     },
     "execution_count": 41,
     "metadata": {},
     "output_type": "execute_result"
    }
   ],
   "source": [
    "mac_basis([h1,h2],2,R)"
   ]
  },
  {
   "cell_type": "code",
   "execution_count": 42,
   "metadata": {},
   "outputs": [
    {
     "data": {
      "text/plain": [
       "[ 0  1  0  0  0 -1]\n",
       "[ 0  0  1  0  0 -1]\n",
       "[ 0  0  0  1  0  1]\n",
       "[ 0  0  0  0  1  1]"
      ]
     },
     "execution_count": 42,
     "metadata": {},
     "output_type": "execute_result"
    }
   ],
   "source": [
    "M"
   ]
  },
  {
   "cell_type": "code",
   "execution_count": 221,
   "metadata": {},
   "outputs": [
    {
     "name": "stdout",
     "output_type": "stream",
     "text": [
      "[x1^7, x1^6*x2, x1^6*x3, x1^6, x1^5*x2^2, x1^5*x2*x3, x1^5*x2, x1^5*x3^2, x1^5*x3, x1^5, x1^4*x2^3, x1^4*x2^2*x3, x1^4*x2^2, x1^4*x2*x3^2, x1^4*x2*x3, x1^4*x2, x1^4*x3^3, x1^4*x3^2, x1^4*x3, x1^4, x1^3*x2^4, x1^3*x2^3*x3, x1^3*x2^3, x1^3*x2^2*x3^2, x1^3*x2^2*x3, x1^3*x2^2, x1^3*x2*x3^3, x1^3*x2*x3^2, x1^3*x2*x3, x1^3*x2, x1^3*x3^4, x1^3*x3^3, x1^3*x3^2, x1^3*x3, x1^3, x1^2*x2^5, x1^2*x2^4*x3, x1^2*x2^4, x1^2*x2^3*x3^2, x1^2*x2^3*x3, x1^2*x2^3, x1^2*x2^2*x3^3, x1^2*x2^2*x3^2, x1^2*x2^2*x3, x1^2*x2^2, x1^2*x2*x3^4, x1^2*x2*x3^3, x1^2*x2*x3^2, x1^2*x2*x3, x1^2*x2, x1^2*x3^5, x1^2*x3^4, x1^2*x3^3, x1^2*x3^2, x1^2*x3, x1^2, x1*x2^6, x1*x2^5*x3, x1*x2^5, x1*x2^4*x3^2, x1*x2^4*x3, x1*x2^4, x1*x2^3*x3^3, x1*x2^3*x3^2, x1*x2^3*x3, x1*x2^3, x1*x2^2*x3^4, x1*x2^2*x3^3, x1*x2^2*x3^2, x1*x2^2*x3, x1*x2^2, x1*x2*x3^5, x1*x2*x3^4, x1*x2*x3^3, x1*x2*x3^2, x1*x2*x3, x1*x2, x1*x3^6, x1*x3^5, x1*x3^4, x1*x3^3, x1*x3^2, x1*x3, x1, x2^7, x2^6*x3, x2^6, x2^5*x3^2, x2^5*x3, x2^5, x2^4*x3^3, x2^4*x3^2, x2^4*x3, x2^4, x2^3*x3^4, x2^3*x3^3, x2^3*x3^2, x2^3*x3, x2^3, x2^2*x3^5, x2^2*x3^4, x2^2*x3^3, x2^2*x3^2, x2^2*x3, x2^2, x2*x3^6, x2*x3^5, x2*x3^4, x2*x3^3, x2*x3^2, x2*x3, x2, x3^7, x3^6, x3^5, x3^4, x3^3, x3^2, x3, 1]\n"
     ]
    },
    {
     "data": {
      "text/plain": [
       "True"
      ]
     },
     "execution_count": 221,
     "metadata": {},
     "output_type": "execute_result"
    }
   ],
   "source": [
    "M = mac_matrix([f1,f2,x1^5 - x1, x2^5 - x2, x3^5 - x3],7,S).rref()\n",
    "recover_polys(M,7,S) == mac_basis([f1,f2,x1^5 - x1, x2^5 - x2, x3^5 - x3],7,S)"
   ]
  },
  {
   "cell_type": "code",
   "execution_count": 222,
   "metadata": {},
   "outputs": [
    {
     "name": "stdout",
     "output_type": "stream",
     "text": [
      "[1 0 0 0 0 0 0 0 0 0 0 0 0 0 0 0 0 0 0 0 0 0 0 0 0 0 0 0 0 0 0 0 0 0 0 0 0 0 0 0 0 0 0 0 0 0 0 0 0 0 0 0 0 0 0 0 0 0 0 0 0 0 0 0 0 0 0 0 0 0 0 0 0 0 0 0 0 0 0 0 0 0 0 1 0 0 0 0 0 0 0 0 0 0 0 0 0 0 0 0 0 0 0 0 0 0 0 0 0 0 0 0 0 0 0 0 0 0 0 0]\n",
      "[0 1 0 0 0 0 0 0 0 0 0 0 0 0 0 0 0 0 0 0 0 0 0 0 0 0 0 0 0 0 0 0 0 0 0 0 0 0 0 0 0 0 0 0 0 0 0 0 0 0 0 0 0 0 0 0 0 0 0 0 0 0 0 0 0 0 0 0 0 0 0 0 0 0 0 0 0 0 0 0 0 0 0 0 0 0 0 0 0 0 0 0 0 0 0 0 0 0 0 0 0 0 0 0 0 0 0 0 0 0 0 0 0 0 0 0 0 0 0 4]\n",
      "[0 0 1 0 0 0 0 0 0 0 0 0 0 0 0 0 0 0 0 0 0 0 0 0 0 0 0 0 0 0 0 0 0 0 0 0 0 0 0 0 0 0 0 0 0 0 0 0 0 0 0 0 0 0 0 0 0 0 0 0 0 0 0 0 0 0 0 0 0 0 0 0 0 0 0 0 0 0 0 0 0 0 0 0 0 0 0 0 0 0 0 0 0 0 0 0 0 0 0 0 0 0 0 0 0 0 0 0 0 0 0 0 0 0 0 0 0 0 1 0]\n",
      "[0 0 0 1 0 0 0 0 0 0 0 0 0 0 0 0 0 0 0 0 0 0 0 0 0 0 0 0 0 0 0 0 0 0 0 0 0 0 0 0 0 0 0 0 0 0 0 0 0 0 0 0 0 0 0 0 0 0 0 0 0 0 0 0 0 0 0 0 0 0 0 0 0 0 0 0 0 0 0 0 0 0 0 0 0 0 0 0 0 0 0 0 0 0 0 0 0 0 0 0 0 0 0 0 0 0 0 0 0 0 0 0 0 0 0 0 0 0 0 1]\n",
      "[0 0 0 0 1 0 0 0 0 0 0 0 0 0 0 0 0 0 0 0 0 0 0 0 0 0 0 0 0 0 0 0 0 0 0 0 0 0 0 0 0 0 0 0 0 0 0 0 0 0 0 0 0 0 0 0 0 0 0 0 0 0 0 0 0 0 0 0 0 0 0 0 0 0 0 0 0 0 0 0 0 0 0 4 0 0 0 0 0 0 0 0 0 0 0 0 0 0 0 0 0 0 0 0 0 0 0 0 0 0 0 0 0 0 0 0 0 0 0 0]\n",
      "[0 0 0 0 0 1 0 0 0 0 0 0 0 0 0 0 0 0 0 0 0 0 0 0 0 0 0 0 0 0 0 0 0 0 0 0 0 0 0 0 0 0 0 0 0 0 0 0 0 0 0 0 0 0 0 0 0 0 0 0 0 0 0 0 0 0 0 0 0 0 0 0 0 0 0 0 0 0 0 0 0 0 1 0 0 0 0 0 0 0 0 0 0 0 0 0 0 0 0 0 0 0 0 0 0 0 0 0 0 0 0 0 0 0 0 0 0 0 0 0]\n",
      "[0 0 0 0 0 0 1 0 0 0 0 0 0 0 0 0 0 0 0 0 0 0 0 0 0 0 0 0 0 0 0 0 0 0 0 0 0 0 0 0 0 0 0 0 0 0 0 0 0 0 0 0 0 0 0 0 0 0 0 0 0 0 0 0 0 0 0 0 0 0 0 0 0 0 0 0 0 0 0 0 0 0 0 1 0 0 0 0 0 0 0 0 0 0 0 0 0 0 0 0 0 0 0 0 0 0 0 0 0 0 0 0 0 0 0 0 0 0 0 0]\n",
      "[0 0 0 0 0 0 0 1 0 0 0 0 0 0 0 0 0 0 0 0 0 0 0 0 0 0 0 0 0 0 0 0 0 0 0 0 0 0 0 0 0 0 0 0 0 0 0 0 0 0 0 0 0 0 0 0 0 0 0 0 0 0 0 0 0 0 0 0 0 0 0 0 0 0 0 0 0 0 0 0 0 4 0 0 0 0 0 0 0 0 0 0 0 0 0 0 0 0 0 0 0 0 0 0 0 0 0 0 0 0 0 0 0 0 0 0 0 0 0 0]\n",
      "[0 0 0 0 0 0 0 0 1 0 0 0 0 0 0 0 0 0 0 0 0 0 0 0 0 0 0 0 0 0 0 0 0 0 0 0 0 0 0 0 0 0 0 0 0 0 0 0 0 0 0 0 0 0 0 0 0 0 0 0 0 0 0 0 0 0 0 0 0 0 0 0 0 0 0 0 0 0 0 0 0 0 4 0 0 0 0 0 0 0 0 0 0 0 0 0 0 0 0 0 0 0 0 0 0 0 0 0 0 0 0 0 0 0 0 0 0 0 0 0]\n",
      "[0 0 0 0 0 0 0 0 0 1 0 0 0 0 0 0 0 0 0 0 0 0 0 0 0 0 0 0 0 0 0 0 0 0 0 0 0 0 0 0 0 0 0 0 0 0 0 0 0 0 0 0 0 0 0 0 0 0 0 0 0 0 0 0 0 0 0 0 0 0 0 0 0 0 0 0 0 0 0 0 0 0 0 4 0 0 0 0 0 0 0 0 0 0 0 0 0 0 0 0 0 0 0 0 0 0 0 0 0 0 0 0 0 0 0 0 0 0 0 0]\n",
      "[0 0 0 0 0 0 0 0 0 0 1 0 0 0 0 0 0 0 0 0 0 0 0 0 0 0 0 0 0 0 0 0 0 0 0 0 0 0 0 0 0 0 0 0 0 0 0 0 0 0 0 0 0 0 0 0 0 0 0 0 0 0 0 0 0 0 0 0 0 0 0 0 0 0 0 0 0 0 0 0 0 0 0 0 0 0 0 0 0 0 0 0 0 0 0 0 0 0 0 0 0 0 0 0 0 0 0 0 0 0 0 0 0 0 0 0 0 0 0 1]\n",
      "[0 0 0 0 0 0 0 0 0 0 0 1 0 0 0 0 0 0 0 0 0 0 0 0 0 0 0 0 0 0 0 0 0 0 0 0 0 0 0 0 0 0 0 0 0 0 0 0 0 0 0 0 0 0 0 0 0 0 0 0 0 0 0 0 0 0 0 0 0 0 0 0 0 0 0 0 0 0 0 0 0 0 0 0 0 0 0 0 0 0 0 0 0 0 0 0 0 0 0 0 0 0 0 0 0 0 0 0 0 0 0 0 0 0 0 0 0 0 4 0]\n",
      "[0 0 0 0 0 0 0 0 0 0 0 0 1 0 0 0 0 0 0 0 0 0 0 0 0 0 0 0 0 0 0 0 0 0 0 0 0 0 0 0 0 0 0 0 0 0 0 0 0 0 0 0 0 0 0 0 0 0 0 0 0 0 0 0 0 0 0 0 0 0 0 0 0 0 0 0 0 0 0 0 0 0 0 0 0 0 0 0 0 0 0 0 0 0 0 0 0 0 0 0 0 0 0 0 0 0 0 0 0 0 0 0 0 0 0 0 0 0 0 4]\n",
      "[0 0 0 0 0 0 0 0 0 0 0 0 0 1 0 0 0 0 0 0 0 0 0 0 0 0 0 0 0 0 0 0 0 0 0 0 0 0 0 0 0 0 0 0 0 0 0 0 0 0 0 0 0 0 0 0 0 0 0 0 0 0 0 0 0 0 0 0 0 0 0 0 0 0 0 0 0 0 0 0 0 0 0 0 0 0 0 0 0 0 0 0 0 0 0 0 0 0 0 0 0 0 0 0 0 0 0 0 0 0 0 0 0 0 0 0 0 1 0 0]\n",
      "[0 0 0 0 0 0 0 0 0 0 0 0 0 0 1 0 0 0 0 0 0 0 0 0 0 0 0 0 0 0 0 0 0 0 0 0 0 0 0 0 0 0 0 0 0 0 0 0 0 0 0 0 0 0 0 0 0 0 0 0 0 0 0 0 0 0 0 0 0 0 0 0 0 0 0 0 0 0 0 0 0 0 0 0 0 0 0 0 0 0 0 0 0 0 0 0 0 0 0 0 0 0 0 0 0 0 0 0 0 0 0 0 0 0 0 0 0 0 1 0]\n",
      "[0 0 0 0 0 0 0 0 0 0 0 0 0 0 0 1 0 0 0 0 0 0 0 0 0 0 0 0 0 0 0 0 0 0 0 0 0 0 0 0 0 0 0 0 0 0 0 0 0 0 0 0 0 0 0 0 0 0 0 0 0 0 0 0 0 0 0 0 0 0 0 0 0 0 0 0 0 0 0 0 0 0 0 0 0 0 0 0 0 0 0 0 0 0 0 0 0 0 0 0 0 0 0 0 0 0 0 0 0 0 0 0 0 0 0 0 0 0 0 1]\n",
      "[0 0 0 0 0 0 0 0 0 0 0 0 0 0 0 0 1 0 0 0 0 0 0 0 0 0 0 0 0 0 0 0 0 0 0 0 0 0 0 0 0 0 0 0 0 0 0 0 0 0 0 0 0 0 0 0 0 0 0 0 0 0 0 0 0 0 0 0 0 0 0 0 0 0 0 0 0 0 0 0 0 0 0 0 0 0 0 0 0 0 0 0 0 0 0 0 0 0 0 0 0 0 0 0 0 0 0 0 0 0 0 0 0 0 0 0 4 0 0 0]\n",
      "[0 0 0 0 0 0 0 0 0 0 0 0 0 0 0 0 0 1 0 0 0 0 0 0 0 0 0 0 0 0 0 0 0 0 0 0 0 0 0 0 0 0 0 0 0 0 0 0 0 0 0 0 0 0 0 0 0 0 0 0 0 0 0 0 0 0 0 0 0 0 0 0 0 0 0 0 0 0 0 0 0 0 0 0 0 0 0 0 0 0 0 0 0 0 0 0 0 0 0 0 0 0 0 0 0 0 0 0 0 0 0 0 0 0 0 0 0 4 0 0]\n",
      "[0 0 0 0 0 0 0 0 0 0 0 0 0 0 0 0 0 0 1 0 0 0 0 0 0 0 0 0 0 0 0 0 0 0 0 0 0 0 0 0 0 0 0 0 0 0 0 0 0 0 0 0 0 0 0 0 0 0 0 0 0 0 0 0 0 0 0 0 0 0 0 0 0 0 0 0 0 0 0 0 0 0 0 0 0 0 0 0 0 0 0 0 0 0 0 0 0 0 0 0 0 0 0 0 0 0 0 0 0 0 0 0 0 0 0 0 0 0 4 0]\n",
      "[0 0 0 0 0 0 0 0 0 0 0 0 0 0 0 0 0 0 0 1 0 0 0 0 0 0 0 0 0 0 0 0 0 0 0 0 0 0 0 0 0 0 0 0 0 0 0 0 0 0 0 0 0 0 0 0 0 0 0 0 0 0 0 0 0 0 0 0 0 0 0 0 0 0 0 0 0 0 0 0 0 0 0 0 0 0 0 0 0 0 0 0 0 0 0 0 0 0 0 0 0 0 0 0 0 0 0 0 0 0 0 0 0 0 0 0 0 0 0 4]\n",
      "[0 0 0 0 0 0 0 0 0 0 0 0 0 0 0 0 0 0 0 0 1 0 0 0 0 0 0 0 0 0 0 0 0 0 0 0 0 0 0 0 0 0 0 0 0 0 0 0 0 0 0 0 0 0 0 0 0 0 0 0 0 0 0 0 0 0 0 0 0 0 0 0 0 0 0 0 0 0 0 0 0 0 0 1 0 0 0 0 0 0 0 0 0 0 0 0 0 0 0 0 0 0 0 0 0 0 0 0 0 0 0 0 0 0 0 0 0 0 0 0]\n",
      "[0 0 0 0 0 0 0 0 0 0 0 0 0 0 0 0 0 0 0 0 0 1 0 0 0 0 0 0 0 0 0 0 0 0 0 0 0 0 0 0 0 0 0 0 0 0 0 0 0 0 0 0 0 0 0 0 0 0 0 0 0 0 0 0 0 0 0 0 0 0 0 0 0 0 0 0 0 0 0 0 0 0 4 0 0 0 0 0 0 0 0 0 0 0 0 0 0 0 0 0 0 0 0 0 0 0 0 0 0 0 0 0 0 0 0 0 0 0 0 0]\n",
      "[0 0 0 0 0 0 0 0 0 0 0 0 0 0 0 0 0 0 0 0 0 0 1 0 0 0 0 0 0 0 0 0 0 0 0 0 0 0 0 0 0 0 0 0 0 0 0 0 0 0 0 0 0 0 0 0 0 0 0 0 0 0 0 0 0 0 0 0 0 0 0 0 0 0 0 0 0 0 0 0 0 0 0 4 0 0 0 0 0 0 0 0 0 0 0 0 0 0 0 0 0 0 0 0 0 0 0 0 0 0 0 0 0 0 0 0 0 0 0 0]\n",
      "[0 0 0 0 0 0 0 0 0 0 0 0 0 0 0 0 0 0 0 0 0 0 0 1 0 0 0 0 0 0 0 0 0 0 0 0 0 0 0 0 0 0 0 0 0 0 0 0 0 0 0 0 0 0 0 0 0 0 0 0 0 0 0 0 0 0 0 0 0 0 0 0 0 0 0 0 0 0 0 0 0 1 0 0 0 0 0 0 0 0 0 0 0 0 0 0 0 0 0 0 0 0 0 0 0 0 0 0 0 0 0 0 0 0 0 0 0 0 0 0]\n",
      "[0 0 0 0 0 0 0 0 0 0 0 0 0 0 0 0 0 0 0 0 0 0 0 0 1 0 0 0 0 0 0 0 0 0 0 0 0 0 0 0 0 0 0 0 0 0 0 0 0 0 0 0 0 0 0 0 0 0 0 0 0 0 0 0 0 0 0 0 0 0 0 0 0 0 0 0 0 0 0 0 0 0 1 0 0 0 0 0 0 0 0 0 0 0 0 0 0 0 0 0 0 0 0 0 0 0 0 0 0 0 0 0 0 0 0 0 0 0 0 0]\n",
      "[0 0 0 0 0 0 0 0 0 0 0 0 0 0 0 0 0 0 0 0 0 0 0 0 0 1 0 0 0 0 0 0 0 0 0 0 0 0 0 0 0 0 0 0 0 0 0 0 0 0 0 0 0 0 0 0 0 0 0 0 0 0 0 0 0 0 0 0 0 0 0 0 0 0 0 0 0 0 0 0 0 0 0 1 0 0 0 0 0 0 0 0 0 0 0 0 0 0 0 0 0 0 0 0 0 0 0 0 0 0 0 0 0 0 0 0 0 0 0 0]\n",
      "[0 0 0 0 0 0 0 0 0 0 0 0 0 0 0 0 0 0 0 0 0 0 0 0 0 0 1 0 0 0 0 0 0 0 0 0 0 0 0 0 0 0 0 0 0 0 0 0 0 0 0 0 0 0 0 0 0 0 0 0 0 0 0 0 0 0 0 0 0 0 0 0 0 0 0 0 0 0 0 0 4 0 0 0 0 0 0 0 0 0 0 0 0 0 0 0 0 0 0 0 0 0 0 0 0 0 0 0 0 0 0 0 0 0 0 0 0 0 0 0]\n",
      "[0 0 0 0 0 0 0 0 0 0 0 0 0 0 0 0 0 0 0 0 0 0 0 0 0 0 0 1 0 0 0 0 0 0 0 0 0 0 0 0 0 0 0 0 0 0 0 0 0 0 0 0 0 0 0 0 0 0 0 0 0 0 0 0 0 0 0 0 0 0 0 0 0 0 0 0 0 0 0 0 0 4 0 0 0 0 0 0 0 0 0 0 0 0 0 0 0 0 0 0 0 0 0 0 0 0 0 0 0 0 0 0 0 0 0 0 0 0 0 0]\n",
      "[0 0 0 0 0 0 0 0 0 0 0 0 0 0 0 0 0 0 0 0 0 0 0 0 0 0 0 0 1 0 0 0 0 0 0 0 0 0 0 0 0 0 0 0 0 0 0 0 0 0 0 0 0 0 0 0 0 0 0 0 0 0 0 0 0 0 0 0 0 0 0 0 0 0 0 0 0 0 0 0 0 0 4 0 0 0 0 0 0 0 0 0 0 0 0 0 0 0 0 0 0 0 0 0 0 0 0 0 0 0 0 0 0 0 0 0 0 0 0 0]\n",
      "[0 0 0 0 0 0 0 0 0 0 0 0 0 0 0 0 0 0 0 0 0 0 0 0 0 0 0 0 0 1 0 0 0 0 0 0 0 0 0 0 0 0 0 0 0 0 0 0 0 0 0 0 0 0 0 0 0 0 0 0 0 0 0 0 0 0 0 0 0 0 0 0 0 0 0 0 0 0 0 0 0 0 0 4 0 0 0 0 0 0 0 0 0 0 0 0 0 0 0 0 0 0 0 0 0 0 0 0 0 0 0 0 0 0 0 0 0 0 0 0]\n",
      "[0 0 0 0 0 0 0 0 0 0 0 0 0 0 0 0 0 0 0 0 0 0 0 0 0 0 0 0 0 0 1 0 0 0 0 0 0 0 0 0 0 0 0 0 0 0 0 0 0 0 0 0 0 0 0 0 0 0 0 0 0 0 0 0 0 0 0 0 0 0 0 0 0 0 0 0 0 0 0 1 0 0 0 0 0 0 0 0 0 0 0 0 0 0 0 0 0 0 0 0 0 0 0 0 0 0 0 0 0 0 0 0 0 0 0 0 0 0 0 0]\n",
      "[0 0 0 0 0 0 0 0 0 0 0 0 0 0 0 0 0 0 0 0 0 0 0 0 0 0 0 0 0 0 0 1 0 0 0 0 0 0 0 0 0 0 0 0 0 0 0 0 0 0 0 0 0 0 0 0 0 0 0 0 0 0 0 0 0 0 0 0 0 0 0 0 0 0 0 0 0 0 0 0 1 0 0 0 0 0 0 0 0 0 0 0 0 0 0 0 0 0 0 0 0 0 0 0 0 0 0 0 0 0 0 0 0 0 0 0 0 0 0 0]\n",
      "[0 0 0 0 0 0 0 0 0 0 0 0 0 0 0 0 0 0 0 0 0 0 0 0 0 0 0 0 0 0 0 0 1 0 0 0 0 0 0 0 0 0 0 0 0 0 0 0 0 0 0 0 0 0 0 0 0 0 0 0 0 0 0 0 0 0 0 0 0 0 0 0 0 0 0 0 0 0 0 0 0 1 0 0 0 0 0 0 0 0 0 0 0 0 0 0 0 0 0 0 0 0 0 0 0 0 0 0 0 0 0 0 0 0 0 0 0 0 0 0]\n",
      "[0 0 0 0 0 0 0 0 0 0 0 0 0 0 0 0 0 0 0 0 0 0 0 0 0 0 0 0 0 0 0 0 0 1 0 0 0 0 0 0 0 0 0 0 0 0 0 0 0 0 0 0 0 0 0 0 0 0 0 0 0 0 0 0 0 0 0 0 0 0 0 0 0 0 0 0 0 0 0 0 0 0 1 0 0 0 0 0 0 0 0 0 0 0 0 0 0 0 0 0 0 0 0 0 0 0 0 0 0 0 0 0 0 0 0 0 0 0 0 0]\n",
      "[0 0 0 0 0 0 0 0 0 0 0 0 0 0 0 0 0 0 0 0 0 0 0 0 0 0 0 0 0 0 0 0 0 0 1 0 0 0 0 0 0 0 0 0 0 0 0 0 0 0 0 0 0 0 0 0 0 0 0 0 0 0 0 0 0 0 0 0 0 0 0 0 0 0 0 0 0 0 0 0 0 0 0 1 0 0 0 0 0 0 0 0 0 0 0 0 0 0 0 0 0 0 0 0 0 0 0 0 0 0 0 0 0 0 0 0 0 0 0 0]\n",
      "[0 0 0 0 0 0 0 0 0 0 0 0 0 0 0 0 0 0 0 0 0 0 0 0 0 0 0 0 0 0 0 0 0 0 0 1 0 0 0 0 0 0 0 0 0 0 0 0 0 0 0 0 0 0 0 0 0 0 0 0 0 0 0 0 0 0 0 0 0 0 0 0 0 0 0 0 0 0 0 0 0 0 0 0 0 0 0 0 0 0 0 0 0 0 0 0 0 0 0 0 0 0 0 0 0 0 0 0 0 0 0 0 0 0 0 0 0 0 0 4]\n",
      "[0 0 0 0 0 0 0 0 0 0 0 0 0 0 0 0 0 0 0 0 0 0 0 0 0 0 0 0 0 0 0 0 0 0 0 0 1 0 0 0 0 0 0 0 0 0 0 0 0 0 0 0 0 0 0 0 0 0 0 0 0 0 0 0 0 0 0 0 0 0 0 0 0 0 0 0 0 0 0 0 0 0 0 0 0 0 0 0 0 0 0 0 0 0 0 0 0 0 0 0 0 0 0 0 0 0 0 0 0 0 0 0 0 0 0 0 0 0 1 0]\n",
      "[0 0 0 0 0 0 0 0 0 0 0 0 0 0 0 0 0 0 0 0 0 0 0 0 0 0 0 0 0 0 0 0 0 0 0 0 0 1 0 0 0 0 0 0 0 0 0 0 0 0 0 0 0 0 0 0 0 0 0 0 0 0 0 0 0 0 0 0 0 0 0 0 0 0 0 0 0 0 0 0 0 0 0 0 0 0 0 0 0 0 0 0 0 0 0 0 0 0 0 0 0 0 0 0 0 0 0 0 0 0 0 0 0 0 0 0 0 0 0 1]\n",
      "[0 0 0 0 0 0 0 0 0 0 0 0 0 0 0 0 0 0 0 0 0 0 0 0 0 0 0 0 0 0 0 0 0 0 0 0 0 0 1 0 0 0 0 0 0 0 0 0 0 0 0 0 0 0 0 0 0 0 0 0 0 0 0 0 0 0 0 0 0 0 0 0 0 0 0 0 0 0 0 0 0 0 0 0 0 0 0 0 0 0 0 0 0 0 0 0 0 0 0 0 0 0 0 0 0 0 0 0 0 0 0 0 0 0 0 0 0 4 0 0]\n",
      "[0 0 0 0 0 0 0 0 0 0 0 0 0 0 0 0 0 0 0 0 0 0 0 0 0 0 0 0 0 0 0 0 0 0 0 0 0 0 0 1 0 0 0 0 0 0 0 0 0 0 0 0 0 0 0 0 0 0 0 0 0 0 0 0 0 0 0 0 0 0 0 0 0 0 0 0 0 0 0 0 0 0 0 0 0 0 0 0 0 0 0 0 0 0 0 0 0 0 0 0 0 0 0 0 0 0 0 0 0 0 0 0 0 0 0 0 0 0 4 0]\n",
      "[0 0 0 0 0 0 0 0 0 0 0 0 0 0 0 0 0 0 0 0 0 0 0 0 0 0 0 0 0 0 0 0 0 0 0 0 0 0 0 0 1 0 0 0 0 0 0 0 0 0 0 0 0 0 0 0 0 0 0 0 0 0 0 0 0 0 0 0 0 0 0 0 0 0 0 0 0 0 0 0 0 0 0 0 0 0 0 0 0 0 0 0 0 0 0 0 0 0 0 0 0 0 0 0 0 0 0 0 0 0 0 0 0 0 0 0 0 0 0 4]\n",
      "[0 0 0 0 0 0 0 0 0 0 0 0 0 0 0 0 0 0 0 0 0 0 0 0 0 0 0 0 0 0 0 0 0 0 0 0 0 0 0 0 0 1 0 0 0 0 0 0 0 0 0 0 0 0 0 0 0 0 0 0 0 0 0 0 0 0 0 0 0 0 0 0 0 0 0 0 0 0 0 0 0 0 0 0 0 0 0 0 0 0 0 0 0 0 0 0 0 0 0 0 0 0 0 0 0 0 0 0 0 0 0 0 0 0 0 0 1 0 0 0]\n",
      "[0 0 0 0 0 0 0 0 0 0 0 0 0 0 0 0 0 0 0 0 0 0 0 0 0 0 0 0 0 0 0 0 0 0 0 0 0 0 0 0 0 0 1 0 0 0 0 0 0 0 0 0 0 0 0 0 0 0 0 0 0 0 0 0 0 0 0 0 0 0 0 0 0 0 0 0 0 0 0 0 0 0 0 0 0 0 0 0 0 0 0 0 0 0 0 0 0 0 0 0 0 0 0 0 0 0 0 0 0 0 0 0 0 0 0 0 0 1 0 0]\n",
      "[0 0 0 0 0 0 0 0 0 0 0 0 0 0 0 0 0 0 0 0 0 0 0 0 0 0 0 0 0 0 0 0 0 0 0 0 0 0 0 0 0 0 0 1 0 0 0 0 0 0 0 0 0 0 0 0 0 0 0 0 0 0 0 0 0 0 0 0 0 0 0 0 0 0 0 0 0 0 0 0 0 0 0 0 0 0 0 0 0 0 0 0 0 0 0 0 0 0 0 0 0 0 0 0 0 0 0 0 0 0 0 0 0 0 0 0 0 0 1 0]\n",
      "[0 0 0 0 0 0 0 0 0 0 0 0 0 0 0 0 0 0 0 0 0 0 0 0 0 0 0 0 0 0 0 0 0 0 0 0 0 0 0 0 0 0 0 0 1 0 0 0 0 0 0 0 0 0 0 0 0 0 0 0 0 0 0 0 0 0 0 0 0 0 0 0 0 0 0 0 0 0 0 0 0 0 0 0 0 0 0 0 0 0 0 0 0 0 0 0 0 0 0 0 0 0 0 0 0 0 0 0 0 0 0 0 0 0 0 0 0 0 0 1]\n",
      "[0 0 0 0 0 0 0 0 0 0 0 0 0 0 0 0 0 0 0 0 0 0 0 0 0 0 0 0 0 0 0 0 0 0 0 0 0 0 0 0 0 0 0 0 0 1 0 0 0 0 0 0 0 0 0 0 0 0 0 0 0 0 0 0 0 0 0 0 0 0 0 0 0 0 0 0 0 0 0 0 0 0 0 0 0 0 0 0 0 0 0 0 0 0 0 0 0 0 0 0 0 0 0 0 0 0 0 0 0 0 0 0 0 0 0 4 0 0 0 0]\n",
      "[0 0 0 0 0 0 0 0 0 0 0 0 0 0 0 0 0 0 0 0 0 0 0 0 0 0 0 0 0 0 0 0 0 0 0 0 0 0 0 0 0 0 0 0 0 0 1 0 0 0 0 0 0 0 0 0 0 0 0 0 0 0 0 0 0 0 0 0 0 0 0 0 0 0 0 0 0 0 0 0 0 0 0 0 0 0 0 0 0 0 0 0 0 0 0 0 0 0 0 0 0 0 0 0 0 0 0 0 0 0 0 0 0 0 0 0 4 0 0 0]\n",
      "[0 0 0 0 0 0 0 0 0 0 0 0 0 0 0 0 0 0 0 0 0 0 0 0 0 0 0 0 0 0 0 0 0 0 0 0 0 0 0 0 0 0 0 0 0 0 0 1 0 0 0 0 0 0 0 0 0 0 0 0 0 0 0 0 0 0 0 0 0 0 0 0 0 0 0 0 0 0 0 0 0 0 0 0 0 0 0 0 0 0 0 0 0 0 0 0 0 0 0 0 0 0 0 0 0 0 0 0 0 0 0 0 0 0 0 0 0 4 0 0]\n",
      "[0 0 0 0 0 0 0 0 0 0 0 0 0 0 0 0 0 0 0 0 0 0 0 0 0 0 0 0 0 0 0 0 0 0 0 0 0 0 0 0 0 0 0 0 0 0 0 0 1 0 0 0 0 0 0 0 0 0 0 0 0 0 0 0 0 0 0 0 0 0 0 0 0 0 0 0 0 0 0 0 0 0 0 0 0 0 0 0 0 0 0 0 0 0 0 0 0 0 0 0 0 0 0 0 0 0 0 0 0 0 0 0 0 0 0 0 0 0 4 0]\n",
      "[0 0 0 0 0 0 0 0 0 0 0 0 0 0 0 0 0 0 0 0 0 0 0 0 0 0 0 0 0 0 0 0 0 0 0 0 0 0 0 0 0 0 0 0 0 0 0 0 0 1 0 0 0 0 0 0 0 0 0 0 0 0 0 0 0 0 0 0 0 0 0 0 0 0 0 0 0 0 0 0 0 0 0 0 0 0 0 0 0 0 0 0 0 0 0 0 0 0 0 0 0 0 0 0 0 0 0 0 0 0 0 0 0 0 0 0 0 0 0 4]\n",
      "[0 0 0 0 0 0 0 0 0 0 0 0 0 0 0 0 0 0 0 0 0 0 0 0 0 0 0 0 0 0 0 0 0 0 0 0 0 0 0 0 0 0 0 0 0 0 0 0 0 0 1 0 0 0 0 0 0 0 0 0 0 0 0 0 0 0 0 0 0 0 0 0 0 0 0 0 0 0 0 0 0 0 0 0 0 0 0 0 0 0 0 0 0 0 0 0 0 0 0 0 0 0 0 0 0 0 0 0 0 0 0 0 0 0 0 0 0 0 1 0]\n",
      "[0 0 0 0 0 0 0 0 0 0 0 0 0 0 0 0 0 0 0 0 0 0 0 0 0 0 0 0 0 0 0 0 0 0 0 0 0 0 0 0 0 0 0 0 0 0 0 0 0 0 0 1 0 0 0 0 0 0 0 0 0 0 0 0 0 0 0 0 0 0 0 0 0 0 0 0 0 0 0 0 0 0 0 0 0 0 0 0 0 0 0 0 0 0 0 0 0 0 0 0 0 0 0 0 0 0 0 0 0 0 0 0 0 0 0 1 0 0 0 0]\n",
      "[0 0 0 0 0 0 0 0 0 0 0 0 0 0 0 0 0 0 0 0 0 0 0 0 0 0 0 0 0 0 0 0 0 0 0 0 0 0 0 0 0 0 0 0 0 0 0 0 0 0 0 0 1 0 0 0 0 0 0 0 0 0 0 0 0 0 0 0 0 0 0 0 0 0 0 0 0 0 0 0 0 0 0 0 0 0 0 0 0 0 0 0 0 0 0 0 0 0 0 0 0 0 0 0 0 0 0 0 0 0 0 0 0 0 0 0 1 0 0 0]\n",
      "[0 0 0 0 0 0 0 0 0 0 0 0 0 0 0 0 0 0 0 0 0 0 0 0 0 0 0 0 0 0 0 0 0 0 0 0 0 0 0 0 0 0 0 0 0 0 0 0 0 0 0 0 0 1 0 0 0 0 0 0 0 0 0 0 0 0 0 0 0 0 0 0 0 0 0 0 0 0 0 0 0 0 0 0 0 0 0 0 0 0 0 0 0 0 0 0 0 0 0 0 0 0 0 0 0 0 0 0 0 0 0 0 0 0 0 0 0 1 0 0]\n",
      "[0 0 0 0 0 0 0 0 0 0 0 0 0 0 0 0 0 0 0 0 0 0 0 0 0 0 0 0 0 0 0 0 0 0 0 0 0 0 0 0 0 0 0 0 0 0 0 0 0 0 0 0 0 0 1 0 0 0 0 0 0 0 0 0 0 0 0 0 0 0 0 0 0 0 0 0 0 0 0 0 0 0 0 0 0 0 0 0 0 0 0 0 0 0 0 0 0 0 0 0 0 0 0 0 0 0 0 0 0 0 0 0 0 0 0 0 0 0 1 0]\n",
      "[0 0 0 0 0 0 0 0 0 0 0 0 0 0 0 0 0 0 0 0 0 0 0 0 0 0 0 0 0 0 0 0 0 0 0 0 0 0 0 0 0 0 0 0 0 0 0 0 0 0 0 0 0 0 0 1 0 0 0 0 0 0 0 0 0 0 0 0 0 0 0 0 0 0 0 0 0 0 0 0 0 0 0 0 0 0 0 0 0 0 0 0 0 0 0 0 0 0 0 0 0 0 0 0 0 0 0 0 0 0 0 0 0 0 0 0 0 0 0 1]\n",
      "[0 0 0 0 0 0 0 0 0 0 0 0 0 0 0 0 0 0 0 0 0 0 0 0 0 0 0 0 0 0 0 0 0 0 0 0 0 0 0 0 0 0 0 0 0 0 0 0 0 0 0 0 0 0 0 0 1 0 0 0 0 0 0 0 0 0 0 0 0 0 0 0 0 0 0 0 0 0 0 0 0 0 0 4 0 0 0 0 0 0 0 0 0 0 0 0 0 0 0 0 0 0 0 0 0 0 0 0 0 0 0 0 0 0 0 0 0 0 0 0]\n",
      "[0 0 0 0 0 0 0 0 0 0 0 0 0 0 0 0 0 0 0 0 0 0 0 0 0 0 0 0 0 0 0 0 0 0 0 0 0 0 0 0 0 0 0 0 0 0 0 0 0 0 0 0 0 0 0 0 0 1 0 0 0 0 0 0 0 0 0 0 0 0 0 0 0 0 0 0 0 0 0 0 0 0 1 0 0 0 0 0 0 0 0 0 0 0 0 0 0 0 0 0 0 0 0 0 0 0 0 0 0 0 0 0 0 0 0 0 0 0 0 0]\n",
      "[0 0 0 0 0 0 0 0 0 0 0 0 0 0 0 0 0 0 0 0 0 0 0 0 0 0 0 0 0 0 0 0 0 0 0 0 0 0 0 0 0 0 0 0 0 0 0 0 0 0 0 0 0 0 0 0 0 0 1 0 0 0 0 0 0 0 0 0 0 0 0 0 0 0 0 0 0 0 0 0 0 0 0 1 0 0 0 0 0 0 0 0 0 0 0 0 0 0 0 0 0 0 0 0 0 0 0 0 0 0 0 0 0 0 0 0 0 0 0 0]\n",
      "[0 0 0 0 0 0 0 0 0 0 0 0 0 0 0 0 0 0 0 0 0 0 0 0 0 0 0 0 0 0 0 0 0 0 0 0 0 0 0 0 0 0 0 0 0 0 0 0 0 0 0 0 0 0 0 0 0 0 0 1 0 0 0 0 0 0 0 0 0 0 0 0 0 0 0 0 0 0 0 0 0 4 0 0 0 0 0 0 0 0 0 0 0 0 0 0 0 0 0 0 0 0 0 0 0 0 0 0 0 0 0 0 0 0 0 0 0 0 0 0]\n",
      "[0 0 0 0 0 0 0 0 0 0 0 0 0 0 0 0 0 0 0 0 0 0 0 0 0 0 0 0 0 0 0 0 0 0 0 0 0 0 0 0 0 0 0 0 0 0 0 0 0 0 0 0 0 0 0 0 0 0 0 0 1 0 0 0 0 0 0 0 0 0 0 0 0 0 0 0 0 0 0 0 0 0 4 0 0 0 0 0 0 0 0 0 0 0 0 0 0 0 0 0 0 0 0 0 0 0 0 0 0 0 0 0 0 0 0 0 0 0 0 0]\n",
      "[0 0 0 0 0 0 0 0 0 0 0 0 0 0 0 0 0 0 0 0 0 0 0 0 0 0 0 0 0 0 0 0 0 0 0 0 0 0 0 0 0 0 0 0 0 0 0 0 0 0 0 0 0 0 0 0 0 0 0 0 0 1 0 0 0 0 0 0 0 0 0 0 0 0 0 0 0 0 0 0 0 0 0 4 0 0 0 0 0 0 0 0 0 0 0 0 0 0 0 0 0 0 0 0 0 0 0 0 0 0 0 0 0 0 0 0 0 0 0 0]\n",
      "[0 0 0 0 0 0 0 0 0 0 0 0 0 0 0 0 0 0 0 0 0 0 0 0 0 0 0 0 0 0 0 0 0 0 0 0 0 0 0 0 0 0 0 0 0 0 0 0 0 0 0 0 0 0 0 0 0 0 0 0 0 0 1 0 0 0 0 0 0 0 0 0 0 0 0 0 0 0 0 0 1 0 0 0 0 0 0 0 0 0 0 0 0 0 0 0 0 0 0 0 0 0 0 0 0 0 0 0 0 0 0 0 0 0 0 0 0 0 0 0]\n",
      "[0 0 0 0 0 0 0 0 0 0 0 0 0 0 0 0 0 0 0 0 0 0 0 0 0 0 0 0 0 0 0 0 0 0 0 0 0 0 0 0 0 0 0 0 0 0 0 0 0 0 0 0 0 0 0 0 0 0 0 0 0 0 0 1 0 0 0 0 0 0 0 0 0 0 0 0 0 0 0 0 0 1 0 0 0 0 0 0 0 0 0 0 0 0 0 0 0 0 0 0 0 0 0 0 0 0 0 0 0 0 0 0 0 0 0 0 0 0 0 0]\n",
      "[0 0 0 0 0 0 0 0 0 0 0 0 0 0 0 0 0 0 0 0 0 0 0 0 0 0 0 0 0 0 0 0 0 0 0 0 0 0 0 0 0 0 0 0 0 0 0 0 0 0 0 0 0 0 0 0 0 0 0 0 0 0 0 0 1 0 0 0 0 0 0 0 0 0 0 0 0 0 0 0 0 0 1 0 0 0 0 0 0 0 0 0 0 0 0 0 0 0 0 0 0 0 0 0 0 0 0 0 0 0 0 0 0 0 0 0 0 0 0 0]\n",
      "[0 0 0 0 0 0 0 0 0 0 0 0 0 0 0 0 0 0 0 0 0 0 0 0 0 0 0 0 0 0 0 0 0 0 0 0 0 0 0 0 0 0 0 0 0 0 0 0 0 0 0 0 0 0 0 0 0 0 0 0 0 0 0 0 0 1 0 0 0 0 0 0 0 0 0 0 0 0 0 0 0 0 0 1 0 0 0 0 0 0 0 0 0 0 0 0 0 0 0 0 0 0 0 0 0 0 0 0 0 0 0 0 0 0 0 0 0 0 0 0]\n",
      "[0 0 0 0 0 0 0 0 0 0 0 0 0 0 0 0 0 0 0 0 0 0 0 0 0 0 0 0 0 0 0 0 0 0 0 0 0 0 0 0 0 0 0 0 0 0 0 0 0 0 0 0 0 0 0 0 0 0 0 0 0 0 0 0 0 0 1 0 0 0 0 0 0 0 0 0 0 0 0 4 0 0 0 0 0 0 0 0 0 0 0 0 0 0 0 0 0 0 0 0 0 0 0 0 0 0 0 0 0 0 0 0 0 0 0 0 0 0 0 0]\n",
      "[0 0 0 0 0 0 0 0 0 0 0 0 0 0 0 0 0 0 0 0 0 0 0 0 0 0 0 0 0 0 0 0 0 0 0 0 0 0 0 0 0 0 0 0 0 0 0 0 0 0 0 0 0 0 0 0 0 0 0 0 0 0 0 0 0 0 0 1 0 0 0 0 0 0 0 0 0 0 0 0 4 0 0 0 0 0 0 0 0 0 0 0 0 0 0 0 0 0 0 0 0 0 0 0 0 0 0 0 0 0 0 0 0 0 0 0 0 0 0 0]\n",
      "[0 0 0 0 0 0 0 0 0 0 0 0 0 0 0 0 0 0 0 0 0 0 0 0 0 0 0 0 0 0 0 0 0 0 0 0 0 0 0 0 0 0 0 0 0 0 0 0 0 0 0 0 0 0 0 0 0 0 0 0 0 0 0 0 0 0 0 0 1 0 0 0 0 0 0 0 0 0 0 0 0 4 0 0 0 0 0 0 0 0 0 0 0 0 0 0 0 0 0 0 0 0 0 0 0 0 0 0 0 0 0 0 0 0 0 0 0 0 0 0]\n",
      "[0 0 0 0 0 0 0 0 0 0 0 0 0 0 0 0 0 0 0 0 0 0 0 0 0 0 0 0 0 0 0 0 0 0 0 0 0 0 0 0 0 0 0 0 0 0 0 0 0 0 0 0 0 0 0 0 0 0 0 0 0 0 0 0 0 0 0 0 0 1 0 0 0 0 0 0 0 0 0 0 0 0 4 0 0 0 0 0 0 0 0 0 0 0 0 0 0 0 0 0 0 0 0 0 0 0 0 0 0 0 0 0 0 0 0 0 0 0 0 0]\n",
      "[0 0 0 0 0 0 0 0 0 0 0 0 0 0 0 0 0 0 0 0 0 0 0 0 0 0 0 0 0 0 0 0 0 0 0 0 0 0 0 0 0 0 0 0 0 0 0 0 0 0 0 0 0 0 0 0 0 0 0 0 0 0 0 0 0 0 0 0 0 0 1 0 0 0 0 0 0 0 0 0 0 0 0 4 0 0 0 0 0 0 0 0 0 0 0 0 0 0 0 0 0 0 0 0 0 0 0 0 0 0 0 0 0 0 0 0 0 0 0 0]\n",
      "[0 0 0 0 0 0 0 0 0 0 0 0 0 0 0 0 0 0 0 0 0 0 0 0 0 0 0 0 0 0 0 0 0 0 0 0 0 0 0 0 0 0 0 0 0 0 0 0 0 0 0 0 0 0 0 0 0 0 0 0 0 0 0 0 0 0 0 0 0 0 0 1 0 0 0 0 0 0 0 0 0 0 1 0 0 0 0 0 0 0 0 0 0 0 0 0 0 0 0 0 0 0 0 0 0 0 0 0 0 0 0 0 0 0 0 0 0 0 0 0]\n",
      "[0 0 0 0 0 0 0 0 0 0 0 0 0 0 0 0 0 0 0 0 0 0 0 0 0 0 0 0 0 0 0 0 0 0 0 0 0 0 0 0 0 0 0 0 0 0 0 0 0 0 0 0 0 0 0 0 0 0 0 0 0 0 0 0 0 0 0 0 0 0 0 0 1 0 0 0 0 0 0 1 0 0 0 0 0 0 0 0 0 0 0 0 0 0 0 0 0 0 0 0 0 0 0 0 0 0 0 0 0 0 0 0 0 0 0 0 0 0 0 0]\n",
      "[0 0 0 0 0 0 0 0 0 0 0 0 0 0 0 0 0 0 0 0 0 0 0 0 0 0 0 0 0 0 0 0 0 0 0 0 0 0 0 0 0 0 0 0 0 0 0 0 0 0 0 0 0 0 0 0 0 0 0 0 0 0 0 0 0 0 0 0 0 0 0 0 0 1 0 0 0 0 0 0 1 0 0 0 0 0 0 0 0 0 0 0 0 0 0 0 0 0 0 0 0 0 0 0 0 0 0 0 0 0 0 0 0 0 0 0 0 0 0 0]\n",
      "[0 0 0 0 0 0 0 0 0 0 0 0 0 0 0 0 0 0 0 0 0 0 0 0 0 0 0 0 0 0 0 0 0 0 0 0 0 0 0 0 0 0 0 0 0 0 0 0 0 0 0 0 0 0 0 0 0 0 0 0 0 0 0 0 0 0 0 0 0 0 0 0 0 0 1 0 0 0 0 0 0 1 0 0 0 0 0 0 0 0 0 0 0 0 0 0 0 0 0 0 0 0 0 0 0 0 0 0 0 0 0 0 0 0 0 0 0 0 0 0]\n",
      "[0 0 0 0 0 0 0 0 0 0 0 0 0 0 0 0 0 0 0 0 0 0 0 0 0 0 0 0 0 0 0 0 0 0 0 0 0 0 0 0 0 0 0 0 0 0 0 0 0 0 0 0 0 0 0 0 0 0 0 0 0 0 0 0 0 0 0 0 0 0 0 0 0 0 0 1 0 0 0 0 0 0 1 0 0 0 0 0 0 0 0 0 0 0 0 0 0 0 0 0 0 0 0 0 0 0 0 0 0 0 0 0 0 0 0 0 0 0 0 0]\n",
      "[0 0 0 0 0 0 0 0 0 0 0 0 0 0 0 0 0 0 0 0 0 0 0 0 0 0 0 0 0 0 0 0 0 0 0 0 0 0 0 0 0 0 0 0 0 0 0 0 0 0 0 0 0 0 0 0 0 0 0 0 0 0 0 0 0 0 0 0 0 0 0 0 0 0 0 0 1 0 0 0 0 0 0 1 0 0 0 0 0 0 0 0 0 0 0 0 0 0 0 0 0 0 0 0 0 0 0 0 0 0 0 0 0 0 0 0 0 0 0 0]\n",
      "[0 0 0 0 0 0 0 0 0 0 0 0 0 0 0 0 0 0 0 0 0 0 0 0 0 0 0 0 0 0 0 0 0 0 0 0 0 0 0 0 0 0 0 0 0 0 0 0 0 0 0 0 0 0 0 0 0 0 0 0 0 0 0 0 0 0 0 0 0 0 0 0 0 0 0 0 0 1 0 0 0 4 0 0 0 0 0 0 0 0 0 0 0 0 0 0 0 0 0 0 0 0 0 0 0 0 0 0 0 0 0 0 0 0 0 0 0 0 0 0]\n",
      "[0 0 0 0 0 0 0 0 0 0 0 0 0 0 0 0 0 0 0 0 0 0 0 0 0 0 0 0 0 0 0 0 0 0 0 0 0 0 0 0 0 0 0 0 0 0 0 0 0 0 0 0 0 0 0 0 0 0 0 0 0 0 0 0 0 0 0 0 0 0 0 0 0 0 0 0 0 0 1 0 0 0 4 0 0 0 0 0 0 0 0 0 0 0 0 0 0 0 0 0 0 0 0 0 0 0 0 0 0 0 0 0 0 0 0 0 0 0 0 0]\n",
      "[0 0 0 0 0 0 0 0 0 0 0 0 0 0 0 0 0 0 0 0 0 0 0 0 0 0 0 0 0 0 0 0 0 0 0 0 0 0 0 0 0 0 0 0 0 0 0 0 0 0 0 0 0 0 0 0 0 0 0 0 0 0 0 0 0 0 0 0 0 0 0 0 0 0 0 0 0 0 0 0 0 0 0 0 1 0 0 0 0 0 0 0 0 0 0 0 0 0 0 0 0 0 0 0 0 0 0 0 0 0 0 0 0 0 0 0 0 0 0 1]\n",
      "[0 0 0 0 0 0 0 0 0 0 0 0 0 0 0 0 0 0 0 0 0 0 0 0 0 0 0 0 0 0 0 0 0 0 0 0 0 0 0 0 0 0 0 0 0 0 0 0 0 0 0 0 0 0 0 0 0 0 0 0 0 0 0 0 0 0 0 0 0 0 0 0 0 0 0 0 0 0 0 0 0 0 0 0 0 1 0 0 0 0 0 0 0 0 0 0 0 0 0 0 0 0 0 0 0 0 0 0 0 0 0 0 0 0 0 0 0 0 4 0]\n",
      "[0 0 0 0 0 0 0 0 0 0 0 0 0 0 0 0 0 0 0 0 0 0 0 0 0 0 0 0 0 0 0 0 0 0 0 0 0 0 0 0 0 0 0 0 0 0 0 0 0 0 0 0 0 0 0 0 0 0 0 0 0 0 0 0 0 0 0 0 0 0 0 0 0 0 0 0 0 0 0 0 0 0 0 0 0 0 1 0 0 0 0 0 0 0 0 0 0 0 0 0 0 0 0 0 0 0 0 0 0 0 0 0 0 0 0 0 0 0 0 4]\n",
      "[0 0 0 0 0 0 0 0 0 0 0 0 0 0 0 0 0 0 0 0 0 0 0 0 0 0 0 0 0 0 0 0 0 0 0 0 0 0 0 0 0 0 0 0 0 0 0 0 0 0 0 0 0 0 0 0 0 0 0 0 0 0 0 0 0 0 0 0 0 0 0 0 0 0 0 0 0 0 0 0 0 0 0 0 0 0 0 1 0 0 0 0 0 0 0 0 0 0 0 0 0 0 0 0 0 0 0 0 0 0 0 0 0 0 0 0 0 1 0 0]\n",
      "[0 0 0 0 0 0 0 0 0 0 0 0 0 0 0 0 0 0 0 0 0 0 0 0 0 0 0 0 0 0 0 0 0 0 0 0 0 0 0 0 0 0 0 0 0 0 0 0 0 0 0 0 0 0 0 0 0 0 0 0 0 0 0 0 0 0 0 0 0 0 0 0 0 0 0 0 0 0 0 0 0 0 0 0 0 0 0 0 1 0 0 0 0 0 0 0 0 0 0 0 0 0 0 0 0 0 0 0 0 0 0 0 0 0 0 0 0 0 1 0]\n",
      "[0 0 0 0 0 0 0 0 0 0 0 0 0 0 0 0 0 0 0 0 0 0 0 0 0 0 0 0 0 0 0 0 0 0 0 0 0 0 0 0 0 0 0 0 0 0 0 0 0 0 0 0 0 0 0 0 0 0 0 0 0 0 0 0 0 0 0 0 0 0 0 0 0 0 0 0 0 0 0 0 0 0 0 0 0 0 0 0 0 1 0 0 0 0 0 0 0 0 0 0 0 0 0 0 0 0 0 0 0 0 0 0 0 0 0 0 0 0 0 1]\n",
      "[0 0 0 0 0 0 0 0 0 0 0 0 0 0 0 0 0 0 0 0 0 0 0 0 0 0 0 0 0 0 0 0 0 0 0 0 0 0 0 0 0 0 0 0 0 0 0 0 0 0 0 0 0 0 0 0 0 0 0 0 0 0 0 0 0 0 0 0 0 0 0 0 0 0 0 0 0 0 0 0 0 0 0 0 0 0 0 0 0 0 1 0 0 0 0 0 0 0 0 0 0 0 0 0 0 0 0 0 0 0 0 0 0 0 0 0 4 0 0 0]\n",
      "[0 0 0 0 0 0 0 0 0 0 0 0 0 0 0 0 0 0 0 0 0 0 0 0 0 0 0 0 0 0 0 0 0 0 0 0 0 0 0 0 0 0 0 0 0 0 0 0 0 0 0 0 0 0 0 0 0 0 0 0 0 0 0 0 0 0 0 0 0 0 0 0 0 0 0 0 0 0 0 0 0 0 0 0 0 0 0 0 0 0 0 1 0 0 0 0 0 0 0 0 0 0 0 0 0 0 0 0 0 0 0 0 0 0 0 0 0 4 0 0]\n",
      "[0 0 0 0 0 0 0 0 0 0 0 0 0 0 0 0 0 0 0 0 0 0 0 0 0 0 0 0 0 0 0 0 0 0 0 0 0 0 0 0 0 0 0 0 0 0 0 0 0 0 0 0 0 0 0 0 0 0 0 0 0 0 0 0 0 0 0 0 0 0 0 0 0 0 0 0 0 0 0 0 0 0 0 0 0 0 0 0 0 0 0 0 1 0 0 0 0 0 0 0 0 0 0 0 0 0 0 0 0 0 0 0 0 0 0 0 0 0 4 0]\n",
      "[0 0 0 0 0 0 0 0 0 0 0 0 0 0 0 0 0 0 0 0 0 0 0 0 0 0 0 0 0 0 0 0 0 0 0 0 0 0 0 0 0 0 0 0 0 0 0 0 0 0 0 0 0 0 0 0 0 0 0 0 0 0 0 0 0 0 0 0 0 0 0 0 0 0 0 0 0 0 0 0 0 0 0 0 0 0 0 0 0 0 0 0 0 1 0 0 0 0 0 0 0 0 0 0 0 0 0 0 0 0 0 0 0 0 0 0 0 0 0 4]\n",
      "[0 0 0 0 0 0 0 0 0 0 0 0 0 0 0 0 0 0 0 0 0 0 0 0 0 0 0 0 0 0 0 0 0 0 0 0 0 0 0 0 0 0 0 0 0 0 0 0 0 0 0 0 0 0 0 0 0 0 0 0 0 0 0 0 0 0 0 0 0 0 0 0 0 0 0 0 0 0 0 0 0 0 0 0 0 0 0 0 0 0 0 0 0 0 1 0 0 0 0 0 0 0 0 0 0 0 0 0 0 0 0 0 0 0 0 1 0 0 0 0]\n",
      "[0 0 0 0 0 0 0 0 0 0 0 0 0 0 0 0 0 0 0 0 0 0 0 0 0 0 0 0 0 0 0 0 0 0 0 0 0 0 0 0 0 0 0 0 0 0 0 0 0 0 0 0 0 0 0 0 0 0 0 0 0 0 0 0 0 0 0 0 0 0 0 0 0 0 0 0 0 0 0 0 0 0 0 0 0 0 0 0 0 0 0 0 0 0 0 1 0 0 0 0 0 0 0 0 0 0 0 0 0 0 0 0 0 0 0 0 1 0 0 0]\n",
      "[0 0 0 0 0 0 0 0 0 0 0 0 0 0 0 0 0 0 0 0 0 0 0 0 0 0 0 0 0 0 0 0 0 0 0 0 0 0 0 0 0 0 0 0 0 0 0 0 0 0 0 0 0 0 0 0 0 0 0 0 0 0 0 0 0 0 0 0 0 0 0 0 0 0 0 0 0 0 0 0 0 0 0 0 0 0 0 0 0 0 0 0 0 0 0 0 1 0 0 0 0 0 0 0 0 0 0 0 0 0 0 0 0 0 0 0 0 1 0 0]\n",
      "[0 0 0 0 0 0 0 0 0 0 0 0 0 0 0 0 0 0 0 0 0 0 0 0 0 0 0 0 0 0 0 0 0 0 0 0 0 0 0 0 0 0 0 0 0 0 0 0 0 0 0 0 0 0 0 0 0 0 0 0 0 0 0 0 0 0 0 0 0 0 0 0 0 0 0 0 0 0 0 0 0 0 0 0 0 0 0 0 0 0 0 0 0 0 0 0 0 1 0 0 0 0 0 0 0 0 0 0 0 0 0 0 0 0 0 0 0 0 1 0]\n",
      "[0 0 0 0 0 0 0 0 0 0 0 0 0 0 0 0 0 0 0 0 0 0 0 0 0 0 0 0 0 0 0 0 0 0 0 0 0 0 0 0 0 0 0 0 0 0 0 0 0 0 0 0 0 0 0 0 0 0 0 0 0 0 0 0 0 0 0 0 0 0 0 0 0 0 0 0 0 0 0 0 0 0 0 0 0 0 0 0 0 0 0 0 0 0 0 0 0 0 1 0 0 0 0 0 0 0 0 0 0 0 0 0 0 0 0 0 0 0 0 1]\n",
      "[0 0 0 0 0 0 0 0 0 0 0 0 0 0 0 0 0 0 0 0 0 0 0 0 0 0 0 0 0 0 0 0 0 0 0 0 0 0 0 0 0 0 0 0 0 0 0 0 0 0 0 0 0 0 0 0 0 0 0 0 0 0 0 0 0 0 0 0 0 0 0 0 0 0 0 0 0 0 0 0 0 0 0 0 0 0 0 0 0 0 0 0 0 0 0 0 0 0 0 1 0 0 0 0 0 0 0 0 0 0 0 0 0 0 0 0 0 0 4 0]\n",
      "[0 0 0 0 0 0 0 0 0 0 0 0 0 0 0 0 0 0 0 0 0 0 0 0 0 0 0 0 0 0 0 0 0 0 0 0 0 0 0 0 0 0 0 0 0 0 0 0 0 0 0 0 0 0 0 0 0 0 0 0 0 0 0 0 0 0 0 0 0 0 0 0 0 0 0 0 0 0 0 0 0 0 0 0 0 0 0 0 0 0 0 0 0 0 0 0 0 0 0 0 1 0 0 0 0 0 0 0 0 0 0 0 0 0 0 4 0 0 0 0]\n",
      "[0 0 0 0 0 0 0 0 0 0 0 0 0 0 0 0 0 0 0 0 0 0 0 0 0 0 0 0 0 0 0 0 0 0 0 0 0 0 0 0 0 0 0 0 0 0 0 0 0 0 0 0 0 0 0 0 0 0 0 0 0 0 0 0 0 0 0 0 0 0 0 0 0 0 0 0 0 0 0 0 0 0 0 0 0 0 0 0 0 0 0 0 0 0 0 0 0 0 0 0 0 1 0 0 0 0 0 0 0 0 0 0 0 0 0 0 4 0 0 0]\n",
      "[0 0 0 0 0 0 0 0 0 0 0 0 0 0 0 0 0 0 0 0 0 0 0 0 0 0 0 0 0 0 0 0 0 0 0 0 0 0 0 0 0 0 0 0 0 0 0 0 0 0 0 0 0 0 0 0 0 0 0 0 0 0 0 0 0 0 0 0 0 0 0 0 0 0 0 0 0 0 0 0 0 0 0 0 0 0 0 0 0 0 0 0 0 0 0 0 0 0 0 0 0 0 1 0 0 0 0 0 0 0 0 0 0 0 0 0 0 4 0 0]\n",
      "[0 0 0 0 0 0 0 0 0 0 0 0 0 0 0 0 0 0 0 0 0 0 0 0 0 0 0 0 0 0 0 0 0 0 0 0 0 0 0 0 0 0 0 0 0 0 0 0 0 0 0 0 0 0 0 0 0 0 0 0 0 0 0 0 0 0 0 0 0 0 0 0 0 0 0 0 0 0 0 0 0 0 0 0 0 0 0 0 0 0 0 0 0 0 0 0 0 0 0 0 0 0 0 1 0 0 0 0 0 0 0 0 0 0 0 0 0 0 4 0]\n",
      "[0 0 0 0 0 0 0 0 0 0 0 0 0 0 0 0 0 0 0 0 0 0 0 0 0 0 0 0 0 0 0 0 0 0 0 0 0 0 0 0 0 0 0 0 0 0 0 0 0 0 0 0 0 0 0 0 0 0 0 0 0 0 0 0 0 0 0 0 0 0 0 0 0 0 0 0 0 0 0 0 0 0 0 0 0 0 0 0 0 0 0 0 0 0 0 0 0 0 0 0 0 0 0 0 1 0 0 0 0 0 0 0 0 0 0 0 0 0 0 4]\n",
      "[0 0 0 0 0 0 0 0 0 0 0 0 0 0 0 0 0 0 0 0 0 0 0 0 0 0 0 0 0 0 0 0 0 0 0 0 0 0 0 0 0 0 0 0 0 0 0 0 0 0 0 0 0 0 0 0 0 0 0 0 0 0 0 0 0 0 0 0 0 0 0 0 0 0 0 0 0 0 0 0 0 0 0 0 0 0 0 0 0 0 0 0 0 0 0 0 0 0 0 0 0 0 0 0 0 1 0 0 0 0 0 0 0 0 0 0 0 1 0 0]\n",
      "[0 0 0 0 0 0 0 0 0 0 0 0 0 0 0 0 0 0 0 0 0 0 0 0 0 0 0 0 0 0 0 0 0 0 0 0 0 0 0 0 0 0 0 0 0 0 0 0 0 0 0 0 0 0 0 0 0 0 0 0 0 0 0 0 0 0 0 0 0 0 0 0 0 0 0 0 0 0 0 0 0 0 0 0 0 0 0 0 0 0 0 0 0 0 0 0 0 0 0 0 0 0 0 0 0 0 1 0 0 0 0 0 0 0 0 0 0 0 1 0]\n",
      "[0 0 0 0 0 0 0 0 0 0 0 0 0 0 0 0 0 0 0 0 0 0 0 0 0 0 0 0 0 0 0 0 0 0 0 0 0 0 0 0 0 0 0 0 0 0 0 0 0 0 0 0 0 0 0 0 0 0 0 0 0 0 0 0 0 0 0 0 0 0 0 0 0 0 0 0 0 0 0 0 0 0 0 0 0 0 0 0 0 0 0 0 0 0 0 0 0 0 0 0 0 0 0 0 0 0 0 1 0 0 0 0 0 0 0 1 0 0 0 0]\n",
      "[0 0 0 0 0 0 0 0 0 0 0 0 0 0 0 0 0 0 0 0 0 0 0 0 0 0 0 0 0 0 0 0 0 0 0 0 0 0 0 0 0 0 0 0 0 0 0 0 0 0 0 0 0 0 0 0 0 0 0 0 0 0 0 0 0 0 0 0 0 0 0 0 0 0 0 0 0 0 0 0 0 0 0 0 0 0 0 0 0 0 0 0 0 0 0 0 0 0 0 0 0 0 0 0 0 0 0 0 1 0 0 0 0 0 0 0 1 0 0 0]\n",
      "[0 0 0 0 0 0 0 0 0 0 0 0 0 0 0 0 0 0 0 0 0 0 0 0 0 0 0 0 0 0 0 0 0 0 0 0 0 0 0 0 0 0 0 0 0 0 0 0 0 0 0 0 0 0 0 0 0 0 0 0 0 0 0 0 0 0 0 0 0 0 0 0 0 0 0 0 0 0 0 0 0 0 0 0 0 0 0 0 0 0 0 0 0 0 0 0 0 0 0 0 0 0 0 0 0 0 0 0 0 1 0 0 0 0 0 0 0 1 0 0]\n",
      "[0 0 0 0 0 0 0 0 0 0 0 0 0 0 0 0 0 0 0 0 0 0 0 0 0 0 0 0 0 0 0 0 0 0 0 0 0 0 0 0 0 0 0 0 0 0 0 0 0 0 0 0 0 0 0 0 0 0 0 0 0 0 0 0 0 0 0 0 0 0 0 0 0 0 0 0 0 0 0 0 0 0 0 0 0 0 0 0 0 0 0 0 0 0 0 0 0 0 0 0 0 0 0 0 0 0 0 0 0 0 1 0 0 0 0 0 0 0 1 0]\n",
      "[0 0 0 0 0 0 0 0 0 0 0 0 0 0 0 0 0 0 0 0 0 0 0 0 0 0 0 0 0 0 0 0 0 0 0 0 0 0 0 0 0 0 0 0 0 0 0 0 0 0 0 0 0 0 0 0 0 0 0 0 0 0 0 0 0 0 0 0 0 0 0 0 0 0 0 0 0 0 0 0 0 0 0 0 0 0 0 0 0 0 0 0 0 0 0 0 0 0 0 0 0 0 0 0 0 0 0 0 0 0 0 1 0 0 0 0 0 0 0 1]\n",
      "[0 0 0 0 0 0 0 0 0 0 0 0 0 0 0 0 0 0 0 0 0 0 0 0 0 0 0 0 0 0 0 0 0 0 0 0 0 0 0 0 0 0 0 0 0 0 0 0 0 0 0 0 0 0 0 0 0 0 0 0 0 0 0 0 0 0 0 0 0 0 0 0 0 0 0 0 0 0 0 0 0 0 0 0 0 0 0 0 0 0 0 0 0 0 0 0 0 0 0 0 0 0 0 0 0 0 0 0 0 0 0 0 1 0 0 0 4 0 0 0]\n",
      "[0 0 0 0 0 0 0 0 0 0 0 0 0 0 0 0 0 0 0 0 0 0 0 0 0 0 0 0 0 0 0 0 0 0 0 0 0 0 0 0 0 0 0 0 0 0 0 0 0 0 0 0 0 0 0 0 0 0 0 0 0 0 0 0 0 0 0 0 0 0 0 0 0 0 0 0 0 0 0 0 0 0 0 0 0 0 0 0 0 0 0 0 0 0 0 0 0 0 0 0 0 0 0 0 0 0 0 0 0 0 0 0 0 1 0 0 0 4 0 0]\n",
      "[0 0 0 0 0 0 0 0 0 0 0 0 0 0 0 0 0 0 0 0 0 0 0 0 0 0 0 0 0 0 0 0 0 0 0 0 0 0 0 0 0 0 0 0 0 0 0 0 0 0 0 0 0 0 0 0 0 0 0 0 0 0 0 0 0 0 0 0 0 0 0 0 0 0 0 0 0 0 0 0 0 0 0 0 0 0 0 0 0 0 0 0 0 0 0 0 0 0 0 0 0 0 0 0 0 0 0 0 0 0 0 0 0 0 1 0 0 0 4 0]\n",
      "[0 0 0 0 0 0 0 0 0 0 0 0 0 0 0 0 0 0 0 0 0 0 0 0 0 0 0 0 0 0 0 0 0 0 0 0 0 0 0 0 0 0 0 0 0 0 0 0 0 0 0 0 0 0 0 0 0 0 0 0 0 0 0 0 0 0 0 0 0 0 0 0 0 0 0 0 0 0 0 0 0 0 0 0 0 0 0 0 0 0 0 0 0 0 0 0 0 0 0 0 0 0 0 0 0 0 0 0 0 0 0 0 0 0 0 0 0 0 0 0]\n",
      "[0 0 0 0 0 0 0 0 0 0 0 0 0 0 0 0 0 0 0 0 0 0 0 0 0 0 0 0 0 0 0 0 0 0 0 0 0 0 0 0 0 0 0 0 0 0 0 0 0 0 0 0 0 0 0 0 0 0 0 0 0 0 0 0 0 0 0 0 0 0 0 0 0 0 0 0 0 0 0 0 0 0 0 0 0 0 0 0 0 0 0 0 0 0 0 0 0 0 0 0 0 0 0 0 0 0 0 0 0 0 0 0 0 0 0 0 0 0 0 0]\n",
      "[0 0 0 0 0 0 0 0 0 0 0 0 0 0 0 0 0 0 0 0 0 0 0 0 0 0 0 0 0 0 0 0 0 0 0 0 0 0 0 0 0 0 0 0 0 0 0 0 0 0 0 0 0 0 0 0 0 0 0 0 0 0 0 0 0 0 0 0 0 0 0 0 0 0 0 0 0 0 0 0 0 0 0 0 0 0 0 0 0 0 0 0 0 0 0 0 0 0 0 0 0 0 0 0 0 0 0 0 0 0 0 0 0 0 0 0 0 0 0 0]\n",
      "[0 0 0 0 0 0 0 0 0 0 0 0 0 0 0 0 0 0 0 0 0 0 0 0 0 0 0 0 0 0 0 0 0 0 0 0 0 0 0 0 0 0 0 0 0 0 0 0 0 0 0 0 0 0 0 0 0 0 0 0 0 0 0 0 0 0 0 0 0 0 0 0 0 0 0 0 0 0 0 0 0 0 0 0 0 0 0 0 0 0 0 0 0 0 0 0 0 0 0 0 0 0 0 0 0 0 0 0 0 0 0 0 0 0 0 0 0 0 0 0]\n",
      "[0 0 0 0 0 0 0 0 0 0 0 0 0 0 0 0 0 0 0 0 0 0 0 0 0 0 0 0 0 0 0 0 0 0 0 0 0 0 0 0 0 0 0 0 0 0 0 0 0 0 0 0 0 0 0 0 0 0 0 0 0 0 0 0 0 0 0 0 0 0 0 0 0 0 0 0 0 0 0 0 0 0 0 0 0 0 0 0 0 0 0 0 0 0 0 0 0 0 0 0 0 0 0 0 0 0 0 0 0 0 0 0 0 0 0 0 0 0 0 0]\n",
      "[0 0 0 0 0 0 0 0 0 0 0 0 0 0 0 0 0 0 0 0 0 0 0 0 0 0 0 0 0 0 0 0 0 0 0 0 0 0 0 0 0 0 0 0 0 0 0 0 0 0 0 0 0 0 0 0 0 0 0 0 0 0 0 0 0 0 0 0 0 0 0 0 0 0 0 0 0 0 0 0 0 0 0 0 0 0 0 0 0 0 0 0 0 0 0 0 0 0 0 0 0 0 0 0 0 0 0 0 0 0 0 0 0 0 0 0 0 0 0 0]\n",
      "[0 0 0 0 0 0 0 0 0 0 0 0 0 0 0 0 0 0 0 0 0 0 0 0 0 0 0 0 0 0 0 0 0 0 0 0 0 0 0 0 0 0 0 0 0 0 0 0 0 0 0 0 0 0 0 0 0 0 0 0 0 0 0 0 0 0 0 0 0 0 0 0 0 0 0 0 0 0 0 0 0 0 0 0 0 0 0 0 0 0 0 0 0 0 0 0 0 0 0 0 0 0 0 0 0 0 0 0 0 0 0 0 0 0 0 0 0 0 0 0]\n",
      "[0 0 0 0 0 0 0 0 0 0 0 0 0 0 0 0 0 0 0 0 0 0 0 0 0 0 0 0 0 0 0 0 0 0 0 0 0 0 0 0 0 0 0 0 0 0 0 0 0 0 0 0 0 0 0 0 0 0 0 0 0 0 0 0 0 0 0 0 0 0 0 0 0 0 0 0 0 0 0 0 0 0 0 0 0 0 0 0 0 0 0 0 0 0 0 0 0 0 0 0 0 0 0 0 0 0 0 0 0 0 0 0 0 0 0 0 0 0 0 0]\n",
      "[0 0 0 0 0 0 0 0 0 0 0 0 0 0 0 0 0 0 0 0 0 0 0 0 0 0 0 0 0 0 0 0 0 0 0 0 0 0 0 0 0 0 0 0 0 0 0 0 0 0 0 0 0 0 0 0 0 0 0 0 0 0 0 0 0 0 0 0 0 0 0 0 0 0 0 0 0 0 0 0 0 0 0 0 0 0 0 0 0 0 0 0 0 0 0 0 0 0 0 0 0 0 0 0 0 0 0 0 0 0 0 0 0 0 0 0 0 0 0 0]\n",
      "[0 0 0 0 0 0 0 0 0 0 0 0 0 0 0 0 0 0 0 0 0 0 0 0 0 0 0 0 0 0 0 0 0 0 0 0 0 0 0 0 0 0 0 0 0 0 0 0 0 0 0 0 0 0 0 0 0 0 0 0 0 0 0 0 0 0 0 0 0 0 0 0 0 0 0 0 0 0 0 0 0 0 0 0 0 0 0 0 0 0 0 0 0 0 0 0 0 0 0 0 0 0 0 0 0 0 0 0 0 0 0 0 0 0 0 0 0 0 0 0]\n",
      "[0 0 0 0 0 0 0 0 0 0 0 0 0 0 0 0 0 0 0 0 0 0 0 0 0 0 0 0 0 0 0 0 0 0 0 0 0 0 0 0 0 0 0 0 0 0 0 0 0 0 0 0 0 0 0 0 0 0 0 0 0 0 0 0 0 0 0 0 0 0 0 0 0 0 0 0 0 0 0 0 0 0 0 0 0 0 0 0 0 0 0 0 0 0 0 0 0 0 0 0 0 0 0 0 0 0 0 0 0 0 0 0 0 0 0 0 0 0 0 0]\n",
      "[0 0 0 0 0 0 0 0 0 0 0 0 0 0 0 0 0 0 0 0 0 0 0 0 0 0 0 0 0 0 0 0 0 0 0 0 0 0 0 0 0 0 0 0 0 0 0 0 0 0 0 0 0 0 0 0 0 0 0 0 0 0 0 0 0 0 0 0 0 0 0 0 0 0 0 0 0 0 0 0 0 0 0 0 0 0 0 0 0 0 0 0 0 0 0 0 0 0 0 0 0 0 0 0 0 0 0 0 0 0 0 0 0 0 0 0 0 0 0 0]\n",
      "[0 0 0 0 0 0 0 0 0 0 0 0 0 0 0 0 0 0 0 0 0 0 0 0 0 0 0 0 0 0 0 0 0 0 0 0 0 0 0 0 0 0 0 0 0 0 0 0 0 0 0 0 0 0 0 0 0 0 0 0 0 0 0 0 0 0 0 0 0 0 0 0 0 0 0 0 0 0 0 0 0 0 0 0 0 0 0 0 0 0 0 0 0 0 0 0 0 0 0 0 0 0 0 0 0 0 0 0 0 0 0 0 0 0 0 0 0 0 0 0]\n",
      "[0 0 0 0 0 0 0 0 0 0 0 0 0 0 0 0 0 0 0 0 0 0 0 0 0 0 0 0 0 0 0 0 0 0 0 0 0 0 0 0 0 0 0 0 0 0 0 0 0 0 0 0 0 0 0 0 0 0 0 0 0 0 0 0 0 0 0 0 0 0 0 0 0 0 0 0 0 0 0 0 0 0 0 0 0 0 0 0 0 0 0 0 0 0 0 0 0 0 0 0 0 0 0 0 0 0 0 0 0 0 0 0 0 0 0 0 0 0 0 0]\n",
      "[0 0 0 0 0 0 0 0 0 0 0 0 0 0 0 0 0 0 0 0 0 0 0 0 0 0 0 0 0 0 0 0 0 0 0 0 0 0 0 0 0 0 0 0 0 0 0 0 0 0 0 0 0 0 0 0 0 0 0 0 0 0 0 0 0 0 0 0 0 0 0 0 0 0 0 0 0 0 0 0 0 0 0 0 0 0 0 0 0 0 0 0 0 0 0 0 0 0 0 0 0 0 0 0 0 0 0 0 0 0 0 0 0 0 0 0 0 0 0 0]\n",
      "[0 0 0 0 0 0 0 0 0 0 0 0 0 0 0 0 0 0 0 0 0 0 0 0 0 0 0 0 0 0 0 0 0 0 0 0 0 0 0 0 0 0 0 0 0 0 0 0 0 0 0 0 0 0 0 0 0 0 0 0 0 0 0 0 0 0 0 0 0 0 0 0 0 0 0 0 0 0 0 0 0 0 0 0 0 0 0 0 0 0 0 0 0 0 0 0 0 0 0 0 0 0 0 0 0 0 0 0 0 0 0 0 0 0 0 0 0 0 0 0]\n",
      "[0 0 0 0 0 0 0 0 0 0 0 0 0 0 0 0 0 0 0 0 0 0 0 0 0 0 0 0 0 0 0 0 0 0 0 0 0 0 0 0 0 0 0 0 0 0 0 0 0 0 0 0 0 0 0 0 0 0 0 0 0 0 0 0 0 0 0 0 0 0 0 0 0 0 0 0 0 0 0 0 0 0 0 0 0 0 0 0 0 0 0 0 0 0 0 0 0 0 0 0 0 0 0 0 0 0 0 0 0 0 0 0 0 0 0 0 0 0 0 0]\n",
      "[0 0 0 0 0 0 0 0 0 0 0 0 0 0 0 0 0 0 0 0 0 0 0 0 0 0 0 0 0 0 0 0 0 0 0 0 0 0 0 0 0 0 0 0 0 0 0 0 0 0 0 0 0 0 0 0 0 0 0 0 0 0 0 0 0 0 0 0 0 0 0 0 0 0 0 0 0 0 0 0 0 0 0 0 0 0 0 0 0 0 0 0 0 0 0 0 0 0 0 0 0 0 0 0 0 0 0 0 0 0 0 0 0 0 0 0 0 0 0 0]\n",
      "[0 0 0 0 0 0 0 0 0 0 0 0 0 0 0 0 0 0 0 0 0 0 0 0 0 0 0 0 0 0 0 0 0 0 0 0 0 0 0 0 0 0 0 0 0 0 0 0 0 0 0 0 0 0 0 0 0 0 0 0 0 0 0 0 0 0 0 0 0 0 0 0 0 0 0 0 0 0 0 0 0 0 0 0 0 0 0 0 0 0 0 0 0 0 0 0 0 0 0 0 0 0 0 0 0 0 0 0 0 0 0 0 0 0 0 0 0 0 0 0]\n",
      "[0 0 0 0 0 0 0 0 0 0 0 0 0 0 0 0 0 0 0 0 0 0 0 0 0 0 0 0 0 0 0 0 0 0 0 0 0 0 0 0 0 0 0 0 0 0 0 0 0 0 0 0 0 0 0 0 0 0 0 0 0 0 0 0 0 0 0 0 0 0 0 0 0 0 0 0 0 0 0 0 0 0 0 0 0 0 0 0 0 0 0 0 0 0 0 0 0 0 0 0 0 0 0 0 0 0 0 0 0 0 0 0 0 0 0 0 0 0 0 0]\n",
      "[0 0 0 0 0 0 0 0 0 0 0 0 0 0 0 0 0 0 0 0 0 0 0 0 0 0 0 0 0 0 0 0 0 0 0 0 0 0 0 0 0 0 0 0 0 0 0 0 0 0 0 0 0 0 0 0 0 0 0 0 0 0 0 0 0 0 0 0 0 0 0 0 0 0 0 0 0 0 0 0 0 0 0 0 0 0 0 0 0 0 0 0 0 0 0 0 0 0 0 0 0 0 0 0 0 0 0 0 0 0 0 0 0 0 0 0 0 0 0 0]\n",
      "[0 0 0 0 0 0 0 0 0 0 0 0 0 0 0 0 0 0 0 0 0 0 0 0 0 0 0 0 0 0 0 0 0 0 0 0 0 0 0 0 0 0 0 0 0 0 0 0 0 0 0 0 0 0 0 0 0 0 0 0 0 0 0 0 0 0 0 0 0 0 0 0 0 0 0 0 0 0 0 0 0 0 0 0 0 0 0 0 0 0 0 0 0 0 0 0 0 0 0 0 0 0 0 0 0 0 0 0 0 0 0 0 0 0 0 0 0 0 0 0]\n",
      "[0 0 0 0 0 0 0 0 0 0 0 0 0 0 0 0 0 0 0 0 0 0 0 0 0 0 0 0 0 0 0 0 0 0 0 0 0 0 0 0 0 0 0 0 0 0 0 0 0 0 0 0 0 0 0 0 0 0 0 0 0 0 0 0 0 0 0 0 0 0 0 0 0 0 0 0 0 0 0 0 0 0 0 0 0 0 0 0 0 0 0 0 0 0 0 0 0 0 0 0 0 0 0 0 0 0 0 0 0 0 0 0 0 0 0 0 0 0 0 0]\n",
      "[0 0 0 0 0 0 0 0 0 0 0 0 0 0 0 0 0 0 0 0 0 0 0 0 0 0 0 0 0 0 0 0 0 0 0 0 0 0 0 0 0 0 0 0 0 0 0 0 0 0 0 0 0 0 0 0 0 0 0 0 0 0 0 0 0 0 0 0 0 0 0 0 0 0 0 0 0 0 0 0 0 0 0 0 0 0 0 0 0 0 0 0 0 0 0 0 0 0 0 0 0 0 0 0 0 0 0 0 0 0 0 0 0 0 0 0 0 0 0 0]\n",
      "[0 0 0 0 0 0 0 0 0 0 0 0 0 0 0 0 0 0 0 0 0 0 0 0 0 0 0 0 0 0 0 0 0 0 0 0 0 0 0 0 0 0 0 0 0 0 0 0 0 0 0 0 0 0 0 0 0 0 0 0 0 0 0 0 0 0 0 0 0 0 0 0 0 0 0 0 0 0 0 0 0 0 0 0 0 0 0 0 0 0 0 0 0 0 0 0 0 0 0 0 0 0 0 0 0 0 0 0 0 0 0 0 0 0 0 0 0 0 0 0]\n",
      "[0 0 0 0 0 0 0 0 0 0 0 0 0 0 0 0 0 0 0 0 0 0 0 0 0 0 0 0 0 0 0 0 0 0 0 0 0 0 0 0 0 0 0 0 0 0 0 0 0 0 0 0 0 0 0 0 0 0 0 0 0 0 0 0 0 0 0 0 0 0 0 0 0 0 0 0 0 0 0 0 0 0 0 0 0 0 0 0 0 0 0 0 0 0 0 0 0 0 0 0 0 0 0 0 0 0 0 0 0 0 0 0 0 0 0 0 0 0 0 0]\n",
      "[0 0 0 0 0 0 0 0 0 0 0 0 0 0 0 0 0 0 0 0 0 0 0 0 0 0 0 0 0 0 0 0 0 0 0 0 0 0 0 0 0 0 0 0 0 0 0 0 0 0 0 0 0 0 0 0 0 0 0 0 0 0 0 0 0 0 0 0 0 0 0 0 0 0 0 0 0 0 0 0 0 0 0 0 0 0 0 0 0 0 0 0 0 0 0 0 0 0 0 0 0 0 0 0 0 0 0 0 0 0 0 0 0 0 0 0 0 0 0 0]\n",
      "[0 0 0 0 0 0 0 0 0 0 0 0 0 0 0 0 0 0 0 0 0 0 0 0 0 0 0 0 0 0 0 0 0 0 0 0 0 0 0 0 0 0 0 0 0 0 0 0 0 0 0 0 0 0 0 0 0 0 0 0 0 0 0 0 0 0 0 0 0 0 0 0 0 0 0 0 0 0 0 0 0 0 0 0 0 0 0 0 0 0 0 0 0 0 0 0 0 0 0 0 0 0 0 0 0 0 0 0 0 0 0 0 0 0 0 0 0 0 0 0]\n",
      "[0 0 0 0 0 0 0 0 0 0 0 0 0 0 0 0 0 0 0 0 0 0 0 0 0 0 0 0 0 0 0 0 0 0 0 0 0 0 0 0 0 0 0 0 0 0 0 0 0 0 0 0 0 0 0 0 0 0 0 0 0 0 0 0 0 0 0 0 0 0 0 0 0 0 0 0 0 0 0 0 0 0 0 0 0 0 0 0 0 0 0 0 0 0 0 0 0 0 0 0 0 0 0 0 0 0 0 0 0 0 0 0 0 0 0 0 0 0 0 0]\n",
      "[0 0 0 0 0 0 0 0 0 0 0 0 0 0 0 0 0 0 0 0 0 0 0 0 0 0 0 0 0 0 0 0 0 0 0 0 0 0 0 0 0 0 0 0 0 0 0 0 0 0 0 0 0 0 0 0 0 0 0 0 0 0 0 0 0 0 0 0 0 0 0 0 0 0 0 0 0 0 0 0 0 0 0 0 0 0 0 0 0 0 0 0 0 0 0 0 0 0 0 0 0 0 0 0 0 0 0 0 0 0 0 0 0 0 0 0 0 0 0 0]\n",
      "[0 0 0 0 0 0 0 0 0 0 0 0 0 0 0 0 0 0 0 0 0 0 0 0 0 0 0 0 0 0 0 0 0 0 0 0 0 0 0 0 0 0 0 0 0 0 0 0 0 0 0 0 0 0 0 0 0 0 0 0 0 0 0 0 0 0 0 0 0 0 0 0 0 0 0 0 0 0 0 0 0 0 0 0 0 0 0 0 0 0 0 0 0 0 0 0 0 0 0 0 0 0 0 0 0 0 0 0 0 0 0 0 0 0 0 0 0 0 0 0]\n",
      "[0 0 0 0 0 0 0 0 0 0 0 0 0 0 0 0 0 0 0 0 0 0 0 0 0 0 0 0 0 0 0 0 0 0 0 0 0 0 0 0 0 0 0 0 0 0 0 0 0 0 0 0 0 0 0 0 0 0 0 0 0 0 0 0 0 0 0 0 0 0 0 0 0 0 0 0 0 0 0 0 0 0 0 0 0 0 0 0 0 0 0 0 0 0 0 0 0 0 0 0 0 0 0 0 0 0 0 0 0 0 0 0 0 0 0 0 0 0 0 0]\n",
      "[0 0 0 0 0 0 0 0 0 0 0 0 0 0 0 0 0 0 0 0 0 0 0 0 0 0 0 0 0 0 0 0 0 0 0 0 0 0 0 0 0 0 0 0 0 0 0 0 0 0 0 0 0 0 0 0 0 0 0 0 0 0 0 0 0 0 0 0 0 0 0 0 0 0 0 0 0 0 0 0 0 0 0 0 0 0 0 0 0 0 0 0 0 0 0 0 0 0 0 0 0 0 0 0 0 0 0 0 0 0 0 0 0 0 0 0 0 0 0 0]\n",
      "[0 0 0 0 0 0 0 0 0 0 0 0 0 0 0 0 0 0 0 0 0 0 0 0 0 0 0 0 0 0 0 0 0 0 0 0 0 0 0 0 0 0 0 0 0 0 0 0 0 0 0 0 0 0 0 0 0 0 0 0 0 0 0 0 0 0 0 0 0 0 0 0 0 0 0 0 0 0 0 0 0 0 0 0 0 0 0 0 0 0 0 0 0 0 0 0 0 0 0 0 0 0 0 0 0 0 0 0 0 0 0 0 0 0 0 0 0 0 0 0]\n",
      "[0 0 0 0 0 0 0 0 0 0 0 0 0 0 0 0 0 0 0 0 0 0 0 0 0 0 0 0 0 0 0 0 0 0 0 0 0 0 0 0 0 0 0 0 0 0 0 0 0 0 0 0 0 0 0 0 0 0 0 0 0 0 0 0 0 0 0 0 0 0 0 0 0 0 0 0 0 0 0 0 0 0 0 0 0 0 0 0 0 0 0 0 0 0 0 0 0 0 0 0 0 0 0 0 0 0 0 0 0 0 0 0 0 0 0 0 0 0 0 0]\n",
      "[0 0 0 0 0 0 0 0 0 0 0 0 0 0 0 0 0 0 0 0 0 0 0 0 0 0 0 0 0 0 0 0 0 0 0 0 0 0 0 0 0 0 0 0 0 0 0 0 0 0 0 0 0 0 0 0 0 0 0 0 0 0 0 0 0 0 0 0 0 0 0 0 0 0 0 0 0 0 0 0 0 0 0 0 0 0 0 0 0 0 0 0 0 0 0 0 0 0 0 0 0 0 0 0 0 0 0 0 0 0 0 0 0 0 0 0 0 0 0 0]\n",
      "[0 0 0 0 0 0 0 0 0 0 0 0 0 0 0 0 0 0 0 0 0 0 0 0 0 0 0 0 0 0 0 0 0 0 0 0 0 0 0 0 0 0 0 0 0 0 0 0 0 0 0 0 0 0 0 0 0 0 0 0 0 0 0 0 0 0 0 0 0 0 0 0 0 0 0 0 0 0 0 0 0 0 0 0 0 0 0 0 0 0 0 0 0 0 0 0 0 0 0 0 0 0 0 0 0 0 0 0 0 0 0 0 0 0 0 0 0 0 0 0]\n",
      "[0 0 0 0 0 0 0 0 0 0 0 0 0 0 0 0 0 0 0 0 0 0 0 0 0 0 0 0 0 0 0 0 0 0 0 0 0 0 0 0 0 0 0 0 0 0 0 0 0 0 0 0 0 0 0 0 0 0 0 0 0 0 0 0 0 0 0 0 0 0 0 0 0 0 0 0 0 0 0 0 0 0 0 0 0 0 0 0 0 0 0 0 0 0 0 0 0 0 0 0 0 0 0 0 0 0 0 0 0 0 0 0 0 0 0 0 0 0 0 0]\n",
      "[0 0 0 0 0 0 0 0 0 0 0 0 0 0 0 0 0 0 0 0 0 0 0 0 0 0 0 0 0 0 0 0 0 0 0 0 0 0 0 0 0 0 0 0 0 0 0 0 0 0 0 0 0 0 0 0 0 0 0 0 0 0 0 0 0 0 0 0 0 0 0 0 0 0 0 0 0 0 0 0 0 0 0 0 0 0 0 0 0 0 0 0 0 0 0 0 0 0 0 0 0 0 0 0 0 0 0 0 0 0 0 0 0 0 0 0 0 0 0 0]\n",
      "[0 0 0 0 0 0 0 0 0 0 0 0 0 0 0 0 0 0 0 0 0 0 0 0 0 0 0 0 0 0 0 0 0 0 0 0 0 0 0 0 0 0 0 0 0 0 0 0 0 0 0 0 0 0 0 0 0 0 0 0 0 0 0 0 0 0 0 0 0 0 0 0 0 0 0 0 0 0 0 0 0 0 0 0 0 0 0 0 0 0 0 0 0 0 0 0 0 0 0 0 0 0 0 0 0 0 0 0 0 0 0 0 0 0 0 0 0 0 0 0]\n",
      "[0 0 0 0 0 0 0 0 0 0 0 0 0 0 0 0 0 0 0 0 0 0 0 0 0 0 0 0 0 0 0 0 0 0 0 0 0 0 0 0 0 0 0 0 0 0 0 0 0 0 0 0 0 0 0 0 0 0 0 0 0 0 0 0 0 0 0 0 0 0 0 0 0 0 0 0 0 0 0 0 0 0 0 0 0 0 0 0 0 0 0 0 0 0 0 0 0 0 0 0 0 0 0 0 0 0 0 0 0 0 0 0 0 0 0 0 0 0 0 0]\n",
      "[0 0 0 0 0 0 0 0 0 0 0 0 0 0 0 0 0 0 0 0 0 0 0 0 0 0 0 0 0 0 0 0 0 0 0 0 0 0 0 0 0 0 0 0 0 0 0 0 0 0 0 0 0 0 0 0 0 0 0 0 0 0 0 0 0 0 0 0 0 0 0 0 0 0 0 0 0 0 0 0 0 0 0 0 0 0 0 0 0 0 0 0 0 0 0 0 0 0 0 0 0 0 0 0 0 0 0 0 0 0 0 0 0 0 0 0 0 0 0 0]\n",
      "[0 0 0 0 0 0 0 0 0 0 0 0 0 0 0 0 0 0 0 0 0 0 0 0 0 0 0 0 0 0 0 0 0 0 0 0 0 0 0 0 0 0 0 0 0 0 0 0 0 0 0 0 0 0 0 0 0 0 0 0 0 0 0 0 0 0 0 0 0 0 0 0 0 0 0 0 0 0 0 0 0 0 0 0 0 0 0 0 0 0 0 0 0 0 0 0 0 0 0 0 0 0 0 0 0 0 0 0 0 0 0 0 0 0 0 0 0 0 0 0]\n",
      "[0 0 0 0 0 0 0 0 0 0 0 0 0 0 0 0 0 0 0 0 0 0 0 0 0 0 0 0 0 0 0 0 0 0 0 0 0 0 0 0 0 0 0 0 0 0 0 0 0 0 0 0 0 0 0 0 0 0 0 0 0 0 0 0 0 0 0 0 0 0 0 0 0 0 0 0 0 0 0 0 0 0 0 0 0 0 0 0 0 0 0 0 0 0 0 0 0 0 0 0 0 0 0 0 0 0 0 0 0 0 0 0 0 0 0 0 0 0 0 0]\n",
      "[0 0 0 0 0 0 0 0 0 0 0 0 0 0 0 0 0 0 0 0 0 0 0 0 0 0 0 0 0 0 0 0 0 0 0 0 0 0 0 0 0 0 0 0 0 0 0 0 0 0 0 0 0 0 0 0 0 0 0 0 0 0 0 0 0 0 0 0 0 0 0 0 0 0 0 0 0 0 0 0 0 0 0 0 0 0 0 0 0 0 0 0 0 0 0 0 0 0 0 0 0 0 0 0 0 0 0 0 0 0 0 0 0 0 0 0 0 0 0 0]\n",
      "[0 0 0 0 0 0 0 0 0 0 0 0 0 0 0 0 0 0 0 0 0 0 0 0 0 0 0 0 0 0 0 0 0 0 0 0 0 0 0 0 0 0 0 0 0 0 0 0 0 0 0 0 0 0 0 0 0 0 0 0 0 0 0 0 0 0 0 0 0 0 0 0 0 0 0 0 0 0 0 0 0 0 0 0 0 0 0 0 0 0 0 0 0 0 0 0 0 0 0 0 0 0 0 0 0 0 0 0 0 0 0 0 0 0 0 0 0 0 0 0]\n",
      "[0 0 0 0 0 0 0 0 0 0 0 0 0 0 0 0 0 0 0 0 0 0 0 0 0 0 0 0 0 0 0 0 0 0 0 0 0 0 0 0 0 0 0 0 0 0 0 0 0 0 0 0 0 0 0 0 0 0 0 0 0 0 0 0 0 0 0 0 0 0 0 0 0 0 0 0 0 0 0 0 0 0 0 0 0 0 0 0 0 0 0 0 0 0 0 0 0 0 0 0 0 0 0 0 0 0 0 0 0 0 0 0 0 0 0 0 0 0 0 0]\n",
      "[0 0 0 0 0 0 0 0 0 0 0 0 0 0 0 0 0 0 0 0 0 0 0 0 0 0 0 0 0 0 0 0 0 0 0 0 0 0 0 0 0 0 0 0 0 0 0 0 0 0 0 0 0 0 0 0 0 0 0 0 0 0 0 0 0 0 0 0 0 0 0 0 0 0 0 0 0 0 0 0 0 0 0 0 0 0 0 0 0 0 0 0 0 0 0 0 0 0 0 0 0 0 0 0 0 0 0 0 0 0 0 0 0 0 0 0 0 0 0 0]\n",
      "[0 0 0 0 0 0 0 0 0 0 0 0 0 0 0 0 0 0 0 0 0 0 0 0 0 0 0 0 0 0 0 0 0 0 0 0 0 0 0 0 0 0 0 0 0 0 0 0 0 0 0 0 0 0 0 0 0 0 0 0 0 0 0 0 0 0 0 0 0 0 0 0 0 0 0 0 0 0 0 0 0 0 0 0 0 0 0 0 0 0 0 0 0 0 0 0 0 0 0 0 0 0 0 0 0 0 0 0 0 0 0 0 0 0 0 0 0 0 0 0]\n",
      "[0 0 0 0 0 0 0 0 0 0 0 0 0 0 0 0 0 0 0 0 0 0 0 0 0 0 0 0 0 0 0 0 0 0 0 0 0 0 0 0 0 0 0 0 0 0 0 0 0 0 0 0 0 0 0 0 0 0 0 0 0 0 0 0 0 0 0 0 0 0 0 0 0 0 0 0 0 0 0 0 0 0 0 0 0 0 0 0 0 0 0 0 0 0 0 0 0 0 0 0 0 0 0 0 0 0 0 0 0 0 0 0 0 0 0 0 0 0 0 0]\n",
      "[0 0 0 0 0 0 0 0 0 0 0 0 0 0 0 0 0 0 0 0 0 0 0 0 0 0 0 0 0 0 0 0 0 0 0 0 0 0 0 0 0 0 0 0 0 0 0 0 0 0 0 0 0 0 0 0 0 0 0 0 0 0 0 0 0 0 0 0 0 0 0 0 0 0 0 0 0 0 0 0 0 0 0 0 0 0 0 0 0 0 0 0 0 0 0 0 0 0 0 0 0 0 0 0 0 0 0 0 0 0 0 0 0 0 0 0 0 0 0 0]\n",
      "[0 0 0 0 0 0 0 0 0 0 0 0 0 0 0 0 0 0 0 0 0 0 0 0 0 0 0 0 0 0 0 0 0 0 0 0 0 0 0 0 0 0 0 0 0 0 0 0 0 0 0 0 0 0 0 0 0 0 0 0 0 0 0 0 0 0 0 0 0 0 0 0 0 0 0 0 0 0 0 0 0 0 0 0 0 0 0 0 0 0 0 0 0 0 0 0 0 0 0 0 0 0 0 0 0 0 0 0 0 0 0 0 0 0 0 0 0 0 0 0]\n",
      "[0 0 0 0 0 0 0 0 0 0 0 0 0 0 0 0 0 0 0 0 0 0 0 0 0 0 0 0 0 0 0 0 0 0 0 0 0 0 0 0 0 0 0 0 0 0 0 0 0 0 0 0 0 0 0 0 0 0 0 0 0 0 0 0 0 0 0 0 0 0 0 0 0 0 0 0 0 0 0 0 0 0 0 0 0 0 0 0 0 0 0 0 0 0 0 0 0 0 0 0 0 0 0 0 0 0 0 0 0 0 0 0 0 0 0 0 0 0 0 0]\n",
      "[0 0 0 0 0 0 0 0 0 0 0 0 0 0 0 0 0 0 0 0 0 0 0 0 0 0 0 0 0 0 0 0 0 0 0 0 0 0 0 0 0 0 0 0 0 0 0 0 0 0 0 0 0 0 0 0 0 0 0 0 0 0 0 0 0 0 0 0 0 0 0 0 0 0 0 0 0 0 0 0 0 0 0 0 0 0 0 0 0 0 0 0 0 0 0 0 0 0 0 0 0 0 0 0 0 0 0 0 0 0 0 0 0 0 0 0 0 0 0 0]\n",
      "[0 0 0 0 0 0 0 0 0 0 0 0 0 0 0 0 0 0 0 0 0 0 0 0 0 0 0 0 0 0 0 0 0 0 0 0 0 0 0 0 0 0 0 0 0 0 0 0 0 0 0 0 0 0 0 0 0 0 0 0 0 0 0 0 0 0 0 0 0 0 0 0 0 0 0 0 0 0 0 0 0 0 0 0 0 0 0 0 0 0 0 0 0 0 0 0 0 0 0 0 0 0 0 0 0 0 0 0 0 0 0 0 0 0 0 0 0 0 0 0]\n",
      "[0 0 0 0 0 0 0 0 0 0 0 0 0 0 0 0 0 0 0 0 0 0 0 0 0 0 0 0 0 0 0 0 0 0 0 0 0 0 0 0 0 0 0 0 0 0 0 0 0 0 0 0 0 0 0 0 0 0 0 0 0 0 0 0 0 0 0 0 0 0 0 0 0 0 0 0 0 0 0 0 0 0 0 0 0 0 0 0 0 0 0 0 0 0 0 0 0 0 0 0 0 0 0 0 0 0 0 0 0 0 0 0 0 0 0 0 0 0 0 0]\n",
      "[0 0 0 0 0 0 0 0 0 0 0 0 0 0 0 0 0 0 0 0 0 0 0 0 0 0 0 0 0 0 0 0 0 0 0 0 0 0 0 0 0 0 0 0 0 0 0 0 0 0 0 0 0 0 0 0 0 0 0 0 0 0 0 0 0 0 0 0 0 0 0 0 0 0 0 0 0 0 0 0 0 0 0 0 0 0 0 0 0 0 0 0 0 0 0 0 0 0 0 0 0 0 0 0 0 0 0 0 0 0 0 0 0 0 0 0 0 0 0 0]\n",
      "[0 0 0 0 0 0 0 0 0 0 0 0 0 0 0 0 0 0 0 0 0 0 0 0 0 0 0 0 0 0 0 0 0 0 0 0 0 0 0 0 0 0 0 0 0 0 0 0 0 0 0 0 0 0 0 0 0 0 0 0 0 0 0 0 0 0 0 0 0 0 0 0 0 0 0 0 0 0 0 0 0 0 0 0 0 0 0 0 0 0 0 0 0 0 0 0 0 0 0 0 0 0 0 0 0 0 0 0 0 0 0 0 0 0 0 0 0 0 0 0]\n",
      "[0 0 0 0 0 0 0 0 0 0 0 0 0 0 0 0 0 0 0 0 0 0 0 0 0 0 0 0 0 0 0 0 0 0 0 0 0 0 0 0 0 0 0 0 0 0 0 0 0 0 0 0 0 0 0 0 0 0 0 0 0 0 0 0 0 0 0 0 0 0 0 0 0 0 0 0 0 0 0 0 0 0 0 0 0 0 0 0 0 0 0 0 0 0 0 0 0 0 0 0 0 0 0 0 0 0 0 0 0 0 0 0 0 0 0 0 0 0 0 0]\n",
      "[0 0 0 0 0 0 0 0 0 0 0 0 0 0 0 0 0 0 0 0 0 0 0 0 0 0 0 0 0 0 0 0 0 0 0 0 0 0 0 0 0 0 0 0 0 0 0 0 0 0 0 0 0 0 0 0 0 0 0 0 0 0 0 0 0 0 0 0 0 0 0 0 0 0 0 0 0 0 0 0 0 0 0 0 0 0 0 0 0 0 0 0 0 0 0 0 0 0 0 0 0 0 0 0 0 0 0 0 0 0 0 0 0 0 0 0 0 0 0 0]\n"
     ]
    }
   ],
   "source": [
    "print(M.str())"
   ]
  },
  {
   "cell_type": "code",
   "execution_count": 223,
   "metadata": {},
   "outputs": [
    {
     "data": {
      "text/plain": [
       "[x1 - x3^6, x2 - x3^2]"
      ]
     },
     "execution_count": 223,
     "metadata": {},
     "output_type": "execute_result"
    }
   ],
   "source": [
    "# This is Example 5 in Caminata and Gorla\n",
    "\n",
    "S.<x1,x2,x3> = PolynomialRing(GF(5), order = \"lex\")\n",
    "f1 = x3^2 - x2\n",
    "f2 = x2^3 - x1\n",
    "I = ideal(f1,f2)\n",
    "I.groebner_basis()"
   ]
  },
  {
   "cell_type": "code",
   "execution_count": 224,
   "metadata": {},
   "outputs": [
    {
     "name": "stdout",
     "output_type": "stream",
     "text": [
      "0 [0] True False\n",
      "1 [0] True False\n",
      "2 [x2 - x3^2] True False\n",
      "3 [x1*x2 - x1*x3^2, x1 - x2^3, x2^2 - x2*x3^2, x2*x3 - x3^3, x2 - x3^2] True True\n"
     ]
    },
    {
     "data": {
      "text/plain": [
       "(3, [x1*x2 - x1*x3^2, x1 - x2^3, x2^2 - x2*x3^2, x2*x3 - x3^3, x2 - x3^2])"
      ]
     },
     "execution_count": 224,
     "metadata": {},
     "output_type": "execute_result"
    }
   ],
   "source": [
    "mac_grob([f1,f2],S)"
   ]
  },
  {
   "cell_type": "code",
   "execution_count": 225,
   "metadata": {},
   "outputs": [
    {
     "name": "stdout",
     "output_type": "stream",
     "text": [
      "[x1^3, x1^2*x2, x1^2*x3, x1^2, x1*x2^2, x1*x2*x3, x1*x2, x1*x3^2, x1*x3, x1, x2^3, x2^2*x3, x2^2, x2*x3^2, x2*x3, x2, x3^3, x3^2, x3, 1]\n"
     ]
    },
    {
     "data": {
      "text/plain": [
       "[0 0 0 0 0 0 1 4 0 0 0 0 0 0 0 0 0 0 0 0]\n",
       "[0 0 0 0 0 0 0 0 0 1 4 0 0 0 0 0 0 0 0 0]\n",
       "[0 0 0 0 0 0 0 0 0 0 0 0 1 4 0 0 0 0 0 0]\n",
       "[0 0 0 0 0 0 0 0 0 0 0 0 0 0 1 0 4 0 0 0]\n",
       "[0 0 0 0 0 0 0 0 0 0 0 0 0 0 0 1 0 4 0 0]"
      ]
     },
     "execution_count": 225,
     "metadata": {},
     "output_type": "execute_result"
    }
   ],
   "source": [
    "T = mac_matrix([f1,f2],3,S)\n",
    "T.rref()"
   ]
  },
  {
   "cell_type": "code",
   "execution_count": 226,
   "metadata": {},
   "outputs": [
    {
     "name": "stdout",
     "output_type": "stream",
     "text": [
      "[x1^6, x1^5*x2, x1^5*x3, x1^5, x1^4*x2^2, x1^4*x2*x3, x1^4*x2, x1^4*x3^2, x1^4*x3, x1^4, x1^3*x2^3, x1^3*x2^2*x3, x1^3*x2^2, x1^3*x2*x3^2, x1^3*x2*x3, x1^3*x2, x1^3*x3^3, x1^3*x3^2, x1^3*x3, x1^3, x1^2*x2^4, x1^2*x2^3*x3, x1^2*x2^3, x1^2*x2^2*x3^2, x1^2*x2^2*x3, x1^2*x2^2, x1^2*x2*x3^3, x1^2*x2*x3^2, x1^2*x2*x3, x1^2*x2, x1^2*x3^4, x1^2*x3^3, x1^2*x3^2, x1^2*x3, x1^2, x1*x2^5, x1*x2^4*x3, x1*x2^4, x1*x2^3*x3^2, x1*x2^3*x3, x1*x2^3, x1*x2^2*x3^3, x1*x2^2*x3^2, x1*x2^2*x3, x1*x2^2, x1*x2*x3^4, x1*x2*x3^3, x1*x2*x3^2, x1*x2*x3, x1*x2, x1*x3^5, x1*x3^4, x1*x3^3, x1*x3^2, x1*x3, x1, x2^6, x2^5*x3, x2^5, x2^4*x3^2, x2^4*x3, x2^4, x2^3*x3^3, x2^3*x3^2, x2^3*x3, x2^3, x2^2*x3^4, x2^2*x3^3, x2^2*x3^2, x2^2*x3, x2^2, x2*x3^5, x2*x3^4, x2*x3^3, x2*x3^2, x2*x3, x2, x3^6, x3^5, x3^4, x3^3, x3^2, x3, 1]\n"
     ]
    }
   ],
   "source": [
    "M = mac_matrix([f1,f2],6,S)"
   ]
  },
  {
   "cell_type": "code",
   "execution_count": 227,
   "metadata": {},
   "outputs": [
    {
     "name": "stdout",
     "output_type": "stream",
     "text": [
      "[0 0 0 0 0 0 1 4 0 0 0 0 0 0 0 0 0 0 0 0 0 0 0 0 0 0 0 0 0 0 0 0 0 0 0 0 0 0 0 0 0 0 0 0 0 0 0 0 0 0 0 0 0 0 0 0 0 0 0 0 0 0 0 0 0 0 0 0 0 0 0 0 0 0 0 0 0 0 0 0 0 0 0 0]\n",
      "[0 0 0 0 0 0 0 0 0 1 4 0 0 0 0 0 0 0 0 0 0 0 0 0 0 0 0 0 0 0 0 0 0 0 0 0 0 0 0 0 0 0 0 0 0 0 0 0 0 0 0 0 0 0 0 0 0 0 0 0 0 0 0 0 0 0 0 0 0 0 0 0 0 0 0 0 0 0 0 0 0 0 0 0]\n",
      "[0 0 0 0 0 0 0 0 0 0 0 0 1 4 0 0 0 0 0 0 0 0 0 0 0 0 0 0 0 0 0 0 0 0 0 0 0 0 0 0 0 0 0 0 0 0 0 0 0 0 0 0 0 0 0 0 0 0 0 0 0 0 0 0 0 0 0 0 0 0 0 0 0 0 0 0 0 0 0 0 0 0 0 0]\n",
      "[0 0 0 0 0 0 0 0 0 0 0 0 0 0 1 0 4 0 0 0 0 0 0 0 0 0 0 0 0 0 0 0 0 0 0 0 0 0 0 0 0 0 0 0 0 0 0 0 0 0 0 0 0 0 0 0 0 0 0 0 0 0 0 0 0 0 0 0 0 0 0 0 0 0 0 0 0 0 0 0 0 0 0 0]\n",
      "[0 0 0 0 0 0 0 0 0 0 0 0 0 0 0 1 0 0 0 0 4 0 0 0 0 0 0 0 0 0 0 0 0 0 0 0 0 0 0 0 0 0 0 0 0 0 0 0 0 0 0 0 0 0 0 0 0 0 0 0 0 0 0 0 0 0 0 0 0 0 0 0 0 0 0 0 0 0 0 0 0 0 0 0]\n",
      "[0 0 0 0 0 0 0 0 0 0 0 0 0 0 0 0 0 1 0 0 4 0 0 0 0 0 0 0 0 0 0 0 0 0 0 0 0 0 0 0 0 0 0 0 0 0 0 0 0 0 0 0 0 0 0 0 0 0 0 0 0 0 0 0 0 0 0 0 0 0 0 0 0 0 0 0 0 0 0 0 0 0 0 0]\n",
      "[0 0 0 0 0 0 0 0 0 0 0 0 0 0 0 0 0 0 1 0 0 4 0 0 0 0 0 0 0 0 0 0 0 0 0 0 0 0 0 0 0 0 0 0 0 0 0 0 0 0 0 0 0 0 0 0 0 0 0 0 0 0 0 0 0 0 0 0 0 0 0 0 0 0 0 0 0 0 0 0 0 0 0 0]\n",
      "[0 0 0 0 0 0 0 0 0 0 0 0 0 0 0 0 0 0 0 1 0 0 0 4 0 0 0 0 0 0 0 0 0 0 0 0 0 0 0 0 0 0 0 0 0 0 0 0 0 0 0 0 0 0 0 0 0 0 0 0 0 0 0 0 0 0 0 0 0 0 0 0 0 0 0 0 0 0 0 0 0 0 0 0]\n",
      "[0 0 0 0 0 0 0 0 0 0 0 0 0 0 0 0 0 0 0 0 0 0 1 4 0 0 0 0 0 0 0 0 0 0 0 0 0 0 0 0 0 0 0 0 0 0 0 0 0 0 0 0 0 0 0 0 0 0 0 0 0 0 0 0 0 0 0 0 0 0 0 0 0 0 0 0 0 0 0 0 0 0 0 0]\n",
      "[0 0 0 0 0 0 0 0 0 0 0 0 0 0 0 0 0 0 0 0 0 0 0 0 1 0 4 0 0 0 0 0 0 0 0 0 0 0 0 0 0 0 0 0 0 0 0 0 0 0 0 0 0 0 0 0 0 0 0 0 0 0 0 0 0 0 0 0 0 0 0 0 0 0 0 0 0 0 0 0 0 0 0 0]\n",
      "[0 0 0 0 0 0 0 0 0 0 0 0 0 0 0 0 0 0 0 0 0 0 0 0 0 1 0 0 0 0 0 0 0 0 0 4 0 0 0 0 0 0 0 0 0 0 0 0 0 0 0 0 0 0 0 0 0 0 0 0 0 0 0 0 0 0 0 0 0 0 0 0 0 0 0 0 0 0 0 0 0 0 0 0]\n",
      "[0 0 0 0 0 0 0 0 0 0 0 0 0 0 0 0 0 0 0 0 0 0 0 0 0 0 0 1 0 0 0 0 0 0 0 4 0 0 0 0 0 0 0 0 0 0 0 0 0 0 0 0 0 0 0 0 0 0 0 0 0 0 0 0 0 0 0 0 0 0 0 0 0 0 0 0 0 0 0 0 0 0 0 0]\n",
      "[0 0 0 0 0 0 0 0 0 0 0 0 0 0 0 0 0 0 0 0 0 0 0 0 0 0 0 0 1 0 0 0 0 0 0 0 4 0 0 0 0 0 0 0 0 0 0 0 0 0 0 0 0 0 0 0 0 0 0 0 0 0 0 0 0 0 0 0 0 0 0 0 0 0 0 0 0 0 0 0 0 0 0 0]\n",
      "[0 0 0 0 0 0 0 0 0 0 0 0 0 0 0 0 0 0 0 0 0 0 0 0 0 0 0 0 0 1 0 0 0 0 0 0 0 0 4 0 0 0 0 0 0 0 0 0 0 0 0 0 0 0 0 0 0 0 0 0 0 0 0 0 0 0 0 0 0 0 0 0 0 0 0 0 0 0 0 0 0 0 0 0]\n",
      "[0 0 0 0 0 0 0 0 0 0 0 0 0 0 0 0 0 0 0 0 0 0 0 0 0 0 0 0 0 0 1 0 0 0 0 4 0 0 0 0 0 0 0 0 0 0 0 0 0 0 0 0 0 0 0 0 0 0 0 0 0 0 0 0 0 0 0 0 0 0 0 0 0 0 0 0 0 0 0 0 0 0 0 0]\n",
      "[0 0 0 0 0 0 0 0 0 0 0 0 0 0 0 0 0 0 0 0 0 0 0 0 0 0 0 0 0 0 0 1 0 0 0 0 4 0 0 0 0 0 0 0 0 0 0 0 0 0 0 0 0 0 0 0 0 0 0 0 0 0 0 0 0 0 0 0 0 0 0 0 0 0 0 0 0 0 0 0 0 0 0 0]\n",
      "[0 0 0 0 0 0 0 0 0 0 0 0 0 0 0 0 0 0 0 0 0 0 0 0 0 0 0 0 0 0 0 0 1 0 0 0 0 0 4 0 0 0 0 0 0 0 0 0 0 0 0 0 0 0 0 0 0 0 0 0 0 0 0 0 0 0 0 0 0 0 0 0 0 0 0 0 0 0 0 0 0 0 0 0]\n",
      "[0 0 0 0 0 0 0 0 0 0 0 0 0 0 0 0 0 0 0 0 0 0 0 0 0 0 0 0 0 0 0 0 0 1 0 0 0 0 0 0 0 4 0 0 0 0 0 0 0 0 0 0 0 0 0 0 0 0 0 0 0 0 0 0 0 0 0 0 0 0 0 0 0 0 0 0 0 0 0 0 0 0 0 0]\n",
      "[0 0 0 0 0 0 0 0 0 0 0 0 0 0 0 0 0 0 0 0 0 0 0 0 0 0 0 0 0 0 0 0 0 0 1 0 0 0 0 0 0 0 0 0 0 0 0 0 0 0 0 0 0 0 0 0 4 0 0 0 0 0 0 0 0 0 0 0 0 0 0 0 0 0 0 0 0 0 0 0 0 0 0 0]\n",
      "[0 0 0 0 0 0 0 0 0 0 0 0 0 0 0 0 0 0 0 0 0 0 0 0 0 0 0 0 0 0 0 0 0 0 0 0 0 1 4 0 0 0 0 0 0 0 0 0 0 0 0 0 0 0 0 0 0 0 0 0 0 0 0 0 0 0 0 0 0 0 0 0 0 0 0 0 0 0 0 0 0 0 0 0]\n",
      "[0 0 0 0 0 0 0 0 0 0 0 0 0 0 0 0 0 0 0 0 0 0 0 0 0 0 0 0 0 0 0 0 0 0 0 0 0 0 0 1 0 4 0 0 0 0 0 0 0 0 0 0 0 0 0 0 0 0 0 0 0 0 0 0 0 0 0 0 0 0 0 0 0 0 0 0 0 0 0 0 0 0 0 0]\n",
      "[0 0 0 0 0 0 0 0 0 0 0 0 0 0 0 0 0 0 0 0 0 0 0 0 0 0 0 0 0 0 0 0 0 0 0 0 0 0 0 0 1 0 0 0 0 0 0 0 0 0 0 0 0 0 0 0 4 0 0 0 0 0 0 0 0 0 0 0 0 0 0 0 0 0 0 0 0 0 0 0 0 0 0 0]\n",
      "[0 0 0 0 0 0 0 0 0 0 0 0 0 0 0 0 0 0 0 0 0 0 0 0 0 0 0 0 0 0 0 0 0 0 0 0 0 0 0 0 0 0 1 0 0 0 0 0 0 0 0 0 0 0 0 0 4 0 0 0 0 0 0 0 0 0 0 0 0 0 0 0 0 0 0 0 0 0 0 0 0 0 0 0]\n",
      "[0 0 0 0 0 0 0 0 0 0 0 0 0 0 0 0 0 0 0 0 0 0 0 0 0 0 0 0 0 0 0 0 0 0 0 0 0 0 0 0 0 0 0 1 0 0 0 0 0 0 0 0 0 0 0 0 0 4 0 0 0 0 0 0 0 0 0 0 0 0 0 0 0 0 0 0 0 0 0 0 0 0 0 0]\n",
      "[0 0 0 0 0 0 0 0 0 0 0 0 0 0 0 0 0 0 0 0 0 0 0 0 0 0 0 0 0 0 0 0 0 0 0 0 0 0 0 0 0 0 0 0 1 0 0 0 0 0 0 0 0 0 0 0 0 0 0 4 0 0 0 0 0 0 0 0 0 0 0 0 0 0 0 0 0 0 0 0 0 0 0 0]\n",
      "[0 0 0 0 0 0 0 0 0 0 0 0 0 0 0 0 0 0 0 0 0 0 0 0 0 0 0 0 0 0 0 0 0 0 0 0 0 0 0 0 0 0 0 0 0 1 0 0 0 0 0 0 0 0 0 0 4 0 0 0 0 0 0 0 0 0 0 0 0 0 0 0 0 0 0 0 0 0 0 0 0 0 0 0]\n",
      "[0 0 0 0 0 0 0 0 0 0 0 0 0 0 0 0 0 0 0 0 0 0 0 0 0 0 0 0 0 0 0 0 0 0 0 0 0 0 0 0 0 0 0 0 0 0 1 0 0 0 0 0 0 0 0 0 0 4 0 0 0 0 0 0 0 0 0 0 0 0 0 0 0 0 0 0 0 0 0 0 0 0 0 0]\n",
      "[0 0 0 0 0 0 0 0 0 0 0 0 0 0 0 0 0 0 0 0 0 0 0 0 0 0 0 0 0 0 0 0 0 0 0 0 0 0 0 0 0 0 0 0 0 0 0 1 0 0 0 0 0 0 0 0 0 0 0 4 0 0 0 0 0 0 0 0 0 0 0 0 0 0 0 0 0 0 0 0 0 0 0 0]\n",
      "[0 0 0 0 0 0 0 0 0 0 0 0 0 0 0 0 0 0 0 0 0 0 0 0 0 0 0 0 0 0 0 0 0 0 0 0 0 0 0 0 0 0 0 0 0 0 0 0 1 0 0 0 0 0 0 0 0 0 0 0 0 0 4 0 0 0 0 0 0 0 0 0 0 0 0 0 0 0 0 0 0 0 0 0]\n",
      "[0 0 0 0 0 0 0 0 0 0 0 0 0 0 0 0 0 0 0 0 0 0 0 0 0 0 0 0 0 0 0 0 0 0 0 0 0 0 0 0 0 0 0 0 0 0 0 0 0 1 0 0 0 0 0 0 0 0 0 0 0 0 0 0 0 0 4 0 0 0 0 0 0 0 0 0 0 0 0 0 0 0 0 0]\n",
      "[0 0 0 0 0 0 0 0 0 0 0 0 0 0 0 0 0 0 0 0 0 0 0 0 0 0 0 0 0 0 0 0 0 0 0 0 0 0 0 0 0 0 0 0 0 0 0 0 0 0 1 0 0 0 0 0 0 4 0 0 0 0 0 0 0 0 0 0 0 0 0 0 0 0 0 0 0 0 0 0 0 0 0 0]\n",
      "[0 0 0 0 0 0 0 0 0 0 0 0 0 0 0 0 0 0 0 0 0 0 0 0 0 0 0 0 0 0 0 0 0 0 0 0 0 0 0 0 0 0 0 0 0 0 0 0 0 0 0 1 0 0 0 0 0 0 0 4 0 0 0 0 0 0 0 0 0 0 0 0 0 0 0 0 0 0 0 0 0 0 0 0]\n",
      "[0 0 0 0 0 0 0 0 0 0 0 0 0 0 0 0 0 0 0 0 0 0 0 0 0 0 0 0 0 0 0 0 0 0 0 0 0 0 0 0 0 0 0 0 0 0 0 0 0 0 0 0 1 0 0 0 0 0 0 0 0 0 4 0 0 0 0 0 0 0 0 0 0 0 0 0 0 0 0 0 0 0 0 0]\n",
      "[0 0 0 0 0 0 0 0 0 0 0 0 0 0 0 0 0 0 0 0 0 0 0 0 0 0 0 0 0 0 0 0 0 0 0 0 0 0 0 0 0 0 0 0 0 0 0 0 0 0 0 0 0 1 0 0 0 0 0 0 0 0 0 0 0 0 4 0 0 0 0 0 0 0 0 0 0 0 0 0 0 0 0 0]\n",
      "[0 0 0 0 0 0 0 0 0 0 0 0 0 0 0 0 0 0 0 0 0 0 0 0 0 0 0 0 0 0 0 0 0 0 0 0 0 0 0 0 0 0 0 0 0 0 0 0 0 0 0 0 0 0 1 0 0 0 0 0 0 0 0 0 0 0 0 0 0 0 0 4 0 0 0 0 0 0 0 0 0 0 0 0]\n",
      "[0 0 0 0 0 0 0 0 0 0 0 0 0 0 0 0 0 0 0 0 0 0 0 0 0 0 0 0 0 0 0 0 0 0 0 0 0 0 0 0 0 0 0 0 0 0 0 0 0 0 0 0 0 0 0 1 0 0 0 0 0 0 0 0 0 0 0 0 0 0 0 0 0 0 0 0 0 4 0 0 0 0 0 0]\n",
      "[0 0 0 0 0 0 0 0 0 0 0 0 0 0 0 0 0 0 0 0 0 0 0 0 0 0 0 0 0 0 0 0 0 0 0 0 0 0 0 0 0 0 0 0 0 0 0 0 0 0 0 0 0 0 0 0 0 0 1 4 0 0 0 0 0 0 0 0 0 0 0 0 0 0 0 0 0 0 0 0 0 0 0 0]\n",
      "[0 0 0 0 0 0 0 0 0 0 0 0 0 0 0 0 0 0 0 0 0 0 0 0 0 0 0 0 0 0 0 0 0 0 0 0 0 0 0 0 0 0 0 0 0 0 0 0 0 0 0 0 0 0 0 0 0 0 0 0 1 0 4 0 0 0 0 0 0 0 0 0 0 0 0 0 0 0 0 0 0 0 0 0]\n",
      "[0 0 0 0 0 0 0 0 0 0 0 0 0 0 0 0 0 0 0 0 0 0 0 0 0 0 0 0 0 0 0 0 0 0 0 0 0 0 0 0 0 0 0 0 0 0 0 0 0 0 0 0 0 0 0 0 0 0 0 0 0 1 0 0 0 0 4 0 0 0 0 0 0 0 0 0 0 0 0 0 0 0 0 0]\n",
      "[0 0 0 0 0 0 0 0 0 0 0 0 0 0 0 0 0 0 0 0 0 0 0 0 0 0 0 0 0 0 0 0 0 0 0 0 0 0 0 0 0 0 0 0 0 0 0 0 0 0 0 0 0 0 0 0 0 0 0 0 0 0 0 1 0 0 4 0 0 0 0 0 0 0 0 0 0 0 0 0 0 0 0 0]\n",
      "[0 0 0 0 0 0 0 0 0 0 0 0 0 0 0 0 0 0 0 0 0 0 0 0 0 0 0 0 0 0 0 0 0 0 0 0 0 0 0 0 0 0 0 0 0 0 0 0 0 0 0 0 0 0 0 0 0 0 0 0 0 0 0 0 1 0 0 0 0 0 0 4 0 0 0 0 0 0 0 0 0 0 0 0]\n",
      "[0 0 0 0 0 0 0 0 0 0 0 0 0 0 0 0 0 0 0 0 0 0 0 0 0 0 0 0 0 0 0 0 0 0 0 0 0 0 0 0 0 0 0 0 0 0 0 0 0 0 0 0 0 0 0 0 0 0 0 0 0 0 0 0 0 1 0 0 0 0 0 0 0 0 0 0 0 4 0 0 0 0 0 0]\n",
      "[0 0 0 0 0 0 0 0 0 0 0 0 0 0 0 0 0 0 0 0 0 0 0 0 0 0 0 0 0 0 0 0 0 0 0 0 0 0 0 0 0 0 0 0 0 0 0 0 0 0 0 0 0 0 0 0 0 0 0 0 0 0 0 0 0 0 0 1 0 0 0 4 0 0 0 0 0 0 0 0 0 0 0 0]\n",
      "[0 0 0 0 0 0 0 0 0 0 0 0 0 0 0 0 0 0 0 0 0 0 0 0 0 0 0 0 0 0 0 0 0 0 0 0 0 0 0 0 0 0 0 0 0 0 0 0 0 0 0 0 0 0 0 0 0 0 0 0 0 0 0 0 0 0 0 0 1 0 0 0 0 0 0 0 0 4 0 0 0 0 0 0]\n",
      "[0 0 0 0 0 0 0 0 0 0 0 0 0 0 0 0 0 0 0 0 0 0 0 0 0 0 0 0 0 0 0 0 0 0 0 0 0 0 0 0 0 0 0 0 0 0 0 0 0 0 0 0 0 0 0 0 0 0 0 0 0 0 0 0 0 0 0 0 0 1 0 0 0 0 0 0 0 0 4 0 0 0 0 0]\n",
      "[0 0 0 0 0 0 0 0 0 0 0 0 0 0 0 0 0 0 0 0 0 0 0 0 0 0 0 0 0 0 0 0 0 0 0 0 0 0 0 0 0 0 0 0 0 0 0 0 0 0 0 0 0 0 0 0 0 0 0 0 0 0 0 0 0 0 0 0 0 0 1 0 0 0 0 0 0 0 0 4 0 0 0 0]\n",
      "[0 0 0 0 0 0 0 0 0 0 0 0 0 0 0 0 0 0 0 0 0 0 0 0 0 0 0 0 0 0 0 0 0 0 0 0 0 0 0 0 0 0 0 0 0 0 0 0 0 0 0 0 0 0 0 0 0 0 0 0 0 0 0 0 0 0 0 0 0 0 0 0 1 0 0 0 0 4 0 0 0 0 0 0]\n",
      "[0 0 0 0 0 0 0 0 0 0 0 0 0 0 0 0 0 0 0 0 0 0 0 0 0 0 0 0 0 0 0 0 0 0 0 0 0 0 0 0 0 0 0 0 0 0 0 0 0 0 0 0 0 0 0 0 0 0 0 0 0 0 0 0 0 0 0 0 0 0 0 0 0 1 0 0 0 0 4 0 0 0 0 0]\n",
      "[0 0 0 0 0 0 0 0 0 0 0 0 0 0 0 0 0 0 0 0 0 0 0 0 0 0 0 0 0 0 0 0 0 0 0 0 0 0 0 0 0 0 0 0 0 0 0 0 0 0 0 0 0 0 0 0 0 0 0 0 0 0 0 0 0 0 0 0 0 0 0 0 0 0 1 0 0 0 0 4 0 0 0 0]\n",
      "[0 0 0 0 0 0 0 0 0 0 0 0 0 0 0 0 0 0 0 0 0 0 0 0 0 0 0 0 0 0 0 0 0 0 0 0 0 0 0 0 0 0 0 0 0 0 0 0 0 0 0 0 0 0 0 0 0 0 0 0 0 0 0 0 0 0 0 0 0 0 0 0 0 0 0 1 0 0 0 0 4 0 0 0]\n",
      "[0 0 0 0 0 0 0 0 0 0 0 0 0 0 0 0 0 0 0 0 0 0 0 0 0 0 0 0 0 0 0 0 0 0 0 0 0 0 0 0 0 0 0 0 0 0 0 0 0 0 0 0 0 0 0 0 0 0 0 0 0 0 0 0 0 0 0 0 0 0 0 0 0 0 0 0 1 0 0 0 0 4 0 0]\n",
      "[0 0 0 0 0 0 0 0 0 0 0 0 0 0 0 0 0 0 0 0 0 0 0 0 0 0 0 0 0 0 0 0 0 0 0 0 0 0 0 0 0 0 0 0 0 0 0 0 0 0 0 0 0 0 0 0 0 0 0 0 0 0 0 0 0 0 0 0 0 0 0 0 0 0 0 0 0 0 0 0 0 0 0 0]\n",
      "[0 0 0 0 0 0 0 0 0 0 0 0 0 0 0 0 0 0 0 0 0 0 0 0 0 0 0 0 0 0 0 0 0 0 0 0 0 0 0 0 0 0 0 0 0 0 0 0 0 0 0 0 0 0 0 0 0 0 0 0 0 0 0 0 0 0 0 0 0 0 0 0 0 0 0 0 0 0 0 0 0 0 0 0]\n",
      "[0 0 0 0 0 0 0 0 0 0 0 0 0 0 0 0 0 0 0 0 0 0 0 0 0 0 0 0 0 0 0 0 0 0 0 0 0 0 0 0 0 0 0 0 0 0 0 0 0 0 0 0 0 0 0 0 0 0 0 0 0 0 0 0 0 0 0 0 0 0 0 0 0 0 0 0 0 0 0 0 0 0 0 0]\n",
      "[0 0 0 0 0 0 0 0 0 0 0 0 0 0 0 0 0 0 0 0 0 0 0 0 0 0 0 0 0 0 0 0 0 0 0 0 0 0 0 0 0 0 0 0 0 0 0 0 0 0 0 0 0 0 0 0 0 0 0 0 0 0 0 0 0 0 0 0 0 0 0 0 0 0 0 0 0 0 0 0 0 0 0 0]\n"
     ]
    }
   ],
   "source": [
    "print(M.rref().str())"
   ]
  },
  {
   "cell_type": "code",
   "execution_count": 228,
   "metadata": {},
   "outputs": [
    {
     "name": "stdout",
     "output_type": "stream",
     "text": [
      "x1^4*x2 - x1^4*x3^2\n",
      "x1^4 - x1^3*x2^3\n",
      "x1^3*x2^2 - x1^3*x2*x3^2\n",
      "x1^3*x2*x3 - x1^3*x3^3\n",
      "x1^3*x2 - x1^2*x2^4\n",
      "x1^3*x3^2 - x1^2*x2^4\n",
      "x1^3*x3 - x1^2*x2^3*x3\n",
      "x1^3 - x1^2*x2^2*x3^2\n",
      "x1^2*x2^3 - x1^2*x2^2*x3^2\n",
      "x1^2*x2^2*x3 - x1^2*x2*x3^3\n",
      "x1^2*x2^2 - x1*x2^5\n",
      "x1^2*x2*x3^2 - x1*x2^5\n",
      "x1^2*x2*x3 - x1*x2^4*x3\n",
      "x1^2*x2 - x1*x2^3*x3^2\n",
      "x1^2*x3^4 - x1*x2^5\n",
      "x1^2*x3^3 - x1*x2^4*x3\n",
      "x1^2*x3^2 - x1*x2^3*x3^2\n",
      "x1^2*x3 - x1*x2^2*x3^3\n",
      "x1^2 - x2^6\n",
      "x1*x2^4 - x1*x2^3*x3^2\n",
      "x1*x2^3*x3 - x1*x2^2*x3^3\n",
      "x1*x2^3 - x2^6\n",
      "x1*x2^2*x3^2 - x2^6\n",
      "x1*x2^2*x3 - x2^5*x3\n",
      "x1*x2^2 - x2^4*x3^2\n",
      "x1*x2*x3^4 - x2^6\n",
      "x1*x2*x3^3 - x2^5*x3\n",
      "x1*x2*x3^2 - x2^4*x3^2\n",
      "x1*x2*x3 - x2^3*x3^3\n",
      "x1*x2 - x2^2*x3^4\n",
      "x1*x3^5 - x2^5*x3\n",
      "x1*x3^4 - x2^4*x3^2\n",
      "x1*x3^3 - x2^3*x3^3\n",
      "x1*x3^2 - x2^2*x3^4\n",
      "x1*x3 - x2*x3^5\n",
      "x1 - x3^6\n",
      "x2^5 - x2^4*x3^2\n",
      "x2^4*x3 - x2^3*x3^3\n",
      "x2^4 - x2^2*x3^4\n",
      "x2^3*x3^2 - x2^2*x3^4\n",
      "x2^3*x3 - x2*x3^5\n",
      "x2^3 - x3^6\n",
      "x2^2*x3^3 - x2*x3^5\n",
      "x2^2*x3^2 - x3^6\n",
      "x2^2*x3 - x3^5\n",
      "x2^2 - x3^4\n",
      "x2*x3^4 - x3^6\n",
      "x2*x3^3 - x3^5\n",
      "x2*x3^2 - x3^4\n",
      "x2*x3 - x3^3\n",
      "x2 - x3^2\n"
     ]
    }
   ],
   "source": [
    "for p in mac_basis([f1,f2],6,S):\n",
    "    print(p)"
   ]
  },
  {
   "cell_type": "code",
   "execution_count": 229,
   "metadata": {},
   "outputs": [
    {
     "name": "stdout",
     "output_type": "stream",
     "text": [
      "[x1^3, x1^2*x2, x1^2*x3, x1^2, x1*x2^2, x1*x2*x3, x1*x2, x1*x3^2, x1*x3, x1, x2^3, x2^2*x3, x2^2, x2*x3^2, x2*x3, x2, x3^3, x3^2, x3, 1]\n"
     ]
    }
   ],
   "source": [
    "Mw = mac_matrix([f1,f2,f3],3,S)"
   ]
  },
  {
   "cell_type": "code",
   "execution_count": 230,
   "metadata": {},
   "outputs": [
    {
     "name": "stdout",
     "output_type": "stream",
     "text": [
      "[x1^3, x1^2*x2, x1^2*x3, x1^2, x1*x2^2, x1*x2*x3, x1*x2, x1*x3^2, x1*x3, x1, x2^3, x2^2*x3, x2^2, x2*x3^2, x2*x3, x2, x3^3, x3^2, x3, 1]\n"
     ]
    }
   ],
   "source": [
    "M = mac_matrix([f1,f2],3,S)"
   ]
  },
  {
   "cell_type": "code",
   "execution_count": 231,
   "metadata": {},
   "outputs": [
    {
     "data": {
      "text/plain": [
       "[0 0 0 0 0 0 1 4 0 0 0 0 0 0 0 0 0 0 0 0]\n",
       "[0 0 0 0 0 0 0 0 0 1 4 0 0 0 0 0 0 0 0 0]\n",
       "[0 0 0 0 0 0 0 0 0 0 0 0 1 4 0 0 0 0 0 0]\n",
       "[0 0 0 0 0 0 0 0 0 0 0 0 0 0 1 0 4 0 0 0]\n",
       "[0 0 0 0 0 0 0 0 0 0 0 0 0 0 0 1 0 4 0 0]"
      ]
     },
     "execution_count": 231,
     "metadata": {},
     "output_type": "execute_result"
    }
   ],
   "source": [
    "M.rref()"
   ]
  },
  {
   "cell_type": "code",
   "execution_count": 232,
   "metadata": {},
   "outputs": [
    {
     "data": {
      "text/plain": [
       "[0 0 0 0 1 0 0 0 0 0 4 0 0 0 0 0 0 0 0 0]\n",
       "[0 0 0 0 0 0 1 4 0 0 0 0 0 0 0 0 0 0 0 0]\n",
       "[0 0 0 0 0 0 0 0 0 1 4 0 0 0 0 0 0 0 0 0]\n",
       "[0 0 0 0 0 0 0 0 0 0 0 0 1 4 0 0 0 0 0 0]\n",
       "[0 0 0 0 0 0 0 0 0 0 0 0 0 0 1 0 4 0 0 0]\n",
       "[0 0 0 0 0 0 0 0 0 0 0 0 0 0 0 1 0 4 0 0]"
      ]
     },
     "execution_count": 232,
     "metadata": {},
     "output_type": "execute_result"
    }
   ],
   "source": [
    "Mw.rref()"
   ]
  },
  {
   "cell_type": "code",
   "execution_count": 233,
   "metadata": {},
   "outputs": [
    {
     "ename": "TypeError",
     "evalue": "R must be a commutative ring",
     "output_type": "error",
     "traceback": [
      "\u001b[0;31m---------------------------------------------------------------------------\u001b[0m",
      "\u001b[0;31mTypeError\u001b[0m                                 Traceback (most recent call last)",
      "\u001b[0;32m/var/folders/zf/986s30f52c3fssnjtqpb80w00000gn/T/ipykernel_5614/1717710938.py\u001b[0m in \u001b[0;36m<module>\u001b[0;34m\u001b[0m\n\u001b[0;32m----> 1\u001b[0;31m \u001b[0mmac_grob\u001b[0m\u001b[0;34m(\u001b[0m\u001b[0;34m[\u001b[0m\u001b[0mf1\u001b[0m\u001b[0;34m,\u001b[0m\u001b[0mf2\u001b[0m\u001b[0;34m,\u001b[0m\u001b[0mf3\u001b[0m\u001b[0;34m]\u001b[0m\u001b[0;34m,\u001b[0m\u001b[0mS\u001b[0m\u001b[0;34m)\u001b[0m\u001b[0;34m\u001b[0m\u001b[0;34m\u001b[0m\u001b[0m\n\u001b[0m",
      "\u001b[0;32m/var/folders/zf/986s30f52c3fssnjtqpb80w00000gn/T/ipykernel_5614/2322241930.py\u001b[0m in \u001b[0;36mmac_grob\u001b[0;34m(f, ring)\u001b[0m\n\u001b[1;32m      5\u001b[0m     \u001b[0;32mwhile\u001b[0m \u001b[0;32mTrue\u001b[0m\u001b[0;34m:\u001b[0m\u001b[0;34m\u001b[0m\u001b[0;34m\u001b[0m\u001b[0m\n\u001b[1;32m      6\u001b[0m         \u001b[0mB\u001b[0m \u001b[0;34m=\u001b[0m \u001b[0mmac_basis\u001b[0m\u001b[0;34m(\u001b[0m\u001b[0mf\u001b[0m\u001b[0;34m,\u001b[0m \u001b[0mtest_deg\u001b[0m\u001b[0;34m,\u001b[0m \u001b[0mring\u001b[0m\u001b[0;34m)\u001b[0m\u001b[0;34m\u001b[0m\u001b[0;34m\u001b[0m\u001b[0m\n\u001b[0;32m----> 7\u001b[0;31m         \u001b[0mprint\u001b[0m\u001b[0;34m(\u001b[0m\u001b[0mtest_deg\u001b[0m\u001b[0;34m,\u001b[0m \u001b[0mB\u001b[0m\u001b[0;34m,\u001b[0m \u001b[0mB\u001b[0m\u001b[0;34m.\u001b[0m\u001b[0mis_groebner\u001b[0m\u001b[0;34m(\u001b[0m\u001b[0;34m)\u001b[0m\u001b[0;34m,\u001b[0m \u001b[0mideal\u001b[0m\u001b[0;34m(\u001b[0m\u001b[0mB\u001b[0m\u001b[0;34m)\u001b[0m \u001b[0;34m==\u001b[0m \u001b[0mideal\u001b[0m\u001b[0;34m(\u001b[0m\u001b[0mf\u001b[0m\u001b[0;34m)\u001b[0m\u001b[0;34m)\u001b[0m\u001b[0;34m\u001b[0m\u001b[0;34m\u001b[0m\u001b[0m\n\u001b[0m\u001b[1;32m      8\u001b[0m         \u001b[0;32mif\u001b[0m \u001b[0mB\u001b[0m\u001b[0;34m.\u001b[0m\u001b[0mis_groebner\u001b[0m\u001b[0;34m(\u001b[0m\u001b[0;34m)\u001b[0m \u001b[0;32mand\u001b[0m \u001b[0mideal\u001b[0m\u001b[0;34m(\u001b[0m\u001b[0mB\u001b[0m\u001b[0;34m)\u001b[0m \u001b[0;34m==\u001b[0m \u001b[0mideal\u001b[0m\u001b[0;34m(\u001b[0m\u001b[0mf\u001b[0m\u001b[0;34m)\u001b[0m\u001b[0;34m:\u001b[0m\u001b[0;34m\u001b[0m\u001b[0;34m\u001b[0m\u001b[0m\n\u001b[1;32m      9\u001b[0m             \u001b[0;32mreturn\u001b[0m \u001b[0;34m(\u001b[0m\u001b[0mtest_deg\u001b[0m\u001b[0;34m,\u001b[0m\u001b[0mB\u001b[0m\u001b[0;34m)\u001b[0m\u001b[0;34m\u001b[0m\u001b[0;34m\u001b[0m\u001b[0m\n",
      "\u001b[0;32m/private/var/tmp/sage-9.6-current/local/var/lib/sage/venv-python3.10.3/lib/python3.10/site-packages/sage/rings/ideal.py\u001b[0m in \u001b[0;36mIdeal\u001b[0;34m(*args, **kwds)\u001b[0m\n\u001b[1;32m    189\u001b[0m \u001b[0;34m\u001b[0m\u001b[0m\n\u001b[1;32m    190\u001b[0m     \u001b[0;32mif\u001b[0m \u001b[0;32mnot\u001b[0m \u001b[0misinstance\u001b[0m\u001b[0;34m(\u001b[0m\u001b[0mR\u001b[0m\u001b[0;34m,\u001b[0m \u001b[0msage\u001b[0m\u001b[0;34m.\u001b[0m\u001b[0mrings\u001b[0m\u001b[0;34m.\u001b[0m\u001b[0mring\u001b[0m\u001b[0;34m.\u001b[0m\u001b[0mCommutativeRing\u001b[0m\u001b[0;34m)\u001b[0m\u001b[0;34m:\u001b[0m\u001b[0;34m\u001b[0m\u001b[0;34m\u001b[0m\u001b[0m\n\u001b[0;32m--> 191\u001b[0;31m         \u001b[0;32mraise\u001b[0m \u001b[0mTypeError\u001b[0m\u001b[0;34m(\u001b[0m\u001b[0;34m\"R must be a commutative ring\"\u001b[0m\u001b[0;34m)\u001b[0m\u001b[0;34m\u001b[0m\u001b[0;34m\u001b[0m\u001b[0m\n\u001b[0m\u001b[1;32m    192\u001b[0m \u001b[0;34m\u001b[0m\u001b[0m\n\u001b[1;32m    193\u001b[0m     \u001b[0mI\u001b[0m \u001b[0;34m=\u001b[0m \u001b[0mR\u001b[0m\u001b[0;34m.\u001b[0m\u001b[0mideal\u001b[0m\u001b[0;34m(\u001b[0m\u001b[0;34m*\u001b[0m\u001b[0mgens\u001b[0m\u001b[0;34m,\u001b[0m \u001b[0;34m**\u001b[0m\u001b[0mkwds\u001b[0m\u001b[0;34m)\u001b[0m\u001b[0;34m\u001b[0m\u001b[0;34m\u001b[0m\u001b[0m\n",
      "\u001b[0;31mTypeError\u001b[0m: R must be a commutative ring"
     ]
    }
   ],
   "source": [
    "mac_grob([f1,f2,f3],S)"
   ]
  },
  {
   "cell_type": "code",
   "execution_count": 234,
   "metadata": {},
   "outputs": [
    {
     "data": {
      "text/plain": [
       "[x1 - x3^2, x2 - x3^2, x3^5 - x3]"
      ]
     },
     "execution_count": 234,
     "metadata": {},
     "output_type": "execute_result"
    }
   ],
   "source": [
    "# This is Example 5 in Caminata and Gorla, with the field equations\n",
    "\n",
    "S.<x1,x2,x3> = PolynomialRing(GF(5), order = \"lex\")\n",
    "f1 = x3^2 - x2\n",
    "f2 = x2^3 - x1\n",
    "f3 = x1^5 - x1\n",
    "f4 = x2^5 - x2\n",
    "f5 = x3^5 - x3\n",
    "I = ideal(f1,f2,f3,f4,f5)\n",
    "I.groebner_basis()"
   ]
  },
  {
   "cell_type": "code",
   "execution_count": 235,
   "metadata": {},
   "outputs": [
    {
     "name": "stdout",
     "output_type": "stream",
     "text": [
      "0 [0] True False\n",
      "1 [0] True False\n",
      "2 [x^2 + x, x*y, y^2 + y] True True\n"
     ]
    },
    {
     "data": {
      "text/plain": [
       "(2, [x^2 + x, x*y, y^2 + y])"
      ]
     },
     "execution_count": 235,
     "metadata": {},
     "output_type": "execute_result"
    }
   ],
   "source": [
    "# This is Example 6 in Caminata and Gorla \n",
    "T.<x,y> = PolynomialRing(GF(2), order = \"lex\")\n",
    "f1 = x^2 + x\n",
    "f2 = x*y\n",
    "f3 = y^2 + y\n",
    "f4 = x^2*y + x^2 + x\n",
    "mac_grob([f1,f2,f3,f4],T)"
   ]
  },
  {
   "cell_type": "code",
   "execution_count": 236,
   "metadata": {},
   "outputs": [
    {
     "name": "stdout",
     "output_type": "stream",
     "text": [
      "[x^2, x*y, x, y^2, y, 1]\n"
     ]
    },
    {
     "data": {
      "text/plain": [
       "[1 0 1 0 0 0]\n",
       "[0 1 0 0 0 0]\n",
       "[0 0 0 1 1 0]"
      ]
     },
     "execution_count": 236,
     "metadata": {},
     "output_type": "execute_result"
    }
   ],
   "source": [
    "M = mac_matrix([f1,f2,f3,f4],2,T)\n",
    "M"
   ]
  },
  {
   "cell_type": "code",
   "execution_count": 237,
   "metadata": {},
   "outputs": [
    {
     "data": {
      "text/plain": [
       "[x^2 + x, x*y, y^2 + y]"
      ]
     },
     "execution_count": 237,
     "metadata": {},
     "output_type": "execute_result"
    }
   ],
   "source": [
    "I = Ideal(f1,f2,f3,f4)\n",
    "I.groebner_basis()"
   ]
  },
  {
   "cell_type": "code",
   "execution_count": 238,
   "metadata": {},
   "outputs": [
    {
     "name": "stdout",
     "output_type": "stream",
     "text": [
      "0 [0] True False\n",
      "1 [0] True False\n",
      "2 [x^2 - 1, x*y + x] False True\n",
      "3 [x^3 - x, x^2*y + 1, x^2 - 1, x*y^2 - x, x*y + x, y + 1] True True\n"
     ]
    },
    {
     "data": {
      "text/plain": [
       "(3, [x^3 - x, x^2*y + 1, x^2 - 1, x*y^2 - x, x*y + x, y + 1])"
      ]
     },
     "execution_count": 238,
     "metadata": {},
     "output_type": "execute_result"
    }
   ],
   "source": [
    "# This is Example 8 in Caminata and Gorla\n",
    "\n",
    "R.<x,y> = PolynomialRing(QQ, order = \"lex\")\n",
    "f1 = x^2 - 1\n",
    "f2 = x*y + x\n",
    "mac_grob([f1,f2],R) # solv.deg(F) = 3"
   ]
  },
  {
   "cell_type": "code",
   "execution_count": 239,
   "metadata": {},
   "outputs": [
    {
     "data": {
      "text/plain": [
       "[x^2 - 1, y + 1]"
      ]
     },
     "execution_count": 239,
     "metadata": {},
     "output_type": "execute_result"
    }
   ],
   "source": [
    "Ideal(f1,f2).groebner_basis() # max.GB.deg(F) = 2"
   ]
  },
  {
   "cell_type": "code",
   "execution_count": 240,
   "metadata": {},
   "outputs": [
    {
     "name": "stdout",
     "output_type": "stream",
     "text": [
      "0 [0] True False\n",
      "1 [0] True False\n",
      "2 [x^2 - t^2, x*y + x*t] False True\n",
      "3 [x^3 - x*t^2, x^2*y + t^3, x^2*t - t^3, x^2 - t^2, x*y^2 - x*t^2, x*y*t + x*t^2, x*y + x*t, y*t^2 + t^3] True True\n"
     ]
    },
    {
     "data": {
      "text/plain": [
       "(3,\n",
       " [x^3 - x*t^2, x^2*y + t^3, x^2*t - t^3, x^2 - t^2, x*y^2 - x*t^2, x*y*t + x*t^2, x*y + x*t, y*t^2 + t^3])"
      ]
     },
     "execution_count": 240,
     "metadata": {},
     "output_type": "execute_result"
    }
   ],
   "source": [
    "# Continuing Example 8\n",
    "\n",
    "S.<x,y,t> = PolynomialRing(QQ, order = \"lex\")\n",
    "f1 = x^2 - t^2\n",
    "f2 = x*y + x*t\n",
    "mac_grob([f1,f2],S) # solv.deg(Fh) = 3"
   ]
  },
  {
   "cell_type": "code",
   "execution_count": 241,
   "metadata": {},
   "outputs": [
    {
     "data": {
      "text/plain": [
       "[x^2 - t^2, x*y + x*t, y*t^2 + t^3]"
      ]
     },
     "execution_count": 241,
     "metadata": {},
     "output_type": "execute_result"
    }
   ],
   "source": [
    "Ideal(f1,f2).groebner_basis() # max.GB.deg(Fh) = 3"
   ]
  },
  {
   "cell_type": "code",
   "execution_count": 242,
   "metadata": {
    "scrolled": true
   },
   "outputs": [
    {
     "name": "stdout",
     "output_type": "stream",
     "text": [
      "0 [0] True False\n",
      "1 [0] True False\n",
      "2 [0] True False\n",
      "3 [0] True False\n",
      "4 [x*z^3 - x, y - z^4] True True\n"
     ]
    },
    {
     "data": {
      "text/plain": [
       "(4, [x*z^3 - x, y - z^4])"
      ]
     },
     "execution_count": 242,
     "metadata": {},
     "output_type": "execute_result"
    }
   ],
   "source": [
    "R.<x,y,z> = PolynomialRing(QQ, order = \"lex\")\n",
    "f1 = x - x*z^3\n",
    "f2 = y - z^4\n",
    "mac_grob([f1,f2],R)"
   ]
  },
  {
   "cell_type": "code",
   "execution_count": 243,
   "metadata": {},
   "outputs": [
    {
     "data": {
      "text/plain": [
       "[x, y - z^4, z^9]"
      ]
     },
     "execution_count": 243,
     "metadata": {},
     "output_type": "execute_result"
    }
   ],
   "source": [
    "R.<x,y,z> = PolynomialRing(QQ, order = \"lex\")\n",
    "f1 = x - x*z^3\n",
    "f2 = y - z^4\n",
    "f3 = y^2*z\n",
    "I = Ideal(f1,f2,f3)\n",
    "I.groebner_basis()"
   ]
  },
  {
   "cell_type": "code",
   "execution_count": 244,
   "metadata": {},
   "outputs": [
    {
     "name": "stdout",
     "output_type": "stream",
     "text": [
      "0 [0] True False\n",
      "1 [0] True False\n",
      "2 [0] True False\n",
      "3 [y^2*z] True False\n",
      "4 [x*y^2*z, x*z^3 - x, y^3*z, y^2*z^2, y^2*z, y - z^4] False True\n",
      "5 [x^2*y^2*z, x^2*z^3 - x^2, x*y^3*z, x*y^2*z^2, x*y^2*z, x*y*z^3 - x*z, x*y - x*z, x*z^4 - x*z, x*z^3 - x, y^4*z, y^3*z^2, y^3*z, y^2*z^3, y^2*z^2, y^2*z, y^2 - y*z^4, y*z - z^5, y - z^4] False True\n",
      "6 Polynomial Sequence with 40 Polynomials in 3 Variables False True\n",
      "7 Polynomial Sequence with 72 Polynomials in 3 Variables False True\n",
      "8 Polynomial Sequence with 114 Polynomials in 3 Variables False True\n",
      "9 Polynomial Sequence with 166 Polynomials in 3 Variables True True\n"
     ]
    },
    {
     "data": {
      "text/plain": [
       "(9, Polynomial Sequence with 166 Polynomials in 3 Variables)"
      ]
     },
     "execution_count": 244,
     "metadata": {},
     "output_type": "execute_result"
    }
   ],
   "source": [
    "mac_grob([f1,f2,f3],R)"
   ]
  },
  {
   "cell_type": "code",
   "execution_count": 333,
   "metadata": {},
   "outputs": [
    {
     "data": {
      "text/plain": [
       "[x*z + z^2, y^3 + z^2, y*z^2 + z^2, z^4 - z^2]"
      ]
     },
     "execution_count": 333,
     "metadata": {},
     "output_type": "execute_result"
    }
   ],
   "source": [
    "S.<x,y,z> = PolynomialRing(GF(5), order = \"lex\")\n",
    "f2 = y^4 - z^2\n",
    "f1 = x*z^3 - y^3\n",
    "f3 = x*y*z + x*z\n",
    "I = ideal(f1,f2,f3)\n",
    "I.groebner_basis()"
   ]
  },
  {
   "cell_type": "code",
   "execution_count": 334,
   "metadata": {},
   "outputs": [
    {
     "name": "stdout",
     "output_type": "stream",
     "text": [
      "0 [0] True False\n",
      "1 [0] True False\n",
      "2 [0] True False\n",
      "3 [x*y*z + x*z] True False\n",
      "4 [x^2*y*z + x^2*z, x*y^2*z - x*z, x*y*z^2 + x*z^2, x*y*z + x*z, x*z^3 - y^3, y^4 - z^2] False True\n",
      "5 [x^3*y*z + x^3*z, x^2*y^2*z - x^2*z, x^2*y*z^2 + x^2*z^2, x^2*y*z + x^2*z, x^2*z^3 - x*y^3, x*y^4 - x*z^2, x*y^3*z + x*z, x*y^2*z^2 - x*z^2, x*y^2*z - x*z, x*y*z^3 - z^2, x*y*z^2 + x*z^2, x*y*z + x*z, x*z^4 - y^3*z, x*z^3 + z^2, y^5 - y*z^2, y^4*z - z^3, y^4 - z^2, y^3 + z^2] False True\n",
      "6 Polynomial Sequence with 40 Polynomials in 3 Variables False True\n",
      "7 Polynomial Sequence with 72 Polynomials in 3 Variables False True\n",
      "8 Polynomial Sequence with 114 Polynomials in 3 Variables True True\n"
     ]
    }
   ],
   "source": [
    "M = mac_grob([f1,f2,f3],S)[1]"
   ]
  },
  {
   "cell_type": "code",
   "execution_count": 335,
   "metadata": {},
   "outputs": [
    {
     "data": {
      "text/plain": [
       "[x*z + z^2, y^3 + z^2, y*z^2 + z^2, z^4 - z^2]"
      ]
     },
     "execution_count": 335,
     "metadata": {},
     "output_type": "execute_result"
    }
   ],
   "source": [
    "min_grob(M,S)"
   ]
  },
  {
   "cell_type": "code",
   "execution_count": 247,
   "metadata": {},
   "outputs": [
    {
     "data": {
      "text/plain": [
       "True"
      ]
     },
     "execution_count": 247,
     "metadata": {},
     "output_type": "execute_result"
    }
   ],
   "source": [
    "I.gens().is_groebner()"
   ]
  },
  {
   "cell_type": "code",
   "execution_count": 336,
   "metadata": {},
   "outputs": [
    {
     "data": {
      "text/plain": [
       "[x, y^2 + z, z^4]"
      ]
     },
     "execution_count": 336,
     "metadata": {},
     "output_type": "execute_result"
    }
   ],
   "source": [
    "S.<x,y,z> = PolynomialRing(GF(5), order = \"lex\")\n",
    "f1 = x - y^2*z^6\n",
    "f2 = y^2 + z\n",
    "f3 = z^4\n",
    "I = ideal(f1,f2,f3)\n",
    "I.groebner_basis()"
   ]
  },
  {
   "cell_type": "code",
   "execution_count": 337,
   "metadata": {},
   "outputs": [
    {
     "name": "stdout",
     "output_type": "stream",
     "text": [
      "0 [0] True False\n",
      "1 [0] True False\n",
      "2 [y^2 + z] True False\n",
      "3 [x*y^2 + x*z, y^3 + y*z, y^2*z + z^2, y^2 + z] True False\n",
      "4 [x^2*y^2 + x^2*z, x*y^3 + x*y*z, x*y^2*z + x*z^2, x*y^2 + x*z, y^4 - z^2, y^3*z + y*z^2, y^3 + y*z, y^2*z^2 + z^3, y^2*z + z^2, y^2 + z, z^4] True False\n",
      "5 Polynomial Sequence with 24 Polynomials in 3 Variables True False\n",
      "6 Polynomial Sequence with 44 Polynomials in 3 Variables True False\n",
      "7 Polynomial Sequence with 72 Polynomials in 3 Variables True False\n",
      "8 Polynomial Sequence with 110 Polynomials in 3 Variables True True\n"
     ]
    },
    {
     "data": {
      "text/plain": [
       "(8, Polynomial Sequence with 110 Polynomials in 3 Variables)"
      ]
     },
     "execution_count": 337,
     "metadata": {},
     "output_type": "execute_result"
    }
   ],
   "source": [
    "mac_grob([f1,f2,f3], S)"
   ]
  },
  {
   "cell_type": "code",
   "execution_count": 13,
   "metadata": {},
   "outputs": [],
   "source": [
    "# Syzygy polynomial computation as in Cox, Little, and O'Shea\n",
    "\n",
    "def S_poly(f,g,R):\n",
    "    alpha = f.lt()\n",
    "    beta = g.lt()\n",
    "    gamma = lcm(alpha,beta)\n",
    "    return R((gamma / alpha)*f - (gamma / beta)*g) # fails to have lt() without R(.)\n",
    "\n",
    "\n",
    "# Multivariate division algorithm\n",
    "\n",
    "def mdiv(f,divisors,R):\n",
    "    s = len(divisors)\n",
    "    q = [0 for i in range(s)]\n",
    "    r = 0\n",
    "    p = f\n",
    "    while p != 0:\n",
    "        i = 0\n",
    "        div_occ = False\n",
    "        while (i < s) and (div_occ == False):\n",
    "            ltdi = divisors[i].lt()\n",
    "            ltp = p.lt()\n",
    "            if ltdi.divides(ltp):\n",
    "                update = ltp / ltdi\n",
    "                q[i] += update\n",
    "                p -= R(update*divisors[i]) # without R(.), p is in fraction field, where lt() command fails\n",
    "                div_occ = True\n",
    "            else:\n",
    "                i += 1\n",
    "        if div_occ == False:\n",
    "            r = r + p.lt()\n",
    "            p = p - p.lt()\n",
    "    return (q,r)\n",
    "\n",
    "\n",
    "# Compute the remainder of a multivariate polynomial \"f\" after division by a list of polynomials \"divisors\"\n",
    "\n",
    "def get_rem(f,divisors,R):\n",
    "    return mdiv(f,divisors,R)[1]\n",
    "\n",
    "\n",
    "# find l where l is the row in the Gröbner basis at the beginning of Theorem 5\n",
    "\n",
    "def get_l_level(f, R):\n",
    "    degs = dict(zip([i+1 for i in range(len(R.gens()))], f.degrees()))\n",
    "    l = 0\n",
    "    for (key,val) in degs.items():\n",
    "        if val != 0:\n",
    "            l = key\n",
    "            break\n",
    "    return l  \n",
    "\n",
    "# Implementing Corollary 1 in Caminata and Gorla\n",
    "\n",
    "def system_solve(f, R): # takes a list f = [f_1, ..., f_s] of multivariate polynomials as input\n",
    "    ring_vars = dict(zip([i+1 for i in range(len(R.gens()))], R.gens()))\n",
    "    I = Ideal(f)\n",
    "    G = I.groebner_basis()\n",
    "    partial_sols = [[]]\n",
    "    completed_ls = []\n",
    "    for g in G[::-1]:\n",
    "        l = get_l_level(g, R)\n",
    "        if l not in completed_ls:\n",
    "            completed_ls.append(l)\n",
    "            working_polys = []\n",
    "            for h in G:\n",
    "                if get_l_level(h, R) == l:\n",
    "                    working_polys.append(h)\n",
    "            new_partials = []\n",
    "            for partial in partial_sols:\n",
    "                specializations = []\n",
    "                for poly in working_polys:\n",
    "                    degs = dict(zip([i+1 for i in range(len(R.gens()))], poly.degrees()))\n",
    "                    l = 0\n",
    "                    for (key,val) in degs.items():\n",
    "                        if val != 0:\n",
    "                            l = key\n",
    "                            break\n",
    "                    substitutions = dict(zip(R.gens()[l:], partial))\n",
    "                    specializations.append(poly.subs(substitutions))\n",
    "                p = gcd(specializations)\n",
    "                roots = p.univariate_polynomial().roots()\n",
    "                for root in roots:\n",
    "                    new_sol = [root[0]] + partial\n",
    "                    new_partials.append(new_sol)\n",
    "            partial_sols = new_partials\n",
    "    return([tuple(sol) for sol in partial_sols])"
   ]
  },
  {
   "cell_type": "code",
   "execution_count": 251,
   "metadata": {},
   "outputs": [
    {
     "data": {
      "text/plain": [
       "([0, y^3, x*y^6*z - x*y^6 + y^3*z - y^3], x^2 + x*y^6*z^2 + y^3*z^2)"
      ]
     },
     "execution_count": 251,
     "metadata": {},
     "output_type": "execute_result"
    }
   ],
   "source": [
    "mdiv(x^2 + y^10 + x*y^6*z^4, [x^3, y^7 - z^4, z^3 + z^2], S)"
   ]
  },
  {
   "cell_type": "code",
   "execution_count": 441,
   "metadata": {},
   "outputs": [
    {
     "data": {
      "text/plain": [
       "[x, y^2 + z^3, z^5]"
      ]
     },
     "execution_count": 441,
     "metadata": {},
     "output_type": "execute_result"
    }
   ],
   "source": [
    "S.<x,y,z> = PolynomialRing(GF(5), order = \"lex\")\n",
    "f1 = x - y^2*z^4\n",
    "f2 = y^2 + z^3\n",
    "f3 = z^5\n",
    "I = ideal(f1,f2,f3)\n",
    "I.groebner_basis()"
   ]
  },
  {
   "cell_type": "code",
   "execution_count": 442,
   "metadata": {},
   "outputs": [
    {
     "name": "stdout",
     "output_type": "stream",
     "text": [
      "0 [0] True False\n",
      "1 [0] True False\n",
      "2 [0] True False\n",
      "3 [y^2 + z^3] True False\n",
      "4 [x*y^2 + x*z^3, y^3 + y*z^3, y^2*z + z^4, y^2 + z^3] True False\n",
      "5 [x^2*y^2 + x^2*z^3, x*y^3 + x*y*z^3, x*y^2*z + x*z^4, x*y^2 + x*z^3, y^4 + y^2*z^3, y^3*z + y*z^4, y^3 + y*z^3, y^2*z^2, y^2*z + z^4, y^2 + z^3, z^5] True False\n",
      "6 Polynomial Sequence with 25 Polynomials in 3 Variables True True\n"
     ]
    },
    {
     "data": {
      "text/plain": [
       "[x - y^2*z^4, y^2 + z^3, z^5]"
      ]
     },
     "execution_count": 442,
     "metadata": {},
     "output_type": "execute_result"
    }
   ],
   "source": [
    "P = mac_grob([f1,f2,f3], S)[1]\n",
    "min_grob(P,S)"
   ]
  },
  {
   "cell_type": "code",
   "execution_count": 289,
   "metadata": {},
   "outputs": [
    {
     "data": {
      "text/plain": [
       "[(0, 0, 0)]"
      ]
     },
     "execution_count": 289,
     "metadata": {},
     "output_type": "execute_result"
    }
   ],
   "source": [
    "system_solve([f1,f2,f3], S)"
   ]
  },
  {
   "cell_type": "code",
   "execution_count": 288,
   "metadata": {},
   "outputs": [
    {
     "data": {
      "text/plain": [
       "     1     1     0     0\n",
       "     0     1     1     0\n",
       "     0     1     1     0\n",
       "     0     0     1     1"
      ]
     },
     "execution_count": 288,
     "metadata": {},
     "output_type": "execute_result"
    }
   ],
   "source": [
    "I._singular_().mres(0).betti()"
   ]
  },
  {
   "cell_type": "code",
   "execution_count": 255,
   "metadata": {},
   "outputs": [
    {
     "data": {
      "text/plain": [
       "([-x*y^5*z^14, 0, 0, 0], 0)"
      ]
     },
     "execution_count": 255,
     "metadata": {},
     "output_type": "execute_result"
    }
   ],
   "source": [
    "mdiv(S_poly(x^5 - x^3*y^3*z^14,f2,S), [f1,f2,f3,f4], S)"
   ]
  },
  {
   "cell_type": "code",
   "execution_count": 36,
   "metadata": {},
   "outputs": [],
   "source": [
    "def min_grob(polys, S):\n",
    "    p_id = Ideal(polys)\n",
    "    if not p_id.gens().is_groebner():\n",
    "        return False\n",
    "    else:\n",
    "        minimized = []\n",
    "        for i in range(len(polys)):\n",
    "            poly = polys[i]\n",
    "            lt_check = poly.lt()\n",
    "            del polys[i]\n",
    "            if lt_check not in Ideal([p.lt() for p in polys]):\n",
    "                minimized.append(poly)\n",
    "            polys.insert(i, poly)  \n",
    "        return minimized"
   ]
  },
  {
   "cell_type": "code",
   "execution_count": 297,
   "metadata": {},
   "outputs": [
    {
     "data": {
      "text/plain": [
       "[x^2, x*y, y^2]"
      ]
     },
     "execution_count": 297,
     "metadata": {},
     "output_type": "execute_result"
    }
   ],
   "source": [
    "min_grob([x^2, x^2*y, x*y, y^2, x^4], S)"
   ]
  },
  {
   "cell_type": "code",
   "execution_count": 34,
   "metadata": {},
   "outputs": [
    {
     "data": {
      "text/plain": [
       "[y^6 - 1, y^2*z - y^2 - x*z + y*z - 3*x + 2*y + z - 1, x^2 - y^2 + 2*y*z - 2*x + 3*y - 3*z + 3, x*y + y^2 - x*z - 2*y*z + 3*x - 3*y + 3*z - 3, z^2 + 2*x + 2*y - 2*z + 1]"
      ]
     },
     "execution_count": 34,
     "metadata": {},
     "output_type": "execute_result"
    }
   ],
   "source": [
    "# Example from Minko's Thesis\n",
    "R.<x,y,z> = PolynomialRing(GF(7), order = 'degrevlex')\n",
    "f1 = x^5 + y^5 + z^5 - 1\n",
    "f2 = x^3 + y^3 + z^2 - 1\n",
    "f3 = y^6 - 1\n",
    "f4 = z^6 - 1\n",
    "f_list = [f1*f1*f1, f1*f1*f2, f1*f1*f3, f1*f1*f4, f1*f2*f2, f1*f2*f3, f1*f2*f4, f1*f3*f3, f1*f3*f4, f1*f4*f4, f2*f2*f2, f2*f2*f3, f2*f2*f4, f2*f3*f3, f2*f3*f4, f2*f4*f4, f3*f3*f3, f3*f3*f4, f3*f4*f4, f4*f4*f4, x^7 - x, y^7 - y, z^7 - z]\n",
    "I = Ideal(f_list)\n",
    "I.groebner_basis()"
   ]
  },
  {
   "cell_type": "code",
   "execution_count": 35,
   "metadata": {},
   "outputs": [
    {
     "ename": "NameError",
     "evalue": "name 'degree_reg' is not defined",
     "output_type": "error",
     "traceback": [
      "\u001b[0;31m---------------------------------------------------------------------------\u001b[0m",
      "\u001b[0;31mNameError\u001b[0m                                 Traceback (most recent call last)",
      "\u001b[0;32m/var/folders/zf/986s30f52c3fssnjtqpb80w00000gn/T/ipykernel_34306/1039807873.py\u001b[0m in \u001b[0;36m<module>\u001b[0;34m\u001b[0m\n\u001b[0;32m----> 1\u001b[0;31m \u001b[0mdegree_reg\u001b[0m\u001b[0;34m(\u001b[0m\u001b[0mI\u001b[0m\u001b[0;34m,\u001b[0m\u001b[0mR\u001b[0m\u001b[0;34m)\u001b[0m\u001b[0;34m\u001b[0m\u001b[0;34m\u001b[0m\u001b[0m\n\u001b[0m",
      "\u001b[0;31mNameError\u001b[0m: name 'degree_reg' is not defined"
     ]
    }
   ],
   "source": [
    "degree_reg(I,R)"
   ]
  },
  {
   "cell_type": "code",
   "execution_count": null,
   "metadata": {},
   "outputs": [],
   "source": []
  },
  {
   "cell_type": "code",
   "execution_count": 90,
   "metadata": {},
   "outputs": [
    {
     "name": "stdout",
     "output_type": "stream",
     "text": [
      "0 [0] True False\n",
      "1 [0] True False\n",
      "2 [0] True False\n",
      "3 [0] True False\n",
      "4 [0] True False\n",
      "5 [0] True False\n",
      "6 [0] True False\n",
      "7 [x^7 - x, y^7 - y, z^7 - z] True False\n",
      "8 [x^8 - x^2, x^7*y - x*y, x*y^7 - x*y, y^8 - y^2, x^7*z - x*z, y^7*z - y*z, x*z^7 - x*z, y*z^7 - y*z, z^8 - z^2, x^7 - x, y^7 - y, z^7 - z] True False\n",
      "9 Polynomial Sequence with 31 Polynomials in 3 Variables False False\n",
      "10 Polynomial Sequence with 64 Polynomials in 3 Variables False False\n",
      "11 Polynomial Sequence with 116 Polynomials in 3 Variables False False\n",
      "12 Polynomial Sequence with 194 Polynomials in 3 Variables False False\n",
      "13 Polynomial Sequence with 304 Polynomials in 3 Variables False False\n",
      "14 Polynomial Sequence with 450 Polynomials in 3 Variables False False\n",
      "15 Polynomial Sequence with 636 Polynomials in 3 Variables False False\n",
      "16 Polynomial Sequence with 862 Polynomials in 3 Variables False False\n",
      "17 Polynomial Sequence with 1102 Polynomials in 3 Variables False False\n",
      "18 Polynomial Sequence with 1304 Polynomials in 3 Variables False True\n",
      "19 Polynomial Sequence with 1521 Polynomials in 3 Variables False True\n",
      "20 Polynomial Sequence with 1757 Polynomials in 3 Variables False True\n",
      "21 Polynomial Sequence with 2013 Polynomials in 3 Variables False True\n",
      "22 Polynomial Sequence with 2290 Polynomials in 3 Variables True True\n"
     ]
    },
    {
     "data": {
      "text/plain": [
       "(22, Polynomial Sequence with 2290 Polynomials in 3 Variables)"
      ]
     },
     "execution_count": 90,
     "metadata": {},
     "output_type": "execute_result"
    }
   ],
   "source": [
    "mac_grob(f_list, R) # I'm getting 22, Minko gets 24 using Magma's computations of 'maximum step degree'\n",
    "# Minko also uses a definition of solving degree based on a slightly different Macaulay matrix alg, but presumably\n",
    "# this alg would change only runtime -- it looks like just an improved version"
   ]
  },
  {
   "cell_type": "code",
   "execution_count": 14,
   "metadata": {},
   "outputs": [
    {
     "data": {
      "text/plain": [
       "1/(-t + 1)"
      ]
     },
     "execution_count": 14,
     "metadata": {},
     "output_type": "execute_result"
    }
   ],
   "source": [
    "from sage.rings.polynomial.hilbert import hilbert_poincare_series\n",
    "hilbert_poincare_series(I)"
   ]
  },
  {
   "cell_type": "code",
   "execution_count": 11,
   "metadata": {},
   "outputs": [
    {
     "data": {
      "text/plain": [
       "     1     0     0     0     0\n",
       "     0     0     0     0     0\n",
       "     0     0     0     0     0\n",
       "     0     0     0     0     0\n",
       "     0     0     0     0     0\n",
       "     0     0     0     0     0\n",
       "     0     3     0     0     0\n",
       "     0     0     0     0     0\n",
       "     0     0     0     0     0\n",
       "     0     0     0     0     0\n",
       "     0     0     0     0     0\n",
       "     0     0     0     0     0\n",
       "     0     0     3     0     0\n",
       "     0     2     2     0     0\n",
       "     0     1     2     1     0\n",
       "     0     0     0     0     0\n",
       "     0     1     2     1     0\n",
       "     0     0     2     4     1\n",
       "     0     0     2     2     0\n",
       "     0     0     3     3     0\n",
       "     0     0     4     9     5\n",
       "     0     0     0     2     2"
      ]
     },
     "execution_count": 11,
     "metadata": {},
     "output_type": "execute_result"
    }
   ],
   "source": [
    "I.homogenize()._singular_().mres(0).betti() # --> reg(I^h) = 22"
   ]
  },
  {
   "cell_type": "code",
   "execution_count": 477,
   "metadata": {},
   "outputs": [
    {
     "data": {
      "text/plain": [
       "x^8*y^6"
      ]
     },
     "execution_count": 477,
     "metadata": {},
     "output_type": "execute_result"
    }
   ],
   "source": [
    "f_list[0].homogenize().subs(h = 0)"
   ]
  },
  {
   "cell_type": "code",
   "execution_count": 587,
   "metadata": {},
   "outputs": [
    {
     "data": {
      "text/plain": [
       "     1     0     0     0     0\n",
       "     0     0     0     0     0\n",
       "     0     0     0     0     0\n",
       "     0     0     0     0     0\n",
       "     0     0     0     0     0\n",
       "     0     0     0     0     0\n",
       "     0     3     0     0     0\n",
       "     0     0     0     0     0\n",
       "     0     1     0     0     0\n",
       "     0     0     0     0     0\n",
       "     0     1     0     0     0\n",
       "     0     2     2     0     0\n",
       "     0     1     4     0     0\n",
       "     0     2     4     0     0\n",
       "     0     4     6     1     0\n",
       "     0     2    29     4     0\n",
       "     0     2    33   116    61\n",
       "     0     3    11    15     6\n",
       "     0     0     3     5     2\n",
       "     0     0     2     2     0\n",
       "     0     0     0     1     0\n",
       "     0     0     0     0     1"
      ]
     },
     "execution_count": 587,
     "metadata": {},
     "output_type": "execute_result"
    }
   ],
   "source": [
    "ftop = [poly.homogenize() for poly in f_list]\n",
    "J = ideal(ftop)\n",
    "J._singular_().mres(0).betti() # --> reg(F^top) = 17, Minko suggests 15"
   ]
  },
  {
   "cell_type": "code",
   "execution_count": 131,
   "metadata": {},
   "outputs": [
    {
     "data": {
      "text/plain": [
       "(2*t^17 + 5*t^16 + 9*t^15 + 15*t^14 + 21*t^13 + 28*t^12 + 33*t^11 + 36*t^10 + 37*t^9 + 36*t^8 + 33*t^7 + 28*t^6 + 21*t^5 + 15*t^4 + 10*t^3 + 6*t^2 + 3*t + 1)/(-t + 1)"
      ]
     },
     "execution_count": 131,
     "metadata": {},
     "output_type": "execute_result"
    }
   ],
   "source": [
    "hilbert_poincare_series(J) # 17 - 1 + 1 = 17, agrees with previous"
   ]
  },
  {
   "cell_type": "code",
   "execution_count": 15,
   "metadata": {},
   "outputs": [
    {
     "data": {
      "text/plain": [
       "[y^2 - 1, x + 1]"
      ]
     },
     "execution_count": 15,
     "metadata": {},
     "output_type": "execute_result"
    }
   ],
   "source": [
    "# example 4.1 in Gorla\n",
    "R.<x,y> = PolynomialRing(GF(7), order = 'degrevlex')\n",
    "f1 = x*y + y\n",
    "f2 = y^2 - 1\n",
    "f3 = x^6 - 1\n",
    "I = ideal(f1,f2,f3)\n",
    "I.groebner_basis()"
   ]
  },
  {
   "cell_type": "code",
   "execution_count": 16,
   "metadata": {},
   "outputs": [
    {
     "name": "stdout",
     "output_type": "stream",
     "text": [
      "0 [0] True False\n",
      "1 [0] True False\n",
      "2 [x*y + y, y^2 - 1] False True\n",
      "3 [x^2*y - y, x*y^2 + 1, y^3 - y, x*y + y, y^2 - 1, x + 1] True True\n"
     ]
    },
    {
     "data": {
      "text/plain": [
       "(3, [x^2*y - y, x*y^2 + 1, y^3 - y, x*y + y, y^2 - 1, x + 1])"
      ]
     },
     "execution_count": 16,
     "metadata": {},
     "output_type": "execute_result"
    }
   ],
   "source": [
    "mac_grob([f1,f2,f3],R) # we agree that solving degree is 3"
   ]
  },
  {
   "cell_type": "code",
   "execution_count": 17,
   "metadata": {},
   "outputs": [
    {
     "data": {
      "text/plain": [
       "     1     0     0\n",
       "     0     2     1\n",
       "     0     0     0\n",
       "     0     0     0\n",
       "     0     0     0\n",
       "     0     1     1"
      ]
     },
     "execution_count": 17,
     "metadata": {},
     "output_type": "execute_result"
    }
   ],
   "source": [
    "ftop = [poly.homogenize().subs(h = 0) for poly in [f1,f2,f3]]\n",
    "J = ideal(ftop)\n",
    "J._singular_().mres(0).betti() # we agree that degree of regularity is 6"
   ]
  },
  {
   "cell_type": "code",
   "execution_count": 18,
   "metadata": {},
   "outputs": [
    {
     "data": {
      "text/plain": [
       "     1     0     0     0\n",
       "     0     2     0     0\n",
       "     0     0     1     0\n",
       "     0     0     0     0\n",
       "     0     0     0     0\n",
       "     0     1     1     0\n",
       "     0     0     1     1"
      ]
     },
     "execution_count": 18,
     "metadata": {},
     "output_type": "execute_result"
    }
   ],
   "source": [
    "I.homogenize()._singular_().mres(0).betti() # we agree that regularity of homogenization is 7"
   ]
  },
  {
   "cell_type": "code",
   "execution_count": 19,
   "metadata": {},
   "outputs": [
    {
     "data": {
      "text/plain": [
       "[y^7 - y, y^3*z - y^3 + y^2*z + 3*x*y + 2*y^2 + 2*x*z + 3*y*z + 2*z^2 - x - 2*y - 3*z + 1, y^2*z^2 + 2*y^2*z - 2*y*z^2 - x*y + 3*y^2 + 3*x*z + y*z + 3*z^2 + 2*x - y - z - 2, x*y^2 + y^3 - 2*y^2*z - 3*y*z^2 + 3*x*y - 2*y^2 + 2*x*z - 3*y*z + 2*z^2 - x - 3*z + 1, x*y*z - x*y + 2*x*z + 2*y*z + 2*z^2 - x - y - 3*z + 1, x*z^2 + y*z^2 + 2*x*z + 2*y*z - 2*z^2 + 3*x + 3*y - 2*z - 3, z^3 + 2*x*z + 2*y*z - 2*z^2 + z, x^2 + 2*x*y + y^2 - 2*x*z - 2*y*z - 3*z^2 - 2*x - 2*y + 2*z + 1]"
      ]
     },
     "execution_count": 19,
     "metadata": {},
     "output_type": "execute_result"
    }
   ],
   "source": [
    "# Example from Minko's Thesis -- unclear what is going on here\n",
    "R.<x,y,z> = PolynomialRing(GF(7), order = 'degrevlex')\n",
    "f1 = x^5 + y^5 + z^5 - 1\n",
    "f2 = x^3 + y^3 + z^2 - 1\n",
    "f3 = x^7 - x\n",
    "f4 = y^7 - y\n",
    "f5 = z^7 - z\n",
    "f_list = [f1*f1, f1*f2, f1*f3, f1*f4, f1*f5, f2*f2, f2*f3, f2*f4, f2*f5, f3*f3, f3*f4, f3*f5, f4*f4, f4*f5, f5*f5, x^7 - x, y^7 - y, z^7 - z]\n",
    "I = Ideal(f_list)\n",
    "I.groebner_basis()"
   ]
  },
  {
   "cell_type": "code",
   "execution_count": 16,
   "metadata": {},
   "outputs": [],
   "source": [
    "# computes degree of regularity for a homogeneous ideal\n",
    "def hdegree_reg(I):\n",
    "    G = I.groebner_basis()\n",
    "    LT = Ideal([g.lt() for g in G])\n",
    "    HS = hilbert_poincare_series(LT)\n",
    "    delta = HS.numerator().degree()\n",
    "    l = HS.denominator().degree()\n",
    "    return(delta - l + 1)\n",
    "\n",
    "\n",
    "# computes F^top\n",
    "def f_top(I, R):\n",
    "    f_list = I.gens()\n",
    "    new_ring.<h> = PolynomialRing(R, order = 'degrevlex')\n",
    "    homogenized = [new_ring(poly.homogenize()) for poly in f_list]\n",
    "    final = [R(poly.subs(h=0)) for poly in homogenized] \n",
    "    return(final)\n",
    "\n",
    "\n",
    "# computes degree of regularity in the nonhomogeneous case\n",
    "def degree_reg(I, R):\n",
    "    J = ideal(f_top(I,R))\n",
    "    return hdegree_reg(J)"
   ]
  },
  {
   "cell_type": "code",
   "execution_count": 45,
   "metadata": {},
   "outputs": [
    {
     "data": {
      "text/plain": [
       "15"
      ]
     },
     "execution_count": 45,
     "metadata": {},
     "output_type": "execute_result"
    }
   ],
   "source": [
    "degree_reg(I,R)"
   ]
  },
  {
   "cell_type": "code",
   "execution_count": 46,
   "metadata": {},
   "outputs": [
    {
     "name": "stdout",
     "output_type": "stream",
     "text": [
      "0 [0] True False\n",
      "1 [0] True False\n",
      "2 [0] True False\n",
      "3 [0] True False\n",
      "4 [0] True False\n",
      "5 [0] True False\n",
      "6 [0] True False\n",
      "7 [x^7 - x, y^7 - y, z^7 - z] True False\n",
      "8 [x^8 - x^2, x^7*y - x*y, x*y^7 - x*y, y^8 - y^2, x^7*z - x*z, y^7*z - y*z, x*z^7 - x*z, y*z^7 - y*z, z^8 - z^2, x^7 - x, y^7 - y, z^7 - z] True False\n",
      "9 Polynomial Sequence with 31 Polynomials in 3 Variables False False\n",
      "10 Polynomial Sequence with 64 Polynomials in 3 Variables False False\n",
      "11 Polynomial Sequence with 116 Polynomials in 3 Variables False False\n",
      "12 Polynomial Sequence with 194 Polynomials in 3 Variables False False\n",
      "13 Polynomial Sequence with 304 Polynomials in 3 Variables False False\n",
      "14 Polynomial Sequence with 450 Polynomials in 3 Variables False False\n",
      "15 Polynomial Sequence with 636 Polynomials in 3 Variables False False\n",
      "16 Polynomial Sequence with 862 Polynomials in 3 Variables False False\n",
      "17 Polynomial Sequence with 1102 Polynomials in 3 Variables False False\n"
     ]
    },
    {
     "ename": "KeyboardInterrupt",
     "evalue": "",
     "output_type": "error",
     "traceback": [
      "\u001b[0;31m---------------------------------------------------------------------------\u001b[0m",
      "\u001b[0;31mKeyError\u001b[0m                                  Traceback (most recent call last)",
      "\u001b[0;32m/private/var/tmp/sage-9.6-current/local/var/lib/sage/venv-python3.10.3/lib/python3.10/site-packages/sage/misc/cachefunc.pyx\u001b[0m in \u001b[0;36msage.misc.cachefunc.CachedMethodCaller.__call__ (build/cythonized/sage/misc/cachefunc.c:10414)\u001b[0;34m()\u001b[0m\n\u001b[1;32m   1942\u001b[0m             \u001b[0;32mtry\u001b[0m\u001b[0;34m:\u001b[0m\u001b[0;34m\u001b[0m\u001b[0;34m\u001b[0m\u001b[0m\n\u001b[0;32m-> 1943\u001b[0;31m                 \u001b[0;32mreturn\u001b[0m \u001b[0mcache\u001b[0m\u001b[0;34m[\u001b[0m\u001b[0mk\u001b[0m\u001b[0;34m]\u001b[0m\u001b[0;34m\u001b[0m\u001b[0;34m\u001b[0m\u001b[0m\n\u001b[0m\u001b[1;32m   1944\u001b[0m             \u001b[0;32mexcept\u001b[0m \u001b[0mTypeError\u001b[0m\u001b[0;34m:\u001b[0m  \u001b[0;31m# k is not hashable\u001b[0m\u001b[0;34m\u001b[0m\u001b[0;34m\u001b[0m\u001b[0m\n",
      "\u001b[0;31mKeyError\u001b[0m: ((Singular,), ())",
      "\nDuring handling of the above exception, another exception occurred:\n",
      "\u001b[0;31mKeyError\u001b[0m                                  Traceback (most recent call last)",
      "\u001b[0;32m/private/var/tmp/sage-9.6-current/local/var/lib/sage/venv-python3.10.3/lib/python3.10/site-packages/sage/misc/cachefunc.pyx\u001b[0m in \u001b[0;36msage.misc.cachefunc.CachedMethodCaller.__call__ (build/cythonized/sage/misc/cachefunc.c:10414)\u001b[0;34m()\u001b[0m\n\u001b[1;32m   1942\u001b[0m             \u001b[0;32mtry\u001b[0m\u001b[0;34m:\u001b[0m\u001b[0;34m\u001b[0m\u001b[0;34m\u001b[0m\u001b[0m\n\u001b[0;32m-> 1943\u001b[0;31m                 \u001b[0;32mreturn\u001b[0m \u001b[0mcache\u001b[0m\u001b[0;34m[\u001b[0m\u001b[0mk\u001b[0m\u001b[0;34m]\u001b[0m\u001b[0;34m\u001b[0m\u001b[0;34m\u001b[0m\u001b[0m\n\u001b[0m\u001b[1;32m   1944\u001b[0m             \u001b[0;32mexcept\u001b[0m \u001b[0mTypeError\u001b[0m\u001b[0;34m:\u001b[0m  \u001b[0;31m# k is not hashable\u001b[0m\u001b[0;34m\u001b[0m\u001b[0;34m\u001b[0m\u001b[0m\n",
      "\u001b[0;31mKeyError\u001b[0m: ((Singular,), ())",
      "\nDuring handling of the above exception, another exception occurred:\n",
      "\u001b[0;31mKeyboardInterrupt\u001b[0m                         Traceback (most recent call last)",
      "\u001b[0;32m/var/folders/zf/986s30f52c3fssnjtqpb80w00000gn/T/ipykernel_34306/2039705980.py\u001b[0m in \u001b[0;36m<module>\u001b[0;34m\u001b[0m\n\u001b[0;32m----> 1\u001b[0;31m \u001b[0mmac_grob\u001b[0m\u001b[0;34m(\u001b[0m\u001b[0mf_list\u001b[0m\u001b[0;34m,\u001b[0m \u001b[0mR\u001b[0m\u001b[0;34m)\u001b[0m\u001b[0;34m\u001b[0m\u001b[0;34m\u001b[0m\u001b[0m\n\u001b[0m",
      "\u001b[0;32m/var/folders/zf/986s30f52c3fssnjtqpb80w00000gn/T/ipykernel_34306/2322241930.py\u001b[0m in \u001b[0;36mmac_grob\u001b[0;34m(f, ring)\u001b[0m\n\u001b[1;32m      5\u001b[0m     \u001b[0;32mwhile\u001b[0m \u001b[0;32mTrue\u001b[0m\u001b[0;34m:\u001b[0m\u001b[0;34m\u001b[0m\u001b[0;34m\u001b[0m\u001b[0m\n\u001b[1;32m      6\u001b[0m         \u001b[0mB\u001b[0m \u001b[0;34m=\u001b[0m \u001b[0mmac_basis\u001b[0m\u001b[0;34m(\u001b[0m\u001b[0mf\u001b[0m\u001b[0;34m,\u001b[0m \u001b[0mtest_deg\u001b[0m\u001b[0;34m,\u001b[0m \u001b[0mring\u001b[0m\u001b[0;34m)\u001b[0m\u001b[0;34m\u001b[0m\u001b[0;34m\u001b[0m\u001b[0m\n\u001b[0;32m----> 7\u001b[0;31m         \u001b[0mprint\u001b[0m\u001b[0;34m(\u001b[0m\u001b[0mtest_deg\u001b[0m\u001b[0;34m,\u001b[0m \u001b[0mB\u001b[0m\u001b[0;34m,\u001b[0m \u001b[0mB\u001b[0m\u001b[0;34m.\u001b[0m\u001b[0mis_groebner\u001b[0m\u001b[0;34m(\u001b[0m\u001b[0;34m)\u001b[0m\u001b[0;34m,\u001b[0m \u001b[0mideal\u001b[0m\u001b[0;34m(\u001b[0m\u001b[0mB\u001b[0m\u001b[0;34m)\u001b[0m \u001b[0;34m==\u001b[0m \u001b[0mideal\u001b[0m\u001b[0;34m(\u001b[0m\u001b[0mf\u001b[0m\u001b[0;34m)\u001b[0m\u001b[0;34m)\u001b[0m\u001b[0;34m\u001b[0m\u001b[0;34m\u001b[0m\u001b[0m\n\u001b[0m\u001b[1;32m      8\u001b[0m         \u001b[0;32mif\u001b[0m \u001b[0mB\u001b[0m\u001b[0;34m.\u001b[0m\u001b[0mis_groebner\u001b[0m\u001b[0;34m(\u001b[0m\u001b[0;34m)\u001b[0m \u001b[0;32mand\u001b[0m \u001b[0mideal\u001b[0m\u001b[0;34m(\u001b[0m\u001b[0mB\u001b[0m\u001b[0;34m)\u001b[0m \u001b[0;34m==\u001b[0m \u001b[0mideal\u001b[0m\u001b[0;34m(\u001b[0m\u001b[0mf\u001b[0m\u001b[0;34m)\u001b[0m\u001b[0;34m:\u001b[0m\u001b[0;34m\u001b[0m\u001b[0;34m\u001b[0m\u001b[0m\n\u001b[1;32m      9\u001b[0m             \u001b[0;32mreturn\u001b[0m \u001b[0;34m(\u001b[0m\u001b[0mtest_deg\u001b[0m\u001b[0;34m,\u001b[0m\u001b[0mB\u001b[0m\u001b[0;34m)\u001b[0m\u001b[0;34m\u001b[0m\u001b[0;34m\u001b[0m\u001b[0m\n",
      "\u001b[0;32m/private/var/tmp/sage-9.6-current/local/var/lib/sage/venv-python3.10.3/lib/python3.10/site-packages/sage/misc/cachefunc.pyx\u001b[0m in \u001b[0;36msage.misc.cachefunc.CachedMethodCaller.__call__ (build/cythonized/sage/misc/cachefunc.c:10550)\u001b[0;34m()\u001b[0m\n\u001b[1;32m   1946\u001b[0m                 \u001b[0;32mreturn\u001b[0m \u001b[0mcache\u001b[0m\u001b[0;34m[\u001b[0m\u001b[0mk\u001b[0m\u001b[0;34m]\u001b[0m\u001b[0;34m\u001b[0m\u001b[0;34m\u001b[0m\u001b[0m\n\u001b[1;32m   1947\u001b[0m         \u001b[0;32mexcept\u001b[0m \u001b[0mKeyError\u001b[0m\u001b[0;34m:\u001b[0m\u001b[0;34m\u001b[0m\u001b[0;34m\u001b[0m\u001b[0m\n\u001b[0;32m-> 1948\u001b[0;31m             \u001b[0mw\u001b[0m \u001b[0;34m=\u001b[0m \u001b[0mself\u001b[0m\u001b[0;34m.\u001b[0m\u001b[0m_instance_call\u001b[0m\u001b[0;34m(\u001b[0m\u001b[0;34m*\u001b[0m\u001b[0margs\u001b[0m\u001b[0;34m,\u001b[0m \u001b[0;34m**\u001b[0m\u001b[0mkwds\u001b[0m\u001b[0;34m)\u001b[0m\u001b[0;34m\u001b[0m\u001b[0;34m\u001b[0m\u001b[0m\n\u001b[0m\u001b[1;32m   1949\u001b[0m             \u001b[0mcache\u001b[0m\u001b[0;34m[\u001b[0m\u001b[0mk\u001b[0m\u001b[0;34m]\u001b[0m \u001b[0;34m=\u001b[0m \u001b[0mw\u001b[0m\u001b[0;34m\u001b[0m\u001b[0;34m\u001b[0m\u001b[0m\n\u001b[1;32m   1950\u001b[0m             \u001b[0;32mreturn\u001b[0m \u001b[0mw\u001b[0m\u001b[0;34m\u001b[0m\u001b[0;34m\u001b[0m\u001b[0m\n",
      "\u001b[0;32m/private/var/tmp/sage-9.6-current/local/var/lib/sage/venv-python3.10.3/lib/python3.10/site-packages/sage/misc/cachefunc.pyx\u001b[0m in \u001b[0;36msage.misc.cachefunc.CachedMethodCaller._instance_call (build/cythonized/sage/misc/cachefunc.c:10016)\u001b[0;34m()\u001b[0m\n\u001b[1;32m   1822\u001b[0m             \u001b[0;32mTrue\u001b[0m\u001b[0;34m\u001b[0m\u001b[0;34m\u001b[0m\u001b[0m\n\u001b[1;32m   1823\u001b[0m         \"\"\"\n\u001b[0;32m-> 1824\u001b[0;31m         \u001b[0;32mreturn\u001b[0m \u001b[0mself\u001b[0m\u001b[0;34m.\u001b[0m\u001b[0mf\u001b[0m\u001b[0;34m(\u001b[0m\u001b[0mself\u001b[0m\u001b[0;34m.\u001b[0m\u001b[0m_instance\u001b[0m\u001b[0;34m,\u001b[0m \u001b[0;34m*\u001b[0m\u001b[0margs\u001b[0m\u001b[0;34m,\u001b[0m \u001b[0;34m**\u001b[0m\u001b[0mkwds\u001b[0m\u001b[0;34m)\u001b[0m\u001b[0;34m\u001b[0m\u001b[0;34m\u001b[0m\u001b[0m\n\u001b[0m\u001b[1;32m   1825\u001b[0m \u001b[0;34m\u001b[0m\u001b[0m\n\u001b[1;32m   1826\u001b[0m     \u001b[0mcdef\u001b[0m \u001b[0mfix_args_kwds\u001b[0m\u001b[0;34m(\u001b[0m\u001b[0mself\u001b[0m\u001b[0;34m,\u001b[0m \u001b[0mtuple\u001b[0m \u001b[0margs\u001b[0m\u001b[0;34m,\u001b[0m \u001b[0mdict\u001b[0m \u001b[0mkwds\u001b[0m\u001b[0;34m)\u001b[0m\u001b[0;34m:\u001b[0m\u001b[0;34m\u001b[0m\u001b[0;34m\u001b[0m\u001b[0m\n",
      "\u001b[0;32m/private/var/tmp/sage-9.6-current/local/var/lib/sage/venv-python3.10.3/lib/python3.10/site-packages/sage/interfaces/singular.py\u001b[0m in \u001b[0;36mwrapper\u001b[0;34m(*args, **kwds)\u001b[0m\n\u001b[1;32m   2758\u001b[0m     \u001b[0;32mdef\u001b[0m \u001b[0mwrapper\u001b[0m\u001b[0;34m(\u001b[0m\u001b[0;34m*\u001b[0m\u001b[0margs\u001b[0m\u001b[0;34m,\u001b[0m \u001b[0;34m**\u001b[0m\u001b[0mkwds\u001b[0m\u001b[0;34m)\u001b[0m\u001b[0;34m:\u001b[0m\u001b[0;34m\u001b[0m\u001b[0;34m\u001b[0m\u001b[0m\n\u001b[1;32m   2759\u001b[0m         \u001b[0;32mwith\u001b[0m \u001b[0mSingularGBDefaultContext\u001b[0m\u001b[0;34m(\u001b[0m\u001b[0;34m)\u001b[0m\u001b[0;34m:\u001b[0m\u001b[0;34m\u001b[0m\u001b[0;34m\u001b[0m\u001b[0m\n\u001b[0;32m-> 2760\u001b[0;31m             \u001b[0;32mreturn\u001b[0m \u001b[0mfunc\u001b[0m\u001b[0;34m(\u001b[0m\u001b[0;34m*\u001b[0m\u001b[0margs\u001b[0m\u001b[0;34m,\u001b[0m \u001b[0;34m**\u001b[0m\u001b[0mkwds\u001b[0m\u001b[0;34m)\u001b[0m\u001b[0;34m\u001b[0m\u001b[0;34m\u001b[0m\u001b[0m\n\u001b[0m\u001b[1;32m   2761\u001b[0m     \u001b[0;32mreturn\u001b[0m \u001b[0mwrapper\u001b[0m\u001b[0;34m\u001b[0m\u001b[0;34m\u001b[0m\u001b[0m\n",
      "\u001b[0;32m/private/var/tmp/sage-9.6-current/local/var/lib/sage/venv-python3.10.3/lib/python3.10/site-packages/sage/rings/polynomial/multi_polynomial_sequence.py\u001b[0m in \u001b[0;36mis_groebner\u001b[0;34m(self, singular)\u001b[0m\n\u001b[1;32m   1135\u001b[0m \u001b[0;34m\u001b[0m\u001b[0m\n\u001b[1;32m   1136\u001b[0m         \"\"\"\n\u001b[0;32m-> 1137\u001b[0;31m         \u001b[0;32mreturn\u001b[0m \u001b[0mself\u001b[0m\u001b[0;34m.\u001b[0m\u001b[0mideal\u001b[0m\u001b[0;34m(\u001b[0m\u001b[0;34m)\u001b[0m\u001b[0;34m.\u001b[0m\u001b[0mbasis_is_groebner\u001b[0m\u001b[0;34m(\u001b[0m\u001b[0;34m)\u001b[0m\u001b[0;34m\u001b[0m\u001b[0;34m\u001b[0m\u001b[0m\n\u001b[0m\u001b[1;32m   1138\u001b[0m \u001b[0;34m\u001b[0m\u001b[0m\n\u001b[1;32m   1139\u001b[0m \u001b[0;32mclass\u001b[0m \u001b[0mPolynomialSequence_gf2\u001b[0m\u001b[0;34m(\u001b[0m\u001b[0mPolynomialSequence_generic\u001b[0m\u001b[0;34m)\u001b[0m\u001b[0;34m:\u001b[0m\u001b[0;34m\u001b[0m\u001b[0;34m\u001b[0m\u001b[0m\n",
      "\u001b[0;32m/private/var/tmp/sage-9.6-current/local/var/lib/sage/venv-python3.10.3/lib/python3.10/site-packages/sage/misc/cachefunc.pyx\u001b[0m in \u001b[0;36msage.misc.cachefunc.CachedMethodCaller.__call__ (build/cythonized/sage/misc/cachefunc.c:10550)\u001b[0;34m()\u001b[0m\n\u001b[1;32m   1946\u001b[0m                 \u001b[0;32mreturn\u001b[0m \u001b[0mcache\u001b[0m\u001b[0;34m[\u001b[0m\u001b[0mk\u001b[0m\u001b[0;34m]\u001b[0m\u001b[0;34m\u001b[0m\u001b[0;34m\u001b[0m\u001b[0m\n\u001b[1;32m   1947\u001b[0m         \u001b[0;32mexcept\u001b[0m \u001b[0mKeyError\u001b[0m\u001b[0;34m:\u001b[0m\u001b[0;34m\u001b[0m\u001b[0;34m\u001b[0m\u001b[0m\n\u001b[0;32m-> 1948\u001b[0;31m             \u001b[0mw\u001b[0m \u001b[0;34m=\u001b[0m \u001b[0mself\u001b[0m\u001b[0;34m.\u001b[0m\u001b[0m_instance_call\u001b[0m\u001b[0;34m(\u001b[0m\u001b[0;34m*\u001b[0m\u001b[0margs\u001b[0m\u001b[0;34m,\u001b[0m \u001b[0;34m**\u001b[0m\u001b[0mkwds\u001b[0m\u001b[0;34m)\u001b[0m\u001b[0;34m\u001b[0m\u001b[0;34m\u001b[0m\u001b[0m\n\u001b[0m\u001b[1;32m   1949\u001b[0m             \u001b[0mcache\u001b[0m\u001b[0;34m[\u001b[0m\u001b[0mk\u001b[0m\u001b[0;34m]\u001b[0m \u001b[0;34m=\u001b[0m \u001b[0mw\u001b[0m\u001b[0;34m\u001b[0m\u001b[0;34m\u001b[0m\u001b[0m\n\u001b[1;32m   1950\u001b[0m             \u001b[0;32mreturn\u001b[0m \u001b[0mw\u001b[0m\u001b[0;34m\u001b[0m\u001b[0;34m\u001b[0m\u001b[0m\n",
      "\u001b[0;32m/private/var/tmp/sage-9.6-current/local/var/lib/sage/venv-python3.10.3/lib/python3.10/site-packages/sage/misc/cachefunc.pyx\u001b[0m in \u001b[0;36msage.misc.cachefunc.CachedMethodCaller._instance_call (build/cythonized/sage/misc/cachefunc.c:10016)\u001b[0;34m()\u001b[0m\n\u001b[1;32m   1822\u001b[0m             \u001b[0;32mTrue\u001b[0m\u001b[0;34m\u001b[0m\u001b[0;34m\u001b[0m\u001b[0m\n\u001b[1;32m   1823\u001b[0m         \"\"\"\n\u001b[0;32m-> 1824\u001b[0;31m         \u001b[0;32mreturn\u001b[0m \u001b[0mself\u001b[0m\u001b[0;34m.\u001b[0m\u001b[0mf\u001b[0m\u001b[0;34m(\u001b[0m\u001b[0mself\u001b[0m\u001b[0;34m.\u001b[0m\u001b[0m_instance\u001b[0m\u001b[0;34m,\u001b[0m \u001b[0;34m*\u001b[0m\u001b[0margs\u001b[0m\u001b[0;34m,\u001b[0m \u001b[0;34m**\u001b[0m\u001b[0mkwds\u001b[0m\u001b[0;34m)\u001b[0m\u001b[0;34m\u001b[0m\u001b[0;34m\u001b[0m\u001b[0m\n\u001b[0m\u001b[1;32m   1825\u001b[0m \u001b[0;34m\u001b[0m\u001b[0m\n\u001b[1;32m   1826\u001b[0m     \u001b[0mcdef\u001b[0m \u001b[0mfix_args_kwds\u001b[0m\u001b[0;34m(\u001b[0m\u001b[0mself\u001b[0m\u001b[0;34m,\u001b[0m \u001b[0mtuple\u001b[0m \u001b[0margs\u001b[0m\u001b[0;34m,\u001b[0m \u001b[0mdict\u001b[0m \u001b[0mkwds\u001b[0m\u001b[0;34m)\u001b[0m\u001b[0;34m:\u001b[0m\u001b[0;34m\u001b[0m\u001b[0;34m\u001b[0m\u001b[0m\n",
      "\u001b[0;32m/private/var/tmp/sage-9.6-current/local/var/lib/sage/venv-python3.10.3/lib/python3.10/site-packages/sage/rings/qqbar_decorators.py\u001b[0m in \u001b[0;36mwrapper\u001b[0;34m(*args, **kwds)\u001b[0m\n\u001b[1;32m     94\u001b[0m                    \u001b[0;32mor\u001b[0m \u001b[0mis_PolynomialSequence\u001b[0m\u001b[0;34m(\u001b[0m\u001b[0ma\u001b[0m\u001b[0;34m)\u001b[0m\u001b[0;34m\u001b[0m\u001b[0;34m\u001b[0m\u001b[0m\n\u001b[1;32m     95\u001b[0m                    and isinstance(a.ring().base_ring(), AlgebraicField_common) for a in args):\n\u001b[0;32m---> 96\u001b[0;31m             \u001b[0;32mreturn\u001b[0m \u001b[0mfunc\u001b[0m\u001b[0;34m(\u001b[0m\u001b[0;34m*\u001b[0m\u001b[0margs\u001b[0m\u001b[0;34m,\u001b[0m \u001b[0;34m**\u001b[0m\u001b[0mkwds\u001b[0m\u001b[0;34m)\u001b[0m\u001b[0;34m\u001b[0m\u001b[0;34m\u001b[0m\u001b[0m\n\u001b[0m\u001b[1;32m     97\u001b[0m \u001b[0;34m\u001b[0m\u001b[0m\n\u001b[1;32m     98\u001b[0m         \u001b[0mpolynomials\u001b[0m \u001b[0;34m=\u001b[0m \u001b[0;34m[\u001b[0m\u001b[0;34m]\u001b[0m\u001b[0;34m\u001b[0m\u001b[0;34m\u001b[0m\u001b[0m\n",
      "\u001b[0;32m/private/var/tmp/sage-9.6-current/local/var/lib/sage/venv-python3.10.3/lib/python3.10/site-packages/sage/interfaces/singular.py\u001b[0m in \u001b[0;36mwrapper\u001b[0;34m(*args, **kwds)\u001b[0m\n\u001b[1;32m   2758\u001b[0m     \u001b[0;32mdef\u001b[0m \u001b[0mwrapper\u001b[0m\u001b[0;34m(\u001b[0m\u001b[0;34m*\u001b[0m\u001b[0margs\u001b[0m\u001b[0;34m,\u001b[0m \u001b[0;34m**\u001b[0m\u001b[0mkwds\u001b[0m\u001b[0;34m)\u001b[0m\u001b[0;34m:\u001b[0m\u001b[0;34m\u001b[0m\u001b[0;34m\u001b[0m\u001b[0m\n\u001b[1;32m   2759\u001b[0m         \u001b[0;32mwith\u001b[0m \u001b[0mSingularGBDefaultContext\u001b[0m\u001b[0;34m(\u001b[0m\u001b[0;34m)\u001b[0m\u001b[0;34m:\u001b[0m\u001b[0;34m\u001b[0m\u001b[0;34m\u001b[0m\u001b[0m\n\u001b[0;32m-> 2760\u001b[0;31m             \u001b[0;32mreturn\u001b[0m \u001b[0mfunc\u001b[0m\u001b[0;34m(\u001b[0m\u001b[0;34m*\u001b[0m\u001b[0margs\u001b[0m\u001b[0;34m,\u001b[0m \u001b[0;34m**\u001b[0m\u001b[0mkwds\u001b[0m\u001b[0;34m)\u001b[0m\u001b[0;34m\u001b[0m\u001b[0;34m\u001b[0m\u001b[0m\n\u001b[0m\u001b[1;32m   2761\u001b[0m     \u001b[0;32mreturn\u001b[0m \u001b[0mwrapper\u001b[0m\u001b[0;34m\u001b[0m\u001b[0;34m\u001b[0m\u001b[0m\n",
      "\u001b[0;32m/private/var/tmp/sage-9.6-current/local/var/lib/sage/venv-python3.10.3/lib/python3.10/site-packages/sage/rings/polynomial/multi_polynomial_ideal.py\u001b[0m in \u001b[0;36mbasis_is_groebner\u001b[0;34m(self, singular)\u001b[0m\n\u001b[1;32m   1940\u001b[0m             \u001b[0;32mwith\u001b[0m \u001b[0mopt_verb_ctx\u001b[0m\u001b[0;34m(\u001b[0m\u001b[0mnotWarnSB\u001b[0m\u001b[0;34m=\u001b[0m\u001b[0;32mTrue\u001b[0m\u001b[0;34m)\u001b[0m\u001b[0;34m:\u001b[0m\u001b[0;34m\u001b[0m\u001b[0;34m\u001b[0m\u001b[0m\n\u001b[1;32m   1941\u001b[0m                 \u001b[0mM\u001b[0m \u001b[0;34m=\u001b[0m \u001b[0mF\u001b[0m \u001b[0;34m*\u001b[0m \u001b[0mmatrix\u001b[0m\u001b[0;34m(\u001b[0m\u001b[0mR\u001b[0m\u001b[0;34m,\u001b[0m \u001b[0msyz\u001b[0m\u001b[0;34m(\u001b[0m\u001b[0mLTF\u001b[0m\u001b[0;34m)\u001b[0m\u001b[0;34m)\u001b[0m\u001b[0;34m.\u001b[0m\u001b[0mtranspose\u001b[0m\u001b[0;34m(\u001b[0m\u001b[0;34m)\u001b[0m\u001b[0;34m\u001b[0m\u001b[0;34m\u001b[0m\u001b[0m\n\u001b[0;32m-> 1942\u001b[0;31m                 \u001b[0mM\u001b[0m\u001b[0;34m.\u001b[0m\u001b[0mset_immutable\u001b[0m\u001b[0;34m(\u001b[0m\u001b[0;34m)\u001b[0m\u001b[0;34m\u001b[0m\u001b[0;34m\u001b[0m\u001b[0m\n\u001b[0m\u001b[1;32m   1943\u001b[0m                 \u001b[0mM\u001b[0m \u001b[0;34m=\u001b[0m \u001b[0msing_reduce\u001b[0m\u001b[0;34m(\u001b[0m\u001b[0mM\u001b[0m\u001b[0;34m,\u001b[0m \u001b[0mself\u001b[0m\u001b[0;34m)\u001b[0m\u001b[0;34m\u001b[0m\u001b[0;34m\u001b[0m\u001b[0m\n\u001b[1;32m   1944\u001b[0m \u001b[0;34m\u001b[0m\u001b[0m\n",
      "\u001b[0;32msrc/cysignals/signals.pyx\u001b[0m in \u001b[0;36mcysignals.signals.python_check_interrupt\u001b[0;34m()\u001b[0m\n",
      "\u001b[0;31mKeyboardInterrupt\u001b[0m: "
     ]
    }
   ],
   "source": [
    "mac_grob(f_list, R)"
   ]
  },
  {
   "cell_type": "code",
   "execution_count": 23,
   "metadata": {},
   "outputs": [
    {
     "data": {
      "text/plain": [
       "     1     0     0     0\n",
       "     0     0     0     0\n",
       "     0     0     0     0\n",
       "     0     0     0     0\n",
       "     0     0     0     0\n",
       "     0     1     0     0\n",
       "     0     3     0     0\n",
       "     0     1     0     0\n",
       "     0     0     2     0\n",
       "     0     1     3     1\n",
       "     0     0     3     0\n",
       "     0     0     2     3\n",
       "     0     0     1     2"
      ]
     },
     "execution_count": 23,
     "metadata": {},
     "output_type": "execute_result"
    }
   ],
   "source": [
    "ftop = [poly.homogenize().subs(h = 0) for poly in f_list]\n",
    "J = ideal(ftop)\n",
    "J._singular_().mres(0).betti() # 13 agrees with Minko"
   ]
  },
  {
   "cell_type": "code",
   "execution_count": 24,
   "metadata": {},
   "outputs": [
    {
     "data": {
      "text/plain": [
       "(t^17 + 3*t^16 + 6*t^15 + 10*t^14 + 15*t^13 + 21*t^12 + 27*t^11 + 31*t^10 + 33*t^9 + 33*t^8 + 31*t^7 + 27*t^6 + 21*t^5 + 15*t^4 + 10*t^3 + 6*t^2 + 3*t + 1)/(-t + 1)"
      ]
     },
     "execution_count": 24,
     "metadata": {},
     "output_type": "execute_result"
    }
   ],
   "source": [
    "hilbert_poincare_series(J) # getting 17 again..."
   ]
  },
  {
   "cell_type": "code",
   "execution_count": 25,
   "metadata": {},
   "outputs": [
    {
     "data": {
      "text/plain": [
       "[x^2 - y^2*z^3, y^3 + y^2*z^2, z^4]"
      ]
     },
     "execution_count": 25,
     "metadata": {},
     "output_type": "execute_result"
    }
   ],
   "source": [
    "R.<x,y,z> = PolynomialRing(GF(5), order = 'lex') # double check this! seems to be a counter example\n",
    "f1 = x^2 + y^3*z\n",
    "f2 = y^3 + y^2*z^2\n",
    "f3 = z^4\n",
    "I = Ideal(f1,f2,f3)\n",
    "I.groebner_basis()"
   ]
  },
  {
   "cell_type": "code",
   "execution_count": 26,
   "metadata": {},
   "outputs": [
    {
     "name": "stdout",
     "output_type": "stream",
     "text": [
      "z^4,\n",
      "y^3*h+y^2*z^2,\n",
      "x^2*h^2+y^3*z\n"
     ]
    }
   ],
   "source": [
    "T = I.homogenize()._singular_().mres(0)\n",
    "print(T[1])"
   ]
  },
  {
   "cell_type": "code",
   "execution_count": 27,
   "metadata": {},
   "outputs": [
    {
     "data": {
      "text/plain": [
       "[Ideal (z, y, x) of Multivariate Polynomial Ring in x, y, z over Finite Field of size 5]"
      ]
     },
     "execution_count": 27,
     "metadata": {},
     "output_type": "execute_result"
    }
   ],
   "source": [
    "I.associated_primes()"
   ]
  },
  {
   "cell_type": "code",
   "execution_count": 28,
   "metadata": {},
   "outputs": [
    {
     "data": {
      "text/plain": [
       "True"
      ]
     },
     "execution_count": 28,
     "metadata": {},
     "output_type": "execute_result"
    }
   ],
   "source": [
    "I.gens().is_groebner()"
   ]
  },
  {
   "cell_type": "code",
   "execution_count": 29,
   "metadata": {},
   "outputs": [
    {
     "data": {
      "text/plain": [
       "([y^2*z^2, -y^3*z, 0], 0)"
      ]
     },
     "execution_count": 29,
     "metadata": {},
     "output_type": "execute_result"
    }
   ],
   "source": [
    "mdiv(x^2*y^2*z^2 - y^6*z, [f1,f2,f3], R)"
   ]
  },
  {
   "cell_type": "code",
   "execution_count": 30,
   "metadata": {},
   "outputs": [
    {
     "name": "stdout",
     "output_type": "stream",
     "text": [
      "0 [0] True False\n",
      "1 [0] True False\n",
      "2 [0] True False\n",
      "3 [0] True False\n",
      "4 [x^2 + y^3*z, y^3 + y^2*z^2, z^4] True True\n"
     ]
    },
    {
     "data": {
      "text/plain": [
       "(4, [x^2 + y^3*z, y^3 + y^2*z^2, z^4])"
      ]
     },
     "execution_count": 30,
     "metadata": {},
     "output_type": "execute_result"
    }
   ],
   "source": [
    "mac_grob([f1,f2,f3],R)"
   ]
  },
  {
   "cell_type": "code",
   "execution_count": null,
   "metadata": {},
   "outputs": [],
   "source": []
  },
  {
   "cell_type": "code",
   "execution_count": 31,
   "metadata": {},
   "outputs": [],
   "source": [
    "J = Ideal(mac_basis([f1,f2,f3],10,R))"
   ]
  },
  {
   "cell_type": "code",
   "execution_count": 32,
   "metadata": {},
   "outputs": [
    {
     "data": {
      "text/plain": [
       "True"
      ]
     },
     "execution_count": 32,
     "metadata": {},
     "output_type": "execute_result"
    }
   ],
   "source": [
    "I == J"
   ]
  },
  {
   "cell_type": "code",
   "execution_count": 558,
   "metadata": {},
   "outputs": [
    {
     "data": {
      "text/plain": [
       "[x1 - x3^6, x2 - x3^2, x3^8]"
      ]
     },
     "execution_count": 558,
     "metadata": {},
     "output_type": "execute_result"
    }
   ],
   "source": [
    "# This is Example 5 in Caminata and Gorla\n",
    "\n",
    "S.<x1,x2,x3> = PolynomialRing(GF(5), order = \"lex\")\n",
    "f1 = x3^2 - x2\n",
    "f2 = x2^3 - x1\n",
    "f3 = x3^8\n",
    "I = ideal(f1,f2,f3)\n",
    "I.groebner_basis()"
   ]
  },
  {
   "cell_type": "code",
   "execution_count": 559,
   "metadata": {},
   "outputs": [
    {
     "name": "stdout",
     "output_type": "stream",
     "text": [
      "0 [0] True False\n",
      "1 [0] True False\n",
      "2 [x2 - x3^2] True False\n",
      "3 [x1*x2 - x1*x3^2, x1 - x2^3, x2^2 - x2*x3^2, x2*x3 - x3^3, x2 - x3^2] True False\n",
      "4 [x1^2*x2 - x1^2*x3^2, x1^2 - x1*x2^3, x1*x2^2 - x1*x2*x3^2, x1*x2*x3 - x1*x3^3, x1*x2 - x2^4, x1*x3^2 - x2^4, x1*x3 - x2^3*x3, x1 - x2^2*x3^2, x2^3 - x2^2*x3^2, x2^2*x3 - x2*x3^3, x2^2 - x3^4, x2*x3^2 - x3^4, x2*x3 - x3^3, x2 - x3^2] True False\n",
      "5 Polynomial Sequence with 29 Polynomials in 3 Variables True False\n",
      "6 Polynomial Sequence with 51 Polynomials in 3 Variables True False\n",
      "7 Polynomial Sequence with 81 Polynomials in 3 Variables True False\n",
      "8 Polynomial Sequence with 121 Polynomials in 3 Variables True True\n"
     ]
    },
    {
     "data": {
      "text/plain": [
       "(8, Polynomial Sequence with 121 Polynomials in 3 Variables)"
      ]
     },
     "execution_count": 559,
     "metadata": {},
     "output_type": "execute_result"
    }
   ],
   "source": [
    "mac_grob([f1,f2,f3],S)"
   ]
  },
  {
   "cell_type": "code",
   "execution_count": 560,
   "metadata": {},
   "outputs": [
    {
     "name": "stdout",
     "output_type": "stream",
     "text": [
      "[1]\n",
      "0 [0] True False\n",
      "[x1, x2, x3, 1]\n",
      "1 [0] True False\n",
      "[x1^2, x1*x2, x1*x3, x1, x2^2, x2*x3, x2, x3^2, x3, 1]\n",
      "2 [x2 - x3^2] True False\n",
      "[x1^3, x1^2*x2, x1^2*x3, x1^2, x1*x2^2, x1*x2*x3, x1*x2, x1*x3^2, x1*x3, x1, x2^3, x2^2*x3, x2^2, x2*x3^2, x2*x3, x2, x3^3, x3^2, x3, 1]\n",
      "3 [x1*x2 - x1*x3^2, x1 - x2^3, x2^2 - x2*x3^2, x2*x3 - x3^3, x2 - x3^2] True False\n",
      "[x1^4, x1^3*x2, x1^3*x3, x1^3, x1^2*x2^2, x1^2*x2*x3, x1^2*x2, x1^2*x3^2, x1^2*x3, x1^2, x1*x2^3, x1*x2^2*x3, x1*x2^2, x1*x2*x3^2, x1*x2*x3, x1*x2, x1*x3^3, x1*x3^2, x1*x3, x1, x2^4, x2^3*x3, x2^3, x2^2*x3^2, x2^2*x3, x2^2, x2*x3^3, x2*x3^2, x2*x3, x2, x3^4, x3^3, x3^2, x3, 1]\n",
      "4 [x1^2*x2 - x1^2*x3^2, x1^2 - x1*x2^3, x1*x2^2 - x1*x2*x3^2, x1*x2*x3 - x1*x3^3, x1*x2 - x2^4, x1*x3^2 - x2^4, x1*x3 - x2^3*x3, x1 - x2^2*x3^2, x2^3 - x2^2*x3^2, x2^2*x3 - x2*x3^3, x2^2 - x3^4, x2*x3^2 - x3^4, x2*x3 - x3^3, x2 - x3^2] True False\n",
      "[x1^5, x1^4*x2, x1^4*x3, x1^4, x1^3*x2^2, x1^3*x2*x3, x1^3*x2, x1^3*x3^2, x1^3*x3, x1^3, x1^2*x2^3, x1^2*x2^2*x3, x1^2*x2^2, x1^2*x2*x3^2, x1^2*x2*x3, x1^2*x2, x1^2*x3^3, x1^2*x3^2, x1^2*x3, x1^2, x1*x2^4, x1*x2^3*x3, x1*x2^3, x1*x2^2*x3^2, x1*x2^2*x3, x1*x2^2, x1*x2*x3^3, x1*x2*x3^2, x1*x2*x3, x1*x2, x1*x3^4, x1*x3^3, x1*x3^2, x1*x3, x1, x2^5, x2^4*x3, x2^4, x2^3*x3^2, x2^3*x3, x2^3, x2^2*x3^3, x2^2*x3^2, x2^2*x3, x2^2, x2*x3^4, x2*x3^3, x2*x3^2, x2*x3, x2, x3^5, x3^4, x3^3, x3^2, x3, 1]\n",
      "5 [x1^3*x2 - x1^3*x3^2, x1^3 - x1^2*x2^3, x1^2*x2^2 - x1^2*x2*x3^2, x1^2*x2*x3 - x1^2*x3^3, x1^2*x2 - x1*x2^4, x1^2*x3^2 - x1*x2^4, x1^2*x3 - x1*x2^3*x3, x1^2 - x1*x2^2*x3^2, x1*x2^3 - x1*x2^2*x3^2, x1*x2^2*x3 - x1*x2*x3^3, x1*x2^2 - x2^5, x1*x2*x3^2 - x2^5, x1*x2*x3 - x2^4*x3, x1*x2 - x2^3*x3^2, x1*x3^4 - x2^5, x1*x3^3 - x2^4*x3, x1*x3^2 - x2^3*x3^2, x1*x3 - x2^2*x3^3, x1 - x2*x3^4, x2^4 - x2^3*x3^2, x2^3*x3 - x2^2*x3^3, x2^3 - x2*x3^4, x2^2*x3^2 - x2*x3^4, x2^2*x3 - x3^5, x2^2 - x3^4, x2*x3^3 - x3^5, x2*x3^2 - x3^4, x2*x3 - x3^3, x2 - x3^2] True False\n",
      "[x1^6, x1^5*x2, x1^5*x3, x1^5, x1^4*x2^2, x1^4*x2*x3, x1^4*x2, x1^4*x3^2, x1^4*x3, x1^4, x1^3*x2^3, x1^3*x2^2*x3, x1^3*x2^2, x1^3*x2*x3^2, x1^3*x2*x3, x1^3*x2, x1^3*x3^3, x1^3*x3^2, x1^3*x3, x1^3, x1^2*x2^4, x1^2*x2^3*x3, x1^2*x2^3, x1^2*x2^2*x3^2, x1^2*x2^2*x3, x1^2*x2^2, x1^2*x2*x3^3, x1^2*x2*x3^2, x1^2*x2*x3, x1^2*x2, x1^2*x3^4, x1^2*x3^3, x1^2*x3^2, x1^2*x3, x1^2, x1*x2^5, x1*x2^4*x3, x1*x2^4, x1*x2^3*x3^2, x1*x2^3*x3, x1*x2^3, x1*x2^2*x3^3, x1*x2^2*x3^2, x1*x2^2*x3, x1*x2^2, x1*x2*x3^4, x1*x2*x3^3, x1*x2*x3^2, x1*x2*x3, x1*x2, x1*x3^5, x1*x3^4, x1*x3^3, x1*x3^2, x1*x3, x1, x2^6, x2^5*x3, x2^5, x2^4*x3^2, x2^4*x3, x2^4, x2^3*x3^3, x2^3*x3^2, x2^3*x3, x2^3, x2^2*x3^4, x2^2*x3^3, x2^2*x3^2, x2^2*x3, x2^2, x2*x3^5, x2*x3^4, x2*x3^3, x2*x3^2, x2*x3, x2, x3^6, x3^5, x3^4, x3^3, x3^2, x3, 1]\n",
      "6 [x1^4*x2 - x1^4*x3^2, x1^4 - x1^3*x2^3, x1^3*x2^2 - x1^3*x2*x3^2, x1^3*x2*x3 - x1^3*x3^3, x1^3*x2 - x1^2*x2^4, x1^3*x3^2 - x1^2*x2^4, x1^3*x3 - x1^2*x2^3*x3, x1^3 - x1^2*x2^2*x3^2, x1^2*x2^3 - x1^2*x2^2*x3^2, x1^2*x2^2*x3 - x1^2*x2*x3^3, x1^2*x2^2 - x1*x2^5, x1^2*x2*x3^2 - x1*x2^5, x1^2*x2*x3 - x1*x2^4*x3, x1^2*x2 - x1*x2^3*x3^2, x1^2*x3^4 - x1*x2^5, x1^2*x3^3 - x1*x2^4*x3, x1^2*x3^2 - x1*x2^3*x3^2, x1^2*x3 - x1*x2^2*x3^3, x1^2 - x2^6, x1*x2^4 - x1*x2^3*x3^2, x1*x2^3*x3 - x1*x2^2*x3^3, x1*x2^3 - x2^6, x1*x2^2*x3^2 - x2^6, x1*x2^2*x3 - x2^5*x3, x1*x2^2 - x2^4*x3^2, x1*x2*x3^4 - x2^6, x1*x2*x3^3 - x2^5*x3, x1*x2*x3^2 - x2^4*x3^2, x1*x2*x3 - x2^3*x3^3, x1*x2 - x2^2*x3^4, x1*x3^5 - x2^5*x3, x1*x3^4 - x2^4*x3^2, x1*x3^3 - x2^3*x3^3, x1*x3^2 - x2^2*x3^4, x1*x3 - x2*x3^5, x1 - x3^6, x2^5 - x2^4*x3^2, x2^4*x3 - x2^3*x3^3, x2^4 - x2^2*x3^4, x2^3*x3^2 - x2^2*x3^4, x2^3*x3 - x2*x3^5, x2^3 - x3^6, x2^2*x3^3 - x2*x3^5, x2^2*x3^2 - x3^6, x2^2*x3 - x3^5, x2^2 - x3^4, x2*x3^4 - x3^6, x2*x3^3 - x3^5, x2*x3^2 - x3^4, x2*x3 - x3^3, x2 - x3^2] True False\n",
      "[x1^7, x1^6*x2, x1^6*x3, x1^6, x1^5*x2^2, x1^5*x2*x3, x1^5*x2, x1^5*x3^2, x1^5*x3, x1^5, x1^4*x2^3, x1^4*x2^2*x3, x1^4*x2^2, x1^4*x2*x3^2, x1^4*x2*x3, x1^4*x2, x1^4*x3^3, x1^4*x3^2, x1^4*x3, x1^4, x1^3*x2^4, x1^3*x2^3*x3, x1^3*x2^3, x1^3*x2^2*x3^2, x1^3*x2^2*x3, x1^3*x2^2, x1^3*x2*x3^3, x1^3*x2*x3^2, x1^3*x2*x3, x1^3*x2, x1^3*x3^4, x1^3*x3^3, x1^3*x3^2, x1^3*x3, x1^3, x1^2*x2^5, x1^2*x2^4*x3, x1^2*x2^4, x1^2*x2^3*x3^2, x1^2*x2^3*x3, x1^2*x2^3, x1^2*x2^2*x3^3, x1^2*x2^2*x3^2, x1^2*x2^2*x3, x1^2*x2^2, x1^2*x2*x3^4, x1^2*x2*x3^3, x1^2*x2*x3^2, x1^2*x2*x3, x1^2*x2, x1^2*x3^5, x1^2*x3^4, x1^2*x3^3, x1^2*x3^2, x1^2*x3, x1^2, x1*x2^6, x1*x2^5*x3, x1*x2^5, x1*x2^4*x3^2, x1*x2^4*x3, x1*x2^4, x1*x2^3*x3^3, x1*x2^3*x3^2, x1*x2^3*x3, x1*x2^3, x1*x2^2*x3^4, x1*x2^2*x3^3, x1*x2^2*x3^2, x1*x2^2*x3, x1*x2^2, x1*x2*x3^5, x1*x2*x3^4, x1*x2*x3^3, x1*x2*x3^2, x1*x2*x3, x1*x2, x1*x3^6, x1*x3^5, x1*x3^4, x1*x3^3, x1*x3^2, x1*x3, x1, x2^7, x2^6*x3, x2^6, x2^5*x3^2, x2^5*x3, x2^5, x2^4*x3^3, x2^4*x3^2, x2^4*x3, x2^4, x2^3*x3^4, x2^3*x3^3, x2^3*x3^2, x2^3*x3, x2^3, x2^2*x3^5, x2^2*x3^4, x2^2*x3^3, x2^2*x3^2, x2^2*x3, x2^2, x2*x3^6, x2*x3^5, x2*x3^4, x2*x3^3, x2*x3^2, x2*x3, x2, x3^7, x3^6, x3^5, x3^4, x3^3, x3^2, x3, 1]\n",
      "7 [x1^5*x2 - x1^5*x3^2, x1^5 - x1^4*x2^3, x1^4*x2^2 - x1^4*x2*x3^2, x1^4*x2*x3 - x1^4*x3^3, x1^4*x2 - x1^3*x2^4, x1^4*x3^2 - x1^3*x2^4, x1^4*x3 - x1^3*x2^3*x3, x1^4 - x1^3*x2^2*x3^2, x1^3*x2^3 - x1^3*x2^2*x3^2, x1^3*x2^2*x3 - x1^3*x2*x3^3, x1^3*x2^2 - x1^2*x2^5, x1^3*x2*x3^2 - x1^2*x2^5, x1^3*x2*x3 - x1^2*x2^4*x3, x1^3*x2 - x1^2*x2^3*x3^2, x1^3*x3^4 - x1^2*x2^5, x1^3*x3^3 - x1^2*x2^4*x3, x1^3*x3^2 - x1^2*x2^3*x3^2, x1^3*x3 - x1^2*x2^2*x3^3, x1^3 - x1*x2^6, x1^2*x2^4 - x1^2*x2^3*x3^2, x1^2*x2^3*x3 - x1^2*x2^2*x3^3, x1^2*x2^3 - x1*x2^6, x1^2*x2^2*x3^2 - x1*x2^6, x1^2*x2^2*x3 - x1*x2^5*x3, x1^2*x2^2 - x1*x2^4*x3^2, x1^2*x2*x3^4 - x1*x2^6, x1^2*x2*x3^3 - x1*x2^5*x3, x1^2*x2*x3^2 - x1*x2^4*x3^2, x1^2*x2*x3 - x1*x2^3*x3^3, x1^2*x2 - x2^7, x1^2*x3^5 - x1*x2^5*x3, x1^2*x3^4 - x1*x2^4*x3^2, x1^2*x3^3 - x1*x2^3*x3^3, x1^2*x3^2 - x2^7, x1^2*x3 - x2^6*x3, x1^2 - x2^5*x3^2, x1*x2^5 - x1*x2^4*x3^2, x1*x2^4*x3 - x1*x2^3*x3^3, x1*x2^4 - x2^7, x1*x2^3*x3^2 - x2^7, x1*x2^3*x3 - x2^6*x3, x1*x2^3 - x2^5*x3^2, x1*x2^2*x3^4 - x2^7, x1*x2^2*x3^3 - x2^6*x3, x1*x2^2*x3^2 - x2^5*x3^2, x1*x2^2*x3 - x2^4*x3^3, x1*x2^2 - x2^3*x3^4, x1*x2*x3^5 - x2^6*x3, x1*x2*x3^4 - x2^5*x3^2, x1*x2*x3^3 - x2^4*x3^3, x1*x2*x3^2 - x2^3*x3^4, x1*x2*x3 - x2^2*x3^5, x1*x2 - x2*x3^6, x1*x3^6 - x2^5*x3^2, x1*x3^5 - x2^4*x3^3, x1*x3^4 - x2^3*x3^4, x1*x3^3 - x2^2*x3^5, x1*x3^2 - x2*x3^6, x1*x3 - x3^7, x1 - x3^6, x2^6 - x2^5*x3^2, x2^5*x3 - x2^4*x3^3, x2^5 - x2^3*x3^4, x2^4*x3^2 - x2^3*x3^4, x2^4*x3 - x2^2*x3^5, x2^4 - x2*x3^6, x2^3*x3^3 - x2^2*x3^5, x2^3*x3^2 - x2*x3^6, x2^3*x3 - x3^7, x2^3 - x3^6, x2^2*x3^4 - x2*x3^6, x2^2*x3^3 - x3^7, x2^2*x3^2 - x3^6, x2^2*x3 - x3^5, x2^2 - x3^4, x2*x3^5 - x3^7, x2*x3^4 - x3^6, x2*x3^3 - x3^5, x2*x3^2 - x3^4, x2*x3 - x3^3, x2 - x3^2] True False\n",
      "[x1^8, x1^7*x2, x1^7*x3, x1^7, x1^6*x2^2, x1^6*x2*x3, x1^6*x2, x1^6*x3^2, x1^6*x3, x1^6, x1^5*x2^3, x1^5*x2^2*x3, x1^5*x2^2, x1^5*x2*x3^2, x1^5*x2*x3, x1^5*x2, x1^5*x3^3, x1^5*x3^2, x1^5*x3, x1^5, x1^4*x2^4, x1^4*x2^3*x3, x1^4*x2^3, x1^4*x2^2*x3^2, x1^4*x2^2*x3, x1^4*x2^2, x1^4*x2*x3^3, x1^4*x2*x3^2, x1^4*x2*x3, x1^4*x2, x1^4*x3^4, x1^4*x3^3, x1^4*x3^2, x1^4*x3, x1^4, x1^3*x2^5, x1^3*x2^4*x3, x1^3*x2^4, x1^3*x2^3*x3^2, x1^3*x2^3*x3, x1^3*x2^3, x1^3*x2^2*x3^3, x1^3*x2^2*x3^2, x1^3*x2^2*x3, x1^3*x2^2, x1^3*x2*x3^4, x1^3*x2*x3^3, x1^3*x2*x3^2, x1^3*x2*x3, x1^3*x2, x1^3*x3^5, x1^3*x3^4, x1^3*x3^3, x1^3*x3^2, x1^3*x3, x1^3, x1^2*x2^6, x1^2*x2^5*x3, x1^2*x2^5, x1^2*x2^4*x3^2, x1^2*x2^4*x3, x1^2*x2^4, x1^2*x2^3*x3^3, x1^2*x2^3*x3^2, x1^2*x2^3*x3, x1^2*x2^3, x1^2*x2^2*x3^4, x1^2*x2^2*x3^3, x1^2*x2^2*x3^2, x1^2*x2^2*x3, x1^2*x2^2, x1^2*x2*x3^5, x1^2*x2*x3^4, x1^2*x2*x3^3, x1^2*x2*x3^2, x1^2*x2*x3, x1^2*x2, x1^2*x3^6, x1^2*x3^5, x1^2*x3^4, x1^2*x3^3, x1^2*x3^2, x1^2*x3, x1^2, x1*x2^7, x1*x2^6*x3, x1*x2^6, x1*x2^5*x3^2, x1*x2^5*x3, x1*x2^5, x1*x2^4*x3^3, x1*x2^4*x3^2, x1*x2^4*x3, x1*x2^4, x1*x2^3*x3^4, x1*x2^3*x3^3, x1*x2^3*x3^2, x1*x2^3*x3, x1*x2^3, x1*x2^2*x3^5, x1*x2^2*x3^4, x1*x2^2*x3^3, x1*x2^2*x3^2, x1*x2^2*x3, x1*x2^2, x1*x2*x3^6, x1*x2*x3^5, x1*x2*x3^4, x1*x2*x3^3, x1*x2*x3^2, x1*x2*x3, x1*x2, x1*x3^7, x1*x3^6, x1*x3^5, x1*x3^4, x1*x3^3, x1*x3^2, x1*x3, x1, x2^8, x2^7*x3, x2^7, x2^6*x3^2, x2^6*x3, x2^6, x2^5*x3^3, x2^5*x3^2, x2^5*x3, x2^5, x2^4*x3^4, x2^4*x3^3, x2^4*x3^2, x2^4*x3, x2^4, x2^3*x3^5, x2^3*x3^4, x2^3*x3^3, x2^3*x3^2, x2^3*x3, x2^3, x2^2*x3^6, x2^2*x3^5, x2^2*x3^4, x2^2*x3^3, x2^2*x3^2, x2^2*x3, x2^2, x2*x3^7, x2*x3^6, x2*x3^5, x2*x3^4, x2*x3^3, x2*x3^2, x2*x3, x2, x3^8, x3^7, x3^6, x3^5, x3^4, x3^3, x3^2, x3, 1]\n"
     ]
    },
    {
     "name": "stdout",
     "output_type": "stream",
     "text": [
      "8 [x1^8, x1^7*x2, x1^7*x3, x1^7, x1^6*x2^2, x1^6*x2*x3, x1^6*x2, x1^6*x3^2, x1^6*x3, x1^6, x1^5*x2^3, x1^5*x2^2*x3, x1^5*x2^2, x1^5*x2*x3^2, x1^5*x2*x3, x1^5*x2, x1^5*x3^3, x1^5*x3^2, x1^5*x3, x1^5, x1^4*x2^4, x1^4*x2^3*x3, x1^4*x2^3, x1^4*x2^2*x3^2, x1^4*x2^2*x3, x1^4*x2^2, x1^4*x2*x3^3, x1^4*x2*x3^2, x1^4*x2*x3, x1^4*x2, x1^4*x3^4, x1^4*x3^3, x1^4*x3^2, x1^4*x3, x1^4, x1^3*x2^5, x1^3*x2^4*x3, x1^3*x2^4, x1^3*x2^3*x3^2, x1^3*x2^3*x3, x1^3*x2^3, x1^3*x2^2*x3^3, x1^3*x2^2*x3^2, x1^3*x2^2*x3, x1^3*x2^2, x1^3*x2*x3^4, x1^3*x2*x3^3, x1^3*x2*x3^2, x1^3*x2*x3, x1^3*x2, x1^3*x3^5, x1^3*x3^4, x1^3*x3^3, x1^3*x3^2, x1^3*x3, x1^3, x1^2*x2^6, x1^2*x2^5*x3, x1^2*x2^5, x1^2*x2^4*x3^2, x1^2*x2^4*x3, x1^2*x2^4, x1^2*x2^3*x3^3, x1^2*x2^3*x3^2, x1^2*x2^3*x3, x1^2*x2^3, x1^2*x2^2*x3^4, x1^2*x2^2*x3^3, x1^2*x2^2*x3^2, x1^2*x2^2*x3, x1^2*x2^2, x1^2*x2*x3^5, x1^2*x2*x3^4, x1^2*x2*x3^3, x1^2*x2*x3^2, x1^2*x2*x3, x1^2*x2, x1^2*x3^6, x1^2*x3^5, x1^2*x3^4, x1^2*x3^3, x1^2*x3^2, x1^2*x3, x1^2, x1*x2^7, x1*x2^6*x3, x1*x2^6, x1*x2^5*x3^2, x1*x2^5*x3, x1*x2^5, x1*x2^4*x3^3, x1*x2^4*x3^2, x1*x2^4*x3, x1*x2^4, x1*x2^3*x3^4, x1*x2^3*x3^3, x1*x2^3*x3^2, x1*x2^3*x3, x1*x2^3, x1*x2^2*x3^5, x1*x2^2*x3^4, x1*x2^2*x3^3, x1*x2^2*x3^2, x1*x2^2*x3, x1*x2^2, x1*x2*x3^6, x1*x2*x3^5, x1*x2*x3^4, x1*x2*x3^3, x1*x2*x3^2, x1*x2*x3, x1*x2, x1*x3^7, x1*x3^6, x1*x3^5, x1*x3^4, x1*x3^3, x1*x3^2, x1*x3 - x3^7, x1 - x3^6, x2^8, x2^7*x3, x2^7, x2^6*x3^2, x2^6*x3, x2^6, x2^5*x3^3, x2^5*x3^2, x2^5*x3, x2^5, x2^4*x3^4, x2^4*x3^3, x2^4*x3^2, x2^4*x3, x2^4, x2^3*x3^5, x2^3*x3^4, x2^3*x3^3, x2^3*x3^2, x2^3*x3 - x3^7, x2^3 - x3^6, x2^2*x3^6, x2^2*x3^5, x2^2*x3^4, x2^2*x3^3 - x3^7, x2^2*x3^2 - x3^6, x2^2*x3 - x3^5, x2^2 - x3^4, x2*x3^7, x2*x3^6, x2*x3^5 - x3^7, x2*x3^4 - x3^6, x2*x3^3 - x3^5, x2*x3^2 - x3^4, x2*x3 - x3^3, x2 - x3^2, x3^8] True True\n"
     ]
    },
    {
     "data": {
      "text/plain": [
       "(8, Polynomial Sequence with 157 Polynomials in 3 Variables)"
      ]
     },
     "execution_count": 560,
     "metadata": {},
     "output_type": "execute_result"
    }
   ],
   "source": [
    "sdeg([f1,f2,f3],S)"
   ]
  },
  {
   "cell_type": "code",
   "execution_count": 35,
   "metadata": {},
   "outputs": [
    {
     "data": {
      "text/plain": [
       "[x^2 - y^2*z^3, y^3 + y^2*z^2]"
      ]
     },
     "execution_count": 35,
     "metadata": {},
     "output_type": "execute_result"
    }
   ],
   "source": [
    "R.<x,y,z> = PolynomialRing(QQ, order = 'lex') # double check this! seems to be a counter example\n",
    "f1 = x^2 + y^3*z\n",
    "f2 = y^3 + y^2*z^2\n",
    "f3 = z^4\n",
    "I = Ideal(f1,f2)\n",
    "I.groebner_basis()"
   ]
  },
  {
   "cell_type": "code",
   "execution_count": 36,
   "metadata": {},
   "outputs": [
    {
     "name": "stdout",
     "output_type": "stream",
     "text": [
      "0 [0] True False\n",
      "1 [0] True False\n",
      "2 [0] True False\n",
      "3 [0] True False\n",
      "4 [x^2 + y^3*z, y^3 + y^2*z^2] True True\n"
     ]
    },
    {
     "data": {
      "text/plain": [
       "(4, [x^2 + y^3*z, y^3 + y^2*z^2])"
      ]
     },
     "execution_count": 36,
     "metadata": {},
     "output_type": "execute_result"
    }
   ],
   "source": [
    "mac_grob([f1,f2], R)"
   ]
  },
  {
   "cell_type": "code",
   "execution_count": 235,
   "metadata": {},
   "outputs": [
    {
     "data": {
      "text/plain": [
       "[y^6*z - y^6 - 1/5*x*y^3*z + 1/5*y^4*z + 1/5*x*y^3 - 1/5*y^4 + 1/5*x^2*y*z + 1/5*x*y^2*z - y^3*z - 1/5*x^2*y - 1/5*x*y^2 + y^3 - 1/5*x^2*z + 1/5*x*y*z - 1/5*y^2*z + 1/5*x^2 - 1/5*x*y + 1/5*y^2 - 1/5*x*z - 2/5*y*z + 1/5*x + 2/5*y + 2/5*z - 2/5, x*y^5 + y^6 + 2*y^3*z^2 - 2*y^3 + x*z^2 - z^2 - x + 1, x*y^4*z - 3/2*y^5*z - x*y^4 + 3/2*y^5 + 1/2*x^2*y*z - 1/2*x*y^2*z + 1/2*y^3*z - 1/2*x^2*y + 1/2*x*y^2 - 1/2*y^3 - 1/2*x^2*z - 1/2*x*y*z + 1/2*y^2*z + 1/2*x^2 + 1/2*x*y - 1/2*y^2 + 1/2*z - 1/2, x^2*y^3 - y^5 + x^2*z^2 - x^2 - z^2 + 1, x^2*y^2*z - 2*x*y^3*z + 2*y^4*z - x^2*y^2 + 2*x*y^3 - 2*y^4 - x^2*z + x*y*z - y^2*z + x^2 - x*y + y^2 + x*z - y*z - x + y, x^3 + y^3 + z^2 - 1, z^3 - z^2]"
      ]
     },
     "execution_count": 235,
     "metadata": {},
     "output_type": "execute_result"
    }
   ],
   "source": [
    "R.<x,y,z> = PolynomialRing(QQ, order = 'degrevlex') # lots of good examples playing around with this setup\n",
    "f1 = x^5 + y^5 + z^5 - 1\n",
    "f2 = x^3 + y^3 + z^2 - 1\n",
    "f3 = x^3 + y^3 + z^3 - 1\n",
    "I = Ideal(f1,f2,f3)\n",
    "I.groebner_basis()"
   ]
  },
  {
   "cell_type": "code",
   "execution_count": 236,
   "metadata": {},
   "outputs": [
    {
     "name": "stdout",
     "output_type": "stream",
     "text": [
      "0 [0] True False\n",
      "1 [0] True False\n",
      "2 [0] True False\n",
      "3 [x^3 + y^3 + z^2 - 1, z^3 - z^2] True False\n",
      "4 [x^4 + x*y^3 + x*z^2 - x, x^3*y + y^4 + y*z^2 - y, x^3*z + y^3*z + z^2 - z, x*z^3 - x*z^2, y*z^3 - y*z^2, z^4 - z^2, x^3 + y^3 + z^2 - 1, z^3 - z^2] True False\n",
      "5 Polynomial Sequence with 21 Polynomials in 3 Variables False True\n",
      "6 Polynomial Sequence with 43 Polynomials in 3 Variables False True\n",
      "7 Polynomial Sequence with 76 Polynomials in 3 Variables False True\n",
      "8 Polynomial Sequence with 120 Polynomials in 3 Variables False True\n",
      "9 Polynomial Sequence with 174 Polynomials in 3 Variables False True\n",
      "10 Polynomial Sequence with 239 Polynomials in 3 Variables True True\n"
     ]
    },
    {
     "data": {
      "text/plain": [
       "(10, Polynomial Sequence with 239 Polynomials in 3 Variables)"
      ]
     },
     "execution_count": 236,
     "metadata": {},
     "output_type": "execute_result"
    }
   ],
   "source": [
    "mac_grob([f1,f2,f3],R)"
   ]
  },
  {
   "cell_type": "code",
   "execution_count": 245,
   "metadata": {},
   "outputs": [
    {
     "data": {
      "text/plain": [
       "6"
      ]
     },
     "execution_count": 245,
     "metadata": {},
     "output_type": "execute_result"
    }
   ],
   "source": [
    "degree_reg(Ideal(f1+1,f3+1),R)"
   ]
  },
  {
   "cell_type": "code",
   "execution_count": 243,
   "metadata": {},
   "outputs": [
    {
     "name": "stdout",
     "output_type": "stream",
     "text": [
      "3 [x^3 + y^3 + z^3] True False\n",
      "4 [x^3 + y^3 + z^3] True False\n",
      "5 [x^3 + y^3 + z^3, x^2*y^3 - y^5 + x^2*z^3 - z^5] False True\n",
      "6 [x^3 + y^3 + z^3, x^2*y^3 - y^5 + x^2*z^3 - z^5, x*y^5 + y^6 + 2*y^3*z^3 + x*z^5 + z^6] False True\n",
      "7 [x^3 + y^3 + z^3, x^2*y^3 - y^5 + x^2*z^3 - z^5, x*y^5 + y^6 + 2*y^3*z^3 + x*z^5 + z^6, x^2*y^2*z^3 - 2*x*y^3*z^3 + 2*y^4*z^3 - x^2*z^5 + x*y*z^5 - y^2*z^5 - x*z^6 + y*z^6] False True\n",
      "8 [x^3 + y^3 + z^3, x^2*y^3 - y^5 + x^2*z^3 - z^5, x*y^5 + y^6 + 2*y^3*z^3 + x*z^5 + z^6, x^2*y^2*z^3 - 2*x*y^3*z^3 + 2*y^4*z^3 - x^2*z^5 + x*y*z^5 - y^2*z^5 - x*z^6 + y*z^6, x*y^4*z^3 - 3/2*y^5*z^3 + 1/2*x^2*y*z^5 - 1/2*x*y^2*z^5 + 1/2*y^3*z^5 + 1/2*x^2*z^6 + 1/2*x*y*z^6 - 1/2*y^2*z^6 - 1/2*z^8] False True\n",
      "9 [x^3 + y^3 + z^3, x^2*y^3 - y^5 + x^2*z^3 - z^5, x*y^5 + y^6 + 2*y^3*z^3 + x*z^5 + z^6, x^2*y^2*z^3 - 2*x*y^3*z^3 + 2*y^4*z^3 - x^2*z^5 + x*y*z^5 - y^2*z^5 - x*z^6 + y*z^6, x*y^4*z^3 - 3/2*y^5*z^3 + 1/2*x^2*y*z^5 - 1/2*x*y^2*z^5 + 1/2*y^3*z^5 + 1/2*x^2*z^6 + 1/2*x*y*z^6 - 1/2*y^2*z^6 - 1/2*z^8, y^6*z^3 - 1/5*x*y^3*z^5 + 1/5*y^4*z^5 - 1/5*x^2*y*z^6 - 1/5*x*y^2*z^6 + y^3*z^6 - 1/5*x^2*z^7 + 1/5*x*y*z^7 - 1/5*y^2*z^7 + 1/5*x*z^8 + 2/5*y*z^8 + 2/5*z^9] True True\n"
     ]
    },
    {
     "data": {
      "text/plain": [
       "(9,\n",
       " [x^3 + y^3 + z^3, x^2*y^3 - y^5 + x^2*z^3 - z^5, x*y^5 + y^6 + 2*y^3*z^3 + x*z^5 + z^6, x^2*y^2*z^3 - 2*x*y^3*z^3 + 2*y^4*z^3 - x^2*z^5 + x*y*z^5 - y^2*z^5 - x*z^6 + y*z^6, x*y^4*z^3 - 3/2*y^5*z^3 + 1/2*x^2*y*z^5 - 1/2*x*y^2*z^5 + 1/2*y^3*z^5 + 1/2*x^2*z^6 + 1/2*x*y*z^6 - 1/2*y^2*z^6 - 1/2*z^8, y^6*z^3 - 1/5*x*y^3*z^5 + 1/5*y^4*z^5 - 1/5*x^2*y*z^6 - 1/5*x*y^2*z^6 + y^3*z^6 - 1/5*x^2*z^7 + 1/5*x*y*z^7 - 1/5*y^2*z^7 + 1/5*x*z^8 + 2/5*y*z^8 + 2/5*z^9])"
      ]
     },
     "execution_count": 243,
     "metadata": {},
     "output_type": "execute_result"
    }
   ],
   "source": [
    "f5_grob([f3+1,f1+1],R)"
   ]
  },
  {
   "cell_type": "code",
   "execution_count": 588,
   "metadata": {},
   "outputs": [
    {
     "name": "stdout",
     "output_type": "stream",
     "text": [
      "1 1\n",
      "3 3\n",
      "3 6\n",
      "1 10\n",
      "1 15\n",
      "1 21\n",
      "0 28\n",
      "0 36\n",
      "0 45\n",
      "0 55\n",
      "0 66\n",
      "0 78\n",
      "0 91\n",
      "0 105\n",
      "0 120\n",
      "0 136\n",
      "0 153\n",
      "0 171\n",
      "0 190\n",
      "0 210\n"
     ]
    }
   ],
   "source": [
    "for i in range(20): \n",
    "    print(len(I.normal_basis(i)), int(binom(2 + i, i)))"
   ]
  },
  {
   "cell_type": "code",
   "execution_count": 73,
   "metadata": {},
   "outputs": [
    {
     "data": {
      "text/plain": [
       "[z^5, y*z^4, x*z^4, y^2*z^3, x*y*z^3, x^2*z^3, y^3*z^2, x*y^2*z^2, x^2*y*z^2, y^4*z, x*y^3*z, x^2*y^2*z, y^5, x*y^4]"
      ]
     },
     "execution_count": 73,
     "metadata": {},
     "output_type": "execute_result"
    }
   ],
   "source": [
    "I.normal_basis(5)"
   ]
  },
  {
   "cell_type": "code",
   "execution_count": 62,
   "metadata": {},
   "outputs": [
    {
     "data": {
      "text/plain": [
       "(t^2 + t + 1)/(t^2 - 2*t + 1)"
      ]
     },
     "execution_count": 62,
     "metadata": {},
     "output_type": "execute_result"
    }
   ],
   "source": [
    "hilbert_poincare_series(I)"
   ]
  },
  {
   "cell_type": "code",
   "execution_count": 7,
   "metadata": {},
   "outputs": [
    {
     "name": "stdout",
     "output_type": "stream",
     "text": [
      "0 [0] True False\n",
      "1 [0] True False\n",
      "2 [0] True False\n",
      "3 [0] True False\n",
      "4 [x^2*y*z + x^2, x*y^2*z + y^2 + 1, x*y*z^2 + z^2, u^2*v*w + u^2, u*v^2*w + v^2 + 1, u*v*w^2 + w^2] False True\n",
      "5 Polynomial Sequence with 42 Polynomials in 6 Variables False True\n",
      "6 Polynomial Sequence with 168 Polynomials in 6 Variables False True\n",
      "7 Polynomial Sequence with 502 Polynomials in 6 Variables False True\n",
      "8 Polynomial Sequence with 1218 Polynomials in 6 Variables True True\n"
     ]
    },
    {
     "data": {
      "text/plain": [
       "(8, Polynomial Sequence with 1218 Polynomials in 6 Variables)"
      ]
     },
     "execution_count": 7,
     "metadata": {},
     "output_type": "execute_result"
    }
   ],
   "source": [
    "S.<x,y,z,u,v,w> = PolynomialRing(QQ, order = 'degrevlex')\n",
    "I = Ideal(u^2*v*w + u^2, u*v^2*w + v^2 + 1, u*v*w^2 + w^2, x^2*y*z + x^2, x*y^2*z + y^2 + 1, x*y*z^2 + z^2)\n",
    "mac_grob([u^2*v*w + u^2, u*v^2*w + v^2 + 1, u*v*w^2 + w^2, x^2*y*z + x^2, x*y^2*z + y^2 + 1, x*y*z^2 + z^2],S)"
   ]
  },
  {
   "cell_type": "code",
   "execution_count": 13,
   "metadata": {},
   "outputs": [
    {
     "data": {
      "text/plain": [
       "7"
      ]
     },
     "execution_count": 13,
     "metadata": {},
     "output_type": "execute_result"
    }
   ],
   "source": [
    "degree_reg(I,S)"
   ]
  },
  {
   "cell_type": "code",
   "execution_count": 86,
   "metadata": {},
   "outputs": [
    {
     "data": {
      "text/plain": [
       "[y^4 + y^2*z^2 - x*z^3 + y^3 + y*z^2 - y^2 - y, x*y^2 + z^3 + x*y, x^2 + y^2 + z^2 - 1]"
      ]
     },
     "execution_count": 86,
     "metadata": {},
     "output_type": "execute_result"
    }
   ],
   "source": [
    "R.<x,y,z> = PolynomialRing(QQ, order = 'degrevlex') # lots of good examples playing around with this setup\n",
    "f1 = x^2 + y^2 + z^2 - 1\n",
    "f2 = x*y^2 + z^3 + x*y\n",
    "I = Ideal(f1,f2)\n",
    "I.groebner_basis()"
   ]
  },
  {
   "cell_type": "code",
   "execution_count": 147,
   "metadata": {},
   "outputs": [
    {
     "data": {
      "text/plain": [
       "[y^4 + y^2*z^2 - x*z^3, x*y^2 + z^3, x^2 + y^2 + z^2]"
      ]
     },
     "execution_count": 147,
     "metadata": {},
     "output_type": "execute_result"
    }
   ],
   "source": [
    "R.<x,y,z> = PolynomialRing(QQ, order = 'degrevlex') # lots of good examples playing around with this setup\n",
    "f1 = x^2 + y^2 + z^2\n",
    "f2 = x*y^2 + z^3\n",
    "I = Ideal(f1,f2)\n",
    "I.groebner_basis()"
   ]
  },
  {
   "cell_type": "code",
   "execution_count": 148,
   "metadata": {},
   "outputs": [
    {
     "data": {
      "text/plain": [
       "[y^4 + y^2*z^2 - x*z^3, x*y^2 + z^3, x^2 + y^2 + z^2]"
      ]
     },
     "execution_count": 148,
     "metadata": {},
     "output_type": "execute_result"
    }
   ],
   "source": [
    "I.groebner_basis(\"singular:groebner\")"
   ]
  },
  {
   "cell_type": "code",
   "execution_count": 17,
   "metadata": {},
   "outputs": [],
   "source": [
    "class SignedMatrix:\n",
    "    # Matrix together with hashmap associating singature (index) to each row - has special rref function that respects signatures.\n",
    "    def __init__(self, mat, sgn, d, parent):\n",
    "        self.mat = mat\n",
    "        self.signature = sgn\n",
    "        self.d = d\n",
    "        self.parent = parent\n",
    "\n",
    "    # use position over term ordering\n",
    "    def row_echelon_form_by_position(self):\n",
    "        # returns a pair (M, n) where M is a new signed matrix which is the row-reduction of self via a sequence of\n",
    "        # elementary row operations\n",
    "        # keep track of number of operations\n",
    "        num_operations = 0\n",
    "        copy_mat = copy(self.mat)\n",
    "        eliminated = True\n",
    "        first_reduction = True\n",
    "        # keep track of reductions\n",
    "        rdxn = dict()\n",
    "        for i in range(len(copy_mat.rows())):\n",
    "            rdxn[i] = []\n",
    "        while eliminated:\n",
    "            eliminated = False\n",
    "            for i, row in enumerate(copy_mat.rows()):\n",
    "                for j in range(len(row)):\n",
    "                    if row[j] != 0:\n",
    "                        # j is the leading term of this row, so use it to kill everything with higher signature\n",
    "                        for new_i, new_row in enumerate(copy_mat.rows()):\n",
    "                            if new_row[j] != 0 and self.signature[i] < self.signature[new_i]:\n",
    "                                # we can reduce\n",
    "                                lam = -(new_row[j]/row[j])\n",
    "                                copy_mat.add_multiple_of_row(new_i, i, lam)\n",
    "                                eliminated = True\n",
    "                                if first_reduction: # only count top-reductions\n",
    "                                    num_operations += len(new_row)\n",
    "                                rdxn[new_i].append((i,lam))\n",
    "                        break\n",
    "            first_reduction = False # stop counting arithmetic operations\n",
    "\n",
    "        for i, row in enumerate(copy_mat.rows()):\n",
    "            for j in range(len(row)):\n",
    "                if row[j] != 0:\n",
    "                    # j is the coefficient of the leading term of this row, so divide this row by it\n",
    "                    copy_mat.rescale_row(i,1/row[j])\n",
    "                    break\n",
    "\n",
    "        return (SignedMatrix(copy_mat, self.signature, self.d, self.parent), num_operations, rdxn)\n",
    "\n",
    "    # use term over position ordering\n",
    "    def row_echelon_form_by_term(self):\n",
    "        num_operations = 0\n",
    "        copy_mat = copy(self.mat)\n",
    "        eliminated = True\n",
    "        first_reduction = True\n",
    "        while eliminated:\n",
    "            eliminated = False\n",
    "            for i, row in enumerate(copy_mat.rows()):\n",
    "                for j in range(len(row)):\n",
    "                    if row[j] != 0:\n",
    "                        # j is the leading term of this row, so use it to kill everything with higher signature\n",
    "                        for new_i, new_row in enumerate(copy_mat.rows()):\n",
    "                            if new_row[j] != 0 and self.signature[i][::-1] < self.signature[new_i][::-1]:\n",
    "                                # we can reduce\n",
    "                                lam = -(new_row[j]/row[j])\n",
    "                                copy_mat.add_multiple_of_row(new_i, i, lam)\n",
    "                                eliminated = True\n",
    "                                if first_reduction:\n",
    "                                    num_operations += len(new_row)\n",
    "                        break\n",
    "            first_reduction = False\n",
    "\n",
    "        for i, row in enumerate(copy_mat.rows()):\n",
    "            for j in range(len(row)):\n",
    "                if row[j] != 0:\n",
    "                    # j is the coefficient of the leading term of this row, so divide this row by it\n",
    "                    copy_mat.rescale_row(i,1/row[j])\n",
    "                    break\n",
    "\n",
    "        return (SignedMatrix(copy_mat, self.signature, self.d, self.parent), num_operations)\n",
    "\n",
    "    def add_row(self, f, index):\n",
    "        # returns a new matrix which is self with a row added corresponding to polynomial f with signature index\n",
    "        row = [f.monomial_coefficient(mon) for mon in self.monomials()]\n",
    "        copy_mat = copy(self.mat)\n",
    "        copy_signature = copy(self.signature)\n",
    "        copy_mat = matrix(copy_mat.rows()+[row])\n",
    "        copy_signature[copy_mat.nrows()-1] = index\n",
    "        return SignedMatrix(copy_mat, copy_signature, self.d, self.parent)\n",
    "\n",
    "    def monomials(self):\n",
    "        # returns monomials of degree self.d in a list, sorted in decreasing order\n",
    "        R = self.parent\n",
    "        monomials = [R({tuple(a):1}) for a in WeightedIntegerVectors(self.d, [1]*R.ngens())]\n",
    "        monomials.sort(reverse=True)\n",
    "        return monomials\n",
    "\n",
    "    def LT(self):\n",
    "        # returns the leading terms of the (polynomials represented by) rows of self.mat\n",
    "        monomials = self.monomials()\n",
    "        leading_terms = []\n",
    "        for row in self.mat.rows():\n",
    "            for i in range(len(row)):\n",
    "                if row[i] != 0:\n",
    "                    leading_terms.append(monomials[i]*row[i])\n",
    "                    break\n",
    "        return set(leading_terms)\n",
    "\n",
    "    def rows(self):\n",
    "        # return set of (polynomials represented by) rows of self.mat\n",
    "        monomials = self.monomials()\n",
    "        r = []\n",
    "        for row in self.mat.rows():\n",
    "            polynomial = 0\n",
    "            for j in range(len(row)):\n",
    "                polynomial += row[j]*monomials[j]\n",
    "            r.append(polynomial)\n",
    "        return r \n",
    "\n",
    "def F5(F, D, order='position'):\n",
    "    # F=(f_1,...,f_m) is a set of polynomials with degere d_1 <= d_2 <= ... <= d_m\n",
    "    # D is maximal degree\n",
    "    # returns the set of elements of degree at most D of reduced Grobner bases of (f_1,...,f_i) for each i\n",
    "    operations = 0\n",
    "    F.insert(0,0) # so that we can 1-index everything\n",
    "    G = [{} for _ in range(len(F))] # initialize intermediate Grobner bases\n",
    "    M = [[None for _ in range(len(F))] for _ in range(D+1)] # initialize Macaulay matrices\n",
    "    M_red = [[None for _ in range(len(F))] for _ in range(D+1)] # initialize reduced Macaulay matrices\n",
    "    sizes = [] # initialize list of sizes of Macaulay matrices\n",
    "    rdxn = [[None for _ in range(len(F))] for _ in range(D+1)] # initialize list of reductions performed\n",
    "    variables = list(F[1].parent().gens())\n",
    "    variables.sort(reverse=True)\n",
    "    for d in range(F[1].degree(),D+1):\n",
    "        M[d][0] = SignedMatrix(matrix(QQ), dict(), d, F[1].parent())\n",
    "        M_red[d][0] = SignedMatrix(matrix(QQ), dict(), d, F[1].parent())\n",
    "        for i in range(1, len(F)):\n",
    "            if d < F[i].degree(): M[d][i] = M[d][i-1] # Case 1: the degree of f_i is larger than d\n",
    "            elif d == F[i].degree(): # Case 2: the degree of f_i is exactly d\n",
    "                M[d][i] = M_red[d][i-1].add_row(F[i], (i,1))\n",
    "            else: # Case 3: the degree of f_i is less than d\n",
    "                M[d][i] = M_red[d][i-1]\n",
    "                if M_red[d-F[i].degree()][i-1]:\n",
    "                    Crit = M_red[d-F[i].degree()][i-1].LT() # build F_5 criterion list\n",
    "                else:\n",
    "                    Crit = []\n",
    "                for row_num, sgn in [(r,s) for (r,s) in M[d-1][i].signature.items() if s not in M[d-1][i-1].signature.values()]:\n",
    "                    _,u = sgn \n",
    "                    f = M[d-1][i].rows()[row_num]\n",
    "                    if u == 1:\n",
    "                        largest_var_in_u = 0\n",
    "                    else:\n",
    "                        largest_var_in_u = variables.index(u.variables()[-1]) # select which row to use to build new row\n",
    "                    for j in range(largest_var_in_u,len(variables)):\n",
    "                        if u*variables[j] not in Crit: # avoid signatures which F_5 criterion tells us are useless\n",
    "                            M[d][i] = M[d][i].add_row(variables[j]*f, (i,u*variables[j]))\n",
    "\n",
    "            # reduce Macaulay-like matrices\n",
    "            if order == \"position\":\n",
    "                M_red[d][i], op, rdxn[d][i] = M[d][i].row_echelon_form_by_position()\n",
    "                operations += op\n",
    "            else:\n",
    "                M_red[d][i], op, rdxn[d][i] = M[d][i].row_echelon_form_by_term()\n",
    "                operations += op\n",
    "            sizes.append((M[d][i].mat.nrows(), M[d][i].mat.ncols()))\n",
    "            # update Grobner bases\n",
    "            for j,f in enumerate(M_red[d][i].rows()):\n",
    "                if f.lt().reduce([g.lt() for g in G[i].values()]) != 0:\n",
    "                    G[i][M_red[d][i].signature[j]] = f\n",
    "    return (G,sizes,M[-1][-1].mat,M[-1][-1].signature, M_red, operations, rdxn)"
   ]
  },
  {
   "cell_type": "code",
   "execution_count": 227,
   "metadata": {},
   "outputs": [
    {
     "data": {
      "text/plain": [
       "[x^2 + y^2 + z^2]"
      ]
     },
     "execution_count": 227,
     "metadata": {},
     "output_type": "execute_result"
    }
   ],
   "source": [
    "G = F5([f1,f2],2)\n",
    "recover_f5(G[0])"
   ]
  },
  {
   "cell_type": "code",
   "execution_count": 228,
   "metadata": {},
   "outputs": [
    {
     "name": "stdout",
     "output_type": "stream",
     "text": [
      "[x^2 + y^2 + z^2]\n",
      "[x^2 + y^2 + z^2, x*y^2 + z^3]\n",
      "[x^2 + y^2 + z^2, x*y^2 + z^3, y^4 + y^2*z^2 - x*z^3]\n"
     ]
    }
   ],
   "source": [
    "for i in range(2,5):\n",
    "    G = F5([f1,f2],i)\n",
    "    print(recover_f5(G[0]))"
   ]
  },
  {
   "cell_type": "code",
   "execution_count": 229,
   "metadata": {},
   "outputs": [
    {
     "data": {
      "text/plain": [
       "[y^4 + y^2*z^2 - x*z^3, x*y^2 + z^3, x^2 + y^2 + z^2]"
      ]
     },
     "execution_count": 229,
     "metadata": {},
     "output_type": "execute_result"
    }
   ],
   "source": [
    "I.groebner_basis()"
   ]
  },
  {
   "cell_type": "code",
   "execution_count": 230,
   "metadata": {},
   "outputs": [
    {
     "data": {
      "text/plain": [
       "45"
      ]
     },
     "execution_count": 230,
     "metadata": {},
     "output_type": "execute_result"
    }
   ],
   "source": [
    "G[5]"
   ]
  },
  {
   "cell_type": "code",
   "execution_count": 231,
   "metadata": {},
   "outputs": [
    {
     "name": "stdout",
     "output_type": "stream",
     "text": [
      "0 [0] True False\n",
      "1 [0] True False\n",
      "2 [x^2 + y^2 + z^2] True False\n",
      "3 [x^3 + x*z^2 - z^3, x^2*y + y^3 + y*z^2, x*y^2 + z^3, x^2*z + y^2*z + z^3, x^2 + y^2 + z^2] False True\n",
      "4 [x^4 - y^2*z^2 - x*z^3 - z^4, x^3*y + x*y*z^2 - y*z^3, x^2*y^2 + x*z^3, x*y^3 + y*z^3, y^4 + y^2*z^2 - x*z^3, x^3*z + x*z^3 - z^4, x^2*y*z + y^3*z + y*z^3, x*y^2*z + z^4, x^2*z^2 + y^2*z^2 + z^4, x^3 + x*z^2 - z^3, x^2*y + y^3 + y*z^2, x*y^2 + z^3, x^2*z + y^2*z + z^3, x^2 + y^2 + z^2] True True\n"
     ]
    },
    {
     "data": {
      "text/plain": [
       "(4,\n",
       " [x^4 - y^2*z^2 - x*z^3 - z^4, x^3*y + x*y*z^2 - y*z^3, x^2*y^2 + x*z^3, x*y^3 + y*z^3, y^4 + y^2*z^2 - x*z^3, x^3*z + x*z^3 - z^4, x^2*y*z + y^3*z + y*z^3, x*y^2*z + z^4, x^2*z^2 + y^2*z^2 + z^4, x^3 + x*z^2 - z^3, x^2*y + y^3 + y*z^2, x*y^2 + z^3, x^2*z + y^2*z + z^3, x^2 + y^2 + z^2])"
      ]
     },
     "execution_count": 231,
     "metadata": {},
     "output_type": "execute_result"
    }
   ],
   "source": [
    "mac_grob([f1,f2],R)"
   ]
  },
  {
   "cell_type": "code",
   "execution_count": 18,
   "metadata": {},
   "outputs": [],
   "source": [
    "def recover_f5(f5_out):\n",
    "    p_list = list(f5_out[-1].values())\n",
    "    test_ideal = Ideal(p_list)\n",
    "    return test_ideal.gens()\n",
    "\n",
    "def mac_grob(f,ring):\n",
    "    test_deg = 0\n",
    "    while True:\n",
    "        B = mac_basis(f, test_deg, ring)\n",
    "        print(test_deg, B, B.is_groebner(), ideal(B) == ideal(f))\n",
    "        if B.is_groebner() and ideal(B) == ideal(f):\n",
    "            return (test_deg,B)\n",
    "        test_deg += 1\n",
    "    \n",
    "def f5_grob(f, ring):\n",
    "    test_deg = min([p.degree() for p in f])\n",
    "    while True:\n",
    "        G = F5(f, test_deg)\n",
    "        B = recover_f5(G[0])\n",
    "        check_1 = B.is_groebner()\n",
    "        check_2 = ideal(B) == ideal(f)\n",
    "        print(test_deg, B, check_1, check_2)\n",
    "        if check_1 and check_2:\n",
    "            return (test_deg, B)\n",
    "        test_deg += 1\n",
    "        f = f[1:]"
   ]
  },
  {
   "cell_type": "code",
   "execution_count": 234,
   "metadata": {},
   "outputs": [
    {
     "name": "stdout",
     "output_type": "stream",
     "text": [
      "2 [x^2 + y^2 + z^2] True False\n",
      "3 [x^2 + y^2 + z^2, x*y^2 + z^3] False True\n",
      "4 [x^2 + y^2 + z^2, x*y^2 + z^3, y^4 + y^2*z^2 - x*z^3] True True\n"
     ]
    },
    {
     "data": {
      "text/plain": [
       "(4, [x^2 + y^2 + z^2, x*y^2 + z^3, y^4 + y^2*z^2 - x*z^3])"
      ]
     },
     "execution_count": 234,
     "metadata": {},
     "output_type": "execute_result"
    }
   ],
   "source": [
    "f5_grob([f1,f2], R)"
   ]
  },
  {
   "cell_type": "code",
   "execution_count": 288,
   "metadata": {},
   "outputs": [
    {
     "data": {
      "text/plain": [
       "[y^14*z^3 - 10/13*x^2*y^9*z^6 + 2*x*y^10*z^6 + 10/13*y^11*z^6 - 20/13*x^2*y^6*z^9 + 44/13*x*y^7*z^9 + 10/13*y^8*z^9 - 15/13*x^2*y^3*z^12 + 31/13*x*y^4*z^12 + 5/13*y^5*z^12 - 1/13*x^2*y^2*z^13 + 1/13*x*y^3*z^13 - 1/13*y^4*z^13 - 4/13*x^2*z^15 + 8/13*x*y*z^15 + 1/13*y^2*z^15 - 4/13*x*z^16 + 8/13*y*z^16, x^2*y^10*z^3 - x*y^11*z^3 + 5/4*y^12*z^3 + 3/2*x^2*y^7*z^6 - 3/2*x*y^8*z^6 + 5/2*y^9*z^6 + x^2*y^4*z^9 - x*y^5*z^9 + 5/2*y^6*z^9 + 1/4*x^2*y*z^12 - 1/4*x*y^2*z^12 + 5/4*y^3*z^12 - 1/4*x^2*z^13 + 1/4*x*y*z^13 - 1/4*y^2*z^13 + 1/4*z^15, x*y^12 + y^13 + 4*x*y^9*z^3 + 6*x*y^6*z^6 + 4*x*y^3*z^9 + x*z^12 + z^13, x^3 + y^3 + z^3]"
      ]
     },
     "execution_count": 288,
     "metadata": {},
     "output_type": "execute_result"
    }
   ],
   "source": [
    "R.<x,y,z> = PolynomialRing(QQ, order = 'degrevlex') # lots of good examples playing around with this setup\n",
    "f1 = x^3 + y^3 + z^3\n",
    "f2 = x^13 + y^13 + z^13\n",
    "I = Ideal(f1,f2)\n",
    "I.groebner_basis()"
   ]
  },
  {
   "cell_type": "code",
   "execution_count": 289,
   "metadata": {},
   "outputs": [
    {
     "name": "stdout",
     "output_type": "stream",
     "text": [
      "0 [0] True False\n",
      "1 [0] True False\n",
      "2 [0] True False\n",
      "3 [x^3 + y^3 + z^3] True False\n",
      "4 [x^4 + x*y^3 + x*z^3, x^3*y + y^4 + y*z^3, x^3*z + y^3*z + z^4, x^3 + y^3 + z^3] True False\n",
      "5 [x^5 + x^2*y^3 + x^2*z^3, x^4*y + x*y^4 + x*y*z^3, x^3*y^2 + y^5 + y^2*z^3, x^4*z + x*y^3*z + x*z^4, x^3*y*z + y^4*z + y*z^4, x^3*z^2 + y^3*z^2 + z^5, x^4 + x*y^3 + x*z^3, x^3*y + y^4 + y*z^3, x^3*z + y^3*z + z^4, x^3 + y^3 + z^3] True False\n",
      "6 Polynomial Sequence with 20 Polynomials in 3 Variables True False\n",
      "7 Polynomial Sequence with 35 Polynomials in 3 Variables True False\n",
      "8 Polynomial Sequence with 56 Polynomials in 3 Variables True False\n",
      "9 Polynomial Sequence with 84 Polynomials in 3 Variables True False\n",
      "10 Polynomial Sequence with 120 Polynomials in 3 Variables True False\n",
      "11 Polynomial Sequence with 165 Polynomials in 3 Variables True False\n",
      "12 Polynomial Sequence with 220 Polynomials in 3 Variables True False\n",
      "13 Polynomial Sequence with 287 Polynomials in 3 Variables False True\n",
      "14 Polynomial Sequence with 368 Polynomials in 3 Variables False True\n",
      "15 Polynomial Sequence with 465 Polynomials in 3 Variables False True\n",
      "16 Polynomial Sequence with 579 Polynomials in 3 Variables False True\n",
      "17 Polynomial Sequence with 711 Polynomials in 3 Variables True True\n"
     ]
    },
    {
     "data": {
      "text/plain": [
       "(17, Polynomial Sequence with 711 Polynomials in 3 Variables)"
      ]
     },
     "execution_count": 289,
     "metadata": {},
     "output_type": "execute_result"
    }
   ],
   "source": [
    "mac_grob([f1,f2],R)"
   ]
  },
  {
   "cell_type": "code",
   "execution_count": 290,
   "metadata": {},
   "outputs": [
    {
     "name": "stdout",
     "output_type": "stream",
     "text": [
      "3 [x^3 + y^3 + z^3] True False\n",
      "4 [x^3 + y^3 + z^3] True False\n",
      "5 [x^3 + y^3 + z^3] True False\n",
      "6 [x^3 + y^3 + z^3] True False\n",
      "7 [x^3 + y^3 + z^3] True False\n",
      "8 [x^3 + y^3 + z^3] True False\n",
      "9 [x^3 + y^3 + z^3] True False\n",
      "10 [x^3 + y^3 + z^3] True False\n",
      "11 [x^3 + y^3 + z^3] True False\n",
      "12 [x^3 + y^3 + z^3] True False\n",
      "13 [x^3 + y^3 + z^3, x*y^12 + y^13 + 4*x*y^9*z^3 + 6*x*y^6*z^6 + 4*x*y^3*z^9 + x*z^12 + z^13] False True\n",
      "14 [x^3 + y^3 + z^3, x*y^12 + y^13 + 4*x*y^9*z^3 + 6*x*y^6*z^6 + 4*x*y^3*z^9 + x*z^12 + z^13] False True\n",
      "15 [x^3 + y^3 + z^3, x*y^12 + y^13 + 4*x*y^9*z^3 + 6*x*y^6*z^6 + 4*x*y^3*z^9 + x*z^12 + z^13, x^2*y^10*z^3 - x*y^11*z^3 + 5/4*y^12*z^3 + 3/2*x^2*y^7*z^6 - 3/2*x*y^8*z^6 + 5/2*y^9*z^6 + x^2*y^4*z^9 - x*y^5*z^9 + 5/2*y^6*z^9 + 1/4*x^2*y*z^12 - 1/4*x*y^2*z^12 + 5/4*y^3*z^12 - 1/4*x^2*z^13 + 1/4*x*y*z^13 - 1/4*y^2*z^13 + 1/4*z^15] False True\n",
      "16 [x^3 + y^3 + z^3, x*y^12 + y^13 + 4*x*y^9*z^3 + 6*x*y^6*z^6 + 4*x*y^3*z^9 + x*z^12 + z^13, x^2*y^10*z^3 - x*y^11*z^3 + 5/4*y^12*z^3 + 3/2*x^2*y^7*z^6 - 3/2*x*y^8*z^6 + 5/2*y^9*z^6 + x^2*y^4*z^9 - x*y^5*z^9 + 5/2*y^6*z^9 + 1/4*x^2*y*z^12 - 1/4*x*y^2*z^12 + 5/4*y^3*z^12 - 1/4*x^2*z^13 + 1/4*x*y*z^13 - 1/4*y^2*z^13 + 1/4*z^15] False True\n",
      "17 [x^3 + y^3 + z^3, x*y^12 + y^13 + 4*x*y^9*z^3 + 6*x*y^6*z^6 + 4*x*y^3*z^9 + x*z^12 + z^13, x^2*y^10*z^3 - x*y^11*z^3 + 5/4*y^12*z^3 + 3/2*x^2*y^7*z^6 - 3/2*x*y^8*z^6 + 5/2*y^9*z^6 + x^2*y^4*z^9 - x*y^5*z^9 + 5/2*y^6*z^9 + 1/4*x^2*y*z^12 - 1/4*x*y^2*z^12 + 5/4*y^3*z^12 - 1/4*x^2*z^13 + 1/4*x*y*z^13 - 1/4*y^2*z^13 + 1/4*z^15, y^14*z^3 - 10/13*x^2*y^9*z^6 + 2*x*y^10*z^6 + 10/13*y^11*z^6 - 20/13*x^2*y^6*z^9 + 44/13*x*y^7*z^9 + 10/13*y^8*z^9 - 15/13*x^2*y^3*z^12 + 31/13*x*y^4*z^12 + 5/13*y^5*z^12 - 1/13*x^2*y^2*z^13 + 1/13*x*y^3*z^13 - 1/13*y^4*z^13 - 4/13*x^2*z^15 + 8/13*x*y*z^15 + 1/13*y^2*z^15 - 4/13*x*z^16 + 8/13*y*z^16] True True\n"
     ]
    },
    {
     "data": {
      "text/plain": [
       "(17,\n",
       " [x^3 + y^3 + z^3, x*y^12 + y^13 + 4*x*y^9*z^3 + 6*x*y^6*z^6 + 4*x*y^3*z^9 + x*z^12 + z^13, x^2*y^10*z^3 - x*y^11*z^3 + 5/4*y^12*z^3 + 3/2*x^2*y^7*z^6 - 3/2*x*y^8*z^6 + 5/2*y^9*z^6 + x^2*y^4*z^9 - x*y^5*z^9 + 5/2*y^6*z^9 + 1/4*x^2*y*z^12 - 1/4*x*y^2*z^12 + 5/4*y^3*z^12 - 1/4*x^2*z^13 + 1/4*x*y*z^13 - 1/4*y^2*z^13 + 1/4*z^15, y^14*z^3 - 10/13*x^2*y^9*z^6 + 2*x*y^10*z^6 + 10/13*y^11*z^6 - 20/13*x^2*y^6*z^9 + 44/13*x*y^7*z^9 + 10/13*y^8*z^9 - 15/13*x^2*y^3*z^12 + 31/13*x*y^4*z^12 + 5/13*y^5*z^12 - 1/13*x^2*y^2*z^13 + 1/13*x*y^3*z^13 - 1/13*y^4*z^13 - 4/13*x^2*z^15 + 8/13*x*y*z^15 + 1/13*y^2*z^15 - 4/13*x*z^16 + 8/13*y*z^16])"
      ]
     },
     "execution_count": 290,
     "metadata": {},
     "output_type": "execute_result"
    }
   ],
   "source": [
    "f5_grob([f1,f2],R)"
   ]
  },
  {
   "cell_type": "code",
   "execution_count": 291,
   "metadata": {},
   "outputs": [
    {
     "data": {
      "text/plain": [
       "14"
      ]
     },
     "execution_count": 291,
     "metadata": {},
     "output_type": "execute_result"
    }
   ],
   "source": [
    "degree_reg(I,R)"
   ]
  },
  {
   "cell_type": "code",
   "execution_count": 19,
   "metadata": {},
   "outputs": [
    {
     "name": "stdout",
     "output_type": "stream",
     "text": [
      "\n",
      " Ideal (x^3 + y^3 + z^3, x^4 + y^4 + z^4) of Multivariate Polynomial Ring in x, y, z over Rational Field\n"
     ]
    },
    {
     "ename": "NameError",
     "evalue": "name 'mac_basis' is not defined",
     "output_type": "error",
     "traceback": [
      "\u001b[0;31m---------------------------------------------------------------------------\u001b[0m",
      "\u001b[0;31mNameError\u001b[0m                                 Traceback (most recent call last)",
      "\u001b[0;32m/var/folders/zf/986s30f52c3fssnjtqpb80w00000gn/T/ipykernel_14300/3807321447.py\u001b[0m in \u001b[0;36m<module>\u001b[0;34m\u001b[0m\n\u001b[1;32m      8\u001b[0m     \u001b[0mI\u001b[0m \u001b[0;34m=\u001b[0m \u001b[0mIdeal\u001b[0m\u001b[0;34m(\u001b[0m\u001b[0mf1\u001b[0m\u001b[0;34m,\u001b[0m\u001b[0mf2\u001b[0m\u001b[0;34m)\u001b[0m\u001b[0;34m\u001b[0m\u001b[0;34m\u001b[0m\u001b[0m\n\u001b[1;32m      9\u001b[0m     \u001b[0mprint\u001b[0m\u001b[0;34m(\u001b[0m\u001b[0;34m'\\n'\u001b[0m\u001b[0;34m,\u001b[0m\u001b[0mI\u001b[0m\u001b[0;34m)\u001b[0m\u001b[0;34m\u001b[0m\u001b[0;34m\u001b[0m\u001b[0m\n\u001b[0;32m---> 10\u001b[0;31m     \u001b[0msdegs\u001b[0m\u001b[0;34m.\u001b[0m\u001b[0mappend\u001b[0m\u001b[0;34m(\u001b[0m\u001b[0mmac_grob\u001b[0m\u001b[0;34m(\u001b[0m\u001b[0;34m[\u001b[0m\u001b[0mf1\u001b[0m\u001b[0;34m,\u001b[0m\u001b[0mf2\u001b[0m\u001b[0;34m]\u001b[0m\u001b[0;34m,\u001b[0m\u001b[0mR\u001b[0m\u001b[0;34m)\u001b[0m\u001b[0;34m[\u001b[0m\u001b[0mInteger\u001b[0m\u001b[0;34m(\u001b[0m\u001b[0;36m0\u001b[0m\u001b[0;34m)\u001b[0m\u001b[0;34m]\u001b[0m\u001b[0;34m)\u001b[0m\u001b[0;34m\u001b[0m\u001b[0;34m\u001b[0m\u001b[0m\n\u001b[0m\u001b[1;32m     11\u001b[0m     \u001b[0mf5degs\u001b[0m\u001b[0;34m.\u001b[0m\u001b[0mappend\u001b[0m\u001b[0;34m(\u001b[0m\u001b[0mf5_grob\u001b[0m\u001b[0;34m(\u001b[0m\u001b[0;34m[\u001b[0m\u001b[0mf1\u001b[0m\u001b[0;34m,\u001b[0m\u001b[0mf2\u001b[0m\u001b[0;34m]\u001b[0m\u001b[0;34m,\u001b[0m\u001b[0mR\u001b[0m\u001b[0;34m)\u001b[0m\u001b[0;34m[\u001b[0m\u001b[0mInteger\u001b[0m\u001b[0;34m(\u001b[0m\u001b[0;36m0\u001b[0m\u001b[0;34m)\u001b[0m\u001b[0;34m]\u001b[0m\u001b[0;34m)\u001b[0m\u001b[0;34m\u001b[0m\u001b[0;34m\u001b[0m\u001b[0m\n\u001b[1;32m     12\u001b[0m     \u001b[0mdegregs\u001b[0m\u001b[0;34m.\u001b[0m\u001b[0mappend\u001b[0m\u001b[0;34m(\u001b[0m\u001b[0mdegree_reg\u001b[0m\u001b[0;34m(\u001b[0m\u001b[0mI\u001b[0m\u001b[0;34m,\u001b[0m\u001b[0mR\u001b[0m\u001b[0;34m)\u001b[0m\u001b[0;34m)\u001b[0m\u001b[0;34m\u001b[0m\u001b[0;34m\u001b[0m\u001b[0m\n",
      "\u001b[0;32m/var/folders/zf/986s30f52c3fssnjtqpb80w00000gn/T/ipykernel_14300/1927247776.py\u001b[0m in \u001b[0;36mmac_grob\u001b[0;34m(f, ring)\u001b[0m\n\u001b[1;32m      7\u001b[0m     \u001b[0mtest_deg\u001b[0m \u001b[0;34m=\u001b[0m \u001b[0mInteger\u001b[0m\u001b[0;34m(\u001b[0m\u001b[0;36m0\u001b[0m\u001b[0;34m)\u001b[0m\u001b[0;34m\u001b[0m\u001b[0;34m\u001b[0m\u001b[0m\n\u001b[1;32m      8\u001b[0m     \u001b[0;32mwhile\u001b[0m \u001b[0;32mTrue\u001b[0m\u001b[0;34m:\u001b[0m\u001b[0;34m\u001b[0m\u001b[0;34m\u001b[0m\u001b[0m\n\u001b[0;32m----> 9\u001b[0;31m         \u001b[0mB\u001b[0m \u001b[0;34m=\u001b[0m \u001b[0mmac_basis\u001b[0m\u001b[0;34m(\u001b[0m\u001b[0mf\u001b[0m\u001b[0;34m,\u001b[0m \u001b[0mtest_deg\u001b[0m\u001b[0;34m,\u001b[0m \u001b[0mring\u001b[0m\u001b[0;34m)\u001b[0m\u001b[0;34m\u001b[0m\u001b[0;34m\u001b[0m\u001b[0m\n\u001b[0m\u001b[1;32m     10\u001b[0m         \u001b[0mprint\u001b[0m\u001b[0;34m(\u001b[0m\u001b[0mtest_deg\u001b[0m\u001b[0;34m,\u001b[0m \u001b[0mB\u001b[0m\u001b[0;34m,\u001b[0m \u001b[0mB\u001b[0m\u001b[0;34m.\u001b[0m\u001b[0mis_groebner\u001b[0m\u001b[0;34m(\u001b[0m\u001b[0;34m)\u001b[0m\u001b[0;34m,\u001b[0m \u001b[0mideal\u001b[0m\u001b[0;34m(\u001b[0m\u001b[0mB\u001b[0m\u001b[0;34m)\u001b[0m \u001b[0;34m==\u001b[0m \u001b[0mideal\u001b[0m\u001b[0;34m(\u001b[0m\u001b[0mf\u001b[0m\u001b[0;34m)\u001b[0m\u001b[0;34m)\u001b[0m\u001b[0;34m\u001b[0m\u001b[0;34m\u001b[0m\u001b[0m\n\u001b[1;32m     11\u001b[0m         \u001b[0;32mif\u001b[0m \u001b[0mB\u001b[0m\u001b[0;34m.\u001b[0m\u001b[0mis_groebner\u001b[0m\u001b[0;34m(\u001b[0m\u001b[0;34m)\u001b[0m \u001b[0;32mand\u001b[0m \u001b[0mideal\u001b[0m\u001b[0;34m(\u001b[0m\u001b[0mB\u001b[0m\u001b[0;34m)\u001b[0m \u001b[0;34m==\u001b[0m \u001b[0mideal\u001b[0m\u001b[0;34m(\u001b[0m\u001b[0mf\u001b[0m\u001b[0;34m)\u001b[0m\u001b[0;34m:\u001b[0m\u001b[0;34m\u001b[0m\u001b[0;34m\u001b[0m\u001b[0m\n",
      "\u001b[0;31mNameError\u001b[0m: name 'mac_basis' is not defined"
     ]
    }
   ],
   "source": [
    "R.<x,y,z> = PolynomialRing(QQ, order = 'degrevlex')\n",
    "sdegs = []\n",
    "f5degs = []\n",
    "degregs = []\n",
    "for i in range(4,25):\n",
    "    f1 = x^3 + y^3 + z^3\n",
    "    f2 = x^i + y^i + z^i\n",
    "    I = Ideal(f1,f2)\n",
    "    print('\\n',I)\n",
    "    sdegs.append(mac_grob([f1,f2],R)[0])\n",
    "    f5degs.append(f5_grob([f1,f2],R)[0])\n",
    "    degregs.append(degree_reg(I,R))\n",
    "print('\\n', \"Results:\", '\\n', sdegs, '\\n', f5degs, '\\n', degregs)"
   ]
  },
  {
   "cell_type": "code",
   "execution_count": 301,
   "metadata": {},
   "outputs": [
    {
     "data": {
      "text/plain": [
       "(t^2 + t + 1)/(t^2 - 2*t + 1)"
      ]
     },
     "execution_count": 301,
     "metadata": {},
     "output_type": "execute_result"
    }
   ],
   "source": [
    "hilbert_poincare_series(I)"
   ]
  },
  {
   "cell_type": "code",
   "execution_count": 359,
   "metadata": {},
   "outputs": [
    {
     "name": "stdout",
     "output_type": "stream",
     "text": [
      "\n",
      " Ideal (x^4 + x*y^3 + y^3*z, x^5 + y^5 + z^5) of Multivariate Polynomial Ring in x, y, z over Rational Field\n",
      "0 [0] True False\n",
      "1 [0] True False\n",
      "2 [0] True False\n",
      "3 [0] True False\n",
      "4 [x^4 + x*y^3 + y^3*z] True False\n",
      "5 [x^5 + y^5 + z^5, x^4*y + x*y^4 + y^4*z, x^2*y^3 - y^5 + x*y^3*z - z^5, x^4*z + x*y^3*z + y^3*z^2, x^4 + x*y^3 + y^3*z] False True\n",
      "6 [x^6 + x*y^5 + x*z^5, x^5*y + y^6 + y*z^5, x^4*y^2 + x*y^5 + y^5*z, x^3*y^3 - x*y^5 + y^5*z - x*y^3*z^2 - x*z^5 + z^6, x^2*y^4 - y^6 + x*y^4*z - y*z^5, x^5*z + y^5*z + z^6, x^4*y*z + x*y^4*z + y^4*z^2, x^2*y^3*z - y^5*z + x*y^3*z^2 - z^6, x^4*z^2 + x*y^3*z^2 + y^3*z^3, x^5 + y^5 + z^5, x^4*y + x*y^4 + y^4*z, x^2*y^3 - y^5 + x*y^3*z - z^5, x^4*z + x*y^3*z + y^3*z^2, x^4 + x*y^3 + y^3*z] False True\n",
      "7 Polynomial Sequence with 30 Polynomials in 3 Variables False True\n",
      "8 Polynomial Sequence with 55 Polynomials in 3 Variables True True\n",
      "4 [x^4 + x*y^3 + y^3*z] True False\n",
      "5 [x^4 + x*y^3 + y^3*z, x^2*y^3 - y^5 + x*y^3*z - z^5] False True\n",
      "6 [x^4 + x*y^3 + y^3*z, x^2*y^3 - y^5 + x*y^3*z - z^5] False True\n",
      "7 [x^4 + x*y^3 + y^3*z, x^2*y^3 - y^5 + x*y^3*z - z^5, x*y^6 + y^7 - 2*x*y^5*z + y^6*z + y^5*z^2 - x*y^3*z^3 + x^2*z^5 + y^2*z^5 - x*z^6 + z^7] False True\n",
      "8 [x^4 + x*y^3 + y^3*z, x^2*y^3 - y^5 + x*y^3*z - z^5, x*y^6 + y^7 - 2*x*y^5*z + y^6*z + y^5*z^2 - x*y^3*z^3 + x^2*z^5 + y^2*z^5 - x*z^6 + z^7, y^7*z - 7/5*x*y^5*z^2 + 3/5*y^6*z^2 - 1/5*x*y^4*z^3 + 3/5*y^5*z^3 - 3/5*x*y^3*z^4 - 1/5*x^3*z^5 + 1/5*x^2*y*z^5 - 1/5*x*y^2*z^5 + 3/5*x^2*z^6 - 1/5*x*y*z^6 + 4/5*y^2*z^6 - 3/5*x*z^7 + 1/5*y*z^7 + 3/5*z^8] True True\n",
      "\n",
      " Ideal (x^4 + x*y^3 + y^3*z, x^6 + y^6 + z^6) of Multivariate Polynomial Ring in x, y, z over Rational Field\n",
      "0 [0] True False\n",
      "1 [0] True False\n",
      "2 [0] True False\n",
      "3 [0] True False\n",
      "4 [x^4 + x*y^3 + y^3*z] True False\n",
      "5 [x^5 + x^2*y^3 + x*y^3*z, x^4*y + x*y^4 + y^4*z, x^4*z + x*y^3*z + y^3*z^2, x^4 + x*y^3 + y^3*z] True False\n",
      "6 [x^6 + y^6 + z^6, x^5*y + x^2*y^4 + x*y^4*z, x^4*y^2 + x*y^5 + y^5*z, x^3*y^3 - y^6 + x^2*y^3*z - z^6, x^5*z + x^2*y^3*z + x*y^3*z^2, x^4*y*z + x*y^4*z + y^4*z^2, x^4*z^2 + x*y^3*z^2 + y^3*z^3, x^5 + x^2*y^3 + x*y^3*z, x^4*y + x*y^4 + y^4*z, x^4*z + x*y^3*z + y^3*z^2, x^4 + x*y^3 + y^3*z] False True\n",
      "7 Polynomial Sequence with 24 Polynomials in 3 Variables False True\n",
      "8 Polynomial Sequence with 45 Polynomials in 3 Variables False True\n",
      "9 Polynomial Sequence with 76 Polynomials in 3 Variables True True\n",
      "4 [x^4 + x*y^3 + y^3*z] True False\n",
      "5 [x^4 + x*y^3 + y^3*z] True False\n",
      "6 [x^4 + x*y^3 + y^3*z, x^3*y^3 - y^6 + x^2*y^3*z - z^6] False True\n",
      "7 [x^4 + x*y^3 + y^3*z, x^3*y^3 - y^6 + x^2*y^3*z - z^6, x*y^6 + 1/2*x^2*y^3*z^2 + 1/2*x*z^6 - 1/2*z^7] False True\n",
      "8 [x^4 + x*y^3 + y^3*z, x^3*y^3 - y^6 + x^2*y^3*z - z^6, x*y^6 + 1/2*x^2*y^3*z^2 + 1/2*x*z^6 - 1/2*z^7] False True\n",
      "9 [x^4 + x*y^3 + y^3*z, x^3*y^3 - y^6 + x^2*y^3*z - z^6, x*y^6 + 1/2*x^2*y^3*z^2 + 1/2*x*z^6 - 1/2*z^7, y^9 - 1/4*x^2*y^3*z^4 + 1/2*x^3*z^6 + y^3*z^6 - 1/4*x*z^8 + 1/4*z^9] True True\n",
      "\n",
      " Ideal (x^4 + x*y^3 + y^3*z, x^7 + y^7 + z^7) of Multivariate Polynomial Ring in x, y, z over Rational Field\n",
      "0 [0] True False\n",
      "1 [0] True False\n",
      "2 [0] True False\n",
      "3 [0] True False\n",
      "4 [x^4 + x*y^3 + y^3*z] True False\n",
      "5 [x^5 + x^2*y^3 + x*y^3*z, x^4*y + x*y^4 + y^4*z, x^4*z + x*y^3*z + y^3*z^2, x^4 + x*y^3 + y^3*z] True False\n",
      "6 [x^6 + x^3*y^3 + x^2*y^3*z, x^5*y + x^2*y^4 + x*y^4*z, x^4*y^2 + x*y^5 + y^5*z, x^5*z + x^2*y^3*z + x*y^3*z^2, x^4*y*z + x*y^4*z + y^4*z^2, x^4*z^2 + x*y^3*z^2 + y^3*z^3, x^5 + x^2*y^3 + x*y^3*z, x^4*y + x*y^4 + y^4*z, x^4*z + x*y^3*z + y^3*z^2, x^4 + x*y^3 + y^3*z] True False\n",
      "7 Polynomial Sequence with 21 Polynomials in 3 Variables False True\n",
      "8 Polynomial Sequence with 39 Polynomials in 3 Variables False True\n",
      "9 Polynomial Sequence with 66 Polynomials in 3 Variables False True\n",
      "10 Polynomial Sequence with 104 Polynomials in 3 Variables True True\n",
      "4 [x^4 + x*y^3 + y^3*z] True False\n",
      "5 [x^4 + x*y^3 + y^3*z] True False\n",
      "6 [x^4 + x*y^3 + y^3*z] True False\n",
      "7 [x^4 + x*y^3 + y^3*z, x*y^6 + y^7 - x^3*y^3*z + y^6*z + z^7] False True\n",
      "8 [x^4 + x*y^3 + y^3*z, x*y^6 + y^7 - x^3*y^3*z + y^6*z + z^7] False True\n",
      "9 [x^4 + x*y^3 + y^3*z, x*y^6 + y^7 - x^3*y^3*z + y^6*z + z^7] False True\n",
      "10 [x^4 + x*y^3 + y^3*z, x*y^6 + y^7 - x^3*y^3*z + y^6*z + z^7, y^9*z - 6/7*x^3*y^5*z^2 + 15/7*y^8*z^2 - 10/7*x^3*y^4*z^3 + 10/7*y^7*z^3 - 4/7*x^3*y^3*z^4 + 1/7*y^6*z^4 - 1/7*x^3*z^7 + 1/7*x^2*y*z^7 - 1/7*x*y^2*z^7 + 2/7*x^2*z^8 - 4/7*x*y*z^8 + 6/7*y^2*z^8 - 3/7*x*z^9 + 10/7*y*z^9 + 4/7*z^10] True True\n",
      "\n",
      " Ideal (x^4 + x*y^3 + y^3*z, x^8 + y^8 + z^8) of Multivariate Polynomial Ring in x, y, z over Rational Field\n",
      "0 [0] True False\n",
      "1 [0] True False\n",
      "2 [0] True False\n",
      "3 [0] True False\n",
      "4 [x^4 + x*y^3 + y^3*z] True False\n",
      "5 [x^5 + x^2*y^3 + x*y^3*z, x^4*y + x*y^4 + y^4*z, x^4*z + x*y^3*z + y^3*z^2, x^4 + x*y^3 + y^3*z] True False\n",
      "6 [x^6 + x^3*y^3 + x^2*y^3*z, x^5*y + x^2*y^4 + x*y^4*z, x^4*y^2 + x*y^5 + y^5*z, x^5*z + x^2*y^3*z + x*y^3*z^2, x^4*y*z + x*y^4*z + y^4*z^2, x^4*z^2 + x*y^3*z^2 + y^3*z^3, x^5 + x^2*y^3 + x*y^3*z, x^4*y + x*y^4 + y^4*z, x^4*z + x*y^3*z + y^3*z^2, x^4 + x*y^3 + y^3*z] True False\n",
      "7 Polynomial Sequence with 20 Polynomials in 3 Variables True False\n",
      "8 Polynomial Sequence with 36 Polynomials in 3 Variables False True\n",
      "9 Polynomial Sequence with 60 Polynomials in 3 Variables False True\n",
      "10 Polynomial Sequence with 94 Polynomials in 3 Variables False True\n",
      "11 Polynomial Sequence with 140 Polynomials in 3 Variables True True\n",
      "4 [x^4 + x*y^3 + y^3*z] True False\n",
      "5 [x^4 + x*y^3 + y^3*z] True False\n",
      "6 [x^4 + x*y^3 + y^3*z] True False\n",
      "7 [x^4 + x*y^3 + y^3*z] True False\n",
      "8 [x^4 + x*y^3 + y^3*z, x^2*y^6 + y^8 + 2*x*y^6*z + y^6*z^2 + z^8] False True\n",
      "9 [x^4 + x*y^3 + y^3*z, x^2*y^6 + y^8 + 2*x*y^6*z + y^6*z^2 + z^8] False True\n",
      "10 [x^4 + x*y^3 + y^3*z, x^2*y^6 + y^8 + 2*x*y^6*z + y^6*z^2 + z^8, x*y^9 + y^10 + 4*x*y^8*z + y^9*z - 2*y^8*z^2 - 4*x*y^6*z^3 - 3*y^6*z^4 - x^2*z^8 + y^2*z^8 + 2*x*z^9 - 3*z^10] False True\n",
      "11 [x^4 + x*y^3 + y^3*z, x^2*y^6 + y^8 + 2*x*y^6*z + y^6*z^2 + z^8, x*y^9 + y^10 + 4*x*y^8*z + y^9*z - 2*y^8*z^2 - 4*x*y^6*z^3 - 3*y^6*z^4 - x^2*z^8 + y^2*z^8 + 2*x*z^9 - 3*z^10, y^11 - 5*x*y^8*z^2 - 3*y^9*z^2 - 2*x*y^7*z^3 + 5*y^8*z^3 + 15/2*x*y^6*z^4 - 3/2*y^7*z^4 + 11/2*y^6*z^5 + 1/2*x^3*z^8 - 1/2*x^2*y*z^8 - 1/2*x*y^2*z^8 + y^3*z^8 + 3/2*x^2*z^9 + x*y*z^9 - 1/2*y^2*z^9 - 7/2*x*z^10 - 3/2*y*z^10 + 11/2*z^11] True True\n",
      "\n",
      " Ideal (x^4 + x*y^3 + y^3*z, x^9 + y^9 + z^9) of Multivariate Polynomial Ring in x, y, z over Rational Field\n",
      "0 [0] True False\n",
      "1 [0] True False\n",
      "2 [0] True False\n",
      "3 [0] True False\n",
      "4 [x^4 + x*y^3 + y^3*z] True False\n",
      "5 [x^5 + x^2*y^3 + x*y^3*z, x^4*y + x*y^4 + y^4*z, x^4*z + x*y^3*z + y^3*z^2, x^4 + x*y^3 + y^3*z] True False\n",
      "6 [x^6 + x^3*y^3 + x^2*y^3*z, x^5*y + x^2*y^4 + x*y^4*z, x^4*y^2 + x*y^5 + y^5*z, x^5*z + x^2*y^3*z + x*y^3*z^2, x^4*y*z + x*y^4*z + y^4*z^2, x^4*z^2 + x*y^3*z^2 + y^3*z^3, x^5 + x^2*y^3 + x*y^3*z, x^4*y + x*y^4 + y^4*z, x^4*z + x*y^3*z + y^3*z^2, x^4 + x*y^3 + y^3*z] True False\n",
      "7 Polynomial Sequence with 20 Polynomials in 3 Variables True False\n",
      "8 Polynomial Sequence with 35 Polynomials in 3 Variables True False\n",
      "9 Polynomial Sequence with 57 Polynomials in 3 Variables False True\n",
      "10 Polynomial Sequence with 88 Polynomials in 3 Variables True True\n",
      "4 [x^4 + x*y^3 + y^3*z] True False\n",
      "5 [x^4 + x*y^3 + y^3*z] True False\n",
      "6 [x^4 + x*y^3 + y^3*z] True False\n",
      "7 [x^4 + x*y^3 + y^3*z] True False\n",
      "8 [x^4 + x*y^3 + y^3*z] True False\n",
      "9 [x^4 + x*y^3 + y^3*z, x^3*y^6 + y^9 + 2*x^2*y^6*z + x*y^6*z^2 + z^9] False True\n",
      "10 [x^4 + x*y^3 + y^3*z, x^3*y^6 + y^9 + 2*x^2*y^6*z + x*y^6*z^2 + z^9, y^9*z + x^2*y^6*z^2 + 2/3*x*y^6*z^3 - 1/3*x*z^9 + 2/3*z^10] True True\n",
      "\n",
      " Ideal (x^4 + x*y^3 + y^3*z, x^10 + y^10 + z^10) of Multivariate Polynomial Ring in x, y, z over Rational Field\n",
      "0 [0] True False\n",
      "1 [0] True False\n",
      "2 [0] True False\n",
      "3 [0] True False\n",
      "4 [x^4 + x*y^3 + y^3*z] True False\n",
      "5 [x^5 + x^2*y^3 + x*y^3*z, x^4*y + x*y^4 + y^4*z, x^4*z + x*y^3*z + y^3*z^2, x^4 + x*y^3 + y^3*z] True False\n",
      "6 [x^6 + x^3*y^3 + x^2*y^3*z, x^5*y + x^2*y^4 + x*y^4*z, x^4*y^2 + x*y^5 + y^5*z, x^5*z + x^2*y^3*z + x*y^3*z^2, x^4*y*z + x*y^4*z + y^4*z^2, x^4*z^2 + x*y^3*z^2 + y^3*z^3, x^5 + x^2*y^3 + x*y^3*z, x^4*y + x*y^4 + y^4*z, x^4*z + x*y^3*z + y^3*z^2, x^4 + x*y^3 + y^3*z] True False\n",
      "7 Polynomial Sequence with 20 Polynomials in 3 Variables True False\n",
      "8 Polynomial Sequence with 35 Polynomials in 3 Variables True False\n",
      "9 Polynomial Sequence with 56 Polynomials in 3 Variables True False\n"
     ]
    },
    {
     "name": "stdout",
     "output_type": "stream",
     "text": [
      "10 Polynomial Sequence with 85 Polynomials in 3 Variables False True\n",
      "11 Polynomial Sequence with 124 Polynomials in 3 Variables False True\n",
      "12 Polynomial Sequence with 175 Polynomials in 3 Variables False True\n",
      "13 Polynomial Sequence with 240 Polynomials in 3 Variables True True\n",
      "4 [x^4 + x*y^3 + y^3*z] True False\n",
      "5 [x^4 + x*y^3 + y^3*z] True False\n",
      "6 [x^4 + x*y^3 + y^3*z] True False\n",
      "7 [x^4 + x*y^3 + y^3*z] True False\n",
      "8 [x^4 + x*y^3 + y^3*z] True False\n",
      "9 [x^4 + x*y^3 + y^3*z] True False\n",
      "10 [x^4 + x*y^3 + y^3*z, x*y^9 - y^10 - 2*x^3*y^6*z + y^9*z - x^2*y^6*z^2 - z^10] False True\n",
      "11 [x^4 + x*y^3 + y^3*z, x*y^9 - y^10 - 2*x^3*y^6*z + y^9*z - x^2*y^6*z^2 - z^10] False True\n",
      "12 [x^4 + x*y^3 + y^3*z, x*y^9 - y^10 - 2*x^3*y^6*z + y^9*z - x^2*y^6*z^2 - z^10] False True\n",
      "13 [x^4 + x*y^3 + y^3*z, x*y^9 - y^10 - 2*x^3*y^6*z + y^9*z - x^2*y^6*z^2 - z^10, y^13 - 3*y^12*z - 9/2*x^3*y^8*z^2 + y^11*z^2 - 2*x^3*y^7*z^3 - 5/2*x^2*y^8*z^3 + 6*y^10*z^3 + 6*x^3*y^6*z^4 - 1/2*x^2*y^7*z^4 - 1/2*y^9*z^4 + 4*x^2*y^6*z^5 + 1/2*x^3*z^10 + 1/2*x^2*y*z^10 + 1/2*x*y^2*z^10 + y^3*z^10 + 1/2*x^2*z^11 - x*y*z^11 - 5/2*y^2*z^11 - 2*x*z^12 - 1/2*y*z^12 + 4*z^13] True True\n",
      "\n",
      " Ideal (x^4 + x*y^3 + y^3*z, x^11 + y^11 + z^11) of Multivariate Polynomial Ring in x, y, z over Rational Field\n",
      "0 [0] True False\n",
      "1 [0] True False\n",
      "2 [0] True False\n",
      "3 [0] True False\n",
      "4 [x^4 + x*y^3 + y^3*z] True False\n",
      "5 [x^5 + x^2*y^3 + x*y^3*z, x^4*y + x*y^4 + y^4*z, x^4*z + x*y^3*z + y^3*z^2, x^4 + x*y^3 + y^3*z] True False\n",
      "6 [x^6 + x^3*y^3 + x^2*y^3*z, x^5*y + x^2*y^4 + x*y^4*z, x^4*y^2 + x*y^5 + y^5*z, x^5*z + x^2*y^3*z + x*y^3*z^2, x^4*y*z + x*y^4*z + y^4*z^2, x^4*z^2 + x*y^3*z^2 + y^3*z^3, x^5 + x^2*y^3 + x*y^3*z, x^4*y + x*y^4 + y^4*z, x^4*z + x*y^3*z + y^3*z^2, x^4 + x*y^3 + y^3*z] True False\n",
      "7 Polynomial Sequence with 20 Polynomials in 3 Variables True False\n",
      "8 Polynomial Sequence with 35 Polynomials in 3 Variables True False\n",
      "9 Polynomial Sequence with 56 Polynomials in 3 Variables True False\n",
      "10 Polynomial Sequence with 84 Polynomials in 3 Variables True False\n",
      "11 Polynomial Sequence with 121 Polynomials in 3 Variables False True\n",
      "12 Polynomial Sequence with 169 Polynomials in 3 Variables False True\n",
      "13 Polynomial Sequence with 230 Polynomials in 3 Variables False True\n",
      "14 Polynomial Sequence with 306 Polynomials in 3 Variables True True\n",
      "4 [x^4 + x*y^3 + y^3*z] True False\n",
      "5 [x^4 + x*y^3 + y^3*z] True False\n",
      "6 [x^4 + x*y^3 + y^3*z] True False\n",
      "7 [x^4 + x*y^3 + y^3*z] True False\n",
      "8 [x^4 + x*y^3 + y^3*z] True False\n",
      "9 [x^4 + x*y^3 + y^3*z] True False\n",
      "10 [x^4 + x*y^3 + y^3*z] True False\n",
      "11 [x^4 + x*y^3 + y^3*z, x^2*y^9 - y^11 + 3*x*y^9*z - x^3*y^6*z^2 + 2*y^9*z^2 - z^11] False True\n",
      "12 [x^4 + x*y^3 + y^3*z, x^2*y^9 - y^11 + 3*x*y^9*z - x^3*y^6*z^2 + 2*y^9*z^2 - z^11] False True\n",
      "13 [x^4 + x*y^3 + y^3*z, x^2*y^9 - y^11 + 3*x*y^9*z - x^3*y^6*z^2 + 2*y^9*z^2 - z^11, x*y^12 + y^13 - 6*x*y^11*z + y^12*z + x^3*y^8*z^2 + 4*y^11*z^2 - 10*x*y^9*z^3 + 6*x^3*y^6*z^4 - 9*y^9*z^4 + x^2*z^11 + y^2*z^11 - 3*x*z^12 + 6*z^13] False True\n",
      "14 [x^4 + x*y^3 + y^3*z, x^2*y^9 - y^11 + 3*x*y^9*z - x^3*y^6*z^2 + 2*y^9*z^2 - z^11, x*y^12 + y^13 - 6*x*y^11*z + y^12*z + x^3*y^8*z^2 + 4*y^11*z^2 - 10*x*y^9*z^3 + 6*x^3*y^6*z^4 - 9*y^9*z^4 + x^2*z^11 + y^2*z^11 - 3*x*z^12 + 6*z^13, y^13*z - 45/11*x*y^11*z^2 + 10/11*y^12*z^2 + 10/11*x^3*y^8*z^3 - 10/11*x*y^10*z^3 + 15/11*y^11*z^3 + 6/11*x^3*y^7*z^4 - 5*x*y^9*z^4 - 9/11*y^10*z^4 + 34/11*x^3*y^6*z^5 - 50/11*y^9*z^5 - 1/11*x^3*z^11 + 1/11*x^2*y*z^11 - 1/11*x*y^2*z^11 + 7/11*x^2*z^12 - 3/11*x*y*z^12 + 10/11*y^2*z^12 - 18/11*x*z^13 + 6/11*y*z^13 + 34/11*z^14] True True\n",
      "\n",
      " Ideal (x^4 + x*y^3 + y^3*z, x^12 + y^12 + z^12) of Multivariate Polynomial Ring in x, y, z over Rational Field\n",
      "0 [0] True False\n",
      "1 [0] True False\n",
      "2 [0] True False\n",
      "3 [0] True False\n",
      "4 [x^4 + x*y^3 + y^3*z] True False\n",
      "5 [x^5 + x^2*y^3 + x*y^3*z, x^4*y + x*y^4 + y^4*z, x^4*z + x*y^3*z + y^3*z^2, x^4 + x*y^3 + y^3*z] True False\n",
      "6 [x^6 + x^3*y^3 + x^2*y^3*z, x^5*y + x^2*y^4 + x*y^4*z, x^4*y^2 + x*y^5 + y^5*z, x^5*z + x^2*y^3*z + x*y^3*z^2, x^4*y*z + x*y^4*z + y^4*z^2, x^4*z^2 + x*y^3*z^2 + y^3*z^3, x^5 + x^2*y^3 + x*y^3*z, x^4*y + x*y^4 + y^4*z, x^4*z + x*y^3*z + y^3*z^2, x^4 + x*y^3 + y^3*z] True False\n",
      "7 Polynomial Sequence with 20 Polynomials in 3 Variables True False\n",
      "8 Polynomial Sequence with 35 Polynomials in 3 Variables True False\n",
      "9 Polynomial Sequence with 56 Polynomials in 3 Variables True False\n",
      "10 Polynomial Sequence with 84 Polynomials in 3 Variables True False\n",
      "11 Polynomial Sequence with 120 Polynomials in 3 Variables True False\n",
      "12 Polynomial Sequence with 166 Polynomials in 3 Variables False True\n",
      "13 Polynomial Sequence with 224 Polynomials in 3 Variables False True\n",
      "14 Polynomial Sequence with 296 Polynomials in 3 Variables False True\n",
      "15 Polynomial Sequence with 384 Polynomials in 3 Variables True True\n",
      "4 [x^4 + x*y^3 + y^3*z] True False\n",
      "5 [x^4 + x*y^3 + y^3*z] True False\n",
      "6 [x^4 + x*y^3 + y^3*z] True False\n",
      "7 [x^4 + x*y^3 + y^3*z] True False\n",
      "8 [x^4 + x*y^3 + y^3*z] True False\n",
      "9 [x^4 + x*y^3 + y^3*z] True False\n",
      "10 [x^4 + x*y^3 + y^3*z] True False\n",
      "11 [x^4 + x*y^3 + y^3*z] True False\n",
      "12 [x^4 + x*y^3 + y^3*z, x^3*y^9 - y^12 + 3*x^2*y^9*z + 3*x*y^9*z^2 + y^9*z^3 - z^12] False True\n",
      "13 [x^4 + x*y^3 + y^3*z, x^3*y^9 - y^12 + 3*x^2*y^9*z + 3*x*y^9*z^2 + y^9*z^3 - z^12, x*y^12 - y^12*z + 3*x^2*y^9*z^2 + 4*x*y^9*z^3 + 3/2*y^9*z^4 + 1/2*x*z^12 - 3/2*z^13] False True\n",
      "14 [x^4 + x*y^3 + y^3*z, x^3*y^9 - y^12 + 3*x^2*y^9*z + 3*x*y^9*z^2 + y^9*z^3 - z^12, x*y^12 - y^12*z + 3*x^2*y^9*z^2 + 4*x*y^9*z^3 + 3/2*y^9*z^4 + 1/2*x*z^12 - 3/2*z^13] False True\n",
      "15 [x^4 + x*y^3 + y^3*z, x^3*y^9 - y^12 + 3*x^2*y^9*z + 3*x*y^9*z^2 + y^9*z^3 - z^12, x*y^12 - y^12*z + 3*x^2*y^9*z^2 + 4*x*y^9*z^3 + 3/2*y^9*z^4 + 1/2*x*z^12 - 3/2*z^13, y^15 + 2*y^12*z^3 - 1/2*x^2*y^9*z^4 - 2*x*y^9*z^5 - y^9*z^6 + 1/2*x^3*z^12 + y^3*z^12 + 1/2*x^2*z^13 - x*z^14 + z^15] True True\n",
      "\n",
      " Ideal (x^4 + x*y^3 + y^3*z, x^13 + y^13 + z^13) of Multivariate Polynomial Ring in x, y, z over Rational Field\n",
      "0 [0] True False\n",
      "1 [0] True False\n",
      "2 [0] True False\n",
      "3 [0] True False\n",
      "4 [x^4 + x*y^3 + y^3*z] True False\n",
      "5 [x^5 + x^2*y^3 + x*y^3*z, x^4*y + x*y^4 + y^4*z, x^4*z + x*y^3*z + y^3*z^2, x^4 + x*y^3 + y^3*z] True False\n",
      "6 [x^6 + x^3*y^3 + x^2*y^3*z, x^5*y + x^2*y^4 + x*y^4*z, x^4*y^2 + x*y^5 + y^5*z, x^5*z + x^2*y^3*z + x*y^3*z^2, x^4*y*z + x*y^4*z + y^4*z^2, x^4*z^2 + x*y^3*z^2 + y^3*z^3, x^5 + x^2*y^3 + x*y^3*z, x^4*y + x*y^4 + y^4*z, x^4*z + x*y^3*z + y^3*z^2, x^4 + x*y^3 + y^3*z] True False\n",
      "7 Polynomial Sequence with 20 Polynomials in 3 Variables True False\n",
      "8 Polynomial Sequence with 35 Polynomials in 3 Variables True False\n",
      "9 Polynomial Sequence with 56 Polynomials in 3 Variables True False\n",
      "10 Polynomial Sequence with 84 Polynomials in 3 Variables True False\n",
      "11 Polynomial Sequence with 120 Polynomials in 3 Variables True False\n",
      "12 Polynomial Sequence with 165 Polynomials in 3 Variables True False\n",
      "13 Polynomial Sequence with 221 Polynomials in 3 Variables False True\n",
      "14 Polynomial Sequence with 290 Polynomials in 3 Variables False True\n",
      "15 Polynomial Sequence with 374 Polynomials in 3 Variables False True\n",
      "16 Polynomial Sequence with 475 Polynomials in 3 Variables True True\n",
      "4 [x^4 + x*y^3 + y^3*z] True False\n",
      "5 [x^4 + x*y^3 + y^3*z] True False\n",
      "6 [x^4 + x*y^3 + y^3*z] True False\n",
      "7 [x^4 + x*y^3 + y^3*z] True False\n",
      "8 [x^4 + x*y^3 + y^3*z] True False\n",
      "9 [x^4 + x*y^3 + y^3*z] True False\n",
      "10 [x^4 + x*y^3 + y^3*z] True False\n",
      "11 [x^4 + x*y^3 + y^3*z] True False\n",
      "12 [x^4 + x*y^3 + y^3*z] True False\n",
      "13 [x^4 + x*y^3 + y^3*z, x*y^12 + y^13 - 3*x^3*y^9*z + y^12*z - 3*x^2*y^9*z^2 - x*y^9*z^3 + z^13] False True\n",
      "14 [x^4 + x*y^3 + y^3*z, x*y^12 + y^13 - 3*x^3*y^9*z + y^12*z - 3*x^2*y^9*z^2 - x*y^9*z^3 + z^13] False True\n",
      "15 [x^4 + x*y^3 + y^3*z, x*y^12 + y^13 - 3*x^3*y^9*z + y^12*z - 3*x^2*y^9*z^2 - x*y^9*z^3 + z^13] False True\n",
      "16 [x^4 + x*y^3 + y^3*z, x*y^12 + y^13 - 3*x^3*y^9*z + y^12*z - 3*x^2*y^9*z^2 - x*y^9*z^3 + z^13, y^15*z - 33/13*x^3*y^11*z^2 + 45/13*y^14*z^2 - 85/13*x^3*y^10*z^3 - 35/13*x^2*y^11*z^3 + 35/13*y^13*z^3 - 34/13*x^3*y^9*z^4 - 100/13*x^2*y^10*z^4 - 12/13*x*y^11*z^4 + 1/13*y^12*z^4 - 50/13*x^2*y^9*z^5 - 36/13*x*y^10*z^5 - 20/13*x*y^9*z^6 - 1/13*x^3*z^13 + 1/13*x^2*y*z^13 - 1/13*x*y^2*z^13 + 4/13*x^2*z^14 - 8/13*x*y*z^14 + 12/13*y^2*z^14 - 10/13*x*z^15 + 36/13*y*z^15 + 20/13*z^16] True True\n",
      "\n",
      " Ideal (x^4 + x*y^3 + y^3*z, x^14 + y^14 + z^14) of Multivariate Polynomial Ring in x, y, z over Rational Field\n",
      "0 [0] True False\n",
      "1 [0] True False\n",
      "2 [0] True False\n",
      "3 [0] True False\n",
      "4 [x^4 + x*y^3 + y^3*z] True False\n",
      "5 [x^5 + x^2*y^3 + x*y^3*z, x^4*y + x*y^4 + y^4*z, x^4*z + x*y^3*z + y^3*z^2, x^4 + x*y^3 + y^3*z] True False\n",
      "6 [x^6 + x^3*y^3 + x^2*y^3*z, x^5*y + x^2*y^4 + x*y^4*z, x^4*y^2 + x*y^5 + y^5*z, x^5*z + x^2*y^3*z + x*y^3*z^2, x^4*y*z + x*y^4*z + y^4*z^2, x^4*z^2 + x*y^3*z^2 + y^3*z^3, x^5 + x^2*y^3 + x*y^3*z, x^4*y + x*y^4 + y^4*z, x^4*z + x*y^3*z + y^3*z^2, x^4 + x*y^3 + y^3*z] True False\n",
      "7 Polynomial Sequence with 20 Polynomials in 3 Variables True False\n",
      "8 Polynomial Sequence with 35 Polynomials in 3 Variables True False\n",
      "9 Polynomial Sequence with 56 Polynomials in 3 Variables True False\n"
     ]
    },
    {
     "name": "stdout",
     "output_type": "stream",
     "text": [
      "10 Polynomial Sequence with 84 Polynomials in 3 Variables True False\n",
      "11 Polynomial Sequence with 120 Polynomials in 3 Variables True False\n",
      "12 Polynomial Sequence with 165 Polynomials in 3 Variables True False\n",
      "13 Polynomial Sequence with 220 Polynomials in 3 Variables True False\n",
      "14 Polynomial Sequence with 287 Polynomials in 3 Variables False True\n",
      "15 Polynomial Sequence with 368 Polynomials in 3 Variables False True\n",
      "16 Polynomial Sequence with 465 Polynomials in 3 Variables False True\n",
      "17 Polynomial Sequence with 580 Polynomials in 3 Variables True True\n",
      "4 [x^4 + x*y^3 + y^3*z] True False\n",
      "5 [x^4 + x*y^3 + y^3*z] True False\n",
      "6 [x^4 + x*y^3 + y^3*z] True False\n",
      "7 [x^4 + x*y^3 + y^3*z] True False\n",
      "8 [x^4 + x*y^3 + y^3*z] True False\n",
      "9 [x^4 + x*y^3 + y^3*z] True False\n",
      "10 [x^4 + x*y^3 + y^3*z] True False\n",
      "11 [x^4 + x*y^3 + y^3*z] True False\n",
      "12 [x^4 + x*y^3 + y^3*z] True False\n",
      "13 [x^4 + x*y^3 + y^3*z] True False\n",
      "14 [x^4 + x*y^3 + y^3*z, x^2*y^12 + y^14 + 4*x*y^12*z - 3*x^3*y^9*z^2 + 3*y^12*z^2 - x^2*y^9*z^3 + z^14] False True\n",
      "15 [x^4 + x*y^3 + y^3*z, x^2*y^12 + y^14 + 4*x*y^12*z - 3*x^3*y^9*z^2 + 3*y^12*z^2 - x^2*y^9*z^3 + z^14] False True\n",
      "16 [x^4 + x*y^3 + y^3*z, x^2*y^12 + y^14 + 4*x*y^12*z - 3*x^3*y^9*z^2 + 3*y^12*z^2 - x^2*y^9*z^3 + z^14, x*y^15 + y^16 + 8*x*y^14*z + y^15*z - 3*x^3*y^11*z^2 - 7*y^14*z^2 - x^2*y^11*z^3 - 20*x*y^12*z^3 + 26*x^3*y^9*z^4 - 19*y^12*z^4 + 10*x^2*y^9*z^5 - x^2*z^14 + y^2*z^14 + 4*x*z^15 - 10*z^16] False True\n",
      "17 [x^4 + x*y^3 + y^3*z, x^2*y^12 + y^14 + 4*x*y^12*z - 3*x^3*y^9*z^2 + 3*y^12*z^2 - x^2*y^9*z^3 + z^14, x*y^15 + y^16 + 8*x*y^14*z + y^15*z - 3*x^3*y^11*z^2 - 7*y^14*z^2 - x^2*y^11*z^3 - 20*x*y^12*z^3 + 26*x^3*y^9*z^4 - 19*y^12*z^4 + 10*x^2*y^9*z^5 - x^2*z^14 + y^2*z^14 + 4*x*z^15 - 10*z^16, y^17 - y^16*z - 23*x*y^14*z^2 - 15/2*y^15*z^2 + 5*x^3*y^11*z^3 - 10*x*y^13*z^3 + 28*y^14*z^3 + 13*x^3*y^10*z^4 + 3/2*x^2*y^11*z^4 + 133/2*x*y^12*z^4 - 19/2*y^13*z^4 - 88*x^3*y^9*z^5 + 5*x^2*y^10*z^5 + 127/2*y^12*z^5 - 34*x^2*y^9*z^6 + 1/2*x^3*z^14 - 1/2*x^2*y*z^14 - 1/2*x*y^2*z^14 + y^3*z^14 + 7/2*x^2*z^15 + 2*x*y*z^15 - 3/2*y^2*z^15 - 14*x*z^16 - 5*y*z^16 + 34*z^17] True True\n",
      "\n",
      " Ideal (x^4 + x*y^3 + y^3*z, x^15 + y^15 + z^15) of Multivariate Polynomial Ring in x, y, z over Rational Field\n",
      "0 [0] True False\n",
      "1 [0] True False\n",
      "2 [0] True False\n",
      "3 [0] True False\n",
      "4 [x^4 + x*y^3 + y^3*z] True False\n",
      "5 [x^5 + x^2*y^3 + x*y^3*z, x^4*y + x*y^4 + y^4*z, x^4*z + x*y^3*z + y^3*z^2, x^4 + x*y^3 + y^3*z] True False\n",
      "6 [x^6 + x^3*y^3 + x^2*y^3*z, x^5*y + x^2*y^4 + x*y^4*z, x^4*y^2 + x*y^5 + y^5*z, x^5*z + x^2*y^3*z + x*y^3*z^2, x^4*y*z + x*y^4*z + y^4*z^2, x^4*z^2 + x*y^3*z^2 + y^3*z^3, x^5 + x^2*y^3 + x*y^3*z, x^4*y + x*y^4 + y^4*z, x^4*z + x*y^3*z + y^3*z^2, x^4 + x*y^3 + y^3*z] True False\n",
      "7 Polynomial Sequence with 20 Polynomials in 3 Variables True False\n",
      "8 Polynomial Sequence with 35 Polynomials in 3 Variables True False\n",
      "9 Polynomial Sequence with 56 Polynomials in 3 Variables True False\n",
      "10 Polynomial Sequence with 84 Polynomials in 3 Variables True False\n",
      "11 Polynomial Sequence with 120 Polynomials in 3 Variables True False\n",
      "12 Polynomial Sequence with 165 Polynomials in 3 Variables True False\n",
      "13 Polynomial Sequence with 220 Polynomials in 3 Variables True False\n",
      "14 Polynomial Sequence with 286 Polynomials in 3 Variables True False\n",
      "15 Polynomial Sequence with 365 Polynomials in 3 Variables False True\n",
      "16 Polynomial Sequence with 459 Polynomials in 3 Variables True True\n",
      "4 [x^4 + x*y^3 + y^3*z] True False\n",
      "5 [x^4 + x*y^3 + y^3*z] True False\n",
      "6 [x^4 + x*y^3 + y^3*z] True False\n",
      "7 [x^4 + x*y^3 + y^3*z] True False\n",
      "8 [x^4 + x*y^3 + y^3*z] True False\n",
      "9 [x^4 + x*y^3 + y^3*z] True False\n",
      "10 [x^4 + x*y^3 + y^3*z] True False\n",
      "11 [x^4 + x*y^3 + y^3*z] True False\n",
      "12 [x^4 + x*y^3 + y^3*z] True False\n",
      "13 [x^4 + x*y^3 + y^3*z] True False\n",
      "14 [x^4 + x*y^3 + y^3*z] True False\n",
      "15 [x^4 + x*y^3 + y^3*z, x^3*y^12 + y^15 + 4*x^2*y^12*z + 6*x*y^12*z^2 - x^3*y^9*z^3 + 3*y^12*z^3 + z^15] False True\n",
      "16 [x^4 + x*y^3 + y^3*z, x^3*y^12 + y^15 + 4*x^2*y^12*z + 6*x*y^12*z^2 - x^3*y^9*z^3 + 3*y^12*z^3 + z^15, y^15*z + 2*x^2*y^12*z^2 + 4*x*y^12*z^3 - 4/5*x^3*y^9*z^4 + 11/5*y^12*z^4 - 1/5*x*z^15 + 4/5*z^16] True True\n",
      "\n",
      " Ideal (x^4 + x*y^3 + y^3*z, x^16 + y^16 + z^16) of Multivariate Polynomial Ring in x, y, z over Rational Field\n",
      "0 [0] True False\n",
      "1 [0] True False\n",
      "2 [0] True False\n",
      "3 [0] True False\n",
      "4 [x^4 + x*y^3 + y^3*z] True False\n",
      "5 [x^5 + x^2*y^3 + x*y^3*z, x^4*y + x*y^4 + y^4*z, x^4*z + x*y^3*z + y^3*z^2, x^4 + x*y^3 + y^3*z] True False\n",
      "6 [x^6 + x^3*y^3 + x^2*y^3*z, x^5*y + x^2*y^4 + x*y^4*z, x^4*y^2 + x*y^5 + y^5*z, x^5*z + x^2*y^3*z + x*y^3*z^2, x^4*y*z + x*y^4*z + y^4*z^2, x^4*z^2 + x*y^3*z^2 + y^3*z^3, x^5 + x^2*y^3 + x*y^3*z, x^4*y + x*y^4 + y^4*z, x^4*z + x*y^3*z + y^3*z^2, x^4 + x*y^3 + y^3*z] True False\n",
      "7 Polynomial Sequence with 20 Polynomials in 3 Variables True False\n",
      "8 Polynomial Sequence with 35 Polynomials in 3 Variables True False\n",
      "9 Polynomial Sequence with 56 Polynomials in 3 Variables True False\n",
      "10 Polynomial Sequence with 84 Polynomials in 3 Variables True False\n",
      "11 Polynomial Sequence with 120 Polynomials in 3 Variables True False\n",
      "12 Polynomial Sequence with 165 Polynomials in 3 Variables True False\n",
      "13 Polynomial Sequence with 220 Polynomials in 3 Variables True False\n",
      "14 Polynomial Sequence with 286 Polynomials in 3 Variables True False\n",
      "15 Polynomial Sequence with 364 Polynomials in 3 Variables True False\n",
      "16 Polynomial Sequence with 456 Polynomials in 3 Variables False True\n",
      "17 Polynomial Sequence with 564 Polynomials in 3 Variables False True\n",
      "18 Polynomial Sequence with 690 Polynomials in 3 Variables False True\n",
      "19 Polynomial Sequence with 836 Polynomials in 3 Variables True True\n",
      "4 [x^4 + x*y^3 + y^3*z] True False\n",
      "5 [x^4 + x*y^3 + y^3*z] True False\n",
      "6 [x^4 + x*y^3 + y^3*z] True False\n",
      "7 [x^4 + x*y^3 + y^3*z] True False\n",
      "8 [x^4 + x*y^3 + y^3*z] True False\n",
      "9 [x^4 + x*y^3 + y^3*z] True False\n",
      "10 [x^4 + x*y^3 + y^3*z] True False\n",
      "11 [x^4 + x*y^3 + y^3*z] True False\n",
      "12 [x^4 + x*y^3 + y^3*z] True False\n",
      "13 [x^4 + x*y^3 + y^3*z] True False\n",
      "14 [x^4 + x*y^3 + y^3*z] True False\n",
      "15 [x^4 + x*y^3 + y^3*z] True False\n",
      "16 [x^4 + x*y^3 + y^3*z, x*y^15 - y^16 - 4*x^3*y^12*z + y^15*z - 6*x^2*y^12*z^2 - 4*x*y^12*z^3 - y^12*z^4 - z^16] False True\n",
      "17 [x^4 + x*y^3 + y^3*z, x*y^15 - y^16 - 4*x^3*y^12*z + y^15*z - 6*x^2*y^12*z^2 - 4*x*y^12*z^3 - y^12*z^4 - z^16] False True\n",
      "18 [x^4 + x*y^3 + y^3*z, x*y^15 - y^16 - 4*x^3*y^12*z + y^15*z - 6*x^2*y^12*z^2 - 4*x*y^12*z^3 - y^12*z^4 - z^16] False True\n",
      "19 [x^4 + x*y^3 + y^3*z, x*y^15 - y^16 - 4*x^3*y^12*z + y^15*z - 6*x^2*y^12*z^2 - 4*x*y^12*z^3 - y^12*z^4 - z^16, y^19 - 4*y^18*z - 11*x^3*y^14*z^2 - 5*y^17*z^2 - 30*x^3*y^13*z^3 - 19*x^2*y^14*z^3 + 24*y^16*z^3 + 67/2*x^3*y^12*z^4 - 85/2*x^2*y^13*z^4 - 27/2*x*y^14*z^4 - 1/2*y^15*z^4 + 149/2*x^2*y^12*z^5 - 27*x*y^13*z^5 - 7/2*y^14*z^5 + 119/2*x*y^12*z^6 - 13/2*y^13*z^6 + 33/2*y^12*z^7 + 1/2*x^3*z^16 + 1/2*x^2*y*z^16 + 1/2*x*y^2*z^16 + y^3*z^16 + 3/2*x^2*z^17 - x*y*z^17 - 7/2*y^2*z^17 - 13/2*x*z^18 - 13/2*y*z^18 + 33/2*z^19] True True\n",
      "\n",
      " Ideal (x^4 + x*y^3 + y^3*z, x^17 + y^17 + z^17) of Multivariate Polynomial Ring in x, y, z over Rational Field\n",
      "0 [0] True False\n",
      "1 [0] True False\n",
      "2 [0] True False\n",
      "3 [0] True False\n",
      "4 [x^4 + x*y^3 + y^3*z] True False\n",
      "5 [x^5 + x^2*y^3 + x*y^3*z, x^4*y + x*y^4 + y^4*z, x^4*z + x*y^3*z + y^3*z^2, x^4 + x*y^3 + y^3*z] True False\n",
      "6 [x^6 + x^3*y^3 + x^2*y^3*z, x^5*y + x^2*y^4 + x*y^4*z, x^4*y^2 + x*y^5 + y^5*z, x^5*z + x^2*y^3*z + x*y^3*z^2, x^4*y*z + x*y^4*z + y^4*z^2, x^4*z^2 + x*y^3*z^2 + y^3*z^3, x^5 + x^2*y^3 + x*y^3*z, x^4*y + x*y^4 + y^4*z, x^4*z + x*y^3*z + y^3*z^2, x^4 + x*y^3 + y^3*z] True False\n",
      "7 Polynomial Sequence with 20 Polynomials in 3 Variables True False\n",
      "8 Polynomial Sequence with 35 Polynomials in 3 Variables True False\n",
      "9 Polynomial Sequence with 56 Polynomials in 3 Variables True False\n",
      "10 Polynomial Sequence with 84 Polynomials in 3 Variables True False\n",
      "11 Polynomial Sequence with 120 Polynomials in 3 Variables True False\n",
      "12 Polynomial Sequence with 165 Polynomials in 3 Variables True False\n",
      "13 Polynomial Sequence with 220 Polynomials in 3 Variables True False\n",
      "14 Polynomial Sequence with 286 Polynomials in 3 Variables True False\n",
      "15 Polynomial Sequence with 364 Polynomials in 3 Variables True False\n"
     ]
    },
    {
     "name": "stdout",
     "output_type": "stream",
     "text": [
      "16 Polynomial Sequence with 455 Polynomials in 3 Variables True False\n",
      "17 Polynomial Sequence with 561 Polynomials in 3 Variables False True\n",
      "18 Polynomial Sequence with 684 Polynomials in 3 Variables False True\n",
      "19 Polynomial Sequence with 826 Polynomials in 3 Variables False True\n",
      "20 Polynomial Sequence with 989 Polynomials in 3 Variables True True\n",
      "4 [x^4 + x*y^3 + y^3*z] True False\n",
      "5 [x^4 + x*y^3 + y^3*z] True False\n",
      "6 [x^4 + x*y^3 + y^3*z] True False\n",
      "7 [x^4 + x*y^3 + y^3*z] True False\n",
      "8 [x^4 + x*y^3 + y^3*z] True False\n",
      "9 [x^4 + x*y^3 + y^3*z] True False\n",
      "10 [x^4 + x*y^3 + y^3*z] True False\n",
      "11 [x^4 + x*y^3 + y^3*z] True False\n",
      "12 [x^4 + x*y^3 + y^3*z] True False\n",
      "13 [x^4 + x*y^3 + y^3*z] True False\n",
      "14 [x^4 + x*y^3 + y^3*z] True False\n",
      "15 [x^4 + x*y^3 + y^3*z] True False\n",
      "16 [x^4 + x*y^3 + y^3*z] True False\n",
      "17 [x^4 + x*y^3 + y^3*z, x^2*y^15 - y^17 + 5*x*y^15*z - 6*x^3*y^12*z^2 + 4*y^15*z^2 - 4*x^2*y^12*z^3 - x*y^12*z^4 - z^17] False True\n",
      "18 [x^4 + x*y^3 + y^3*z, x^2*y^15 - y^17 + 5*x*y^15*z - 6*x^3*y^12*z^2 + 4*y^15*z^2 - 4*x^2*y^12*z^3 - x*y^12*z^4 - z^17] False True\n",
      "19 [x^4 + x*y^3 + y^3*z, x^2*y^15 - y^17 + 5*x*y^15*z - 6*x^3*y^12*z^2 + 4*y^15*z^2 - 4*x^2*y^12*z^3 - x*y^12*z^4 - z^17, x*y^18 + y^19 - 10*x*y^17*z + y^18*z + 6*x^3*y^14*z^2 + 11*y^17*z^2 + 4*x^2*y^14*z^3 - 35*x*y^15*z^3 + 71*x^3*y^12*z^4 + x*y^14*z^4 - 34*y^15*z^4 + 55*x^2*y^12*z^5 + 15*x*y^12*z^6 + x^2*z^17 + y^2*z^17 - 5*x*z^18 + 15*z^19] False True\n",
      "20 [x^4 + x*y^3 + y^3*z, x^2*y^15 - y^17 + 5*x*y^15*z - 6*x^3*y^12*z^2 + 4*y^15*z^2 - 4*x^2*y^12*z^3 - x*y^12*z^4 - z^17, x*y^18 + y^19 - 10*x*y^17*z + y^18*z + 6*x^3*y^14*z^2 + 11*y^17*z^2 + 4*x^2*y^14*z^3 - 35*x*y^15*z^3 + 71*x^3*y^12*z^4 + x*y^14*z^4 - 34*y^15*z^4 + 55*x^2*y^12*z^5 + 15*x*y^12*z^6 + x^2*z^17 + y^2*z^17 - 5*x*z^18 + 15*z^19, y^19*z - 115/17*x*y^17*z^2 + 21/17*y^18*z^2 + 92/17*x^3*y^14*z^3 - 35/17*x*y^16*z^3 + 67/17*y^17*z^3 + 71/17*x^3*y^13*z^4 + 63/17*x^2*y^14*z^4 - 280/17*x*y^15*z^4 - 2*y^16*z^4 + 581/17*x^3*y^12*z^5 + 55/17*x^2*y^13*z^5 + 16/17*x*y^14*z^5 - 273/17*y^15*z^5 + 455/17*x^2*y^12*z^6 + 15/17*x*y^13*z^6 + 125/17*x*y^12*z^7 - 1/17*x^3*z^17 + 1/17*x^2*y*z^17 - 1/17*x*y^2*z^17 + 11/17*x^2*z^18 - 5/17*x*y*z^18 + 16/17*y^2*z^18 - 45/17*x*z^19 + 15/17*y*z^19 + 125/17*z^20] True True\n",
      "\n",
      " Ideal (x^4 + x*y^3 + y^3*z, x^18 + y^18 + z^18) of Multivariate Polynomial Ring in x, y, z over Rational Field\n",
      "0 [0] True False\n",
      "1 [0] True False\n",
      "2 [0] True False\n",
      "3 [0] True False\n",
      "4 [x^4 + x*y^3 + y^3*z] True False\n",
      "5 [x^5 + x^2*y^3 + x*y^3*z, x^4*y + x*y^4 + y^4*z, x^4*z + x*y^3*z + y^3*z^2, x^4 + x*y^3 + y^3*z] True False\n",
      "6 [x^6 + x^3*y^3 + x^2*y^3*z, x^5*y + x^2*y^4 + x*y^4*z, x^4*y^2 + x*y^5 + y^5*z, x^5*z + x^2*y^3*z + x*y^3*z^2, x^4*y*z + x*y^4*z + y^4*z^2, x^4*z^2 + x*y^3*z^2 + y^3*z^3, x^5 + x^2*y^3 + x*y^3*z, x^4*y + x*y^4 + y^4*z, x^4*z + x*y^3*z + y^3*z^2, x^4 + x*y^3 + y^3*z] True False\n",
      "7 Polynomial Sequence with 20 Polynomials in 3 Variables True False\n",
      "8 Polynomial Sequence with 35 Polynomials in 3 Variables True False\n",
      "9 Polynomial Sequence with 56 Polynomials in 3 Variables True False\n",
      "10 Polynomial Sequence with 84 Polynomials in 3 Variables True False\n",
      "11 Polynomial Sequence with 120 Polynomials in 3 Variables True False\n",
      "12 Polynomial Sequence with 165 Polynomials in 3 Variables True False\n",
      "13 Polynomial Sequence with 220 Polynomials in 3 Variables True False\n",
      "14 Polynomial Sequence with 286 Polynomials in 3 Variables True False\n",
      "15 Polynomial Sequence with 364 Polynomials in 3 Variables True False\n",
      "16 Polynomial Sequence with 455 Polynomials in 3 Variables True False\n",
      "17 Polynomial Sequence with 560 Polynomials in 3 Variables True False\n",
      "18 Polynomial Sequence with 681 Polynomials in 3 Variables False True\n",
      "19 Polynomial Sequence with 820 Polynomials in 3 Variables False True\n",
      "20 Polynomial Sequence with 979 Polynomials in 3 Variables False True\n",
      "21 Polynomial Sequence with 1160 Polynomials in 3 Variables True True\n",
      "4 [x^4 + x*y^3 + y^3*z] True False\n",
      "5 [x^4 + x*y^3 + y^3*z] True False\n",
      "6 [x^4 + x*y^3 + y^3*z] True False\n",
      "7 [x^4 + x*y^3 + y^3*z] True False\n",
      "8 [x^4 + x*y^3 + y^3*z] True False\n",
      "9 [x^4 + x*y^3 + y^3*z] True False\n",
      "10 [x^4 + x*y^3 + y^3*z] True False\n",
      "11 [x^4 + x*y^3 + y^3*z] True False\n",
      "12 [x^4 + x*y^3 + y^3*z] True False\n",
      "13 [x^4 + x*y^3 + y^3*z] True False\n",
      "14 [x^4 + x*y^3 + y^3*z] True False\n",
      "15 [x^4 + x*y^3 + y^3*z] True False\n",
      "16 [x^4 + x*y^3 + y^3*z] True False\n",
      "17 [x^4 + x*y^3 + y^3*z] True False\n",
      "18 [x^4 + x*y^3 + y^3*z, x^3*y^15 - y^18 + 5*x^2*y^15*z + 10*x*y^15*z^2 - 4*x^3*y^12*z^3 + 6*y^15*z^3 - x^2*y^12*z^4 - z^18] False True\n",
      "19 [x^4 + x*y^3 + y^3*z, x^3*y^15 - y^18 + 5*x^2*y^15*z + 10*x*y^15*z^2 - 4*x^3*y^12*z^3 + 6*y^15*z^3 - x^2*y^12*z^4 - z^18, x*y^18 - 2*y^18*z + 15/2*x^2*y^15*z^2 + 20*x*y^15*z^3 - 19/2*x^3*y^12*z^4 + 13*y^15*z^4 - 5/2*x^2*y^12*z^5 + 1/2*x*z^18 - 5/2*z^19] False True\n",
      "20 [x^4 + x*y^3 + y^3*z, x^3*y^15 - y^18 + 5*x^2*y^15*z + 10*x*y^15*z^2 - 4*x^3*y^12*z^3 + 6*y^15*z^3 - x^2*y^12*z^4 - z^18, x*y^18 - 2*y^18*z + 15/2*x^2*y^15*z^2 + 20*x*y^15*z^3 - 19/2*x^3*y^12*z^4 + 13*y^15*z^4 - 5/2*x^2*y^12*z^5 + 1/2*x*z^18 - 5/2*z^19] False True\n",
      "21 [x^4 + x*y^3 + y^3*z, x^3*y^15 - y^18 + 5*x^2*y^15*z + 10*x*y^15*z^2 - 4*x^3*y^12*z^3 + 6*y^15*z^3 - x^2*y^12*z^4 - z^18, x*y^18 - 2*y^18*z + 15/2*x^2*y^15*z^2 + 20*x*y^15*z^3 - 19/2*x^3*y^12*z^4 + 13*y^15*z^4 - 5/2*x^2*y^12*z^5 + 1/2*x*z^18 - 5/2*z^19, y^21 + 69/4*x^2*y^15*z^4 + 69/2*x*y^15*z^5 - 43/4*x^3*y^12*z^6 + 39/2*y^15*z^6 - 9/4*x^2*y^12*z^7 + 1/2*x^3*z^18 + y^3*z^18 + x^2*z^19 - 7/4*x*z^20 - 9/4*z^21] True True\n",
      "\n",
      " Ideal (x^4 + x*y^3 + y^3*z, x^19 + y^19 + z^19) of Multivariate Polynomial Ring in x, y, z over Rational Field\n",
      "0 [0] True False\n",
      "1 [0] True False\n",
      "2 [0] True False\n",
      "3 [0] True False\n",
      "4 [x^4 + x*y^3 + y^3*z] True False\n",
      "5 [x^5 + x^2*y^3 + x*y^3*z, x^4*y + x*y^4 + y^4*z, x^4*z + x*y^3*z + y^3*z^2, x^4 + x*y^3 + y^3*z] True False\n",
      "6 [x^6 + x^3*y^3 + x^2*y^3*z, x^5*y + x^2*y^4 + x*y^4*z, x^4*y^2 + x*y^5 + y^5*z, x^5*z + x^2*y^3*z + x*y^3*z^2, x^4*y*z + x*y^4*z + y^4*z^2, x^4*z^2 + x*y^3*z^2 + y^3*z^3, x^5 + x^2*y^3 + x*y^3*z, x^4*y + x*y^4 + y^4*z, x^4*z + x*y^3*z + y^3*z^2, x^4 + x*y^3 + y^3*z] True False\n",
      "7 Polynomial Sequence with 20 Polynomials in 3 Variables True False\n",
      "8 Polynomial Sequence with 35 Polynomials in 3 Variables True False\n",
      "9 Polynomial Sequence with 56 Polynomials in 3 Variables True False\n",
      "10 Polynomial Sequence with 84 Polynomials in 3 Variables True False\n",
      "11 Polynomial Sequence with 120 Polynomials in 3 Variables True False\n",
      "12 Polynomial Sequence with 165 Polynomials in 3 Variables True False\n",
      "13 Polynomial Sequence with 220 Polynomials in 3 Variables True False\n",
      "14 Polynomial Sequence with 286 Polynomials in 3 Variables True False\n",
      "15 Polynomial Sequence with 364 Polynomials in 3 Variables True False\n",
      "16 Polynomial Sequence with 455 Polynomials in 3 Variables True False\n",
      "17 Polynomial Sequence with 560 Polynomials in 3 Variables True False\n",
      "18 Polynomial Sequence with 680 Polynomials in 3 Variables True False\n",
      "19 Polynomial Sequence with 817 Polynomials in 3 Variables False True\n",
      "20 Polynomial Sequence with 973 Polynomials in 3 Variables False True\n",
      "21 Polynomial Sequence with 1150 Polynomials in 3 Variables False True\n",
      "22 Polynomial Sequence with 1350 Polynomials in 3 Variables True True\n",
      "4 [x^4 + x*y^3 + y^3*z] True False\n",
      "5 [x^4 + x*y^3 + y^3*z] True False\n",
      "6 [x^4 + x*y^3 + y^3*z] True False\n",
      "7 [x^4 + x*y^3 + y^3*z] True False\n",
      "8 [x^4 + x*y^3 + y^3*z] True False\n",
      "9 [x^4 + x*y^3 + y^3*z] True False\n",
      "10 [x^4 + x*y^3 + y^3*z] True False\n",
      "11 [x^4 + x*y^3 + y^3*z] True False\n",
      "12 [x^4 + x*y^3 + y^3*z] True False\n",
      "13 [x^4 + x*y^3 + y^3*z] True False\n",
      "14 [x^4 + x*y^3 + y^3*z] True False\n",
      "15 [x^4 + x*y^3 + y^3*z] True False\n",
      "16 [x^4 + x*y^3 + y^3*z] True False\n",
      "17 [x^4 + x*y^3 + y^3*z] True False\n",
      "18 [x^4 + x*y^3 + y^3*z] True False\n",
      "19 [x^4 + x*y^3 + y^3*z, x*y^18 + y^19 - 5*x^3*y^15*z + y^18*z - 10*x^2*y^15*z^2 - 10*x*y^15*z^3 + x^3*y^12*z^4 - 4*y^15*z^4 + z^19] False True\n",
      "20 [x^4 + x*y^3 + y^3*z, x*y^18 + y^19 - 5*x^3*y^15*z + y^18*z - 10*x^2*y^15*z^2 - 10*x*y^15*z^3 + x^3*y^12*z^4 - 4*y^15*z^4 + z^19] False True\n",
      "21 [x^4 + x*y^3 + y^3*z, x*y^18 + y^19 - 5*x^3*y^15*z + y^18*z - 10*x^2*y^15*z^2 - 10*x*y^15*z^3 + x^3*y^12*z^4 - 4*y^15*z^4 + z^19] False True\n",
      "22 [x^4 + x*y^3 + y^3*z, x*y^18 + y^19 - 5*x^3*y^15*z + y^18*z - 10*x^2*y^15*z^2 - 10*x*y^15*z^3 + x^3*y^12*z^4 - 4*y^15*z^4 + z^19, y^21*z - 80/19*x^3*y^17*z^2 + 91/19*y^20*z^2 - 280/19*x^3*y^16*z^3 - 170/19*x^2*y^17*z^3 + 84/19*y^19*z^3 - 125/19*x^3*y^15*z^4 - 35*x^2*y^16*z^4 - 175/19*x*y^17*z^4 + 1/19*y^18*z^4 + 18/19*x^3*y^14*z^5 - 379/19*x^2*y^15*z^5 - 721/19*x*y^16*z^5 - 71/19*y^17*z^5 + 78/19*x^3*y^13*z^6 - 461/19*x*y^15*z^6 - 300/19*y^16*z^6 + 56/19*x^3*y^12*z^7 - 203/19*y^15*z^7 - 1/19*x^3*z^19 + 1/19*x^2*y*z^19 - 1/19*x*y^2*z^19 + 6/19*x^2*z^20 - 12/19*x*y*z^20 + 18/19*y^2*z^20 - 21/19*x*z^21 + 78/19*y*z^21 + 56/19*z^22] True True\n",
      "\n",
      " Ideal (x^4 + x*y^3 + y^3*z, x^20 + y^20 + z^20) of Multivariate Polynomial Ring in x, y, z over Rational Field\n",
      "0 [0] True False\n",
      "1 [0] True False\n",
      "2 [0] True False\n",
      "3 [0] True False\n",
      "4 [x^4 + x*y^3 + y^3*z] True False\n",
      "5 [x^5 + x^2*y^3 + x*y^3*z, x^4*y + x*y^4 + y^4*z, x^4*z + x*y^3*z + y^3*z^2, x^4 + x*y^3 + y^3*z] True False\n",
      "6 [x^6 + x^3*y^3 + x^2*y^3*z, x^5*y + x^2*y^4 + x*y^4*z, x^4*y^2 + x*y^5 + y^5*z, x^5*z + x^2*y^3*z + x*y^3*z^2, x^4*y*z + x*y^4*z + y^4*z^2, x^4*z^2 + x*y^3*z^2 + y^3*z^3, x^5 + x^2*y^3 + x*y^3*z, x^4*y + x*y^4 + y^4*z, x^4*z + x*y^3*z + y^3*z^2, x^4 + x*y^3 + y^3*z] True False\n",
      "7 Polynomial Sequence with 20 Polynomials in 3 Variables True False\n",
      "8 Polynomial Sequence with 35 Polynomials in 3 Variables True False\n",
      "9 Polynomial Sequence with 56 Polynomials in 3 Variables True False\n"
     ]
    },
    {
     "name": "stdout",
     "output_type": "stream",
     "text": [
      "10 Polynomial Sequence with 84 Polynomials in 3 Variables True False\n",
      "11 Polynomial Sequence with 120 Polynomials in 3 Variables True False\n",
      "12 Polynomial Sequence with 165 Polynomials in 3 Variables True False\n",
      "13 Polynomial Sequence with 220 Polynomials in 3 Variables True False\n",
      "14 Polynomial Sequence with 286 Polynomials in 3 Variables True False\n",
      "15 Polynomial Sequence with 364 Polynomials in 3 Variables True False\n",
      "16 Polynomial Sequence with 455 Polynomials in 3 Variables True False\n",
      "17 Polynomial Sequence with 560 Polynomials in 3 Variables True False\n",
      "18 Polynomial Sequence with 680 Polynomials in 3 Variables True False\n",
      "19 Polynomial Sequence with 816 Polynomials in 3 Variables True False\n",
      "20 Polynomial Sequence with 970 Polynomials in 3 Variables False True\n",
      "21 Polynomial Sequence with 1144 Polynomials in 3 Variables False True\n",
      "22 Polynomial Sequence with 1340 Polynomials in 3 Variables False True\n",
      "23 Polynomial Sequence with 1560 Polynomials in 3 Variables True True\n",
      "4 [x^4 + x*y^3 + y^3*z] True False\n",
      "5 [x^4 + x*y^3 + y^3*z] True False\n",
      "6 [x^4 + x*y^3 + y^3*z] True False\n",
      "7 [x^4 + x*y^3 + y^3*z] True False\n",
      "8 [x^4 + x*y^3 + y^3*z] True False\n",
      "9 [x^4 + x*y^3 + y^3*z] True False\n",
      "10 [x^4 + x*y^3 + y^3*z] True False\n",
      "11 [x^4 + x*y^3 + y^3*z] True False\n",
      "12 [x^4 + x*y^3 + y^3*z] True False\n",
      "13 [x^4 + x*y^3 + y^3*z] True False\n",
      "14 [x^4 + x*y^3 + y^3*z] True False\n",
      "15 [x^4 + x*y^3 + y^3*z] True False\n",
      "16 [x^4 + x*y^3 + y^3*z] True False\n",
      "17 [x^4 + x*y^3 + y^3*z] True False\n",
      "18 [x^4 + x*y^3 + y^3*z] True False\n",
      "19 [x^4 + x*y^3 + y^3*z] True False\n",
      "20 [x^4 + x*y^3 + y^3*z, x^2*y^18 + y^20 + 6*x*y^18*z - 10*x^3*y^15*z^2 + 5*y^18*z^2 - 10*x^2*y^15*z^3 - 5*x*y^15*z^4 - y^15*z^5 + z^20] False True\n",
      "21 [x^4 + x*y^3 + y^3*z, x^2*y^18 + y^20 + 6*x*y^18*z - 10*x^3*y^15*z^2 + 5*y^18*z^2 - 10*x^2*y^15*z^3 - 5*x*y^15*z^4 - y^15*z^5 + z^20] False True\n",
      "22 [x^4 + x*y^3 + y^3*z, x^2*y^18 + y^20 + 6*x*y^18*z - 10*x^3*y^15*z^2 + 5*y^18*z^2 - 10*x^2*y^15*z^3 - 5*x*y^15*z^4 - y^15*z^5 + z^20, x*y^21 + y^22 + 12*x*y^20*z + y^21*z - 10*x^3*y^17*z^2 - 16*y^20*z^2 - 10*x^2*y^17*z^3 - 56*x*y^18*z^3 + 155*x^3*y^15*z^4 - 5*x*y^17*z^4 - 55*y^18*z^4 + 181*x^2*y^15*z^5 - y^17*z^5 + 99*x*y^15*z^6 + 21*y^15*z^7 - x^2*z^20 + y^2*z^20 + 6*x*z^21 - 21*z^22] False True\n",
      "23 [x^4 + x*y^3 + y^3*z, x^2*y^18 + y^20 + 6*x*y^18*z - 10*x^3*y^15*z^2 + 5*y^18*z^2 - 10*x^2*y^15*z^3 - 5*x*y^15*z^4 - y^15*z^5 + z^20, x*y^21 + y^22 + 12*x*y^20*z + y^21*z - 10*x^3*y^17*z^2 - 16*y^20*z^2 - 10*x^2*y^17*z^3 - 56*x*y^18*z^3 + 155*x^3*y^15*z^4 - 5*x*y^17*z^4 - 55*y^18*z^4 + 181*x^2*y^15*z^5 - y^17*z^5 + 99*x*y^15*z^6 + 21*y^15*z^7 - x^2*z^20 + y^2*z^20 + 6*x*z^21 - 21*z^22, y^23 - 2*y^22*z - 53*x*y^20*z^2 - 14*y^21*z^2 + 30*x^3*y^17*z^3 - 28*x*y^19*z^3 + 83*y^20*z^3 + 155/2*x^3*y^16*z^4 + 55/2*x^2*y^17*z^4 + 258*x*y^18*z^4 - 55/2*y^19*z^4 - 728*x^3*y^15*z^5 + 181/2*x^2*y^16*z^5 + 13*x*y^17*z^5 + 254*y^18*z^5 - 858*x^2*y^15*z^6 + 99/2*x*y^16*z^6 + 5/2*y^17*z^6 - 472*x*y^15*z^7 + 21/2*y^16*z^7 - 201/2*y^15*z^8 + 1/2*x^3*z^20 - 1/2*x^2*y*z^20 - 1/2*x*y^2*z^20 + y^3*z^20 + 11/2*x^2*z^21 + 3*x*y*z^21 - 5/2*y^2*z^21 - 61/2*x*z^22 - 21/2*y*z^22 + 201/2*z^23] True True\n",
      "\n",
      " Ideal (x^4 + x*y^3 + y^3*z, x^21 + y^21 + z^21) of Multivariate Polynomial Ring in x, y, z over Rational Field\n",
      "0 [0] True False\n",
      "1 [0] True False\n",
      "2 [0] True False\n",
      "3 [0] True False\n",
      "4 [x^4 + x*y^3 + y^3*z] True False\n",
      "5 [x^5 + x^2*y^3 + x*y^3*z, x^4*y + x*y^4 + y^4*z, x^4*z + x*y^3*z + y^3*z^2, x^4 + x*y^3 + y^3*z] True False\n",
      "6 [x^6 + x^3*y^3 + x^2*y^3*z, x^5*y + x^2*y^4 + x*y^4*z, x^4*y^2 + x*y^5 + y^5*z, x^5*z + x^2*y^3*z + x*y^3*z^2, x^4*y*z + x*y^4*z + y^4*z^2, x^4*z^2 + x*y^3*z^2 + y^3*z^3, x^5 + x^2*y^3 + x*y^3*z, x^4*y + x*y^4 + y^4*z, x^4*z + x*y^3*z + y^3*z^2, x^4 + x*y^3 + y^3*z] True False\n",
      "7 Polynomial Sequence with 20 Polynomials in 3 Variables True False\n",
      "8 Polynomial Sequence with 35 Polynomials in 3 Variables True False\n",
      "9 Polynomial Sequence with 56 Polynomials in 3 Variables True False\n",
      "10 Polynomial Sequence with 84 Polynomials in 3 Variables True False\n",
      "11 Polynomial Sequence with 120 Polynomials in 3 Variables True False\n",
      "12 Polynomial Sequence with 165 Polynomials in 3 Variables True False\n",
      "13 Polynomial Sequence with 220 Polynomials in 3 Variables True False\n",
      "14 Polynomial Sequence with 286 Polynomials in 3 Variables True False\n",
      "15 Polynomial Sequence with 364 Polynomials in 3 Variables True False\n",
      "16 Polynomial Sequence with 455 Polynomials in 3 Variables True False\n",
      "17 Polynomial Sequence with 560 Polynomials in 3 Variables True False\n",
      "18 Polynomial Sequence with 680 Polynomials in 3 Variables True False\n",
      "19 Polynomial Sequence with 816 Polynomials in 3 Variables True False\n",
      "20 Polynomial Sequence with 969 Polynomials in 3 Variables True False\n",
      "21 Polynomial Sequence with 1141 Polynomials in 3 Variables False True\n",
      "22 Polynomial Sequence with 1334 Polynomials in 3 Variables True True\n",
      "4 [x^4 + x*y^3 + y^3*z] True False\n",
      "5 [x^4 + x*y^3 + y^3*z] True False\n",
      "6 [x^4 + x*y^3 + y^3*z] True False\n",
      "7 [x^4 + x*y^3 + y^3*z] True False\n",
      "8 [x^4 + x*y^3 + y^3*z] True False\n",
      "9 [x^4 + x*y^3 + y^3*z] True False\n",
      "10 [x^4 + x*y^3 + y^3*z] True False\n",
      "11 [x^4 + x*y^3 + y^3*z] True False\n",
      "12 [x^4 + x*y^3 + y^3*z] True False\n",
      "13 [x^4 + x*y^3 + y^3*z] True False\n",
      "14 [x^4 + x*y^3 + y^3*z] True False\n",
      "15 [x^4 + x*y^3 + y^3*z] True False\n",
      "16 [x^4 + x*y^3 + y^3*z] True False\n",
      "17 [x^4 + x*y^3 + y^3*z] True False\n",
      "18 [x^4 + x*y^3 + y^3*z] True False\n",
      "19 [x^4 + x*y^3 + y^3*z] True False\n",
      "20 [x^4 + x*y^3 + y^3*z] True False\n",
      "21 [x^4 + x*y^3 + y^3*z, x^3*y^18 + y^21 + 6*x^2*y^18*z + 15*x*y^18*z^2 - 10*x^3*y^15*z^3 + 10*y^18*z^3 - 5*x^2*y^15*z^4 - x*y^15*z^5 + z^21] False True\n",
      "22 [x^4 + x*y^3 + y^3*z, x^3*y^18 + y^21 + 6*x^2*y^18*z + 15*x*y^18*z^2 - 10*x^3*y^15*z^3 + 10*y^18*z^3 - 5*x^2*y^15*z^4 - x*y^15*z^5 + z^21, y^21*z + 3*x^2*y^18*z^2 + 10*x*y^18*z^3 - 55/7*x^3*y^15*z^4 + 50/7*y^18*z^4 - 29/7*x^2*y^15*z^5 - 6/7*x*y^15*z^6 - 1/7*x*z^21 + 6/7*z^22] True True\n",
      "\n",
      " Ideal (x^4 + x*y^3 + y^3*z, x^22 + y^22 + z^22) of Multivariate Polynomial Ring in x, y, z over Rational Field\n",
      "0 [0] True False\n",
      "1 [0] True False\n",
      "2 [0] True False\n",
      "3 [0] True False\n",
      "4 [x^4 + x*y^3 + y^3*z] True False\n",
      "5 [x^5 + x^2*y^3 + x*y^3*z, x^4*y + x*y^4 + y^4*z, x^4*z + x*y^3*z + y^3*z^2, x^4 + x*y^3 + y^3*z] True False\n",
      "6 [x^6 + x^3*y^3 + x^2*y^3*z, x^5*y + x^2*y^4 + x*y^4*z, x^4*y^2 + x*y^5 + y^5*z, x^5*z + x^2*y^3*z + x*y^3*z^2, x^4*y*z + x*y^4*z + y^4*z^2, x^4*z^2 + x*y^3*z^2 + y^3*z^3, x^5 + x^2*y^3 + x*y^3*z, x^4*y + x*y^4 + y^4*z, x^4*z + x*y^3*z + y^3*z^2, x^4 + x*y^3 + y^3*z] True False\n",
      "7 Polynomial Sequence with 20 Polynomials in 3 Variables True False\n",
      "8 Polynomial Sequence with 35 Polynomials in 3 Variables True False\n",
      "9 Polynomial Sequence with 56 Polynomials in 3 Variables True False\n",
      "10 Polynomial Sequence with 84 Polynomials in 3 Variables True False\n",
      "11 Polynomial Sequence with 120 Polynomials in 3 Variables True False\n",
      "12 Polynomial Sequence with 165 Polynomials in 3 Variables True False\n",
      "13 Polynomial Sequence with 220 Polynomials in 3 Variables True False\n",
      "14 Polynomial Sequence with 286 Polynomials in 3 Variables True False\n",
      "15 Polynomial Sequence with 364 Polynomials in 3 Variables True False\n",
      "16 Polynomial Sequence with 455 Polynomials in 3 Variables True False\n",
      "17 Polynomial Sequence with 560 Polynomials in 3 Variables True False\n",
      "18 Polynomial Sequence with 680 Polynomials in 3 Variables True False\n",
      "19 Polynomial Sequence with 816 Polynomials in 3 Variables True False\n",
      "20 Polynomial Sequence with 969 Polynomials in 3 Variables True False\n",
      "21 Polynomial Sequence with 1140 Polynomials in 3 Variables True False\n",
      "22 Polynomial Sequence with 1331 Polynomials in 3 Variables False True\n",
      "23 Polynomial Sequence with 1544 Polynomials in 3 Variables False True\n",
      "24 Polynomial Sequence with 1781 Polynomials in 3 Variables False True\n",
      "25 Polynomial Sequence with 2044 Polynomials in 3 Variables True True\n",
      "4 [x^4 + x*y^3 + y^3*z] True False\n",
      "5 [x^4 + x*y^3 + y^3*z] True False\n",
      "6 [x^4 + x*y^3 + y^3*z] True False\n",
      "7 [x^4 + x*y^3 + y^3*z] True False\n",
      "8 [x^4 + x*y^3 + y^3*z] True False\n",
      "9 [x^4 + x*y^3 + y^3*z] True False\n",
      "10 [x^4 + x*y^3 + y^3*z] True False\n",
      "11 [x^4 + x*y^3 + y^3*z] True False\n",
      "12 [x^4 + x*y^3 + y^3*z] True False\n",
      "13 [x^4 + x*y^3 + y^3*z] True False\n"
     ]
    },
    {
     "name": "stdout",
     "output_type": "stream",
     "text": [
      "14 [x^4 + x*y^3 + y^3*z] True False\n",
      "15 [x^4 + x*y^3 + y^3*z] True False\n",
      "16 [x^4 + x*y^3 + y^3*z] True False\n",
      "17 [x^4 + x*y^3 + y^3*z] True False\n",
      "18 [x^4 + x*y^3 + y^3*z] True False\n",
      "19 [x^4 + x*y^3 + y^3*z] True False\n",
      "20 [x^4 + x*y^3 + y^3*z] True False\n",
      "21 [x^4 + x*y^3 + y^3*z] True False\n",
      "22 [x^4 + x*y^3 + y^3*z, x*y^21 - y^22 - 6*x^3*y^18*z + y^21*z - 15*x^2*y^18*z^2 - 20*x*y^18*z^3 + 5*x^3*y^15*z^4 - 10*y^18*z^4 + x^2*y^15*z^5 - z^22] False True\n",
      "23 [x^4 + x*y^3 + y^3*z, x*y^21 - y^22 - 6*x^3*y^18*z + y^21*z - 15*x^2*y^18*z^2 - 20*x*y^18*z^3 + 5*x^3*y^15*z^4 - 10*y^18*z^4 + x^2*y^15*z^5 - z^22] False True\n",
      "24 [x^4 + x*y^3 + y^3*z, x*y^21 - y^22 - 6*x^3*y^18*z + y^21*z - 15*x^2*y^18*z^2 - 20*x*y^18*z^3 + 5*x^3*y^15*z^4 - 10*y^18*z^4 + x^2*y^15*z^5 - z^22] False True\n",
      "25 [x^4 + x*y^3 + y^3*z, x*y^21 - y^22 - 6*x^3*y^18*z + y^21*z - 15*x^2*y^18*z^2 - 20*x*y^18*z^3 + 5*x^3*y^15*z^4 - 10*y^18*z^4 + x^2*y^15*z^5 - z^22, y^25 - 5*y^24*z - 39/2*x^3*y^20*z^2 - 15*y^23*z^2 - 104*x^3*y^19*z^3 - 115/2*x^2*y^20*z^3 + 56*y^22*z^3 + 207/2*x^3*y^18*z^4 - 260*x^2*y^19*z^4 - 165/2*x*y^20*z^4 - 1/2*y^21*z^4 + 22*x^3*y^17*z^5 + 789/2*x^2*y^18*z^5 - 342*x*y^19*z^5 - 85/2*y^20*z^5 + 167/2*x^3*y^16*z^6 + 9/2*x^2*y^17*z^6 + 1281/2*x*y^18*z^6 - 339/2*y^19*z^6 - 192*x^3*y^15*z^7 + 33/2*x^2*y^16*z^7 + 695/2*y^18*z^7 - 41*x^2*y^15*z^8 + 1/2*x^3*z^22 + 1/2*x^2*y*z^22 + 1/2*x*y^2*z^22 + y^3*z^22 + 5/2*x^2*z^23 - x*y*z^23 - 9/2*y^2*z^23 - 13*x*z^24 - 33/2*y*z^24 + 41*z^25] True True\n",
      "\n",
      " Ideal (x^4 + x*y^3 + y^3*z, x^23 + y^23 + z^23) of Multivariate Polynomial Ring in x, y, z over Rational Field\n",
      "0 [0] True False\n",
      "1 [0] True False\n",
      "2 [0] True False\n",
      "3 [0] True False\n",
      "4 [x^4 + x*y^3 + y^3*z] True False\n",
      "5 [x^5 + x^2*y^3 + x*y^3*z, x^4*y + x*y^4 + y^4*z, x^4*z + x*y^3*z + y^3*z^2, x^4 + x*y^3 + y^3*z] True False\n",
      "6 [x^6 + x^3*y^3 + x^2*y^3*z, x^5*y + x^2*y^4 + x*y^4*z, x^4*y^2 + x*y^5 + y^5*z, x^5*z + x^2*y^3*z + x*y^3*z^2, x^4*y*z + x*y^4*z + y^4*z^2, x^4*z^2 + x*y^3*z^2 + y^3*z^3, x^5 + x^2*y^3 + x*y^3*z, x^4*y + x*y^4 + y^4*z, x^4*z + x*y^3*z + y^3*z^2, x^4 + x*y^3 + y^3*z] True False\n",
      "7 Polynomial Sequence with 20 Polynomials in 3 Variables True False\n",
      "8 Polynomial Sequence with 35 Polynomials in 3 Variables True False\n",
      "9 Polynomial Sequence with 56 Polynomials in 3 Variables True False\n",
      "10 Polynomial Sequence with 84 Polynomials in 3 Variables True False\n",
      "11 Polynomial Sequence with 120 Polynomials in 3 Variables True False\n",
      "12 Polynomial Sequence with 165 Polynomials in 3 Variables True False\n",
      "13 Polynomial Sequence with 220 Polynomials in 3 Variables True False\n",
      "14 Polynomial Sequence with 286 Polynomials in 3 Variables True False\n",
      "15 Polynomial Sequence with 364 Polynomials in 3 Variables True False\n",
      "16 Polynomial Sequence with 455 Polynomials in 3 Variables True False\n",
      "17 Polynomial Sequence with 560 Polynomials in 3 Variables True False\n",
      "18 Polynomial Sequence with 680 Polynomials in 3 Variables True False\n",
      "19 Polynomial Sequence with 816 Polynomials in 3 Variables True False\n",
      "20 Polynomial Sequence with 969 Polynomials in 3 Variables True False\n",
      "21 Polynomial Sequence with 1140 Polynomials in 3 Variables True False\n",
      "22 Polynomial Sequence with 1330 Polynomials in 3 Variables True False\n",
      "23 Polynomial Sequence with 1541 Polynomials in 3 Variables False True\n",
      "24 Polynomial Sequence with 1775 Polynomials in 3 Variables False True\n",
      "25 Polynomial Sequence with 2034 Polynomials in 3 Variables False True\n",
      "26 Polynomial Sequence with 2320 Polynomials in 3 Variables True True\n",
      "4 [x^4 + x*y^3 + y^3*z] True False\n",
      "5 [x^4 + x*y^3 + y^3*z] True False\n",
      "6 [x^4 + x*y^3 + y^3*z] True False\n",
      "7 [x^4 + x*y^3 + y^3*z] True False\n",
      "8 [x^4 + x*y^3 + y^3*z] True False\n",
      "9 [x^4 + x*y^3 + y^3*z] True False\n",
      "10 [x^4 + x*y^3 + y^3*z] True False\n",
      "11 [x^4 + x*y^3 + y^3*z] True False\n",
      "12 [x^4 + x*y^3 + y^3*z] True False\n",
      "13 [x^4 + x*y^3 + y^3*z] True False\n",
      "14 [x^4 + x*y^3 + y^3*z] True False\n",
      "15 [x^4 + x*y^3 + y^3*z] True False\n",
      "16 [x^4 + x*y^3 + y^3*z] True False\n",
      "17 [x^4 + x*y^3 + y^3*z] True False\n",
      "18 [x^4 + x*y^3 + y^3*z] True False\n",
      "19 [x^4 + x*y^3 + y^3*z] True False\n",
      "20 [x^4 + x*y^3 + y^3*z] True False\n",
      "21 [x^4 + x*y^3 + y^3*z] True False\n",
      "22 [x^4 + x*y^3 + y^3*z] True False\n",
      "23 [x^4 + x*y^3 + y^3*z, x^2*y^21 - y^23 + 7*x*y^21*z - 15*x^3*y^18*z^2 + 6*y^21*z^2 - 20*x^2*y^18*z^3 - 15*x*y^18*z^4 + x^3*y^15*z^5 - 5*y^18*z^5 - z^23] False True\n",
      "24 [x^4 + x*y^3 + y^3*z, x^2*y^21 - y^23 + 7*x*y^21*z - 15*x^3*y^18*z^2 + 6*y^21*z^2 - 20*x^2*y^18*z^3 - 15*x*y^18*z^4 + x^3*y^15*z^5 - 5*y^18*z^5 - z^23] False True\n",
      "25 [x^4 + x*y^3 + y^3*z, x^2*y^21 - y^23 + 7*x*y^21*z - 15*x^3*y^18*z^2 + 6*y^21*z^2 - 20*x^2*y^18*z^3 - 15*x*y^18*z^4 + x^3*y^15*z^5 - 5*y^18*z^5 - z^23, x*y^24 + y^25 - 14*x*y^23*z + y^24*z + 15*x^3*y^20*z^2 + 22*y^23*z^2 + 20*x^2*y^20*z^3 - 84*x*y^21*z^3 + 295*x^3*y^18*z^4 + 15*x*y^20*z^4 - 83*y^21*z^4 - x^3*y^17*z^5 + 461*x^2*y^18*z^5 + 5*y^20*z^5 + 379*x*y^18*z^6 - 28*x^3*y^15*z^7 + 133*y^18*z^7 + x^2*z^23 + y^2*z^23 - 7*x*z^24 + 28*z^25] False True\n",
      "26 [x^4 + x*y^3 + y^3*z, x^2*y^21 - y^23 + 7*x*y^21*z - 15*x^3*y^18*z^2 + 6*y^21*z^2 - 20*x^2*y^18*z^3 - 15*x*y^18*z^4 + x^3*y^15*z^5 - 5*y^18*z^5 - z^23, x*y^24 + y^25 - 14*x*y^23*z + y^24*z + 15*x^3*y^20*z^2 + 22*y^23*z^2 + 20*x^2*y^20*z^3 - 84*x*y^21*z^3 + 295*x^3*y^18*z^4 + 15*x*y^20*z^4 - 83*y^21*z^4 - x^3*y^17*z^5 + 461*x^2*y^18*z^5 + 5*y^20*z^5 + 379*x*y^18*z^6 - 28*x^3*y^15*z^7 + 133*y^18*z^7 + x^2*z^23 + y^2*z^23 - 7*x*z^24 + 28*z^25, y^25*z - 217/23*x*y^23*z^2 + 36/23*y^24*z^2 + 310/23*x^3*y^20*z^3 - 84/23*x*y^22*z^3 + 191/23*y^23*z^3 + 295/23*x^3*y^19*z^4 + 425/23*x^2*y^20*z^4 - 882/23*x*y^21*z^4 - 83/23*y^22*z^4 + 3159/23*x^3*y^18*z^5 + 461/23*x^2*y^19*z^5 + 324/23*x*y^20*z^5 - 873/23*y^21*z^5 - 22/23*x^3*y^17*z^6 + 4989/23*x^2*y^18*z^6 + 379/23*x*y^19*z^6 + 109/23*y^20*z^6 - 28/23*x^3*y^16*z^7 + 4131/23*x*y^18*z^7 + 133/23*y^19*z^7 - 308/23*x^3*y^15*z^8 + 1456/23*y^18*z^8 - 1/23*x^3*z^23 + 1/23*x^2*y*z^23 - 1/23*x*y^2*z^23 + 15/23*x^2*z^24 - 7/23*x*y*z^24 + 22/23*y^2*z^24 - 84/23*x*z^25 + 28/23*y*z^25 + 308/23*z^26] True True\n",
      "\n",
      " Ideal (x^4 + x*y^3 + y^3*z, x^24 + y^24 + z^24) of Multivariate Polynomial Ring in x, y, z over Rational Field\n",
      "0 [0] True False\n",
      "1 [0] True False\n",
      "2 [0] True False\n",
      "3 [0] True False\n",
      "4 [x^4 + x*y^3 + y^3*z] True False\n",
      "5 [x^5 + x^2*y^3 + x*y^3*z, x^4*y + x*y^4 + y^4*z, x^4*z + x*y^3*z + y^3*z^2, x^4 + x*y^3 + y^3*z] True False\n",
      "6 [x^6 + x^3*y^3 + x^2*y^3*z, x^5*y + x^2*y^4 + x*y^4*z, x^4*y^2 + x*y^5 + y^5*z, x^5*z + x^2*y^3*z + x*y^3*z^2, x^4*y*z + x*y^4*z + y^4*z^2, x^4*z^2 + x*y^3*z^2 + y^3*z^3, x^5 + x^2*y^3 + x*y^3*z, x^4*y + x*y^4 + y^4*z, x^4*z + x*y^3*z + y^3*z^2, x^4 + x*y^3 + y^3*z] True False\n",
      "7 Polynomial Sequence with 20 Polynomials in 3 Variables True False\n",
      "8 Polynomial Sequence with 35 Polynomials in 3 Variables True False\n",
      "9 Polynomial Sequence with 56 Polynomials in 3 Variables True False\n",
      "10 Polynomial Sequence with 84 Polynomials in 3 Variables True False\n",
      "11 Polynomial Sequence with 120 Polynomials in 3 Variables True False\n",
      "12 Polynomial Sequence with 165 Polynomials in 3 Variables True False\n",
      "13 Polynomial Sequence with 220 Polynomials in 3 Variables True False\n",
      "14 Polynomial Sequence with 286 Polynomials in 3 Variables True False\n",
      "15 Polynomial Sequence with 364 Polynomials in 3 Variables True False\n",
      "16 Polynomial Sequence with 455 Polynomials in 3 Variables True False\n",
      "17 Polynomial Sequence with 560 Polynomials in 3 Variables True False\n",
      "18 Polynomial Sequence with 680 Polynomials in 3 Variables True False\n",
      "19 Polynomial Sequence with 816 Polynomials in 3 Variables True False\n",
      "20 Polynomial Sequence with 969 Polynomials in 3 Variables True False\n",
      "21 Polynomial Sequence with 1140 Polynomials in 3 Variables True False\n",
      "22 Polynomial Sequence with 1330 Polynomials in 3 Variables True False\n",
      "23 Polynomial Sequence with 1540 Polynomials in 3 Variables True False\n",
      "24 Polynomial Sequence with 1772 Polynomials in 3 Variables False True\n",
      "25 Polynomial Sequence with 2028 Polynomials in 3 Variables False True\n",
      "26 Polynomial Sequence with 2310 Polynomials in 3 Variables False True\n",
      "27 Polynomial Sequence with 2620 Polynomials in 3 Variables True True\n",
      "4 [x^4 + x*y^3 + y^3*z] True False\n",
      "5 [x^4 + x*y^3 + y^3*z] True False\n",
      "6 [x^4 + x*y^3 + y^3*z] True False\n",
      "7 [x^4 + x*y^3 + y^3*z] True False\n",
      "8 [x^4 + x*y^3 + y^3*z] True False\n"
     ]
    },
    {
     "name": "stdout",
     "output_type": "stream",
     "text": [
      "9 [x^4 + x*y^3 + y^3*z] True False\n",
      "10 [x^4 + x*y^3 + y^3*z] True False\n",
      "11 [x^4 + x*y^3 + y^3*z] True False\n",
      "12 [x^4 + x*y^3 + y^3*z] True False\n",
      "13 [x^4 + x*y^3 + y^3*z] True False\n",
      "14 [x^4 + x*y^3 + y^3*z] True False\n",
      "15 [x^4 + x*y^3 + y^3*z] True False\n",
      "16 [x^4 + x*y^3 + y^3*z] True False\n",
      "17 [x^4 + x*y^3 + y^3*z] True False\n",
      "18 [x^4 + x*y^3 + y^3*z] True False\n",
      "19 [x^4 + x*y^3 + y^3*z] True False\n",
      "20 [x^4 + x*y^3 + y^3*z] True False\n",
      "21 [x^4 + x*y^3 + y^3*z] True False\n",
      "22 [x^4 + x*y^3 + y^3*z] True False\n",
      "23 [x^4 + x*y^3 + y^3*z] True False\n",
      "24 [x^4 + x*y^3 + y^3*z, x^3*y^21 - y^24 + 7*x^2*y^21*z + 21*x*y^21*z^2 - 20*x^3*y^18*z^3 + 15*y^21*z^3 - 15*x^2*y^18*z^4 - 6*x*y^18*z^5 - y^18*z^6 - z^24] False True\n",
      "25 [x^4 + x*y^3 + y^3*z, x^3*y^21 - y^24 + 7*x^2*y^21*z + 21*x*y^21*z^2 - 20*x^3*y^18*z^3 + 15*y^21*z^3 - 15*x^2*y^18*z^4 - 6*x*y^18*z^5 - y^18*z^6 - z^24, x*y^24 - 3*y^24*z + 14*x^2*y^21*z^2 + 56*x*y^21*z^3 - 125/2*x^3*y^18*z^4 + 85/2*y^21*z^4 - 99/2*x^2*y^18*z^5 - 41/2*x*y^18*z^6 - 7/2*y^18*z^7 + 1/2*x*z^24 - 7/2*z^25] False True\n",
      "26 [x^4 + x*y^3 + y^3*z, x^3*y^21 - y^24 + 7*x^2*y^21*z + 21*x*y^21*z^2 - 20*x^3*y^18*z^3 + 15*y^21*z^3 - 15*x^2*y^18*z^4 - 6*x*y^18*z^5 - y^18*z^6 - z^24, x*y^24 - 3*y^24*z + 14*x^2*y^21*z^2 + 56*x*y^21*z^3 - 125/2*x^3*y^18*z^4 + 85/2*y^21*z^4 - 99/2*x^2*y^18*z^5 - 41/2*x*y^18*z^6 - 7/2*y^18*z^7 + 1/2*x*z^24 - 7/2*z^25] False True\n",
      "27 [x^4 + x*y^3 + y^3*z, x^3*y^21 - y^24 + 7*x^2*y^21*z + 21*x*y^21*z^2 - 20*x^3*y^18*z^3 + 15*y^21*z^3 - 15*x^2*y^18*z^4 - 6*x*y^18*z^5 - y^18*z^6 - z^24, x*y^24 - 3*y^24*z + 14*x^2*y^21*z^2 + 56*x*y^21*z^3 - 125/2*x^3*y^18*z^4 + 85/2*y^21*z^4 - 99/2*x^2*y^18*z^5 - 41/2*x*y^18*z^6 - 7/2*y^18*z^7 + 1/2*x*z^24 - 7/2*z^25, y^27 - 8*y^24*z^3 + 78*x^2*y^21*z^4 + 272*x*y^21*z^5 - 258*x^3*y^18*z^6 + 198*y^21*z^6 - 186*x^2*y^18*z^7 - 143/2*x*y^18*z^8 - 23/2*y^18*z^9 + 1/2*x^3*z^24 + y^3*z^24 + 3/2*x^2*z^25 - 5/2*x*z^26 - 23/2*z^27] True True\n",
      "\n",
      " Ideal (x^4 + x*y^3 + y^3*z, x^25 + y^25 + z^25) of Multivariate Polynomial Ring in x, y, z over Rational Field\n",
      "0 [0] True False\n",
      "1 [0] True False\n",
      "2 [0] True False\n",
      "3 [0] True False\n",
      "4 [x^4 + x*y^3 + y^3*z] True False\n",
      "5 [x^5 + x^2*y^3 + x*y^3*z, x^4*y + x*y^4 + y^4*z, x^4*z + x*y^3*z + y^3*z^2, x^4 + x*y^3 + y^3*z] True False\n",
      "6 [x^6 + x^3*y^3 + x^2*y^3*z, x^5*y + x^2*y^4 + x*y^4*z, x^4*y^2 + x*y^5 + y^5*z, x^5*z + x^2*y^3*z + x*y^3*z^2, x^4*y*z + x*y^4*z + y^4*z^2, x^4*z^2 + x*y^3*z^2 + y^3*z^3, x^5 + x^2*y^3 + x*y^3*z, x^4*y + x*y^4 + y^4*z, x^4*z + x*y^3*z + y^3*z^2, x^4 + x*y^3 + y^3*z] True False\n",
      "7 Polynomial Sequence with 20 Polynomials in 3 Variables True False\n",
      "8 Polynomial Sequence with 35 Polynomials in 3 Variables True False\n",
      "9 Polynomial Sequence with 56 Polynomials in 3 Variables True False\n",
      "10 Polynomial Sequence with 84 Polynomials in 3 Variables True False\n",
      "11 Polynomial Sequence with 120 Polynomials in 3 Variables True False\n",
      "12 Polynomial Sequence with 165 Polynomials in 3 Variables True False\n",
      "13 Polynomial Sequence with 220 Polynomials in 3 Variables True False\n",
      "14 Polynomial Sequence with 286 Polynomials in 3 Variables True False\n",
      "15 Polynomial Sequence with 364 Polynomials in 3 Variables True False\n",
      "16 Polynomial Sequence with 455 Polynomials in 3 Variables True False\n",
      "17 Polynomial Sequence with 560 Polynomials in 3 Variables True False\n",
      "18 Polynomial Sequence with 680 Polynomials in 3 Variables True False\n",
      "19 Polynomial Sequence with 816 Polynomials in 3 Variables True False\n",
      "20 Polynomial Sequence with 969 Polynomials in 3 Variables True False\n",
      "21 Polynomial Sequence with 1140 Polynomials in 3 Variables True False\n",
      "22 Polynomial Sequence with 1330 Polynomials in 3 Variables True False\n",
      "23 Polynomial Sequence with 1540 Polynomials in 3 Variables True False\n",
      "24 Polynomial Sequence with 1771 Polynomials in 3 Variables True False\n",
      "25 Polynomial Sequence with 2025 Polynomials in 3 Variables False True\n",
      "26 Polynomial Sequence with 2304 Polynomials in 3 Variables False True\n",
      "27 Polynomial Sequence with 2610 Polynomials in 3 Variables False True\n",
      "28 Polynomial Sequence with 2945 Polynomials in 3 Variables True True\n",
      "4 [x^4 + x*y^3 + y^3*z] True False\n",
      "5 [x^4 + x*y^3 + y^3*z] True False\n",
      "6 [x^4 + x*y^3 + y^3*z] True False\n",
      "7 [x^4 + x*y^3 + y^3*z] True False\n",
      "8 [x^4 + x*y^3 + y^3*z] True False\n",
      "9 [x^4 + x*y^3 + y^3*z] True False\n",
      "10 [x^4 + x*y^3 + y^3*z] True False\n",
      "11 [x^4 + x*y^3 + y^3*z] True False\n",
      "12 [x^4 + x*y^3 + y^3*z] True False\n",
      "13 [x^4 + x*y^3 + y^3*z] True False\n",
      "14 [x^4 + x*y^3 + y^3*z] True False\n",
      "15 [x^4 + x*y^3 + y^3*z] True False\n",
      "16 [x^4 + x*y^3 + y^3*z] True False\n",
      "17 [x^4 + x*y^3 + y^3*z] True False\n",
      "18 [x^4 + x*y^3 + y^3*z] True False\n",
      "19 [x^4 + x*y^3 + y^3*z] True False\n",
      "20 [x^4 + x*y^3 + y^3*z] True False\n",
      "21 [x^4 + x*y^3 + y^3*z] True False\n",
      "22 [x^4 + x*y^3 + y^3*z] True False\n",
      "23 [x^4 + x*y^3 + y^3*z] True False\n",
      "24 [x^4 + x*y^3 + y^3*z] True False\n",
      "25 [x^4 + x*y^3 + y^3*z, x*y^24 + y^25 - 7*x^3*y^21*z + y^24*z - 21*x^2*y^21*z^2 - 35*x*y^21*z^3 + 15*x^3*y^18*z^4 - 20*y^21*z^4 + 6*x^2*y^18*z^5 + x*y^18*z^6 + z^25] False True\n",
      "26 [x^4 + x*y^3 + y^3*z, x*y^24 + y^25 - 7*x^3*y^21*z + y^24*z - 21*x^2*y^21*z^2 - 35*x*y^21*z^3 + 15*x^3*y^18*z^4 - 20*y^21*z^4 + 6*x^2*y^18*z^5 + x*y^18*z^6 + z^25] False True\n",
      "27 [x^4 + x*y^3 + y^3*z, x*y^24 + y^25 - 7*x^3*y^21*z + y^24*z - 21*x^2*y^21*z^2 - 35*x*y^21*z^3 + 15*x^3*y^18*z^4 - 20*y^21*z^4 + 6*x^2*y^18*z^5 + x*y^18*z^6 + z^25] False True\n",
      "28 [x^4 + x*y^3 + y^3*z, x*y^24 + y^25 - 7*x^3*y^21*z + y^24*z - 21*x^2*y^21*z^2 - 35*x*y^21*z^3 + 15*x^3*y^18*z^4 - 20*y^21*z^4 + 6*x^2*y^18*z^5 + x*y^18*z^6 + z^25, y^27*z - 147/25*x^3*y^23*z^2 + 153/25*y^26*z^2 - 651/25*x^3*y^22*z^3 - 469/25*x^2*y^23*z^3 + 33/5*y^25*z^3 - 329/25*x^3*y^21*z^4 - 2331/25*x^2*y^22*z^4 - 161/5*x*y^23*z^4 + 1/25*y^24*z^4 + 354/25*x^3*y^20*z^5 - 1519/25*x^2*y^21*z^5 - 4221/25*x*y^22*z^5 - 93/5*y^23*z^5 + 389/5*x^3*y^19*z^6 + 143/25*x^2*y^20*z^6 - 3101/25*x*y^21*z^6 - 2486/25*y^22*z^6 + 1592/25*x^3*y^18*z^7 + 32*x^2*y^19*z^7 + 24/25*x*y^20*z^7 - 1907/25*y^21*z^7 + 684/25*x^2*y^18*z^8 + 136/25*x*y^19*z^8 + 24/5*x*y^18*z^9 - 1/25*x^3*z^25 + 1/25*x^2*y*z^25 - 1/25*x*y^2*z^25 + 8/25*x^2*z^26 - 16/25*x*y*z^26 + 24/25*y^2*z^26 - 36/25*x*z^27 + 136/25*y*z^27 + 24/5*z^28] True True\n",
      "\n",
      " Ideal (x^4 + x*y^3 + y^3*z, x^26 + y^26 + z^26) of Multivariate Polynomial Ring in x, y, z over Rational Field\n",
      "0 [0] True False\n",
      "1 [0] True False\n",
      "2 [0] True False\n",
      "3 [0] True False\n",
      "4 [x^4 + x*y^3 + y^3*z] True False\n",
      "5 [x^5 + x^2*y^3 + x*y^3*z, x^4*y + x*y^4 + y^4*z, x^4*z + x*y^3*z + y^3*z^2, x^4 + x*y^3 + y^3*z] True False\n",
      "6 [x^6 + x^3*y^3 + x^2*y^3*z, x^5*y + x^2*y^4 + x*y^4*z, x^4*y^2 + x*y^5 + y^5*z, x^5*z + x^2*y^3*z + x*y^3*z^2, x^4*y*z + x*y^4*z + y^4*z^2, x^4*z^2 + x*y^3*z^2 + y^3*z^3, x^5 + x^2*y^3 + x*y^3*z, x^4*y + x*y^4 + y^4*z, x^4*z + x*y^3*z + y^3*z^2, x^4 + x*y^3 + y^3*z] True False\n",
      "7 Polynomial Sequence with 20 Polynomials in 3 Variables True False\n",
      "8 Polynomial Sequence with 35 Polynomials in 3 Variables True False\n",
      "9 Polynomial Sequence with 56 Polynomials in 3 Variables True False\n",
      "10 Polynomial Sequence with 84 Polynomials in 3 Variables True False\n",
      "11 Polynomial Sequence with 120 Polynomials in 3 Variables True False\n",
      "12 Polynomial Sequence with 165 Polynomials in 3 Variables True False\n",
      "13 Polynomial Sequence with 220 Polynomials in 3 Variables True False\n",
      "14 Polynomial Sequence with 286 Polynomials in 3 Variables True False\n",
      "15 Polynomial Sequence with 364 Polynomials in 3 Variables True False\n",
      "16 Polynomial Sequence with 455 Polynomials in 3 Variables True False\n",
      "17 Polynomial Sequence with 560 Polynomials in 3 Variables True False\n",
      "18 Polynomial Sequence with 680 Polynomials in 3 Variables True False\n",
      "19 Polynomial Sequence with 816 Polynomials in 3 Variables True False\n",
      "20 Polynomial Sequence with 969 Polynomials in 3 Variables True False\n",
      "21 Polynomial Sequence with 1140 Polynomials in 3 Variables True False\n",
      "22 Polynomial Sequence with 1330 Polynomials in 3 Variables True False\n",
      "23 Polynomial Sequence with 1540 Polynomials in 3 Variables True False\n",
      "24 Polynomial Sequence with 1771 Polynomials in 3 Variables True False\n",
      "25 Polynomial Sequence with 2024 Polynomials in 3 Variables True False\n",
      "26 Polynomial Sequence with 2301 Polynomials in 3 Variables False True\n",
      "27 Polynomial Sequence with 2604 Polynomials in 3 Variables False True\n"
     ]
    },
    {
     "name": "stdout",
     "output_type": "stream",
     "text": [
      "28 Polynomial Sequence with 2935 Polynomials in 3 Variables False True\n",
      "29 Polynomial Sequence with 3296 Polynomials in 3 Variables True True\n",
      "4 [x^4 + x*y^3 + y^3*z] True False\n",
      "5 [x^4 + x*y^3 + y^3*z] True False\n",
      "6 [x^4 + x*y^3 + y^3*z] True False\n",
      "7 [x^4 + x*y^3 + y^3*z] True False\n",
      "8 [x^4 + x*y^3 + y^3*z] True False\n",
      "9 [x^4 + x*y^3 + y^3*z] True False\n",
      "10 [x^4 + x*y^3 + y^3*z] True False\n",
      "11 [x^4 + x*y^3 + y^3*z] True False\n",
      "12 [x^4 + x*y^3 + y^3*z] True False\n",
      "13 [x^4 + x*y^3 + y^3*z] True False\n",
      "14 [x^4 + x*y^3 + y^3*z] True False\n",
      "15 [x^4 + x*y^3 + y^3*z] True False\n",
      "16 [x^4 + x*y^3 + y^3*z] True False\n",
      "17 [x^4 + x*y^3 + y^3*z] True False\n",
      "18 [x^4 + x*y^3 + y^3*z] True False\n",
      "19 [x^4 + x*y^3 + y^3*z] True False\n",
      "20 [x^4 + x*y^3 + y^3*z] True False\n",
      "21 [x^4 + x*y^3 + y^3*z] True False\n",
      "22 [x^4 + x*y^3 + y^3*z] True False\n",
      "23 [x^4 + x*y^3 + y^3*z] True False\n",
      "24 [x^4 + x*y^3 + y^3*z] True False\n",
      "25 [x^4 + x*y^3 + y^3*z] True False\n",
      "26 [x^4 + x*y^3 + y^3*z, x^2*y^24 + y^26 + 8*x*y^24*z - 21*x^3*y^21*z^2 + 7*y^24*z^2 - 35*x^2*y^21*z^3 - 35*x*y^21*z^4 + 6*x^3*y^18*z^5 - 15*y^21*z^5 + x^2*y^18*z^6 + z^26] False True\n",
      "27 [x^4 + x*y^3 + y^3*z, x^2*y^24 + y^26 + 8*x*y^24*z - 21*x^3*y^21*z^2 + 7*y^24*z^2 - 35*x^2*y^21*z^3 - 35*x*y^21*z^4 + 6*x^3*y^18*z^5 - 15*y^21*z^5 + x^2*y^18*z^6 + z^26] False True\n",
      "28 [x^4 + x*y^3 + y^3*z, x^2*y^24 + y^26 + 8*x*y^24*z - 21*x^3*y^21*z^2 + 7*y^24*z^2 - 35*x^2*y^21*z^3 - 35*x*y^21*z^4 + 6*x^3*y^18*z^5 - 15*y^21*z^5 + x^2*y^18*z^6 + z^26, x*y^27 + y^28 + 16*x*y^26*z + y^27*z - 21*x^3*y^23*z^2 - 29*y^26*z^2 - 35*x^2*y^23*z^3 - 120*x*y^24*z^3 + 511*x^3*y^21*z^4 - 35*x*y^23*z^4 - 119*y^24*z^4 + 6*x^3*y^20*z^5 + 1001*x^2*y^21*z^5 - 15*y^23*z^5 + x^2*y^20*z^6 + 1099*x*y^21*z^6 - 208*x^3*y^18*z^7 + 493*y^21*z^7 - 36*x^2*y^18*z^8 - x^2*z^26 + y^2*z^26 + 8*x*z^27 - 36*z^28] False True\n",
      "29 [x^4 + x*y^3 + y^3*z, x^2*y^24 + y^26 + 8*x*y^24*z - 21*x^3*y^21*z^2 + 7*y^24*z^2 - 35*x^2*y^21*z^3 - 35*x*y^21*z^4 + 6*x^3*y^18*z^5 - 15*y^21*z^5 + x^2*y^18*z^6 + z^26, x*y^27 + y^28 + 16*x*y^26*z + y^27*z - 21*x^3*y^23*z^2 - 29*y^26*z^2 - 35*x^2*y^23*z^3 - 120*x*y^24*z^3 + 511*x^3*y^21*z^4 - 35*x*y^23*z^4 - 119*y^24*z^4 + 6*x^3*y^20*z^5 + 1001*x^2*y^21*z^5 - 15*y^23*z^5 + x^2*y^20*z^6 + 1099*x*y^21*z^6 - 208*x^3*y^18*z^7 + 493*y^21*z^7 - 36*x^2*y^18*z^8 - x^2*z^26 + y^2*z^26 + 8*x*z^27 - 36*z^28, y^29 - 3*y^28*z - 95*x*y^26*z^2 - 45/2*y^27*z^2 + 91*x^3*y^23*z^3 - 60*x*y^25*z^3 + 186*y^26*z^3 + 511/2*x^3*y^22*z^4 + 140*x^2*y^23*z^4 + 704*x*y^24*z^4 - 119/2*y^25*z^4 - 3053*x^3*y^21*z^5 + 1001/2*x^2*y^22*z^5 + 133*x*y^23*z^5 + 699*y^24*z^5 - 43/2*x^3*y^20*z^6 - 6040*x^2*y^21*z^6 + 1099/2*x*y^22*z^6 + 111/2*y^23*z^6 - 104*x^3*y^19*z^7 - 7/2*x^2*y^20*z^7 - 6675*x*y^21*z^7 + 493/2*y^22*z^7 + 1273*x^3*y^18*z^8 - 18*x^2*y^19*z^8 - 6009/2*y^21*z^8 + 221*x^2*y^18*z^9 + 1/2*x^3*z^26 - 1/2*x^2*y*z^26 - 1/2*x*y^2*z^26 + y^3*z^26 + 15/2*x^2*z^27 + 4*x*y*z^27 - 7/2*y^2*z^27 - 53*x*z^28 - 18*y*z^28 + 221*z^29] True True\n",
      "\n",
      " Ideal (x^4 + x*y^3 + y^3*z, x^27 + y^27 + z^27) of Multivariate Polynomial Ring in x, y, z over Rational Field\n",
      "0 [0] True False\n",
      "1 [0] True False\n",
      "2 [0] True False\n",
      "3 [0] True False\n",
      "4 [x^4 + x*y^3 + y^3*z] True False\n",
      "5 [x^5 + x^2*y^3 + x*y^3*z, x^4*y + x*y^4 + y^4*z, x^4*z + x*y^3*z + y^3*z^2, x^4 + x*y^3 + y^3*z] True False\n",
      "6 [x^6 + x^3*y^3 + x^2*y^3*z, x^5*y + x^2*y^4 + x*y^4*z, x^4*y^2 + x*y^5 + y^5*z, x^5*z + x^2*y^3*z + x*y^3*z^2, x^4*y*z + x*y^4*z + y^4*z^2, x^4*z^2 + x*y^3*z^2 + y^3*z^3, x^5 + x^2*y^3 + x*y^3*z, x^4*y + x*y^4 + y^4*z, x^4*z + x*y^3*z + y^3*z^2, x^4 + x*y^3 + y^3*z] True False\n",
      "7 Polynomial Sequence with 20 Polynomials in 3 Variables True False\n",
      "8 Polynomial Sequence with 35 Polynomials in 3 Variables True False\n",
      "9 Polynomial Sequence with 56 Polynomials in 3 Variables True False\n",
      "10 Polynomial Sequence with 84 Polynomials in 3 Variables True False\n",
      "11 Polynomial Sequence with 120 Polynomials in 3 Variables True False\n",
      "12 Polynomial Sequence with 165 Polynomials in 3 Variables True False\n",
      "13 Polynomial Sequence with 220 Polynomials in 3 Variables True False\n",
      "14 Polynomial Sequence with 286 Polynomials in 3 Variables True False\n",
      "15 Polynomial Sequence with 364 Polynomials in 3 Variables True False\n",
      "16 Polynomial Sequence with 455 Polynomials in 3 Variables True False\n",
      "17 Polynomial Sequence with 560 Polynomials in 3 Variables True False\n",
      "18 Polynomial Sequence with 680 Polynomials in 3 Variables True False\n",
      "19 Polynomial Sequence with 816 Polynomials in 3 Variables True False\n",
      "20 Polynomial Sequence with 969 Polynomials in 3 Variables True False\n",
      "21 Polynomial Sequence with 1140 Polynomials in 3 Variables True False\n",
      "22 Polynomial Sequence with 1330 Polynomials in 3 Variables True False\n",
      "23 Polynomial Sequence with 1540 Polynomials in 3 Variables True False\n",
      "24 Polynomial Sequence with 1771 Polynomials in 3 Variables True False\n",
      "25 Polynomial Sequence with 2024 Polynomials in 3 Variables True False\n",
      "26 Polynomial Sequence with 2300 Polynomials in 3 Variables True False\n",
      "27 Polynomial Sequence with 2601 Polynomials in 3 Variables False True\n",
      "28 Polynomial Sequence with 2929 Polynomials in 3 Variables True True\n",
      "4 [x^4 + x*y^3 + y^3*z] True False\n",
      "5 [x^4 + x*y^3 + y^3*z] True False\n",
      "6 [x^4 + x*y^3 + y^3*z] True False\n",
      "7 [x^4 + x*y^3 + y^3*z] True False\n",
      "8 [x^4 + x*y^3 + y^3*z] True False\n",
      "9 [x^4 + x*y^3 + y^3*z] True False\n",
      "10 [x^4 + x*y^3 + y^3*z] True False\n",
      "11 [x^4 + x*y^3 + y^3*z] True False\n",
      "12 [x^4 + x*y^3 + y^3*z] True False\n",
      "13 [x^4 + x*y^3 + y^3*z] True False\n",
      "14 [x^4 + x*y^3 + y^3*z] True False\n",
      "15 [x^4 + x*y^3 + y^3*z] True False\n",
      "16 [x^4 + x*y^3 + y^3*z] True False\n",
      "17 [x^4 + x*y^3 + y^3*z] True False\n",
      "18 [x^4 + x*y^3 + y^3*z] True False\n",
      "19 [x^4 + x*y^3 + y^3*z] True False\n",
      "20 [x^4 + x*y^3 + y^3*z] True False\n",
      "21 [x^4 + x*y^3 + y^3*z] True False\n",
      "22 [x^4 + x*y^3 + y^3*z] True False\n",
      "23 [x^4 + x*y^3 + y^3*z] True False\n",
      "24 [x^4 + x*y^3 + y^3*z] True False\n",
      "25 [x^4 + x*y^3 + y^3*z] True False\n",
      "26 [x^4 + x*y^3 + y^3*z] True False\n",
      "27 [x^4 + x*y^3 + y^3*z, x^3*y^24 + y^27 + 8*x^2*y^24*z + 28*x*y^24*z^2 - 35*x^3*y^21*z^3 + 21*y^24*z^3 - 35*x^2*y^21*z^4 - 21*x*y^21*z^5 + x^3*y^18*z^6 - 6*y^21*z^6 + z^27] False True\n",
      "28 [x^4 + x*y^3 + y^3*z, x^3*y^24 + y^27 + 8*x^2*y^24*z + 28*x*y^24*z^2 - 35*x^3*y^21*z^3 + 21*y^24*z^3 - 35*x^2*y^21*z^4 - 21*x*y^21*z^5 + x^3*y^18*z^6 - 6*y^21*z^6 + z^27, y^27*z + 4*x^2*y^24*z^2 + 56/3*x*y^24*z^3 - 245/9*x^3*y^21*z^4 + 133/9*y^24*z^4 - 259/9*x^2*y^21*z^5 - 161/9*x*y^21*z^6 + 8/9*x^3*y^18*z^7 - 47/9*y^21*z^7 - 1/9*x*z^27 + 8/9*z^28] True True\n",
      "\n",
      " Ideal (x^4 + x*y^3 + y^3*z, x^28 + y^28 + z^28) of Multivariate Polynomial Ring in x, y, z over Rational Field\n",
      "0 [0] True False\n",
      "1 [0] True False\n",
      "2 [0] True False\n",
      "3 [0] True False\n",
      "4 [x^4 + x*y^3 + y^3*z] True False\n",
      "5 [x^5 + x^2*y^3 + x*y^3*z, x^4*y + x*y^4 + y^4*z, x^4*z + x*y^3*z + y^3*z^2, x^4 + x*y^3 + y^3*z] True False\n",
      "6 [x^6 + x^3*y^3 + x^2*y^3*z, x^5*y + x^2*y^4 + x*y^4*z, x^4*y^2 + x*y^5 + y^5*z, x^5*z + x^2*y^3*z + x*y^3*z^2, x^4*y*z + x*y^4*z + y^4*z^2, x^4*z^2 + x*y^3*z^2 + y^3*z^3, x^5 + x^2*y^3 + x*y^3*z, x^4*y + x*y^4 + y^4*z, x^4*z + x*y^3*z + y^3*z^2, x^4 + x*y^3 + y^3*z] True False\n",
      "7 Polynomial Sequence with 20 Polynomials in 3 Variables True False\n",
      "8 Polynomial Sequence with 35 Polynomials in 3 Variables True False\n",
      "9 Polynomial Sequence with 56 Polynomials in 3 Variables True False\n",
      "10 Polynomial Sequence with 84 Polynomials in 3 Variables True False\n",
      "11 Polynomial Sequence with 120 Polynomials in 3 Variables True False\n",
      "12 Polynomial Sequence with 165 Polynomials in 3 Variables True False\n",
      "13 Polynomial Sequence with 220 Polynomials in 3 Variables True False\n",
      "14 Polynomial Sequence with 286 Polynomials in 3 Variables True False\n",
      "15 Polynomial Sequence with 364 Polynomials in 3 Variables True False\n",
      "16 Polynomial Sequence with 455 Polynomials in 3 Variables True False\n",
      "17 Polynomial Sequence with 560 Polynomials in 3 Variables True False\n",
      "18 Polynomial Sequence with 680 Polynomials in 3 Variables True False\n",
      "19 Polynomial Sequence with 816 Polynomials in 3 Variables True False\n",
      "20 Polynomial Sequence with 969 Polynomials in 3 Variables True False\n",
      "21 Polynomial Sequence with 1140 Polynomials in 3 Variables True False\n",
      "22 Polynomial Sequence with 1330 Polynomials in 3 Variables True False\n",
      "23 Polynomial Sequence with 1540 Polynomials in 3 Variables True False\n"
     ]
    },
    {
     "name": "stdout",
     "output_type": "stream",
     "text": [
      "24 Polynomial Sequence with 1771 Polynomials in 3 Variables True False\n",
      "25 Polynomial Sequence with 2024 Polynomials in 3 Variables True False\n",
      "26 Polynomial Sequence with 2300 Polynomials in 3 Variables True False\n",
      "27 Polynomial Sequence with 2600 Polynomials in 3 Variables True False\n",
      "28 Polynomial Sequence with 2926 Polynomials in 3 Variables False True\n",
      "29 Polynomial Sequence with 3280 Polynomials in 3 Variables False True\n",
      "30 Polynomial Sequence with 3664 Polynomials in 3 Variables False True\n",
      "31 Polynomial Sequence with 4080 Polynomials in 3 Variables True True\n",
      "4 [x^4 + x*y^3 + y^3*z] True False\n",
      "5 [x^4 + x*y^3 + y^3*z] True False\n",
      "6 [x^4 + x*y^3 + y^3*z] True False\n",
      "7 [x^4 + x*y^3 + y^3*z] True False\n",
      "8 [x^4 + x*y^3 + y^3*z] True False\n",
      "9 [x^4 + x*y^3 + y^3*z] True False\n",
      "10 [x^4 + x*y^3 + y^3*z] True False\n",
      "11 [x^4 + x*y^3 + y^3*z] True False\n",
      "12 [x^4 + x*y^3 + y^3*z] True False\n",
      "13 [x^4 + x*y^3 + y^3*z] True False\n",
      "14 [x^4 + x*y^3 + y^3*z] True False\n",
      "15 [x^4 + x*y^3 + y^3*z] True False\n",
      "16 [x^4 + x*y^3 + y^3*z] True False\n",
      "17 [x^4 + x*y^3 + y^3*z] True False\n",
      "18 [x^4 + x*y^3 + y^3*z] True False\n",
      "19 [x^4 + x*y^3 + y^3*z] True False\n",
      "20 [x^4 + x*y^3 + y^3*z] True False\n",
      "21 [x^4 + x*y^3 + y^3*z] True False\n",
      "22 [x^4 + x*y^3 + y^3*z] True False\n",
      "23 [x^4 + x*y^3 + y^3*z] True False\n",
      "24 [x^4 + x*y^3 + y^3*z] True False\n",
      "25 [x^4 + x*y^3 + y^3*z] True False\n",
      "26 [x^4 + x*y^3 + y^3*z] True False\n",
      "27 [x^4 + x*y^3 + y^3*z] True False\n",
      "28 [x^4 + x*y^3 + y^3*z, x*y^27 - y^28 - 8*x^3*y^24*z + y^27*z - 28*x^2*y^24*z^2 - 56*x*y^24*z^3 + 35*x^3*y^21*z^4 - 35*y^24*z^4 + 21*x^2*y^21*z^5 + 7*x*y^21*z^6 + y^21*z^7 - z^28] False True\n",
      "29 [x^4 + x*y^3 + y^3*z, x*y^27 - y^28 - 8*x^3*y^24*z + y^27*z - 28*x^2*y^24*z^2 - 56*x*y^24*z^3 + 35*x^3*y^21*z^4 - 35*y^24*z^4 + 21*x^2*y^21*z^5 + 7*x*y^21*z^6 + y^21*z^7 - z^28] False True\n",
      "30 [x^4 + x*y^3 + y^3*z, x*y^27 - y^28 - 8*x^3*y^24*z + y^27*z - 28*x^2*y^24*z^2 - 56*x*y^24*z^3 + 35*x^3*y^21*z^4 - 35*y^24*z^4 + 21*x^2*y^21*z^5 + 7*x*y^21*z^6 + y^21*z^7 - z^28] False True\n",
      "31 [x^4 + x*y^3 + y^3*z, x*y^27 - y^28 - 8*x^3*y^24*z + y^27*z - 28*x^2*y^24*z^2 - 56*x*y^24*z^3 + 35*x^3*y^21*z^4 - 35*y^24*z^4 + 21*x^2*y^21*z^5 + 7*x*y^21*z^6 + y^21*z^7 - z^28, y^31 - 6*y^30*z - 30*x^3*y^26*z^2 - 29*y^29*z^2 - 244*x^3*y^25*z^3 - 126*x^2*y^26*z^3 + 106*y^28*z^3 + 246*x^3*y^24*z^4 - 875*x^2*y^25*z^4 - 273*x*y^26*z^4 - 1/2*y^27*z^4 + 182*x^3*y^23*z^5 + 1330*x^2*y^24*z^5 - 1750*x*y^25*z^5 - 175*y^26*z^5 + 1085*x^3*y^22*z^6 + 112*x^2*y^23*z^6 + 3262*x*y^24*z^6 - 1092*y^25*z^6 - 2426*x^3*y^21*z^7 + 647*x^2*y^22*z^7 + 38*x*y^23*z^7 + 2176*y^24*z^7 - 3129/2*x^2*y^21*z^8 + 429/2*x*y^22*z^8 + 11/2*y^23*z^8 - 549*x*y^21*z^9 + 61/2*y^22*z^9 - 163/2*y^21*z^10 + 1/2*x^3*z^28 + 1/2*x^2*y*z^28 + 1/2*x*y^2*z^28 + y^3*z^28 + 7/2*x^2*z^29 - x*y*z^29 - 11/2*y^2*z^29 - 43/2*x*z^30 - 61/2*y*z^30 + 163/2*z^31] True True\n",
      "\n",
      " Ideal (x^4 + x*y^3 + y^3*z, x^29 + y^29 + z^29) of Multivariate Polynomial Ring in x, y, z over Rational Field\n",
      "0 [0] True False\n",
      "1 [0] True False\n",
      "2 [0] True False\n",
      "3 [0] True False\n",
      "4 [x^4 + x*y^3 + y^3*z] True False\n",
      "5 [x^5 + x^2*y^3 + x*y^3*z, x^4*y + x*y^4 + y^4*z, x^4*z + x*y^3*z + y^3*z^2, x^4 + x*y^3 + y^3*z] True False\n",
      "6 [x^6 + x^3*y^3 + x^2*y^3*z, x^5*y + x^2*y^4 + x*y^4*z, x^4*y^2 + x*y^5 + y^5*z, x^5*z + x^2*y^3*z + x*y^3*z^2, x^4*y*z + x*y^4*z + y^4*z^2, x^4*z^2 + x*y^3*z^2 + y^3*z^3, x^5 + x^2*y^3 + x*y^3*z, x^4*y + x*y^4 + y^4*z, x^4*z + x*y^3*z + y^3*z^2, x^4 + x*y^3 + y^3*z] True False\n",
      "7 Polynomial Sequence with 20 Polynomials in 3 Variables True False\n",
      "8 Polynomial Sequence with 35 Polynomials in 3 Variables True False\n",
      "9 Polynomial Sequence with 56 Polynomials in 3 Variables True False\n",
      "10 Polynomial Sequence with 84 Polynomials in 3 Variables True False\n",
      "11 Polynomial Sequence with 120 Polynomials in 3 Variables True False\n",
      "12 Polynomial Sequence with 165 Polynomials in 3 Variables True False\n",
      "13 Polynomial Sequence with 220 Polynomials in 3 Variables True False\n",
      "14 Polynomial Sequence with 286 Polynomials in 3 Variables True False\n",
      "15 Polynomial Sequence with 364 Polynomials in 3 Variables True False\n",
      "16 Polynomial Sequence with 455 Polynomials in 3 Variables True False\n",
      "17 Polynomial Sequence with 560 Polynomials in 3 Variables True False\n",
      "18 Polynomial Sequence with 680 Polynomials in 3 Variables True False\n",
      "19 Polynomial Sequence with 816 Polynomials in 3 Variables True False\n",
      "20 Polynomial Sequence with 969 Polynomials in 3 Variables True False\n",
      "21 Polynomial Sequence with 1140 Polynomials in 3 Variables True False\n",
      "22 Polynomial Sequence with 1330 Polynomials in 3 Variables True False\n",
      "23 Polynomial Sequence with 1540 Polynomials in 3 Variables True False\n",
      "24 Polynomial Sequence with 1771 Polynomials in 3 Variables True False\n",
      "25 Polynomial Sequence with 2024 Polynomials in 3 Variables True False\n",
      "26 Polynomial Sequence with 2300 Polynomials in 3 Variables True False\n",
      "27 Polynomial Sequence with 2600 Polynomials in 3 Variables True False\n",
      "28 Polynomial Sequence with 2925 Polynomials in 3 Variables True False\n",
      "29 Polynomial Sequence with 3277 Polynomials in 3 Variables False True\n",
      "30 Polynomial Sequence with 3658 Polynomials in 3 Variables False True\n",
      "31 Polynomial Sequence with 4070 Polynomials in 3 Variables False True\n",
      "32 Polynomial Sequence with 4515 Polynomials in 3 Variables True True\n",
      "4 [x^4 + x*y^3 + y^3*z] True False\n",
      "5 [x^4 + x*y^3 + y^3*z] True False\n",
      "6 [x^4 + x*y^3 + y^3*z] True False\n",
      "7 [x^4 + x*y^3 + y^3*z] True False\n",
      "8 [x^4 + x*y^3 + y^3*z] True False\n",
      "9 [x^4 + x*y^3 + y^3*z] True False\n",
      "10 [x^4 + x*y^3 + y^3*z] True False\n",
      "11 [x^4 + x*y^3 + y^3*z] True False\n",
      "12 [x^4 + x*y^3 + y^3*z] True False\n",
      "13 [x^4 + x*y^3 + y^3*z] True False\n",
      "14 [x^4 + x*y^3 + y^3*z] True False\n",
      "15 [x^4 + x*y^3 + y^3*z] True False\n",
      "16 [x^4 + x*y^3 + y^3*z] True False\n",
      "17 [x^4 + x*y^3 + y^3*z] True False\n",
      "18 [x^4 + x*y^3 + y^3*z] True False\n",
      "19 [x^4 + x*y^3 + y^3*z] True False\n",
      "20 [x^4 + x*y^3 + y^3*z] True False\n",
      "21 [x^4 + x*y^3 + y^3*z] True False\n",
      "22 [x^4 + x*y^3 + y^3*z] True False\n",
      "23 [x^4 + x*y^3 + y^3*z] True False\n",
      "24 [x^4 + x*y^3 + y^3*z] True False\n",
      "25 [x^4 + x*y^3 + y^3*z] True False\n",
      "26 [x^4 + x*y^3 + y^3*z] True False\n",
      "27 [x^4 + x*y^3 + y^3*z] True False\n",
      "28 [x^4 + x*y^3 + y^3*z] True False\n",
      "29 [x^4 + x*y^3 + y^3*z, x^2*y^27 - y^29 + 9*x*y^27*z - 28*x^3*y^24*z^2 + 8*y^27*z^2 - 56*x^2*y^24*z^3 - 70*x*y^24*z^4 + 21*x^3*y^21*z^5 - 35*y^24*z^5 + 7*x^2*y^21*z^6 + x*y^21*z^7 - z^29] False True\n",
      "30 [x^4 + x*y^3 + y^3*z, x^2*y^27 - y^29 + 9*x*y^27*z - 28*x^3*y^24*z^2 + 8*y^27*z^2 - 56*x^2*y^24*z^3 - 70*x*y^24*z^4 + 21*x^3*y^21*z^5 - 35*y^24*z^5 + 7*x^2*y^21*z^6 + x*y^21*z^7 - z^29] False True\n",
      "31 [x^4 + x*y^3 + y^3*z, x^2*y^27 - y^29 + 9*x*y^27*z - 28*x^3*y^24*z^2 + 8*y^27*z^2 - 56*x^2*y^24*z^3 - 70*x*y^24*z^4 + 21*x^3*y^21*z^5 - 35*y^24*z^5 + 7*x^2*y^21*z^6 + x*y^21*z^7 - z^29, x*y^30 + y^31 - 18*x*y^29*z + y^30*z + 28*x^3*y^26*z^2 + 37*y^29*z^2 + 56*x^2*y^26*z^3 - 165*x*y^27*z^3 + 826*x^3*y^24*z^4 + 70*x*y^26*z^4 - 164*y^27*z^4 - 21*x^3*y^23*z^5 + 1946*x^2*y^24*z^5 + 35*y^26*z^5 - 7*x^2*y^23*z^6 + 2674*x*y^24*z^6 - 883*x^3*y^21*z^7 - x*y^23*z^7 + 1393*y^24*z^7 - 306*x^2*y^21*z^8 - 45*x*y^21*z^9 + x^2*z^29 + y^2*z^29 - 9*x*z^30 + 45*z^31] False True\n",
      "32 [x^4 + x*y^3 + y^3*z, x^2*y^27 - y^29 + 9*x*y^27*z - 28*x^3*y^24*z^2 + 8*y^27*z^2 - 56*x^2*y^24*z^3 - 70*x*y^24*z^4 + 21*x^3*y^21*z^5 - 35*y^24*z^5 + 7*x^2*y^21*z^6 + x*y^21*z^7 - z^29, x*y^30 + y^31 - 18*x*y^29*z + y^30*z + 28*x^3*y^26*z^2 + 37*y^29*z^2 + 56*x^2*y^26*z^3 - 165*x*y^27*z^3 + 826*x^3*y^24*z^4 + 70*x*y^26*z^4 - 164*y^27*z^4 - 21*x^3*y^23*z^5 + 1946*x^2*y^24*z^5 + 35*y^26*z^5 - 7*x^2*y^23*z^6 + 2674*x*y^24*z^6 - 883*x^3*y^21*z^7 - x*y^23*z^7 + 1393*y^24*z^7 - 306*x^2*y^21*z^8 - 45*x*y^21*z^9 + x^2*z^29 + y^2*z^29 - 9*x*z^30 + 45*z^31, y^31*z - 351/29*x*y^29*z^2 + 55/29*y^30*z^2 + 728/29*x^3*y^26*z^3 - 165/29*x*y^28*z^3 + 419/29*y^29*z^3 + 826/29*x^3*y^25*z^4 + 1498/29*x^2*y^26*z^4 - 2145/29*x*y^27*z^4 - 164/29*y^28*z^4 + 10934/29*x^3*y^24*z^5 + 1946/29*x^2*y^25*z^5 + 1904/29*x*y^26*z^5 - 2134/29*y^27*z^5 - 581/29*x^3*y^23*z^6 + 26026/29*x^2*y^24*z^6 + 2674/29*x*y^25*z^6 + 959/29*y^26*z^6 - 883/29*x^3*y^22*z^7 - 195/29*x^2*y^23*z^7 + 36014/29*x*y^24*z^7 + 1393/29*y^25*z^7 - 11989/29*x^3*y^21*z^8 - 306/29*x^2*y^22*z^8 - 28/29*x*y^23*z^8 + 18822/29*y^24*z^8 - 4170/29*x^2*y^21*z^9 - 45/29*x*y^22*z^9 - 615/29*x*y^21*z^10 - 1/29*x^3*z^29 + 1/29*x^2*y*z^29 - 1/29*x*y^2*z^29 + 19/29*x^2*z^30 - 9/29*x*y*z^30 + 28/29*y^2*z^30 - 135/29*x*z^31 + 45/29*y*z^31 + 615/29*z^32] True True\n",
      "\n",
      " Results: \n",
      " [8, 9, 10, 11, 10, 13, 14, 15, 16, 17, 16, 19, 20, 21, 22, 23, 22, 25, 26, 27, 28, 29, 28, 31, 32] \n",
      " [8, 9, 10, 11, 10, 13, 14, 15, 16, 17, 16, 19, 20, 21, 22, 23, 22, 25, 26, 27, 28, 29, 28, 31, 32] \n",
      " [7, 8, 9, 10, 11, 12, 13, 14, 15, 16, 17, 18, 19, 20, 21, 22, 23, 24, 25, 26, 27, 28, 29, 30, 31]\n"
     ]
    }
   ],
   "source": [
    "R.<x,y,z> = PolynomialRing(QQ, order = 'degrevlex')\n",
    "sdegs = []\n",
    "f5degs = []\n",
    "degregs = []\n",
    "for i in range(5,30):\n",
    "    f1 = x^4 + x*y^3 + z*y^3\n",
    "    f2 = x^i + y^i + z^i\n",
    "    I = Ideal(f1,f2)\n",
    "    print('\\n',I)\n",
    "    sdegs.append(mac_grob([f1,f2],R)[0])\n",
    "    f5degs.append(f5_grob([f1,f2],R)[0])\n",
    "    degregs.append(degree_reg(I,R))\n",
    "print('\\n', \"Results:\", '\\n', sdegs, '\\n', f5degs, '\\n', degregs)"
   ]
  },
  {
   "cell_type": "code",
   "execution_count": 369,
   "metadata": {},
   "outputs": [
    {
     "name": "stdout",
     "output_type": "stream",
     "text": [
      "\n",
      " Ideal (x^3 + y^3 + z^3, y^4 + z^4) of Multivariate Polynomial Ring in x, y, z over Rational Field\n",
      "0 [0] True False\n",
      "1 [0] True False\n",
      "2 [0] True False\n",
      "3 [x^3 + y^3 + z^3] True False\n",
      "4 [x^4 + x*y^3 + x*z^3, x^3*y + y*z^3 - z^4, y^4 + z^4, x^3*z + y^3*z + z^4, x^3 + y^3 + z^3] True True\n",
      "\n",
      " Ideal (x^3 + y^3 + z^3, y^5 + z^5) of Multivariate Polynomial Ring in x, y, z over Rational Field\n",
      "0 [0] True False\n",
      "1 [0] True False\n",
      "2 [0] True False\n",
      "3 [x^3 + y^3 + z^3] True False\n",
      "4 [x^4 + x*y^3 + x*z^3, x^3*y + y^4 + y*z^3, x^3*z + y^3*z + z^4, x^3 + y^3 + z^3] True False\n",
      "5 [x^5 + x^2*y^3 + x^2*z^3, x^4*y + x*y^4 + x*y*z^3, x^3*y^2 + y^2*z^3 - z^5, y^5 + z^5, x^4*z + x*y^3*z + x*z^4, x^3*y*z + y^4*z + y*z^4, x^3*z^2 + y^3*z^2 + z^5, x^4 + x*y^3 + x*z^3, x^3*y + y^4 + y*z^3, x^3*z + y^3*z + z^4, x^3 + y^3 + z^3] True True\n",
      "\n",
      " Ideal (x^3 + y^3 + z^3, y^6 + z^6) of Multivariate Polynomial Ring in x, y, z over Rational Field\n",
      "0 [0] True False\n",
      "1 [0] True False\n",
      "2 [0] True False\n",
      "3 [x^3 + y^3 + z^3] True False\n",
      "4 [x^4 + x*y^3 + x*z^3, x^3*y + y^4 + y*z^3, x^3*z + y^3*z + z^4, x^3 + y^3 + z^3] True False\n",
      "5 [x^5 + x^2*y^3 + x^2*z^3, x^4*y + x*y^4 + x*y*z^3, x^3*y^2 + y^5 + y^2*z^3, x^4*z + x*y^3*z + x*z^4, x^3*y*z + y^4*z + y*z^4, x^3*z^2 + y^3*z^2 + z^5, x^4 + x*y^3 + x*z^3, x^3*y + y^4 + y*z^3, x^3*z + y^3*z + z^4, x^3 + y^3 + z^3] True False\n",
      "6 Polynomial Sequence with 21 Polynomials in 3 Variables True True\n",
      "\n",
      " Ideal (x^3 + y^3 + z^3, y^7 + z^7) of Multivariate Polynomial Ring in x, y, z over Rational Field\n",
      "0 [0] True False\n",
      "1 [0] True False\n",
      "2 [0] True False\n",
      "3 [x^3 + y^3 + z^3] True False\n",
      "4 [x^4 + x*y^3 + x*z^3, x^3*y + y^4 + y*z^3, x^3*z + y^3*z + z^4, x^3 + y^3 + z^3] True False\n",
      "5 [x^5 + x^2*y^3 + x^2*z^3, x^4*y + x*y^4 + x*y*z^3, x^3*y^2 + y^5 + y^2*z^3, x^4*z + x*y^3*z + x*z^4, x^3*y*z + y^4*z + y*z^4, x^3*z^2 + y^3*z^2 + z^5, x^4 + x*y^3 + x*z^3, x^3*y + y^4 + y*z^3, x^3*z + y^3*z + z^4, x^3 + y^3 + z^3] True False\n",
      "6 Polynomial Sequence with 20 Polynomials in 3 Variables True False\n",
      "7 Polynomial Sequence with 36 Polynomials in 3 Variables True True\n",
      "\n",
      " Ideal (x^3 + y^3 + z^3, y^8 + z^8) of Multivariate Polynomial Ring in x, y, z over Rational Field\n",
      "0 [0] True False\n",
      "1 [0] True False\n",
      "2 [0] True False\n",
      "3 [x^3 + y^3 + z^3] True False\n",
      "4 [x^4 + x*y^3 + x*z^3, x^3*y + y^4 + y*z^3, x^3*z + y^3*z + z^4, x^3 + y^3 + z^3] True False\n",
      "5 [x^5 + x^2*y^3 + x^2*z^3, x^4*y + x*y^4 + x*y*z^3, x^3*y^2 + y^5 + y^2*z^3, x^4*z + x*y^3*z + x*z^4, x^3*y*z + y^4*z + y*z^4, x^3*z^2 + y^3*z^2 + z^5, x^4 + x*y^3 + x*z^3, x^3*y + y^4 + y*z^3, x^3*z + y^3*z + z^4, x^3 + y^3 + z^3] True False\n",
      "6 Polynomial Sequence with 20 Polynomials in 3 Variables True False\n",
      "7 Polynomial Sequence with 35 Polynomials in 3 Variables True False\n",
      "8 Polynomial Sequence with 57 Polynomials in 3 Variables True True\n",
      "\n",
      " Ideal (x^3 + y^3 + z^3, y^9 + z^9) of Multivariate Polynomial Ring in x, y, z over Rational Field\n",
      "0 [0] True False\n",
      "1 [0] True False\n",
      "2 [0] True False\n",
      "3 [x^3 + y^3 + z^3] True False\n",
      "4 [x^4 + x*y^3 + x*z^3, x^3*y + y^4 + y*z^3, x^3*z + y^3*z + z^4, x^3 + y^3 + z^3] True False\n",
      "5 [x^5 + x^2*y^3 + x^2*z^3, x^4*y + x*y^4 + x*y*z^3, x^3*y^2 + y^5 + y^2*z^3, x^4*z + x*y^3*z + x*z^4, x^3*y*z + y^4*z + y*z^4, x^3*z^2 + y^3*z^2 + z^5, x^4 + x*y^3 + x*z^3, x^3*y + y^4 + y*z^3, x^3*z + y^3*z + z^4, x^3 + y^3 + z^3] True False\n",
      "6 Polynomial Sequence with 20 Polynomials in 3 Variables True False\n",
      "7 Polynomial Sequence with 35 Polynomials in 3 Variables True False\n",
      "8 Polynomial Sequence with 56 Polynomials in 3 Variables True False\n",
      "9 Polynomial Sequence with 85 Polynomials in 3 Variables True True\n",
      "\n",
      " Ideal (x^3 + y^3 + z^3, y^10 + z^10) of Multivariate Polynomial Ring in x, y, z over Rational Field\n",
      "0 [0] True False\n",
      "1 [0] True False\n",
      "2 [0] True False\n",
      "3 [x^3 + y^3 + z^3] True False\n",
      "4 [x^4 + x*y^3 + x*z^3, x^3*y + y^4 + y*z^3, x^3*z + y^3*z + z^4, x^3 + y^3 + z^3] True False\n",
      "5 [x^5 + x^2*y^3 + x^2*z^3, x^4*y + x*y^4 + x*y*z^3, x^3*y^2 + y^5 + y^2*z^3, x^4*z + x*y^3*z + x*z^4, x^3*y*z + y^4*z + y*z^4, x^3*z^2 + y^3*z^2 + z^5, x^4 + x*y^3 + x*z^3, x^3*y + y^4 + y*z^3, x^3*z + y^3*z + z^4, x^3 + y^3 + z^3] True False\n",
      "6 Polynomial Sequence with 20 Polynomials in 3 Variables True False\n",
      "7 Polynomial Sequence with 35 Polynomials in 3 Variables True False\n",
      "8 Polynomial Sequence with 56 Polynomials in 3 Variables True False\n",
      "9 Polynomial Sequence with 84 Polynomials in 3 Variables True False\n",
      "10 Polynomial Sequence with 121 Polynomials in 3 Variables True True\n",
      "\n",
      " Ideal (x^3 + y^3 + z^3, y^11 + z^11) of Multivariate Polynomial Ring in x, y, z over Rational Field\n",
      "0 [0] True False\n",
      "1 [0] True False\n",
      "2 [0] True False\n",
      "3 [x^3 + y^3 + z^3] True False\n",
      "4 [x^4 + x*y^3 + x*z^3, x^3*y + y^4 + y*z^3, x^3*z + y^3*z + z^4, x^3 + y^3 + z^3] True False\n",
      "5 [x^5 + x^2*y^3 + x^2*z^3, x^4*y + x*y^4 + x*y*z^3, x^3*y^2 + y^5 + y^2*z^3, x^4*z + x*y^3*z + x*z^4, x^3*y*z + y^4*z + y*z^4, x^3*z^2 + y^3*z^2 + z^5, x^4 + x*y^3 + x*z^3, x^3*y + y^4 + y*z^3, x^3*z + y^3*z + z^4, x^3 + y^3 + z^3] True False\n",
      "6 Polynomial Sequence with 20 Polynomials in 3 Variables True False\n",
      "7 Polynomial Sequence with 35 Polynomials in 3 Variables True False\n",
      "8 Polynomial Sequence with 56 Polynomials in 3 Variables True False\n",
      "9 Polynomial Sequence with 84 Polynomials in 3 Variables True False\n",
      "10 Polynomial Sequence with 120 Polynomials in 3 Variables True False\n",
      "11 Polynomial Sequence with 166 Polynomials in 3 Variables True True\n",
      "\n",
      " Ideal (x^3 + y^3 + z^3, y^12 + z^12) of Multivariate Polynomial Ring in x, y, z over Rational Field\n",
      "0 [0] True False\n",
      "1 [0] True False\n",
      "2 [0] True False\n",
      "3 [x^3 + y^3 + z^3] True False\n",
      "4 [x^4 + x*y^3 + x*z^3, x^3*y + y^4 + y*z^3, x^3*z + y^3*z + z^4, x^3 + y^3 + z^3] True False\n",
      "5 [x^5 + x^2*y^3 + x^2*z^3, x^4*y + x*y^4 + x*y*z^3, x^3*y^2 + y^5 + y^2*z^3, x^4*z + x*y^3*z + x*z^4, x^3*y*z + y^4*z + y*z^4, x^3*z^2 + y^3*z^2 + z^5, x^4 + x*y^3 + x*z^3, x^3*y + y^4 + y*z^3, x^3*z + y^3*z + z^4, x^3 + y^3 + z^3] True False\n",
      "6 Polynomial Sequence with 20 Polynomials in 3 Variables True False\n",
      "7 Polynomial Sequence with 35 Polynomials in 3 Variables True False\n",
      "8 Polynomial Sequence with 56 Polynomials in 3 Variables True False\n",
      "9 Polynomial Sequence with 84 Polynomials in 3 Variables True False\n",
      "10 Polynomial Sequence with 120 Polynomials in 3 Variables True False\n",
      "11 Polynomial Sequence with 165 Polynomials in 3 Variables True False\n",
      "12 Polynomial Sequence with 221 Polynomials in 3 Variables True True\n",
      "\n",
      " Ideal (x^3 + y^3 + z^3, y^13 + z^13) of Multivariate Polynomial Ring in x, y, z over Rational Field\n",
      "0 [0] True False\n",
      "1 [0] True False\n",
      "2 [0] True False\n",
      "3 [x^3 + y^3 + z^3] True False\n",
      "4 [x^4 + x*y^3 + x*z^3, x^3*y + y^4 + y*z^3, x^3*z + y^3*z + z^4, x^3 + y^3 + z^3] True False\n",
      "5 [x^5 + x^2*y^3 + x^2*z^3, x^4*y + x*y^4 + x*y*z^3, x^3*y^2 + y^5 + y^2*z^3, x^4*z + x*y^3*z + x*z^4, x^3*y*z + y^4*z + y*z^4, x^3*z^2 + y^3*z^2 + z^5, x^4 + x*y^3 + x*z^3, x^3*y + y^4 + y*z^3, x^3*z + y^3*z + z^4, x^3 + y^3 + z^3] True False\n",
      "6 Polynomial Sequence with 20 Polynomials in 3 Variables True False\n",
      "7 Polynomial Sequence with 35 Polynomials in 3 Variables True False\n",
      "8 Polynomial Sequence with 56 Polynomials in 3 Variables True False\n",
      "9 Polynomial Sequence with 84 Polynomials in 3 Variables True False\n",
      "10 Polynomial Sequence with 120 Polynomials in 3 Variables True False\n",
      "11 Polynomial Sequence with 165 Polynomials in 3 Variables True False\n",
      "12 Polynomial Sequence with 220 Polynomials in 3 Variables True False\n",
      "13 Polynomial Sequence with 287 Polynomials in 3 Variables True True\n",
      "\n",
      " Ideal (x^3 + y^3 + z^3, y^14 + z^14) of Multivariate Polynomial Ring in x, y, z over Rational Field\n",
      "0 [0] True False\n",
      "1 [0] True False\n",
      "2 [0] True False\n",
      "3 [x^3 + y^3 + z^3] True False\n",
      "4 [x^4 + x*y^3 + x*z^3, x^3*y + y^4 + y*z^3, x^3*z + y^3*z + z^4, x^3 + y^3 + z^3] True False\n",
      "5 [x^5 + x^2*y^3 + x^2*z^3, x^4*y + x*y^4 + x*y*z^3, x^3*y^2 + y^5 + y^2*z^3, x^4*z + x*y^3*z + x*z^4, x^3*y*z + y^4*z + y*z^4, x^3*z^2 + y^3*z^2 + z^5, x^4 + x*y^3 + x*z^3, x^3*y + y^4 + y*z^3, x^3*z + y^3*z + z^4, x^3 + y^3 + z^3] True False\n",
      "6 Polynomial Sequence with 20 Polynomials in 3 Variables True False\n",
      "7 Polynomial Sequence with 35 Polynomials in 3 Variables True False\n",
      "8 Polynomial Sequence with 56 Polynomials in 3 Variables True False\n",
      "9 Polynomial Sequence with 84 Polynomials in 3 Variables True False\n"
     ]
    },
    {
     "name": "stdout",
     "output_type": "stream",
     "text": [
      "10 Polynomial Sequence with 120 Polynomials in 3 Variables True False\n",
      "11 Polynomial Sequence with 165 Polynomials in 3 Variables True False\n",
      "12 Polynomial Sequence with 220 Polynomials in 3 Variables True False\n",
      "13 Polynomial Sequence with 286 Polynomials in 3 Variables True False\n",
      "14 Polynomial Sequence with 365 Polynomials in 3 Variables True True\n",
      "\n",
      " Ideal (x^3 + y^3 + z^3, y^15 + z^15) of Multivariate Polynomial Ring in x, y, z over Rational Field\n",
      "0 [0] True False\n",
      "1 [0] True False\n",
      "2 [0] True False\n",
      "3 [x^3 + y^3 + z^3] True False\n",
      "4 [x^4 + x*y^3 + x*z^3, x^3*y + y^4 + y*z^3, x^3*z + y^3*z + z^4, x^3 + y^3 + z^3] True False\n",
      "5 [x^5 + x^2*y^3 + x^2*z^3, x^4*y + x*y^4 + x*y*z^3, x^3*y^2 + y^5 + y^2*z^3, x^4*z + x*y^3*z + x*z^4, x^3*y*z + y^4*z + y*z^4, x^3*z^2 + y^3*z^2 + z^5, x^4 + x*y^3 + x*z^3, x^3*y + y^4 + y*z^3, x^3*z + y^3*z + z^4, x^3 + y^3 + z^3] True False\n",
      "6 Polynomial Sequence with 20 Polynomials in 3 Variables True False\n",
      "7 Polynomial Sequence with 35 Polynomials in 3 Variables True False\n",
      "8 Polynomial Sequence with 56 Polynomials in 3 Variables True False\n",
      "9 Polynomial Sequence with 84 Polynomials in 3 Variables True False\n",
      "10 Polynomial Sequence with 120 Polynomials in 3 Variables True False\n",
      "11 Polynomial Sequence with 165 Polynomials in 3 Variables True False\n",
      "12 Polynomial Sequence with 220 Polynomials in 3 Variables True False\n",
      "13 Polynomial Sequence with 286 Polynomials in 3 Variables True False\n",
      "14 Polynomial Sequence with 364 Polynomials in 3 Variables True False\n",
      "15 Polynomial Sequence with 456 Polynomials in 3 Variables True True\n",
      "\n",
      " Ideal (x^3 + y^3 + z^3, y^16 + z^16) of Multivariate Polynomial Ring in x, y, z over Rational Field\n",
      "0 [0] True False\n",
      "1 [0] True False\n",
      "2 [0] True False\n",
      "3 [x^3 + y^3 + z^3] True False\n",
      "4 [x^4 + x*y^3 + x*z^3, x^3*y + y^4 + y*z^3, x^3*z + y^3*z + z^4, x^3 + y^3 + z^3] True False\n",
      "5 [x^5 + x^2*y^3 + x^2*z^3, x^4*y + x*y^4 + x*y*z^3, x^3*y^2 + y^5 + y^2*z^3, x^4*z + x*y^3*z + x*z^4, x^3*y*z + y^4*z + y*z^4, x^3*z^2 + y^3*z^2 + z^5, x^4 + x*y^3 + x*z^3, x^3*y + y^4 + y*z^3, x^3*z + y^3*z + z^4, x^3 + y^3 + z^3] True False\n",
      "6 Polynomial Sequence with 20 Polynomials in 3 Variables True False\n",
      "7 Polynomial Sequence with 35 Polynomials in 3 Variables True False\n",
      "8 Polynomial Sequence with 56 Polynomials in 3 Variables True False\n",
      "9 Polynomial Sequence with 84 Polynomials in 3 Variables True False\n",
      "10 Polynomial Sequence with 120 Polynomials in 3 Variables True False\n",
      "11 Polynomial Sequence with 165 Polynomials in 3 Variables True False\n",
      "12 Polynomial Sequence with 220 Polynomials in 3 Variables True False\n",
      "13 Polynomial Sequence with 286 Polynomials in 3 Variables True False\n",
      "14 Polynomial Sequence with 364 Polynomials in 3 Variables True False\n",
      "15 Polynomial Sequence with 455 Polynomials in 3 Variables True False\n",
      "16 Polynomial Sequence with 561 Polynomials in 3 Variables True True\n",
      "\n",
      " Ideal (x^3 + y^3 + z^3, y^17 + z^17) of Multivariate Polynomial Ring in x, y, z over Rational Field\n",
      "0 [0] True False\n",
      "1 [0] True False\n",
      "2 [0] True False\n",
      "3 [x^3 + y^3 + z^3] True False\n",
      "4 [x^4 + x*y^3 + x*z^3, x^3*y + y^4 + y*z^3, x^3*z + y^3*z + z^4, x^3 + y^3 + z^3] True False\n",
      "5 [x^5 + x^2*y^3 + x^2*z^3, x^4*y + x*y^4 + x*y*z^3, x^3*y^2 + y^5 + y^2*z^3, x^4*z + x*y^3*z + x*z^4, x^3*y*z + y^4*z + y*z^4, x^3*z^2 + y^3*z^2 + z^5, x^4 + x*y^3 + x*z^3, x^3*y + y^4 + y*z^3, x^3*z + y^3*z + z^4, x^3 + y^3 + z^3] True False\n",
      "6 Polynomial Sequence with 20 Polynomials in 3 Variables True False\n",
      "7 Polynomial Sequence with 35 Polynomials in 3 Variables True False\n",
      "8 Polynomial Sequence with 56 Polynomials in 3 Variables True False\n",
      "9 Polynomial Sequence with 84 Polynomials in 3 Variables True False\n",
      "10 Polynomial Sequence with 120 Polynomials in 3 Variables True False\n",
      "11 Polynomial Sequence with 165 Polynomials in 3 Variables True False\n",
      "12 Polynomial Sequence with 220 Polynomials in 3 Variables True False\n",
      "13 Polynomial Sequence with 286 Polynomials in 3 Variables True False\n",
      "14 Polynomial Sequence with 364 Polynomials in 3 Variables True False\n",
      "15 Polynomial Sequence with 455 Polynomials in 3 Variables True False\n",
      "16 Polynomial Sequence with 560 Polynomials in 3 Variables True False\n",
      "17 Polynomial Sequence with 681 Polynomials in 3 Variables True True\n",
      "\n",
      " Ideal (x^3 + y^3 + z^3, y^18 + z^18) of Multivariate Polynomial Ring in x, y, z over Rational Field\n",
      "0 [0] True False\n",
      "1 [0] True False\n",
      "2 [0] True False\n",
      "3 [x^3 + y^3 + z^3] True False\n",
      "4 [x^4 + x*y^3 + x*z^3, x^3*y + y^4 + y*z^3, x^3*z + y^3*z + z^4, x^3 + y^3 + z^3] True False\n",
      "5 [x^5 + x^2*y^3 + x^2*z^3, x^4*y + x*y^4 + x*y*z^3, x^3*y^2 + y^5 + y^2*z^3, x^4*z + x*y^3*z + x*z^4, x^3*y*z + y^4*z + y*z^4, x^3*z^2 + y^3*z^2 + z^5, x^4 + x*y^3 + x*z^3, x^3*y + y^4 + y*z^3, x^3*z + y^3*z + z^4, x^3 + y^3 + z^3] True False\n",
      "6 Polynomial Sequence with 20 Polynomials in 3 Variables True False\n",
      "7 Polynomial Sequence with 35 Polynomials in 3 Variables True False\n",
      "8 Polynomial Sequence with 56 Polynomials in 3 Variables True False\n",
      "9 Polynomial Sequence with 84 Polynomials in 3 Variables True False\n",
      "10 Polynomial Sequence with 120 Polynomials in 3 Variables True False\n",
      "11 Polynomial Sequence with 165 Polynomials in 3 Variables True False\n",
      "12 Polynomial Sequence with 220 Polynomials in 3 Variables True False\n",
      "13 Polynomial Sequence with 286 Polynomials in 3 Variables True False\n",
      "14 Polynomial Sequence with 364 Polynomials in 3 Variables True False\n",
      "15 Polynomial Sequence with 455 Polynomials in 3 Variables True False\n",
      "16 Polynomial Sequence with 560 Polynomials in 3 Variables True False\n",
      "17 Polynomial Sequence with 680 Polynomials in 3 Variables True False\n",
      "18 Polynomial Sequence with 817 Polynomials in 3 Variables True True\n",
      "\n",
      " Ideal (x^3 + y^3 + z^3, y^19 + z^19) of Multivariate Polynomial Ring in x, y, z over Rational Field\n",
      "0 [0] True False\n",
      "1 [0] True False\n",
      "2 [0] True False\n",
      "3 [x^3 + y^3 + z^3] True False\n",
      "4 [x^4 + x*y^3 + x*z^3, x^3*y + y^4 + y*z^3, x^3*z + y^3*z + z^4, x^3 + y^3 + z^3] True False\n",
      "5 [x^5 + x^2*y^3 + x^2*z^3, x^4*y + x*y^4 + x*y*z^3, x^3*y^2 + y^5 + y^2*z^3, x^4*z + x*y^3*z + x*z^4, x^3*y*z + y^4*z + y*z^4, x^3*z^2 + y^3*z^2 + z^5, x^4 + x*y^3 + x*z^3, x^3*y + y^4 + y*z^3, x^3*z + y^3*z + z^4, x^3 + y^3 + z^3] True False\n",
      "6 Polynomial Sequence with 20 Polynomials in 3 Variables True False\n",
      "7 Polynomial Sequence with 35 Polynomials in 3 Variables True False\n",
      "8 Polynomial Sequence with 56 Polynomials in 3 Variables True False\n",
      "9 Polynomial Sequence with 84 Polynomials in 3 Variables True False\n",
      "10 Polynomial Sequence with 120 Polynomials in 3 Variables True False\n",
      "11 Polynomial Sequence with 165 Polynomials in 3 Variables True False\n",
      "12 Polynomial Sequence with 220 Polynomials in 3 Variables True False\n",
      "13 Polynomial Sequence with 286 Polynomials in 3 Variables True False\n",
      "14 Polynomial Sequence with 364 Polynomials in 3 Variables True False\n",
      "15 Polynomial Sequence with 455 Polynomials in 3 Variables True False\n",
      "16 Polynomial Sequence with 560 Polynomials in 3 Variables True False\n",
      "17 Polynomial Sequence with 680 Polynomials in 3 Variables True False\n",
      "18 Polynomial Sequence with 816 Polynomials in 3 Variables True False\n",
      "19 Polynomial Sequence with 970 Polynomials in 3 Variables True True\n",
      "\n",
      " Ideal (x^3 + y^3 + z^3, y^20 + z^20) of Multivariate Polynomial Ring in x, y, z over Rational Field\n",
      "0 [0] True False\n",
      "1 [0] True False\n",
      "2 [0] True False\n",
      "3 [x^3 + y^3 + z^3] True False\n",
      "4 [x^4 + x*y^3 + x*z^3, x^3*y + y^4 + y*z^3, x^3*z + y^3*z + z^4, x^3 + y^3 + z^3] True False\n",
      "5 [x^5 + x^2*y^3 + x^2*z^3, x^4*y + x*y^4 + x*y*z^3, x^3*y^2 + y^5 + y^2*z^3, x^4*z + x*y^3*z + x*z^4, x^3*y*z + y^4*z + y*z^4, x^3*z^2 + y^3*z^2 + z^5, x^4 + x*y^3 + x*z^3, x^3*y + y^4 + y*z^3, x^3*z + y^3*z + z^4, x^3 + y^3 + z^3] True False\n",
      "6 Polynomial Sequence with 20 Polynomials in 3 Variables True False\n",
      "7 Polynomial Sequence with 35 Polynomials in 3 Variables True False\n",
      "8 Polynomial Sequence with 56 Polynomials in 3 Variables True False\n",
      "9 Polynomial Sequence with 84 Polynomials in 3 Variables True False\n",
      "10 Polynomial Sequence with 120 Polynomials in 3 Variables True False\n",
      "11 Polynomial Sequence with 165 Polynomials in 3 Variables True False\n",
      "12 Polynomial Sequence with 220 Polynomials in 3 Variables True False\n",
      "13 Polynomial Sequence with 286 Polynomials in 3 Variables True False\n",
      "14 Polynomial Sequence with 364 Polynomials in 3 Variables True False\n"
     ]
    },
    {
     "name": "stdout",
     "output_type": "stream",
     "text": [
      "15 Polynomial Sequence with 455 Polynomials in 3 Variables True False\n",
      "16 Polynomial Sequence with 560 Polynomials in 3 Variables True False\n",
      "17 Polynomial Sequence with 680 Polynomials in 3 Variables True False\n",
      "18 Polynomial Sequence with 816 Polynomials in 3 Variables True False\n",
      "19 Polynomial Sequence with 969 Polynomials in 3 Variables True False\n",
      "20 Polynomial Sequence with 1141 Polynomials in 3 Variables True True\n",
      "\n",
      " Ideal (x^3 + y^3 + z^3, y^21 + z^21) of Multivariate Polynomial Ring in x, y, z over Rational Field\n",
      "0 [0] True False\n",
      "1 [0] True False\n",
      "2 [0] True False\n",
      "3 [x^3 + y^3 + z^3] True False\n",
      "4 [x^4 + x*y^3 + x*z^3, x^3*y + y^4 + y*z^3, x^3*z + y^3*z + z^4, x^3 + y^3 + z^3] True False\n",
      "5 [x^5 + x^2*y^3 + x^2*z^3, x^4*y + x*y^4 + x*y*z^3, x^3*y^2 + y^5 + y^2*z^3, x^4*z + x*y^3*z + x*z^4, x^3*y*z + y^4*z + y*z^4, x^3*z^2 + y^3*z^2 + z^5, x^4 + x*y^3 + x*z^3, x^3*y + y^4 + y*z^3, x^3*z + y^3*z + z^4, x^3 + y^3 + z^3] True False\n",
      "6 Polynomial Sequence with 20 Polynomials in 3 Variables True False\n",
      "7 Polynomial Sequence with 35 Polynomials in 3 Variables True False\n",
      "8 Polynomial Sequence with 56 Polynomials in 3 Variables True False\n",
      "9 Polynomial Sequence with 84 Polynomials in 3 Variables True False\n",
      "10 Polynomial Sequence with 120 Polynomials in 3 Variables True False\n",
      "11 Polynomial Sequence with 165 Polynomials in 3 Variables True False\n",
      "12 Polynomial Sequence with 220 Polynomials in 3 Variables True False\n",
      "13 Polynomial Sequence with 286 Polynomials in 3 Variables True False\n",
      "14 Polynomial Sequence with 364 Polynomials in 3 Variables True False\n",
      "15 Polynomial Sequence with 455 Polynomials in 3 Variables True False\n",
      "16 Polynomial Sequence with 560 Polynomials in 3 Variables True False\n",
      "17 Polynomial Sequence with 680 Polynomials in 3 Variables True False\n",
      "18 Polynomial Sequence with 816 Polynomials in 3 Variables True False\n",
      "19 Polynomial Sequence with 969 Polynomials in 3 Variables True False\n",
      "20 Polynomial Sequence with 1140 Polynomials in 3 Variables True False\n",
      "21 Polynomial Sequence with 1331 Polynomials in 3 Variables True True\n",
      "\n",
      " Ideal (x^3 + y^3 + z^3, y^22 + z^22) of Multivariate Polynomial Ring in x, y, z over Rational Field\n",
      "0 [0] True False\n",
      "1 [0] True False\n",
      "2 [0] True False\n",
      "3 [x^3 + y^3 + z^3] True False\n",
      "4 [x^4 + x*y^3 + x*z^3, x^3*y + y^4 + y*z^3, x^3*z + y^3*z + z^4, x^3 + y^3 + z^3] True False\n",
      "5 [x^5 + x^2*y^3 + x^2*z^3, x^4*y + x*y^4 + x*y*z^3, x^3*y^2 + y^5 + y^2*z^3, x^4*z + x*y^3*z + x*z^4, x^3*y*z + y^4*z + y*z^4, x^3*z^2 + y^3*z^2 + z^5, x^4 + x*y^3 + x*z^3, x^3*y + y^4 + y*z^3, x^3*z + y^3*z + z^4, x^3 + y^3 + z^3] True False\n",
      "6 Polynomial Sequence with 20 Polynomials in 3 Variables True False\n",
      "7 Polynomial Sequence with 35 Polynomials in 3 Variables True False\n",
      "8 Polynomial Sequence with 56 Polynomials in 3 Variables True False\n",
      "9 Polynomial Sequence with 84 Polynomials in 3 Variables True False\n",
      "10 Polynomial Sequence with 120 Polynomials in 3 Variables True False\n",
      "11 Polynomial Sequence with 165 Polynomials in 3 Variables True False\n",
      "12 Polynomial Sequence with 220 Polynomials in 3 Variables True False\n",
      "13 Polynomial Sequence with 286 Polynomials in 3 Variables True False\n",
      "14 Polynomial Sequence with 364 Polynomials in 3 Variables True False\n",
      "15 Polynomial Sequence with 455 Polynomials in 3 Variables True False\n",
      "16 Polynomial Sequence with 560 Polynomials in 3 Variables True False\n",
      "17 Polynomial Sequence with 680 Polynomials in 3 Variables True False\n",
      "18 Polynomial Sequence with 816 Polynomials in 3 Variables True False\n",
      "19 Polynomial Sequence with 969 Polynomials in 3 Variables True False\n",
      "20 Polynomial Sequence with 1140 Polynomials in 3 Variables True False\n",
      "21 Polynomial Sequence with 1330 Polynomials in 3 Variables True False\n",
      "22 Polynomial Sequence with 1541 Polynomials in 3 Variables True True\n",
      "\n",
      " Ideal (x^3 + y^3 + z^3, y^23 + z^23) of Multivariate Polynomial Ring in x, y, z over Rational Field\n",
      "0 [0] True False\n",
      "1 [0] True False\n",
      "2 [0] True False\n",
      "3 [x^3 + y^3 + z^3] True False\n",
      "4 [x^4 + x*y^3 + x*z^3, x^3*y + y^4 + y*z^3, x^3*z + y^3*z + z^4, x^3 + y^3 + z^3] True False\n",
      "5 [x^5 + x^2*y^3 + x^2*z^3, x^4*y + x*y^4 + x*y*z^3, x^3*y^2 + y^5 + y^2*z^3, x^4*z + x*y^3*z + x*z^4, x^3*y*z + y^4*z + y*z^4, x^3*z^2 + y^3*z^2 + z^5, x^4 + x*y^3 + x*z^3, x^3*y + y^4 + y*z^3, x^3*z + y^3*z + z^4, x^3 + y^3 + z^3] True False\n",
      "6 Polynomial Sequence with 20 Polynomials in 3 Variables True False\n",
      "7 Polynomial Sequence with 35 Polynomials in 3 Variables True False\n",
      "8 Polynomial Sequence with 56 Polynomials in 3 Variables True False\n",
      "9 Polynomial Sequence with 84 Polynomials in 3 Variables True False\n",
      "10 Polynomial Sequence with 120 Polynomials in 3 Variables True False\n",
      "11 Polynomial Sequence with 165 Polynomials in 3 Variables True False\n",
      "12 Polynomial Sequence with 220 Polynomials in 3 Variables True False\n",
      "13 Polynomial Sequence with 286 Polynomials in 3 Variables True False\n",
      "14 Polynomial Sequence with 364 Polynomials in 3 Variables True False\n",
      "15 Polynomial Sequence with 455 Polynomials in 3 Variables True False\n",
      "16 Polynomial Sequence with 560 Polynomials in 3 Variables True False\n",
      "17 Polynomial Sequence with 680 Polynomials in 3 Variables True False\n",
      "18 Polynomial Sequence with 816 Polynomials in 3 Variables True False\n",
      "19 Polynomial Sequence with 969 Polynomials in 3 Variables True False\n",
      "20 Polynomial Sequence with 1140 Polynomials in 3 Variables True False\n",
      "21 Polynomial Sequence with 1330 Polynomials in 3 Variables True False\n",
      "22 Polynomial Sequence with 1540 Polynomials in 3 Variables True False\n",
      "23 Polynomial Sequence with 1772 Polynomials in 3 Variables True True\n",
      "\n",
      " Ideal (x^3 + y^3 + z^3, y^24 + z^24) of Multivariate Polynomial Ring in x, y, z over Rational Field\n",
      "0 [0] True False\n",
      "1 [0] True False\n",
      "2 [0] True False\n",
      "3 [x^3 + y^3 + z^3] True False\n",
      "4 [x^4 + x*y^3 + x*z^3, x^3*y + y^4 + y*z^3, x^3*z + y^3*z + z^4, x^3 + y^3 + z^3] True False\n",
      "5 [x^5 + x^2*y^3 + x^2*z^3, x^4*y + x*y^4 + x*y*z^3, x^3*y^2 + y^5 + y^2*z^3, x^4*z + x*y^3*z + x*z^4, x^3*y*z + y^4*z + y*z^4, x^3*z^2 + y^3*z^2 + z^5, x^4 + x*y^3 + x*z^3, x^3*y + y^4 + y*z^3, x^3*z + y^3*z + z^4, x^3 + y^3 + z^3] True False\n",
      "6 Polynomial Sequence with 20 Polynomials in 3 Variables True False\n",
      "7 Polynomial Sequence with 35 Polynomials in 3 Variables True False\n",
      "8 Polynomial Sequence with 56 Polynomials in 3 Variables True False\n",
      "9 Polynomial Sequence with 84 Polynomials in 3 Variables True False\n",
      "10 Polynomial Sequence with 120 Polynomials in 3 Variables True False\n",
      "11 Polynomial Sequence with 165 Polynomials in 3 Variables True False\n",
      "12 Polynomial Sequence with 220 Polynomials in 3 Variables True False\n",
      "13 Polynomial Sequence with 286 Polynomials in 3 Variables True False\n",
      "14 Polynomial Sequence with 364 Polynomials in 3 Variables True False\n",
      "15 Polynomial Sequence with 455 Polynomials in 3 Variables True False\n",
      "16 Polynomial Sequence with 560 Polynomials in 3 Variables True False\n",
      "17 Polynomial Sequence with 680 Polynomials in 3 Variables True False\n",
      "18 Polynomial Sequence with 816 Polynomials in 3 Variables True False\n",
      "19 Polynomial Sequence with 969 Polynomials in 3 Variables True False\n",
      "20 Polynomial Sequence with 1140 Polynomials in 3 Variables True False\n",
      "21 Polynomial Sequence with 1330 Polynomials in 3 Variables True False\n",
      "22 Polynomial Sequence with 1540 Polynomials in 3 Variables True False\n",
      "23 Polynomial Sequence with 1771 Polynomials in 3 Variables True False\n",
      "24 Polynomial Sequence with 2025 Polynomials in 3 Variables True True\n",
      "\n",
      " Results: \n",
      " [4, 5, 6, 7, 8, 9, 10, 11, 12, 13, 14, 15, 16, 17, 18, 19, 20, 21, 22, 23, 24] \n",
      " [5, 6, 7, 8, 9, 10, 11, 12, 13, 14, 15, 16, 17, 18, 19, 20, 21, 22, 23, 24, 25]\n"
     ]
    }
   ],
   "source": [
    "R.<x,y,z> = PolynomialRing(QQ, order = 'degrevlex')\n",
    "sdegs = []\n",
    "degregs = []\n",
    "for i in range(4,25):\n",
    "    f1 = x^3 + y^3 + z^3\n",
    "    f2 = y^i + z^i\n",
    "    I = Ideal(f1,f2)\n",
    "    print('\\n',I)\n",
    "    sdegs.append(mac_grob([f1,f2],R)[0])\n",
    "    degregs.append(degree_reg(I,R))\n",
    "print('\\n', \"Results:\", '\\n', sdegs, '\\n', degregs)"
   ]
  },
  {
   "cell_type": "code",
   "execution_count": 364,
   "metadata": {},
   "outputs": [
    {
     "name": "stdout",
     "output_type": "stream",
     "text": [
      "\n",
      " Ideal (x^5 + y^4 + z^3, y^4 + z^3, z^6) of Multivariate Polynomial Ring in x, y, z over Rational Field\n",
      "0 [0] True False\n",
      "1 [0] True False\n",
      "2 [0] True False\n",
      "3 [0] True False\n",
      "4 [y^4 + z^3] True False\n",
      "5 [x^5, x*y^4 + x*z^3, y^5 + y*z^3, y^4*z + z^4, y^4 + z^3] True True\n",
      "\n",
      " Ideal (x^5 + y^4 + z^3, y^5 + z^3, z^7) of Multivariate Polynomial Ring in x, y, z over Rational Field\n",
      "0 [0] True False\n",
      "1 [0] True False\n",
      "2 [0] True False\n",
      "3 [0] True False\n",
      "4 [0] True False\n",
      "5 [x^5 + y^4 + z^3, y^5 + z^3] True True\n",
      "\n",
      " Ideal (x^5 + y^4 + z^3, y^6 + z^3, z^8) of Multivariate Polynomial Ring in x, y, z over Rational Field\n",
      "0 [0] True False\n",
      "1 [0] True False\n",
      "2 [0] True False\n",
      "3 [0] True False\n",
      "4 [0] True False\n",
      "5 [x^5 + y^4 + z^3] True False\n",
      "6 [x^6 + x*y^4 + x*z^3, x^5*y + y^5 + y*z^3, y^6 + z^3, x^5*z + y^4*z + z^4, x^5 + y^4 + z^3] True True\n",
      "\n",
      " Ideal (x^5 + y^4 + z^3, y^7 + z^3, z^9) of Multivariate Polynomial Ring in x, y, z over Rational Field\n",
      "0 [0] True False\n",
      "1 [0] True False\n",
      "2 [0] True False\n",
      "3 [0] True False\n",
      "4 [0] True False\n",
      "5 [x^5 + y^4 + z^3] True False\n",
      "6 [x^6 + x*y^4 + x*z^3, x^5*y + y^5 + y*z^3, x^5*z + y^4*z + z^4, x^5 + y^4 + z^3] True False\n",
      "7 [x^7 + x^2*y^4 + x^2*z^3, x^6*y + x*y^5 + x*y*z^3, x^5*y^2 + y^6 + y^2*z^3, y^7 + z^3, x^6*z + x*y^4*z + x*z^4, x^5*y*z + y^5*z + y*z^4, x^5*z^2 + y^4*z^2 + z^5, x^6 + x*y^4 + x*z^3, x^5*y + y^5 + y*z^3, x^5*z + y^4*z + z^4, x^5 + y^4 + z^3] True True\n",
      "\n",
      " Ideal (x^5 + y^4 + z^3, y^8 + z^3, z^10) of Multivariate Polynomial Ring in x, y, z over Rational Field\n",
      "0 [0] True False\n",
      "1 [0] True False\n",
      "2 [0] True False\n",
      "3 [0] True False\n",
      "4 [0] True False\n",
      "5 [x^5 + y^4 + z^3] True False\n",
      "6 [x^6 + x*y^4 + x*z^3, x^5*y + y^5 + y*z^3, x^5*z + y^4*z + z^4, x^5 + y^4 + z^3] True False\n",
      "7 [x^7 + x^2*y^4 + x^2*z^3, x^6*y + x*y^5 + x*y*z^3, x^5*y^2 + y^6 + y^2*z^3, x^6*z + x*y^4*z + x*z^4, x^5*y*z + y^5*z + y*z^4, x^5*z^2 + y^4*z^2 + z^5, x^6 + x*y^4 + x*z^3, x^5*y + y^5 + y*z^3, x^5*z + y^4*z + z^4, x^5 + y^4 + z^3] True False\n",
      "8 Polynomial Sequence with 21 Polynomials in 3 Variables True True\n",
      "\n",
      " Ideal (x^5 + y^4 + z^3, y^9 + z^3, z^11) of Multivariate Polynomial Ring in x, y, z over Rational Field\n",
      "0 [0] True False\n",
      "1 [0] True False\n",
      "2 [0] True False\n",
      "3 [0] True False\n",
      "4 [0] True False\n",
      "5 [x^5 + y^4 + z^3] True False\n",
      "6 [x^6 + x*y^4 + x*z^3, x^5*y + y^5 + y*z^3, x^5*z + y^4*z + z^4, x^5 + y^4 + z^3] True False\n",
      "7 [x^7 + x^2*y^4 + x^2*z^3, x^6*y + x*y^5 + x*y*z^3, x^5*y^2 + y^6 + y^2*z^3, x^6*z + x*y^4*z + x*z^4, x^5*y*z + y^5*z + y*z^4, x^5*z^2 + y^4*z^2 + z^5, x^6 + x*y^4 + x*z^3, x^5*y + y^5 + y*z^3, x^5*z + y^4*z + z^4, x^5 + y^4 + z^3] True False\n",
      "8 Polynomial Sequence with 20 Polynomials in 3 Variables True False\n",
      "9 Polynomial Sequence with 36 Polynomials in 3 Variables True True\n",
      "\n",
      " Ideal (x^5 + y^4 + z^3, y^10 + z^3, z^12) of Multivariate Polynomial Ring in x, y, z over Rational Field\n",
      "0 [0] True False\n",
      "1 [0] True False\n",
      "2 [0] True False\n",
      "3 [0] True False\n",
      "4 [0] True False\n",
      "5 [x^5 + y^4 + z^3] True False\n",
      "6 [x^6 + x*y^4 + x*z^3, x^5*y + y^5 + y*z^3, x^5*z + y^4*z + z^4, x^5 + y^4 + z^3] True False\n",
      "7 [x^7 + x^2*y^4 + x^2*z^3, x^6*y + x*y^5 + x*y*z^3, x^5*y^2 + y^6 + y^2*z^3, x^6*z + x*y^4*z + x*z^4, x^5*y*z + y^5*z + y*z^4, x^5*z^2 + y^4*z^2 + z^5, x^6 + x*y^4 + x*z^3, x^5*y + y^5 + y*z^3, x^5*z + y^4*z + z^4, x^5 + y^4 + z^3] True False\n",
      "8 Polynomial Sequence with 20 Polynomials in 3 Variables True False\n",
      "9 Polynomial Sequence with 35 Polynomials in 3 Variables True False\n",
      "10 Polynomial Sequence with 57 Polynomials in 3 Variables True True\n",
      "\n",
      " Ideal (x^5 + y^4 + z^3, y^11 + z^3, z^13) of Multivariate Polynomial Ring in x, y, z over Rational Field\n",
      "0 [0] True False\n",
      "1 [0] True False\n",
      "2 [0] True False\n",
      "3 [0] True False\n",
      "4 [0] True False\n",
      "5 [x^5 + y^4 + z^3] True False\n",
      "6 [x^6 + x*y^4 + x*z^3, x^5*y + y^5 + y*z^3, x^5*z + y^4*z + z^4, x^5 + y^4 + z^3] True False\n",
      "7 [x^7 + x^2*y^4 + x^2*z^3, x^6*y + x*y^5 + x*y*z^3, x^5*y^2 + y^6 + y^2*z^3, x^6*z + x*y^4*z + x*z^4, x^5*y*z + y^5*z + y*z^4, x^5*z^2 + y^4*z^2 + z^5, x^6 + x*y^4 + x*z^3, x^5*y + y^5 + y*z^3, x^5*z + y^4*z + z^4, x^5 + y^4 + z^3] True False\n",
      "8 Polynomial Sequence with 20 Polynomials in 3 Variables True False\n",
      "9 Polynomial Sequence with 35 Polynomials in 3 Variables True False\n",
      "10 Polynomial Sequence with 56 Polynomials in 3 Variables True False\n",
      "11 Polynomial Sequence with 85 Polynomials in 3 Variables True True\n",
      "\n",
      " Ideal (x^5 + y^4 + z^3, y^12 + z^3, z^14) of Multivariate Polynomial Ring in x, y, z over Rational Field\n",
      "0 [0] True False\n",
      "1 [0] True False\n",
      "2 [0] True False\n",
      "3 [0] True False\n",
      "4 [0] True False\n",
      "5 [x^5 + y^4 + z^3] True False\n",
      "6 [x^6 + x*y^4 + x*z^3, x^5*y + y^5 + y*z^3, x^5*z + y^4*z + z^4, x^5 + y^4 + z^3] True False\n",
      "7 [x^7 + x^2*y^4 + x^2*z^3, x^6*y + x*y^5 + x*y*z^3, x^5*y^2 + y^6 + y^2*z^3, x^6*z + x*y^4*z + x*z^4, x^5*y*z + y^5*z + y*z^4, x^5*z^2 + y^4*z^2 + z^5, x^6 + x*y^4 + x*z^3, x^5*y + y^5 + y*z^3, x^5*z + y^4*z + z^4, x^5 + y^4 + z^3] True False\n",
      "8 Polynomial Sequence with 20 Polynomials in 3 Variables True False\n",
      "9 Polynomial Sequence with 35 Polynomials in 3 Variables True False\n",
      "10 Polynomial Sequence with 56 Polynomials in 3 Variables True False\n",
      "11 Polynomial Sequence with 84 Polynomials in 3 Variables True False\n",
      "12 Polynomial Sequence with 121 Polynomials in 3 Variables True True\n",
      "\n",
      " Ideal (x^5 + y^4 + z^3, y^13 + z^3, z^15) of Multivariate Polynomial Ring in x, y, z over Rational Field\n",
      "0 [0] True False\n",
      "1 [0] True False\n",
      "2 [0] True False\n",
      "3 [0] True False\n",
      "4 [0] True False\n",
      "5 [x^5 + y^4 + z^3] True False\n",
      "6 [x^6 + x*y^4 + x*z^3, x^5*y + y^5 + y*z^3, x^5*z + y^4*z + z^4, x^5 + y^4 + z^3] True False\n",
      "7 [x^7 + x^2*y^4 + x^2*z^3, x^6*y + x*y^5 + x*y*z^3, x^5*y^2 + y^6 + y^2*z^3, x^6*z + x*y^4*z + x*z^4, x^5*y*z + y^5*z + y*z^4, x^5*z^2 + y^4*z^2 + z^5, x^6 + x*y^4 + x*z^3, x^5*y + y^5 + y*z^3, x^5*z + y^4*z + z^4, x^5 + y^4 + z^3] True False\n",
      "8 Polynomial Sequence with 20 Polynomials in 3 Variables True False\n",
      "9 Polynomial Sequence with 35 Polynomials in 3 Variables True False\n",
      "10 Polynomial Sequence with 56 Polynomials in 3 Variables True False\n",
      "11 Polynomial Sequence with 84 Polynomials in 3 Variables True False\n",
      "12 Polynomial Sequence with 120 Polynomials in 3 Variables True False\n",
      "13 Polynomial Sequence with 166 Polynomials in 3 Variables True True\n",
      "\n",
      " Ideal (x^5 + y^4 + z^3, y^14 + z^3, z^16) of Multivariate Polynomial Ring in x, y, z over Rational Field\n",
      "0 [0] True False\n",
      "1 [0] True False\n",
      "2 [0] True False\n",
      "3 [0] True False\n",
      "4 [0] True False\n",
      "5 [x^5 + y^4 + z^3] True False\n",
      "6 [x^6 + x*y^4 + x*z^3, x^5*y + y^5 + y*z^3, x^5*z + y^4*z + z^4, x^5 + y^4 + z^3] True False\n",
      "7 [x^7 + x^2*y^4 + x^2*z^3, x^6*y + x*y^5 + x*y*z^3, x^5*y^2 + y^6 + y^2*z^3, x^6*z + x*y^4*z + x*z^4, x^5*y*z + y^5*z + y*z^4, x^5*z^2 + y^4*z^2 + z^5, x^6 + x*y^4 + x*z^3, x^5*y + y^5 + y*z^3, x^5*z + y^4*z + z^4, x^5 + y^4 + z^3] True False\n",
      "8 Polynomial Sequence with 20 Polynomials in 3 Variables True False\n",
      "9 Polynomial Sequence with 35 Polynomials in 3 Variables True False\n",
      "10 Polynomial Sequence with 56 Polynomials in 3 Variables True False\n",
      "11 Polynomial Sequence with 84 Polynomials in 3 Variables True False\n",
      "12 Polynomial Sequence with 120 Polynomials in 3 Variables True False\n",
      "13 Polynomial Sequence with 165 Polynomials in 3 Variables True False\n",
      "14 Polynomial Sequence with 221 Polynomials in 3 Variables True True\n",
      "\n",
      " Ideal (x^5 + y^4 + z^3, y^15 + z^3, z^17) of Multivariate Polynomial Ring in x, y, z over Rational Field\n",
      "0 [0] True False\n",
      "1 [0] True False\n",
      "2 [0] True False\n",
      "3 [0] True False\n",
      "4 [0] True False\n",
      "5 [x^5 + y^4 + z^3] True False\n",
      "6 [x^6 + x*y^4 + x*z^3, x^5*y + y^5 + y*z^3, x^5*z + y^4*z + z^4, x^5 + y^4 + z^3] True False\n",
      "7 [x^7 + x^2*y^4 + x^2*z^3, x^6*y + x*y^5 + x*y*z^3, x^5*y^2 + y^6 + y^2*z^3, x^6*z + x*y^4*z + x*z^4, x^5*y*z + y^5*z + y*z^4, x^5*z^2 + y^4*z^2 + z^5, x^6 + x*y^4 + x*z^3, x^5*y + y^5 + y*z^3, x^5*z + y^4*z + z^4, x^5 + y^4 + z^3] True False\n",
      "8 Polynomial Sequence with 20 Polynomials in 3 Variables True False\n",
      "9 Polynomial Sequence with 35 Polynomials in 3 Variables True False\n",
      "10 Polynomial Sequence with 56 Polynomials in 3 Variables True False\n",
      "11 Polynomial Sequence with 84 Polynomials in 3 Variables True False\n",
      "12 Polynomial Sequence with 120 Polynomials in 3 Variables True False\n",
      "13 Polynomial Sequence with 165 Polynomials in 3 Variables True False\n"
     ]
    },
    {
     "name": "stdout",
     "output_type": "stream",
     "text": [
      "14 Polynomial Sequence with 220 Polynomials in 3 Variables True False\n",
      "15 Polynomial Sequence with 287 Polynomials in 3 Variables True True\n",
      "\n",
      " Ideal (x^5 + y^4 + z^3, y^16 + z^3, z^18) of Multivariate Polynomial Ring in x, y, z over Rational Field\n",
      "0 [0] True False\n",
      "1 [0] True False\n",
      "2 [0] True False\n",
      "3 [0] True False\n",
      "4 [0] True False\n",
      "5 [x^5 + y^4 + z^3] True False\n",
      "6 [x^6 + x*y^4 + x*z^3, x^5*y + y^5 + y*z^3, x^5*z + y^4*z + z^4, x^5 + y^4 + z^3] True False\n",
      "7 [x^7 + x^2*y^4 + x^2*z^3, x^6*y + x*y^5 + x*y*z^3, x^5*y^2 + y^6 + y^2*z^3, x^6*z + x*y^4*z + x*z^4, x^5*y*z + y^5*z + y*z^4, x^5*z^2 + y^4*z^2 + z^5, x^6 + x*y^4 + x*z^3, x^5*y + y^5 + y*z^3, x^5*z + y^4*z + z^4, x^5 + y^4 + z^3] True False\n",
      "8 Polynomial Sequence with 20 Polynomials in 3 Variables True False\n",
      "9 Polynomial Sequence with 35 Polynomials in 3 Variables True False\n",
      "10 Polynomial Sequence with 56 Polynomials in 3 Variables True False\n",
      "11 Polynomial Sequence with 84 Polynomials in 3 Variables True False\n",
      "12 Polynomial Sequence with 120 Polynomials in 3 Variables True False\n",
      "13 Polynomial Sequence with 165 Polynomials in 3 Variables True False\n",
      "14 Polynomial Sequence with 220 Polynomials in 3 Variables True False\n",
      "15 Polynomial Sequence with 286 Polynomials in 3 Variables True False\n",
      "16 Polynomial Sequence with 365 Polynomials in 3 Variables True True\n",
      "\n",
      " Ideal (x^5 + y^4 + z^3, y^17 + z^3, z^19) of Multivariate Polynomial Ring in x, y, z over Rational Field\n",
      "0 [0] True False\n",
      "1 [0] True False\n",
      "2 [0] True False\n",
      "3 [0] True False\n",
      "4 [0] True False\n",
      "5 [x^5 + y^4 + z^3] True False\n",
      "6 [x^6 + x*y^4 + x*z^3, x^5*y + y^5 + y*z^3, x^5*z + y^4*z + z^4, x^5 + y^4 + z^3] True False\n",
      "7 [x^7 + x^2*y^4 + x^2*z^3, x^6*y + x*y^5 + x*y*z^3, x^5*y^2 + y^6 + y^2*z^3, x^6*z + x*y^4*z + x*z^4, x^5*y*z + y^5*z + y*z^4, x^5*z^2 + y^4*z^2 + z^5, x^6 + x*y^4 + x*z^3, x^5*y + y^5 + y*z^3, x^5*z + y^4*z + z^4, x^5 + y^4 + z^3] True False\n",
      "8 Polynomial Sequence with 20 Polynomials in 3 Variables True False\n",
      "9 Polynomial Sequence with 35 Polynomials in 3 Variables True False\n",
      "10 Polynomial Sequence with 56 Polynomials in 3 Variables True False\n",
      "11 Polynomial Sequence with 84 Polynomials in 3 Variables True False\n",
      "12 Polynomial Sequence with 120 Polynomials in 3 Variables True False\n",
      "13 Polynomial Sequence with 165 Polynomials in 3 Variables True False\n",
      "14 Polynomial Sequence with 220 Polynomials in 3 Variables True False\n",
      "15 Polynomial Sequence with 286 Polynomials in 3 Variables True False\n",
      "16 Polynomial Sequence with 364 Polynomials in 3 Variables True False\n",
      "17 Polynomial Sequence with 456 Polynomials in 3 Variables True True\n",
      "\n",
      " Ideal (x^5 + y^4 + z^3, y^18 + z^3, z^20) of Multivariate Polynomial Ring in x, y, z over Rational Field\n",
      "0 [0] True False\n",
      "1 [0] True False\n",
      "2 [0] True False\n",
      "3 [0] True False\n",
      "4 [0] True False\n",
      "5 [x^5 + y^4 + z^3] True False\n",
      "6 [x^6 + x*y^4 + x*z^3, x^5*y + y^5 + y*z^3, x^5*z + y^4*z + z^4, x^5 + y^4 + z^3] True False\n",
      "7 [x^7 + x^2*y^4 + x^2*z^3, x^6*y + x*y^5 + x*y*z^3, x^5*y^2 + y^6 + y^2*z^3, x^6*z + x*y^4*z + x*z^4, x^5*y*z + y^5*z + y*z^4, x^5*z^2 + y^4*z^2 + z^5, x^6 + x*y^4 + x*z^3, x^5*y + y^5 + y*z^3, x^5*z + y^4*z + z^4, x^5 + y^4 + z^3] True False\n",
      "8 Polynomial Sequence with 20 Polynomials in 3 Variables True False\n",
      "9 Polynomial Sequence with 35 Polynomials in 3 Variables True False\n",
      "10 Polynomial Sequence with 56 Polynomials in 3 Variables True False\n",
      "11 Polynomial Sequence with 84 Polynomials in 3 Variables True False\n",
      "12 Polynomial Sequence with 120 Polynomials in 3 Variables True False\n",
      "13 Polynomial Sequence with 165 Polynomials in 3 Variables True False\n",
      "14 Polynomial Sequence with 220 Polynomials in 3 Variables True False\n",
      "15 Polynomial Sequence with 286 Polynomials in 3 Variables True False\n",
      "16 Polynomial Sequence with 364 Polynomials in 3 Variables True False\n",
      "17 Polynomial Sequence with 455 Polynomials in 3 Variables True False\n",
      "18 Polynomial Sequence with 561 Polynomials in 3 Variables True True\n",
      "\n",
      " Ideal (x^5 + y^4 + z^3, y^19 + z^3, z^21) of Multivariate Polynomial Ring in x, y, z over Rational Field\n",
      "0 [0] True False\n",
      "1 [0] True False\n",
      "2 [0] True False\n",
      "3 [0] True False\n",
      "4 [0] True False\n",
      "5 [x^5 + y^4 + z^3] True False\n",
      "6 [x^6 + x*y^4 + x*z^3, x^5*y + y^5 + y*z^3, x^5*z + y^4*z + z^4, x^5 + y^4 + z^3] True False\n",
      "7 [x^7 + x^2*y^4 + x^2*z^3, x^6*y + x*y^5 + x*y*z^3, x^5*y^2 + y^6 + y^2*z^3, x^6*z + x*y^4*z + x*z^4, x^5*y*z + y^5*z + y*z^4, x^5*z^2 + y^4*z^2 + z^5, x^6 + x*y^4 + x*z^3, x^5*y + y^5 + y*z^3, x^5*z + y^4*z + z^4, x^5 + y^4 + z^3] True False\n",
      "8 Polynomial Sequence with 20 Polynomials in 3 Variables True False\n",
      "9 Polynomial Sequence with 35 Polynomials in 3 Variables True False\n",
      "10 Polynomial Sequence with 56 Polynomials in 3 Variables True False\n",
      "11 Polynomial Sequence with 84 Polynomials in 3 Variables True False\n",
      "12 Polynomial Sequence with 120 Polynomials in 3 Variables True False\n",
      "13 Polynomial Sequence with 165 Polynomials in 3 Variables True False\n",
      "14 Polynomial Sequence with 220 Polynomials in 3 Variables True False\n",
      "15 Polynomial Sequence with 286 Polynomials in 3 Variables True False\n",
      "16 Polynomial Sequence with 364 Polynomials in 3 Variables True False\n",
      "17 Polynomial Sequence with 455 Polynomials in 3 Variables True False\n",
      "18 Polynomial Sequence with 560 Polynomials in 3 Variables True False\n",
      "19 Polynomial Sequence with 681 Polynomials in 3 Variables True True\n",
      "\n",
      " Ideal (x^5 + y^4 + z^3, y^20 + z^3, z^22) of Multivariate Polynomial Ring in x, y, z over Rational Field\n",
      "0 [0] True False\n",
      "1 [0] True False\n",
      "2 [0] True False\n",
      "3 [0] True False\n",
      "4 [0] True False\n",
      "5 [x^5 + y^4 + z^3] True False\n",
      "6 [x^6 + x*y^4 + x*z^3, x^5*y + y^5 + y*z^3, x^5*z + y^4*z + z^4, x^5 + y^4 + z^3] True False\n",
      "7 [x^7 + x^2*y^4 + x^2*z^3, x^6*y + x*y^5 + x*y*z^3, x^5*y^2 + y^6 + y^2*z^3, x^6*z + x*y^4*z + x*z^4, x^5*y*z + y^5*z + y*z^4, x^5*z^2 + y^4*z^2 + z^5, x^6 + x*y^4 + x*z^3, x^5*y + y^5 + y*z^3, x^5*z + y^4*z + z^4, x^5 + y^4 + z^3] True False\n",
      "8 Polynomial Sequence with 20 Polynomials in 3 Variables True False\n",
      "9 Polynomial Sequence with 35 Polynomials in 3 Variables True False\n",
      "10 Polynomial Sequence with 56 Polynomials in 3 Variables True False\n",
      "11 Polynomial Sequence with 84 Polynomials in 3 Variables True False\n",
      "12 Polynomial Sequence with 120 Polynomials in 3 Variables True False\n",
      "13 Polynomial Sequence with 165 Polynomials in 3 Variables True False\n",
      "14 Polynomial Sequence with 220 Polynomials in 3 Variables True False\n",
      "15 Polynomial Sequence with 286 Polynomials in 3 Variables True False\n",
      "16 Polynomial Sequence with 364 Polynomials in 3 Variables True False\n",
      "17 Polynomial Sequence with 455 Polynomials in 3 Variables True False\n",
      "18 Polynomial Sequence with 560 Polynomials in 3 Variables True False\n",
      "19 Polynomial Sequence with 680 Polynomials in 3 Variables True False\n",
      "20 Polynomial Sequence with 817 Polynomials in 3 Variables True True\n",
      "\n",
      " Ideal (x^5 + y^4 + z^3, y^21 + z^3, z^23) of Multivariate Polynomial Ring in x, y, z over Rational Field\n",
      "0 [0] True False\n",
      "1 [0] True False\n",
      "2 [0] True False\n",
      "3 [0] True False\n",
      "4 [0] True False\n",
      "5 [x^5 + y^4 + z^3] True False\n",
      "6 [x^6 + x*y^4 + x*z^3, x^5*y + y^5 + y*z^3, x^5*z + y^4*z + z^4, x^5 + y^4 + z^3] True False\n",
      "7 [x^7 + x^2*y^4 + x^2*z^3, x^6*y + x*y^5 + x*y*z^3, x^5*y^2 + y^6 + y^2*z^3, x^6*z + x*y^4*z + x*z^4, x^5*y*z + y^5*z + y*z^4, x^5*z^2 + y^4*z^2 + z^5, x^6 + x*y^4 + x*z^3, x^5*y + y^5 + y*z^3, x^5*z + y^4*z + z^4, x^5 + y^4 + z^3] True False\n",
      "8 Polynomial Sequence with 20 Polynomials in 3 Variables True False\n",
      "9 Polynomial Sequence with 35 Polynomials in 3 Variables True False\n",
      "10 Polynomial Sequence with 56 Polynomials in 3 Variables True False\n",
      "11 Polynomial Sequence with 84 Polynomials in 3 Variables True False\n",
      "12 Polynomial Sequence with 120 Polynomials in 3 Variables True False\n",
      "13 Polynomial Sequence with 165 Polynomials in 3 Variables True False\n",
      "14 Polynomial Sequence with 220 Polynomials in 3 Variables True False\n",
      "15 Polynomial Sequence with 286 Polynomials in 3 Variables True False\n",
      "16 Polynomial Sequence with 364 Polynomials in 3 Variables True False\n",
      "17 Polynomial Sequence with 455 Polynomials in 3 Variables True False\n",
      "18 Polynomial Sequence with 560 Polynomials in 3 Variables True False\n",
      "19 Polynomial Sequence with 680 Polynomials in 3 Variables True False\n",
      "20 Polynomial Sequence with 816 Polynomials in 3 Variables True False\n"
     ]
    },
    {
     "name": "stdout",
     "output_type": "stream",
     "text": [
      "21 Polynomial Sequence with 970 Polynomials in 3 Variables True True\n",
      "\n",
      " Ideal (x^5 + y^4 + z^3, y^22 + z^3, z^24) of Multivariate Polynomial Ring in x, y, z over Rational Field\n",
      "0 [0] True False\n",
      "1 [0] True False\n",
      "2 [0] True False\n",
      "3 [0] True False\n",
      "4 [0] True False\n",
      "5 [x^5 + y^4 + z^3] True False\n",
      "6 [x^6 + x*y^4 + x*z^3, x^5*y + y^5 + y*z^3, x^5*z + y^4*z + z^4, x^5 + y^4 + z^3] True False\n",
      "7 [x^7 + x^2*y^4 + x^2*z^3, x^6*y + x*y^5 + x*y*z^3, x^5*y^2 + y^6 + y^2*z^3, x^6*z + x*y^4*z + x*z^4, x^5*y*z + y^5*z + y*z^4, x^5*z^2 + y^4*z^2 + z^5, x^6 + x*y^4 + x*z^3, x^5*y + y^5 + y*z^3, x^5*z + y^4*z + z^4, x^5 + y^4 + z^3] True False\n",
      "8 Polynomial Sequence with 20 Polynomials in 3 Variables True False\n",
      "9 Polynomial Sequence with 35 Polynomials in 3 Variables True False\n",
      "10 Polynomial Sequence with 56 Polynomials in 3 Variables True False\n",
      "11 Polynomial Sequence with 84 Polynomials in 3 Variables True False\n",
      "12 Polynomial Sequence with 120 Polynomials in 3 Variables True False\n",
      "13 Polynomial Sequence with 165 Polynomials in 3 Variables True False\n",
      "14 Polynomial Sequence with 220 Polynomials in 3 Variables True False\n",
      "15 Polynomial Sequence with 286 Polynomials in 3 Variables True False\n",
      "16 Polynomial Sequence with 364 Polynomials in 3 Variables True False\n",
      "17 Polynomial Sequence with 455 Polynomials in 3 Variables True False\n",
      "18 Polynomial Sequence with 560 Polynomials in 3 Variables True False\n",
      "19 Polynomial Sequence with 680 Polynomials in 3 Variables True False\n",
      "20 Polynomial Sequence with 816 Polynomials in 3 Variables True False\n",
      "21 Polynomial Sequence with 969 Polynomials in 3 Variables True False\n",
      "22 Polynomial Sequence with 1141 Polynomials in 3 Variables True True\n",
      "\n",
      " Ideal (x^5 + y^4 + z^3, y^23 + z^3, z^25) of Multivariate Polynomial Ring in x, y, z over Rational Field\n",
      "0 [0] True False\n",
      "1 [0] True False\n",
      "2 [0] True False\n",
      "3 [0] True False\n",
      "4 [0] True False\n",
      "5 [x^5 + y^4 + z^3] True False\n",
      "6 [x^6 + x*y^4 + x*z^3, x^5*y + y^5 + y*z^3, x^5*z + y^4*z + z^4, x^5 + y^4 + z^3] True False\n",
      "7 [x^7 + x^2*y^4 + x^2*z^3, x^6*y + x*y^5 + x*y*z^3, x^5*y^2 + y^6 + y^2*z^3, x^6*z + x*y^4*z + x*z^4, x^5*y*z + y^5*z + y*z^4, x^5*z^2 + y^4*z^2 + z^5, x^6 + x*y^4 + x*z^3, x^5*y + y^5 + y*z^3, x^5*z + y^4*z + z^4, x^5 + y^4 + z^3] True False\n",
      "8 Polynomial Sequence with 20 Polynomials in 3 Variables True False\n",
      "9 Polynomial Sequence with 35 Polynomials in 3 Variables True False\n",
      "10 Polynomial Sequence with 56 Polynomials in 3 Variables True False\n",
      "11 Polynomial Sequence with 84 Polynomials in 3 Variables True False\n",
      "12 Polynomial Sequence with 120 Polynomials in 3 Variables True False\n",
      "13 Polynomial Sequence with 165 Polynomials in 3 Variables True False\n",
      "14 Polynomial Sequence with 220 Polynomials in 3 Variables True False\n",
      "15 Polynomial Sequence with 286 Polynomials in 3 Variables True False\n",
      "16 Polynomial Sequence with 364 Polynomials in 3 Variables True False\n",
      "17 Polynomial Sequence with 455 Polynomials in 3 Variables True False\n",
      "18 Polynomial Sequence with 560 Polynomials in 3 Variables True False\n",
      "19 Polynomial Sequence with 680 Polynomials in 3 Variables True False\n",
      "20 Polynomial Sequence with 816 Polynomials in 3 Variables True False\n",
      "21 Polynomial Sequence with 969 Polynomials in 3 Variables True False\n",
      "22 Polynomial Sequence with 1140 Polynomials in 3 Variables True False\n",
      "23 Polynomial Sequence with 1331 Polynomials in 3 Variables True True\n",
      "\n",
      " Ideal (x^5 + y^4 + z^3, y^24 + z^3, z^26) of Multivariate Polynomial Ring in x, y, z over Rational Field\n",
      "0 [0] True False\n",
      "1 [0] True False\n",
      "2 [0] True False\n",
      "3 [0] True False\n",
      "4 [0] True False\n",
      "5 [x^5 + y^4 + z^3] True False\n",
      "6 [x^6 + x*y^4 + x*z^3, x^5*y + y^5 + y*z^3, x^5*z + y^4*z + z^4, x^5 + y^4 + z^3] True False\n",
      "7 [x^7 + x^2*y^4 + x^2*z^3, x^6*y + x*y^5 + x*y*z^3, x^5*y^2 + y^6 + y^2*z^3, x^6*z + x*y^4*z + x*z^4, x^5*y*z + y^5*z + y*z^4, x^5*z^2 + y^4*z^2 + z^5, x^6 + x*y^4 + x*z^3, x^5*y + y^5 + y*z^3, x^5*z + y^4*z + z^4, x^5 + y^4 + z^3] True False\n",
      "8 Polynomial Sequence with 20 Polynomials in 3 Variables True False\n",
      "9 Polynomial Sequence with 35 Polynomials in 3 Variables True False\n",
      "10 Polynomial Sequence with 56 Polynomials in 3 Variables True False\n",
      "11 Polynomial Sequence with 84 Polynomials in 3 Variables True False\n",
      "12 Polynomial Sequence with 120 Polynomials in 3 Variables True False\n",
      "13 Polynomial Sequence with 165 Polynomials in 3 Variables True False\n",
      "14 Polynomial Sequence with 220 Polynomials in 3 Variables True False\n",
      "15 Polynomial Sequence with 286 Polynomials in 3 Variables True False\n",
      "16 Polynomial Sequence with 364 Polynomials in 3 Variables True False\n",
      "17 Polynomial Sequence with 455 Polynomials in 3 Variables True False\n",
      "18 Polynomial Sequence with 560 Polynomials in 3 Variables True False\n",
      "19 Polynomial Sequence with 680 Polynomials in 3 Variables True False\n",
      "20 Polynomial Sequence with 816 Polynomials in 3 Variables True False\n",
      "21 Polynomial Sequence with 969 Polynomials in 3 Variables True False\n",
      "22 Polynomial Sequence with 1140 Polynomials in 3 Variables True False\n",
      "23 Polynomial Sequence with 1330 Polynomials in 3 Variables True False\n",
      "24 Polynomial Sequence with 1541 Polynomials in 3 Variables True True\n",
      "\n",
      " Results: \n",
      " [5, 5, 6, 7, 8, 9, 10, 11, 12, 13, 14, 15, 16, 17, 18, 19, 20, 21, 22, 23, 24] \n",
      " [13, 15, 17, 19, 21, 23, 25, 27, 29, 31, 33, 35, 37, 39, 41, 43, 45, 47, 49, 51, 53]\n"
     ]
    }
   ],
   "source": [
    "R.<x,y,z> = PolynomialRing(QQ, order = 'degrevlex')\n",
    "sdegs = []\n",
    "degregs = []\n",
    "for i in range(4,25):\n",
    "    f1 = x^5 + y^4 + z^3\n",
    "    f2 = y^i + z^3\n",
    "    f3 = z^(i+2)\n",
    "    I = Ideal(f1,f2,f3)\n",
    "    print('\\n',I)\n",
    "    sdegs.append(mac_grob([f1,f2],R)[0])\n",
    "    degregs.append(degree_reg(I,R))\n",
    "print('\\n', \"Results:\", '\\n', sdegs, '\\n', degregs)"
   ]
  },
  {
   "cell_type": "code",
   "execution_count": 366,
   "metadata": {},
   "outputs": [
    {
     "name": "stdout",
     "output_type": "stream",
     "text": [
      "\n",
      " Ideal (x^5 + x*y^4, y^3, z^2) of Multivariate Polynomial Ring in x, y, z over Rational Field\n",
      "0 [0] True False\n",
      "1 [0] True False\n",
      "2 [0] True False\n",
      "3 [y^3] True False\n",
      "4 [x*y^3, y^4, y^3*z, y^3] True False\n",
      "5 [x^5, x^2*y^3, x*y^4, y^5, x*y^3*z, y^4*z, y^3*z^2, x*y^3, y^4, y^3*z, y^3] True True\n",
      "\n",
      " Ideal (x^6 + x*y^5, y^3, z^3) of Multivariate Polynomial Ring in x, y, z over Rational Field\n",
      "0 [0] True False\n",
      "1 [0] True False\n",
      "2 [0] True False\n",
      "3 [y^3] True False\n",
      "4 [x*y^3, y^4, y^3*z, y^3] True False\n",
      "5 [x^2*y^3, x*y^4, y^5, x*y^3*z, y^4*z, y^3*z^2, x*y^3, y^4, y^3*z, y^3] True False\n",
      "6 Polynomial Sequence with 21 Polynomials in 3 Variables True True\n",
      "\n",
      " Ideal (x^7 + x*y^6, y^3, z^4) of Multivariate Polynomial Ring in x, y, z over Rational Field\n",
      "0 [0] True False\n",
      "1 [0] True False\n",
      "2 [0] True False\n",
      "3 [y^3] True False\n",
      "4 [x*y^3, y^4, y^3*z, y^3] True False\n",
      "5 [x^2*y^3, x*y^4, y^5, x*y^3*z, y^4*z, y^3*z^2, x*y^3, y^4, y^3*z, y^3] True False\n",
      "6 Polynomial Sequence with 20 Polynomials in 3 Variables True False\n",
      "7 Polynomial Sequence with 36 Polynomials in 3 Variables True True\n",
      "\n",
      " Ideal (x^8 + x*y^7, y^3, z^5) of Multivariate Polynomial Ring in x, y, z over Rational Field\n",
      "0 [0] True False\n",
      "1 [0] True False\n",
      "2 [0] True False\n",
      "3 [y^3] True False\n",
      "4 [x*y^3, y^4, y^3*z, y^3] True False\n",
      "5 [x^2*y^3, x*y^4, y^5, x*y^3*z, y^4*z, y^3*z^2, x*y^3, y^4, y^3*z, y^3] True False\n",
      "6 Polynomial Sequence with 20 Polynomials in 3 Variables True False\n",
      "7 Polynomial Sequence with 35 Polynomials in 3 Variables True False\n",
      "8 Polynomial Sequence with 57 Polynomials in 3 Variables True True\n",
      "\n",
      " Ideal (x^9 + x*y^8, y^3, z^6) of Multivariate Polynomial Ring in x, y, z over Rational Field\n",
      "0 [0] True False\n",
      "1 [0] True False\n",
      "2 [0] True False\n",
      "3 [y^3] True False\n",
      "4 [x*y^3, y^4, y^3*z, y^3] True False\n",
      "5 [x^2*y^3, x*y^4, y^5, x*y^3*z, y^4*z, y^3*z^2, x*y^3, y^4, y^3*z, y^3] True False\n",
      "6 Polynomial Sequence with 20 Polynomials in 3 Variables True False\n",
      "7 Polynomial Sequence with 35 Polynomials in 3 Variables True False\n",
      "8 Polynomial Sequence with 56 Polynomials in 3 Variables True False\n",
      "9 Polynomial Sequence with 85 Polynomials in 3 Variables True True\n",
      "\n",
      " Ideal (x^10 + x*y^9, y^3, z^7) of Multivariate Polynomial Ring in x, y, z over Rational Field\n",
      "0 [0] True False\n",
      "1 [0] True False\n",
      "2 [0] True False\n",
      "3 [y^3] True False\n",
      "4 [x*y^3, y^4, y^3*z, y^3] True False\n",
      "5 [x^2*y^3, x*y^4, y^5, x*y^3*z, y^4*z, y^3*z^2, x*y^3, y^4, y^3*z, y^3] True False\n",
      "6 Polynomial Sequence with 20 Polynomials in 3 Variables True False\n",
      "7 Polynomial Sequence with 35 Polynomials in 3 Variables True False\n",
      "8 Polynomial Sequence with 56 Polynomials in 3 Variables True False\n",
      "9 Polynomial Sequence with 84 Polynomials in 3 Variables True False\n",
      "10 Polynomial Sequence with 121 Polynomials in 3 Variables True True\n",
      "\n",
      " Ideal (x^11 + x*y^10, y^3, z^8) of Multivariate Polynomial Ring in x, y, z over Rational Field\n",
      "0 [0] True False\n",
      "1 [0] True False\n",
      "2 [0] True False\n",
      "3 [y^3] True False\n",
      "4 [x*y^3, y^4, y^3*z, y^3] True False\n",
      "5 [x^2*y^3, x*y^4, y^5, x*y^3*z, y^4*z, y^3*z^2, x*y^3, y^4, y^3*z, y^3] True False\n",
      "6 Polynomial Sequence with 20 Polynomials in 3 Variables True False\n",
      "7 Polynomial Sequence with 35 Polynomials in 3 Variables True False\n",
      "8 Polynomial Sequence with 56 Polynomials in 3 Variables True False\n",
      "9 Polynomial Sequence with 84 Polynomials in 3 Variables True False\n",
      "10 Polynomial Sequence with 120 Polynomials in 3 Variables True False\n",
      "11 Polynomial Sequence with 166 Polynomials in 3 Variables True True\n",
      "\n",
      " Ideal (x^12 + x*y^11, y^3, z^9) of Multivariate Polynomial Ring in x, y, z over Rational Field\n",
      "0 [0] True False\n",
      "1 [0] True False\n",
      "2 [0] True False\n",
      "3 [y^3] True False\n",
      "4 [x*y^3, y^4, y^3*z, y^3] True False\n",
      "5 [x^2*y^3, x*y^4, y^5, x*y^3*z, y^4*z, y^3*z^2, x*y^3, y^4, y^3*z, y^3] True False\n",
      "6 Polynomial Sequence with 20 Polynomials in 3 Variables True False\n",
      "7 Polynomial Sequence with 35 Polynomials in 3 Variables True False\n",
      "8 Polynomial Sequence with 56 Polynomials in 3 Variables True False\n",
      "9 Polynomial Sequence with 84 Polynomials in 3 Variables True False\n",
      "10 Polynomial Sequence with 120 Polynomials in 3 Variables True False\n",
      "11 Polynomial Sequence with 165 Polynomials in 3 Variables True False\n",
      "12 Polynomial Sequence with 221 Polynomials in 3 Variables True True\n",
      "\n",
      " Ideal (x^13 + x*y^12, y^3, z^10) of Multivariate Polynomial Ring in x, y, z over Rational Field\n",
      "0 [0] True False\n",
      "1 [0] True False\n",
      "2 [0] True False\n",
      "3 [y^3] True False\n",
      "4 [x*y^3, y^4, y^3*z, y^3] True False\n",
      "5 [x^2*y^3, x*y^4, y^5, x*y^3*z, y^4*z, y^3*z^2, x*y^3, y^4, y^3*z, y^3] True False\n",
      "6 Polynomial Sequence with 20 Polynomials in 3 Variables True False\n",
      "7 Polynomial Sequence with 35 Polynomials in 3 Variables True False\n",
      "8 Polynomial Sequence with 56 Polynomials in 3 Variables True False\n",
      "9 Polynomial Sequence with 84 Polynomials in 3 Variables True False\n",
      "10 Polynomial Sequence with 120 Polynomials in 3 Variables True False\n",
      "11 Polynomial Sequence with 165 Polynomials in 3 Variables True False\n",
      "12 Polynomial Sequence with 220 Polynomials in 3 Variables True False\n",
      "13 Polynomial Sequence with 287 Polynomials in 3 Variables True True\n",
      "\n",
      " Ideal (x^14 + x*y^13, y^3, z^11) of Multivariate Polynomial Ring in x, y, z over Rational Field\n",
      "0 [0] True False\n",
      "1 [0] True False\n",
      "2 [0] True False\n",
      "3 [y^3] True False\n",
      "4 [x*y^3, y^4, y^3*z, y^3] True False\n",
      "5 [x^2*y^3, x*y^4, y^5, x*y^3*z, y^4*z, y^3*z^2, x*y^3, y^4, y^3*z, y^3] True False\n",
      "6 Polynomial Sequence with 20 Polynomials in 3 Variables True False\n",
      "7 Polynomial Sequence with 35 Polynomials in 3 Variables True False\n",
      "8 Polynomial Sequence with 56 Polynomials in 3 Variables True False\n",
      "9 Polynomial Sequence with 84 Polynomials in 3 Variables True False\n",
      "10 Polynomial Sequence with 120 Polynomials in 3 Variables True False\n",
      "11 Polynomial Sequence with 165 Polynomials in 3 Variables True False\n",
      "12 Polynomial Sequence with 220 Polynomials in 3 Variables True False\n",
      "13 Polynomial Sequence with 286 Polynomials in 3 Variables True False\n",
      "14 Polynomial Sequence with 365 Polynomials in 3 Variables True True\n",
      "\n",
      " Ideal (x^15 + x*y^14, y^3, z^12) of Multivariate Polynomial Ring in x, y, z over Rational Field\n",
      "0 [0] True False\n",
      "1 [0] True False\n",
      "2 [0] True False\n",
      "3 [y^3] True False\n",
      "4 [x*y^3, y^4, y^3*z, y^3] True False\n",
      "5 [x^2*y^3, x*y^4, y^5, x*y^3*z, y^4*z, y^3*z^2, x*y^3, y^4, y^3*z, y^3] True False\n",
      "6 Polynomial Sequence with 20 Polynomials in 3 Variables True False\n",
      "7 Polynomial Sequence with 35 Polynomials in 3 Variables True False\n",
      "8 Polynomial Sequence with 56 Polynomials in 3 Variables True False\n",
      "9 Polynomial Sequence with 84 Polynomials in 3 Variables True False\n",
      "10 Polynomial Sequence with 120 Polynomials in 3 Variables True False\n",
      "11 Polynomial Sequence with 165 Polynomials in 3 Variables True False\n",
      "12 Polynomial Sequence with 220 Polynomials in 3 Variables True False\n",
      "13 Polynomial Sequence with 286 Polynomials in 3 Variables True False\n",
      "14 Polynomial Sequence with 364 Polynomials in 3 Variables True False\n",
      "15 Polynomial Sequence with 456 Polynomials in 3 Variables True True\n",
      "\n",
      " Ideal (x^16 + x*y^15, y^3, z^13) of Multivariate Polynomial Ring in x, y, z over Rational Field\n",
      "0 [0] True False\n",
      "1 [0] True False\n",
      "2 [0] True False\n",
      "3 [y^3] True False\n",
      "4 [x*y^3, y^4, y^3*z, y^3] True False\n",
      "5 [x^2*y^3, x*y^4, y^5, x*y^3*z, y^4*z, y^3*z^2, x*y^3, y^4, y^3*z, y^3] True False\n",
      "6 Polynomial Sequence with 20 Polynomials in 3 Variables True False\n",
      "7 Polynomial Sequence with 35 Polynomials in 3 Variables True False\n",
      "8 Polynomial Sequence with 56 Polynomials in 3 Variables True False\n",
      "9 Polynomial Sequence with 84 Polynomials in 3 Variables True False\n",
      "10 Polynomial Sequence with 120 Polynomials in 3 Variables True False\n",
      "11 Polynomial Sequence with 165 Polynomials in 3 Variables True False\n",
      "12 Polynomial Sequence with 220 Polynomials in 3 Variables True False\n",
      "13 Polynomial Sequence with 286 Polynomials in 3 Variables True False\n",
      "14 Polynomial Sequence with 364 Polynomials in 3 Variables True False\n",
      "15 Polynomial Sequence with 455 Polynomials in 3 Variables True False\n",
      "16 Polynomial Sequence with 561 Polynomials in 3 Variables True True\n",
      "\n",
      " Ideal (x^17 + x*y^16, y^3, z^14) of Multivariate Polynomial Ring in x, y, z over Rational Field\n",
      "0 [0] True False\n",
      "1 [0] True False\n",
      "2 [0] True False\n",
      "3 [y^3] True False\n",
      "4 [x*y^3, y^4, y^3*z, y^3] True False\n",
      "5 [x^2*y^3, x*y^4, y^5, x*y^3*z, y^4*z, y^3*z^2, x*y^3, y^4, y^3*z, y^3] True False\n",
      "6 Polynomial Sequence with 20 Polynomials in 3 Variables True False\n",
      "7 Polynomial Sequence with 35 Polynomials in 3 Variables True False\n",
      "8 Polynomial Sequence with 56 Polynomials in 3 Variables True False\n",
      "9 Polynomial Sequence with 84 Polynomials in 3 Variables True False\n"
     ]
    },
    {
     "name": "stdout",
     "output_type": "stream",
     "text": [
      "10 Polynomial Sequence with 120 Polynomials in 3 Variables True False\n",
      "11 Polynomial Sequence with 165 Polynomials in 3 Variables True False\n",
      "12 Polynomial Sequence with 220 Polynomials in 3 Variables True False\n",
      "13 Polynomial Sequence with 286 Polynomials in 3 Variables True False\n",
      "14 Polynomial Sequence with 364 Polynomials in 3 Variables True False\n",
      "15 Polynomial Sequence with 455 Polynomials in 3 Variables True False\n",
      "16 Polynomial Sequence with 560 Polynomials in 3 Variables True False\n",
      "17 Polynomial Sequence with 681 Polynomials in 3 Variables True True\n",
      "\n",
      " Ideal (x^18 + x*y^17, y^3, z^15) of Multivariate Polynomial Ring in x, y, z over Rational Field\n",
      "0 [0] True False\n",
      "1 [0] True False\n",
      "2 [0] True False\n",
      "3 [y^3] True False\n",
      "4 [x*y^3, y^4, y^3*z, y^3] True False\n",
      "5 [x^2*y^3, x*y^4, y^5, x*y^3*z, y^4*z, y^3*z^2, x*y^3, y^4, y^3*z, y^3] True False\n",
      "6 Polynomial Sequence with 20 Polynomials in 3 Variables True False\n",
      "7 Polynomial Sequence with 35 Polynomials in 3 Variables True False\n",
      "8 Polynomial Sequence with 56 Polynomials in 3 Variables True False\n",
      "9 Polynomial Sequence with 84 Polynomials in 3 Variables True False\n",
      "10 Polynomial Sequence with 120 Polynomials in 3 Variables True False\n",
      "11 Polynomial Sequence with 165 Polynomials in 3 Variables True False\n",
      "12 Polynomial Sequence with 220 Polynomials in 3 Variables True False\n",
      "13 Polynomial Sequence with 286 Polynomials in 3 Variables True False\n",
      "14 Polynomial Sequence with 364 Polynomials in 3 Variables True False\n",
      "15 Polynomial Sequence with 455 Polynomials in 3 Variables True False\n",
      "16 Polynomial Sequence with 560 Polynomials in 3 Variables True False\n",
      "17 Polynomial Sequence with 680 Polynomials in 3 Variables True False\n",
      "18 Polynomial Sequence with 817 Polynomials in 3 Variables True True\n",
      "\n",
      " Ideal (x^19 + x*y^18, y^3, z^16) of Multivariate Polynomial Ring in x, y, z over Rational Field\n",
      "0 [0] True False\n",
      "1 [0] True False\n",
      "2 [0] True False\n",
      "3 [y^3] True False\n",
      "4 [x*y^3, y^4, y^3*z, y^3] True False\n",
      "5 [x^2*y^3, x*y^4, y^5, x*y^3*z, y^4*z, y^3*z^2, x*y^3, y^4, y^3*z, y^3] True False\n",
      "6 Polynomial Sequence with 20 Polynomials in 3 Variables True False\n",
      "7 Polynomial Sequence with 35 Polynomials in 3 Variables True False\n",
      "8 Polynomial Sequence with 56 Polynomials in 3 Variables True False\n",
      "9 Polynomial Sequence with 84 Polynomials in 3 Variables True False\n",
      "10 Polynomial Sequence with 120 Polynomials in 3 Variables True False\n",
      "11 Polynomial Sequence with 165 Polynomials in 3 Variables True False\n",
      "12 Polynomial Sequence with 220 Polynomials in 3 Variables True False\n",
      "13 Polynomial Sequence with 286 Polynomials in 3 Variables True False\n",
      "14 Polynomial Sequence with 364 Polynomials in 3 Variables True False\n",
      "15 Polynomial Sequence with 455 Polynomials in 3 Variables True False\n",
      "16 Polynomial Sequence with 560 Polynomials in 3 Variables True False\n",
      "17 Polynomial Sequence with 680 Polynomials in 3 Variables True False\n",
      "18 Polynomial Sequence with 816 Polynomials in 3 Variables True False\n",
      "19 Polynomial Sequence with 970 Polynomials in 3 Variables True True\n",
      "\n",
      " Ideal (x^20 + x*y^19, y^3, z^17) of Multivariate Polynomial Ring in x, y, z over Rational Field\n",
      "0 [0] True False\n",
      "1 [0] True False\n",
      "2 [0] True False\n",
      "3 [y^3] True False\n",
      "4 [x*y^3, y^4, y^3*z, y^3] True False\n",
      "5 [x^2*y^3, x*y^4, y^5, x*y^3*z, y^4*z, y^3*z^2, x*y^3, y^4, y^3*z, y^3] True False\n",
      "6 Polynomial Sequence with 20 Polynomials in 3 Variables True False\n",
      "7 Polynomial Sequence with 35 Polynomials in 3 Variables True False\n",
      "8 Polynomial Sequence with 56 Polynomials in 3 Variables True False\n",
      "9 Polynomial Sequence with 84 Polynomials in 3 Variables True False\n",
      "10 Polynomial Sequence with 120 Polynomials in 3 Variables True False\n",
      "11 Polynomial Sequence with 165 Polynomials in 3 Variables True False\n",
      "12 Polynomial Sequence with 220 Polynomials in 3 Variables True False\n",
      "13 Polynomial Sequence with 286 Polynomials in 3 Variables True False\n",
      "14 Polynomial Sequence with 364 Polynomials in 3 Variables True False\n",
      "15 Polynomial Sequence with 455 Polynomials in 3 Variables True False\n",
      "16 Polynomial Sequence with 560 Polynomials in 3 Variables True False\n",
      "17 Polynomial Sequence with 680 Polynomials in 3 Variables True False\n",
      "18 Polynomial Sequence with 816 Polynomials in 3 Variables True False\n",
      "19 Polynomial Sequence with 969 Polynomials in 3 Variables True False\n",
      "20 Polynomial Sequence with 1141 Polynomials in 3 Variables True True\n",
      "\n",
      " Ideal (x^21 + x*y^20, y^3, z^18) of Multivariate Polynomial Ring in x, y, z over Rational Field\n",
      "0 [0] True False\n",
      "1 [0] True False\n",
      "2 [0] True False\n",
      "3 [y^3] True False\n",
      "4 [x*y^3, y^4, y^3*z, y^3] True False\n",
      "5 [x^2*y^3, x*y^4, y^5, x*y^3*z, y^4*z, y^3*z^2, x*y^3, y^4, y^3*z, y^3] True False\n",
      "6 Polynomial Sequence with 20 Polynomials in 3 Variables True False\n",
      "7 Polynomial Sequence with 35 Polynomials in 3 Variables True False\n",
      "8 Polynomial Sequence with 56 Polynomials in 3 Variables True False\n",
      "9 Polynomial Sequence with 84 Polynomials in 3 Variables True False\n",
      "10 Polynomial Sequence with 120 Polynomials in 3 Variables True False\n",
      "11 Polynomial Sequence with 165 Polynomials in 3 Variables True False\n",
      "12 Polynomial Sequence with 220 Polynomials in 3 Variables True False\n",
      "13 Polynomial Sequence with 286 Polynomials in 3 Variables True False\n",
      "14 Polynomial Sequence with 364 Polynomials in 3 Variables True False\n",
      "15 Polynomial Sequence with 455 Polynomials in 3 Variables True False\n",
      "16 Polynomial Sequence with 560 Polynomials in 3 Variables True False\n",
      "17 Polynomial Sequence with 680 Polynomials in 3 Variables True False\n",
      "18 Polynomial Sequence with 816 Polynomials in 3 Variables True False\n",
      "19 Polynomial Sequence with 969 Polynomials in 3 Variables True False\n",
      "20 Polynomial Sequence with 1140 Polynomials in 3 Variables True False\n",
      "21 Polynomial Sequence with 1331 Polynomials in 3 Variables True True\n",
      "\n",
      " Ideal (x^22 + x*y^21, y^3, z^19) of Multivariate Polynomial Ring in x, y, z over Rational Field\n",
      "0 [0] True False\n",
      "1 [0] True False\n",
      "2 [0] True False\n",
      "3 [y^3] True False\n",
      "4 [x*y^3, y^4, y^3*z, y^3] True False\n",
      "5 [x^2*y^3, x*y^4, y^5, x*y^3*z, y^4*z, y^3*z^2, x*y^3, y^4, y^3*z, y^3] True False\n",
      "6 Polynomial Sequence with 20 Polynomials in 3 Variables True False\n",
      "7 Polynomial Sequence with 35 Polynomials in 3 Variables True False\n",
      "8 Polynomial Sequence with 56 Polynomials in 3 Variables True False\n",
      "9 Polynomial Sequence with 84 Polynomials in 3 Variables True False\n",
      "10 Polynomial Sequence with 120 Polynomials in 3 Variables True False\n",
      "11 Polynomial Sequence with 165 Polynomials in 3 Variables True False\n",
      "12 Polynomial Sequence with 220 Polynomials in 3 Variables True False\n",
      "13 Polynomial Sequence with 286 Polynomials in 3 Variables True False\n",
      "14 Polynomial Sequence with 364 Polynomials in 3 Variables True False\n",
      "15 Polynomial Sequence with 455 Polynomials in 3 Variables True False\n",
      "16 Polynomial Sequence with 560 Polynomials in 3 Variables True False\n",
      "17 Polynomial Sequence with 680 Polynomials in 3 Variables True False\n",
      "18 Polynomial Sequence with 816 Polynomials in 3 Variables True False\n",
      "19 Polynomial Sequence with 969 Polynomials in 3 Variables True False\n",
      "20 Polynomial Sequence with 1140 Polynomials in 3 Variables True False\n",
      "21 Polynomial Sequence with 1330 Polynomials in 3 Variables True False\n",
      "22 Polynomial Sequence with 1541 Polynomials in 3 Variables True True\n",
      "\n",
      " Ideal (x^23 + x*y^22, y^3, z^20) of Multivariate Polynomial Ring in x, y, z over Rational Field\n",
      "0 [0] True False\n",
      "1 [0] True False\n",
      "2 [0] True False\n",
      "3 [y^3] True False\n",
      "4 [x*y^3, y^4, y^3*z, y^3] True False\n",
      "5 [x^2*y^3, x*y^4, y^5, x*y^3*z, y^4*z, y^3*z^2, x*y^3, y^4, y^3*z, y^3] True False\n",
      "6 Polynomial Sequence with 20 Polynomials in 3 Variables True False\n",
      "7 Polynomial Sequence with 35 Polynomials in 3 Variables True False\n",
      "8 Polynomial Sequence with 56 Polynomials in 3 Variables True False\n",
      "9 Polynomial Sequence with 84 Polynomials in 3 Variables True False\n",
      "10 Polynomial Sequence with 120 Polynomials in 3 Variables True False\n",
      "11 Polynomial Sequence with 165 Polynomials in 3 Variables True False\n",
      "12 Polynomial Sequence with 220 Polynomials in 3 Variables True False\n",
      "13 Polynomial Sequence with 286 Polynomials in 3 Variables True False\n",
      "14 Polynomial Sequence with 364 Polynomials in 3 Variables True False\n",
      "15 Polynomial Sequence with 455 Polynomials in 3 Variables True False\n"
     ]
    },
    {
     "name": "stdout",
     "output_type": "stream",
     "text": [
      "16 Polynomial Sequence with 560 Polynomials in 3 Variables True False\n",
      "17 Polynomial Sequence with 680 Polynomials in 3 Variables True False\n",
      "18 Polynomial Sequence with 816 Polynomials in 3 Variables True False\n",
      "19 Polynomial Sequence with 969 Polynomials in 3 Variables True False\n",
      "20 Polynomial Sequence with 1140 Polynomials in 3 Variables True False\n",
      "21 Polynomial Sequence with 1330 Polynomials in 3 Variables True False\n",
      "22 Polynomial Sequence with 1540 Polynomials in 3 Variables True False\n",
      "23 Polynomial Sequence with 1772 Polynomials in 3 Variables True True\n",
      "\n",
      " Ideal (x^24 + x*y^23, y^3, z^21) of Multivariate Polynomial Ring in x, y, z over Rational Field\n",
      "0 [0] True False\n",
      "1 [0] True False\n",
      "2 [0] True False\n",
      "3 [y^3] True False\n",
      "4 [x*y^3, y^4, y^3*z, y^3] True False\n",
      "5 [x^2*y^3, x*y^4, y^5, x*y^3*z, y^4*z, y^3*z^2, x*y^3, y^4, y^3*z, y^3] True False\n",
      "6 Polynomial Sequence with 20 Polynomials in 3 Variables True False\n",
      "7 Polynomial Sequence with 35 Polynomials in 3 Variables True False\n",
      "8 Polynomial Sequence with 56 Polynomials in 3 Variables True False\n",
      "9 Polynomial Sequence with 84 Polynomials in 3 Variables True False\n",
      "10 Polynomial Sequence with 120 Polynomials in 3 Variables True False\n",
      "11 Polynomial Sequence with 165 Polynomials in 3 Variables True False\n",
      "12 Polynomial Sequence with 220 Polynomials in 3 Variables True False\n",
      "13 Polynomial Sequence with 286 Polynomials in 3 Variables True False\n",
      "14 Polynomial Sequence with 364 Polynomials in 3 Variables True False\n",
      "15 Polynomial Sequence with 455 Polynomials in 3 Variables True False\n",
      "16 Polynomial Sequence with 560 Polynomials in 3 Variables True False\n",
      "17 Polynomial Sequence with 680 Polynomials in 3 Variables True False\n",
      "18 Polynomial Sequence with 816 Polynomials in 3 Variables True False\n",
      "19 Polynomial Sequence with 969 Polynomials in 3 Variables True False\n",
      "20 Polynomial Sequence with 1140 Polynomials in 3 Variables True False\n",
      "21 Polynomial Sequence with 1330 Polynomials in 3 Variables True False\n",
      "22 Polynomial Sequence with 1540 Polynomials in 3 Variables True False\n",
      "23 Polynomial Sequence with 1771 Polynomials in 3 Variables True False\n",
      "24 Polynomial Sequence with 2025 Polynomials in 3 Variables True True\n",
      "\n",
      " Ideal (x^25 + x*y^24, y^3, z^22) of Multivariate Polynomial Ring in x, y, z over Rational Field\n",
      "0 [0] True False\n",
      "1 [0] True False\n",
      "2 [0] True False\n",
      "3 [y^3] True False\n",
      "4 [x*y^3, y^4, y^3*z, y^3] True False\n",
      "5 [x^2*y^3, x*y^4, y^5, x*y^3*z, y^4*z, y^3*z^2, x*y^3, y^4, y^3*z, y^3] True False\n",
      "6 Polynomial Sequence with 20 Polynomials in 3 Variables True False\n",
      "7 Polynomial Sequence with 35 Polynomials in 3 Variables True False\n",
      "8 Polynomial Sequence with 56 Polynomials in 3 Variables True False\n",
      "9 Polynomial Sequence with 84 Polynomials in 3 Variables True False\n",
      "10 Polynomial Sequence with 120 Polynomials in 3 Variables True False\n",
      "11 Polynomial Sequence with 165 Polynomials in 3 Variables True False\n",
      "12 Polynomial Sequence with 220 Polynomials in 3 Variables True False\n",
      "13 Polynomial Sequence with 286 Polynomials in 3 Variables True False\n",
      "14 Polynomial Sequence with 364 Polynomials in 3 Variables True False\n",
      "15 Polynomial Sequence with 455 Polynomials in 3 Variables True False\n",
      "16 Polynomial Sequence with 560 Polynomials in 3 Variables True False\n",
      "17 Polynomial Sequence with 680 Polynomials in 3 Variables True False\n",
      "18 Polynomial Sequence with 816 Polynomials in 3 Variables True False\n",
      "19 Polynomial Sequence with 969 Polynomials in 3 Variables True False\n",
      "20 Polynomial Sequence with 1140 Polynomials in 3 Variables True False\n",
      "21 Polynomial Sequence with 1330 Polynomials in 3 Variables True False\n",
      "22 Polynomial Sequence with 1540 Polynomials in 3 Variables True False\n",
      "23 Polynomial Sequence with 1771 Polynomials in 3 Variables True False\n",
      "24 Polynomial Sequence with 2024 Polynomials in 3 Variables True False\n",
      "25 Polynomial Sequence with 2301 Polynomials in 3 Variables True True\n",
      "\n",
      " Ideal (x^26 + x*y^25, y^3, z^23) of Multivariate Polynomial Ring in x, y, z over Rational Field\n",
      "0 [0] True False\n",
      "1 [0] True False\n",
      "2 [0] True False\n",
      "3 [y^3] True False\n",
      "4 [x*y^3, y^4, y^3*z, y^3] True False\n",
      "5 [x^2*y^3, x*y^4, y^5, x*y^3*z, y^4*z, y^3*z^2, x*y^3, y^4, y^3*z, y^3] True False\n",
      "6 Polynomial Sequence with 20 Polynomials in 3 Variables True False\n",
      "7 Polynomial Sequence with 35 Polynomials in 3 Variables True False\n",
      "8 Polynomial Sequence with 56 Polynomials in 3 Variables True False\n",
      "9 Polynomial Sequence with 84 Polynomials in 3 Variables True False\n",
      "10 Polynomial Sequence with 120 Polynomials in 3 Variables True False\n",
      "11 Polynomial Sequence with 165 Polynomials in 3 Variables True False\n",
      "12 Polynomial Sequence with 220 Polynomials in 3 Variables True False\n",
      "13 Polynomial Sequence with 286 Polynomials in 3 Variables True False\n",
      "14 Polynomial Sequence with 364 Polynomials in 3 Variables True False\n",
      "15 Polynomial Sequence with 455 Polynomials in 3 Variables True False\n",
      "16 Polynomial Sequence with 560 Polynomials in 3 Variables True False\n",
      "17 Polynomial Sequence with 680 Polynomials in 3 Variables True False\n",
      "18 Polynomial Sequence with 816 Polynomials in 3 Variables True False\n",
      "19 Polynomial Sequence with 969 Polynomials in 3 Variables True False\n",
      "20 Polynomial Sequence with 1140 Polynomials in 3 Variables True False\n",
      "21 Polynomial Sequence with 1330 Polynomials in 3 Variables True False\n",
      "22 Polynomial Sequence with 1540 Polynomials in 3 Variables True False\n",
      "23 Polynomial Sequence with 1771 Polynomials in 3 Variables True False\n",
      "24 Polynomial Sequence with 2024 Polynomials in 3 Variables True False\n",
      "25 Polynomial Sequence with 2300 Polynomials in 3 Variables True False\n",
      "26 Polynomial Sequence with 2601 Polynomials in 3 Variables True True\n",
      "\n",
      " Ideal (x^27 + x*y^26, y^3, z^24) of Multivariate Polynomial Ring in x, y, z over Rational Field\n",
      "0 [0] True False\n",
      "1 [0] True False\n",
      "2 [0] True False\n",
      "3 [y^3] True False\n",
      "4 [x*y^3, y^4, y^3*z, y^3] True False\n",
      "5 [x^2*y^3, x*y^4, y^5, x*y^3*z, y^4*z, y^3*z^2, x*y^3, y^4, y^3*z, y^3] True False\n",
      "6 Polynomial Sequence with 20 Polynomials in 3 Variables True False\n",
      "7 Polynomial Sequence with 35 Polynomials in 3 Variables True False\n",
      "8 Polynomial Sequence with 56 Polynomials in 3 Variables True False\n",
      "9 Polynomial Sequence with 84 Polynomials in 3 Variables True False\n",
      "10 Polynomial Sequence with 120 Polynomials in 3 Variables True False\n",
      "11 Polynomial Sequence with 165 Polynomials in 3 Variables True False\n",
      "12 Polynomial Sequence with 220 Polynomials in 3 Variables True False\n",
      "13 Polynomial Sequence with 286 Polynomials in 3 Variables True False\n",
      "14 Polynomial Sequence with 364 Polynomials in 3 Variables True False\n",
      "15 Polynomial Sequence with 455 Polynomials in 3 Variables True False\n",
      "16 Polynomial Sequence with 560 Polynomials in 3 Variables True False\n",
      "17 Polynomial Sequence with 680 Polynomials in 3 Variables True False\n",
      "18 Polynomial Sequence with 816 Polynomials in 3 Variables True False\n",
      "19 Polynomial Sequence with 969 Polynomials in 3 Variables True False\n",
      "20 Polynomial Sequence with 1140 Polynomials in 3 Variables True False\n",
      "21 Polynomial Sequence with 1330 Polynomials in 3 Variables True False\n",
      "22 Polynomial Sequence with 1540 Polynomials in 3 Variables True False\n",
      "23 Polynomial Sequence with 1771 Polynomials in 3 Variables True False\n",
      "24 Polynomial Sequence with 2024 Polynomials in 3 Variables True False\n",
      "25 Polynomial Sequence with 2300 Polynomials in 3 Variables True False\n",
      "26 Polynomial Sequence with 2600 Polynomials in 3 Variables True False\n",
      "27 Polynomial Sequence with 2926 Polynomials in 3 Variables True True\n",
      "\n",
      " Ideal (x^28 + x*y^27, y^3, z^25) of Multivariate Polynomial Ring in x, y, z over Rational Field\n",
      "0 [0] True False\n",
      "1 [0] True False\n",
      "2 [0] True False\n",
      "3 [y^3] True False\n",
      "4 [x*y^3, y^4, y^3*z, y^3] True False\n",
      "5 [x^2*y^3, x*y^4, y^5, x*y^3*z, y^4*z, y^3*z^2, x*y^3, y^4, y^3*z, y^3] True False\n",
      "6 Polynomial Sequence with 20 Polynomials in 3 Variables True False\n",
      "7 Polynomial Sequence with 35 Polynomials in 3 Variables True False\n",
      "8 Polynomial Sequence with 56 Polynomials in 3 Variables True False\n",
      "9 Polynomial Sequence with 84 Polynomials in 3 Variables True False\n",
      "10 Polynomial Sequence with 120 Polynomials in 3 Variables True False\n",
      "11 Polynomial Sequence with 165 Polynomials in 3 Variables True False\n",
      "12 Polynomial Sequence with 220 Polynomials in 3 Variables True False\n"
     ]
    },
    {
     "name": "stdout",
     "output_type": "stream",
     "text": [
      "13 Polynomial Sequence with 286 Polynomials in 3 Variables True False\n",
      "14 Polynomial Sequence with 364 Polynomials in 3 Variables True False\n",
      "15 Polynomial Sequence with 455 Polynomials in 3 Variables True False\n",
      "16 Polynomial Sequence with 560 Polynomials in 3 Variables True False\n",
      "17 Polynomial Sequence with 680 Polynomials in 3 Variables True False\n",
      "18 Polynomial Sequence with 816 Polynomials in 3 Variables True False\n",
      "19 Polynomial Sequence with 969 Polynomials in 3 Variables True False\n",
      "20 Polynomial Sequence with 1140 Polynomials in 3 Variables True False\n",
      "21 Polynomial Sequence with 1330 Polynomials in 3 Variables True False\n",
      "22 Polynomial Sequence with 1540 Polynomials in 3 Variables True False\n",
      "23 Polynomial Sequence with 1771 Polynomials in 3 Variables True False\n",
      "24 Polynomial Sequence with 2024 Polynomials in 3 Variables True False\n",
      "25 Polynomial Sequence with 2300 Polynomials in 3 Variables True False\n",
      "26 Polynomial Sequence with 2600 Polynomials in 3 Variables True False\n",
      "27 Polynomial Sequence with 2925 Polynomials in 3 Variables True False\n",
      "28 Polynomial Sequence with 3277 Polynomials in 3 Variables True True\n",
      "\n",
      " Ideal (x^29 + x*y^28, y^3, z^26) of Multivariate Polynomial Ring in x, y, z over Rational Field\n",
      "0 [0] True False\n",
      "1 [0] True False\n",
      "2 [0] True False\n",
      "3 [y^3] True False\n",
      "4 [x*y^3, y^4, y^3*z, y^3] True False\n",
      "5 [x^2*y^3, x*y^4, y^5, x*y^3*z, y^4*z, y^3*z^2, x*y^3, y^4, y^3*z, y^3] True False\n",
      "6 Polynomial Sequence with 20 Polynomials in 3 Variables True False\n",
      "7 Polynomial Sequence with 35 Polynomials in 3 Variables True False\n",
      "8 Polynomial Sequence with 56 Polynomials in 3 Variables True False\n",
      "9 Polynomial Sequence with 84 Polynomials in 3 Variables True False\n",
      "10 Polynomial Sequence with 120 Polynomials in 3 Variables True False\n",
      "11 Polynomial Sequence with 165 Polynomials in 3 Variables True False\n",
      "12 Polynomial Sequence with 220 Polynomials in 3 Variables True False\n",
      "13 Polynomial Sequence with 286 Polynomials in 3 Variables True False\n",
      "14 Polynomial Sequence with 364 Polynomials in 3 Variables True False\n",
      "15 Polynomial Sequence with 455 Polynomials in 3 Variables True False\n",
      "16 Polynomial Sequence with 560 Polynomials in 3 Variables True False\n",
      "17 Polynomial Sequence with 680 Polynomials in 3 Variables True False\n",
      "18 Polynomial Sequence with 816 Polynomials in 3 Variables True False\n",
      "19 Polynomial Sequence with 969 Polynomials in 3 Variables True False\n",
      "20 Polynomial Sequence with 1140 Polynomials in 3 Variables True False\n",
      "21 Polynomial Sequence with 1330 Polynomials in 3 Variables True False\n",
      "22 Polynomial Sequence with 1540 Polynomials in 3 Variables True False\n",
      "23 Polynomial Sequence with 1771 Polynomials in 3 Variables True False\n",
      "24 Polynomial Sequence with 2024 Polynomials in 3 Variables True False\n",
      "25 Polynomial Sequence with 2300 Polynomials in 3 Variables True False\n",
      "26 Polynomial Sequence with 2600 Polynomials in 3 Variables True False\n",
      "27 Polynomial Sequence with 2925 Polynomials in 3 Variables True False\n",
      "28 Polynomial Sequence with 3276 Polynomials in 3 Variables True False\n",
      "29 Polynomial Sequence with 3655 Polynomials in 3 Variables True True\n",
      "\n",
      " Ideal (x^30 + x*y^29, y^3, z^27) of Multivariate Polynomial Ring in x, y, z over Rational Field\n",
      "0 [0] True False\n",
      "1 [0] True False\n",
      "2 [0] True False\n",
      "3 [y^3] True False\n",
      "4 [x*y^3, y^4, y^3*z, y^3] True False\n",
      "5 [x^2*y^3, x*y^4, y^5, x*y^3*z, y^4*z, y^3*z^2, x*y^3, y^4, y^3*z, y^3] True False\n",
      "6 Polynomial Sequence with 20 Polynomials in 3 Variables True False\n",
      "7 Polynomial Sequence with 35 Polynomials in 3 Variables True False\n",
      "8 Polynomial Sequence with 56 Polynomials in 3 Variables True False\n",
      "9 Polynomial Sequence with 84 Polynomials in 3 Variables True False\n",
      "10 Polynomial Sequence with 120 Polynomials in 3 Variables True False\n",
      "11 Polynomial Sequence with 165 Polynomials in 3 Variables True False\n",
      "12 Polynomial Sequence with 220 Polynomials in 3 Variables True False\n",
      "13 Polynomial Sequence with 286 Polynomials in 3 Variables True False\n",
      "14 Polynomial Sequence with 364 Polynomials in 3 Variables True False\n",
      "15 Polynomial Sequence with 455 Polynomials in 3 Variables True False\n",
      "16 Polynomial Sequence with 560 Polynomials in 3 Variables True False\n",
      "17 Polynomial Sequence with 680 Polynomials in 3 Variables True False\n",
      "18 Polynomial Sequence with 816 Polynomials in 3 Variables True False\n",
      "19 Polynomial Sequence with 969 Polynomials in 3 Variables True False\n",
      "20 Polynomial Sequence with 1140 Polynomials in 3 Variables True False\n",
      "21 Polynomial Sequence with 1330 Polynomials in 3 Variables True False\n",
      "22 Polynomial Sequence with 1540 Polynomials in 3 Variables True False\n",
      "23 Polynomial Sequence with 1771 Polynomials in 3 Variables True False\n",
      "24 Polynomial Sequence with 2024 Polynomials in 3 Variables True False\n",
      "25 Polynomial Sequence with 2300 Polynomials in 3 Variables True False\n",
      "26 Polynomial Sequence with 2600 Polynomials in 3 Variables True False\n",
      "27 Polynomial Sequence with 2925 Polynomials in 3 Variables True False\n",
      "28 Polynomial Sequence with 3276 Polynomials in 3 Variables True False\n",
      "29 Polynomial Sequence with 3654 Polynomials in 3 Variables True False\n",
      "30 Polynomial Sequence with 4061 Polynomials in 3 Variables True True\n",
      "\n",
      " Ideal (x^31 + x*y^30, y^3, z^28) of Multivariate Polynomial Ring in x, y, z over Rational Field\n",
      "0 [0] True False\n",
      "1 [0] True False\n",
      "2 [0] True False\n",
      "3 [y^3] True False\n",
      "4 [x*y^3, y^4, y^3*z, y^3] True False\n",
      "5 [x^2*y^3, x*y^4, y^5, x*y^3*z, y^4*z, y^3*z^2, x*y^3, y^4, y^3*z, y^3] True False\n",
      "6 Polynomial Sequence with 20 Polynomials in 3 Variables True False\n",
      "7 Polynomial Sequence with 35 Polynomials in 3 Variables True False\n",
      "8 Polynomial Sequence with 56 Polynomials in 3 Variables True False\n",
      "9 Polynomial Sequence with 84 Polynomials in 3 Variables True False\n",
      "10 Polynomial Sequence with 120 Polynomials in 3 Variables True False\n",
      "11 Polynomial Sequence with 165 Polynomials in 3 Variables True False\n",
      "12 Polynomial Sequence with 220 Polynomials in 3 Variables True False\n",
      "13 Polynomial Sequence with 286 Polynomials in 3 Variables True False\n",
      "14 Polynomial Sequence with 364 Polynomials in 3 Variables True False\n",
      "15 Polynomial Sequence with 455 Polynomials in 3 Variables True False\n",
      "16 Polynomial Sequence with 560 Polynomials in 3 Variables True False\n",
      "17 Polynomial Sequence with 680 Polynomials in 3 Variables True False\n",
      "18 Polynomial Sequence with 816 Polynomials in 3 Variables True False\n",
      "19 Polynomial Sequence with 969 Polynomials in 3 Variables True False\n",
      "20 Polynomial Sequence with 1140 Polynomials in 3 Variables True False\n",
      "21 Polynomial Sequence with 1330 Polynomials in 3 Variables True False\n",
      "22 Polynomial Sequence with 1540 Polynomials in 3 Variables True False\n",
      "23 Polynomial Sequence with 1771 Polynomials in 3 Variables True False\n",
      "24 Polynomial Sequence with 2024 Polynomials in 3 Variables True False\n",
      "25 Polynomial Sequence with 2300 Polynomials in 3 Variables True False\n",
      "26 Polynomial Sequence with 2600 Polynomials in 3 Variables True False\n",
      "27 Polynomial Sequence with 2925 Polynomials in 3 Variables True False\n",
      "28 Polynomial Sequence with 3276 Polynomials in 3 Variables True False\n",
      "29 Polynomial Sequence with 3654 Polynomials in 3 Variables True False\n",
      "30 Polynomial Sequence with 4060 Polynomials in 3 Variables True False\n",
      "31 Polynomial Sequence with 4496 Polynomials in 3 Variables True True\n",
      "\n",
      " Ideal (x^32 + x*y^31, y^3, z^29) of Multivariate Polynomial Ring in x, y, z over Rational Field\n",
      "0 [0] True False\n",
      "1 [0] True False\n",
      "2 [0] True False\n",
      "3 [y^3] True False\n",
      "4 [x*y^3, y^4, y^3*z, y^3] True False\n",
      "5 [x^2*y^3, x*y^4, y^5, x*y^3*z, y^4*z, y^3*z^2, x*y^3, y^4, y^3*z, y^3] True False\n",
      "6 Polynomial Sequence with 20 Polynomials in 3 Variables True False\n",
      "7 Polynomial Sequence with 35 Polynomials in 3 Variables True False\n",
      "8 Polynomial Sequence with 56 Polynomials in 3 Variables True False\n",
      "9 Polynomial Sequence with 84 Polynomials in 3 Variables True False\n",
      "10 Polynomial Sequence with 120 Polynomials in 3 Variables True False\n",
      "11 Polynomial Sequence with 165 Polynomials in 3 Variables True False\n",
      "12 Polynomial Sequence with 220 Polynomials in 3 Variables True False\n",
      "13 Polynomial Sequence with 286 Polynomials in 3 Variables True False\n",
      "14 Polynomial Sequence with 364 Polynomials in 3 Variables True False\n",
      "15 Polynomial Sequence with 455 Polynomials in 3 Variables True False\n"
     ]
    },
    {
     "name": "stdout",
     "output_type": "stream",
     "text": [
      "16 Polynomial Sequence with 560 Polynomials in 3 Variables True False\n",
      "17 Polynomial Sequence with 680 Polynomials in 3 Variables True False\n",
      "18 Polynomial Sequence with 816 Polynomials in 3 Variables True False\n",
      "19 Polynomial Sequence with 969 Polynomials in 3 Variables True False\n",
      "20 Polynomial Sequence with 1140 Polynomials in 3 Variables True False\n",
      "21 Polynomial Sequence with 1330 Polynomials in 3 Variables True False\n",
      "22 Polynomial Sequence with 1540 Polynomials in 3 Variables True False\n",
      "23 Polynomial Sequence with 1771 Polynomials in 3 Variables True False\n",
      "24 Polynomial Sequence with 2024 Polynomials in 3 Variables True False\n",
      "25 Polynomial Sequence with 2300 Polynomials in 3 Variables True False\n",
      "26 Polynomial Sequence with 2600 Polynomials in 3 Variables True False\n",
      "27 Polynomial Sequence with 2925 Polynomials in 3 Variables True False\n",
      "28 Polynomial Sequence with 3276 Polynomials in 3 Variables True False\n",
      "29 Polynomial Sequence with 3654 Polynomials in 3 Variables True False\n",
      "30 Polynomial Sequence with 4060 Polynomials in 3 Variables True False\n",
      "31 Polynomial Sequence with 4495 Polynomials in 3 Variables True False\n",
      "32 Polynomial Sequence with 4961 Polynomials in 3 Variables True True\n",
      "\n",
      " Ideal (x^33 + x*y^32, y^3, z^30) of Multivariate Polynomial Ring in x, y, z over Rational Field\n",
      "0 [0] True False\n",
      "1 [0] True False\n",
      "2 [0] True False\n",
      "3 [y^3] True False\n",
      "4 [x*y^3, y^4, y^3*z, y^3] True False\n",
      "5 [x^2*y^3, x*y^4, y^5, x*y^3*z, y^4*z, y^3*z^2, x*y^3, y^4, y^3*z, y^3] True False\n",
      "6 Polynomial Sequence with 20 Polynomials in 3 Variables True False\n",
      "7 Polynomial Sequence with 35 Polynomials in 3 Variables True False\n",
      "8 Polynomial Sequence with 56 Polynomials in 3 Variables True False\n",
      "9 Polynomial Sequence with 84 Polynomials in 3 Variables True False\n",
      "10 Polynomial Sequence with 120 Polynomials in 3 Variables True False\n",
      "11 Polynomial Sequence with 165 Polynomials in 3 Variables True False\n",
      "12 Polynomial Sequence with 220 Polynomials in 3 Variables True False\n",
      "13 Polynomial Sequence with 286 Polynomials in 3 Variables True False\n",
      "14 Polynomial Sequence with 364 Polynomials in 3 Variables True False\n",
      "15 Polynomial Sequence with 455 Polynomials in 3 Variables True False\n",
      "16 Polynomial Sequence with 560 Polynomials in 3 Variables True False\n",
      "17 Polynomial Sequence with 680 Polynomials in 3 Variables True False\n",
      "18 Polynomial Sequence with 816 Polynomials in 3 Variables True False\n",
      "19 Polynomial Sequence with 969 Polynomials in 3 Variables True False\n",
      "20 Polynomial Sequence with 1140 Polynomials in 3 Variables True False\n",
      "21 Polynomial Sequence with 1330 Polynomials in 3 Variables True False\n",
      "22 Polynomial Sequence with 1540 Polynomials in 3 Variables True False\n",
      "23 Polynomial Sequence with 1771 Polynomials in 3 Variables True False\n",
      "24 Polynomial Sequence with 2024 Polynomials in 3 Variables True False\n",
      "25 Polynomial Sequence with 2300 Polynomials in 3 Variables True False\n",
      "26 Polynomial Sequence with 2600 Polynomials in 3 Variables True False\n"
     ]
    },
    {
     "ename": "KeyboardInterrupt",
     "evalue": "",
     "output_type": "error",
     "traceback": [
      "\u001b[0;31m---------------------------------------------------------------------------\u001b[0m",
      "\u001b[0;31mKeyError\u001b[0m                                  Traceback (most recent call last)",
      "\u001b[0;32m/private/var/tmp/sage-9.6-current/local/var/lib/sage/venv-python3.10.3/lib/python3.10/site-packages/sage/structure/coerce.pyx\u001b[0m in \u001b[0;36msage.structure.coerce.CoercionModel.bin_op (build/cythonized/sage/structure/coerce.c:10586)\u001b[0;34m()\u001b[0m\n\u001b[1;32m   1188\u001b[0m         \u001b[0;32mtry\u001b[0m\u001b[0;34m:\u001b[0m\u001b[0;34m\u001b[0m\u001b[0;34m\u001b[0m\u001b[0m\n\u001b[0;32m-> 1189\u001b[0;31m             \u001b[0maction\u001b[0m \u001b[0;34m=\u001b[0m \u001b[0mself\u001b[0m\u001b[0;34m.\u001b[0m\u001b[0m_action_maps\u001b[0m\u001b[0;34m.\u001b[0m\u001b[0mget\u001b[0m\u001b[0;34m(\u001b[0m\u001b[0mxp\u001b[0m\u001b[0;34m,\u001b[0m \u001b[0myp\u001b[0m\u001b[0;34m,\u001b[0m \u001b[0mop\u001b[0m\u001b[0;34m)\u001b[0m\u001b[0;34m\u001b[0m\u001b[0;34m\u001b[0m\u001b[0m\n\u001b[0m\u001b[1;32m   1190\u001b[0m         \u001b[0;32mexcept\u001b[0m \u001b[0mKeyError\u001b[0m\u001b[0;34m:\u001b[0m\u001b[0;34m\u001b[0m\u001b[0;34m\u001b[0m\u001b[0m\n",
      "\u001b[0;32m/private/var/tmp/sage-9.6-current/local/var/lib/sage/venv-python3.10.3/lib/python3.10/site-packages/sage/structure/coerce_dict.pyx\u001b[0m in \u001b[0;36msage.structure.coerce_dict.TripleDict.get (build/cythonized/sage/structure/coerce_dict.c:8109)\u001b[0;34m()\u001b[0m\n\u001b[1;32m   1323\u001b[0m         \u001b[0;32mif\u001b[0m \u001b[0;32mnot\u001b[0m \u001b[0mvalid\u001b[0m\u001b[0;34m(\u001b[0m\u001b[0mcursor\u001b[0m\u001b[0;34m.\u001b[0m\u001b[0mkey_id1\u001b[0m\u001b[0;34m)\u001b[0m\u001b[0;34m:\u001b[0m\u001b[0;34m\u001b[0m\u001b[0;34m\u001b[0m\u001b[0m\n\u001b[0;32m-> 1324\u001b[0;31m             \u001b[0;32mraise\u001b[0m \u001b[0mKeyError\u001b[0m\u001b[0;34m(\u001b[0m\u001b[0;34m(\u001b[0m\u001b[0mk1\u001b[0m\u001b[0;34m,\u001b[0m \u001b[0mk2\u001b[0m\u001b[0;34m,\u001b[0m \u001b[0mk3\u001b[0m\u001b[0;34m)\u001b[0m\u001b[0;34m)\u001b[0m\u001b[0;34m\u001b[0m\u001b[0;34m\u001b[0m\u001b[0m\n\u001b[0m\u001b[1;32m   1325\u001b[0m         \u001b[0mvalue\u001b[0m \u001b[0;34m=\u001b[0m \u001b[0;34m<\u001b[0m\u001b[0mobject\u001b[0m\u001b[0;34m>\u001b[0m\u001b[0mcursor\u001b[0m\u001b[0;34m.\u001b[0m\u001b[0mvalue\u001b[0m\u001b[0;34m\u001b[0m\u001b[0;34m\u001b[0m\u001b[0m\n",
      "\u001b[0;31mKeyError\u001b[0m: (Integer Ring, Full MatrixSpace of 2925 by 4060 dense matrices over Rational Field, <built-in function mul>)",
      "\nDuring handling of the above exception, another exception occurred:\n",
      "\u001b[0;31mKeyboardInterrupt\u001b[0m                         Traceback (most recent call last)",
      "\u001b[0;32m/var/folders/zf/986s30f52c3fssnjtqpb80w00000gn/T/ipykernel_89856/2476784468.py\u001b[0m in \u001b[0;36m<module>\u001b[0;34m\u001b[0m\n\u001b[1;32m      8\u001b[0m     \u001b[0mI\u001b[0m \u001b[0;34m=\u001b[0m \u001b[0mIdeal\u001b[0m\u001b[0;34m(\u001b[0m\u001b[0mf1\u001b[0m\u001b[0;34m,\u001b[0m\u001b[0mf2\u001b[0m\u001b[0;34m,\u001b[0m\u001b[0mf3\u001b[0m\u001b[0;34m)\u001b[0m\u001b[0;34m\u001b[0m\u001b[0;34m\u001b[0m\u001b[0m\n\u001b[1;32m      9\u001b[0m     \u001b[0mprint\u001b[0m\u001b[0;34m(\u001b[0m\u001b[0;34m'\\n'\u001b[0m\u001b[0;34m,\u001b[0m\u001b[0mI\u001b[0m\u001b[0;34m)\u001b[0m\u001b[0;34m\u001b[0m\u001b[0;34m\u001b[0m\u001b[0m\n\u001b[0;32m---> 10\u001b[0;31m     \u001b[0msdegs\u001b[0m\u001b[0;34m.\u001b[0m\u001b[0mappend\u001b[0m\u001b[0;34m(\u001b[0m\u001b[0mmac_grob\u001b[0m\u001b[0;34m(\u001b[0m\u001b[0;34m[\u001b[0m\u001b[0mf1\u001b[0m\u001b[0;34m,\u001b[0m\u001b[0mf2\u001b[0m\u001b[0;34m]\u001b[0m\u001b[0;34m,\u001b[0m\u001b[0mR\u001b[0m\u001b[0;34m)\u001b[0m\u001b[0;34m[\u001b[0m\u001b[0mInteger\u001b[0m\u001b[0;34m(\u001b[0m\u001b[0;36m0\u001b[0m\u001b[0;34m)\u001b[0m\u001b[0;34m]\u001b[0m\u001b[0;34m)\u001b[0m\u001b[0;34m\u001b[0m\u001b[0;34m\u001b[0m\u001b[0m\n\u001b[0m\u001b[1;32m     11\u001b[0m     \u001b[0mdegregs\u001b[0m\u001b[0;34m.\u001b[0m\u001b[0mappend\u001b[0m\u001b[0;34m(\u001b[0m\u001b[0mdegree_reg\u001b[0m\u001b[0;34m(\u001b[0m\u001b[0mI\u001b[0m\u001b[0;34m,\u001b[0m\u001b[0mR\u001b[0m\u001b[0;34m)\u001b[0m\u001b[0;34m)\u001b[0m\u001b[0;34m\u001b[0m\u001b[0;34m\u001b[0m\u001b[0m\n\u001b[1;32m     12\u001b[0m \u001b[0mprint\u001b[0m\u001b[0;34m(\u001b[0m\u001b[0;34m'\\n'\u001b[0m\u001b[0;34m,\u001b[0m \u001b[0;34m\"Results:\"\u001b[0m\u001b[0;34m,\u001b[0m \u001b[0;34m'\\n'\u001b[0m\u001b[0;34m,\u001b[0m \u001b[0msdegs\u001b[0m\u001b[0;34m,\u001b[0m \u001b[0;34m'\\n'\u001b[0m\u001b[0;34m,\u001b[0m \u001b[0mdegregs\u001b[0m\u001b[0;34m)\u001b[0m\u001b[0;34m\u001b[0m\u001b[0;34m\u001b[0m\u001b[0m\n",
      "\u001b[0;32m/var/folders/zf/986s30f52c3fssnjtqpb80w00000gn/T/ipykernel_89856/1927247776.py\u001b[0m in \u001b[0;36mmac_grob\u001b[0;34m(f, ring)\u001b[0m\n\u001b[1;32m      7\u001b[0m     \u001b[0mtest_deg\u001b[0m \u001b[0;34m=\u001b[0m \u001b[0mInteger\u001b[0m\u001b[0;34m(\u001b[0m\u001b[0;36m0\u001b[0m\u001b[0;34m)\u001b[0m\u001b[0;34m\u001b[0m\u001b[0;34m\u001b[0m\u001b[0m\n\u001b[1;32m      8\u001b[0m     \u001b[0;32mwhile\u001b[0m \u001b[0;32mTrue\u001b[0m\u001b[0;34m:\u001b[0m\u001b[0;34m\u001b[0m\u001b[0;34m\u001b[0m\u001b[0m\n\u001b[0;32m----> 9\u001b[0;31m         \u001b[0mB\u001b[0m \u001b[0;34m=\u001b[0m \u001b[0mmac_basis\u001b[0m\u001b[0;34m(\u001b[0m\u001b[0mf\u001b[0m\u001b[0;34m,\u001b[0m \u001b[0mtest_deg\u001b[0m\u001b[0;34m,\u001b[0m \u001b[0mring\u001b[0m\u001b[0;34m)\u001b[0m\u001b[0;34m\u001b[0m\u001b[0;34m\u001b[0m\u001b[0m\n\u001b[0m\u001b[1;32m     10\u001b[0m         \u001b[0mprint\u001b[0m\u001b[0;34m(\u001b[0m\u001b[0mtest_deg\u001b[0m\u001b[0;34m,\u001b[0m \u001b[0mB\u001b[0m\u001b[0;34m,\u001b[0m \u001b[0mB\u001b[0m\u001b[0;34m.\u001b[0m\u001b[0mis_groebner\u001b[0m\u001b[0;34m(\u001b[0m\u001b[0;34m)\u001b[0m\u001b[0;34m,\u001b[0m \u001b[0mideal\u001b[0m\u001b[0;34m(\u001b[0m\u001b[0mB\u001b[0m\u001b[0;34m)\u001b[0m \u001b[0;34m==\u001b[0m \u001b[0mideal\u001b[0m\u001b[0;34m(\u001b[0m\u001b[0mf\u001b[0m\u001b[0;34m)\u001b[0m\u001b[0;34m)\u001b[0m\u001b[0;34m\u001b[0m\u001b[0;34m\u001b[0m\u001b[0m\n\u001b[1;32m     11\u001b[0m         \u001b[0;32mif\u001b[0m \u001b[0mB\u001b[0m\u001b[0;34m.\u001b[0m\u001b[0mis_groebner\u001b[0m\u001b[0;34m(\u001b[0m\u001b[0;34m)\u001b[0m \u001b[0;32mand\u001b[0m \u001b[0mideal\u001b[0m\u001b[0;34m(\u001b[0m\u001b[0mB\u001b[0m\u001b[0;34m)\u001b[0m \u001b[0;34m==\u001b[0m \u001b[0mideal\u001b[0m\u001b[0;34m(\u001b[0m\u001b[0mf\u001b[0m\u001b[0;34m)\u001b[0m\u001b[0;34m:\u001b[0m\u001b[0;34m\u001b[0m\u001b[0;34m\u001b[0m\u001b[0m\n",
      "\u001b[0;32m/var/folders/zf/986s30f52c3fssnjtqpb80w00000gn/T/ipykernel_89856/3346593663.py\u001b[0m in \u001b[0;36mmac_basis\u001b[0;34m(f, d, ring)\u001b[0m\n\u001b[1;32m     18\u001b[0m                     \u001b[0msegment\u001b[0m\u001b[0;34m.\u001b[0m\u001b[0mappend\u001b[0m\u001b[0;34m(\u001b[0m\u001b[0mlabel\u001b[0m\u001b[0;34m)\u001b[0m\u001b[0;34m\u001b[0m\u001b[0;34m\u001b[0m\u001b[0m\n\u001b[1;32m     19\u001b[0m         \u001b[0mcol_labs\u001b[0m \u001b[0;34m+=\u001b[0m \u001b[0msegment\u001b[0m\u001b[0;34m\u001b[0m\u001b[0;34m\u001b[0m\u001b[0m\n\u001b[0;32m---> 20\u001b[0;31m     \u001b[0mM\u001b[0m \u001b[0;34m=\u001b[0m \u001b[0mmatrix\u001b[0m\u001b[0;34m(\u001b[0m\u001b[0;34m[\u001b[0m\u001b[0;34m[\u001b[0m\u001b[0mlabel\u001b[0m\u001b[0;34m.\u001b[0m\u001b[0mmonomial_coefficient\u001b[0m\u001b[0;34m(\u001b[0m\u001b[0mmon\u001b[0m\u001b[0;34m)\u001b[0m \u001b[0;32mfor\u001b[0m \u001b[0mmon\u001b[0m \u001b[0;32min\u001b[0m \u001b[0mmons\u001b[0m\u001b[0;34m]\u001b[0m \u001b[0;32mfor\u001b[0m \u001b[0mlabel\u001b[0m \u001b[0;32min\u001b[0m \u001b[0mcol_labs\u001b[0m\u001b[0;34m]\u001b[0m\u001b[0;34m)\u001b[0m\u001b[0;34m.\u001b[0m\u001b[0mrref\u001b[0m\u001b[0;34m(\u001b[0m\u001b[0;34m)\u001b[0m\u001b[0;34m\u001b[0m\u001b[0;34m\u001b[0m\u001b[0m\n\u001b[0m\u001b[1;32m     21\u001b[0m     \u001b[0mB\u001b[0m \u001b[0;34m=\u001b[0m \u001b[0;34m[\u001b[0m\u001b[0;34m]\u001b[0m\u001b[0;34m\u001b[0m\u001b[0;34m\u001b[0m\u001b[0m\n\u001b[1;32m     22\u001b[0m     \u001b[0;32mfor\u001b[0m \u001b[0mrow\u001b[0m \u001b[0;32min\u001b[0m \u001b[0mM\u001b[0m\u001b[0;34m.\u001b[0m\u001b[0mrows\u001b[0m\u001b[0;34m(\u001b[0m\u001b[0;34m)\u001b[0m\u001b[0;34m:\u001b[0m\u001b[0;34m\u001b[0m\u001b[0;34m\u001b[0m\u001b[0m\n",
      "\u001b[0;32m/private/var/tmp/sage-9.6-current/local/var/lib/sage/venv-python3.10.3/lib/python3.10/site-packages/sage/matrix/matrix2.pyx\u001b[0m in \u001b[0;36msage.matrix.matrix2.Matrix.rref (build/cythonized/sage/matrix/matrix2.c:50020)\u001b[0;34m()\u001b[0m\n\u001b[1;32m   7347\u001b[0m         \u001b[0mR\u001b[0m \u001b[0;34m=\u001b[0m \u001b[0mself\u001b[0m\u001b[0;34m.\u001b[0m\u001b[0mbase_ring\u001b[0m\u001b[0;34m(\u001b[0m\u001b[0;34m)\u001b[0m\u001b[0;34m\u001b[0m\u001b[0;34m\u001b[0m\u001b[0m\n\u001b[1;32m   7348\u001b[0m         \u001b[0;32mif\u001b[0m \u001b[0mR\u001b[0m \u001b[0;32min\u001b[0m \u001b[0m_Fields\u001b[0m\u001b[0;34m:\u001b[0m\u001b[0;34m\u001b[0m\u001b[0;34m\u001b[0m\u001b[0m\n\u001b[0;32m-> 7349\u001b[0;31m             \u001b[0;32mreturn\u001b[0m \u001b[0mself\u001b[0m\u001b[0;34m.\u001b[0m\u001b[0mechelon_form\u001b[0m\u001b[0;34m(\u001b[0m\u001b[0;34m)\u001b[0m\u001b[0;34m\u001b[0m\u001b[0;34m\u001b[0m\u001b[0m\n\u001b[0m\u001b[1;32m   7350\u001b[0m         \u001b[0;32melse\u001b[0m\u001b[0;34m:\u001b[0m\u001b[0;34m\u001b[0m\u001b[0;34m\u001b[0m\u001b[0m\n\u001b[1;32m   7351\u001b[0m             \u001b[0mF\u001b[0m \u001b[0;34m=\u001b[0m \u001b[0mR\u001b[0m\u001b[0;34m.\u001b[0m\u001b[0mfraction_field\u001b[0m\u001b[0;34m(\u001b[0m\u001b[0;34m)\u001b[0m\u001b[0;34m\u001b[0m\u001b[0;34m\u001b[0m\u001b[0m\n",
      "\u001b[0;32m/private/var/tmp/sage-9.6-current/local/var/lib/sage/venv-python3.10.3/lib/python3.10/site-packages/sage/matrix/matrix_rational_dense.pyx\u001b[0m in \u001b[0;36msage.matrix.matrix_rational_dense.Matrix_rational_dense.echelon_form (build/cythonized/sage/matrix/matrix_rational_dense.cpp:16170)\u001b[0;34m()\u001b[0m\n\u001b[1;32m   1667\u001b[0m \u001b[0;34m\u001b[0m\u001b[0m\n\u001b[1;32m   1668\u001b[0m         \u001b[0mE\u001b[0m \u001b[0;34m=\u001b[0m \u001b[0mself\u001b[0m\u001b[0;34m.\u001b[0m\u001b[0m__copy__\u001b[0m\u001b[0;34m(\u001b[0m\u001b[0;34m)\u001b[0m\u001b[0;34m\u001b[0m\u001b[0;34m\u001b[0m\u001b[0m\n\u001b[0;32m-> 1669\u001b[0;31m         \u001b[0mE\u001b[0m\u001b[0;34m.\u001b[0m\u001b[0mechelonize\u001b[0m\u001b[0;34m(\u001b[0m\u001b[0malgorithm\u001b[0m\u001b[0;34m)\u001b[0m\u001b[0;34m\u001b[0m\u001b[0;34m\u001b[0m\u001b[0m\n\u001b[0m\u001b[1;32m   1670\u001b[0m         \u001b[0mE\u001b[0m\u001b[0;34m.\u001b[0m\u001b[0mset_immutable\u001b[0m\u001b[0;34m(\u001b[0m\u001b[0;34m)\u001b[0m\u001b[0;34m\u001b[0m\u001b[0;34m\u001b[0m\u001b[0m\n\u001b[1;32m   1671\u001b[0m         \u001b[0mself\u001b[0m\u001b[0;34m.\u001b[0m\u001b[0mcache\u001b[0m\u001b[0;34m(\u001b[0m\u001b[0;34m'echelon_form'\u001b[0m\u001b[0;34m,\u001b[0m \u001b[0mE\u001b[0m\u001b[0;34m)\u001b[0m\u001b[0;34m\u001b[0m\u001b[0;34m\u001b[0m\u001b[0m\n",
      "\u001b[0;32m/private/var/tmp/sage-9.6-current/local/var/lib/sage/venv-python3.10.3/lib/python3.10/site-packages/sage/matrix/matrix_rational_dense.pyx\u001b[0m in \u001b[0;36msage.matrix.matrix_rational_dense.Matrix_rational_dense.echelonize (build/cythonized/sage/matrix/matrix_rational_dense.cpp:15594)\u001b[0;34m()\u001b[0m\n\u001b[1;32m   1586\u001b[0m             \u001b[0mpivots\u001b[0m \u001b[0;34m=\u001b[0m \u001b[0mself\u001b[0m\u001b[0;34m.\u001b[0m\u001b[0m_echelonize_flint\u001b[0m\u001b[0;34m(\u001b[0m\u001b[0;34m)\u001b[0m\u001b[0;34m\u001b[0m\u001b[0;34m\u001b[0m\u001b[0m\n\u001b[1;32m   1587\u001b[0m         \u001b[0;32melif\u001b[0m \u001b[0malgorithm\u001b[0m \u001b[0;34m==\u001b[0m \u001b[0;34m'multimodular'\u001b[0m\u001b[0;34m:\u001b[0m\u001b[0;34m\u001b[0m\u001b[0;34m\u001b[0m\u001b[0m\n\u001b[0;32m-> 1588\u001b[0;31m             \u001b[0mpivots\u001b[0m \u001b[0;34m=\u001b[0m \u001b[0mself\u001b[0m\u001b[0;34m.\u001b[0m\u001b[0m_echelonize_multimodular\u001b[0m\u001b[0;34m(\u001b[0m\u001b[0mheight_guess\u001b[0m\u001b[0;34m,\u001b[0m \u001b[0mproof\u001b[0m\u001b[0;34m,\u001b[0m \u001b[0;34m**\u001b[0m\u001b[0mkwds\u001b[0m\u001b[0;34m)\u001b[0m\u001b[0;34m\u001b[0m\u001b[0;34m\u001b[0m\u001b[0m\n\u001b[0m\u001b[1;32m   1589\u001b[0m         \u001b[0;32melif\u001b[0m \u001b[0malgorithm\u001b[0m \u001b[0;34m==\u001b[0m \u001b[0;34m'classical'\u001b[0m\u001b[0;34m:\u001b[0m\u001b[0;34m\u001b[0m\u001b[0;34m\u001b[0m\u001b[0m\n\u001b[1;32m   1590\u001b[0m             \u001b[0mpivots\u001b[0m \u001b[0;34m=\u001b[0m \u001b[0mself\u001b[0m\u001b[0;34m.\u001b[0m\u001b[0m_echelon_in_place_classical\u001b[0m\u001b[0;34m(\u001b[0m\u001b[0;34m)\u001b[0m\u001b[0;34m\u001b[0m\u001b[0;34m\u001b[0m\u001b[0m\n",
      "\u001b[0;32m/private/var/tmp/sage-9.6-current/local/var/lib/sage/venv-python3.10.3/lib/python3.10/site-packages/sage/matrix/matrix_rational_dense.pyx\u001b[0m in \u001b[0;36msage.matrix.matrix_rational_dense.Matrix_rational_dense._echelonize_multimodular (build/cythonized/sage/matrix/matrix_rational_dense.cpp:17281)\u001b[0;34m()\u001b[0m\n\u001b[1;32m   1821\u001b[0m         \"\"\"\n\u001b[1;32m   1822\u001b[0m         \u001b[0;32mfrom\u001b[0m \u001b[0;34m.\u001b[0m\u001b[0mmisc\u001b[0m \u001b[0;32mimport\u001b[0m \u001b[0mmatrix_rational_echelon_form_multimodular\u001b[0m\u001b[0;34m\u001b[0m\u001b[0;34m\u001b[0m\u001b[0m\n\u001b[0;32m-> 1823\u001b[0;31m         \u001b[0mE\u001b[0m\u001b[0;34m,\u001b[0m \u001b[0mpivots\u001b[0m \u001b[0;34m=\u001b[0m \u001b[0mmatrix_rational_echelon_form_multimodular\u001b[0m\u001b[0;34m(\u001b[0m\u001b[0mself\u001b[0m\u001b[0;34m,\u001b[0m \u001b[0mheight_guess\u001b[0m\u001b[0;34m,\u001b[0m \u001b[0mproof\u001b[0m\u001b[0;34m=\u001b[0m\u001b[0mproof\u001b[0m\u001b[0;34m)\u001b[0m\u001b[0;34m\u001b[0m\u001b[0;34m\u001b[0m\u001b[0m\n\u001b[0m\u001b[1;32m   1824\u001b[0m         \u001b[0mself\u001b[0m\u001b[0;34m.\u001b[0m\u001b[0mclear_cache\u001b[0m\u001b[0;34m(\u001b[0m\u001b[0;34m)\u001b[0m\u001b[0;34m\u001b[0m\u001b[0;34m\u001b[0m\u001b[0m\n\u001b[1;32m   1825\u001b[0m         \u001b[0mfmpq_mat_swap\u001b[0m\u001b[0;34m(\u001b[0m\u001b[0mself\u001b[0m\u001b[0;34m.\u001b[0m\u001b[0m_matrix\u001b[0m\u001b[0;34m,\u001b[0m \u001b[0;34m(\u001b[0m\u001b[0;34m<\u001b[0m\u001b[0mMatrix_rational_dense\u001b[0m\u001b[0;34m>\u001b[0m\u001b[0mE\u001b[0m\u001b[0;34m)\u001b[0m\u001b[0;34m.\u001b[0m\u001b[0m_matrix\u001b[0m\u001b[0;34m)\u001b[0m\u001b[0;34m\u001b[0m\u001b[0;34m\u001b[0m\u001b[0m\n",
      "\u001b[0;32m/private/var/tmp/sage-9.6-current/local/var/lib/sage/venv-python3.10.3/lib/python3.10/site-packages/sage/matrix/misc.pyx\u001b[0m in \u001b[0;36msage.matrix.misc.matrix_rational_echelon_form_multimodular (build/cythonized/sage/matrix/misc.c:8097)\u001b[0;34m()\u001b[0m\n\u001b[1;32m    420\u001b[0m             \u001b[0;32mbreak\u001b[0m\u001b[0;34m\u001b[0m\u001b[0;34m\u001b[0m\u001b[0m\n\u001b[1;32m    421\u001b[0m         \u001b[0md\u001b[0m   \u001b[0;34m=\u001b[0m \u001b[0mE\u001b[0m\u001b[0;34m.\u001b[0m\u001b[0mdenominator\u001b[0m\u001b[0;34m(\u001b[0m\u001b[0;34m)\u001b[0m\u001b[0;34m\u001b[0m\u001b[0;34m\u001b[0m\u001b[0m\n\u001b[0;32m--> 422\u001b[0;31m         \u001b[0mhdE\u001b[0m \u001b[0;34m=\u001b[0m \u001b[0mint\u001b[0m\u001b[0;34m(\u001b[0m\u001b[0;34m(\u001b[0m\u001b[0md\u001b[0m\u001b[0;34m*\u001b[0m\u001b[0mE\u001b[0m\u001b[0;34m)\u001b[0m\u001b[0;34m.\u001b[0m\u001b[0mheight\u001b[0m\u001b[0;34m(\u001b[0m\u001b[0;34m)\u001b[0m\u001b[0;34m)\u001b[0m\u001b[0;34m\u001b[0m\u001b[0;34m\u001b[0m\u001b[0m\n\u001b[0m\u001b[1;32m    423\u001b[0m         \u001b[0;32mif\u001b[0m \u001b[0mhdE\u001b[0m \u001b[0;34m*\u001b[0m \u001b[0mself\u001b[0m\u001b[0;34m.\u001b[0m\u001b[0mncols\u001b[0m\u001b[0;34m(\u001b[0m\u001b[0;34m)\u001b[0m \u001b[0;34m*\u001b[0m \u001b[0mheight\u001b[0m \u001b[0;34m<\u001b[0m \u001b[0mprod\u001b[0m\u001b[0;34m:\u001b[0m\u001b[0;34m\u001b[0m\u001b[0;34m\u001b[0m\u001b[0m\n\u001b[1;32m    424\u001b[0m             \u001b[0mverbose\u001b[0m\u001b[0;34m(\u001b[0m\u001b[0;34m\"Validity of result checked.\"\u001b[0m\u001b[0;34m,\u001b[0m \u001b[0mlevel\u001b[0m\u001b[0;34m=\u001b[0m\u001b[0;36m2\u001b[0m\u001b[0;34m,\u001b[0m \u001b[0mcaller_name\u001b[0m\u001b[0;34m=\u001b[0m\u001b[0;34m\"multimod echelon\"\u001b[0m\u001b[0;34m)\u001b[0m\u001b[0;34m\u001b[0m\u001b[0;34m\u001b[0m\u001b[0m\n",
      "\u001b[0;32m/private/var/tmp/sage-9.6-current/local/var/lib/sage/venv-python3.10.3/lib/python3.10/site-packages/sage/rings/integer.pyx\u001b[0m in \u001b[0;36msage.rings.integer.Integer.__mul__ (build/cythonized/sage/rings/integer.c:13477)\u001b[0;34m()\u001b[0m\n\u001b[1;32m   1932\u001b[0m             \u001b[0;32mreturn\u001b[0m \u001b[0my\u001b[0m\u001b[0;34m\u001b[0m\u001b[0;34m\u001b[0m\u001b[0m\n\u001b[1;32m   1933\u001b[0m \u001b[0;34m\u001b[0m\u001b[0m\n\u001b[0;32m-> 1934\u001b[0;31m         \u001b[0;32mreturn\u001b[0m \u001b[0mcoercion_model\u001b[0m\u001b[0;34m.\u001b[0m\u001b[0mbin_op\u001b[0m\u001b[0;34m(\u001b[0m\u001b[0mleft\u001b[0m\u001b[0;34m,\u001b[0m \u001b[0mright\u001b[0m\u001b[0;34m,\u001b[0m \u001b[0moperator\u001b[0m\u001b[0;34m.\u001b[0m\u001b[0mmul\u001b[0m\u001b[0;34m)\u001b[0m\u001b[0;34m\u001b[0m\u001b[0;34m\u001b[0m\u001b[0m\n\u001b[0m\u001b[1;32m   1935\u001b[0m \u001b[0;34m\u001b[0m\u001b[0m\n\u001b[1;32m   1936\u001b[0m     \u001b[0mcpdef\u001b[0m \u001b[0m_mul_\u001b[0m\u001b[0;34m(\u001b[0m\u001b[0mself\u001b[0m\u001b[0;34m,\u001b[0m \u001b[0mright\u001b[0m\u001b[0;34m)\u001b[0m\u001b[0;34m:\u001b[0m\u001b[0;34m\u001b[0m\u001b[0;34m\u001b[0m\u001b[0m\n",
      "\u001b[0;32m/private/var/tmp/sage-9.6-current/local/var/lib/sage/venv-python3.10.3/lib/python3.10/site-packages/sage/structure/coerce.pyx\u001b[0m in \u001b[0;36msage.structure.coerce.CoercionModel.bin_op (build/cythonized/sage/structure/coerce.c:10636)\u001b[0;34m()\u001b[0m\n\u001b[1;32m   1189\u001b[0m             \u001b[0maction\u001b[0m \u001b[0;34m=\u001b[0m \u001b[0mself\u001b[0m\u001b[0;34m.\u001b[0m\u001b[0m_action_maps\u001b[0m\u001b[0;34m.\u001b[0m\u001b[0mget\u001b[0m\u001b[0;34m(\u001b[0m\u001b[0mxp\u001b[0m\u001b[0;34m,\u001b[0m \u001b[0myp\u001b[0m\u001b[0;34m,\u001b[0m \u001b[0mop\u001b[0m\u001b[0;34m)\u001b[0m\u001b[0;34m\u001b[0m\u001b[0;34m\u001b[0m\u001b[0m\n\u001b[1;32m   1190\u001b[0m         \u001b[0;32mexcept\u001b[0m \u001b[0mKeyError\u001b[0m\u001b[0;34m:\u001b[0m\u001b[0;34m\u001b[0m\u001b[0;34m\u001b[0m\u001b[0m\n\u001b[0;32m-> 1191\u001b[0;31m             \u001b[0maction\u001b[0m \u001b[0;34m=\u001b[0m \u001b[0mself\u001b[0m\u001b[0;34m.\u001b[0m\u001b[0mget_action\u001b[0m\u001b[0;34m(\u001b[0m\u001b[0mxp\u001b[0m\u001b[0;34m,\u001b[0m \u001b[0myp\u001b[0m\u001b[0;34m,\u001b[0m \u001b[0mop\u001b[0m\u001b[0;34m,\u001b[0m \u001b[0mx\u001b[0m\u001b[0;34m,\u001b[0m \u001b[0my\u001b[0m\u001b[0;34m)\u001b[0m\u001b[0;34m\u001b[0m\u001b[0;34m\u001b[0m\u001b[0m\n\u001b[0m\u001b[1;32m   1192\u001b[0m         \u001b[0;32mif\u001b[0m \u001b[0maction\u001b[0m \u001b[0;32mis\u001b[0m \u001b[0;32mnot\u001b[0m \u001b[0;32mNone\u001b[0m\u001b[0;34m:\u001b[0m\u001b[0;34m\u001b[0m\u001b[0;34m\u001b[0m\u001b[0m\n\u001b[1;32m   1193\u001b[0m             \u001b[0;32mif\u001b[0m \u001b[0;34m(\u001b[0m\u001b[0;34m<\u001b[0m\u001b[0mAction\u001b[0m\u001b[0;34m>\u001b[0m\u001b[0maction\u001b[0m\u001b[0;34m)\u001b[0m\u001b[0;34m.\u001b[0m\u001b[0m_is_left\u001b[0m\u001b[0;34m:\u001b[0m\u001b[0;34m\u001b[0m\u001b[0;34m\u001b[0m\u001b[0m\n",
      "\u001b[0;32m/private/var/tmp/sage-9.6-current/local/var/lib/sage/venv-python3.10.3/lib/python3.10/site-packages/sage/structure/coerce.pyx\u001b[0m in \u001b[0;36msage.structure.coerce.CoercionModel.get_action (build/cythonized/sage/structure/coerce.c:17468)\u001b[0;34m()\u001b[0m\n\u001b[1;32m   1718\u001b[0m         \u001b[0;32mexcept\u001b[0m \u001b[0mKeyError\u001b[0m\u001b[0;34m:\u001b[0m\u001b[0;34m\u001b[0m\u001b[0;34m\u001b[0m\u001b[0m\n\u001b[1;32m   1719\u001b[0m             \u001b[0;32mpass\u001b[0m\u001b[0;34m\u001b[0m\u001b[0;34m\u001b[0m\u001b[0m\n\u001b[0;32m-> 1720\u001b[0;31m         \u001b[0maction\u001b[0m \u001b[0;34m=\u001b[0m \u001b[0mself\u001b[0m\u001b[0;34m.\u001b[0m\u001b[0mdiscover_action\u001b[0m\u001b[0;34m(\u001b[0m\u001b[0mR\u001b[0m\u001b[0;34m,\u001b[0m \u001b[0mS\u001b[0m\u001b[0;34m,\u001b[0m \u001b[0mop\u001b[0m\u001b[0;34m,\u001b[0m \u001b[0mr\u001b[0m\u001b[0;34m,\u001b[0m \u001b[0ms\u001b[0m\u001b[0;34m)\u001b[0m\u001b[0;34m\u001b[0m\u001b[0;34m\u001b[0m\u001b[0m\n\u001b[0m\u001b[1;32m   1721\u001b[0m         \u001b[0maction\u001b[0m \u001b[0;34m=\u001b[0m \u001b[0mself\u001b[0m\u001b[0;34m.\u001b[0m\u001b[0mverify_action\u001b[0m\u001b[0;34m(\u001b[0m\u001b[0maction\u001b[0m\u001b[0;34m,\u001b[0m \u001b[0mR\u001b[0m\u001b[0;34m,\u001b[0m \u001b[0mS\u001b[0m\u001b[0;34m,\u001b[0m \u001b[0mop\u001b[0m\u001b[0;34m)\u001b[0m\u001b[0;34m\u001b[0m\u001b[0;34m\u001b[0m\u001b[0m\n\u001b[1;32m   1722\u001b[0m         \u001b[0mself\u001b[0m\u001b[0;34m.\u001b[0m\u001b[0m_action_maps\u001b[0m\u001b[0;34m.\u001b[0m\u001b[0mset\u001b[0m\u001b[0;34m(\u001b[0m\u001b[0mR\u001b[0m\u001b[0;34m,\u001b[0m \u001b[0mS\u001b[0m\u001b[0;34m,\u001b[0m \u001b[0mop\u001b[0m\u001b[0;34m,\u001b[0m \u001b[0maction\u001b[0m\u001b[0;34m)\u001b[0m\u001b[0;34m\u001b[0m\u001b[0;34m\u001b[0m\u001b[0m\n",
      "\u001b[0;32m/private/var/tmp/sage-9.6-current/local/var/lib/sage/venv-python3.10.3/lib/python3.10/site-packages/sage/structure/coerce.pyx\u001b[0m in \u001b[0;36msage.structure.coerce.CoercionModel.discover_action (build/cythonized/sage/structure/coerce.c:18973)\u001b[0;34m()\u001b[0m\n\u001b[1;32m   1854\u001b[0m \u001b[0;34m\u001b[0m\u001b[0m\n\u001b[1;32m   1855\u001b[0m         \u001b[0;32mif\u001b[0m \u001b[0misinstance\u001b[0m\u001b[0;34m(\u001b[0m\u001b[0mS\u001b[0m\u001b[0;34m,\u001b[0m \u001b[0mParent\u001b[0m\u001b[0;34m)\u001b[0m\u001b[0;34m:\u001b[0m\u001b[0;34m\u001b[0m\u001b[0;34m\u001b[0m\u001b[0m\n\u001b[0;32m-> 1856\u001b[0;31m             \u001b[0maction\u001b[0m \u001b[0;34m=\u001b[0m \u001b[0;34m(\u001b[0m\u001b[0;34m<\u001b[0m\u001b[0mParent\u001b[0m\u001b[0;34m>\u001b[0m\u001b[0mS\u001b[0m\u001b[0;34m)\u001b[0m\u001b[0;34m.\u001b[0m\u001b[0mget_action\u001b[0m\u001b[0;34m(\u001b[0m\u001b[0mR\u001b[0m\u001b[0;34m,\u001b[0m \u001b[0mop\u001b[0m\u001b[0;34m,\u001b[0m \u001b[0;32mFalse\u001b[0m\u001b[0;34m,\u001b[0m \u001b[0ms\u001b[0m\u001b[0;34m,\u001b[0m \u001b[0mr\u001b[0m\u001b[0;34m)\u001b[0m\u001b[0;34m\u001b[0m\u001b[0;34m\u001b[0m\u001b[0m\n\u001b[0m\u001b[1;32m   1857\u001b[0m             \u001b[0;32mif\u001b[0m \u001b[0maction\u001b[0m \u001b[0;32mis\u001b[0m \u001b[0;32mnot\u001b[0m \u001b[0;32mNone\u001b[0m\u001b[0;34m:\u001b[0m\u001b[0;34m\u001b[0m\u001b[0;34m\u001b[0m\u001b[0m\n\u001b[1;32m   1858\u001b[0m                 \u001b[0;32mreturn\u001b[0m \u001b[0maction\u001b[0m\u001b[0;34m\u001b[0m\u001b[0;34m\u001b[0m\u001b[0m\n",
      "\u001b[0;32m/private/var/tmp/sage-9.6-current/local/var/lib/sage/venv-python3.10.3/lib/python3.10/site-packages/sage/structure/parent.pyx\u001b[0m in \u001b[0;36msage.structure.parent.Parent.get_action (build/cythonized/sage/structure/parent.c:20717)\u001b[0;34m()\u001b[0m\n\u001b[1;32m   2547\u001b[0m             \u001b[0;32mNone\u001b[0m\u001b[0;34m\u001b[0m\u001b[0;34m\u001b[0m\u001b[0m\n\u001b[1;32m   2548\u001b[0m         \"\"\"\n\u001b[0;32m-> 2549\u001b[0;31m         \u001b[0maction\u001b[0m \u001b[0;34m=\u001b[0m \u001b[0mself\u001b[0m\u001b[0;34m.\u001b[0m\u001b[0m_get_action_\u001b[0m\u001b[0;34m(\u001b[0m\u001b[0mS\u001b[0m\u001b[0;34m,\u001b[0m \u001b[0mop\u001b[0m\u001b[0;34m,\u001b[0m \u001b[0mself_on_left\u001b[0m\u001b[0;34m)\u001b[0m\u001b[0;34m\u001b[0m\u001b[0;34m\u001b[0m\u001b[0m\n\u001b[0m\u001b[1;32m   2550\u001b[0m         \u001b[0;32mif\u001b[0m \u001b[0maction\u001b[0m \u001b[0;32mis\u001b[0m \u001b[0;32mNone\u001b[0m\u001b[0;34m:\u001b[0m\u001b[0;34m\u001b[0m\u001b[0;34m\u001b[0m\u001b[0m\n\u001b[1;32m   2551\u001b[0m             \u001b[0maction\u001b[0m \u001b[0;34m=\u001b[0m \u001b[0mself\u001b[0m\u001b[0;34m.\u001b[0m\u001b[0mdiscover_action\u001b[0m\u001b[0;34m(\u001b[0m\u001b[0mS\u001b[0m\u001b[0;34m,\u001b[0m \u001b[0mop\u001b[0m\u001b[0;34m,\u001b[0m \u001b[0mself_on_left\u001b[0m\u001b[0;34m,\u001b[0m \u001b[0mself_el\u001b[0m\u001b[0;34m,\u001b[0m \u001b[0mS_el\u001b[0m\u001b[0;34m)\u001b[0m\u001b[0;34m\u001b[0m\u001b[0;34m\u001b[0m\u001b[0m\n",
      "\u001b[0;32m/private/var/tmp/sage-9.6-current/local/var/lib/sage/venv-python3.10.3/lib/python3.10/site-packages/sage/structure/parent.pyx\u001b[0m in \u001b[0;36msage.structure.parent.Parent._get_action_ (build/cythonized/sage/structure/parent.c:22491)\u001b[0;34m()\u001b[0m\n\u001b[1;32m   2661\u001b[0m                     \u001b[0m_record_exception\u001b[0m\u001b[0;34m(\u001b[0m\u001b[0;34m)\u001b[0m\u001b[0;34m\u001b[0m\u001b[0;34m\u001b[0m\u001b[0m\n\u001b[1;32m   2662\u001b[0m \u001b[0;34m\u001b[0m\u001b[0m\n\u001b[0;32m-> 2663\u001b[0;31m     \u001b[0mcpdef\u001b[0m \u001b[0m_get_action_\u001b[0m\u001b[0;34m(\u001b[0m\u001b[0mself\u001b[0m\u001b[0;34m,\u001b[0m \u001b[0mS\u001b[0m\u001b[0;34m,\u001b[0m \u001b[0mop\u001b[0m\u001b[0;34m,\u001b[0m \u001b[0mbint\u001b[0m \u001b[0mself_on_left\u001b[0m\u001b[0;34m)\u001b[0m\u001b[0;34m:\u001b[0m\u001b[0;34m\u001b[0m\u001b[0;34m\u001b[0m\u001b[0m\n\u001b[0m\u001b[1;32m   2664\u001b[0m         \"\"\"\n\u001b[1;32m   2665\u001b[0m         \u001b[0mOverride\u001b[0m \u001b[0mthis\u001b[0m \u001b[0mmethod\u001b[0m \u001b[0mto\u001b[0m \u001b[0mprovide\u001b[0m \u001b[0man\u001b[0m \u001b[0maction\u001b[0m \u001b[0mof\u001b[0m \u001b[0mself\u001b[0m \u001b[0mon\u001b[0m \u001b[0mS\u001b[0m \u001b[0;32mor\u001b[0m \u001b[0mS\u001b[0m \u001b[0mon\u001b[0m \u001b[0mself\u001b[0m\u001b[0;34m\u001b[0m\u001b[0;34m\u001b[0m\u001b[0m\n",
      "\u001b[0;32m/private/var/tmp/sage-9.6-current/local/var/lib/sage/venv-python3.10.3/lib/python3.10/site-packages/sage/matrix/matrix_space.py\u001b[0m in \u001b[0;36m_get_action_\u001b[0;34m(self, S, op, self_on_left)\u001b[0m\n\u001b[1;32m   1065\u001b[0m                     \u001b[0;32melse\u001b[0m\u001b[0;34m:\u001b[0m\u001b[0;34m\u001b[0m\u001b[0;34m\u001b[0m\u001b[0m\n\u001b[1;32m   1066\u001b[0m                         \u001b[0;31m# action of base ring\u001b[0m\u001b[0;34m\u001b[0m\u001b[0;34m\u001b[0m\u001b[0m\n\u001b[0;32m-> 1067\u001b[0;31m                         \u001b[0;32mreturn\u001b[0m \u001b[0msage\u001b[0m\u001b[0;34m.\u001b[0m\u001b[0mstructure\u001b[0m\u001b[0;34m.\u001b[0m\u001b[0mcoerce\u001b[0m\u001b[0;34m.\u001b[0m\u001b[0mLeftModuleAction\u001b[0m\u001b[0;34m(\u001b[0m\u001b[0mS\u001b[0m\u001b[0;34m,\u001b[0m \u001b[0mself\u001b[0m\u001b[0;34m)\u001b[0m\u001b[0;34m\u001b[0m\u001b[0;34m\u001b[0m\u001b[0m\n\u001b[0m\u001b[1;32m   1068\u001b[0m         \u001b[0;32mexcept\u001b[0m \u001b[0mTypeError\u001b[0m\u001b[0;34m:\u001b[0m\u001b[0;34m\u001b[0m\u001b[0;34m\u001b[0m\u001b[0m\n\u001b[1;32m   1069\u001b[0m             \u001b[0;32mreturn\u001b[0m \u001b[0;32mNone\u001b[0m\u001b[0;34m\u001b[0m\u001b[0;34m\u001b[0m\u001b[0m\n",
      "\u001b[0;32m/private/var/tmp/sage-9.6-current/local/var/lib/sage/venv-python3.10.3/lib/python3.10/site-packages/sage/structure/coerce_actions.pyx\u001b[0m in \u001b[0;36msage.structure.coerce_actions.ModuleAction.__init__ (build/cythonized/sage/structure/coerce_actions.c:6790)\u001b[0;34m()\u001b[0m\n\u001b[1;32m    356\u001b[0m             \u001b[0;32mraise\u001b[0m \u001b[0mCoercionException\u001b[0m\u001b[0;34m(\u001b[0m\u001b[0;34m\"The parent of %s is not %s but %s\"\u001b[0m\u001b[0;34m%\u001b[0m\u001b[0;34m(\u001b[0m\u001b[0mg\u001b[0m\u001b[0;34m,\u001b[0m\u001b[0mG\u001b[0m\u001b[0;34m,\u001b[0m\u001b[0mparent\u001b[0m\u001b[0;34m(\u001b[0m\u001b[0mg\u001b[0m\u001b[0;34m)\u001b[0m\u001b[0;34m)\u001b[0m\u001b[0;34m)\u001b[0m\u001b[0;34m\u001b[0m\u001b[0;34m\u001b[0m\u001b[0m\n\u001b[1;32m    357\u001b[0m         \u001b[0;32mif\u001b[0m \u001b[0ma\u001b[0m \u001b[0;32mis\u001b[0m \u001b[0;32mNone\u001b[0m\u001b[0;34m:\u001b[0m\u001b[0;34m\u001b[0m\u001b[0;34m\u001b[0m\u001b[0m\n\u001b[0;32m--> 358\u001b[0;31m             \u001b[0ma\u001b[0m \u001b[0;34m=\u001b[0m \u001b[0mS\u001b[0m\u001b[0;34m.\u001b[0m\u001b[0man_element\u001b[0m\u001b[0;34m(\u001b[0m\u001b[0;34m)\u001b[0m\u001b[0;34m\u001b[0m\u001b[0;34m\u001b[0m\u001b[0m\n\u001b[0m\u001b[1;32m    359\u001b[0m         \u001b[0;32mif\u001b[0m \u001b[0mparent\u001b[0m\u001b[0;34m(\u001b[0m\u001b[0ma\u001b[0m\u001b[0;34m)\u001b[0m \u001b[0;32mis\u001b[0m \u001b[0;32mnot\u001b[0m \u001b[0mS\u001b[0m\u001b[0;34m:\u001b[0m\u001b[0;34m\u001b[0m\u001b[0;34m\u001b[0m\u001b[0m\n\u001b[1;32m    360\u001b[0m             \u001b[0;32mraise\u001b[0m \u001b[0mCoercionException\u001b[0m\u001b[0;34m(\u001b[0m\u001b[0;34m\"The parent of %s is not %s but %s\"\u001b[0m\u001b[0;34m%\u001b[0m\u001b[0;34m(\u001b[0m\u001b[0ma\u001b[0m\u001b[0;34m,\u001b[0m\u001b[0mS\u001b[0m\u001b[0;34m,\u001b[0m\u001b[0mparent\u001b[0m\u001b[0;34m(\u001b[0m\u001b[0ma\u001b[0m\u001b[0;34m)\u001b[0m\u001b[0;34m)\u001b[0m\u001b[0;34m)\u001b[0m\u001b[0;34m\u001b[0m\u001b[0;34m\u001b[0m\u001b[0m\n",
      "\u001b[0;32m/private/var/tmp/sage-9.6-current/local/var/lib/sage/venv-python3.10.3/lib/python3.10/site-packages/sage/structure/parent.pyx\u001b[0m in \u001b[0;36msage.structure.parent.Parent.an_element (build/cythonized/sage/structure/parent.c:22857)\u001b[0;34m()\u001b[0m\n\u001b[1;32m   2673\u001b[0m     \u001b[0;31m# TODO: remove once all parents in Sage will inherit properly from\u001b[0m\u001b[0;34m\u001b[0m\u001b[0;34m\u001b[0m\u001b[0m\n\u001b[1;32m   2674\u001b[0m     \u001b[0;31m# Sets().ParentMethods.an_element\u001b[0m\u001b[0;34m\u001b[0m\u001b[0;34m\u001b[0m\u001b[0m\n\u001b[0;32m-> 2675\u001b[0;31m     \u001b[0mcpdef\u001b[0m \u001b[0man_element\u001b[0m\u001b[0;34m(\u001b[0m\u001b[0mself\u001b[0m\u001b[0;34m)\u001b[0m\u001b[0;34m:\u001b[0m\u001b[0;34m\u001b[0m\u001b[0;34m\u001b[0m\u001b[0m\n\u001b[0m\u001b[1;32m   2676\u001b[0m         r\"\"\"\n\u001b[1;32m   2677\u001b[0m         \u001b[0mReturns\u001b[0m \u001b[0ma\u001b[0m \u001b[0;34m(\u001b[0m\u001b[0mpreferably\u001b[0m \u001b[0mtypical\u001b[0m\u001b[0;34m)\u001b[0m \u001b[0melement\u001b[0m \u001b[0mof\u001b[0m \u001b[0mthis\u001b[0m \u001b[0mparent\u001b[0m\u001b[0;34m.\u001b[0m\u001b[0;34m\u001b[0m\u001b[0;34m\u001b[0m\u001b[0m\n",
      "\u001b[0;32m/private/var/tmp/sage-9.6-current/local/var/lib/sage/venv-python3.10.3/lib/python3.10/site-packages/sage/structure/parent.pyx\u001b[0m in \u001b[0;36msage.structure.parent.Parent.an_element (build/cythonized/sage/structure/parent.c:22782)\u001b[0;34m()\u001b[0m\n\u001b[1;32m   2701\u001b[0m         \u001b[0;31m# conflict with @cached_method\u001b[0m\u001b[0;34m\u001b[0m\u001b[0;34m\u001b[0m\u001b[0m\n\u001b[1;32m   2702\u001b[0m         \u001b[0;32mif\u001b[0m \u001b[0mself\u001b[0m\u001b[0;34m.\u001b[0m\u001b[0m_cache_an_element\u001b[0m \u001b[0;32mis\u001b[0m \u001b[0;32mNone\u001b[0m\u001b[0;34m:\u001b[0m\u001b[0;34m\u001b[0m\u001b[0;34m\u001b[0m\u001b[0m\n\u001b[0;32m-> 2703\u001b[0;31m             \u001b[0mself\u001b[0m\u001b[0;34m.\u001b[0m\u001b[0m_cache_an_element\u001b[0m \u001b[0;34m=\u001b[0m \u001b[0mself\u001b[0m\u001b[0;34m.\u001b[0m\u001b[0m_an_element_\u001b[0m\u001b[0;34m(\u001b[0m\u001b[0;34m)\u001b[0m\u001b[0;34m\u001b[0m\u001b[0;34m\u001b[0m\u001b[0m\n\u001b[0m\u001b[1;32m   2704\u001b[0m         \u001b[0;32mreturn\u001b[0m \u001b[0mself\u001b[0m\u001b[0;34m.\u001b[0m\u001b[0m_cache_an_element\u001b[0m\u001b[0;34m\u001b[0m\u001b[0;34m\u001b[0m\u001b[0m\n\u001b[1;32m   2705\u001b[0m \u001b[0;34m\u001b[0m\u001b[0m\n",
      "\u001b[0;32m/private/var/tmp/sage-9.6-current/local/var/lib/sage/venv-python3.10.3/lib/python3.10/site-packages/sage/matrix/matrix_space.py\u001b[0m in \u001b[0;36m_an_element_\u001b[0;34m(self)\u001b[0m\n\u001b[1;32m   2269\u001b[0m             \u001b[0mL\u001b[0m \u001b[0;34m=\u001b[0m \u001b[0;34m[\u001b[0m\u001b[0;34m]\u001b[0m\u001b[0;34m\u001b[0m\u001b[0;34m\u001b[0m\u001b[0m\n\u001b[1;32m   2270\u001b[0m             \u001b[0;32mwhile\u001b[0m \u001b[0;32mTrue\u001b[0m\u001b[0;34m:\u001b[0m\u001b[0;34m\u001b[0m\u001b[0;34m\u001b[0m\u001b[0m\n\u001b[0;32m-> 2271\u001b[0;31m                 \u001b[0;32mfor\u001b[0m \u001b[0mel\u001b[0m \u001b[0;32min\u001b[0m \u001b[0mself\u001b[0m\u001b[0;34m.\u001b[0m\u001b[0mbase\u001b[0m\u001b[0;34m(\u001b[0m\u001b[0;34m)\u001b[0m\u001b[0;34m.\u001b[0m\u001b[0msome_elements\u001b[0m\u001b[0;34m(\u001b[0m\u001b[0;34m)\u001b[0m\u001b[0;34m:\u001b[0m\u001b[0;34m\u001b[0m\u001b[0;34m\u001b[0m\u001b[0m\n\u001b[0m\u001b[1;32m   2272\u001b[0m                     \u001b[0;32mif\u001b[0m \u001b[0mlen\u001b[0m\u001b[0;34m(\u001b[0m\u001b[0mL\u001b[0m\u001b[0;34m)\u001b[0m \u001b[0;34m==\u001b[0m \u001b[0mdim\u001b[0m\u001b[0;34m:\u001b[0m\u001b[0;34m\u001b[0m\u001b[0;34m\u001b[0m\u001b[0m\n\u001b[1;32m   2273\u001b[0m                         \u001b[0mma\u001b[0m \u001b[0;34m=\u001b[0m \u001b[0mMatrixArgs\u001b[0m\u001b[0;34m(\u001b[0m\u001b[0mL\u001b[0m\u001b[0;34m,\u001b[0m \u001b[0mspace\u001b[0m\u001b[0;34m=\u001b[0m\u001b[0mself\u001b[0m\u001b[0;34m)\u001b[0m\u001b[0;34m\u001b[0m\u001b[0;34m\u001b[0m\u001b[0m\n",
      "\u001b[0;32m/private/var/tmp/sage-9.6-current/local/var/lib/sage/venv-python3.10.3/lib/python3.10/site-packages/sage/rings/rational_field.py\u001b[0m in \u001b[0;36msome_elements\u001b[0;34m(self)\u001b[0m\n\u001b[1;32m   1171\u001b[0m             \u001b[0;32myield\u001b[0m \u001b[0mRational\u001b[0m\u001b[0;34m(\u001b[0m\u001b[0;34m(\u001b[0m\u001b[0;34m-\u001b[0m\u001b[0ma\u001b[0m\u001b[0;34m,\u001b[0m \u001b[0mb\u001b[0m\u001b[0;34m)\u001b[0m\u001b[0;34m)\u001b[0m\u001b[0;34m\u001b[0m\u001b[0;34m\u001b[0m\u001b[0m\n\u001b[1;32m   1172\u001b[0m             \u001b[0;32myield\u001b[0m \u001b[0mRational\u001b[0m\u001b[0;34m(\u001b[0m\u001b[0;34m(\u001b[0m\u001b[0mb\u001b[0m\u001b[0;34m,\u001b[0m \u001b[0ma\u001b[0m\u001b[0;34m)\u001b[0m\u001b[0;34m)\u001b[0m\u001b[0;34m\u001b[0m\u001b[0;34m\u001b[0m\u001b[0m\n\u001b[0;32m-> 1173\u001b[0;31m             \u001b[0;32myield\u001b[0m \u001b[0mRational\u001b[0m\u001b[0;34m(\u001b[0m\u001b[0;34m(\u001b[0m\u001b[0;34m-\u001b[0m\u001b[0mb\u001b[0m\u001b[0;34m,\u001b[0m \u001b[0ma\u001b[0m\u001b[0;34m)\u001b[0m\u001b[0;34m)\u001b[0m\u001b[0;34m\u001b[0m\u001b[0;34m\u001b[0m\u001b[0m\n\u001b[0m\u001b[1;32m   1174\u001b[0m \u001b[0;34m\u001b[0m\u001b[0m\n\u001b[1;32m   1175\u001b[0m     \u001b[0;32mdef\u001b[0m \u001b[0mrandom_element\u001b[0m\u001b[0;34m(\u001b[0m\u001b[0mself\u001b[0m\u001b[0;34m,\u001b[0m \u001b[0mnum_bound\u001b[0m\u001b[0;34m=\u001b[0m\u001b[0;32mNone\u001b[0m\u001b[0;34m,\u001b[0m \u001b[0mden_bound\u001b[0m\u001b[0;34m=\u001b[0m\u001b[0;32mNone\u001b[0m\u001b[0;34m,\u001b[0m \u001b[0;34m*\u001b[0m\u001b[0margs\u001b[0m\u001b[0;34m,\u001b[0m \u001b[0;34m**\u001b[0m\u001b[0mkwds\u001b[0m\u001b[0;34m)\u001b[0m\u001b[0;34m:\u001b[0m\u001b[0;34m\u001b[0m\u001b[0;34m\u001b[0m\u001b[0m\n",
      "\u001b[0;32msrc/cysignals/signals.pyx\u001b[0m in \u001b[0;36mcysignals.signals.python_check_interrupt\u001b[0;34m()\u001b[0m\n",
      "\u001b[0;31mKeyboardInterrupt\u001b[0m: "
     ]
    }
   ],
   "source": [
    "R.<x,y,z> = PolynomialRing(QQ, order = 'degrevlex')\n",
    "sdegs = []\n",
    "degregs = []\n",
    "for i in range(2,40):\n",
    "    f1 = x^(i+3) + x*y^(i+2)\n",
    "    f2 = y^3\n",
    "    f3 = z^i\n",
    "    I = Ideal(f1,f2,f3)\n",
    "    print('\\n',I)\n",
    "    sdegs.append(mac_grob([f1,f2],R)[0])\n",
    "    degregs.append(degree_reg(I,R))\n",
    "print('\\n', \"Results:\", '\\n', sdegs, '\\n', degregs)"
   ]
  },
  {
   "cell_type": "code",
   "execution_count": 367,
   "metadata": {},
   "outputs": [
    {
     "name": "stdout",
     "output_type": "stream",
     "text": [
      "[5, 6, 7, 8, 9, 10, 11, 12, 13, 14, 15, 16, 17, 18, 19, 20, 21, 22, 23, 24, 25, 26, 27, 28, 29, 30, 31, 32] \n",
      " [8, 10, 12, 14, 16, 18, 20, 22, 24, 26, 28, 30, 32, 34, 36, 38, 40, 42, 44, 46, 48, 50, 52, 54, 56, 58, 60, 62]\n"
     ]
    }
   ],
   "source": [
    "print(sdegs, '\\n', degregs)"
   ]
  },
  {
   "cell_type": "code",
   "execution_count": 529,
   "metadata": {},
   "outputs": [],
   "source": [
    "# Example from Minko's Thesis\n",
    "R.<x,y,z> = PolynomialRing(GF(7), order = 'degrevlex')\n",
    "f1 = x^5 + y^5 + z^5 - 1\n",
    "f2 = x^3 + y^3 + z^2 - 1\n",
    "f3 = y^6 - 1\n",
    "f4 = z^6 - 1\n",
    "f_list = [f1*f1*f1, f1*f1*f2, f1*f1*f3, f1*f1*f4, f1*f2*f2, f1*f2*f3, f1*f2*f4, f1*f3*f3, f1*f3*f4, f1*f4*f4, f2*f2*f2, f2*f2*f3, f2*f2*f4, f2*f3*f3, f2*f3*f4, f2*f4*f4, f3*f3*f3, f3*f3*f4, f3*f4*f4, f4*f4*f4, x^7 - x, y^7 - y, z^7 - z]\n",
    "I = Ideal(f_list)"
   ]
  },
  {
   "cell_type": "code",
   "execution_count": 49,
   "metadata": {},
   "outputs": [],
   "source": [
    "import time\n",
    "\n",
    "def test_rowsp(f, f_list, d, ring):\n",
    "    mons = get_mons(d, ring)\n",
    "    M = mac_matrix(f_list, d, ring)\n",
    "    done = False\n",
    "    while not done:\n",
    "        rowsp = M.row_space()\n",
    "        to_be_added = []\n",
    "        for row in M.rref().rows():\n",
    "            g = 0\n",
    "            for (coeff, mon) in zip(row, mons):\n",
    "                g += coeff * mon\n",
    "            max_test_deg = d - g.degree()\n",
    "            if (g != 0) and (max_test_deg > 0):\n",
    "                for mon in get_mons(max_test_deg, ring):\n",
    "                    test_p = mon*g\n",
    "                    test_vec = vector([test_p.monomial_coefficient(moon) for moon in mons])\n",
    "                    if test_vec not in rowsp:\n",
    "                        to_be_added.append(test_vec)\n",
    "        if to_be_added == []:\n",
    "            done = True\n",
    "        else:\n",
    "            new_rows = M.rows() + to_be_added\n",
    "            M = Matrix(new_rows)\n",
    "    f_vec = vector([ring(f).monomial_coefficient(mon) for mon in mons])\n",
    "    return f_vec in M.row_space()\n",
    "\n",
    "def get_mons(d, ring, leq = True):\n",
    "    if leq:\n",
    "        mons = []\n",
    "        for i in range(d+1):\n",
    "            mons += [ring({tuple(a):1}) for a in WeightedIntegerVectors(i,[1 for gen in ring.gens()])]\n",
    "    else:\n",
    "        mons = [ring({tuple(a):1}) for a in WeightedIntegerVectors(d,[1 for gen in ring.gens()])]\n",
    "    mons.sort()\n",
    "    mons.reverse()\n",
    "    return mons\n",
    "\n",
    "def deg_fall(f, f_list, ring):\n",
    "    test_deg = f.degree()\n",
    "    while True:\n",
    "        print(test_deg, time.strftime(\"%H:%M:%S\", time.localtime()))\n",
    "        if test_rowsp(f, f_list, test_deg, ring):\n",
    "            return test_deg\n",
    "        test_deg += 1\n",
    "        \n",
    "def lfd(f_list, ring):\n",
    "    fall_degrees = []\n",
    "    I = ideal(f_list)\n",
    "    B = I.groebner_basis()\n",
    "    print(B)\n",
    "    for f in B:\n",
    "        print('\\n')\n",
    "        print(f)\n",
    "        d = deg_fall(f, f_list, ring)\n",
    "        if d > f.degree():\n",
    "            fall_degrees.append(d)\n",
    "    if fall_degrees == []:\n",
    "        return 0\n",
    "    else:\n",
    "        return max(fall_degrees)"
   ]
  },
  {
   "cell_type": "code",
   "execution_count": 526,
   "metadata": {},
   "outputs": [
    {
     "name": "stdout",
     "output_type": "stream",
     "text": [
      "[x^4, x^3*y, x^2*y^2, x*y^3, y^4, x^3*z, x^2*y*z, x*y^2*z, y^3*z, x^2*z^2, x*y*z^2, y^2*z^2, x*z^3, y*z^3, z^4, x^3, x^2*y, x*y^2, y^3, x^2*z, x*y*z, y^2*z, x*z^2, y*z^2, z^3, x^2, x*y, y^2, x*z, y*z, z^2, x, y, z, 1]\n",
      "[x^3, x^2*y, x*y^2, y^3, x^2*z, x*y*z, y^2*z, x*z^2, y*z^2, z^3, x^2, x*y, y^2, x*z, y*z, z^2, x, y, z, 1]\n",
      "[x^2, x*y, y^2, x*z, y*z, z^2, x, y, z, 1]\n"
     ]
    },
    {
     "data": {
      "text/plain": [
       "0"
      ]
     },
     "execution_count": 526,
     "metadata": {},
     "output_type": "execute_result"
    }
   ],
   "source": [
    "R.<x,y,z> = PolynomialRing(QQ, order = 'degrevlex')\n",
    "f1 = x^2 + x*y + z*y\n",
    "f2 = x^3 + y^3 + z^3\n",
    "I = Ideal(f1,f2)\n",
    "lfd([f1,f2],R)"
   ]
  },
  {
   "cell_type": "code",
   "execution_count": 530,
   "metadata": {},
   "outputs": [
    {
     "name": "stdout",
     "output_type": "stream",
     "text": [
      "[x^6, x^5*y, x^4*y^2, x^3*y^3, x^2*y^4, x*y^5, y^6, x^5*z, x^4*y*z, x^3*y^2*z, x^2*y^3*z, x*y^4*z, y^5*z, x^4*z^2, x^3*y*z^2, x^2*y^2*z^2, x*y^3*z^2, y^4*z^2, x^3*z^3, x^2*y*z^3, x*y^2*z^3, y^3*z^3, x^2*z^4, x*y*z^4, y^2*z^4, x*z^5, y*z^5, z^6, x^5, x^4*y, x^3*y^2, x^2*y^3, x*y^4, y^5, x^4*z, x^3*y*z, x^2*y^2*z, x*y^3*z, y^4*z, x^3*z^2, x^2*y*z^2, x*y^2*z^2, y^3*z^2, x^2*z^3, x*y*z^3, y^2*z^3, x*z^4, y*z^4, z^5, x^4, x^3*y, x^2*y^2, x*y^3, y^4, x^3*z, x^2*y*z, x*y^2*z, y^3*z, x^2*z^2, x*y*z^2, y^2*z^2, x*z^3, y*z^3, z^4, x^3, x^2*y, x*y^2, y^3, x^2*z, x*y*z, y^2*z, x*z^2, y*z^2, z^3, x^2, x*y, y^2, x*z, y*z, z^2, x, y, z, 1]\n",
      "[x^7, x^6*y, x^5*y^2, x^4*y^3, x^3*y^4, x^2*y^5, x*y^6, y^7, x^6*z, x^5*y*z, x^4*y^2*z, x^3*y^3*z, x^2*y^4*z, x*y^5*z, y^6*z, x^5*z^2, x^4*y*z^2, x^3*y^2*z^2, x^2*y^3*z^2, x*y^4*z^2, y^5*z^2, x^4*z^3, x^3*y*z^3, x^2*y^2*z^3, x*y^3*z^3, y^4*z^3, x^3*z^4, x^2*y*z^4, x*y^2*z^4, y^3*z^4, x^2*z^5, x*y*z^5, y^2*z^5, x*z^6, y*z^6, z^7, x^6, x^5*y, x^4*y^2, x^3*y^3, x^2*y^4, x*y^5, y^6, x^5*z, x^4*y*z, x^3*y^2*z, x^2*y^3*z, x*y^4*z, y^5*z, x^4*z^2, x^3*y*z^2, x^2*y^2*z^2, x*y^3*z^2, y^4*z^2, x^3*z^3, x^2*y*z^3, x*y^2*z^3, y^3*z^3, x^2*z^4, x*y*z^4, y^2*z^4, x*z^5, y*z^5, z^6, x^5, x^4*y, x^3*y^2, x^2*y^3, x*y^4, y^5, x^4*z, x^3*y*z, x^2*y^2*z, x*y^3*z, y^4*z, x^3*z^2, x^2*y*z^2, x*y^2*z^2, y^3*z^2, x^2*z^3, x*y*z^3, y^2*z^3, x*z^4, y*z^4, z^5, x^4, x^3*y, x^2*y^2, x*y^3, y^4, x^3*z, x^2*y*z, x*y^2*z, y^3*z, x^2*z^2, x*y*z^2, y^2*z^2, x*z^3, y*z^3, z^4, x^3, x^2*y, x*y^2, y^3, x^2*z, x*y*z, y^2*z, x*z^2, y*z^2, z^3, x^2, x*y, y^2, x*z, y*z, z^2, x, y, z, 1]\n",
      "[x^8, x^7*y, x^6*y^2, x^5*y^3, x^4*y^4, x^3*y^5, x^2*y^6, x*y^7, y^8, x^7*z, x^6*y*z, x^5*y^2*z, x^4*y^3*z, x^3*y^4*z, x^2*y^5*z, x*y^6*z, y^7*z, x^6*z^2, x^5*y*z^2, x^4*y^2*z^2, x^3*y^3*z^2, x^2*y^4*z^2, x*y^5*z^2, y^6*z^2, x^5*z^3, x^4*y*z^3, x^3*y^2*z^3, x^2*y^3*z^3, x*y^4*z^3, y^5*z^3, x^4*z^4, x^3*y*z^4, x^2*y^2*z^4, x*y^3*z^4, y^4*z^4, x^3*z^5, x^2*y*z^5, x*y^2*z^5, y^3*z^5, x^2*z^6, x*y*z^6, y^2*z^6, x*z^7, y*z^7, z^8, x^7, x^6*y, x^5*y^2, x^4*y^3, x^3*y^4, x^2*y^5, x*y^6, y^7, x^6*z, x^5*y*z, x^4*y^2*z, x^3*y^3*z, x^2*y^4*z, x*y^5*z, y^6*z, x^5*z^2, x^4*y*z^2, x^3*y^2*z^2, x^2*y^3*z^2, x*y^4*z^2, y^5*z^2, x^4*z^3, x^3*y*z^3, x^2*y^2*z^3, x*y^3*z^3, y^4*z^3, x^3*z^4, x^2*y*z^4, x*y^2*z^4, y^3*z^4, x^2*z^5, x*y*z^5, y^2*z^5, x*z^6, y*z^6, z^7, x^6, x^5*y, x^4*y^2, x^3*y^3, x^2*y^4, x*y^5, y^6, x^5*z, x^4*y*z, x^3*y^2*z, x^2*y^3*z, x*y^4*z, y^5*z, x^4*z^2, x^3*y*z^2, x^2*y^2*z^2, x*y^3*z^2, y^4*z^2, x^3*z^3, x^2*y*z^3, x*y^2*z^3, y^3*z^3, x^2*z^4, x*y*z^4, y^2*z^4, x*z^5, y*z^5, z^6, x^5, x^4*y, x^3*y^2, x^2*y^3, x*y^4, y^5, x^4*z, x^3*y*z, x^2*y^2*z, x*y^3*z, y^4*z, x^3*z^2, x^2*y*z^2, x*y^2*z^2, y^3*z^2, x^2*z^3, x*y*z^3, y^2*z^3, x*z^4, y*z^4, z^5, x^4, x^3*y, x^2*y^2, x*y^3, y^4, x^3*z, x^2*y*z, x*y^2*z, y^3*z, x^2*z^2, x*y*z^2, y^2*z^2, x*z^3, y*z^3, z^4, x^3, x^2*y, x*y^2, y^3, x^2*z, x*y*z, y^2*z, x*z^2, y*z^2, z^3, x^2, x*y, y^2, x*z, y*z, z^2, x, y, z, 1]\n",
      "[x^9, x^8*y, x^7*y^2, x^6*y^3, x^5*y^4, x^4*y^5, x^3*y^6, x^2*y^7, x*y^8, y^9, x^8*z, x^7*y*z, x^6*y^2*z, x^5*y^3*z, x^4*y^4*z, x^3*y^5*z, x^2*y^6*z, x*y^7*z, y^8*z, x^7*z^2, x^6*y*z^2, x^5*y^2*z^2, x^4*y^3*z^2, x^3*y^4*z^2, x^2*y^5*z^2, x*y^6*z^2, y^7*z^2, x^6*z^3, x^5*y*z^3, x^4*y^2*z^3, x^3*y^3*z^3, x^2*y^4*z^3, x*y^5*z^3, y^6*z^3, x^5*z^4, x^4*y*z^4, x^3*y^2*z^4, x^2*y^3*z^4, x*y^4*z^4, y^5*z^4, x^4*z^5, x^3*y*z^5, x^2*y^2*z^5, x*y^3*z^5, y^4*z^5, x^3*z^6, x^2*y*z^6, x*y^2*z^6, y^3*z^6, x^2*z^7, x*y*z^7, y^2*z^7, x*z^8, y*z^8, z^9, x^8, x^7*y, x^6*y^2, x^5*y^3, x^4*y^4, x^3*y^5, x^2*y^6, x*y^7, y^8, x^7*z, x^6*y*z, x^5*y^2*z, x^4*y^3*z, x^3*y^4*z, x^2*y^5*z, x*y^6*z, y^7*z, x^6*z^2, x^5*y*z^2, x^4*y^2*z^2, x^3*y^3*z^2, x^2*y^4*z^2, x*y^5*z^2, y^6*z^2, x^5*z^3, x^4*y*z^3, x^3*y^2*z^3, x^2*y^3*z^3, x*y^4*z^3, y^5*z^3, x^4*z^4, x^3*y*z^4, x^2*y^2*z^4, x*y^3*z^4, y^4*z^4, x^3*z^5, x^2*y*z^5, x*y^2*z^5, y^3*z^5, x^2*z^6, x*y*z^6, y^2*z^6, x*z^7, y*z^7, z^8, x^7, x^6*y, x^5*y^2, x^4*y^3, x^3*y^4, x^2*y^5, x*y^6, y^7, x^6*z, x^5*y*z, x^4*y^2*z, x^3*y^3*z, x^2*y^4*z, x*y^5*z, y^6*z, x^5*z^2, x^4*y*z^2, x^3*y^2*z^2, x^2*y^3*z^2, x*y^4*z^2, y^5*z^2, x^4*z^3, x^3*y*z^3, x^2*y^2*z^3, x*y^3*z^3, y^4*z^3, x^3*z^4, x^2*y*z^4, x*y^2*z^4, y^3*z^4, x^2*z^5, x*y*z^5, y^2*z^5, x*z^6, y*z^6, z^7, x^6, x^5*y, x^4*y^2, x^3*y^3, x^2*y^4, x*y^5, y^6, x^5*z, x^4*y*z, x^3*y^2*z, x^2*y^3*z, x*y^4*z, y^5*z, x^4*z^2, x^3*y*z^2, x^2*y^2*z^2, x*y^3*z^2, y^4*z^2, x^3*z^3, x^2*y*z^3, x*y^2*z^3, y^3*z^3, x^2*z^4, x*y*z^4, y^2*z^4, x*z^5, y*z^5, z^6, x^5, x^4*y, x^3*y^2, x^2*y^3, x*y^4, y^5, x^4*z, x^3*y*z, x^2*y^2*z, x*y^3*z, y^4*z, x^3*z^2, x^2*y*z^2, x*y^2*z^2, y^3*z^2, x^2*z^3, x*y*z^3, y^2*z^3, x*z^4, y*z^4, z^5, x^4, x^3*y, x^2*y^2, x*y^3, y^4, x^3*z, x^2*y*z, x*y^2*z, y^3*z, x^2*z^2, x*y*z^2, y^2*z^2, x*z^3, y*z^3, z^4, x^3, x^2*y, x*y^2, y^3, x^2*z, x*y*z, y^2*z, x*z^2, y*z^2, z^3, x^2, x*y, y^2, x*z, y*z, z^2, x, y, z, 1]\n",
      "[x^10, x^9*y, x^8*y^2, x^7*y^3, x^6*y^4, x^5*y^5, x^4*y^6, x^3*y^7, x^2*y^8, x*y^9, y^10, x^9*z, x^8*y*z, x^7*y^2*z, x^6*y^3*z, x^5*y^4*z, x^4*y^5*z, x^3*y^6*z, x^2*y^7*z, x*y^8*z, y^9*z, x^8*z^2, x^7*y*z^2, x^6*y^2*z^2, x^5*y^3*z^2, x^4*y^4*z^2, x^3*y^5*z^2, x^2*y^6*z^2, x*y^7*z^2, y^8*z^2, x^7*z^3, x^6*y*z^3, x^5*y^2*z^3, x^4*y^3*z^3, x^3*y^4*z^3, x^2*y^5*z^3, x*y^6*z^3, y^7*z^3, x^6*z^4, x^5*y*z^4, x^4*y^2*z^4, x^3*y^3*z^4, x^2*y^4*z^4, x*y^5*z^4, y^6*z^4, x^5*z^5, x^4*y*z^5, x^3*y^2*z^5, x^2*y^3*z^5, x*y^4*z^5, y^5*z^5, x^4*z^6, x^3*y*z^6, x^2*y^2*z^6, x*y^3*z^6, y^4*z^6, x^3*z^7, x^2*y*z^7, x*y^2*z^7, y^3*z^7, x^2*z^8, x*y*z^8, y^2*z^8, x*z^9, y*z^9, z^10, x^9, x^8*y, x^7*y^2, x^6*y^3, x^5*y^4, x^4*y^5, x^3*y^6, x^2*y^7, x*y^8, y^9, x^8*z, x^7*y*z, x^6*y^2*z, x^5*y^3*z, x^4*y^4*z, x^3*y^5*z, x^2*y^6*z, x*y^7*z, y^8*z, x^7*z^2, x^6*y*z^2, x^5*y^2*z^2, x^4*y^3*z^2, x^3*y^4*z^2, x^2*y^5*z^2, x*y^6*z^2, y^7*z^2, x^6*z^3, x^5*y*z^3, x^4*y^2*z^3, x^3*y^3*z^3, x^2*y^4*z^3, x*y^5*z^3, y^6*z^3, x^5*z^4, x^4*y*z^4, x^3*y^2*z^4, x^2*y^3*z^4, x*y^4*z^4, y^5*z^4, x^4*z^5, x^3*y*z^5, x^2*y^2*z^5, x*y^3*z^5, y^4*z^5, x^3*z^6, x^2*y*z^6, x*y^2*z^6, y^3*z^6, x^2*z^7, x*y*z^7, y^2*z^7, x*z^8, y*z^8, z^9, x^8, x^7*y, x^6*y^2, x^5*y^3, x^4*y^4, x^3*y^5, x^2*y^6, x*y^7, y^8, x^7*z, x^6*y*z, x^5*y^2*z, x^4*y^3*z, x^3*y^4*z, x^2*y^5*z, x*y^6*z, y^7*z, x^6*z^2, x^5*y*z^2, x^4*y^2*z^2, x^3*y^3*z^2, x^2*y^4*z^2, x*y^5*z^2, y^6*z^2, x^5*z^3, x^4*y*z^3, x^3*y^2*z^3, x^2*y^3*z^3, x*y^4*z^3, y^5*z^3, x^4*z^4, x^3*y*z^4, x^2*y^2*z^4, x*y^3*z^4, y^4*z^4, x^3*z^5, x^2*y*z^5, x*y^2*z^5, y^3*z^5, x^2*z^6, x*y*z^6, y^2*z^6, x*z^7, y*z^7, z^8, x^7, x^6*y, x^5*y^2, x^4*y^3, x^3*y^4, x^2*y^5, x*y^6, y^7, x^6*z, x^5*y*z, x^4*y^2*z, x^3*y^3*z, x^2*y^4*z, x*y^5*z, y^6*z, x^5*z^2, x^4*y*z^2, x^3*y^2*z^2, x^2*y^3*z^2, x*y^4*z^2, y^5*z^2, x^4*z^3, x^3*y*z^3, x^2*y^2*z^3, x*y^3*z^3, y^4*z^3, x^3*z^4, x^2*y*z^4, x*y^2*z^4, y^3*z^4, x^2*z^5, x*y*z^5, y^2*z^5, x*z^6, y*z^6, z^7, x^6, x^5*y, x^4*y^2, x^3*y^3, x^2*y^4, x*y^5, y^6, x^5*z, x^4*y*z, x^3*y^2*z, x^2*y^3*z, x*y^4*z, y^5*z, x^4*z^2, x^3*y*z^2, x^2*y^2*z^2, x*y^3*z^2, y^4*z^2, x^3*z^3, x^2*y*z^3, x*y^2*z^3, y^3*z^3, x^2*z^4, x*y*z^4, y^2*z^4, x*z^5, y*z^5, z^6, x^5, x^4*y, x^3*y^2, x^2*y^3, x*y^4, y^5, x^4*z, x^3*y*z, x^2*y^2*z, x*y^3*z, y^4*z, x^3*z^2, x^2*y*z^2, x*y^2*z^2, y^3*z^2, x^2*z^3, x*y*z^3, y^2*z^3, x*z^4, y*z^4, z^5, x^4, x^3*y, x^2*y^2, x*y^3, y^4, x^3*z, x^2*y*z, x*y^2*z, y^3*z, x^2*z^2, x*y*z^2, y^2*z^2, x*z^3, y*z^3, z^4, x^3, x^2*y, x*y^2, y^3, x^2*z, x*y*z, y^2*z, x*z^2, y*z^2, z^3, x^2, x*y, y^2, x*z, y*z, z^2, x, y, z, 1]\n",
      "[x^11, x^10*y, x^9*y^2, x^8*y^3, x^7*y^4, x^6*y^5, x^5*y^6, x^4*y^7, x^3*y^8, x^2*y^9, x*y^10, y^11, x^10*z, x^9*y*z, x^8*y^2*z, x^7*y^3*z, x^6*y^4*z, x^5*y^5*z, x^4*y^6*z, x^3*y^7*z, x^2*y^8*z, x*y^9*z, y^10*z, x^9*z^2, x^8*y*z^2, x^7*y^2*z^2, x^6*y^3*z^2, x^5*y^4*z^2, x^4*y^5*z^2, x^3*y^6*z^2, x^2*y^7*z^2, x*y^8*z^2, y^9*z^2, x^8*z^3, x^7*y*z^3, x^6*y^2*z^3, x^5*y^3*z^3, x^4*y^4*z^3, x^3*y^5*z^3, x^2*y^6*z^3, x*y^7*z^3, y^8*z^3, x^7*z^4, x^6*y*z^4, x^5*y^2*z^4, x^4*y^3*z^4, x^3*y^4*z^4, x^2*y^5*z^4, x*y^6*z^4, y^7*z^4, x^6*z^5, x^5*y*z^5, x^4*y^2*z^5, x^3*y^3*z^5, x^2*y^4*z^5, x*y^5*z^5, y^6*z^5, x^5*z^6, x^4*y*z^6, x^3*y^2*z^6, x^2*y^3*z^6, x*y^4*z^6, y^5*z^6, x^4*z^7, x^3*y*z^7, x^2*y^2*z^7, x*y^3*z^7, y^4*z^7, x^3*z^8, x^2*y*z^8, x*y^2*z^8, y^3*z^8, x^2*z^9, x*y*z^9, y^2*z^9, x*z^10, y*z^10, z^11, x^10, x^9*y, x^8*y^2, x^7*y^3, x^6*y^4, x^5*y^5, x^4*y^6, x^3*y^7, x^2*y^8, x*y^9, y^10, x^9*z, x^8*y*z, x^7*y^2*z, x^6*y^3*z, x^5*y^4*z, x^4*y^5*z, x^3*y^6*z, x^2*y^7*z, x*y^8*z, y^9*z, x^8*z^2, x^7*y*z^2, x^6*y^2*z^2, x^5*y^3*z^2, x^4*y^4*z^2, x^3*y^5*z^2, x^2*y^6*z^2, x*y^7*z^2, y^8*z^2, x^7*z^3, x^6*y*z^3, x^5*y^2*z^3, x^4*y^3*z^3, x^3*y^4*z^3, x^2*y^5*z^3, x*y^6*z^3, y^7*z^3, x^6*z^4, x^5*y*z^4, x^4*y^2*z^4, x^3*y^3*z^4, x^2*y^4*z^4, x*y^5*z^4, y^6*z^4, x^5*z^5, x^4*y*z^5, x^3*y^2*z^5, x^2*y^3*z^5, x*y^4*z^5, y^5*z^5, x^4*z^6, x^3*y*z^6, x^2*y^2*z^6, x*y^3*z^6, y^4*z^6, x^3*z^7, x^2*y*z^7, x*y^2*z^7, y^3*z^7, x^2*z^8, x*y*z^8, y^2*z^8, x*z^9, y*z^9, z^10, x^9, x^8*y, x^7*y^2, x^6*y^3, x^5*y^4, x^4*y^5, x^3*y^6, x^2*y^7, x*y^8, y^9, x^8*z, x^7*y*z, x^6*y^2*z, x^5*y^3*z, x^4*y^4*z, x^3*y^5*z, x^2*y^6*z, x*y^7*z, y^8*z, x^7*z^2, x^6*y*z^2, x^5*y^2*z^2, x^4*y^3*z^2, x^3*y^4*z^2, x^2*y^5*z^2, x*y^6*z^2, y^7*z^2, x^6*z^3, x^5*y*z^3, x^4*y^2*z^3, x^3*y^3*z^3, x^2*y^4*z^3, x*y^5*z^3, y^6*z^3, x^5*z^4, x^4*y*z^4, x^3*y^2*z^4, x^2*y^3*z^4, x*y^4*z^4, y^5*z^4, x^4*z^5, x^3*y*z^5, x^2*y^2*z^5, x*y^3*z^5, y^4*z^5, x^3*z^6, x^2*y*z^6, x*y^2*z^6, y^3*z^6, x^2*z^7, x*y*z^7, y^2*z^7, x*z^8, y*z^8, z^9, x^8, x^7*y, x^6*y^2, x^5*y^3, x^4*y^4, x^3*y^5, x^2*y^6, x*y^7, y^8, x^7*z, x^6*y*z, x^5*y^2*z, x^4*y^3*z, x^3*y^4*z, x^2*y^5*z, x*y^6*z, y^7*z, x^6*z^2, x^5*y*z^2, x^4*y^2*z^2, x^3*y^3*z^2, x^2*y^4*z^2, x*y^5*z^2, y^6*z^2, x^5*z^3, x^4*y*z^3, x^3*y^2*z^3, x^2*y^3*z^3, x*y^4*z^3, y^5*z^3, x^4*z^4, x^3*y*z^4, x^2*y^2*z^4, x*y^3*z^4, y^4*z^4, x^3*z^5, x^2*y*z^5, x*y^2*z^5, y^3*z^5, x^2*z^6, x*y*z^6, y^2*z^6, x*z^7, y*z^7, z^8, x^7, x^6*y, x^5*y^2, x^4*y^3, x^3*y^4, x^2*y^5, x*y^6, y^7, x^6*z, x^5*y*z, x^4*y^2*z, x^3*y^3*z, x^2*y^4*z, x*y^5*z, y^6*z, x^5*z^2, x^4*y*z^2, x^3*y^2*z^2, x^2*y^3*z^2, x*y^4*z^2, y^5*z^2, x^4*z^3, x^3*y*z^3, x^2*y^2*z^3, x*y^3*z^3, y^4*z^3, x^3*z^4, x^2*y*z^4, x*y^2*z^4, y^3*z^4, x^2*z^5, x*y*z^5, y^2*z^5, x*z^6, y*z^6, z^7, x^6, x^5*y, x^4*y^2, x^3*y^3, x^2*y^4, x*y^5, y^6, x^5*z, x^4*y*z, x^3*y^2*z, x^2*y^3*z, x*y^4*z, y^5*z, x^4*z^2, x^3*y*z^2, x^2*y^2*z^2, x*y^3*z^2, y^4*z^2, x^3*z^3, x^2*y*z^3, x*y^2*z^3, y^3*z^3, x^2*z^4, x*y*z^4, y^2*z^4, x*z^5, y*z^5, z^6, x^5, x^4*y, x^3*y^2, x^2*y^3, x*y^4, y^5, x^4*z, x^3*y*z, x^2*y^2*z, x*y^3*z, y^4*z, x^3*z^2, x^2*y*z^2, x*y^2*z^2, y^3*z^2, x^2*z^3, x*y*z^3, y^2*z^3, x*z^4, y*z^4, z^5, x^4, x^3*y, x^2*y^2, x*y^3, y^4, x^3*z, x^2*y*z, x*y^2*z, y^3*z, x^2*z^2, x*y*z^2, y^2*z^2, x*z^3, y*z^3, z^4, x^3, x^2*y, x*y^2, y^3, x^2*z, x*y*z, y^2*z, x*z^2, y*z^2, z^3, x^2, x*y, y^2, x*z, y*z, z^2, x, y, z, 1]\n"
     ]
    },
    {
     "name": "stdout",
     "output_type": "stream",
     "text": [
      "[x^12, x^11*y, x^10*y^2, x^9*y^3, x^8*y^4, x^7*y^5, x^6*y^6, x^5*y^7, x^4*y^8, x^3*y^9, x^2*y^10, x*y^11, y^12, x^11*z, x^10*y*z, x^9*y^2*z, x^8*y^3*z, x^7*y^4*z, x^6*y^5*z, x^5*y^6*z, x^4*y^7*z, x^3*y^8*z, x^2*y^9*z, x*y^10*z, y^11*z, x^10*z^2, x^9*y*z^2, x^8*y^2*z^2, x^7*y^3*z^2, x^6*y^4*z^2, x^5*y^5*z^2, x^4*y^6*z^2, x^3*y^7*z^2, x^2*y^8*z^2, x*y^9*z^2, y^10*z^2, x^9*z^3, x^8*y*z^3, x^7*y^2*z^3, x^6*y^3*z^3, x^5*y^4*z^3, x^4*y^5*z^3, x^3*y^6*z^3, x^2*y^7*z^3, x*y^8*z^3, y^9*z^3, x^8*z^4, x^7*y*z^4, x^6*y^2*z^4, x^5*y^3*z^4, x^4*y^4*z^4, x^3*y^5*z^4, x^2*y^6*z^4, x*y^7*z^4, y^8*z^4, x^7*z^5, x^6*y*z^5, x^5*y^2*z^5, x^4*y^3*z^5, x^3*y^4*z^5, x^2*y^5*z^5, x*y^6*z^5, y^7*z^5, x^6*z^6, x^5*y*z^6, x^4*y^2*z^6, x^3*y^3*z^6, x^2*y^4*z^6, x*y^5*z^6, y^6*z^6, x^5*z^7, x^4*y*z^7, x^3*y^2*z^7, x^2*y^3*z^7, x*y^4*z^7, y^5*z^7, x^4*z^8, x^3*y*z^8, x^2*y^2*z^8, x*y^3*z^8, y^4*z^8, x^3*z^9, x^2*y*z^9, x*y^2*z^9, y^3*z^9, x^2*z^10, x*y*z^10, y^2*z^10, x*z^11, y*z^11, z^12, x^11, x^10*y, x^9*y^2, x^8*y^3, x^7*y^4, x^6*y^5, x^5*y^6, x^4*y^7, x^3*y^8, x^2*y^9, x*y^10, y^11, x^10*z, x^9*y*z, x^8*y^2*z, x^7*y^3*z, x^6*y^4*z, x^5*y^5*z, x^4*y^6*z, x^3*y^7*z, x^2*y^8*z, x*y^9*z, y^10*z, x^9*z^2, x^8*y*z^2, x^7*y^2*z^2, x^6*y^3*z^2, x^5*y^4*z^2, x^4*y^5*z^2, x^3*y^6*z^2, x^2*y^7*z^2, x*y^8*z^2, y^9*z^2, x^8*z^3, x^7*y*z^3, x^6*y^2*z^3, x^5*y^3*z^3, x^4*y^4*z^3, x^3*y^5*z^3, x^2*y^6*z^3, x*y^7*z^3, y^8*z^3, x^7*z^4, x^6*y*z^4, x^5*y^2*z^4, x^4*y^3*z^4, x^3*y^4*z^4, x^2*y^5*z^4, x*y^6*z^4, y^7*z^4, x^6*z^5, x^5*y*z^5, x^4*y^2*z^5, x^3*y^3*z^5, x^2*y^4*z^5, x*y^5*z^5, y^6*z^5, x^5*z^6, x^4*y*z^6, x^3*y^2*z^6, x^2*y^3*z^6, x*y^4*z^6, y^5*z^6, x^4*z^7, x^3*y*z^7, x^2*y^2*z^7, x*y^3*z^7, y^4*z^7, x^3*z^8, x^2*y*z^8, x*y^2*z^8, y^3*z^8, x^2*z^9, x*y*z^9, y^2*z^9, x*z^10, y*z^10, z^11, x^10, x^9*y, x^8*y^2, x^7*y^3, x^6*y^4, x^5*y^5, x^4*y^6, x^3*y^7, x^2*y^8, x*y^9, y^10, x^9*z, x^8*y*z, x^7*y^2*z, x^6*y^3*z, x^5*y^4*z, x^4*y^5*z, x^3*y^6*z, x^2*y^7*z, x*y^8*z, y^9*z, x^8*z^2, x^7*y*z^2, x^6*y^2*z^2, x^5*y^3*z^2, x^4*y^4*z^2, x^3*y^5*z^2, x^2*y^6*z^2, x*y^7*z^2, y^8*z^2, x^7*z^3, x^6*y*z^3, x^5*y^2*z^3, x^4*y^3*z^3, x^3*y^4*z^3, x^2*y^5*z^3, x*y^6*z^3, y^7*z^3, x^6*z^4, x^5*y*z^4, x^4*y^2*z^4, x^3*y^3*z^4, x^2*y^4*z^4, x*y^5*z^4, y^6*z^4, x^5*z^5, x^4*y*z^5, x^3*y^2*z^5, x^2*y^3*z^5, x*y^4*z^5, y^5*z^5, x^4*z^6, x^3*y*z^6, x^2*y^2*z^6, x*y^3*z^6, y^4*z^6, x^3*z^7, x^2*y*z^7, x*y^2*z^7, y^3*z^7, x^2*z^8, x*y*z^8, y^2*z^8, x*z^9, y*z^9, z^10, x^9, x^8*y, x^7*y^2, x^6*y^3, x^5*y^4, x^4*y^5, x^3*y^6, x^2*y^7, x*y^8, y^9, x^8*z, x^7*y*z, x^6*y^2*z, x^5*y^3*z, x^4*y^4*z, x^3*y^5*z, x^2*y^6*z, x*y^7*z, y^8*z, x^7*z^2, x^6*y*z^2, x^5*y^2*z^2, x^4*y^3*z^2, x^3*y^4*z^2, x^2*y^5*z^2, x*y^6*z^2, y^7*z^2, x^6*z^3, x^5*y*z^3, x^4*y^2*z^3, x^3*y^3*z^3, x^2*y^4*z^3, x*y^5*z^3, y^6*z^3, x^5*z^4, x^4*y*z^4, x^3*y^2*z^4, x^2*y^3*z^4, x*y^4*z^4, y^5*z^4, x^4*z^5, x^3*y*z^5, x^2*y^2*z^5, x*y^3*z^5, y^4*z^5, x^3*z^6, x^2*y*z^6, x*y^2*z^6, y^3*z^6, x^2*z^7, x*y*z^7, y^2*z^7, x*z^8, y*z^8, z^9, x^8, x^7*y, x^6*y^2, x^5*y^3, x^4*y^4, x^3*y^5, x^2*y^6, x*y^7, y^8, x^7*z, x^6*y*z, x^5*y^2*z, x^4*y^3*z, x^3*y^4*z, x^2*y^5*z, x*y^6*z, y^7*z, x^6*z^2, x^5*y*z^2, x^4*y^2*z^2, x^3*y^3*z^2, x^2*y^4*z^2, x*y^5*z^2, y^6*z^2, x^5*z^3, x^4*y*z^3, x^3*y^2*z^3, x^2*y^3*z^3, x*y^4*z^3, y^5*z^3, x^4*z^4, x^3*y*z^4, x^2*y^2*z^4, x*y^3*z^4, y^4*z^4, x^3*z^5, x^2*y*z^5, x*y^2*z^5, y^3*z^5, x^2*z^6, x*y*z^6, y^2*z^6, x*z^7, y*z^7, z^8, x^7, x^6*y, x^5*y^2, x^4*y^3, x^3*y^4, x^2*y^5, x*y^6, y^7, x^6*z, x^5*y*z, x^4*y^2*z, x^3*y^3*z, x^2*y^4*z, x*y^5*z, y^6*z, x^5*z^2, x^4*y*z^2, x^3*y^2*z^2, x^2*y^3*z^2, x*y^4*z^2, y^5*z^2, x^4*z^3, x^3*y*z^3, x^2*y^2*z^3, x*y^3*z^3, y^4*z^3, x^3*z^4, x^2*y*z^4, x*y^2*z^4, y^3*z^4, x^2*z^5, x*y*z^5, y^2*z^5, x*z^6, y*z^6, z^7, x^6, x^5*y, x^4*y^2, x^3*y^3, x^2*y^4, x*y^5, y^6, x^5*z, x^4*y*z, x^3*y^2*z, x^2*y^3*z, x*y^4*z, y^5*z, x^4*z^2, x^3*y*z^2, x^2*y^2*z^2, x*y^3*z^2, y^4*z^2, x^3*z^3, x^2*y*z^3, x*y^2*z^3, y^3*z^3, x^2*z^4, x*y*z^4, y^2*z^4, x*z^5, y*z^5, z^6, x^5, x^4*y, x^3*y^2, x^2*y^3, x*y^4, y^5, x^4*z, x^3*y*z, x^2*y^2*z, x*y^3*z, y^4*z, x^3*z^2, x^2*y*z^2, x*y^2*z^2, y^3*z^2, x^2*z^3, x*y*z^3, y^2*z^3, x*z^4, y*z^4, z^5, x^4, x^3*y, x^2*y^2, x*y^3, y^4, x^3*z, x^2*y*z, x*y^2*z, y^3*z, x^2*z^2, x*y*z^2, y^2*z^2, x*z^3, y*z^3, z^4, x^3, x^2*y, x*y^2, y^3, x^2*z, x*y*z, y^2*z, x*z^2, y*z^2, z^3, x^2, x*y, y^2, x*z, y*z, z^2, x, y, z, 1]\n",
      "[x^13, x^12*y, x^11*y^2, x^10*y^3, x^9*y^4, x^8*y^5, x^7*y^6, x^6*y^7, x^5*y^8, x^4*y^9, x^3*y^10, x^2*y^11, x*y^12, y^13, x^12*z, x^11*y*z, x^10*y^2*z, x^9*y^3*z, x^8*y^4*z, x^7*y^5*z, x^6*y^6*z, x^5*y^7*z, x^4*y^8*z, x^3*y^9*z, x^2*y^10*z, x*y^11*z, y^12*z, x^11*z^2, x^10*y*z^2, x^9*y^2*z^2, x^8*y^3*z^2, x^7*y^4*z^2, x^6*y^5*z^2, x^5*y^6*z^2, x^4*y^7*z^2, x^3*y^8*z^2, x^2*y^9*z^2, x*y^10*z^2, y^11*z^2, x^10*z^3, x^9*y*z^3, x^8*y^2*z^3, x^7*y^3*z^3, x^6*y^4*z^3, x^5*y^5*z^3, x^4*y^6*z^3, x^3*y^7*z^3, x^2*y^8*z^3, x*y^9*z^3, y^10*z^3, x^9*z^4, x^8*y*z^4, x^7*y^2*z^4, x^6*y^3*z^4, x^5*y^4*z^4, x^4*y^5*z^4, x^3*y^6*z^4, x^2*y^7*z^4, x*y^8*z^4, y^9*z^4, x^8*z^5, x^7*y*z^5, x^6*y^2*z^5, x^5*y^3*z^5, x^4*y^4*z^5, x^3*y^5*z^5, x^2*y^6*z^5, x*y^7*z^5, y^8*z^5, x^7*z^6, x^6*y*z^6, x^5*y^2*z^6, x^4*y^3*z^6, x^3*y^4*z^6, x^2*y^5*z^6, x*y^6*z^6, y^7*z^6, x^6*z^7, x^5*y*z^7, x^4*y^2*z^7, x^3*y^3*z^7, x^2*y^4*z^7, x*y^5*z^7, y^6*z^7, x^5*z^8, x^4*y*z^8, x^3*y^2*z^8, x^2*y^3*z^8, x*y^4*z^8, y^5*z^8, x^4*z^9, x^3*y*z^9, x^2*y^2*z^9, x*y^3*z^9, y^4*z^9, x^3*z^10, x^2*y*z^10, x*y^2*z^10, y^3*z^10, x^2*z^11, x*y*z^11, y^2*z^11, x*z^12, y*z^12, z^13, x^12, x^11*y, x^10*y^2, x^9*y^3, x^8*y^4, x^7*y^5, x^6*y^6, x^5*y^7, x^4*y^8, x^3*y^9, x^2*y^10, x*y^11, y^12, x^11*z, x^10*y*z, x^9*y^2*z, x^8*y^3*z, x^7*y^4*z, x^6*y^5*z, x^5*y^6*z, x^4*y^7*z, x^3*y^8*z, x^2*y^9*z, x*y^10*z, y^11*z, x^10*z^2, x^9*y*z^2, x^8*y^2*z^2, x^7*y^3*z^2, x^6*y^4*z^2, x^5*y^5*z^2, x^4*y^6*z^2, x^3*y^7*z^2, x^2*y^8*z^2, x*y^9*z^2, y^10*z^2, x^9*z^3, x^8*y*z^3, x^7*y^2*z^3, x^6*y^3*z^3, x^5*y^4*z^3, x^4*y^5*z^3, x^3*y^6*z^3, x^2*y^7*z^3, x*y^8*z^3, y^9*z^3, x^8*z^4, x^7*y*z^4, x^6*y^2*z^4, x^5*y^3*z^4, x^4*y^4*z^4, x^3*y^5*z^4, x^2*y^6*z^4, x*y^7*z^4, y^8*z^4, x^7*z^5, x^6*y*z^5, x^5*y^2*z^5, x^4*y^3*z^5, x^3*y^4*z^5, x^2*y^5*z^5, x*y^6*z^5, y^7*z^5, x^6*z^6, x^5*y*z^6, x^4*y^2*z^6, x^3*y^3*z^6, x^2*y^4*z^6, x*y^5*z^6, y^6*z^6, x^5*z^7, x^4*y*z^7, x^3*y^2*z^7, x^2*y^3*z^7, x*y^4*z^7, y^5*z^7, x^4*z^8, x^3*y*z^8, x^2*y^2*z^8, x*y^3*z^8, y^4*z^8, x^3*z^9, x^2*y*z^9, x*y^2*z^9, y^3*z^9, x^2*z^10, x*y*z^10, y^2*z^10, x*z^11, y*z^11, z^12, x^11, x^10*y, x^9*y^2, x^8*y^3, x^7*y^4, x^6*y^5, x^5*y^6, x^4*y^7, x^3*y^8, x^2*y^9, x*y^10, y^11, x^10*z, x^9*y*z, x^8*y^2*z, x^7*y^3*z, x^6*y^4*z, x^5*y^5*z, x^4*y^6*z, x^3*y^7*z, x^2*y^8*z, x*y^9*z, y^10*z, x^9*z^2, x^8*y*z^2, x^7*y^2*z^2, x^6*y^3*z^2, x^5*y^4*z^2, x^4*y^5*z^2, x^3*y^6*z^2, x^2*y^7*z^2, x*y^8*z^2, y^9*z^2, x^8*z^3, x^7*y*z^3, x^6*y^2*z^3, x^5*y^3*z^3, x^4*y^4*z^3, x^3*y^5*z^3, x^2*y^6*z^3, x*y^7*z^3, y^8*z^3, x^7*z^4, x^6*y*z^4, x^5*y^2*z^4, x^4*y^3*z^4, x^3*y^4*z^4, x^2*y^5*z^4, x*y^6*z^4, y^7*z^4, x^6*z^5, x^5*y*z^5, x^4*y^2*z^5, x^3*y^3*z^5, x^2*y^4*z^5, x*y^5*z^5, y^6*z^5, x^5*z^6, x^4*y*z^6, x^3*y^2*z^6, x^2*y^3*z^6, x*y^4*z^6, y^5*z^6, x^4*z^7, x^3*y*z^7, x^2*y^2*z^7, x*y^3*z^7, y^4*z^7, x^3*z^8, x^2*y*z^8, x*y^2*z^8, y^3*z^8, x^2*z^9, x*y*z^9, y^2*z^9, x*z^10, y*z^10, z^11, x^10, x^9*y, x^8*y^2, x^7*y^3, x^6*y^4, x^5*y^5, x^4*y^6, x^3*y^7, x^2*y^8, x*y^9, y^10, x^9*z, x^8*y*z, x^7*y^2*z, x^6*y^3*z, x^5*y^4*z, x^4*y^5*z, x^3*y^6*z, x^2*y^7*z, x*y^8*z, y^9*z, x^8*z^2, x^7*y*z^2, x^6*y^2*z^2, x^5*y^3*z^2, x^4*y^4*z^2, x^3*y^5*z^2, x^2*y^6*z^2, x*y^7*z^2, y^8*z^2, x^7*z^3, x^6*y*z^3, x^5*y^2*z^3, x^4*y^3*z^3, x^3*y^4*z^3, x^2*y^5*z^3, x*y^6*z^3, y^7*z^3, x^6*z^4, x^5*y*z^4, x^4*y^2*z^4, x^3*y^3*z^4, x^2*y^4*z^4, x*y^5*z^4, y^6*z^4, x^5*z^5, x^4*y*z^5, x^3*y^2*z^5, x^2*y^3*z^5, x*y^4*z^5, y^5*z^5, x^4*z^6, x^3*y*z^6, x^2*y^2*z^6, x*y^3*z^6, y^4*z^6, x^3*z^7, x^2*y*z^7, x*y^2*z^7, y^3*z^7, x^2*z^8, x*y*z^8, y^2*z^8, x*z^9, y*z^9, z^10, x^9, x^8*y, x^7*y^2, x^6*y^3, x^5*y^4, x^4*y^5, x^3*y^6, x^2*y^7, x*y^8, y^9, x^8*z, x^7*y*z, x^6*y^2*z, x^5*y^3*z, x^4*y^4*z, x^3*y^5*z, x^2*y^6*z, x*y^7*z, y^8*z, x^7*z^2, x^6*y*z^2, x^5*y^2*z^2, x^4*y^3*z^2, x^3*y^4*z^2, x^2*y^5*z^2, x*y^6*z^2, y^7*z^2, x^6*z^3, x^5*y*z^3, x^4*y^2*z^3, x^3*y^3*z^3, x^2*y^4*z^3, x*y^5*z^3, y^6*z^3, x^5*z^4, x^4*y*z^4, x^3*y^2*z^4, x^2*y^3*z^4, x*y^4*z^4, y^5*z^4, x^4*z^5, x^3*y*z^5, x^2*y^2*z^5, x*y^3*z^5, y^4*z^5, x^3*z^6, x^2*y*z^6, x*y^2*z^6, y^3*z^6, x^2*z^7, x*y*z^7, y^2*z^7, x*z^8, y*z^8, z^9, x^8, x^7*y, x^6*y^2, x^5*y^3, x^4*y^4, x^3*y^5, x^2*y^6, x*y^7, y^8, x^7*z, x^6*y*z, x^5*y^2*z, x^4*y^3*z, x^3*y^4*z, x^2*y^5*z, x*y^6*z, y^7*z, x^6*z^2, x^5*y*z^2, x^4*y^2*z^2, x^3*y^3*z^2, x^2*y^4*z^2, x*y^5*z^2, y^6*z^2, x^5*z^3, x^4*y*z^3, x^3*y^2*z^3, x^2*y^3*z^3, x*y^4*z^3, y^5*z^3, x^4*z^4, x^3*y*z^4, x^2*y^2*z^4, x*y^3*z^4, y^4*z^4, x^3*z^5, x^2*y*z^5, x*y^2*z^5, y^3*z^5, x^2*z^6, x*y*z^6, y^2*z^6, x*z^7, y*z^7, z^8, x^7, x^6*y, x^5*y^2, x^4*y^3, x^3*y^4, x^2*y^5, x*y^6, y^7, x^6*z, x^5*y*z, x^4*y^2*z, x^3*y^3*z, x^2*y^4*z, x*y^5*z, y^6*z, x^5*z^2, x^4*y*z^2, x^3*y^2*z^2, x^2*y^3*z^2, x*y^4*z^2, y^5*z^2, x^4*z^3, x^3*y*z^3, x^2*y^2*z^3, x*y^3*z^3, y^4*z^3, x^3*z^4, x^2*y*z^4, x*y^2*z^4, y^3*z^4, x^2*z^5, x*y*z^5, y^2*z^5, x*z^6, y*z^6, z^7, x^6, x^5*y, x^4*y^2, x^3*y^3, x^2*y^4, x*y^5, y^6, x^5*z, x^4*y*z, x^3*y^2*z, x^2*y^3*z, x*y^4*z, y^5*z, x^4*z^2, x^3*y*z^2, x^2*y^2*z^2, x*y^3*z^2, y^4*z^2, x^3*z^3, x^2*y*z^3, x*y^2*z^3, y^3*z^3, x^2*z^4, x*y*z^4, y^2*z^4, x*z^5, y*z^5, z^6, x^5, x^4*y, x^3*y^2, x^2*y^3, x*y^4, y^5, x^4*z, x^3*y*z, x^2*y^2*z, x*y^3*z, y^4*z, x^3*z^2, x^2*y*z^2, x*y^2*z^2, y^3*z^2, x^2*z^3, x*y*z^3, y^2*z^3, x*z^4, y*z^4, z^5, x^4, x^3*y, x^2*y^2, x*y^3, y^4, x^3*z, x^2*y*z, x*y^2*z, y^3*z, x^2*z^2, x*y*z^2, y^2*z^2, x*z^3, y*z^3, z^4, x^3, x^2*y, x*y^2, y^3, x^2*z, x*y*z, y^2*z, x*z^2, y*z^2, z^3, x^2, x*y, y^2, x*z, y*z, z^2, x, y, z, 1]\n"
     ]
    },
    {
     "name": "stdout",
     "output_type": "stream",
     "text": [
      "[x^14, x^13*y, x^12*y^2, x^11*y^3, x^10*y^4, x^9*y^5, x^8*y^6, x^7*y^7, x^6*y^8, x^5*y^9, x^4*y^10, x^3*y^11, x^2*y^12, x*y^13, y^14, x^13*z, x^12*y*z, x^11*y^2*z, x^10*y^3*z, x^9*y^4*z, x^8*y^5*z, x^7*y^6*z, x^6*y^7*z, x^5*y^8*z, x^4*y^9*z, x^3*y^10*z, x^2*y^11*z, x*y^12*z, y^13*z, x^12*z^2, x^11*y*z^2, x^10*y^2*z^2, x^9*y^3*z^2, x^8*y^4*z^2, x^7*y^5*z^2, x^6*y^6*z^2, x^5*y^7*z^2, x^4*y^8*z^2, x^3*y^9*z^2, x^2*y^10*z^2, x*y^11*z^2, y^12*z^2, x^11*z^3, x^10*y*z^3, x^9*y^2*z^3, x^8*y^3*z^3, x^7*y^4*z^3, x^6*y^5*z^3, x^5*y^6*z^3, x^4*y^7*z^3, x^3*y^8*z^3, x^2*y^9*z^3, x*y^10*z^3, y^11*z^3, x^10*z^4, x^9*y*z^4, x^8*y^2*z^4, x^7*y^3*z^4, x^6*y^4*z^4, x^5*y^5*z^4, x^4*y^6*z^4, x^3*y^7*z^4, x^2*y^8*z^4, x*y^9*z^4, y^10*z^4, x^9*z^5, x^8*y*z^5, x^7*y^2*z^5, x^6*y^3*z^5, x^5*y^4*z^5, x^4*y^5*z^5, x^3*y^6*z^5, x^2*y^7*z^5, x*y^8*z^5, y^9*z^5, x^8*z^6, x^7*y*z^6, x^6*y^2*z^6, x^5*y^3*z^6, x^4*y^4*z^6, x^3*y^5*z^6, x^2*y^6*z^6, x*y^7*z^6, y^8*z^6, x^7*z^7, x^6*y*z^7, x^5*y^2*z^7, x^4*y^3*z^7, x^3*y^4*z^7, x^2*y^5*z^7, x*y^6*z^7, y^7*z^7, x^6*z^8, x^5*y*z^8, x^4*y^2*z^8, x^3*y^3*z^8, x^2*y^4*z^8, x*y^5*z^8, y^6*z^8, x^5*z^9, x^4*y*z^9, x^3*y^2*z^9, x^2*y^3*z^9, x*y^4*z^9, y^5*z^9, x^4*z^10, x^3*y*z^10, x^2*y^2*z^10, x*y^3*z^10, y^4*z^10, x^3*z^11, x^2*y*z^11, x*y^2*z^11, y^3*z^11, x^2*z^12, x*y*z^12, y^2*z^12, x*z^13, y*z^13, z^14, x^13, x^12*y, x^11*y^2, x^10*y^3, x^9*y^4, x^8*y^5, x^7*y^6, x^6*y^7, x^5*y^8, x^4*y^9, x^3*y^10, x^2*y^11, x*y^12, y^13, x^12*z, x^11*y*z, x^10*y^2*z, x^9*y^3*z, x^8*y^4*z, x^7*y^5*z, x^6*y^6*z, x^5*y^7*z, x^4*y^8*z, x^3*y^9*z, x^2*y^10*z, x*y^11*z, y^12*z, x^11*z^2, x^10*y*z^2, x^9*y^2*z^2, x^8*y^3*z^2, x^7*y^4*z^2, x^6*y^5*z^2, x^5*y^6*z^2, x^4*y^7*z^2, x^3*y^8*z^2, x^2*y^9*z^2, x*y^10*z^2, y^11*z^2, x^10*z^3, x^9*y*z^3, x^8*y^2*z^3, x^7*y^3*z^3, x^6*y^4*z^3, x^5*y^5*z^3, x^4*y^6*z^3, x^3*y^7*z^3, x^2*y^8*z^3, x*y^9*z^3, y^10*z^3, x^9*z^4, x^8*y*z^4, x^7*y^2*z^4, x^6*y^3*z^4, x^5*y^4*z^4, x^4*y^5*z^4, x^3*y^6*z^4, x^2*y^7*z^4, x*y^8*z^4, y^9*z^4, x^8*z^5, x^7*y*z^5, x^6*y^2*z^5, x^5*y^3*z^5, x^4*y^4*z^5, x^3*y^5*z^5, x^2*y^6*z^5, x*y^7*z^5, y^8*z^5, x^7*z^6, x^6*y*z^6, x^5*y^2*z^6, x^4*y^3*z^6, x^3*y^4*z^6, x^2*y^5*z^6, x*y^6*z^6, y^7*z^6, x^6*z^7, x^5*y*z^7, x^4*y^2*z^7, x^3*y^3*z^7, x^2*y^4*z^7, x*y^5*z^7, y^6*z^7, x^5*z^8, x^4*y*z^8, x^3*y^2*z^8, x^2*y^3*z^8, x*y^4*z^8, y^5*z^8, x^4*z^9, x^3*y*z^9, x^2*y^2*z^9, x*y^3*z^9, y^4*z^9, x^3*z^10, x^2*y*z^10, x*y^2*z^10, y^3*z^10, x^2*z^11, x*y*z^11, y^2*z^11, x*z^12, y*z^12, z^13, x^12, x^11*y, x^10*y^2, x^9*y^3, x^8*y^4, x^7*y^5, x^6*y^6, x^5*y^7, x^4*y^8, x^3*y^9, x^2*y^10, x*y^11, y^12, x^11*z, x^10*y*z, x^9*y^2*z, x^8*y^3*z, x^7*y^4*z, x^6*y^5*z, x^5*y^6*z, x^4*y^7*z, x^3*y^8*z, x^2*y^9*z, x*y^10*z, y^11*z, x^10*z^2, x^9*y*z^2, x^8*y^2*z^2, x^7*y^3*z^2, x^6*y^4*z^2, x^5*y^5*z^2, x^4*y^6*z^2, x^3*y^7*z^2, x^2*y^8*z^2, x*y^9*z^2, y^10*z^2, x^9*z^3, x^8*y*z^3, x^7*y^2*z^3, x^6*y^3*z^3, x^5*y^4*z^3, x^4*y^5*z^3, x^3*y^6*z^3, x^2*y^7*z^3, x*y^8*z^3, y^9*z^3, x^8*z^4, x^7*y*z^4, x^6*y^2*z^4, x^5*y^3*z^4, x^4*y^4*z^4, x^3*y^5*z^4, x^2*y^6*z^4, x*y^7*z^4, y^8*z^4, x^7*z^5, x^6*y*z^5, x^5*y^2*z^5, x^4*y^3*z^5, x^3*y^4*z^5, x^2*y^5*z^5, x*y^6*z^5, y^7*z^5, x^6*z^6, x^5*y*z^6, x^4*y^2*z^6, x^3*y^3*z^6, x^2*y^4*z^6, x*y^5*z^6, y^6*z^6, x^5*z^7, x^4*y*z^7, x^3*y^2*z^7, x^2*y^3*z^7, x*y^4*z^7, y^5*z^7, x^4*z^8, x^3*y*z^8, x^2*y^2*z^8, x*y^3*z^8, y^4*z^8, x^3*z^9, x^2*y*z^9, x*y^2*z^9, y^3*z^9, x^2*z^10, x*y*z^10, y^2*z^10, x*z^11, y*z^11, z^12, x^11, x^10*y, x^9*y^2, x^8*y^3, x^7*y^4, x^6*y^5, x^5*y^6, x^4*y^7, x^3*y^8, x^2*y^9, x*y^10, y^11, x^10*z, x^9*y*z, x^8*y^2*z, x^7*y^3*z, x^6*y^4*z, x^5*y^5*z, x^4*y^6*z, x^3*y^7*z, x^2*y^8*z, x*y^9*z, y^10*z, x^9*z^2, x^8*y*z^2, x^7*y^2*z^2, x^6*y^3*z^2, x^5*y^4*z^2, x^4*y^5*z^2, x^3*y^6*z^2, x^2*y^7*z^2, x*y^8*z^2, y^9*z^2, x^8*z^3, x^7*y*z^3, x^6*y^2*z^3, x^5*y^3*z^3, x^4*y^4*z^3, x^3*y^5*z^3, x^2*y^6*z^3, x*y^7*z^3, y^8*z^3, x^7*z^4, x^6*y*z^4, x^5*y^2*z^4, x^4*y^3*z^4, x^3*y^4*z^4, x^2*y^5*z^4, x*y^6*z^4, y^7*z^4, x^6*z^5, x^5*y*z^5, x^4*y^2*z^5, x^3*y^3*z^5, x^2*y^4*z^5, x*y^5*z^5, y^6*z^5, x^5*z^6, x^4*y*z^6, x^3*y^2*z^6, x^2*y^3*z^6, x*y^4*z^6, y^5*z^6, x^4*z^7, x^3*y*z^7, x^2*y^2*z^7, x*y^3*z^7, y^4*z^7, x^3*z^8, x^2*y*z^8, x*y^2*z^8, y^3*z^8, x^2*z^9, x*y*z^9, y^2*z^9, x*z^10, y*z^10, z^11, x^10, x^9*y, x^8*y^2, x^7*y^3, x^6*y^4, x^5*y^5, x^4*y^6, x^3*y^7, x^2*y^8, x*y^9, y^10, x^9*z, x^8*y*z, x^7*y^2*z, x^6*y^3*z, x^5*y^4*z, x^4*y^5*z, x^3*y^6*z, x^2*y^7*z, x*y^8*z, y^9*z, x^8*z^2, x^7*y*z^2, x^6*y^2*z^2, x^5*y^3*z^2, x^4*y^4*z^2, x^3*y^5*z^2, x^2*y^6*z^2, x*y^7*z^2, y^8*z^2, x^7*z^3, x^6*y*z^3, x^5*y^2*z^3, x^4*y^3*z^3, x^3*y^4*z^3, x^2*y^5*z^3, x*y^6*z^3, y^7*z^3, x^6*z^4, x^5*y*z^4, x^4*y^2*z^4, x^3*y^3*z^4, x^2*y^4*z^4, x*y^5*z^4, y^6*z^4, x^5*z^5, x^4*y*z^5, x^3*y^2*z^5, x^2*y^3*z^5, x*y^4*z^5, y^5*z^5, x^4*z^6, x^3*y*z^6, x^2*y^2*z^6, x*y^3*z^6, y^4*z^6, x^3*z^7, x^2*y*z^7, x*y^2*z^7, y^3*z^7, x^2*z^8, x*y*z^8, y^2*z^8, x*z^9, y*z^9, z^10, x^9, x^8*y, x^7*y^2, x^6*y^3, x^5*y^4, x^4*y^5, x^3*y^6, x^2*y^7, x*y^8, y^9, x^8*z, x^7*y*z, x^6*y^2*z, x^5*y^3*z, x^4*y^4*z, x^3*y^5*z, x^2*y^6*z, x*y^7*z, y^8*z, x^7*z^2, x^6*y*z^2, x^5*y^2*z^2, x^4*y^3*z^2, x^3*y^4*z^2, x^2*y^5*z^2, x*y^6*z^2, y^7*z^2, x^6*z^3, x^5*y*z^3, x^4*y^2*z^3, x^3*y^3*z^3, x^2*y^4*z^3, x*y^5*z^3, y^6*z^3, x^5*z^4, x^4*y*z^4, x^3*y^2*z^4, x^2*y^3*z^4, x*y^4*z^4, y^5*z^4, x^4*z^5, x^3*y*z^5, x^2*y^2*z^5, x*y^3*z^5, y^4*z^5, x^3*z^6, x^2*y*z^6, x*y^2*z^6, y^3*z^6, x^2*z^7, x*y*z^7, y^2*z^7, x*z^8, y*z^8, z^9, x^8, x^7*y, x^6*y^2, x^5*y^3, x^4*y^4, x^3*y^5, x^2*y^6, x*y^7, y^8, x^7*z, x^6*y*z, x^5*y^2*z, x^4*y^3*z, x^3*y^4*z, x^2*y^5*z, x*y^6*z, y^7*z, x^6*z^2, x^5*y*z^2, x^4*y^2*z^2, x^3*y^3*z^2, x^2*y^4*z^2, x*y^5*z^2, y^6*z^2, x^5*z^3, x^4*y*z^3, x^3*y^2*z^3, x^2*y^3*z^3, x*y^4*z^3, y^5*z^3, x^4*z^4, x^3*y*z^4, x^2*y^2*z^4, x*y^3*z^4, y^4*z^4, x^3*z^5, x^2*y*z^5, x*y^2*z^5, y^3*z^5, x^2*z^6, x*y*z^6, y^2*z^6, x*z^7, y*z^7, z^8, x^7, x^6*y, x^5*y^2, x^4*y^3, x^3*y^4, x^2*y^5, x*y^6, y^7, x^6*z, x^5*y*z, x^4*y^2*z, x^3*y^3*z, x^2*y^4*z, x*y^5*z, y^6*z, x^5*z^2, x^4*y*z^2, x^3*y^2*z^2, x^2*y^3*z^2, x*y^4*z^2, y^5*z^2, x^4*z^3, x^3*y*z^3, x^2*y^2*z^3, x*y^3*z^3, y^4*z^3, x^3*z^4, x^2*y*z^4, x*y^2*z^4, y^3*z^4, x^2*z^5, x*y*z^5, y^2*z^5, x*z^6, y*z^6, z^7, x^6, x^5*y, x^4*y^2, x^3*y^3, x^2*y^4, x*y^5, y^6, x^5*z, x^4*y*z, x^3*y^2*z, x^2*y^3*z, x*y^4*z, y^5*z, x^4*z^2, x^3*y*z^2, x^2*y^2*z^2, x*y^3*z^2, y^4*z^2, x^3*z^3, x^2*y*z^3, x*y^2*z^3, y^3*z^3, x^2*z^4, x*y*z^4, y^2*z^4, x*z^5, y*z^5, z^6, x^5, x^4*y, x^3*y^2, x^2*y^3, x*y^4, y^5, x^4*z, x^3*y*z, x^2*y^2*z, x*y^3*z, y^4*z, x^3*z^2, x^2*y*z^2, x*y^2*z^2, y^3*z^2, x^2*z^3, x*y*z^3, y^2*z^3, x*z^4, y*z^4, z^5, x^4, x^3*y, x^2*y^2, x*y^3, y^4, x^3*z, x^2*y*z, x*y^2*z, y^3*z, x^2*z^2, x*y*z^2, y^2*z^2, x*z^3, y*z^3, z^4, x^3, x^2*y, x*y^2, y^3, x^2*z, x*y*z, y^2*z, x*z^2, y*z^2, z^3, x^2, x*y, y^2, x*z, y*z, z^2, x, y, z, 1]\n"
     ]
    },
    {
     "ename": "KeyboardInterrupt",
     "evalue": "",
     "output_type": "error",
     "traceback": [
      "\u001b[0;31m---------------------------------------------------------------------------\u001b[0m",
      "\u001b[0;31mKeyboardInterrupt\u001b[0m                         Traceback (most recent call last)",
      "\u001b[0;32m/var/folders/zf/986s30f52c3fssnjtqpb80w00000gn/T/ipykernel_89856/55211992.py\u001b[0m in \u001b[0;36m<module>\u001b[0;34m\u001b[0m\n\u001b[0;32m----> 1\u001b[0;31m \u001b[0mlfd\u001b[0m\u001b[0;34m(\u001b[0m\u001b[0mf_list\u001b[0m\u001b[0;34m,\u001b[0m \u001b[0mR\u001b[0m\u001b[0;34m)\u001b[0m\u001b[0;34m\u001b[0m\u001b[0;34m\u001b[0m\u001b[0m\n\u001b[0m",
      "\u001b[0;32m/var/folders/zf/986s30f52c3fssnjtqpb80w00000gn/T/ipykernel_89856/3861897038.py\u001b[0m in \u001b[0;36mlfd\u001b[0;34m(f_list, ring)\u001b[0m\n\u001b[1;32m     48\u001b[0m     \u001b[0mB\u001b[0m \u001b[0;34m=\u001b[0m \u001b[0mI\u001b[0m\u001b[0;34m.\u001b[0m\u001b[0mgroebner_basis\u001b[0m\u001b[0;34m(\u001b[0m\u001b[0;34m)\u001b[0m\u001b[0;34m\u001b[0m\u001b[0;34m\u001b[0m\u001b[0m\n\u001b[1;32m     49\u001b[0m     \u001b[0;32mfor\u001b[0m \u001b[0mf\u001b[0m \u001b[0;32min\u001b[0m \u001b[0mB\u001b[0m\u001b[0;34m:\u001b[0m\u001b[0;34m\u001b[0m\u001b[0;34m\u001b[0m\u001b[0m\n\u001b[0;32m---> 50\u001b[0;31m         \u001b[0md\u001b[0m \u001b[0;34m=\u001b[0m \u001b[0mdeg_fall\u001b[0m\u001b[0;34m(\u001b[0m\u001b[0mf\u001b[0m\u001b[0;34m,\u001b[0m \u001b[0mf_list\u001b[0m\u001b[0;34m,\u001b[0m \u001b[0mring\u001b[0m\u001b[0;34m)\u001b[0m\u001b[0;34m\u001b[0m\u001b[0;34m\u001b[0m\u001b[0m\n\u001b[0m\u001b[1;32m     51\u001b[0m         \u001b[0;32mif\u001b[0m \u001b[0md\u001b[0m \u001b[0;34m>\u001b[0m \u001b[0mf\u001b[0m\u001b[0;34m.\u001b[0m\u001b[0mdegree\u001b[0m\u001b[0;34m(\u001b[0m\u001b[0;34m)\u001b[0m\u001b[0;34m:\u001b[0m\u001b[0;34m\u001b[0m\u001b[0;34m\u001b[0m\u001b[0m\n\u001b[1;32m     52\u001b[0m             \u001b[0mfall_degrees\u001b[0m\u001b[0;34m.\u001b[0m\u001b[0mappend\u001b[0m\u001b[0;34m(\u001b[0m\u001b[0md\u001b[0m\u001b[0;34m)\u001b[0m\u001b[0;34m\u001b[0m\u001b[0;34m\u001b[0m\u001b[0m\n",
      "\u001b[0;32m/var/folders/zf/986s30f52c3fssnjtqpb80w00000gn/T/ipykernel_89856/3861897038.py\u001b[0m in \u001b[0;36mdeg_fall\u001b[0;34m(f, f_list, ring)\u001b[0m\n\u001b[1;32m     39\u001b[0m     \u001b[0mtest_deg\u001b[0m \u001b[0;34m=\u001b[0m \u001b[0mf\u001b[0m\u001b[0;34m.\u001b[0m\u001b[0mdegree\u001b[0m\u001b[0;34m(\u001b[0m\u001b[0;34m)\u001b[0m\u001b[0;34m\u001b[0m\u001b[0;34m\u001b[0m\u001b[0m\n\u001b[1;32m     40\u001b[0m     \u001b[0;32mwhile\u001b[0m \u001b[0;32mTrue\u001b[0m\u001b[0;34m:\u001b[0m\u001b[0;34m\u001b[0m\u001b[0;34m\u001b[0m\u001b[0m\n\u001b[0;32m---> 41\u001b[0;31m         \u001b[0;32mif\u001b[0m \u001b[0mtest_rowsp\u001b[0m\u001b[0;34m(\u001b[0m\u001b[0mf\u001b[0m\u001b[0;34m,\u001b[0m \u001b[0mf_list\u001b[0m\u001b[0;34m,\u001b[0m \u001b[0mtest_deg\u001b[0m\u001b[0;34m,\u001b[0m \u001b[0mring\u001b[0m\u001b[0;34m)\u001b[0m\u001b[0;34m:\u001b[0m\u001b[0;34m\u001b[0m\u001b[0;34m\u001b[0m\u001b[0m\n\u001b[0m\u001b[1;32m     42\u001b[0m             \u001b[0;32mreturn\u001b[0m \u001b[0mtest_deg\u001b[0m\u001b[0;34m\u001b[0m\u001b[0;34m\u001b[0m\u001b[0m\n\u001b[1;32m     43\u001b[0m         \u001b[0mtest_deg\u001b[0m \u001b[0;34m+=\u001b[0m \u001b[0mInteger\u001b[0m\u001b[0;34m(\u001b[0m\u001b[0;36m1\u001b[0m\u001b[0;34m)\u001b[0m\u001b[0;34m\u001b[0m\u001b[0;34m\u001b[0m\u001b[0m\n",
      "\u001b[0;32m/var/folders/zf/986s30f52c3fssnjtqpb80w00000gn/T/ipykernel_89856/3861897038.py\u001b[0m in \u001b[0;36mtest_rowsp\u001b[0;34m(f, f_list, d, ring)\u001b[0m\n\u001b[1;32m     14\u001b[0m                 \u001b[0;32mfor\u001b[0m \u001b[0mmon\u001b[0m \u001b[0;32min\u001b[0m \u001b[0mget_mons\u001b[0m\u001b[0;34m(\u001b[0m\u001b[0mmax_test_deg\u001b[0m\u001b[0;34m,\u001b[0m \u001b[0mring\u001b[0m\u001b[0;34m)\u001b[0m\u001b[0;34m:\u001b[0m\u001b[0;34m\u001b[0m\u001b[0;34m\u001b[0m\u001b[0m\n\u001b[1;32m     15\u001b[0m                     \u001b[0mtest_p\u001b[0m \u001b[0;34m=\u001b[0m \u001b[0mmon\u001b[0m\u001b[0;34m*\u001b[0m\u001b[0mg\u001b[0m\u001b[0;34m\u001b[0m\u001b[0;34m\u001b[0m\u001b[0m\n\u001b[0;32m---> 16\u001b[0;31m                     \u001b[0mtest_vec\u001b[0m \u001b[0;34m=\u001b[0m \u001b[0mvector\u001b[0m\u001b[0;34m(\u001b[0m\u001b[0;34m[\u001b[0m\u001b[0mtest_p\u001b[0m\u001b[0;34m.\u001b[0m\u001b[0mmonomial_coefficient\u001b[0m\u001b[0;34m(\u001b[0m\u001b[0mmoon\u001b[0m\u001b[0;34m)\u001b[0m \u001b[0;32mfor\u001b[0m \u001b[0mmoon\u001b[0m \u001b[0;32min\u001b[0m \u001b[0mmons\u001b[0m\u001b[0;34m]\u001b[0m\u001b[0;34m)\u001b[0m\u001b[0;34m\u001b[0m\u001b[0;34m\u001b[0m\u001b[0m\n\u001b[0m\u001b[1;32m     17\u001b[0m                     \u001b[0;32mif\u001b[0m \u001b[0mtest_vec\u001b[0m \u001b[0;32mnot\u001b[0m \u001b[0;32min\u001b[0m \u001b[0mrowsp\u001b[0m\u001b[0;34m:\u001b[0m\u001b[0;34m\u001b[0m\u001b[0;34m\u001b[0m\u001b[0m\n\u001b[1;32m     18\u001b[0m                         \u001b[0mto_be_added\u001b[0m\u001b[0;34m.\u001b[0m\u001b[0mappend\u001b[0m\u001b[0;34m(\u001b[0m\u001b[0mtest_vec\u001b[0m\u001b[0;34m)\u001b[0m\u001b[0;34m\u001b[0m\u001b[0;34m\u001b[0m\u001b[0m\n",
      "\u001b[0;32m/private/var/tmp/sage-9.6-current/local/var/lib/sage/venv-python3.10.3/lib/python3.10/site-packages/sage/modules/free_module_element.pyx\u001b[0m in \u001b[0;36msage.modules.free_module_element.vector (build/cythonized/sage/modules/free_module_element.c:6882)\u001b[0;34m()\u001b[0m\n\u001b[1;32m    578\u001b[0m             \u001b[0msparse\u001b[0m \u001b[0;34m=\u001b[0m \u001b[0;32mFalse\u001b[0m\u001b[0;34m\u001b[0m\u001b[0;34m\u001b[0m\u001b[0m\n\u001b[1;32m    579\u001b[0m \u001b[0;34m\u001b[0m\u001b[0m\n\u001b[0;32m--> 580\u001b[0;31m     \u001b[0mv\u001b[0m\u001b[0;34m,\u001b[0m \u001b[0mR\u001b[0m \u001b[0;34m=\u001b[0m \u001b[0mprepare\u001b[0m\u001b[0;34m(\u001b[0m\u001b[0mv\u001b[0m\u001b[0;34m,\u001b[0m \u001b[0mR\u001b[0m\u001b[0;34m,\u001b[0m \u001b[0mdegree\u001b[0m\u001b[0;34m)\u001b[0m\u001b[0;34m\u001b[0m\u001b[0;34m\u001b[0m\u001b[0m\n\u001b[0m\u001b[1;32m    581\u001b[0m \u001b[0;34m\u001b[0m\u001b[0m\n\u001b[1;32m    582\u001b[0m     \u001b[0mM\u001b[0m \u001b[0;34m=\u001b[0m \u001b[0mFreeModule\u001b[0m\u001b[0;34m(\u001b[0m\u001b[0mR\u001b[0m\u001b[0;34m,\u001b[0m \u001b[0mlen\u001b[0m\u001b[0;34m(\u001b[0m\u001b[0mv\u001b[0m\u001b[0;34m)\u001b[0m\u001b[0;34m,\u001b[0m \u001b[0mbool\u001b[0m\u001b[0;34m(\u001b[0m\u001b[0msparse\u001b[0m\u001b[0;34m)\u001b[0m\u001b[0;34m)\u001b[0m\u001b[0;34m\u001b[0m\u001b[0;34m\u001b[0m\u001b[0m\n",
      "\u001b[0;32m/private/var/tmp/sage-9.6-current/local/var/lib/sage/venv-python3.10.3/lib/python3.10/site-packages/sage/modules/free_module_element.pyx\u001b[0m in \u001b[0;36msage.modules.free_module_element.prepare (build/cythonized/sage/modules/free_module_element.c:7478)\u001b[0;34m()\u001b[0m\n\u001b[1;32m    676\u001b[0m         \u001b[0;32mexcept\u001b[0m \u001b[0mTypeError\u001b[0m\u001b[0;34m:\u001b[0m\u001b[0;34m\u001b[0m\u001b[0;34m\u001b[0m\u001b[0m\n\u001b[1;32m    677\u001b[0m             \u001b[0;32mpass\u001b[0m\u001b[0;34m\u001b[0m\u001b[0;34m\u001b[0m\u001b[0m\n\u001b[0;32m--> 678\u001b[0;31m     \u001b[0mv\u001b[0m \u001b[0;34m=\u001b[0m \u001b[0mSequence\u001b[0m\u001b[0;34m(\u001b[0m\u001b[0mv\u001b[0m\u001b[0;34m,\u001b[0m \u001b[0muniverse\u001b[0m\u001b[0;34m=\u001b[0m\u001b[0mR\u001b[0m\u001b[0;34m,\u001b[0m \u001b[0muse_sage_types\u001b[0m\u001b[0;34m=\u001b[0m\u001b[0;32mTrue\u001b[0m\u001b[0;34m)\u001b[0m\u001b[0;34m\u001b[0m\u001b[0;34m\u001b[0m\u001b[0m\n\u001b[0m\u001b[1;32m    679\u001b[0m     \u001b[0mring\u001b[0m \u001b[0;34m=\u001b[0m \u001b[0mv\u001b[0m\u001b[0;34m.\u001b[0m\u001b[0muniverse\u001b[0m\u001b[0;34m(\u001b[0m\u001b[0;34m)\u001b[0m\u001b[0;34m\u001b[0m\u001b[0;34m\u001b[0m\u001b[0m\n\u001b[1;32m    680\u001b[0m     \u001b[0;32mif\u001b[0m \u001b[0;32mnot\u001b[0m \u001b[0mis_Ring\u001b[0m\u001b[0;34m(\u001b[0m\u001b[0mring\u001b[0m\u001b[0;34m)\u001b[0m\u001b[0;34m:\u001b[0m\u001b[0;34m\u001b[0m\u001b[0;34m\u001b[0m\u001b[0m\n",
      "\u001b[0;32m/private/var/tmp/sage-9.6-current/local/var/lib/sage/venv-python3.10.3/lib/python3.10/site-packages/sage/structure/sequence.py\u001b[0m in \u001b[0;36mSequence\u001b[0;34m(x, universe, check, immutable, cr, cr_str, use_sage_types)\u001b[0m\n\u001b[1;32m    261\u001b[0m         \u001b[0;32mpass\u001b[0m\u001b[0;34m\u001b[0m\u001b[0;34m\u001b[0m\u001b[0m\n\u001b[1;32m    262\u001b[0m     \u001b[0;32melse\u001b[0m\u001b[0;34m:\u001b[0m\u001b[0;34m\u001b[0m\u001b[0;34m\u001b[0m\u001b[0m\n\u001b[0;32m--> 263\u001b[0;31m         \u001b[0;32mif\u001b[0m \u001b[0mis_MPolynomialRing\u001b[0m\u001b[0;34m(\u001b[0m\u001b[0muniverse\u001b[0m\u001b[0;34m)\u001b[0m \u001b[0;32mor\u001b[0m \u001b[0misinstance\u001b[0m\u001b[0;34m(\u001b[0m\u001b[0muniverse\u001b[0m\u001b[0;34m,\u001b[0m \u001b[0mBooleanMonomialMonoid\u001b[0m\u001b[0;34m)\u001b[0m \u001b[0;32mor\u001b[0m \u001b[0;34m(\u001b[0m\u001b[0mis_QuotientRing\u001b[0m\u001b[0;34m(\u001b[0m\u001b[0muniverse\u001b[0m\u001b[0;34m)\u001b[0m \u001b[0;32mand\u001b[0m \u001b[0mis_MPolynomialRing\u001b[0m\u001b[0;34m(\u001b[0m\u001b[0muniverse\u001b[0m\u001b[0;34m.\u001b[0m\u001b[0mcover_ring\u001b[0m\u001b[0;34m(\u001b[0m\u001b[0;34m)\u001b[0m\u001b[0;34m)\u001b[0m\u001b[0;34m)\u001b[0m\u001b[0;34m:\u001b[0m\u001b[0;34m\u001b[0m\u001b[0;34m\u001b[0m\u001b[0m\n\u001b[0m\u001b[1;32m    264\u001b[0m             \u001b[0;32mreturn\u001b[0m \u001b[0mPolynomialSequence\u001b[0m\u001b[0;34m(\u001b[0m\u001b[0mx\u001b[0m\u001b[0;34m,\u001b[0m \u001b[0muniverse\u001b[0m\u001b[0;34m,\u001b[0m \u001b[0mimmutable\u001b[0m\u001b[0;34m=\u001b[0m\u001b[0mimmutable\u001b[0m\u001b[0;34m,\u001b[0m \u001b[0mcr\u001b[0m\u001b[0;34m=\u001b[0m\u001b[0mcr\u001b[0m\u001b[0;34m,\u001b[0m \u001b[0mcr_str\u001b[0m\u001b[0;34m=\u001b[0m\u001b[0mcr_str\u001b[0m\u001b[0;34m)\u001b[0m\u001b[0;34m\u001b[0m\u001b[0;34m\u001b[0m\u001b[0m\n\u001b[1;32m    265\u001b[0m \u001b[0;34m\u001b[0m\u001b[0m\n",
      "\u001b[0;32msrc/cysignals/signals.pyx\u001b[0m in \u001b[0;36mcysignals.signals.python_check_interrupt\u001b[0;34m()\u001b[0m\n",
      "\u001b[0;31mKeyboardInterrupt\u001b[0m: "
     ]
    }
   ],
   "source": [
    "lfd(f_list, R)"
   ]
  },
  {
   "cell_type": "code",
   "execution_count": 531,
   "metadata": {},
   "outputs": [
    {
     "data": {
      "text/plain": [
       "[y^2 - 1, x + 1]"
      ]
     },
     "execution_count": 531,
     "metadata": {},
     "output_type": "execute_result"
    }
   ],
   "source": [
    "R.<x,y> = PolynomialRing(GF(5), order = 'degrevlex')\n",
    "f1 = x*y + y\n",
    "f2 = y^2 - 1\n",
    "f3 = x^4 - 1\n",
    "I = Ideal(f1,f2,f3)\n",
    "I.groebner_basis()"
   ]
  },
  {
   "cell_type": "code",
   "execution_count": 532,
   "metadata": {},
   "outputs": [
    {
     "name": "stdout",
     "output_type": "stream",
     "text": [
      "0 [0] True False\n",
      "1 [0] True False\n",
      "2 [x*y + y, y^2 - 1] False True\n",
      "3 [x^2*y - y, x*y^2 + 1, y^3 - y, x*y + y, y^2 - 1, x + 1] True True\n"
     ]
    },
    {
     "data": {
      "text/plain": [
       "(3, [x^2*y - y, x*y^2 + 1, y^3 - y, x*y + y, y^2 - 1, x + 1])"
      ]
     },
     "execution_count": 532,
     "metadata": {},
     "output_type": "execute_result"
    }
   ],
   "source": [
    "mac_grob([f1,f2,f3],R)"
   ]
  },
  {
   "cell_type": "code",
   "execution_count": 533,
   "metadata": {},
   "outputs": [
    {
     "name": "stdout",
     "output_type": "stream",
     "text": [
      "[x^2, x*y, y^2, x, y, 1]\n",
      "[x, y, 1]\n",
      "[x^2, x*y, y^2, x, y, 1]\n",
      "[x^3, x^2*y, x*y^2, y^3, x^2, x*y, y^2, x, y, 1]\n"
     ]
    },
    {
     "data": {
      "text/plain": [
       "3"
      ]
     },
     "execution_count": 533,
     "metadata": {},
     "output_type": "execute_result"
    }
   ],
   "source": [
    "lfd([f1,f2,f3],R)"
   ]
  },
  {
   "cell_type": "code",
   "execution_count": 534,
   "metadata": {},
   "outputs": [
    {
     "name": "stdout",
     "output_type": "stream",
     "text": [
      "[x^2, x*y, y^2, x, y, 1]\n"
     ]
    },
    {
     "data": {
      "text/plain": [
       "[0 1 0 0 1 0]\n",
       "[0 0 1 0 0 4]"
      ]
     },
     "execution_count": 534,
     "metadata": {},
     "output_type": "execute_result"
    }
   ],
   "source": [
    "x + 1 in rowsp([f1,f2,f3], 2, R)\n",
    "mac_matrix([f1,f2,f3],2,R)"
   ]
  },
  {
   "cell_type": "code",
   "execution_count": 4,
   "metadata": {},
   "outputs": [
    {
     "data": {
      "text/plain": [
       "[w^6 - w, x - 1, y - 1]"
      ]
     },
     "execution_count": 4,
     "metadata": {},
     "output_type": "execute_result"
    }
   ],
   "source": [
    "R.<w,x,y,z> = PolynomialRing(QQ, order = 'degrevlex')\n",
    "f1 = x^2 - x\n",
    "f2 = x*y - 1\n",
    "f3 = w^6 - w\n",
    "f4 = w^5*z^5 - 1\n",
    "I = Ideal(f1,f2,f3)\n",
    "I.groebner_basis()"
   ]
  },
  {
   "cell_type": "code",
   "execution_count": 536,
   "metadata": {},
   "outputs": [
    {
     "data": {
      "text/plain": [
       "True"
      ]
     },
     "execution_count": 536,
     "metadata": {},
     "output_type": "execute_result"
    }
   ],
   "source": [
    "rowsp([f1,f2,f3,f4],9,R) + ideal(w^5*z^5 - 1) == rowsp([f1,f2,f3,f4],10,R) "
   ]
  },
  {
   "cell_type": "code",
   "execution_count": 431,
   "metadata": {},
   "outputs": [
    {
     "data": {
      "text/plain": [
       "True"
      ]
     },
     "execution_count": 431,
     "metadata": {},
     "output_type": "execute_result"
    }
   ],
   "source": [
    "z^5 - 1 in rowsp([f1,f2,f3,f4],11,R)"
   ]
  },
  {
   "cell_type": "code",
   "execution_count": 595,
   "metadata": {},
   "outputs": [
    {
     "data": {
      "text/plain": [
       "[w^5 - 1, z^5 - 1, x - 1, y - 1]"
      ]
     },
     "execution_count": 595,
     "metadata": {},
     "output_type": "execute_result"
    }
   ],
   "source": [
    "R.<w,x,y,z> = PolynomialRing(QQ, order = 'degrevlex')\n",
    "f1 = x^2 - x\n",
    "f2 = x*y - 1\n",
    "f3 = w^6 - w\n",
    "f4 = w^5*z^5 - 1\n",
    "I = Ideal(f1,f2,f3,f4)\n",
    "I.groebner_basis()"
   ]
  },
  {
   "cell_type": "code",
   "execution_count": 596,
   "metadata": {},
   "outputs": [
    {
     "data": {
      "text/plain": [
       "11"
      ]
     },
     "execution_count": 596,
     "metadata": {},
     "output_type": "execute_result"
    }
   ],
   "source": [
    "degree_reg(I,R)"
   ]
  },
  {
   "cell_type": "code",
   "execution_count": 597,
   "metadata": {},
   "outputs": [
    {
     "data": {
      "text/plain": [
       "15"
      ]
     },
     "execution_count": 597,
     "metadata": {},
     "output_type": "execute_result"
    }
   ],
   "source": [
    "len(I.homogenize()._singular_().mres(0).betti())/5"
   ]
  },
  {
   "cell_type": "code",
   "execution_count": 550,
   "metadata": {},
   "outputs": [
    {
     "name": "stdout",
     "output_type": "stream",
     "text": [
      "[1]\n",
      "0 [0] True False\n",
      "[w, x, y, z, 1]\n",
      "1 [0] True False\n",
      "[w^2, w*x, x^2, w*y, x*y, y^2, w*z, x*z, y*z, z^2, w, x, y, z, 1]\n",
      "2 [x^2 - x, x*y - 1] False False\n",
      "[w^3, w^2*x, w*x^2, x^3, w^2*y, w*x*y, x^2*y, w*y^2, x*y^2, y^3, w^2*z, w*x*z, x^2*z, w*y*z, x*y*z, y^2*z, w*z^2, x*z^2, y*z^2, z^3, w^2, w*x, x^2, w*y, x*y, y^2, w*z, x*z, y*z, z^2, w, x, y, z, 1]\n",
      "3 [w^2*x - w^2, w*x^2 - w, x^3 - 1, w^2*y - w^2, w*x*y - w, x^2*y - 1, w*y^2 - w, x*y^2 - 1, y^3 - 1, w*x*z - w*z, x^2*z - z, w*y*z - w*z, x*y*z - z, y^2*z - z, x*z^2 - z^2, y*z^2 - z^2, w*x - w, x^2 - 1, w*y - w, x*y - 1, y^2 - 1, x*z - z, y*z - z, x - 1, y - 1] True False\n",
      "[w^4, w^3*x, w^2*x^2, w*x^3, x^4, w^3*y, w^2*x*y, w*x^2*y, x^3*y, w^2*y^2, w*x*y^2, x^2*y^2, w*y^3, x*y^3, y^4, w^3*z, w^2*x*z, w*x^2*z, x^3*z, w^2*y*z, w*x*y*z, x^2*y*z, w*y^2*z, x*y^2*z, y^3*z, w^2*z^2, w*x*z^2, x^2*z^2, w*y*z^2, x*y*z^2, y^2*z^2, w*z^3, x*z^3, y*z^3, z^4, w^3, w^2*x, w*x^2, x^3, w^2*y, w*x*y, x^2*y, w*y^2, x*y^2, y^3, w^2*z, w*x*z, x^2*z, w*y*z, x*y*z, y^2*z, w*z^2, x*z^2, y*z^2, z^3, w^2, w*x, x^2, w*y, x*y, y^2, w*z, x*z, y*z, z^2, w, x, y, z, 1]\n",
      "4 [w^3*x - w^3, w^2*x^2 - w^2, w*x^3 - w, x^4 - 1, w^3*y - w^3, w^2*x*y - w^2, w*x^2*y - w, x^3*y - 1, w^2*y^2 - w^2, w*x*y^2 - w, x^2*y^2 - 1, w*y^3 - w, x*y^3 - 1, y^4 - 1, w^2*x*z - w^2*z, w*x^2*z - w*z, x^3*z - z, w^2*y*z - w^2*z, w*x*y*z - w*z, x^2*y*z - z, w*y^2*z - w*z, x*y^2*z - z, y^3*z - z, w*x*z^2 - w*z^2, x^2*z^2 - z^2, w*y*z^2 - w*z^2, x*y*z^2 - z^2, y^2*z^2 - z^2, x*z^3 - z^3, y*z^3 - z^3, w^2*x - w^2, w*x^2 - w, x^3 - 1, w^2*y - w^2, w*x*y - w, x^2*y - 1, w*y^2 - w, x*y^2 - 1, y^3 - 1, w*x*z - w*z, x^2*z - z, w*y*z - w*z, x*y*z - z, y^2*z - z, x*z^2 - z^2, y*z^2 - z^2, w*x - w, x^2 - 1, w*y - w, x*y - 1, y^2 - 1, x*z - z, y*z - z, x - 1, y - 1] True False\n",
      "[w^5, w^4*x, w^3*x^2, w^2*x^3, w*x^4, x^5, w^4*y, w^3*x*y, w^2*x^2*y, w*x^3*y, x^4*y, w^3*y^2, w^2*x*y^2, w*x^2*y^2, x^3*y^2, w^2*y^3, w*x*y^3, x^2*y^3, w*y^4, x*y^4, y^5, w^4*z, w^3*x*z, w^2*x^2*z, w*x^3*z, x^4*z, w^3*y*z, w^2*x*y*z, w*x^2*y*z, x^3*y*z, w^2*y^2*z, w*x*y^2*z, x^2*y^2*z, w*y^3*z, x*y^3*z, y^4*z, w^3*z^2, w^2*x*z^2, w*x^2*z^2, x^3*z^2, w^2*y*z^2, w*x*y*z^2, x^2*y*z^2, w*y^2*z^2, x*y^2*z^2, y^3*z^2, w^2*z^3, w*x*z^3, x^2*z^3, w*y*z^3, x*y*z^3, y^2*z^3, w*z^4, x*z^4, y*z^4, z^5, w^4, w^3*x, w^2*x^2, w*x^3, x^4, w^3*y, w^2*x*y, w*x^2*y, x^3*y, w^2*y^2, w*x*y^2, x^2*y^2, w*y^3, x*y^3, y^4, w^3*z, w^2*x*z, w*x^2*z, x^3*z, w^2*y*z, w*x*y*z, x^2*y*z, w*y^2*z, x*y^2*z, y^3*z, w^2*z^2, w*x*z^2, x^2*z^2, w*y*z^2, x*y*z^2, y^2*z^2, w*z^3, x*z^3, y*z^3, z^4, w^3, w^2*x, w*x^2, x^3, w^2*y, w*x*y, x^2*y, w*y^2, x*y^2, y^3, w^2*z, w*x*z, x^2*z, w*y*z, x*y*z, y^2*z, w*z^2, x*z^2, y*z^2, z^3, w^2, w*x, x^2, w*y, x*y, y^2, w*z, x*z, y*z, z^2, w, x, y, z, 1]\n",
      "5 [w^4*x - w^4, w^3*x^2 - w^3, w^2*x^3 - w^2, w*x^4 - w, x^5 - 1, w^4*y - w^4, w^3*x*y - w^3, w^2*x^2*y - w^2, w*x^3*y - w, x^4*y - 1, w^3*y^2 - w^3, w^2*x*y^2 - w^2, w*x^2*y^2 - w, x^3*y^2 - 1, w^2*y^3 - w^2, w*x*y^3 - w, x^2*y^3 - 1, w*y^4 - w, x*y^4 - 1, y^5 - 1, w^3*x*z - w^3*z, w^2*x^2*z - w^2*z, w*x^3*z - w*z, x^4*z - z, w^3*y*z - w^3*z, w^2*x*y*z - w^2*z, w*x^2*y*z - w*z, x^3*y*z - z, w^2*y^2*z - w^2*z, w*x*y^2*z - w*z, x^2*y^2*z - z, w*y^3*z - w*z, x*y^3*z - z, y^4*z - z, w^2*x*z^2 - w^2*z^2, w*x^2*z^2 - w*z^2, x^3*z^2 - z^2, w^2*y*z^2 - w^2*z^2, w*x*y*z^2 - w*z^2, x^2*y*z^2 - z^2, w*y^2*z^2 - w*z^2, x*y^2*z^2 - z^2, y^3*z^2 - z^2, w*x*z^3 - w*z^3, x^2*z^3 - z^3, w*y*z^3 - w*z^3, x*y*z^3 - z^3, y^2*z^3 - z^3, x*z^4 - z^4, y*z^4 - z^4, w^3*x - w^3, w^2*x^2 - w^2, w*x^3 - w, x^4 - 1, w^3*y - w^3, w^2*x*y - w^2, w*x^2*y - w, x^3*y - 1, w^2*y^2 - w^2, w*x*y^2 - w, x^2*y^2 - 1, w*y^3 - w, x*y^3 - 1, y^4 - 1, w^2*x*z - w^2*z, w*x^2*z - w*z, x^3*z - z, w^2*y*z - w^2*z, w*x*y*z - w*z, x^2*y*z - z, w*y^2*z - w*z, x*y^2*z - z, y^3*z - z, w*x*z^2 - w*z^2, x^2*z^2 - z^2, w*y*z^2 - w*z^2, x*y*z^2 - z^2, y^2*z^2 - z^2, x*z^3 - z^3, y*z^3 - z^3, w^2*x - w^2, w*x^2 - w, x^3 - 1, w^2*y - w^2, w*x*y - w, x^2*y - 1, w*y^2 - w, x*y^2 - 1, y^3 - 1, w*x*z - w*z, x^2*z - z, w*y*z - w*z, x*y*z - z, y^2*z - z, x*z^2 - z^2, y*z^2 - z^2, w*x - w, x^2 - 1, w*y - w, x*y - 1, y^2 - 1, x*z - z, y*z - z, x - 1, y - 1] True False\n",
      "[w^6, w^5*x, w^4*x^2, w^3*x^3, w^2*x^4, w*x^5, x^6, w^5*y, w^4*x*y, w^3*x^2*y, w^2*x^3*y, w*x^4*y, x^5*y, w^4*y^2, w^3*x*y^2, w^2*x^2*y^2, w*x^3*y^2, x^4*y^2, w^3*y^3, w^2*x*y^3, w*x^2*y^3, x^3*y^3, w^2*y^4, w*x*y^4, x^2*y^4, w*y^5, x*y^5, y^6, w^5*z, w^4*x*z, w^3*x^2*z, w^2*x^3*z, w*x^4*z, x^5*z, w^4*y*z, w^3*x*y*z, w^2*x^2*y*z, w*x^3*y*z, x^4*y*z, w^3*y^2*z, w^2*x*y^2*z, w*x^2*y^2*z, x^3*y^2*z, w^2*y^3*z, w*x*y^3*z, x^2*y^3*z, w*y^4*z, x*y^4*z, y^5*z, w^4*z^2, w^3*x*z^2, w^2*x^2*z^2, w*x^3*z^2, x^4*z^2, w^3*y*z^2, w^2*x*y*z^2, w*x^2*y*z^2, x^3*y*z^2, w^2*y^2*z^2, w*x*y^2*z^2, x^2*y^2*z^2, w*y^3*z^2, x*y^3*z^2, y^4*z^2, w^3*z^3, w^2*x*z^3, w*x^2*z^3, x^3*z^3, w^2*y*z^3, w*x*y*z^3, x^2*y*z^3, w*y^2*z^3, x*y^2*z^3, y^3*z^3, w^2*z^4, w*x*z^4, x^2*z^4, w*y*z^4, x*y*z^4, y^2*z^4, w*z^5, x*z^5, y*z^5, z^6, w^5, w^4*x, w^3*x^2, w^2*x^3, w*x^4, x^5, w^4*y, w^3*x*y, w^2*x^2*y, w*x^3*y, x^4*y, w^3*y^2, w^2*x*y^2, w*x^2*y^2, x^3*y^2, w^2*y^3, w*x*y^3, x^2*y^3, w*y^4, x*y^4, y^5, w^4*z, w^3*x*z, w^2*x^2*z, w*x^3*z, x^4*z, w^3*y*z, w^2*x*y*z, w*x^2*y*z, x^3*y*z, w^2*y^2*z, w*x*y^2*z, x^2*y^2*z, w*y^3*z, x*y^3*z, y^4*z, w^3*z^2, w^2*x*z^2, w*x^2*z^2, x^3*z^2, w^2*y*z^2, w*x*y*z^2, x^2*y*z^2, w*y^2*z^2, x*y^2*z^2, y^3*z^2, w^2*z^3, w*x*z^3, x^2*z^3, w*y*z^3, x*y*z^3, y^2*z^3, w*z^4, x*z^4, y*z^4, z^5, w^4, w^3*x, w^2*x^2, w*x^3, x^4, w^3*y, w^2*x*y, w*x^2*y, x^3*y, w^2*y^2, w*x*y^2, x^2*y^2, w*y^3, x*y^3, y^4, w^3*z, w^2*x*z, w*x^2*z, x^3*z, w^2*y*z, w*x*y*z, x^2*y*z, w*y^2*z, x*y^2*z, y^3*z, w^2*z^2, w*x*z^2, x^2*z^2, w*y*z^2, x*y*z^2, y^2*z^2, w*z^3, x*z^3, y*z^3, z^4, w^3, w^2*x, w*x^2, x^3, w^2*y, w*x*y, x^2*y, w*y^2, x*y^2, y^3, w^2*z, w*x*z, x^2*z, w*y*z, x*y*z, y^2*z, w*z^2, x*z^2, y*z^2, z^3, w^2, w*x, x^2, w*y, x*y, y^2, w*z, x*z, y*z, z^2, w, x, y, z, 1]\n",
      "6 [w^6 - w, w^5*x - w^5, w^4*x^2 - w^4, w^3*x^3 - w^3, w^2*x^4 - w^2, w*x^5 - w, x^6 - 1, w^5*y - w^5, w^4*x*y - w^4, w^3*x^2*y - w^3, w^2*x^3*y - w^2, w*x^4*y - w, x^5*y - 1, w^4*y^2 - w^4, w^3*x*y^2 - w^3, w^2*x^2*y^2 - w^2, w*x^3*y^2 - w, x^4*y^2 - 1, w^3*y^3 - w^3, w^2*x*y^3 - w^2, w*x^2*y^3 - w, x^3*y^3 - 1, w^2*y^4 - w^2, w*x*y^4 - w, x^2*y^4 - 1, w*y^5 - w, x*y^5 - 1, y^6 - 1, w^4*x*z - w^4*z, w^3*x^2*z - w^3*z, w^2*x^3*z - w^2*z, w*x^4*z - w*z, x^5*z - z, w^4*y*z - w^4*z, w^3*x*y*z - w^3*z, w^2*x^2*y*z - w^2*z, w*x^3*y*z - w*z, x^4*y*z - z, w^3*y^2*z - w^3*z, w^2*x*y^2*z - w^2*z, w*x^2*y^2*z - w*z, x^3*y^2*z - z, w^2*y^3*z - w^2*z, w*x*y^3*z - w*z, x^2*y^3*z - z, w*y^4*z - w*z, x*y^4*z - z, y^5*z - z, w^3*x*z^2 - w^3*z^2, w^2*x^2*z^2 - w^2*z^2, w*x^3*z^2 - w*z^2, x^4*z^2 - z^2, w^3*y*z^2 - w^3*z^2, w^2*x*y*z^2 - w^2*z^2, w*x^2*y*z^2 - w*z^2, x^3*y*z^2 - z^2, w^2*y^2*z^2 - w^2*z^2, w*x*y^2*z^2 - w*z^2, x^2*y^2*z^2 - z^2, w*y^3*z^2 - w*z^2, x*y^3*z^2 - z^2, y^4*z^2 - z^2, w^2*x*z^3 - w^2*z^3, w*x^2*z^3 - w*z^3, x^3*z^3 - z^3, w^2*y*z^3 - w^2*z^3, w*x*y*z^3 - w*z^3, x^2*y*z^3 - z^3, w*y^2*z^3 - w*z^3, x*y^2*z^3 - z^3, y^3*z^3 - z^3, w*x*z^4 - w*z^4, x^2*z^4 - z^4, w*y*z^4 - w*z^4, x*y*z^4 - z^4, y^2*z^4 - z^4, x*z^5 - z^5, y*z^5 - z^5, w^4*x - w^4, w^3*x^2 - w^3, w^2*x^3 - w^2, w*x^4 - w, x^5 - 1, w^4*y - w^4, w^3*x*y - w^3, w^2*x^2*y - w^2, w*x^3*y - w, x^4*y - 1, w^3*y^2 - w^3, w^2*x*y^2 - w^2, w*x^2*y^2 - w, x^3*y^2 - 1, w^2*y^3 - w^2, w*x*y^3 - w, x^2*y^3 - 1, w*y^4 - w, x*y^4 - 1, y^5 - 1, w^3*x*z - w^3*z, w^2*x^2*z - w^2*z, w*x^3*z - w*z, x^4*z - z, w^3*y*z - w^3*z, w^2*x*y*z - w^2*z, w*x^2*y*z - w*z, x^3*y*z - z, w^2*y^2*z - w^2*z, w*x*y^2*z - w*z, x^2*y^2*z - z, w*y^3*z - w*z, x*y^3*z - z, y^4*z - z, w^2*x*z^2 - w^2*z^2, w*x^2*z^2 - w*z^2, x^3*z^2 - z^2, w^2*y*z^2 - w^2*z^2, w*x*y*z^2 - w*z^2, x^2*y*z^2 - z^2, w*y^2*z^2 - w*z^2, x*y^2*z^2 - z^2, y^3*z^2 - z^2, w*x*z^3 - w*z^3, x^2*z^3 - z^3, w*y*z^3 - w*z^3, x*y*z^3 - z^3, y^2*z^3 - z^3, x*z^4 - z^4, y*z^4 - z^4, w^3*x - w^3, w^2*x^2 - w^2, w*x^3 - w, x^4 - 1, w^3*y - w^3, w^2*x*y - w^2, w*x^2*y - w, x^3*y - 1, w^2*y^2 - w^2, w*x*y^2 - w, x^2*y^2 - 1, w*y^3 - w, x*y^3 - 1, y^4 - 1, w^2*x*z - w^2*z, w*x^2*z - w*z, x^3*z - z, w^2*y*z - w^2*z, w*x*y*z - w*z, x^2*y*z - z, w*y^2*z - w*z, x*y^2*z - z, y^3*z - z, w*x*z^2 - w*z^2, x^2*z^2 - z^2, w*y*z^2 - w*z^2, x*y*z^2 - z^2, y^2*z^2 - z^2, x*z^3 - z^3, y*z^3 - z^3, w^2*x - w^2, w*x^2 - w, x^3 - 1, w^2*y - w^2, w*x*y - w, x^2*y - 1, w*y^2 - w, x*y^2 - 1, y^3 - 1, w*x*z - w*z, x^2*z - z, w*y*z - w*z, x*y*z - z, y^2*z - z, x*z^2 - z^2, y*z^2 - z^2, w*x - w, x^2 - 1, w*y - w, x*y - 1, y^2 - 1, x*z - z, y*z - z, x - 1, y - 1] True False\n",
      "[w^7, w^6*x, w^5*x^2, w^4*x^3, w^3*x^4, w^2*x^5, w*x^6, x^7, w^6*y, w^5*x*y, w^4*x^2*y, w^3*x^3*y, w^2*x^4*y, w*x^5*y, x^6*y, w^5*y^2, w^4*x*y^2, w^3*x^2*y^2, w^2*x^3*y^2, w*x^4*y^2, x^5*y^2, w^4*y^3, w^3*x*y^3, w^2*x^2*y^3, w*x^3*y^3, x^4*y^3, w^3*y^4, w^2*x*y^4, w*x^2*y^4, x^3*y^4, w^2*y^5, w*x*y^5, x^2*y^5, w*y^6, x*y^6, y^7, w^6*z, w^5*x*z, w^4*x^2*z, w^3*x^3*z, w^2*x^4*z, w*x^5*z, x^6*z, w^5*y*z, w^4*x*y*z, w^3*x^2*y*z, w^2*x^3*y*z, w*x^4*y*z, x^5*y*z, w^4*y^2*z, w^3*x*y^2*z, w^2*x^2*y^2*z, w*x^3*y^2*z, x^4*y^2*z, w^3*y^3*z, w^2*x*y^3*z, w*x^2*y^3*z, x^3*y^3*z, w^2*y^4*z, w*x*y^4*z, x^2*y^4*z, w*y^5*z, x*y^5*z, y^6*z, w^5*z^2, w^4*x*z^2, w^3*x^2*z^2, w^2*x^3*z^2, w*x^4*z^2, x^5*z^2, w^4*y*z^2, w^3*x*y*z^2, w^2*x^2*y*z^2, w*x^3*y*z^2, x^4*y*z^2, w^3*y^2*z^2, w^2*x*y^2*z^2, w*x^2*y^2*z^2, x^3*y^2*z^2, w^2*y^3*z^2, w*x*y^3*z^2, x^2*y^3*z^2, w*y^4*z^2, x*y^4*z^2, y^5*z^2, w^4*z^3, w^3*x*z^3, w^2*x^2*z^3, w*x^3*z^3, x^4*z^3, w^3*y*z^3, w^2*x*y*z^3, w*x^2*y*z^3, x^3*y*z^3, w^2*y^2*z^3, w*x*y^2*z^3, x^2*y^2*z^3, w*y^3*z^3, x*y^3*z^3, y^4*z^3, w^3*z^4, w^2*x*z^4, w*x^2*z^4, x^3*z^4, w^2*y*z^4, w*x*y*z^4, x^2*y*z^4, w*y^2*z^4, x*y^2*z^4, y^3*z^4, w^2*z^5, w*x*z^5, x^2*z^5, w*y*z^5, x*y*z^5, y^2*z^5, w*z^6, x*z^6, y*z^6, z^7, w^6, w^5*x, w^4*x^2, w^3*x^3, w^2*x^4, w*x^5, x^6, w^5*y, w^4*x*y, w^3*x^2*y, w^2*x^3*y, w*x^4*y, x^5*y, w^4*y^2, w^3*x*y^2, w^2*x^2*y^2, w*x^3*y^2, x^4*y^2, w^3*y^3, w^2*x*y^3, w*x^2*y^3, x^3*y^3, w^2*y^4, w*x*y^4, x^2*y^4, w*y^5, x*y^5, y^6, w^5*z, w^4*x*z, w^3*x^2*z, w^2*x^3*z, w*x^4*z, x^5*z, w^4*y*z, w^3*x*y*z, w^2*x^2*y*z, w*x^3*y*z, x^4*y*z, w^3*y^2*z, w^2*x*y^2*z, w*x^2*y^2*z, x^3*y^2*z, w^2*y^3*z, w*x*y^3*z, x^2*y^3*z, w*y^4*z, x*y^4*z, y^5*z, w^4*z^2, w^3*x*z^2, w^2*x^2*z^2, w*x^3*z^2, x^4*z^2, w^3*y*z^2, w^2*x*y*z^2, w*x^2*y*z^2, x^3*y*z^2, w^2*y^2*z^2, w*x*y^2*z^2, x^2*y^2*z^2, w*y^3*z^2, x*y^3*z^2, y^4*z^2, w^3*z^3, w^2*x*z^3, w*x^2*z^3, x^3*z^3, w^2*y*z^3, w*x*y*z^3, x^2*y*z^3, w*y^2*z^3, x*y^2*z^3, y^3*z^3, w^2*z^4, w*x*z^4, x^2*z^4, w*y*z^4, x*y*z^4, y^2*z^4, w*z^5, x*z^5, y*z^5, z^6, w^5, w^4*x, w^3*x^2, w^2*x^3, w*x^4, x^5, w^4*y, w^3*x*y, w^2*x^2*y, w*x^3*y, x^4*y, w^3*y^2, w^2*x*y^2, w*x^2*y^2, x^3*y^2, w^2*y^3, w*x*y^3, x^2*y^3, w*y^4, x*y^4, y^5, w^4*z, w^3*x*z, w^2*x^2*z, w*x^3*z, x^4*z, w^3*y*z, w^2*x*y*z, w*x^2*y*z, x^3*y*z, w^2*y^2*z, w*x*y^2*z, x^2*y^2*z, w*y^3*z, x*y^3*z, y^4*z, w^3*z^2, w^2*x*z^2, w*x^2*z^2, x^3*z^2, w^2*y*z^2, w*x*y*z^2, x^2*y*z^2, w*y^2*z^2, x*y^2*z^2, y^3*z^2, w^2*z^3, w*x*z^3, x^2*z^3, w*y*z^3, x*y*z^3, y^2*z^3, w*z^4, x*z^4, y*z^4, z^5, w^4, w^3*x, w^2*x^2, w*x^3, x^4, w^3*y, w^2*x*y, w*x^2*y, x^3*y, w^2*y^2, w*x*y^2, x^2*y^2, w*y^3, x*y^3, y^4, w^3*z, w^2*x*z, w*x^2*z, x^3*z, w^2*y*z, w*x*y*z, x^2*y*z, w*y^2*z, x*y^2*z, y^3*z, w^2*z^2, w*x*z^2, x^2*z^2, w*y*z^2, x*y*z^2, y^2*z^2, w*z^3, x*z^3, y*z^3, z^4, w^3, w^2*x, w*x^2, x^3, w^2*y, w*x*y, x^2*y, w*y^2, x*y^2, y^3, w^2*z, w*x*z, x^2*z, w*y*z, x*y*z, y^2*z, w*z^2, x*z^2, y*z^2, z^3, w^2, w*x, x^2, w*y, x*y, y^2, w*z, x*z, y*z, z^2, w, x, y, z, 1]\n"
     ]
    },
    {
     "name": "stdout",
     "output_type": "stream",
     "text": [
      "7 [w^7 - w^2, w^6*x - w, w^5*x^2 - w^5, w^4*x^3 - w^4, w^3*x^4 - w^3, w^2*x^5 - w^2, w*x^6 - w, x^7 - 1, w^6*y - w, w^5*x*y - w^5, w^4*x^2*y - w^4, w^3*x^3*y - w^3, w^2*x^4*y - w^2, w*x^5*y - w, x^6*y - 1, w^5*y^2 - w^5, w^4*x*y^2 - w^4, w^3*x^2*y^2 - w^3, w^2*x^3*y^2 - w^2, w*x^4*y^2 - w, x^5*y^2 - 1, w^4*y^3 - w^4, w^3*x*y^3 - w^3, w^2*x^2*y^3 - w^2, w*x^3*y^3 - w, x^4*y^3 - 1, w^3*y^4 - w^3, w^2*x*y^4 - w^2, w*x^2*y^4 - w, x^3*y^4 - 1, w^2*y^5 - w^2, w*x*y^5 - w, x^2*y^5 - 1, w*y^6 - w, x*y^6 - 1, y^7 - 1, w^6*z - w*z, w^5*x*z - w^5*z, w^4*x^2*z - w^4*z, w^3*x^3*z - w^3*z, w^2*x^4*z - w^2*z, w*x^5*z - w*z, x^6*z - z, w^5*y*z - w^5*z, w^4*x*y*z - w^4*z, w^3*x^2*y*z - w^3*z, w^2*x^3*y*z - w^2*z, w*x^4*y*z - w*z, x^5*y*z - z, w^4*y^2*z - w^4*z, w^3*x*y^2*z - w^3*z, w^2*x^2*y^2*z - w^2*z, w*x^3*y^2*z - w*z, x^4*y^2*z - z, w^3*y^3*z - w^3*z, w^2*x*y^3*z - w^2*z, w*x^2*y^3*z - w*z, x^3*y^3*z - z, w^2*y^4*z - w^2*z, w*x*y^4*z - w*z, x^2*y^4*z - z, w*y^5*z - w*z, x*y^5*z - z, y^6*z - z, w^4*x*z^2 - w^4*z^2, w^3*x^2*z^2 - w^3*z^2, w^2*x^3*z^2 - w^2*z^2, w*x^4*z^2 - w*z^2, x^5*z^2 - z^2, w^4*y*z^2 - w^4*z^2, w^3*x*y*z^2 - w^3*z^2, w^2*x^2*y*z^2 - w^2*z^2, w*x^3*y*z^2 - w*z^2, x^4*y*z^2 - z^2, w^3*y^2*z^2 - w^3*z^2, w^2*x*y^2*z^2 - w^2*z^2, w*x^2*y^2*z^2 - w*z^2, x^3*y^2*z^2 - z^2, w^2*y^3*z^2 - w^2*z^2, w*x*y^3*z^2 - w*z^2, x^2*y^3*z^2 - z^2, w*y^4*z^2 - w*z^2, x*y^4*z^2 - z^2, y^5*z^2 - z^2, w^3*x*z^3 - w^3*z^3, w^2*x^2*z^3 - w^2*z^3, w*x^3*z^3 - w*z^3, x^4*z^3 - z^3, w^3*y*z^3 - w^3*z^3, w^2*x*y*z^3 - w^2*z^3, w*x^2*y*z^3 - w*z^3, x^3*y*z^3 - z^3, w^2*y^2*z^3 - w^2*z^3, w*x*y^2*z^3 - w*z^3, x^2*y^2*z^3 - z^3, w*y^3*z^3 - w*z^3, x*y^3*z^3 - z^3, y^4*z^3 - z^3, w^2*x*z^4 - w^2*z^4, w*x^2*z^4 - w*z^4, x^3*z^4 - z^4, w^2*y*z^4 - w^2*z^4, w*x*y*z^4 - w*z^4, x^2*y*z^4 - z^4, w*y^2*z^4 - w*z^4, x*y^2*z^4 - z^4, y^3*z^4 - z^4, w*x*z^5 - w*z^5, x^2*z^5 - z^5, w*y*z^5 - w*z^5, x*y*z^5 - z^5, y^2*z^5 - z^5, x*z^6 - z^6, y*z^6 - z^6, w^6 - w, w^5*x - w^5, w^4*x^2 - w^4, w^3*x^3 - w^3, w^2*x^4 - w^2, w*x^5 - w, x^6 - 1, w^5*y - w^5, w^4*x*y - w^4, w^3*x^2*y - w^3, w^2*x^3*y - w^2, w*x^4*y - w, x^5*y - 1, w^4*y^2 - w^4, w^3*x*y^2 - w^3, w^2*x^2*y^2 - w^2, w*x^3*y^2 - w, x^4*y^2 - 1, w^3*y^3 - w^3, w^2*x*y^3 - w^2, w*x^2*y^3 - w, x^3*y^3 - 1, w^2*y^4 - w^2, w*x*y^4 - w, x^2*y^4 - 1, w*y^5 - w, x*y^5 - 1, y^6 - 1, w^4*x*z - w^4*z, w^3*x^2*z - w^3*z, w^2*x^3*z - w^2*z, w*x^4*z - w*z, x^5*z - z, w^4*y*z - w^4*z, w^3*x*y*z - w^3*z, w^2*x^2*y*z - w^2*z, w*x^3*y*z - w*z, x^4*y*z - z, w^3*y^2*z - w^3*z, w^2*x*y^2*z - w^2*z, w*x^2*y^2*z - w*z, x^3*y^2*z - z, w^2*y^3*z - w^2*z, w*x*y^3*z - w*z, x^2*y^3*z - z, w*y^4*z - w*z, x*y^4*z - z, y^5*z - z, w^3*x*z^2 - w^3*z^2, w^2*x^2*z^2 - w^2*z^2, w*x^3*z^2 - w*z^2, x^4*z^2 - z^2, w^3*y*z^2 - w^3*z^2, w^2*x*y*z^2 - w^2*z^2, w*x^2*y*z^2 - w*z^2, x^3*y*z^2 - z^2, w^2*y^2*z^2 - w^2*z^2, w*x*y^2*z^2 - w*z^2, x^2*y^2*z^2 - z^2, w*y^3*z^2 - w*z^2, x*y^3*z^2 - z^2, y^4*z^2 - z^2, w^2*x*z^3 - w^2*z^3, w*x^2*z^3 - w*z^3, x^3*z^3 - z^3, w^2*y*z^3 - w^2*z^3, w*x*y*z^3 - w*z^3, x^2*y*z^3 - z^3, w*y^2*z^3 - w*z^3, x*y^2*z^3 - z^3, y^3*z^3 - z^3, w*x*z^4 - w*z^4, x^2*z^4 - z^4, w*y*z^4 - w*z^4, x*y*z^4 - z^4, y^2*z^4 - z^4, x*z^5 - z^5, y*z^5 - z^5, w^4*x - w^4, w^3*x^2 - w^3, w^2*x^3 - w^2, w*x^4 - w, x^5 - 1, w^4*y - w^4, w^3*x*y - w^3, w^2*x^2*y - w^2, w*x^3*y - w, x^4*y - 1, w^3*y^2 - w^3, w^2*x*y^2 - w^2, w*x^2*y^2 - w, x^3*y^2 - 1, w^2*y^3 - w^2, w*x*y^3 - w, x^2*y^3 - 1, w*y^4 - w, x*y^4 - 1, y^5 - 1, w^3*x*z - w^3*z, w^2*x^2*z - w^2*z, w*x^3*z - w*z, x^4*z - z, w^3*y*z - w^3*z, w^2*x*y*z - w^2*z, w*x^2*y*z - w*z, x^3*y*z - z, w^2*y^2*z - w^2*z, w*x*y^2*z - w*z, x^2*y^2*z - z, w*y^3*z - w*z, x*y^3*z - z, y^4*z - z, w^2*x*z^2 - w^2*z^2, w*x^2*z^2 - w*z^2, x^3*z^2 - z^2, w^2*y*z^2 - w^2*z^2, w*x*y*z^2 - w*z^2, x^2*y*z^2 - z^2, w*y^2*z^2 - w*z^2, x*y^2*z^2 - z^2, y^3*z^2 - z^2, w*x*z^3 - w*z^3, x^2*z^3 - z^3, w*y*z^3 - w*z^3, x*y*z^3 - z^3, y^2*z^3 - z^3, x*z^4 - z^4, y*z^4 - z^4, w^3*x - w^3, w^2*x^2 - w^2, w*x^3 - w, x^4 - 1, w^3*y - w^3, w^2*x*y - w^2, w*x^2*y - w, x^3*y - 1, w^2*y^2 - w^2, w*x*y^2 - w, x^2*y^2 - 1, w*y^3 - w, x*y^3 - 1, y^4 - 1, w^2*x*z - w^2*z, w*x^2*z - w*z, x^3*z - z, w^2*y*z - w^2*z, w*x*y*z - w*z, x^2*y*z - z, w*y^2*z - w*z, x*y^2*z - z, y^3*z - z, w*x*z^2 - w*z^2, x^2*z^2 - z^2, w*y*z^2 - w*z^2, x*y*z^2 - z^2, y^2*z^2 - z^2, x*z^3 - z^3, y*z^3 - z^3, w^2*x - w^2, w*x^2 - w, x^3 - 1, w^2*y - w^2, w*x*y - w, x^2*y - 1, w*y^2 - w, x*y^2 - 1, y^3 - 1, w*x*z - w*z, x^2*z - z, w*y*z - w*z, x*y*z - z, y^2*z - z, x*z^2 - z^2, y*z^2 - z^2, w*x - w, x^2 - 1, w*y - w, x*y - 1, y^2 - 1, x*z - z, y*z - z, x - 1, y - 1] True False\n",
      "[w^8, w^7*x, w^6*x^2, w^5*x^3, w^4*x^4, w^3*x^5, w^2*x^6, w*x^7, x^8, w^7*y, w^6*x*y, w^5*x^2*y, w^4*x^3*y, w^3*x^4*y, w^2*x^5*y, w*x^6*y, x^7*y, w^6*y^2, w^5*x*y^2, w^4*x^2*y^2, w^3*x^3*y^2, w^2*x^4*y^2, w*x^5*y^2, x^6*y^2, w^5*y^3, w^4*x*y^3, w^3*x^2*y^3, w^2*x^3*y^3, w*x^4*y^3, x^5*y^3, w^4*y^4, w^3*x*y^4, w^2*x^2*y^4, w*x^3*y^4, x^4*y^4, w^3*y^5, w^2*x*y^5, w*x^2*y^5, x^3*y^5, w^2*y^6, w*x*y^6, x^2*y^6, w*y^7, x*y^7, y^8, w^7*z, w^6*x*z, w^5*x^2*z, w^4*x^3*z, w^3*x^4*z, w^2*x^5*z, w*x^6*z, x^7*z, w^6*y*z, w^5*x*y*z, w^4*x^2*y*z, w^3*x^3*y*z, w^2*x^4*y*z, w*x^5*y*z, x^6*y*z, w^5*y^2*z, w^4*x*y^2*z, w^3*x^2*y^2*z, w^2*x^3*y^2*z, w*x^4*y^2*z, x^5*y^2*z, w^4*y^3*z, w^3*x*y^3*z, w^2*x^2*y^3*z, w*x^3*y^3*z, x^4*y^3*z, w^3*y^4*z, w^2*x*y^4*z, w*x^2*y^4*z, x^3*y^4*z, w^2*y^5*z, w*x*y^5*z, x^2*y^5*z, w*y^6*z, x*y^6*z, y^7*z, w^6*z^2, w^5*x*z^2, w^4*x^2*z^2, w^3*x^3*z^2, w^2*x^4*z^2, w*x^5*z^2, x^6*z^2, w^5*y*z^2, w^4*x*y*z^2, w^3*x^2*y*z^2, w^2*x^3*y*z^2, w*x^4*y*z^2, x^5*y*z^2, w^4*y^2*z^2, w^3*x*y^2*z^2, w^2*x^2*y^2*z^2, w*x^3*y^2*z^2, x^4*y^2*z^2, w^3*y^3*z^2, w^2*x*y^3*z^2, w*x^2*y^3*z^2, x^3*y^3*z^2, w^2*y^4*z^2, w*x*y^4*z^2, x^2*y^4*z^2, w*y^5*z^2, x*y^5*z^2, y^6*z^2, w^5*z^3, w^4*x*z^3, w^3*x^2*z^3, w^2*x^3*z^3, w*x^4*z^3, x^5*z^3, w^4*y*z^3, w^3*x*y*z^3, w^2*x^2*y*z^3, w*x^3*y*z^3, x^4*y*z^3, w^3*y^2*z^3, w^2*x*y^2*z^3, w*x^2*y^2*z^3, x^3*y^2*z^3, w^2*y^3*z^3, w*x*y^3*z^3, x^2*y^3*z^3, w*y^4*z^3, x*y^4*z^3, y^5*z^3, w^4*z^4, w^3*x*z^4, w^2*x^2*z^4, w*x^3*z^4, x^4*z^4, w^3*y*z^4, w^2*x*y*z^4, w*x^2*y*z^4, x^3*y*z^4, w^2*y^2*z^4, w*x*y^2*z^4, x^2*y^2*z^4, w*y^3*z^4, x*y^3*z^4, y^4*z^4, w^3*z^5, w^2*x*z^5, w*x^2*z^5, x^3*z^5, w^2*y*z^5, w*x*y*z^5, x^2*y*z^5, w*y^2*z^5, x*y^2*z^5, y^3*z^5, w^2*z^6, w*x*z^6, x^2*z^6, w*y*z^6, x*y*z^6, y^2*z^6, w*z^7, x*z^7, y*z^7, z^8, w^7, w^6*x, w^5*x^2, w^4*x^3, w^3*x^4, w^2*x^5, w*x^6, x^7, w^6*y, w^5*x*y, w^4*x^2*y, w^3*x^3*y, w^2*x^4*y, w*x^5*y, x^6*y, w^5*y^2, w^4*x*y^2, w^3*x^2*y^2, w^2*x^3*y^2, w*x^4*y^2, x^5*y^2, w^4*y^3, w^3*x*y^3, w^2*x^2*y^3, w*x^3*y^3, x^4*y^3, w^3*y^4, w^2*x*y^4, w*x^2*y^4, x^3*y^4, w^2*y^5, w*x*y^5, x^2*y^5, w*y^6, x*y^6, y^7, w^6*z, w^5*x*z, w^4*x^2*z, w^3*x^3*z, w^2*x^4*z, w*x^5*z, x^6*z, w^5*y*z, w^4*x*y*z, w^3*x^2*y*z, w^2*x^3*y*z, w*x^4*y*z, x^5*y*z, w^4*y^2*z, w^3*x*y^2*z, w^2*x^2*y^2*z, w*x^3*y^2*z, x^4*y^2*z, w^3*y^3*z, w^2*x*y^3*z, w*x^2*y^3*z, x^3*y^3*z, w^2*y^4*z, w*x*y^4*z, x^2*y^4*z, w*y^5*z, x*y^5*z, y^6*z, w^5*z^2, w^4*x*z^2, w^3*x^2*z^2, w^2*x^3*z^2, w*x^4*z^2, x^5*z^2, w^4*y*z^2, w^3*x*y*z^2, w^2*x^2*y*z^2, w*x^3*y*z^2, x^4*y*z^2, w^3*y^2*z^2, w^2*x*y^2*z^2, w*x^2*y^2*z^2, x^3*y^2*z^2, w^2*y^3*z^2, w*x*y^3*z^2, x^2*y^3*z^2, w*y^4*z^2, x*y^4*z^2, y^5*z^2, w^4*z^3, w^3*x*z^3, w^2*x^2*z^3, w*x^3*z^3, x^4*z^3, w^3*y*z^3, w^2*x*y*z^3, w*x^2*y*z^3, x^3*y*z^3, w^2*y^2*z^3, w*x*y^2*z^3, x^2*y^2*z^3, w*y^3*z^3, x*y^3*z^3, y^4*z^3, w^3*z^4, w^2*x*z^4, w*x^2*z^4, x^3*z^4, w^2*y*z^4, w*x*y*z^4, x^2*y*z^4, w*y^2*z^4, x*y^2*z^4, y^3*z^4, w^2*z^5, w*x*z^5, x^2*z^5, w*y*z^5, x*y*z^5, y^2*z^5, w*z^6, x*z^6, y*z^6, z^7, w^6, w^5*x, w^4*x^2, w^3*x^3, w^2*x^4, w*x^5, x^6, w^5*y, w^4*x*y, w^3*x^2*y, w^2*x^3*y, w*x^4*y, x^5*y, w^4*y^2, w^3*x*y^2, w^2*x^2*y^2, w*x^3*y^2, x^4*y^2, w^3*y^3, w^2*x*y^3, w*x^2*y^3, x^3*y^3, w^2*y^4, w*x*y^4, x^2*y^4, w*y^5, x*y^5, y^6, w^5*z, w^4*x*z, w^3*x^2*z, w^2*x^3*z, w*x^4*z, x^5*z, w^4*y*z, w^3*x*y*z, w^2*x^2*y*z, w*x^3*y*z, x^4*y*z, w^3*y^2*z, w^2*x*y^2*z, w*x^2*y^2*z, x^3*y^2*z, w^2*y^3*z, w*x*y^3*z, x^2*y^3*z, w*y^4*z, x*y^4*z, y^5*z, w^4*z^2, w^3*x*z^2, w^2*x^2*z^2, w*x^3*z^2, x^4*z^2, w^3*y*z^2, w^2*x*y*z^2, w*x^2*y*z^2, x^3*y*z^2, w^2*y^2*z^2, w*x*y^2*z^2, x^2*y^2*z^2, w*y^3*z^2, x*y^3*z^2, y^4*z^2, w^3*z^3, w^2*x*z^3, w*x^2*z^3, x^3*z^3, w^2*y*z^3, w*x*y*z^3, x^2*y*z^3, w*y^2*z^3, x*y^2*z^3, y^3*z^3, w^2*z^4, w*x*z^4, x^2*z^4, w*y*z^4, x*y*z^4, y^2*z^4, w*z^5, x*z^5, y*z^5, z^6, w^5, w^4*x, w^3*x^2, w^2*x^3, w*x^4, x^5, w^4*y, w^3*x*y, w^2*x^2*y, w*x^3*y, x^4*y, w^3*y^2, w^2*x*y^2, w*x^2*y^2, x^3*y^2, w^2*y^3, w*x*y^3, x^2*y^3, w*y^4, x*y^4, y^5, w^4*z, w^3*x*z, w^2*x^2*z, w*x^3*z, x^4*z, w^3*y*z, w^2*x*y*z, w*x^2*y*z, x^3*y*z, w^2*y^2*z, w*x*y^2*z, x^2*y^2*z, w*y^3*z, x*y^3*z, y^4*z, w^3*z^2, w^2*x*z^2, w*x^2*z^2, x^3*z^2, w^2*y*z^2, w*x*y*z^2, x^2*y*z^2, w*y^2*z^2, x*y^2*z^2, y^3*z^2, w^2*z^3, w*x*z^3, x^2*z^3, w*y*z^3, x*y*z^3, y^2*z^3, w*z^4, x*z^4, y*z^4, z^5, w^4, w^3*x, w^2*x^2, w*x^3, x^4, w^3*y, w^2*x*y, w*x^2*y, x^3*y, w^2*y^2, w*x*y^2, x^2*y^2, w*y^3, x*y^3, y^4, w^3*z, w^2*x*z, w*x^2*z, x^3*z, w^2*y*z, w*x*y*z, x^2*y*z, w*y^2*z, x*y^2*z, y^3*z, w^2*z^2, w*x*z^2, x^2*z^2, w*y*z^2, x*y*z^2, y^2*z^2, w*z^3, x*z^3, y*z^3, z^4, w^3, w^2*x, w*x^2, x^3, w^2*y, w*x*y, x^2*y, w*y^2, x*y^2, y^3, w^2*z, w*x*z, x^2*z, w*y*z, x*y*z, y^2*z, w*z^2, x*z^2, y*z^2, z^3, w^2, w*x, x^2, w*y, x*y, y^2, w*z, x*z, y*z, z^2, w, x, y, z, 1]\n"
     ]
    },
    {
     "name": "stdout",
     "output_type": "stream",
     "text": [
      "8 [w^8 - w^3, w^7*x - w^2, w^6*x^2 - w, w^5*x^3 - w^5, w^4*x^4 - w^4, w^3*x^5 - w^3, w^2*x^6 - w^2, w*x^7 - w, x^8 - 1, w^7*y - w^2, w^6*x*y - w, w^5*x^2*y - w^5, w^4*x^3*y - w^4, w^3*x^4*y - w^3, w^2*x^5*y - w^2, w*x^6*y - w, x^7*y - 1, w^6*y^2 - w, w^5*x*y^2 - w^5, w^4*x^2*y^2 - w^4, w^3*x^3*y^2 - w^3, w^2*x^4*y^2 - w^2, w*x^5*y^2 - w, x^6*y^2 - 1, w^5*y^3 - w^5, w^4*x*y^3 - w^4, w^3*x^2*y^3 - w^3, w^2*x^3*y^3 - w^2, w*x^4*y^3 - w, x^5*y^3 - 1, w^4*y^4 - w^4, w^3*x*y^4 - w^3, w^2*x^2*y^4 - w^2, w*x^3*y^4 - w, x^4*y^4 - 1, w^3*y^5 - w^3, w^2*x*y^5 - w^2, w*x^2*y^5 - w, x^3*y^5 - 1, w^2*y^6 - w^2, w*x*y^6 - w, x^2*y^6 - 1, w*y^7 - w, x*y^7 - 1, y^8 - 1, w^7*z - w^2*z, w^6*x*z - w*z, w^5*x^2*z - w^5*z, w^4*x^3*z - w^4*z, w^3*x^4*z - w^3*z, w^2*x^5*z - w^2*z, w*x^6*z - w*z, x^7*z - z, w^6*y*z - w*z, w^5*x*y*z - w^5*z, w^4*x^2*y*z - w^4*z, w^3*x^3*y*z - w^3*z, w^2*x^4*y*z - w^2*z, w*x^5*y*z - w*z, x^6*y*z - z, w^5*y^2*z - w^5*z, w^4*x*y^2*z - w^4*z, w^3*x^2*y^2*z - w^3*z, w^2*x^3*y^2*z - w^2*z, w*x^4*y^2*z - w*z, x^5*y^2*z - z, w^4*y^3*z - w^4*z, w^3*x*y^3*z - w^3*z, w^2*x^2*y^3*z - w^2*z, w*x^3*y^3*z - w*z, x^4*y^3*z - z, w^3*y^4*z - w^3*z, w^2*x*y^4*z - w^2*z, w*x^2*y^4*z - w*z, x^3*y^4*z - z, w^2*y^5*z - w^2*z, w*x*y^5*z - w*z, x^2*y^5*z - z, w*y^6*z - w*z, x*y^6*z - z, y^7*z - z, w^6*z^2 - w*z^2, w^5*x*z^2 - w^5*z^2, w^4*x^2*z^2 - w^4*z^2, w^3*x^3*z^2 - w^3*z^2, w^2*x^4*z^2 - w^2*z^2, w*x^5*z^2 - w*z^2, x^6*z^2 - z^2, w^5*y*z^2 - w^5*z^2, w^4*x*y*z^2 - w^4*z^2, w^3*x^2*y*z^2 - w^3*z^2, w^2*x^3*y*z^2 - w^2*z^2, w*x^4*y*z^2 - w*z^2, x^5*y*z^2 - z^2, w^4*y^2*z^2 - w^4*z^2, w^3*x*y^2*z^2 - w^3*z^2, w^2*x^2*y^2*z^2 - w^2*z^2, w*x^3*y^2*z^2 - w*z^2, x^4*y^2*z^2 - z^2, w^3*y^3*z^2 - w^3*z^2, w^2*x*y^3*z^2 - w^2*z^2, w*x^2*y^3*z^2 - w*z^2, x^3*y^3*z^2 - z^2, w^2*y^4*z^2 - w^2*z^2, w*x*y^4*z^2 - w*z^2, x^2*y^4*z^2 - z^2, w*y^5*z^2 - w*z^2, x*y^5*z^2 - z^2, y^6*z^2 - z^2, w^4*x*z^3 - w^4*z^3, w^3*x^2*z^3 - w^3*z^3, w^2*x^3*z^3 - w^2*z^3, w*x^4*z^3 - w*z^3, x^5*z^3 - z^3, w^4*y*z^3 - w^4*z^3, w^3*x*y*z^3 - w^3*z^3, w^2*x^2*y*z^3 - w^2*z^3, w*x^3*y*z^3 - w*z^3, x^4*y*z^3 - z^3, w^3*y^2*z^3 - w^3*z^3, w^2*x*y^2*z^3 - w^2*z^3, w*x^2*y^2*z^3 - w*z^3, x^3*y^2*z^3 - z^3, w^2*y^3*z^3 - w^2*z^3, w*x*y^3*z^3 - w*z^3, x^2*y^3*z^3 - z^3, w*y^4*z^3 - w*z^3, x*y^4*z^3 - z^3, y^5*z^3 - z^3, w^3*x*z^4 - w^3*z^4, w^2*x^2*z^4 - w^2*z^4, w*x^3*z^4 - w*z^4, x^4*z^4 - z^4, w^3*y*z^4 - w^3*z^4, w^2*x*y*z^4 - w^2*z^4, w*x^2*y*z^4 - w*z^4, x^3*y*z^4 - z^4, w^2*y^2*z^4 - w^2*z^4, w*x*y^2*z^4 - w*z^4, x^2*y^2*z^4 - z^4, w*y^3*z^4 - w*z^4, x*y^3*z^4 - z^4, y^4*z^4 - z^4, w^2*x*z^5 - w^2*z^5, w*x^2*z^5 - w*z^5, x^3*z^5 - z^5, w^2*y*z^5 - w^2*z^5, w*x*y*z^5 - w*z^5, x^2*y*z^5 - z^5, w*y^2*z^5 - w*z^5, x*y^2*z^5 - z^5, y^3*z^5 - z^5, w*x*z^6 - w*z^6, x^2*z^6 - z^6, w*y*z^6 - w*z^6, x*y*z^6 - z^6, y^2*z^6 - z^6, x*z^7 - z^7, y*z^7 - z^7, w^7 - w^2, w^6*x - w, w^5*x^2 - w^5, w^4*x^3 - w^4, w^3*x^4 - w^3, w^2*x^5 - w^2, w*x^6 - w, x^7 - 1, w^6*y - w, w^5*x*y - w^5, w^4*x^2*y - w^4, w^3*x^3*y - w^3, w^2*x^4*y - w^2, w*x^5*y - w, x^6*y - 1, w^5*y^2 - w^5, w^4*x*y^2 - w^4, w^3*x^2*y^2 - w^3, w^2*x^3*y^2 - w^2, w*x^4*y^2 - w, x^5*y^2 - 1, w^4*y^3 - w^4, w^3*x*y^3 - w^3, w^2*x^2*y^3 - w^2, w*x^3*y^3 - w, x^4*y^3 - 1, w^3*y^4 - w^3, w^2*x*y^4 - w^2, w*x^2*y^4 - w, x^3*y^4 - 1, w^2*y^5 - w^2, w*x*y^5 - w, x^2*y^5 - 1, w*y^6 - w, x*y^6 - 1, y^7 - 1, w^6*z - w*z, w^5*x*z - w^5*z, w^4*x^2*z - w^4*z, w^3*x^3*z - w^3*z, w^2*x^4*z - w^2*z, w*x^5*z - w*z, x^6*z - z, w^5*y*z - w^5*z, w^4*x*y*z - w^4*z, w^3*x^2*y*z - w^3*z, w^2*x^3*y*z - w^2*z, w*x^4*y*z - w*z, x^5*y*z - z, w^4*y^2*z - w^4*z, w^3*x*y^2*z - w^3*z, w^2*x^2*y^2*z - w^2*z, w*x^3*y^2*z - w*z, x^4*y^2*z - z, w^3*y^3*z - w^3*z, w^2*x*y^3*z - w^2*z, w*x^2*y^3*z - w*z, x^3*y^3*z - z, w^2*y^4*z - w^2*z, w*x*y^4*z - w*z, x^2*y^4*z - z, w*y^5*z - w*z, x*y^5*z - z, y^6*z - z, w^4*x*z^2 - w^4*z^2, w^3*x^2*z^2 - w^3*z^2, w^2*x^3*z^2 - w^2*z^2, w*x^4*z^2 - w*z^2, x^5*z^2 - z^2, w^4*y*z^2 - w^4*z^2, w^3*x*y*z^2 - w^3*z^2, w^2*x^2*y*z^2 - w^2*z^2, w*x^3*y*z^2 - w*z^2, x^4*y*z^2 - z^2, w^3*y^2*z^2 - w^3*z^2, w^2*x*y^2*z^2 - w^2*z^2, w*x^2*y^2*z^2 - w*z^2, x^3*y^2*z^2 - z^2, w^2*y^3*z^2 - w^2*z^2, w*x*y^3*z^2 - w*z^2, x^2*y^3*z^2 - z^2, w*y^4*z^2 - w*z^2, x*y^4*z^2 - z^2, y^5*z^2 - z^2, w^3*x*z^3 - w^3*z^3, w^2*x^2*z^3 - w^2*z^3, w*x^3*z^3 - w*z^3, x^4*z^3 - z^3, w^3*y*z^3 - w^3*z^3, w^2*x*y*z^3 - w^2*z^3, w*x^2*y*z^3 - w*z^3, x^3*y*z^3 - z^3, w^2*y^2*z^3 - w^2*z^3, w*x*y^2*z^3 - w*z^3, x^2*y^2*z^3 - z^3, w*y^3*z^3 - w*z^3, x*y^3*z^3 - z^3, y^4*z^3 - z^3, w^2*x*z^4 - w^2*z^4, w*x^2*z^4 - w*z^4, x^3*z^4 - z^4, w^2*y*z^4 - w^2*z^4, w*x*y*z^4 - w*z^4, x^2*y*z^4 - z^4, w*y^2*z^4 - w*z^4, x*y^2*z^4 - z^4, y^3*z^4 - z^4, w*x*z^5 - w*z^5, x^2*z^5 - z^5, w*y*z^5 - w*z^5, x*y*z^5 - z^5, y^2*z^5 - z^5, x*z^6 - z^6, y*z^6 - z^6, w^6 - w, w^5*x - w^5, w^4*x^2 - w^4, w^3*x^3 - w^3, w^2*x^4 - w^2, w*x^5 - w, x^6 - 1, w^5*y - w^5, w^4*x*y - w^4, w^3*x^2*y - w^3, w^2*x^3*y - w^2, w*x^4*y - w, x^5*y - 1, w^4*y^2 - w^4, w^3*x*y^2 - w^3, w^2*x^2*y^2 - w^2, w*x^3*y^2 - w, x^4*y^2 - 1, w^3*y^3 - w^3, w^2*x*y^3 - w^2, w*x^2*y^3 - w, x^3*y^3 - 1, w^2*y^4 - w^2, w*x*y^4 - w, x^2*y^4 - 1, w*y^5 - w, x*y^5 - 1, y^6 - 1, w^4*x*z - w^4*z, w^3*x^2*z - w^3*z, w^2*x^3*z - w^2*z, w*x^4*z - w*z, x^5*z - z, w^4*y*z - w^4*z, w^3*x*y*z - w^3*z, w^2*x^2*y*z - w^2*z, w*x^3*y*z - w*z, x^4*y*z - z, w^3*y^2*z - w^3*z, w^2*x*y^2*z - w^2*z, w*x^2*y^2*z - w*z, x^3*y^2*z - z, w^2*y^3*z - w^2*z, w*x*y^3*z - w*z, x^2*y^3*z - z, w*y^4*z - w*z, x*y^4*z - z, y^5*z - z, w^3*x*z^2 - w^3*z^2, w^2*x^2*z^2 - w^2*z^2, w*x^3*z^2 - w*z^2, x^4*z^2 - z^2, w^3*y*z^2 - w^3*z^2, w^2*x*y*z^2 - w^2*z^2, w*x^2*y*z^2 - w*z^2, x^3*y*z^2 - z^2, w^2*y^2*z^2 - w^2*z^2, w*x*y^2*z^2 - w*z^2, x^2*y^2*z^2 - z^2, w*y^3*z^2 - w*z^2, x*y^3*z^2 - z^2, y^4*z^2 - z^2, w^2*x*z^3 - w^2*z^3, w*x^2*z^3 - w*z^3, x^3*z^3 - z^3, w^2*y*z^3 - w^2*z^3, w*x*y*z^3 - w*z^3, x^2*y*z^3 - z^3, w*y^2*z^3 - w*z^3, x*y^2*z^3 - z^3, y^3*z^3 - z^3, w*x*z^4 - w*z^4, x^2*z^4 - z^4, w*y*z^4 - w*z^4, x*y*z^4 - z^4, y^2*z^4 - z^4, x*z^5 - z^5, y*z^5 - z^5, w^4*x - w^4, w^3*x^2 - w^3, w^2*x^3 - w^2, w*x^4 - w, x^5 - 1, w^4*y - w^4, w^3*x*y - w^3, w^2*x^2*y - w^2, w*x^3*y - w, x^4*y - 1, w^3*y^2 - w^3, w^2*x*y^2 - w^2, w*x^2*y^2 - w, x^3*y^2 - 1, w^2*y^3 - w^2, w*x*y^3 - w, x^2*y^3 - 1, w*y^4 - w, x*y^4 - 1, y^5 - 1, w^3*x*z - w^3*z, w^2*x^2*z - w^2*z, w*x^3*z - w*z, x^4*z - z, w^3*y*z - w^3*z, w^2*x*y*z - w^2*z, w*x^2*y*z - w*z, x^3*y*z - z, w^2*y^2*z - w^2*z, w*x*y^2*z - w*z, x^2*y^2*z - z, w*y^3*z - w*z, x*y^3*z - z, y^4*z - z, w^2*x*z^2 - w^2*z^2, w*x^2*z^2 - w*z^2, x^3*z^2 - z^2, w^2*y*z^2 - w^2*z^2, w*x*y*z^2 - w*z^2, x^2*y*z^2 - z^2, w*y^2*z^2 - w*z^2, x*y^2*z^2 - z^2, y^3*z^2 - z^2, w*x*z^3 - w*z^3, x^2*z^3 - z^3, w*y*z^3 - w*z^3, x*y*z^3 - z^3, y^2*z^3 - z^3, x*z^4 - z^4, y*z^4 - z^4, w^3*x - w^3, w^2*x^2 - w^2, w*x^3 - w, x^4 - 1, w^3*y - w^3, w^2*x*y - w^2, w*x^2*y - w, x^3*y - 1, w^2*y^2 - w^2, w*x*y^2 - w, x^2*y^2 - 1, w*y^3 - w, x*y^3 - 1, y^4 - 1, w^2*x*z - w^2*z, w*x^2*z - w*z, x^3*z - z, w^2*y*z - w^2*z, w*x*y*z - w*z, x^2*y*z - z, w*y^2*z - w*z, x*y^2*z - z, y^3*z - z, w*x*z^2 - w*z^2, x^2*z^2 - z^2, w*y*z^2 - w*z^2, x*y*z^2 - z^2, y^2*z^2 - z^2, x*z^3 - z^3, y*z^3 - z^3, w^2*x - w^2, w*x^2 - w, x^3 - 1, w^2*y - w^2, w*x*y - w, x^2*y - 1, w*y^2 - w, x*y^2 - 1, y^3 - 1, w*x*z - w*z, x^2*z - z, w*y*z - w*z, x*y*z - z, y^2*z - z, x*z^2 - z^2, y*z^2 - z^2, w*x - w, x^2 - 1, w*y - w, x*y - 1, y^2 - 1, x*z - z, y*z - z, x - 1, y - 1] True False\n",
      "[w^9, w^8*x, w^7*x^2, w^6*x^3, w^5*x^4, w^4*x^5, w^3*x^6, w^2*x^7, w*x^8, x^9, w^8*y, w^7*x*y, w^6*x^2*y, w^5*x^3*y, w^4*x^4*y, w^3*x^5*y, w^2*x^6*y, w*x^7*y, x^8*y, w^7*y^2, w^6*x*y^2, w^5*x^2*y^2, w^4*x^3*y^2, w^3*x^4*y^2, w^2*x^5*y^2, w*x^6*y^2, x^7*y^2, w^6*y^3, w^5*x*y^3, w^4*x^2*y^3, w^3*x^3*y^3, w^2*x^4*y^3, w*x^5*y^3, x^6*y^3, w^5*y^4, w^4*x*y^4, w^3*x^2*y^4, w^2*x^3*y^4, w*x^4*y^4, x^5*y^4, w^4*y^5, w^3*x*y^5, w^2*x^2*y^5, w*x^3*y^5, x^4*y^5, w^3*y^6, w^2*x*y^6, w*x^2*y^6, x^3*y^6, w^2*y^7, w*x*y^7, x^2*y^7, w*y^8, x*y^8, y^9, w^8*z, w^7*x*z, w^6*x^2*z, w^5*x^3*z, w^4*x^4*z, w^3*x^5*z, w^2*x^6*z, w*x^7*z, x^8*z, w^7*y*z, w^6*x*y*z, w^5*x^2*y*z, w^4*x^3*y*z, w^3*x^4*y*z, w^2*x^5*y*z, w*x^6*y*z, x^7*y*z, w^6*y^2*z, w^5*x*y^2*z, w^4*x^2*y^2*z, w^3*x^3*y^2*z, w^2*x^4*y^2*z, w*x^5*y^2*z, x^6*y^2*z, w^5*y^3*z, w^4*x*y^3*z, w^3*x^2*y^3*z, w^2*x^3*y^3*z, w*x^4*y^3*z, x^5*y^3*z, w^4*y^4*z, w^3*x*y^4*z, w^2*x^2*y^4*z, w*x^3*y^4*z, x^4*y^4*z, w^3*y^5*z, w^2*x*y^5*z, w*x^2*y^5*z, x^3*y^5*z, w^2*y^6*z, w*x*y^6*z, x^2*y^6*z, w*y^7*z, x*y^7*z, y^8*z, w^7*z^2, w^6*x*z^2, w^5*x^2*z^2, w^4*x^3*z^2, w^3*x^4*z^2, w^2*x^5*z^2, w*x^6*z^2, x^7*z^2, w^6*y*z^2, w^5*x*y*z^2, w^4*x^2*y*z^2, w^3*x^3*y*z^2, w^2*x^4*y*z^2, w*x^5*y*z^2, x^6*y*z^2, w^5*y^2*z^2, w^4*x*y^2*z^2, w^3*x^2*y^2*z^2, w^2*x^3*y^2*z^2, w*x^4*y^2*z^2, x^5*y^2*z^2, w^4*y^3*z^2, w^3*x*y^3*z^2, w^2*x^2*y^3*z^2, w*x^3*y^3*z^2, x^4*y^3*z^2, w^3*y^4*z^2, w^2*x*y^4*z^2, w*x^2*y^4*z^2, x^3*y^4*z^2, w^2*y^5*z^2, w*x*y^5*z^2, x^2*y^5*z^2, w*y^6*z^2, x*y^6*z^2, y^7*z^2, w^6*z^3, w^5*x*z^3, w^4*x^2*z^3, w^3*x^3*z^3, w^2*x^4*z^3, w*x^5*z^3, x^6*z^3, w^5*y*z^3, w^4*x*y*z^3, w^3*x^2*y*z^3, w^2*x^3*y*z^3, w*x^4*y*z^3, x^5*y*z^3, w^4*y^2*z^3, w^3*x*y^2*z^3, w^2*x^2*y^2*z^3, w*x^3*y^2*z^3, x^4*y^2*z^3, w^3*y^3*z^3, w^2*x*y^3*z^3, w*x^2*y^3*z^3, x^3*y^3*z^3, w^2*y^4*z^3, w*x*y^4*z^3, x^2*y^4*z^3, w*y^5*z^3, x*y^5*z^3, y^6*z^3, w^5*z^4, w^4*x*z^4, w^3*x^2*z^4, w^2*x^3*z^4, w*x^4*z^4, x^5*z^4, w^4*y*z^4, w^3*x*y*z^4, w^2*x^2*y*z^4, w*x^3*y*z^4, x^4*y*z^4, w^3*y^2*z^4, w^2*x*y^2*z^4, w*x^2*y^2*z^4, x^3*y^2*z^4, w^2*y^3*z^4, w*x*y^3*z^4, x^2*y^3*z^4, w*y^4*z^4, x*y^4*z^4, y^5*z^4, w^4*z^5, w^3*x*z^5, w^2*x^2*z^5, w*x^3*z^5, x^4*z^5, w^3*y*z^5, w^2*x*y*z^5, w*x^2*y*z^5, x^3*y*z^5, w^2*y^2*z^5, w*x*y^2*z^5, x^2*y^2*z^5, w*y^3*z^5, x*y^3*z^5, y^4*z^5, w^3*z^6, w^2*x*z^6, w*x^2*z^6, x^3*z^6, w^2*y*z^6, w*x*y*z^6, x^2*y*z^6, w*y^2*z^6, x*y^2*z^6, y^3*z^6, w^2*z^7, w*x*z^7, x^2*z^7, w*y*z^7, x*y*z^7, y^2*z^7, w*z^8, x*z^8, y*z^8, z^9, w^8, w^7*x, w^6*x^2, w^5*x^3, w^4*x^4, w^3*x^5, w^2*x^6, w*x^7, x^8, w^7*y, w^6*x*y, w^5*x^2*y, w^4*x^3*y, w^3*x^4*y, w^2*x^5*y, w*x^6*y, x^7*y, w^6*y^2, w^5*x*y^2, w^4*x^2*y^2, w^3*x^3*y^2, w^2*x^4*y^2, w*x^5*y^2, x^6*y^2, w^5*y^3, w^4*x*y^3, w^3*x^2*y^3, w^2*x^3*y^3, w*x^4*y^3, x^5*y^3, w^4*y^4, w^3*x*y^4, w^2*x^2*y^4, w*x^3*y^4, x^4*y^4, w^3*y^5, w^2*x*y^5, w*x^2*y^5, x^3*y^5, w^2*y^6, w*x*y^6, x^2*y^6, w*y^7, x*y^7, y^8, w^7*z, w^6*x*z, w^5*x^2*z, w^4*x^3*z, w^3*x^4*z, w^2*x^5*z, w*x^6*z, x^7*z, w^6*y*z, w^5*x*y*z, w^4*x^2*y*z, w^3*x^3*y*z, w^2*x^4*y*z, w*x^5*y*z, x^6*y*z, w^5*y^2*z, w^4*x*y^2*z, w^3*x^2*y^2*z, w^2*x^3*y^2*z, w*x^4*y^2*z, x^5*y^2*z, w^4*y^3*z, w^3*x*y^3*z, w^2*x^2*y^3*z, w*x^3*y^3*z, x^4*y^3*z, w^3*y^4*z, w^2*x*y^4*z, w*x^2*y^4*z, x^3*y^4*z, w^2*y^5*z, w*x*y^5*z, x^2*y^5*z, w*y^6*z, x*y^6*z, y^7*z, w^6*z^2, w^5*x*z^2, w^4*x^2*z^2, w^3*x^3*z^2, w^2*x^4*z^2, w*x^5*z^2, x^6*z^2, w^5*y*z^2, w^4*x*y*z^2, w^3*x^2*y*z^2, w^2*x^3*y*z^2, w*x^4*y*z^2, x^5*y*z^2, w^4*y^2*z^2, w^3*x*y^2*z^2, w^2*x^2*y^2*z^2, w*x^3*y^2*z^2, x^4*y^2*z^2, w^3*y^3*z^2, w^2*x*y^3*z^2, w*x^2*y^3*z^2, x^3*y^3*z^2, w^2*y^4*z^2, w*x*y^4*z^2, x^2*y^4*z^2, w*y^5*z^2, x*y^5*z^2, y^6*z^2, w^5*z^3, w^4*x*z^3, w^3*x^2*z^3, w^2*x^3*z^3, w*x^4*z^3, x^5*z^3, w^4*y*z^3, w^3*x*y*z^3, w^2*x^2*y*z^3, w*x^3*y*z^3, x^4*y*z^3, w^3*y^2*z^3, w^2*x*y^2*z^3, w*x^2*y^2*z^3, x^3*y^2*z^3, w^2*y^3*z^3, w*x*y^3*z^3, x^2*y^3*z^3, w*y^4*z^3, x*y^4*z^3, y^5*z^3, w^4*z^4, w^3*x*z^4, w^2*x^2*z^4, w*x^3*z^4, x^4*z^4, w^3*y*z^4, w^2*x*y*z^4, w*x^2*y*z^4, x^3*y*z^4, w^2*y^2*z^4, w*x*y^2*z^4, x^2*y^2*z^4, w*y^3*z^4, x*y^3*z^4, y^4*z^4, w^3*z^5, w^2*x*z^5, w*x^2*z^5, x^3*z^5, w^2*y*z^5, w*x*y*z^5, x^2*y*z^5, w*y^2*z^5, x*y^2*z^5, y^3*z^5, w^2*z^6, w*x*z^6, x^2*z^6, w*y*z^6, x*y*z^6, y^2*z^6, w*z^7, x*z^7, y*z^7, z^8, w^7, w^6*x, w^5*x^2, w^4*x^3, w^3*x^4, w^2*x^5, w*x^6, x^7, w^6*y, w^5*x*y, w^4*x^2*y, w^3*x^3*y, w^2*x^4*y, w*x^5*y, x^6*y, w^5*y^2, w^4*x*y^2, w^3*x^2*y^2, w^2*x^3*y^2, w*x^4*y^2, x^5*y^2, w^4*y^3, w^3*x*y^3, w^2*x^2*y^3, w*x^3*y^3, x^4*y^3, w^3*y^4, w^2*x*y^4, w*x^2*y^4, x^3*y^4, w^2*y^5, w*x*y^5, x^2*y^5, w*y^6, x*y^6, y^7, w^6*z, w^5*x*z, w^4*x^2*z, w^3*x^3*z, w^2*x^4*z, w*x^5*z, x^6*z, w^5*y*z, w^4*x*y*z, w^3*x^2*y*z, w^2*x^3*y*z, w*x^4*y*z, x^5*y*z, w^4*y^2*z, w^3*x*y^2*z, w^2*x^2*y^2*z, w*x^3*y^2*z, x^4*y^2*z, w^3*y^3*z, w^2*x*y^3*z, w*x^2*y^3*z, x^3*y^3*z, w^2*y^4*z, w*x*y^4*z, x^2*y^4*z, w*y^5*z, x*y^5*z, y^6*z, w^5*z^2, w^4*x*z^2, w^3*x^2*z^2, w^2*x^3*z^2, w*x^4*z^2, x^5*z^2, w^4*y*z^2, w^3*x*y*z^2, w^2*x^2*y*z^2, w*x^3*y*z^2, x^4*y*z^2, w^3*y^2*z^2, w^2*x*y^2*z^2, w*x^2*y^2*z^2, x^3*y^2*z^2, w^2*y^3*z^2, w*x*y^3*z^2, x^2*y^3*z^2, w*y^4*z^2, x*y^4*z^2, y^5*z^2, w^4*z^3, w^3*x*z^3, w^2*x^2*z^3, w*x^3*z^3, x^4*z^3, w^3*y*z^3, w^2*x*y*z^3, w*x^2*y*z^3, x^3*y*z^3, w^2*y^2*z^3, w*x*y^2*z^3, x^2*y^2*z^3, w*y^3*z^3, x*y^3*z^3, y^4*z^3, w^3*z^4, w^2*x*z^4, w*x^2*z^4, x^3*z^4, w^2*y*z^4, w*x*y*z^4, x^2*y*z^4, w*y^2*z^4, x*y^2*z^4, y^3*z^4, w^2*z^5, w*x*z^5, x^2*z^5, w*y*z^5, x*y*z^5, y^2*z^5, w*z^6, x*z^6, y*z^6, z^7, w^6, w^5*x, w^4*x^2, w^3*x^3, w^2*x^4, w*x^5, x^6, w^5*y, w^4*x*y, w^3*x^2*y, w^2*x^3*y, w*x^4*y, x^5*y, w^4*y^2, w^3*x*y^2, w^2*x^2*y^2, w*x^3*y^2, x^4*y^2, w^3*y^3, w^2*x*y^3, w*x^2*y^3, x^3*y^3, w^2*y^4, w*x*y^4, x^2*y^4, w*y^5, x*y^5, y^6, w^5*z, w^4*x*z, w^3*x^2*z, w^2*x^3*z, w*x^4*z, x^5*z, w^4*y*z, w^3*x*y*z, w^2*x^2*y*z, w*x^3*y*z, x^4*y*z, w^3*y^2*z, w^2*x*y^2*z, w*x^2*y^2*z, x^3*y^2*z, w^2*y^3*z, w*x*y^3*z, x^2*y^3*z, w*y^4*z, x*y^4*z, y^5*z, w^4*z^2, w^3*x*z^2, w^2*x^2*z^2, w*x^3*z^2, x^4*z^2, w^3*y*z^2, w^2*x*y*z^2, w*x^2*y*z^2, x^3*y*z^2, w^2*y^2*z^2, w*x*y^2*z^2, x^2*y^2*z^2, w*y^3*z^2, x*y^3*z^2, y^4*z^2, w^3*z^3, w^2*x*z^3, w*x^2*z^3, x^3*z^3, w^2*y*z^3, w*x*y*z^3, x^2*y*z^3, w*y^2*z^3, x*y^2*z^3, y^3*z^3, w^2*z^4, w*x*z^4, x^2*z^4, w*y*z^4, x*y*z^4, y^2*z^4, w*z^5, x*z^5, y*z^5, z^6, w^5, w^4*x, w^3*x^2, w^2*x^3, w*x^4, x^5, w^4*y, w^3*x*y, w^2*x^2*y, w*x^3*y, x^4*y, w^3*y^2, w^2*x*y^2, w*x^2*y^2, x^3*y^2, w^2*y^3, w*x*y^3, x^2*y^3, w*y^4, x*y^4, y^5, w^4*z, w^3*x*z, w^2*x^2*z, w*x^3*z, x^4*z, w^3*y*z, w^2*x*y*z, w*x^2*y*z, x^3*y*z, w^2*y^2*z, w*x*y^2*z, x^2*y^2*z, w*y^3*z, x*y^3*z, y^4*z, w^3*z^2, w^2*x*z^2, w*x^2*z^2, x^3*z^2, w^2*y*z^2, w*x*y*z^2, x^2*y*z^2, w*y^2*z^2, x*y^2*z^2, y^3*z^2, w^2*z^3, w*x*z^3, x^2*z^3, w*y*z^3, x*y*z^3, y^2*z^3, w*z^4, x*z^4, y*z^4, z^5, w^4, w^3*x, w^2*x^2, w*x^3, x^4, w^3*y, w^2*x*y, w*x^2*y, x^3*y, w^2*y^2, w*x*y^2, x^2*y^2, w*y^3, x*y^3, y^4, w^3*z, w^2*x*z, w*x^2*z, x^3*z, w^2*y*z, w*x*y*z, x^2*y*z, w*y^2*z, x*y^2*z, y^3*z, w^2*z^2, w*x*z^2, x^2*z^2, w*y*z^2, x*y*z^2, y^2*z^2, w*z^3, x*z^3, y*z^3, z^4, w^3, w^2*x, w*x^2, x^3, w^2*y, w*x*y, x^2*y, w*y^2, x*y^2, y^3, w^2*z, w*x*z, x^2*z, w*y*z, x*y*z, y^2*z, w*z^2, x*z^2, y*z^2, z^3, w^2, w*x, x^2, w*y, x*y, y^2, w*z, x*z, y*z, z^2, w, x, y, z, 1]\n"
     ]
    },
    {
     "name": "stdout",
     "output_type": "stream",
     "text": [
      "9 [w^9 - w^4, w^8*x - w^3, w^7*x^2 - w^2, w^6*x^3 - w, w^5*x^4 - w^5, w^4*x^5 - w^4, w^3*x^6 - w^3, w^2*x^7 - w^2, w*x^8 - w, x^9 - 1, w^8*y - w^3, w^7*x*y - w^2, w^6*x^2*y - w, w^5*x^3*y - w^5, w^4*x^4*y - w^4, w^3*x^5*y - w^3, w^2*x^6*y - w^2, w*x^7*y - w, x^8*y - 1, w^7*y^2 - w^2, w^6*x*y^2 - w, w^5*x^2*y^2 - w^5, w^4*x^3*y^2 - w^4, w^3*x^4*y^2 - w^3, w^2*x^5*y^2 - w^2, w*x^6*y^2 - w, x^7*y^2 - 1, w^6*y^3 - w, w^5*x*y^3 - w^5, w^4*x^2*y^3 - w^4, w^3*x^3*y^3 - w^3, w^2*x^4*y^3 - w^2, w*x^5*y^3 - w, x^6*y^3 - 1, w^5*y^4 - w^5, w^4*x*y^4 - w^4, w^3*x^2*y^4 - w^3, w^2*x^3*y^4 - w^2, w*x^4*y^4 - w, x^5*y^4 - 1, w^4*y^5 - w^4, w^3*x*y^5 - w^3, w^2*x^2*y^5 - w^2, w*x^3*y^5 - w, x^4*y^5 - 1, w^3*y^6 - w^3, w^2*x*y^6 - w^2, w*x^2*y^6 - w, x^3*y^6 - 1, w^2*y^7 - w^2, w*x*y^7 - w, x^2*y^7 - 1, w*y^8 - w, x*y^8 - 1, y^9 - 1, w^8*z - w^3*z, w^7*x*z - w^2*z, w^6*x^2*z - w*z, w^5*x^3*z - w^5*z, w^4*x^4*z - w^4*z, w^3*x^5*z - w^3*z, w^2*x^6*z - w^2*z, w*x^7*z - w*z, x^8*z - z, w^7*y*z - w^2*z, w^6*x*y*z - w*z, w^5*x^2*y*z - w^5*z, w^4*x^3*y*z - w^4*z, w^3*x^4*y*z - w^3*z, w^2*x^5*y*z - w^2*z, w*x^6*y*z - w*z, x^7*y*z - z, w^6*y^2*z - w*z, w^5*x*y^2*z - w^5*z, w^4*x^2*y^2*z - w^4*z, w^3*x^3*y^2*z - w^3*z, w^2*x^4*y^2*z - w^2*z, w*x^5*y^2*z - w*z, x^6*y^2*z - z, w^5*y^3*z - w^5*z, w^4*x*y^3*z - w^4*z, w^3*x^2*y^3*z - w^3*z, w^2*x^3*y^3*z - w^2*z, w*x^4*y^3*z - w*z, x^5*y^3*z - z, w^4*y^4*z - w^4*z, w^3*x*y^4*z - w^3*z, w^2*x^2*y^4*z - w^2*z, w*x^3*y^4*z - w*z, x^4*y^4*z - z, w^3*y^5*z - w^3*z, w^2*x*y^5*z - w^2*z, w*x^2*y^5*z - w*z, x^3*y^5*z - z, w^2*y^6*z - w^2*z, w*x*y^6*z - w*z, x^2*y^6*z - z, w*y^7*z - w*z, x*y^7*z - z, y^8*z - z, w^7*z^2 - w^2*z^2, w^6*x*z^2 - w*z^2, w^5*x^2*z^2 - w^5*z^2, w^4*x^3*z^2 - w^4*z^2, w^3*x^4*z^2 - w^3*z^2, w^2*x^5*z^2 - w^2*z^2, w*x^6*z^2 - w*z^2, x^7*z^2 - z^2, w^6*y*z^2 - w*z^2, w^5*x*y*z^2 - w^5*z^2, w^4*x^2*y*z^2 - w^4*z^2, w^3*x^3*y*z^2 - w^3*z^2, w^2*x^4*y*z^2 - w^2*z^2, w*x^5*y*z^2 - w*z^2, x^6*y*z^2 - z^2, w^5*y^2*z^2 - w^5*z^2, w^4*x*y^2*z^2 - w^4*z^2, w^3*x^2*y^2*z^2 - w^3*z^2, w^2*x^3*y^2*z^2 - w^2*z^2, w*x^4*y^2*z^2 - w*z^2, x^5*y^2*z^2 - z^2, w^4*y^3*z^2 - w^4*z^2, w^3*x*y^3*z^2 - w^3*z^2, w^2*x^2*y^3*z^2 - w^2*z^2, w*x^3*y^3*z^2 - w*z^2, x^4*y^3*z^2 - z^2, w^3*y^4*z^2 - w^3*z^2, w^2*x*y^4*z^2 - w^2*z^2, w*x^2*y^4*z^2 - w*z^2, x^3*y^4*z^2 - z^2, w^2*y^5*z^2 - w^2*z^2, w*x*y^5*z^2 - w*z^2, x^2*y^5*z^2 - z^2, w*y^6*z^2 - w*z^2, x*y^6*z^2 - z^2, y^7*z^2 - z^2, w^6*z^3 - w*z^3, w^5*x*z^3 - w^5*z^3, w^4*x^2*z^3 - w^4*z^3, w^3*x^3*z^3 - w^3*z^3, w^2*x^4*z^3 - w^2*z^3, w*x^5*z^3 - w*z^3, x^6*z^3 - z^3, w^5*y*z^3 - w^5*z^3, w^4*x*y*z^3 - w^4*z^3, w^3*x^2*y*z^3 - w^3*z^3, w^2*x^3*y*z^3 - w^2*z^3, w*x^4*y*z^3 - w*z^3, x^5*y*z^3 - z^3, w^4*y^2*z^3 - w^4*z^3, w^3*x*y^2*z^3 - w^3*z^3, w^2*x^2*y^2*z^3 - w^2*z^3, w*x^3*y^2*z^3 - w*z^3, x^4*y^2*z^3 - z^3, w^3*y^3*z^3 - w^3*z^3, w^2*x*y^3*z^3 - w^2*z^3, w*x^2*y^3*z^3 - w*z^3, x^3*y^3*z^3 - z^3, w^2*y^4*z^3 - w^2*z^3, w*x*y^4*z^3 - w*z^3, x^2*y^4*z^3 - z^3, w*y^5*z^3 - w*z^3, x*y^5*z^3 - z^3, y^6*z^3 - z^3, w^4*x*z^4 - w^4*z^4, w^3*x^2*z^4 - w^3*z^4, w^2*x^3*z^4 - w^2*z^4, w*x^4*z^4 - w*z^4, x^5*z^4 - z^4, w^4*y*z^4 - w^4*z^4, w^3*x*y*z^4 - w^3*z^4, w^2*x^2*y*z^4 - w^2*z^4, w*x^3*y*z^4 - w*z^4, x^4*y*z^4 - z^4, w^3*y^2*z^4 - w^3*z^4, w^2*x*y^2*z^4 - w^2*z^4, w*x^2*y^2*z^4 - w*z^4, x^3*y^2*z^4 - z^4, w^2*y^3*z^4 - w^2*z^4, w*x*y^3*z^4 - w*z^4, x^2*y^3*z^4 - z^4, w*y^4*z^4 - w*z^4, x*y^4*z^4 - z^4, y^5*z^4 - z^4, w^3*x*z^5 - w^3*z^5, w^2*x^2*z^5 - w^2*z^5, w*x^3*z^5 - w*z^5, x^4*z^5 - z^5, w^3*y*z^5 - w^3*z^5, w^2*x*y*z^5 - w^2*z^5, w*x^2*y*z^5 - w*z^5, x^3*y*z^5 - z^5, w^2*y^2*z^5 - w^2*z^5, w*x*y^2*z^5 - w*z^5, x^2*y^2*z^5 - z^5, w*y^3*z^5 - w*z^5, x*y^3*z^5 - z^5, y^4*z^5 - z^5, w^2*x*z^6 - w^2*z^6, w*x^2*z^6 - w*z^6, x^3*z^6 - z^6, w^2*y*z^6 - w^2*z^6, w*x*y*z^6 - w*z^6, x^2*y*z^6 - z^6, w*y^2*z^6 - w*z^6, x*y^2*z^6 - z^6, y^3*z^6 - z^6, w*x*z^7 - w*z^7, x^2*z^7 - z^7, w*y*z^7 - w*z^7, x*y*z^7 - z^7, y^2*z^7 - z^7, x*z^8 - z^8, y*z^8 - z^8, w^8 - w^3, w^7*x - w^2, w^6*x^2 - w, w^5*x^3 - w^5, w^4*x^4 - w^4, w^3*x^5 - w^3, w^2*x^6 - w^2, w*x^7 - w, x^8 - 1, w^7*y - w^2, w^6*x*y - w, w^5*x^2*y - w^5, w^4*x^3*y - w^4, w^3*x^4*y - w^3, w^2*x^5*y - w^2, w*x^6*y - w, x^7*y - 1, w^6*y^2 - w, w^5*x*y^2 - w^5, w^4*x^2*y^2 - w^4, w^3*x^3*y^2 - w^3, w^2*x^4*y^2 - w^2, w*x^5*y^2 - w, x^6*y^2 - 1, w^5*y^3 - w^5, w^4*x*y^3 - w^4, w^3*x^2*y^3 - w^3, w^2*x^3*y^3 - w^2, w*x^4*y^3 - w, x^5*y^3 - 1, w^4*y^4 - w^4, w^3*x*y^4 - w^3, w^2*x^2*y^4 - w^2, w*x^3*y^4 - w, x^4*y^4 - 1, w^3*y^5 - w^3, w^2*x*y^5 - w^2, w*x^2*y^5 - w, x^3*y^5 - 1, w^2*y^6 - w^2, w*x*y^6 - w, x^2*y^6 - 1, w*y^7 - w, x*y^7 - 1, y^8 - 1, w^7*z - w^2*z, w^6*x*z - w*z, w^5*x^2*z - w^5*z, w^4*x^3*z - w^4*z, w^3*x^4*z - w^3*z, w^2*x^5*z - w^2*z, w*x^6*z - w*z, x^7*z - z, w^6*y*z - w*z, w^5*x*y*z - w^5*z, w^4*x^2*y*z - w^4*z, w^3*x^3*y*z - w^3*z, w^2*x^4*y*z - w^2*z, w*x^5*y*z - w*z, x^6*y*z - z, w^5*y^2*z - w^5*z, w^4*x*y^2*z - w^4*z, w^3*x^2*y^2*z - w^3*z, w^2*x^3*y^2*z - w^2*z, w*x^4*y^2*z - w*z, x^5*y^2*z - z, w^4*y^3*z - w^4*z, w^3*x*y^3*z - w^3*z, w^2*x^2*y^3*z - w^2*z, w*x^3*y^3*z - w*z, x^4*y^3*z - z, w^3*y^4*z - w^3*z, w^2*x*y^4*z - w^2*z, w*x^2*y^4*z - w*z, x^3*y^4*z - z, w^2*y^5*z - w^2*z, w*x*y^5*z - w*z, x^2*y^5*z - z, w*y^6*z - w*z, x*y^6*z - z, y^7*z - z, w^6*z^2 - w*z^2, w^5*x*z^2 - w^5*z^2, w^4*x^2*z^2 - w^4*z^2, w^3*x^3*z^2 - w^3*z^2, w^2*x^4*z^2 - w^2*z^2, w*x^5*z^2 - w*z^2, x^6*z^2 - z^2, w^5*y*z^2 - w^5*z^2, w^4*x*y*z^2 - w^4*z^2, w^3*x^2*y*z^2 - w^3*z^2, w^2*x^3*y*z^2 - w^2*z^2, w*x^4*y*z^2 - w*z^2, x^5*y*z^2 - z^2, w^4*y^2*z^2 - w^4*z^2, w^3*x*y^2*z^2 - w^3*z^2, w^2*x^2*y^2*z^2 - w^2*z^2, w*x^3*y^2*z^2 - w*z^2, x^4*y^2*z^2 - z^2, w^3*y^3*z^2 - w^3*z^2, w^2*x*y^3*z^2 - w^2*z^2, w*x^2*y^3*z^2 - w*z^2, x^3*y^3*z^2 - z^2, w^2*y^4*z^2 - w^2*z^2, w*x*y^4*z^2 - w*z^2, x^2*y^4*z^2 - z^2, w*y^5*z^2 - w*z^2, x*y^5*z^2 - z^2, y^6*z^2 - z^2, w^4*x*z^3 - w^4*z^3, w^3*x^2*z^3 - w^3*z^3, w^2*x^3*z^3 - w^2*z^3, w*x^4*z^3 - w*z^3, x^5*z^3 - z^3, w^4*y*z^3 - w^4*z^3, w^3*x*y*z^3 - w^3*z^3, w^2*x^2*y*z^3 - w^2*z^3, w*x^3*y*z^3 - w*z^3, x^4*y*z^3 - z^3, w^3*y^2*z^3 - w^3*z^3, w^2*x*y^2*z^3 - w^2*z^3, w*x^2*y^2*z^3 - w*z^3, x^3*y^2*z^3 - z^3, w^2*y^3*z^3 - w^2*z^3, w*x*y^3*z^3 - w*z^3, x^2*y^3*z^3 - z^3, w*y^4*z^3 - w*z^3, x*y^4*z^3 - z^3, y^5*z^3 - z^3, w^3*x*z^4 - w^3*z^4, w^2*x^2*z^4 - w^2*z^4, w*x^3*z^4 - w*z^4, x^4*z^4 - z^4, w^3*y*z^4 - w^3*z^4, w^2*x*y*z^4 - w^2*z^4, w*x^2*y*z^4 - w*z^4, x^3*y*z^4 - z^4, w^2*y^2*z^4 - w^2*z^4, w*x*y^2*z^4 - w*z^4, x^2*y^2*z^4 - z^4, w*y^3*z^4 - w*z^4, x*y^3*z^4 - z^4, y^4*z^4 - z^4, w^2*x*z^5 - w^2*z^5, w*x^2*z^5 - w*z^5, x^3*z^5 - z^5, w^2*y*z^5 - w^2*z^5, w*x*y*z^5 - w*z^5, x^2*y*z^5 - z^5, w*y^2*z^5 - w*z^5, x*y^2*z^5 - z^5, y^3*z^5 - z^5, w*x*z^6 - w*z^6, x^2*z^6 - z^6, w*y*z^6 - w*z^6, x*y*z^6 - z^6, y^2*z^6 - z^6, x*z^7 - z^7, y*z^7 - z^7, w^7 - w^2, w^6*x - w, w^5*x^2 - w^5, w^4*x^3 - w^4, w^3*x^4 - w^3, w^2*x^5 - w^2, w*x^6 - w, x^7 - 1, w^6*y - w, w^5*x*y - w^5, w^4*x^2*y - w^4, w^3*x^3*y - w^3, w^2*x^4*y - w^2, w*x^5*y - w, x^6*y - 1, w^5*y^2 - w^5, w^4*x*y^2 - w^4, w^3*x^2*y^2 - w^3, w^2*x^3*y^2 - w^2, w*x^4*y^2 - w, x^5*y^2 - 1, w^4*y^3 - w^4, w^3*x*y^3 - w^3, w^2*x^2*y^3 - w^2, w*x^3*y^3 - w, x^4*y^3 - 1, w^3*y^4 - w^3, w^2*x*y^4 - w^2, w*x^2*y^4 - w, x^3*y^4 - 1, w^2*y^5 - w^2, w*x*y^5 - w, x^2*y^5 - 1, w*y^6 - w, x*y^6 - 1, y^7 - 1, w^6*z - w*z, w^5*x*z - w^5*z, w^4*x^2*z - w^4*z, w^3*x^3*z - w^3*z, w^2*x^4*z - w^2*z, w*x^5*z - w*z, x^6*z - z, w^5*y*z - w^5*z, w^4*x*y*z - w^4*z, w^3*x^2*y*z - w^3*z, w^2*x^3*y*z - w^2*z, w*x^4*y*z - w*z, x^5*y*z - z, w^4*y^2*z - w^4*z, w^3*x*y^2*z - w^3*z, w^2*x^2*y^2*z - w^2*z, w*x^3*y^2*z - w*z, x^4*y^2*z - z, w^3*y^3*z - w^3*z, w^2*x*y^3*z - w^2*z, w*x^2*y^3*z - w*z, x^3*y^3*z - z, w^2*y^4*z - w^2*z, w*x*y^4*z - w*z, x^2*y^4*z - z, w*y^5*z - w*z, x*y^5*z - z, y^6*z - z, w^4*x*z^2 - w^4*z^2, w^3*x^2*z^2 - w^3*z^2, w^2*x^3*z^2 - w^2*z^2, w*x^4*z^2 - w*z^2, x^5*z^2 - z^2, w^4*y*z^2 - w^4*z^2, w^3*x*y*z^2 - w^3*z^2, w^2*x^2*y*z^2 - w^2*z^2, w*x^3*y*z^2 - w*z^2, x^4*y*z^2 - z^2, w^3*y^2*z^2 - w^3*z^2, w^2*x*y^2*z^2 - w^2*z^2, w*x^2*y^2*z^2 - w*z^2, x^3*y^2*z^2 - z^2, w^2*y^3*z^2 - w^2*z^2, w*x*y^3*z^2 - w*z^2, x^2*y^3*z^2 - z^2, w*y^4*z^2 - w*z^2, x*y^4*z^2 - z^2, y^5*z^2 - z^2, w^3*x*z^3 - w^3*z^3, w^2*x^2*z^3 - w^2*z^3, w*x^3*z^3 - w*z^3, x^4*z^3 - z^3, w^3*y*z^3 - w^3*z^3, w^2*x*y*z^3 - w^2*z^3, w*x^2*y*z^3 - w*z^3, x^3*y*z^3 - z^3, w^2*y^2*z^3 - w^2*z^3, w*x*y^2*z^3 - w*z^3, x^2*y^2*z^3 - z^3, w*y^3*z^3 - w*z^3, x*y^3*z^3 - z^3, y^4*z^3 - z^3, w^2*x*z^4 - w^2*z^4, w*x^2*z^4 - w*z^4, x^3*z^4 - z^4, w^2*y*z^4 - w^2*z^4, w*x*y*z^4 - w*z^4, x^2*y*z^4 - z^4, w*y^2*z^4 - w*z^4, x*y^2*z^4 - z^4, y^3*z^4 - z^4, w*x*z^5 - w*z^5, x^2*z^5 - z^5, w*y*z^5 - w*z^5, x*y*z^5 - z^5, y^2*z^5 - z^5, x*z^6 - z^6, y*z^6 - z^6, w^6 - w, w^5*x - w^5, w^4*x^2 - w^4, w^3*x^3 - w^3, w^2*x^4 - w^2, w*x^5 - w, x^6 - 1, w^5*y - w^5, w^4*x*y - w^4, w^3*x^2*y - w^3, w^2*x^3*y - w^2, w*x^4*y - w, x^5*y - 1, w^4*y^2 - w^4, w^3*x*y^2 - w^3, w^2*x^2*y^2 - w^2, w*x^3*y^2 - w, x^4*y^2 - 1, w^3*y^3 - w^3, w^2*x*y^3 - w^2, w*x^2*y^3 - w, x^3*y^3 - 1, w^2*y^4 - w^2, w*x*y^4 - w, x^2*y^4 - 1, w*y^5 - w, x*y^5 - 1, y^6 - 1, w^4*x*z - w^4*z, w^3*x^2*z - w^3*z, w^2*x^3*z - w^2*z, w*x^4*z - w*z, x^5*z - z, w^4*y*z - w^4*z, w^3*x*y*z - w^3*z, w^2*x^2*y*z - w^2*z, w*x^3*y*z - w*z, x^4*y*z - z, w^3*y^2*z - w^3*z, w^2*x*y^2*z - w^2*z, w*x^2*y^2*z - w*z, x^3*y^2*z - z, w^2*y^3*z - w^2*z, w*x*y^3*z - w*z, x^2*y^3*z - z, w*y^4*z - w*z, x*y^4*z - z, y^5*z - z, w^3*x*z^2 - w^3*z^2, w^2*x^2*z^2 - w^2*z^2, w*x^3*z^2 - w*z^2, x^4*z^2 - z^2, w^3*y*z^2 - w^3*z^2, w^2*x*y*z^2 - w^2*z^2, w*x^2*y*z^2 - w*z^2, x^3*y*z^2 - z^2, w^2*y^2*z^2 - w^2*z^2, w*x*y^2*z^2 - w*z^2, x^2*y^2*z^2 - z^2, w*y^3*z^2 - w*z^2, x*y^3*z^2 - z^2, y^4*z^2 - z^2, w^2*x*z^3 - w^2*z^3, w*x^2*z^3 - w*z^3, x^3*z^3 - z^3, w^2*y*z^3 - w^2*z^3, w*x*y*z^3 - w*z^3, x^2*y*z^3 - z^3, w*y^2*z^3 - w*z^3, x*y^2*z^3 - z^3, y^3*z^3 - z^3, w*x*z^4 - w*z^4, x^2*z^4 - z^4, w*y*z^4 - w*z^4, x*y*z^4 - z^4, y^2*z^4 - z^4, x*z^5 - z^5, y*z^5 - z^5, w^4*x - w^4, w^3*x^2 - w^3, w^2*x^3 - w^2, w*x^4 - w, x^5 - 1, w^4*y - w^4, w^3*x*y - w^3, w^2*x^2*y - w^2, w*x^3*y - w, x^4*y - 1, w^3*y^2 - w^3, w^2*x*y^2 - w^2, w*x^2*y^2 - w, x^3*y^2 - 1, w^2*y^3 - w^2, w*x*y^3 - w, x^2*y^3 - 1, w*y^4 - w, x*y^4 - 1, y^5 - 1, w^3*x*z - w^3*z, w^2*x^2*z - w^2*z, w*x^3*z - w*z, x^4*z - z, w^3*y*z - w^3*z, w^2*x*y*z - w^2*z, w*x^2*y*z - w*z, x^3*y*z - z, w^2*y^2*z - w^2*z, w*x*y^2*z - w*z, x^2*y^2*z - z, w*y^3*z - w*z, x*y^3*z - z, y^4*z - z, w^2*x*z^2 - w^2*z^2, w*x^2*z^2 - w*z^2, x^3*z^2 - z^2, w^2*y*z^2 - w^2*z^2, w*x*y*z^2 - w*z^2, x^2*y*z^2 - z^2, w*y^2*z^2 - w*z^2, x*y^2*z^2 - z^2, y^3*z^2 - z^2, w*x*z^3 - w*z^3, x^2*z^3 - z^3, w*y*z^3 - w*z^3, x*y*z^3 - z^3, y^2*z^3 - z^3, x*z^4 - z^4, y*z^4 - z^4, w^3*x - w^3, w^2*x^2 - w^2, w*x^3 - w, x^4 - 1, w^3*y - w^3, w^2*x*y - w^2, w*x^2*y - w, x^3*y - 1, w^2*y^2 - w^2, w*x*y^2 - w, x^2*y^2 - 1, w*y^3 - w, x*y^3 - 1, y^4 - 1, w^2*x*z - w^2*z, w*x^2*z - w*z, x^3*z - z, w^2*y*z - w^2*z, w*x*y*z - w*z, x^2*y*z - z, w*y^2*z - w*z, x*y^2*z - z, y^3*z - z, w*x*z^2 - w*z^2, x^2*z^2 - z^2, w*y*z^2 - w*z^2, x*y*z^2 - z^2, y^2*z^2 - z^2, x*z^3 - z^3, y*z^3 - z^3, w^2*x - w^2, w*x^2 - w, x^3 - 1, w^2*y - w^2, w*x*y - w, x^2*y - 1, w*y^2 - w, x*y^2 - 1, y^3 - 1, w*x*z - w*z, x^2*z - z, w*y*z - w*z, x*y*z - z, y^2*z - z, x*z^2 - z^2, y*z^2 - z^2, w*x - w, x^2 - 1, w*y - w, x*y - 1, y^2 - 1, x*z - z, y*z - z, x - 1, y - 1] True False\n",
      "[w^10, w^9*x, w^8*x^2, w^7*x^3, w^6*x^4, w^5*x^5, w^4*x^6, w^3*x^7, w^2*x^8, w*x^9, x^10, w^9*y, w^8*x*y, w^7*x^2*y, w^6*x^3*y, w^5*x^4*y, w^4*x^5*y, w^3*x^6*y, w^2*x^7*y, w*x^8*y, x^9*y, w^8*y^2, w^7*x*y^2, w^6*x^2*y^2, w^5*x^3*y^2, w^4*x^4*y^2, w^3*x^5*y^2, w^2*x^6*y^2, w*x^7*y^2, x^8*y^2, w^7*y^3, w^6*x*y^3, w^5*x^2*y^3, w^4*x^3*y^3, w^3*x^4*y^3, w^2*x^5*y^3, w*x^6*y^3, x^7*y^3, w^6*y^4, w^5*x*y^4, w^4*x^2*y^4, w^3*x^3*y^4, w^2*x^4*y^4, w*x^5*y^4, x^6*y^4, w^5*y^5, w^4*x*y^5, w^3*x^2*y^5, w^2*x^3*y^5, w*x^4*y^5, x^5*y^5, w^4*y^6, w^3*x*y^6, w^2*x^2*y^6, w*x^3*y^6, x^4*y^6, w^3*y^7, w^2*x*y^7, w*x^2*y^7, x^3*y^7, w^2*y^8, w*x*y^8, x^2*y^8, w*y^9, x*y^9, y^10, w^9*z, w^8*x*z, w^7*x^2*z, w^6*x^3*z, w^5*x^4*z, w^4*x^5*z, w^3*x^6*z, w^2*x^7*z, w*x^8*z, x^9*z, w^8*y*z, w^7*x*y*z, w^6*x^2*y*z, w^5*x^3*y*z, w^4*x^4*y*z, w^3*x^5*y*z, w^2*x^6*y*z, w*x^7*y*z, x^8*y*z, w^7*y^2*z, w^6*x*y^2*z, w^5*x^2*y^2*z, w^4*x^3*y^2*z, w^3*x^4*y^2*z, w^2*x^5*y^2*z, w*x^6*y^2*z, x^7*y^2*z, w^6*y^3*z, w^5*x*y^3*z, w^4*x^2*y^3*z, w^3*x^3*y^3*z, w^2*x^4*y^3*z, w*x^5*y^3*z, x^6*y^3*z, w^5*y^4*z, w^4*x*y^4*z, w^3*x^2*y^4*z, w^2*x^3*y^4*z, w*x^4*y^4*z, x^5*y^4*z, w^4*y^5*z, w^3*x*y^5*z, w^2*x^2*y^5*z, w*x^3*y^5*z, x^4*y^5*z, w^3*y^6*z, w^2*x*y^6*z, w*x^2*y^6*z, x^3*y^6*z, w^2*y^7*z, w*x*y^7*z, x^2*y^7*z, w*y^8*z, x*y^8*z, y^9*z, w^8*z^2, w^7*x*z^2, w^6*x^2*z^2, w^5*x^3*z^2, w^4*x^4*z^2, w^3*x^5*z^2, w^2*x^6*z^2, w*x^7*z^2, x^8*z^2, w^7*y*z^2, w^6*x*y*z^2, w^5*x^2*y*z^2, w^4*x^3*y*z^2, w^3*x^4*y*z^2, w^2*x^5*y*z^2, w*x^6*y*z^2, x^7*y*z^2, w^6*y^2*z^2, w^5*x*y^2*z^2, w^4*x^2*y^2*z^2, w^3*x^3*y^2*z^2, w^2*x^4*y^2*z^2, w*x^5*y^2*z^2, x^6*y^2*z^2, w^5*y^3*z^2, w^4*x*y^3*z^2, w^3*x^2*y^3*z^2, w^2*x^3*y^3*z^2, w*x^4*y^3*z^2, x^5*y^3*z^2, w^4*y^4*z^2, w^3*x*y^4*z^2, w^2*x^2*y^4*z^2, w*x^3*y^4*z^2, x^4*y^4*z^2, w^3*y^5*z^2, w^2*x*y^5*z^2, w*x^2*y^5*z^2, x^3*y^5*z^2, w^2*y^6*z^2, w*x*y^6*z^2, x^2*y^6*z^2, w*y^7*z^2, x*y^7*z^2, y^8*z^2, w^7*z^3, w^6*x*z^3, w^5*x^2*z^3, w^4*x^3*z^3, w^3*x^4*z^3, w^2*x^5*z^3, w*x^6*z^3, x^7*z^3, w^6*y*z^3, w^5*x*y*z^3, w^4*x^2*y*z^3, w^3*x^3*y*z^3, w^2*x^4*y*z^3, w*x^5*y*z^3, x^6*y*z^3, w^5*y^2*z^3, w^4*x*y^2*z^3, w^3*x^2*y^2*z^3, w^2*x^3*y^2*z^3, w*x^4*y^2*z^3, x^5*y^2*z^3, w^4*y^3*z^3, w^3*x*y^3*z^3, w^2*x^2*y^3*z^3, w*x^3*y^3*z^3, x^4*y^3*z^3, w^3*y^4*z^3, w^2*x*y^4*z^3, w*x^2*y^4*z^3, x^3*y^4*z^3, w^2*y^5*z^3, w*x*y^5*z^3, x^2*y^5*z^3, w*y^6*z^3, x*y^6*z^3, y^7*z^3, w^6*z^4, w^5*x*z^4, w^4*x^2*z^4, w^3*x^3*z^4, w^2*x^4*z^4, w*x^5*z^4, x^6*z^4, w^5*y*z^4, w^4*x*y*z^4, w^3*x^2*y*z^4, w^2*x^3*y*z^4, w*x^4*y*z^4, x^5*y*z^4, w^4*y^2*z^4, w^3*x*y^2*z^4, w^2*x^2*y^2*z^4, w*x^3*y^2*z^4, x^4*y^2*z^4, w^3*y^3*z^4, w^2*x*y^3*z^4, w*x^2*y^3*z^4, x^3*y^3*z^4, w^2*y^4*z^4, w*x*y^4*z^4, x^2*y^4*z^4, w*y^5*z^4, x*y^5*z^4, y^6*z^4, w^5*z^5, w^4*x*z^5, w^3*x^2*z^5, w^2*x^3*z^5, w*x^4*z^5, x^5*z^5, w^4*y*z^5, w^3*x*y*z^5, w^2*x^2*y*z^5, w*x^3*y*z^5, x^4*y*z^5, w^3*y^2*z^5, w^2*x*y^2*z^5, w*x^2*y^2*z^5, x^3*y^2*z^5, w^2*y^3*z^5, w*x*y^3*z^5, x^2*y^3*z^5, w*y^4*z^5, x*y^4*z^5, y^5*z^5, w^4*z^6, w^3*x*z^6, w^2*x^2*z^6, w*x^3*z^6, x^4*z^6, w^3*y*z^6, w^2*x*y*z^6, w*x^2*y*z^6, x^3*y*z^6, w^2*y^2*z^6, w*x*y^2*z^6, x^2*y^2*z^6, w*y^3*z^6, x*y^3*z^6, y^4*z^6, w^3*z^7, w^2*x*z^7, w*x^2*z^7, x^3*z^7, w^2*y*z^7, w*x*y*z^7, x^2*y*z^7, w*y^2*z^7, x*y^2*z^7, y^3*z^7, w^2*z^8, w*x*z^8, x^2*z^8, w*y*z^8, x*y*z^8, y^2*z^8, w*z^9, x*z^9, y*z^9, z^10, w^9, w^8*x, w^7*x^2, w^6*x^3, w^5*x^4, w^4*x^5, w^3*x^6, w^2*x^7, w*x^8, x^9, w^8*y, w^7*x*y, w^6*x^2*y, w^5*x^3*y, w^4*x^4*y, w^3*x^5*y, w^2*x^6*y, w*x^7*y, x^8*y, w^7*y^2, w^6*x*y^2, w^5*x^2*y^2, w^4*x^3*y^2, w^3*x^4*y^2, w^2*x^5*y^2, w*x^6*y^2, x^7*y^2, w^6*y^3, w^5*x*y^3, w^4*x^2*y^3, w^3*x^3*y^3, w^2*x^4*y^3, w*x^5*y^3, x^6*y^3, w^5*y^4, w^4*x*y^4, w^3*x^2*y^4, w^2*x^3*y^4, w*x^4*y^4, x^5*y^4, w^4*y^5, w^3*x*y^5, w^2*x^2*y^5, w*x^3*y^5, x^4*y^5, w^3*y^6, w^2*x*y^6, w*x^2*y^6, x^3*y^6, w^2*y^7, w*x*y^7, x^2*y^7, w*y^8, x*y^8, y^9, w^8*z, w^7*x*z, w^6*x^2*z, w^5*x^3*z, w^4*x^4*z, w^3*x^5*z, w^2*x^6*z, w*x^7*z, x^8*z, w^7*y*z, w^6*x*y*z, w^5*x^2*y*z, w^4*x^3*y*z, w^3*x^4*y*z, w^2*x^5*y*z, w*x^6*y*z, x^7*y*z, w^6*y^2*z, w^5*x*y^2*z, w^4*x^2*y^2*z, w^3*x^3*y^2*z, w^2*x^4*y^2*z, w*x^5*y^2*z, x^6*y^2*z, w^5*y^3*z, w^4*x*y^3*z, w^3*x^2*y^3*z, w^2*x^3*y^3*z, w*x^4*y^3*z, x^5*y^3*z, w^4*y^4*z, w^3*x*y^4*z, w^2*x^2*y^4*z, w*x^3*y^4*z, x^4*y^4*z, w^3*y^5*z, w^2*x*y^5*z, w*x^2*y^5*z, x^3*y^5*z, w^2*y^6*z, w*x*y^6*z, x^2*y^6*z, w*y^7*z, x*y^7*z, y^8*z, w^7*z^2, w^6*x*z^2, w^5*x^2*z^2, w^4*x^3*z^2, w^3*x^4*z^2, w^2*x^5*z^2, w*x^6*z^2, x^7*z^2, w^6*y*z^2, w^5*x*y*z^2, w^4*x^2*y*z^2, w^3*x^3*y*z^2, w^2*x^4*y*z^2, w*x^5*y*z^2, x^6*y*z^2, w^5*y^2*z^2, w^4*x*y^2*z^2, w^3*x^2*y^2*z^2, w^2*x^3*y^2*z^2, w*x^4*y^2*z^2, x^5*y^2*z^2, w^4*y^3*z^2, w^3*x*y^3*z^2, w^2*x^2*y^3*z^2, w*x^3*y^3*z^2, x^4*y^3*z^2, w^3*y^4*z^2, w^2*x*y^4*z^2, w*x^2*y^4*z^2, x^3*y^4*z^2, w^2*y^5*z^2, w*x*y^5*z^2, x^2*y^5*z^2, w*y^6*z^2, x*y^6*z^2, y^7*z^2, w^6*z^3, w^5*x*z^3, w^4*x^2*z^3, w^3*x^3*z^3, w^2*x^4*z^3, w*x^5*z^3, x^6*z^3, w^5*y*z^3, w^4*x*y*z^3, w^3*x^2*y*z^3, w^2*x^3*y*z^3, w*x^4*y*z^3, x^5*y*z^3, w^4*y^2*z^3, w^3*x*y^2*z^3, w^2*x^2*y^2*z^3, w*x^3*y^2*z^3, x^4*y^2*z^3, w^3*y^3*z^3, w^2*x*y^3*z^3, w*x^2*y^3*z^3, x^3*y^3*z^3, w^2*y^4*z^3, w*x*y^4*z^3, x^2*y^4*z^3, w*y^5*z^3, x*y^5*z^3, y^6*z^3, w^5*z^4, w^4*x*z^4, w^3*x^2*z^4, w^2*x^3*z^4, w*x^4*z^4, x^5*z^4, w^4*y*z^4, w^3*x*y*z^4, w^2*x^2*y*z^4, w*x^3*y*z^4, x^4*y*z^4, w^3*y^2*z^4, w^2*x*y^2*z^4, w*x^2*y^2*z^4, x^3*y^2*z^4, w^2*y^3*z^4, w*x*y^3*z^4, x^2*y^3*z^4, w*y^4*z^4, x*y^4*z^4, y^5*z^4, w^4*z^5, w^3*x*z^5, w^2*x^2*z^5, w*x^3*z^5, x^4*z^5, w^3*y*z^5, w^2*x*y*z^5, w*x^2*y*z^5, x^3*y*z^5, w^2*y^2*z^5, w*x*y^2*z^5, x^2*y^2*z^5, w*y^3*z^5, x*y^3*z^5, y^4*z^5, w^3*z^6, w^2*x*z^6, w*x^2*z^6, x^3*z^6, w^2*y*z^6, w*x*y*z^6, x^2*y*z^6, w*y^2*z^6, x*y^2*z^6, y^3*z^6, w^2*z^7, w*x*z^7, x^2*z^7, w*y*z^7, x*y*z^7, y^2*z^7, w*z^8, x*z^8, y*z^8, z^9, w^8, w^7*x, w^6*x^2, w^5*x^3, w^4*x^4, w^3*x^5, w^2*x^6, w*x^7, x^8, w^7*y, w^6*x*y, w^5*x^2*y, w^4*x^3*y, w^3*x^4*y, w^2*x^5*y, w*x^6*y, x^7*y, w^6*y^2, w^5*x*y^2, w^4*x^2*y^2, w^3*x^3*y^2, w^2*x^4*y^2, w*x^5*y^2, x^6*y^2, w^5*y^3, w^4*x*y^3, w^3*x^2*y^3, w^2*x^3*y^3, w*x^4*y^3, x^5*y^3, w^4*y^4, w^3*x*y^4, w^2*x^2*y^4, w*x^3*y^4, x^4*y^4, w^3*y^5, w^2*x*y^5, w*x^2*y^5, x^3*y^5, w^2*y^6, w*x*y^6, x^2*y^6, w*y^7, x*y^7, y^8, w^7*z, w^6*x*z, w^5*x^2*z, w^4*x^3*z, w^3*x^4*z, w^2*x^5*z, w*x^6*z, x^7*z, w^6*y*z, w^5*x*y*z, w^4*x^2*y*z, w^3*x^3*y*z, w^2*x^4*y*z, w*x^5*y*z, x^6*y*z, w^5*y^2*z, w^4*x*y^2*z, w^3*x^2*y^2*z, w^2*x^3*y^2*z, w*x^4*y^2*z, x^5*y^2*z, w^4*y^3*z, w^3*x*y^3*z, w^2*x^2*y^3*z, w*x^3*y^3*z, x^4*y^3*z, w^3*y^4*z, w^2*x*y^4*z, w*x^2*y^4*z, x^3*y^4*z, w^2*y^5*z, w*x*y^5*z, x^2*y^5*z, w*y^6*z, x*y^6*z, y^7*z, w^6*z^2, w^5*x*z^2, w^4*x^2*z^2, w^3*x^3*z^2, w^2*x^4*z^2, w*x^5*z^2, x^6*z^2, w^5*y*z^2, w^4*x*y*z^2, w^3*x^2*y*z^2, w^2*x^3*y*z^2, w*x^4*y*z^2, x^5*y*z^2, w^4*y^2*z^2, w^3*x*y^2*z^2, w^2*x^2*y^2*z^2, w*x^3*y^2*z^2, x^4*y^2*z^2, w^3*y^3*z^2, w^2*x*y^3*z^2, w*x^2*y^3*z^2, x^3*y^3*z^2, w^2*y^4*z^2, w*x*y^4*z^2, x^2*y^4*z^2, w*y^5*z^2, x*y^5*z^2, y^6*z^2, w^5*z^3, w^4*x*z^3, w^3*x^2*z^3, w^2*x^3*z^3, w*x^4*z^3, x^5*z^3, w^4*y*z^3, w^3*x*y*z^3, w^2*x^2*y*z^3, w*x^3*y*z^3, x^4*y*z^3, w^3*y^2*z^3, w^2*x*y^2*z^3, w*x^2*y^2*z^3, x^3*y^2*z^3, w^2*y^3*z^3, w*x*y^3*z^3, x^2*y^3*z^3, w*y^4*z^3, x*y^4*z^3, y^5*z^3, w^4*z^4, w^3*x*z^4, w^2*x^2*z^4, w*x^3*z^4, x^4*z^4, w^3*y*z^4, w^2*x*y*z^4, w*x^2*y*z^4, x^3*y*z^4, w^2*y^2*z^4, w*x*y^2*z^4, x^2*y^2*z^4, w*y^3*z^4, x*y^3*z^4, y^4*z^4, w^3*z^5, w^2*x*z^5, w*x^2*z^5, x^3*z^5, w^2*y*z^5, w*x*y*z^5, x^2*y*z^5, w*y^2*z^5, x*y^2*z^5, y^3*z^5, w^2*z^6, w*x*z^6, x^2*z^6, w*y*z^6, x*y*z^6, y^2*z^6, w*z^7, x*z^7, y*z^7, z^8, w^7, w^6*x, w^5*x^2, w^4*x^3, w^3*x^4, w^2*x^5, w*x^6, x^7, w^6*y, w^5*x*y, w^4*x^2*y, w^3*x^3*y, w^2*x^4*y, w*x^5*y, x^6*y, w^5*y^2, w^4*x*y^2, w^3*x^2*y^2, w^2*x^3*y^2, w*x^4*y^2, x^5*y^2, w^4*y^3, w^3*x*y^3, w^2*x^2*y^3, w*x^3*y^3, x^4*y^3, w^3*y^4, w^2*x*y^4, w*x^2*y^4, x^3*y^4, w^2*y^5, w*x*y^5, x^2*y^5, w*y^6, x*y^6, y^7, w^6*z, w^5*x*z, w^4*x^2*z, w^3*x^3*z, w^2*x^4*z, w*x^5*z, x^6*z, w^5*y*z, w^4*x*y*z, w^3*x^2*y*z, w^2*x^3*y*z, w*x^4*y*z, x^5*y*z, w^4*y^2*z, w^3*x*y^2*z, w^2*x^2*y^2*z, w*x^3*y^2*z, x^4*y^2*z, w^3*y^3*z, w^2*x*y^3*z, w*x^2*y^3*z, x^3*y^3*z, w^2*y^4*z, w*x*y^4*z, x^2*y^4*z, w*y^5*z, x*y^5*z, y^6*z, w^5*z^2, w^4*x*z^2, w^3*x^2*z^2, w^2*x^3*z^2, w*x^4*z^2, x^5*z^2, w^4*y*z^2, w^3*x*y*z^2, w^2*x^2*y*z^2, w*x^3*y*z^2, x^4*y*z^2, w^3*y^2*z^2, w^2*x*y^2*z^2, w*x^2*y^2*z^2, x^3*y^2*z^2, w^2*y^3*z^2, w*x*y^3*z^2, x^2*y^3*z^2, w*y^4*z^2, x*y^4*z^2, y^5*z^2, w^4*z^3, w^3*x*z^3, w^2*x^2*z^3, w*x^3*z^3, x^4*z^3, w^3*y*z^3, w^2*x*y*z^3, w*x^2*y*z^3, x^3*y*z^3, w^2*y^2*z^3, w*x*y^2*z^3, x^2*y^2*z^3, w*y^3*z^3, x*y^3*z^3, y^4*z^3, w^3*z^4, w^2*x*z^4, w*x^2*z^4, x^3*z^4, w^2*y*z^4, w*x*y*z^4, x^2*y*z^4, w*y^2*z^4, x*y^2*z^4, y^3*z^4, w^2*z^5, w*x*z^5, x^2*z^5, w*y*z^5, x*y*z^5, y^2*z^5, w*z^6, x*z^6, y*z^6, z^7, w^6, w^5*x, w^4*x^2, w^3*x^3, w^2*x^4, w*x^5, x^6, w^5*y, w^4*x*y, w^3*x^2*y, w^2*x^3*y, w*x^4*y, x^5*y, w^4*y^2, w^3*x*y^2, w^2*x^2*y^2, w*x^3*y^2, x^4*y^2, w^3*y^3, w^2*x*y^3, w*x^2*y^3, x^3*y^3, w^2*y^4, w*x*y^4, x^2*y^4, w*y^5, x*y^5, y^6, w^5*z, w^4*x*z, w^3*x^2*z, w^2*x^3*z, w*x^4*z, x^5*z, w^4*y*z, w^3*x*y*z, w^2*x^2*y*z, w*x^3*y*z, x^4*y*z, w^3*y^2*z, w^2*x*y^2*z, w*x^2*y^2*z, x^3*y^2*z, w^2*y^3*z, w*x*y^3*z, x^2*y^3*z, w*y^4*z, x*y^4*z, y^5*z, w^4*z^2, w^3*x*z^2, w^2*x^2*z^2, w*x^3*z^2, x^4*z^2, w^3*y*z^2, w^2*x*y*z^2, w*x^2*y*z^2, x^3*y*z^2, w^2*y^2*z^2, w*x*y^2*z^2, x^2*y^2*z^2, w*y^3*z^2, x*y^3*z^2, y^4*z^2, w^3*z^3, w^2*x*z^3, w*x^2*z^3, x^3*z^3, w^2*y*z^3, w*x*y*z^3, x^2*y*z^3, w*y^2*z^3, x*y^2*z^3, y^3*z^3, w^2*z^4, w*x*z^4, x^2*z^4, w*y*z^4, x*y*z^4, y^2*z^4, w*z^5, x*z^5, y*z^5, z^6, w^5, w^4*x, w^3*x^2, w^2*x^3, w*x^4, x^5, w^4*y, w^3*x*y, w^2*x^2*y, w*x^3*y, x^4*y, w^3*y^2, w^2*x*y^2, w*x^2*y^2, x^3*y^2, w^2*y^3, w*x*y^3, x^2*y^3, w*y^4, x*y^4, y^5, w^4*z, w^3*x*z, w^2*x^2*z, w*x^3*z, x^4*z, w^3*y*z, w^2*x*y*z, w*x^2*y*z, x^3*y*z, w^2*y^2*z, w*x*y^2*z, x^2*y^2*z, w*y^3*z, x*y^3*z, y^4*z, w^3*z^2, w^2*x*z^2, w*x^2*z^2, x^3*z^2, w^2*y*z^2, w*x*y*z^2, x^2*y*z^2, w*y^2*z^2, x*y^2*z^2, y^3*z^2, w^2*z^3, w*x*z^3, x^2*z^3, w*y*z^3, x*y*z^3, y^2*z^3, w*z^4, x*z^4, y*z^4, z^5, w^4, w^3*x, w^2*x^2, w*x^3, x^4, w^3*y, w^2*x*y, w*x^2*y, x^3*y, w^2*y^2, w*x*y^2, x^2*y^2, w*y^3, x*y^3, y^4, w^3*z, w^2*x*z, w*x^2*z, x^3*z, w^2*y*z, w*x*y*z, x^2*y*z, w*y^2*z, x*y^2*z, y^3*z, w^2*z^2, w*x*z^2, x^2*z^2, w*y*z^2, x*y*z^2, y^2*z^2, w*z^3, x*z^3, y*z^3, z^4, w^3, w^2*x, w*x^2, x^3, w^2*y, w*x*y, x^2*y, w*y^2, x*y^2, y^3, w^2*z, w*x*z, x^2*z, w*y*z, x*y*z, y^2*z, w*z^2, x*z^2, y*z^2, z^3, w^2, w*x, x^2, w*y, x*y, y^2, w*z, x*z, y*z, z^2, w, x, y, z, 1]\n"
     ]
    },
    {
     "name": "stdout",
     "output_type": "stream",
     "text": [
      "10 [w^10 - w^5, w^9*x - w^4, w^8*x^2 - w^3, w^7*x^3 - w^2, w^6*x^4 - w, w^5*x^5 - w^5, w^4*x^6 - w^4, w^3*x^7 - w^3, w^2*x^8 - w^2, w*x^9 - w, x^10 - 1, w^9*y - w^4, w^8*x*y - w^3, w^7*x^2*y - w^2, w^6*x^3*y - w, w^5*x^4*y - w^5, w^4*x^5*y - w^4, w^3*x^6*y - w^3, w^2*x^7*y - w^2, w*x^8*y - w, x^9*y - 1, w^8*y^2 - w^3, w^7*x*y^2 - w^2, w^6*x^2*y^2 - w, w^5*x^3*y^2 - w^5, w^4*x^4*y^2 - w^4, w^3*x^5*y^2 - w^3, w^2*x^6*y^2 - w^2, w*x^7*y^2 - w, x^8*y^2 - 1, w^7*y^3 - w^2, w^6*x*y^3 - w, w^5*x^2*y^3 - w^5, w^4*x^3*y^3 - w^4, w^3*x^4*y^3 - w^3, w^2*x^5*y^3 - w^2, w*x^6*y^3 - w, x^7*y^3 - 1, w^6*y^4 - w, w^5*x*y^4 - w^5, w^4*x^2*y^4 - w^4, w^3*x^3*y^4 - w^3, w^2*x^4*y^4 - w^2, w*x^5*y^4 - w, x^6*y^4 - 1, w^5*y^5 - w^5, w^4*x*y^5 - w^4, w^3*x^2*y^5 - w^3, w^2*x^3*y^5 - w^2, w*x^4*y^5 - w, x^5*y^5 - 1, w^4*y^6 - w^4, w^3*x*y^6 - w^3, w^2*x^2*y^6 - w^2, w*x^3*y^6 - w, x^4*y^6 - 1, w^3*y^7 - w^3, w^2*x*y^7 - w^2, w*x^2*y^7 - w, x^3*y^7 - 1, w^2*y^8 - w^2, w*x*y^8 - w, x^2*y^8 - 1, w*y^9 - w, x*y^9 - 1, y^10 - 1, w^9*z - w^4*z, w^8*x*z - w^3*z, w^7*x^2*z - w^2*z, w^6*x^3*z - w*z, w^5*x^4*z - w^5*z, w^4*x^5*z - w^4*z, w^3*x^6*z - w^3*z, w^2*x^7*z - w^2*z, w*x^8*z - w*z, x^9*z - z, w^8*y*z - w^3*z, w^7*x*y*z - w^2*z, w^6*x^2*y*z - w*z, w^5*x^3*y*z - w^5*z, w^4*x^4*y*z - w^4*z, w^3*x^5*y*z - w^3*z, w^2*x^6*y*z - w^2*z, w*x^7*y*z - w*z, x^8*y*z - z, w^7*y^2*z - w^2*z, w^6*x*y^2*z - w*z, w^5*x^2*y^2*z - w^5*z, w^4*x^3*y^2*z - w^4*z, w^3*x^4*y^2*z - w^3*z, w^2*x^5*y^2*z - w^2*z, w*x^6*y^2*z - w*z, x^7*y^2*z - z, w^6*y^3*z - w*z, w^5*x*y^3*z - w^5*z, w^4*x^2*y^3*z - w^4*z, w^3*x^3*y^3*z - w^3*z, w^2*x^4*y^3*z - w^2*z, w*x^5*y^3*z - w*z, x^6*y^3*z - z, w^5*y^4*z - w^5*z, w^4*x*y^4*z - w^4*z, w^3*x^2*y^4*z - w^3*z, w^2*x^3*y^4*z - w^2*z, w*x^4*y^4*z - w*z, x^5*y^4*z - z, w^4*y^5*z - w^4*z, w^3*x*y^5*z - w^3*z, w^2*x^2*y^5*z - w^2*z, w*x^3*y^5*z - w*z, x^4*y^5*z - z, w^3*y^6*z - w^3*z, w^2*x*y^6*z - w^2*z, w*x^2*y^6*z - w*z, x^3*y^6*z - z, w^2*y^7*z - w^2*z, w*x*y^7*z - w*z, x^2*y^7*z - z, w*y^8*z - w*z, x*y^8*z - z, y^9*z - z, w^8*z^2 - w^3*z^2, w^7*x*z^2 - w^2*z^2, w^6*x^2*z^2 - w*z^2, w^5*x^3*z^2 - w^5*z^2, w^4*x^4*z^2 - w^4*z^2, w^3*x^5*z^2 - w^3*z^2, w^2*x^6*z^2 - w^2*z^2, w*x^7*z^2 - w*z^2, x^8*z^2 - z^2, w^7*y*z^2 - w^2*z^2, w^6*x*y*z^2 - w*z^2, w^5*x^2*y*z^2 - w^5*z^2, w^4*x^3*y*z^2 - w^4*z^2, w^3*x^4*y*z^2 - w^3*z^2, w^2*x^5*y*z^2 - w^2*z^2, w*x^6*y*z^2 - w*z^2, x^7*y*z^2 - z^2, w^6*y^2*z^2 - w*z^2, w^5*x*y^2*z^2 - w^5*z^2, w^4*x^2*y^2*z^2 - w^4*z^2, w^3*x^3*y^2*z^2 - w^3*z^2, w^2*x^4*y^2*z^2 - w^2*z^2, w*x^5*y^2*z^2 - w*z^2, x^6*y^2*z^2 - z^2, w^5*y^3*z^2 - w^5*z^2, w^4*x*y^3*z^2 - w^4*z^2, w^3*x^2*y^3*z^2 - w^3*z^2, w^2*x^3*y^3*z^2 - w^2*z^2, w*x^4*y^3*z^2 - w*z^2, x^5*y^3*z^2 - z^2, w^4*y^4*z^2 - w^4*z^2, w^3*x*y^4*z^2 - w^3*z^2, w^2*x^2*y^4*z^2 - w^2*z^2, w*x^3*y^4*z^2 - w*z^2, x^4*y^4*z^2 - z^2, w^3*y^5*z^2 - w^3*z^2, w^2*x*y^5*z^2 - w^2*z^2, w*x^2*y^5*z^2 - w*z^2, x^3*y^5*z^2 - z^2, w^2*y^6*z^2 - w^2*z^2, w*x*y^6*z^2 - w*z^2, x^2*y^6*z^2 - z^2, w*y^7*z^2 - w*z^2, x*y^7*z^2 - z^2, y^8*z^2 - z^2, w^7*z^3 - w^2*z^3, w^6*x*z^3 - w*z^3, w^5*x^2*z^3 - w^5*z^3, w^4*x^3*z^3 - w^4*z^3, w^3*x^4*z^3 - w^3*z^3, w^2*x^5*z^3 - w^2*z^3, w*x^6*z^3 - w*z^3, x^7*z^3 - z^3, w^6*y*z^3 - w*z^3, w^5*x*y*z^3 - w^5*z^3, w^4*x^2*y*z^3 - w^4*z^3, w^3*x^3*y*z^3 - w^3*z^3, w^2*x^4*y*z^3 - w^2*z^3, w*x^5*y*z^3 - w*z^3, x^6*y*z^3 - z^3, w^5*y^2*z^3 - w^5*z^3, w^4*x*y^2*z^3 - w^4*z^3, w^3*x^2*y^2*z^3 - w^3*z^3, w^2*x^3*y^2*z^3 - w^2*z^3, w*x^4*y^2*z^3 - w*z^3, x^5*y^2*z^3 - z^3, w^4*y^3*z^3 - w^4*z^3, w^3*x*y^3*z^3 - w^3*z^3, w^2*x^2*y^3*z^3 - w^2*z^3, w*x^3*y^3*z^3 - w*z^3, x^4*y^3*z^3 - z^3, w^3*y^4*z^3 - w^3*z^3, w^2*x*y^4*z^3 - w^2*z^3, w*x^2*y^4*z^3 - w*z^3, x^3*y^4*z^3 - z^3, w^2*y^5*z^3 - w^2*z^3, w*x*y^5*z^3 - w*z^3, x^2*y^5*z^3 - z^3, w*y^6*z^3 - w*z^3, x*y^6*z^3 - z^3, y^7*z^3 - z^3, w^6*z^4 - w*z^4, w^5*x*z^4 - w^5*z^4, w^4*x^2*z^4 - w^4*z^4, w^3*x^3*z^4 - w^3*z^4, w^2*x^4*z^4 - w^2*z^4, w*x^5*z^4 - w*z^4, x^6*z^4 - z^4, w^5*y*z^4 - w^5*z^4, w^4*x*y*z^4 - w^4*z^4, w^3*x^2*y*z^4 - w^3*z^4, w^2*x^3*y*z^4 - w^2*z^4, w*x^4*y*z^4 - w*z^4, x^5*y*z^4 - z^4, w^4*y^2*z^4 - w^4*z^4, w^3*x*y^2*z^4 - w^3*z^4, w^2*x^2*y^2*z^4 - w^2*z^4, w*x^3*y^2*z^4 - w*z^4, x^4*y^2*z^4 - z^4, w^3*y^3*z^4 - w^3*z^4, w^2*x*y^3*z^4 - w^2*z^4, w*x^2*y^3*z^4 - w*z^4, x^3*y^3*z^4 - z^4, w^2*y^4*z^4 - w^2*z^4, w*x*y^4*z^4 - w*z^4, x^2*y^4*z^4 - z^4, w*y^5*z^4 - w*z^4, x*y^5*z^4 - z^4, y^6*z^4 - z^4, w^5*z^5 - 1, w^4*x*z^5 - w^4*z^5, w^3*x^2*z^5 - w^3*z^5, w^2*x^3*z^5 - w^2*z^5, w*x^4*z^5 - w*z^5, x^5*z^5 - z^5, w^4*y*z^5 - w^4*z^5, w^3*x*y*z^5 - w^3*z^5, w^2*x^2*y*z^5 - w^2*z^5, w*x^3*y*z^5 - w*z^5, x^4*y*z^5 - z^5, w^3*y^2*z^5 - w^3*z^5, w^2*x*y^2*z^5 - w^2*z^5, w*x^2*y^2*z^5 - w*z^5, x^3*y^2*z^5 - z^5, w^2*y^3*z^5 - w^2*z^5, w*x*y^3*z^5 - w*z^5, x^2*y^3*z^5 - z^5, w*y^4*z^5 - w*z^5, x*y^4*z^5 - z^5, y^5*z^5 - z^5, w^3*x*z^6 - w^3*z^6, w^2*x^2*z^6 - w^2*z^6, w*x^3*z^6 - w*z^6, x^4*z^6 - z^6, w^3*y*z^6 - w^3*z^6, w^2*x*y*z^6 - w^2*z^6, w*x^2*y*z^6 - w*z^6, x^3*y*z^6 - z^6, w^2*y^2*z^6 - w^2*z^6, w*x*y^2*z^6 - w*z^6, x^2*y^2*z^6 - z^6, w*y^3*z^6 - w*z^6, x*y^3*z^6 - z^6, y^4*z^6 - z^6, w^2*x*z^7 - w^2*z^7, w*x^2*z^7 - w*z^7, x^3*z^7 - z^7, w^2*y*z^7 - w^2*z^7, w*x*y*z^7 - w*z^7, x^2*y*z^7 - z^7, w*y^2*z^7 - w*z^7, x*y^2*z^7 - z^7, y^3*z^7 - z^7, w*x*z^8 - w*z^8, x^2*z^8 - z^8, w*y*z^8 - w*z^8, x*y*z^8 - z^8, y^2*z^8 - z^8, x*z^9 - z^9, y*z^9 - z^9, w^9 - w^4, w^8*x - w^3, w^7*x^2 - w^2, w^6*x^3 - w, w^5*x^4 - w^5, w^4*x^5 - w^4, w^3*x^6 - w^3, w^2*x^7 - w^2, w*x^8 - w, x^9 - 1, w^8*y - w^3, w^7*x*y - w^2, w^6*x^2*y - w, w^5*x^3*y - w^5, w^4*x^4*y - w^4, w^3*x^5*y - w^3, w^2*x^6*y - w^2, w*x^7*y - w, x^8*y - 1, w^7*y^2 - w^2, w^6*x*y^2 - w, w^5*x^2*y^2 - w^5, w^4*x^3*y^2 - w^4, w^3*x^4*y^2 - w^3, w^2*x^5*y^2 - w^2, w*x^6*y^2 - w, x^7*y^2 - 1, w^6*y^3 - w, w^5*x*y^3 - w^5, w^4*x^2*y^3 - w^4, w^3*x^3*y^3 - w^3, w^2*x^4*y^3 - w^2, w*x^5*y^3 - w, x^6*y^3 - 1, w^5*y^4 - w^5, w^4*x*y^4 - w^4, w^3*x^2*y^4 - w^3, w^2*x^3*y^4 - w^2, w*x^4*y^4 - w, x^5*y^4 - 1, w^4*y^5 - w^4, w^3*x*y^5 - w^3, w^2*x^2*y^5 - w^2, w*x^3*y^5 - w, x^4*y^5 - 1, w^3*y^6 - w^3, w^2*x*y^6 - w^2, w*x^2*y^6 - w, x^3*y^6 - 1, w^2*y^7 - w^2, w*x*y^7 - w, x^2*y^7 - 1, w*y^8 - w, x*y^8 - 1, y^9 - 1, w^8*z - w^3*z, w^7*x*z - w^2*z, w^6*x^2*z - w*z, w^5*x^3*z - w^5*z, w^4*x^4*z - w^4*z, w^3*x^5*z - w^3*z, w^2*x^6*z - w^2*z, w*x^7*z - w*z, x^8*z - z, w^7*y*z - w^2*z, w^6*x*y*z - w*z, w^5*x^2*y*z - w^5*z, w^4*x^3*y*z - w^4*z, w^3*x^4*y*z - w^3*z, w^2*x^5*y*z - w^2*z, w*x^6*y*z - w*z, x^7*y*z - z, w^6*y^2*z - w*z, w^5*x*y^2*z - w^5*z, w^4*x^2*y^2*z - w^4*z, w^3*x^3*y^2*z - w^3*z, w^2*x^4*y^2*z - w^2*z, w*x^5*y^2*z - w*z, x^6*y^2*z - z, w^5*y^3*z - w^5*z, w^4*x*y^3*z - w^4*z, w^3*x^2*y^3*z - w^3*z, w^2*x^3*y^3*z - w^2*z, w*x^4*y^3*z - w*z, x^5*y^3*z - z, w^4*y^4*z - w^4*z, w^3*x*y^4*z - w^3*z, w^2*x^2*y^4*z - w^2*z, w*x^3*y^4*z - w*z, x^4*y^4*z - z, w^3*y^5*z - w^3*z, w^2*x*y^5*z - w^2*z, w*x^2*y^5*z - w*z, x^3*y^5*z - z, w^2*y^6*z - w^2*z, w*x*y^6*z - w*z, x^2*y^6*z - z, w*y^7*z - w*z, x*y^7*z - z, y^8*z - z, w^7*z^2 - w^2*z^2, w^6*x*z^2 - w*z^2, w^5*x^2*z^2 - w^5*z^2, w^4*x^3*z^2 - w^4*z^2, w^3*x^4*z^2 - w^3*z^2, w^2*x^5*z^2 - w^2*z^2, w*x^6*z^2 - w*z^2, x^7*z^2 - z^2, w^6*y*z^2 - w*z^2, w^5*x*y*z^2 - w^5*z^2, w^4*x^2*y*z^2 - w^4*z^2, w^3*x^3*y*z^2 - w^3*z^2, w^2*x^4*y*z^2 - w^2*z^2, w*x^5*y*z^2 - w*z^2, x^6*y*z^2 - z^2, w^5*y^2*z^2 - w^5*z^2, w^4*x*y^2*z^2 - w^4*z^2, w^3*x^2*y^2*z^2 - w^3*z^2, w^2*x^3*y^2*z^2 - w^2*z^2, w*x^4*y^2*z^2 - w*z^2, x^5*y^2*z^2 - z^2, w^4*y^3*z^2 - w^4*z^2, w^3*x*y^3*z^2 - w^3*z^2, w^2*x^2*y^3*z^2 - w^2*z^2, w*x^3*y^3*z^2 - w*z^2, x^4*y^3*z^2 - z^2, w^3*y^4*z^2 - w^3*z^2, w^2*x*y^4*z^2 - w^2*z^2, w*x^2*y^4*z^2 - w*z^2, x^3*y^4*z^2 - z^2, w^2*y^5*z^2 - w^2*z^2, w*x*y^5*z^2 - w*z^2, x^2*y^5*z^2 - z^2, w*y^6*z^2 - w*z^2, x*y^6*z^2 - z^2, y^7*z^2 - z^2, w^6*z^3 - w*z^3, w^5*x*z^3 - w^5*z^3, w^4*x^2*z^3 - w^4*z^3, w^3*x^3*z^3 - w^3*z^3, w^2*x^4*z^3 - w^2*z^3, w*x^5*z^3 - w*z^3, x^6*z^3 - z^3, w^5*y*z^3 - w^5*z^3, w^4*x*y*z^3 - w^4*z^3, w^3*x^2*y*z^3 - w^3*z^3, w^2*x^3*y*z^3 - w^2*z^3, w*x^4*y*z^3 - w*z^3, x^5*y*z^3 - z^3, w^4*y^2*z^3 - w^4*z^3, w^3*x*y^2*z^3 - w^3*z^3, w^2*x^2*y^2*z^3 - w^2*z^3, w*x^3*y^2*z^3 - w*z^3, x^4*y^2*z^3 - z^3, w^3*y^3*z^3 - w^3*z^3, w^2*x*y^3*z^3 - w^2*z^3, w*x^2*y^3*z^3 - w*z^3, x^3*y^3*z^3 - z^3, w^2*y^4*z^3 - w^2*z^3, w*x*y^4*z^3 - w*z^3, x^2*y^4*z^3 - z^3, w*y^5*z^3 - w*z^3, x*y^5*z^3 - z^3, y^6*z^3 - z^3, w^4*x*z^4 - w^4*z^4, w^3*x^2*z^4 - w^3*z^4, w^2*x^3*z^4 - w^2*z^4, w*x^4*z^4 - w*z^4, x^5*z^4 - z^4, w^4*y*z^4 - w^4*z^4, w^3*x*y*z^4 - w^3*z^4, w^2*x^2*y*z^4 - w^2*z^4, w*x^3*y*z^4 - w*z^4, x^4*y*z^4 - z^4, w^3*y^2*z^4 - w^3*z^4, w^2*x*y^2*z^4 - w^2*z^4, w*x^2*y^2*z^4 - w*z^4, x^3*y^2*z^4 - z^4, w^2*y^3*z^4 - w^2*z^4, w*x*y^3*z^4 - w*z^4, x^2*y^3*z^4 - z^4, w*y^4*z^4 - w*z^4, x*y^4*z^4 - z^4, y^5*z^4 - z^4, w^3*x*z^5 - w^3*z^5, w^2*x^2*z^5 - w^2*z^5, w*x^3*z^5 - w*z^5, x^4*z^5 - z^5, w^3*y*z^5 - w^3*z^5, w^2*x*y*z^5 - w^2*z^5, w*x^2*y*z^5 - w*z^5, x^3*y*z^5 - z^5, w^2*y^2*z^5 - w^2*z^5, w*x*y^2*z^5 - w*z^5, x^2*y^2*z^5 - z^5, w*y^3*z^5 - w*z^5, x*y^3*z^5 - z^5, y^4*z^5 - z^5, w^2*x*z^6 - w^2*z^6, w*x^2*z^6 - w*z^6, x^3*z^6 - z^6, w^2*y*z^6 - w^2*z^6, w*x*y*z^6 - w*z^6, x^2*y*z^6 - z^6, w*y^2*z^6 - w*z^6, x*y^2*z^6 - z^6, y^3*z^6 - z^6, w*x*z^7 - w*z^7, x^2*z^7 - z^7, w*y*z^7 - w*z^7, x*y*z^7 - z^7, y^2*z^7 - z^7, x*z^8 - z^8, y*z^8 - z^8, w^8 - w^3, w^7*x - w^2, w^6*x^2 - w, w^5*x^3 - w^5, w^4*x^4 - w^4, w^3*x^5 - w^3, w^2*x^6 - w^2, w*x^7 - w, x^8 - 1, w^7*y - w^2, w^6*x*y - w, w^5*x^2*y - w^5, w^4*x^3*y - w^4, w^3*x^4*y - w^3, w^2*x^5*y - w^2, w*x^6*y - w, x^7*y - 1, w^6*y^2 - w, w^5*x*y^2 - w^5, w^4*x^2*y^2 - w^4, w^3*x^3*y^2 - w^3, w^2*x^4*y^2 - w^2, w*x^5*y^2 - w, x^6*y^2 - 1, w^5*y^3 - w^5, w^4*x*y^3 - w^4, w^3*x^2*y^3 - w^3, w^2*x^3*y^3 - w^2, w*x^4*y^3 - w, x^5*y^3 - 1, w^4*y^4 - w^4, w^3*x*y^4 - w^3, w^2*x^2*y^4 - w^2, w*x^3*y^4 - w, x^4*y^4 - 1, w^3*y^5 - w^3, w^2*x*y^5 - w^2, w*x^2*y^5 - w, x^3*y^5 - 1, w^2*y^6 - w^2, w*x*y^6 - w, x^2*y^6 - 1, w*y^7 - w, x*y^7 - 1, y^8 - 1, w^7*z - w^2*z, w^6*x*z - w*z, w^5*x^2*z - w^5*z, w^4*x^3*z - w^4*z, w^3*x^4*z - w^3*z, w^2*x^5*z - w^2*z, w*x^6*z - w*z, x^7*z - z, w^6*y*z - w*z, w^5*x*y*z - w^5*z, w^4*x^2*y*z - w^4*z, w^3*x^3*y*z - w^3*z, w^2*x^4*y*z - w^2*z, w*x^5*y*z - w*z, x^6*y*z - z, w^5*y^2*z - w^5*z, w^4*x*y^2*z - w^4*z, w^3*x^2*y^2*z - w^3*z, w^2*x^3*y^2*z - w^2*z, w*x^4*y^2*z - w*z, x^5*y^2*z - z, w^4*y^3*z - w^4*z, w^3*x*y^3*z - w^3*z, w^2*x^2*y^3*z - w^2*z, w*x^3*y^3*z - w*z, x^4*y^3*z - z, w^3*y^4*z - w^3*z, w^2*x*y^4*z - w^2*z, w*x^2*y^4*z - w*z, x^3*y^4*z - z, w^2*y^5*z - w^2*z, w*x*y^5*z - w*z, x^2*y^5*z - z, w*y^6*z - w*z, x*y^6*z - z, y^7*z - z, w^6*z^2 - w*z^2, w^5*x*z^2 - w^5*z^2, w^4*x^2*z^2 - w^4*z^2, w^3*x^3*z^2 - w^3*z^2, w^2*x^4*z^2 - w^2*z^2, w*x^5*z^2 - w*z^2, x^6*z^2 - z^2, w^5*y*z^2 - w^5*z^2, w^4*x*y*z^2 - w^4*z^2, w^3*x^2*y*z^2 - w^3*z^2, w^2*x^3*y*z^2 - w^2*z^2, w*x^4*y*z^2 - w*z^2, x^5*y*z^2 - z^2, w^4*y^2*z^2 - w^4*z^2, w^3*x*y^2*z^2 - w^3*z^2, w^2*x^2*y^2*z^2 - w^2*z^2, w*x^3*y^2*z^2 - w*z^2, x^4*y^2*z^2 - z^2, w^3*y^3*z^2 - w^3*z^2, w^2*x*y^3*z^2 - w^2*z^2, w*x^2*y^3*z^2 - w*z^2, x^3*y^3*z^2 - z^2, w^2*y^4*z^2 - w^2*z^2, w*x*y^4*z^2 - w*z^2, x^2*y^4*z^2 - z^2, w*y^5*z^2 - w*z^2, x*y^5*z^2 - z^2, y^6*z^2 - z^2, w^4*x*z^3 - w^4*z^3, w^3*x^2*z^3 - w^3*z^3, w^2*x^3*z^3 - w^2*z^3, w*x^4*z^3 - w*z^3, x^5*z^3 - z^3, w^4*y*z^3 - w^4*z^3, w^3*x*y*z^3 - w^3*z^3, w^2*x^2*y*z^3 - w^2*z^3, w*x^3*y*z^3 - w*z^3, x^4*y*z^3 - z^3, w^3*y^2*z^3 - w^3*z^3, w^2*x*y^2*z^3 - w^2*z^3, w*x^2*y^2*z^3 - w*z^3, x^3*y^2*z^3 - z^3, w^2*y^3*z^3 - w^2*z^3, w*x*y^3*z^3 - w*z^3, x^2*y^3*z^3 - z^3, w*y^4*z^3 - w*z^3, x*y^4*z^3 - z^3, y^5*z^3 - z^3, w^3*x*z^4 - w^3*z^4, w^2*x^2*z^4 - w^2*z^4, w*x^3*z^4 - w*z^4, x^4*z^4 - z^4, w^3*y*z^4 - w^3*z^4, w^2*x*y*z^4 - w^2*z^4, w*x^2*y*z^4 - w*z^4, x^3*y*z^4 - z^4, w^2*y^2*z^4 - w^2*z^4, w*x*y^2*z^4 - w*z^4, x^2*y^2*z^4 - z^4, w*y^3*z^4 - w*z^4, x*y^3*z^4 - z^4, y^4*z^4 - z^4, w^2*x*z^5 - w^2*z^5, w*x^2*z^5 - w*z^5, x^3*z^5 - z^5, w^2*y*z^5 - w^2*z^5, w*x*y*z^5 - w*z^5, x^2*y*z^5 - z^5, w*y^2*z^5 - w*z^5, x*y^2*z^5 - z^5, y^3*z^5 - z^5, w*x*z^6 - w*z^6, x^2*z^6 - z^6, w*y*z^6 - w*z^6, x*y*z^6 - z^6, y^2*z^6 - z^6, x*z^7 - z^7, y*z^7 - z^7, w^7 - w^2, w^6*x - w, w^5*x^2 - w^5, w^4*x^3 - w^4, w^3*x^4 - w^3, w^2*x^5 - w^2, w*x^6 - w, x^7 - 1, w^6*y - w, w^5*x*y - w^5, w^4*x^2*y - w^4, w^3*x^3*y - w^3, w^2*x^4*y - w^2, w*x^5*y - w, x^6*y - 1, w^5*y^2 - w^5, w^4*x*y^2 - w^4, w^3*x^2*y^2 - w^3, w^2*x^3*y^2 - w^2, w*x^4*y^2 - w, x^5*y^2 - 1, w^4*y^3 - w^4, w^3*x*y^3 - w^3, w^2*x^2*y^3 - w^2, w*x^3*y^3 - w, x^4*y^3 - 1, w^3*y^4 - w^3, w^2*x*y^4 - w^2, w*x^2*y^4 - w, x^3*y^4 - 1, w^2*y^5 - w^2, w*x*y^5 - w, x^2*y^5 - 1, w*y^6 - w, x*y^6 - 1, y^7 - 1, w^6*z - w*z, w^5*x*z - w^5*z, w^4*x^2*z - w^4*z, w^3*x^3*z - w^3*z, w^2*x^4*z - w^2*z, w*x^5*z - w*z, x^6*z - z, w^5*y*z - w^5*z, w^4*x*y*z - w^4*z, w^3*x^2*y*z - w^3*z, w^2*x^3*y*z - w^2*z, w*x^4*y*z - w*z, x^5*y*z - z, w^4*y^2*z - w^4*z, w^3*x*y^2*z - w^3*z, w^2*x^2*y^2*z - w^2*z, w*x^3*y^2*z - w*z, x^4*y^2*z - z, w^3*y^3*z - w^3*z, w^2*x*y^3*z - w^2*z, w*x^2*y^3*z - w*z, x^3*y^3*z - z, w^2*y^4*z - w^2*z, w*x*y^4*z - w*z, x^2*y^4*z - z, w*y^5*z - w*z, x*y^5*z - z, y^6*z - z, w^4*x*z^2 - w^4*z^2, w^3*x^2*z^2 - w^3*z^2, w^2*x^3*z^2 - w^2*z^2, w*x^4*z^2 - w*z^2, x^5*z^2 - z^2, w^4*y*z^2 - w^4*z^2, w^3*x*y*z^2 - w^3*z^2, w^2*x^2*y*z^2 - w^2*z^2, w*x^3*y*z^2 - w*z^2, x^4*y*z^2 - z^2, w^3*y^2*z^2 - w^3*z^2, w^2*x*y^2*z^2 - w^2*z^2, w*x^2*y^2*z^2 - w*z^2, x^3*y^2*z^2 - z^2, w^2*y^3*z^2 - w^2*z^2, w*x*y^3*z^2 - w*z^2, x^2*y^3*z^2 - z^2, w*y^4*z^2 - w*z^2, x*y^4*z^2 - z^2, y^5*z^2 - z^2, w^3*x*z^3 - w^3*z^3, w^2*x^2*z^3 - w^2*z^3, w*x^3*z^3 - w*z^3, x^4*z^3 - z^3, w^3*y*z^3 - w^3*z^3, w^2*x*y*z^3 - w^2*z^3, w*x^2*y*z^3 - w*z^3, x^3*y*z^3 - z^3, w^2*y^2*z^3 - w^2*z^3, w*x*y^2*z^3 - w*z^3, x^2*y^2*z^3 - z^3, w*y^3*z^3 - w*z^3, x*y^3*z^3 - z^3, y^4*z^3 - z^3, w^2*x*z^4 - w^2*z^4, w*x^2*z^4 - w*z^4, x^3*z^4 - z^4, w^2*y*z^4 - w^2*z^4, w*x*y*z^4 - w*z^4, x^2*y*z^4 - z^4, w*y^2*z^4 - w*z^4, x*y^2*z^4 - z^4, y^3*z^4 - z^4, w*x*z^5 - w*z^5, x^2*z^5 - z^5, w*y*z^5 - w*z^5, x*y*z^5 - z^5, y^2*z^5 - z^5, x*z^6 - z^6, y*z^6 - z^6, w^6 - w, w^5*x - w^5, w^4*x^2 - w^4, w^3*x^3 - w^3, w^2*x^4 - w^2, w*x^5 - w, x^6 - 1, w^5*y - w^5, w^4*x*y - w^4, w^3*x^2*y - w^3, w^2*x^3*y - w^2, w*x^4*y - w, x^5*y - 1, w^4*y^2 - w^4, w^3*x*y^2 - w^3, w^2*x^2*y^2 - w^2, w*x^3*y^2 - w, x^4*y^2 - 1, w^3*y^3 - w^3, w^2*x*y^3 - w^2, w*x^2*y^3 - w, x^3*y^3 - 1, w^2*y^4 - w^2, w*x*y^4 - w, x^2*y^4 - 1, w*y^5 - w, x*y^5 - 1, y^6 - 1, w^4*x*z - w^4*z, w^3*x^2*z - w^3*z, w^2*x^3*z - w^2*z, w*x^4*z - w*z, x^5*z - z, w^4*y*z - w^4*z, w^3*x*y*z - w^3*z, w^2*x^2*y*z - w^2*z, w*x^3*y*z - w*z, x^4*y*z - z, w^3*y^2*z - w^3*z, w^2*x*y^2*z - w^2*z, w*x^2*y^2*z - w*z, x^3*y^2*z - z, w^2*y^3*z - w^2*z, w*x*y^3*z - w*z, x^2*y^3*z - z, w*y^4*z - w*z, x*y^4*z - z, y^5*z - z, w^3*x*z^2 - w^3*z^2, w^2*x^2*z^2 - w^2*z^2, w*x^3*z^2 - w*z^2, x^4*z^2 - z^2, w^3*y*z^2 - w^3*z^2, w^2*x*y*z^2 - w^2*z^2, w*x^2*y*z^2 - w*z^2, x^3*y*z^2 - z^2, w^2*y^2*z^2 - w^2*z^2, w*x*y^2*z^2 - w*z^2, x^2*y^2*z^2 - z^2, w*y^3*z^2 - w*z^2, x*y^3*z^2 - z^2, y^4*z^2 - z^2, w^2*x*z^3 - w^2*z^3, w*x^2*z^3 - w*z^3, x^3*z^3 - z^3, w^2*y*z^3 - w^2*z^3, w*x*y*z^3 - w*z^3, x^2*y*z^3 - z^3, w*y^2*z^3 - w*z^3, x*y^2*z^3 - z^3, y^3*z^3 - z^3, w*x*z^4 - w*z^4, x^2*z^4 - z^4, w*y*z^4 - w*z^4, x*y*z^4 - z^4, y^2*z^4 - z^4, x*z^5 - z^5, y*z^5 - z^5, w^4*x - w^4, w^3*x^2 - w^3, w^2*x^3 - w^2, w*x^4 - w, x^5 - 1, w^4*y - w^4, w^3*x*y - w^3, w^2*x^2*y - w^2, w*x^3*y - w, x^4*y - 1, w^3*y^2 - w^3, w^2*x*y^2 - w^2, w*x^2*y^2 - w, x^3*y^2 - 1, w^2*y^3 - w^2, w*x*y^3 - w, x^2*y^3 - 1, w*y^4 - w, x*y^4 - 1, y^5 - 1, w^3*x*z - w^3*z, w^2*x^2*z - w^2*z, w*x^3*z - w*z, x^4*z - z, w^3*y*z - w^3*z, w^2*x*y*z - w^2*z, w*x^2*y*z - w*z, x^3*y*z - z, w^2*y^2*z - w^2*z, w*x*y^2*z - w*z, x^2*y^2*z - z, w*y^3*z - w*z, x*y^3*z - z, y^4*z - z, w^2*x*z^2 - w^2*z^2, w*x^2*z^2 - w*z^2, x^3*z^2 - z^2, w^2*y*z^2 - w^2*z^2, w*x*y*z^2 - w*z^2, x^2*y*z^2 - z^2, w*y^2*z^2 - w*z^2, x*y^2*z^2 - z^2, y^3*z^2 - z^2, w*x*z^3 - w*z^3, x^2*z^3 - z^3, w*y*z^3 - w*z^3, x*y*z^3 - z^3, y^2*z^3 - z^3, x*z^4 - z^4, y*z^4 - z^4, w^3*x - w^3, w^2*x^2 - w^2, w*x^3 - w, x^4 - 1, w^3*y - w^3, w^2*x*y - w^2, w*x^2*y - w, x^3*y - 1, w^2*y^2 - w^2, w*x*y^2 - w, x^2*y^2 - 1, w*y^3 - w, x*y^3 - 1, y^4 - 1, w^2*x*z - w^2*z, w*x^2*z - w*z, x^3*z - z, w^2*y*z - w^2*z, w*x*y*z - w*z, x^2*y*z - z, w*y^2*z - w*z, x*y^2*z - z, y^3*z - z, w*x*z^2 - w*z^2, x^2*z^2 - z^2, w*y*z^2 - w*z^2, x*y*z^2 - z^2, y^2*z^2 - z^2, x*z^3 - z^3, y*z^3 - z^3, w^2*x - w^2, w*x^2 - w, x^3 - 1, w^2*y - w^2, w*x*y - w, x^2*y - 1, w*y^2 - w, x*y^2 - 1, y^3 - 1, w*x*z - w*z, x^2*z - z, w*y*z - w*z, x*y*z - z, y^2*z - z, x*z^2 - z^2, y*z^2 - z^2, w*x - w, x^2 - 1, w*y - w, x*y - 1, y^2 - 1, x*z - z, y*z - z, x - 1, y - 1] False True\n",
      "[w^11, w^10*x, w^9*x^2, w^8*x^3, w^7*x^4, w^6*x^5, w^5*x^6, w^4*x^7, w^3*x^8, w^2*x^9, w*x^10, x^11, w^10*y, w^9*x*y, w^8*x^2*y, w^7*x^3*y, w^6*x^4*y, w^5*x^5*y, w^4*x^6*y, w^3*x^7*y, w^2*x^8*y, w*x^9*y, x^10*y, w^9*y^2, w^8*x*y^2, w^7*x^2*y^2, w^6*x^3*y^2, w^5*x^4*y^2, w^4*x^5*y^2, w^3*x^6*y^2, w^2*x^7*y^2, w*x^8*y^2, x^9*y^2, w^8*y^3, w^7*x*y^3, w^6*x^2*y^3, w^5*x^3*y^3, w^4*x^4*y^3, w^3*x^5*y^3, w^2*x^6*y^3, w*x^7*y^3, x^8*y^3, w^7*y^4, w^6*x*y^4, w^5*x^2*y^4, w^4*x^3*y^4, w^3*x^4*y^4, w^2*x^5*y^4, w*x^6*y^4, x^7*y^4, w^6*y^5, w^5*x*y^5, w^4*x^2*y^5, w^3*x^3*y^5, w^2*x^4*y^5, w*x^5*y^5, x^6*y^5, w^5*y^6, w^4*x*y^6, w^3*x^2*y^6, w^2*x^3*y^6, w*x^4*y^6, x^5*y^6, w^4*y^7, w^3*x*y^7, w^2*x^2*y^7, w*x^3*y^7, x^4*y^7, w^3*y^8, w^2*x*y^8, w*x^2*y^8, x^3*y^8, w^2*y^9, w*x*y^9, x^2*y^9, w*y^10, x*y^10, y^11, w^10*z, w^9*x*z, w^8*x^2*z, w^7*x^3*z, w^6*x^4*z, w^5*x^5*z, w^4*x^6*z, w^3*x^7*z, w^2*x^8*z, w*x^9*z, x^10*z, w^9*y*z, w^8*x*y*z, w^7*x^2*y*z, w^6*x^3*y*z, w^5*x^4*y*z, w^4*x^5*y*z, w^3*x^6*y*z, w^2*x^7*y*z, w*x^8*y*z, x^9*y*z, w^8*y^2*z, w^7*x*y^2*z, w^6*x^2*y^2*z, w^5*x^3*y^2*z, w^4*x^4*y^2*z, w^3*x^5*y^2*z, w^2*x^6*y^2*z, w*x^7*y^2*z, x^8*y^2*z, w^7*y^3*z, w^6*x*y^3*z, w^5*x^2*y^3*z, w^4*x^3*y^3*z, w^3*x^4*y^3*z, w^2*x^5*y^3*z, w*x^6*y^3*z, x^7*y^3*z, w^6*y^4*z, w^5*x*y^4*z, w^4*x^2*y^4*z, w^3*x^3*y^4*z, w^2*x^4*y^4*z, w*x^5*y^4*z, x^6*y^4*z, w^5*y^5*z, w^4*x*y^5*z, w^3*x^2*y^5*z, w^2*x^3*y^5*z, w*x^4*y^5*z, x^5*y^5*z, w^4*y^6*z, w^3*x*y^6*z, w^2*x^2*y^6*z, w*x^3*y^6*z, x^4*y^6*z, w^3*y^7*z, w^2*x*y^7*z, w*x^2*y^7*z, x^3*y^7*z, w^2*y^8*z, w*x*y^8*z, x^2*y^8*z, w*y^9*z, x*y^9*z, y^10*z, w^9*z^2, w^8*x*z^2, w^7*x^2*z^2, w^6*x^3*z^2, w^5*x^4*z^2, w^4*x^5*z^2, w^3*x^6*z^2, w^2*x^7*z^2, w*x^8*z^2, x^9*z^2, w^8*y*z^2, w^7*x*y*z^2, w^6*x^2*y*z^2, w^5*x^3*y*z^2, w^4*x^4*y*z^2, w^3*x^5*y*z^2, w^2*x^6*y*z^2, w*x^7*y*z^2, x^8*y*z^2, w^7*y^2*z^2, w^6*x*y^2*z^2, w^5*x^2*y^2*z^2, w^4*x^3*y^2*z^2, w^3*x^4*y^2*z^2, w^2*x^5*y^2*z^2, w*x^6*y^2*z^2, x^7*y^2*z^2, w^6*y^3*z^2, w^5*x*y^3*z^2, w^4*x^2*y^3*z^2, w^3*x^3*y^3*z^2, w^2*x^4*y^3*z^2, w*x^5*y^3*z^2, x^6*y^3*z^2, w^5*y^4*z^2, w^4*x*y^4*z^2, w^3*x^2*y^4*z^2, w^2*x^3*y^4*z^2, w*x^4*y^4*z^2, x^5*y^4*z^2, w^4*y^5*z^2, w^3*x*y^5*z^2, w^2*x^2*y^5*z^2, w*x^3*y^5*z^2, x^4*y^5*z^2, w^3*y^6*z^2, w^2*x*y^6*z^2, w*x^2*y^6*z^2, x^3*y^6*z^2, w^2*y^7*z^2, w*x*y^7*z^2, x^2*y^7*z^2, w*y^8*z^2, x*y^8*z^2, y^9*z^2, w^8*z^3, w^7*x*z^3, w^6*x^2*z^3, w^5*x^3*z^3, w^4*x^4*z^3, w^3*x^5*z^3, w^2*x^6*z^3, w*x^7*z^3, x^8*z^3, w^7*y*z^3, w^6*x*y*z^3, w^5*x^2*y*z^3, w^4*x^3*y*z^3, w^3*x^4*y*z^3, w^2*x^5*y*z^3, w*x^6*y*z^3, x^7*y*z^3, w^6*y^2*z^3, w^5*x*y^2*z^3, w^4*x^2*y^2*z^3, w^3*x^3*y^2*z^3, w^2*x^4*y^2*z^3, w*x^5*y^2*z^3, x^6*y^2*z^3, w^5*y^3*z^3, w^4*x*y^3*z^3, w^3*x^2*y^3*z^3, w^2*x^3*y^3*z^3, w*x^4*y^3*z^3, x^5*y^3*z^3, w^4*y^4*z^3, w^3*x*y^4*z^3, w^2*x^2*y^4*z^3, w*x^3*y^4*z^3, x^4*y^4*z^3, w^3*y^5*z^3, w^2*x*y^5*z^3, w*x^2*y^5*z^3, x^3*y^5*z^3, w^2*y^6*z^3, w*x*y^6*z^3, x^2*y^6*z^3, w*y^7*z^3, x*y^7*z^3, y^8*z^3, w^7*z^4, w^6*x*z^4, w^5*x^2*z^4, w^4*x^3*z^4, w^3*x^4*z^4, w^2*x^5*z^4, w*x^6*z^4, x^7*z^4, w^6*y*z^4, w^5*x*y*z^4, w^4*x^2*y*z^4, w^3*x^3*y*z^4, w^2*x^4*y*z^4, w*x^5*y*z^4, x^6*y*z^4, w^5*y^2*z^4, w^4*x*y^2*z^4, w^3*x^2*y^2*z^4, w^2*x^3*y^2*z^4, w*x^4*y^2*z^4, x^5*y^2*z^4, w^4*y^3*z^4, w^3*x*y^3*z^4, w^2*x^2*y^3*z^4, w*x^3*y^3*z^4, x^4*y^3*z^4, w^3*y^4*z^4, w^2*x*y^4*z^4, w*x^2*y^4*z^4, x^3*y^4*z^4, w^2*y^5*z^4, w*x*y^5*z^4, x^2*y^5*z^4, w*y^6*z^4, x*y^6*z^4, y^7*z^4, w^6*z^5, w^5*x*z^5, w^4*x^2*z^5, w^3*x^3*z^5, w^2*x^4*z^5, w*x^5*z^5, x^6*z^5, w^5*y*z^5, w^4*x*y*z^5, w^3*x^2*y*z^5, w^2*x^3*y*z^5, w*x^4*y*z^5, x^5*y*z^5, w^4*y^2*z^5, w^3*x*y^2*z^5, w^2*x^2*y^2*z^5, w*x^3*y^2*z^5, x^4*y^2*z^5, w^3*y^3*z^5, w^2*x*y^3*z^5, w*x^2*y^3*z^5, x^3*y^3*z^5, w^2*y^4*z^5, w*x*y^4*z^5, x^2*y^4*z^5, w*y^5*z^5, x*y^5*z^5, y^6*z^5, w^5*z^6, w^4*x*z^6, w^3*x^2*z^6, w^2*x^3*z^6, w*x^4*z^6, x^5*z^6, w^4*y*z^6, w^3*x*y*z^6, w^2*x^2*y*z^6, w*x^3*y*z^6, x^4*y*z^6, w^3*y^2*z^6, w^2*x*y^2*z^6, w*x^2*y^2*z^6, x^3*y^2*z^6, w^2*y^3*z^6, w*x*y^3*z^6, x^2*y^3*z^6, w*y^4*z^6, x*y^4*z^6, y^5*z^6, w^4*z^7, w^3*x*z^7, w^2*x^2*z^7, w*x^3*z^7, x^4*z^7, w^3*y*z^7, w^2*x*y*z^7, w*x^2*y*z^7, x^3*y*z^7, w^2*y^2*z^7, w*x*y^2*z^7, x^2*y^2*z^7, w*y^3*z^7, x*y^3*z^7, y^4*z^7, w^3*z^8, w^2*x*z^8, w*x^2*z^8, x^3*z^8, w^2*y*z^8, w*x*y*z^8, x^2*y*z^8, w*y^2*z^8, x*y^2*z^8, y^3*z^8, w^2*z^9, w*x*z^9, x^2*z^9, w*y*z^9, x*y*z^9, y^2*z^9, w*z^10, x*z^10, y*z^10, z^11, w^10, w^9*x, w^8*x^2, w^7*x^3, w^6*x^4, w^5*x^5, w^4*x^6, w^3*x^7, w^2*x^8, w*x^9, x^10, w^9*y, w^8*x*y, w^7*x^2*y, w^6*x^3*y, w^5*x^4*y, w^4*x^5*y, w^3*x^6*y, w^2*x^7*y, w*x^8*y, x^9*y, w^8*y^2, w^7*x*y^2, w^6*x^2*y^2, w^5*x^3*y^2, w^4*x^4*y^2, w^3*x^5*y^2, w^2*x^6*y^2, w*x^7*y^2, x^8*y^2, w^7*y^3, w^6*x*y^3, w^5*x^2*y^3, w^4*x^3*y^3, w^3*x^4*y^3, w^2*x^5*y^3, w*x^6*y^3, x^7*y^3, w^6*y^4, w^5*x*y^4, w^4*x^2*y^4, w^3*x^3*y^4, w^2*x^4*y^4, w*x^5*y^4, x^6*y^4, w^5*y^5, w^4*x*y^5, w^3*x^2*y^5, w^2*x^3*y^5, w*x^4*y^5, x^5*y^5, w^4*y^6, w^3*x*y^6, w^2*x^2*y^6, w*x^3*y^6, x^4*y^6, w^3*y^7, w^2*x*y^7, w*x^2*y^7, x^3*y^7, w^2*y^8, w*x*y^8, x^2*y^8, w*y^9, x*y^9, y^10, w^9*z, w^8*x*z, w^7*x^2*z, w^6*x^3*z, w^5*x^4*z, w^4*x^5*z, w^3*x^6*z, w^2*x^7*z, w*x^8*z, x^9*z, w^8*y*z, w^7*x*y*z, w^6*x^2*y*z, w^5*x^3*y*z, w^4*x^4*y*z, w^3*x^5*y*z, w^2*x^6*y*z, w*x^7*y*z, x^8*y*z, w^7*y^2*z, w^6*x*y^2*z, w^5*x^2*y^2*z, w^4*x^3*y^2*z, w^3*x^4*y^2*z, w^2*x^5*y^2*z, w*x^6*y^2*z, x^7*y^2*z, w^6*y^3*z, w^5*x*y^3*z, w^4*x^2*y^3*z, w^3*x^3*y^3*z, w^2*x^4*y^3*z, w*x^5*y^3*z, x^6*y^3*z, w^5*y^4*z, w^4*x*y^4*z, w^3*x^2*y^4*z, w^2*x^3*y^4*z, w*x^4*y^4*z, x^5*y^4*z, w^4*y^5*z, w^3*x*y^5*z, w^2*x^2*y^5*z, w*x^3*y^5*z, x^4*y^5*z, w^3*y^6*z, w^2*x*y^6*z, w*x^2*y^6*z, x^3*y^6*z, w^2*y^7*z, w*x*y^7*z, x^2*y^7*z, w*y^8*z, x*y^8*z, y^9*z, w^8*z^2, w^7*x*z^2, w^6*x^2*z^2, w^5*x^3*z^2, w^4*x^4*z^2, w^3*x^5*z^2, w^2*x^6*z^2, w*x^7*z^2, x^8*z^2, w^7*y*z^2, w^6*x*y*z^2, w^5*x^2*y*z^2, w^4*x^3*y*z^2, w^3*x^4*y*z^2, w^2*x^5*y*z^2, w*x^6*y*z^2, x^7*y*z^2, w^6*y^2*z^2, w^5*x*y^2*z^2, w^4*x^2*y^2*z^2, w^3*x^3*y^2*z^2, w^2*x^4*y^2*z^2, w*x^5*y^2*z^2, x^6*y^2*z^2, w^5*y^3*z^2, w^4*x*y^3*z^2, w^3*x^2*y^3*z^2, w^2*x^3*y^3*z^2, w*x^4*y^3*z^2, x^5*y^3*z^2, w^4*y^4*z^2, w^3*x*y^4*z^2, w^2*x^2*y^4*z^2, w*x^3*y^4*z^2, x^4*y^4*z^2, w^3*y^5*z^2, w^2*x*y^5*z^2, w*x^2*y^5*z^2, x^3*y^5*z^2, w^2*y^6*z^2, w*x*y^6*z^2, x^2*y^6*z^2, w*y^7*z^2, x*y^7*z^2, y^8*z^2, w^7*z^3, w^6*x*z^3, w^5*x^2*z^3, w^4*x^3*z^3, w^3*x^4*z^3, w^2*x^5*z^3, w*x^6*z^3, x^7*z^3, w^6*y*z^3, w^5*x*y*z^3, w^4*x^2*y*z^3, w^3*x^3*y*z^3, w^2*x^4*y*z^3, w*x^5*y*z^3, x^6*y*z^3, w^5*y^2*z^3, w^4*x*y^2*z^3, w^3*x^2*y^2*z^3, w^2*x^3*y^2*z^3, w*x^4*y^2*z^3, x^5*y^2*z^3, w^4*y^3*z^3, w^3*x*y^3*z^3, w^2*x^2*y^3*z^3, w*x^3*y^3*z^3, x^4*y^3*z^3, w^3*y^4*z^3, w^2*x*y^4*z^3, w*x^2*y^4*z^3, x^3*y^4*z^3, w^2*y^5*z^3, w*x*y^5*z^3, x^2*y^5*z^3, w*y^6*z^3, x*y^6*z^3, y^7*z^3, w^6*z^4, w^5*x*z^4, w^4*x^2*z^4, w^3*x^3*z^4, w^2*x^4*z^4, w*x^5*z^4, x^6*z^4, w^5*y*z^4, w^4*x*y*z^4, w^3*x^2*y*z^4, w^2*x^3*y*z^4, w*x^4*y*z^4, x^5*y*z^4, w^4*y^2*z^4, w^3*x*y^2*z^4, w^2*x^2*y^2*z^4, w*x^3*y^2*z^4, x^4*y^2*z^4, w^3*y^3*z^4, w^2*x*y^3*z^4, w*x^2*y^3*z^4, x^3*y^3*z^4, w^2*y^4*z^4, w*x*y^4*z^4, x^2*y^4*z^4, w*y^5*z^4, x*y^5*z^4, y^6*z^4, w^5*z^5, w^4*x*z^5, w^3*x^2*z^5, w^2*x^3*z^5, w*x^4*z^5, x^5*z^5, w^4*y*z^5, w^3*x*y*z^5, w^2*x^2*y*z^5, w*x^3*y*z^5, x^4*y*z^5, w^3*y^2*z^5, w^2*x*y^2*z^5, w*x^2*y^2*z^5, x^3*y^2*z^5, w^2*y^3*z^5, w*x*y^3*z^5, x^2*y^3*z^5, w*y^4*z^5, x*y^4*z^5, y^5*z^5, w^4*z^6, w^3*x*z^6, w^2*x^2*z^6, w*x^3*z^6, x^4*z^6, w^3*y*z^6, w^2*x*y*z^6, w*x^2*y*z^6, x^3*y*z^6, w^2*y^2*z^6, w*x*y^2*z^6, x^2*y^2*z^6, w*y^3*z^6, x*y^3*z^6, y^4*z^6, w^3*z^7, w^2*x*z^7, w*x^2*z^7, x^3*z^7, w^2*y*z^7, w*x*y*z^7, x^2*y*z^7, w*y^2*z^7, x*y^2*z^7, y^3*z^7, w^2*z^8, w*x*z^8, x^2*z^8, w*y*z^8, x*y*z^8, y^2*z^8, w*z^9, x*z^9, y*z^9, z^10, w^9, w^8*x, w^7*x^2, w^6*x^3, w^5*x^4, w^4*x^5, w^3*x^6, w^2*x^7, w*x^8, x^9, w^8*y, w^7*x*y, w^6*x^2*y, w^5*x^3*y, w^4*x^4*y, w^3*x^5*y, w^2*x^6*y, w*x^7*y, x^8*y, w^7*y^2, w^6*x*y^2, w^5*x^2*y^2, w^4*x^3*y^2, w^3*x^4*y^2, w^2*x^5*y^2, w*x^6*y^2, x^7*y^2, w^6*y^3, w^5*x*y^3, w^4*x^2*y^3, w^3*x^3*y^3, w^2*x^4*y^3, w*x^5*y^3, x^6*y^3, w^5*y^4, w^4*x*y^4, w^3*x^2*y^4, w^2*x^3*y^4, w*x^4*y^4, x^5*y^4, w^4*y^5, w^3*x*y^5, w^2*x^2*y^5, w*x^3*y^5, x^4*y^5, w^3*y^6, w^2*x*y^6, w*x^2*y^6, x^3*y^6, w^2*y^7, w*x*y^7, x^2*y^7, w*y^8, x*y^8, y^9, w^8*z, w^7*x*z, w^6*x^2*z, w^5*x^3*z, w^4*x^4*z, w^3*x^5*z, w^2*x^6*z, w*x^7*z, x^8*z, w^7*y*z, w^6*x*y*z, w^5*x^2*y*z, w^4*x^3*y*z, w^3*x^4*y*z, w^2*x^5*y*z, w*x^6*y*z, x^7*y*z, w^6*y^2*z, w^5*x*y^2*z, w^4*x^2*y^2*z, w^3*x^3*y^2*z, w^2*x^4*y^2*z, w*x^5*y^2*z, x^6*y^2*z, w^5*y^3*z, w^4*x*y^3*z, w^3*x^2*y^3*z, w^2*x^3*y^3*z, w*x^4*y^3*z, x^5*y^3*z, w^4*y^4*z, w^3*x*y^4*z, w^2*x^2*y^4*z, w*x^3*y^4*z, x^4*y^4*z, w^3*y^5*z, w^2*x*y^5*z, w*x^2*y^5*z, x^3*y^5*z, w^2*y^6*z, w*x*y^6*z, x^2*y^6*z, w*y^7*z, x*y^7*z, y^8*z, w^7*z^2, w^6*x*z^2, w^5*x^2*z^2, w^4*x^3*z^2, w^3*x^4*z^2, w^2*x^5*z^2, w*x^6*z^2, x^7*z^2, w^6*y*z^2, w^5*x*y*z^2, w^4*x^2*y*z^2, w^3*x^3*y*z^2, w^2*x^4*y*z^2, w*x^5*y*z^2, x^6*y*z^2, w^5*y^2*z^2, w^4*x*y^2*z^2, w^3*x^2*y^2*z^2, w^2*x^3*y^2*z^2, w*x^4*y^2*z^2, x^5*y^2*z^2, w^4*y^3*z^2, w^3*x*y^3*z^2, w^2*x^2*y^3*z^2, w*x^3*y^3*z^2, x^4*y^3*z^2, w^3*y^4*z^2, w^2*x*y^4*z^2, w*x^2*y^4*z^2, x^3*y^4*z^2, w^2*y^5*z^2, w*x*y^5*z^2, x^2*y^5*z^2, w*y^6*z^2, x*y^6*z^2, y^7*z^2, w^6*z^3, w^5*x*z^3, w^4*x^2*z^3, w^3*x^3*z^3, w^2*x^4*z^3, w*x^5*z^3, x^6*z^3, w^5*y*z^3, w^4*x*y*z^3, w^3*x^2*y*z^3, w^2*x^3*y*z^3, w*x^4*y*z^3, x^5*y*z^3, w^4*y^2*z^3, w^3*x*y^2*z^3, w^2*x^2*y^2*z^3, w*x^3*y^2*z^3, x^4*y^2*z^3, w^3*y^3*z^3, w^2*x*y^3*z^3, w*x^2*y^3*z^3, x^3*y^3*z^3, w^2*y^4*z^3, w*x*y^4*z^3, x^2*y^4*z^3, w*y^5*z^3, x*y^5*z^3, y^6*z^3, w^5*z^4, w^4*x*z^4, w^3*x^2*z^4, w^2*x^3*z^4, w*x^4*z^4, x^5*z^4, w^4*y*z^4, w^3*x*y*z^4, w^2*x^2*y*z^4, w*x^3*y*z^4, x^4*y*z^4, w^3*y^2*z^4, w^2*x*y^2*z^4, w*x^2*y^2*z^4, x^3*y^2*z^4, w^2*y^3*z^4, w*x*y^3*z^4, x^2*y^3*z^4, w*y^4*z^4, x*y^4*z^4, y^5*z^4, w^4*z^5, w^3*x*z^5, w^2*x^2*z^5, w*x^3*z^5, x^4*z^5, w^3*y*z^5, w^2*x*y*z^5, w*x^2*y*z^5, x^3*y*z^5, w^2*y^2*z^5, w*x*y^2*z^5, x^2*y^2*z^5, w*y^3*z^5, x*y^3*z^5, y^4*z^5, w^3*z^6, w^2*x*z^6, w*x^2*z^6, x^3*z^6, w^2*y*z^6, w*x*y*z^6, x^2*y*z^6, w*y^2*z^6, x*y^2*z^6, y^3*z^6, w^2*z^7, w*x*z^7, x^2*z^7, w*y*z^7, x*y*z^7, y^2*z^7, w*z^8, x*z^8, y*z^8, z^9, w^8, w^7*x, w^6*x^2, w^5*x^3, w^4*x^4, w^3*x^5, w^2*x^6, w*x^7, x^8, w^7*y, w^6*x*y, w^5*x^2*y, w^4*x^3*y, w^3*x^4*y, w^2*x^5*y, w*x^6*y, x^7*y, w^6*y^2, w^5*x*y^2, w^4*x^2*y^2, w^3*x^3*y^2, w^2*x^4*y^2, w*x^5*y^2, x^6*y^2, w^5*y^3, w^4*x*y^3, w^3*x^2*y^3, w^2*x^3*y^3, w*x^4*y^3, x^5*y^3, w^4*y^4, w^3*x*y^4, w^2*x^2*y^4, w*x^3*y^4, x^4*y^4, w^3*y^5, w^2*x*y^5, w*x^2*y^5, x^3*y^5, w^2*y^6, w*x*y^6, x^2*y^6, w*y^7, x*y^7, y^8, w^7*z, w^6*x*z, w^5*x^2*z, w^4*x^3*z, w^3*x^4*z, w^2*x^5*z, w*x^6*z, x^7*z, w^6*y*z, w^5*x*y*z, w^4*x^2*y*z, w^3*x^3*y*z, w^2*x^4*y*z, w*x^5*y*z, x^6*y*z, w^5*y^2*z, w^4*x*y^2*z, w^3*x^2*y^2*z, w^2*x^3*y^2*z, w*x^4*y^2*z, x^5*y^2*z, w^4*y^3*z, w^3*x*y^3*z, w^2*x^2*y^3*z, w*x^3*y^3*z, x^4*y^3*z, w^3*y^4*z, w^2*x*y^4*z, w*x^2*y^4*z, x^3*y^4*z, w^2*y^5*z, w*x*y^5*z, x^2*y^5*z, w*y^6*z, x*y^6*z, y^7*z, w^6*z^2, w^5*x*z^2, w^4*x^2*z^2, w^3*x^3*z^2, w^2*x^4*z^2, w*x^5*z^2, x^6*z^2, w^5*y*z^2, w^4*x*y*z^2, w^3*x^2*y*z^2, w^2*x^3*y*z^2, w*x^4*y*z^2, x^5*y*z^2, w^4*y^2*z^2, w^3*x*y^2*z^2, w^2*x^2*y^2*z^2, w*x^3*y^2*z^2, x^4*y^2*z^2, w^3*y^3*z^2, w^2*x*y^3*z^2, w*x^2*y^3*z^2, x^3*y^3*z^2, w^2*y^4*z^2, w*x*y^4*z^2, x^2*y^4*z^2, w*y^5*z^2, x*y^5*z^2, y^6*z^2, w^5*z^3, w^4*x*z^3, w^3*x^2*z^3, w^2*x^3*z^3, w*x^4*z^3, x^5*z^3, w^4*y*z^3, w^3*x*y*z^3, w^2*x^2*y*z^3, w*x^3*y*z^3, x^4*y*z^3, w^3*y^2*z^3, w^2*x*y^2*z^3, w*x^2*y^2*z^3, x^3*y^2*z^3, w^2*y^3*z^3, w*x*y^3*z^3, x^2*y^3*z^3, w*y^4*z^3, x*y^4*z^3, y^5*z^3, w^4*z^4, w^3*x*z^4, w^2*x^2*z^4, w*x^3*z^4, x^4*z^4, w^3*y*z^4, w^2*x*y*z^4, w*x^2*y*z^4, x^3*y*z^4, w^2*y^2*z^4, w*x*y^2*z^4, x^2*y^2*z^4, w*y^3*z^4, x*y^3*z^4, y^4*z^4, w^3*z^5, w^2*x*z^5, w*x^2*z^5, x^3*z^5, w^2*y*z^5, w*x*y*z^5, x^2*y*z^5, w*y^2*z^5, x*y^2*z^5, y^3*z^5, w^2*z^6, w*x*z^6, x^2*z^6, w*y*z^6, x*y*z^6, y^2*z^6, w*z^7, x*z^7, y*z^7, z^8, w^7, w^6*x, w^5*x^2, w^4*x^3, w^3*x^4, w^2*x^5, w*x^6, x^7, w^6*y, w^5*x*y, w^4*x^2*y, w^3*x^3*y, w^2*x^4*y, w*x^5*y, x^6*y, w^5*y^2, w^4*x*y^2, w^3*x^2*y^2, w^2*x^3*y^2, w*x^4*y^2, x^5*y^2, w^4*y^3, w^3*x*y^3, w^2*x^2*y^3, w*x^3*y^3, x^4*y^3, w^3*y^4, w^2*x*y^4, w*x^2*y^4, x^3*y^4, w^2*y^5, w*x*y^5, x^2*y^5, w*y^6, x*y^6, y^7, w^6*z, w^5*x*z, w^4*x^2*z, w^3*x^3*z, w^2*x^4*z, w*x^5*z, x^6*z, w^5*y*z, w^4*x*y*z, w^3*x^2*y*z, w^2*x^3*y*z, w*x^4*y*z, x^5*y*z, w^4*y^2*z, w^3*x*y^2*z, w^2*x^2*y^2*z, w*x^3*y^2*z, x^4*y^2*z, w^3*y^3*z, w^2*x*y^3*z, w*x^2*y^3*z, x^3*y^3*z, w^2*y^4*z, w*x*y^4*z, x^2*y^4*z, w*y^5*z, x*y^5*z, y^6*z, w^5*z^2, w^4*x*z^2, w^3*x^2*z^2, w^2*x^3*z^2, w*x^4*z^2, x^5*z^2, w^4*y*z^2, w^3*x*y*z^2, w^2*x^2*y*z^2, w*x^3*y*z^2, x^4*y*z^2, w^3*y^2*z^2, w^2*x*y^2*z^2, w*x^2*y^2*z^2, x^3*y^2*z^2, w^2*y^3*z^2, w*x*y^3*z^2, x^2*y^3*z^2, w*y^4*z^2, x*y^4*z^2, y^5*z^2, w^4*z^3, w^3*x*z^3, w^2*x^2*z^3, w*x^3*z^3, x^4*z^3, w^3*y*z^3, w^2*x*y*z^3, w*x^2*y*z^3, x^3*y*z^3, w^2*y^2*z^3, w*x*y^2*z^3, x^2*y^2*z^3, w*y^3*z^3, x*y^3*z^3, y^4*z^3, w^3*z^4, w^2*x*z^4, w*x^2*z^4, x^3*z^4, w^2*y*z^4, w*x*y*z^4, x^2*y*z^4, w*y^2*z^4, x*y^2*z^4, y^3*z^4, w^2*z^5, w*x*z^5, x^2*z^5, w*y*z^5, x*y*z^5, y^2*z^5, w*z^6, x*z^6, y*z^6, z^7, w^6, w^5*x, w^4*x^2, w^3*x^3, w^2*x^4, w*x^5, x^6, w^5*y, w^4*x*y, w^3*x^2*y, w^2*x^3*y, w*x^4*y, x^5*y, w^4*y^2, w^3*x*y^2, w^2*x^2*y^2, w*x^3*y^2, x^4*y^2, w^3*y^3, w^2*x*y^3, w*x^2*y^3, x^3*y^3, w^2*y^4, w*x*y^4, x^2*y^4, w*y^5, x*y^5, y^6, w^5*z, w^4*x*z, w^3*x^2*z, w^2*x^3*z, w*x^4*z, x^5*z, w^4*y*z, w^3*x*y*z, w^2*x^2*y*z, w*x^3*y*z, x^4*y*z, w^3*y^2*z, w^2*x*y^2*z, w*x^2*y^2*z, x^3*y^2*z, w^2*y^3*z, w*x*y^3*z, x^2*y^3*z, w*y^4*z, x*y^4*z, y^5*z, w^4*z^2, w^3*x*z^2, w^2*x^2*z^2, w*x^3*z^2, x^4*z^2, w^3*y*z^2, w^2*x*y*z^2, w*x^2*y*z^2, x^3*y*z^2, w^2*y^2*z^2, w*x*y^2*z^2, x^2*y^2*z^2, w*y^3*z^2, x*y^3*z^2, y^4*z^2, w^3*z^3, w^2*x*z^3, w*x^2*z^3, x^3*z^3, w^2*y*z^3, w*x*y*z^3, x^2*y*z^3, w*y^2*z^3, x*y^2*z^3, y^3*z^3, w^2*z^4, w*x*z^4, x^2*z^4, w*y*z^4, x*y*z^4, y^2*z^4, w*z^5, x*z^5, y*z^5, z^6, w^5, w^4*x, w^3*x^2, w^2*x^3, w*x^4, x^5, w^4*y, w^3*x*y, w^2*x^2*y, w*x^3*y, x^4*y, w^3*y^2, w^2*x*y^2, w*x^2*y^2, x^3*y^2, w^2*y^3, w*x*y^3, x^2*y^3, w*y^4, x*y^4, y^5, w^4*z, w^3*x*z, w^2*x^2*z, w*x^3*z, x^4*z, w^3*y*z, w^2*x*y*z, w*x^2*y*z, x^3*y*z, w^2*y^2*z, w*x*y^2*z, x^2*y^2*z, w*y^3*z, x*y^3*z, y^4*z, w^3*z^2, w^2*x*z^2, w*x^2*z^2, x^3*z^2, w^2*y*z^2, w*x*y*z^2, x^2*y*z^2, w*y^2*z^2, x*y^2*z^2, y^3*z^2, w^2*z^3, w*x*z^3, x^2*z^3, w*y*z^3, x*y*z^3, y^2*z^3, w*z^4, x*z^4, y*z^4, z^5, w^4, w^3*x, w^2*x^2, w*x^3, x^4, w^3*y, w^2*x*y, w*x^2*y, x^3*y, w^2*y^2, w*x*y^2, x^2*y^2, w*y^3, x*y^3, y^4, w^3*z, w^2*x*z, w*x^2*z, x^3*z, w^2*y*z, w*x*y*z, x^2*y*z, w*y^2*z, x*y^2*z, y^3*z, w^2*z^2, w*x*z^2, x^2*z^2, w*y*z^2, x*y*z^2, y^2*z^2, w*z^3, x*z^3, y*z^3, z^4, w^3, w^2*x, w*x^2, x^3, w^2*y, w*x*y, x^2*y, w*y^2, x*y^2, y^3, w^2*z, w*x*z, x^2*z, w*y*z, x*y*z, y^2*z, w*z^2, x*z^2, y*z^2, z^3, w^2, w*x, x^2, w*y, x*y, y^2, w*z, x*z, y*z, z^2, w, x, y, z, 1]\n"
     ]
    },
    {
     "name": "stdout",
     "output_type": "stream",
     "text": [
      "11 [w^11 - w, w^10*x - 1, w^9*x^2 - w^4, w^8*x^3 - w^3, w^7*x^4 - w^2, w^6*x^5 - w, w^5*x^6 - 1, w^4*x^7 - w^4, w^3*x^8 - w^3, w^2*x^9 - w^2, w*x^10 - w, x^11 - 1, w^10*y - 1, w^9*x*y - w^4, w^8*x^2*y - w^3, w^7*x^3*y - w^2, w^6*x^4*y - w, w^5*x^5*y - 1, w^4*x^6*y - w^4, w^3*x^7*y - w^3, w^2*x^8*y - w^2, w*x^9*y - w, x^10*y - 1, w^9*y^2 - w^4, w^8*x*y^2 - w^3, w^7*x^2*y^2 - w^2, w^6*x^3*y^2 - w, w^5*x^4*y^2 - 1, w^4*x^5*y^2 - w^4, w^3*x^6*y^2 - w^3, w^2*x^7*y^2 - w^2, w*x^8*y^2 - w, x^9*y^2 - 1, w^8*y^3 - w^3, w^7*x*y^3 - w^2, w^6*x^2*y^3 - w, w^5*x^3*y^3 - 1, w^4*x^4*y^3 - w^4, w^3*x^5*y^3 - w^3, w^2*x^6*y^3 - w^2, w*x^7*y^3 - w, x^8*y^3 - 1, w^7*y^4 - w^2, w^6*x*y^4 - w, w^5*x^2*y^4 - 1, w^4*x^3*y^4 - w^4, w^3*x^4*y^4 - w^3, w^2*x^5*y^4 - w^2, w*x^6*y^4 - w, x^7*y^4 - 1, w^6*y^5 - w, w^5*x*y^5 - 1, w^4*x^2*y^5 - w^4, w^3*x^3*y^5 - w^3, w^2*x^4*y^5 - w^2, w*x^5*y^5 - w, x^6*y^5 - 1, w^5*y^6 - 1, w^4*x*y^6 - w^4, w^3*x^2*y^6 - w^3, w^2*x^3*y^6 - w^2, w*x^4*y^6 - w, x^5*y^6 - 1, w^4*y^7 - w^4, w^3*x*y^7 - w^3, w^2*x^2*y^7 - w^2, w*x^3*y^7 - w, x^4*y^7 - 1, w^3*y^8 - w^3, w^2*x*y^8 - w^2, w*x^2*y^8 - w, x^3*y^8 - 1, w^2*y^9 - w^2, w*x*y^9 - w, x^2*y^9 - 1, w*y^10 - w, x*y^10 - 1, y^11 - 1, w^10*z - z, w^9*x*z - w^4*z, w^8*x^2*z - w^3*z, w^7*x^3*z - w^2*z, w^6*x^4*z - w*z, w^5*x^5*z - z, w^4*x^6*z - w^4*z, w^3*x^7*z - w^3*z, w^2*x^8*z - w^2*z, w*x^9*z - w*z, x^10*z - z, w^9*y*z - w^4*z, w^8*x*y*z - w^3*z, w^7*x^2*y*z - w^2*z, w^6*x^3*y*z - w*z, w^5*x^4*y*z - z, w^4*x^5*y*z - w^4*z, w^3*x^6*y*z - w^3*z, w^2*x^7*y*z - w^2*z, w*x^8*y*z - w*z, x^9*y*z - z, w^8*y^2*z - w^3*z, w^7*x*y^2*z - w^2*z, w^6*x^2*y^2*z - w*z, w^5*x^3*y^2*z - z, w^4*x^4*y^2*z - w^4*z, w^3*x^5*y^2*z - w^3*z, w^2*x^6*y^2*z - w^2*z, w*x^7*y^2*z - w*z, x^8*y^2*z - z, w^7*y^3*z - w^2*z, w^6*x*y^3*z - w*z, w^5*x^2*y^3*z - z, w^4*x^3*y^3*z - w^4*z, w^3*x^4*y^3*z - w^3*z, w^2*x^5*y^3*z - w^2*z, w*x^6*y^3*z - w*z, x^7*y^3*z - z, w^6*y^4*z - w*z, w^5*x*y^4*z - z, w^4*x^2*y^4*z - w^4*z, w^3*x^3*y^4*z - w^3*z, w^2*x^4*y^4*z - w^2*z, w*x^5*y^4*z - w*z, x^6*y^4*z - z, w^5*y^5*z - z, w^4*x*y^5*z - w^4*z, w^3*x^2*y^5*z - w^3*z, w^2*x^3*y^5*z - w^2*z, w*x^4*y^5*z - w*z, x^5*y^5*z - z, w^4*y^6*z - w^4*z, w^3*x*y^6*z - w^3*z, w^2*x^2*y^6*z - w^2*z, w*x^3*y^6*z - w*z, x^4*y^6*z - z, w^3*y^7*z - w^3*z, w^2*x*y^7*z - w^2*z, w*x^2*y^7*z - w*z, x^3*y^7*z - z, w^2*y^8*z - w^2*z, w*x*y^8*z - w*z, x^2*y^8*z - z, w*y^9*z - w*z, x*y^9*z - z, y^10*z - z, w^9*z^2 - w^4*z^2, w^8*x*z^2 - w^3*z^2, w^7*x^2*z^2 - w^2*z^2, w^6*x^3*z^2 - w*z^2, w^5*x^4*z^2 - z^2, w^4*x^5*z^2 - w^4*z^2, w^3*x^6*z^2 - w^3*z^2, w^2*x^7*z^2 - w^2*z^2, w*x^8*z^2 - w*z^2, x^9*z^2 - z^2, w^8*y*z^2 - w^3*z^2, w^7*x*y*z^2 - w^2*z^2, w^6*x^2*y*z^2 - w*z^2, w^5*x^3*y*z^2 - z^2, w^4*x^4*y*z^2 - w^4*z^2, w^3*x^5*y*z^2 - w^3*z^2, w^2*x^6*y*z^2 - w^2*z^2, w*x^7*y*z^2 - w*z^2, x^8*y*z^2 - z^2, w^7*y^2*z^2 - w^2*z^2, w^6*x*y^2*z^2 - w*z^2, w^5*x^2*y^2*z^2 - z^2, w^4*x^3*y^2*z^2 - w^4*z^2, w^3*x^4*y^2*z^2 - w^3*z^2, w^2*x^5*y^2*z^2 - w^2*z^2, w*x^6*y^2*z^2 - w*z^2, x^7*y^2*z^2 - z^2, w^6*y^3*z^2 - w*z^2, w^5*x*y^3*z^2 - z^2, w^4*x^2*y^3*z^2 - w^4*z^2, w^3*x^3*y^3*z^2 - w^3*z^2, w^2*x^4*y^3*z^2 - w^2*z^2, w*x^5*y^3*z^2 - w*z^2, x^6*y^3*z^2 - z^2, w^5*y^4*z^2 - z^2, w^4*x*y^4*z^2 - w^4*z^2, w^3*x^2*y^4*z^2 - w^3*z^2, w^2*x^3*y^4*z^2 - w^2*z^2, w*x^4*y^4*z^2 - w*z^2, x^5*y^4*z^2 - z^2, w^4*y^5*z^2 - w^4*z^2, w^3*x*y^5*z^2 - w^3*z^2, w^2*x^2*y^5*z^2 - w^2*z^2, w*x^3*y^5*z^2 - w*z^2, x^4*y^5*z^2 - z^2, w^3*y^6*z^2 - w^3*z^2, w^2*x*y^6*z^2 - w^2*z^2, w*x^2*y^6*z^2 - w*z^2, x^3*y^6*z^2 - z^2, w^2*y^7*z^2 - w^2*z^2, w*x*y^7*z^2 - w*z^2, x^2*y^7*z^2 - z^2, w*y^8*z^2 - w*z^2, x*y^8*z^2 - z^2, y^9*z^2 - z^2, w^8*z^3 - w^3*z^3, w^7*x*z^3 - w^2*z^3, w^6*x^2*z^3 - w*z^3, w^5*x^3*z^3 - z^3, w^4*x^4*z^3 - w^4*z^3, w^3*x^5*z^3 - w^3*z^3, w^2*x^6*z^3 - w^2*z^3, w*x^7*z^3 - w*z^3, x^8*z^3 - z^3, w^7*y*z^3 - w^2*z^3, w^6*x*y*z^3 - w*z^3, w^5*x^2*y*z^3 - z^3, w^4*x^3*y*z^3 - w^4*z^3, w^3*x^4*y*z^3 - w^3*z^3, w^2*x^5*y*z^3 - w^2*z^3, w*x^6*y*z^3 - w*z^3, x^7*y*z^3 - z^3, w^6*y^2*z^3 - w*z^3, w^5*x*y^2*z^3 - z^3, w^4*x^2*y^2*z^3 - w^4*z^3, w^3*x^3*y^2*z^3 - w^3*z^3, w^2*x^4*y^2*z^3 - w^2*z^3, w*x^5*y^2*z^3 - w*z^3, x^6*y^2*z^3 - z^3, w^5*y^3*z^3 - z^3, w^4*x*y^3*z^3 - w^4*z^3, w^3*x^2*y^3*z^3 - w^3*z^3, w^2*x^3*y^3*z^3 - w^2*z^3, w*x^4*y^3*z^3 - w*z^3, x^5*y^3*z^3 - z^3, w^4*y^4*z^3 - w^4*z^3, w^3*x*y^4*z^3 - w^3*z^3, w^2*x^2*y^4*z^3 - w^2*z^3, w*x^3*y^4*z^3 - w*z^3, x^4*y^4*z^3 - z^3, w^3*y^5*z^3 - w^3*z^3, w^2*x*y^5*z^3 - w^2*z^3, w*x^2*y^5*z^3 - w*z^3, x^3*y^5*z^3 - z^3, w^2*y^6*z^3 - w^2*z^3, w*x*y^6*z^3 - w*z^3, x^2*y^6*z^3 - z^3, w*y^7*z^3 - w*z^3, x*y^7*z^3 - z^3, y^8*z^3 - z^3, w^7*z^4 - w^2*z^4, w^6*x*z^4 - w*z^4, w^5*x^2*z^4 - z^4, w^4*x^3*z^4 - w^4*z^4, w^3*x^4*z^4 - w^3*z^4, w^2*x^5*z^4 - w^2*z^4, w*x^6*z^4 - w*z^4, x^7*z^4 - z^4, w^6*y*z^4 - w*z^4, w^5*x*y*z^4 - z^4, w^4*x^2*y*z^4 - w^4*z^4, w^3*x^3*y*z^4 - w^3*z^4, w^2*x^4*y*z^4 - w^2*z^4, w*x^5*y*z^4 - w*z^4, x^6*y*z^4 - z^4, w^5*y^2*z^4 - z^4, w^4*x*y^2*z^4 - w^4*z^4, w^3*x^2*y^2*z^4 - w^3*z^4, w^2*x^3*y^2*z^4 - w^2*z^4, w*x^4*y^2*z^4 - w*z^4, x^5*y^2*z^4 - z^4, w^4*y^3*z^4 - w^4*z^4, w^3*x*y^3*z^4 - w^3*z^4, w^2*x^2*y^3*z^4 - w^2*z^4, w*x^3*y^3*z^4 - w*z^4, x^4*y^3*z^4 - z^4, w^3*y^4*z^4 - w^3*z^4, w^2*x*y^4*z^4 - w^2*z^4, w*x^2*y^4*z^4 - w*z^4, x^3*y^4*z^4 - z^4, w^2*y^5*z^4 - w^2*z^4, w*x*y^5*z^4 - w*z^4, x^2*y^5*z^4 - z^4, w*y^6*z^4 - w*z^4, x*y^6*z^4 - z^4, y^7*z^4 - z^4, w^6*z^5 - w, w^5*x*z^5 - 1, w^4*x^2*z^5 - w^4, w^3*x^3*z^5 - w^3, w^2*x^4*z^5 - w^2, w*x^5*z^5 - w, x^6*z^5 - 1, w^5*y*z^5 - 1, w^4*x*y*z^5 - w^4, w^3*x^2*y*z^5 - w^3, w^2*x^3*y*z^5 - w^2, w*x^4*y*z^5 - w, x^5*y*z^5 - 1, w^4*y^2*z^5 - w^4, w^3*x*y^2*z^5 - w^3, w^2*x^2*y^2*z^5 - w^2, w*x^3*y^2*z^5 - w, x^4*y^2*z^5 - 1, w^3*y^3*z^5 - w^3, w^2*x*y^3*z^5 - w^2, w*x^2*y^3*z^5 - w, x^3*y^3*z^5 - 1, w^2*y^4*z^5 - w^2, w*x*y^4*z^5 - w, x^2*y^4*z^5 - 1, w*y^5*z^5 - w, x*y^5*z^5 - 1, y^6*z^5 - 1, w^5*z^6 - z, w^4*x*z^6 - w^4*z, w^3*x^2*z^6 - w^3*z, w^2*x^3*z^6 - w^2*z, w*x^4*z^6 - w*z, x^5*z^6 - z, w^4*y*z^6 - w^4*z, w^3*x*y*z^6 - w^3*z, w^2*x^2*y*z^6 - w^2*z, w*x^3*y*z^6 - w*z, x^4*y*z^6 - z, w^3*y^2*z^6 - w^3*z, w^2*x*y^2*z^6 - w^2*z, w*x^2*y^2*z^6 - w*z, x^3*y^2*z^6 - z, w^2*y^3*z^6 - w^2*z, w*x*y^3*z^6 - w*z, x^2*y^3*z^6 - z, w*y^4*z^6 - w*z, x*y^4*z^6 - z, y^5*z^6 - z, w^4*z^7 - w^4*z^2, w^3*x*z^7 - w^3*z^2, w^2*x^2*z^7 - w^2*z^2, w*x^3*z^7 - w*z^2, x^4*z^7 - z^2, w^3*y*z^7 - w^3*z^2, w^2*x*y*z^7 - w^2*z^2, w*x^2*y*z^7 - w*z^2, x^3*y*z^7 - z^2, w^2*y^2*z^7 - w^2*z^2, w*x*y^2*z^7 - w*z^2, x^2*y^2*z^7 - z^2, w*y^3*z^7 - w*z^2, x*y^3*z^7 - z^2, y^4*z^7 - z^2, w^3*z^8 - w^3*z^3, w^2*x*z^8 - w^2*z^3, w*x^2*z^8 - w*z^3, x^3*z^8 - z^3, w^2*y*z^8 - w^2*z^3, w*x*y*z^8 - w*z^3, x^2*y*z^8 - z^3, w*y^2*z^8 - w*z^3, x*y^2*z^8 - z^3, y^3*z^8 - z^3, w^2*z^9 - w^2*z^4, w*x*z^9 - w*z^4, x^2*z^9 - z^4, w*y*z^9 - w*z^4, x*y*z^9 - z^4, y^2*z^9 - z^4, w*z^10 - w, x*z^10 - 1, y*z^10 - 1, z^11 - z, w^10 - 1, w^9*x - w^4, w^8*x^2 - w^3, w^7*x^3 - w^2, w^6*x^4 - w, w^5*x^5 - 1, w^4*x^6 - w^4, w^3*x^7 - w^3, w^2*x^8 - w^2, w*x^9 - w, x^10 - 1, w^9*y - w^4, w^8*x*y - w^3, w^7*x^2*y - w^2, w^6*x^3*y - w, w^5*x^4*y - 1, w^4*x^5*y - w^4, w^3*x^6*y - w^3, w^2*x^7*y - w^2, w*x^8*y - w, x^9*y - 1, w^8*y^2 - w^3, w^7*x*y^2 - w^2, w^6*x^2*y^2 - w, w^5*x^3*y^2 - 1, w^4*x^4*y^2 - w^4, w^3*x^5*y^2 - w^3, w^2*x^6*y^2 - w^2, w*x^7*y^2 - w, x^8*y^2 - 1, w^7*y^3 - w^2, w^6*x*y^3 - w, w^5*x^2*y^3 - 1, w^4*x^3*y^3 - w^4, w^3*x^4*y^3 - w^3, w^2*x^5*y^3 - w^2, w*x^6*y^3 - w, x^7*y^3 - 1, w^6*y^4 - w, w^5*x*y^4 - 1, w^4*x^2*y^4 - w^4, w^3*x^3*y^4 - w^3, w^2*x^4*y^4 - w^2, w*x^5*y^4 - w, x^6*y^4 - 1, w^5*y^5 - 1, w^4*x*y^5 - w^4, w^3*x^2*y^5 - w^3, w^2*x^3*y^5 - w^2, w*x^4*y^5 - w, x^5*y^5 - 1, w^4*y^6 - w^4, w^3*x*y^6 - w^3, w^2*x^2*y^6 - w^2, w*x^3*y^6 - w, x^4*y^6 - 1, w^3*y^7 - w^3, w^2*x*y^7 - w^2, w*x^2*y^7 - w, x^3*y^7 - 1, w^2*y^8 - w^2, w*x*y^8 - w, x^2*y^8 - 1, w*y^9 - w, x*y^9 - 1, y^10 - 1, w^9*z - w^4*z, w^8*x*z - w^3*z, w^7*x^2*z - w^2*z, w^6*x^3*z - w*z, w^5*x^4*z - z, w^4*x^5*z - w^4*z, w^3*x^6*z - w^3*z, w^2*x^7*z - w^2*z, w*x^8*z - w*z, x^9*z - z, w^8*y*z - w^3*z, w^7*x*y*z - w^2*z, w^6*x^2*y*z - w*z, w^5*x^3*y*z - z, w^4*x^4*y*z - w^4*z, w^3*x^5*y*z - w^3*z, w^2*x^6*y*z - w^2*z, w*x^7*y*z - w*z, x^8*y*z - z, w^7*y^2*z - w^2*z, w^6*x*y^2*z - w*z, w^5*x^2*y^2*z - z, w^4*x^3*y^2*z - w^4*z, w^3*x^4*y^2*z - w^3*z, w^2*x^5*y^2*z - w^2*z, w*x^6*y^2*z - w*z, x^7*y^2*z - z, w^6*y^3*z - w*z, w^5*x*y^3*z - z, w^4*x^2*y^3*z - w^4*z, w^3*x^3*y^3*z - w^3*z, w^2*x^4*y^3*z - w^2*z, w*x^5*y^3*z - w*z, x^6*y^3*z - z, w^5*y^4*z - z, w^4*x*y^4*z - w^4*z, w^3*x^2*y^4*z - w^3*z, w^2*x^3*y^4*z - w^2*z, w*x^4*y^4*z - w*z, x^5*y^4*z - z, w^4*y^5*z - w^4*z, w^3*x*y^5*z - w^3*z, w^2*x^2*y^5*z - w^2*z, w*x^3*y^5*z - w*z, x^4*y^5*z - z, w^3*y^6*z - w^3*z, w^2*x*y^6*z - w^2*z, w*x^2*y^6*z - w*z, x^3*y^6*z - z, w^2*y^7*z - w^2*z, w*x*y^7*z - w*z, x^2*y^7*z - z, w*y^8*z - w*z, x*y^8*z - z, y^9*z - z, w^8*z^2 - w^3*z^2, w^7*x*z^2 - w^2*z^2, w^6*x^2*z^2 - w*z^2, w^5*x^3*z^2 - z^2, w^4*x^4*z^2 - w^4*z^2, w^3*x^5*z^2 - w^3*z^2, w^2*x^6*z^2 - w^2*z^2, w*x^7*z^2 - w*z^2, x^8*z^2 - z^2, w^7*y*z^2 - w^2*z^2, w^6*x*y*z^2 - w*z^2, w^5*x^2*y*z^2 - z^2, w^4*x^3*y*z^2 - w^4*z^2, w^3*x^4*y*z^2 - w^3*z^2, w^2*x^5*y*z^2 - w^2*z^2, w*x^6*y*z^2 - w*z^2, x^7*y*z^2 - z^2, w^6*y^2*z^2 - w*z^2, w^5*x*y^2*z^2 - z^2, w^4*x^2*y^2*z^2 - w^4*z^2, w^3*x^3*y^2*z^2 - w^3*z^2, w^2*x^4*y^2*z^2 - w^2*z^2, w*x^5*y^2*z^2 - w*z^2, x^6*y^2*z^2 - z^2, w^5*y^3*z^2 - z^2, w^4*x*y^3*z^2 - w^4*z^2, w^3*x^2*y^3*z^2 - w^3*z^2, w^2*x^3*y^3*z^2 - w^2*z^2, w*x^4*y^3*z^2 - w*z^2, x^5*y^3*z^2 - z^2, w^4*y^4*z^2 - w^4*z^2, w^3*x*y^4*z^2 - w^3*z^2, w^2*x^2*y^4*z^2 - w^2*z^2, w*x^3*y^4*z^2 - w*z^2, x^4*y^4*z^2 - z^2, w^3*y^5*z^2 - w^3*z^2, w^2*x*y^5*z^2 - w^2*z^2, w*x^2*y^5*z^2 - w*z^2, x^3*y^5*z^2 - z^2, w^2*y^6*z^2 - w^2*z^2, w*x*y^6*z^2 - w*z^2, x^2*y^6*z^2 - z^2, w*y^7*z^2 - w*z^2, x*y^7*z^2 - z^2, y^8*z^2 - z^2, w^7*z^3 - w^2*z^3, w^6*x*z^3 - w*z^3, w^5*x^2*z^3 - z^3, w^4*x^3*z^3 - w^4*z^3, w^3*x^4*z^3 - w^3*z^3, w^2*x^5*z^3 - w^2*z^3, w*x^6*z^3 - w*z^3, x^7*z^3 - z^3, w^6*y*z^3 - w*z^3, w^5*x*y*z^3 - z^3, w^4*x^2*y*z^3 - w^4*z^3, w^3*x^3*y*z^3 - w^3*z^3, w^2*x^4*y*z^3 - w^2*z^3, w*x^5*y*z^3 - w*z^3, x^6*y*z^3 - z^3, w^5*y^2*z^3 - z^3, w^4*x*y^2*z^3 - w^4*z^3, w^3*x^2*y^2*z^3 - w^3*z^3, w^2*x^3*y^2*z^3 - w^2*z^3, w*x^4*y^2*z^3 - w*z^3, x^5*y^2*z^3 - z^3, w^4*y^3*z^3 - w^4*z^3, w^3*x*y^3*z^3 - w^3*z^3, w^2*x^2*y^3*z^3 - w^2*z^3, w*x^3*y^3*z^3 - w*z^3, x^4*y^3*z^3 - z^3, w^3*y^4*z^3 - w^3*z^3, w^2*x*y^4*z^3 - w^2*z^3, w*x^2*y^4*z^3 - w*z^3, x^3*y^4*z^3 - z^3, w^2*y^5*z^3 - w^2*z^3, w*x*y^5*z^3 - w*z^3, x^2*y^5*z^3 - z^3, w*y^6*z^3 - w*z^3, x*y^6*z^3 - z^3, y^7*z^3 - z^3, w^6*z^4 - w*z^4, w^5*x*z^4 - z^4, w^4*x^2*z^4 - w^4*z^4, w^3*x^3*z^4 - w^3*z^4, w^2*x^4*z^4 - w^2*z^4, w*x^5*z^4 - w*z^4, x^6*z^4 - z^4, w^5*y*z^4 - z^4, w^4*x*y*z^4 - w^4*z^4, w^3*x^2*y*z^4 - w^3*z^4, w^2*x^3*y*z^4 - w^2*z^4, w*x^4*y*z^4 - w*z^4, x^5*y*z^4 - z^4, w^4*y^2*z^4 - w^4*z^4, w^3*x*y^2*z^4 - w^3*z^4, w^2*x^2*y^2*z^4 - w^2*z^4, w*x^3*y^2*z^4 - w*z^4, x^4*y^2*z^4 - z^4, w^3*y^3*z^4 - w^3*z^4, w^2*x*y^3*z^4 - w^2*z^4, w*x^2*y^3*z^4 - w*z^4, x^3*y^3*z^4 - z^4, w^2*y^4*z^4 - w^2*z^4, w*x*y^4*z^4 - w*z^4, x^2*y^4*z^4 - z^4, w*y^5*z^4 - w*z^4, x*y^5*z^4 - z^4, y^6*z^4 - z^4, w^5*z^5 - 1, w^4*x*z^5 - w^4, w^3*x^2*z^5 - w^3, w^2*x^3*z^5 - w^2, w*x^4*z^5 - w, x^5*z^5 - 1, w^4*y*z^5 - w^4, w^3*x*y*z^5 - w^3, w^2*x^2*y*z^5 - w^2, w*x^3*y*z^5 - w, x^4*y*z^5 - 1, w^3*y^2*z^5 - w^3, w^2*x*y^2*z^5 - w^2, w*x^2*y^2*z^5 - w, x^3*y^2*z^5 - 1, w^2*y^3*z^5 - w^2, w*x*y^3*z^5 - w, x^2*y^3*z^5 - 1, w*y^4*z^5 - w, x*y^4*z^5 - 1, y^5*z^5 - 1, w^4*z^6 - w^4*z, w^3*x*z^6 - w^3*z, w^2*x^2*z^6 - w^2*z, w*x^3*z^6 - w*z, x^4*z^6 - z, w^3*y*z^6 - w^3*z, w^2*x*y*z^6 - w^2*z, w*x^2*y*z^6 - w*z, x^3*y*z^6 - z, w^2*y^2*z^6 - w^2*z, w*x*y^2*z^6 - w*z, x^2*y^2*z^6 - z, w*y^3*z^6 - w*z, x*y^3*z^6 - z, y^4*z^6 - z, w^3*z^7 - w^3*z^2, w^2*x*z^7 - w^2*z^2, w*x^2*z^7 - w*z^2, x^3*z^7 - z^2, w^2*y*z^7 - w^2*z^2, w*x*y*z^7 - w*z^2, x^2*y*z^7 - z^2, w*y^2*z^7 - w*z^2, x*y^2*z^7 - z^2, y^3*z^7 - z^2, w^2*z^8 - w^2*z^3, w*x*z^8 - w*z^3, x^2*z^8 - z^3, w*y*z^8 - w*z^3, x*y*z^8 - z^3, y^2*z^8 - z^3, w*z^9 - w*z^4, x*z^9 - z^4, y*z^9 - z^4, z^10 - 1, w^9 - w^4, w^8*x - w^3, w^7*x^2 - w^2, w^6*x^3 - w, w^5*x^4 - 1, w^4*x^5 - w^4, w^3*x^6 - w^3, w^2*x^7 - w^2, w*x^8 - w, x^9 - 1, w^8*y - w^3, w^7*x*y - w^2, w^6*x^2*y - w, w^5*x^3*y - 1, w^4*x^4*y - w^4, w^3*x^5*y - w^3, w^2*x^6*y - w^2, w*x^7*y - w, x^8*y - 1, w^7*y^2 - w^2, w^6*x*y^2 - w, w^5*x^2*y^2 - 1, w^4*x^3*y^2 - w^4, w^3*x^4*y^2 - w^3, w^2*x^5*y^2 - w^2, w*x^6*y^2 - w, x^7*y^2 - 1, w^6*y^3 - w, w^5*x*y^3 - 1, w^4*x^2*y^3 - w^4, w^3*x^3*y^3 - w^3, w^2*x^4*y^3 - w^2, w*x^5*y^3 - w, x^6*y^3 - 1, w^5*y^4 - 1, w^4*x*y^4 - w^4, w^3*x^2*y^4 - w^3, w^2*x^3*y^4 - w^2, w*x^4*y^4 - w, x^5*y^4 - 1, w^4*y^5 - w^4, w^3*x*y^5 - w^3, w^2*x^2*y^5 - w^2, w*x^3*y^5 - w, x^4*y^5 - 1, w^3*y^6 - w^3, w^2*x*y^6 - w^2, w*x^2*y^6 - w, x^3*y^6 - 1, w^2*y^7 - w^2, w*x*y^7 - w, x^2*y^7 - 1, w*y^8 - w, x*y^8 - 1, y^9 - 1, w^8*z - w^3*z, w^7*x*z - w^2*z, w^6*x^2*z - w*z, w^5*x^3*z - z, w^4*x^4*z - w^4*z, w^3*x^5*z - w^3*z, w^2*x^6*z - w^2*z, w*x^7*z - w*z, x^8*z - z, w^7*y*z - w^2*z, w^6*x*y*z - w*z, w^5*x^2*y*z - z, w^4*x^3*y*z - w^4*z, w^3*x^4*y*z - w^3*z, w^2*x^5*y*z - w^2*z, w*x^6*y*z - w*z, x^7*y*z - z, w^6*y^2*z - w*z, w^5*x*y^2*z - z, w^4*x^2*y^2*z - w^4*z, w^3*x^3*y^2*z - w^3*z, w^2*x^4*y^2*z - w^2*z, w*x^5*y^2*z - w*z, x^6*y^2*z - z, w^5*y^3*z - z, w^4*x*y^3*z - w^4*z, w^3*x^2*y^3*z - w^3*z, w^2*x^3*y^3*z - w^2*z, w*x^4*y^3*z - w*z, x^5*y^3*z - z, w^4*y^4*z - w^4*z, w^3*x*y^4*z - w^3*z, w^2*x^2*y^4*z - w^2*z, w*x^3*y^4*z - w*z, x^4*y^4*z - z, w^3*y^5*z - w^3*z, w^2*x*y^5*z - w^2*z, w*x^2*y^5*z - w*z, x^3*y^5*z - z, w^2*y^6*z - w^2*z, w*x*y^6*z - w*z, x^2*y^6*z - z, w*y^7*z - w*z, x*y^7*z - z, y^8*z - z, w^7*z^2 - w^2*z^2, w^6*x*z^2 - w*z^2, w^5*x^2*z^2 - z^2, w^4*x^3*z^2 - w^4*z^2, w^3*x^4*z^2 - w^3*z^2, w^2*x^5*z^2 - w^2*z^2, w*x^6*z^2 - w*z^2, x^7*z^2 - z^2, w^6*y*z^2 - w*z^2, w^5*x*y*z^2 - z^2, w^4*x^2*y*z^2 - w^4*z^2, w^3*x^3*y*z^2 - w^3*z^2, w^2*x^4*y*z^2 - w^2*z^2, w*x^5*y*z^2 - w*z^2, x^6*y*z^2 - z^2, w^5*y^2*z^2 - z^2, w^4*x*y^2*z^2 - w^4*z^2, w^3*x^2*y^2*z^2 - w^3*z^2, w^2*x^3*y^2*z^2 - w^2*z^2, w*x^4*y^2*z^2 - w*z^2, x^5*y^2*z^2 - z^2, w^4*y^3*z^2 - w^4*z^2, w^3*x*y^3*z^2 - w^3*z^2, w^2*x^2*y^3*z^2 - w^2*z^2, w*x^3*y^3*z^2 - w*z^2, x^4*y^3*z^2 - z^2, w^3*y^4*z^2 - w^3*z^2, w^2*x*y^4*z^2 - w^2*z^2, w*x^2*y^4*z^2 - w*z^2, x^3*y^4*z^2 - z^2, w^2*y^5*z^2 - w^2*z^2, w*x*y^5*z^2 - w*z^2, x^2*y^5*z^2 - z^2, w*y^6*z^2 - w*z^2, x*y^6*z^2 - z^2, y^7*z^2 - z^2, w^6*z^3 - w*z^3, w^5*x*z^3 - z^3, w^4*x^2*z^3 - w^4*z^3, w^3*x^3*z^3 - w^3*z^3, w^2*x^4*z^3 - w^2*z^3, w*x^5*z^3 - w*z^3, x^6*z^3 - z^3, w^5*y*z^3 - z^3, w^4*x*y*z^3 - w^4*z^3, w^3*x^2*y*z^3 - w^3*z^3, w^2*x^3*y*z^3 - w^2*z^3, w*x^4*y*z^3 - w*z^3, x^5*y*z^3 - z^3, w^4*y^2*z^3 - w^4*z^3, w^3*x*y^2*z^3 - w^3*z^3, w^2*x^2*y^2*z^3 - w^2*z^3, w*x^3*y^2*z^3 - w*z^3, x^4*y^2*z^3 - z^3, w^3*y^3*z^3 - w^3*z^3, w^2*x*y^3*z^3 - w^2*z^3, w*x^2*y^3*z^3 - w*z^3, x^3*y^3*z^3 - z^3, w^2*y^4*z^3 - w^2*z^3, w*x*y^4*z^3 - w*z^3, x^2*y^4*z^3 - z^3, w*y^5*z^3 - w*z^3, x*y^5*z^3 - z^3, y^6*z^3 - z^3, w^5*z^4 - z^4, w^4*x*z^4 - w^4*z^4, w^3*x^2*z^4 - w^3*z^4, w^2*x^3*z^4 - w^2*z^4, w*x^4*z^4 - w*z^4, x^5*z^4 - z^4, w^4*y*z^4 - w^4*z^4, w^3*x*y*z^4 - w^3*z^4, w^2*x^2*y*z^4 - w^2*z^4, w*x^3*y*z^4 - w*z^4, x^4*y*z^4 - z^4, w^3*y^2*z^4 - w^3*z^4, w^2*x*y^2*z^4 - w^2*z^4, w*x^2*y^2*z^4 - w*z^4, x^3*y^2*z^4 - z^4, w^2*y^3*z^4 - w^2*z^4, w*x*y^3*z^4 - w*z^4, x^2*y^3*z^4 - z^4, w*y^4*z^4 - w*z^4, x*y^4*z^4 - z^4, y^5*z^4 - z^4, w^4*z^5 - w^4, w^3*x*z^5 - w^3, w^2*x^2*z^5 - w^2, w*x^3*z^5 - w, x^4*z^5 - 1, w^3*y*z^5 - w^3, w^2*x*y*z^5 - w^2, w*x^2*y*z^5 - w, x^3*y*z^5 - 1, w^2*y^2*z^5 - w^2, w*x*y^2*z^5 - w, x^2*y^2*z^5 - 1, w*y^3*z^5 - w, x*y^3*z^5 - 1, y^4*z^5 - 1, w^3*z^6 - w^3*z, w^2*x*z^6 - w^2*z, w*x^2*z^6 - w*z, x^3*z^6 - z, w^2*y*z^6 - w^2*z, w*x*y*z^6 - w*z, x^2*y*z^6 - z, w*y^2*z^6 - w*z, x*y^2*z^6 - z, y^3*z^6 - z, w^2*z^7 - w^2*z^2, w*x*z^7 - w*z^2, x^2*z^7 - z^2, w*y*z^7 - w*z^2, x*y*z^7 - z^2, y^2*z^7 - z^2, w*z^8 - w*z^3, x*z^8 - z^3, y*z^8 - z^3, z^9 - z^4, w^8 - w^3, w^7*x - w^2, w^6*x^2 - w, w^5*x^3 - 1, w^4*x^4 - w^4, w^3*x^5 - w^3, w^2*x^6 - w^2, w*x^7 - w, x^8 - 1, w^7*y - w^2, w^6*x*y - w, w^5*x^2*y - 1, w^4*x^3*y - w^4, w^3*x^4*y - w^3, w^2*x^5*y - w^2, w*x^6*y - w, x^7*y - 1, w^6*y^2 - w, w^5*x*y^2 - 1, w^4*x^2*y^2 - w^4, w^3*x^3*y^2 - w^3, w^2*x^4*y^2 - w^2, w*x^5*y^2 - w, x^6*y^2 - 1, w^5*y^3 - 1, w^4*x*y^3 - w^4, w^3*x^2*y^3 - w^3, w^2*x^3*y^3 - w^2, w*x^4*y^3 - w, x^5*y^3 - 1, w^4*y^4 - w^4, w^3*x*y^4 - w^3, w^2*x^2*y^4 - w^2, w*x^3*y^4 - w, x^4*y^4 - 1, w^3*y^5 - w^3, w^2*x*y^5 - w^2, w*x^2*y^5 - w, x^3*y^5 - 1, w^2*y^6 - w^2, w*x*y^6 - w, x^2*y^6 - 1, w*y^7 - w, x*y^7 - 1, y^8 - 1, w^7*z - w^2*z, w^6*x*z - w*z, w^5*x^2*z - z, w^4*x^3*z - w^4*z, w^3*x^4*z - w^3*z, w^2*x^5*z - w^2*z, w*x^6*z - w*z, x^7*z - z, w^6*y*z - w*z, w^5*x*y*z - z, w^4*x^2*y*z - w^4*z, w^3*x^3*y*z - w^3*z, w^2*x^4*y*z - w^2*z, w*x^5*y*z - w*z, x^6*y*z - z, w^5*y^2*z - z, w^4*x*y^2*z - w^4*z, w^3*x^2*y^2*z - w^3*z, w^2*x^3*y^2*z - w^2*z, w*x^4*y^2*z - w*z, x^5*y^2*z - z, w^4*y^3*z - w^4*z, w^3*x*y^3*z - w^3*z, w^2*x^2*y^3*z - w^2*z, w*x^3*y^3*z - w*z, x^4*y^3*z - z, w^3*y^4*z - w^3*z, w^2*x*y^4*z - w^2*z, w*x^2*y^4*z - w*z, x^3*y^4*z - z, w^2*y^5*z - w^2*z, w*x*y^5*z - w*z, x^2*y^5*z - z, w*y^6*z - w*z, x*y^6*z - z, y^7*z - z, w^6*z^2 - w*z^2, w^5*x*z^2 - z^2, w^4*x^2*z^2 - w^4*z^2, w^3*x^3*z^2 - w^3*z^2, w^2*x^4*z^2 - w^2*z^2, w*x^5*z^2 - w*z^2, x^6*z^2 - z^2, w^5*y*z^2 - z^2, w^4*x*y*z^2 - w^4*z^2, w^3*x^2*y*z^2 - w^3*z^2, w^2*x^3*y*z^2 - w^2*z^2, w*x^4*y*z^2 - w*z^2, x^5*y*z^2 - z^2, w^4*y^2*z^2 - w^4*z^2, w^3*x*y^2*z^2 - w^3*z^2, w^2*x^2*y^2*z^2 - w^2*z^2, w*x^3*y^2*z^2 - w*z^2, x^4*y^2*z^2 - z^2, w^3*y^3*z^2 - w^3*z^2, w^2*x*y^3*z^2 - w^2*z^2, w*x^2*y^3*z^2 - w*z^2, x^3*y^3*z^2 - z^2, w^2*y^4*z^2 - w^2*z^2, w*x*y^4*z^2 - w*z^2, x^2*y^4*z^2 - z^2, w*y^5*z^2 - w*z^2, x*y^5*z^2 - z^2, y^6*z^2 - z^2, w^5*z^3 - z^3, w^4*x*z^3 - w^4*z^3, w^3*x^2*z^3 - w^3*z^3, w^2*x^3*z^3 - w^2*z^3, w*x^4*z^3 - w*z^3, x^5*z^3 - z^3, w^4*y*z^3 - w^4*z^3, w^3*x*y*z^3 - w^3*z^3, w^2*x^2*y*z^3 - w^2*z^3, w*x^3*y*z^3 - w*z^3, x^4*y*z^3 - z^3, w^3*y^2*z^3 - w^3*z^3, w^2*x*y^2*z^3 - w^2*z^3, w*x^2*y^2*z^3 - w*z^3, x^3*y^2*z^3 - z^3, w^2*y^3*z^3 - w^2*z^3, w*x*y^3*z^3 - w*z^3, x^2*y^3*z^3 - z^3, w*y^4*z^3 - w*z^3, x*y^4*z^3 - z^3, y^5*z^3 - z^3, w^3*x*z^4 - w^3*z^4, w^2*x^2*z^4 - w^2*z^4, w*x^3*z^4 - w*z^4, x^4*z^4 - z^4, w^3*y*z^4 - w^3*z^4, w^2*x*y*z^4 - w^2*z^4, w*x^2*y*z^4 - w*z^4, x^3*y*z^4 - z^4, w^2*y^2*z^4 - w^2*z^4, w*x*y^2*z^4 - w*z^4, x^2*y^2*z^4 - z^4, w*y^3*z^4 - w*z^4, x*y^3*z^4 - z^4, y^4*z^4 - z^4, w^3*z^5 - w^3, w^2*x*z^5 - w^2, w*x^2*z^5 - w, x^3*z^5 - 1, w^2*y*z^5 - w^2, w*x*y*z^5 - w, x^2*y*z^5 - 1, w*y^2*z^5 - w, x*y^2*z^5 - 1, y^3*z^5 - 1, w^2*z^6 - w^2*z, w*x*z^6 - w*z, x^2*z^6 - z, w*y*z^6 - w*z, x*y*z^6 - z, y^2*z^6 - z, w*z^7 - w*z^2, x*z^7 - z^2, y*z^7 - z^2, z^8 - z^3, w^7 - w^2, w^6*x - w, w^5*x^2 - 1, w^4*x^3 - w^4, w^3*x^4 - w^3, w^2*x^5 - w^2, w*x^6 - w, x^7 - 1, w^6*y - w, w^5*x*y - 1, w^4*x^2*y - w^4, w^3*x^3*y - w^3, w^2*x^4*y - w^2, w*x^5*y - w, x^6*y - 1, w^5*y^2 - 1, w^4*x*y^2 - w^4, w^3*x^2*y^2 - w^3, w^2*x^3*y^2 - w^2, w*x^4*y^2 - w, x^5*y^2 - 1, w^4*y^3 - w^4, w^3*x*y^3 - w^3, w^2*x^2*y^3 - w^2, w*x^3*y^3 - w, x^4*y^3 - 1, w^3*y^4 - w^3, w^2*x*y^4 - w^2, w*x^2*y^4 - w, x^3*y^4 - 1, w^2*y^5 - w^2, w*x*y^5 - w, x^2*y^5 - 1, w*y^6 - w, x*y^6 - 1, y^7 - 1, w^6*z - w*z, w^5*x*z - z, w^4*x^2*z - w^4*z, w^3*x^3*z - w^3*z, w^2*x^4*z - w^2*z, w*x^5*z - w*z, x^6*z - z, w^5*y*z - z, w^4*x*y*z - w^4*z, w^3*x^2*y*z - w^3*z, w^2*x^3*y*z - w^2*z, w*x^4*y*z - w*z, x^5*y*z - z, w^4*y^2*z - w^4*z, w^3*x*y^2*z - w^3*z, w^2*x^2*y^2*z - w^2*z, w*x^3*y^2*z - w*z, x^4*y^2*z - z, w^3*y^3*z - w^3*z, w^2*x*y^3*z - w^2*z, w*x^2*y^3*z - w*z, x^3*y^3*z - z, w^2*y^4*z - w^2*z, w*x*y^4*z - w*z, x^2*y^4*z - z, w*y^5*z - w*z, x*y^5*z - z, y^6*z - z, w^5*z^2 - z^2, w^4*x*z^2 - w^4*z^2, w^3*x^2*z^2 - w^3*z^2, w^2*x^3*z^2 - w^2*z^2, w*x^4*z^2 - w*z^2, x^5*z^2 - z^2, w^4*y*z^2 - w^4*z^2, w^3*x*y*z^2 - w^3*z^2, w^2*x^2*y*z^2 - w^2*z^2, w*x^3*y*z^2 - w*z^2, x^4*y*z^2 - z^2, w^3*y^2*z^2 - w^3*z^2, w^2*x*y^2*z^2 - w^2*z^2, w*x^2*y^2*z^2 - w*z^2, x^3*y^2*z^2 - z^2, w^2*y^3*z^2 - w^2*z^2, w*x*y^3*z^2 - w*z^2, x^2*y^3*z^2 - z^2, w*y^4*z^2 - w*z^2, x*y^4*z^2 - z^2, y^5*z^2 - z^2, w^3*x*z^3 - w^3*z^3, w^2*x^2*z^3 - w^2*z^3, w*x^3*z^3 - w*z^3, x^4*z^3 - z^3, w^3*y*z^3 - w^3*z^3, w^2*x*y*z^3 - w^2*z^3, w*x^2*y*z^3 - w*z^3, x^3*y*z^3 - z^3, w^2*y^2*z^3 - w^2*z^3, w*x*y^2*z^3 - w*z^3, x^2*y^2*z^3 - z^3, w*y^3*z^3 - w*z^3, x*y^3*z^3 - z^3, y^4*z^3 - z^3, w^2*x*z^4 - w^2*z^4, w*x^2*z^4 - w*z^4, x^3*z^4 - z^4, w^2*y*z^4 - w^2*z^4, w*x*y*z^4 - w*z^4, x^2*y*z^4 - z^4, w*y^2*z^4 - w*z^4, x*y^2*z^4 - z^4, y^3*z^4 - z^4, w^2*z^5 - w^2, w*x*z^5 - w, x^2*z^5 - 1, w*y*z^5 - w, x*y*z^5 - 1, y^2*z^5 - 1, w*z^6 - w*z, x*z^6 - z, y*z^6 - z, z^7 - z^2, w^6 - w, w^5*x - 1, w^4*x^2 - w^4, w^3*x^3 - w^3, w^2*x^4 - w^2, w*x^5 - w, x^6 - 1, w^5*y - 1, w^4*x*y - w^4, w^3*x^2*y - w^3, w^2*x^3*y - w^2, w*x^4*y - w, x^5*y - 1, w^4*y^2 - w^4, w^3*x*y^2 - w^3, w^2*x^2*y^2 - w^2, w*x^3*y^2 - w, x^4*y^2 - 1, w^3*y^3 - w^3, w^2*x*y^3 - w^2, w*x^2*y^3 - w, x^3*y^3 - 1, w^2*y^4 - w^2, w*x*y^4 - w, x^2*y^4 - 1, w*y^5 - w, x*y^5 - 1, y^6 - 1, w^5*z - z, w^4*x*z - w^4*z, w^3*x^2*z - w^3*z, w^2*x^3*z - w^2*z, w*x^4*z - w*z, x^5*z - z, w^4*y*z - w^4*z, w^3*x*y*z - w^3*z, w^2*x^2*y*z - w^2*z, w*x^3*y*z - w*z, x^4*y*z - z, w^3*y^2*z - w^3*z, w^2*x*y^2*z - w^2*z, w*x^2*y^2*z - w*z, x^3*y^2*z - z, w^2*y^3*z - w^2*z, w*x*y^3*z - w*z, x^2*y^3*z - z, w*y^4*z - w*z, x*y^4*z - z, y^5*z - z, w^3*x*z^2 - w^3*z^2, w^2*x^2*z^2 - w^2*z^2, w*x^3*z^2 - w*z^2, x^4*z^2 - z^2, w^3*y*z^2 - w^3*z^2, w^2*x*y*z^2 - w^2*z^2, w*x^2*y*z^2 - w*z^2, x^3*y*z^2 - z^2, w^2*y^2*z^2 - w^2*z^2, w*x*y^2*z^2 - w*z^2, x^2*y^2*z^2 - z^2, w*y^3*z^2 - w*z^2, x*y^3*z^2 - z^2, y^4*z^2 - z^2, w^2*x*z^3 - w^2*z^3, w*x^2*z^3 - w*z^3, x^3*z^3 - z^3, w^2*y*z^3 - w^2*z^3, w*x*y*z^3 - w*z^3, x^2*y*z^3 - z^3, w*y^2*z^3 - w*z^3, x*y^2*z^3 - z^3, y^3*z^3 - z^3, w*x*z^4 - w*z^4, x^2*z^4 - z^4, w*y*z^4 - w*z^4, x*y*z^4 - z^4, y^2*z^4 - z^4, w*z^5 - w, x*z^5 - 1, y*z^5 - 1, z^6 - z, w^5 - 1, w^4*x - w^4, w^3*x^2 - w^3, w^2*x^3 - w^2, w*x^4 - w, x^5 - 1, w^4*y - w^4, w^3*x*y - w^3, w^2*x^2*y - w^2, w*x^3*y - w, x^4*y - 1, w^3*y^2 - w^3, w^2*x*y^2 - w^2, w*x^2*y^2 - w, x^3*y^2 - 1, w^2*y^3 - w^2, w*x*y^3 - w, x^2*y^3 - 1, w*y^4 - w, x*y^4 - 1, y^5 - 1, w^3*x*z - w^3*z, w^2*x^2*z - w^2*z, w*x^3*z - w*z, x^4*z - z, w^3*y*z - w^3*z, w^2*x*y*z - w^2*z, w*x^2*y*z - w*z, x^3*y*z - z, w^2*y^2*z - w^2*z, w*x*y^2*z - w*z, x^2*y^2*z - z, w*y^3*z - w*z, x*y^3*z - z, y^4*z - z, w^2*x*z^2 - w^2*z^2, w*x^2*z^2 - w*z^2, x^3*z^2 - z^2, w^2*y*z^2 - w^2*z^2, w*x*y*z^2 - w*z^2, x^2*y*z^2 - z^2, w*y^2*z^2 - w*z^2, x*y^2*z^2 - z^2, y^3*z^2 - z^2, w*x*z^3 - w*z^3, x^2*z^3 - z^3, w*y*z^3 - w*z^3, x*y*z^3 - z^3, y^2*z^3 - z^3, x*z^4 - z^4, y*z^4 - z^4, z^5 - 1, w^3*x - w^3, w^2*x^2 - w^2, w*x^3 - w, x^4 - 1, w^3*y - w^3, w^2*x*y - w^2, w*x^2*y - w, x^3*y - 1, w^2*y^2 - w^2, w*x*y^2 - w, x^2*y^2 - 1, w*y^3 - w, x*y^3 - 1, y^4 - 1, w^2*x*z - w^2*z, w*x^2*z - w*z, x^3*z - z, w^2*y*z - w^2*z, w*x*y*z - w*z, x^2*y*z - z, w*y^2*z - w*z, x*y^2*z - z, y^3*z - z, w*x*z^2 - w*z^2, x^2*z^2 - z^2, w*y*z^2 - w*z^2, x*y*z^2 - z^2, y^2*z^2 - z^2, x*z^3 - z^3, y*z^3 - z^3, w^2*x - w^2, w*x^2 - w, x^3 - 1, w^2*y - w^2, w*x*y - w, x^2*y - 1, w*y^2 - w, x*y^2 - 1, y^3 - 1, w*x*z - w*z, x^2*z - z, w*y*z - w*z, x*y*z - z, y^2*z - z, x*z^2 - z^2, y*z^2 - z^2, w*x - w, x^2 - 1, w*y - w, x*y - 1, y^2 - 1, x*z - z, y*z - z, x - 1, y - 1] True True\n"
     ]
    },
    {
     "data": {
      "text/plain": [
       "(11, Polynomial Sequence with 1340 Polynomials in 4 Variables)"
      ]
     },
     "execution_count": 550,
     "metadata": {},
     "output_type": "execute_result"
    }
   ],
   "source": [
    "sdeg([f1,f2,f3,f4],R) # this is the way of computing Gröbner bases in Gorla's 2023 paper, which agrees with the \n",
    "                      # result that solving degree = max of max.GB.deg (5) and last fall degree (11)"
   ]
  },
  {
   "cell_type": "code",
   "execution_count": null,
   "metadata": {},
   "outputs": [
    {
     "name": "stdout",
     "output_type": "stream",
     "text": [
      "0 [0] True False\n",
      "1 [0] True False\n",
      "2 [x^2 - x, x*y - 1] False False\n",
      "3 [w*x^2 - w*x, x^3 - 1, w*x*y - w, x^2*y - 1, x*y^2 - y, x^2*z - x*z, x*y*z - z, x^2 - 1, x*y - 1, x - 1] False False\n",
      "4 Polynomial Sequence with 29 Polynomials in 4 Variables True False\n",
      "5 Polynomial Sequence with 65 Polynomials in 4 Variables True False\n",
      "6 Polynomial Sequence with 126 Polynomials in 4 Variables True False\n",
      "7 Polynomial Sequence with 222 Polynomials in 4 Variables True False\n",
      "8 Polynomial Sequence with 363 Polynomials in 4 Variables True False\n",
      "9 Polynomial Sequence with 559 Polynomials in 4 Variables True False\n",
      "10 Polynomial Sequence with 822 Polynomials in 4 Variables False True\n",
      "11 Polynomial Sequence with 1166 Polynomials in 4 Variables False True\n",
      "12 Polynomial Sequence with 1603 Polynomials in 4 Variables False True\n",
      "13 Polynomial Sequence with 2146 Polynomials in 4 Variables False True\n",
      "14 Polynomial Sequence with 2810 Polynomials in 4 Variables False True\n",
      "15 Polynomial Sequence with 3611 Polynomials in 4 Variables False True\n",
      "16 Polynomial Sequence with 4565 Polynomials in 4 Variables False True\n",
      "17 Polynomial Sequence with 5690 Polynomials in 4 Variables False True\n"
     ]
    }
   ],
   "source": [
    "mac_grob([f1,f2,f3,f4],R) # definitely puts it at over 11, even passes 15, which is the bound from the Castelnuovo-Mumford regularity"
   ]
  },
  {
   "cell_type": "code",
   "execution_count": 553,
   "metadata": {},
   "outputs": [
    {
     "name": "stdout",
     "output_type": "stream",
     "text": [
      "2 [x^2, x*y] True False\n",
      "3 [x^2, x*y] True False\n",
      "4 [x^2, x*y] True False\n",
      "5 [x^2, x*y] True False\n",
      "6 [x^2, x*y, w^6] True False\n",
      "7 [x^2, x*y, w^6] True False\n",
      "8 [x^2, x*y, w^6] True False\n",
      "9 [x^2, x*y, w^6] True False\n",
      "10 [x^2, x*y, w^6, w^5*z^5] True False\n",
      "11 [x^2, x*y, w^6, w^5*z^5] True False\n",
      "12 [x^2, x*y, w^6, w^5*z^5] True False\n"
     ]
    },
    {
     "ename": "KeyboardInterrupt",
     "evalue": "",
     "output_type": "error",
     "traceback": [
      "\u001b[0;31m---------------------------------------------------------------------------\u001b[0m",
      "\u001b[0;31mKeyboardInterrupt\u001b[0m                         Traceback (most recent call last)",
      "\u001b[0;32m/var/folders/zf/986s30f52c3fssnjtqpb80w00000gn/T/ipykernel_89856/839379375.py\u001b[0m in \u001b[0;36m<module>\u001b[0;34m\u001b[0m\n\u001b[0;32m----> 1\u001b[0;31m \u001b[0mf5_grob\u001b[0m\u001b[0;34m(\u001b[0m\u001b[0;34m[\u001b[0m\u001b[0mf1\u001b[0m\u001b[0;34m,\u001b[0m\u001b[0mf2\u001b[0m\u001b[0;34m,\u001b[0m\u001b[0mf4\u001b[0m\u001b[0;34m,\u001b[0m\u001b[0mf3\u001b[0m\u001b[0;34m]\u001b[0m\u001b[0;34m,\u001b[0m \u001b[0mR\u001b[0m\u001b[0;34m)\u001b[0m\u001b[0;34m\u001b[0m\u001b[0;34m\u001b[0m\u001b[0m\n\u001b[0m",
      "\u001b[0;32m/var/folders/zf/986s30f52c3fssnjtqpb80w00000gn/T/ipykernel_89856/1927247776.py\u001b[0m in \u001b[0;36mf5_grob\u001b[0;34m(f, ring)\u001b[0m\n\u001b[1;32m     16\u001b[0m     \u001b[0mtest_deg\u001b[0m \u001b[0;34m=\u001b[0m \u001b[0mmin\u001b[0m\u001b[0;34m(\u001b[0m\u001b[0;34m[\u001b[0m\u001b[0mp\u001b[0m\u001b[0;34m.\u001b[0m\u001b[0mdegree\u001b[0m\u001b[0;34m(\u001b[0m\u001b[0;34m)\u001b[0m \u001b[0;32mfor\u001b[0m \u001b[0mp\u001b[0m \u001b[0;32min\u001b[0m \u001b[0mf\u001b[0m\u001b[0;34m]\u001b[0m\u001b[0;34m)\u001b[0m\u001b[0;34m\u001b[0m\u001b[0;34m\u001b[0m\u001b[0m\n\u001b[1;32m     17\u001b[0m     \u001b[0;32mwhile\u001b[0m \u001b[0;32mTrue\u001b[0m\u001b[0;34m:\u001b[0m\u001b[0;34m\u001b[0m\u001b[0;34m\u001b[0m\u001b[0m\n\u001b[0;32m---> 18\u001b[0;31m         \u001b[0mG\u001b[0m \u001b[0;34m=\u001b[0m \u001b[0mF5\u001b[0m\u001b[0;34m(\u001b[0m\u001b[0mf\u001b[0m\u001b[0;34m,\u001b[0m \u001b[0mtest_deg\u001b[0m\u001b[0;34m)\u001b[0m\u001b[0;34m\u001b[0m\u001b[0;34m\u001b[0m\u001b[0m\n\u001b[0m\u001b[1;32m     19\u001b[0m         \u001b[0mB\u001b[0m \u001b[0;34m=\u001b[0m \u001b[0mrecover_f5\u001b[0m\u001b[0;34m(\u001b[0m\u001b[0mG\u001b[0m\u001b[0;34m[\u001b[0m\u001b[0mInteger\u001b[0m\u001b[0;34m(\u001b[0m\u001b[0;36m0\u001b[0m\u001b[0;34m)\u001b[0m\u001b[0;34m]\u001b[0m\u001b[0;34m)\u001b[0m\u001b[0;34m\u001b[0m\u001b[0;34m\u001b[0m\u001b[0m\n\u001b[1;32m     20\u001b[0m         \u001b[0mcheck_1\u001b[0m \u001b[0;34m=\u001b[0m \u001b[0mB\u001b[0m\u001b[0;34m.\u001b[0m\u001b[0mis_groebner\u001b[0m\u001b[0;34m(\u001b[0m\u001b[0;34m)\u001b[0m\u001b[0;34m\u001b[0m\u001b[0;34m\u001b[0m\u001b[0m\n",
      "\u001b[0;32m/var/folders/zf/986s30f52c3fssnjtqpb80w00000gn/T/ipykernel_89856/3370463467.py\u001b[0m in \u001b[0;36mF5\u001b[0;34m(F, D, order)\u001b[0m\n\u001b[1;32m    152\u001b[0m                     \u001b[0;32mfor\u001b[0m \u001b[0mj\u001b[0m \u001b[0;32min\u001b[0m \u001b[0mrange\u001b[0m\u001b[0;34m(\u001b[0m\u001b[0mlargest_var_in_u\u001b[0m\u001b[0;34m,\u001b[0m\u001b[0mlen\u001b[0m\u001b[0;34m(\u001b[0m\u001b[0mvariables\u001b[0m\u001b[0;34m)\u001b[0m\u001b[0;34m)\u001b[0m\u001b[0;34m:\u001b[0m\u001b[0;34m\u001b[0m\u001b[0;34m\u001b[0m\u001b[0m\n\u001b[1;32m    153\u001b[0m                         \u001b[0;32mif\u001b[0m \u001b[0mu\u001b[0m\u001b[0;34m*\u001b[0m\u001b[0mvariables\u001b[0m\u001b[0;34m[\u001b[0m\u001b[0mj\u001b[0m\u001b[0;34m]\u001b[0m \u001b[0;32mnot\u001b[0m \u001b[0;32min\u001b[0m \u001b[0mCrit\u001b[0m\u001b[0;34m:\u001b[0m \u001b[0;31m# avoid signatures which F_5 criterion tells us are useless\u001b[0m\u001b[0;34m\u001b[0m\u001b[0;34m\u001b[0m\u001b[0m\n\u001b[0;32m--> 154\u001b[0;31m                             \u001b[0mM\u001b[0m\u001b[0;34m[\u001b[0m\u001b[0md\u001b[0m\u001b[0;34m]\u001b[0m\u001b[0;34m[\u001b[0m\u001b[0mi\u001b[0m\u001b[0;34m]\u001b[0m \u001b[0;34m=\u001b[0m \u001b[0mM\u001b[0m\u001b[0;34m[\u001b[0m\u001b[0md\u001b[0m\u001b[0;34m]\u001b[0m\u001b[0;34m[\u001b[0m\u001b[0mi\u001b[0m\u001b[0;34m]\u001b[0m\u001b[0;34m.\u001b[0m\u001b[0madd_row\u001b[0m\u001b[0;34m(\u001b[0m\u001b[0mvariables\u001b[0m\u001b[0;34m[\u001b[0m\u001b[0mj\u001b[0m\u001b[0;34m]\u001b[0m\u001b[0;34m*\u001b[0m\u001b[0mf\u001b[0m\u001b[0;34m,\u001b[0m \u001b[0;34m(\u001b[0m\u001b[0mi\u001b[0m\u001b[0;34m,\u001b[0m\u001b[0mu\u001b[0m\u001b[0;34m*\u001b[0m\u001b[0mvariables\u001b[0m\u001b[0;34m[\u001b[0m\u001b[0mj\u001b[0m\u001b[0;34m]\u001b[0m\u001b[0;34m)\u001b[0m\u001b[0;34m)\u001b[0m\u001b[0;34m\u001b[0m\u001b[0;34m\u001b[0m\u001b[0m\n\u001b[0m\u001b[1;32m    155\u001b[0m \u001b[0;34m\u001b[0m\u001b[0m\n\u001b[1;32m    156\u001b[0m             \u001b[0;31m# reduce Macaulay-like matrices\u001b[0m\u001b[0;34m\u001b[0m\u001b[0;34m\u001b[0m\u001b[0m\n",
      "\u001b[0;32m/var/folders/zf/986s30f52c3fssnjtqpb80w00000gn/T/ipykernel_89856/3370463467.py\u001b[0m in \u001b[0;36madd_row\u001b[0;34m(self, f, index)\u001b[0m\n\u001b[1;32m     84\u001b[0m         \u001b[0mcopy_mat\u001b[0m \u001b[0;34m=\u001b[0m \u001b[0mcopy\u001b[0m\u001b[0;34m(\u001b[0m\u001b[0mself\u001b[0m\u001b[0;34m.\u001b[0m\u001b[0mmat\u001b[0m\u001b[0;34m)\u001b[0m\u001b[0;34m\u001b[0m\u001b[0;34m\u001b[0m\u001b[0m\n\u001b[1;32m     85\u001b[0m         \u001b[0mcopy_signature\u001b[0m \u001b[0;34m=\u001b[0m \u001b[0mcopy\u001b[0m\u001b[0;34m(\u001b[0m\u001b[0mself\u001b[0m\u001b[0;34m.\u001b[0m\u001b[0msignature\u001b[0m\u001b[0;34m)\u001b[0m\u001b[0;34m\u001b[0m\u001b[0;34m\u001b[0m\u001b[0m\n\u001b[0;32m---> 86\u001b[0;31m         \u001b[0mcopy_mat\u001b[0m \u001b[0;34m=\u001b[0m \u001b[0mmatrix\u001b[0m\u001b[0;34m(\u001b[0m\u001b[0mcopy_mat\u001b[0m\u001b[0;34m.\u001b[0m\u001b[0mrows\u001b[0m\u001b[0;34m(\u001b[0m\u001b[0;34m)\u001b[0m\u001b[0;34m+\u001b[0m\u001b[0;34m[\u001b[0m\u001b[0mrow\u001b[0m\u001b[0;34m]\u001b[0m\u001b[0;34m)\u001b[0m\u001b[0;34m\u001b[0m\u001b[0;34m\u001b[0m\u001b[0m\n\u001b[0m\u001b[1;32m     87\u001b[0m         \u001b[0mcopy_signature\u001b[0m\u001b[0;34m[\u001b[0m\u001b[0mcopy_mat\u001b[0m\u001b[0;34m.\u001b[0m\u001b[0mnrows\u001b[0m\u001b[0;34m(\u001b[0m\u001b[0;34m)\u001b[0m\u001b[0;34m-\u001b[0m\u001b[0mInteger\u001b[0m\u001b[0;34m(\u001b[0m\u001b[0;36m1\u001b[0m\u001b[0;34m)\u001b[0m\u001b[0;34m]\u001b[0m \u001b[0;34m=\u001b[0m \u001b[0mindex\u001b[0m\u001b[0;34m\u001b[0m\u001b[0;34m\u001b[0m\u001b[0m\n\u001b[1;32m     88\u001b[0m         \u001b[0;32mreturn\u001b[0m \u001b[0mSignedMatrix\u001b[0m\u001b[0;34m(\u001b[0m\u001b[0mcopy_mat\u001b[0m\u001b[0;34m,\u001b[0m \u001b[0mcopy_signature\u001b[0m\u001b[0;34m,\u001b[0m \u001b[0mself\u001b[0m\u001b[0;34m.\u001b[0m\u001b[0md\u001b[0m\u001b[0;34m,\u001b[0m \u001b[0mself\u001b[0m\u001b[0;34m.\u001b[0m\u001b[0mparent\u001b[0m\u001b[0;34m)\u001b[0m\u001b[0;34m\u001b[0m\u001b[0;34m\u001b[0m\u001b[0m\n",
      "\u001b[0;32m/private/var/tmp/sage-9.6-current/local/var/lib/sage/venv-python3.10.3/lib/python3.10/site-packages/sage/matrix/constructor.pyx\u001b[0m in \u001b[0;36msage.matrix.constructor.matrix (build/cythonized/sage/matrix/constructor.c:2731)\u001b[0;34m()\u001b[0m\n\u001b[1;32m    641\u001b[0m     \"\"\"\n\u001b[1;32m    642\u001b[0m     \u001b[0mimmutable\u001b[0m \u001b[0;34m=\u001b[0m \u001b[0mkwds\u001b[0m\u001b[0;34m.\u001b[0m\u001b[0mpop\u001b[0m\u001b[0;34m(\u001b[0m\u001b[0;34m'immutable'\u001b[0m\u001b[0;34m,\u001b[0m \u001b[0;32mFalse\u001b[0m\u001b[0;34m)\u001b[0m\u001b[0;34m\u001b[0m\u001b[0;34m\u001b[0m\u001b[0m\n\u001b[0;32m--> 643\u001b[0;31m     \u001b[0mM\u001b[0m \u001b[0;34m=\u001b[0m \u001b[0mMatrixArgs\u001b[0m\u001b[0;34m(\u001b[0m\u001b[0;34m*\u001b[0m\u001b[0margs\u001b[0m\u001b[0;34m,\u001b[0m \u001b[0;34m**\u001b[0m\u001b[0mkwds\u001b[0m\u001b[0;34m)\u001b[0m\u001b[0;34m.\u001b[0m\u001b[0mmatrix\u001b[0m\u001b[0;34m(\u001b[0m\u001b[0;34m)\u001b[0m\u001b[0;34m\u001b[0m\u001b[0;34m\u001b[0m\u001b[0m\n\u001b[0m\u001b[1;32m    644\u001b[0m     \u001b[0;32mif\u001b[0m \u001b[0mimmutable\u001b[0m\u001b[0;34m:\u001b[0m\u001b[0;34m\u001b[0m\u001b[0;34m\u001b[0m\u001b[0m\n\u001b[1;32m    645\u001b[0m         \u001b[0mM\u001b[0m\u001b[0;34m.\u001b[0m\u001b[0mset_immutable\u001b[0m\u001b[0;34m(\u001b[0m\u001b[0;34m)\u001b[0m\u001b[0;34m\u001b[0m\u001b[0;34m\u001b[0m\u001b[0m\n",
      "\u001b[0;32m/private/var/tmp/sage-9.6-current/local/var/lib/sage/venv-python3.10.3/lib/python3.10/site-packages/sage/matrix/args.pyx\u001b[0m in \u001b[0;36msage.matrix.args.MatrixArgs.matrix (build/cythonized/sage/matrix/args.c:7830)\u001b[0;34m()\u001b[0m\n\u001b[1;32m    653\u001b[0m             \u001b[0;32mTrue\u001b[0m\u001b[0;34m\u001b[0m\u001b[0;34m\u001b[0m\u001b[0m\n\u001b[1;32m    654\u001b[0m         \"\"\"\n\u001b[0;32m--> 655\u001b[0;31m         \u001b[0mself\u001b[0m\u001b[0;34m.\u001b[0m\u001b[0mfinalize\u001b[0m\u001b[0;34m(\u001b[0m\u001b[0;34m)\u001b[0m\u001b[0;34m\u001b[0m\u001b[0;34m\u001b[0m\u001b[0m\n\u001b[0m\u001b[1;32m    656\u001b[0m \u001b[0;34m\u001b[0m\u001b[0m\n\u001b[1;32m    657\u001b[0m         \u001b[0mcdef\u001b[0m \u001b[0mMatrix\u001b[0m \u001b[0mM\u001b[0m\u001b[0;34m\u001b[0m\u001b[0;34m\u001b[0m\u001b[0m\n",
      "\u001b[0;32m/private/var/tmp/sage-9.6-current/local/var/lib/sage/venv-python3.10.3/lib/python3.10/site-packages/sage/matrix/args.pyx\u001b[0m in \u001b[0;36msage.matrix.args.MatrixArgs.finalize (build/cythonized/sage/matrix/args.c:10167)\u001b[0;34m()\u001b[0m\n\u001b[1;32m    916\u001b[0m             \u001b[0;31m# really need to look at the entries.\u001b[0m\u001b[0;34m\u001b[0m\u001b[0;34m\u001b[0m\u001b[0m\n\u001b[1;32m    917\u001b[0m             \u001b[0;32mif\u001b[0m \u001b[0mself\u001b[0m\u001b[0;34m.\u001b[0m\u001b[0mtyp\u001b[0m \u001b[0;34m==\u001b[0m \u001b[0mMA_ENTRIES_SEQ_SEQ\u001b[0m\u001b[0;34m:\u001b[0m\u001b[0;34m\u001b[0m\u001b[0;34m\u001b[0m\u001b[0m\n\u001b[0;32m--> 918\u001b[0;31m                 \u001b[0mself\u001b[0m\u001b[0;34m.\u001b[0m\u001b[0mfinalize_seq_seq\u001b[0m\u001b[0;34m(\u001b[0m\u001b[0;34m)\u001b[0m\u001b[0;34m\u001b[0m\u001b[0;34m\u001b[0m\u001b[0m\n\u001b[0m\u001b[1;32m    919\u001b[0m             \u001b[0;32melif\u001b[0m \u001b[0mself\u001b[0m\u001b[0;34m.\u001b[0m\u001b[0mtyp\u001b[0m \u001b[0;34m==\u001b[0m \u001b[0mMA_ENTRIES_SEQ_FLAT\u001b[0m\u001b[0;34m:\u001b[0m\u001b[0;34m\u001b[0m\u001b[0;34m\u001b[0m\u001b[0m\n\u001b[1;32m    920\u001b[0m                 \u001b[0mself\u001b[0m\u001b[0;34m.\u001b[0m\u001b[0mfinalize_seq_scalar\u001b[0m\u001b[0;34m(\u001b[0m\u001b[0;34m)\u001b[0m\u001b[0;34m\u001b[0m\u001b[0;34m\u001b[0m\u001b[0m\n",
      "\u001b[0;32m/private/var/tmp/sage-9.6-current/local/var/lib/sage/venv-python3.10.3/lib/python3.10/site-packages/sage/matrix/args.pyx\u001b[0m in \u001b[0;36msage.matrix.args.MatrixArgs.finalize_seq_seq (build/cythonized/sage/matrix/args.c:13634)\u001b[0;34m()\u001b[0m\n\u001b[1;32m   1135\u001b[0m             \u001b[0mc\u001b[0m \u001b[0;34m=\u001b[0m \u001b[0;36m0\u001b[0m\u001b[0;34m\u001b[0m\u001b[0;34m\u001b[0m\u001b[0m\n\u001b[1;32m   1136\u001b[0m             \u001b[0;32mfor\u001b[0m \u001b[0mentry\u001b[0m \u001b[0;32min\u001b[0m \u001b[0mrow\u001b[0m\u001b[0;34m:\u001b[0m\u001b[0;34m\u001b[0m\u001b[0;34m\u001b[0m\u001b[0m\n\u001b[0;32m-> 1137\u001b[0;31m                 \u001b[0msig_check\u001b[0m\u001b[0;34m(\u001b[0m\u001b[0;34m)\u001b[0m\u001b[0;34m\u001b[0m\u001b[0;34m\u001b[0m\u001b[0m\n\u001b[0m\u001b[1;32m   1138\u001b[0m                 \u001b[0mc\u001b[0m \u001b[0;34m+=\u001b[0m \u001b[0;36m1\u001b[0m\u001b[0;34m\u001b[0m\u001b[0;34m\u001b[0m\u001b[0m\n\u001b[1;32m   1139\u001b[0m                 \u001b[0mentries\u001b[0m\u001b[0;34m.\u001b[0m\u001b[0mappend\u001b[0m\u001b[0;34m(\u001b[0m\u001b[0mentry\u001b[0m\u001b[0;34m)\u001b[0m\u001b[0;34m\u001b[0m\u001b[0;34m\u001b[0m\u001b[0m\n",
      "\u001b[0;31mKeyboardInterrupt\u001b[0m: "
     ]
    }
   ],
   "source": [
    "f5_grob([f1,f2,f4,f3], R) # also goes over 11"
   ]
  },
  {
   "cell_type": "code",
   "execution_count": null,
   "metadata": {},
   "outputs": [],
   "source": []
  },
  {
   "cell_type": "code",
   "execution_count": 538,
   "metadata": {
    "scrolled": true
   },
   "outputs": [
    {
     "name": "stdout",
     "output_type": "stream",
     "text": [
      "[w^5, w^4*x, w^3*x^2, w^2*x^3, w*x^4, x^5, w^4*y, w^3*x*y, w^2*x^2*y, w*x^3*y, x^4*y, w^3*y^2, w^2*x*y^2, w*x^2*y^2, x^3*y^2, w^2*y^3, w*x*y^3, x^2*y^3, w*y^4, x*y^4, y^5, w^4*z, w^3*x*z, w^2*x^2*z, w*x^3*z, x^4*z, w^3*y*z, w^2*x*y*z, w*x^2*y*z, x^3*y*z, w^2*y^2*z, w*x*y^2*z, x^2*y^2*z, w*y^3*z, x*y^3*z, y^4*z, w^3*z^2, w^2*x*z^2, w*x^2*z^2, x^3*z^2, w^2*y*z^2, w*x*y*z^2, x^2*y*z^2, w*y^2*z^2, x*y^2*z^2, y^3*z^2, w^2*z^3, w*x*z^3, x^2*z^3, w*y*z^3, x*y*z^3, y^2*z^3, w*z^4, x*z^4, y*z^4, z^5, w^4, w^3*x, w^2*x^2, w*x^3, x^4, w^3*y, w^2*x*y, w*x^2*y, x^3*y, w^2*y^2, w*x*y^2, x^2*y^2, w*y^3, x*y^3, y^4, w^3*z, w^2*x*z, w*x^2*z, x^3*z, w^2*y*z, w*x*y*z, x^2*y*z, w*y^2*z, x*y^2*z, y^3*z, w^2*z^2, w*x*z^2, x^2*z^2, w*y*z^2, x*y*z^2, y^2*z^2, w*z^3, x*z^3, y*z^3, z^4, w^3, w^2*x, w*x^2, x^3, w^2*y, w*x*y, x^2*y, w*y^2, x*y^2, y^3, w^2*z, w*x*z, x^2*z, w*y*z, x*y*z, y^2*z, w*z^2, x*z^2, y*z^2, z^3, w^2, w*x, x^2, w*y, x*y, y^2, w*z, x*z, y*z, z^2, w, x, y, z, 1]\n",
      "[w^6, w^5*x, w^4*x^2, w^3*x^3, w^2*x^4, w*x^5, x^6, w^5*y, w^4*x*y, w^3*x^2*y, w^2*x^3*y, w*x^4*y, x^5*y, w^4*y^2, w^3*x*y^2, w^2*x^2*y^2, w*x^3*y^2, x^4*y^2, w^3*y^3, w^2*x*y^3, w*x^2*y^3, x^3*y^3, w^2*y^4, w*x*y^4, x^2*y^4, w*y^5, x*y^5, y^6, w^5*z, w^4*x*z, w^3*x^2*z, w^2*x^3*z, w*x^4*z, x^5*z, w^4*y*z, w^3*x*y*z, w^2*x^2*y*z, w*x^3*y*z, x^4*y*z, w^3*y^2*z, w^2*x*y^2*z, w*x^2*y^2*z, x^3*y^2*z, w^2*y^3*z, w*x*y^3*z, x^2*y^3*z, w*y^4*z, x*y^4*z, y^5*z, w^4*z^2, w^3*x*z^2, w^2*x^2*z^2, w*x^3*z^2, x^4*z^2, w^3*y*z^2, w^2*x*y*z^2, w*x^2*y*z^2, x^3*y*z^2, w^2*y^2*z^2, w*x*y^2*z^2, x^2*y^2*z^2, w*y^3*z^2, x*y^3*z^2, y^4*z^2, w^3*z^3, w^2*x*z^3, w*x^2*z^3, x^3*z^3, w^2*y*z^3, w*x*y*z^3, x^2*y*z^3, w*y^2*z^3, x*y^2*z^3, y^3*z^3, w^2*z^4, w*x*z^4, x^2*z^4, w*y*z^4, x*y*z^4, y^2*z^4, w*z^5, x*z^5, y*z^5, z^6, w^5, w^4*x, w^3*x^2, w^2*x^3, w*x^4, x^5, w^4*y, w^3*x*y, w^2*x^2*y, w*x^3*y, x^4*y, w^3*y^2, w^2*x*y^2, w*x^2*y^2, x^3*y^2, w^2*y^3, w*x*y^3, x^2*y^3, w*y^4, x*y^4, y^5, w^4*z, w^3*x*z, w^2*x^2*z, w*x^3*z, x^4*z, w^3*y*z, w^2*x*y*z, w*x^2*y*z, x^3*y*z, w^2*y^2*z, w*x*y^2*z, x^2*y^2*z, w*y^3*z, x*y^3*z, y^4*z, w^3*z^2, w^2*x*z^2, w*x^2*z^2, x^3*z^2, w^2*y*z^2, w*x*y*z^2, x^2*y*z^2, w*y^2*z^2, x*y^2*z^2, y^3*z^2, w^2*z^3, w*x*z^3, x^2*z^3, w*y*z^3, x*y*z^3, y^2*z^3, w*z^4, x*z^4, y*z^4, z^5, w^4, w^3*x, w^2*x^2, w*x^3, x^4, w^3*y, w^2*x*y, w*x^2*y, x^3*y, w^2*y^2, w*x*y^2, x^2*y^2, w*y^3, x*y^3, y^4, w^3*z, w^2*x*z, w*x^2*z, x^3*z, w^2*y*z, w*x*y*z, x^2*y*z, w*y^2*z, x*y^2*z, y^3*z, w^2*z^2, w*x*z^2, x^2*z^2, w*y*z^2, x*y*z^2, y^2*z^2, w*z^3, x*z^3, y*z^3, z^4, w^3, w^2*x, w*x^2, x^3, w^2*y, w*x*y, x^2*y, w*y^2, x*y^2, y^3, w^2*z, w*x*z, x^2*z, w*y*z, x*y*z, y^2*z, w*z^2, x*z^2, y*z^2, z^3, w^2, w*x, x^2, w*y, x*y, y^2, w*z, x*z, y*z, z^2, w, x, y, z, 1]\n",
      "[w^7, w^6*x, w^5*x^2, w^4*x^3, w^3*x^4, w^2*x^5, w*x^6, x^7, w^6*y, w^5*x*y, w^4*x^2*y, w^3*x^3*y, w^2*x^4*y, w*x^5*y, x^6*y, w^5*y^2, w^4*x*y^2, w^3*x^2*y^2, w^2*x^3*y^2, w*x^4*y^2, x^5*y^2, w^4*y^3, w^3*x*y^3, w^2*x^2*y^3, w*x^3*y^3, x^4*y^3, w^3*y^4, w^2*x*y^4, w*x^2*y^4, x^3*y^4, w^2*y^5, w*x*y^5, x^2*y^5, w*y^6, x*y^6, y^7, w^6*z, w^5*x*z, w^4*x^2*z, w^3*x^3*z, w^2*x^4*z, w*x^5*z, x^6*z, w^5*y*z, w^4*x*y*z, w^3*x^2*y*z, w^2*x^3*y*z, w*x^4*y*z, x^5*y*z, w^4*y^2*z, w^3*x*y^2*z, w^2*x^2*y^2*z, w*x^3*y^2*z, x^4*y^2*z, w^3*y^3*z, w^2*x*y^3*z, w*x^2*y^3*z, x^3*y^3*z, w^2*y^4*z, w*x*y^4*z, x^2*y^4*z, w*y^5*z, x*y^5*z, y^6*z, w^5*z^2, w^4*x*z^2, w^3*x^2*z^2, w^2*x^3*z^2, w*x^4*z^2, x^5*z^2, w^4*y*z^2, w^3*x*y*z^2, w^2*x^2*y*z^2, w*x^3*y*z^2, x^4*y*z^2, w^3*y^2*z^2, w^2*x*y^2*z^2, w*x^2*y^2*z^2, x^3*y^2*z^2, w^2*y^3*z^2, w*x*y^3*z^2, x^2*y^3*z^2, w*y^4*z^2, x*y^4*z^2, y^5*z^2, w^4*z^3, w^3*x*z^3, w^2*x^2*z^3, w*x^3*z^3, x^4*z^3, w^3*y*z^3, w^2*x*y*z^3, w*x^2*y*z^3, x^3*y*z^3, w^2*y^2*z^3, w*x*y^2*z^3, x^2*y^2*z^3, w*y^3*z^3, x*y^3*z^3, y^4*z^3, w^3*z^4, w^2*x*z^4, w*x^2*z^4, x^3*z^4, w^2*y*z^4, w*x*y*z^4, x^2*y*z^4, w*y^2*z^4, x*y^2*z^4, y^3*z^4, w^2*z^5, w*x*z^5, x^2*z^5, w*y*z^5, x*y*z^5, y^2*z^5, w*z^6, x*z^6, y*z^6, z^7, w^6, w^5*x, w^4*x^2, w^3*x^3, w^2*x^4, w*x^5, x^6, w^5*y, w^4*x*y, w^3*x^2*y, w^2*x^3*y, w*x^4*y, x^5*y, w^4*y^2, w^3*x*y^2, w^2*x^2*y^2, w*x^3*y^2, x^4*y^2, w^3*y^3, w^2*x*y^3, w*x^2*y^3, x^3*y^3, w^2*y^4, w*x*y^4, x^2*y^4, w*y^5, x*y^5, y^6, w^5*z, w^4*x*z, w^3*x^2*z, w^2*x^3*z, w*x^4*z, x^5*z, w^4*y*z, w^3*x*y*z, w^2*x^2*y*z, w*x^3*y*z, x^4*y*z, w^3*y^2*z, w^2*x*y^2*z, w*x^2*y^2*z, x^3*y^2*z, w^2*y^3*z, w*x*y^3*z, x^2*y^3*z, w*y^4*z, x*y^4*z, y^5*z, w^4*z^2, w^3*x*z^2, w^2*x^2*z^2, w*x^3*z^2, x^4*z^2, w^3*y*z^2, w^2*x*y*z^2, w*x^2*y*z^2, x^3*y*z^2, w^2*y^2*z^2, w*x*y^2*z^2, x^2*y^2*z^2, w*y^3*z^2, x*y^3*z^2, y^4*z^2, w^3*z^3, w^2*x*z^3, w*x^2*z^3, x^3*z^3, w^2*y*z^3, w*x*y*z^3, x^2*y*z^3, w*y^2*z^3, x*y^2*z^3, y^3*z^3, w^2*z^4, w*x*z^4, x^2*z^4, w*y*z^4, x*y*z^4, y^2*z^4, w*z^5, x*z^5, y*z^5, z^6, w^5, w^4*x, w^3*x^2, w^2*x^3, w*x^4, x^5, w^4*y, w^3*x*y, w^2*x^2*y, w*x^3*y, x^4*y, w^3*y^2, w^2*x*y^2, w*x^2*y^2, x^3*y^2, w^2*y^3, w*x*y^3, x^2*y^3, w*y^4, x*y^4, y^5, w^4*z, w^3*x*z, w^2*x^2*z, w*x^3*z, x^4*z, w^3*y*z, w^2*x*y*z, w*x^2*y*z, x^3*y*z, w^2*y^2*z, w*x*y^2*z, x^2*y^2*z, w*y^3*z, x*y^3*z, y^4*z, w^3*z^2, w^2*x*z^2, w*x^2*z^2, x^3*z^2, w^2*y*z^2, w*x*y*z^2, x^2*y*z^2, w*y^2*z^2, x*y^2*z^2, y^3*z^2, w^2*z^3, w*x*z^3, x^2*z^3, w*y*z^3, x*y*z^3, y^2*z^3, w*z^4, x*z^4, y*z^4, z^5, w^4, w^3*x, w^2*x^2, w*x^3, x^4, w^3*y, w^2*x*y, w*x^2*y, x^3*y, w^2*y^2, w*x*y^2, x^2*y^2, w*y^3, x*y^3, y^4, w^3*z, w^2*x*z, w*x^2*z, x^3*z, w^2*y*z, w*x*y*z, x^2*y*z, w*y^2*z, x*y^2*z, y^3*z, w^2*z^2, w*x*z^2, x^2*z^2, w*y*z^2, x*y*z^2, y^2*z^2, w*z^3, x*z^3, y*z^3, z^4, w^3, w^2*x, w*x^2, x^3, w^2*y, w*x*y, x^2*y, w*y^2, x*y^2, y^3, w^2*z, w*x*z, x^2*z, w*y*z, x*y*z, y^2*z, w*z^2, x*z^2, y*z^2, z^3, w^2, w*x, x^2, w*y, x*y, y^2, w*z, x*z, y*z, z^2, w, x, y, z, 1]\n",
      "[w^8, w^7*x, w^6*x^2, w^5*x^3, w^4*x^4, w^3*x^5, w^2*x^6, w*x^7, x^8, w^7*y, w^6*x*y, w^5*x^2*y, w^4*x^3*y, w^3*x^4*y, w^2*x^5*y, w*x^6*y, x^7*y, w^6*y^2, w^5*x*y^2, w^4*x^2*y^2, w^3*x^3*y^2, w^2*x^4*y^2, w*x^5*y^2, x^6*y^2, w^5*y^3, w^4*x*y^3, w^3*x^2*y^3, w^2*x^3*y^3, w*x^4*y^3, x^5*y^3, w^4*y^4, w^3*x*y^4, w^2*x^2*y^4, w*x^3*y^4, x^4*y^4, w^3*y^5, w^2*x*y^5, w*x^2*y^5, x^3*y^5, w^2*y^6, w*x*y^6, x^2*y^6, w*y^7, x*y^7, y^8, w^7*z, w^6*x*z, w^5*x^2*z, w^4*x^3*z, w^3*x^4*z, w^2*x^5*z, w*x^6*z, x^7*z, w^6*y*z, w^5*x*y*z, w^4*x^2*y*z, w^3*x^3*y*z, w^2*x^4*y*z, w*x^5*y*z, x^6*y*z, w^5*y^2*z, w^4*x*y^2*z, w^3*x^2*y^2*z, w^2*x^3*y^2*z, w*x^4*y^2*z, x^5*y^2*z, w^4*y^3*z, w^3*x*y^3*z, w^2*x^2*y^3*z, w*x^3*y^3*z, x^4*y^3*z, w^3*y^4*z, w^2*x*y^4*z, w*x^2*y^4*z, x^3*y^4*z, w^2*y^5*z, w*x*y^5*z, x^2*y^5*z, w*y^6*z, x*y^6*z, y^7*z, w^6*z^2, w^5*x*z^2, w^4*x^2*z^2, w^3*x^3*z^2, w^2*x^4*z^2, w*x^5*z^2, x^6*z^2, w^5*y*z^2, w^4*x*y*z^2, w^3*x^2*y*z^2, w^2*x^3*y*z^2, w*x^4*y*z^2, x^5*y*z^2, w^4*y^2*z^2, w^3*x*y^2*z^2, w^2*x^2*y^2*z^2, w*x^3*y^2*z^2, x^4*y^2*z^2, w^3*y^3*z^2, w^2*x*y^3*z^2, w*x^2*y^3*z^2, x^3*y^3*z^2, w^2*y^4*z^2, w*x*y^4*z^2, x^2*y^4*z^2, w*y^5*z^2, x*y^5*z^2, y^6*z^2, w^5*z^3, w^4*x*z^3, w^3*x^2*z^3, w^2*x^3*z^3, w*x^4*z^3, x^5*z^3, w^4*y*z^3, w^3*x*y*z^3, w^2*x^2*y*z^3, w*x^3*y*z^3, x^4*y*z^3, w^3*y^2*z^3, w^2*x*y^2*z^3, w*x^2*y^2*z^3, x^3*y^2*z^3, w^2*y^3*z^3, w*x*y^3*z^3, x^2*y^3*z^3, w*y^4*z^3, x*y^4*z^3, y^5*z^3, w^4*z^4, w^3*x*z^4, w^2*x^2*z^4, w*x^3*z^4, x^4*z^4, w^3*y*z^4, w^2*x*y*z^4, w*x^2*y*z^4, x^3*y*z^4, w^2*y^2*z^4, w*x*y^2*z^4, x^2*y^2*z^4, w*y^3*z^4, x*y^3*z^4, y^4*z^4, w^3*z^5, w^2*x*z^5, w*x^2*z^5, x^3*z^5, w^2*y*z^5, w*x*y*z^5, x^2*y*z^5, w*y^2*z^5, x*y^2*z^5, y^3*z^5, w^2*z^6, w*x*z^6, x^2*z^6, w*y*z^6, x*y*z^6, y^2*z^6, w*z^7, x*z^7, y*z^7, z^8, w^7, w^6*x, w^5*x^2, w^4*x^3, w^3*x^4, w^2*x^5, w*x^6, x^7, w^6*y, w^5*x*y, w^4*x^2*y, w^3*x^3*y, w^2*x^4*y, w*x^5*y, x^6*y, w^5*y^2, w^4*x*y^2, w^3*x^2*y^2, w^2*x^3*y^2, w*x^4*y^2, x^5*y^2, w^4*y^3, w^3*x*y^3, w^2*x^2*y^3, w*x^3*y^3, x^4*y^3, w^3*y^4, w^2*x*y^4, w*x^2*y^4, x^3*y^4, w^2*y^5, w*x*y^5, x^2*y^5, w*y^6, x*y^6, y^7, w^6*z, w^5*x*z, w^4*x^2*z, w^3*x^3*z, w^2*x^4*z, w*x^5*z, x^6*z, w^5*y*z, w^4*x*y*z, w^3*x^2*y*z, w^2*x^3*y*z, w*x^4*y*z, x^5*y*z, w^4*y^2*z, w^3*x*y^2*z, w^2*x^2*y^2*z, w*x^3*y^2*z, x^4*y^2*z, w^3*y^3*z, w^2*x*y^3*z, w*x^2*y^3*z, x^3*y^3*z, w^2*y^4*z, w*x*y^4*z, x^2*y^4*z, w*y^5*z, x*y^5*z, y^6*z, w^5*z^2, w^4*x*z^2, w^3*x^2*z^2, w^2*x^3*z^2, w*x^4*z^2, x^5*z^2, w^4*y*z^2, w^3*x*y*z^2, w^2*x^2*y*z^2, w*x^3*y*z^2, x^4*y*z^2, w^3*y^2*z^2, w^2*x*y^2*z^2, w*x^2*y^2*z^2, x^3*y^2*z^2, w^2*y^3*z^2, w*x*y^3*z^2, x^2*y^3*z^2, w*y^4*z^2, x*y^4*z^2, y^5*z^2, w^4*z^3, w^3*x*z^3, w^2*x^2*z^3, w*x^3*z^3, x^4*z^3, w^3*y*z^3, w^2*x*y*z^3, w*x^2*y*z^3, x^3*y*z^3, w^2*y^2*z^3, w*x*y^2*z^3, x^2*y^2*z^3, w*y^3*z^3, x*y^3*z^3, y^4*z^3, w^3*z^4, w^2*x*z^4, w*x^2*z^4, x^3*z^4, w^2*y*z^4, w*x*y*z^4, x^2*y*z^4, w*y^2*z^4, x*y^2*z^4, y^3*z^4, w^2*z^5, w*x*z^5, x^2*z^5, w*y*z^5, x*y*z^5, y^2*z^5, w*z^6, x*z^6, y*z^6, z^7, w^6, w^5*x, w^4*x^2, w^3*x^3, w^2*x^4, w*x^5, x^6, w^5*y, w^4*x*y, w^3*x^2*y, w^2*x^3*y, w*x^4*y, x^5*y, w^4*y^2, w^3*x*y^2, w^2*x^2*y^2, w*x^3*y^2, x^4*y^2, w^3*y^3, w^2*x*y^3, w*x^2*y^3, x^3*y^3, w^2*y^4, w*x*y^4, x^2*y^4, w*y^5, x*y^5, y^6, w^5*z, w^4*x*z, w^3*x^2*z, w^2*x^3*z, w*x^4*z, x^5*z, w^4*y*z, w^3*x*y*z, w^2*x^2*y*z, w*x^3*y*z, x^4*y*z, w^3*y^2*z, w^2*x*y^2*z, w*x^2*y^2*z, x^3*y^2*z, w^2*y^3*z, w*x*y^3*z, x^2*y^3*z, w*y^4*z, x*y^4*z, y^5*z, w^4*z^2, w^3*x*z^2, w^2*x^2*z^2, w*x^3*z^2, x^4*z^2, w^3*y*z^2, w^2*x*y*z^2, w*x^2*y*z^2, x^3*y*z^2, w^2*y^2*z^2, w*x*y^2*z^2, x^2*y^2*z^2, w*y^3*z^2, x*y^3*z^2, y^4*z^2, w^3*z^3, w^2*x*z^3, w*x^2*z^3, x^3*z^3, w^2*y*z^3, w*x*y*z^3, x^2*y*z^3, w*y^2*z^3, x*y^2*z^3, y^3*z^3, w^2*z^4, w*x*z^4, x^2*z^4, w*y*z^4, x*y*z^4, y^2*z^4, w*z^5, x*z^5, y*z^5, z^6, w^5, w^4*x, w^3*x^2, w^2*x^3, w*x^4, x^5, w^4*y, w^3*x*y, w^2*x^2*y, w*x^3*y, x^4*y, w^3*y^2, w^2*x*y^2, w*x^2*y^2, x^3*y^2, w^2*y^3, w*x*y^3, x^2*y^3, w*y^4, x*y^4, y^5, w^4*z, w^3*x*z, w^2*x^2*z, w*x^3*z, x^4*z, w^3*y*z, w^2*x*y*z, w*x^2*y*z, x^3*y*z, w^2*y^2*z, w*x*y^2*z, x^2*y^2*z, w*y^3*z, x*y^3*z, y^4*z, w^3*z^2, w^2*x*z^2, w*x^2*z^2, x^3*z^2, w^2*y*z^2, w*x*y*z^2, x^2*y*z^2, w*y^2*z^2, x*y^2*z^2, y^3*z^2, w^2*z^3, w*x*z^3, x^2*z^3, w*y*z^3, x*y*z^3, y^2*z^3, w*z^4, x*z^4, y*z^4, z^5, w^4, w^3*x, w^2*x^2, w*x^3, x^4, w^3*y, w^2*x*y, w*x^2*y, x^3*y, w^2*y^2, w*x*y^2, x^2*y^2, w*y^3, x*y^3, y^4, w^3*z, w^2*x*z, w*x^2*z, x^3*z, w^2*y*z, w*x*y*z, x^2*y*z, w*y^2*z, x*y^2*z, y^3*z, w^2*z^2, w*x*z^2, x^2*z^2, w*y*z^2, x*y*z^2, y^2*z^2, w*z^3, x*z^3, y*z^3, z^4, w^3, w^2*x, w*x^2, x^3, w^2*y, w*x*y, x^2*y, w*y^2, x*y^2, y^3, w^2*z, w*x*z, x^2*z, w*y*z, x*y*z, y^2*z, w*z^2, x*z^2, y*z^2, z^3, w^2, w*x, x^2, w*y, x*y, y^2, w*z, x*z, y*z, z^2, w, x, y, z, 1]\n"
     ]
    },
    {
     "name": "stdout",
     "output_type": "stream",
     "text": [
      "[w^9, w^8*x, w^7*x^2, w^6*x^3, w^5*x^4, w^4*x^5, w^3*x^6, w^2*x^7, w*x^8, x^9, w^8*y, w^7*x*y, w^6*x^2*y, w^5*x^3*y, w^4*x^4*y, w^3*x^5*y, w^2*x^6*y, w*x^7*y, x^8*y, w^7*y^2, w^6*x*y^2, w^5*x^2*y^2, w^4*x^3*y^2, w^3*x^4*y^2, w^2*x^5*y^2, w*x^6*y^2, x^7*y^2, w^6*y^3, w^5*x*y^3, w^4*x^2*y^3, w^3*x^3*y^3, w^2*x^4*y^3, w*x^5*y^3, x^6*y^3, w^5*y^4, w^4*x*y^4, w^3*x^2*y^4, w^2*x^3*y^4, w*x^4*y^4, x^5*y^4, w^4*y^5, w^3*x*y^5, w^2*x^2*y^5, w*x^3*y^5, x^4*y^5, w^3*y^6, w^2*x*y^6, w*x^2*y^6, x^3*y^6, w^2*y^7, w*x*y^7, x^2*y^7, w*y^8, x*y^8, y^9, w^8*z, w^7*x*z, w^6*x^2*z, w^5*x^3*z, w^4*x^4*z, w^3*x^5*z, w^2*x^6*z, w*x^7*z, x^8*z, w^7*y*z, w^6*x*y*z, w^5*x^2*y*z, w^4*x^3*y*z, w^3*x^4*y*z, w^2*x^5*y*z, w*x^6*y*z, x^7*y*z, w^6*y^2*z, w^5*x*y^2*z, w^4*x^2*y^2*z, w^3*x^3*y^2*z, w^2*x^4*y^2*z, w*x^5*y^2*z, x^6*y^2*z, w^5*y^3*z, w^4*x*y^3*z, w^3*x^2*y^3*z, w^2*x^3*y^3*z, w*x^4*y^3*z, x^5*y^3*z, w^4*y^4*z, w^3*x*y^4*z, w^2*x^2*y^4*z, w*x^3*y^4*z, x^4*y^4*z, w^3*y^5*z, w^2*x*y^5*z, w*x^2*y^5*z, x^3*y^5*z, w^2*y^6*z, w*x*y^6*z, x^2*y^6*z, w*y^7*z, x*y^7*z, y^8*z, w^7*z^2, w^6*x*z^2, w^5*x^2*z^2, w^4*x^3*z^2, w^3*x^4*z^2, w^2*x^5*z^2, w*x^6*z^2, x^7*z^2, w^6*y*z^2, w^5*x*y*z^2, w^4*x^2*y*z^2, w^3*x^3*y*z^2, w^2*x^4*y*z^2, w*x^5*y*z^2, x^6*y*z^2, w^5*y^2*z^2, w^4*x*y^2*z^2, w^3*x^2*y^2*z^2, w^2*x^3*y^2*z^2, w*x^4*y^2*z^2, x^5*y^2*z^2, w^4*y^3*z^2, w^3*x*y^3*z^2, w^2*x^2*y^3*z^2, w*x^3*y^3*z^2, x^4*y^3*z^2, w^3*y^4*z^2, w^2*x*y^4*z^2, w*x^2*y^4*z^2, x^3*y^4*z^2, w^2*y^5*z^2, w*x*y^5*z^2, x^2*y^5*z^2, w*y^6*z^2, x*y^6*z^2, y^7*z^2, w^6*z^3, w^5*x*z^3, w^4*x^2*z^3, w^3*x^3*z^3, w^2*x^4*z^3, w*x^5*z^3, x^6*z^3, w^5*y*z^3, w^4*x*y*z^3, w^3*x^2*y*z^3, w^2*x^3*y*z^3, w*x^4*y*z^3, x^5*y*z^3, w^4*y^2*z^3, w^3*x*y^2*z^3, w^2*x^2*y^2*z^3, w*x^3*y^2*z^3, x^4*y^2*z^3, w^3*y^3*z^3, w^2*x*y^3*z^3, w*x^2*y^3*z^3, x^3*y^3*z^3, w^2*y^4*z^3, w*x*y^4*z^3, x^2*y^4*z^3, w*y^5*z^3, x*y^5*z^3, y^6*z^3, w^5*z^4, w^4*x*z^4, w^3*x^2*z^4, w^2*x^3*z^4, w*x^4*z^4, x^5*z^4, w^4*y*z^4, w^3*x*y*z^4, w^2*x^2*y*z^4, w*x^3*y*z^4, x^4*y*z^4, w^3*y^2*z^4, w^2*x*y^2*z^4, w*x^2*y^2*z^4, x^3*y^2*z^4, w^2*y^3*z^4, w*x*y^3*z^4, x^2*y^3*z^4, w*y^4*z^4, x*y^4*z^4, y^5*z^4, w^4*z^5, w^3*x*z^5, w^2*x^2*z^5, w*x^3*z^5, x^4*z^5, w^3*y*z^5, w^2*x*y*z^5, w*x^2*y*z^5, x^3*y*z^5, w^2*y^2*z^5, w*x*y^2*z^5, x^2*y^2*z^5, w*y^3*z^5, x*y^3*z^5, y^4*z^5, w^3*z^6, w^2*x*z^6, w*x^2*z^6, x^3*z^6, w^2*y*z^6, w*x*y*z^6, x^2*y*z^6, w*y^2*z^6, x*y^2*z^6, y^3*z^6, w^2*z^7, w*x*z^7, x^2*z^7, w*y*z^7, x*y*z^7, y^2*z^7, w*z^8, x*z^8, y*z^8, z^9, w^8, w^7*x, w^6*x^2, w^5*x^3, w^4*x^4, w^3*x^5, w^2*x^6, w*x^7, x^8, w^7*y, w^6*x*y, w^5*x^2*y, w^4*x^3*y, w^3*x^4*y, w^2*x^5*y, w*x^6*y, x^7*y, w^6*y^2, w^5*x*y^2, w^4*x^2*y^2, w^3*x^3*y^2, w^2*x^4*y^2, w*x^5*y^2, x^6*y^2, w^5*y^3, w^4*x*y^3, w^3*x^2*y^3, w^2*x^3*y^3, w*x^4*y^3, x^5*y^3, w^4*y^4, w^3*x*y^4, w^2*x^2*y^4, w*x^3*y^4, x^4*y^4, w^3*y^5, w^2*x*y^5, w*x^2*y^5, x^3*y^5, w^2*y^6, w*x*y^6, x^2*y^6, w*y^7, x*y^7, y^8, w^7*z, w^6*x*z, w^5*x^2*z, w^4*x^3*z, w^3*x^4*z, w^2*x^5*z, w*x^6*z, x^7*z, w^6*y*z, w^5*x*y*z, w^4*x^2*y*z, w^3*x^3*y*z, w^2*x^4*y*z, w*x^5*y*z, x^6*y*z, w^5*y^2*z, w^4*x*y^2*z, w^3*x^2*y^2*z, w^2*x^3*y^2*z, w*x^4*y^2*z, x^5*y^2*z, w^4*y^3*z, w^3*x*y^3*z, w^2*x^2*y^3*z, w*x^3*y^3*z, x^4*y^3*z, w^3*y^4*z, w^2*x*y^4*z, w*x^2*y^4*z, x^3*y^4*z, w^2*y^5*z, w*x*y^5*z, x^2*y^5*z, w*y^6*z, x*y^6*z, y^7*z, w^6*z^2, w^5*x*z^2, w^4*x^2*z^2, w^3*x^3*z^2, w^2*x^4*z^2, w*x^5*z^2, x^6*z^2, w^5*y*z^2, w^4*x*y*z^2, w^3*x^2*y*z^2, w^2*x^3*y*z^2, w*x^4*y*z^2, x^5*y*z^2, w^4*y^2*z^2, w^3*x*y^2*z^2, w^2*x^2*y^2*z^2, w*x^3*y^2*z^2, x^4*y^2*z^2, w^3*y^3*z^2, w^2*x*y^3*z^2, w*x^2*y^3*z^2, x^3*y^3*z^2, w^2*y^4*z^2, w*x*y^4*z^2, x^2*y^4*z^2, w*y^5*z^2, x*y^5*z^2, y^6*z^2, w^5*z^3, w^4*x*z^3, w^3*x^2*z^3, w^2*x^3*z^3, w*x^4*z^3, x^5*z^3, w^4*y*z^3, w^3*x*y*z^3, w^2*x^2*y*z^3, w*x^3*y*z^3, x^4*y*z^3, w^3*y^2*z^3, w^2*x*y^2*z^3, w*x^2*y^2*z^3, x^3*y^2*z^3, w^2*y^3*z^3, w*x*y^3*z^3, x^2*y^3*z^3, w*y^4*z^3, x*y^4*z^3, y^5*z^3, w^4*z^4, w^3*x*z^4, w^2*x^2*z^4, w*x^3*z^4, x^4*z^4, w^3*y*z^4, w^2*x*y*z^4, w*x^2*y*z^4, x^3*y*z^4, w^2*y^2*z^4, w*x*y^2*z^4, x^2*y^2*z^4, w*y^3*z^4, x*y^3*z^4, y^4*z^4, w^3*z^5, w^2*x*z^5, w*x^2*z^5, x^3*z^5, w^2*y*z^5, w*x*y*z^5, x^2*y*z^5, w*y^2*z^5, x*y^2*z^5, y^3*z^5, w^2*z^6, w*x*z^6, x^2*z^6, w*y*z^6, x*y*z^6, y^2*z^6, w*z^7, x*z^7, y*z^7, z^8, w^7, w^6*x, w^5*x^2, w^4*x^3, w^3*x^4, w^2*x^5, w*x^6, x^7, w^6*y, w^5*x*y, w^4*x^2*y, w^3*x^3*y, w^2*x^4*y, w*x^5*y, x^6*y, w^5*y^2, w^4*x*y^2, w^3*x^2*y^2, w^2*x^3*y^2, w*x^4*y^2, x^5*y^2, w^4*y^3, w^3*x*y^3, w^2*x^2*y^3, w*x^3*y^3, x^4*y^3, w^3*y^4, w^2*x*y^4, w*x^2*y^4, x^3*y^4, w^2*y^5, w*x*y^5, x^2*y^5, w*y^6, x*y^6, y^7, w^6*z, w^5*x*z, w^4*x^2*z, w^3*x^3*z, w^2*x^4*z, w*x^5*z, x^6*z, w^5*y*z, w^4*x*y*z, w^3*x^2*y*z, w^2*x^3*y*z, w*x^4*y*z, x^5*y*z, w^4*y^2*z, w^3*x*y^2*z, w^2*x^2*y^2*z, w*x^3*y^2*z, x^4*y^2*z, w^3*y^3*z, w^2*x*y^3*z, w*x^2*y^3*z, x^3*y^3*z, w^2*y^4*z, w*x*y^4*z, x^2*y^4*z, w*y^5*z, x*y^5*z, y^6*z, w^5*z^2, w^4*x*z^2, w^3*x^2*z^2, w^2*x^3*z^2, w*x^4*z^2, x^5*z^2, w^4*y*z^2, w^3*x*y*z^2, w^2*x^2*y*z^2, w*x^3*y*z^2, x^4*y*z^2, w^3*y^2*z^2, w^2*x*y^2*z^2, w*x^2*y^2*z^2, x^3*y^2*z^2, w^2*y^3*z^2, w*x*y^3*z^2, x^2*y^3*z^2, w*y^4*z^2, x*y^4*z^2, y^5*z^2, w^4*z^3, w^3*x*z^3, w^2*x^2*z^3, w*x^3*z^3, x^4*z^3, w^3*y*z^3, w^2*x*y*z^3, w*x^2*y*z^3, x^3*y*z^3, w^2*y^2*z^3, w*x*y^2*z^3, x^2*y^2*z^3, w*y^3*z^3, x*y^3*z^3, y^4*z^3, w^3*z^4, w^2*x*z^4, w*x^2*z^4, x^3*z^4, w^2*y*z^4, w*x*y*z^4, x^2*y*z^4, w*y^2*z^4, x*y^2*z^4, y^3*z^4, w^2*z^5, w*x*z^5, x^2*z^5, w*y*z^5, x*y*z^5, y^2*z^5, w*z^6, x*z^6, y*z^6, z^7, w^6, w^5*x, w^4*x^2, w^3*x^3, w^2*x^4, w*x^5, x^6, w^5*y, w^4*x*y, w^3*x^2*y, w^2*x^3*y, w*x^4*y, x^5*y, w^4*y^2, w^3*x*y^2, w^2*x^2*y^2, w*x^3*y^2, x^4*y^2, w^3*y^3, w^2*x*y^3, w*x^2*y^3, x^3*y^3, w^2*y^4, w*x*y^4, x^2*y^4, w*y^5, x*y^5, y^6, w^5*z, w^4*x*z, w^3*x^2*z, w^2*x^3*z, w*x^4*z, x^5*z, w^4*y*z, w^3*x*y*z, w^2*x^2*y*z, w*x^3*y*z, x^4*y*z, w^3*y^2*z, w^2*x*y^2*z, w*x^2*y^2*z, x^3*y^2*z, w^2*y^3*z, w*x*y^3*z, x^2*y^3*z, w*y^4*z, x*y^4*z, y^5*z, w^4*z^2, w^3*x*z^2, w^2*x^2*z^2, w*x^3*z^2, x^4*z^2, w^3*y*z^2, w^2*x*y*z^2, w*x^2*y*z^2, x^3*y*z^2, w^2*y^2*z^2, w*x*y^2*z^2, x^2*y^2*z^2, w*y^3*z^2, x*y^3*z^2, y^4*z^2, w^3*z^3, w^2*x*z^3, w*x^2*z^3, x^3*z^3, w^2*y*z^3, w*x*y*z^3, x^2*y*z^3, w*y^2*z^3, x*y^2*z^3, y^3*z^3, w^2*z^4, w*x*z^4, x^2*z^4, w*y*z^4, x*y*z^4, y^2*z^4, w*z^5, x*z^5, y*z^5, z^6, w^5, w^4*x, w^3*x^2, w^2*x^3, w*x^4, x^5, w^4*y, w^3*x*y, w^2*x^2*y, w*x^3*y, x^4*y, w^3*y^2, w^2*x*y^2, w*x^2*y^2, x^3*y^2, w^2*y^3, w*x*y^3, x^2*y^3, w*y^4, x*y^4, y^5, w^4*z, w^3*x*z, w^2*x^2*z, w*x^3*z, x^4*z, w^3*y*z, w^2*x*y*z, w*x^2*y*z, x^3*y*z, w^2*y^2*z, w*x*y^2*z, x^2*y^2*z, w*y^3*z, x*y^3*z, y^4*z, w^3*z^2, w^2*x*z^2, w*x^2*z^2, x^3*z^2, w^2*y*z^2, w*x*y*z^2, x^2*y*z^2, w*y^2*z^2, x*y^2*z^2, y^3*z^2, w^2*z^3, w*x*z^3, x^2*z^3, w*y*z^3, x*y*z^3, y^2*z^3, w*z^4, x*z^4, y*z^4, z^5, w^4, w^3*x, w^2*x^2, w*x^3, x^4, w^3*y, w^2*x*y, w*x^2*y, x^3*y, w^2*y^2, w*x*y^2, x^2*y^2, w*y^3, x*y^3, y^4, w^3*z, w^2*x*z, w*x^2*z, x^3*z, w^2*y*z, w*x*y*z, x^2*y*z, w*y^2*z, x*y^2*z, y^3*z, w^2*z^2, w*x*z^2, x^2*z^2, w*y*z^2, x*y*z^2, y^2*z^2, w*z^3, x*z^3, y*z^3, z^4, w^3, w^2*x, w*x^2, x^3, w^2*y, w*x*y, x^2*y, w*y^2, x*y^2, y^3, w^2*z, w*x*z, x^2*z, w*y*z, x*y*z, y^2*z, w*z^2, x*z^2, y*z^2, z^3, w^2, w*x, x^2, w*y, x*y, y^2, w*z, x*z, y*z, z^2, w, x, y, z, 1]\n",
      "[w^10, w^9*x, w^8*x^2, w^7*x^3, w^6*x^4, w^5*x^5, w^4*x^6, w^3*x^7, w^2*x^8, w*x^9, x^10, w^9*y, w^8*x*y, w^7*x^2*y, w^6*x^3*y, w^5*x^4*y, w^4*x^5*y, w^3*x^6*y, w^2*x^7*y, w*x^8*y, x^9*y, w^8*y^2, w^7*x*y^2, w^6*x^2*y^2, w^5*x^3*y^2, w^4*x^4*y^2, w^3*x^5*y^2, w^2*x^6*y^2, w*x^7*y^2, x^8*y^2, w^7*y^3, w^6*x*y^3, w^5*x^2*y^3, w^4*x^3*y^3, w^3*x^4*y^3, w^2*x^5*y^3, w*x^6*y^3, x^7*y^3, w^6*y^4, w^5*x*y^4, w^4*x^2*y^4, w^3*x^3*y^4, w^2*x^4*y^4, w*x^5*y^4, x^6*y^4, w^5*y^5, w^4*x*y^5, w^3*x^2*y^5, w^2*x^3*y^5, w*x^4*y^5, x^5*y^5, w^4*y^6, w^3*x*y^6, w^2*x^2*y^6, w*x^3*y^6, x^4*y^6, w^3*y^7, w^2*x*y^7, w*x^2*y^7, x^3*y^7, w^2*y^8, w*x*y^8, x^2*y^8, w*y^9, x*y^9, y^10, w^9*z, w^8*x*z, w^7*x^2*z, w^6*x^3*z, w^5*x^4*z, w^4*x^5*z, w^3*x^6*z, w^2*x^7*z, w*x^8*z, x^9*z, w^8*y*z, w^7*x*y*z, w^6*x^2*y*z, w^5*x^3*y*z, w^4*x^4*y*z, w^3*x^5*y*z, w^2*x^6*y*z, w*x^7*y*z, x^8*y*z, w^7*y^2*z, w^6*x*y^2*z, w^5*x^2*y^2*z, w^4*x^3*y^2*z, w^3*x^4*y^2*z, w^2*x^5*y^2*z, w*x^6*y^2*z, x^7*y^2*z, w^6*y^3*z, w^5*x*y^3*z, w^4*x^2*y^3*z, w^3*x^3*y^3*z, w^2*x^4*y^3*z, w*x^5*y^3*z, x^6*y^3*z, w^5*y^4*z, w^4*x*y^4*z, w^3*x^2*y^4*z, w^2*x^3*y^4*z, w*x^4*y^4*z, x^5*y^4*z, w^4*y^5*z, w^3*x*y^5*z, w^2*x^2*y^5*z, w*x^3*y^5*z, x^4*y^5*z, w^3*y^6*z, w^2*x*y^6*z, w*x^2*y^6*z, x^3*y^6*z, w^2*y^7*z, w*x*y^7*z, x^2*y^7*z, w*y^8*z, x*y^8*z, y^9*z, w^8*z^2, w^7*x*z^2, w^6*x^2*z^2, w^5*x^3*z^2, w^4*x^4*z^2, w^3*x^5*z^2, w^2*x^6*z^2, w*x^7*z^2, x^8*z^2, w^7*y*z^2, w^6*x*y*z^2, w^5*x^2*y*z^2, w^4*x^3*y*z^2, w^3*x^4*y*z^2, w^2*x^5*y*z^2, w*x^6*y*z^2, x^7*y*z^2, w^6*y^2*z^2, w^5*x*y^2*z^2, w^4*x^2*y^2*z^2, w^3*x^3*y^2*z^2, w^2*x^4*y^2*z^2, w*x^5*y^2*z^2, x^6*y^2*z^2, w^5*y^3*z^2, w^4*x*y^3*z^2, w^3*x^2*y^3*z^2, w^2*x^3*y^3*z^2, w*x^4*y^3*z^2, x^5*y^3*z^2, w^4*y^4*z^2, w^3*x*y^4*z^2, w^2*x^2*y^4*z^2, w*x^3*y^4*z^2, x^4*y^4*z^2, w^3*y^5*z^2, w^2*x*y^5*z^2, w*x^2*y^5*z^2, x^3*y^5*z^2, w^2*y^6*z^2, w*x*y^6*z^2, x^2*y^6*z^2, w*y^7*z^2, x*y^7*z^2, y^8*z^2, w^7*z^3, w^6*x*z^3, w^5*x^2*z^3, w^4*x^3*z^3, w^3*x^4*z^3, w^2*x^5*z^3, w*x^6*z^3, x^7*z^3, w^6*y*z^3, w^5*x*y*z^3, w^4*x^2*y*z^3, w^3*x^3*y*z^3, w^2*x^4*y*z^3, w*x^5*y*z^3, x^6*y*z^3, w^5*y^2*z^3, w^4*x*y^2*z^3, w^3*x^2*y^2*z^3, w^2*x^3*y^2*z^3, w*x^4*y^2*z^3, x^5*y^2*z^3, w^4*y^3*z^3, w^3*x*y^3*z^3, w^2*x^2*y^3*z^3, w*x^3*y^3*z^3, x^4*y^3*z^3, w^3*y^4*z^3, w^2*x*y^4*z^3, w*x^2*y^4*z^3, x^3*y^4*z^3, w^2*y^5*z^3, w*x*y^5*z^3, x^2*y^5*z^3, w*y^6*z^3, x*y^6*z^3, y^7*z^3, w^6*z^4, w^5*x*z^4, w^4*x^2*z^4, w^3*x^3*z^4, w^2*x^4*z^4, w*x^5*z^4, x^6*z^4, w^5*y*z^4, w^4*x*y*z^4, w^3*x^2*y*z^4, w^2*x^3*y*z^4, w*x^4*y*z^4, x^5*y*z^4, w^4*y^2*z^4, w^3*x*y^2*z^4, w^2*x^2*y^2*z^4, w*x^3*y^2*z^4, x^4*y^2*z^4, w^3*y^3*z^4, w^2*x*y^3*z^4, w*x^2*y^3*z^4, x^3*y^3*z^4, w^2*y^4*z^4, w*x*y^4*z^4, x^2*y^4*z^4, w*y^5*z^4, x*y^5*z^4, y^6*z^4, w^5*z^5, w^4*x*z^5, w^3*x^2*z^5, w^2*x^3*z^5, w*x^4*z^5, x^5*z^5, w^4*y*z^5, w^3*x*y*z^5, w^2*x^2*y*z^5, w*x^3*y*z^5, x^4*y*z^5, w^3*y^2*z^5, w^2*x*y^2*z^5, w*x^2*y^2*z^5, x^3*y^2*z^5, w^2*y^3*z^5, w*x*y^3*z^5, x^2*y^3*z^5, w*y^4*z^5, x*y^4*z^5, y^5*z^5, w^4*z^6, w^3*x*z^6, w^2*x^2*z^6, w*x^3*z^6, x^4*z^6, w^3*y*z^6, w^2*x*y*z^6, w*x^2*y*z^6, x^3*y*z^6, w^2*y^2*z^6, w*x*y^2*z^6, x^2*y^2*z^6, w*y^3*z^6, x*y^3*z^6, y^4*z^6, w^3*z^7, w^2*x*z^7, w*x^2*z^7, x^3*z^7, w^2*y*z^7, w*x*y*z^7, x^2*y*z^7, w*y^2*z^7, x*y^2*z^7, y^3*z^7, w^2*z^8, w*x*z^8, x^2*z^8, w*y*z^8, x*y*z^8, y^2*z^8, w*z^9, x*z^9, y*z^9, z^10, w^9, w^8*x, w^7*x^2, w^6*x^3, w^5*x^4, w^4*x^5, w^3*x^6, w^2*x^7, w*x^8, x^9, w^8*y, w^7*x*y, w^6*x^2*y, w^5*x^3*y, w^4*x^4*y, w^3*x^5*y, w^2*x^6*y, w*x^7*y, x^8*y, w^7*y^2, w^6*x*y^2, w^5*x^2*y^2, w^4*x^3*y^2, w^3*x^4*y^2, w^2*x^5*y^2, w*x^6*y^2, x^7*y^2, w^6*y^3, w^5*x*y^3, w^4*x^2*y^3, w^3*x^3*y^3, w^2*x^4*y^3, w*x^5*y^3, x^6*y^3, w^5*y^4, w^4*x*y^4, w^3*x^2*y^4, w^2*x^3*y^4, w*x^4*y^4, x^5*y^4, w^4*y^5, w^3*x*y^5, w^2*x^2*y^5, w*x^3*y^5, x^4*y^5, w^3*y^6, w^2*x*y^6, w*x^2*y^6, x^3*y^6, w^2*y^7, w*x*y^7, x^2*y^7, w*y^8, x*y^8, y^9, w^8*z, w^7*x*z, w^6*x^2*z, w^5*x^3*z, w^4*x^4*z, w^3*x^5*z, w^2*x^6*z, w*x^7*z, x^8*z, w^7*y*z, w^6*x*y*z, w^5*x^2*y*z, w^4*x^3*y*z, w^3*x^4*y*z, w^2*x^5*y*z, w*x^6*y*z, x^7*y*z, w^6*y^2*z, w^5*x*y^2*z, w^4*x^2*y^2*z, w^3*x^3*y^2*z, w^2*x^4*y^2*z, w*x^5*y^2*z, x^6*y^2*z, w^5*y^3*z, w^4*x*y^3*z, w^3*x^2*y^3*z, w^2*x^3*y^3*z, w*x^4*y^3*z, x^5*y^3*z, w^4*y^4*z, w^3*x*y^4*z, w^2*x^2*y^4*z, w*x^3*y^4*z, x^4*y^4*z, w^3*y^5*z, w^2*x*y^5*z, w*x^2*y^5*z, x^3*y^5*z, w^2*y^6*z, w*x*y^6*z, x^2*y^6*z, w*y^7*z, x*y^7*z, y^8*z, w^7*z^2, w^6*x*z^2, w^5*x^2*z^2, w^4*x^3*z^2, w^3*x^4*z^2, w^2*x^5*z^2, w*x^6*z^2, x^7*z^2, w^6*y*z^2, w^5*x*y*z^2, w^4*x^2*y*z^2, w^3*x^3*y*z^2, w^2*x^4*y*z^2, w*x^5*y*z^2, x^6*y*z^2, w^5*y^2*z^2, w^4*x*y^2*z^2, w^3*x^2*y^2*z^2, w^2*x^3*y^2*z^2, w*x^4*y^2*z^2, x^5*y^2*z^2, w^4*y^3*z^2, w^3*x*y^3*z^2, w^2*x^2*y^3*z^2, w*x^3*y^3*z^2, x^4*y^3*z^2, w^3*y^4*z^2, w^2*x*y^4*z^2, w*x^2*y^4*z^2, x^3*y^4*z^2, w^2*y^5*z^2, w*x*y^5*z^2, x^2*y^5*z^2, w*y^6*z^2, x*y^6*z^2, y^7*z^2, w^6*z^3, w^5*x*z^3, w^4*x^2*z^3, w^3*x^3*z^3, w^2*x^4*z^3, w*x^5*z^3, x^6*z^3, w^5*y*z^3, w^4*x*y*z^3, w^3*x^2*y*z^3, w^2*x^3*y*z^3, w*x^4*y*z^3, x^5*y*z^3, w^4*y^2*z^3, w^3*x*y^2*z^3, w^2*x^2*y^2*z^3, w*x^3*y^2*z^3, x^4*y^2*z^3, w^3*y^3*z^3, w^2*x*y^3*z^3, w*x^2*y^3*z^3, x^3*y^3*z^3, w^2*y^4*z^3, w*x*y^4*z^3, x^2*y^4*z^3, w*y^5*z^3, x*y^5*z^3, y^6*z^3, w^5*z^4, w^4*x*z^4, w^3*x^2*z^4, w^2*x^3*z^4, w*x^4*z^4, x^5*z^4, w^4*y*z^4, w^3*x*y*z^4, w^2*x^2*y*z^4, w*x^3*y*z^4, x^4*y*z^4, w^3*y^2*z^4, w^2*x*y^2*z^4, w*x^2*y^2*z^4, x^3*y^2*z^4, w^2*y^3*z^4, w*x*y^3*z^4, x^2*y^3*z^4, w*y^4*z^4, x*y^4*z^4, y^5*z^4, w^4*z^5, w^3*x*z^5, w^2*x^2*z^5, w*x^3*z^5, x^4*z^5, w^3*y*z^5, w^2*x*y*z^5, w*x^2*y*z^5, x^3*y*z^5, w^2*y^2*z^5, w*x*y^2*z^5, x^2*y^2*z^5, w*y^3*z^5, x*y^3*z^5, y^4*z^5, w^3*z^6, w^2*x*z^6, w*x^2*z^6, x^3*z^6, w^2*y*z^6, w*x*y*z^6, x^2*y*z^6, w*y^2*z^6, x*y^2*z^6, y^3*z^6, w^2*z^7, w*x*z^7, x^2*z^7, w*y*z^7, x*y*z^7, y^2*z^7, w*z^8, x*z^8, y*z^8, z^9, w^8, w^7*x, w^6*x^2, w^5*x^3, w^4*x^4, w^3*x^5, w^2*x^6, w*x^7, x^8, w^7*y, w^6*x*y, w^5*x^2*y, w^4*x^3*y, w^3*x^4*y, w^2*x^5*y, w*x^6*y, x^7*y, w^6*y^2, w^5*x*y^2, w^4*x^2*y^2, w^3*x^3*y^2, w^2*x^4*y^2, w*x^5*y^2, x^6*y^2, w^5*y^3, w^4*x*y^3, w^3*x^2*y^3, w^2*x^3*y^3, w*x^4*y^3, x^5*y^3, w^4*y^4, w^3*x*y^4, w^2*x^2*y^4, w*x^3*y^4, x^4*y^4, w^3*y^5, w^2*x*y^5, w*x^2*y^5, x^3*y^5, w^2*y^6, w*x*y^6, x^2*y^6, w*y^7, x*y^7, y^8, w^7*z, w^6*x*z, w^5*x^2*z, w^4*x^3*z, w^3*x^4*z, w^2*x^5*z, w*x^6*z, x^7*z, w^6*y*z, w^5*x*y*z, w^4*x^2*y*z, w^3*x^3*y*z, w^2*x^4*y*z, w*x^5*y*z, x^6*y*z, w^5*y^2*z, w^4*x*y^2*z, w^3*x^2*y^2*z, w^2*x^3*y^2*z, w*x^4*y^2*z, x^5*y^2*z, w^4*y^3*z, w^3*x*y^3*z, w^2*x^2*y^3*z, w*x^3*y^3*z, x^4*y^3*z, w^3*y^4*z, w^2*x*y^4*z, w*x^2*y^4*z, x^3*y^4*z, w^2*y^5*z, w*x*y^5*z, x^2*y^5*z, w*y^6*z, x*y^6*z, y^7*z, w^6*z^2, w^5*x*z^2, w^4*x^2*z^2, w^3*x^3*z^2, w^2*x^4*z^2, w*x^5*z^2, x^6*z^2, w^5*y*z^2, w^4*x*y*z^2, w^3*x^2*y*z^2, w^2*x^3*y*z^2, w*x^4*y*z^2, x^5*y*z^2, w^4*y^2*z^2, w^3*x*y^2*z^2, w^2*x^2*y^2*z^2, w*x^3*y^2*z^2, x^4*y^2*z^2, w^3*y^3*z^2, w^2*x*y^3*z^2, w*x^2*y^3*z^2, x^3*y^3*z^2, w^2*y^4*z^2, w*x*y^4*z^2, x^2*y^4*z^2, w*y^5*z^2, x*y^5*z^2, y^6*z^2, w^5*z^3, w^4*x*z^3, w^3*x^2*z^3, w^2*x^3*z^3, w*x^4*z^3, x^5*z^3, w^4*y*z^3, w^3*x*y*z^3, w^2*x^2*y*z^3, w*x^3*y*z^3, x^4*y*z^3, w^3*y^2*z^3, w^2*x*y^2*z^3, w*x^2*y^2*z^3, x^3*y^2*z^3, w^2*y^3*z^3, w*x*y^3*z^3, x^2*y^3*z^3, w*y^4*z^3, x*y^4*z^3, y^5*z^3, w^4*z^4, w^3*x*z^4, w^2*x^2*z^4, w*x^3*z^4, x^4*z^4, w^3*y*z^4, w^2*x*y*z^4, w*x^2*y*z^4, x^3*y*z^4, w^2*y^2*z^4, w*x*y^2*z^4, x^2*y^2*z^4, w*y^3*z^4, x*y^3*z^4, y^4*z^4, w^3*z^5, w^2*x*z^5, w*x^2*z^5, x^3*z^5, w^2*y*z^5, w*x*y*z^5, x^2*y*z^5, w*y^2*z^5, x*y^2*z^5, y^3*z^5, w^2*z^6, w*x*z^6, x^2*z^6, w*y*z^6, x*y*z^6, y^2*z^6, w*z^7, x*z^7, y*z^7, z^8, w^7, w^6*x, w^5*x^2, w^4*x^3, w^3*x^4, w^2*x^5, w*x^6, x^7, w^6*y, w^5*x*y, w^4*x^2*y, w^3*x^3*y, w^2*x^4*y, w*x^5*y, x^6*y, w^5*y^2, w^4*x*y^2, w^3*x^2*y^2, w^2*x^3*y^2, w*x^4*y^2, x^5*y^2, w^4*y^3, w^3*x*y^3, w^2*x^2*y^3, w*x^3*y^3, x^4*y^3, w^3*y^4, w^2*x*y^4, w*x^2*y^4, x^3*y^4, w^2*y^5, w*x*y^5, x^2*y^5, w*y^6, x*y^6, y^7, w^6*z, w^5*x*z, w^4*x^2*z, w^3*x^3*z, w^2*x^4*z, w*x^5*z, x^6*z, w^5*y*z, w^4*x*y*z, w^3*x^2*y*z, w^2*x^3*y*z, w*x^4*y*z, x^5*y*z, w^4*y^2*z, w^3*x*y^2*z, w^2*x^2*y^2*z, w*x^3*y^2*z, x^4*y^2*z, w^3*y^3*z, w^2*x*y^3*z, w*x^2*y^3*z, x^3*y^3*z, w^2*y^4*z, w*x*y^4*z, x^2*y^4*z, w*y^5*z, x*y^5*z, y^6*z, w^5*z^2, w^4*x*z^2, w^3*x^2*z^2, w^2*x^3*z^2, w*x^4*z^2, x^5*z^2, w^4*y*z^2, w^3*x*y*z^2, w^2*x^2*y*z^2, w*x^3*y*z^2, x^4*y*z^2, w^3*y^2*z^2, w^2*x*y^2*z^2, w*x^2*y^2*z^2, x^3*y^2*z^2, w^2*y^3*z^2, w*x*y^3*z^2, x^2*y^3*z^2, w*y^4*z^2, x*y^4*z^2, y^5*z^2, w^4*z^3, w^3*x*z^3, w^2*x^2*z^3, w*x^3*z^3, x^4*z^3, w^3*y*z^3, w^2*x*y*z^3, w*x^2*y*z^3, x^3*y*z^3, w^2*y^2*z^3, w*x*y^2*z^3, x^2*y^2*z^3, w*y^3*z^3, x*y^3*z^3, y^4*z^3, w^3*z^4, w^2*x*z^4, w*x^2*z^4, x^3*z^4, w^2*y*z^4, w*x*y*z^4, x^2*y*z^4, w*y^2*z^4, x*y^2*z^4, y^3*z^4, w^2*z^5, w*x*z^5, x^2*z^5, w*y*z^5, x*y*z^5, y^2*z^5, w*z^6, x*z^6, y*z^6, z^7, w^6, w^5*x, w^4*x^2, w^3*x^3, w^2*x^4, w*x^5, x^6, w^5*y, w^4*x*y, w^3*x^2*y, w^2*x^3*y, w*x^4*y, x^5*y, w^4*y^2, w^3*x*y^2, w^2*x^2*y^2, w*x^3*y^2, x^4*y^2, w^3*y^3, w^2*x*y^3, w*x^2*y^3, x^3*y^3, w^2*y^4, w*x*y^4, x^2*y^4, w*y^5, x*y^5, y^6, w^5*z, w^4*x*z, w^3*x^2*z, w^2*x^3*z, w*x^4*z, x^5*z, w^4*y*z, w^3*x*y*z, w^2*x^2*y*z, w*x^3*y*z, x^4*y*z, w^3*y^2*z, w^2*x*y^2*z, w*x^2*y^2*z, x^3*y^2*z, w^2*y^3*z, w*x*y^3*z, x^2*y^3*z, w*y^4*z, x*y^4*z, y^5*z, w^4*z^2, w^3*x*z^2, w^2*x^2*z^2, w*x^3*z^2, x^4*z^2, w^3*y*z^2, w^2*x*y*z^2, w*x^2*y*z^2, x^3*y*z^2, w^2*y^2*z^2, w*x*y^2*z^2, x^2*y^2*z^2, w*y^3*z^2, x*y^3*z^2, y^4*z^2, w^3*z^3, w^2*x*z^3, w*x^2*z^3, x^3*z^3, w^2*y*z^3, w*x*y*z^3, x^2*y*z^3, w*y^2*z^3, x*y^2*z^3, y^3*z^3, w^2*z^4, w*x*z^4, x^2*z^4, w*y*z^4, x*y*z^4, y^2*z^4, w*z^5, x*z^5, y*z^5, z^6, w^5, w^4*x, w^3*x^2, w^2*x^3, w*x^4, x^5, w^4*y, w^3*x*y, w^2*x^2*y, w*x^3*y, x^4*y, w^3*y^2, w^2*x*y^2, w*x^2*y^2, x^3*y^2, w^2*y^3, w*x*y^3, x^2*y^3, w*y^4, x*y^4, y^5, w^4*z, w^3*x*z, w^2*x^2*z, w*x^3*z, x^4*z, w^3*y*z, w^2*x*y*z, w*x^2*y*z, x^3*y*z, w^2*y^2*z, w*x*y^2*z, x^2*y^2*z, w*y^3*z, x*y^3*z, y^4*z, w^3*z^2, w^2*x*z^2, w*x^2*z^2, x^3*z^2, w^2*y*z^2, w*x*y*z^2, x^2*y*z^2, w*y^2*z^2, x*y^2*z^2, y^3*z^2, w^2*z^3, w*x*z^3, x^2*z^3, w*y*z^3, x*y*z^3, y^2*z^3, w*z^4, x*z^4, y*z^4, z^5, w^4, w^3*x, w^2*x^2, w*x^3, x^4, w^3*y, w^2*x*y, w*x^2*y, x^3*y, w^2*y^2, w*x*y^2, x^2*y^2, w*y^3, x*y^3, y^4, w^3*z, w^2*x*z, w*x^2*z, x^3*z, w^2*y*z, w*x*y*z, x^2*y*z, w*y^2*z, x*y^2*z, y^3*z, w^2*z^2, w*x*z^2, x^2*z^2, w*y*z^2, x*y*z^2, y^2*z^2, w*z^3, x*z^3, y*z^3, z^4, w^3, w^2*x, w*x^2, x^3, w^2*y, w*x*y, x^2*y, w*y^2, x*y^2, y^3, w^2*z, w*x*z, x^2*z, w*y*z, x*y*z, y^2*z, w*z^2, x*z^2, y*z^2, z^3, w^2, w*x, x^2, w*y, x*y, y^2, w*z, x*z, y*z, z^2, w, x, y, z, 1]\n"
     ]
    },
    {
     "name": "stdout",
     "output_type": "stream",
     "text": [
      "[w^11, w^10*x, w^9*x^2, w^8*x^3, w^7*x^4, w^6*x^5, w^5*x^6, w^4*x^7, w^3*x^8, w^2*x^9, w*x^10, x^11, w^10*y, w^9*x*y, w^8*x^2*y, w^7*x^3*y, w^6*x^4*y, w^5*x^5*y, w^4*x^6*y, w^3*x^7*y, w^2*x^8*y, w*x^9*y, x^10*y, w^9*y^2, w^8*x*y^2, w^7*x^2*y^2, w^6*x^3*y^2, w^5*x^4*y^2, w^4*x^5*y^2, w^3*x^6*y^2, w^2*x^7*y^2, w*x^8*y^2, x^9*y^2, w^8*y^3, w^7*x*y^3, w^6*x^2*y^3, w^5*x^3*y^3, w^4*x^4*y^3, w^3*x^5*y^3, w^2*x^6*y^3, w*x^7*y^3, x^8*y^3, w^7*y^4, w^6*x*y^4, w^5*x^2*y^4, w^4*x^3*y^4, w^3*x^4*y^4, w^2*x^5*y^4, w*x^6*y^4, x^7*y^4, w^6*y^5, w^5*x*y^5, w^4*x^2*y^5, w^3*x^3*y^5, w^2*x^4*y^5, w*x^5*y^5, x^6*y^5, w^5*y^6, w^4*x*y^6, w^3*x^2*y^6, w^2*x^3*y^6, w*x^4*y^6, x^5*y^6, w^4*y^7, w^3*x*y^7, w^2*x^2*y^7, w*x^3*y^7, x^4*y^7, w^3*y^8, w^2*x*y^8, w*x^2*y^8, x^3*y^8, w^2*y^9, w*x*y^9, x^2*y^9, w*y^10, x*y^10, y^11, w^10*z, w^9*x*z, w^8*x^2*z, w^7*x^3*z, w^6*x^4*z, w^5*x^5*z, w^4*x^6*z, w^3*x^7*z, w^2*x^8*z, w*x^9*z, x^10*z, w^9*y*z, w^8*x*y*z, w^7*x^2*y*z, w^6*x^3*y*z, w^5*x^4*y*z, w^4*x^5*y*z, w^3*x^6*y*z, w^2*x^7*y*z, w*x^8*y*z, x^9*y*z, w^8*y^2*z, w^7*x*y^2*z, w^6*x^2*y^2*z, w^5*x^3*y^2*z, w^4*x^4*y^2*z, w^3*x^5*y^2*z, w^2*x^6*y^2*z, w*x^7*y^2*z, x^8*y^2*z, w^7*y^3*z, w^6*x*y^3*z, w^5*x^2*y^3*z, w^4*x^3*y^3*z, w^3*x^4*y^3*z, w^2*x^5*y^3*z, w*x^6*y^3*z, x^7*y^3*z, w^6*y^4*z, w^5*x*y^4*z, w^4*x^2*y^4*z, w^3*x^3*y^4*z, w^2*x^4*y^4*z, w*x^5*y^4*z, x^6*y^4*z, w^5*y^5*z, w^4*x*y^5*z, w^3*x^2*y^5*z, w^2*x^3*y^5*z, w*x^4*y^5*z, x^5*y^5*z, w^4*y^6*z, w^3*x*y^6*z, w^2*x^2*y^6*z, w*x^3*y^6*z, x^4*y^6*z, w^3*y^7*z, w^2*x*y^7*z, w*x^2*y^7*z, x^3*y^7*z, w^2*y^8*z, w*x*y^8*z, x^2*y^8*z, w*y^9*z, x*y^9*z, y^10*z, w^9*z^2, w^8*x*z^2, w^7*x^2*z^2, w^6*x^3*z^2, w^5*x^4*z^2, w^4*x^5*z^2, w^3*x^6*z^2, w^2*x^7*z^2, w*x^8*z^2, x^9*z^2, w^8*y*z^2, w^7*x*y*z^2, w^6*x^2*y*z^2, w^5*x^3*y*z^2, w^4*x^4*y*z^2, w^3*x^5*y*z^2, w^2*x^6*y*z^2, w*x^7*y*z^2, x^8*y*z^2, w^7*y^2*z^2, w^6*x*y^2*z^2, w^5*x^2*y^2*z^2, w^4*x^3*y^2*z^2, w^3*x^4*y^2*z^2, w^2*x^5*y^2*z^2, w*x^6*y^2*z^2, x^7*y^2*z^2, w^6*y^3*z^2, w^5*x*y^3*z^2, w^4*x^2*y^3*z^2, w^3*x^3*y^3*z^2, w^2*x^4*y^3*z^2, w*x^5*y^3*z^2, x^6*y^3*z^2, w^5*y^4*z^2, w^4*x*y^4*z^2, w^3*x^2*y^4*z^2, w^2*x^3*y^4*z^2, w*x^4*y^4*z^2, x^5*y^4*z^2, w^4*y^5*z^2, w^3*x*y^5*z^2, w^2*x^2*y^5*z^2, w*x^3*y^5*z^2, x^4*y^5*z^2, w^3*y^6*z^2, w^2*x*y^6*z^2, w*x^2*y^6*z^2, x^3*y^6*z^2, w^2*y^7*z^2, w*x*y^7*z^2, x^2*y^7*z^2, w*y^8*z^2, x*y^8*z^2, y^9*z^2, w^8*z^3, w^7*x*z^3, w^6*x^2*z^3, w^5*x^3*z^3, w^4*x^4*z^3, w^3*x^5*z^3, w^2*x^6*z^3, w*x^7*z^3, x^8*z^3, w^7*y*z^3, w^6*x*y*z^3, w^5*x^2*y*z^3, w^4*x^3*y*z^3, w^3*x^4*y*z^3, w^2*x^5*y*z^3, w*x^6*y*z^3, x^7*y*z^3, w^6*y^2*z^3, w^5*x*y^2*z^3, w^4*x^2*y^2*z^3, w^3*x^3*y^2*z^3, w^2*x^4*y^2*z^3, w*x^5*y^2*z^3, x^6*y^2*z^3, w^5*y^3*z^3, w^4*x*y^3*z^3, w^3*x^2*y^3*z^3, w^2*x^3*y^3*z^3, w*x^4*y^3*z^3, x^5*y^3*z^3, w^4*y^4*z^3, w^3*x*y^4*z^3, w^2*x^2*y^4*z^3, w*x^3*y^4*z^3, x^4*y^4*z^3, w^3*y^5*z^3, w^2*x*y^5*z^3, w*x^2*y^5*z^3, x^3*y^5*z^3, w^2*y^6*z^3, w*x*y^6*z^3, x^2*y^6*z^3, w*y^7*z^3, x*y^7*z^3, y^8*z^3, w^7*z^4, w^6*x*z^4, w^5*x^2*z^4, w^4*x^3*z^4, w^3*x^4*z^4, w^2*x^5*z^4, w*x^6*z^4, x^7*z^4, w^6*y*z^4, w^5*x*y*z^4, w^4*x^2*y*z^4, w^3*x^3*y*z^4, w^2*x^4*y*z^4, w*x^5*y*z^4, x^6*y*z^4, w^5*y^2*z^4, w^4*x*y^2*z^4, w^3*x^2*y^2*z^4, w^2*x^3*y^2*z^4, w*x^4*y^2*z^4, x^5*y^2*z^4, w^4*y^3*z^4, w^3*x*y^3*z^4, w^2*x^2*y^3*z^4, w*x^3*y^3*z^4, x^4*y^3*z^4, w^3*y^4*z^4, w^2*x*y^4*z^4, w*x^2*y^4*z^4, x^3*y^4*z^4, w^2*y^5*z^4, w*x*y^5*z^4, x^2*y^5*z^4, w*y^6*z^4, x*y^6*z^4, y^7*z^4, w^6*z^5, w^5*x*z^5, w^4*x^2*z^5, w^3*x^3*z^5, w^2*x^4*z^5, w*x^5*z^5, x^6*z^5, w^5*y*z^5, w^4*x*y*z^5, w^3*x^2*y*z^5, w^2*x^3*y*z^5, w*x^4*y*z^5, x^5*y*z^5, w^4*y^2*z^5, w^3*x*y^2*z^5, w^2*x^2*y^2*z^5, w*x^3*y^2*z^5, x^4*y^2*z^5, w^3*y^3*z^5, w^2*x*y^3*z^5, w*x^2*y^3*z^5, x^3*y^3*z^5, w^2*y^4*z^5, w*x*y^4*z^5, x^2*y^4*z^5, w*y^5*z^5, x*y^5*z^5, y^6*z^5, w^5*z^6, w^4*x*z^6, w^3*x^2*z^6, w^2*x^3*z^6, w*x^4*z^6, x^5*z^6, w^4*y*z^6, w^3*x*y*z^6, w^2*x^2*y*z^6, w*x^3*y*z^6, x^4*y*z^6, w^3*y^2*z^6, w^2*x*y^2*z^6, w*x^2*y^2*z^6, x^3*y^2*z^6, w^2*y^3*z^6, w*x*y^3*z^6, x^2*y^3*z^6, w*y^4*z^6, x*y^4*z^6, y^5*z^6, w^4*z^7, w^3*x*z^7, w^2*x^2*z^7, w*x^3*z^7, x^4*z^7, w^3*y*z^7, w^2*x*y*z^7, w*x^2*y*z^7, x^3*y*z^7, w^2*y^2*z^7, w*x*y^2*z^7, x^2*y^2*z^7, w*y^3*z^7, x*y^3*z^7, y^4*z^7, w^3*z^8, w^2*x*z^8, w*x^2*z^8, x^3*z^8, w^2*y*z^8, w*x*y*z^8, x^2*y*z^8, w*y^2*z^8, x*y^2*z^8, y^3*z^8, w^2*z^9, w*x*z^9, x^2*z^9, w*y*z^9, x*y*z^9, y^2*z^9, w*z^10, x*z^10, y*z^10, z^11, w^10, w^9*x, w^8*x^2, w^7*x^3, w^6*x^4, w^5*x^5, w^4*x^6, w^3*x^7, w^2*x^8, w*x^9, x^10, w^9*y, w^8*x*y, w^7*x^2*y, w^6*x^3*y, w^5*x^4*y, w^4*x^5*y, w^3*x^6*y, w^2*x^7*y, w*x^8*y, x^9*y, w^8*y^2, w^7*x*y^2, w^6*x^2*y^2, w^5*x^3*y^2, w^4*x^4*y^2, w^3*x^5*y^2, w^2*x^6*y^2, w*x^7*y^2, x^8*y^2, w^7*y^3, w^6*x*y^3, w^5*x^2*y^3, w^4*x^3*y^3, w^3*x^4*y^3, w^2*x^5*y^3, w*x^6*y^3, x^7*y^3, w^6*y^4, w^5*x*y^4, w^4*x^2*y^4, w^3*x^3*y^4, w^2*x^4*y^4, w*x^5*y^4, x^6*y^4, w^5*y^5, w^4*x*y^5, w^3*x^2*y^5, w^2*x^3*y^5, w*x^4*y^5, x^5*y^5, w^4*y^6, w^3*x*y^6, w^2*x^2*y^6, w*x^3*y^6, x^4*y^6, w^3*y^7, w^2*x*y^7, w*x^2*y^7, x^3*y^7, w^2*y^8, w*x*y^8, x^2*y^8, w*y^9, x*y^9, y^10, w^9*z, w^8*x*z, w^7*x^2*z, w^6*x^3*z, w^5*x^4*z, w^4*x^5*z, w^3*x^6*z, w^2*x^7*z, w*x^8*z, x^9*z, w^8*y*z, w^7*x*y*z, w^6*x^2*y*z, w^5*x^3*y*z, w^4*x^4*y*z, w^3*x^5*y*z, w^2*x^6*y*z, w*x^7*y*z, x^8*y*z, w^7*y^2*z, w^6*x*y^2*z, w^5*x^2*y^2*z, w^4*x^3*y^2*z, w^3*x^4*y^2*z, w^2*x^5*y^2*z, w*x^6*y^2*z, x^7*y^2*z, w^6*y^3*z, w^5*x*y^3*z, w^4*x^2*y^3*z, w^3*x^3*y^3*z, w^2*x^4*y^3*z, w*x^5*y^3*z, x^6*y^3*z, w^5*y^4*z, w^4*x*y^4*z, w^3*x^2*y^4*z, w^2*x^3*y^4*z, w*x^4*y^4*z, x^5*y^4*z, w^4*y^5*z, w^3*x*y^5*z, w^2*x^2*y^5*z, w*x^3*y^5*z, x^4*y^5*z, w^3*y^6*z, w^2*x*y^6*z, w*x^2*y^6*z, x^3*y^6*z, w^2*y^7*z, w*x*y^7*z, x^2*y^7*z, w*y^8*z, x*y^8*z, y^9*z, w^8*z^2, w^7*x*z^2, w^6*x^2*z^2, w^5*x^3*z^2, w^4*x^4*z^2, w^3*x^5*z^2, w^2*x^6*z^2, w*x^7*z^2, x^8*z^2, w^7*y*z^2, w^6*x*y*z^2, w^5*x^2*y*z^2, w^4*x^3*y*z^2, w^3*x^4*y*z^2, w^2*x^5*y*z^2, w*x^6*y*z^2, x^7*y*z^2, w^6*y^2*z^2, w^5*x*y^2*z^2, w^4*x^2*y^2*z^2, w^3*x^3*y^2*z^2, w^2*x^4*y^2*z^2, w*x^5*y^2*z^2, x^6*y^2*z^2, w^5*y^3*z^2, w^4*x*y^3*z^2, w^3*x^2*y^3*z^2, w^2*x^3*y^3*z^2, w*x^4*y^3*z^2, x^5*y^3*z^2, w^4*y^4*z^2, w^3*x*y^4*z^2, w^2*x^2*y^4*z^2, w*x^3*y^4*z^2, x^4*y^4*z^2, w^3*y^5*z^2, w^2*x*y^5*z^2, w*x^2*y^5*z^2, x^3*y^5*z^2, w^2*y^6*z^2, w*x*y^6*z^2, x^2*y^6*z^2, w*y^7*z^2, x*y^7*z^2, y^8*z^2, w^7*z^3, w^6*x*z^3, w^5*x^2*z^3, w^4*x^3*z^3, w^3*x^4*z^3, w^2*x^5*z^3, w*x^6*z^3, x^7*z^3, w^6*y*z^3, w^5*x*y*z^3, w^4*x^2*y*z^3, w^3*x^3*y*z^3, w^2*x^4*y*z^3, w*x^5*y*z^3, x^6*y*z^3, w^5*y^2*z^3, w^4*x*y^2*z^3, w^3*x^2*y^2*z^3, w^2*x^3*y^2*z^3, w*x^4*y^2*z^3, x^5*y^2*z^3, w^4*y^3*z^3, w^3*x*y^3*z^3, w^2*x^2*y^3*z^3, w*x^3*y^3*z^3, x^4*y^3*z^3, w^3*y^4*z^3, w^2*x*y^4*z^3, w*x^2*y^4*z^3, x^3*y^4*z^3, w^2*y^5*z^3, w*x*y^5*z^3, x^2*y^5*z^3, w*y^6*z^3, x*y^6*z^3, y^7*z^3, w^6*z^4, w^5*x*z^4, w^4*x^2*z^4, w^3*x^3*z^4, w^2*x^4*z^4, w*x^5*z^4, x^6*z^4, w^5*y*z^4, w^4*x*y*z^4, w^3*x^2*y*z^4, w^2*x^3*y*z^4, w*x^4*y*z^4, x^5*y*z^4, w^4*y^2*z^4, w^3*x*y^2*z^4, w^2*x^2*y^2*z^4, w*x^3*y^2*z^4, x^4*y^2*z^4, w^3*y^3*z^4, w^2*x*y^3*z^4, w*x^2*y^3*z^4, x^3*y^3*z^4, w^2*y^4*z^4, w*x*y^4*z^4, x^2*y^4*z^4, w*y^5*z^4, x*y^5*z^4, y^6*z^4, w^5*z^5, w^4*x*z^5, w^3*x^2*z^5, w^2*x^3*z^5, w*x^4*z^5, x^5*z^5, w^4*y*z^5, w^3*x*y*z^5, w^2*x^2*y*z^5, w*x^3*y*z^5, x^4*y*z^5, w^3*y^2*z^5, w^2*x*y^2*z^5, w*x^2*y^2*z^5, x^3*y^2*z^5, w^2*y^3*z^5, w*x*y^3*z^5, x^2*y^3*z^5, w*y^4*z^5, x*y^4*z^5, y^5*z^5, w^4*z^6, w^3*x*z^6, w^2*x^2*z^6, w*x^3*z^6, x^4*z^6, w^3*y*z^6, w^2*x*y*z^6, w*x^2*y*z^6, x^3*y*z^6, w^2*y^2*z^6, w*x*y^2*z^6, x^2*y^2*z^6, w*y^3*z^6, x*y^3*z^6, y^4*z^6, w^3*z^7, w^2*x*z^7, w*x^2*z^7, x^3*z^7, w^2*y*z^7, w*x*y*z^7, x^2*y*z^7, w*y^2*z^7, x*y^2*z^7, y^3*z^7, w^2*z^8, w*x*z^8, x^2*z^8, w*y*z^8, x*y*z^8, y^2*z^8, w*z^9, x*z^9, y*z^9, z^10, w^9, w^8*x, w^7*x^2, w^6*x^3, w^5*x^4, w^4*x^5, w^3*x^6, w^2*x^7, w*x^8, x^9, w^8*y, w^7*x*y, w^6*x^2*y, w^5*x^3*y, w^4*x^4*y, w^3*x^5*y, w^2*x^6*y, w*x^7*y, x^8*y, w^7*y^2, w^6*x*y^2, w^5*x^2*y^2, w^4*x^3*y^2, w^3*x^4*y^2, w^2*x^5*y^2, w*x^6*y^2, x^7*y^2, w^6*y^3, w^5*x*y^3, w^4*x^2*y^3, w^3*x^3*y^3, w^2*x^4*y^3, w*x^5*y^3, x^6*y^3, w^5*y^4, w^4*x*y^4, w^3*x^2*y^4, w^2*x^3*y^4, w*x^4*y^4, x^5*y^4, w^4*y^5, w^3*x*y^5, w^2*x^2*y^5, w*x^3*y^5, x^4*y^5, w^3*y^6, w^2*x*y^6, w*x^2*y^6, x^3*y^6, w^2*y^7, w*x*y^7, x^2*y^7, w*y^8, x*y^8, y^9, w^8*z, w^7*x*z, w^6*x^2*z, w^5*x^3*z, w^4*x^4*z, w^3*x^5*z, w^2*x^6*z, w*x^7*z, x^8*z, w^7*y*z, w^6*x*y*z, w^5*x^2*y*z, w^4*x^3*y*z, w^3*x^4*y*z, w^2*x^5*y*z, w*x^6*y*z, x^7*y*z, w^6*y^2*z, w^5*x*y^2*z, w^4*x^2*y^2*z, w^3*x^3*y^2*z, w^2*x^4*y^2*z, w*x^5*y^2*z, x^6*y^2*z, w^5*y^3*z, w^4*x*y^3*z, w^3*x^2*y^3*z, w^2*x^3*y^3*z, w*x^4*y^3*z, x^5*y^3*z, w^4*y^4*z, w^3*x*y^4*z, w^2*x^2*y^4*z, w*x^3*y^4*z, x^4*y^4*z, w^3*y^5*z, w^2*x*y^5*z, w*x^2*y^5*z, x^3*y^5*z, w^2*y^6*z, w*x*y^6*z, x^2*y^6*z, w*y^7*z, x*y^7*z, y^8*z, w^7*z^2, w^6*x*z^2, w^5*x^2*z^2, w^4*x^3*z^2, w^3*x^4*z^2, w^2*x^5*z^2, w*x^6*z^2, x^7*z^2, w^6*y*z^2, w^5*x*y*z^2, w^4*x^2*y*z^2, w^3*x^3*y*z^2, w^2*x^4*y*z^2, w*x^5*y*z^2, x^6*y*z^2, w^5*y^2*z^2, w^4*x*y^2*z^2, w^3*x^2*y^2*z^2, w^2*x^3*y^2*z^2, w*x^4*y^2*z^2, x^5*y^2*z^2, w^4*y^3*z^2, w^3*x*y^3*z^2, w^2*x^2*y^3*z^2, w*x^3*y^3*z^2, x^4*y^3*z^2, w^3*y^4*z^2, w^2*x*y^4*z^2, w*x^2*y^4*z^2, x^3*y^4*z^2, w^2*y^5*z^2, w*x*y^5*z^2, x^2*y^5*z^2, w*y^6*z^2, x*y^6*z^2, y^7*z^2, w^6*z^3, w^5*x*z^3, w^4*x^2*z^3, w^3*x^3*z^3, w^2*x^4*z^3, w*x^5*z^3, x^6*z^3, w^5*y*z^3, w^4*x*y*z^3, w^3*x^2*y*z^3, w^2*x^3*y*z^3, w*x^4*y*z^3, x^5*y*z^3, w^4*y^2*z^3, w^3*x*y^2*z^3, w^2*x^2*y^2*z^3, w*x^3*y^2*z^3, x^4*y^2*z^3, w^3*y^3*z^3, w^2*x*y^3*z^3, w*x^2*y^3*z^3, x^3*y^3*z^3, w^2*y^4*z^3, w*x*y^4*z^3, x^2*y^4*z^3, w*y^5*z^3, x*y^5*z^3, y^6*z^3, w^5*z^4, w^4*x*z^4, w^3*x^2*z^4, w^2*x^3*z^4, w*x^4*z^4, x^5*z^4, w^4*y*z^4, w^3*x*y*z^4, w^2*x^2*y*z^4, w*x^3*y*z^4, x^4*y*z^4, w^3*y^2*z^4, w^2*x*y^2*z^4, w*x^2*y^2*z^4, x^3*y^2*z^4, w^2*y^3*z^4, w*x*y^3*z^4, x^2*y^3*z^4, w*y^4*z^4, x*y^4*z^4, y^5*z^4, w^4*z^5, w^3*x*z^5, w^2*x^2*z^5, w*x^3*z^5, x^4*z^5, w^3*y*z^5, w^2*x*y*z^5, w*x^2*y*z^5, x^3*y*z^5, w^2*y^2*z^5, w*x*y^2*z^5, x^2*y^2*z^5, w*y^3*z^5, x*y^3*z^5, y^4*z^5, w^3*z^6, w^2*x*z^6, w*x^2*z^6, x^3*z^6, w^2*y*z^6, w*x*y*z^6, x^2*y*z^6, w*y^2*z^6, x*y^2*z^6, y^3*z^6, w^2*z^7, w*x*z^7, x^2*z^7, w*y*z^7, x*y*z^7, y^2*z^7, w*z^8, x*z^8, y*z^8, z^9, w^8, w^7*x, w^6*x^2, w^5*x^3, w^4*x^4, w^3*x^5, w^2*x^6, w*x^7, x^8, w^7*y, w^6*x*y, w^5*x^2*y, w^4*x^3*y, w^3*x^4*y, w^2*x^5*y, w*x^6*y, x^7*y, w^6*y^2, w^5*x*y^2, w^4*x^2*y^2, w^3*x^3*y^2, w^2*x^4*y^2, w*x^5*y^2, x^6*y^2, w^5*y^3, w^4*x*y^3, w^3*x^2*y^3, w^2*x^3*y^3, w*x^4*y^3, x^5*y^3, w^4*y^4, w^3*x*y^4, w^2*x^2*y^4, w*x^3*y^4, x^4*y^4, w^3*y^5, w^2*x*y^5, w*x^2*y^5, x^3*y^5, w^2*y^6, w*x*y^6, x^2*y^6, w*y^7, x*y^7, y^8, w^7*z, w^6*x*z, w^5*x^2*z, w^4*x^3*z, w^3*x^4*z, w^2*x^5*z, w*x^6*z, x^7*z, w^6*y*z, w^5*x*y*z, w^4*x^2*y*z, w^3*x^3*y*z, w^2*x^4*y*z, w*x^5*y*z, x^6*y*z, w^5*y^2*z, w^4*x*y^2*z, w^3*x^2*y^2*z, w^2*x^3*y^2*z, w*x^4*y^2*z, x^5*y^2*z, w^4*y^3*z, w^3*x*y^3*z, w^2*x^2*y^3*z, w*x^3*y^3*z, x^4*y^3*z, w^3*y^4*z, w^2*x*y^4*z, w*x^2*y^4*z, x^3*y^4*z, w^2*y^5*z, w*x*y^5*z, x^2*y^5*z, w*y^6*z, x*y^6*z, y^7*z, w^6*z^2, w^5*x*z^2, w^4*x^2*z^2, w^3*x^3*z^2, w^2*x^4*z^2, w*x^5*z^2, x^6*z^2, w^5*y*z^2, w^4*x*y*z^2, w^3*x^2*y*z^2, w^2*x^3*y*z^2, w*x^4*y*z^2, x^5*y*z^2, w^4*y^2*z^2, w^3*x*y^2*z^2, w^2*x^2*y^2*z^2, w*x^3*y^2*z^2, x^4*y^2*z^2, w^3*y^3*z^2, w^2*x*y^3*z^2, w*x^2*y^3*z^2, x^3*y^3*z^2, w^2*y^4*z^2, w*x*y^4*z^2, x^2*y^4*z^2, w*y^5*z^2, x*y^5*z^2, y^6*z^2, w^5*z^3, w^4*x*z^3, w^3*x^2*z^3, w^2*x^3*z^3, w*x^4*z^3, x^5*z^3, w^4*y*z^3, w^3*x*y*z^3, w^2*x^2*y*z^3, w*x^3*y*z^3, x^4*y*z^3, w^3*y^2*z^3, w^2*x*y^2*z^3, w*x^2*y^2*z^3, x^3*y^2*z^3, w^2*y^3*z^3, w*x*y^3*z^3, x^2*y^3*z^3, w*y^4*z^3, x*y^4*z^3, y^5*z^3, w^4*z^4, w^3*x*z^4, w^2*x^2*z^4, w*x^3*z^4, x^4*z^4, w^3*y*z^4, w^2*x*y*z^4, w*x^2*y*z^4, x^3*y*z^4, w^2*y^2*z^4, w*x*y^2*z^4, x^2*y^2*z^4, w*y^3*z^4, x*y^3*z^4, y^4*z^4, w^3*z^5, w^2*x*z^5, w*x^2*z^5, x^3*z^5, w^2*y*z^5, w*x*y*z^5, x^2*y*z^5, w*y^2*z^5, x*y^2*z^5, y^3*z^5, w^2*z^6, w*x*z^6, x^2*z^6, w*y*z^6, x*y*z^6, y^2*z^6, w*z^7, x*z^7, y*z^7, z^8, w^7, w^6*x, w^5*x^2, w^4*x^3, w^3*x^4, w^2*x^5, w*x^6, x^7, w^6*y, w^5*x*y, w^4*x^2*y, w^3*x^3*y, w^2*x^4*y, w*x^5*y, x^6*y, w^5*y^2, w^4*x*y^2, w^3*x^2*y^2, w^2*x^3*y^2, w*x^4*y^2, x^5*y^2, w^4*y^3, w^3*x*y^3, w^2*x^2*y^3, w*x^3*y^3, x^4*y^3, w^3*y^4, w^2*x*y^4, w*x^2*y^4, x^3*y^4, w^2*y^5, w*x*y^5, x^2*y^5, w*y^6, x*y^6, y^7, w^6*z, w^5*x*z, w^4*x^2*z, w^3*x^3*z, w^2*x^4*z, w*x^5*z, x^6*z, w^5*y*z, w^4*x*y*z, w^3*x^2*y*z, w^2*x^3*y*z, w*x^4*y*z, x^5*y*z, w^4*y^2*z, w^3*x*y^2*z, w^2*x^2*y^2*z, w*x^3*y^2*z, x^4*y^2*z, w^3*y^3*z, w^2*x*y^3*z, w*x^2*y^3*z, x^3*y^3*z, w^2*y^4*z, w*x*y^4*z, x^2*y^4*z, w*y^5*z, x*y^5*z, y^6*z, w^5*z^2, w^4*x*z^2, w^3*x^2*z^2, w^2*x^3*z^2, w*x^4*z^2, x^5*z^2, w^4*y*z^2, w^3*x*y*z^2, w^2*x^2*y*z^2, w*x^3*y*z^2, x^4*y*z^2, w^3*y^2*z^2, w^2*x*y^2*z^2, w*x^2*y^2*z^2, x^3*y^2*z^2, w^2*y^3*z^2, w*x*y^3*z^2, x^2*y^3*z^2, w*y^4*z^2, x*y^4*z^2, y^5*z^2, w^4*z^3, w^3*x*z^3, w^2*x^2*z^3, w*x^3*z^3, x^4*z^3, w^3*y*z^3, w^2*x*y*z^3, w*x^2*y*z^3, x^3*y*z^3, w^2*y^2*z^3, w*x*y^2*z^3, x^2*y^2*z^3, w*y^3*z^3, x*y^3*z^3, y^4*z^3, w^3*z^4, w^2*x*z^4, w*x^2*z^4, x^3*z^4, w^2*y*z^4, w*x*y*z^4, x^2*y*z^4, w*y^2*z^4, x*y^2*z^4, y^3*z^4, w^2*z^5, w*x*z^5, x^2*z^5, w*y*z^5, x*y*z^5, y^2*z^5, w*z^6, x*z^6, y*z^6, z^7, w^6, w^5*x, w^4*x^2, w^3*x^3, w^2*x^4, w*x^5, x^6, w^5*y, w^4*x*y, w^3*x^2*y, w^2*x^3*y, w*x^4*y, x^5*y, w^4*y^2, w^3*x*y^2, w^2*x^2*y^2, w*x^3*y^2, x^4*y^2, w^3*y^3, w^2*x*y^3, w*x^2*y^3, x^3*y^3, w^2*y^4, w*x*y^4, x^2*y^4, w*y^5, x*y^5, y^6, w^5*z, w^4*x*z, w^3*x^2*z, w^2*x^3*z, w*x^4*z, x^5*z, w^4*y*z, w^3*x*y*z, w^2*x^2*y*z, w*x^3*y*z, x^4*y*z, w^3*y^2*z, w^2*x*y^2*z, w*x^2*y^2*z, x^3*y^2*z, w^2*y^3*z, w*x*y^3*z, x^2*y^3*z, w*y^4*z, x*y^4*z, y^5*z, w^4*z^2, w^3*x*z^2, w^2*x^2*z^2, w*x^3*z^2, x^4*z^2, w^3*y*z^2, w^2*x*y*z^2, w*x^2*y*z^2, x^3*y*z^2, w^2*y^2*z^2, w*x*y^2*z^2, x^2*y^2*z^2, w*y^3*z^2, x*y^3*z^2, y^4*z^2, w^3*z^3, w^2*x*z^3, w*x^2*z^3, x^3*z^3, w^2*y*z^3, w*x*y*z^3, x^2*y*z^3, w*y^2*z^3, x*y^2*z^3, y^3*z^3, w^2*z^4, w*x*z^4, x^2*z^4, w*y*z^4, x*y*z^4, y^2*z^4, w*z^5, x*z^5, y*z^5, z^6, w^5, w^4*x, w^3*x^2, w^2*x^3, w*x^4, x^5, w^4*y, w^3*x*y, w^2*x^2*y, w*x^3*y, x^4*y, w^3*y^2, w^2*x*y^2, w*x^2*y^2, x^3*y^2, w^2*y^3, w*x*y^3, x^2*y^3, w*y^4, x*y^4, y^5, w^4*z, w^3*x*z, w^2*x^2*z, w*x^3*z, x^4*z, w^3*y*z, w^2*x*y*z, w*x^2*y*z, x^3*y*z, w^2*y^2*z, w*x*y^2*z, x^2*y^2*z, w*y^3*z, x*y^3*z, y^4*z, w^3*z^2, w^2*x*z^2, w*x^2*z^2, x^3*z^2, w^2*y*z^2, w*x*y*z^2, x^2*y*z^2, w*y^2*z^2, x*y^2*z^2, y^3*z^2, w^2*z^3, w*x*z^3, x^2*z^3, w*y*z^3, x*y*z^3, y^2*z^3, w*z^4, x*z^4, y*z^4, z^5, w^4, w^3*x, w^2*x^2, w*x^3, x^4, w^3*y, w^2*x*y, w*x^2*y, x^3*y, w^2*y^2, w*x*y^2, x^2*y^2, w*y^3, x*y^3, y^4, w^3*z, w^2*x*z, w*x^2*z, x^3*z, w^2*y*z, w*x*y*z, x^2*y*z, w*y^2*z, x*y^2*z, y^3*z, w^2*z^2, w*x*z^2, x^2*z^2, w*y*z^2, x*y*z^2, y^2*z^2, w*z^3, x*z^3, y*z^3, z^4, w^3, w^2*x, w*x^2, x^3, w^2*y, w*x*y, x^2*y, w*y^2, x*y^2, y^3, w^2*z, w*x*z, x^2*z, w*y*z, x*y*z, y^2*z, w*z^2, x*z^2, y*z^2, z^3, w^2, w*x, x^2, w*y, x*y, y^2, w*z, x*z, y*z, z^2, w, x, y, z, 1]\n"
     ]
    },
    {
     "name": "stdout",
     "output_type": "stream",
     "text": [
      "[w^5, w^4*x, w^3*x^2, w^2*x^3, w*x^4, x^5, w^4*y, w^3*x*y, w^2*x^2*y, w*x^3*y, x^4*y, w^3*y^2, w^2*x*y^2, w*x^2*y^2, x^3*y^2, w^2*y^3, w*x*y^3, x^2*y^3, w*y^4, x*y^4, y^5, w^4*z, w^3*x*z, w^2*x^2*z, w*x^3*z, x^4*z, w^3*y*z, w^2*x*y*z, w*x^2*y*z, x^3*y*z, w^2*y^2*z, w*x*y^2*z, x^2*y^2*z, w*y^3*z, x*y^3*z, y^4*z, w^3*z^2, w^2*x*z^2, w*x^2*z^2, x^3*z^2, w^2*y*z^2, w*x*y*z^2, x^2*y*z^2, w*y^2*z^2, x*y^2*z^2, y^3*z^2, w^2*z^3, w*x*z^3, x^2*z^3, w*y*z^3, x*y*z^3, y^2*z^3, w*z^4, x*z^4, y*z^4, z^5, w^4, w^3*x, w^2*x^2, w*x^3, x^4, w^3*y, w^2*x*y, w*x^2*y, x^3*y, w^2*y^2, w*x*y^2, x^2*y^2, w*y^3, x*y^3, y^4, w^3*z, w^2*x*z, w*x^2*z, x^3*z, w^2*y*z, w*x*y*z, x^2*y*z, w*y^2*z, x*y^2*z, y^3*z, w^2*z^2, w*x*z^2, x^2*z^2, w*y*z^2, x*y*z^2, y^2*z^2, w*z^3, x*z^3, y*z^3, z^4, w^3, w^2*x, w*x^2, x^3, w^2*y, w*x*y, x^2*y, w*y^2, x*y^2, y^3, w^2*z, w*x*z, x^2*z, w*y*z, x*y*z, y^2*z, w*z^2, x*z^2, y*z^2, z^3, w^2, w*x, x^2, w*y, x*y, y^2, w*z, x*z, y*z, z^2, w, x, y, z, 1]\n",
      "[w^6, w^5*x, w^4*x^2, w^3*x^3, w^2*x^4, w*x^5, x^6, w^5*y, w^4*x*y, w^3*x^2*y, w^2*x^3*y, w*x^4*y, x^5*y, w^4*y^2, w^3*x*y^2, w^2*x^2*y^2, w*x^3*y^2, x^4*y^2, w^3*y^3, w^2*x*y^3, w*x^2*y^3, x^3*y^3, w^2*y^4, w*x*y^4, x^2*y^4, w*y^5, x*y^5, y^6, w^5*z, w^4*x*z, w^3*x^2*z, w^2*x^3*z, w*x^4*z, x^5*z, w^4*y*z, w^3*x*y*z, w^2*x^2*y*z, w*x^3*y*z, x^4*y*z, w^3*y^2*z, w^2*x*y^2*z, w*x^2*y^2*z, x^3*y^2*z, w^2*y^3*z, w*x*y^3*z, x^2*y^3*z, w*y^4*z, x*y^4*z, y^5*z, w^4*z^2, w^3*x*z^2, w^2*x^2*z^2, w*x^3*z^2, x^4*z^2, w^3*y*z^2, w^2*x*y*z^2, w*x^2*y*z^2, x^3*y*z^2, w^2*y^2*z^2, w*x*y^2*z^2, x^2*y^2*z^2, w*y^3*z^2, x*y^3*z^2, y^4*z^2, w^3*z^3, w^2*x*z^3, w*x^2*z^3, x^3*z^3, w^2*y*z^3, w*x*y*z^3, x^2*y*z^3, w*y^2*z^3, x*y^2*z^3, y^3*z^3, w^2*z^4, w*x*z^4, x^2*z^4, w*y*z^4, x*y*z^4, y^2*z^4, w*z^5, x*z^5, y*z^5, z^6, w^5, w^4*x, w^3*x^2, w^2*x^3, w*x^4, x^5, w^4*y, w^3*x*y, w^2*x^2*y, w*x^3*y, x^4*y, w^3*y^2, w^2*x*y^2, w*x^2*y^2, x^3*y^2, w^2*y^3, w*x*y^3, x^2*y^3, w*y^4, x*y^4, y^5, w^4*z, w^3*x*z, w^2*x^2*z, w*x^3*z, x^4*z, w^3*y*z, w^2*x*y*z, w*x^2*y*z, x^3*y*z, w^2*y^2*z, w*x*y^2*z, x^2*y^2*z, w*y^3*z, x*y^3*z, y^4*z, w^3*z^2, w^2*x*z^2, w*x^2*z^2, x^3*z^2, w^2*y*z^2, w*x*y*z^2, x^2*y*z^2, w*y^2*z^2, x*y^2*z^2, y^3*z^2, w^2*z^3, w*x*z^3, x^2*z^3, w*y*z^3, x*y*z^3, y^2*z^3, w*z^4, x*z^4, y*z^4, z^5, w^4, w^3*x, w^2*x^2, w*x^3, x^4, w^3*y, w^2*x*y, w*x^2*y, x^3*y, w^2*y^2, w*x*y^2, x^2*y^2, w*y^3, x*y^3, y^4, w^3*z, w^2*x*z, w*x^2*z, x^3*z, w^2*y*z, w*x*y*z, x^2*y*z, w*y^2*z, x*y^2*z, y^3*z, w^2*z^2, w*x*z^2, x^2*z^2, w*y*z^2, x*y*z^2, y^2*z^2, w*z^3, x*z^3, y*z^3, z^4, w^3, w^2*x, w*x^2, x^3, w^2*y, w*x*y, x^2*y, w*y^2, x*y^2, y^3, w^2*z, w*x*z, x^2*z, w*y*z, x*y*z, y^2*z, w*z^2, x*z^2, y*z^2, z^3, w^2, w*x, x^2, w*y, x*y, y^2, w*z, x*z, y*z, z^2, w, x, y, z, 1]\n",
      "[w^7, w^6*x, w^5*x^2, w^4*x^3, w^3*x^4, w^2*x^5, w*x^6, x^7, w^6*y, w^5*x*y, w^4*x^2*y, w^3*x^3*y, w^2*x^4*y, w*x^5*y, x^6*y, w^5*y^2, w^4*x*y^2, w^3*x^2*y^2, w^2*x^3*y^2, w*x^4*y^2, x^5*y^2, w^4*y^3, w^3*x*y^3, w^2*x^2*y^3, w*x^3*y^3, x^4*y^3, w^3*y^4, w^2*x*y^4, w*x^2*y^4, x^3*y^4, w^2*y^5, w*x*y^5, x^2*y^5, w*y^6, x*y^6, y^7, w^6*z, w^5*x*z, w^4*x^2*z, w^3*x^3*z, w^2*x^4*z, w*x^5*z, x^6*z, w^5*y*z, w^4*x*y*z, w^3*x^2*y*z, w^2*x^3*y*z, w*x^4*y*z, x^5*y*z, w^4*y^2*z, w^3*x*y^2*z, w^2*x^2*y^2*z, w*x^3*y^2*z, x^4*y^2*z, w^3*y^3*z, w^2*x*y^3*z, w*x^2*y^3*z, x^3*y^3*z, w^2*y^4*z, w*x*y^4*z, x^2*y^4*z, w*y^5*z, x*y^5*z, y^6*z, w^5*z^2, w^4*x*z^2, w^3*x^2*z^2, w^2*x^3*z^2, w*x^4*z^2, x^5*z^2, w^4*y*z^2, w^3*x*y*z^2, w^2*x^2*y*z^2, w*x^3*y*z^2, x^4*y*z^2, w^3*y^2*z^2, w^2*x*y^2*z^2, w*x^2*y^2*z^2, x^3*y^2*z^2, w^2*y^3*z^2, w*x*y^3*z^2, x^2*y^3*z^2, w*y^4*z^2, x*y^4*z^2, y^5*z^2, w^4*z^3, w^3*x*z^3, w^2*x^2*z^3, w*x^3*z^3, x^4*z^3, w^3*y*z^3, w^2*x*y*z^3, w*x^2*y*z^3, x^3*y*z^3, w^2*y^2*z^3, w*x*y^2*z^3, x^2*y^2*z^3, w*y^3*z^3, x*y^3*z^3, y^4*z^3, w^3*z^4, w^2*x*z^4, w*x^2*z^4, x^3*z^4, w^2*y*z^4, w*x*y*z^4, x^2*y*z^4, w*y^2*z^4, x*y^2*z^4, y^3*z^4, w^2*z^5, w*x*z^5, x^2*z^5, w*y*z^5, x*y*z^5, y^2*z^5, w*z^6, x*z^6, y*z^6, z^7, w^6, w^5*x, w^4*x^2, w^3*x^3, w^2*x^4, w*x^5, x^6, w^5*y, w^4*x*y, w^3*x^2*y, w^2*x^3*y, w*x^4*y, x^5*y, w^4*y^2, w^3*x*y^2, w^2*x^2*y^2, w*x^3*y^2, x^4*y^2, w^3*y^3, w^2*x*y^3, w*x^2*y^3, x^3*y^3, w^2*y^4, w*x*y^4, x^2*y^4, w*y^5, x*y^5, y^6, w^5*z, w^4*x*z, w^3*x^2*z, w^2*x^3*z, w*x^4*z, x^5*z, w^4*y*z, w^3*x*y*z, w^2*x^2*y*z, w*x^3*y*z, x^4*y*z, w^3*y^2*z, w^2*x*y^2*z, w*x^2*y^2*z, x^3*y^2*z, w^2*y^3*z, w*x*y^3*z, x^2*y^3*z, w*y^4*z, x*y^4*z, y^5*z, w^4*z^2, w^3*x*z^2, w^2*x^2*z^2, w*x^3*z^2, x^4*z^2, w^3*y*z^2, w^2*x*y*z^2, w*x^2*y*z^2, x^3*y*z^2, w^2*y^2*z^2, w*x*y^2*z^2, x^2*y^2*z^2, w*y^3*z^2, x*y^3*z^2, y^4*z^2, w^3*z^3, w^2*x*z^3, w*x^2*z^3, x^3*z^3, w^2*y*z^3, w*x*y*z^3, x^2*y*z^3, w*y^2*z^3, x*y^2*z^3, y^3*z^3, w^2*z^4, w*x*z^4, x^2*z^4, w*y*z^4, x*y*z^4, y^2*z^4, w*z^5, x*z^5, y*z^5, z^6, w^5, w^4*x, w^3*x^2, w^2*x^3, w*x^4, x^5, w^4*y, w^3*x*y, w^2*x^2*y, w*x^3*y, x^4*y, w^3*y^2, w^2*x*y^2, w*x^2*y^2, x^3*y^2, w^2*y^3, w*x*y^3, x^2*y^3, w*y^4, x*y^4, y^5, w^4*z, w^3*x*z, w^2*x^2*z, w*x^3*z, x^4*z, w^3*y*z, w^2*x*y*z, w*x^2*y*z, x^3*y*z, w^2*y^2*z, w*x*y^2*z, x^2*y^2*z, w*y^3*z, x*y^3*z, y^4*z, w^3*z^2, w^2*x*z^2, w*x^2*z^2, x^3*z^2, w^2*y*z^2, w*x*y*z^2, x^2*y*z^2, w*y^2*z^2, x*y^2*z^2, y^3*z^2, w^2*z^3, w*x*z^3, x^2*z^3, w*y*z^3, x*y*z^3, y^2*z^3, w*z^4, x*z^4, y*z^4, z^5, w^4, w^3*x, w^2*x^2, w*x^3, x^4, w^3*y, w^2*x*y, w*x^2*y, x^3*y, w^2*y^2, w*x*y^2, x^2*y^2, w*y^3, x*y^3, y^4, w^3*z, w^2*x*z, w*x^2*z, x^3*z, w^2*y*z, w*x*y*z, x^2*y*z, w*y^2*z, x*y^2*z, y^3*z, w^2*z^2, w*x*z^2, x^2*z^2, w*y*z^2, x*y*z^2, y^2*z^2, w*z^3, x*z^3, y*z^3, z^4, w^3, w^2*x, w*x^2, x^3, w^2*y, w*x*y, x^2*y, w*y^2, x*y^2, y^3, w^2*z, w*x*z, x^2*z, w*y*z, x*y*z, y^2*z, w*z^2, x*z^2, y*z^2, z^3, w^2, w*x, x^2, w*y, x*y, y^2, w*z, x*z, y*z, z^2, w, x, y, z, 1]\n",
      "[w^8, w^7*x, w^6*x^2, w^5*x^3, w^4*x^4, w^3*x^5, w^2*x^6, w*x^7, x^8, w^7*y, w^6*x*y, w^5*x^2*y, w^4*x^3*y, w^3*x^4*y, w^2*x^5*y, w*x^6*y, x^7*y, w^6*y^2, w^5*x*y^2, w^4*x^2*y^2, w^3*x^3*y^2, w^2*x^4*y^2, w*x^5*y^2, x^6*y^2, w^5*y^3, w^4*x*y^3, w^3*x^2*y^3, w^2*x^3*y^3, w*x^4*y^3, x^5*y^3, w^4*y^4, w^3*x*y^4, w^2*x^2*y^4, w*x^3*y^4, x^4*y^4, w^3*y^5, w^2*x*y^5, w*x^2*y^5, x^3*y^5, w^2*y^6, w*x*y^6, x^2*y^6, w*y^7, x*y^7, y^8, w^7*z, w^6*x*z, w^5*x^2*z, w^4*x^3*z, w^3*x^4*z, w^2*x^5*z, w*x^6*z, x^7*z, w^6*y*z, w^5*x*y*z, w^4*x^2*y*z, w^3*x^3*y*z, w^2*x^4*y*z, w*x^5*y*z, x^6*y*z, w^5*y^2*z, w^4*x*y^2*z, w^3*x^2*y^2*z, w^2*x^3*y^2*z, w*x^4*y^2*z, x^5*y^2*z, w^4*y^3*z, w^3*x*y^3*z, w^2*x^2*y^3*z, w*x^3*y^3*z, x^4*y^3*z, w^3*y^4*z, w^2*x*y^4*z, w*x^2*y^4*z, x^3*y^4*z, w^2*y^5*z, w*x*y^5*z, x^2*y^5*z, w*y^6*z, x*y^6*z, y^7*z, w^6*z^2, w^5*x*z^2, w^4*x^2*z^2, w^3*x^3*z^2, w^2*x^4*z^2, w*x^5*z^2, x^6*z^2, w^5*y*z^2, w^4*x*y*z^2, w^3*x^2*y*z^2, w^2*x^3*y*z^2, w*x^4*y*z^2, x^5*y*z^2, w^4*y^2*z^2, w^3*x*y^2*z^2, w^2*x^2*y^2*z^2, w*x^3*y^2*z^2, x^4*y^2*z^2, w^3*y^3*z^2, w^2*x*y^3*z^2, w*x^2*y^3*z^2, x^3*y^3*z^2, w^2*y^4*z^2, w*x*y^4*z^2, x^2*y^4*z^2, w*y^5*z^2, x*y^5*z^2, y^6*z^2, w^5*z^3, w^4*x*z^3, w^3*x^2*z^3, w^2*x^3*z^3, w*x^4*z^3, x^5*z^3, w^4*y*z^3, w^3*x*y*z^3, w^2*x^2*y*z^3, w*x^3*y*z^3, x^4*y*z^3, w^3*y^2*z^3, w^2*x*y^2*z^3, w*x^2*y^2*z^3, x^3*y^2*z^3, w^2*y^3*z^3, w*x*y^3*z^3, x^2*y^3*z^3, w*y^4*z^3, x*y^4*z^3, y^5*z^3, w^4*z^4, w^3*x*z^4, w^2*x^2*z^4, w*x^3*z^4, x^4*z^4, w^3*y*z^4, w^2*x*y*z^4, w*x^2*y*z^4, x^3*y*z^4, w^2*y^2*z^4, w*x*y^2*z^4, x^2*y^2*z^4, w*y^3*z^4, x*y^3*z^4, y^4*z^4, w^3*z^5, w^2*x*z^5, w*x^2*z^5, x^3*z^5, w^2*y*z^5, w*x*y*z^5, x^2*y*z^5, w*y^2*z^5, x*y^2*z^5, y^3*z^5, w^2*z^6, w*x*z^6, x^2*z^6, w*y*z^6, x*y*z^6, y^2*z^6, w*z^7, x*z^7, y*z^7, z^8, w^7, w^6*x, w^5*x^2, w^4*x^3, w^3*x^4, w^2*x^5, w*x^6, x^7, w^6*y, w^5*x*y, w^4*x^2*y, w^3*x^3*y, w^2*x^4*y, w*x^5*y, x^6*y, w^5*y^2, w^4*x*y^2, w^3*x^2*y^2, w^2*x^3*y^2, w*x^4*y^2, x^5*y^2, w^4*y^3, w^3*x*y^3, w^2*x^2*y^3, w*x^3*y^3, x^4*y^3, w^3*y^4, w^2*x*y^4, w*x^2*y^4, x^3*y^4, w^2*y^5, w*x*y^5, x^2*y^5, w*y^6, x*y^6, y^7, w^6*z, w^5*x*z, w^4*x^2*z, w^3*x^3*z, w^2*x^4*z, w*x^5*z, x^6*z, w^5*y*z, w^4*x*y*z, w^3*x^2*y*z, w^2*x^3*y*z, w*x^4*y*z, x^5*y*z, w^4*y^2*z, w^3*x*y^2*z, w^2*x^2*y^2*z, w*x^3*y^2*z, x^4*y^2*z, w^3*y^3*z, w^2*x*y^3*z, w*x^2*y^3*z, x^3*y^3*z, w^2*y^4*z, w*x*y^4*z, x^2*y^4*z, w*y^5*z, x*y^5*z, y^6*z, w^5*z^2, w^4*x*z^2, w^3*x^2*z^2, w^2*x^3*z^2, w*x^4*z^2, x^5*z^2, w^4*y*z^2, w^3*x*y*z^2, w^2*x^2*y*z^2, w*x^3*y*z^2, x^4*y*z^2, w^3*y^2*z^2, w^2*x*y^2*z^2, w*x^2*y^2*z^2, x^3*y^2*z^2, w^2*y^3*z^2, w*x*y^3*z^2, x^2*y^3*z^2, w*y^4*z^2, x*y^4*z^2, y^5*z^2, w^4*z^3, w^3*x*z^3, w^2*x^2*z^3, w*x^3*z^3, x^4*z^3, w^3*y*z^3, w^2*x*y*z^3, w*x^2*y*z^3, x^3*y*z^3, w^2*y^2*z^3, w*x*y^2*z^3, x^2*y^2*z^3, w*y^3*z^3, x*y^3*z^3, y^4*z^3, w^3*z^4, w^2*x*z^4, w*x^2*z^4, x^3*z^4, w^2*y*z^4, w*x*y*z^4, x^2*y*z^4, w*y^2*z^4, x*y^2*z^4, y^3*z^4, w^2*z^5, w*x*z^5, x^2*z^5, w*y*z^5, x*y*z^5, y^2*z^5, w*z^6, x*z^6, y*z^6, z^7, w^6, w^5*x, w^4*x^2, w^3*x^3, w^2*x^4, w*x^5, x^6, w^5*y, w^4*x*y, w^3*x^2*y, w^2*x^3*y, w*x^4*y, x^5*y, w^4*y^2, w^3*x*y^2, w^2*x^2*y^2, w*x^3*y^2, x^4*y^2, w^3*y^3, w^2*x*y^3, w*x^2*y^3, x^3*y^3, w^2*y^4, w*x*y^4, x^2*y^4, w*y^5, x*y^5, y^6, w^5*z, w^4*x*z, w^3*x^2*z, w^2*x^3*z, w*x^4*z, x^5*z, w^4*y*z, w^3*x*y*z, w^2*x^2*y*z, w*x^3*y*z, x^4*y*z, w^3*y^2*z, w^2*x*y^2*z, w*x^2*y^2*z, x^3*y^2*z, w^2*y^3*z, w*x*y^3*z, x^2*y^3*z, w*y^4*z, x*y^4*z, y^5*z, w^4*z^2, w^3*x*z^2, w^2*x^2*z^2, w*x^3*z^2, x^4*z^2, w^3*y*z^2, w^2*x*y*z^2, w*x^2*y*z^2, x^3*y*z^2, w^2*y^2*z^2, w*x*y^2*z^2, x^2*y^2*z^2, w*y^3*z^2, x*y^3*z^2, y^4*z^2, w^3*z^3, w^2*x*z^3, w*x^2*z^3, x^3*z^3, w^2*y*z^3, w*x*y*z^3, x^2*y*z^3, w*y^2*z^3, x*y^2*z^3, y^3*z^3, w^2*z^4, w*x*z^4, x^2*z^4, w*y*z^4, x*y*z^4, y^2*z^4, w*z^5, x*z^5, y*z^5, z^6, w^5, w^4*x, w^3*x^2, w^2*x^3, w*x^4, x^5, w^4*y, w^3*x*y, w^2*x^2*y, w*x^3*y, x^4*y, w^3*y^2, w^2*x*y^2, w*x^2*y^2, x^3*y^2, w^2*y^3, w*x*y^3, x^2*y^3, w*y^4, x*y^4, y^5, w^4*z, w^3*x*z, w^2*x^2*z, w*x^3*z, x^4*z, w^3*y*z, w^2*x*y*z, w*x^2*y*z, x^3*y*z, w^2*y^2*z, w*x*y^2*z, x^2*y^2*z, w*y^3*z, x*y^3*z, y^4*z, w^3*z^2, w^2*x*z^2, w*x^2*z^2, x^3*z^2, w^2*y*z^2, w*x*y*z^2, x^2*y*z^2, w*y^2*z^2, x*y^2*z^2, y^3*z^2, w^2*z^3, w*x*z^3, x^2*z^3, w*y*z^3, x*y*z^3, y^2*z^3, w*z^4, x*z^4, y*z^4, z^5, w^4, w^3*x, w^2*x^2, w*x^3, x^4, w^3*y, w^2*x*y, w*x^2*y, x^3*y, w^2*y^2, w*x*y^2, x^2*y^2, w*y^3, x*y^3, y^4, w^3*z, w^2*x*z, w*x^2*z, x^3*z, w^2*y*z, w*x*y*z, x^2*y*z, w*y^2*z, x*y^2*z, y^3*z, w^2*z^2, w*x*z^2, x^2*z^2, w*y*z^2, x*y*z^2, y^2*z^2, w*z^3, x*z^3, y*z^3, z^4, w^3, w^2*x, w*x^2, x^3, w^2*y, w*x*y, x^2*y, w*y^2, x*y^2, y^3, w^2*z, w*x*z, x^2*z, w*y*z, x*y*z, y^2*z, w*z^2, x*z^2, y*z^2, z^3, w^2, w*x, x^2, w*y, x*y, y^2, w*z, x*z, y*z, z^2, w, x, y, z, 1]\n"
     ]
    },
    {
     "name": "stdout",
     "output_type": "stream",
     "text": [
      "[w^9, w^8*x, w^7*x^2, w^6*x^3, w^5*x^4, w^4*x^5, w^3*x^6, w^2*x^7, w*x^8, x^9, w^8*y, w^7*x*y, w^6*x^2*y, w^5*x^3*y, w^4*x^4*y, w^3*x^5*y, w^2*x^6*y, w*x^7*y, x^8*y, w^7*y^2, w^6*x*y^2, w^5*x^2*y^2, w^4*x^3*y^2, w^3*x^4*y^2, w^2*x^5*y^2, w*x^6*y^2, x^7*y^2, w^6*y^3, w^5*x*y^3, w^4*x^2*y^3, w^3*x^3*y^3, w^2*x^4*y^3, w*x^5*y^3, x^6*y^3, w^5*y^4, w^4*x*y^4, w^3*x^2*y^4, w^2*x^3*y^4, w*x^4*y^4, x^5*y^4, w^4*y^5, w^3*x*y^5, w^2*x^2*y^5, w*x^3*y^5, x^4*y^5, w^3*y^6, w^2*x*y^6, w*x^2*y^6, x^3*y^6, w^2*y^7, w*x*y^7, x^2*y^7, w*y^8, x*y^8, y^9, w^8*z, w^7*x*z, w^6*x^2*z, w^5*x^3*z, w^4*x^4*z, w^3*x^5*z, w^2*x^6*z, w*x^7*z, x^8*z, w^7*y*z, w^6*x*y*z, w^5*x^2*y*z, w^4*x^3*y*z, w^3*x^4*y*z, w^2*x^5*y*z, w*x^6*y*z, x^7*y*z, w^6*y^2*z, w^5*x*y^2*z, w^4*x^2*y^2*z, w^3*x^3*y^2*z, w^2*x^4*y^2*z, w*x^5*y^2*z, x^6*y^2*z, w^5*y^3*z, w^4*x*y^3*z, w^3*x^2*y^3*z, w^2*x^3*y^3*z, w*x^4*y^3*z, x^5*y^3*z, w^4*y^4*z, w^3*x*y^4*z, w^2*x^2*y^4*z, w*x^3*y^4*z, x^4*y^4*z, w^3*y^5*z, w^2*x*y^5*z, w*x^2*y^5*z, x^3*y^5*z, w^2*y^6*z, w*x*y^6*z, x^2*y^6*z, w*y^7*z, x*y^7*z, y^8*z, w^7*z^2, w^6*x*z^2, w^5*x^2*z^2, w^4*x^3*z^2, w^3*x^4*z^2, w^2*x^5*z^2, w*x^6*z^2, x^7*z^2, w^6*y*z^2, w^5*x*y*z^2, w^4*x^2*y*z^2, w^3*x^3*y*z^2, w^2*x^4*y*z^2, w*x^5*y*z^2, x^6*y*z^2, w^5*y^2*z^2, w^4*x*y^2*z^2, w^3*x^2*y^2*z^2, w^2*x^3*y^2*z^2, w*x^4*y^2*z^2, x^5*y^2*z^2, w^4*y^3*z^2, w^3*x*y^3*z^2, w^2*x^2*y^3*z^2, w*x^3*y^3*z^2, x^4*y^3*z^2, w^3*y^4*z^2, w^2*x*y^4*z^2, w*x^2*y^4*z^2, x^3*y^4*z^2, w^2*y^5*z^2, w*x*y^5*z^2, x^2*y^5*z^2, w*y^6*z^2, x*y^6*z^2, y^7*z^2, w^6*z^3, w^5*x*z^3, w^4*x^2*z^3, w^3*x^3*z^3, w^2*x^4*z^3, w*x^5*z^3, x^6*z^3, w^5*y*z^3, w^4*x*y*z^3, w^3*x^2*y*z^3, w^2*x^3*y*z^3, w*x^4*y*z^3, x^5*y*z^3, w^4*y^2*z^3, w^3*x*y^2*z^3, w^2*x^2*y^2*z^3, w*x^3*y^2*z^3, x^4*y^2*z^3, w^3*y^3*z^3, w^2*x*y^3*z^3, w*x^2*y^3*z^3, x^3*y^3*z^3, w^2*y^4*z^3, w*x*y^4*z^3, x^2*y^4*z^3, w*y^5*z^3, x*y^5*z^3, y^6*z^3, w^5*z^4, w^4*x*z^4, w^3*x^2*z^4, w^2*x^3*z^4, w*x^4*z^4, x^5*z^4, w^4*y*z^4, w^3*x*y*z^4, w^2*x^2*y*z^4, w*x^3*y*z^4, x^4*y*z^4, w^3*y^2*z^4, w^2*x*y^2*z^4, w*x^2*y^2*z^4, x^3*y^2*z^4, w^2*y^3*z^4, w*x*y^3*z^4, x^2*y^3*z^4, w*y^4*z^4, x*y^4*z^4, y^5*z^4, w^4*z^5, w^3*x*z^5, w^2*x^2*z^5, w*x^3*z^5, x^4*z^5, w^3*y*z^5, w^2*x*y*z^5, w*x^2*y*z^5, x^3*y*z^5, w^2*y^2*z^5, w*x*y^2*z^5, x^2*y^2*z^5, w*y^3*z^5, x*y^3*z^5, y^4*z^5, w^3*z^6, w^2*x*z^6, w*x^2*z^6, x^3*z^6, w^2*y*z^6, w*x*y*z^6, x^2*y*z^6, w*y^2*z^6, x*y^2*z^6, y^3*z^6, w^2*z^7, w*x*z^7, x^2*z^7, w*y*z^7, x*y*z^7, y^2*z^7, w*z^8, x*z^8, y*z^8, z^9, w^8, w^7*x, w^6*x^2, w^5*x^3, w^4*x^4, w^3*x^5, w^2*x^6, w*x^7, x^8, w^7*y, w^6*x*y, w^5*x^2*y, w^4*x^3*y, w^3*x^4*y, w^2*x^5*y, w*x^6*y, x^7*y, w^6*y^2, w^5*x*y^2, w^4*x^2*y^2, w^3*x^3*y^2, w^2*x^4*y^2, w*x^5*y^2, x^6*y^2, w^5*y^3, w^4*x*y^3, w^3*x^2*y^3, w^2*x^3*y^3, w*x^4*y^3, x^5*y^3, w^4*y^4, w^3*x*y^4, w^2*x^2*y^4, w*x^3*y^4, x^4*y^4, w^3*y^5, w^2*x*y^5, w*x^2*y^5, x^3*y^5, w^2*y^6, w*x*y^6, x^2*y^6, w*y^7, x*y^7, y^8, w^7*z, w^6*x*z, w^5*x^2*z, w^4*x^3*z, w^3*x^4*z, w^2*x^5*z, w*x^6*z, x^7*z, w^6*y*z, w^5*x*y*z, w^4*x^2*y*z, w^3*x^3*y*z, w^2*x^4*y*z, w*x^5*y*z, x^6*y*z, w^5*y^2*z, w^4*x*y^2*z, w^3*x^2*y^2*z, w^2*x^3*y^2*z, w*x^4*y^2*z, x^5*y^2*z, w^4*y^3*z, w^3*x*y^3*z, w^2*x^2*y^3*z, w*x^3*y^3*z, x^4*y^3*z, w^3*y^4*z, w^2*x*y^4*z, w*x^2*y^4*z, x^3*y^4*z, w^2*y^5*z, w*x*y^5*z, x^2*y^5*z, w*y^6*z, x*y^6*z, y^7*z, w^6*z^2, w^5*x*z^2, w^4*x^2*z^2, w^3*x^3*z^2, w^2*x^4*z^2, w*x^5*z^2, x^6*z^2, w^5*y*z^2, w^4*x*y*z^2, w^3*x^2*y*z^2, w^2*x^3*y*z^2, w*x^4*y*z^2, x^5*y*z^2, w^4*y^2*z^2, w^3*x*y^2*z^2, w^2*x^2*y^2*z^2, w*x^3*y^2*z^2, x^4*y^2*z^2, w^3*y^3*z^2, w^2*x*y^3*z^2, w*x^2*y^3*z^2, x^3*y^3*z^2, w^2*y^4*z^2, w*x*y^4*z^2, x^2*y^4*z^2, w*y^5*z^2, x*y^5*z^2, y^6*z^2, w^5*z^3, w^4*x*z^3, w^3*x^2*z^3, w^2*x^3*z^3, w*x^4*z^3, x^5*z^3, w^4*y*z^3, w^3*x*y*z^3, w^2*x^2*y*z^3, w*x^3*y*z^3, x^4*y*z^3, w^3*y^2*z^3, w^2*x*y^2*z^3, w*x^2*y^2*z^3, x^3*y^2*z^3, w^2*y^3*z^3, w*x*y^3*z^3, x^2*y^3*z^3, w*y^4*z^3, x*y^4*z^3, y^5*z^3, w^4*z^4, w^3*x*z^4, w^2*x^2*z^4, w*x^3*z^4, x^4*z^4, w^3*y*z^4, w^2*x*y*z^4, w*x^2*y*z^4, x^3*y*z^4, w^2*y^2*z^4, w*x*y^2*z^4, x^2*y^2*z^4, w*y^3*z^4, x*y^3*z^4, y^4*z^4, w^3*z^5, w^2*x*z^5, w*x^2*z^5, x^3*z^5, w^2*y*z^5, w*x*y*z^5, x^2*y*z^5, w*y^2*z^5, x*y^2*z^5, y^3*z^5, w^2*z^6, w*x*z^6, x^2*z^6, w*y*z^6, x*y*z^6, y^2*z^6, w*z^7, x*z^7, y*z^7, z^8, w^7, w^6*x, w^5*x^2, w^4*x^3, w^3*x^4, w^2*x^5, w*x^6, x^7, w^6*y, w^5*x*y, w^4*x^2*y, w^3*x^3*y, w^2*x^4*y, w*x^5*y, x^6*y, w^5*y^2, w^4*x*y^2, w^3*x^2*y^2, w^2*x^3*y^2, w*x^4*y^2, x^5*y^2, w^4*y^3, w^3*x*y^3, w^2*x^2*y^3, w*x^3*y^3, x^4*y^3, w^3*y^4, w^2*x*y^4, w*x^2*y^4, x^3*y^4, w^2*y^5, w*x*y^5, x^2*y^5, w*y^6, x*y^6, y^7, w^6*z, w^5*x*z, w^4*x^2*z, w^3*x^3*z, w^2*x^4*z, w*x^5*z, x^6*z, w^5*y*z, w^4*x*y*z, w^3*x^2*y*z, w^2*x^3*y*z, w*x^4*y*z, x^5*y*z, w^4*y^2*z, w^3*x*y^2*z, w^2*x^2*y^2*z, w*x^3*y^2*z, x^4*y^2*z, w^3*y^3*z, w^2*x*y^3*z, w*x^2*y^3*z, x^3*y^3*z, w^2*y^4*z, w*x*y^4*z, x^2*y^4*z, w*y^5*z, x*y^5*z, y^6*z, w^5*z^2, w^4*x*z^2, w^3*x^2*z^2, w^2*x^3*z^2, w*x^4*z^2, x^5*z^2, w^4*y*z^2, w^3*x*y*z^2, w^2*x^2*y*z^2, w*x^3*y*z^2, x^4*y*z^2, w^3*y^2*z^2, w^2*x*y^2*z^2, w*x^2*y^2*z^2, x^3*y^2*z^2, w^2*y^3*z^2, w*x*y^3*z^2, x^2*y^3*z^2, w*y^4*z^2, x*y^4*z^2, y^5*z^2, w^4*z^3, w^3*x*z^3, w^2*x^2*z^3, w*x^3*z^3, x^4*z^3, w^3*y*z^3, w^2*x*y*z^3, w*x^2*y*z^3, x^3*y*z^3, w^2*y^2*z^3, w*x*y^2*z^3, x^2*y^2*z^3, w*y^3*z^3, x*y^3*z^3, y^4*z^3, w^3*z^4, w^2*x*z^4, w*x^2*z^4, x^3*z^4, w^2*y*z^4, w*x*y*z^4, x^2*y*z^4, w*y^2*z^4, x*y^2*z^4, y^3*z^4, w^2*z^5, w*x*z^5, x^2*z^5, w*y*z^5, x*y*z^5, y^2*z^5, w*z^6, x*z^6, y*z^6, z^7, w^6, w^5*x, w^4*x^2, w^3*x^3, w^2*x^4, w*x^5, x^6, w^5*y, w^4*x*y, w^3*x^2*y, w^2*x^3*y, w*x^4*y, x^5*y, w^4*y^2, w^3*x*y^2, w^2*x^2*y^2, w*x^3*y^2, x^4*y^2, w^3*y^3, w^2*x*y^3, w*x^2*y^3, x^3*y^3, w^2*y^4, w*x*y^4, x^2*y^4, w*y^5, x*y^5, y^6, w^5*z, w^4*x*z, w^3*x^2*z, w^2*x^3*z, w*x^4*z, x^5*z, w^4*y*z, w^3*x*y*z, w^2*x^2*y*z, w*x^3*y*z, x^4*y*z, w^3*y^2*z, w^2*x*y^2*z, w*x^2*y^2*z, x^3*y^2*z, w^2*y^3*z, w*x*y^3*z, x^2*y^3*z, w*y^4*z, x*y^4*z, y^5*z, w^4*z^2, w^3*x*z^2, w^2*x^2*z^2, w*x^3*z^2, x^4*z^2, w^3*y*z^2, w^2*x*y*z^2, w*x^2*y*z^2, x^3*y*z^2, w^2*y^2*z^2, w*x*y^2*z^2, x^2*y^2*z^2, w*y^3*z^2, x*y^3*z^2, y^4*z^2, w^3*z^3, w^2*x*z^3, w*x^2*z^3, x^3*z^3, w^2*y*z^3, w*x*y*z^3, x^2*y*z^3, w*y^2*z^3, x*y^2*z^3, y^3*z^3, w^2*z^4, w*x*z^4, x^2*z^4, w*y*z^4, x*y*z^4, y^2*z^4, w*z^5, x*z^5, y*z^5, z^6, w^5, w^4*x, w^3*x^2, w^2*x^3, w*x^4, x^5, w^4*y, w^3*x*y, w^2*x^2*y, w*x^3*y, x^4*y, w^3*y^2, w^2*x*y^2, w*x^2*y^2, x^3*y^2, w^2*y^3, w*x*y^3, x^2*y^3, w*y^4, x*y^4, y^5, w^4*z, w^3*x*z, w^2*x^2*z, w*x^3*z, x^4*z, w^3*y*z, w^2*x*y*z, w*x^2*y*z, x^3*y*z, w^2*y^2*z, w*x*y^2*z, x^2*y^2*z, w*y^3*z, x*y^3*z, y^4*z, w^3*z^2, w^2*x*z^2, w*x^2*z^2, x^3*z^2, w^2*y*z^2, w*x*y*z^2, x^2*y*z^2, w*y^2*z^2, x*y^2*z^2, y^3*z^2, w^2*z^3, w*x*z^3, x^2*z^3, w*y*z^3, x*y*z^3, y^2*z^3, w*z^4, x*z^4, y*z^4, z^5, w^4, w^3*x, w^2*x^2, w*x^3, x^4, w^3*y, w^2*x*y, w*x^2*y, x^3*y, w^2*y^2, w*x*y^2, x^2*y^2, w*y^3, x*y^3, y^4, w^3*z, w^2*x*z, w*x^2*z, x^3*z, w^2*y*z, w*x*y*z, x^2*y*z, w*y^2*z, x*y^2*z, y^3*z, w^2*z^2, w*x*z^2, x^2*z^2, w*y*z^2, x*y*z^2, y^2*z^2, w*z^3, x*z^3, y*z^3, z^4, w^3, w^2*x, w*x^2, x^3, w^2*y, w*x*y, x^2*y, w*y^2, x*y^2, y^3, w^2*z, w*x*z, x^2*z, w*y*z, x*y*z, y^2*z, w*z^2, x*z^2, y*z^2, z^3, w^2, w*x, x^2, w*y, x*y, y^2, w*z, x*z, y*z, z^2, w, x, y, z, 1]\n",
      "[w^10, w^9*x, w^8*x^2, w^7*x^3, w^6*x^4, w^5*x^5, w^4*x^6, w^3*x^7, w^2*x^8, w*x^9, x^10, w^9*y, w^8*x*y, w^7*x^2*y, w^6*x^3*y, w^5*x^4*y, w^4*x^5*y, w^3*x^6*y, w^2*x^7*y, w*x^8*y, x^9*y, w^8*y^2, w^7*x*y^2, w^6*x^2*y^2, w^5*x^3*y^2, w^4*x^4*y^2, w^3*x^5*y^2, w^2*x^6*y^2, w*x^7*y^2, x^8*y^2, w^7*y^3, w^6*x*y^3, w^5*x^2*y^3, w^4*x^3*y^3, w^3*x^4*y^3, w^2*x^5*y^3, w*x^6*y^3, x^7*y^3, w^6*y^4, w^5*x*y^4, w^4*x^2*y^4, w^3*x^3*y^4, w^2*x^4*y^4, w*x^5*y^4, x^6*y^4, w^5*y^5, w^4*x*y^5, w^3*x^2*y^5, w^2*x^3*y^5, w*x^4*y^5, x^5*y^5, w^4*y^6, w^3*x*y^6, w^2*x^2*y^6, w*x^3*y^6, x^4*y^6, w^3*y^7, w^2*x*y^7, w*x^2*y^7, x^3*y^7, w^2*y^8, w*x*y^8, x^2*y^8, w*y^9, x*y^9, y^10, w^9*z, w^8*x*z, w^7*x^2*z, w^6*x^3*z, w^5*x^4*z, w^4*x^5*z, w^3*x^6*z, w^2*x^7*z, w*x^8*z, x^9*z, w^8*y*z, w^7*x*y*z, w^6*x^2*y*z, w^5*x^3*y*z, w^4*x^4*y*z, w^3*x^5*y*z, w^2*x^6*y*z, w*x^7*y*z, x^8*y*z, w^7*y^2*z, w^6*x*y^2*z, w^5*x^2*y^2*z, w^4*x^3*y^2*z, w^3*x^4*y^2*z, w^2*x^5*y^2*z, w*x^6*y^2*z, x^7*y^2*z, w^6*y^3*z, w^5*x*y^3*z, w^4*x^2*y^3*z, w^3*x^3*y^3*z, w^2*x^4*y^3*z, w*x^5*y^3*z, x^6*y^3*z, w^5*y^4*z, w^4*x*y^4*z, w^3*x^2*y^4*z, w^2*x^3*y^4*z, w*x^4*y^4*z, x^5*y^4*z, w^4*y^5*z, w^3*x*y^5*z, w^2*x^2*y^5*z, w*x^3*y^5*z, x^4*y^5*z, w^3*y^6*z, w^2*x*y^6*z, w*x^2*y^6*z, x^3*y^6*z, w^2*y^7*z, w*x*y^7*z, x^2*y^7*z, w*y^8*z, x*y^8*z, y^9*z, w^8*z^2, w^7*x*z^2, w^6*x^2*z^2, w^5*x^3*z^2, w^4*x^4*z^2, w^3*x^5*z^2, w^2*x^6*z^2, w*x^7*z^2, x^8*z^2, w^7*y*z^2, w^6*x*y*z^2, w^5*x^2*y*z^2, w^4*x^3*y*z^2, w^3*x^4*y*z^2, w^2*x^5*y*z^2, w*x^6*y*z^2, x^7*y*z^2, w^6*y^2*z^2, w^5*x*y^2*z^2, w^4*x^2*y^2*z^2, w^3*x^3*y^2*z^2, w^2*x^4*y^2*z^2, w*x^5*y^2*z^2, x^6*y^2*z^2, w^5*y^3*z^2, w^4*x*y^3*z^2, w^3*x^2*y^3*z^2, w^2*x^3*y^3*z^2, w*x^4*y^3*z^2, x^5*y^3*z^2, w^4*y^4*z^2, w^3*x*y^4*z^2, w^2*x^2*y^4*z^2, w*x^3*y^4*z^2, x^4*y^4*z^2, w^3*y^5*z^2, w^2*x*y^5*z^2, w*x^2*y^5*z^2, x^3*y^5*z^2, w^2*y^6*z^2, w*x*y^6*z^2, x^2*y^6*z^2, w*y^7*z^2, x*y^7*z^2, y^8*z^2, w^7*z^3, w^6*x*z^3, w^5*x^2*z^3, w^4*x^3*z^3, w^3*x^4*z^3, w^2*x^5*z^3, w*x^6*z^3, x^7*z^3, w^6*y*z^3, w^5*x*y*z^3, w^4*x^2*y*z^3, w^3*x^3*y*z^3, w^2*x^4*y*z^3, w*x^5*y*z^3, x^6*y*z^3, w^5*y^2*z^3, w^4*x*y^2*z^3, w^3*x^2*y^2*z^3, w^2*x^3*y^2*z^3, w*x^4*y^2*z^3, x^5*y^2*z^3, w^4*y^3*z^3, w^3*x*y^3*z^3, w^2*x^2*y^3*z^3, w*x^3*y^3*z^3, x^4*y^3*z^3, w^3*y^4*z^3, w^2*x*y^4*z^3, w*x^2*y^4*z^3, x^3*y^4*z^3, w^2*y^5*z^3, w*x*y^5*z^3, x^2*y^5*z^3, w*y^6*z^3, x*y^6*z^3, y^7*z^3, w^6*z^4, w^5*x*z^4, w^4*x^2*z^4, w^3*x^3*z^4, w^2*x^4*z^4, w*x^5*z^4, x^6*z^4, w^5*y*z^4, w^4*x*y*z^4, w^3*x^2*y*z^4, w^2*x^3*y*z^4, w*x^4*y*z^4, x^5*y*z^4, w^4*y^2*z^4, w^3*x*y^2*z^4, w^2*x^2*y^2*z^4, w*x^3*y^2*z^4, x^4*y^2*z^4, w^3*y^3*z^4, w^2*x*y^3*z^4, w*x^2*y^3*z^4, x^3*y^3*z^4, w^2*y^4*z^4, w*x*y^4*z^4, x^2*y^4*z^4, w*y^5*z^4, x*y^5*z^4, y^6*z^4, w^5*z^5, w^4*x*z^5, w^3*x^2*z^5, w^2*x^3*z^5, w*x^4*z^5, x^5*z^5, w^4*y*z^5, w^3*x*y*z^5, w^2*x^2*y*z^5, w*x^3*y*z^5, x^4*y*z^5, w^3*y^2*z^5, w^2*x*y^2*z^5, w*x^2*y^2*z^5, x^3*y^2*z^5, w^2*y^3*z^5, w*x*y^3*z^5, x^2*y^3*z^5, w*y^4*z^5, x*y^4*z^5, y^5*z^5, w^4*z^6, w^3*x*z^6, w^2*x^2*z^6, w*x^3*z^6, x^4*z^6, w^3*y*z^6, w^2*x*y*z^6, w*x^2*y*z^6, x^3*y*z^6, w^2*y^2*z^6, w*x*y^2*z^6, x^2*y^2*z^6, w*y^3*z^6, x*y^3*z^6, y^4*z^6, w^3*z^7, w^2*x*z^7, w*x^2*z^7, x^3*z^7, w^2*y*z^7, w*x*y*z^7, x^2*y*z^7, w*y^2*z^7, x*y^2*z^7, y^3*z^7, w^2*z^8, w*x*z^8, x^2*z^8, w*y*z^8, x*y*z^8, y^2*z^8, w*z^9, x*z^9, y*z^9, z^10, w^9, w^8*x, w^7*x^2, w^6*x^3, w^5*x^4, w^4*x^5, w^3*x^6, w^2*x^7, w*x^8, x^9, w^8*y, w^7*x*y, w^6*x^2*y, w^5*x^3*y, w^4*x^4*y, w^3*x^5*y, w^2*x^6*y, w*x^7*y, x^8*y, w^7*y^2, w^6*x*y^2, w^5*x^2*y^2, w^4*x^3*y^2, w^3*x^4*y^2, w^2*x^5*y^2, w*x^6*y^2, x^7*y^2, w^6*y^3, w^5*x*y^3, w^4*x^2*y^3, w^3*x^3*y^3, w^2*x^4*y^3, w*x^5*y^3, x^6*y^3, w^5*y^4, w^4*x*y^4, w^3*x^2*y^4, w^2*x^3*y^4, w*x^4*y^4, x^5*y^4, w^4*y^5, w^3*x*y^5, w^2*x^2*y^5, w*x^3*y^5, x^4*y^5, w^3*y^6, w^2*x*y^6, w*x^2*y^6, x^3*y^6, w^2*y^7, w*x*y^7, x^2*y^7, w*y^8, x*y^8, y^9, w^8*z, w^7*x*z, w^6*x^2*z, w^5*x^3*z, w^4*x^4*z, w^3*x^5*z, w^2*x^6*z, w*x^7*z, x^8*z, w^7*y*z, w^6*x*y*z, w^5*x^2*y*z, w^4*x^3*y*z, w^3*x^4*y*z, w^2*x^5*y*z, w*x^6*y*z, x^7*y*z, w^6*y^2*z, w^5*x*y^2*z, w^4*x^2*y^2*z, w^3*x^3*y^2*z, w^2*x^4*y^2*z, w*x^5*y^2*z, x^6*y^2*z, w^5*y^3*z, w^4*x*y^3*z, w^3*x^2*y^3*z, w^2*x^3*y^3*z, w*x^4*y^3*z, x^5*y^3*z, w^4*y^4*z, w^3*x*y^4*z, w^2*x^2*y^4*z, w*x^3*y^4*z, x^4*y^4*z, w^3*y^5*z, w^2*x*y^5*z, w*x^2*y^5*z, x^3*y^5*z, w^2*y^6*z, w*x*y^6*z, x^2*y^6*z, w*y^7*z, x*y^7*z, y^8*z, w^7*z^2, w^6*x*z^2, w^5*x^2*z^2, w^4*x^3*z^2, w^3*x^4*z^2, w^2*x^5*z^2, w*x^6*z^2, x^7*z^2, w^6*y*z^2, w^5*x*y*z^2, w^4*x^2*y*z^2, w^3*x^3*y*z^2, w^2*x^4*y*z^2, w*x^5*y*z^2, x^6*y*z^2, w^5*y^2*z^2, w^4*x*y^2*z^2, w^3*x^2*y^2*z^2, w^2*x^3*y^2*z^2, w*x^4*y^2*z^2, x^5*y^2*z^2, w^4*y^3*z^2, w^3*x*y^3*z^2, w^2*x^2*y^3*z^2, w*x^3*y^3*z^2, x^4*y^3*z^2, w^3*y^4*z^2, w^2*x*y^4*z^2, w*x^2*y^4*z^2, x^3*y^4*z^2, w^2*y^5*z^2, w*x*y^5*z^2, x^2*y^5*z^2, w*y^6*z^2, x*y^6*z^2, y^7*z^2, w^6*z^3, w^5*x*z^3, w^4*x^2*z^3, w^3*x^3*z^3, w^2*x^4*z^3, w*x^5*z^3, x^6*z^3, w^5*y*z^3, w^4*x*y*z^3, w^3*x^2*y*z^3, w^2*x^3*y*z^3, w*x^4*y*z^3, x^5*y*z^3, w^4*y^2*z^3, w^3*x*y^2*z^3, w^2*x^2*y^2*z^3, w*x^3*y^2*z^3, x^4*y^2*z^3, w^3*y^3*z^3, w^2*x*y^3*z^3, w*x^2*y^3*z^3, x^3*y^3*z^3, w^2*y^4*z^3, w*x*y^4*z^3, x^2*y^4*z^3, w*y^5*z^3, x*y^5*z^3, y^6*z^3, w^5*z^4, w^4*x*z^4, w^3*x^2*z^4, w^2*x^3*z^4, w*x^4*z^4, x^5*z^4, w^4*y*z^4, w^3*x*y*z^4, w^2*x^2*y*z^4, w*x^3*y*z^4, x^4*y*z^4, w^3*y^2*z^4, w^2*x*y^2*z^4, w*x^2*y^2*z^4, x^3*y^2*z^4, w^2*y^3*z^4, w*x*y^3*z^4, x^2*y^3*z^4, w*y^4*z^4, x*y^4*z^4, y^5*z^4, w^4*z^5, w^3*x*z^5, w^2*x^2*z^5, w*x^3*z^5, x^4*z^5, w^3*y*z^5, w^2*x*y*z^5, w*x^2*y*z^5, x^3*y*z^5, w^2*y^2*z^5, w*x*y^2*z^5, x^2*y^2*z^5, w*y^3*z^5, x*y^3*z^5, y^4*z^5, w^3*z^6, w^2*x*z^6, w*x^2*z^6, x^3*z^6, w^2*y*z^6, w*x*y*z^6, x^2*y*z^6, w*y^2*z^6, x*y^2*z^6, y^3*z^6, w^2*z^7, w*x*z^7, x^2*z^7, w*y*z^7, x*y*z^7, y^2*z^7, w*z^8, x*z^8, y*z^8, z^9, w^8, w^7*x, w^6*x^2, w^5*x^3, w^4*x^4, w^3*x^5, w^2*x^6, w*x^7, x^8, w^7*y, w^6*x*y, w^5*x^2*y, w^4*x^3*y, w^3*x^4*y, w^2*x^5*y, w*x^6*y, x^7*y, w^6*y^2, w^5*x*y^2, w^4*x^2*y^2, w^3*x^3*y^2, w^2*x^4*y^2, w*x^5*y^2, x^6*y^2, w^5*y^3, w^4*x*y^3, w^3*x^2*y^3, w^2*x^3*y^3, w*x^4*y^3, x^5*y^3, w^4*y^4, w^3*x*y^4, w^2*x^2*y^4, w*x^3*y^4, x^4*y^4, w^3*y^5, w^2*x*y^5, w*x^2*y^5, x^3*y^5, w^2*y^6, w*x*y^6, x^2*y^6, w*y^7, x*y^7, y^8, w^7*z, w^6*x*z, w^5*x^2*z, w^4*x^3*z, w^3*x^4*z, w^2*x^5*z, w*x^6*z, x^7*z, w^6*y*z, w^5*x*y*z, w^4*x^2*y*z, w^3*x^3*y*z, w^2*x^4*y*z, w*x^5*y*z, x^6*y*z, w^5*y^2*z, w^4*x*y^2*z, w^3*x^2*y^2*z, w^2*x^3*y^2*z, w*x^4*y^2*z, x^5*y^2*z, w^4*y^3*z, w^3*x*y^3*z, w^2*x^2*y^3*z, w*x^3*y^3*z, x^4*y^3*z, w^3*y^4*z, w^2*x*y^4*z, w*x^2*y^4*z, x^3*y^4*z, w^2*y^5*z, w*x*y^5*z, x^2*y^5*z, w*y^6*z, x*y^6*z, y^7*z, w^6*z^2, w^5*x*z^2, w^4*x^2*z^2, w^3*x^3*z^2, w^2*x^4*z^2, w*x^5*z^2, x^6*z^2, w^5*y*z^2, w^4*x*y*z^2, w^3*x^2*y*z^2, w^2*x^3*y*z^2, w*x^4*y*z^2, x^5*y*z^2, w^4*y^2*z^2, w^3*x*y^2*z^2, w^2*x^2*y^2*z^2, w*x^3*y^2*z^2, x^4*y^2*z^2, w^3*y^3*z^2, w^2*x*y^3*z^2, w*x^2*y^3*z^2, x^3*y^3*z^2, w^2*y^4*z^2, w*x*y^4*z^2, x^2*y^4*z^2, w*y^5*z^2, x*y^5*z^2, y^6*z^2, w^5*z^3, w^4*x*z^3, w^3*x^2*z^3, w^2*x^3*z^3, w*x^4*z^3, x^5*z^3, w^4*y*z^3, w^3*x*y*z^3, w^2*x^2*y*z^3, w*x^3*y*z^3, x^4*y*z^3, w^3*y^2*z^3, w^2*x*y^2*z^3, w*x^2*y^2*z^3, x^3*y^2*z^3, w^2*y^3*z^3, w*x*y^3*z^3, x^2*y^3*z^3, w*y^4*z^3, x*y^4*z^3, y^5*z^3, w^4*z^4, w^3*x*z^4, w^2*x^2*z^4, w*x^3*z^4, x^4*z^4, w^3*y*z^4, w^2*x*y*z^4, w*x^2*y*z^4, x^3*y*z^4, w^2*y^2*z^4, w*x*y^2*z^4, x^2*y^2*z^4, w*y^3*z^4, x*y^3*z^4, y^4*z^4, w^3*z^5, w^2*x*z^5, w*x^2*z^5, x^3*z^5, w^2*y*z^5, w*x*y*z^5, x^2*y*z^5, w*y^2*z^5, x*y^2*z^5, y^3*z^5, w^2*z^6, w*x*z^6, x^2*z^6, w*y*z^6, x*y*z^6, y^2*z^6, w*z^7, x*z^7, y*z^7, z^8, w^7, w^6*x, w^5*x^2, w^4*x^3, w^3*x^4, w^2*x^5, w*x^6, x^7, w^6*y, w^5*x*y, w^4*x^2*y, w^3*x^3*y, w^2*x^4*y, w*x^5*y, x^6*y, w^5*y^2, w^4*x*y^2, w^3*x^2*y^2, w^2*x^3*y^2, w*x^4*y^2, x^5*y^2, w^4*y^3, w^3*x*y^3, w^2*x^2*y^3, w*x^3*y^3, x^4*y^3, w^3*y^4, w^2*x*y^4, w*x^2*y^4, x^3*y^4, w^2*y^5, w*x*y^5, x^2*y^5, w*y^6, x*y^6, y^7, w^6*z, w^5*x*z, w^4*x^2*z, w^3*x^3*z, w^2*x^4*z, w*x^5*z, x^6*z, w^5*y*z, w^4*x*y*z, w^3*x^2*y*z, w^2*x^3*y*z, w*x^4*y*z, x^5*y*z, w^4*y^2*z, w^3*x*y^2*z, w^2*x^2*y^2*z, w*x^3*y^2*z, x^4*y^2*z, w^3*y^3*z, w^2*x*y^3*z, w*x^2*y^3*z, x^3*y^3*z, w^2*y^4*z, w*x*y^4*z, x^2*y^4*z, w*y^5*z, x*y^5*z, y^6*z, w^5*z^2, w^4*x*z^2, w^3*x^2*z^2, w^2*x^3*z^2, w*x^4*z^2, x^5*z^2, w^4*y*z^2, w^3*x*y*z^2, w^2*x^2*y*z^2, w*x^3*y*z^2, x^4*y*z^2, w^3*y^2*z^2, w^2*x*y^2*z^2, w*x^2*y^2*z^2, x^3*y^2*z^2, w^2*y^3*z^2, w*x*y^3*z^2, x^2*y^3*z^2, w*y^4*z^2, x*y^4*z^2, y^5*z^2, w^4*z^3, w^3*x*z^3, w^2*x^2*z^3, w*x^3*z^3, x^4*z^3, w^3*y*z^3, w^2*x*y*z^3, w*x^2*y*z^3, x^3*y*z^3, w^2*y^2*z^3, w*x*y^2*z^3, x^2*y^2*z^3, w*y^3*z^3, x*y^3*z^3, y^4*z^3, w^3*z^4, w^2*x*z^4, w*x^2*z^4, x^3*z^4, w^2*y*z^4, w*x*y*z^4, x^2*y*z^4, w*y^2*z^4, x*y^2*z^4, y^3*z^4, w^2*z^5, w*x*z^5, x^2*z^5, w*y*z^5, x*y*z^5, y^2*z^5, w*z^6, x*z^6, y*z^6, z^7, w^6, w^5*x, w^4*x^2, w^3*x^3, w^2*x^4, w*x^5, x^6, w^5*y, w^4*x*y, w^3*x^2*y, w^2*x^3*y, w*x^4*y, x^5*y, w^4*y^2, w^3*x*y^2, w^2*x^2*y^2, w*x^3*y^2, x^4*y^2, w^3*y^3, w^2*x*y^3, w*x^2*y^3, x^3*y^3, w^2*y^4, w*x*y^4, x^2*y^4, w*y^5, x*y^5, y^6, w^5*z, w^4*x*z, w^3*x^2*z, w^2*x^3*z, w*x^4*z, x^5*z, w^4*y*z, w^3*x*y*z, w^2*x^2*y*z, w*x^3*y*z, x^4*y*z, w^3*y^2*z, w^2*x*y^2*z, w*x^2*y^2*z, x^3*y^2*z, w^2*y^3*z, w*x*y^3*z, x^2*y^3*z, w*y^4*z, x*y^4*z, y^5*z, w^4*z^2, w^3*x*z^2, w^2*x^2*z^2, w*x^3*z^2, x^4*z^2, w^3*y*z^2, w^2*x*y*z^2, w*x^2*y*z^2, x^3*y*z^2, w^2*y^2*z^2, w*x*y^2*z^2, x^2*y^2*z^2, w*y^3*z^2, x*y^3*z^2, y^4*z^2, w^3*z^3, w^2*x*z^3, w*x^2*z^3, x^3*z^3, w^2*y*z^3, w*x*y*z^3, x^2*y*z^3, w*y^2*z^3, x*y^2*z^3, y^3*z^3, w^2*z^4, w*x*z^4, x^2*z^4, w*y*z^4, x*y*z^4, y^2*z^4, w*z^5, x*z^5, y*z^5, z^6, w^5, w^4*x, w^3*x^2, w^2*x^3, w*x^4, x^5, w^4*y, w^3*x*y, w^2*x^2*y, w*x^3*y, x^4*y, w^3*y^2, w^2*x*y^2, w*x^2*y^2, x^3*y^2, w^2*y^3, w*x*y^3, x^2*y^3, w*y^4, x*y^4, y^5, w^4*z, w^3*x*z, w^2*x^2*z, w*x^3*z, x^4*z, w^3*y*z, w^2*x*y*z, w*x^2*y*z, x^3*y*z, w^2*y^2*z, w*x*y^2*z, x^2*y^2*z, w*y^3*z, x*y^3*z, y^4*z, w^3*z^2, w^2*x*z^2, w*x^2*z^2, x^3*z^2, w^2*y*z^2, w*x*y*z^2, x^2*y*z^2, w*y^2*z^2, x*y^2*z^2, y^3*z^2, w^2*z^3, w*x*z^3, x^2*z^3, w*y*z^3, x*y*z^3, y^2*z^3, w*z^4, x*z^4, y*z^4, z^5, w^4, w^3*x, w^2*x^2, w*x^3, x^4, w^3*y, w^2*x*y, w*x^2*y, x^3*y, w^2*y^2, w*x*y^2, x^2*y^2, w*y^3, x*y^3, y^4, w^3*z, w^2*x*z, w*x^2*z, x^3*z, w^2*y*z, w*x*y*z, x^2*y*z, w*y^2*z, x*y^2*z, y^3*z, w^2*z^2, w*x*z^2, x^2*z^2, w*y*z^2, x*y*z^2, y^2*z^2, w*z^3, x*z^3, y*z^3, z^4, w^3, w^2*x, w*x^2, x^3, w^2*y, w*x*y, x^2*y, w*y^2, x*y^2, y^3, w^2*z, w*x*z, x^2*z, w*y*z, x*y*z, y^2*z, w*z^2, x*z^2, y*z^2, z^3, w^2, w*x, x^2, w*y, x*y, y^2, w*z, x*z, y*z, z^2, w, x, y, z, 1]\n"
     ]
    },
    {
     "name": "stdout",
     "output_type": "stream",
     "text": [
      "[w^11, w^10*x, w^9*x^2, w^8*x^3, w^7*x^4, w^6*x^5, w^5*x^6, w^4*x^7, w^3*x^8, w^2*x^9, w*x^10, x^11, w^10*y, w^9*x*y, w^8*x^2*y, w^7*x^3*y, w^6*x^4*y, w^5*x^5*y, w^4*x^6*y, w^3*x^7*y, w^2*x^8*y, w*x^9*y, x^10*y, w^9*y^2, w^8*x*y^2, w^7*x^2*y^2, w^6*x^3*y^2, w^5*x^4*y^2, w^4*x^5*y^2, w^3*x^6*y^2, w^2*x^7*y^2, w*x^8*y^2, x^9*y^2, w^8*y^3, w^7*x*y^3, w^6*x^2*y^3, w^5*x^3*y^3, w^4*x^4*y^3, w^3*x^5*y^3, w^2*x^6*y^3, w*x^7*y^3, x^8*y^3, w^7*y^4, w^6*x*y^4, w^5*x^2*y^4, w^4*x^3*y^4, w^3*x^4*y^4, w^2*x^5*y^4, w*x^6*y^4, x^7*y^4, w^6*y^5, w^5*x*y^5, w^4*x^2*y^5, w^3*x^3*y^5, w^2*x^4*y^5, w*x^5*y^5, x^6*y^5, w^5*y^6, w^4*x*y^6, w^3*x^2*y^6, w^2*x^3*y^6, w*x^4*y^6, x^5*y^6, w^4*y^7, w^3*x*y^7, w^2*x^2*y^7, w*x^3*y^7, x^4*y^7, w^3*y^8, w^2*x*y^8, w*x^2*y^8, x^3*y^8, w^2*y^9, w*x*y^9, x^2*y^9, w*y^10, x*y^10, y^11, w^10*z, w^9*x*z, w^8*x^2*z, w^7*x^3*z, w^6*x^4*z, w^5*x^5*z, w^4*x^6*z, w^3*x^7*z, w^2*x^8*z, w*x^9*z, x^10*z, w^9*y*z, w^8*x*y*z, w^7*x^2*y*z, w^6*x^3*y*z, w^5*x^4*y*z, w^4*x^5*y*z, w^3*x^6*y*z, w^2*x^7*y*z, w*x^8*y*z, x^9*y*z, w^8*y^2*z, w^7*x*y^2*z, w^6*x^2*y^2*z, w^5*x^3*y^2*z, w^4*x^4*y^2*z, w^3*x^5*y^2*z, w^2*x^6*y^2*z, w*x^7*y^2*z, x^8*y^2*z, w^7*y^3*z, w^6*x*y^3*z, w^5*x^2*y^3*z, w^4*x^3*y^3*z, w^3*x^4*y^3*z, w^2*x^5*y^3*z, w*x^6*y^3*z, x^7*y^3*z, w^6*y^4*z, w^5*x*y^4*z, w^4*x^2*y^4*z, w^3*x^3*y^4*z, w^2*x^4*y^4*z, w*x^5*y^4*z, x^6*y^4*z, w^5*y^5*z, w^4*x*y^5*z, w^3*x^2*y^5*z, w^2*x^3*y^5*z, w*x^4*y^5*z, x^5*y^5*z, w^4*y^6*z, w^3*x*y^6*z, w^2*x^2*y^6*z, w*x^3*y^6*z, x^4*y^6*z, w^3*y^7*z, w^2*x*y^7*z, w*x^2*y^7*z, x^3*y^7*z, w^2*y^8*z, w*x*y^8*z, x^2*y^8*z, w*y^9*z, x*y^9*z, y^10*z, w^9*z^2, w^8*x*z^2, w^7*x^2*z^2, w^6*x^3*z^2, w^5*x^4*z^2, w^4*x^5*z^2, w^3*x^6*z^2, w^2*x^7*z^2, w*x^8*z^2, x^9*z^2, w^8*y*z^2, w^7*x*y*z^2, w^6*x^2*y*z^2, w^5*x^3*y*z^2, w^4*x^4*y*z^2, w^3*x^5*y*z^2, w^2*x^6*y*z^2, w*x^7*y*z^2, x^8*y*z^2, w^7*y^2*z^2, w^6*x*y^2*z^2, w^5*x^2*y^2*z^2, w^4*x^3*y^2*z^2, w^3*x^4*y^2*z^2, w^2*x^5*y^2*z^2, w*x^6*y^2*z^2, x^7*y^2*z^2, w^6*y^3*z^2, w^5*x*y^3*z^2, w^4*x^2*y^3*z^2, w^3*x^3*y^3*z^2, w^2*x^4*y^3*z^2, w*x^5*y^3*z^2, x^6*y^3*z^2, w^5*y^4*z^2, w^4*x*y^4*z^2, w^3*x^2*y^4*z^2, w^2*x^3*y^4*z^2, w*x^4*y^4*z^2, x^5*y^4*z^2, w^4*y^5*z^2, w^3*x*y^5*z^2, w^2*x^2*y^5*z^2, w*x^3*y^5*z^2, x^4*y^5*z^2, w^3*y^6*z^2, w^2*x*y^6*z^2, w*x^2*y^6*z^2, x^3*y^6*z^2, w^2*y^7*z^2, w*x*y^7*z^2, x^2*y^7*z^2, w*y^8*z^2, x*y^8*z^2, y^9*z^2, w^8*z^3, w^7*x*z^3, w^6*x^2*z^3, w^5*x^3*z^3, w^4*x^4*z^3, w^3*x^5*z^3, w^2*x^6*z^3, w*x^7*z^3, x^8*z^3, w^7*y*z^3, w^6*x*y*z^3, w^5*x^2*y*z^3, w^4*x^3*y*z^3, w^3*x^4*y*z^3, w^2*x^5*y*z^3, w*x^6*y*z^3, x^7*y*z^3, w^6*y^2*z^3, w^5*x*y^2*z^3, w^4*x^2*y^2*z^3, w^3*x^3*y^2*z^3, w^2*x^4*y^2*z^3, w*x^5*y^2*z^3, x^6*y^2*z^3, w^5*y^3*z^3, w^4*x*y^3*z^3, w^3*x^2*y^3*z^3, w^2*x^3*y^3*z^3, w*x^4*y^3*z^3, x^5*y^3*z^3, w^4*y^4*z^3, w^3*x*y^4*z^3, w^2*x^2*y^4*z^3, w*x^3*y^4*z^3, x^4*y^4*z^3, w^3*y^5*z^3, w^2*x*y^5*z^3, w*x^2*y^5*z^3, x^3*y^5*z^3, w^2*y^6*z^3, w*x*y^6*z^3, x^2*y^6*z^3, w*y^7*z^3, x*y^7*z^3, y^8*z^3, w^7*z^4, w^6*x*z^4, w^5*x^2*z^4, w^4*x^3*z^4, w^3*x^4*z^4, w^2*x^5*z^4, w*x^6*z^4, x^7*z^4, w^6*y*z^4, w^5*x*y*z^4, w^4*x^2*y*z^4, w^3*x^3*y*z^4, w^2*x^4*y*z^4, w*x^5*y*z^4, x^6*y*z^4, w^5*y^2*z^4, w^4*x*y^2*z^4, w^3*x^2*y^2*z^4, w^2*x^3*y^2*z^4, w*x^4*y^2*z^4, x^5*y^2*z^4, w^4*y^3*z^4, w^3*x*y^3*z^4, w^2*x^2*y^3*z^4, w*x^3*y^3*z^4, x^4*y^3*z^4, w^3*y^4*z^4, w^2*x*y^4*z^4, w*x^2*y^4*z^4, x^3*y^4*z^4, w^2*y^5*z^4, w*x*y^5*z^4, x^2*y^5*z^4, w*y^6*z^4, x*y^6*z^4, y^7*z^4, w^6*z^5, w^5*x*z^5, w^4*x^2*z^5, w^3*x^3*z^5, w^2*x^4*z^5, w*x^5*z^5, x^6*z^5, w^5*y*z^5, w^4*x*y*z^5, w^3*x^2*y*z^5, w^2*x^3*y*z^5, w*x^4*y*z^5, x^5*y*z^5, w^4*y^2*z^5, w^3*x*y^2*z^5, w^2*x^2*y^2*z^5, w*x^3*y^2*z^5, x^4*y^2*z^5, w^3*y^3*z^5, w^2*x*y^3*z^5, w*x^2*y^3*z^5, x^3*y^3*z^5, w^2*y^4*z^5, w*x*y^4*z^5, x^2*y^4*z^5, w*y^5*z^5, x*y^5*z^5, y^6*z^5, w^5*z^6, w^4*x*z^6, w^3*x^2*z^6, w^2*x^3*z^6, w*x^4*z^6, x^5*z^6, w^4*y*z^6, w^3*x*y*z^6, w^2*x^2*y*z^6, w*x^3*y*z^6, x^4*y*z^6, w^3*y^2*z^6, w^2*x*y^2*z^6, w*x^2*y^2*z^6, x^3*y^2*z^6, w^2*y^3*z^6, w*x*y^3*z^6, x^2*y^3*z^6, w*y^4*z^6, x*y^4*z^6, y^5*z^6, w^4*z^7, w^3*x*z^7, w^2*x^2*z^7, w*x^3*z^7, x^4*z^7, w^3*y*z^7, w^2*x*y*z^7, w*x^2*y*z^7, x^3*y*z^7, w^2*y^2*z^7, w*x*y^2*z^7, x^2*y^2*z^7, w*y^3*z^7, x*y^3*z^7, y^4*z^7, w^3*z^8, w^2*x*z^8, w*x^2*z^8, x^3*z^8, w^2*y*z^8, w*x*y*z^8, x^2*y*z^8, w*y^2*z^8, x*y^2*z^8, y^3*z^8, w^2*z^9, w*x*z^9, x^2*z^9, w*y*z^9, x*y*z^9, y^2*z^9, w*z^10, x*z^10, y*z^10, z^11, w^10, w^9*x, w^8*x^2, w^7*x^3, w^6*x^4, w^5*x^5, w^4*x^6, w^3*x^7, w^2*x^8, w*x^9, x^10, w^9*y, w^8*x*y, w^7*x^2*y, w^6*x^3*y, w^5*x^4*y, w^4*x^5*y, w^3*x^6*y, w^2*x^7*y, w*x^8*y, x^9*y, w^8*y^2, w^7*x*y^2, w^6*x^2*y^2, w^5*x^3*y^2, w^4*x^4*y^2, w^3*x^5*y^2, w^2*x^6*y^2, w*x^7*y^2, x^8*y^2, w^7*y^3, w^6*x*y^3, w^5*x^2*y^3, w^4*x^3*y^3, w^3*x^4*y^3, w^2*x^5*y^3, w*x^6*y^3, x^7*y^3, w^6*y^4, w^5*x*y^4, w^4*x^2*y^4, w^3*x^3*y^4, w^2*x^4*y^4, w*x^5*y^4, x^6*y^4, w^5*y^5, w^4*x*y^5, w^3*x^2*y^5, w^2*x^3*y^5, w*x^4*y^5, x^5*y^5, w^4*y^6, w^3*x*y^6, w^2*x^2*y^6, w*x^3*y^6, x^4*y^6, w^3*y^7, w^2*x*y^7, w*x^2*y^7, x^3*y^7, w^2*y^8, w*x*y^8, x^2*y^8, w*y^9, x*y^9, y^10, w^9*z, w^8*x*z, w^7*x^2*z, w^6*x^3*z, w^5*x^4*z, w^4*x^5*z, w^3*x^6*z, w^2*x^7*z, w*x^8*z, x^9*z, w^8*y*z, w^7*x*y*z, w^6*x^2*y*z, w^5*x^3*y*z, w^4*x^4*y*z, w^3*x^5*y*z, w^2*x^6*y*z, w*x^7*y*z, x^8*y*z, w^7*y^2*z, w^6*x*y^2*z, w^5*x^2*y^2*z, w^4*x^3*y^2*z, w^3*x^4*y^2*z, w^2*x^5*y^2*z, w*x^6*y^2*z, x^7*y^2*z, w^6*y^3*z, w^5*x*y^3*z, w^4*x^2*y^3*z, w^3*x^3*y^3*z, w^2*x^4*y^3*z, w*x^5*y^3*z, x^6*y^3*z, w^5*y^4*z, w^4*x*y^4*z, w^3*x^2*y^4*z, w^2*x^3*y^4*z, w*x^4*y^4*z, x^5*y^4*z, w^4*y^5*z, w^3*x*y^5*z, w^2*x^2*y^5*z, w*x^3*y^5*z, x^4*y^5*z, w^3*y^6*z, w^2*x*y^6*z, w*x^2*y^6*z, x^3*y^6*z, w^2*y^7*z, w*x*y^7*z, x^2*y^7*z, w*y^8*z, x*y^8*z, y^9*z, w^8*z^2, w^7*x*z^2, w^6*x^2*z^2, w^5*x^3*z^2, w^4*x^4*z^2, w^3*x^5*z^2, w^2*x^6*z^2, w*x^7*z^2, x^8*z^2, w^7*y*z^2, w^6*x*y*z^2, w^5*x^2*y*z^2, w^4*x^3*y*z^2, w^3*x^4*y*z^2, w^2*x^5*y*z^2, w*x^6*y*z^2, x^7*y*z^2, w^6*y^2*z^2, w^5*x*y^2*z^2, w^4*x^2*y^2*z^2, w^3*x^3*y^2*z^2, w^2*x^4*y^2*z^2, w*x^5*y^2*z^2, x^6*y^2*z^2, w^5*y^3*z^2, w^4*x*y^3*z^2, w^3*x^2*y^3*z^2, w^2*x^3*y^3*z^2, w*x^4*y^3*z^2, x^5*y^3*z^2, w^4*y^4*z^2, w^3*x*y^4*z^2, w^2*x^2*y^4*z^2, w*x^3*y^4*z^2, x^4*y^4*z^2, w^3*y^5*z^2, w^2*x*y^5*z^2, w*x^2*y^5*z^2, x^3*y^5*z^2, w^2*y^6*z^2, w*x*y^6*z^2, x^2*y^6*z^2, w*y^7*z^2, x*y^7*z^2, y^8*z^2, w^7*z^3, w^6*x*z^3, w^5*x^2*z^3, w^4*x^3*z^3, w^3*x^4*z^3, w^2*x^5*z^3, w*x^6*z^3, x^7*z^3, w^6*y*z^3, w^5*x*y*z^3, w^4*x^2*y*z^3, w^3*x^3*y*z^3, w^2*x^4*y*z^3, w*x^5*y*z^3, x^6*y*z^3, w^5*y^2*z^3, w^4*x*y^2*z^3, w^3*x^2*y^2*z^3, w^2*x^3*y^2*z^3, w*x^4*y^2*z^3, x^5*y^2*z^3, w^4*y^3*z^3, w^3*x*y^3*z^3, w^2*x^2*y^3*z^3, w*x^3*y^3*z^3, x^4*y^3*z^3, w^3*y^4*z^3, w^2*x*y^4*z^3, w*x^2*y^4*z^3, x^3*y^4*z^3, w^2*y^5*z^3, w*x*y^5*z^3, x^2*y^5*z^3, w*y^6*z^3, x*y^6*z^3, y^7*z^3, w^6*z^4, w^5*x*z^4, w^4*x^2*z^4, w^3*x^3*z^4, w^2*x^4*z^4, w*x^5*z^4, x^6*z^4, w^5*y*z^4, w^4*x*y*z^4, w^3*x^2*y*z^4, w^2*x^3*y*z^4, w*x^4*y*z^4, x^5*y*z^4, w^4*y^2*z^4, w^3*x*y^2*z^4, w^2*x^2*y^2*z^4, w*x^3*y^2*z^4, x^4*y^2*z^4, w^3*y^3*z^4, w^2*x*y^3*z^4, w*x^2*y^3*z^4, x^3*y^3*z^4, w^2*y^4*z^4, w*x*y^4*z^4, x^2*y^4*z^4, w*y^5*z^4, x*y^5*z^4, y^6*z^4, w^5*z^5, w^4*x*z^5, w^3*x^2*z^5, w^2*x^3*z^5, w*x^4*z^5, x^5*z^5, w^4*y*z^5, w^3*x*y*z^5, w^2*x^2*y*z^5, w*x^3*y*z^5, x^4*y*z^5, w^3*y^2*z^5, w^2*x*y^2*z^5, w*x^2*y^2*z^5, x^3*y^2*z^5, w^2*y^3*z^5, w*x*y^3*z^5, x^2*y^3*z^5, w*y^4*z^5, x*y^4*z^5, y^5*z^5, w^4*z^6, w^3*x*z^6, w^2*x^2*z^6, w*x^3*z^6, x^4*z^6, w^3*y*z^6, w^2*x*y*z^6, w*x^2*y*z^6, x^3*y*z^6, w^2*y^2*z^6, w*x*y^2*z^6, x^2*y^2*z^6, w*y^3*z^6, x*y^3*z^6, y^4*z^6, w^3*z^7, w^2*x*z^7, w*x^2*z^7, x^3*z^7, w^2*y*z^7, w*x*y*z^7, x^2*y*z^7, w*y^2*z^7, x*y^2*z^7, y^3*z^7, w^2*z^8, w*x*z^8, x^2*z^8, w*y*z^8, x*y*z^8, y^2*z^8, w*z^9, x*z^9, y*z^9, z^10, w^9, w^8*x, w^7*x^2, w^6*x^3, w^5*x^4, w^4*x^5, w^3*x^6, w^2*x^7, w*x^8, x^9, w^8*y, w^7*x*y, w^6*x^2*y, w^5*x^3*y, w^4*x^4*y, w^3*x^5*y, w^2*x^6*y, w*x^7*y, x^8*y, w^7*y^2, w^6*x*y^2, w^5*x^2*y^2, w^4*x^3*y^2, w^3*x^4*y^2, w^2*x^5*y^2, w*x^6*y^2, x^7*y^2, w^6*y^3, w^5*x*y^3, w^4*x^2*y^3, w^3*x^3*y^3, w^2*x^4*y^3, w*x^5*y^3, x^6*y^3, w^5*y^4, w^4*x*y^4, w^3*x^2*y^4, w^2*x^3*y^4, w*x^4*y^4, x^5*y^4, w^4*y^5, w^3*x*y^5, w^2*x^2*y^5, w*x^3*y^5, x^4*y^5, w^3*y^6, w^2*x*y^6, w*x^2*y^6, x^3*y^6, w^2*y^7, w*x*y^7, x^2*y^7, w*y^8, x*y^8, y^9, w^8*z, w^7*x*z, w^6*x^2*z, w^5*x^3*z, w^4*x^4*z, w^3*x^5*z, w^2*x^6*z, w*x^7*z, x^8*z, w^7*y*z, w^6*x*y*z, w^5*x^2*y*z, w^4*x^3*y*z, w^3*x^4*y*z, w^2*x^5*y*z, w*x^6*y*z, x^7*y*z, w^6*y^2*z, w^5*x*y^2*z, w^4*x^2*y^2*z, w^3*x^3*y^2*z, w^2*x^4*y^2*z, w*x^5*y^2*z, x^6*y^2*z, w^5*y^3*z, w^4*x*y^3*z, w^3*x^2*y^3*z, w^2*x^3*y^3*z, w*x^4*y^3*z, x^5*y^3*z, w^4*y^4*z, w^3*x*y^4*z, w^2*x^2*y^4*z, w*x^3*y^4*z, x^4*y^4*z, w^3*y^5*z, w^2*x*y^5*z, w*x^2*y^5*z, x^3*y^5*z, w^2*y^6*z, w*x*y^6*z, x^2*y^6*z, w*y^7*z, x*y^7*z, y^8*z, w^7*z^2, w^6*x*z^2, w^5*x^2*z^2, w^4*x^3*z^2, w^3*x^4*z^2, w^2*x^5*z^2, w*x^6*z^2, x^7*z^2, w^6*y*z^2, w^5*x*y*z^2, w^4*x^2*y*z^2, w^3*x^3*y*z^2, w^2*x^4*y*z^2, w*x^5*y*z^2, x^6*y*z^2, w^5*y^2*z^2, w^4*x*y^2*z^2, w^3*x^2*y^2*z^2, w^2*x^3*y^2*z^2, w*x^4*y^2*z^2, x^5*y^2*z^2, w^4*y^3*z^2, w^3*x*y^3*z^2, w^2*x^2*y^3*z^2, w*x^3*y^3*z^2, x^4*y^3*z^2, w^3*y^4*z^2, w^2*x*y^4*z^2, w*x^2*y^4*z^2, x^3*y^4*z^2, w^2*y^5*z^2, w*x*y^5*z^2, x^2*y^5*z^2, w*y^6*z^2, x*y^6*z^2, y^7*z^2, w^6*z^3, w^5*x*z^3, w^4*x^2*z^3, w^3*x^3*z^3, w^2*x^4*z^3, w*x^5*z^3, x^6*z^3, w^5*y*z^3, w^4*x*y*z^3, w^3*x^2*y*z^3, w^2*x^3*y*z^3, w*x^4*y*z^3, x^5*y*z^3, w^4*y^2*z^3, w^3*x*y^2*z^3, w^2*x^2*y^2*z^3, w*x^3*y^2*z^3, x^4*y^2*z^3, w^3*y^3*z^3, w^2*x*y^3*z^3, w*x^2*y^3*z^3, x^3*y^3*z^3, w^2*y^4*z^3, w*x*y^4*z^3, x^2*y^4*z^3, w*y^5*z^3, x*y^5*z^3, y^6*z^3, w^5*z^4, w^4*x*z^4, w^3*x^2*z^4, w^2*x^3*z^4, w*x^4*z^4, x^5*z^4, w^4*y*z^4, w^3*x*y*z^4, w^2*x^2*y*z^4, w*x^3*y*z^4, x^4*y*z^4, w^3*y^2*z^4, w^2*x*y^2*z^4, w*x^2*y^2*z^4, x^3*y^2*z^4, w^2*y^3*z^4, w*x*y^3*z^4, x^2*y^3*z^4, w*y^4*z^4, x*y^4*z^4, y^5*z^4, w^4*z^5, w^3*x*z^5, w^2*x^2*z^5, w*x^3*z^5, x^4*z^5, w^3*y*z^5, w^2*x*y*z^5, w*x^2*y*z^5, x^3*y*z^5, w^2*y^2*z^5, w*x*y^2*z^5, x^2*y^2*z^5, w*y^3*z^5, x*y^3*z^5, y^4*z^5, w^3*z^6, w^2*x*z^6, w*x^2*z^6, x^3*z^6, w^2*y*z^6, w*x*y*z^6, x^2*y*z^6, w*y^2*z^6, x*y^2*z^6, y^3*z^6, w^2*z^7, w*x*z^7, x^2*z^7, w*y*z^7, x*y*z^7, y^2*z^7, w*z^8, x*z^8, y*z^8, z^9, w^8, w^7*x, w^6*x^2, w^5*x^3, w^4*x^4, w^3*x^5, w^2*x^6, w*x^7, x^8, w^7*y, w^6*x*y, w^5*x^2*y, w^4*x^3*y, w^3*x^4*y, w^2*x^5*y, w*x^6*y, x^7*y, w^6*y^2, w^5*x*y^2, w^4*x^2*y^2, w^3*x^3*y^2, w^2*x^4*y^2, w*x^5*y^2, x^6*y^2, w^5*y^3, w^4*x*y^3, w^3*x^2*y^3, w^2*x^3*y^3, w*x^4*y^3, x^5*y^3, w^4*y^4, w^3*x*y^4, w^2*x^2*y^4, w*x^3*y^4, x^4*y^4, w^3*y^5, w^2*x*y^5, w*x^2*y^5, x^3*y^5, w^2*y^6, w*x*y^6, x^2*y^6, w*y^7, x*y^7, y^8, w^7*z, w^6*x*z, w^5*x^2*z, w^4*x^3*z, w^3*x^4*z, w^2*x^5*z, w*x^6*z, x^7*z, w^6*y*z, w^5*x*y*z, w^4*x^2*y*z, w^3*x^3*y*z, w^2*x^4*y*z, w*x^5*y*z, x^6*y*z, w^5*y^2*z, w^4*x*y^2*z, w^3*x^2*y^2*z, w^2*x^3*y^2*z, w*x^4*y^2*z, x^5*y^2*z, w^4*y^3*z, w^3*x*y^3*z, w^2*x^2*y^3*z, w*x^3*y^3*z, x^4*y^3*z, w^3*y^4*z, w^2*x*y^4*z, w*x^2*y^4*z, x^3*y^4*z, w^2*y^5*z, w*x*y^5*z, x^2*y^5*z, w*y^6*z, x*y^6*z, y^7*z, w^6*z^2, w^5*x*z^2, w^4*x^2*z^2, w^3*x^3*z^2, w^2*x^4*z^2, w*x^5*z^2, x^6*z^2, w^5*y*z^2, w^4*x*y*z^2, w^3*x^2*y*z^2, w^2*x^3*y*z^2, w*x^4*y*z^2, x^5*y*z^2, w^4*y^2*z^2, w^3*x*y^2*z^2, w^2*x^2*y^2*z^2, w*x^3*y^2*z^2, x^4*y^2*z^2, w^3*y^3*z^2, w^2*x*y^3*z^2, w*x^2*y^3*z^2, x^3*y^3*z^2, w^2*y^4*z^2, w*x*y^4*z^2, x^2*y^4*z^2, w*y^5*z^2, x*y^5*z^2, y^6*z^2, w^5*z^3, w^4*x*z^3, w^3*x^2*z^3, w^2*x^3*z^3, w*x^4*z^3, x^5*z^3, w^4*y*z^3, w^3*x*y*z^3, w^2*x^2*y*z^3, w*x^3*y*z^3, x^4*y*z^3, w^3*y^2*z^3, w^2*x*y^2*z^3, w*x^2*y^2*z^3, x^3*y^2*z^3, w^2*y^3*z^3, w*x*y^3*z^3, x^2*y^3*z^3, w*y^4*z^3, x*y^4*z^3, y^5*z^3, w^4*z^4, w^3*x*z^4, w^2*x^2*z^4, w*x^3*z^4, x^4*z^4, w^3*y*z^4, w^2*x*y*z^4, w*x^2*y*z^4, x^3*y*z^4, w^2*y^2*z^4, w*x*y^2*z^4, x^2*y^2*z^4, w*y^3*z^4, x*y^3*z^4, y^4*z^4, w^3*z^5, w^2*x*z^5, w*x^2*z^5, x^3*z^5, w^2*y*z^5, w*x*y*z^5, x^2*y*z^5, w*y^2*z^5, x*y^2*z^5, y^3*z^5, w^2*z^6, w*x*z^6, x^2*z^6, w*y*z^6, x*y*z^6, y^2*z^6, w*z^7, x*z^7, y*z^7, z^8, w^7, w^6*x, w^5*x^2, w^4*x^3, w^3*x^4, w^2*x^5, w*x^6, x^7, w^6*y, w^5*x*y, w^4*x^2*y, w^3*x^3*y, w^2*x^4*y, w*x^5*y, x^6*y, w^5*y^2, w^4*x*y^2, w^3*x^2*y^2, w^2*x^3*y^2, w*x^4*y^2, x^5*y^2, w^4*y^3, w^3*x*y^3, w^2*x^2*y^3, w*x^3*y^3, x^4*y^3, w^3*y^4, w^2*x*y^4, w*x^2*y^4, x^3*y^4, w^2*y^5, w*x*y^5, x^2*y^5, w*y^6, x*y^6, y^7, w^6*z, w^5*x*z, w^4*x^2*z, w^3*x^3*z, w^2*x^4*z, w*x^5*z, x^6*z, w^5*y*z, w^4*x*y*z, w^3*x^2*y*z, w^2*x^3*y*z, w*x^4*y*z, x^5*y*z, w^4*y^2*z, w^3*x*y^2*z, w^2*x^2*y^2*z, w*x^3*y^2*z, x^4*y^2*z, w^3*y^3*z, w^2*x*y^3*z, w*x^2*y^3*z, x^3*y^3*z, w^2*y^4*z, w*x*y^4*z, x^2*y^4*z, w*y^5*z, x*y^5*z, y^6*z, w^5*z^2, w^4*x*z^2, w^3*x^2*z^2, w^2*x^3*z^2, w*x^4*z^2, x^5*z^2, w^4*y*z^2, w^3*x*y*z^2, w^2*x^2*y*z^2, w*x^3*y*z^2, x^4*y*z^2, w^3*y^2*z^2, w^2*x*y^2*z^2, w*x^2*y^2*z^2, x^3*y^2*z^2, w^2*y^3*z^2, w*x*y^3*z^2, x^2*y^3*z^2, w*y^4*z^2, x*y^4*z^2, y^5*z^2, w^4*z^3, w^3*x*z^3, w^2*x^2*z^3, w*x^3*z^3, x^4*z^3, w^3*y*z^3, w^2*x*y*z^3, w*x^2*y*z^3, x^3*y*z^3, w^2*y^2*z^3, w*x*y^2*z^3, x^2*y^2*z^3, w*y^3*z^3, x*y^3*z^3, y^4*z^3, w^3*z^4, w^2*x*z^4, w*x^2*z^4, x^3*z^4, w^2*y*z^4, w*x*y*z^4, x^2*y*z^4, w*y^2*z^4, x*y^2*z^4, y^3*z^4, w^2*z^5, w*x*z^5, x^2*z^5, w*y*z^5, x*y*z^5, y^2*z^5, w*z^6, x*z^6, y*z^6, z^7, w^6, w^5*x, w^4*x^2, w^3*x^3, w^2*x^4, w*x^5, x^6, w^5*y, w^4*x*y, w^3*x^2*y, w^2*x^3*y, w*x^4*y, x^5*y, w^4*y^2, w^3*x*y^2, w^2*x^2*y^2, w*x^3*y^2, x^4*y^2, w^3*y^3, w^2*x*y^3, w*x^2*y^3, x^3*y^3, w^2*y^4, w*x*y^4, x^2*y^4, w*y^5, x*y^5, y^6, w^5*z, w^4*x*z, w^3*x^2*z, w^2*x^3*z, w*x^4*z, x^5*z, w^4*y*z, w^3*x*y*z, w^2*x^2*y*z, w*x^3*y*z, x^4*y*z, w^3*y^2*z, w^2*x*y^2*z, w*x^2*y^2*z, x^3*y^2*z, w^2*y^3*z, w*x*y^3*z, x^2*y^3*z, w*y^4*z, x*y^4*z, y^5*z, w^4*z^2, w^3*x*z^2, w^2*x^2*z^2, w*x^3*z^2, x^4*z^2, w^3*y*z^2, w^2*x*y*z^2, w*x^2*y*z^2, x^3*y*z^2, w^2*y^2*z^2, w*x*y^2*z^2, x^2*y^2*z^2, w*y^3*z^2, x*y^3*z^2, y^4*z^2, w^3*z^3, w^2*x*z^3, w*x^2*z^3, x^3*z^3, w^2*y*z^3, w*x*y*z^3, x^2*y*z^3, w*y^2*z^3, x*y^2*z^3, y^3*z^3, w^2*z^4, w*x*z^4, x^2*z^4, w*y*z^4, x*y*z^4, y^2*z^4, w*z^5, x*z^5, y*z^5, z^6, w^5, w^4*x, w^3*x^2, w^2*x^3, w*x^4, x^5, w^4*y, w^3*x*y, w^2*x^2*y, w*x^3*y, x^4*y, w^3*y^2, w^2*x*y^2, w*x^2*y^2, x^3*y^2, w^2*y^3, w*x*y^3, x^2*y^3, w*y^4, x*y^4, y^5, w^4*z, w^3*x*z, w^2*x^2*z, w*x^3*z, x^4*z, w^3*y*z, w^2*x*y*z, w*x^2*y*z, x^3*y*z, w^2*y^2*z, w*x*y^2*z, x^2*y^2*z, w*y^3*z, x*y^3*z, y^4*z, w^3*z^2, w^2*x*z^2, w*x^2*z^2, x^3*z^2, w^2*y*z^2, w*x*y*z^2, x^2*y*z^2, w*y^2*z^2, x*y^2*z^2, y^3*z^2, w^2*z^3, w*x*z^3, x^2*z^3, w*y*z^3, x*y*z^3, y^2*z^3, w*z^4, x*z^4, y*z^4, z^5, w^4, w^3*x, w^2*x^2, w*x^3, x^4, w^3*y, w^2*x*y, w*x^2*y, x^3*y, w^2*y^2, w*x*y^2, x^2*y^2, w*y^3, x*y^3, y^4, w^3*z, w^2*x*z, w*x^2*z, x^3*z, w^2*y*z, w*x*y*z, x^2*y*z, w*y^2*z, x*y^2*z, y^3*z, w^2*z^2, w*x*z^2, x^2*z^2, w*y*z^2, x*y*z^2, y^2*z^2, w*z^3, x*z^3, y*z^3, z^4, w^3, w^2*x, w*x^2, x^3, w^2*y, w*x*y, x^2*y, w*y^2, x*y^2, y^3, w^2*z, w*x*z, x^2*z, w*y*z, x*y*z, y^2*z, w*z^2, x*z^2, y*z^2, z^3, w^2, w*x, x^2, w*y, x*y, y^2, w*z, x*z, y*z, z^2, w, x, y, z, 1]\n"
     ]
    },
    {
     "name": "stdout",
     "output_type": "stream",
     "text": [
      "[w, x, y, z, 1]\n",
      "[w^2, w*x, x^2, w*y, x*y, y^2, w*z, x*z, y*z, z^2, w, x, y, z, 1]\n",
      "[w^3, w^2*x, w*x^2, x^3, w^2*y, w*x*y, x^2*y, w*y^2, x*y^2, y^3, w^2*z, w*x*z, x^2*z, w*y*z, x*y*z, y^2*z, w*z^2, x*z^2, y*z^2, z^3, w^2, w*x, x^2, w*y, x*y, y^2, w*z, x*z, y*z, z^2, w, x, y, z, 1]\n",
      "[w, x, y, z, 1]\n",
      "[w^2, w*x, x^2, w*y, x*y, y^2, w*z, x*z, y*z, z^2, w, x, y, z, 1]\n",
      "[w^3, w^2*x, w*x^2, x^3, w^2*y, w*x*y, x^2*y, w*y^2, x*y^2, y^3, w^2*z, w*x*z, x^2*z, w*y*z, x*y*z, y^2*z, w*z^2, x*z^2, y*z^2, z^3, w^2, w*x, x^2, w*y, x*y, y^2, w*z, x*z, y*z, z^2, w, x, y, z, 1]\n"
     ]
    },
    {
     "data": {
      "text/plain": [
       "11"
      ]
     },
     "execution_count": 538,
     "metadata": {},
     "output_type": "execute_result"
    }
   ],
   "source": [
    "lfd([f1,f2,f3,f4],R) # took forever to run but confirms that last fall degree is 11"
   ]
  },
  {
   "cell_type": "code",
   "execution_count": 21,
   "metadata": {},
   "outputs": [],
   "source": [
    "# Modified version to compute the solving degree per Caminata and Gorla, 2023\n",
    "def sdeg(f, ring):\n",
    "    d = 0\n",
    "    while True:\n",
    "        d_level_base = []\n",
    "        mons = get_mons(d, ring)\n",
    "        M = mac_matrix(f, d, ring)\n",
    "        done = False\n",
    "        while not done:\n",
    "            rowsp = M.row_space()\n",
    "            to_be_added = []\n",
    "            for row in M.rref().rows():\n",
    "                g = 0\n",
    "                for (coeff, mon) in zip(row, mons):\n",
    "                    g += coeff * mon\n",
    "                max_test_deg = d - g.degree()\n",
    "                if (g != 0) and (max_test_deg > 0):\n",
    "                    for mon in get_mons(max_test_deg, ring):\n",
    "                        test_p = mon*g\n",
    "                        test_vec = vector([test_p.monomial_coefficient(moon) for moon in mons])\n",
    "                        if test_vec not in rowsp:\n",
    "                            to_be_added.append(test_vec)\n",
    "            if to_be_added == []:\n",
    "                done = True\n",
    "                for row in M.rref().rows():\n",
    "                    g = 0\n",
    "                    for (coeff, mon) in zip(row, mons):\n",
    "                        g += coeff * mon\n",
    "                    if g != 0:\n",
    "                        d_level_base.append(g)\n",
    "                if d_level_base == []:\n",
    "                    d_level_base = [ring(0)]\n",
    "                check_1 = Sequence(d_level_base).is_groebner()\n",
    "                check_2 = (ideal(d_level_base) == ideal(f))\n",
    "                print(d, Sequence(d_level_base), check_1, check_2)\n",
    "                if check_1 and check_2:\n",
    "                    return (d, Sequence(d_level_base))\n",
    "                d += 1\n",
    "            else:\n",
    "                new_rows = M.rows() + to_be_added\n",
    "                M = Matrix(new_rows)"
   ]
  },
  {
   "cell_type": "code",
   "execution_count": 563,
   "metadata": {},
   "outputs": [
    {
     "data": {
      "text/plain": [
       "[x^7, z^4, y^3]"
      ]
     },
     "execution_count": 563,
     "metadata": {},
     "output_type": "execute_result"
    }
   ],
   "source": [
    "R.<x,y,z> = PolynomialRing(QQ, order = \"degrevlex\")\n",
    "f1 = x^(7) + x*y^(6)\n",
    "f2 = y^3\n",
    "f3 = z^4\n",
    "I = Ideal(f1,f2,f3)\n",
    "I.groebner_basis()"
   ]
  },
  {
   "cell_type": "code",
   "execution_count": 571,
   "metadata": {},
   "outputs": [
    {
     "name": "stdout",
     "output_type": "stream",
     "text": [
      "[x^7, z^4, y^3]\n",
      "\n",
      "\n",
      "x^7\n",
      "7\n",
      "\n",
      "\n",
      "z^4\n",
      "4\n",
      "\n",
      "\n",
      "y^3\n",
      "3\n"
     ]
    },
    {
     "data": {
      "text/plain": [
       "0"
      ]
     },
     "execution_count": 571,
     "metadata": {},
     "output_type": "execute_result"
    }
   ],
   "source": [
    "lfd([f1,f2,f3], R)"
   ]
  },
  {
   "cell_type": "code",
   "execution_count": 160,
   "metadata": {},
   "outputs": [
    {
     "data": {
      "text/plain": [
       "[y^6 - 1, y^2*z - y^2 - x*z + y*z - 3*x + 2*y + z - 1, x^2 - y^2 + 2*y*z - 2*x + 3*y - 3*z + 3, x*y + y^2 - x*z - 2*y*z + 3*x - 3*y + 3*z - 3, z^2 + 2*x + 2*y - 2*z + 1]"
      ]
     },
     "execution_count": 160,
     "metadata": {},
     "output_type": "execute_result"
    }
   ],
   "source": [
    "# Example from Minko's Thesis\n",
    "R.<x,y,z> = PolynomialRing(GF(7), order = 'degrevlex')\n",
    "f1 = x^5 + y^5 + z^5 - 1\n",
    "f2 = x^3 + y^3 + z^2 - 1\n",
    "f3 = y^6 - 1\n",
    "f4 = z^6 - 1\n",
    "f_list = [f1*f1*f1, f1*f1*f2, f1*f1*f3, f1*f1*f4, f1*f2*f2, f1*f2*f3, f1*f2*f4, f1*f3*f3, f1*f3*f4, f1*f4*f4, f2*f2*f2, f2*f2*f3, f2*f2*f4, f2*f3*f3, f2*f3*f4, f2*f4*f4, f3*f3*f3, f3*f3*f4, f3*f4*f4, f4*f4*f4, x^7 - x, y^7 - y, z^7 - z]\n",
    "I = Ideal(f_list)\n",
    "I.groebner_basis()"
   ]
  },
  {
   "cell_type": "code",
   "execution_count": 162,
   "metadata": {},
   "outputs": [
    {
     "name": "stdout",
     "output_type": "stream",
     "text": [
      "0 [0] True False\n",
      "1 [0] True False\n",
      "2 [0] True False\n",
      "3 [0] True False\n",
      "4 [0] True False\n",
      "5 [0] True False\n",
      "6 [0] True False\n",
      "7 [x^7 - x, y^7 - y, z^7 - z] True False\n",
      "8 [x^8 - x^2, x^7*y - x*y, x*y^7 - x*y, y^8 - y^2, x^7*z - x*z, y^7*z - y*z, x*z^7 - x*z, y*z^7 - y*z, z^8 - z^2, x^7 - x, y^7 - y, z^7 - z] True False\n",
      "9 Polynomial Sequence with 31 Polynomials in 3 Variables False False\n",
      "10 Polynomial Sequence with 64 Polynomials in 3 Variables False False\n",
      "11 Polynomial Sequence with 119 Polynomials in 3 Variables False False\n",
      "12 Polynomial Sequence with 399 Polynomials in 3 Variables True False\n",
      "13 Polynomial Sequence with 504 Polynomials in 3 Variables True False\n",
      "14 Polynomial Sequence with 624 Polynomials in 3 Variables True False\n",
      "15 Polynomial Sequence with 801 Polynomials in 3 Variables True False\n",
      "16 Polynomial Sequence with 954 Polynomials in 3 Variables True False\n",
      "17 Polynomial Sequence with 1125 Polynomials in 3 Variables True False\n",
      "18 Polynomial Sequence with 1320 Polynomials in 3 Variables True True\n"
     ]
    },
    {
     "data": {
      "text/plain": [
       "(18, Polynomial Sequence with 1320 Polynomials in 3 Variables)"
      ]
     },
     "execution_count": 162,
     "metadata": {},
     "output_type": "execute_result"
    }
   ],
   "source": [
    "sdeg(f_list, R)"
   ]
  },
  {
   "cell_type": "code",
   "execution_count": 120,
   "metadata": {},
   "outputs": [
    {
     "data": {
      "text/plain": [
       "22"
      ]
     },
     "execution_count": 120,
     "metadata": {},
     "output_type": "execute_result"
    }
   ],
   "source": [
    "S.<x,y,z,h> = PolynomialRing(GF(7), order = \"degrevlex\")\n",
    "h_list = [f.homogenize() for f in f_list]\n",
    "J = ideal(h_list)\n",
    "in_gens = [p.lt() for p in J.groebner_basis()]\n",
    "N = ideal(in_gens)\n",
    "len(N._singular_().mres(0).betti())/5"
   ]
  },
  {
   "cell_type": "code",
   "execution_count": 156,
   "metadata": {},
   "outputs": [
    {
     "data": {
      "text/plain": [
       "22"
      ]
     },
     "execution_count": 156,
     "metadata": {},
     "output_type": "execute_result"
    }
   ],
   "source": [
    "Fh_res = J._singular_().mres(0)\n",
    "len(Fh_res.betti())/5"
   ]
  },
  {
   "cell_type": "code",
   "execution_count": 159,
   "metadata": {},
   "outputs": [
    {
     "data": {
      "text/plain": [
       "10"
      ]
     },
     "execution_count": 159,
     "metadata": {},
     "output_type": "execute_result"
    }
   ],
   "source": [
    "J.hilbert_polynomial()"
   ]
  },
  {
   "cell_type": "code",
   "execution_count": 154,
   "metadata": {},
   "outputs": [
    {
     "data": {
      "text/plain": [
       "(3*t^16 + 7*t^15 + 13*t^14 + 19*t^13 + 26*t^12 + 33*t^11 + 36*t^10 + 37*t^9 + 36*t^8 + 33*t^7 + 28*t^6 + 21*t^5 + 15*t^4 + 10*t^3 + 6*t^2 + 3*t + 1)/(-t + 1)"
      ]
     },
     "execution_count": 154,
     "metadata": {},
     "output_type": "execute_result"
    }
   ],
   "source": [
    "hilbert_poincare_series(J)"
   ]
  },
  {
   "cell_type": "code",
   "execution_count": 155,
   "metadata": {},
   "outputs": [
    {
     "data": {
      "text/plain": [
       "1"
      ]
     },
     "execution_count": 155,
     "metadata": {},
     "output_type": "execute_result"
    }
   ],
   "source": [
    "J.dimension()"
   ]
  },
  {
   "cell_type": "code",
   "execution_count": 10,
   "metadata": {},
   "outputs": [
    {
     "data": {
      "text/plain": [
       "[y*z^2, z^3, x^2, x*y, x*z + z^2]"
      ]
     },
     "execution_count": 10,
     "metadata": {},
     "output_type": "execute_result"
    }
   ],
   "source": [
    "R.<x,y,z> = PolynomialRing(QQ, order = \"degrevlex\")\n",
    "Ideal(x^2, x*y, x*z + z^2).groebner_basis()"
   ]
  },
  {
   "cell_type": "code",
   "execution_count": 19,
   "metadata": {},
   "outputs": [],
   "source": [
    "R.<x,y,t> = PolynomialRing(QQ, order = 'degrevlex')\n",
    "J = ideal(x-t,y-2*t)\n",
    "M = ideal(x,y,t)\n",
    "C = J.saturation(M)[0]"
   ]
  },
  {
   "cell_type": "code",
   "execution_count": 20,
   "metadata": {},
   "outputs": [
    {
     "name": "stdout",
     "output_type": "stream",
     "text": [
      "Ideal (y - 2*t, x - t) of Multivariate Polynomial Ring in x, y, t over Rational Field False\n"
     ]
    }
   ],
   "source": [
    "for P in C.associated_primes():\n",
    "    print(P, t in P)"
   ]
  },
  {
   "cell_type": "code",
   "execution_count": 21,
   "metadata": {},
   "outputs": [
    {
     "data": {
      "text/plain": [
       "True"
      ]
     },
     "execution_count": 21,
     "metadata": {},
     "output_type": "execute_result"
    }
   ],
   "source": [
    "C.is_prime()"
   ]
  },
  {
   "cell_type": "code",
   "execution_count": 122,
   "metadata": {},
   "outputs": [
    {
     "data": {
      "text/plain": [
       "[y^6 - 1, y^2*z - y^2 - x*z + y*z - 3*x + 2*y + z - 1, x^2 - y^2 + 2*y*z - 2*x + 3*y - 3*z + 3, x*y + y^2 - x*z - 2*y*z + 3*x - 3*y + 3*z - 3, z^2 + 2*x + 2*y - 2*z + 1]"
      ]
     },
     "execution_count": 122,
     "metadata": {},
     "output_type": "execute_result"
    }
   ],
   "source": [
    "# Example from Minko's Thesis\n",
    "R.<x,y,z> = PolynomialRing(GF(7), order = 'degrevlex')\n",
    "f1 = x^5 + y^5 + z^5 - 1\n",
    "f2 = x^3 + y^3 + z^2 - 1\n",
    "f3 = y^6 - 1\n",
    "f4 = z^6 - 1\n",
    "f_list = [f1*f1*f1, f1*f1*f2, f1*f1*f3, f1*f1*f4, f1*f2*f2, f1*f2*f3, f1*f2*f4, f1*f3*f3, f1*f3*f4, f1*f4*f4, f2*f2*f2, f2*f2*f3, f2*f2*f4, f2*f3*f3, f2*f3*f4, f2*f4*f4, f3*f3*f3, f3*f3*f4, f3*f4*f4, f4*f4*f4, x^7 - x, y^7 - y, z^7 - z]\n",
    "I = Ideal(f_list)\n",
    "I.groebner_basis()"
   ]
  },
  {
   "cell_type": "code",
   "execution_count": 67,
   "metadata": {},
   "outputs": [
    {
     "data": {
      "text/plain": [
       "Ideal (x^15 + 3*x^10*y^5 + 3*x^5*y^10 + y^15 + 3*x^10*z^5 + 6*x^5*y^5*z^5 + 3*y^10*z^5 + 3*x^5*z^10 + 3*y^5*z^10 + z^15 - 3*x^10*h^5 - 6*x^5*y^5*h^5 - 3*y^10*h^5 - 6*x^5*z^5*h^5 - 6*y^5*z^5*h^5 - 3*z^10*h^5 + 3*x^5*h^10 + 3*y^5*h^10 + 3*z^5*h^10 - h^15, x^13 + x^10*y^3 + 2*x^8*y^5 + 2*x^5*y^8 + x^3*y^10 + y^13 + 2*x^8*z^5 + 2*x^5*y^3*z^5 + 2*x^3*y^5*z^5 + 2*y^8*z^5 + x^3*z^10 + y^3*z^10 + x^10*z^2*h + 2*x^5*y^5*z^2*h + y^10*z^2*h + 2*x^5*z^7*h + 2*y^5*z^7*h + z^12*h - x^10*h^3 - 2*x^5*y^5*h^3 - y^10*h^3 - 2*x^5*z^5*h^3 - 2*y^5*z^5*h^3 - z^10*h^3 - 2*x^8*h^5 - 2*x^5*y^3*h^5 - 2*x^3*y^5*h^5 - 2*y^8*h^5 - 2*x^3*z^5*h^5 - 2*y^3*z^5*h^5 - 2*x^5*z^2*h^6 - 2*y^5*z^2*h^6 - 2*z^7*h^6 + 2*x^5*h^8 + 2*y^5*h^8 + 2*z^5*h^8 + x^3*h^10 + y^3*h^10 + z^2*h^11 - h^13, x^10*y^6 + 2*x^5*y^11 + y^16 + 2*x^5*y^6*z^5 + 2*y^11*z^5 + y^6*z^10 - 2*x^5*y^6*h^5 - 2*y^11*h^5 - 2*y^6*z^5*h^5 - x^10*h^6 - 2*x^5*y^5*h^6 - y^10*h^6 - 2*x^5*z^5*h^6 - 2*y^5*z^5*h^6 - z^10*h^6 + y^6*h^10 + 2*x^5*h^11 + 2*y^5*h^11 + 2*z^5*h^11 - h^16, x^10*z^6 + 2*x^5*y^5*z^6 + y^10*z^6 + 2*x^5*z^11 + 2*y^5*z^11 + z^16 - 2*x^5*z^6*h^5 - 2*y^5*z^6*h^5 - 2*z^11*h^5 - x^10*h^6 - 2*x^5*y^5*h^6 - y^10*h^6 - 2*x^5*z^5*h^6 - 2*y^5*z^5*h^6 - z^10*h^6 + z^6*h^10 + 2*x^5*h^11 + 2*y^5*h^11 + 2*z^5*h^11 - h^16, x^11 + 2*x^8*y^3 + x^6*y^5 + x^5*y^6 + 2*x^3*y^8 + y^11 + x^6*z^5 + 2*x^3*y^3*z^5 + y^6*z^5 + 2*x^8*z^2*h + 2*x^5*y^3*z^2*h + 2*x^3*y^5*z^2*h + 2*y^8*z^2*h + 2*x^3*z^7*h + 2*y^3*z^7*h + x^5*z^4*h^2 + y^5*z^4*h^2 + z^9*h^2 - 2*x^8*h^3 - 2*x^5*y^3*h^3 - 2*x^3*y^5*h^3 - 2*y^8*h^3 - 2*x^3*z^5*h^3 - 2*y^3*z^5*h^3 - 2*x^5*z^2*h^4 - 2*y^5*z^2*h^4 - 2*z^7*h^4 - x^6*h^5 - 2*x^3*y^3*h^5 - y^6*h^5 + x^5*h^6 + y^5*h^6 - 2*x^3*z^2*h^6 - 2*y^3*z^2*h^6 + z^5*h^6 - z^4*h^7 + 2*x^3*h^8 + 2*y^3*h^8 + 2*z^2*h^9 - h^11, x^8*y^6 + x^5*y^9 + x^3*y^11 + y^14 + x^3*y^6*z^5 + y^9*z^5 + x^5*y^6*z^2*h + y^11*z^2*h + y^6*z^7*h - x^5*y^6*h^3 - y^11*h^3 - y^6*z^5*h^3 - x^3*y^6*h^5 - y^9*h^5 - x^8*h^6 - x^5*y^3*h^6 - x^3*y^5*h^6 - y^8*h^6 - y^6*z^2*h^6 - x^3*z^5*h^6 - y^3*z^5*h^6 - x^5*z^2*h^7 - y^5*z^2*h^7 - z^7*h^7 + y^6*h^8 + x^5*h^9 + y^5*h^9 + z^5*h^9 + x^3*h^11 + y^3*h^11 + z^2*h^12 - h^14, x^8*z^6 + x^5*y^3*z^6 + x^3*y^5*z^6 + y^8*z^6 + x^3*z^11 + y^3*z^11 + x^5*z^8*h + y^5*z^8*h + z^13*h - x^5*z^6*h^3 - y^5*z^6*h^3 - z^11*h^3 - x^3*z^6*h^5 - y^3*z^6*h^5 - x^8*h^6 - x^5*y^3*h^6 - x^3*y^5*h^6 - y^8*h^6 - x^3*z^5*h^6 - y^3*z^5*h^6 - z^8*h^6 - x^5*z^2*h^7 - y^5*z^2*h^7 - z^7*h^7 + z^6*h^8 + x^5*h^9 + y^5*h^9 + z^5*h^9 + x^3*h^11 + y^3*h^11 + z^2*h^12 - h^14, x^5*y^12 + y^17 + y^12*z^5 - y^12*h^5 - 2*x^5*y^6*h^6 - 2*y^11*h^6 - 2*y^6*z^5*h^6 + 2*y^6*h^11 + x^5*h^12 + y^5*h^12 + z^5*h^12 - h^17, x^5*y^6*z^6 + y^11*z^6 + y^6*z^11 - y^6*z^6*h^5 - x^5*y^6*h^6 - y^11*h^6 - y^6*z^5*h^6 - x^5*z^6*h^6 - y^5*z^6*h^6 - z^11*h^6 + y^6*h^11 + z^6*h^11 + x^5*h^12 + y^5*h^12 + z^5*h^12 - h^17, x^5*z^12 + y^5*z^12 + z^17 - z^12*h^5 - 2*x^5*z^6*h^6 - 2*y^5*z^6*h^6 - 2*z^11*h^6 + 2*z^6*h^11 + x^5*h^12 + y^5*h^12 + z^5*h^12 - h^17, x^9 + 3*x^6*y^3 + 3*x^3*y^6 + y^9 + 3*x^6*z^2*h + 6*x^3*y^3*z^2*h + 3*y^6*z^2*h + 3*x^3*z^4*h^2 + 3*y^3*z^4*h^2 - 3*x^6*h^3 - 6*x^3*y^3*h^3 - 3*y^6*h^3 + z^6*h^3 - 6*x^3*z^2*h^4 - 6*y^3*z^2*h^4 - 3*z^4*h^5 + 3*x^3*h^6 + 3*y^3*h^6 + 3*z^2*h^7 - h^9, x^6*y^6 + 2*x^3*y^9 + y^12 + 2*x^3*y^6*z^2*h + 2*y^9*z^2*h + y^6*z^4*h^2 - 2*x^3*y^6*h^3 - 2*y^9*h^3 - 2*y^6*z^2*h^4 - x^6*h^6 - 2*x^3*y^3*h^6 - 2*x^3*z^2*h^7 - 2*y^3*z^2*h^7 - z^4*h^8 + 2*x^3*h^9 + 2*y^3*h^9 + 2*z^2*h^10 - h^12, x^6*z^6 + 2*x^3*y^3*z^6 + y^6*z^6 + 2*x^3*z^8*h + 2*y^3*z^8*h + z^10*h^2 - 2*x^3*z^6*h^3 - 2*y^3*z^6*h^3 - 2*z^8*h^4 - x^6*h^6 - 2*x^3*y^3*h^6 - y^6*h^6 + z^6*h^6 - 2*x^3*z^2*h^7 - 2*y^3*z^2*h^7 - z^4*h^8 + 2*x^3*h^9 + 2*y^3*h^9 + 2*z^2*h^10 - h^12, x^3*y^12 + y^15 + y^12*z^2*h - y^12*h^3 - 2*x^3*y^6*h^6 - 2*y^9*h^6 - 2*y^6*z^2*h^7 + 2*y^6*h^9 + x^3*h^12 + y^3*h^12 + z^2*h^13 - h^15, x^3*y^6*z^6 + y^9*z^6 + y^6*z^8*h - y^6*z^6*h^3 - x^3*y^6*h^6 - y^9*h^6 - x^3*z^6*h^6 - y^3*z^6*h^6 - y^6*z^2*h^7 - z^8*h^7 + y^6*h^9 + z^6*h^9 + x^3*h^12 + y^3*h^12 + z^2*h^13 - h^15, x^3*z^12 + y^3*z^12 + z^14*h - z^12*h^3 - 2*x^3*z^6*h^6 - 2*y^3*z^6*h^6 - 2*z^8*h^7 + 2*z^6*h^9 + x^3*h^12 + y^3*h^12 + z^2*h^13 - h^15, y^18 - 3*y^12*h^6 + 3*y^6*h^12 - h^18, y^12*z^6 - y^12*h^6 - 2*y^6*z^6*h^6 + 2*y^6*h^12 + z^6*h^12 - h^18, y^6*z^12 - 2*y^6*z^6*h^6 - z^12*h^6 + y^6*h^12 + 2*z^6*h^12 - h^18, z^18 - 3*z^12*h^6 + 3*z^6*h^12 - h^18, x^7 - x*h^6, y^7 - y*h^6, z^7 - z*h^6) of Multivariate Polynomial Ring in x, y, z, h over Rational Field"
      ]
     },
     "execution_count": 67,
     "metadata": {},
     "output_type": "execute_result"
    }
   ],
   "source": [
    "I.homogenize()"
   ]
  },
  {
   "cell_type": "code",
   "execution_count": 69,
   "metadata": {},
   "outputs": [
    {
     "data": {
      "text/plain": [
       "Ideal (x^15 + 3*x^10*y^5 + 3*x^5*y^10 + y^15 + 3*x^10*z^5 + 6*x^5*y^5*z^5 + 3*y^10*z^5 + 3*x^5*z^10 + 3*y^5*z^10 + z^15 - 3*x^10*h^5 - 6*x^5*y^5*h^5 - 3*y^10*h^5 - 6*x^5*z^5*h^5 - 6*y^5*z^5*h^5 - 3*z^10*h^5 + 3*x^5*h^10 + 3*y^5*h^10 + 3*z^5*h^10 - h^15, x^13 + x^10*y^3 + 2*x^8*y^5 + 2*x^5*y^8 + x^3*y^10 + y^13 + 2*x^8*z^5 + 2*x^5*y^3*z^5 + 2*x^3*y^5*z^5 + 2*y^8*z^5 + x^3*z^10 + y^3*z^10 + x^10*z^2*h + 2*x^5*y^5*z^2*h + y^10*z^2*h + 2*x^5*z^7*h + 2*y^5*z^7*h + z^12*h - x^10*h^3 - 2*x^5*y^5*h^3 - y^10*h^3 - 2*x^5*z^5*h^3 - 2*y^5*z^5*h^3 - z^10*h^3 - 2*x^8*h^5 - 2*x^5*y^3*h^5 - 2*x^3*y^5*h^5 - 2*y^8*h^5 - 2*x^3*z^5*h^5 - 2*y^3*z^5*h^5 - 2*x^5*z^2*h^6 - 2*y^5*z^2*h^6 - 2*z^7*h^6 + 2*x^5*h^8 + 2*y^5*h^8 + 2*z^5*h^8 + x^3*h^10 + y^3*h^10 + z^2*h^11 - h^13, x^10*y^6 + 2*x^5*y^11 + y^16 + 2*x^5*y^6*z^5 + 2*y^11*z^5 + y^6*z^10 - 2*x^5*y^6*h^5 - 2*y^11*h^5 - 2*y^6*z^5*h^5 - x^10*h^6 - 2*x^5*y^5*h^6 - y^10*h^6 - 2*x^5*z^5*h^6 - 2*y^5*z^5*h^6 - z^10*h^6 + y^6*h^10 + 2*x^5*h^11 + 2*y^5*h^11 + 2*z^5*h^11 - h^16, x^10*z^6 + 2*x^5*y^5*z^6 + y^10*z^6 + 2*x^5*z^11 + 2*y^5*z^11 + z^16 - 2*x^5*z^6*h^5 - 2*y^5*z^6*h^5 - 2*z^11*h^5 - x^10*h^6 - 2*x^5*y^5*h^6 - y^10*h^6 - 2*x^5*z^5*h^6 - 2*y^5*z^5*h^6 - z^10*h^6 + z^6*h^10 + 2*x^5*h^11 + 2*y^5*h^11 + 2*z^5*h^11 - h^16, x^11 + 2*x^8*y^3 + x^6*y^5 + x^5*y^6 + 2*x^3*y^8 + y^11 + x^6*z^5 + 2*x^3*y^3*z^5 + y^6*z^5 + 2*x^8*z^2*h + 2*x^5*y^3*z^2*h + 2*x^3*y^5*z^2*h + 2*y^8*z^2*h + 2*x^3*z^7*h + 2*y^3*z^7*h + x^5*z^4*h^2 + y^5*z^4*h^2 + z^9*h^2 - 2*x^8*h^3 - 2*x^5*y^3*h^3 - 2*x^3*y^5*h^3 - 2*y^8*h^3 - 2*x^3*z^5*h^3 - 2*y^3*z^5*h^3 - 2*x^5*z^2*h^4 - 2*y^5*z^2*h^4 - 2*z^7*h^4 - x^6*h^5 - 2*x^3*y^3*h^5 - y^6*h^5 + x^5*h^6 + y^5*h^6 - 2*x^3*z^2*h^6 - 2*y^3*z^2*h^6 + z^5*h^6 - z^4*h^7 + 2*x^3*h^8 + 2*y^3*h^8 + 2*z^2*h^9 - h^11, x^8*y^6 + x^5*y^9 + x^3*y^11 + y^14 + x^3*y^6*z^5 + y^9*z^5 + x^5*y^6*z^2*h + y^11*z^2*h + y^6*z^7*h - x^5*y^6*h^3 - y^11*h^3 - y^6*z^5*h^3 - x^3*y^6*h^5 - y^9*h^5 - x^8*h^6 - x^5*y^3*h^6 - x^3*y^5*h^6 - y^8*h^6 - y^6*z^2*h^6 - x^3*z^5*h^6 - y^3*z^5*h^6 - x^5*z^2*h^7 - y^5*z^2*h^7 - z^7*h^7 + y^6*h^8 + x^5*h^9 + y^5*h^9 + z^5*h^9 + x^3*h^11 + y^3*h^11 + z^2*h^12 - h^14, x^8*z^6 + x^5*y^3*z^6 + x^3*y^5*z^6 + y^8*z^6 + x^3*z^11 + y^3*z^11 + x^5*z^8*h + y^5*z^8*h + z^13*h - x^5*z^6*h^3 - y^5*z^6*h^3 - z^11*h^3 - x^3*z^6*h^5 - y^3*z^6*h^5 - x^8*h^6 - x^5*y^3*h^6 - x^3*y^5*h^6 - y^8*h^6 - x^3*z^5*h^6 - y^3*z^5*h^6 - z^8*h^6 - x^5*z^2*h^7 - y^5*z^2*h^7 - z^7*h^7 + z^6*h^8 + x^5*h^9 + y^5*h^9 + z^5*h^9 + x^3*h^11 + y^3*h^11 + z^2*h^12 - h^14, x^5*y^12 + y^17 + y^12*z^5 - y^12*h^5 - 2*x^5*y^6*h^6 - 2*y^11*h^6 - 2*y^6*z^5*h^6 + 2*y^6*h^11 + x^5*h^12 + y^5*h^12 + z^5*h^12 - h^17, x^5*y^6*z^6 + y^11*z^6 + y^6*z^11 - y^6*z^6*h^5 - x^5*y^6*h^6 - y^11*h^6 - y^6*z^5*h^6 - x^5*z^6*h^6 - y^5*z^6*h^6 - z^11*h^6 + y^6*h^11 + z^6*h^11 + x^5*h^12 + y^5*h^12 + z^5*h^12 - h^17, x^5*z^12 + y^5*z^12 + z^17 - z^12*h^5 - 2*x^5*z^6*h^6 - 2*y^5*z^6*h^6 - 2*z^11*h^6 + 2*z^6*h^11 + x^5*h^12 + y^5*h^12 + z^5*h^12 - h^17, x^9 + 3*x^6*y^3 + 3*x^3*y^6 + y^9 + 3*x^6*z^2*h + 6*x^3*y^3*z^2*h + 3*y^6*z^2*h + 3*x^3*z^4*h^2 + 3*y^3*z^4*h^2 - 3*x^6*h^3 - 6*x^3*y^3*h^3 - 3*y^6*h^3 + z^6*h^3 - 6*x^3*z^2*h^4 - 6*y^3*z^2*h^4 - 3*z^4*h^5 + 3*x^3*h^6 + 3*y^3*h^6 + 3*z^2*h^7 - h^9, x^6*y^6 + 2*x^3*y^9 + y^12 + 2*x^3*y^6*z^2*h + 2*y^9*z^2*h + y^6*z^4*h^2 - 2*x^3*y^6*h^3 - 2*y^9*h^3 - 2*y^6*z^2*h^4 - x^6*h^6 - 2*x^3*y^3*h^6 - 2*x^3*z^2*h^7 - 2*y^3*z^2*h^7 - z^4*h^8 + 2*x^3*h^9 + 2*y^3*h^9 + 2*z^2*h^10 - h^12, x^6*z^6 + 2*x^3*y^3*z^6 + y^6*z^6 + 2*x^3*z^8*h + 2*y^3*z^8*h + z^10*h^2 - 2*x^3*z^6*h^3 - 2*y^3*z^6*h^3 - 2*z^8*h^4 - x^6*h^6 - 2*x^3*y^3*h^6 - y^6*h^6 + z^6*h^6 - 2*x^3*z^2*h^7 - 2*y^3*z^2*h^7 - z^4*h^8 + 2*x^3*h^9 + 2*y^3*h^9 + 2*z^2*h^10 - h^12, x^3*y^12 + y^15 + y^12*z^2*h - y^12*h^3 - 2*x^3*y^6*h^6 - 2*y^9*h^6 - 2*y^6*z^2*h^7 + 2*y^6*h^9 + x^3*h^12 + y^3*h^12 + z^2*h^13 - h^15, x^3*y^6*z^6 + y^9*z^6 + y^6*z^8*h - y^6*z^6*h^3 - x^3*y^6*h^6 - y^9*h^6 - x^3*z^6*h^6 - y^3*z^6*h^6 - y^6*z^2*h^7 - z^8*h^7 + y^6*h^9 + z^6*h^9 + x^3*h^12 + y^3*h^12 + z^2*h^13 - h^15, x^3*z^12 + y^3*z^12 + z^14*h - z^12*h^3 - 2*x^3*z^6*h^6 - 2*y^3*z^6*h^6 - 2*z^8*h^7 + 2*z^6*h^9 + x^3*h^12 + y^3*h^12 + z^2*h^13 - h^15, y^18 - 3*y^12*h^6 + 3*y^6*h^12 - h^18, y^12*z^6 - y^12*h^6 - 2*y^6*z^6*h^6 + 2*y^6*h^12 + z^6*h^12 - h^18, y^6*z^12 - 2*y^6*z^6*h^6 - z^12*h^6 + y^6*h^12 + 2*z^6*h^12 - h^18, z^18 - 3*z^12*h^6 + 3*z^6*h^12 - h^18, x^7 - x*h^6, y^7 - y*h^6, z^7 - z*h^6) of Multivariate Polynomial Ring in x, y, z, h over Rational Field"
      ]
     },
     "execution_count": 69,
     "metadata": {},
     "output_type": "execute_result"
    }
   ],
   "source": [
    "ideal(h_list)"
   ]
  },
  {
   "cell_type": "code",
   "execution_count": 124,
   "metadata": {},
   "outputs": [],
   "source": [
    "S.<x,y,z,h> = PolynomialRing(GF(7), order = \"degrevlex\")\n",
    "h_list = [f.homogenize() for f in f_list]\n",
    "J = ideal(h_list)\n",
    "in_gens = [p.lt() for p in J.groebner_basis()]\n",
    "N = ideal(in_gens)"
   ]
  },
  {
   "cell_type": "code",
   "execution_count": 130,
   "metadata": {},
   "outputs": [
    {
     "data": {
      "text/plain": [
       "[1, 3, 6, 10, 15, 21, 28, 33, 36, 37, 36, 33, 26, 19, 13, 7, 3]"
      ]
     },
     "execution_count": 130,
     "metadata": {},
     "output_type": "execute_result"
    }
   ],
   "source": [
    "hilbert_poincare_series(J).numerator().coefficients()"
   ]
  },
  {
   "cell_type": "code",
   "execution_count": 143,
   "metadata": {},
   "outputs": [],
   "source": [
    "from scipy.special import binom"
   ]
  },
  {
   "cell_type": "code",
   "execution_count": 153,
   "metadata": {},
   "outputs": [
    {
     "data": {
      "text/plain": [
       "[x - h, y - h, z - h]"
      ]
     },
     "execution_count": 153,
     "metadata": {},
     "output_type": "execute_result"
    }
   ],
   "source": [
    "R.<x,y,z,h> = PolynomialRing(QQ, order = 'degrevlex')\n",
    "I = ideal(x - h, y - h, z - h)\n",
    "I.groebner_basis()"
   ]
  },
  {
   "cell_type": "code",
   "execution_count": 113,
   "metadata": {},
   "outputs": [
    {
     "name": "stdout",
     "output_type": "stream",
     "text": [
      "Interrupting Singular...\n"
     ]
    },
    {
     "ename": "KeyboardInterrupt",
     "evalue": "Restarting Singular (WARNING: all variables defined in previous session are now invalid)",
     "output_type": "error",
     "traceback": [
      "\u001b[0;31m---------------------------------------------------------------------------\u001b[0m",
      "\u001b[0;31mKeyboardInterrupt\u001b[0m                         Traceback (most recent call last)",
      "\u001b[0;32m/private/var/tmp/sage-9.6-current/local/var/lib/sage/venv-python3.10.3/lib/python3.10/site-packages/sage/interfaces/expect.py\u001b[0m in \u001b[0;36m_eval_line\u001b[0;34m(self, line, allow_use_file, wait_for_prompt, restart_if_needed)\u001b[0m\n\u001b[1;32m    988\u001b[0m                     \u001b[0;32melse\u001b[0m\u001b[0;34m:\u001b[0m\u001b[0;34m\u001b[0m\u001b[0;34m\u001b[0m\u001b[0m\n\u001b[0;32m--> 989\u001b[0;31m                         \u001b[0mE\u001b[0m\u001b[0;34m.\u001b[0m\u001b[0mexpect\u001b[0m\u001b[0;34m(\u001b[0m\u001b[0mself\u001b[0m\u001b[0;34m.\u001b[0m\u001b[0m_prompt\u001b[0m\u001b[0;34m)\u001b[0m\u001b[0;34m\u001b[0m\u001b[0;34m\u001b[0m\u001b[0m\n\u001b[0m\u001b[1;32m    990\u001b[0m                 \u001b[0;32mexcept\u001b[0m \u001b[0mpexpect\u001b[0m\u001b[0;34m.\u001b[0m\u001b[0mEOF\u001b[0m \u001b[0;32mas\u001b[0m \u001b[0mmsg\u001b[0m\u001b[0;34m:\u001b[0m\u001b[0;34m\u001b[0m\u001b[0;34m\u001b[0m\u001b[0m\n",
      "\u001b[0;32m/private/var/tmp/sage-9.6-current/local/var/lib/sage/venv-python3.10.3/lib/python3.10/site-packages/pexpect/spawnbase.py\u001b[0m in \u001b[0;36mexpect\u001b[0;34m(self, pattern, timeout, searchwindowsize, async_, **kw)\u001b[0m\n\u001b[1;32m    342\u001b[0m         \u001b[0mcompiled_pattern_list\u001b[0m \u001b[0;34m=\u001b[0m \u001b[0mself\u001b[0m\u001b[0;34m.\u001b[0m\u001b[0mcompile_pattern_list\u001b[0m\u001b[0;34m(\u001b[0m\u001b[0mpattern\u001b[0m\u001b[0;34m)\u001b[0m\u001b[0;34m\u001b[0m\u001b[0;34m\u001b[0m\u001b[0m\n\u001b[0;32m--> 343\u001b[0;31m         return self.expect_list(compiled_pattern_list,\n\u001b[0m\u001b[1;32m    344\u001b[0m                 timeout, searchwindowsize, async_)\n",
      "\u001b[0;32m/private/var/tmp/sage-9.6-current/local/var/lib/sage/venv-python3.10.3/lib/python3.10/site-packages/pexpect/spawnbase.py\u001b[0m in \u001b[0;36mexpect_list\u001b[0;34m(self, pattern_list, timeout, searchwindowsize, async_, **kw)\u001b[0m\n\u001b[1;32m    371\u001b[0m         \u001b[0;32melse\u001b[0m\u001b[0;34m:\u001b[0m\u001b[0;34m\u001b[0m\u001b[0;34m\u001b[0m\u001b[0m\n\u001b[0;32m--> 372\u001b[0;31m             \u001b[0;32mreturn\u001b[0m \u001b[0mexp\u001b[0m\u001b[0;34m.\u001b[0m\u001b[0mexpect_loop\u001b[0m\u001b[0;34m(\u001b[0m\u001b[0mtimeout\u001b[0m\u001b[0;34m)\u001b[0m\u001b[0;34m\u001b[0m\u001b[0;34m\u001b[0m\u001b[0m\n\u001b[0m\u001b[1;32m    373\u001b[0m \u001b[0;34m\u001b[0m\u001b[0m\n",
      "\u001b[0;32m/private/var/tmp/sage-9.6-current/local/var/lib/sage/venv-python3.10.3/lib/python3.10/site-packages/pexpect/expect.py\u001b[0m in \u001b[0;36mexpect_loop\u001b[0;34m(self, timeout)\u001b[0m\n\u001b[1;32m    168\u001b[0m                 \u001b[0;31m# Still have time left, so read more data\u001b[0m\u001b[0;34m\u001b[0m\u001b[0;34m\u001b[0m\u001b[0m\n\u001b[0;32m--> 169\u001b[0;31m                 \u001b[0mincoming\u001b[0m \u001b[0;34m=\u001b[0m \u001b[0mspawn\u001b[0m\u001b[0;34m.\u001b[0m\u001b[0mread_nonblocking\u001b[0m\u001b[0;34m(\u001b[0m\u001b[0mspawn\u001b[0m\u001b[0;34m.\u001b[0m\u001b[0mmaxread\u001b[0m\u001b[0;34m,\u001b[0m \u001b[0mtimeout\u001b[0m\u001b[0;34m)\u001b[0m\u001b[0;34m\u001b[0m\u001b[0;34m\u001b[0m\u001b[0m\n\u001b[0m\u001b[1;32m    170\u001b[0m                 \u001b[0;32mif\u001b[0m \u001b[0mself\u001b[0m\u001b[0;34m.\u001b[0m\u001b[0mspawn\u001b[0m\u001b[0;34m.\u001b[0m\u001b[0mdelayafterread\u001b[0m \u001b[0;32mis\u001b[0m \u001b[0;32mnot\u001b[0m \u001b[0;32mNone\u001b[0m\u001b[0;34m:\u001b[0m\u001b[0;34m\u001b[0m\u001b[0;34m\u001b[0m\u001b[0m\n",
      "\u001b[0;32m/private/var/tmp/sage-9.6-current/local/var/lib/sage/venv-python3.10.3/lib/python3.10/site-packages/pexpect/pty_spawn.py\u001b[0m in \u001b[0;36mread_nonblocking\u001b[0;34m(self, size, timeout)\u001b[0m\n\u001b[1;32m    499\u001b[0m         \u001b[0;31m# (possibly timeout=None), we call select() with a timeout.\u001b[0m\u001b[0;34m\u001b[0m\u001b[0;34m\u001b[0m\u001b[0m\n\u001b[0;32m--> 500\u001b[0;31m         \u001b[0;32mif\u001b[0m \u001b[0;34m(\u001b[0m\u001b[0mtimeout\u001b[0m \u001b[0;34m!=\u001b[0m \u001b[0;36m0\u001b[0m\u001b[0;34m)\u001b[0m \u001b[0;32mand\u001b[0m \u001b[0mselect\u001b[0m\u001b[0;34m(\u001b[0m\u001b[0mtimeout\u001b[0m\u001b[0;34m)\u001b[0m\u001b[0;34m:\u001b[0m\u001b[0;34m\u001b[0m\u001b[0;34m\u001b[0m\u001b[0m\n\u001b[0m\u001b[1;32m    501\u001b[0m             \u001b[0;32mreturn\u001b[0m \u001b[0msuper\u001b[0m\u001b[0;34m(\u001b[0m\u001b[0mspawn\u001b[0m\u001b[0;34m,\u001b[0m \u001b[0mself\u001b[0m\u001b[0;34m)\u001b[0m\u001b[0;34m.\u001b[0m\u001b[0mread_nonblocking\u001b[0m\u001b[0;34m(\u001b[0m\u001b[0msize\u001b[0m\u001b[0;34m)\u001b[0m\u001b[0;34m\u001b[0m\u001b[0;34m\u001b[0m\u001b[0m\n",
      "\u001b[0;32m/private/var/tmp/sage-9.6-current/local/var/lib/sage/venv-python3.10.3/lib/python3.10/site-packages/pexpect/pty_spawn.py\u001b[0m in \u001b[0;36mselect\u001b[0;34m(timeout)\u001b[0m\n\u001b[1;32m    449\u001b[0m             \u001b[0;32mdef\u001b[0m \u001b[0mselect\u001b[0m\u001b[0;34m(\u001b[0m\u001b[0mtimeout\u001b[0m\u001b[0;34m)\u001b[0m\u001b[0;34m:\u001b[0m\u001b[0;34m\u001b[0m\u001b[0;34m\u001b[0m\u001b[0m\n\u001b[0;32m--> 450\u001b[0;31m                 \u001b[0;32mreturn\u001b[0m \u001b[0mselect_ignore_interrupts\u001b[0m\u001b[0;34m(\u001b[0m\u001b[0;34m[\u001b[0m\u001b[0mself\u001b[0m\u001b[0;34m.\u001b[0m\u001b[0mchild_fd\u001b[0m\u001b[0;34m]\u001b[0m\u001b[0;34m,\u001b[0m \u001b[0;34m[\u001b[0m\u001b[0;34m]\u001b[0m\u001b[0;34m,\u001b[0m \u001b[0;34m[\u001b[0m\u001b[0;34m]\u001b[0m\u001b[0;34m,\u001b[0m \u001b[0mtimeout\u001b[0m\u001b[0;34m)\u001b[0m\u001b[0;34m[\u001b[0m\u001b[0;36m0\u001b[0m\u001b[0;34m]\u001b[0m\u001b[0;34m\u001b[0m\u001b[0;34m\u001b[0m\u001b[0m\n\u001b[0m\u001b[1;32m    451\u001b[0m \u001b[0;34m\u001b[0m\u001b[0m\n",
      "\u001b[0;32m/private/var/tmp/sage-9.6-current/local/var/lib/sage/venv-python3.10.3/lib/python3.10/site-packages/pexpect/utils.py\u001b[0m in \u001b[0;36mselect_ignore_interrupts\u001b[0;34m(iwtd, owtd, ewtd, timeout)\u001b[0m\n\u001b[1;32m    142\u001b[0m         \u001b[0;32mtry\u001b[0m\u001b[0;34m:\u001b[0m\u001b[0;34m\u001b[0m\u001b[0;34m\u001b[0m\u001b[0m\n\u001b[0;32m--> 143\u001b[0;31m             \u001b[0;32mreturn\u001b[0m \u001b[0mselect\u001b[0m\u001b[0;34m.\u001b[0m\u001b[0mselect\u001b[0m\u001b[0;34m(\u001b[0m\u001b[0miwtd\u001b[0m\u001b[0;34m,\u001b[0m \u001b[0mowtd\u001b[0m\u001b[0;34m,\u001b[0m \u001b[0mewtd\u001b[0m\u001b[0;34m,\u001b[0m \u001b[0mtimeout\u001b[0m\u001b[0;34m)\u001b[0m\u001b[0;34m\u001b[0m\u001b[0;34m\u001b[0m\u001b[0m\n\u001b[0m\u001b[1;32m    144\u001b[0m         \u001b[0;32mexcept\u001b[0m \u001b[0mInterruptedError\u001b[0m\u001b[0;34m:\u001b[0m\u001b[0;34m\u001b[0m\u001b[0;34m\u001b[0m\u001b[0m\n",
      "\u001b[0;32msrc/cysignals/signals.pyx\u001b[0m in \u001b[0;36mcysignals.signals.python_check_interrupt\u001b[0;34m()\u001b[0m\n",
      "\u001b[0;31mKeyboardInterrupt\u001b[0m: ",
      "\nDuring handling of the above exception, another exception occurred:\n",
      "\u001b[0;31mKeyboardInterrupt\u001b[0m                         Traceback (most recent call last)",
      "\u001b[0;32m/var/folders/zf/986s30f52c3fssnjtqpb80w00000gn/T/ipykernel_34306/4172400693.py\u001b[0m in \u001b[0;36m<module>\u001b[0;34m\u001b[0m\n\u001b[0;32m----> 1\u001b[0;31m \u001b[0mJ\u001b[0m\u001b[0;34m.\u001b[0m\u001b[0m_singular_\u001b[0m\u001b[0;34m(\u001b[0m\u001b[0;34m)\u001b[0m\u001b[0;34m.\u001b[0m\u001b[0mmres\u001b[0m\u001b[0;34m(\u001b[0m\u001b[0mInteger\u001b[0m\u001b[0;34m(\u001b[0m\u001b[0;36m0\u001b[0m\u001b[0;34m)\u001b[0m\u001b[0;34m)\u001b[0m\u001b[0;34m\u001b[0m\u001b[0;34m\u001b[0m\u001b[0m\n\u001b[0m",
      "\u001b[0;32m/private/var/tmp/sage-9.6-current/local/var/lib/sage/venv-python3.10.3/lib/python3.10/site-packages/sage/interfaces/interface.py\u001b[0m in \u001b[0;36m__call__\u001b[0;34m(self, *args, **kwds)\u001b[0m\n\u001b[1;32m    691\u001b[0m \u001b[0;34m\u001b[0m\u001b[0m\n\u001b[1;32m    692\u001b[0m     \u001b[0;32mdef\u001b[0m \u001b[0m__call__\u001b[0m\u001b[0;34m(\u001b[0m\u001b[0mself\u001b[0m\u001b[0;34m,\u001b[0m \u001b[0;34m*\u001b[0m\u001b[0margs\u001b[0m\u001b[0;34m,\u001b[0m \u001b[0;34m**\u001b[0m\u001b[0mkwds\u001b[0m\u001b[0;34m)\u001b[0m\u001b[0;34m:\u001b[0m\u001b[0;34m\u001b[0m\u001b[0;34m\u001b[0m\u001b[0m\n\u001b[0;32m--> 693\u001b[0;31m         \u001b[0;32mreturn\u001b[0m \u001b[0mself\u001b[0m\u001b[0;34m.\u001b[0m\u001b[0m_obj\u001b[0m\u001b[0;34m.\u001b[0m\u001b[0mparent\u001b[0m\u001b[0;34m(\u001b[0m\u001b[0;34m)\u001b[0m\u001b[0;34m.\u001b[0m\u001b[0mfunction_call\u001b[0m\u001b[0;34m(\u001b[0m\u001b[0mself\u001b[0m\u001b[0;34m.\u001b[0m\u001b[0m_name\u001b[0m\u001b[0;34m,\u001b[0m \u001b[0;34m[\u001b[0m\u001b[0mself\u001b[0m\u001b[0;34m.\u001b[0m\u001b[0m_obj\u001b[0m\u001b[0;34m]\u001b[0m \u001b[0;34m+\u001b[0m \u001b[0mlist\u001b[0m\u001b[0;34m(\u001b[0m\u001b[0margs\u001b[0m\u001b[0;34m)\u001b[0m\u001b[0;34m,\u001b[0m \u001b[0mkwds\u001b[0m\u001b[0;34m)\u001b[0m\u001b[0;34m\u001b[0m\u001b[0;34m\u001b[0m\u001b[0m\n\u001b[0m\u001b[1;32m    694\u001b[0m \u001b[0;34m\u001b[0m\u001b[0m\n\u001b[1;32m    695\u001b[0m     \u001b[0;32mdef\u001b[0m \u001b[0mhelp\u001b[0m\u001b[0;34m(\u001b[0m\u001b[0mself\u001b[0m\u001b[0;34m)\u001b[0m\u001b[0;34m:\u001b[0m\u001b[0;34m\u001b[0m\u001b[0;34m\u001b[0m\u001b[0m\n",
      "\u001b[0;32m/private/var/tmp/sage-9.6-current/local/var/lib/sage/venv-python3.10.3/lib/python3.10/site-packages/sage/interfaces/interface.py\u001b[0m in \u001b[0;36mfunction_call\u001b[0;34m(self, function, args, kwds)\u001b[0m\n\u001b[1;32m    611\u001b[0m                                        \u001b[0;34m[\u001b[0m\u001b[0ms\u001b[0m\u001b[0;34m.\u001b[0m\u001b[0mname\u001b[0m\u001b[0;34m(\u001b[0m\u001b[0;34m)\u001b[0m \u001b[0;32mfor\u001b[0m \u001b[0ms\u001b[0m \u001b[0;32min\u001b[0m \u001b[0margs\u001b[0m\u001b[0;34m]\u001b[0m\u001b[0;34m,\u001b[0m\u001b[0;34m\u001b[0m\u001b[0;34m\u001b[0m\u001b[0m\n\u001b[1;32m    612\u001b[0m                                        ['%s=%s'%(key,value.name()) for key, value in kwds.items()])\n\u001b[0;32m--> 613\u001b[0;31m         \u001b[0;32mreturn\u001b[0m \u001b[0mself\u001b[0m\u001b[0;34m.\u001b[0m\u001b[0mnew\u001b[0m\u001b[0;34m(\u001b[0m\u001b[0ms\u001b[0m\u001b[0;34m)\u001b[0m\u001b[0;34m\u001b[0m\u001b[0;34m\u001b[0m\u001b[0m\n\u001b[0m\u001b[1;32m    614\u001b[0m \u001b[0;34m\u001b[0m\u001b[0m\n\u001b[1;32m    615\u001b[0m     \u001b[0;32mdef\u001b[0m \u001b[0m_function_call_string\u001b[0m\u001b[0;34m(\u001b[0m\u001b[0mself\u001b[0m\u001b[0;34m,\u001b[0m \u001b[0mfunction\u001b[0m\u001b[0;34m,\u001b[0m \u001b[0margs\u001b[0m\u001b[0;34m,\u001b[0m \u001b[0mkwds\u001b[0m\u001b[0;34m)\u001b[0m\u001b[0;34m:\u001b[0m\u001b[0;34m\u001b[0m\u001b[0;34m\u001b[0m\u001b[0m\n",
      "\u001b[0;32m/private/var/tmp/sage-9.6-current/local/var/lib/sage/venv-python3.10.3/lib/python3.10/site-packages/sage/interfaces/interface.py\u001b[0m in \u001b[0;36mnew\u001b[0;34m(self, code)\u001b[0m\n\u001b[1;32m    380\u001b[0m \u001b[0;34m\u001b[0m\u001b[0m\n\u001b[1;32m    381\u001b[0m     \u001b[0;32mdef\u001b[0m \u001b[0mnew\u001b[0m\u001b[0;34m(\u001b[0m\u001b[0mself\u001b[0m\u001b[0;34m,\u001b[0m \u001b[0mcode\u001b[0m\u001b[0;34m)\u001b[0m\u001b[0;34m:\u001b[0m\u001b[0;34m\u001b[0m\u001b[0;34m\u001b[0m\u001b[0m\n\u001b[0;32m--> 382\u001b[0;31m         \u001b[0;32mreturn\u001b[0m \u001b[0mself\u001b[0m\u001b[0;34m(\u001b[0m\u001b[0mcode\u001b[0m\u001b[0;34m)\u001b[0m\u001b[0;34m\u001b[0m\u001b[0;34m\u001b[0m\u001b[0m\n\u001b[0m\u001b[1;32m    383\u001b[0m \u001b[0;34m\u001b[0m\u001b[0m\n\u001b[1;32m    384\u001b[0m     \u001b[0;31m###################################################################\u001b[0m\u001b[0;34m\u001b[0m\u001b[0;34m\u001b[0m\u001b[0m\n",
      "\u001b[0;32m/private/var/tmp/sage-9.6-current/local/var/lib/sage/venv-python3.10.3/lib/python3.10/site-packages/sage/interfaces/singular.py\u001b[0m in \u001b[0;36m__call__\u001b[0;34m(self, x, type)\u001b[0m\n\u001b[1;32m    773\u001b[0m             \u001b[0mx\u001b[0m \u001b[0;34m=\u001b[0m \u001b[0mstr\u001b[0m\u001b[0;34m(\u001b[0m\u001b[0mx\u001b[0m\u001b[0;34m)\u001b[0m\u001b[0;34m[\u001b[0m\u001b[0;36m1\u001b[0m\u001b[0;34m:\u001b[0m\u001b[0;34m-\u001b[0m\u001b[0;36m1\u001b[0m\u001b[0;34m]\u001b[0m\u001b[0;34m\u001b[0m\u001b[0;34m\u001b[0m\u001b[0m\n\u001b[1;32m    774\u001b[0m \u001b[0;34m\u001b[0m\u001b[0m\n\u001b[0;32m--> 775\u001b[0;31m         \u001b[0;32mreturn\u001b[0m \u001b[0mSingularElement\u001b[0m\u001b[0;34m(\u001b[0m\u001b[0mself\u001b[0m\u001b[0;34m,\u001b[0m \u001b[0mtype\u001b[0m\u001b[0;34m,\u001b[0m \u001b[0mx\u001b[0m\u001b[0;34m,\u001b[0m \u001b[0;32mFalse\u001b[0m\u001b[0;34m)\u001b[0m\u001b[0;34m\u001b[0m\u001b[0;34m\u001b[0m\u001b[0m\n\u001b[0m\u001b[1;32m    776\u001b[0m \u001b[0;34m\u001b[0m\u001b[0m\n\u001b[1;32m    777\u001b[0m     \u001b[0;32mdef\u001b[0m \u001b[0m_coerce_map_from_\u001b[0m\u001b[0;34m(\u001b[0m\u001b[0mself\u001b[0m\u001b[0;34m,\u001b[0m \u001b[0mS\u001b[0m\u001b[0;34m)\u001b[0m\u001b[0;34m:\u001b[0m\u001b[0;34m\u001b[0m\u001b[0;34m\u001b[0m\u001b[0m\n",
      "\u001b[0;32m/private/var/tmp/sage-9.6-current/local/var/lib/sage/venv-python3.10.3/lib/python3.10/site-packages/sage/interfaces/singular.py\u001b[0m in \u001b[0;36m__init__\u001b[0;34m(self, parent, type, value, is_name)\u001b[0m\n\u001b[1;32m   1326\u001b[0m         \u001b[0;32mif\u001b[0m \u001b[0;32mnot\u001b[0m \u001b[0mis_name\u001b[0m\u001b[0;34m:\u001b[0m\u001b[0;34m\u001b[0m\u001b[0;34m\u001b[0m\u001b[0m\n\u001b[1;32m   1327\u001b[0m             \u001b[0;32mtry\u001b[0m\u001b[0;34m:\u001b[0m\u001b[0;34m\u001b[0m\u001b[0;34m\u001b[0m\u001b[0m\n\u001b[0;32m-> 1328\u001b[0;31m                 \u001b[0mself\u001b[0m\u001b[0;34m.\u001b[0m\u001b[0m_name\u001b[0m \u001b[0;34m=\u001b[0m \u001b[0mparent\u001b[0m\u001b[0;34m.\u001b[0m\u001b[0m_create\u001b[0m\u001b[0;34m(\u001b[0m\u001b[0mvalue\u001b[0m\u001b[0;34m,\u001b[0m \u001b[0mtype\u001b[0m\u001b[0;34m)\u001b[0m\u001b[0;34m\u001b[0m\u001b[0;34m\u001b[0m\u001b[0m\n\u001b[0m\u001b[1;32m   1329\u001b[0m             \u001b[0;31m# Convert SingularError to TypeError for\u001b[0m\u001b[0;34m\u001b[0m\u001b[0;34m\u001b[0m\u001b[0m\n\u001b[1;32m   1330\u001b[0m             \u001b[0;31m# coercion to work properly.\u001b[0m\u001b[0;34m\u001b[0m\u001b[0;34m\u001b[0m\u001b[0m\n",
      "\u001b[0;32m/private/var/tmp/sage-9.6-current/local/var/lib/sage/venv-python3.10.3/lib/python3.10/site-packages/sage/interfaces/singular.py\u001b[0m in \u001b[0;36m_create\u001b[0;34m(self, value, type)\u001b[0m\n\u001b[1;32m    734\u001b[0m         \"\"\"\n\u001b[1;32m    735\u001b[0m         \u001b[0mname\u001b[0m \u001b[0;34m=\u001b[0m \u001b[0mself\u001b[0m\u001b[0;34m.\u001b[0m\u001b[0m_next_var_name\u001b[0m\u001b[0;34m(\u001b[0m\u001b[0;34m)\u001b[0m\u001b[0;34m\u001b[0m\u001b[0;34m\u001b[0m\u001b[0m\n\u001b[0;32m--> 736\u001b[0;31m         \u001b[0mself\u001b[0m\u001b[0;34m.\u001b[0m\u001b[0mset\u001b[0m\u001b[0;34m(\u001b[0m\u001b[0mtype\u001b[0m\u001b[0;34m,\u001b[0m \u001b[0mname\u001b[0m\u001b[0;34m,\u001b[0m \u001b[0mvalue\u001b[0m\u001b[0;34m)\u001b[0m\u001b[0;34m\u001b[0m\u001b[0;34m\u001b[0m\u001b[0m\n\u001b[0m\u001b[1;32m    737\u001b[0m         \u001b[0;32mreturn\u001b[0m \u001b[0mname\u001b[0m\u001b[0;34m\u001b[0m\u001b[0;34m\u001b[0m\u001b[0m\n\u001b[1;32m    738\u001b[0m \u001b[0;34m\u001b[0m\u001b[0m\n",
      "\u001b[0;32m/private/var/tmp/sage-9.6-current/local/var/lib/sage/venv-python3.10.3/lib/python3.10/site-packages/sage/interfaces/singular.py\u001b[0m in \u001b[0;36mset\u001b[0;34m(self, type, name, value)\u001b[0m\n\u001b[1;32m    677\u001b[0m         \u001b[0mcmd\u001b[0m \u001b[0;34m+=\u001b[0m \u001b[0;34m'%s %s=%s;'\u001b[0m\u001b[0;34m%\u001b[0m\u001b[0;34m(\u001b[0m\u001b[0mtype\u001b[0m\u001b[0;34m,\u001b[0m \u001b[0mname\u001b[0m\u001b[0;34m,\u001b[0m \u001b[0mvalue\u001b[0m\u001b[0;34m)\u001b[0m\u001b[0;34m\u001b[0m\u001b[0;34m\u001b[0m\u001b[0m\n\u001b[1;32m    678\u001b[0m         \u001b[0mself\u001b[0m\u001b[0;34m.\u001b[0m\u001b[0m__to_clear\u001b[0m \u001b[0;34m=\u001b[0m \u001b[0;34m[\u001b[0m\u001b[0;34m]\u001b[0m\u001b[0;34m\u001b[0m\u001b[0;34m\u001b[0m\u001b[0m\n\u001b[0;32m--> 679\u001b[0;31m         \u001b[0mself\u001b[0m\u001b[0;34m.\u001b[0m\u001b[0meval\u001b[0m\u001b[0;34m(\u001b[0m\u001b[0mcmd\u001b[0m\u001b[0;34m)\u001b[0m\u001b[0;34m\u001b[0m\u001b[0;34m\u001b[0m\u001b[0m\n\u001b[0m\u001b[1;32m    680\u001b[0m \u001b[0;34m\u001b[0m\u001b[0m\n\u001b[1;32m    681\u001b[0m     \u001b[0;32mdef\u001b[0m \u001b[0mget\u001b[0m\u001b[0;34m(\u001b[0m\u001b[0mself\u001b[0m\u001b[0;34m,\u001b[0m \u001b[0mvar\u001b[0m\u001b[0;34m)\u001b[0m\u001b[0;34m:\u001b[0m\u001b[0;34m\u001b[0m\u001b[0;34m\u001b[0m\u001b[0m\n",
      "\u001b[0;32m/private/var/tmp/sage-9.6-current/local/var/lib/sage/venv-python3.10.3/lib/python3.10/site-packages/sage/interfaces/singular.py\u001b[0m in \u001b[0;36meval\u001b[0;34m(self, x, allow_semicolon, strip, **kwds)\u001b[0m\n\u001b[1;32m    630\u001b[0m             \u001b[0mx\u001b[0m \u001b[0;34m+=\u001b[0m \u001b[0;34m';'\u001b[0m\u001b[0;34m\u001b[0m\u001b[0;34m\u001b[0m\u001b[0m\n\u001b[1;32m    631\u001b[0m \u001b[0;34m\u001b[0m\u001b[0m\n\u001b[0;32m--> 632\u001b[0;31m         \u001b[0ms\u001b[0m \u001b[0;34m=\u001b[0m \u001b[0mExpect\u001b[0m\u001b[0;34m.\u001b[0m\u001b[0meval\u001b[0m\u001b[0;34m(\u001b[0m\u001b[0mself\u001b[0m\u001b[0;34m,\u001b[0m \u001b[0mx\u001b[0m\u001b[0;34m,\u001b[0m \u001b[0;34m**\u001b[0m\u001b[0mkwds\u001b[0m\u001b[0;34m)\u001b[0m\u001b[0;34m\u001b[0m\u001b[0;34m\u001b[0m\u001b[0m\n\u001b[0m\u001b[1;32m    633\u001b[0m \u001b[0;34m\u001b[0m\u001b[0m\n\u001b[1;32m    634\u001b[0m         \u001b[0;31m# \"Segment fault\" is not a typo:\u001b[0m\u001b[0;34m\u001b[0m\u001b[0;34m\u001b[0m\u001b[0m\n",
      "\u001b[0;32m/private/var/tmp/sage-9.6-current/local/var/lib/sage/venv-python3.10.3/lib/python3.10/site-packages/sage/interfaces/expect.py\u001b[0m in \u001b[0;36meval\u001b[0;34m(self, code, strip, synchronize, locals, allow_use_file, split_lines, **kwds)\u001b[0m\n\u001b[1;32m   1385\u001b[0m                     \u001b[0;32mreturn\u001b[0m \u001b[0mself\u001b[0m\u001b[0;34m.\u001b[0m\u001b[0m_eval_line_using_file\u001b[0m\u001b[0;34m(\u001b[0m\u001b[0mcode\u001b[0m\u001b[0;34m)\u001b[0m\u001b[0;34m\u001b[0m\u001b[0;34m\u001b[0m\u001b[0m\n\u001b[1;32m   1386\u001b[0m                 \u001b[0;32melif\u001b[0m \u001b[0msplit_lines\u001b[0m\u001b[0;34m:\u001b[0m\u001b[0;34m\u001b[0m\u001b[0;34m\u001b[0m\u001b[0m\n\u001b[0;32m-> 1387\u001b[0;31m                     return '\\n'.join([self._eval_line(L, allow_use_file=allow_use_file, **kwds)\n\u001b[0m\u001b[1;32m   1388\u001b[0m                                         for L in code.split('\\n') if L != ''])\n\u001b[1;32m   1389\u001b[0m                 \u001b[0;32melse\u001b[0m\u001b[0;34m:\u001b[0m\u001b[0;34m\u001b[0m\u001b[0;34m\u001b[0m\u001b[0m\n",
      "\u001b[0;32m/private/var/tmp/sage-9.6-current/local/var/lib/sage/venv-python3.10.3/lib/python3.10/site-packages/sage/interfaces/expect.py\u001b[0m in \u001b[0;36m<listcomp>\u001b[0;34m(.0)\u001b[0m\n\u001b[1;32m   1385\u001b[0m                     \u001b[0;32mreturn\u001b[0m \u001b[0mself\u001b[0m\u001b[0;34m.\u001b[0m\u001b[0m_eval_line_using_file\u001b[0m\u001b[0;34m(\u001b[0m\u001b[0mcode\u001b[0m\u001b[0;34m)\u001b[0m\u001b[0;34m\u001b[0m\u001b[0;34m\u001b[0m\u001b[0m\n\u001b[1;32m   1386\u001b[0m                 \u001b[0;32melif\u001b[0m \u001b[0msplit_lines\u001b[0m\u001b[0;34m:\u001b[0m\u001b[0;34m\u001b[0m\u001b[0;34m\u001b[0m\u001b[0m\n\u001b[0;32m-> 1387\u001b[0;31m                     return '\\n'.join([self._eval_line(L, allow_use_file=allow_use_file, **kwds)\n\u001b[0m\u001b[1;32m   1388\u001b[0m                                         for L in code.split('\\n') if L != ''])\n\u001b[1;32m   1389\u001b[0m                 \u001b[0;32melse\u001b[0m\u001b[0;34m:\u001b[0m\u001b[0;34m\u001b[0m\u001b[0;34m\u001b[0m\u001b[0m\n",
      "\u001b[0;32m/private/var/tmp/sage-9.6-current/local/var/lib/sage/venv-python3.10.3/lib/python3.10/site-packages/sage/interfaces/expect.py\u001b[0m in \u001b[0;36m_eval_line\u001b[0;34m(self, line, allow_use_file, wait_for_prompt, restart_if_needed)\u001b[0m\n\u001b[1;32m   1018\u001b[0m                     \u001b[0mout\u001b[0m \u001b[0;34m=\u001b[0m \u001b[0;34m''\u001b[0m\u001b[0;34m\u001b[0m\u001b[0;34m\u001b[0m\u001b[0m\n\u001b[1;32m   1019\u001b[0m         \u001b[0;32mexcept\u001b[0m \u001b[0mKeyboardInterrupt\u001b[0m\u001b[0;34m:\u001b[0m\u001b[0;34m\u001b[0m\u001b[0;34m\u001b[0m\u001b[0m\n\u001b[0;32m-> 1020\u001b[0;31m             \u001b[0mself\u001b[0m\u001b[0;34m.\u001b[0m\u001b[0m_keyboard_interrupt\u001b[0m\u001b[0;34m(\u001b[0m\u001b[0;34m)\u001b[0m\u001b[0;34m\u001b[0m\u001b[0;34m\u001b[0m\u001b[0m\n\u001b[0m\u001b[1;32m   1021\u001b[0m             \u001b[0;32mraise\u001b[0m \u001b[0mKeyboardInterrupt\u001b[0m\u001b[0;34m(\u001b[0m\u001b[0;34m\"Ctrl-c pressed while running %s\"\u001b[0m \u001b[0;34m%\u001b[0m \u001b[0mself\u001b[0m\u001b[0;34m)\u001b[0m\u001b[0;34m\u001b[0m\u001b[0;34m\u001b[0m\u001b[0m\n\u001b[1;32m   1022\u001b[0m         \u001b[0;32mif\u001b[0m \u001b[0mself\u001b[0m\u001b[0;34m.\u001b[0m\u001b[0m_terminal_echo\u001b[0m\u001b[0;34m:\u001b[0m\u001b[0;34m\u001b[0m\u001b[0;34m\u001b[0m\u001b[0m\n",
      "\u001b[0;32m/private/var/tmp/sage-9.6-current/local/var/lib/sage/venv-python3.10.3/lib/python3.10/site-packages/sage/interfaces/singular.py\u001b[0m in \u001b[0;36m_keyboard_interrupt\u001b[0;34m(self)\u001b[0m\n\u001b[1;32m   1307\u001b[0m             \u001b[0;32mraise\u001b[0m \u001b[0mpexpect\u001b[0m\u001b[0;34m.\u001b[0m\u001b[0mExceptionPexpect\u001b[0m\u001b[0;34m(\u001b[0m\u001b[0;34m\"THIS IS A BUG -- PLEASE REPORT. This should never happen.\\n\"\u001b[0m \u001b[0;34m+\u001b[0m \u001b[0mmsg\u001b[0m\u001b[0;34m)\u001b[0m\u001b[0;34m\u001b[0m\u001b[0;34m\u001b[0m\u001b[0m\n\u001b[1;32m   1308\u001b[0m         \u001b[0mself\u001b[0m\u001b[0;34m.\u001b[0m\u001b[0m_start\u001b[0m\u001b[0;34m(\u001b[0m\u001b[0;34m)\u001b[0m\u001b[0;34m\u001b[0m\u001b[0;34m\u001b[0m\u001b[0m\n\u001b[0;32m-> 1309\u001b[0;31m         \u001b[0;32mraise\u001b[0m \u001b[0mKeyboardInterrupt\u001b[0m\u001b[0;34m(\u001b[0m\u001b[0;34m\"Restarting %s (WARNING: all variables defined in previous session are now invalid)\"\u001b[0m \u001b[0;34m%\u001b[0m \u001b[0mself\u001b[0m\u001b[0;34m)\u001b[0m\u001b[0;34m\u001b[0m\u001b[0;34m\u001b[0m\u001b[0m\n\u001b[0m\u001b[1;32m   1310\u001b[0m \u001b[0;34m\u001b[0m\u001b[0m\n\u001b[1;32m   1311\u001b[0m \u001b[0;34m\u001b[0m\u001b[0m\n",
      "\u001b[0;31mKeyboardInterrupt\u001b[0m: Restarting Singular (WARNING: all variables defined in previous session are now invalid)"
     ]
    }
   ],
   "source": [
    "J._singular_().mres(0)"
   ]
  },
  {
   "cell_type": "code",
   "execution_count": 109,
   "metadata": {},
   "outputs": [],
   "source": [
    "resolution = _77"
   ]
  },
  {
   "cell_type": "code",
   "execution_count": 111,
   "metadata": {},
   "outputs": [
    {
     "data": {
      "text/plain": [
       "(invalid Singular object -- The singular session in which this object was defined is no longer running.)"
      ]
     },
     "execution_count": 111,
     "metadata": {},
     "output_type": "execute_result"
    }
   ],
   "source": [
    "resolution"
   ]
  },
  {
   "cell_type": "code",
   "execution_count": 121,
   "metadata": {},
   "outputs": [
    {
     "data": {
      "text/plain": [
       "[y^6 - 1, x + y, z - 1]"
      ]
     },
     "execution_count": 121,
     "metadata": {},
     "output_type": "execute_result"
    }
   ],
   "source": [
    "# Example from Minko's Thesis but over Q\n",
    "R.<x,y,z> = PolynomialRing(QQ, order = 'degrevlex')\n",
    "f1 = x^5 + y^5 + z^5 - 1\n",
    "f2 = x^3 + y^3 + z^2 - 1\n",
    "f3 = y^6 - 1\n",
    "f4 = z^6 - 1\n",
    "f_list = [f1*f1*f1, f1*f1*f2, f1*f1*f3, f1*f1*f4, f1*f2*f2, f1*f2*f3, f1*f2*f4, f1*f3*f3, f1*f3*f4, f1*f4*f4, f2*f2*f2, f2*f2*f3, f2*f2*f4, f2*f3*f3, f2*f3*f4, f2*f4*f4, f3*f3*f3, f3*f3*f4, f3*f4*f4, f4*f4*f4, x^7 - x, y^7 - y, z^7 - z]\n",
    "I = Ideal(f_list)\n",
    "I.groebner_basis()"
   ]
  },
  {
   "cell_type": "code",
   "execution_count": 98,
   "metadata": {},
   "outputs": [],
   "source": [
    "S.<x,y,z,h> = PolynomialRing(QQ, order = \"degrevlex\")\n",
    "h_list = [f.homogenize() for f in f_list]\n",
    "J = ideal(h_list)\n",
    "in_gens = [p.lt() for p in J.groebner_basis()]\n",
    "N = ideal(in_gens)"
   ]
  },
  {
   "cell_type": "code",
   "execution_count": 100,
   "metadata": {},
   "outputs": [
    {
     "data": {
      "text/plain": [
       "x^15+3*x^10*y^5+3*x^5*y^10+y^15+3*x^10*z^5+6*x^5*y^5*z^5+3*y^10*z^5+3*x^5*z^10+3*y^5*z^10+z^15-3*x^10*h^5-6*x^5*y^5*h^5-3*y^10*h^5-6*x^5*z^5*h^5-6*y^5*z^5*h^5-3*z^10*h^5+3*x^5*h^10+3*y^5*h^10+3*z^5*h^10-h^15,\n",
       "x^13+x^10*y^3+2*x^8*y^5+2*x^5*y^8+x^3*y^10+y^13+2*x^8*z^5+2*x^5*y^3*z^5+2*x^3*y^5*z^5+2*y^8*z^5+x^3*z^10+y^3*z^10+x^10*z^2*h+2*x^5*y^5*z^2*h+y^10*z^2*h+2*x^5*z^7*h+2*y^5*z^7*h+z^12*h-x^10*h^3-2*x^5*y^5*h^3-y^10*h^3-2*x^5*z^5*h^3-2*y^5*z^5*h^3-z^10*h^3-2*x^8*h^5-2*x^5*y^3*h^5-2*x^3*y^5*h^5-2*y^8*h^5-2*x^3*z^5*h^5-2*y^3*z^5*h^5-2*x^5*z^2*h^6-2*y^5*z^2*h^6-2*z^7*h^6+2*x^5*h^8+2*y^5*h^8+2*z^5*h^8+x^3*h^10+y^3*h^10+z^2*h^11-h^13,\n",
       "x^10*y^6+2*x^5*y^11+y^16+2*x^5*y^6*z^5+2*y^11*z^5+y^6*z^10-2*x^5*y^6*h^5-2*y^11*h^5-2*y^6*z^5*h^5-x^10*h^6-2*x^5*y^5*h^6-y^10*h^6-2*x^5*z^5*h^6-2*y^5*z^5*h^6-z^10*h^6+y^6*h^10+2*x^5*h^11+2*y^5*h^11+2*z^5*h^11-h^16,\n",
       "x^10*z^6+2*x^5*y^5*z^6+y^10*z^6+2*x^5*z^11+2*y^5*z^11+z^16-2*x^5*z^6*h^5-2*y^5*z^6*h^5-2*z^11*h^5-x^10*h^6-2*x^5*y^5*h^6-y^10*h^6-2*x^5*z^5*h^6-2*y^5*z^5*h^6-z^10*h^6+z^6*h^10+2*x^5*h^11+2*y^5*h^11+2*z^5*h^11-h^16,\n",
       "x^11+2*x^8*y^3+x^6*y^5+x^5*y^6+2*x^3*y^8+y^11+x^6*z^5+2*x^3*y^3*z^5+y^6*z^5+2*x^8*z^2*h+2*x^5*y^3*z^2*h+2*x^3*y^5*z^2*h+2*y^8*z^2*h+2*x^3*z^7*h+2*y^3*z^7*h+x^5*z^4*h^2+y^5*z^4*h^2+z^9*h^2-2*x^8*h^3-2*x^5*y^3*h^3-2*x^3*y^5*h^3-2*y^8*h^3-2*x^3*z^5*h^3-2*y^3*z^5*h^3-2*x^5*z^2*h^4-2*y^5*z^2*h^4-2*z^7*h^4-x^6*h^5-2*x^3*y^3*h^5-y^6*h^5+x^5*h^6+y^5*h^6-2*x^3*z^2*h^6-2*y^3*z^2*h^6+z^5*h^6-z^4*h^7+2*x^3*h^8+2*y^3*h^8+2*z^2*h^9-h^11,\n",
       "x^8*y^6+x^5*y^9+x^3*y^11+y^14+x^3*y^6*z^5+y^9*z^5+x^5*y^6*z^2*h+y^11*z^2*h+y^6*z^7*h-x^5*y^6*h^3-y^11*h^3-y^6*z^5*h^3-x^3*y^6*h^5-y^9*h^5-x^8*h^6-x^5*y^3*h^6-x^3*y^5*h^6-y^8*h^6-y^6*z^2*h^6-x^3*z^5*h^6-y^3*z^5*h^6-x^5*z^2*h^7-y^5*z^2*h^7-z^7*h^7+y^6*h^8+x^5*h^9+y^5*h^9+z^5*h^9+x^3*h^11+y^3*h^11+z^2*h^12-h^14,\n",
       "x^8*z^6+x^5*y^3*z^6+x^3*y^5*z^6+y^8*z^6+x^3*z^11+y^3*z^11+x^5*z^8*h+y^5*z^8*h+z^13*h-x^5*z^6*h^3-y^5*z^6*h^3-z^11*h^3-x^3*z^6*h^5-y^3*z^6*h^5-x^8*h^6-x^5*y^3*h^6-x^3*y^5*h^6-y^8*h^6-x^3*z^5*h^6-y^3*z^5*h^6-z^8*h^6-x^5*z^2*h^7-y^5*z^2*h^7-z^7*h^7+z^6*h^8+x^5*h^9+y^5*h^9+z^5*h^9+x^3*h^11+y^3*h^11+z^2*h^12-h^14,\n",
       "x^5*y^12+y^17+y^12*z^5-y^12*h^5-2*x^5*y^6*h^6-2*y^11*h^6-2*y^6*z^5*h^6+2*y^6*h^11+x^5*h^12+y^5*h^12+z^5*h^12-h^17,\n",
       "x^5*y^6*z^6+y^11*z^6+y^6*z^11-y^6*z^6*h^5-x^5*y^6*h^6-y^11*h^6-y^6*z^5*h^6-x^5*z^6*h^6-y^5*z^6*h^6-z^11*h^6+y^6*h^11+z^6*h^11+x^5*h^12+y^5*h^12+z^5*h^12-h^17,\n",
       "x^5*z^12+y^5*z^12+z^17-z^12*h^5-2*x^5*z^6*h^6-2*y^5*z^6*h^6-2*z^11*h^6+2*z^6*h^11+x^5*h^12+y^5*h^12+z^5*h^12-h^17,\n",
       "x^9+3*x^6*y^3+3*x^3*y^6+y^9+3*x^6*z^2*h+6*x^3*y^3*z^2*h+3*y^6*z^2*h+3*x^3*z^4*h^2+3*y^3*z^4*h^2-3*x^6*h^3-6*x^3*y^3*h^3-3*y^6*h^3+z^6*h^3-6*x^3*z^2*h^4-6*y^3*z^2*h^4-3*z^4*h^5+3*x^3*h^6+3*y^3*h^6+3*z^2*h^7-h^9,\n",
       "x^6*y^6+2*x^3*y^9+y^12+2*x^3*y^6*z^2*h+2*y^9*z^2*h+y^6*z^4*h^2-2*x^3*y^6*h^3-2*y^9*h^3-2*y^6*z^2*h^4-x^6*h^6-2*x^3*y^3*h^6-2*x^3*z^2*h^7-2*y^3*z^2*h^7-z^4*h^8+2*x^3*h^9+2*y^3*h^9+2*z^2*h^10-h^12,\n",
       "x^6*z^6+2*x^3*y^3*z^6+y^6*z^6+2*x^3*z^8*h+2*y^3*z^8*h+z^10*h^2-2*x^3*z^6*h^3-2*y^3*z^6*h^3-2*z^8*h^4-x^6*h^6-2*x^3*y^3*h^6-y^6*h^6+z^6*h^6-2*x^3*z^2*h^7-2*y^3*z^2*h^7-z^4*h^8+2*x^3*h^9+2*y^3*h^9+2*z^2*h^10-h^12,\n",
       "x^3*y^12+y^15+y^12*z^2*h-y^12*h^3-2*x^3*y^6*h^6-2*y^9*h^6-2*y^6*z^2*h^7+2*y^6*h^9+x^3*h^12+y^3*h^12+z^2*h^13-h^15,\n",
       "x^3*y^6*z^6+y^9*z^6+y^6*z^8*h-y^6*z^6*h^3-x^3*y^6*h^6-y^9*h^6-x^3*z^6*h^6-y^3*z^6*h^6-y^6*z^2*h^7-z^8*h^7+y^6*h^9+z^6*h^9+x^3*h^12+y^3*h^12+z^2*h^13-h^15,\n",
       "x^3*z^12+y^3*z^12+z^14*h-z^12*h^3-2*x^3*z^6*h^6-2*y^3*z^6*h^6-2*z^8*h^7+2*z^6*h^9+x^3*h^12+y^3*h^12+z^2*h^13-h^15,\n",
       "y^18-3*y^12*h^6+3*y^6*h^12-h^18,\n",
       "y^12*z^6-y^12*h^6-2*y^6*z^6*h^6+2*y^6*h^12+z^6*h^12-h^18,\n",
       "y^6*z^12-2*y^6*z^6*h^6-z^12*h^6+y^6*h^12+2*z^6*h^12-h^18,\n",
       "z^18-3*z^12*h^6+3*z^6*h^12-h^18,\n",
       "x^7-x*h^6,\n",
       "y^7-y*h^6,\n",
       "z^7-z*h^6"
      ]
     },
     "execution_count": 100,
     "metadata": {},
     "output_type": "execute_result"
    }
   ],
   "source": [
    "J._singular_()"
   ]
  },
  {
   "cell_type": "code",
   "execution_count": 101,
   "metadata": {},
   "outputs": [
    {
     "data": {
      "text/plain": [
       "x*y^2*h^18,\n",
       "y^2*z*h^18,\n",
       "x*h^20,\n",
       "z*h^20,\n",
       "x*y^3*h^16,\n",
       "y^3*z*h^16,\n",
       "x^2*h^18,\n",
       "x*z*h^18,\n",
       "x*y^4*h^14,\n",
       "y^4*z*h^14,\n",
       "x^2*y*h^16,\n",
       "x*y*z*h^16,\n",
       "x*y^5*h^12,\n",
       "y^6*h^12,\n",
       "x^2*y^2*h^14,\n",
       "x*y^2*z*h^14,\n",
       "y*z^2*h^15,\n",
       "z^2*h^16,\n",
       "x*y^5*z*h^10,\n",
       "y^6*z*h^10,\n",
       "x^5*z^2*h^10,\n",
       "x^4*y*z^2*h^10,\n",
       "x^3*y^2*z^2*h^10,\n",
       "x^2*y^3*z^2*h^10,\n",
       "x*y^4*z^2*h^10,\n",
       "y^5*z^2*h^10,\n",
       "x^4*z^3*h^10,\n",
       "x^3*y*z^3*h^10,\n",
       "x^2*y^2*z^3*h^10,\n",
       "x*y^3*z^3*h^10,\n",
       "y^4*z^3*h^10,\n",
       "x^3*z^4*h^10,\n",
       "x^2*y*z^4*h^10,\n",
       "x*y^2*z^4*h^10,\n",
       "y^3*z^4*h^10,\n",
       "x^2*z^5*h^10,\n",
       "x*y*z^5*h^10,\n",
       "y^2*z^5*h^10,\n",
       "y*z^6*h^10,\n",
       "x^6*h^11,\n",
       "x^5*y*h^11,\n",
       "x^4*y^2*h^11,\n",
       "x^3*y^3*h^11,\n",
       "x^5*z*h^11,\n",
       "x^4*y*z*h^11,\n",
       "x^3*y^2*z*h^11,\n",
       "x^2*y^3*z*h^11,\n",
       "x^4*z^2*h^11,\n",
       "x^3*y*z^2*h^11,\n",
       "x^2*y^2*z^2*h^11,\n",
       "x*y^3*z^2*h^11,\n",
       "y^4*z^2*h^11,\n",
       "x^3*z^3*h^11,\n",
       "x^2*y*z^3*h^11,\n",
       "x*y^2*z^3*h^11,\n",
       "y^3*z^3*h^11,\n",
       "x^2*z^4*h^11,\n",
       "x*y*z^4*h^11,\n",
       "y^2*z^4*h^11,\n",
       "x*z^5*h^11,\n",
       "y*z^5*h^11,\n",
       "z^6*h^11,\n",
       "x^5*h^12,\n",
       "x^4*y*h^12,\n",
       "x^3*y^2*h^12,\n",
       "x^2*y^3*h^12,\n",
       "x^4*z*h^12,\n",
       "x^3*y*z*h^12,\n",
       "x^2*y^2*z*h^12,\n",
       "x*y^3*z*h^12,\n",
       "x^3*z^2*h^12,\n",
       "x^2*y*z^2*h^12,\n",
       "x*y^2*z^2*h^12,\n",
       "y^3*z^2*h^12,\n",
       "x^2*z^3*h^12,\n",
       "x*y*z^3*h^12,\n",
       "y^2*z^3*h^12,\n",
       "x*z^4*h^12,\n",
       "y*z^4*h^12,\n",
       "z^5*h^12,\n",
       "x^4*h^13,\n",
       "x^3*y*h^13,\n",
       "x^3*z*h^13,\n",
       "x^2*y*z*h^13,\n",
       "x^2*z^2*h^13,\n",
       "x*y*z^2*h^13,\n",
       "y^2*z^2*h^13,\n",
       "x*z^3*h^13,\n",
       "y*z^3*h^13,\n",
       "z^4*h^13,\n",
       "x^3*h^14,\n",
       "x^2*z*h^14,\n",
       "x*z^2*h^14,\n",
       "z^3*h^14,\n",
       "x^2*y^3*z^5*h^6,\n",
       "y^5*z^5*h^6,\n",
       "x^2*y^5*z^2*h^7,\n",
       "x^5*z^4*h^7,\n",
       "x^3*y^2*z^4*h^7,\n",
       "x^2*y^3*z^4*h^7,\n",
       "x*y^4*z^4*h^7,\n",
       "y^5*z^4*h^7,\n",
       "x^3*y*z^5*h^7,\n",
       "x^2*y^2*z^5*h^7,\n",
       "x*y^3*z^5*h^7,\n",
       "y^4*z^5*h^7,\n",
       "x^2*y*z^6*h^7,\n",
       "x*y^2*z^6*h^7,\n",
       "x^6*y^2*h^8,\n",
       "x^5*y^3*h^8,\n",
       "x^4*y^4*h^8,\n",
       "x^3*y^5*h^8,\n",
       "x^2*y^6*h^8,\n",
       "x^6*y*z*h^8,\n",
       "x^5*y^2*z*h^8,\n",
       "x^4*y^3*z*h^8,\n",
       "x^3*y^4*z*h^8,\n",
       "x*y^6*z*h^8,\n",
       "x^5*y*z^2*h^8,\n",
       "x^4*y^2*z^2*h^8,\n",
       "x^3*y^3*z^2*h^8,\n",
       "x^2*y^4*z^2*h^8,\n",
       "x*y^5*z^2*h^8,\n",
       "y^6*z^2*h^8,\n",
       "x^5*z^3*h^8,\n",
       "x^4*y*z^3*h^8,\n",
       "x^3*y^2*z^3*h^8,\n",
       "x^2*y^3*z^3*h^8,\n",
       "x*y^4*z^3*h^8,\n",
       "y^5*z^3*h^8,\n",
       "x^4*z^4*h^8,\n",
       "x^3*y*z^4*h^8,\n",
       "x^2*y^2*z^4*h^8,\n",
       "x*y^3*z^4*h^8,\n",
       "y^4*z^4*h^8,\n",
       "x^3*z^5*h^8,\n",
       "x^2*y*z^5*h^8,\n",
       "x*y^2*z^5*h^8,\n",
       "y^3*z^5*h^8,\n",
       "x^2*z^6*h^8,\n",
       "x*y*z^6*h^8,\n",
       "y^2*z^6*h^8,\n",
       "x^6*y*h^9,\n",
       "x^5*y^2*h^9,\n",
       "x^4*y^3*h^9,\n",
       "x^3*y^4*h^9,\n",
       "x*y^6*h^9,\n",
       "x^6*z*h^9,\n",
       "x^5*y*z*h^9,\n",
       "x^4*y^2*z*h^9,\n",
       "x^3*y^3*z*h^9,\n",
       "x^2*y^4*z*h^9,\n",
       "x*z^6*h^9,\n",
       "y^6*z^6*h^3,\n",
       "x^3*y^5*z^3*h^4,\n",
       "x*y^5*z^5*h^4,\n",
       "y^6*z^5*h^4,\n",
       "x^3*y^6*z*h^5,\n",
       "x*y^6*z^3*h^5,\n",
       "x^3*y^3*z^4*h^5,\n",
       "x*y^4*z^5*h^5,\n",
       "x^3*y*z^6*h^5,\n",
       "x^2*y^2*z^6*h^5,\n",
       "x*y^3*z^6*h^5,\n",
       "y^4*z^6*h^5,\n",
       "x^5*y^4*h^6,\n",
       "x^4*y^5*h^6,\n",
       "x^3*y^6*h^6,\n",
       "x^5*y^3*z*h^6,\n",
       "x^3*y^5*z*h^6,\n",
       "x^2*y^6*z*h^6,\n",
       "x^6*y*z^2*h^6,\n",
       "x^5*y^2*z^2*h^6,\n",
       "x^4*y^3*z^2*h^6,\n",
       "x^3*y^4*z^2*h^6,\n",
       "x*y^6*z^2*h^6,\n",
       "x^5*y*z^3*h^6,\n",
       "x^3*y^3*z^3*h^6,\n",
       "x*y^5*z^3*h^6,\n",
       "y^6*z^3*h^6,\n",
       "x^4*y*z^4*h^6,\n",
       "x^3*z^6*h^6,\n",
       "y^3*z^6*h^6,\n",
       "x^6*z^2*h^7,\n",
       "x^3*y^2*z^6*h^3,\n",
       "x*y^4*z^6*h^3,\n",
       "x^6*y*z^3*h^4,\n",
       "x^4*y^3*z^3*h^4,\n",
       "x^4*y*z^5*h^4,\n",
       "x^3*y^2*z^5*h^4,\n",
       "x^6*y^2*z*h^5,\n",
       "x^4*y^4*z*h^5,\n",
       "x^6*z^3*h^5,\n",
       "x^4*y^2*z^3*h^5,\n",
       "x^2*y^4*z^3*h^5,\n",
       "x^4*z^5*h^5,\n",
       "x^3*y^5*z^5,\n",
       "x^4*y^3*z^4*h^2,\n",
       "x^3*y^4*z^4*h^2,\n",
       "x*y^6*z^4*h^2,\n",
       "x^4*y^2*z^5*h^2,\n",
       "x^3*y^3*z^5*h^2,\n",
       "x^2*y^4*z^5*h^2,\n",
       "x^4*z^6*h^3,\n",
       "x^4*y^3*z^5,\n",
       "x^3*y^6*z^2*h,\n",
       "x^6*y^2*z^3*h,\n",
       "x^6*z^4*h^2,\n",
       "x^6*z^5,\n",
       "x^4*y^4*z^2*h,\n",
       "x^4*y^6,\n",
       "x^6*y^3,\n",
       "x^7,\n",
       "y^7,\n",
       "z^7"
      ]
     },
     "execution_count": 101,
     "metadata": {},
     "output_type": "execute_result"
    }
   ],
   "source": [
    "N._singular_()"
   ]
  },
  {
   "cell_type": "code",
   "execution_count": 103,
   "metadata": {},
   "outputs": [
    {
     "data": {
      "text/plain": [
       "22"
      ]
     },
     "execution_count": 103,
     "metadata": {},
     "output_type": "execute_result"
    }
   ],
   "source": [
    "len(N._singular_().mres(0).betti())/5"
   ]
  },
  {
   "cell_type": "code",
   "execution_count": 105,
   "metadata": {},
   "outputs": [
    {
     "name": "stdout",
     "output_type": "stream",
     "text": [
      "Interrupting Singular...\n"
     ]
    },
    {
     "ename": "KeyboardInterrupt",
     "evalue": "Restarting Singular (WARNING: all variables defined in previous session are now invalid)",
     "output_type": "error",
     "traceback": [
      "\u001b[0;31m---------------------------------------------------------------------------\u001b[0m",
      "\u001b[0;31mKeyboardInterrupt\u001b[0m                         Traceback (most recent call last)",
      "\u001b[0;32m/private/var/tmp/sage-9.6-current/local/var/lib/sage/venv-python3.10.3/lib/python3.10/site-packages/sage/interfaces/expect.py\u001b[0m in \u001b[0;36m_eval_line\u001b[0;34m(self, line, allow_use_file, wait_for_prompt, restart_if_needed)\u001b[0m\n\u001b[1;32m    988\u001b[0m                     \u001b[0;32melse\u001b[0m\u001b[0;34m:\u001b[0m\u001b[0;34m\u001b[0m\u001b[0;34m\u001b[0m\u001b[0m\n\u001b[0;32m--> 989\u001b[0;31m                         \u001b[0mE\u001b[0m\u001b[0;34m.\u001b[0m\u001b[0mexpect\u001b[0m\u001b[0;34m(\u001b[0m\u001b[0mself\u001b[0m\u001b[0;34m.\u001b[0m\u001b[0m_prompt\u001b[0m\u001b[0;34m)\u001b[0m\u001b[0;34m\u001b[0m\u001b[0;34m\u001b[0m\u001b[0m\n\u001b[0m\u001b[1;32m    990\u001b[0m                 \u001b[0;32mexcept\u001b[0m \u001b[0mpexpect\u001b[0m\u001b[0;34m.\u001b[0m\u001b[0mEOF\u001b[0m \u001b[0;32mas\u001b[0m \u001b[0mmsg\u001b[0m\u001b[0;34m:\u001b[0m\u001b[0;34m\u001b[0m\u001b[0;34m\u001b[0m\u001b[0m\n",
      "\u001b[0;32m/private/var/tmp/sage-9.6-current/local/var/lib/sage/venv-python3.10.3/lib/python3.10/site-packages/pexpect/spawnbase.py\u001b[0m in \u001b[0;36mexpect\u001b[0;34m(self, pattern, timeout, searchwindowsize, async_, **kw)\u001b[0m\n\u001b[1;32m    342\u001b[0m         \u001b[0mcompiled_pattern_list\u001b[0m \u001b[0;34m=\u001b[0m \u001b[0mself\u001b[0m\u001b[0;34m.\u001b[0m\u001b[0mcompile_pattern_list\u001b[0m\u001b[0;34m(\u001b[0m\u001b[0mpattern\u001b[0m\u001b[0;34m)\u001b[0m\u001b[0;34m\u001b[0m\u001b[0;34m\u001b[0m\u001b[0m\n\u001b[0;32m--> 343\u001b[0;31m         return self.expect_list(compiled_pattern_list,\n\u001b[0m\u001b[1;32m    344\u001b[0m                 timeout, searchwindowsize, async_)\n",
      "\u001b[0;32m/private/var/tmp/sage-9.6-current/local/var/lib/sage/venv-python3.10.3/lib/python3.10/site-packages/pexpect/spawnbase.py\u001b[0m in \u001b[0;36mexpect_list\u001b[0;34m(self, pattern_list, timeout, searchwindowsize, async_, **kw)\u001b[0m\n\u001b[1;32m    371\u001b[0m         \u001b[0;32melse\u001b[0m\u001b[0;34m:\u001b[0m\u001b[0;34m\u001b[0m\u001b[0;34m\u001b[0m\u001b[0m\n\u001b[0;32m--> 372\u001b[0;31m             \u001b[0;32mreturn\u001b[0m \u001b[0mexp\u001b[0m\u001b[0;34m.\u001b[0m\u001b[0mexpect_loop\u001b[0m\u001b[0;34m(\u001b[0m\u001b[0mtimeout\u001b[0m\u001b[0;34m)\u001b[0m\u001b[0;34m\u001b[0m\u001b[0;34m\u001b[0m\u001b[0m\n\u001b[0m\u001b[1;32m    373\u001b[0m \u001b[0;34m\u001b[0m\u001b[0m\n",
      "\u001b[0;32m/private/var/tmp/sage-9.6-current/local/var/lib/sage/venv-python3.10.3/lib/python3.10/site-packages/pexpect/expect.py\u001b[0m in \u001b[0;36mexpect_loop\u001b[0;34m(self, timeout)\u001b[0m\n\u001b[1;32m    168\u001b[0m                 \u001b[0;31m# Still have time left, so read more data\u001b[0m\u001b[0;34m\u001b[0m\u001b[0;34m\u001b[0m\u001b[0m\n\u001b[0;32m--> 169\u001b[0;31m                 \u001b[0mincoming\u001b[0m \u001b[0;34m=\u001b[0m \u001b[0mspawn\u001b[0m\u001b[0;34m.\u001b[0m\u001b[0mread_nonblocking\u001b[0m\u001b[0;34m(\u001b[0m\u001b[0mspawn\u001b[0m\u001b[0;34m.\u001b[0m\u001b[0mmaxread\u001b[0m\u001b[0;34m,\u001b[0m \u001b[0mtimeout\u001b[0m\u001b[0;34m)\u001b[0m\u001b[0;34m\u001b[0m\u001b[0;34m\u001b[0m\u001b[0m\n\u001b[0m\u001b[1;32m    170\u001b[0m                 \u001b[0;32mif\u001b[0m \u001b[0mself\u001b[0m\u001b[0;34m.\u001b[0m\u001b[0mspawn\u001b[0m\u001b[0;34m.\u001b[0m\u001b[0mdelayafterread\u001b[0m \u001b[0;32mis\u001b[0m \u001b[0;32mnot\u001b[0m \u001b[0;32mNone\u001b[0m\u001b[0;34m:\u001b[0m\u001b[0;34m\u001b[0m\u001b[0;34m\u001b[0m\u001b[0m\n",
      "\u001b[0;32m/private/var/tmp/sage-9.6-current/local/var/lib/sage/venv-python3.10.3/lib/python3.10/site-packages/pexpect/pty_spawn.py\u001b[0m in \u001b[0;36mread_nonblocking\u001b[0;34m(self, size, timeout)\u001b[0m\n\u001b[1;32m    499\u001b[0m         \u001b[0;31m# (possibly timeout=None), we call select() with a timeout.\u001b[0m\u001b[0;34m\u001b[0m\u001b[0;34m\u001b[0m\u001b[0m\n\u001b[0;32m--> 500\u001b[0;31m         \u001b[0;32mif\u001b[0m \u001b[0;34m(\u001b[0m\u001b[0mtimeout\u001b[0m \u001b[0;34m!=\u001b[0m \u001b[0;36m0\u001b[0m\u001b[0;34m)\u001b[0m \u001b[0;32mand\u001b[0m \u001b[0mselect\u001b[0m\u001b[0;34m(\u001b[0m\u001b[0mtimeout\u001b[0m\u001b[0;34m)\u001b[0m\u001b[0;34m:\u001b[0m\u001b[0;34m\u001b[0m\u001b[0;34m\u001b[0m\u001b[0m\n\u001b[0m\u001b[1;32m    501\u001b[0m             \u001b[0;32mreturn\u001b[0m \u001b[0msuper\u001b[0m\u001b[0;34m(\u001b[0m\u001b[0mspawn\u001b[0m\u001b[0;34m,\u001b[0m \u001b[0mself\u001b[0m\u001b[0;34m)\u001b[0m\u001b[0;34m.\u001b[0m\u001b[0mread_nonblocking\u001b[0m\u001b[0;34m(\u001b[0m\u001b[0msize\u001b[0m\u001b[0;34m)\u001b[0m\u001b[0;34m\u001b[0m\u001b[0;34m\u001b[0m\u001b[0m\n",
      "\u001b[0;32m/private/var/tmp/sage-9.6-current/local/var/lib/sage/venv-python3.10.3/lib/python3.10/site-packages/pexpect/pty_spawn.py\u001b[0m in \u001b[0;36mselect\u001b[0;34m(timeout)\u001b[0m\n\u001b[1;32m    449\u001b[0m             \u001b[0;32mdef\u001b[0m \u001b[0mselect\u001b[0m\u001b[0;34m(\u001b[0m\u001b[0mtimeout\u001b[0m\u001b[0;34m)\u001b[0m\u001b[0;34m:\u001b[0m\u001b[0;34m\u001b[0m\u001b[0;34m\u001b[0m\u001b[0m\n\u001b[0;32m--> 450\u001b[0;31m                 \u001b[0;32mreturn\u001b[0m \u001b[0mselect_ignore_interrupts\u001b[0m\u001b[0;34m(\u001b[0m\u001b[0;34m[\u001b[0m\u001b[0mself\u001b[0m\u001b[0;34m.\u001b[0m\u001b[0mchild_fd\u001b[0m\u001b[0;34m]\u001b[0m\u001b[0;34m,\u001b[0m \u001b[0;34m[\u001b[0m\u001b[0;34m]\u001b[0m\u001b[0;34m,\u001b[0m \u001b[0;34m[\u001b[0m\u001b[0;34m]\u001b[0m\u001b[0;34m,\u001b[0m \u001b[0mtimeout\u001b[0m\u001b[0;34m)\u001b[0m\u001b[0;34m[\u001b[0m\u001b[0;36m0\u001b[0m\u001b[0;34m]\u001b[0m\u001b[0;34m\u001b[0m\u001b[0;34m\u001b[0m\u001b[0m\n\u001b[0m\u001b[1;32m    451\u001b[0m \u001b[0;34m\u001b[0m\u001b[0m\n",
      "\u001b[0;32m/private/var/tmp/sage-9.6-current/local/var/lib/sage/venv-python3.10.3/lib/python3.10/site-packages/pexpect/utils.py\u001b[0m in \u001b[0;36mselect_ignore_interrupts\u001b[0;34m(iwtd, owtd, ewtd, timeout)\u001b[0m\n\u001b[1;32m    142\u001b[0m         \u001b[0;32mtry\u001b[0m\u001b[0;34m:\u001b[0m\u001b[0;34m\u001b[0m\u001b[0;34m\u001b[0m\u001b[0m\n\u001b[0;32m--> 143\u001b[0;31m             \u001b[0;32mreturn\u001b[0m \u001b[0mselect\u001b[0m\u001b[0;34m.\u001b[0m\u001b[0mselect\u001b[0m\u001b[0;34m(\u001b[0m\u001b[0miwtd\u001b[0m\u001b[0;34m,\u001b[0m \u001b[0mowtd\u001b[0m\u001b[0;34m,\u001b[0m \u001b[0mewtd\u001b[0m\u001b[0;34m,\u001b[0m \u001b[0mtimeout\u001b[0m\u001b[0;34m)\u001b[0m\u001b[0;34m\u001b[0m\u001b[0;34m\u001b[0m\u001b[0m\n\u001b[0m\u001b[1;32m    144\u001b[0m         \u001b[0;32mexcept\u001b[0m \u001b[0mInterruptedError\u001b[0m\u001b[0;34m:\u001b[0m\u001b[0;34m\u001b[0m\u001b[0;34m\u001b[0m\u001b[0m\n",
      "\u001b[0;32msrc/cysignals/signals.pyx\u001b[0m in \u001b[0;36mcysignals.signals.python_check_interrupt\u001b[0;34m()\u001b[0m\n",
      "\u001b[0;31mKeyboardInterrupt\u001b[0m: ",
      "\nDuring handling of the above exception, another exception occurred:\n",
      "\u001b[0;31mKeyboardInterrupt\u001b[0m                         Traceback (most recent call last)",
      "\u001b[0;32m/var/folders/zf/986s30f52c3fssnjtqpb80w00000gn/T/ipykernel_34306/3082013872.py\u001b[0m in \u001b[0;36m<module>\u001b[0;34m\u001b[0m\n\u001b[0;32m----> 1\u001b[0;31m \u001b[0mT\u001b[0m \u001b[0;34m=\u001b[0m \u001b[0mJ\u001b[0m\u001b[0;34m.\u001b[0m\u001b[0m_singular_\u001b[0m\u001b[0;34m(\u001b[0m\u001b[0;34m)\u001b[0m\u001b[0;34m.\u001b[0m\u001b[0mmres\u001b[0m\u001b[0;34m(\u001b[0m\u001b[0mInteger\u001b[0m\u001b[0;34m(\u001b[0m\u001b[0;36m0\u001b[0m\u001b[0;34m)\u001b[0m\u001b[0;34m)\u001b[0m\u001b[0;34m\u001b[0m\u001b[0;34m\u001b[0m\u001b[0m\n\u001b[0m",
      "\u001b[0;32m/private/var/tmp/sage-9.6-current/local/var/lib/sage/venv-python3.10.3/lib/python3.10/site-packages/sage/interfaces/interface.py\u001b[0m in \u001b[0;36m__call__\u001b[0;34m(self, *args, **kwds)\u001b[0m\n\u001b[1;32m    691\u001b[0m \u001b[0;34m\u001b[0m\u001b[0m\n\u001b[1;32m    692\u001b[0m     \u001b[0;32mdef\u001b[0m \u001b[0m__call__\u001b[0m\u001b[0;34m(\u001b[0m\u001b[0mself\u001b[0m\u001b[0;34m,\u001b[0m \u001b[0;34m*\u001b[0m\u001b[0margs\u001b[0m\u001b[0;34m,\u001b[0m \u001b[0;34m**\u001b[0m\u001b[0mkwds\u001b[0m\u001b[0;34m)\u001b[0m\u001b[0;34m:\u001b[0m\u001b[0;34m\u001b[0m\u001b[0;34m\u001b[0m\u001b[0m\n\u001b[0;32m--> 693\u001b[0;31m         \u001b[0;32mreturn\u001b[0m \u001b[0mself\u001b[0m\u001b[0;34m.\u001b[0m\u001b[0m_obj\u001b[0m\u001b[0;34m.\u001b[0m\u001b[0mparent\u001b[0m\u001b[0;34m(\u001b[0m\u001b[0;34m)\u001b[0m\u001b[0;34m.\u001b[0m\u001b[0mfunction_call\u001b[0m\u001b[0;34m(\u001b[0m\u001b[0mself\u001b[0m\u001b[0;34m.\u001b[0m\u001b[0m_name\u001b[0m\u001b[0;34m,\u001b[0m \u001b[0;34m[\u001b[0m\u001b[0mself\u001b[0m\u001b[0;34m.\u001b[0m\u001b[0m_obj\u001b[0m\u001b[0;34m]\u001b[0m \u001b[0;34m+\u001b[0m \u001b[0mlist\u001b[0m\u001b[0;34m(\u001b[0m\u001b[0margs\u001b[0m\u001b[0;34m)\u001b[0m\u001b[0;34m,\u001b[0m \u001b[0mkwds\u001b[0m\u001b[0;34m)\u001b[0m\u001b[0;34m\u001b[0m\u001b[0;34m\u001b[0m\u001b[0m\n\u001b[0m\u001b[1;32m    694\u001b[0m \u001b[0;34m\u001b[0m\u001b[0m\n\u001b[1;32m    695\u001b[0m     \u001b[0;32mdef\u001b[0m \u001b[0mhelp\u001b[0m\u001b[0;34m(\u001b[0m\u001b[0mself\u001b[0m\u001b[0;34m)\u001b[0m\u001b[0;34m:\u001b[0m\u001b[0;34m\u001b[0m\u001b[0;34m\u001b[0m\u001b[0m\n",
      "\u001b[0;32m/private/var/tmp/sage-9.6-current/local/var/lib/sage/venv-python3.10.3/lib/python3.10/site-packages/sage/interfaces/interface.py\u001b[0m in \u001b[0;36mfunction_call\u001b[0;34m(self, function, args, kwds)\u001b[0m\n\u001b[1;32m    611\u001b[0m                                        \u001b[0;34m[\u001b[0m\u001b[0ms\u001b[0m\u001b[0;34m.\u001b[0m\u001b[0mname\u001b[0m\u001b[0;34m(\u001b[0m\u001b[0;34m)\u001b[0m \u001b[0;32mfor\u001b[0m \u001b[0ms\u001b[0m \u001b[0;32min\u001b[0m \u001b[0margs\u001b[0m\u001b[0;34m]\u001b[0m\u001b[0;34m,\u001b[0m\u001b[0;34m\u001b[0m\u001b[0;34m\u001b[0m\u001b[0m\n\u001b[1;32m    612\u001b[0m                                        ['%s=%s'%(key,value.name()) for key, value in kwds.items()])\n\u001b[0;32m--> 613\u001b[0;31m         \u001b[0;32mreturn\u001b[0m \u001b[0mself\u001b[0m\u001b[0;34m.\u001b[0m\u001b[0mnew\u001b[0m\u001b[0;34m(\u001b[0m\u001b[0ms\u001b[0m\u001b[0;34m)\u001b[0m\u001b[0;34m\u001b[0m\u001b[0;34m\u001b[0m\u001b[0m\n\u001b[0m\u001b[1;32m    614\u001b[0m \u001b[0;34m\u001b[0m\u001b[0m\n\u001b[1;32m    615\u001b[0m     \u001b[0;32mdef\u001b[0m \u001b[0m_function_call_string\u001b[0m\u001b[0;34m(\u001b[0m\u001b[0mself\u001b[0m\u001b[0;34m,\u001b[0m \u001b[0mfunction\u001b[0m\u001b[0;34m,\u001b[0m \u001b[0margs\u001b[0m\u001b[0;34m,\u001b[0m \u001b[0mkwds\u001b[0m\u001b[0;34m)\u001b[0m\u001b[0;34m:\u001b[0m\u001b[0;34m\u001b[0m\u001b[0;34m\u001b[0m\u001b[0m\n",
      "\u001b[0;32m/private/var/tmp/sage-9.6-current/local/var/lib/sage/venv-python3.10.3/lib/python3.10/site-packages/sage/interfaces/interface.py\u001b[0m in \u001b[0;36mnew\u001b[0;34m(self, code)\u001b[0m\n\u001b[1;32m    380\u001b[0m \u001b[0;34m\u001b[0m\u001b[0m\n\u001b[1;32m    381\u001b[0m     \u001b[0;32mdef\u001b[0m \u001b[0mnew\u001b[0m\u001b[0;34m(\u001b[0m\u001b[0mself\u001b[0m\u001b[0;34m,\u001b[0m \u001b[0mcode\u001b[0m\u001b[0;34m)\u001b[0m\u001b[0;34m:\u001b[0m\u001b[0;34m\u001b[0m\u001b[0;34m\u001b[0m\u001b[0m\n\u001b[0;32m--> 382\u001b[0;31m         \u001b[0;32mreturn\u001b[0m \u001b[0mself\u001b[0m\u001b[0;34m(\u001b[0m\u001b[0mcode\u001b[0m\u001b[0;34m)\u001b[0m\u001b[0;34m\u001b[0m\u001b[0;34m\u001b[0m\u001b[0m\n\u001b[0m\u001b[1;32m    383\u001b[0m \u001b[0;34m\u001b[0m\u001b[0m\n\u001b[1;32m    384\u001b[0m     \u001b[0;31m###################################################################\u001b[0m\u001b[0;34m\u001b[0m\u001b[0;34m\u001b[0m\u001b[0m\n",
      "\u001b[0;32m/private/var/tmp/sage-9.6-current/local/var/lib/sage/venv-python3.10.3/lib/python3.10/site-packages/sage/interfaces/singular.py\u001b[0m in \u001b[0;36m__call__\u001b[0;34m(self, x, type)\u001b[0m\n\u001b[1;32m    773\u001b[0m             \u001b[0mx\u001b[0m \u001b[0;34m=\u001b[0m \u001b[0mstr\u001b[0m\u001b[0;34m(\u001b[0m\u001b[0mx\u001b[0m\u001b[0;34m)\u001b[0m\u001b[0;34m[\u001b[0m\u001b[0;36m1\u001b[0m\u001b[0;34m:\u001b[0m\u001b[0;34m-\u001b[0m\u001b[0;36m1\u001b[0m\u001b[0;34m]\u001b[0m\u001b[0;34m\u001b[0m\u001b[0;34m\u001b[0m\u001b[0m\n\u001b[1;32m    774\u001b[0m \u001b[0;34m\u001b[0m\u001b[0m\n\u001b[0;32m--> 775\u001b[0;31m         \u001b[0;32mreturn\u001b[0m \u001b[0mSingularElement\u001b[0m\u001b[0;34m(\u001b[0m\u001b[0mself\u001b[0m\u001b[0;34m,\u001b[0m \u001b[0mtype\u001b[0m\u001b[0;34m,\u001b[0m \u001b[0mx\u001b[0m\u001b[0;34m,\u001b[0m \u001b[0;32mFalse\u001b[0m\u001b[0;34m)\u001b[0m\u001b[0;34m\u001b[0m\u001b[0;34m\u001b[0m\u001b[0m\n\u001b[0m\u001b[1;32m    776\u001b[0m \u001b[0;34m\u001b[0m\u001b[0m\n\u001b[1;32m    777\u001b[0m     \u001b[0;32mdef\u001b[0m \u001b[0m_coerce_map_from_\u001b[0m\u001b[0;34m(\u001b[0m\u001b[0mself\u001b[0m\u001b[0;34m,\u001b[0m \u001b[0mS\u001b[0m\u001b[0;34m)\u001b[0m\u001b[0;34m:\u001b[0m\u001b[0;34m\u001b[0m\u001b[0;34m\u001b[0m\u001b[0m\n",
      "\u001b[0;32m/private/var/tmp/sage-9.6-current/local/var/lib/sage/venv-python3.10.3/lib/python3.10/site-packages/sage/interfaces/singular.py\u001b[0m in \u001b[0;36m__init__\u001b[0;34m(self, parent, type, value, is_name)\u001b[0m\n\u001b[1;32m   1326\u001b[0m         \u001b[0;32mif\u001b[0m \u001b[0;32mnot\u001b[0m \u001b[0mis_name\u001b[0m\u001b[0;34m:\u001b[0m\u001b[0;34m\u001b[0m\u001b[0;34m\u001b[0m\u001b[0m\n\u001b[1;32m   1327\u001b[0m             \u001b[0;32mtry\u001b[0m\u001b[0;34m:\u001b[0m\u001b[0;34m\u001b[0m\u001b[0;34m\u001b[0m\u001b[0m\n\u001b[0;32m-> 1328\u001b[0;31m                 \u001b[0mself\u001b[0m\u001b[0;34m.\u001b[0m\u001b[0m_name\u001b[0m \u001b[0;34m=\u001b[0m \u001b[0mparent\u001b[0m\u001b[0;34m.\u001b[0m\u001b[0m_create\u001b[0m\u001b[0;34m(\u001b[0m\u001b[0mvalue\u001b[0m\u001b[0;34m,\u001b[0m \u001b[0mtype\u001b[0m\u001b[0;34m)\u001b[0m\u001b[0;34m\u001b[0m\u001b[0;34m\u001b[0m\u001b[0m\n\u001b[0m\u001b[1;32m   1329\u001b[0m             \u001b[0;31m# Convert SingularError to TypeError for\u001b[0m\u001b[0;34m\u001b[0m\u001b[0;34m\u001b[0m\u001b[0m\n\u001b[1;32m   1330\u001b[0m             \u001b[0;31m# coercion to work properly.\u001b[0m\u001b[0;34m\u001b[0m\u001b[0;34m\u001b[0m\u001b[0m\n",
      "\u001b[0;32m/private/var/tmp/sage-9.6-current/local/var/lib/sage/venv-python3.10.3/lib/python3.10/site-packages/sage/interfaces/singular.py\u001b[0m in \u001b[0;36m_create\u001b[0;34m(self, value, type)\u001b[0m\n\u001b[1;32m    734\u001b[0m         \"\"\"\n\u001b[1;32m    735\u001b[0m         \u001b[0mname\u001b[0m \u001b[0;34m=\u001b[0m \u001b[0mself\u001b[0m\u001b[0;34m.\u001b[0m\u001b[0m_next_var_name\u001b[0m\u001b[0;34m(\u001b[0m\u001b[0;34m)\u001b[0m\u001b[0;34m\u001b[0m\u001b[0;34m\u001b[0m\u001b[0m\n\u001b[0;32m--> 736\u001b[0;31m         \u001b[0mself\u001b[0m\u001b[0;34m.\u001b[0m\u001b[0mset\u001b[0m\u001b[0;34m(\u001b[0m\u001b[0mtype\u001b[0m\u001b[0;34m,\u001b[0m \u001b[0mname\u001b[0m\u001b[0;34m,\u001b[0m \u001b[0mvalue\u001b[0m\u001b[0;34m)\u001b[0m\u001b[0;34m\u001b[0m\u001b[0;34m\u001b[0m\u001b[0m\n\u001b[0m\u001b[1;32m    737\u001b[0m         \u001b[0;32mreturn\u001b[0m \u001b[0mname\u001b[0m\u001b[0;34m\u001b[0m\u001b[0;34m\u001b[0m\u001b[0m\n\u001b[1;32m    738\u001b[0m \u001b[0;34m\u001b[0m\u001b[0m\n",
      "\u001b[0;32m/private/var/tmp/sage-9.6-current/local/var/lib/sage/venv-python3.10.3/lib/python3.10/site-packages/sage/interfaces/singular.py\u001b[0m in \u001b[0;36mset\u001b[0;34m(self, type, name, value)\u001b[0m\n\u001b[1;32m    677\u001b[0m         \u001b[0mcmd\u001b[0m \u001b[0;34m+=\u001b[0m \u001b[0;34m'%s %s=%s;'\u001b[0m\u001b[0;34m%\u001b[0m\u001b[0;34m(\u001b[0m\u001b[0mtype\u001b[0m\u001b[0;34m,\u001b[0m \u001b[0mname\u001b[0m\u001b[0;34m,\u001b[0m \u001b[0mvalue\u001b[0m\u001b[0;34m)\u001b[0m\u001b[0;34m\u001b[0m\u001b[0;34m\u001b[0m\u001b[0m\n\u001b[1;32m    678\u001b[0m         \u001b[0mself\u001b[0m\u001b[0;34m.\u001b[0m\u001b[0m__to_clear\u001b[0m \u001b[0;34m=\u001b[0m \u001b[0;34m[\u001b[0m\u001b[0;34m]\u001b[0m\u001b[0;34m\u001b[0m\u001b[0;34m\u001b[0m\u001b[0m\n\u001b[0;32m--> 679\u001b[0;31m         \u001b[0mself\u001b[0m\u001b[0;34m.\u001b[0m\u001b[0meval\u001b[0m\u001b[0;34m(\u001b[0m\u001b[0mcmd\u001b[0m\u001b[0;34m)\u001b[0m\u001b[0;34m\u001b[0m\u001b[0;34m\u001b[0m\u001b[0m\n\u001b[0m\u001b[1;32m    680\u001b[0m \u001b[0;34m\u001b[0m\u001b[0m\n\u001b[1;32m    681\u001b[0m     \u001b[0;32mdef\u001b[0m \u001b[0mget\u001b[0m\u001b[0;34m(\u001b[0m\u001b[0mself\u001b[0m\u001b[0;34m,\u001b[0m \u001b[0mvar\u001b[0m\u001b[0;34m)\u001b[0m\u001b[0;34m:\u001b[0m\u001b[0;34m\u001b[0m\u001b[0;34m\u001b[0m\u001b[0m\n",
      "\u001b[0;32m/private/var/tmp/sage-9.6-current/local/var/lib/sage/venv-python3.10.3/lib/python3.10/site-packages/sage/interfaces/singular.py\u001b[0m in \u001b[0;36meval\u001b[0;34m(self, x, allow_semicolon, strip, **kwds)\u001b[0m\n\u001b[1;32m    630\u001b[0m             \u001b[0mx\u001b[0m \u001b[0;34m+=\u001b[0m \u001b[0;34m';'\u001b[0m\u001b[0;34m\u001b[0m\u001b[0;34m\u001b[0m\u001b[0m\n\u001b[1;32m    631\u001b[0m \u001b[0;34m\u001b[0m\u001b[0m\n\u001b[0;32m--> 632\u001b[0;31m         \u001b[0ms\u001b[0m \u001b[0;34m=\u001b[0m \u001b[0mExpect\u001b[0m\u001b[0;34m.\u001b[0m\u001b[0meval\u001b[0m\u001b[0;34m(\u001b[0m\u001b[0mself\u001b[0m\u001b[0;34m,\u001b[0m \u001b[0mx\u001b[0m\u001b[0;34m,\u001b[0m \u001b[0;34m**\u001b[0m\u001b[0mkwds\u001b[0m\u001b[0;34m)\u001b[0m\u001b[0;34m\u001b[0m\u001b[0;34m\u001b[0m\u001b[0m\n\u001b[0m\u001b[1;32m    633\u001b[0m \u001b[0;34m\u001b[0m\u001b[0m\n\u001b[1;32m    634\u001b[0m         \u001b[0;31m# \"Segment fault\" is not a typo:\u001b[0m\u001b[0;34m\u001b[0m\u001b[0;34m\u001b[0m\u001b[0m\n",
      "\u001b[0;32m/private/var/tmp/sage-9.6-current/local/var/lib/sage/venv-python3.10.3/lib/python3.10/site-packages/sage/interfaces/expect.py\u001b[0m in \u001b[0;36meval\u001b[0;34m(self, code, strip, synchronize, locals, allow_use_file, split_lines, **kwds)\u001b[0m\n\u001b[1;32m   1385\u001b[0m                     \u001b[0;32mreturn\u001b[0m \u001b[0mself\u001b[0m\u001b[0;34m.\u001b[0m\u001b[0m_eval_line_using_file\u001b[0m\u001b[0;34m(\u001b[0m\u001b[0mcode\u001b[0m\u001b[0;34m)\u001b[0m\u001b[0;34m\u001b[0m\u001b[0;34m\u001b[0m\u001b[0m\n\u001b[1;32m   1386\u001b[0m                 \u001b[0;32melif\u001b[0m \u001b[0msplit_lines\u001b[0m\u001b[0;34m:\u001b[0m\u001b[0;34m\u001b[0m\u001b[0;34m\u001b[0m\u001b[0m\n\u001b[0;32m-> 1387\u001b[0;31m                     return '\\n'.join([self._eval_line(L, allow_use_file=allow_use_file, **kwds)\n\u001b[0m\u001b[1;32m   1388\u001b[0m                                         for L in code.split('\\n') if L != ''])\n\u001b[1;32m   1389\u001b[0m                 \u001b[0;32melse\u001b[0m\u001b[0;34m:\u001b[0m\u001b[0;34m\u001b[0m\u001b[0;34m\u001b[0m\u001b[0m\n",
      "\u001b[0;32m/private/var/tmp/sage-9.6-current/local/var/lib/sage/venv-python3.10.3/lib/python3.10/site-packages/sage/interfaces/expect.py\u001b[0m in \u001b[0;36m<listcomp>\u001b[0;34m(.0)\u001b[0m\n\u001b[1;32m   1385\u001b[0m                     \u001b[0;32mreturn\u001b[0m \u001b[0mself\u001b[0m\u001b[0;34m.\u001b[0m\u001b[0m_eval_line_using_file\u001b[0m\u001b[0;34m(\u001b[0m\u001b[0mcode\u001b[0m\u001b[0;34m)\u001b[0m\u001b[0;34m\u001b[0m\u001b[0;34m\u001b[0m\u001b[0m\n\u001b[1;32m   1386\u001b[0m                 \u001b[0;32melif\u001b[0m \u001b[0msplit_lines\u001b[0m\u001b[0;34m:\u001b[0m\u001b[0;34m\u001b[0m\u001b[0;34m\u001b[0m\u001b[0m\n\u001b[0;32m-> 1387\u001b[0;31m                     return '\\n'.join([self._eval_line(L, allow_use_file=allow_use_file, **kwds)\n\u001b[0m\u001b[1;32m   1388\u001b[0m                                         for L in code.split('\\n') if L != ''])\n\u001b[1;32m   1389\u001b[0m                 \u001b[0;32melse\u001b[0m\u001b[0;34m:\u001b[0m\u001b[0;34m\u001b[0m\u001b[0;34m\u001b[0m\u001b[0m\n",
      "\u001b[0;32m/private/var/tmp/sage-9.6-current/local/var/lib/sage/venv-python3.10.3/lib/python3.10/site-packages/sage/interfaces/expect.py\u001b[0m in \u001b[0;36m_eval_line\u001b[0;34m(self, line, allow_use_file, wait_for_prompt, restart_if_needed)\u001b[0m\n\u001b[1;32m   1018\u001b[0m                     \u001b[0mout\u001b[0m \u001b[0;34m=\u001b[0m \u001b[0;34m''\u001b[0m\u001b[0;34m\u001b[0m\u001b[0;34m\u001b[0m\u001b[0m\n\u001b[1;32m   1019\u001b[0m         \u001b[0;32mexcept\u001b[0m \u001b[0mKeyboardInterrupt\u001b[0m\u001b[0;34m:\u001b[0m\u001b[0;34m\u001b[0m\u001b[0;34m\u001b[0m\u001b[0m\n\u001b[0;32m-> 1020\u001b[0;31m             \u001b[0mself\u001b[0m\u001b[0;34m.\u001b[0m\u001b[0m_keyboard_interrupt\u001b[0m\u001b[0;34m(\u001b[0m\u001b[0;34m)\u001b[0m\u001b[0;34m\u001b[0m\u001b[0;34m\u001b[0m\u001b[0m\n\u001b[0m\u001b[1;32m   1021\u001b[0m             \u001b[0;32mraise\u001b[0m \u001b[0mKeyboardInterrupt\u001b[0m\u001b[0;34m(\u001b[0m\u001b[0;34m\"Ctrl-c pressed while running %s\"\u001b[0m \u001b[0;34m%\u001b[0m \u001b[0mself\u001b[0m\u001b[0;34m)\u001b[0m\u001b[0;34m\u001b[0m\u001b[0;34m\u001b[0m\u001b[0m\n\u001b[1;32m   1022\u001b[0m         \u001b[0;32mif\u001b[0m \u001b[0mself\u001b[0m\u001b[0;34m.\u001b[0m\u001b[0m_terminal_echo\u001b[0m\u001b[0;34m:\u001b[0m\u001b[0;34m\u001b[0m\u001b[0;34m\u001b[0m\u001b[0m\n",
      "\u001b[0;32m/private/var/tmp/sage-9.6-current/local/var/lib/sage/venv-python3.10.3/lib/python3.10/site-packages/sage/interfaces/singular.py\u001b[0m in \u001b[0;36m_keyboard_interrupt\u001b[0;34m(self)\u001b[0m\n\u001b[1;32m   1307\u001b[0m             \u001b[0;32mraise\u001b[0m \u001b[0mpexpect\u001b[0m\u001b[0;34m.\u001b[0m\u001b[0mExceptionPexpect\u001b[0m\u001b[0;34m(\u001b[0m\u001b[0;34m\"THIS IS A BUG -- PLEASE REPORT. This should never happen.\\n\"\u001b[0m \u001b[0;34m+\u001b[0m \u001b[0mmsg\u001b[0m\u001b[0;34m)\u001b[0m\u001b[0;34m\u001b[0m\u001b[0;34m\u001b[0m\u001b[0m\n\u001b[1;32m   1308\u001b[0m         \u001b[0mself\u001b[0m\u001b[0;34m.\u001b[0m\u001b[0m_start\u001b[0m\u001b[0;34m(\u001b[0m\u001b[0;34m)\u001b[0m\u001b[0;34m\u001b[0m\u001b[0;34m\u001b[0m\u001b[0m\n\u001b[0;32m-> 1309\u001b[0;31m         \u001b[0;32mraise\u001b[0m \u001b[0mKeyboardInterrupt\u001b[0m\u001b[0;34m(\u001b[0m\u001b[0;34m\"Restarting %s (WARNING: all variables defined in previous session are now invalid)\"\u001b[0m \u001b[0;34m%\u001b[0m \u001b[0mself\u001b[0m\u001b[0;34m)\u001b[0m\u001b[0;34m\u001b[0m\u001b[0;34m\u001b[0m\u001b[0m\n\u001b[0m\u001b[1;32m   1310\u001b[0m \u001b[0;34m\u001b[0m\u001b[0m\n\u001b[1;32m   1311\u001b[0m \u001b[0;34m\u001b[0m\u001b[0m\n",
      "\u001b[0;31mKeyboardInterrupt\u001b[0m: Restarting Singular (WARNING: all variables defined in previous session are now invalid)"
     ]
    }
   ],
   "source": [
    "T = J._singular_().mres(0)"
   ]
  },
  {
   "cell_type": "code",
   "execution_count": 114,
   "metadata": {},
   "outputs": [
    {
     "data": {
      "text/plain": [
       "[x^15 + 3*x^10*y^5 + 3*x^5*y^10 + y^15 + 3*x^10*z^5 + 6*x^5*y^5*z^5 + 3*y^10*z^5 + 3*x^5*z^10 + 3*y^5*z^10 + z^15 - 3*x^10 - 6*x^5*y^5 - 3*y^10 - 6*x^5*z^5 - 6*y^5*z^5 - 3*z^10 + 3*x^5 + 3*y^5 + 3*z^5 - 1,\n",
       " x^13 + x^10*y^3 + 2*x^8*y^5 + 2*x^5*y^8 + x^3*y^10 + y^13 + 2*x^8*z^5 + 2*x^5*y^3*z^5 + 2*x^3*y^5*z^5 + 2*y^8*z^5 + x^3*z^10 + y^3*z^10 + x^10*z^2 + 2*x^5*y^5*z^2 + y^10*z^2 + 2*x^5*z^7 + 2*y^5*z^7 + z^12 - x^10 - 2*x^5*y^5 - y^10 - 2*x^5*z^5 - 2*y^5*z^5 - z^10 - 2*x^8 - 2*x^5*y^3 - 2*x^3*y^5 - 2*y^8 - 2*x^3*z^5 - 2*y^3*z^5 - 2*x^5*z^2 - 2*y^5*z^2 - 2*z^7 + 2*x^5 + 2*y^5 + 2*z^5 + x^3 + y^3 + z^2 - 1,\n",
       " x^10*y^6 + 2*x^5*y^11 + y^16 + 2*x^5*y^6*z^5 + 2*y^11*z^5 + y^6*z^10 - 2*x^5*y^6 - 2*y^11 - 2*y^6*z^5 - x^10 - 2*x^5*y^5 - y^10 - 2*x^5*z^5 - 2*y^5*z^5 - z^10 + y^6 + 2*x^5 + 2*y^5 + 2*z^5 - 1,\n",
       " x^10*z^6 + 2*x^5*y^5*z^6 + y^10*z^6 + 2*x^5*z^11 + 2*y^5*z^11 + z^16 - 2*x^5*z^6 - 2*y^5*z^6 - 2*z^11 - x^10 - 2*x^5*y^5 - y^10 - 2*x^5*z^5 - 2*y^5*z^5 - z^10 + z^6 + 2*x^5 + 2*y^5 + 2*z^5 - 1,\n",
       " x^11 + 2*x^8*y^3 + x^6*y^5 + x^5*y^6 + 2*x^3*y^8 + y^11 + x^6*z^5 + 2*x^3*y^3*z^5 + y^6*z^5 + 2*x^8*z^2 + 2*x^5*y^3*z^2 + 2*x^3*y^5*z^2 + 2*y^8*z^2 + 2*x^3*z^7 + 2*y^3*z^7 + x^5*z^4 + y^5*z^4 + z^9 - 2*x^8 - 2*x^5*y^3 - 2*x^3*y^5 - 2*y^8 - 2*x^3*z^5 - 2*y^3*z^5 - 2*x^5*z^2 - 2*y^5*z^2 - 2*z^7 - x^6 - 2*x^3*y^3 - y^6 + x^5 + y^5 - 2*x^3*z^2 - 2*y^3*z^2 + z^5 - z^4 + 2*x^3 + 2*y^3 + 2*z^2 - 1,\n",
       " x^8*y^6 + x^5*y^9 + x^3*y^11 + y^14 + x^3*y^6*z^5 + y^9*z^5 + x^5*y^6*z^2 + y^11*z^2 + y^6*z^7 - x^5*y^6 - y^11 - y^6*z^5 - x^3*y^6 - y^9 - x^8 - x^5*y^3 - x^3*y^5 - y^8 - y^6*z^2 - x^3*z^5 - y^3*z^5 - x^5*z^2 - y^5*z^2 - z^7 + y^6 + x^5 + y^5 + z^5 + x^3 + y^3 + z^2 - 1,\n",
       " x^8*z^6 + x^5*y^3*z^6 + x^3*y^5*z^6 + y^8*z^6 + x^3*z^11 + y^3*z^11 + x^5*z^8 + y^5*z^8 + z^13 - x^5*z^6 - y^5*z^6 - z^11 - x^3*z^6 - y^3*z^6 - x^8 - x^5*y^3 - x^3*y^5 - y^8 - x^3*z^5 - y^3*z^5 - z^8 - x^5*z^2 - y^5*z^2 - z^7 + z^6 + x^5 + y^5 + z^5 + x^3 + y^3 + z^2 - 1,\n",
       " x^5*y^12 + y^17 + y^12*z^5 - y^12 - 2*x^5*y^6 - 2*y^11 - 2*y^6*z^5 + 2*y^6 + x^5 + y^5 + z^5 - 1,\n",
       " x^5*y^6*z^6 + y^11*z^6 + y^6*z^11 - y^6*z^6 - x^5*y^6 - y^11 - y^6*z^5 - x^5*z^6 - y^5*z^6 - z^11 + y^6 + z^6 + x^5 + y^5 + z^5 - 1,\n",
       " x^5*z^12 + y^5*z^12 + z^17 - z^12 - 2*x^5*z^6 - 2*y^5*z^6 - 2*z^11 + 2*z^6 + x^5 + y^5 + z^5 - 1,\n",
       " x^9 + 3*x^6*y^3 + 3*x^3*y^6 + y^9 + 3*x^6*z^2 + 6*x^3*y^3*z^2 + 3*y^6*z^2 + 3*x^3*z^4 + 3*y^3*z^4 - 3*x^6 - 6*x^3*y^3 - 3*y^6 + z^6 - 6*x^3*z^2 - 6*y^3*z^2 - 3*z^4 + 3*x^3 + 3*y^3 + 3*z^2 - 1,\n",
       " x^6*y^6 + 2*x^3*y^9 + y^12 + 2*x^3*y^6*z^2 + 2*y^9*z^2 + y^6*z^4 - 2*x^3*y^6 - 2*y^9 - 2*y^6*z^2 - x^6 - 2*x^3*y^3 - 2*x^3*z^2 - 2*y^3*z^2 - z^4 + 2*x^3 + 2*y^3 + 2*z^2 - 1,\n",
       " x^6*z^6 + 2*x^3*y^3*z^6 + y^6*z^6 + 2*x^3*z^8 + 2*y^3*z^8 + z^10 - 2*x^3*z^6 - 2*y^3*z^6 - 2*z^8 - x^6 - 2*x^3*y^3 - y^6 + z^6 - 2*x^3*z^2 - 2*y^3*z^2 - z^4 + 2*x^3 + 2*y^3 + 2*z^2 - 1,\n",
       " x^3*y^12 + y^15 + y^12*z^2 - y^12 - 2*x^3*y^6 - 2*y^9 - 2*y^6*z^2 + 2*y^6 + x^3 + y^3 + z^2 - 1,\n",
       " x^3*y^6*z^6 + y^9*z^6 + y^6*z^8 - y^6*z^6 - x^3*y^6 - y^9 - x^3*z^6 - y^3*z^6 - y^6*z^2 - z^8 + y^6 + z^6 + x^3 + y^3 + z^2 - 1,\n",
       " x^3*z^12 + y^3*z^12 + z^14 - z^12 - 2*x^3*z^6 - 2*y^3*z^6 - 2*z^8 + 2*z^6 + x^3 + y^3 + z^2 - 1,\n",
       " y^18 - 3*y^12 + 3*y^6 - 1,\n",
       " y^12*z^6 - y^12 - 2*y^6*z^6 + 2*y^6 + z^6 - 1,\n",
       " y^6*z^12 - 2*y^6*z^6 - z^12 + y^6 + 2*z^6 - 1,\n",
       " z^18 - 3*z^12 + 3*z^6 - 1,\n",
       " x^7 - x,\n",
       " y^7 - y,\n",
       " z^7 - z]"
      ]
     },
     "execution_count": 114,
     "metadata": {},
     "output_type": "execute_result"
    },
    {
     "name": "stderr",
     "output_type": "stream",
     "text": [
      "IOStream.flush timed out\n",
      "IOStream.flush timed out\n"
     ]
    }
   ],
   "source": [
    "f_list"
   ]
  },
  {
   "cell_type": "code",
   "execution_count": 25,
   "metadata": {},
   "outputs": [
    {
     "name": "stdout",
     "output_type": "stream",
     "text": [
      "0 [0] True False\n",
      "1 [0] True False\n",
      "2 [x^2 - 1, x*y + x] False True\n",
      "3 [x^3 - x, x^2*y + 1, x*y^2 - x, x^2 - 1, x*y + x, y + 1] True True\n"
     ]
    },
    {
     "data": {
      "text/plain": [
       "(3, [x^3 - x, x^2*y + 1, x*y^2 - x, x^2 - 1, x*y + x, y + 1])"
      ]
     },
     "execution_count": 25,
     "metadata": {},
     "output_type": "execute_result"
    }
   ],
   "source": [
    "R.<x,y> = PolynomialRing(QQ, order = \"degrevlex\")\n",
    "f1 = x^2 - 1\n",
    "f2 = x*y + x\n",
    "mac_grob([f1,f2],R)"
   ]
  },
  {
   "cell_type": "code",
   "execution_count": 27,
   "metadata": {},
   "outputs": [
    {
     "name": "stdout",
     "output_type": "stream",
     "text": [
      "0 [0] True False\n",
      "1 [0] True False\n",
      "2 [x^2 - 1, x*y + x] False True\n",
      "3 [x^3 - x, x^2*y + 1, x^2 - 1, x*y^2 - x, x*y + x, y + 1] True True\n"
     ]
    },
    {
     "data": {
      "text/plain": [
       "(3, [x^3 - x, x^2*y + 1, x^2 - 1, x*y^2 - x, x*y + x, y + 1])"
      ]
     },
     "execution_count": 27,
     "metadata": {},
     "output_type": "execute_result"
    }
   ],
   "source": [
    "R.<x,y> = PolynomialRing(QQ, order = \"lex\")\n",
    "f1 = x^2 - 1\n",
    "f2 = x*y + x\n",
    "mac_grob([f1,f2],R)"
   ]
  },
  {
   "cell_type": "code",
   "execution_count": null,
   "metadata": {},
   "outputs": [],
   "source": []
  }
 ],
 "metadata": {
  "kernelspec": {
   "display_name": "SageMath 9.6",
   "language": "sage",
   "name": "sagemath-9.6"
  },
  "language_info": {
   "codemirror_mode": {
    "name": "ipython",
    "version": 3
   },
   "file_extension": ".py",
   "mimetype": "text/x-python",
   "name": "python",
   "nbconvert_exporter": "python",
   "pygments_lexer": "ipython3",
   "version": "3.10.3"
  }
 },
 "nbformat": 4,
 "nbformat_minor": 4
}
