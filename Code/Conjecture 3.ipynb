{
 "cells": [
  {
   "cell_type": "code",
   "execution_count": 330,
   "id": "b4e0ed0c",
   "metadata": {},
   "outputs": [],
   "source": [
    "import time\n",
    "from sage.rings.polynomial.hilbert import hilbert_poincare_series\n",
    "\n",
    "# computes degree of regularity for a homogeneous ideal\n",
    "def hdegree_reg(I):\n",
    "    G = I.groebner_basis()\n",
    "    LT = Ideal([g.lt() for g in G])\n",
    "    HS = hilbert_poincare_series(LT)\n",
    "    delta = HS.numerator().degree()\n",
    "    l = HS.denominator().degree()\n",
    "    return(delta - l + 1)\n",
    "\n",
    "\n",
    "# computes F^top\n",
    "def f_top(I, R):\n",
    "    f_list = I.gens()\n",
    "    new_ring.<h> = PolynomialRing(R, order = 'degrevlex')\n",
    "    homogenized = [new_ring(poly.homogenize()) for poly in f_list]\n",
    "    final = [R(poly.subs(h=0)) for poly in homogenized] \n",
    "    return(final)\n",
    "\n",
    "\n",
    "# computes degree of regularity in the nonhomogeneous case\n",
    "def degree_reg(I, R):\n",
    "    J = ideal(f_top(I,R))\n",
    "    return hdegree_reg(J)\n",
    "\n",
    "  \n",
    "def test_rowsp(f, f_list, d, ring):\n",
    "    mons = get_mons(d, ring)\n",
    "    M = mac_matrix(f_list, d, ring)\n",
    "    done = False\n",
    "    while not done:\n",
    "        rowsp = M.row_space()\n",
    "        to_be_added = []\n",
    "        for row in M.rref().rows():\n",
    "            g = 0\n",
    "            for (coeff, mon) in zip(row, mons):\n",
    "                g += coeff * mon\n",
    "            max_test_deg = d - g.degree()\n",
    "            if (g != 0) and (max_test_deg > 0):\n",
    "                for mon in get_mons(max_test_deg, ring):\n",
    "                    test_p = mon*g\n",
    "                    test_vec = vector([test_p.monomial_coefficient(moon) for moon in mons])\n",
    "                    if test_vec not in rowsp:\n",
    "                        to_be_added.append(test_vec)\n",
    "        if to_be_added == []:\n",
    "            done = True\n",
    "        else:\n",
    "            new_rows = M.rows() + to_be_added\n",
    "            M = Matrix(new_rows)\n",
    "    f_vec = vector([ring(f).monomial_coefficient(mon) for mon in mons])\n",
    "    return f_vec in M.row_space()\n",
    "\n",
    "\n",
    "def get_mons(d, ring, leq = True):\n",
    "    if leq:\n",
    "        mons = []\n",
    "        for i in range(d+1):\n",
    "            mons += [ring({tuple(a):1}) for a in WeightedIntegerVectors(i,[1 for gen in ring.gens()])]\n",
    "    else:\n",
    "        mons = [ring({tuple(a):1}) for a in WeightedIntegerVectors(d,[1 for gen in ring.gens()])]\n",
    "    mons.sort()\n",
    "    mons.reverse()\n",
    "    return mons\n",
    "\n",
    "\n",
    "def deg_fall(f, f_list, ring):\n",
    "    test_deg = f.degree()\n",
    "    while True:\n",
    "        print(test_deg, time.strftime(\"%H:%M:%S\", time.localtime()))\n",
    "        if test_rowsp(f, f_list, test_deg, ring):\n",
    "            return test_deg\n",
    "        test_deg += 1\n",
    "        \n",
    "        \n",
    "def lfd(f_list, ring):\n",
    "    fall_degrees = []\n",
    "    I = ideal(f_list)\n",
    "    B = I.groebner_basis()\n",
    "    print(B)\n",
    "    for f in B:\n",
    "        print(f)\n",
    "        d = deg_fall(f, f_list, ring)\n",
    "        if d > f.degree():\n",
    "            fall_degrees.append(d)\n",
    "    if fall_degrees == []:\n",
    "        return 0\n",
    "    else:\n",
    "        return max(fall_degrees)\n",
    "    \n",
    "    \n",
    "# Compute the Macaulay matrix in degree d of a system f = [f1,...,fs]\n",
    "def mac_matrix(f,d,ring):\n",
    "    mons0 = monomials(list(ring.gens()), [d+1 for i in range(len(ring.gens()))])\n",
    "    mons = []\n",
    "    for mon in mons0:\n",
    "        if mon.degree() <= d:\n",
    "            mons.append(mon)\n",
    "    mons.sort()\n",
    "    mons.reverse() # for reasons I don't understand, the .sort() method respects the chosen order but reverses it\n",
    "    col_labs = []\n",
    "    for deg in range(d + 1):\n",
    "        segment = []\n",
    "        for poly in f:\n",
    "            for mon in mons:\n",
    "                label = ring(mon)*ring(poly)\n",
    "                if label.degree() == deg:\n",
    "                    segment.append(label)\n",
    "        col_labs += segment\n",
    "    return matrix([[label.monomial_coefficient(mon) for mon in mons] for label in col_labs])\n",
    "\n",
    "\n",
    "# Takes an RREF Macaulay matrix as input and returns a list of the corresponding polynomials\n",
    "def recover_polys(M, d, ring):\n",
    "    mons0 = monomials(list(ring.gens()), [d+1 for i in range(len(ring.gens()))])\n",
    "    mons = []\n",
    "    for mon in mons0:\n",
    "        if mon.degree() <= d:\n",
    "            mons.append(mon)\n",
    "    mons.sort()\n",
    "    mons.reverse()\n",
    "    B = []\n",
    "    for row in M.rows():\n",
    "        g = 0\n",
    "        for (coeff,mon) in zip(row,mons):\n",
    "            g += coeff*mon\n",
    "        if g != 0:\n",
    "            B.append(g)\n",
    "    if B == []:\n",
    "        B = [ring(0)]\n",
    "    return Sequence(B) # Sage doesn't know how to work with the output list unless it is a \"Sequence\" of polynomials\n",
    "\n",
    "\n",
    "# Now instead of using mac_matrix followed by recover_polys, we ask for the new polynomials directly:\n",
    "def mac_basis(f,d,ring):\n",
    "    mons0 = monomials(list(ring.gens()), [d+1 for i in range(len(ring.gens()))])\n",
    "    mons = []\n",
    "    for mon in mons0:\n",
    "        if mon.degree() <= d:\n",
    "            mons.append(mon)\n",
    "    mons.sort()\n",
    "    mons.reverse() # for reasons I don't understand, the .sort() method respects the chosen order but reverses it\n",
    "    col_labs = []\n",
    "    for deg in range(d + 1):\n",
    "        segment = []\n",
    "        for poly in f:\n",
    "            for mon in mons:\n",
    "                label = ring(mon)*ring(poly)\n",
    "                if label.degree() == deg:\n",
    "                    segment.append(label)\n",
    "        col_labs += segment\n",
    "    M = matrix([[label.monomial_coefficient(mon) for mon in mons] for label in col_labs]).rref()\n",
    "    B = []\n",
    "    for row in M.rows():\n",
    "        g = 0\n",
    "        for (coeff,mon) in zip(row,mons):\n",
    "            g += coeff*mon\n",
    "        if g != 0:\n",
    "            B.append(g)\n",
    "    if B == []:\n",
    "        B = [ring(0)]\n",
    "    return Sequence(B)\n",
    "\n",
    "\n",
    "# Now define a function that calculates a Gröbner basis and the solving degree (per Caminata and Gorla, 2021)\n",
    "def mac_grob(f,ring):\n",
    "    test_deg = 0\n",
    "    while True:\n",
    "        B = mac_basis(f, test_deg, ring)\n",
    "        print(test_deg, B, B.is_groebner(), ideal(B) == ideal(f))\n",
    "        if B.is_groebner() and ideal(B) == ideal(f):\n",
    "            return (test_deg,B)\n",
    "        test_deg += 1\n",
    "        \n",
    "\n",
    "# Modified version to compute the solving degree per Caminata and Gorla, 2023\n",
    "def sdeg(f, ring):\n",
    "    d = 0\n",
    "    while True:\n",
    "        d_level_base = []\n",
    "        mons = get_mons(d, ring)\n",
    "        M = mac_matrix(f, d, ring)\n",
    "        done = False\n",
    "        while not done:\n",
    "            rowsp = M.row_space()\n",
    "            to_be_added = []\n",
    "            for row in M.rref().rows():\n",
    "                g = 0\n",
    "                for (coeff, mon) in zip(row, mons):\n",
    "                    g += coeff * mon\n",
    "                max_test_deg = d - g.degree()\n",
    "                if (g != 0) and (max_test_deg > 0):\n",
    "                    for mon in get_mons(max_test_deg, ring):\n",
    "                        test_p = mon*g\n",
    "                        test_vec = vector([test_p.monomial_coefficient(moon) for moon in mons])\n",
    "                        if test_vec not in rowsp:\n",
    "                            to_be_added.append(test_vec)\n",
    "            if to_be_added == []:\n",
    "                done = True\n",
    "                for row in M.rref().rows():\n",
    "                    g = 0\n",
    "                    for (coeff, mon) in zip(row, mons):\n",
    "                        g += coeff * mon\n",
    "                    if g != 0:\n",
    "                        d_level_base.append(g)\n",
    "                if d_level_base == []:\n",
    "                    d_level_base = [ring(0)]\n",
    "                check_1 = Sequence(d_level_base).is_groebner()\n",
    "                check_2 = (ideal(d_level_base) == ideal(f))\n",
    "                print(d, Sequence(d_level_base), check_1, check_2)\n",
    "                if check_1 and check_2:\n",
    "                    return (d, Sequence(d_level_base))\n",
    "                d += 1\n",
    "            else:\n",
    "                new_rows = M.rows() + to_be_added\n",
    "                M = Matrix(new_rows)"
   ]
  },
  {
   "cell_type": "code",
   "execution_count": 333,
   "id": "04672185",
   "metadata": {},
   "outputs": [],
   "source": [
    "# tests conjecture 3 for the degree reverse lex ordering (Sage default)\n",
    "\n",
    "def is_generic(I,R):\n",
    "    r = I.dimension()\n",
    "    if r == 0: \n",
    "        return True\n",
    "    r_gens = list(R.gens())\n",
    "    M = ideal(r_gens)\n",
    "    variables_to_check = r_gens[r-2:][::-1]\n",
    "    variables_checked = []\n",
    "    for variable in variables_to_check:\n",
    "        J = I\n",
    "        for var in variables_checked:\n",
    "            J = J + ideal(var)\n",
    "        if J.dimension() == 0:\n",
    "            return True\n",
    "        sat = J.saturation(M)[0]\n",
    "        for prime in sat.associated_primes():\n",
    "            if variable in prime:\n",
    "                return False\n",
    "        variables_checked.append(variable)\n",
    "    return True\n",
    "\n",
    "def test_conjecture(f_list, R):\n",
    "    F = ideal(f_list)\n",
    "    S = F.homogenize().ring()\n",
    "    h_list = [S(f.homogenize()) for f in f_list]\n",
    "    Fh = ideal(h_list)\n",
    "    reg = Fh._singular_().mres(0).betti().nrows()\n",
    "    print(reg)\n",
    "    sd = sdeg(f_list, R)[0]\n",
    "    return (sd, reg, is_generic(Fh,S))\n",
    "\n",
    "def test_conjecture_extra(f_list, R):\n",
    "    F = ideal(f_list)\n",
    "    S = F.homogenize().ring()\n",
    "    h_list = [S(f.homogenize()) for f in f_list]\n",
    "    Fh = ideal(h_list)\n",
    "    reg = Fh._singular_().mres(0).betti().nrows()\n",
    "    print(reg, '\\n')\n",
    "    sd = sdeg(f_list, R)[0]\n",
    "    print('')\n",
    "    solve_deg = mac_grob(f_list, R)[0]\n",
    "    return (Fh.dimension(), sd, reg, solve_deg, is_generic(Fh,S))"
   ]
  },
  {
   "cell_type": "code",
   "execution_count": 320,
   "id": "23f2240d",
   "metadata": {},
   "outputs": [
    {
     "name": "stdout",
     "output_type": "stream",
     "text": [
      "5\n",
      "0 [0] True False\n",
      "1 [0] True False\n",
      "2 [x1^2 + x2^2] True False\n",
      "3 [x1^3 + x1*x2^2, x1^2*x2 + x2^3, x1^2*x3 + x2^2*x3, x1^2*x4 + x2^2*x4, x1^2 + x2^2] True False\n",
      "4 [x1^4, x1^3*x2 + x1*x2^3, x1^2*x2^2, x2^4, x1^3*x3 + x1*x2^2*x3, x1^2*x2*x3 + x2^3*x3, x1^2*x3^2 + x2^2*x3^2, x1^3*x4 + x1*x2^2*x4, x1^2*x2*x4 + x2^3*x4, x1^2*x3*x4 + x2^2*x3*x4, x1^2*x4^2 + x2^2*x4^2, x1^3 + x1*x2^2, x1^2*x2 + x2^3, x1^2*x3 + x2^2*x3, x1^2*x4 + x2^2*x4, x1^2 + x2^2] True True\n"
     ]
    },
    {
     "data": {
      "text/plain": [
       "(4, 5, True)"
      ]
     },
     "execution_count": 320,
     "metadata": {},
     "output_type": "execute_result"
    }
   ],
   "source": [
    "R.<x1,x2,x3,x4> = PolynomialRing(QQ, order = 'degrevlex')\n",
    "f1 = x1^2 + x2^2\n",
    "f2 = x1^2*x2^2\n",
    "test_conjecture([f1,f2],R)"
   ]
  },
  {
   "cell_type": "code",
   "execution_count": 321,
   "id": "cd4c77a9",
   "metadata": {},
   "outputs": [
    {
     "name": "stdout",
     "output_type": "stream",
     "text": [
      "11\n",
      "0 [0] True False\n",
      "1 [0] True False\n",
      "2 [x*y + y, y^2 - 1] False True\n",
      "3 [x^3 + 1, x^2*y - y, x*y^2 + 1, y^3 - y, x^2 - 1, x*y + y, y^2 - 1, x + 1] True True\n"
     ]
    },
    {
     "data": {
      "text/plain": [
       "(3, 11, True)"
      ]
     },
     "execution_count": 321,
     "metadata": {},
     "output_type": "execute_result"
    }
   ],
   "source": [
    "# Gorla 4.1\n",
    "\n",
    "R.<x,y> = PolynomialRing(GF(11), order = \"degrevlex\")\n",
    "f1 = x*y + y\n",
    "f2 = y^2 - 1\n",
    "f3 = x^10 - 1\n",
    "test_conjecture([f1,f2,f3],R)"
   ]
  },
  {
   "cell_type": "code",
   "execution_count": 323,
   "id": "3283c6c0",
   "metadata": {},
   "outputs": [
    {
     "name": "stdout",
     "output_type": "stream",
     "text": [
      "8\n",
      "0 [0] True False\n",
      "1 [0] True False\n",
      "2 [x*y + y, y^2 - 1] False False\n",
      "3 [x^3 + 1, x^2*y - y, x*y^2 + 1, y^3 - y, x^2*z - z, x*y*z + y*z, y^2*z - z, x*z^2 + z^2, x^2 - 1, x*y + y, y^2 - 1, x*z + z, x + 1] True False\n",
      "4 Polynomial Sequence with 26 Polynomials in 3 Variables True False\n",
      "5 Polynomial Sequence with 45 Polynomials in 3 Variables True False\n",
      "6 Polynomial Sequence with 72 Polynomials in 3 Variables True True\n"
     ]
    },
    {
     "data": {
      "text/plain": [
       "(6, 8, False)"
      ]
     },
     "execution_count": 323,
     "metadata": {},
     "output_type": "execute_result"
    }
   ],
   "source": [
    "# Gorla 4.2\n",
    "R.<x,y,z> = PolynomialRing(GF(7), order = \"degrevlex\")\n",
    "f1 = x*y + y\n",
    "f2 = y^2 - 1\n",
    "f3 = z^6 - 1\n",
    "test_conjecture([f1,f2,f3],R)"
   ]
  },
  {
   "cell_type": "code",
   "execution_count": 324,
   "id": "6b0c3875",
   "metadata": {},
   "outputs": [
    {
     "name": "stdout",
     "output_type": "stream",
     "text": [
      "3\n",
      "0 [0] True False\n",
      "1 [0] True False\n",
      "2 [x^2 - 1, y^2 - 1] True True\n"
     ]
    },
    {
     "data": {
      "text/plain": [
       "(2, 3, True)"
      ]
     },
     "execution_count": 324,
     "metadata": {},
     "output_type": "execute_result"
    }
   ],
   "source": [
    "# Gorla 4.3\n",
    "R.<x,y> = PolynomialRing(GF(13), order = \"degrevlex\")\n",
    "f1 = x^2 - 1\n",
    "f2 = y^2 - 1\n",
    "I = Ideal(f1,f2)\n",
    "test_conjecture([f1,f2],R)"
   ]
  },
  {
   "cell_type": "code",
   "execution_count": 352,
   "id": "d026f064",
   "metadata": {},
   "outputs": [
    {
     "name": "stdout",
     "output_type": "stream",
     "text": [
      "13\n",
      "0 [0] True False\n",
      "1 [0] True False\n",
      "2 [x^2 - 1, x*y - 1] False False\n",
      "3 [w^2*x - w^2*y, w*x^2 - w, x^3 - y, w*x*y - w, x^2*y - y, w*y^2 - w, x*y^2 - y, y^3 - y, w*x*z - w*y*z, x^2*z - z, x*y*z - z, y^2*z - z, x*z^2 - y*z^2, w*x - w*y, x^2 - 1, x*y - 1, y^2 - 1, x*z - y*z, x - y] True False\n",
      "4 Polynomial Sequence with 45 Polynomials in 4 Variables True False\n",
      "5 Polynomial Sequence with 91 Polynomials in 4 Variables True False\n",
      "6 Polynomial Sequence with 165 Polynomials in 4 Variables True False\n",
      "7 Polynomial Sequence with 275 Polynomials in 4 Variables True False\n",
      "8 Polynomial Sequence with 431 Polynomials in 4 Variables False True\n",
      "9 Polynomial Sequence with 683 Polynomials in 4 Variables True True\n"
     ]
    },
    {
     "data": {
      "text/plain": [
       "(9, 13, False)"
      ]
     },
     "execution_count": 352,
     "metadata": {},
     "output_type": "execute_result"
    }
   ],
   "source": [
    "# Gorla 4.4\n",
    "R.<w,x,y,z> = PolynomialRing(GF(5), order = \"degrevlex\")\n",
    "f1 = x^2 - 1\n",
    "f2 = x*y - 1\n",
    "f3 = w^5 - w\n",
    "f4 = w^4*z^4 - 1\n",
    "test_conjecture([f1,f2,f3,f4],R)"
   ]
  },
  {
   "cell_type": "code",
   "execution_count": 328,
   "id": "a097b13b",
   "metadata": {},
   "outputs": [],
   "source": [
    "# Gorla 2.4\n",
    "R.<w,x,y,z> = PolynomialRing(QQ, order = \"degrevlex\")\n",
    "f1 = x^2 - x\n",
    "f2 = x*y - 1\n",
    "f3 = w^6 - w\n",
    "f4 = w^5*z^5 - 1\n",
    "# test_conjecture([f1,f2,f3,f4],R) gives (11,15,False)"
   ]
  },
  {
   "cell_type": "code",
   "execution_count": 334,
   "id": "788541d4",
   "metadata": {},
   "outputs": [
    {
     "name": "stdout",
     "output_type": "stream",
     "text": [
      "7 \n",
      "\n",
      "0 [0] True False\n",
      "1 [0] True False\n",
      "2 [0] True False\n",
      "3 [x*y^2 - z] True False\n",
      "4 [w*x*y^2 - w*z, x^2*y^2 - x*z, x*y^3 - y*z, x*y^2*z - z^2, x*y^2 - z] True False\n",
      "5 [w^2*x*y^2 - w^2*z, w*x^2*y^2 - w*x*z, x^3*y^2 - x^2*z, w*x*y^3 - w*y*z, x^2*y^3 - x*y*z, x*y^4 - y^2*z, w*x*y^2*z - w*z^2, x^2*y^2*z - x*z^2, x*y^3*z - y*z^2, x*y^2*z^2 - z^3, w*z^4 + 1, w*x*y^2 - w*z, x^2*y^2 - x*z, x*y^3 - y*z, x*y^2*z - z^2, x*y^2 - z] True True\n",
      "\n",
      "0 [0] True False\n",
      "1 [0] True False\n",
      "2 [0] True False\n",
      "3 [x*y^2 - z] True False\n",
      "4 [w*x*y^2 - w*z, x^2*y^2 - x*z, x*y^3 - y*z, x*y^2*z - z^2, x*y^2 - z] True False\n",
      "5 [w^2*x*y^2 - w^2*z, w*x^2*y^2 - w*x*z, x^3*y^2 - x^2*z, w*x*y^3 - w*y*z, x^2*y^3 - x*y*z, x*y^4 - y^2*z, w*x*y^2*z - w*z^2, x^2*y^2*z - x*z^2, x*y^3*z - y*z^2, x*y^2*z^2 - z^3, w*z^4 + 1, w*x*y^2 - w*z, x^2*y^2 - x*z, x*y^3 - y*z, x*y^2*z - z^2, x*y^2 - z] True True\n"
     ]
    },
    {
     "data": {
      "text/plain": [
       "(3, 5, 7, 5, False)"
      ]
     },
     "execution_count": 334,
     "metadata": {},
     "output_type": "execute_result"
    }
   ],
   "source": [
    "R.<w,x,y,z> = PolynomialRing(QQ, order = \"degrevlex\")\n",
    "f1 = x*y^2 - z \n",
    "f2 = z^4*w + 1\n",
    "test_conjecture_extra([f1,f2],R)"
   ]
  },
  {
   "cell_type": "code",
   "execution_count": 335,
   "id": "9634048a",
   "metadata": {},
   "outputs": [
    {
     "name": "stdout",
     "output_type": "stream",
     "text": [
      "7 \n",
      "\n",
      "0 [0] True False\n",
      "1 [0] True False\n",
      "2 [0] True False\n",
      "3 [x*y^2 - z] True False\n",
      "4 [w*x*y^2 - w*z, x^2*y^2 - x*z, x*y^3 - y*z, x*y^2*z - z^2, x*y^2 - z] True False\n",
      "5 [w^2*x*y^2 - w^2*z, w*x^2*y^2 - w*x*z, x^3*y^2 - x^2*z, w*x*y^3 - w*y*z, x^2*y^3 - x*y*z, x*y^4 - y^2*z, w*x*y^2*z - w*z^2, x^2*y^2*z - x*z^2, x*y^3*z - y*z^2, x*y^2*z^2 - z^3, w*z^4, w*x*y^2 - w*z, x^2*y^2 - x*z, x*y^3 - y*z, x*y^2*z - z^2, x*y^2 - z] True True\n",
      "\n",
      "0 [0] True False\n",
      "1 [0] True False\n",
      "2 [0] True False\n",
      "3 [x*y^2 - z] True False\n",
      "4 [w*x*y^2 - w*z, x^2*y^2 - x*z, x*y^3 - y*z, x*y^2*z - z^2, x*y^2 - z] True False\n",
      "5 [w^2*x*y^2 - w^2*z, w*x^2*y^2 - w*x*z, x^3*y^2 - x^2*z, w*x*y^3 - w*y*z, x^2*y^3 - x*y*z, x*y^4 - y^2*z, w*x*y^2*z - w*z^2, x^2*y^2*z - x*z^2, x*y^3*z - y*z^2, x*y^2*z^2 - z^3, w*z^4, w*x*y^2 - w*z, x^2*y^2 - x*z, x*y^3 - y*z, x*y^2*z - z^2, x*y^2 - z] True True\n"
     ]
    },
    {
     "data": {
      "text/plain": [
       "(3, 5, 7, 5, False)"
      ]
     },
     "execution_count": 335,
     "metadata": {},
     "output_type": "execute_result"
    }
   ],
   "source": [
    "R.<w,x,y,z> = PolynomialRing(QQ, order = \"degrevlex\")\n",
    "f1 = x*y^2 - z \n",
    "f2 = z^4*w\n",
    "test_conjecture_extra([f1,f2],R)"
   ]
  },
  {
   "cell_type": "code",
   "execution_count": 336,
   "id": "6207bf45",
   "metadata": {},
   "outputs": [
    {
     "name": "stdout",
     "output_type": "stream",
     "text": [
      "7 \n",
      "\n",
      "0 [0] True False\n",
      "1 [0] True False\n",
      "2 [0] True False\n",
      "3 [x*y^2] True False\n",
      "4 [w*x*y^2, x^2*y^2, x*y^3, x*y^2*z, x*y^2] True False\n",
      "5 [w^2*x*y^2, w*x^2*y^2, x^3*y^2, w*x*y^3, x^2*y^3, x*y^4, w*x*y^2*z, x^2*y^2*z, x*y^3*z, x*y^2*z^2, w*z^4, w*x*y^2, x^2*y^2, x*y^3, x*y^2*z, x*y^2] True True\n",
      "\n",
      "0 [0] True False\n",
      "1 [0] True False\n",
      "2 [0] True False\n",
      "3 [x*y^2] True False\n",
      "4 [w*x*y^2, x^2*y^2, x*y^3, x*y^2*z, x*y^2] True False\n",
      "5 [w^2*x*y^2, w*x^2*y^2, x^3*y^2, w*x*y^3, x^2*y^3, x*y^4, w*x*y^2*z, x^2*y^2*z, x*y^3*z, x*y^2*z^2, w*z^4, w*x*y^2, x^2*y^2, x*y^3, x*y^2*z, x*y^2] True True\n"
     ]
    },
    {
     "data": {
      "text/plain": [
       "(2, 5, 7, 5, False)"
      ]
     },
     "execution_count": 336,
     "metadata": {},
     "output_type": "execute_result"
    }
   ],
   "source": [
    "R.<w,x,y,z> = PolynomialRing(QQ, order = \"degrevlex\")\n",
    "f1 = x*y^2\n",
    "f2 = z^4*w\n",
    "test_conjecture_extra([f1,f2],R)"
   ]
  },
  {
   "cell_type": "code",
   "execution_count": 342,
   "id": "92fc54d8",
   "metadata": {},
   "outputs": [
    {
     "name": "stdout",
     "output_type": "stream",
     "text": [
      "3 \n",
      "\n",
      "0 [0] True False\n",
      "1 [0] True False\n",
      "2 [0] True False\n",
      "3 [x*y^2] True True\n",
      "\n",
      "0 [0] True False\n",
      "1 [0] True False\n",
      "2 [0] True False\n",
      "3 [x*y^2] True True\n"
     ]
    },
    {
     "data": {
      "text/plain": [
       "(2, 3, 3, 3, False)"
      ]
     },
     "execution_count": 342,
     "metadata": {},
     "output_type": "execute_result"
    }
   ],
   "source": [
    "R.<x,y,z> = PolynomialRing(GF(7), order = \"degrevlex\")\n",
    "f1 = x*y^2\n",
    "test_conjecture_extra([f1],R)"
   ]
  },
  {
   "cell_type": "code",
   "execution_count": 344,
   "id": "9881e780",
   "metadata": {},
   "outputs": [
    {
     "name": "stdout",
     "output_type": "stream",
     "text": [
      "19 \n",
      "\n",
      "0 [0] True False\n",
      "1 [0] True False\n",
      "2 [0] True False\n",
      "3 [x*y^2] True False\n",
      "4 [x^2*y^2, x*y^3, x*y^2*z, x*y^2] True False\n",
      "5 [x^3*y^2, x^2*y^3, x*y^4, x^2*y^2*z, x*y^3*z, x*y^2*z^2, x^2*y^2, x*y^3, x*y^2*z, x*y^2] True False\n",
      "6 Polynomial Sequence with 20 Polynomials in 3 Variables True False\n",
      "7 Polynomial Sequence with 38 Polynomials in 3 Variables False True\n",
      "8 Polynomial Sequence with 94 Polynomials in 3 Variables True True\n",
      "\n",
      "0 [0] True False\n",
      "1 [0] True False\n",
      "2 [0] True False\n",
      "3 [x*y^2] True False\n",
      "4 [x^2*y^2, x*y^3, x*y^2*z, x*y^2] True False\n",
      "5 [x^3*y^2, x^2*y^3, x*y^4, x^2*y^2*z, x*y^3*z, x*y^2*z^2, x^2*y^2, x*y^3, x*y^2*z, x*y^2] True False\n",
      "6 Polynomial Sequence with 20 Polynomials in 3 Variables True False\n",
      "7 Polynomial Sequence with 38 Polynomials in 3 Variables False True\n",
      "8 Polynomial Sequence with 68 Polynomials in 3 Variables True True\n"
     ]
    },
    {
     "data": {
      "text/plain": [
       "(1, 8, 19, 8, True)"
      ]
     },
     "execution_count": 344,
     "metadata": {},
     "output_type": "execute_result"
    }
   ],
   "source": [
    "R.<x,y,z> = PolynomialRing(GF(7), order = \"degrevlex\")\n",
    "f1 = x*y^2\n",
    "f2 = x^7 - x\n",
    "f3 = y^7 - y\n",
    "f4 = z^7 - z\n",
    "test_conjecture_extra([f1,f2,f3,f4],R)"
   ]
  },
  {
   "cell_type": "code",
   "execution_count": 345,
   "id": "cf521bff",
   "metadata": {},
   "outputs": [
    {
     "name": "stdout",
     "output_type": "stream",
     "text": [
      "3 \n",
      "\n",
      "0 [0] True False\n",
      "1 [0] True False\n",
      "2 [0] True False\n",
      "3 [x*y^2 - z] True True\n",
      "\n",
      "0 [0] True False\n",
      "1 [0] True False\n",
      "2 [0] True False\n",
      "3 [x*y^2 - z] True True\n"
     ]
    },
    {
     "data": {
      "text/plain": [
       "(3, 3, 3, 3, False)"
      ]
     },
     "execution_count": 345,
     "metadata": {},
     "output_type": "execute_result"
    }
   ],
   "source": [
    "R.<x,y,z> = PolynomialRing(GF(7), order = \"degrevlex\")\n",
    "f1 = x*y^2 - z\n",
    "test_conjecture_extra([f1],R)"
   ]
  },
  {
   "cell_type": "code",
   "execution_count": 346,
   "id": "78c24461",
   "metadata": {},
   "outputs": [
    {
     "name": "stdout",
     "output_type": "stream",
     "text": [
      "17 \n",
      "\n",
      "0 [0] True False\n",
      "1 [0] True False\n",
      "2 [0] True False\n",
      "3 [x*y^2 - z] True False\n",
      "4 [x^2*y^2 - x*z, x*y^3 - y*z, x*y^2*z - z^2, x*y^2 - z] True False\n",
      "5 [x^3*y^2 - x^2*z, x^2*y^3 - x*y*z, x*y^4 - y^2*z, x^2*y^2*z - x*z^2, x*y^3*z - y*z^2, x*y^2*z^2 - z^3, x^2*y^2 - x*z, x*y^3 - y*z, x*y^2*z - z^2, x*y^2 - z] True False\n",
      "6 Polynomial Sequence with 20 Polynomials in 3 Variables True False\n",
      "7 Polynomial Sequence with 38 Polynomials in 3 Variables False True\n",
      "8 Polynomial Sequence with 112 Polynomials in 3 Variables False True\n",
      "9 Polynomial Sequence with 171 Polynomials in 3 Variables True True\n",
      "\n",
      "0 [0] True False\n",
      "1 [0] True False\n",
      "2 [0] True False\n",
      "3 [x*y^2 - z] True False\n",
      "4 [x^2*y^2 - x*z, x*y^3 - y*z, x*y^2*z - z^2, x*y^2 - z] True False\n",
      "5 [x^3*y^2 - x^2*z, x^2*y^3 - x*y*z, x*y^4 - y^2*z, x^2*y^2*z - x*z^2, x*y^3*z - y*z^2, x*y^2*z^2 - z^3, x^2*y^2 - x*z, x*y^3 - y*z, x*y^2*z - z^2, x*y^2 - z] True False\n",
      "6 Polynomial Sequence with 20 Polynomials in 3 Variables True False\n",
      "7 Polynomial Sequence with 38 Polynomials in 3 Variables False True\n",
      "8 Polynomial Sequence with 68 Polynomials in 3 Variables False True\n",
      "9 Polynomial Sequence with 114 Polynomials in 3 Variables False True\n",
      "10 Polynomial Sequence with 177 Polynomials in 3 Variables False True\n",
      "11 Polynomial Sequence with 258 Polynomials in 3 Variables False True\n",
      "12 Polynomial Sequence with 358 Polynomials in 3 Variables False True\n",
      "13 Polynomial Sequence with 478 Polynomials in 3 Variables False True\n",
      "14 Polynomial Sequence with 613 Polynomials in 3 Variables False True\n",
      "15 Polynomial Sequence with 759 Polynomials in 3 Variables True True\n"
     ]
    },
    {
     "data": {
      "text/plain": [
       "(1, 9, 17, 15, True)"
      ]
     },
     "execution_count": 346,
     "metadata": {},
     "output_type": "execute_result"
    }
   ],
   "source": [
    "R.<x,y,z> = PolynomialRing(GF(7), order = \"degrevlex\")\n",
    "f1 = x*y^2 - z\n",
    "f2 = x^7 - x\n",
    "f3 = y^7 - y\n",
    "f4 = z^7 - z\n",
    "test_conjecture_extra([f1,f2,f3,f4],R)"
   ]
  },
  {
   "cell_type": "code",
   "execution_count": 347,
   "id": "d2317dc6",
   "metadata": {},
   "outputs": [
    {
     "name": "stdout",
     "output_type": "stream",
     "text": [
      "14 \n",
      "\n",
      "0 [0] True False\n",
      "1 [0] True False\n",
      "2 [0] True False\n",
      "3 [x*y^2 - z] True False\n",
      "4 [x^2*y^2 - x*z, x*y^3 - y*z, x*y^2*z - z^2, x*y^2 - z] True False\n",
      "5 [x^3*y^2 - x^2*z, x^2*y^3 - x*y*z, x*y^4 - y^2*z, x^2*y^2*z - x*z^2, x*y^3*z - y*z^2, x*y^2*z^2 - z^3, x^2*y^2 - x*z, x*y^3 - y*z, x*y^2*z - z^2, x*y^2 - z] True False\n",
      "6 Polynomial Sequence with 20 Polynomials in 3 Variables True False\n",
      "7 Polynomial Sequence with 37 Polynomials in 3 Variables False True\n",
      "8 Polynomial Sequence with 109 Polynomials in 3 Variables False True\n",
      "9 Polynomial Sequence with 168 Polynomials in 3 Variables True True\n",
      "\n",
      "0 [0] True False\n",
      "1 [0] True False\n",
      "2 [0] True False\n",
      "3 [x*y^2 - z] True False\n",
      "4 [x^2*y^2 - x*z, x*y^3 - y*z, x*y^2*z - z^2, x*y^2 - z] True False\n",
      "5 [x^3*y^2 - x^2*z, x^2*y^3 - x*y*z, x*y^4 - y^2*z, x^2*y^2*z - x*z^2, x*y^3*z - y*z^2, x*y^2*z^2 - z^3, x^2*y^2 - x*z, x*y^3 - y*z, x*y^2*z - z^2, x*y^2 - z] True False\n",
      "6 Polynomial Sequence with 20 Polynomials in 3 Variables True False\n",
      "7 Polynomial Sequence with 37 Polynomials in 3 Variables False True\n",
      "8 Polynomial Sequence with 64 Polynomials in 3 Variables False True\n",
      "9 Polynomial Sequence with 104 Polynomials in 3 Variables False True\n",
      "10 Polynomial Sequence with 158 Polynomials in 3 Variables False True\n",
      "11 Polynomial Sequence with 227 Polynomials in 3 Variables False True\n",
      "12 Polynomial Sequence with 312 Polynomials in 3 Variables False True\n",
      "13 Polynomial Sequence with 414 Polynomials in 3 Variables False True\n",
      "14 Polynomial Sequence with 533 Polynomials in 3 Variables False True\n",
      "15 Polynomial Sequence with 668 Polynomials in 3 Variables True True\n"
     ]
    },
    {
     "data": {
      "text/plain": [
       "(2, 9, 14, 15, False)"
      ]
     },
     "execution_count": 347,
     "metadata": {},
     "output_type": "execute_result"
    }
   ],
   "source": [
    "R.<x,y,z> = PolynomialRing(GF(7), order = \"degrevlex\")\n",
    "f1 = x*y^2 - z\n",
    "f3 = y^7 - y\n",
    "f4 = z^7 - z\n",
    "test_conjecture_extra([f1,f3,f4],R)"
   ]
  },
  {
   "cell_type": "code",
   "execution_count": 348,
   "id": "90c0cce8",
   "metadata": {},
   "outputs": [
    {
     "name": "stdout",
     "output_type": "stream",
     "text": [
      "9 \n",
      "\n",
      "0 [0] True False\n",
      "1 [0] True False\n",
      "2 [0] True False\n",
      "3 [x*y^2 - z] True False\n",
      "4 [x^2*y^2 - x*z, x*y^3 - y*z, x*y^2*z - z^2, x*y^2 - z] True False\n",
      "5 [x^3*y^2 - x^2*z, x^2*y^3 - x*y*z, x*y^4 - y^2*z, x^2*y^2*z - x*z^2, x*y^3*z - y*z^2, x*y^2*z^2 - z^3, x^2*y^2 - x*z, x*y^3 - y*z, x*y^2*z - z^2, x*y^2 - z] True False\n",
      "6 Polynomial Sequence with 20 Polynomials in 3 Variables True False\n",
      "7 Polynomial Sequence with 36 Polynomials in 3 Variables True True\n",
      "\n",
      "0 [0] True False\n",
      "1 [0] True False\n",
      "2 [0] True False\n",
      "3 [x*y^2 - z] True False\n",
      "4 [x^2*y^2 - x*z, x*y^3 - y*z, x*y^2*z - z^2, x*y^2 - z] True False\n",
      "5 [x^3*y^2 - x^2*z, x^2*y^3 - x*y*z, x*y^4 - y^2*z, x^2*y^2*z - x*z^2, x*y^3*z - y*z^2, x*y^2*z^2 - z^3, x^2*y^2 - x*z, x*y^3 - y*z, x*y^2*z - z^2, x*y^2 - z] True False\n",
      "6 Polynomial Sequence with 20 Polynomials in 3 Variables True False\n",
      "7 Polynomial Sequence with 36 Polynomials in 3 Variables True True\n"
     ]
    },
    {
     "data": {
      "text/plain": [
       "(2, 7, 9, 7, False)"
      ]
     },
     "execution_count": 348,
     "metadata": {},
     "output_type": "execute_result"
    }
   ],
   "source": [
    "R.<x,y,z> = PolynomialRing(GF(7), order = \"degrevlex\")\n",
    "f1 = x*y^2 - z\n",
    "f4 = z^7 - z\n",
    "test_conjecture_extra([f1,f4],R)"
   ]
  },
  {
   "cell_type": "code",
   "execution_count": 350,
   "id": "528596e1",
   "metadata": {},
   "outputs": [
    {
     "name": "stdout",
     "output_type": "stream",
     "text": [
      "9 \n",
      "\n",
      "0 [0] True False\n",
      "1 [0] True False\n",
      "2 [0] True False\n",
      "3 [x*y^2 - z*h^2] True False\n",
      "4 [x^2*y^2 - x*z*h^2, x*y^3 - y*z*h^2, x*y^2*z - z^2*h^2, x*y^2*h - z*h^3, x*y^2 - z*h^2] True False\n",
      "5 [x^3*y^2 - x^2*z*h^2, x^2*y^3 - x*y*z*h^2, x*y^4 - y^2*z*h^2, x^2*y^2*z - x*z^2*h^2, x*y^3*z - y*z^2*h^2, x*y^2*z^2 - z^3*h^2, x^2*y^2*h - x*z*h^3, x*y^3*h - y*z*h^3, x*y^2*z*h - z^2*h^3, x*y^2*h^2 - z*h^4, x^2*y^2 - x*z*h^2, x*y^3 - y*z*h^2, x*y^2*z - z^2*h^2, x*y^2*h - z*h^3, x*y^2 - z*h^2] True False\n",
      "6 Polynomial Sequence with 35 Polynomials in 4 Variables True False\n",
      "7 Polynomial Sequence with 71 Polynomials in 4 Variables True True\n",
      "\n",
      "0 [0] True False\n",
      "1 [0] True False\n",
      "2 [0] True False\n",
      "3 [x*y^2 - z*h^2] True False\n",
      "4 [x^2*y^2 - x*z*h^2, x*y^3 - y*z*h^2, x*y^2*z - z^2*h^2, x*y^2*h - z*h^3, x*y^2 - z*h^2] True False\n",
      "5 [x^3*y^2 - x^2*z*h^2, x^2*y^3 - x*y*z*h^2, x*y^4 - y^2*z*h^2, x^2*y^2*z - x*z^2*h^2, x*y^3*z - y*z^2*h^2, x*y^2*z^2 - z^3*h^2, x^2*y^2*h - x*z*h^3, x*y^3*h - y*z*h^3, x*y^2*z*h - z^2*h^3, x*y^2*h^2 - z*h^4, x^2*y^2 - x*z*h^2, x*y^3 - y*z*h^2, x*y^2*z - z^2*h^2, x*y^2*h - z*h^3, x*y^2 - z*h^2] True False\n",
      "6 Polynomial Sequence with 35 Polynomials in 4 Variables True False\n",
      "7 Polynomial Sequence with 71 Polynomials in 4 Variables True True\n"
     ]
    },
    {
     "data": {
      "text/plain": [
       "(2, 7, 9, 7, False)"
      ]
     },
     "execution_count": 350,
     "metadata": {},
     "output_type": "execute_result"
    }
   ],
   "source": [
    "R.<x,y,z,h> = PolynomialRing(GF(7), order = \"degrevlex\")\n",
    "f1 = x*y^2 - z*h^2\n",
    "f4 = z^7 - z*h^6\n",
    "test_conjecture_extra([f1,f4],R)"
   ]
  },
  {
   "cell_type": "code",
   "execution_count": 349,
   "id": "2d727aa4",
   "metadata": {},
   "outputs": [
    {
     "name": "stdout",
     "output_type": "stream",
     "text": [
      "3 \n",
      "\n",
      "0 [0] True False\n",
      "1 [0] True False\n",
      "2 [y^2, y*z + x] False True\n",
      "3 [x^3, x^2*y, x*y^2, y^3, x^2*z, x*y*z, y^2*z, y*z^2 + x*z, x^2, x*y, y^2, y*z + x] True True\n",
      "\n",
      "0 [0] True False\n",
      "1 [0] True False\n",
      "2 [y^2, y*z + x] False True\n",
      "3 [x*y^2, y^3, x*y*z + x^2, y^2*z, y*z^2 + x*z, x*y, y^2, y*z + x] False True\n",
      "4 [x^2*y^2, x*y^3, y^4, x^2*y*z + x^3, x*y^2*z, y^3*z, x*y*z^2 + x^2*z, y^2*z^2, y*z^3 + x*z^2, x^2*y, x*y^2, y^3, x*y*z, y^2*z, y*z^2 + x*z, x^2, x*y, y^2, y*z + x] True True\n"
     ]
    },
    {
     "data": {
      "text/plain": [
       "(2, 3, 3, 4, False)"
      ]
     },
     "execution_count": 349,
     "metadata": {},
     "output_type": "execute_result"
    }
   ],
   "source": [
    "R.<x,y,z> = PolynomialRing(QQ, order = \"degrevlex\")\n",
    "f1 = y^2\n",
    "f2 = y*z + x\n",
    "test_conjecture_extra([f1,f2],R)"
   ]
  },
  {
   "cell_type": "code",
   "execution_count": 355,
   "id": "57cd30d0",
   "metadata": {},
   "outputs": [
    {
     "name": "stdout",
     "output_type": "stream",
     "text": [
      "3 \n",
      "\n",
      "0 [0] True False\n",
      "1 [0] True False\n",
      "2 [y^2, y*z + x*h] False True\n",
      "3 [x*y^2, y^3, x*y*z + x^2*h, y^2*z, y*z^2 + x*z*h, x*y*h, y^2*h, y*z*h + x*h^2, y^2, y*z + x*h] False True\n",
      "4 Polynomial Sequence with 29 Polynomials in 4 Variables True True\n",
      "\n",
      "0 [0] True False\n",
      "1 [0] True False\n",
      "2 [y^2, y*z + x*h] False True\n",
      "3 [x*y^2, y^3, x*y*z + x^2*h, y^2*z, y*z^2 + x*z*h, x*y*h, y^2*h, y*z*h + x*h^2, y^2, y*z + x*h] False True\n",
      "4 Polynomial Sequence with 29 Polynomials in 4 Variables True True\n"
     ]
    },
    {
     "data": {
      "text/plain": [
       "(2, 4, 3, 4, False)"
      ]
     },
     "execution_count": 355,
     "metadata": {},
     "output_type": "execute_result"
    }
   ],
   "source": [
    "R.<x,y,z,h> = PolynomialRing(QQ, order = \"degrevlex\")\n",
    "f1 = y^2\n",
    "f2 = y*z + x*h\n",
    "test_conjecture_extra([f1,f2],R)"
   ]
  },
  {
   "cell_type": "code",
   "execution_count": 1,
   "id": "d31ae7c5",
   "metadata": {},
   "outputs": [
    {
     "ename": "TypeError",
     "evalue": "Singular.__call__() missing 1 required positional argument: 'x'",
     "output_type": "error",
     "traceback": [
      "\u001b[0;31m---------------------------------------------------------------------------\u001b[0m",
      "\u001b[0;31mTypeError\u001b[0m                                 Traceback (most recent call last)",
      "\u001b[0;32m/var/folders/zf/986s30f52c3fssnjtqpb80w00000gn/T/ipykernel_76849/3579422293.py\u001b[0m in \u001b[0;36m<module>\u001b[0;34m\u001b[0m\n\u001b[0;32m----> 1\u001b[0;31m \u001b[0msingular\u001b[0m\u001b[0;34m(\u001b[0m\u001b[0;34m)\u001b[0m\u001b[0;34m\u001b[0m\u001b[0;34m\u001b[0m\u001b[0m\n\u001b[0m",
      "\u001b[0;31mTypeError\u001b[0m: Singular.__call__() missing 1 required positional argument: 'x'"
     ]
    }
   ],
   "source": [
    "singular()"
   ]
  },
  {
   "cell_type": "code",
   "execution_count": null,
   "id": "bd627194",
   "metadata": {},
   "outputs": [],
   "source": []
  }
 ],
 "metadata": {
  "kernelspec": {
   "display_name": "SageMath 9.6",
   "language": "sage",
   "name": "sagemath-9.6"
  },
  "language_info": {
   "codemirror_mode": {
    "name": "ipython",
    "version": 3
   },
   "file_extension": ".py",
   "mimetype": "text/x-python",
   "name": "python",
   "nbconvert_exporter": "python",
   "pygments_lexer": "ipython3",
   "version": "3.10.3"
  }
 },
 "nbformat": 4,
 "nbformat_minor": 5
}
