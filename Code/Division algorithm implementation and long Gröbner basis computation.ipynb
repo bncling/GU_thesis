{
 "cells": [
  {
   "cell_type": "code",
   "execution_count": 1,
   "metadata": {},
   "outputs": [
    {
     "data": {
      "text/plain": [
       "[x + y*z + z, y^2 + 2*y, z^2 - 1/2*z + 1/2]"
      ]
     },
     "execution_count": 1,
     "metadata": {},
     "output_type": "execute_result"
    }
   ],
   "source": [
    "R.<x,y,z> = PolynomialRing(QQ, order = 'lex')\n",
    "f_1 = x^2 + z^2 - z + 1\n",
    "f_2 = x*y - y*z\n",
    "f_3 = x + y*z + z\n",
    "I = Ideal(f_1,f_2,f_3)\n",
    "I.groebner_basis()"
   ]
  },
  {
   "cell_type": "code",
   "execution_count": 23,
   "metadata": {},
   "outputs": [],
   "source": [
    "def S_poly(f,g):\n",
    "    alpha = f.lt()\n",
    "    beta = g.lt()\n",
    "    gamma = lcm(alpha,beta)\n",
    "    return R((gamma / alpha)*f - (gamma / beta)*g) # fails to have lt() without R(.)"
   ]
  },
  {
   "cell_type": "code",
   "execution_count": 24,
   "metadata": {},
   "outputs": [
    {
     "data": {
      "text/plain": [
       "x*y*z + y*z^2 - y*z + y"
      ]
     },
     "execution_count": 24,
     "metadata": {},
     "output_type": "execute_result"
    }
   ],
   "source": [
    "S_poly(f_1,f_2)"
   ]
  },
  {
   "cell_type": "code",
   "execution_count": 42,
   "metadata": {},
   "outputs": [],
   "source": [
    "def mdiv(f,divisors):\n",
    "    s = len(divisors)\n",
    "    q = [0 for i in range(s)]\n",
    "    r = 0\n",
    "    p = f\n",
    "    while p != 0:\n",
    "        i = 0\n",
    "        div_occ = False\n",
    "        while (i < s) and (div_occ == False):\n",
    "            ltdi = divisors[i].lt()\n",
    "            ltp = p.lt()\n",
    "            if ltdi.divides(ltp):\n",
    "                update = ltp / ltdi\n",
    "                q[i] += update\n",
    "                p -= R(update*divisors[i]) # without R(.), p is in fraction field, where lt() command fails\n",
    "                #print(p)\n",
    "                div_occ = True\n",
    "            else:\n",
    "                i += 1\n",
    "        if div_occ == False:\n",
    "            r = r + p.lt()\n",
    "            p = p - p.lt()\n",
    "    return (q,r)\n",
    "\n",
    "def get_rem(f,divisors):\n",
    "    return mdiv(f,divisors)[1]"
   ]
  },
  {
   "cell_type": "code",
   "execution_count": 43,
   "metadata": {},
   "outputs": [
    {
     "data": {
      "text/plain": [
       "0"
      ]
     },
     "execution_count": 43,
     "metadata": {},
     "output_type": "execute_result"
    }
   ],
   "source": [
    "get_rem(x^2 + y^2, [x^2,y^2])"
   ]
  },
  {
   "cell_type": "code",
   "execution_count": 44,
   "metadata": {},
   "outputs": [
    {
     "data": {
      "text/plain": [
       "([1, 1], 0)"
      ]
     },
     "execution_count": 44,
     "metadata": {},
     "output_type": "execute_result"
    }
   ],
   "source": [
    "mdiv(x^2 + y^2, [x^2,y^2])"
   ]
  },
  {
   "cell_type": "code",
   "execution_count": 45,
   "metadata": {},
   "outputs": [
    {
     "data": {
      "text/plain": [
       "2*y*z^2 - y*z + y"
      ]
     },
     "execution_count": 45,
     "metadata": {},
     "output_type": "execute_result"
    }
   ],
   "source": [
    "f_4 = get_rem(S_poly(f_1,f_2),[f_1,f_2,f_3])\n",
    "f_4"
   ]
  },
  {
   "cell_type": "code",
   "execution_count": 49,
   "metadata": {},
   "outputs": [
    {
     "data": {
      "text/plain": [
       "2*z^2 - z + 1"
      ]
     },
     "execution_count": 49,
     "metadata": {},
     "output_type": "execute_result"
    }
   ],
   "source": [
    "f_5 = get_rem(S_poly(f_1,f_3),[f_1,f_2,f_3,f_4])\n",
    "f_5"
   ]
  },
  {
   "cell_type": "code",
   "execution_count": 51,
   "metadata": {},
   "outputs": [
    {
     "data": {
      "text/plain": [
       "0"
      ]
     },
     "execution_count": 51,
     "metadata": {},
     "output_type": "execute_result"
    }
   ],
   "source": [
    "get_rem(S_poly(f_1,f_4),[f_1,f_2,f_3,f_4,f_5])"
   ]
  },
  {
   "cell_type": "code",
   "execution_count": 52,
   "metadata": {},
   "outputs": [
    {
     "data": {
      "text/plain": [
       "0"
      ]
     },
     "execution_count": 52,
     "metadata": {},
     "output_type": "execute_result"
    }
   ],
   "source": [
    "get_rem(S_poly(f_1,f_5),[f_1,f_2,f_3,f_4,f_5])"
   ]
  },
  {
   "cell_type": "code",
   "execution_count": 54,
   "metadata": {},
   "outputs": [
    {
     "data": {
      "text/plain": [
       "-y^2*z - 2*y*z"
      ]
     },
     "execution_count": 54,
     "metadata": {},
     "output_type": "execute_result"
    }
   ],
   "source": [
    "f_6 = get_rem(S_poly(f_2,f_3),[f_1,f_2,f_3,f_4,f_5])\n",
    "f_6"
   ]
  },
  {
   "cell_type": "code",
   "execution_count": 56,
   "metadata": {},
   "outputs": [
    {
     "data": {
      "text/plain": [
       "-1/4*y^2 - 1/2*y"
      ]
     },
     "execution_count": 56,
     "metadata": {},
     "output_type": "execute_result"
    }
   ],
   "source": [
    "f_7 = get_rem(S_poly(f_1,f_6),[f_1,f_2,f_3,f_4,f_5,f_6])\n",
    "f_7"
   ]
  },
  {
   "cell_type": "code",
   "execution_count": 61,
   "metadata": {},
   "outputs": [
    {
     "data": {
      "text/plain": [
       "0"
      ]
     },
     "execution_count": 61,
     "metadata": {},
     "output_type": "execute_result"
    }
   ],
   "source": [
    "get_rem(S_poly(f_1,f_7),[f_1,f_2,f_3,f_4,f_5,f_6,f_7])"
   ]
  },
  {
   "cell_type": "code",
   "execution_count": 74,
   "metadata": {},
   "outputs": [
    {
     "data": {
      "text/plain": [
       "0"
      ]
     },
     "execution_count": 74,
     "metadata": {},
     "output_type": "execute_result"
    }
   ],
   "source": [
    "get_rem(S_poly(f_2,f_4),[f_1,f_2,f_3,f_4,f_5,f_6,f_7])"
   ]
  },
  {
   "cell_type": "code",
   "execution_count": 75,
   "metadata": {},
   "outputs": [
    {
     "data": {
      "text/plain": [
       "0"
      ]
     },
     "execution_count": 75,
     "metadata": {},
     "output_type": "execute_result"
    }
   ],
   "source": [
    "get_rem(S_poly(f_2,f_5),[f_1,f_2,f_3,f_4,f_5,f_6,f_7])"
   ]
  },
  {
   "cell_type": "code",
   "execution_count": 79,
   "metadata": {},
   "outputs": [
    {
     "data": {
      "text/plain": [
       "0"
      ]
     },
     "execution_count": 79,
     "metadata": {},
     "output_type": "execute_result"
    }
   ],
   "source": [
    "get_rem(S_poly(f_2,f_6),[f_1,f_2,f_3,f_4,f_5,f_6,f_7])"
   ]
  },
  {
   "cell_type": "code",
   "execution_count": 83,
   "metadata": {},
   "outputs": [
    {
     "data": {
      "text/plain": [
       "0"
      ]
     },
     "execution_count": 83,
     "metadata": {},
     "output_type": "execute_result"
    }
   ],
   "source": [
    "get_rem(S_poly(f_2,f_7),[f_1,f_2,f_3,f_4,f_5,f_6,f_7])"
   ]
  },
  {
   "cell_type": "code",
   "execution_count": 84,
   "metadata": {},
   "outputs": [
    {
     "data": {
      "text/plain": [
       "0"
      ]
     },
     "execution_count": 84,
     "metadata": {},
     "output_type": "execute_result"
    }
   ],
   "source": [
    "get_rem(S_poly(f_3,f_4),[f_1,f_2,f_3,f_4,f_5,f_6,f_7])"
   ]
  },
  {
   "cell_type": "code",
   "execution_count": 85,
   "metadata": {},
   "outputs": [
    {
     "data": {
      "text/plain": [
       "0"
      ]
     },
     "execution_count": 85,
     "metadata": {},
     "output_type": "execute_result"
    }
   ],
   "source": [
    "get_rem(S_poly(f_3,f_5),[f_1,f_2,f_3,f_4,f_5,f_6,f_7])"
   ]
  },
  {
   "cell_type": "code",
   "execution_count": 87,
   "metadata": {},
   "outputs": [
    {
     "data": {
      "text/plain": [
       "0"
      ]
     },
     "execution_count": 87,
     "metadata": {},
     "output_type": "execute_result"
    }
   ],
   "source": [
    "get_rem(S_poly(f_3,f_6),[f_1,f_2,f_3,f_4,f_5,f_6,f_7])"
   ]
  },
  {
   "cell_type": "code",
   "execution_count": 88,
   "metadata": {},
   "outputs": [
    {
     "data": {
      "text/plain": [
       "0"
      ]
     },
     "execution_count": 88,
     "metadata": {},
     "output_type": "execute_result"
    }
   ],
   "source": [
    "get_rem(S_poly(f_3,f_7),[f_1,f_2,f_3,f_4,f_5,f_6,f_7])"
   ]
  },
  {
   "cell_type": "code",
   "execution_count": 89,
   "metadata": {},
   "outputs": [
    {
     "data": {
      "text/plain": [
       "0"
      ]
     },
     "execution_count": 89,
     "metadata": {},
     "output_type": "execute_result"
    }
   ],
   "source": [
    "get_rem(S_poly(f_4,f_5),[f_1,f_2,f_3,f_4,f_5,f_6,f_7])"
   ]
  },
  {
   "cell_type": "code",
   "execution_count": 90,
   "metadata": {},
   "outputs": [
    {
     "data": {
      "text/plain": [
       "0"
      ]
     },
     "execution_count": 90,
     "metadata": {},
     "output_type": "execute_result"
    }
   ],
   "source": [
    "get_rem(S_poly(f_4,f_6),[f_1,f_2,f_3,f_4,f_5,f_6,f_7])"
   ]
  },
  {
   "cell_type": "code",
   "execution_count": 91,
   "metadata": {},
   "outputs": [
    {
     "data": {
      "text/plain": [
       "0"
      ]
     },
     "execution_count": 91,
     "metadata": {},
     "output_type": "execute_result"
    }
   ],
   "source": [
    "get_rem(S_poly(f_4,f_7),[f_1,f_2,f_3,f_4,f_5,f_6,f_7])"
   ]
  },
  {
   "cell_type": "code",
   "execution_count": 92,
   "metadata": {},
   "outputs": [
    {
     "data": {
      "text/plain": [
       "0"
      ]
     },
     "execution_count": 92,
     "metadata": {},
     "output_type": "execute_result"
    }
   ],
   "source": [
    "get_rem(S_poly(f_5,f_6),[f_1,f_2,f_3,f_4,f_5,f_6,f_7])"
   ]
  },
  {
   "cell_type": "code",
   "execution_count": 93,
   "metadata": {},
   "outputs": [
    {
     "data": {
      "text/plain": [
       "0"
      ]
     },
     "execution_count": 93,
     "metadata": {},
     "output_type": "execute_result"
    }
   ],
   "source": [
    "get_rem(S_poly(f_5,f_7),[f_1,f_2,f_3,f_4,f_5,f_6,f_7])"
   ]
  },
  {
   "cell_type": "code",
   "execution_count": 94,
   "metadata": {},
   "outputs": [
    {
     "data": {
      "text/plain": [
       "0"
      ]
     },
     "execution_count": 94,
     "metadata": {},
     "output_type": "execute_result"
    }
   ],
   "source": [
    "get_rem(S_poly(f_6,f_7),[f_1,f_2,f_3,f_4,f_5,f_6,f_7])"
   ]
  },
  {
   "cell_type": "code",
   "execution_count": null,
   "metadata": {},
   "outputs": [],
   "source": []
  }
 ],
 "metadata": {
  "kernelspec": {
   "display_name": "SageMath 9.4",
   "language": "sage",
   "name": "sagemath-9.4"
  },
  "language_info": {
   "codemirror_mode": {
    "name": "ipython",
    "version": 3
   },
   "file_extension": ".py",
   "mimetype": "text/x-python",
   "name": "python",
   "nbconvert_exporter": "python",
   "pygments_lexer": "ipython3",
   "version": "3.9.5"
  }
 },
 "nbformat": 4,
 "nbformat_minor": 4
}
